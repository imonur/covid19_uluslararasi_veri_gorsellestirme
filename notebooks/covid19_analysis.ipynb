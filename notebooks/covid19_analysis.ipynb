{
 "cells": [
  {
   "cell_type": "markdown",
   "metadata": {},
   "source": [
    "# COVID-19 Data Analysis & Visualization"
   ]
  },
  {
   "cell_type": "markdown",
   "metadata": {},
   "source": [
    "## What is COVID-19?"
   ]
  },
  {
   "cell_type": "markdown",
   "metadata": {},
   "source": [
    "> Coronavirus disease (COVID-19) is an infectious disease caused by a newly discovered coronavirus.\n",
    "Most people infected with the COVID-19 virus will experience mild to moderate respiratory illness and recover without requiring special treatment.  Older people, and those with underlying medical problems like cardiovascular disease, diabetes, chronic respiratory disease, and cancer are more likely to develop serious illness.\n",
    "The best way to prevent and slow down transmission is to be well informed about the COVID-19 virus, the disease it causes and how it spreads. Protect yourself and others from infection by washing your hands or using an alcohol based rub frequently and not touching your face. \n",
    "The COVID-19 virus spreads primarily through droplets of saliva or discharge from the nose when an infected person coughs or sneezes, so it’s important that you also practice respiratory etiquette (for example, by coughing into a flexed elbow)."
   ]
  },
  {
   "cell_type": "markdown",
   "metadata": {},
   "source": [
    "![Coronavirus Image](https://cdn.pixabay.com/photo/2020/03/16/16/29/virus-4937553_960_720.jpg)"
   ]
  },
  {
   "cell_type": "markdown",
   "metadata": {},
   "source": [
    "# Importing Libraries"
   ]
  },
  {
   "cell_type": "code",
   "execution_count": 1,
   "metadata": {},
   "outputs": [],
   "source": [
    "# Importing the libraries\n",
    "import numpy as np\n",
    "import pandas as pd\n",
    "import matplotlib.pyplot as plt\n",
    "\n",
    "import plotly.express as px\n",
    "import plotly.graph_objects as go\n",
    "\n",
    "from IPython.core.display import display, HTML\n",
    "\n",
    "from ipywidgets import interact\n",
    "import ipywidgets as widgets\n",
    "import folium"
   ]
  },
  {
   "cell_type": "markdown",
   "metadata": {},
   "source": [
    "# Loading the data from source"
   ]
  },
  {
   "cell_type": "code",
   "execution_count": 2,
   "metadata": {},
   "outputs": [],
   "source": [
    "# loading data right from the source:\n",
    "death_df = pd.read_csv('https://raw.githubusercontent.com/CSSEGISandData/COVID-19/master/csse_covid_19_data/csse_covid_19_time_series/time_series_covid19_deaths_global.csv')\n",
    "confirmed_df = pd.read_csv('https://raw.githubusercontent.com/CSSEGISandData/COVID-19/master/csse_covid_19_data/csse_covid_19_time_series/time_series_covid19_confirmed_global.csv')\n",
    "recovered_df = pd.read_csv('https://raw.githubusercontent.com/CSSEGISandData/COVID-19/master/csse_covid_19_data/csse_covid_19_time_series/time_series_covid19_recovered_global.csv')\n",
    "country_df = pd.read_csv('https://raw.githubusercontent.com/CSSEGISandData/COVID-19/web-data/data/cases_country.csv')"
   ]
  },
  {
   "cell_type": "markdown",
   "metadata": {},
   "source": [
    "# Understanding the data"
   ]
  },
  {
   "cell_type": "code",
   "execution_count": 3,
   "metadata": {
    "scrolled": true
   },
   "outputs": [
    {
     "data": {
      "text/html": [
       "<div>\n",
       "<style scoped>\n",
       "    .dataframe tbody tr th:only-of-type {\n",
       "        vertical-align: middle;\n",
       "    }\n",
       "\n",
       "    .dataframe tbody tr th {\n",
       "        vertical-align: top;\n",
       "    }\n",
       "\n",
       "    .dataframe thead th {\n",
       "        text-align: right;\n",
       "    }\n",
       "</style>\n",
       "<table border=\"1\" class=\"dataframe\">\n",
       "  <thead>\n",
       "    <tr style=\"text-align: right;\">\n",
       "      <th></th>\n",
       "      <th>Province/State</th>\n",
       "      <th>Country/Region</th>\n",
       "      <th>Lat</th>\n",
       "      <th>Long</th>\n",
       "      <th>1/22/20</th>\n",
       "      <th>1/23/20</th>\n",
       "      <th>1/24/20</th>\n",
       "      <th>1/25/20</th>\n",
       "      <th>1/26/20</th>\n",
       "      <th>1/27/20</th>\n",
       "      <th>...</th>\n",
       "      <th>4/26/21</th>\n",
       "      <th>4/27/21</th>\n",
       "      <th>4/28/21</th>\n",
       "      <th>4/29/21</th>\n",
       "      <th>4/30/21</th>\n",
       "      <th>5/1/21</th>\n",
       "      <th>5/2/21</th>\n",
       "      <th>5/3/21</th>\n",
       "      <th>5/4/21</th>\n",
       "      <th>5/5/21</th>\n",
       "    </tr>\n",
       "  </thead>\n",
       "  <tbody>\n",
       "    <tr>\n",
       "      <th>0</th>\n",
       "      <td>NaN</td>\n",
       "      <td>Afghanistan</td>\n",
       "      <td>33.93911</td>\n",
       "      <td>67.709953</td>\n",
       "      <td>0</td>\n",
       "      <td>0</td>\n",
       "      <td>0</td>\n",
       "      <td>0</td>\n",
       "      <td>0</td>\n",
       "      <td>0</td>\n",
       "      <td>...</td>\n",
       "      <td>2592</td>\n",
       "      <td>2598</td>\n",
       "      <td>2611</td>\n",
       "      <td>2618</td>\n",
       "      <td>2625</td>\n",
       "      <td>2631</td>\n",
       "      <td>2637</td>\n",
       "      <td>2642</td>\n",
       "      <td>2648</td>\n",
       "      <td>2654</td>\n",
       "    </tr>\n",
       "    <tr>\n",
       "      <th>1</th>\n",
       "      <td>NaN</td>\n",
       "      <td>Albania</td>\n",
       "      <td>41.15330</td>\n",
       "      <td>20.168300</td>\n",
       "      <td>0</td>\n",
       "      <td>0</td>\n",
       "      <td>0</td>\n",
       "      <td>0</td>\n",
       "      <td>0</td>\n",
       "      <td>0</td>\n",
       "      <td>...</td>\n",
       "      <td>2379</td>\n",
       "      <td>2383</td>\n",
       "      <td>2386</td>\n",
       "      <td>2389</td>\n",
       "      <td>2394</td>\n",
       "      <td>2396</td>\n",
       "      <td>2397</td>\n",
       "      <td>2399</td>\n",
       "      <td>2402</td>\n",
       "      <td>2403</td>\n",
       "    </tr>\n",
       "    <tr>\n",
       "      <th>2</th>\n",
       "      <td>NaN</td>\n",
       "      <td>Algeria</td>\n",
       "      <td>28.03390</td>\n",
       "      <td>1.659600</td>\n",
       "      <td>0</td>\n",
       "      <td>0</td>\n",
       "      <td>0</td>\n",
       "      <td>0</td>\n",
       "      <td>0</td>\n",
       "      <td>0</td>\n",
       "      <td>...</td>\n",
       "      <td>3217</td>\n",
       "      <td>3225</td>\n",
       "      <td>3234</td>\n",
       "      <td>3244</td>\n",
       "      <td>3253</td>\n",
       "      <td>3261</td>\n",
       "      <td>3270</td>\n",
       "      <td>3280</td>\n",
       "      <td>3289</td>\n",
       "      <td>3299</td>\n",
       "    </tr>\n",
       "    <tr>\n",
       "      <th>3</th>\n",
       "      <td>NaN</td>\n",
       "      <td>Andorra</td>\n",
       "      <td>42.50630</td>\n",
       "      <td>1.521800</td>\n",
       "      <td>0</td>\n",
       "      <td>0</td>\n",
       "      <td>0</td>\n",
       "      <td>0</td>\n",
       "      <td>0</td>\n",
       "      <td>0</td>\n",
       "      <td>...</td>\n",
       "      <td>124</td>\n",
       "      <td>124</td>\n",
       "      <td>125</td>\n",
       "      <td>125</td>\n",
       "      <td>125</td>\n",
       "      <td>125</td>\n",
       "      <td>127</td>\n",
       "      <td>127</td>\n",
       "      <td>127</td>\n",
       "      <td>127</td>\n",
       "    </tr>\n",
       "    <tr>\n",
       "      <th>4</th>\n",
       "      <td>NaN</td>\n",
       "      <td>Angola</td>\n",
       "      <td>-11.20270</td>\n",
       "      <td>17.873900</td>\n",
       "      <td>0</td>\n",
       "      <td>0</td>\n",
       "      <td>0</td>\n",
       "      <td>0</td>\n",
       "      <td>0</td>\n",
       "      <td>0</td>\n",
       "      <td>...</td>\n",
       "      <td>583</td>\n",
       "      <td>587</td>\n",
       "      <td>591</td>\n",
       "      <td>594</td>\n",
       "      <td>596</td>\n",
       "      <td>600</td>\n",
       "      <td>602</td>\n",
       "      <td>603</td>\n",
       "      <td>609</td>\n",
       "      <td>618</td>\n",
       "    </tr>\n",
       "  </tbody>\n",
       "</table>\n",
       "<p>5 rows × 474 columns</p>\n",
       "</div>"
      ],
      "text/plain": [
       "  Province/State Country/Region       Lat       Long  1/22/20  1/23/20  \\\n",
       "0            NaN    Afghanistan  33.93911  67.709953        0        0   \n",
       "1            NaN        Albania  41.15330  20.168300        0        0   \n",
       "2            NaN        Algeria  28.03390   1.659600        0        0   \n",
       "3            NaN        Andorra  42.50630   1.521800        0        0   \n",
       "4            NaN         Angola -11.20270  17.873900        0        0   \n",
       "\n",
       "   1/24/20  1/25/20  1/26/20  1/27/20  ...  4/26/21  4/27/21  4/28/21  \\\n",
       "0        0        0        0        0  ...     2592     2598     2611   \n",
       "1        0        0        0        0  ...     2379     2383     2386   \n",
       "2        0        0        0        0  ...     3217     3225     3234   \n",
       "3        0        0        0        0  ...      124      124      125   \n",
       "4        0        0        0        0  ...      583      587      591   \n",
       "\n",
       "   4/29/21  4/30/21  5/1/21  5/2/21  5/3/21  5/4/21  5/5/21  \n",
       "0     2618     2625    2631    2637    2642    2648    2654  \n",
       "1     2389     2394    2396    2397    2399    2402    2403  \n",
       "2     3244     3253    3261    3270    3280    3289    3299  \n",
       "3      125      125     125     127     127     127     127  \n",
       "4      594      596     600     602     603     609     618  \n",
       "\n",
       "[5 rows x 474 columns]"
      ]
     },
     "execution_count": 3,
     "metadata": {},
     "output_type": "execute_result"
    }
   ],
   "source": [
    "# Checking some of the rows from death_df dataframe\n",
    "death_df.head()"
   ]
  },
  {
   "cell_type": "code",
   "execution_count": 4,
   "metadata": {},
   "outputs": [
    {
     "data": {
      "text/html": [
       "<div>\n",
       "<style scoped>\n",
       "    .dataframe tbody tr th:only-of-type {\n",
       "        vertical-align: middle;\n",
       "    }\n",
       "\n",
       "    .dataframe tbody tr th {\n",
       "        vertical-align: top;\n",
       "    }\n",
       "\n",
       "    .dataframe thead th {\n",
       "        text-align: right;\n",
       "    }\n",
       "</style>\n",
       "<table border=\"1\" class=\"dataframe\">\n",
       "  <thead>\n",
       "    <tr style=\"text-align: right;\">\n",
       "      <th></th>\n",
       "      <th>Province/State</th>\n",
       "      <th>Country/Region</th>\n",
       "      <th>Lat</th>\n",
       "      <th>Long</th>\n",
       "      <th>1/22/20</th>\n",
       "      <th>1/23/20</th>\n",
       "      <th>1/24/20</th>\n",
       "      <th>1/25/20</th>\n",
       "      <th>1/26/20</th>\n",
       "      <th>1/27/20</th>\n",
       "      <th>...</th>\n",
       "      <th>4/26/21</th>\n",
       "      <th>4/27/21</th>\n",
       "      <th>4/28/21</th>\n",
       "      <th>4/29/21</th>\n",
       "      <th>4/30/21</th>\n",
       "      <th>5/1/21</th>\n",
       "      <th>5/2/21</th>\n",
       "      <th>5/3/21</th>\n",
       "      <th>5/4/21</th>\n",
       "      <th>5/5/21</th>\n",
       "    </tr>\n",
       "  </thead>\n",
       "  <tbody>\n",
       "    <tr>\n",
       "      <th>0</th>\n",
       "      <td>NaN</td>\n",
       "      <td>Afghanistan</td>\n",
       "      <td>33.93911</td>\n",
       "      <td>67.709953</td>\n",
       "      <td>0</td>\n",
       "      <td>0</td>\n",
       "      <td>0</td>\n",
       "      <td>0</td>\n",
       "      <td>0</td>\n",
       "      <td>0</td>\n",
       "      <td>...</td>\n",
       "      <td>59015</td>\n",
       "      <td>59225</td>\n",
       "      <td>59370</td>\n",
       "      <td>59576</td>\n",
       "      <td>59745</td>\n",
       "      <td>59939</td>\n",
       "      <td>60122</td>\n",
       "      <td>60300</td>\n",
       "      <td>60563</td>\n",
       "      <td>60797</td>\n",
       "    </tr>\n",
       "    <tr>\n",
       "      <th>1</th>\n",
       "      <td>NaN</td>\n",
       "      <td>Albania</td>\n",
       "      <td>41.15330</td>\n",
       "      <td>20.168300</td>\n",
       "      <td>0</td>\n",
       "      <td>0</td>\n",
       "      <td>0</td>\n",
       "      <td>0</td>\n",
       "      <td>0</td>\n",
       "      <td>0</td>\n",
       "      <td>...</td>\n",
       "      <td>130606</td>\n",
       "      <td>130736</td>\n",
       "      <td>130859</td>\n",
       "      <td>130977</td>\n",
       "      <td>131085</td>\n",
       "      <td>131185</td>\n",
       "      <td>131238</td>\n",
       "      <td>131276</td>\n",
       "      <td>131327</td>\n",
       "      <td>131419</td>\n",
       "    </tr>\n",
       "    <tr>\n",
       "      <th>2</th>\n",
       "      <td>NaN</td>\n",
       "      <td>Algeria</td>\n",
       "      <td>28.03390</td>\n",
       "      <td>1.659600</td>\n",
       "      <td>0</td>\n",
       "      <td>0</td>\n",
       "      <td>0</td>\n",
       "      <td>0</td>\n",
       "      <td>0</td>\n",
       "      <td>0</td>\n",
       "      <td>...</td>\n",
       "      <td>121112</td>\n",
       "      <td>121344</td>\n",
       "      <td>121580</td>\n",
       "      <td>121866</td>\n",
       "      <td>122108</td>\n",
       "      <td>122311</td>\n",
       "      <td>122522</td>\n",
       "      <td>122717</td>\n",
       "      <td>122999</td>\n",
       "      <td>123272</td>\n",
       "    </tr>\n",
       "    <tr>\n",
       "      <th>3</th>\n",
       "      <td>NaN</td>\n",
       "      <td>Andorra</td>\n",
       "      <td>42.50630</td>\n",
       "      <td>1.521800</td>\n",
       "      <td>0</td>\n",
       "      <td>0</td>\n",
       "      <td>0</td>\n",
       "      <td>0</td>\n",
       "      <td>0</td>\n",
       "      <td>0</td>\n",
       "      <td>...</td>\n",
       "      <td>13083</td>\n",
       "      <td>13121</td>\n",
       "      <td>13148</td>\n",
       "      <td>13198</td>\n",
       "      <td>13232</td>\n",
       "      <td>13232</td>\n",
       "      <td>13282</td>\n",
       "      <td>13295</td>\n",
       "      <td>13316</td>\n",
       "      <td>13340</td>\n",
       "    </tr>\n",
       "    <tr>\n",
       "      <th>4</th>\n",
       "      <td>NaN</td>\n",
       "      <td>Angola</td>\n",
       "      <td>-11.20270</td>\n",
       "      <td>17.873900</td>\n",
       "      <td>0</td>\n",
       "      <td>0</td>\n",
       "      <td>0</td>\n",
       "      <td>0</td>\n",
       "      <td>0</td>\n",
       "      <td>0</td>\n",
       "      <td>...</td>\n",
       "      <td>25710</td>\n",
       "      <td>25942</td>\n",
       "      <td>26168</td>\n",
       "      <td>26431</td>\n",
       "      <td>26652</td>\n",
       "      <td>26815</td>\n",
       "      <td>26993</td>\n",
       "      <td>27133</td>\n",
       "      <td>27284</td>\n",
       "      <td>27529</td>\n",
       "    </tr>\n",
       "  </tbody>\n",
       "</table>\n",
       "<p>5 rows × 474 columns</p>\n",
       "</div>"
      ],
      "text/plain": [
       "  Province/State Country/Region       Lat       Long  1/22/20  1/23/20  \\\n",
       "0            NaN    Afghanistan  33.93911  67.709953        0        0   \n",
       "1            NaN        Albania  41.15330  20.168300        0        0   \n",
       "2            NaN        Algeria  28.03390   1.659600        0        0   \n",
       "3            NaN        Andorra  42.50630   1.521800        0        0   \n",
       "4            NaN         Angola -11.20270  17.873900        0        0   \n",
       "\n",
       "   1/24/20  1/25/20  1/26/20  1/27/20  ...  4/26/21  4/27/21  4/28/21  \\\n",
       "0        0        0        0        0  ...    59015    59225    59370   \n",
       "1        0        0        0        0  ...   130606   130736   130859   \n",
       "2        0        0        0        0  ...   121112   121344   121580   \n",
       "3        0        0        0        0  ...    13083    13121    13148   \n",
       "4        0        0        0        0  ...    25710    25942    26168   \n",
       "\n",
       "   4/29/21  4/30/21  5/1/21  5/2/21  5/3/21  5/4/21  5/5/21  \n",
       "0    59576    59745   59939   60122   60300   60563   60797  \n",
       "1   130977   131085  131185  131238  131276  131327  131419  \n",
       "2   121866   122108  122311  122522  122717  122999  123272  \n",
       "3    13198    13232   13232   13282   13295   13316   13340  \n",
       "4    26431    26652   26815   26993   27133   27284   27529  \n",
       "\n",
       "[5 rows x 474 columns]"
      ]
     },
     "execution_count": 4,
     "metadata": {},
     "output_type": "execute_result"
    }
   ],
   "source": [
    "# Checking some of the rows from confirmed_df dataframe\n",
    "confirmed_df.head()"
   ]
  },
  {
   "cell_type": "code",
   "execution_count": 5,
   "metadata": {
    "scrolled": true
   },
   "outputs": [
    {
     "data": {
      "text/html": [
       "<div>\n",
       "<style scoped>\n",
       "    .dataframe tbody tr th:only-of-type {\n",
       "        vertical-align: middle;\n",
       "    }\n",
       "\n",
       "    .dataframe tbody tr th {\n",
       "        vertical-align: top;\n",
       "    }\n",
       "\n",
       "    .dataframe thead th {\n",
       "        text-align: right;\n",
       "    }\n",
       "</style>\n",
       "<table border=\"1\" class=\"dataframe\">\n",
       "  <thead>\n",
       "    <tr style=\"text-align: right;\">\n",
       "      <th></th>\n",
       "      <th>Province/State</th>\n",
       "      <th>Country/Region</th>\n",
       "      <th>Lat</th>\n",
       "      <th>Long</th>\n",
       "      <th>1/22/20</th>\n",
       "      <th>1/23/20</th>\n",
       "      <th>1/24/20</th>\n",
       "      <th>1/25/20</th>\n",
       "      <th>1/26/20</th>\n",
       "      <th>1/27/20</th>\n",
       "      <th>...</th>\n",
       "      <th>4/26/21</th>\n",
       "      <th>4/27/21</th>\n",
       "      <th>4/28/21</th>\n",
       "      <th>4/29/21</th>\n",
       "      <th>4/30/21</th>\n",
       "      <th>5/1/21</th>\n",
       "      <th>5/2/21</th>\n",
       "      <th>5/3/21</th>\n",
       "      <th>5/4/21</th>\n",
       "      <th>5/5/21</th>\n",
       "    </tr>\n",
       "  </thead>\n",
       "  <tbody>\n",
       "    <tr>\n",
       "      <th>0</th>\n",
       "      <td>NaN</td>\n",
       "      <td>Afghanistan</td>\n",
       "      <td>33.93911</td>\n",
       "      <td>67.709953</td>\n",
       "      <td>0</td>\n",
       "      <td>0</td>\n",
       "      <td>0</td>\n",
       "      <td>0</td>\n",
       "      <td>0</td>\n",
       "      <td>0</td>\n",
       "      <td>...</td>\n",
       "      <td>52520</td>\n",
       "      <td>52794</td>\n",
       "      <td>52974</td>\n",
       "      <td>53103</td>\n",
       "      <td>53206</td>\n",
       "      <td>53272</td>\n",
       "      <td>53391</td>\n",
       "      <td>53391</td>\n",
       "      <td>53694</td>\n",
       "      <td>53750</td>\n",
       "    </tr>\n",
       "    <tr>\n",
       "      <th>1</th>\n",
       "      <td>NaN</td>\n",
       "      <td>Albania</td>\n",
       "      <td>41.15330</td>\n",
       "      <td>20.168300</td>\n",
       "      <td>0</td>\n",
       "      <td>0</td>\n",
       "      <td>0</td>\n",
       "      <td>0</td>\n",
       "      <td>0</td>\n",
       "      <td>0</td>\n",
       "      <td>...</td>\n",
       "      <td>106465</td>\n",
       "      <td>107163</td>\n",
       "      <td>107887</td>\n",
       "      <td>108606</td>\n",
       "      <td>109338</td>\n",
       "      <td>110172</td>\n",
       "      <td>110920</td>\n",
       "      <td>111792</td>\n",
       "      <td>112626</td>\n",
       "      <td>113468</td>\n",
       "    </tr>\n",
       "    <tr>\n",
       "      <th>2</th>\n",
       "      <td>NaN</td>\n",
       "      <td>Algeria</td>\n",
       "      <td>28.03390</td>\n",
       "      <td>1.659600</td>\n",
       "      <td>0</td>\n",
       "      <td>0</td>\n",
       "      <td>0</td>\n",
       "      <td>0</td>\n",
       "      <td>0</td>\n",
       "      <td>0</td>\n",
       "      <td>...</td>\n",
       "      <td>84440</td>\n",
       "      <td>84598</td>\n",
       "      <td>84745</td>\n",
       "      <td>84940</td>\n",
       "      <td>85108</td>\n",
       "      <td>85249</td>\n",
       "      <td>85398</td>\n",
       "      <td>85534</td>\n",
       "      <td>85693</td>\n",
       "      <td>85869</td>\n",
       "    </tr>\n",
       "    <tr>\n",
       "      <th>3</th>\n",
       "      <td>NaN</td>\n",
       "      <td>Andorra</td>\n",
       "      <td>42.50630</td>\n",
       "      <td>1.521800</td>\n",
       "      <td>0</td>\n",
       "      <td>0</td>\n",
       "      <td>0</td>\n",
       "      <td>0</td>\n",
       "      <td>0</td>\n",
       "      <td>0</td>\n",
       "      <td>...</td>\n",
       "      <td>12519</td>\n",
       "      <td>12561</td>\n",
       "      <td>12590</td>\n",
       "      <td>12650</td>\n",
       "      <td>12684</td>\n",
       "      <td>12684</td>\n",
       "      <td>12753</td>\n",
       "      <td>12793</td>\n",
       "      <td>12818</td>\n",
       "      <td>12884</td>\n",
       "    </tr>\n",
       "    <tr>\n",
       "      <th>4</th>\n",
       "      <td>NaN</td>\n",
       "      <td>Angola</td>\n",
       "      <td>-11.20270</td>\n",
       "      <td>17.873900</td>\n",
       "      <td>0</td>\n",
       "      <td>0</td>\n",
       "      <td>0</td>\n",
       "      <td>0</td>\n",
       "      <td>0</td>\n",
       "      <td>0</td>\n",
       "      <td>...</td>\n",
       "      <td>23288</td>\n",
       "      <td>23341</td>\n",
       "      <td>23584</td>\n",
       "      <td>23606</td>\n",
       "      <td>23876</td>\n",
       "      <td>23913</td>\n",
       "      <td>23913</td>\n",
       "      <td>24190</td>\n",
       "      <td>24190</td>\n",
       "      <td>24492</td>\n",
       "    </tr>\n",
       "  </tbody>\n",
       "</table>\n",
       "<p>5 rows × 474 columns</p>\n",
       "</div>"
      ],
      "text/plain": [
       "  Province/State Country/Region       Lat       Long  1/22/20  1/23/20  \\\n",
       "0            NaN    Afghanistan  33.93911  67.709953        0        0   \n",
       "1            NaN        Albania  41.15330  20.168300        0        0   \n",
       "2            NaN        Algeria  28.03390   1.659600        0        0   \n",
       "3            NaN        Andorra  42.50630   1.521800        0        0   \n",
       "4            NaN         Angola -11.20270  17.873900        0        0   \n",
       "\n",
       "   1/24/20  1/25/20  1/26/20  1/27/20  ...  4/26/21  4/27/21  4/28/21  \\\n",
       "0        0        0        0        0  ...    52520    52794    52974   \n",
       "1        0        0        0        0  ...   106465   107163   107887   \n",
       "2        0        0        0        0  ...    84440    84598    84745   \n",
       "3        0        0        0        0  ...    12519    12561    12590   \n",
       "4        0        0        0        0  ...    23288    23341    23584   \n",
       "\n",
       "   4/29/21  4/30/21  5/1/21  5/2/21  5/3/21  5/4/21  5/5/21  \n",
       "0    53103    53206   53272   53391   53391   53694   53750  \n",
       "1   108606   109338  110172  110920  111792  112626  113468  \n",
       "2    84940    85108   85249   85398   85534   85693   85869  \n",
       "3    12650    12684   12684   12753   12793   12818   12884  \n",
       "4    23606    23876   23913   23913   24190   24190   24492  \n",
       "\n",
       "[5 rows x 474 columns]"
      ]
     },
     "execution_count": 5,
     "metadata": {},
     "output_type": "execute_result"
    }
   ],
   "source": [
    "# Checking some of the rows from recovered_df dataframe\n",
    "recovered_df.head()"
   ]
  },
  {
   "cell_type": "code",
   "execution_count": 6,
   "metadata": {
    "scrolled": false
   },
   "outputs": [
    {
     "data": {
      "text/html": [
       "<div>\n",
       "<style scoped>\n",
       "    .dataframe tbody tr th:only-of-type {\n",
       "        vertical-align: middle;\n",
       "    }\n",
       "\n",
       "    .dataframe tbody tr th {\n",
       "        vertical-align: top;\n",
       "    }\n",
       "\n",
       "    .dataframe thead th {\n",
       "        text-align: right;\n",
       "    }\n",
       "</style>\n",
       "<table border=\"1\" class=\"dataframe\">\n",
       "  <thead>\n",
       "    <tr style=\"text-align: right;\">\n",
       "      <th></th>\n",
       "      <th>Country_Region</th>\n",
       "      <th>Last_Update</th>\n",
       "      <th>Lat</th>\n",
       "      <th>Long_</th>\n",
       "      <th>Confirmed</th>\n",
       "      <th>Deaths</th>\n",
       "      <th>Recovered</th>\n",
       "      <th>Active</th>\n",
       "      <th>Incident_Rate</th>\n",
       "      <th>People_Tested</th>\n",
       "      <th>People_Hospitalized</th>\n",
       "      <th>Mortality_Rate</th>\n",
       "      <th>UID</th>\n",
       "      <th>ISO3</th>\n",
       "    </tr>\n",
       "  </thead>\n",
       "  <tbody>\n",
       "    <tr>\n",
       "      <th>0</th>\n",
       "      <td>Afghanistan</td>\n",
       "      <td>2021-05-07 02:20:49</td>\n",
       "      <td>33.93911</td>\n",
       "      <td>67.709953</td>\n",
       "      <td>61162.0</td>\n",
       "      <td>2664.0</td>\n",
       "      <td>53961.0</td>\n",
       "      <td>4537.0</td>\n",
       "      <td>157.114324</td>\n",
       "      <td>NaN</td>\n",
       "      <td>NaN</td>\n",
       "      <td>4.355646</td>\n",
       "      <td>4</td>\n",
       "      <td>AFG</td>\n",
       "    </tr>\n",
       "    <tr>\n",
       "      <th>1</th>\n",
       "      <td>Albania</td>\n",
       "      <td>2021-05-07 02:20:49</td>\n",
       "      <td>41.15330</td>\n",
       "      <td>20.168300</td>\n",
       "      <td>131510.0</td>\n",
       "      <td>2406.0</td>\n",
       "      <td>114362.0</td>\n",
       "      <td>14742.0</td>\n",
       "      <td>4569.810272</td>\n",
       "      <td>NaN</td>\n",
       "      <td>NaN</td>\n",
       "      <td>1.829519</td>\n",
       "      <td>8</td>\n",
       "      <td>ALB</td>\n",
       "    </tr>\n",
       "    <tr>\n",
       "      <th>2</th>\n",
       "      <td>Algeria</td>\n",
       "      <td>2021-05-07 02:20:49</td>\n",
       "      <td>28.03390</td>\n",
       "      <td>1.659600</td>\n",
       "      <td>123473.0</td>\n",
       "      <td>3307.0</td>\n",
       "      <td>86007.0</td>\n",
       "      <td>34159.0</td>\n",
       "      <td>281.573690</td>\n",
       "      <td>NaN</td>\n",
       "      <td>NaN</td>\n",
       "      <td>2.678318</td>\n",
       "      <td>12</td>\n",
       "      <td>DZA</td>\n",
       "    </tr>\n",
       "    <tr>\n",
       "      <th>3</th>\n",
       "      <td>Andorra</td>\n",
       "      <td>2021-05-07 02:20:49</td>\n",
       "      <td>42.50630</td>\n",
       "      <td>1.521800</td>\n",
       "      <td>13363.0</td>\n",
       "      <td>127.0</td>\n",
       "      <td>12900.0</td>\n",
       "      <td>336.0</td>\n",
       "      <td>17295.023620</td>\n",
       "      <td>NaN</td>\n",
       "      <td>NaN</td>\n",
       "      <td>0.950385</td>\n",
       "      <td>20</td>\n",
       "      <td>AND</td>\n",
       "    </tr>\n",
       "    <tr>\n",
       "      <th>4</th>\n",
       "      <td>Angola</td>\n",
       "      <td>2021-05-07 02:20:49</td>\n",
       "      <td>-11.20270</td>\n",
       "      <td>17.873900</td>\n",
       "      <td>27921.0</td>\n",
       "      <td>622.0</td>\n",
       "      <td>24503.0</td>\n",
       "      <td>2796.0</td>\n",
       "      <td>84.953363</td>\n",
       "      <td>NaN</td>\n",
       "      <td>NaN</td>\n",
       "      <td>2.227714</td>\n",
       "      <td>24</td>\n",
       "      <td>AGO</td>\n",
       "    </tr>\n",
       "  </tbody>\n",
       "</table>\n",
       "</div>"
      ],
      "text/plain": [
       "  Country_Region          Last_Update       Lat      Long_  Confirmed  Deaths  \\\n",
       "0    Afghanistan  2021-05-07 02:20:49  33.93911  67.709953    61162.0  2664.0   \n",
       "1        Albania  2021-05-07 02:20:49  41.15330  20.168300   131510.0  2406.0   \n",
       "2        Algeria  2021-05-07 02:20:49  28.03390   1.659600   123473.0  3307.0   \n",
       "3        Andorra  2021-05-07 02:20:49  42.50630   1.521800    13363.0   127.0   \n",
       "4         Angola  2021-05-07 02:20:49 -11.20270  17.873900    27921.0   622.0   \n",
       "\n",
       "   Recovered   Active  Incident_Rate  People_Tested  People_Hospitalized  \\\n",
       "0    53961.0   4537.0     157.114324            NaN                  NaN   \n",
       "1   114362.0  14742.0    4569.810272            NaN                  NaN   \n",
       "2    86007.0  34159.0     281.573690            NaN                  NaN   \n",
       "3    12900.0    336.0   17295.023620            NaN                  NaN   \n",
       "4    24503.0   2796.0      84.953363            NaN                  NaN   \n",
       "\n",
       "   Mortality_Rate  UID ISO3  \n",
       "0        4.355646    4  AFG  \n",
       "1        1.829519    8  ALB  \n",
       "2        2.678318   12  DZA  \n",
       "3        0.950385   20  AND  \n",
       "4        2.227714   24  AGO  "
      ]
     },
     "execution_count": 6,
     "metadata": {},
     "output_type": "execute_result"
    }
   ],
   "source": [
    "# Checking some of the rows from country_df dataframe\n",
    "country_df.head()"
   ]
  },
  {
   "cell_type": "code",
   "execution_count": 7,
   "metadata": {},
   "outputs": [
    {
     "name": "stdout",
     "output_type": "stream",
     "text": [
      "(275, 474)\n",
      "(275, 474)\n",
      "(260, 474)\n",
      "(192, 14)\n"
     ]
    }
   ],
   "source": [
    "# Checking the size of the dataframes\n",
    "print(death_df.shape)\n",
    "print(confirmed_df.shape)\n",
    "print(recovered_df.shape)\n",
    "print(country_df.shape)"
   ]
  },
  {
   "cell_type": "code",
   "execution_count": 8,
   "metadata": {
    "scrolled": true
   },
   "outputs": [
    {
     "name": "stdout",
     "output_type": "stream",
     "text": [
      "<class 'pandas.core.frame.DataFrame'>\n",
      "RangeIndex: 275 entries, 0 to 274\n",
      "Data columns (total 474 columns):\n",
      " #   Column          Dtype  \n",
      "---  ------          -----  \n",
      " 0   Province/State  object \n",
      " 1   Country/Region  object \n",
      " 2   Lat             float64\n",
      " 3   Long            float64\n",
      " 4   1/22/20         int64  \n",
      " 5   1/23/20         int64  \n",
      " 6   1/24/20         int64  \n",
      " 7   1/25/20         int64  \n",
      " 8   1/26/20         int64  \n",
      " 9   1/27/20         int64  \n",
      " 10  1/28/20         int64  \n",
      " 11  1/29/20         int64  \n",
      " 12  1/30/20         int64  \n",
      " 13  1/31/20         int64  \n",
      " 14  2/1/20          int64  \n",
      " 15  2/2/20          int64  \n",
      " 16  2/3/20          int64  \n",
      " 17  2/4/20          int64  \n",
      " 18  2/5/20          int64  \n",
      " 19  2/6/20          int64  \n",
      " 20  2/7/20          int64  \n",
      " 21  2/8/20          int64  \n",
      " 22  2/9/20          int64  \n",
      " 23  2/10/20         int64  \n",
      " 24  2/11/20         int64  \n",
      " 25  2/12/20         int64  \n",
      " 26  2/13/20         int64  \n",
      " 27  2/14/20         int64  \n",
      " 28  2/15/20         int64  \n",
      " 29  2/16/20         int64  \n",
      " 30  2/17/20         int64  \n",
      " 31  2/18/20         int64  \n",
      " 32  2/19/20         int64  \n",
      " 33  2/20/20         int64  \n",
      " 34  2/21/20         int64  \n",
      " 35  2/22/20         int64  \n",
      " 36  2/23/20         int64  \n",
      " 37  2/24/20         int64  \n",
      " 38  2/25/20         int64  \n",
      " 39  2/26/20         int64  \n",
      " 40  2/27/20         int64  \n",
      " 41  2/28/20         int64  \n",
      " 42  2/29/20         int64  \n",
      " 43  3/1/20          int64  \n",
      " 44  3/2/20          int64  \n",
      " 45  3/3/20          int64  \n",
      " 46  3/4/20          int64  \n",
      " 47  3/5/20          int64  \n",
      " 48  3/6/20          int64  \n",
      " 49  3/7/20          int64  \n",
      " 50  3/8/20          int64  \n",
      " 51  3/9/20          int64  \n",
      " 52  3/10/20         int64  \n",
      " 53  3/11/20         int64  \n",
      " 54  3/12/20         int64  \n",
      " 55  3/13/20         int64  \n",
      " 56  3/14/20         int64  \n",
      " 57  3/15/20         int64  \n",
      " 58  3/16/20         int64  \n",
      " 59  3/17/20         int64  \n",
      " 60  3/18/20         int64  \n",
      " 61  3/19/20         int64  \n",
      " 62  3/20/20         int64  \n",
      " 63  3/21/20         int64  \n",
      " 64  3/22/20         int64  \n",
      " 65  3/23/20         int64  \n",
      " 66  3/24/20         int64  \n",
      " 67  3/25/20         int64  \n",
      " 68  3/26/20         int64  \n",
      " 69  3/27/20         int64  \n",
      " 70  3/28/20         int64  \n",
      " 71  3/29/20         int64  \n",
      " 72  3/30/20         int64  \n",
      " 73  3/31/20         int64  \n",
      " 74  4/1/20          int64  \n",
      " 75  4/2/20          int64  \n",
      " 76  4/3/20          int64  \n",
      " 77  4/4/20          int64  \n",
      " 78  4/5/20          int64  \n",
      " 79  4/6/20          int64  \n",
      " 80  4/7/20          int64  \n",
      " 81  4/8/20          int64  \n",
      " 82  4/9/20          int64  \n",
      " 83  4/10/20         int64  \n",
      " 84  4/11/20         int64  \n",
      " 85  4/12/20         int64  \n",
      " 86  4/13/20         int64  \n",
      " 87  4/14/20         int64  \n",
      " 88  4/15/20         int64  \n",
      " 89  4/16/20         int64  \n",
      " 90  4/17/20         int64  \n",
      " 91  4/18/20         int64  \n",
      " 92  4/19/20         int64  \n",
      " 93  4/20/20         int64  \n",
      " 94  4/21/20         int64  \n",
      " 95  4/22/20         int64  \n",
      " 96  4/23/20         int64  \n",
      " 97  4/24/20         int64  \n",
      " 98  4/25/20         int64  \n",
      " 99  4/26/20         int64  \n",
      " 100 4/27/20         int64  \n",
      " 101 4/28/20         int64  \n",
      " 102 4/29/20         int64  \n",
      " 103 4/30/20         int64  \n",
      " 104 5/1/20          int64  \n",
      " 105 5/2/20          int64  \n",
      " 106 5/3/20          int64  \n",
      " 107 5/4/20          int64  \n",
      " 108 5/5/20          int64  \n",
      " 109 5/6/20          int64  \n",
      " 110 5/7/20          int64  \n",
      " 111 5/8/20          int64  \n",
      " 112 5/9/20          int64  \n",
      " 113 5/10/20         int64  \n",
      " 114 5/11/20         int64  \n",
      " 115 5/12/20         int64  \n",
      " 116 5/13/20         int64  \n",
      " 117 5/14/20         int64  \n",
      " 118 5/15/20         int64  \n",
      " 119 5/16/20         int64  \n",
      " 120 5/17/20         int64  \n",
      " 121 5/18/20         int64  \n",
      " 122 5/19/20         int64  \n",
      " 123 5/20/20         int64  \n",
      " 124 5/21/20         int64  \n",
      " 125 5/22/20         int64  \n",
      " 126 5/23/20         int64  \n",
      " 127 5/24/20         int64  \n",
      " 128 5/25/20         int64  \n",
      " 129 5/26/20         int64  \n",
      " 130 5/27/20         int64  \n",
      " 131 5/28/20         int64  \n",
      " 132 5/29/20         int64  \n",
      " 133 5/30/20         int64  \n",
      " 134 5/31/20         int64  \n",
      " 135 6/1/20          int64  \n",
      " 136 6/2/20          int64  \n",
      " 137 6/3/20          int64  \n",
      " 138 6/4/20          int64  \n",
      " 139 6/5/20          int64  \n",
      " 140 6/6/20          int64  \n",
      " 141 6/7/20          int64  \n",
      " 142 6/8/20          int64  \n",
      " 143 6/9/20          int64  \n",
      " 144 6/10/20         int64  \n",
      " 145 6/11/20         int64  \n",
      " 146 6/12/20         int64  \n",
      " 147 6/13/20         int64  \n",
      " 148 6/14/20         int64  \n",
      " 149 6/15/20         int64  \n",
      " 150 6/16/20         int64  \n",
      " 151 6/17/20         int64  \n",
      " 152 6/18/20         int64  \n",
      " 153 6/19/20         int64  \n",
      " 154 6/20/20         int64  \n",
      " 155 6/21/20         int64  \n",
      " 156 6/22/20         int64  \n",
      " 157 6/23/20         int64  \n",
      " 158 6/24/20         int64  \n",
      " 159 6/25/20         int64  \n",
      " 160 6/26/20         int64  \n",
      " 161 6/27/20         int64  \n",
      " 162 6/28/20         int64  \n",
      " 163 6/29/20         int64  \n",
      " 164 6/30/20         int64  \n",
      " 165 7/1/20          int64  \n",
      " 166 7/2/20          int64  \n",
      " 167 7/3/20          int64  \n",
      " 168 7/4/20          int64  \n",
      " 169 7/5/20          int64  \n",
      " 170 7/6/20          int64  \n",
      " 171 7/7/20          int64  \n",
      " 172 7/8/20          int64  \n",
      " 173 7/9/20          int64  \n",
      " 174 7/10/20         int64  \n",
      " 175 7/11/20         int64  \n",
      " 176 7/12/20         int64  \n",
      " 177 7/13/20         int64  \n",
      " 178 7/14/20         int64  \n",
      " 179 7/15/20         int64  \n",
      " 180 7/16/20         int64  \n",
      " 181 7/17/20         int64  \n",
      " 182 7/18/20         int64  \n",
      " 183 7/19/20         int64  \n",
      " 184 7/20/20         int64  \n",
      " 185 7/21/20         int64  \n",
      " 186 7/22/20         int64  \n",
      " 187 7/23/20         int64  \n",
      " 188 7/24/20         int64  \n",
      " 189 7/25/20         int64  \n",
      " 190 7/26/20         int64  \n",
      " 191 7/27/20         int64  \n",
      " 192 7/28/20         int64  \n",
      " 193 7/29/20         int64  \n",
      " 194 7/30/20         int64  \n",
      " 195 7/31/20         int64  \n",
      " 196 8/1/20          int64  \n",
      " 197 8/2/20          int64  \n",
      " 198 8/3/20          int64  \n",
      " 199 8/4/20          int64  \n",
      " 200 8/5/20          int64  \n",
      " 201 8/6/20          int64  \n",
      " 202 8/7/20          int64  \n",
      " 203 8/8/20          int64  \n",
      " 204 8/9/20          int64  \n",
      " 205 8/10/20         int64  \n",
      " 206 8/11/20         int64  \n",
      " 207 8/12/20         int64  \n",
      " 208 8/13/20         int64  \n",
      " 209 8/14/20         int64  \n",
      " 210 8/15/20         int64  \n",
      " 211 8/16/20         int64  \n",
      " 212 8/17/20         int64  \n",
      " 213 8/18/20         int64  \n",
      " 214 8/19/20         int64  \n",
      " 215 8/20/20         int64  \n",
      " 216 8/21/20         int64  \n",
      " 217 8/22/20         int64  \n",
      " 218 8/23/20         int64  \n",
      " 219 8/24/20         int64  \n",
      " 220 8/25/20         int64  \n",
      " 221 8/26/20         int64  \n",
      " 222 8/27/20         int64  \n",
      " 223 8/28/20         int64  \n",
      " 224 8/29/20         int64  \n",
      " 225 8/30/20         int64  \n",
      " 226 8/31/20         int64  \n",
      " 227 9/1/20          int64  \n",
      " 228 9/2/20          int64  \n",
      " 229 9/3/20          int64  \n",
      " 230 9/4/20          int64  \n",
      " 231 9/5/20          int64  \n",
      " 232 9/6/20          int64  \n",
      " 233 9/7/20          int64  \n",
      " 234 9/8/20          int64  \n",
      " 235 9/9/20          int64  \n",
      " 236 9/10/20         int64  \n",
      " 237 9/11/20         int64  \n",
      " 238 9/12/20         int64  \n",
      " 239 9/13/20         int64  \n",
      " 240 9/14/20         int64  \n",
      " 241 9/15/20         int64  \n",
      " 242 9/16/20         int64  \n",
      " 243 9/17/20         int64  \n",
      " 244 9/18/20         int64  \n",
      " 245 9/19/20         int64  \n",
      " 246 9/20/20         int64  \n",
      " 247 9/21/20         int64  \n",
      " 248 9/22/20         int64  \n",
      " 249 9/23/20         int64  \n",
      " 250 9/24/20         int64  \n",
      " 251 9/25/20         int64  \n",
      " 252 9/26/20         int64  \n",
      " 253 9/27/20         int64  \n",
      " 254 9/28/20         int64  \n",
      " 255 9/29/20         int64  \n",
      " 256 9/30/20         int64  \n",
      " 257 10/1/20         int64  \n",
      " 258 10/2/20         int64  \n",
      " 259 10/3/20         int64  \n",
      " 260 10/4/20         int64  \n",
      " 261 10/5/20         int64  \n",
      " 262 10/6/20         int64  \n",
      " 263 10/7/20         int64  \n",
      " 264 10/8/20         int64  \n",
      " 265 10/9/20         int64  \n",
      " 266 10/10/20        int64  \n",
      " 267 10/11/20        int64  \n",
      " 268 10/12/20        int64  \n",
      " 269 10/13/20        int64  \n",
      " 270 10/14/20        int64  \n",
      " 271 10/15/20        int64  \n",
      " 272 10/16/20        int64  \n",
      " 273 10/17/20        int64  \n",
      " 274 10/18/20        int64  \n",
      " 275 10/19/20        int64  \n",
      " 276 10/20/20        int64  \n",
      " 277 10/21/20        int64  \n",
      " 278 10/22/20        int64  \n",
      " 279 10/23/20        int64  \n",
      " 280 10/24/20        int64  \n",
      " 281 10/25/20        int64  \n",
      " 282 10/26/20        int64  \n",
      " 283 10/27/20        int64  \n",
      " 284 10/28/20        int64  \n",
      " 285 10/29/20        int64  \n",
      " 286 10/30/20        int64  \n",
      " 287 10/31/20        int64  \n",
      " 288 11/1/20         int64  \n",
      " 289 11/2/20         int64  \n",
      " 290 11/3/20         int64  \n",
      " 291 11/4/20         int64  \n",
      " 292 11/5/20         int64  \n",
      " 293 11/6/20         int64  \n",
      " 294 11/7/20         int64  \n",
      " 295 11/8/20         int64  \n",
      " 296 11/9/20         int64  \n",
      " 297 11/10/20        int64  \n",
      " 298 11/11/20        int64  \n",
      " 299 11/12/20        int64  \n",
      " 300 11/13/20        int64  \n",
      " 301 11/14/20        int64  \n",
      " 302 11/15/20        int64  \n",
      " 303 11/16/20        int64  \n",
      " 304 11/17/20        int64  \n",
      " 305 11/18/20        int64  \n",
      " 306 11/19/20        int64  \n",
      " 307 11/20/20        int64  \n",
      " 308 11/21/20        int64  \n",
      " 309 11/22/20        int64  \n",
      " 310 11/23/20        int64  \n",
      " 311 11/24/20        int64  \n",
      " 312 11/25/20        int64  \n",
      " 313 11/26/20        int64  \n",
      " 314 11/27/20        int64  \n",
      " 315 11/28/20        int64  \n",
      " 316 11/29/20        int64  \n",
      " 317 11/30/20        int64  \n",
      " 318 12/1/20         int64  \n",
      " 319 12/2/20         int64  \n",
      " 320 12/3/20         int64  \n",
      " 321 12/4/20         int64  \n",
      " 322 12/5/20         int64  \n",
      " 323 12/6/20         int64  \n",
      " 324 12/7/20         int64  \n",
      " 325 12/8/20         int64  \n",
      " 326 12/9/20         int64  \n",
      " 327 12/10/20        int64  \n",
      " 328 12/11/20        int64  \n",
      " 329 12/12/20        int64  \n",
      " 330 12/13/20        int64  \n",
      " 331 12/14/20        int64  \n",
      " 332 12/15/20        int64  \n",
      " 333 12/16/20        int64  \n",
      " 334 12/17/20        int64  \n",
      " 335 12/18/20        int64  \n",
      " 336 12/19/20        int64  \n",
      " 337 12/20/20        int64  \n",
      " 338 12/21/20        int64  \n",
      " 339 12/22/20        int64  \n",
      " 340 12/23/20        int64  \n",
      " 341 12/24/20        int64  \n",
      " 342 12/25/20        int64  \n",
      " 343 12/26/20        int64  \n",
      " 344 12/27/20        int64  \n",
      " 345 12/28/20        int64  \n",
      " 346 12/29/20        int64  \n",
      " 347 12/30/20        int64  \n",
      " 348 12/31/20        int64  \n",
      " 349 1/1/21          int64  \n",
      " 350 1/2/21          int64  \n",
      " 351 1/3/21          int64  \n",
      " 352 1/4/21          int64  \n",
      " 353 1/5/21          int64  \n",
      " 354 1/6/21          int64  \n",
      " 355 1/7/21          int64  \n",
      " 356 1/8/21          int64  \n",
      " 357 1/9/21          int64  \n",
      " 358 1/10/21         int64  \n",
      " 359 1/11/21         int64  \n",
      " 360 1/12/21         int64  \n",
      " 361 1/13/21         int64  \n",
      " 362 1/14/21         int64  \n",
      " 363 1/15/21         int64  \n",
      " 364 1/16/21         int64  \n",
      " 365 1/17/21         int64  \n",
      " 366 1/18/21         int64  \n",
      " 367 1/19/21         int64  \n",
      " 368 1/20/21         int64  \n",
      " 369 1/21/21         int64  \n",
      " 370 1/22/21         int64  \n",
      " 371 1/23/21         int64  \n",
      " 372 1/24/21         int64  \n",
      " 373 1/25/21         int64  \n",
      " 374 1/26/21         int64  \n",
      " 375 1/27/21         int64  \n",
      " 376 1/28/21         int64  \n",
      " 377 1/29/21         int64  \n",
      " 378 1/30/21         int64  \n",
      " 379 1/31/21         int64  \n",
      " 380 2/1/21          int64  \n",
      " 381 2/2/21          int64  \n",
      " 382 2/3/21          int64  \n",
      " 383 2/4/21          int64  \n",
      " 384 2/5/21          int64  \n",
      " 385 2/6/21          int64  \n",
      " 386 2/7/21          int64  \n",
      " 387 2/8/21          int64  \n",
      " 388 2/9/21          int64  \n",
      " 389 2/10/21         int64  \n",
      " 390 2/11/21         int64  \n",
      " 391 2/12/21         int64  \n",
      " 392 2/13/21         int64  \n",
      " 393 2/14/21         int64  \n",
      " 394 2/15/21         int64  \n",
      " 395 2/16/21         int64  \n",
      " 396 2/17/21         int64  \n",
      " 397 2/18/21         int64  \n",
      " 398 2/19/21         int64  \n",
      " 399 2/20/21         int64  \n",
      " 400 2/21/21         int64  \n",
      " 401 2/22/21         int64  \n",
      " 402 2/23/21         int64  \n",
      " 403 2/24/21         int64  \n",
      " 404 2/25/21         int64  \n",
      " 405 2/26/21         int64  \n",
      " 406 2/27/21         int64  \n",
      " 407 2/28/21         int64  \n",
      " 408 3/1/21          int64  \n",
      " 409 3/2/21          int64  \n",
      " 410 3/3/21          int64  \n",
      " 411 3/4/21          int64  \n",
      " 412 3/5/21          int64  \n",
      " 413 3/6/21          int64  \n",
      " 414 3/7/21          int64  \n",
      " 415 3/8/21          int64  \n",
      " 416 3/9/21          int64  \n",
      " 417 3/10/21         int64  \n",
      " 418 3/11/21         int64  \n",
      " 419 3/12/21         int64  \n",
      " 420 3/13/21         int64  \n",
      " 421 3/14/21         int64  \n",
      " 422 3/15/21         int64  \n",
      " 423 3/16/21         int64  \n",
      " 424 3/17/21         int64  \n",
      " 425 3/18/21         int64  \n",
      " 426 3/19/21         int64  \n",
      " 427 3/20/21         int64  \n",
      " 428 3/21/21         int64  \n",
      " 429 3/22/21         int64  \n",
      " 430 3/23/21         int64  \n",
      " 431 3/24/21         int64  \n",
      " 432 3/25/21         int64  \n",
      " 433 3/26/21         int64  \n",
      " 434 3/27/21         int64  \n",
      " 435 3/28/21         int64  \n",
      " 436 3/29/21         int64  \n",
      " 437 3/30/21         int64  \n",
      " 438 3/31/21         int64  \n",
      " 439 4/1/21          int64  \n",
      " 440 4/2/21          int64  \n",
      " 441 4/3/21          int64  \n",
      " 442 4/4/21          int64  \n",
      " 443 4/5/21          int64  \n",
      " 444 4/6/21          int64  \n",
      " 445 4/7/21          int64  \n",
      " 446 4/8/21          int64  \n",
      " 447 4/9/21          int64  \n",
      " 448 4/10/21         int64  \n",
      " 449 4/11/21         int64  \n",
      " 450 4/12/21         int64  \n",
      " 451 4/13/21         int64  \n",
      " 452 4/14/21         int64  \n",
      " 453 4/15/21         int64  \n",
      " 454 4/16/21         int64  \n",
      " 455 4/17/21         int64  \n",
      " 456 4/18/21         int64  \n",
      " 457 4/19/21         int64  \n",
      " 458 4/20/21         int64  \n",
      " 459 4/21/21         int64  \n",
      " 460 4/22/21         int64  \n",
      " 461 4/23/21         int64  \n",
      " 462 4/24/21         int64  \n",
      " 463 4/25/21         int64  \n",
      " 464 4/26/21         int64  \n",
      " 465 4/27/21         int64  \n",
      " 466 4/28/21         int64  \n",
      " 467 4/29/21         int64  \n",
      " 468 4/30/21         int64  \n",
      " 469 5/1/21          int64  \n",
      " 470 5/2/21          int64  \n",
      " 471 5/3/21          int64  \n",
      " 472 5/4/21          int64  \n",
      " 473 5/5/21          int64  \n",
      "dtypes: float64(2), int64(470), object(2)\n",
      "memory usage: 1018.5+ KB\n"
     ]
    }
   ],
   "source": [
    "# Checking for the data types of each column\n",
    "death_df.info('show')"
   ]
  },
  {
   "cell_type": "code",
   "execution_count": 9,
   "metadata": {
    "scrolled": true
   },
   "outputs": [
    {
     "name": "stdout",
     "output_type": "stream",
     "text": [
      "<class 'pandas.core.frame.DataFrame'>\n",
      "RangeIndex: 275 entries, 0 to 274\n",
      "Data columns (total 474 columns):\n",
      " #   Column          Dtype  \n",
      "---  ------          -----  \n",
      " 0   Province/State  object \n",
      " 1   Country/Region  object \n",
      " 2   Lat             float64\n",
      " 3   Long            float64\n",
      " 4   1/22/20         int64  \n",
      " 5   1/23/20         int64  \n",
      " 6   1/24/20         int64  \n",
      " 7   1/25/20         int64  \n",
      " 8   1/26/20         int64  \n",
      " 9   1/27/20         int64  \n",
      " 10  1/28/20         int64  \n",
      " 11  1/29/20         int64  \n",
      " 12  1/30/20         int64  \n",
      " 13  1/31/20         int64  \n",
      " 14  2/1/20          int64  \n",
      " 15  2/2/20          int64  \n",
      " 16  2/3/20          int64  \n",
      " 17  2/4/20          int64  \n",
      " 18  2/5/20          int64  \n",
      " 19  2/6/20          int64  \n",
      " 20  2/7/20          int64  \n",
      " 21  2/8/20          int64  \n",
      " 22  2/9/20          int64  \n",
      " 23  2/10/20         int64  \n",
      " 24  2/11/20         int64  \n",
      " 25  2/12/20         int64  \n",
      " 26  2/13/20         int64  \n",
      " 27  2/14/20         int64  \n",
      " 28  2/15/20         int64  \n",
      " 29  2/16/20         int64  \n",
      " 30  2/17/20         int64  \n",
      " 31  2/18/20         int64  \n",
      " 32  2/19/20         int64  \n",
      " 33  2/20/20         int64  \n",
      " 34  2/21/20         int64  \n",
      " 35  2/22/20         int64  \n",
      " 36  2/23/20         int64  \n",
      " 37  2/24/20         int64  \n",
      " 38  2/25/20         int64  \n",
      " 39  2/26/20         int64  \n",
      " 40  2/27/20         int64  \n",
      " 41  2/28/20         int64  \n",
      " 42  2/29/20         int64  \n",
      " 43  3/1/20          int64  \n",
      " 44  3/2/20          int64  \n",
      " 45  3/3/20          int64  \n",
      " 46  3/4/20          int64  \n",
      " 47  3/5/20          int64  \n",
      " 48  3/6/20          int64  \n",
      " 49  3/7/20          int64  \n",
      " 50  3/8/20          int64  \n",
      " 51  3/9/20          int64  \n",
      " 52  3/10/20         int64  \n",
      " 53  3/11/20         int64  \n",
      " 54  3/12/20         int64  \n",
      " 55  3/13/20         int64  \n",
      " 56  3/14/20         int64  \n",
      " 57  3/15/20         int64  \n",
      " 58  3/16/20         int64  \n",
      " 59  3/17/20         int64  \n",
      " 60  3/18/20         int64  \n",
      " 61  3/19/20         int64  \n",
      " 62  3/20/20         int64  \n",
      " 63  3/21/20         int64  \n",
      " 64  3/22/20         int64  \n",
      " 65  3/23/20         int64  \n",
      " 66  3/24/20         int64  \n",
      " 67  3/25/20         int64  \n",
      " 68  3/26/20         int64  \n",
      " 69  3/27/20         int64  \n",
      " 70  3/28/20         int64  \n",
      " 71  3/29/20         int64  \n",
      " 72  3/30/20         int64  \n",
      " 73  3/31/20         int64  \n",
      " 74  4/1/20          int64  \n",
      " 75  4/2/20          int64  \n",
      " 76  4/3/20          int64  \n",
      " 77  4/4/20          int64  \n",
      " 78  4/5/20          int64  \n",
      " 79  4/6/20          int64  \n",
      " 80  4/7/20          int64  \n",
      " 81  4/8/20          int64  \n",
      " 82  4/9/20          int64  \n",
      " 83  4/10/20         int64  \n",
      " 84  4/11/20         int64  \n",
      " 85  4/12/20         int64  \n",
      " 86  4/13/20         int64  \n",
      " 87  4/14/20         int64  \n",
      " 88  4/15/20         int64  \n",
      " 89  4/16/20         int64  \n",
      " 90  4/17/20         int64  \n",
      " 91  4/18/20         int64  \n",
      " 92  4/19/20         int64  \n",
      " 93  4/20/20         int64  \n",
      " 94  4/21/20         int64  \n",
      " 95  4/22/20         int64  \n",
      " 96  4/23/20         int64  \n",
      " 97  4/24/20         int64  \n",
      " 98  4/25/20         int64  \n",
      " 99  4/26/20         int64  \n",
      " 100 4/27/20         int64  \n",
      " 101 4/28/20         int64  \n",
      " 102 4/29/20         int64  \n",
      " 103 4/30/20         int64  \n",
      " 104 5/1/20          int64  \n",
      " 105 5/2/20          int64  \n",
      " 106 5/3/20          int64  \n",
      " 107 5/4/20          int64  \n",
      " 108 5/5/20          int64  \n",
      " 109 5/6/20          int64  \n",
      " 110 5/7/20          int64  \n",
      " 111 5/8/20          int64  \n",
      " 112 5/9/20          int64  \n",
      " 113 5/10/20         int64  \n",
      " 114 5/11/20         int64  \n",
      " 115 5/12/20         int64  \n",
      " 116 5/13/20         int64  \n",
      " 117 5/14/20         int64  \n",
      " 118 5/15/20         int64  \n",
      " 119 5/16/20         int64  \n",
      " 120 5/17/20         int64  \n",
      " 121 5/18/20         int64  \n",
      " 122 5/19/20         int64  \n",
      " 123 5/20/20         int64  \n",
      " 124 5/21/20         int64  \n",
      " 125 5/22/20         int64  \n",
      " 126 5/23/20         int64  \n",
      " 127 5/24/20         int64  \n",
      " 128 5/25/20         int64  \n",
      " 129 5/26/20         int64  \n",
      " 130 5/27/20         int64  \n",
      " 131 5/28/20         int64  \n",
      " 132 5/29/20         int64  \n",
      " 133 5/30/20         int64  \n",
      " 134 5/31/20         int64  \n",
      " 135 6/1/20          int64  \n",
      " 136 6/2/20          int64  \n",
      " 137 6/3/20          int64  \n",
      " 138 6/4/20          int64  \n",
      " 139 6/5/20          int64  \n",
      " 140 6/6/20          int64  \n",
      " 141 6/7/20          int64  \n",
      " 142 6/8/20          int64  \n",
      " 143 6/9/20          int64  \n",
      " 144 6/10/20         int64  \n",
      " 145 6/11/20         int64  \n",
      " 146 6/12/20         int64  \n",
      " 147 6/13/20         int64  \n",
      " 148 6/14/20         int64  \n",
      " 149 6/15/20         int64  \n",
      " 150 6/16/20         int64  \n",
      " 151 6/17/20         int64  \n",
      " 152 6/18/20         int64  \n",
      " 153 6/19/20         int64  \n",
      " 154 6/20/20         int64  \n",
      " 155 6/21/20         int64  \n",
      " 156 6/22/20         int64  \n",
      " 157 6/23/20         int64  \n",
      " 158 6/24/20         int64  \n",
      " 159 6/25/20         int64  \n",
      " 160 6/26/20         int64  \n",
      " 161 6/27/20         int64  \n",
      " 162 6/28/20         int64  \n",
      " 163 6/29/20         int64  \n",
      " 164 6/30/20         int64  \n",
      " 165 7/1/20          int64  \n",
      " 166 7/2/20          int64  \n",
      " 167 7/3/20          int64  \n",
      " 168 7/4/20          int64  \n",
      " 169 7/5/20          int64  \n",
      " 170 7/6/20          int64  \n",
      " 171 7/7/20          int64  \n",
      " 172 7/8/20          int64  \n",
      " 173 7/9/20          int64  \n",
      " 174 7/10/20         int64  \n",
      " 175 7/11/20         int64  \n",
      " 176 7/12/20         int64  \n",
      " 177 7/13/20         int64  \n",
      " 178 7/14/20         int64  \n",
      " 179 7/15/20         int64  \n",
      " 180 7/16/20         int64  \n",
      " 181 7/17/20         int64  \n",
      " 182 7/18/20         int64  \n",
      " 183 7/19/20         int64  \n",
      " 184 7/20/20         int64  \n",
      " 185 7/21/20         int64  \n",
      " 186 7/22/20         int64  \n",
      " 187 7/23/20         int64  \n",
      " 188 7/24/20         int64  \n",
      " 189 7/25/20         int64  \n",
      " 190 7/26/20         int64  \n",
      " 191 7/27/20         int64  \n",
      " 192 7/28/20         int64  \n",
      " 193 7/29/20         int64  \n",
      " 194 7/30/20         int64  \n",
      " 195 7/31/20         int64  \n",
      " 196 8/1/20          int64  \n",
      " 197 8/2/20          int64  \n",
      " 198 8/3/20          int64  \n",
      " 199 8/4/20          int64  \n",
      " 200 8/5/20          int64  \n",
      " 201 8/6/20          int64  \n",
      " 202 8/7/20          int64  \n",
      " 203 8/8/20          int64  \n",
      " 204 8/9/20          int64  \n",
      " 205 8/10/20         int64  \n",
      " 206 8/11/20         int64  \n",
      " 207 8/12/20         int64  \n",
      " 208 8/13/20         int64  \n",
      " 209 8/14/20         int64  \n",
      " 210 8/15/20         int64  \n",
      " 211 8/16/20         int64  \n",
      " 212 8/17/20         int64  \n",
      " 213 8/18/20         int64  \n",
      " 214 8/19/20         int64  \n",
      " 215 8/20/20         int64  \n",
      " 216 8/21/20         int64  \n",
      " 217 8/22/20         int64  \n",
      " 218 8/23/20         int64  \n",
      " 219 8/24/20         int64  \n",
      " 220 8/25/20         int64  \n",
      " 221 8/26/20         int64  \n",
      " 222 8/27/20         int64  \n",
      " 223 8/28/20         int64  \n",
      " 224 8/29/20         int64  \n",
      " 225 8/30/20         int64  \n",
      " 226 8/31/20         int64  \n",
      " 227 9/1/20          int64  \n",
      " 228 9/2/20          int64  \n",
      " 229 9/3/20          int64  \n",
      " 230 9/4/20          int64  \n",
      " 231 9/5/20          int64  \n",
      " 232 9/6/20          int64  \n",
      " 233 9/7/20          int64  \n",
      " 234 9/8/20          int64  \n",
      " 235 9/9/20          int64  \n",
      " 236 9/10/20         int64  \n",
      " 237 9/11/20         int64  \n",
      " 238 9/12/20         int64  \n",
      " 239 9/13/20         int64  \n",
      " 240 9/14/20         int64  \n",
      " 241 9/15/20         int64  \n",
      " 242 9/16/20         int64  \n",
      " 243 9/17/20         int64  \n",
      " 244 9/18/20         int64  \n",
      " 245 9/19/20         int64  \n",
      " 246 9/20/20         int64  \n",
      " 247 9/21/20         int64  \n",
      " 248 9/22/20         int64  \n",
      " 249 9/23/20         int64  \n",
      " 250 9/24/20         int64  \n",
      " 251 9/25/20         int64  \n",
      " 252 9/26/20         int64  \n",
      " 253 9/27/20         int64  \n",
      " 254 9/28/20         int64  \n",
      " 255 9/29/20         int64  \n",
      " 256 9/30/20         int64  \n",
      " 257 10/1/20         int64  \n",
      " 258 10/2/20         int64  \n",
      " 259 10/3/20         int64  \n",
      " 260 10/4/20         int64  \n",
      " 261 10/5/20         int64  \n",
      " 262 10/6/20         int64  \n",
      " 263 10/7/20         int64  \n",
      " 264 10/8/20         int64  \n",
      " 265 10/9/20         int64  \n",
      " 266 10/10/20        int64  \n",
      " 267 10/11/20        int64  \n",
      " 268 10/12/20        int64  \n",
      " 269 10/13/20        int64  \n",
      " 270 10/14/20        int64  \n",
      " 271 10/15/20        int64  \n",
      " 272 10/16/20        int64  \n",
      " 273 10/17/20        int64  \n",
      " 274 10/18/20        int64  \n",
      " 275 10/19/20        int64  \n",
      " 276 10/20/20        int64  \n",
      " 277 10/21/20        int64  \n",
      " 278 10/22/20        int64  \n",
      " 279 10/23/20        int64  \n",
      " 280 10/24/20        int64  \n",
      " 281 10/25/20        int64  \n",
      " 282 10/26/20        int64  \n",
      " 283 10/27/20        int64  \n",
      " 284 10/28/20        int64  \n",
      " 285 10/29/20        int64  \n",
      " 286 10/30/20        int64  \n",
      " 287 10/31/20        int64  \n",
      " 288 11/1/20         int64  \n",
      " 289 11/2/20         int64  \n",
      " 290 11/3/20         int64  \n",
      " 291 11/4/20         int64  \n",
      " 292 11/5/20         int64  \n",
      " 293 11/6/20         int64  \n",
      " 294 11/7/20         int64  \n",
      " 295 11/8/20         int64  \n",
      " 296 11/9/20         int64  \n",
      " 297 11/10/20        int64  \n",
      " 298 11/11/20        int64  \n",
      " 299 11/12/20        int64  \n",
      " 300 11/13/20        int64  \n",
      " 301 11/14/20        int64  \n",
      " 302 11/15/20        int64  \n",
      " 303 11/16/20        int64  \n",
      " 304 11/17/20        int64  \n",
      " 305 11/18/20        int64  \n",
      " 306 11/19/20        int64  \n",
      " 307 11/20/20        int64  \n",
      " 308 11/21/20        int64  \n",
      " 309 11/22/20        int64  \n",
      " 310 11/23/20        int64  \n",
      " 311 11/24/20        int64  \n",
      " 312 11/25/20        int64  \n",
      " 313 11/26/20        int64  \n",
      " 314 11/27/20        int64  \n",
      " 315 11/28/20        int64  \n",
      " 316 11/29/20        int64  \n",
      " 317 11/30/20        int64  \n",
      " 318 12/1/20         int64  \n",
      " 319 12/2/20         int64  \n",
      " 320 12/3/20         int64  \n",
      " 321 12/4/20         int64  \n",
      " 322 12/5/20         int64  \n",
      " 323 12/6/20         int64  \n",
      " 324 12/7/20         int64  \n",
      " 325 12/8/20         int64  \n",
      " 326 12/9/20         int64  \n",
      " 327 12/10/20        int64  \n",
      " 328 12/11/20        int64  \n",
      " 329 12/12/20        int64  \n",
      " 330 12/13/20        int64  \n",
      " 331 12/14/20        int64  \n",
      " 332 12/15/20        int64  \n",
      " 333 12/16/20        int64  \n",
      " 334 12/17/20        int64  \n",
      " 335 12/18/20        int64  \n",
      " 336 12/19/20        int64  \n",
      " 337 12/20/20        int64  \n",
      " 338 12/21/20        int64  \n",
      " 339 12/22/20        int64  \n",
      " 340 12/23/20        int64  \n",
      " 341 12/24/20        int64  \n",
      " 342 12/25/20        int64  \n",
      " 343 12/26/20        int64  \n",
      " 344 12/27/20        int64  \n",
      " 345 12/28/20        int64  \n",
      " 346 12/29/20        int64  \n",
      " 347 12/30/20        int64  \n",
      " 348 12/31/20        int64  \n",
      " 349 1/1/21          int64  \n",
      " 350 1/2/21          int64  \n",
      " 351 1/3/21          int64  \n",
      " 352 1/4/21          int64  \n",
      " 353 1/5/21          int64  \n",
      " 354 1/6/21          int64  \n",
      " 355 1/7/21          int64  \n",
      " 356 1/8/21          int64  \n",
      " 357 1/9/21          int64  \n",
      " 358 1/10/21         int64  \n",
      " 359 1/11/21         int64  \n",
      " 360 1/12/21         int64  \n",
      " 361 1/13/21         int64  \n",
      " 362 1/14/21         int64  \n",
      " 363 1/15/21         int64  \n",
      " 364 1/16/21         int64  \n",
      " 365 1/17/21         int64  \n",
      " 366 1/18/21         int64  \n",
      " 367 1/19/21         int64  \n",
      " 368 1/20/21         int64  \n",
      " 369 1/21/21         int64  \n",
      " 370 1/22/21         int64  \n",
      " 371 1/23/21         int64  \n",
      " 372 1/24/21         int64  \n",
      " 373 1/25/21         int64  \n",
      " 374 1/26/21         int64  \n",
      " 375 1/27/21         int64  \n",
      " 376 1/28/21         int64  \n",
      " 377 1/29/21         int64  \n",
      " 378 1/30/21         int64  \n",
      " 379 1/31/21         int64  \n",
      " 380 2/1/21          int64  \n",
      " 381 2/2/21          int64  \n",
      " 382 2/3/21          int64  \n",
      " 383 2/4/21          int64  \n",
      " 384 2/5/21          int64  \n",
      " 385 2/6/21          int64  \n",
      " 386 2/7/21          int64  \n",
      " 387 2/8/21          int64  \n",
      " 388 2/9/21          int64  \n",
      " 389 2/10/21         int64  \n",
      " 390 2/11/21         int64  \n",
      " 391 2/12/21         int64  \n",
      " 392 2/13/21         int64  \n",
      " 393 2/14/21         int64  \n",
      " 394 2/15/21         int64  \n",
      " 395 2/16/21         int64  \n",
      " 396 2/17/21         int64  \n",
      " 397 2/18/21         int64  \n",
      " 398 2/19/21         int64  \n",
      " 399 2/20/21         int64  \n",
      " 400 2/21/21         int64  \n",
      " 401 2/22/21         int64  \n",
      " 402 2/23/21         int64  \n",
      " 403 2/24/21         int64  \n",
      " 404 2/25/21         int64  \n",
      " 405 2/26/21         int64  \n",
      " 406 2/27/21         int64  \n",
      " 407 2/28/21         int64  \n",
      " 408 3/1/21          int64  \n",
      " 409 3/2/21          int64  \n",
      " 410 3/3/21          int64  \n",
      " 411 3/4/21          int64  \n",
      " 412 3/5/21          int64  \n",
      " 413 3/6/21          int64  \n",
      " 414 3/7/21          int64  \n",
      " 415 3/8/21          int64  \n",
      " 416 3/9/21          int64  \n",
      " 417 3/10/21         int64  \n",
      " 418 3/11/21         int64  \n",
      " 419 3/12/21         int64  \n",
      " 420 3/13/21         int64  \n",
      " 421 3/14/21         int64  \n",
      " 422 3/15/21         int64  \n",
      " 423 3/16/21         int64  \n",
      " 424 3/17/21         int64  \n",
      " 425 3/18/21         int64  \n",
      " 426 3/19/21         int64  \n",
      " 427 3/20/21         int64  \n",
      " 428 3/21/21         int64  \n",
      " 429 3/22/21         int64  \n",
      " 430 3/23/21         int64  \n",
      " 431 3/24/21         int64  \n",
      " 432 3/25/21         int64  \n",
      " 433 3/26/21         int64  \n",
      " 434 3/27/21         int64  \n",
      " 435 3/28/21         int64  \n",
      " 436 3/29/21         int64  \n",
      " 437 3/30/21         int64  \n",
      " 438 3/31/21         int64  \n",
      " 439 4/1/21          int64  \n",
      " 440 4/2/21          int64  \n",
      " 441 4/3/21          int64  \n",
      " 442 4/4/21          int64  \n",
      " 443 4/5/21          int64  \n",
      " 444 4/6/21          int64  \n",
      " 445 4/7/21          int64  \n",
      " 446 4/8/21          int64  \n",
      " 447 4/9/21          int64  \n",
      " 448 4/10/21         int64  \n",
      " 449 4/11/21         int64  \n",
      " 450 4/12/21         int64  \n",
      " 451 4/13/21         int64  \n",
      " 452 4/14/21         int64  \n",
      " 453 4/15/21         int64  \n",
      " 454 4/16/21         int64  \n",
      " 455 4/17/21         int64  \n",
      " 456 4/18/21         int64  \n",
      " 457 4/19/21         int64  \n",
      " 458 4/20/21         int64  \n",
      " 459 4/21/21         int64  \n",
      " 460 4/22/21         int64  \n",
      " 461 4/23/21         int64  \n",
      " 462 4/24/21         int64  \n",
      " 463 4/25/21         int64  \n",
      " 464 4/26/21         int64  \n",
      " 465 4/27/21         int64  \n",
      " 466 4/28/21         int64  \n",
      " 467 4/29/21         int64  \n",
      " 468 4/30/21         int64  \n",
      " 469 5/1/21          int64  \n",
      " 470 5/2/21          int64  \n",
      " 471 5/3/21          int64  \n",
      " 472 5/4/21          int64  \n",
      " 473 5/5/21          int64  \n",
      "dtypes: float64(2), int64(470), object(2)\n",
      "memory usage: 1018.5+ KB\n"
     ]
    }
   ],
   "source": [
    "# Checking for the data types of each column\n",
    "confirmed_df.info('show')"
   ]
  },
  {
   "cell_type": "code",
   "execution_count": 10,
   "metadata": {
    "scrolled": true
   },
   "outputs": [
    {
     "name": "stdout",
     "output_type": "stream",
     "text": [
      "<class 'pandas.core.frame.DataFrame'>\n",
      "RangeIndex: 260 entries, 0 to 259\n",
      "Data columns (total 474 columns):\n",
      " #   Column          Dtype  \n",
      "---  ------          -----  \n",
      " 0   Province/State  object \n",
      " 1   Country/Region  object \n",
      " 2   Lat             float64\n",
      " 3   Long            float64\n",
      " 4   1/22/20         int64  \n",
      " 5   1/23/20         int64  \n",
      " 6   1/24/20         int64  \n",
      " 7   1/25/20         int64  \n",
      " 8   1/26/20         int64  \n",
      " 9   1/27/20         int64  \n",
      " 10  1/28/20         int64  \n",
      " 11  1/29/20         int64  \n",
      " 12  1/30/20         int64  \n",
      " 13  1/31/20         int64  \n",
      " 14  2/1/20          int64  \n",
      " 15  2/2/20          int64  \n",
      " 16  2/3/20          int64  \n",
      " 17  2/4/20          int64  \n",
      " 18  2/5/20          int64  \n",
      " 19  2/6/20          int64  \n",
      " 20  2/7/20          int64  \n",
      " 21  2/8/20          int64  \n",
      " 22  2/9/20          int64  \n",
      " 23  2/10/20         int64  \n",
      " 24  2/11/20         int64  \n",
      " 25  2/12/20         int64  \n",
      " 26  2/13/20         int64  \n",
      " 27  2/14/20         int64  \n",
      " 28  2/15/20         int64  \n",
      " 29  2/16/20         int64  \n",
      " 30  2/17/20         int64  \n",
      " 31  2/18/20         int64  \n",
      " 32  2/19/20         int64  \n",
      " 33  2/20/20         int64  \n",
      " 34  2/21/20         int64  \n",
      " 35  2/22/20         int64  \n",
      " 36  2/23/20         int64  \n",
      " 37  2/24/20         int64  \n",
      " 38  2/25/20         int64  \n",
      " 39  2/26/20         int64  \n",
      " 40  2/27/20         int64  \n",
      " 41  2/28/20         int64  \n",
      " 42  2/29/20         int64  \n",
      " 43  3/1/20          int64  \n",
      " 44  3/2/20          int64  \n",
      " 45  3/3/20          int64  \n",
      " 46  3/4/20          int64  \n",
      " 47  3/5/20          int64  \n",
      " 48  3/6/20          int64  \n",
      " 49  3/7/20          int64  \n",
      " 50  3/8/20          int64  \n",
      " 51  3/9/20          int64  \n",
      " 52  3/10/20         int64  \n",
      " 53  3/11/20         int64  \n",
      " 54  3/12/20         int64  \n",
      " 55  3/13/20         int64  \n",
      " 56  3/14/20         int64  \n",
      " 57  3/15/20         int64  \n",
      " 58  3/16/20         int64  \n",
      " 59  3/17/20         int64  \n",
      " 60  3/18/20         int64  \n",
      " 61  3/19/20         int64  \n",
      " 62  3/20/20         int64  \n",
      " 63  3/21/20         int64  \n",
      " 64  3/22/20         int64  \n",
      " 65  3/23/20         int64  \n",
      " 66  3/24/20         int64  \n",
      " 67  3/25/20         int64  \n",
      " 68  3/26/20         int64  \n",
      " 69  3/27/20         int64  \n",
      " 70  3/28/20         int64  \n",
      " 71  3/29/20         int64  \n",
      " 72  3/30/20         int64  \n",
      " 73  3/31/20         int64  \n",
      " 74  4/1/20          int64  \n",
      " 75  4/2/20          int64  \n",
      " 76  4/3/20          int64  \n",
      " 77  4/4/20          int64  \n",
      " 78  4/5/20          int64  \n",
      " 79  4/6/20          int64  \n",
      " 80  4/7/20          int64  \n",
      " 81  4/8/20          int64  \n",
      " 82  4/9/20          int64  \n",
      " 83  4/10/20         int64  \n",
      " 84  4/11/20         int64  \n",
      " 85  4/12/20         int64  \n",
      " 86  4/13/20         int64  \n",
      " 87  4/14/20         int64  \n",
      " 88  4/15/20         int64  \n",
      " 89  4/16/20         int64  \n",
      " 90  4/17/20         int64  \n",
      " 91  4/18/20         int64  \n",
      " 92  4/19/20         int64  \n",
      " 93  4/20/20         int64  \n",
      " 94  4/21/20         int64  \n",
      " 95  4/22/20         int64  \n",
      " 96  4/23/20         int64  \n",
      " 97  4/24/20         int64  \n",
      " 98  4/25/20         int64  \n",
      " 99  4/26/20         int64  \n",
      " 100 4/27/20         int64  \n",
      " 101 4/28/20         int64  \n",
      " 102 4/29/20         int64  \n",
      " 103 4/30/20         int64  \n",
      " 104 5/1/20          int64  \n",
      " 105 5/2/20          int64  \n",
      " 106 5/3/20          int64  \n",
      " 107 5/4/20          int64  \n",
      " 108 5/5/20          int64  \n",
      " 109 5/6/20          int64  \n",
      " 110 5/7/20          int64  \n",
      " 111 5/8/20          int64  \n",
      " 112 5/9/20          int64  \n",
      " 113 5/10/20         int64  \n",
      " 114 5/11/20         int64  \n",
      " 115 5/12/20         int64  \n",
      " 116 5/13/20         int64  \n",
      " 117 5/14/20         int64  \n",
      " 118 5/15/20         int64  \n",
      " 119 5/16/20         int64  \n",
      " 120 5/17/20         int64  \n",
      " 121 5/18/20         int64  \n",
      " 122 5/19/20         int64  \n",
      " 123 5/20/20         int64  \n",
      " 124 5/21/20         int64  \n",
      " 125 5/22/20         int64  \n",
      " 126 5/23/20         int64  \n",
      " 127 5/24/20         int64  \n",
      " 128 5/25/20         int64  \n",
      " 129 5/26/20         int64  \n",
      " 130 5/27/20         int64  \n",
      " 131 5/28/20         int64  \n",
      " 132 5/29/20         int64  \n",
      " 133 5/30/20         int64  \n",
      " 134 5/31/20         int64  \n",
      " 135 6/1/20          int64  \n",
      " 136 6/2/20          int64  \n",
      " 137 6/3/20          int64  \n",
      " 138 6/4/20          int64  \n",
      " 139 6/5/20          int64  \n",
      " 140 6/6/20          int64  \n",
      " 141 6/7/20          int64  \n",
      " 142 6/8/20          int64  \n",
      " 143 6/9/20          int64  \n",
      " 144 6/10/20         int64  \n",
      " 145 6/11/20         int64  \n",
      " 146 6/12/20         int64  \n",
      " 147 6/13/20         int64  \n",
      " 148 6/14/20         int64  \n",
      " 149 6/15/20         int64  \n",
      " 150 6/16/20         int64  \n",
      " 151 6/17/20         int64  \n",
      " 152 6/18/20         int64  \n",
      " 153 6/19/20         int64  \n",
      " 154 6/20/20         int64  \n",
      " 155 6/21/20         int64  \n",
      " 156 6/22/20         int64  \n",
      " 157 6/23/20         int64  \n",
      " 158 6/24/20         int64  \n",
      " 159 6/25/20         int64  \n",
      " 160 6/26/20         int64  \n",
      " 161 6/27/20         int64  \n",
      " 162 6/28/20         int64  \n",
      " 163 6/29/20         int64  \n",
      " 164 6/30/20         int64  \n",
      " 165 7/1/20          int64  \n",
      " 166 7/2/20          int64  \n",
      " 167 7/3/20          int64  \n",
      " 168 7/4/20          int64  \n",
      " 169 7/5/20          int64  \n",
      " 170 7/6/20          int64  \n",
      " 171 7/7/20          int64  \n",
      " 172 7/8/20          int64  \n",
      " 173 7/9/20          int64  \n",
      " 174 7/10/20         int64  \n",
      " 175 7/11/20         int64  \n",
      " 176 7/12/20         int64  \n",
      " 177 7/13/20         int64  \n",
      " 178 7/14/20         int64  \n",
      " 179 7/15/20         int64  \n",
      " 180 7/16/20         int64  \n",
      " 181 7/17/20         int64  \n",
      " 182 7/18/20         int64  \n",
      " 183 7/19/20         int64  \n",
      " 184 7/20/20         int64  \n",
      " 185 7/21/20         int64  \n",
      " 186 7/22/20         int64  \n",
      " 187 7/23/20         int64  \n",
      " 188 7/24/20         int64  \n",
      " 189 7/25/20         int64  \n",
      " 190 7/26/20         int64  \n",
      " 191 7/27/20         int64  \n",
      " 192 7/28/20         int64  \n",
      " 193 7/29/20         int64  \n",
      " 194 7/30/20         int64  \n",
      " 195 7/31/20         int64  \n",
      " 196 8/1/20          int64  \n",
      " 197 8/2/20          int64  \n",
      " 198 8/3/20          int64  \n",
      " 199 8/4/20          int64  \n",
      " 200 8/5/20          int64  \n",
      " 201 8/6/20          int64  \n",
      " 202 8/7/20          int64  \n",
      " 203 8/8/20          int64  \n",
      " 204 8/9/20          int64  \n",
      " 205 8/10/20         int64  \n",
      " 206 8/11/20         int64  \n",
      " 207 8/12/20         int64  \n",
      " 208 8/13/20         int64  \n",
      " 209 8/14/20         int64  \n",
      " 210 8/15/20         int64  \n",
      " 211 8/16/20         int64  \n",
      " 212 8/17/20         int64  \n",
      " 213 8/18/20         int64  \n",
      " 214 8/19/20         int64  \n",
      " 215 8/20/20         int64  \n",
      " 216 8/21/20         int64  \n",
      " 217 8/22/20         int64  \n",
      " 218 8/23/20         int64  \n",
      " 219 8/24/20         int64  \n",
      " 220 8/25/20         int64  \n",
      " 221 8/26/20         int64  \n",
      " 222 8/27/20         int64  \n",
      " 223 8/28/20         int64  \n",
      " 224 8/29/20         int64  \n",
      " 225 8/30/20         int64  \n",
      " 226 8/31/20         int64  \n",
      " 227 9/1/20          int64  \n",
      " 228 9/2/20          int64  \n",
      " 229 9/3/20          int64  \n",
      " 230 9/4/20          int64  \n",
      " 231 9/5/20          int64  \n",
      " 232 9/6/20          int64  \n",
      " 233 9/7/20          int64  \n",
      " 234 9/8/20          int64  \n",
      " 235 9/9/20          int64  \n",
      " 236 9/10/20         int64  \n",
      " 237 9/11/20         int64  \n",
      " 238 9/12/20         int64  \n",
      " 239 9/13/20         int64  \n",
      " 240 9/14/20         int64  \n",
      " 241 9/15/20         int64  \n",
      " 242 9/16/20         int64  \n",
      " 243 9/17/20         int64  \n",
      " 244 9/18/20         int64  \n",
      " 245 9/19/20         int64  \n",
      " 246 9/20/20         int64  \n",
      " 247 9/21/20         int64  \n",
      " 248 9/22/20         int64  \n",
      " 249 9/23/20         int64  \n",
      " 250 9/24/20         int64  \n",
      " 251 9/25/20         int64  \n",
      " 252 9/26/20         int64  \n",
      " 253 9/27/20         int64  \n",
      " 254 9/28/20         int64  \n",
      " 255 9/29/20         int64  \n",
      " 256 9/30/20         int64  \n",
      " 257 10/1/20         int64  \n",
      " 258 10/2/20         int64  \n",
      " 259 10/3/20         int64  \n",
      " 260 10/4/20         int64  \n",
      " 261 10/5/20         int64  \n",
      " 262 10/6/20         int64  \n",
      " 263 10/7/20         int64  \n",
      " 264 10/8/20         int64  \n",
      " 265 10/9/20         int64  \n",
      " 266 10/10/20        int64  \n",
      " 267 10/11/20        int64  \n",
      " 268 10/12/20        int64  \n",
      " 269 10/13/20        int64  \n",
      " 270 10/14/20        int64  \n",
      " 271 10/15/20        int64  \n",
      " 272 10/16/20        int64  \n",
      " 273 10/17/20        int64  \n",
      " 274 10/18/20        int64  \n",
      " 275 10/19/20        int64  \n",
      " 276 10/20/20        int64  \n",
      " 277 10/21/20        int64  \n",
      " 278 10/22/20        int64  \n",
      " 279 10/23/20        int64  \n",
      " 280 10/24/20        int64  \n",
      " 281 10/25/20        int64  \n",
      " 282 10/26/20        int64  \n",
      " 283 10/27/20        int64  \n",
      " 284 10/28/20        int64  \n",
      " 285 10/29/20        int64  \n",
      " 286 10/30/20        int64  \n",
      " 287 10/31/20        int64  \n",
      " 288 11/1/20         int64  \n",
      " 289 11/2/20         int64  \n",
      " 290 11/3/20         int64  \n",
      " 291 11/4/20         int64  \n",
      " 292 11/5/20         int64  \n",
      " 293 11/6/20         int64  \n",
      " 294 11/7/20         int64  \n",
      " 295 11/8/20         int64  \n",
      " 296 11/9/20         int64  \n",
      " 297 11/10/20        int64  \n",
      " 298 11/11/20        int64  \n",
      " 299 11/12/20        int64  \n",
      " 300 11/13/20        int64  \n",
      " 301 11/14/20        int64  \n",
      " 302 11/15/20        int64  \n",
      " 303 11/16/20        int64  \n",
      " 304 11/17/20        int64  \n",
      " 305 11/18/20        int64  \n",
      " 306 11/19/20        int64  \n",
      " 307 11/20/20        int64  \n",
      " 308 11/21/20        int64  \n",
      " 309 11/22/20        int64  \n",
      " 310 11/23/20        int64  \n",
      " 311 11/24/20        int64  \n",
      " 312 11/25/20        int64  \n",
      " 313 11/26/20        int64  \n",
      " 314 11/27/20        int64  \n",
      " 315 11/28/20        int64  \n",
      " 316 11/29/20        int64  \n",
      " 317 11/30/20        int64  \n",
      " 318 12/1/20         int64  \n",
      " 319 12/2/20         int64  \n",
      " 320 12/3/20         int64  \n",
      " 321 12/4/20         int64  \n",
      " 322 12/5/20         int64  \n",
      " 323 12/6/20         int64  \n",
      " 324 12/7/20         int64  \n",
      " 325 12/8/20         int64  \n",
      " 326 12/9/20         int64  \n",
      " 327 12/10/20        int64  \n",
      " 328 12/11/20        int64  \n",
      " 329 12/12/20        int64  \n",
      " 330 12/13/20        int64  \n",
      " 331 12/14/20        int64  \n",
      " 332 12/15/20        int64  \n",
      " 333 12/16/20        int64  \n",
      " 334 12/17/20        int64  \n",
      " 335 12/18/20        int64  \n",
      " 336 12/19/20        int64  \n",
      " 337 12/20/20        int64  \n",
      " 338 12/21/20        int64  \n",
      " 339 12/22/20        int64  \n",
      " 340 12/23/20        int64  \n",
      " 341 12/24/20        int64  \n",
      " 342 12/25/20        int64  \n",
      " 343 12/26/20        int64  \n",
      " 344 12/27/20        int64  \n",
      " 345 12/28/20        int64  \n",
      " 346 12/29/20        int64  \n",
      " 347 12/30/20        int64  \n",
      " 348 12/31/20        int64  \n",
      " 349 1/1/21          int64  \n",
      " 350 1/2/21          int64  \n",
      " 351 1/3/21          int64  \n",
      " 352 1/4/21          int64  \n",
      " 353 1/5/21          int64  \n",
      " 354 1/6/21          int64  \n",
      " 355 1/7/21          int64  \n",
      " 356 1/8/21          int64  \n",
      " 357 1/9/21          int64  \n",
      " 358 1/10/21         int64  \n",
      " 359 1/11/21         int64  \n",
      " 360 1/12/21         int64  \n",
      " 361 1/13/21         int64  \n",
      " 362 1/14/21         int64  \n",
      " 363 1/15/21         int64  \n",
      " 364 1/16/21         int64  \n",
      " 365 1/17/21         int64  \n",
      " 366 1/18/21         int64  \n",
      " 367 1/19/21         int64  \n",
      " 368 1/20/21         int64  \n",
      " 369 1/21/21         int64  \n",
      " 370 1/22/21         int64  \n",
      " 371 1/23/21         int64  \n",
      " 372 1/24/21         int64  \n",
      " 373 1/25/21         int64  \n",
      " 374 1/26/21         int64  \n",
      " 375 1/27/21         int64  \n",
      " 376 1/28/21         int64  \n",
      " 377 1/29/21         int64  \n",
      " 378 1/30/21         int64  \n",
      " 379 1/31/21         int64  \n",
      " 380 2/1/21          int64  \n",
      " 381 2/2/21          int64  \n",
      " 382 2/3/21          int64  \n",
      " 383 2/4/21          int64  \n",
      " 384 2/5/21          int64  \n",
      " 385 2/6/21          int64  \n",
      " 386 2/7/21          int64  \n",
      " 387 2/8/21          int64  \n",
      " 388 2/9/21          int64  \n",
      " 389 2/10/21         int64  \n",
      " 390 2/11/21         int64  \n",
      " 391 2/12/21         int64  \n",
      " 392 2/13/21         int64  \n",
      " 393 2/14/21         int64  \n",
      " 394 2/15/21         int64  \n",
      " 395 2/16/21         int64  \n",
      " 396 2/17/21         int64  \n",
      " 397 2/18/21         int64  \n",
      " 398 2/19/21         int64  \n",
      " 399 2/20/21         int64  \n",
      " 400 2/21/21         int64  \n",
      " 401 2/22/21         int64  \n",
      " 402 2/23/21         int64  \n",
      " 403 2/24/21         int64  \n",
      " 404 2/25/21         int64  \n",
      " 405 2/26/21         int64  \n",
      " 406 2/27/21         int64  \n",
      " 407 2/28/21         int64  \n",
      " 408 3/1/21          int64  \n",
      " 409 3/2/21          int64  \n",
      " 410 3/3/21          int64  \n",
      " 411 3/4/21          int64  \n",
      " 412 3/5/21          int64  \n",
      " 413 3/6/21          int64  \n",
      " 414 3/7/21          int64  \n",
      " 415 3/8/21          int64  \n",
      " 416 3/9/21          int64  \n",
      " 417 3/10/21         int64  \n",
      " 418 3/11/21         int64  \n",
      " 419 3/12/21         int64  \n",
      " 420 3/13/21         int64  \n",
      " 421 3/14/21         int64  \n",
      " 422 3/15/21         int64  \n",
      " 423 3/16/21         int64  \n",
      " 424 3/17/21         int64  \n",
      " 425 3/18/21         int64  \n",
      " 426 3/19/21         int64  \n",
      " 427 3/20/21         int64  \n",
      " 428 3/21/21         int64  \n",
      " 429 3/22/21         int64  \n",
      " 430 3/23/21         int64  \n",
      " 431 3/24/21         int64  \n",
      " 432 3/25/21         int64  \n",
      " 433 3/26/21         int64  \n",
      " 434 3/27/21         int64  \n",
      " 435 3/28/21         int64  \n",
      " 436 3/29/21         int64  \n",
      " 437 3/30/21         int64  \n",
      " 438 3/31/21         int64  \n",
      " 439 4/1/21          int64  \n",
      " 440 4/2/21          int64  \n",
      " 441 4/3/21          int64  \n",
      " 442 4/4/21          int64  \n",
      " 443 4/5/21          int64  \n",
      " 444 4/6/21          int64  \n",
      " 445 4/7/21          int64  \n",
      " 446 4/8/21          int64  \n",
      " 447 4/9/21          int64  \n",
      " 448 4/10/21         int64  \n",
      " 449 4/11/21         int64  \n",
      " 450 4/12/21         int64  \n",
      " 451 4/13/21         int64  \n",
      " 452 4/14/21         int64  \n",
      " 453 4/15/21         int64  \n",
      " 454 4/16/21         int64  \n",
      " 455 4/17/21         int64  \n",
      " 456 4/18/21         int64  \n",
      " 457 4/19/21         int64  \n",
      " 458 4/20/21         int64  \n",
      " 459 4/21/21         int64  \n",
      " 460 4/22/21         int64  \n",
      " 461 4/23/21         int64  \n",
      " 462 4/24/21         int64  \n",
      " 463 4/25/21         int64  \n",
      " 464 4/26/21         int64  \n",
      " 465 4/27/21         int64  \n",
      " 466 4/28/21         int64  \n",
      " 467 4/29/21         int64  \n",
      " 468 4/30/21         int64  \n",
      " 469 5/1/21          int64  \n",
      " 470 5/2/21          int64  \n",
      " 471 5/3/21          int64  \n",
      " 472 5/4/21          int64  \n",
      " 473 5/5/21          int64  \n",
      "dtypes: float64(2), int64(470), object(2)\n",
      "memory usage: 962.9+ KB\n"
     ]
    }
   ],
   "source": [
    "# Checking for the data types of each column\n",
    "recovered_df.info('show')"
   ]
  },
  {
   "cell_type": "code",
   "execution_count": 11,
   "metadata": {},
   "outputs": [
    {
     "data": {
      "text/plain": [
       "China             34\n",
       "Canada            16\n",
       "United Kingdom    12\n",
       "France            12\n",
       "Australia          8\n",
       "                  ..\n",
       "Albania            1\n",
       "Libya              1\n",
       "Egypt              1\n",
       "Botswana           1\n",
       "Suriname           1\n",
       "Name: Country/Region, Length: 192, dtype: int64"
      ]
     },
     "execution_count": 11,
     "metadata": {},
     "output_type": "execute_result"
    }
   ],
   "source": [
    "# Checking for the distribution of data\n",
    "confirmed_df['Country/Region'].value_counts()"
   ]
  },
  {
   "cell_type": "markdown",
   "metadata": {},
   "source": [
    "# Preparing the data"
   ]
  },
  {
   "cell_type": "code",
   "execution_count": 12,
   "metadata": {},
   "outputs": [],
   "source": [
    "# Converting the columns names to lower case\n",
    "death_df.columns = map(str.lower,death_df.columns)\n",
    "confirmed_df.columns = map(str.lower,confirmed_df.columns)\n",
    "recovered_df.columns = map(str.lower,recovered_df.columns)\n",
    "country_df.columns = map(str.lower,country_df.columns)"
   ]
  },
  {
   "cell_type": "code",
   "execution_count": 13,
   "metadata": {},
   "outputs": [],
   "source": [
    "# Renaming some of the columns for easy handling\n",
    "death_df = death_df.rename(columns={'province/state': 'state', 'country/region': 'country'})\n",
    "confirmed_df = confirmed_df.rename(columns={'province/state': 'state', 'country/region': 'country'})\n",
    "recovered_df = recovered_df.rename(columns={'province/state': 'state', 'country/region': 'country'})\n",
    "country_df = country_df.rename(columns={'country_region': 'country'})"
   ]
  },
  {
   "cell_type": "markdown",
   "metadata": {},
   "source": [
    "# Feature Engineering\n",
    "### Confirmed/Death/Recovered New Cases"
   ]
  },
  {
   "cell_type": "code",
   "execution_count": 14,
   "metadata": {},
   "outputs": [],
   "source": [
    "# Creating a new feature \"NewCases\" to capture the difference between the last/latest day count and 2nd last day count\n",
    "confirmed_df.insert(4,'NewCases',0)\n",
    "confirmed_df['NewCases'] = confirmed_df.iloc[:,-1] - confirmed_df.iloc[:,-2]"
   ]
  },
  {
   "cell_type": "code",
   "execution_count": 15,
   "metadata": {},
   "outputs": [],
   "source": [
    "# Creating a new feature \"NewCases\" to capture the difference between the last/latest day count and 2nd last day count\n",
    "recovered_df.insert(4,'NewCases',0)\n",
    "recovered_df['NewCases'] = recovered_df.iloc[:,-1] - recovered_df.iloc[:,-2]"
   ]
  },
  {
   "cell_type": "code",
   "execution_count": 16,
   "metadata": {},
   "outputs": [],
   "source": [
    "# Creating a new feature \"NewCases\" to capture the difference between the last/latest day count and 2nd last day count\n",
    "death_df.insert(4,'NewCases',0)\n",
    "death_df['NewCases'] = death_df.iloc[:,-1] - death_df.iloc[:,-2]"
   ]
  },
  {
   "cell_type": "markdown",
   "metadata": {},
   "source": [
    "## Overal Worldwide Counts"
   ]
  },
  {
   "cell_type": "code",
   "execution_count": 17,
   "metadata": {},
   "outputs": [
    {
     "data": {
      "text/plain": [
       "155631135.0"
      ]
     },
     "execution_count": 17,
     "metadata": {},
     "output_type": "execute_result"
    }
   ],
   "source": [
    "# Summing up the total confirmed cases across countries\n",
    "confirmed_total = country_df['confirmed'].sum()\n",
    "confirmed_total"
   ]
  },
  {
   "cell_type": "code",
   "execution_count": 18,
   "metadata": {},
   "outputs": [
    {
     "data": {
      "text/plain": [
       "3251647.0"
      ]
     },
     "execution_count": 18,
     "metadata": {},
     "output_type": "execute_result"
    }
   ],
   "source": [
    "# Summing up the total deaths cases across countries\n",
    "deaths_total = country_df['deaths'].sum()\n",
    "deaths_total"
   ]
  },
  {
   "cell_type": "code",
   "execution_count": 19,
   "metadata": {},
   "outputs": [
    {
     "data": {
      "text/plain": [
       "91922278.0"
      ]
     },
     "execution_count": 19,
     "metadata": {},
     "output_type": "execute_result"
    }
   ],
   "source": [
    "# Summing up the total recovered cases across countries\n",
    "recovered_total = country_df['recovered'].sum()\n",
    "recovered_total"
   ]
  },
  {
   "cell_type": "code",
   "execution_count": 20,
   "metadata": {},
   "outputs": [
    {
     "data": {
      "text/plain": [
       "28433333.0"
      ]
     },
     "execution_count": 20,
     "metadata": {},
     "output_type": "execute_result"
    }
   ],
   "source": [
    "# Summing up the total active cases across countries\n",
    "active_total = country_df['active'].sum()\n",
    "active_total"
   ]
  },
  {
   "cell_type": "code",
   "execution_count": 21,
   "metadata": {
    "scrolled": true
   },
   "outputs": [
    {
     "data": {
      "text/html": [
       "<div style = 'background-color: #504e4e; padding: 32px '><span style='color: #fff; font-size:32px;'> Confirmed: 155631135.0</span><span style='color: red; font-size:32px;margin-left:22px;'> Deaths: 3251647.0</span><span style='color: lightgreen; font-size:32px; margin-left:22px;'> Recovered: 91922278.0</span><span style='color: #fff; font-size:32px; margin-left:22px;'> Active: 28433333.0</span></div>"
      ],
      "text/plain": [
       "<IPython.core.display.HTML object>"
      ]
     },
     "metadata": {},
     "output_type": "display_data"
    }
   ],
   "source": [
    "# displaying the current total stats\n",
    "\n",
    "display(HTML(\"<div style = 'background-color: #504e4e; padding: 32px '>\" +\n",
    "             \"<span style='color: #fff; font-size:32px;'> Confirmed: \"  + str(confirmed_total) +\"</span>\" +\n",
    "             \"<span style='color: red; font-size:32px;margin-left:22px;'> Deaths: \" + str(deaths_total) + \"</span>\"+\n",
    "             \"<span style='color: lightgreen; font-size:32px; margin-left:22px;'> Recovered: \" + str(recovered_total) + \"</span>\"+\n",
    "             \"<span style='color: #fff; font-size:32px; margin-left:22px;'> Active: \"  + str(active_total) +\"</span>\" +\n",
    "             \"</div>\")\n",
    "       )"
   ]
  },
  {
   "cell_type": "markdown",
   "metadata": {},
   "source": [
    "# Data Visualization through Bubble Charts"
   ]
  },
  {
   "cell_type": "markdown",
   "metadata": {},
   "source": [
    "### Latest Count of Confirmed New Cases"
   ]
  },
  {
   "cell_type": "code",
   "execution_count": 22,
   "metadata": {
    "scrolled": false
   },
   "outputs": [
    {
     "data": {
      "text/html": [
       "<div>\n",
       "<style scoped>\n",
       "    .dataframe tbody tr th:only-of-type {\n",
       "        vertical-align: middle;\n",
       "    }\n",
       "\n",
       "    .dataframe tbody tr th {\n",
       "        vertical-align: top;\n",
       "    }\n",
       "\n",
       "    .dataframe thead th {\n",
       "        text-align: right;\n",
       "    }\n",
       "</style>\n",
       "<table border=\"1\" class=\"dataframe\">\n",
       "  <thead>\n",
       "    <tr style=\"text-align: right;\">\n",
       "      <th></th>\n",
       "      <th>state</th>\n",
       "      <th>country</th>\n",
       "      <th>lat</th>\n",
       "      <th>long</th>\n",
       "      <th>NewCases</th>\n",
       "      <th>1/22/20</th>\n",
       "      <th>1/23/20</th>\n",
       "      <th>1/24/20</th>\n",
       "      <th>1/25/20</th>\n",
       "      <th>1/26/20</th>\n",
       "      <th>...</th>\n",
       "      <th>4/26/21</th>\n",
       "      <th>4/27/21</th>\n",
       "      <th>4/28/21</th>\n",
       "      <th>4/29/21</th>\n",
       "      <th>4/30/21</th>\n",
       "      <th>5/1/21</th>\n",
       "      <th>5/2/21</th>\n",
       "      <th>5/3/21</th>\n",
       "      <th>5/4/21</th>\n",
       "      <th>5/5/21</th>\n",
       "    </tr>\n",
       "  </thead>\n",
       "  <tbody>\n",
       "    <tr>\n",
       "      <th>0</th>\n",
       "      <td>NaN</td>\n",
       "      <td>Afghanistan</td>\n",
       "      <td>33.93911</td>\n",
       "      <td>67.709953</td>\n",
       "      <td>234</td>\n",
       "      <td>0</td>\n",
       "      <td>0</td>\n",
       "      <td>0</td>\n",
       "      <td>0</td>\n",
       "      <td>0</td>\n",
       "      <td>...</td>\n",
       "      <td>59015</td>\n",
       "      <td>59225</td>\n",
       "      <td>59370</td>\n",
       "      <td>59576</td>\n",
       "      <td>59745</td>\n",
       "      <td>59939</td>\n",
       "      <td>60122</td>\n",
       "      <td>60300</td>\n",
       "      <td>60563</td>\n",
       "      <td>60797</td>\n",
       "    </tr>\n",
       "    <tr>\n",
       "      <th>1</th>\n",
       "      <td>NaN</td>\n",
       "      <td>Albania</td>\n",
       "      <td>41.15330</td>\n",
       "      <td>20.168300</td>\n",
       "      <td>92</td>\n",
       "      <td>0</td>\n",
       "      <td>0</td>\n",
       "      <td>0</td>\n",
       "      <td>0</td>\n",
       "      <td>0</td>\n",
       "      <td>...</td>\n",
       "      <td>130606</td>\n",
       "      <td>130736</td>\n",
       "      <td>130859</td>\n",
       "      <td>130977</td>\n",
       "      <td>131085</td>\n",
       "      <td>131185</td>\n",
       "      <td>131238</td>\n",
       "      <td>131276</td>\n",
       "      <td>131327</td>\n",
       "      <td>131419</td>\n",
       "    </tr>\n",
       "    <tr>\n",
       "      <th>2</th>\n",
       "      <td>NaN</td>\n",
       "      <td>Algeria</td>\n",
       "      <td>28.03390</td>\n",
       "      <td>1.659600</td>\n",
       "      <td>273</td>\n",
       "      <td>0</td>\n",
       "      <td>0</td>\n",
       "      <td>0</td>\n",
       "      <td>0</td>\n",
       "      <td>0</td>\n",
       "      <td>...</td>\n",
       "      <td>121112</td>\n",
       "      <td>121344</td>\n",
       "      <td>121580</td>\n",
       "      <td>121866</td>\n",
       "      <td>122108</td>\n",
       "      <td>122311</td>\n",
       "      <td>122522</td>\n",
       "      <td>122717</td>\n",
       "      <td>122999</td>\n",
       "      <td>123272</td>\n",
       "    </tr>\n",
       "    <tr>\n",
       "      <th>3</th>\n",
       "      <td>NaN</td>\n",
       "      <td>Andorra</td>\n",
       "      <td>42.50630</td>\n",
       "      <td>1.521800</td>\n",
       "      <td>24</td>\n",
       "      <td>0</td>\n",
       "      <td>0</td>\n",
       "      <td>0</td>\n",
       "      <td>0</td>\n",
       "      <td>0</td>\n",
       "      <td>...</td>\n",
       "      <td>13083</td>\n",
       "      <td>13121</td>\n",
       "      <td>13148</td>\n",
       "      <td>13198</td>\n",
       "      <td>13232</td>\n",
       "      <td>13232</td>\n",
       "      <td>13282</td>\n",
       "      <td>13295</td>\n",
       "      <td>13316</td>\n",
       "      <td>13340</td>\n",
       "    </tr>\n",
       "    <tr>\n",
       "      <th>4</th>\n",
       "      <td>NaN</td>\n",
       "      <td>Angola</td>\n",
       "      <td>-11.20270</td>\n",
       "      <td>17.873900</td>\n",
       "      <td>245</td>\n",
       "      <td>0</td>\n",
       "      <td>0</td>\n",
       "      <td>0</td>\n",
       "      <td>0</td>\n",
       "      <td>0</td>\n",
       "      <td>...</td>\n",
       "      <td>25710</td>\n",
       "      <td>25942</td>\n",
       "      <td>26168</td>\n",
       "      <td>26431</td>\n",
       "      <td>26652</td>\n",
       "      <td>26815</td>\n",
       "      <td>26993</td>\n",
       "      <td>27133</td>\n",
       "      <td>27284</td>\n",
       "      <td>27529</td>\n",
       "    </tr>\n",
       "  </tbody>\n",
       "</table>\n",
       "<p>5 rows × 475 columns</p>\n",
       "</div>"
      ],
      "text/plain": [
       "  state      country       lat       long  NewCases  1/22/20  1/23/20  \\\n",
       "0   NaN  Afghanistan  33.93911  67.709953       234        0        0   \n",
       "1   NaN      Albania  41.15330  20.168300        92        0        0   \n",
       "2   NaN      Algeria  28.03390   1.659600       273        0        0   \n",
       "3   NaN      Andorra  42.50630   1.521800        24        0        0   \n",
       "4   NaN       Angola -11.20270  17.873900       245        0        0   \n",
       "\n",
       "   1/24/20  1/25/20  1/26/20  ...  4/26/21  4/27/21  4/28/21  4/29/21  \\\n",
       "0        0        0        0  ...    59015    59225    59370    59576   \n",
       "1        0        0        0  ...   130606   130736   130859   130977   \n",
       "2        0        0        0  ...   121112   121344   121580   121866   \n",
       "3        0        0        0  ...    13083    13121    13148    13198   \n",
       "4        0        0        0  ...    25710    25942    26168    26431   \n",
       "\n",
       "   4/30/21  5/1/21  5/2/21  5/3/21  5/4/21  5/5/21  \n",
       "0    59745   59939   60122   60300   60563   60797  \n",
       "1   131085  131185  131238  131276  131327  131419  \n",
       "2   122108  122311  122522  122717  122999  123272  \n",
       "3    13232   13232   13282   13295   13316   13340  \n",
       "4    26652   26815   26993   27133   27284   27529  \n",
       "\n",
       "[5 rows x 475 columns]"
      ]
     },
     "execution_count": 22,
     "metadata": {},
     "output_type": "execute_result"
    }
   ],
   "source": [
    "# Printing some rows\n",
    "confirmed_df.head()"
   ]
  },
  {
   "cell_type": "code",
   "execution_count": 23,
   "metadata": {
    "scrolled": true
   },
   "outputs": [
    {
     "data": {
      "text/plain": [
       "country\n",
       "Afghanistan           234\n",
       "Albania                92\n",
       "Algeria               273\n",
       "Andorra                24\n",
       "Angola                245\n",
       "                     ... \n",
       "Vietnam                35\n",
       "West Bank and Gaza    815\n",
       "Yemen                  24\n",
       "Zambia                 45\n",
       "Zimbabwe               30\n",
       "Name: NewCases, Length: 192, dtype: int64"
      ]
     },
     "execution_count": 23,
     "metadata": {},
     "output_type": "execute_result"
    }
   ],
   "source": [
    "# To understand how groupby clause works\n",
    "confirmed_df.groupby(\"country\")['NewCases'].sum()"
   ]
  },
  {
   "cell_type": "code",
   "execution_count": 24,
   "metadata": {
    "scrolled": true
   },
   "outputs": [
    {
     "data": {
      "text/html": [
       "<div>\n",
       "<style scoped>\n",
       "    .dataframe tbody tr th:only-of-type {\n",
       "        vertical-align: middle;\n",
       "    }\n",
       "\n",
       "    .dataframe tbody tr th {\n",
       "        vertical-align: top;\n",
       "    }\n",
       "\n",
       "    .dataframe thead th {\n",
       "        text-align: right;\n",
       "    }\n",
       "</style>\n",
       "<table border=\"1\" class=\"dataframe\">\n",
       "  <thead>\n",
       "    <tr style=\"text-align: right;\">\n",
       "      <th></th>\n",
       "      <th>country</th>\n",
       "      <th>TotalNewCases</th>\n",
       "    </tr>\n",
       "  </thead>\n",
       "  <tbody>\n",
       "    <tr>\n",
       "      <th>79</th>\n",
       "      <td>India</td>\n",
       "      <td>412431</td>\n",
       "    </tr>\n",
       "    <tr>\n",
       "      <th>23</th>\n",
       "      <td>Brazil</td>\n",
       "      <td>73295</td>\n",
       "    </tr>\n",
       "    <tr>\n",
       "      <th>178</th>\n",
       "      <td>US</td>\n",
       "      <td>44510</td>\n",
       "    </tr>\n",
       "    <tr>\n",
       "      <th>177</th>\n",
       "      <td>Turkey</td>\n",
       "      <td>26476</td>\n",
       "    </tr>\n",
       "    <tr>\n",
       "      <th>62</th>\n",
       "      <td>France</td>\n",
       "      <td>26004</td>\n",
       "    </tr>\n",
       "  </tbody>\n",
       "</table>\n",
       "</div>"
      ],
      "text/plain": [
       "    country  TotalNewCases\n",
       "79    India         412431\n",
       "23   Brazil          73295\n",
       "178      US          44510\n",
       "177  Turkey          26476\n",
       "62   France          26004"
      ]
     },
     "execution_count": 24,
     "metadata": {},
     "output_type": "execute_result"
    }
   ],
   "source": [
    "# Aggregating the confirmed new cases against each country\n",
    "country_confirmed_newcases = confirmed_df.groupby(\"country\")['NewCases'].sum().reset_index(name ='TotalNewCases')\n",
    "country_confirmed_newcases = country_confirmed_newcases.sort_values(by='TotalNewCases', ascending=False)\n",
    "country_confirmed_newcases.head(5)"
   ]
  },
  {
   "cell_type": "code",
   "execution_count": 25,
   "metadata": {
    "scrolled": false
   },
   "outputs": [
    {
     "data": {
      "application/vnd.jupyter.widget-view+json": {
       "model_id": "d9922af9e49e4e9a8b0454b12019a1f4",
       "version_major": 2,
       "version_minor": 0
      },
      "text/plain": [
       "interactive(children=(IntSlider(value=10, description='n', max=30, min=-10), Output()), _dom_classes=('widget-…"
      ]
     },
     "metadata": {},
     "output_type": "display_data"
    }
   ],
   "source": [
    "# Visualizing the new confirmed cases against each country using plotly\n",
    "def bubble_chart(n):\n",
    "    fig = px.scatter(country_confirmed_newcases.head(n), x=\"country\", y=\"TotalNewCases\", size=\"TotalNewCases\", color=\"country\",\n",
    "               hover_name=\"country\", size_max=60)\n",
    "    fig.update_layout(\n",
    "    title=str(n) +\" countries with highest number of confirmed new cases. <br> (Last updated on \"+(confirmed_df.columns)[-1]+\")\",\n",
    "    xaxis_title=\"Countries\",\n",
    "    yaxis_title=\"Confirmed New Cases\",\n",
    "    width = 900\n",
    "    )\n",
    "    fig.show();\n",
    "    \n",
    "\n",
    "interact(bubble_chart, n=10)\n",
    "ipywLayout = widgets.Layout()\n",
    "ipywLayout.display='none'"
   ]
  },
  {
   "cell_type": "markdown",
   "metadata": {},
   "source": [
    "### Latest Count of New Death Cases"
   ]
  },
  {
   "cell_type": "code",
   "execution_count": 26,
   "metadata": {},
   "outputs": [
    {
     "data": {
      "text/html": [
       "<div>\n",
       "<style scoped>\n",
       "    .dataframe tbody tr th:only-of-type {\n",
       "        vertical-align: middle;\n",
       "    }\n",
       "\n",
       "    .dataframe tbody tr th {\n",
       "        vertical-align: top;\n",
       "    }\n",
       "\n",
       "    .dataframe thead th {\n",
       "        text-align: right;\n",
       "    }\n",
       "</style>\n",
       "<table border=\"1\" class=\"dataframe\">\n",
       "  <thead>\n",
       "    <tr style=\"text-align: right;\">\n",
       "      <th></th>\n",
       "      <th>country</th>\n",
       "      <th>TotalNewCases</th>\n",
       "    </tr>\n",
       "  </thead>\n",
       "  <tbody>\n",
       "    <tr>\n",
       "      <th>79</th>\n",
       "      <td>India</td>\n",
       "      <td>3980</td>\n",
       "    </tr>\n",
       "    <tr>\n",
       "      <th>23</th>\n",
       "      <td>Brazil</td>\n",
       "      <td>2811</td>\n",
       "    </tr>\n",
       "    <tr>\n",
       "      <th>178</th>\n",
       "      <td>US</td>\n",
       "      <td>776</td>\n",
       "    </tr>\n",
       "    <tr>\n",
       "      <th>6</th>\n",
       "      <td>Argentina</td>\n",
       "      <td>663</td>\n",
       "    </tr>\n",
       "    <tr>\n",
       "      <th>37</th>\n",
       "      <td>Colombia</td>\n",
       "      <td>388</td>\n",
       "    </tr>\n",
       "  </tbody>\n",
       "</table>\n",
       "</div>"
      ],
      "text/plain": [
       "       country  TotalNewCases\n",
       "79       India           3980\n",
       "23      Brazil           2811\n",
       "178         US            776\n",
       "6    Argentina            663\n",
       "37    Colombia            388"
      ]
     },
     "execution_count": 26,
     "metadata": {},
     "output_type": "execute_result"
    }
   ],
   "source": [
    "# Aggregating the new death cases against each country\n",
    "country_death_newcases = death_df.groupby(\"country\")['NewCases'].sum().reset_index(name ='TotalNewCases')\n",
    "country_death_newcases = country_death_newcases.sort_values(by='TotalNewCases', ascending=False)\n",
    "country_death_newcases.head(5)"
   ]
  },
  {
   "cell_type": "code",
   "execution_count": 27,
   "metadata": {
    "scrolled": false
   },
   "outputs": [
    {
     "data": {
      "application/vnd.jupyter.widget-view+json": {
       "model_id": "c1495146013c4c69a3ab012ed3962194",
       "version_major": 2,
       "version_minor": 0
      },
      "text/plain": [
       "interactive(children=(IntSlider(value=10, description='n', max=30, min=-10), Output()), _dom_classes=('widget-…"
      ]
     },
     "metadata": {},
     "output_type": "display_data"
    }
   ],
   "source": [
    "# Visualizing the new death cases against each country using plotly\n",
    "def bubble_chart(n):\n",
    "    fig = px.scatter(country_death_newcases.head(n), x=\"country\", y=\"TotalNewCases\", size=\"TotalNewCases\", color=\"country\",\n",
    "               hover_name=\"country\", size_max=60)\n",
    "    fig.update_layout(\n",
    "    title=str(n) +\" countries with highest number of new death cases. <br> (Last updated on \"+(death_df.columns)[-1]+\")\",\n",
    "    xaxis_title=\"Countries\",\n",
    "    yaxis_title=\"New Death Cases\",\n",
    "    width = 900\n",
    "    )\n",
    "    fig.show();\n",
    "\n",
    "    \n",
    "interact(bubble_chart, n=10)\n",
    "ipywLayout = widgets.Layout()\n",
    "ipywLayout.display='none'"
   ]
  },
  {
   "cell_type": "markdown",
   "metadata": {},
   "source": [
    "### Latest Count of New Recovered Cases"
   ]
  },
  {
   "cell_type": "code",
   "execution_count": 28,
   "metadata": {
    "scrolled": true
   },
   "outputs": [
    {
     "data": {
      "text/html": [
       "<div>\n",
       "<style scoped>\n",
       "    .dataframe tbody tr th:only-of-type {\n",
       "        vertical-align: middle;\n",
       "    }\n",
       "\n",
       "    .dataframe tbody tr th {\n",
       "        vertical-align: top;\n",
       "    }\n",
       "\n",
       "    .dataframe thead th {\n",
       "        text-align: right;\n",
       "    }\n",
       "</style>\n",
       "<table border=\"1\" class=\"dataframe\">\n",
       "  <thead>\n",
       "    <tr style=\"text-align: right;\">\n",
       "      <th></th>\n",
       "      <th>country</th>\n",
       "      <th>TotalNewCases</th>\n",
       "    </tr>\n",
       "  </thead>\n",
       "  <tbody>\n",
       "    <tr>\n",
       "      <th>79</th>\n",
       "      <td>India</td>\n",
       "      <td>329323</td>\n",
       "    </tr>\n",
       "    <tr>\n",
       "      <th>23</th>\n",
       "      <td>Brazil</td>\n",
       "      <td>84099</td>\n",
       "    </tr>\n",
       "    <tr>\n",
       "      <th>66</th>\n",
       "      <td>Germany</td>\n",
       "      <td>43430</td>\n",
       "    </tr>\n",
       "    <tr>\n",
       "      <th>177</th>\n",
       "      <td>Turkey</td>\n",
       "      <td>35464</td>\n",
       "    </tr>\n",
       "    <tr>\n",
       "      <th>37</th>\n",
       "      <td>Colombia</td>\n",
       "      <td>17183</td>\n",
       "    </tr>\n",
       "  </tbody>\n",
       "</table>\n",
       "</div>"
      ],
      "text/plain": [
       "      country  TotalNewCases\n",
       "79      India         329323\n",
       "23     Brazil          84099\n",
       "66    Germany          43430\n",
       "177    Turkey          35464\n",
       "37   Colombia          17183"
      ]
     },
     "execution_count": 28,
     "metadata": {},
     "output_type": "execute_result"
    }
   ],
   "source": [
    "# Aggregating the recovered new cases against each country\n",
    "country_recovered_newcases = recovered_df.groupby(\"country\")['NewCases'].sum().reset_index(name ='TotalNewCases')\n",
    "country_recovered_newcases = country_recovered_newcases.sort_values(by='TotalNewCases', ascending=False)\n",
    "country_recovered_newcases.head(5)"
   ]
  },
  {
   "cell_type": "code",
   "execution_count": 29,
   "metadata": {
    "scrolled": false
   },
   "outputs": [
    {
     "data": {
      "application/vnd.jupyter.widget-view+json": {
       "model_id": "23760a21d0dd4ed48e55e1ae492b3351",
       "version_major": 2,
       "version_minor": 0
      },
      "text/plain": [
       "interactive(children=(IntSlider(value=10, description='n', max=30, min=-10), Output()), _dom_classes=('widget-…"
      ]
     },
     "metadata": {},
     "output_type": "display_data"
    }
   ],
   "source": [
    "# Visualizing the recovered new cases against each country using plotly\n",
    "def bubble_chart(n):\n",
    "    fig = px.scatter(country_recovered_newcases.head(n), x=\"country\", y=\"TotalNewCases\", size=\"TotalNewCases\", color=\"country\",\n",
    "               hover_name=\"country\", size_max=60)\n",
    "    fig.update_layout(\n",
    "    title=str(n) +\" countries with highest number of new recovered cases. <br> (Last updated on \"+(recovered_df.columns)[-1]+\")\",\n",
    "    xaxis_title=\"Countries\",\n",
    "    yaxis_title=\"New Recovered Cases\",\n",
    "    width = 900\n",
    "    )\n",
    "    fig.show();\n",
    "\n",
    "    \n",
    "interact(bubble_chart, n=10)\n",
    "ipywLayout = widgets.Layout()\n",
    "ipywLayout.display='none'"
   ]
  },
  {
   "cell_type": "markdown",
   "metadata": {},
   "source": [
    " "
   ]
  },
  {
   "cell_type": "markdown",
   "metadata": {},
   "source": [
    "# Data Visualization through Line Charts"
   ]
  },
  {
   "cell_type": "markdown",
   "metadata": {},
   "source": [
    "### Trend of Confirmed Case"
   ]
  },
  {
   "cell_type": "code",
   "execution_count": 30,
   "metadata": {},
   "outputs": [
    {
     "data": {
      "text/html": [
       "<div>\n",
       "<style scoped>\n",
       "    .dataframe tbody tr th:only-of-type {\n",
       "        vertical-align: middle;\n",
       "    }\n",
       "\n",
       "    .dataframe tbody tr th {\n",
       "        vertical-align: top;\n",
       "    }\n",
       "\n",
       "    .dataframe thead th {\n",
       "        text-align: right;\n",
       "    }\n",
       "</style>\n",
       "<table border=\"1\" class=\"dataframe\">\n",
       "  <thead>\n",
       "    <tr style=\"text-align: right;\">\n",
       "      <th></th>\n",
       "      <th>state</th>\n",
       "      <th>country</th>\n",
       "      <th>lat</th>\n",
       "      <th>long</th>\n",
       "      <th>NewCases</th>\n",
       "      <th>1/22/20</th>\n",
       "      <th>1/23/20</th>\n",
       "      <th>1/24/20</th>\n",
       "      <th>1/25/20</th>\n",
       "      <th>1/26/20</th>\n",
       "      <th>...</th>\n",
       "      <th>4/26/21</th>\n",
       "      <th>4/27/21</th>\n",
       "      <th>4/28/21</th>\n",
       "      <th>4/29/21</th>\n",
       "      <th>4/30/21</th>\n",
       "      <th>5/1/21</th>\n",
       "      <th>5/2/21</th>\n",
       "      <th>5/3/21</th>\n",
       "      <th>5/4/21</th>\n",
       "      <th>5/5/21</th>\n",
       "    </tr>\n",
       "  </thead>\n",
       "  <tbody>\n",
       "    <tr>\n",
       "      <th>0</th>\n",
       "      <td>NaN</td>\n",
       "      <td>Afghanistan</td>\n",
       "      <td>33.93911</td>\n",
       "      <td>67.709953</td>\n",
       "      <td>234</td>\n",
       "      <td>0</td>\n",
       "      <td>0</td>\n",
       "      <td>0</td>\n",
       "      <td>0</td>\n",
       "      <td>0</td>\n",
       "      <td>...</td>\n",
       "      <td>59015</td>\n",
       "      <td>59225</td>\n",
       "      <td>59370</td>\n",
       "      <td>59576</td>\n",
       "      <td>59745</td>\n",
       "      <td>59939</td>\n",
       "      <td>60122</td>\n",
       "      <td>60300</td>\n",
       "      <td>60563</td>\n",
       "      <td>60797</td>\n",
       "    </tr>\n",
       "    <tr>\n",
       "      <th>1</th>\n",
       "      <td>NaN</td>\n",
       "      <td>Albania</td>\n",
       "      <td>41.15330</td>\n",
       "      <td>20.168300</td>\n",
       "      <td>92</td>\n",
       "      <td>0</td>\n",
       "      <td>0</td>\n",
       "      <td>0</td>\n",
       "      <td>0</td>\n",
       "      <td>0</td>\n",
       "      <td>...</td>\n",
       "      <td>130606</td>\n",
       "      <td>130736</td>\n",
       "      <td>130859</td>\n",
       "      <td>130977</td>\n",
       "      <td>131085</td>\n",
       "      <td>131185</td>\n",
       "      <td>131238</td>\n",
       "      <td>131276</td>\n",
       "      <td>131327</td>\n",
       "      <td>131419</td>\n",
       "    </tr>\n",
       "    <tr>\n",
       "      <th>2</th>\n",
       "      <td>NaN</td>\n",
       "      <td>Algeria</td>\n",
       "      <td>28.03390</td>\n",
       "      <td>1.659600</td>\n",
       "      <td>273</td>\n",
       "      <td>0</td>\n",
       "      <td>0</td>\n",
       "      <td>0</td>\n",
       "      <td>0</td>\n",
       "      <td>0</td>\n",
       "      <td>...</td>\n",
       "      <td>121112</td>\n",
       "      <td>121344</td>\n",
       "      <td>121580</td>\n",
       "      <td>121866</td>\n",
       "      <td>122108</td>\n",
       "      <td>122311</td>\n",
       "      <td>122522</td>\n",
       "      <td>122717</td>\n",
       "      <td>122999</td>\n",
       "      <td>123272</td>\n",
       "    </tr>\n",
       "    <tr>\n",
       "      <th>3</th>\n",
       "      <td>NaN</td>\n",
       "      <td>Andorra</td>\n",
       "      <td>42.50630</td>\n",
       "      <td>1.521800</td>\n",
       "      <td>24</td>\n",
       "      <td>0</td>\n",
       "      <td>0</td>\n",
       "      <td>0</td>\n",
       "      <td>0</td>\n",
       "      <td>0</td>\n",
       "      <td>...</td>\n",
       "      <td>13083</td>\n",
       "      <td>13121</td>\n",
       "      <td>13148</td>\n",
       "      <td>13198</td>\n",
       "      <td>13232</td>\n",
       "      <td>13232</td>\n",
       "      <td>13282</td>\n",
       "      <td>13295</td>\n",
       "      <td>13316</td>\n",
       "      <td>13340</td>\n",
       "    </tr>\n",
       "    <tr>\n",
       "      <th>4</th>\n",
       "      <td>NaN</td>\n",
       "      <td>Angola</td>\n",
       "      <td>-11.20270</td>\n",
       "      <td>17.873900</td>\n",
       "      <td>245</td>\n",
       "      <td>0</td>\n",
       "      <td>0</td>\n",
       "      <td>0</td>\n",
       "      <td>0</td>\n",
       "      <td>0</td>\n",
       "      <td>...</td>\n",
       "      <td>25710</td>\n",
       "      <td>25942</td>\n",
       "      <td>26168</td>\n",
       "      <td>26431</td>\n",
       "      <td>26652</td>\n",
       "      <td>26815</td>\n",
       "      <td>26993</td>\n",
       "      <td>27133</td>\n",
       "      <td>27284</td>\n",
       "      <td>27529</td>\n",
       "    </tr>\n",
       "  </tbody>\n",
       "</table>\n",
       "<p>5 rows × 475 columns</p>\n",
       "</div>"
      ],
      "text/plain": [
       "  state      country       lat       long  NewCases  1/22/20  1/23/20  \\\n",
       "0   NaN  Afghanistan  33.93911  67.709953       234        0        0   \n",
       "1   NaN      Albania  41.15330  20.168300        92        0        0   \n",
       "2   NaN      Algeria  28.03390   1.659600       273        0        0   \n",
       "3   NaN      Andorra  42.50630   1.521800        24        0        0   \n",
       "4   NaN       Angola -11.20270  17.873900       245        0        0   \n",
       "\n",
       "   1/24/20  1/25/20  1/26/20  ...  4/26/21  4/27/21  4/28/21  4/29/21  \\\n",
       "0        0        0        0  ...    59015    59225    59370    59576   \n",
       "1        0        0        0  ...   130606   130736   130859   130977   \n",
       "2        0        0        0  ...   121112   121344   121580   121866   \n",
       "3        0        0        0  ...    13083    13121    13148    13198   \n",
       "4        0        0        0  ...    25710    25942    26168    26431   \n",
       "\n",
       "   4/30/21  5/1/21  5/2/21  5/3/21  5/4/21  5/5/21  \n",
       "0    59745   59939   60122   60300   60563   60797  \n",
       "1   131085  131185  131238  131276  131327  131419  \n",
       "2   122108  122311  122522  122717  122999  123272  \n",
       "3    13232   13232   13282   13295   13316   13340  \n",
       "4    26652   26815   26993   27133   27284   27529  \n",
       "\n",
       "[5 rows x 475 columns]"
      ]
     },
     "execution_count": 30,
     "metadata": {},
     "output_type": "execute_result"
    }
   ],
   "source": [
    "confirmed_df.head()"
   ]
  },
  {
   "cell_type": "code",
   "execution_count": 31,
   "metadata": {},
   "outputs": [
    {
     "data": {
      "text/plain": [
       "1/22/20           0\n",
       "1/23/20           0\n",
       "1/24/20           0\n",
       "1/25/20           0\n",
       "1/26/20           0\n",
       "             ...   \n",
       "5/1/21     19557457\n",
       "5/2/21     19925517\n",
       "5/3/21     20282833\n",
       "5/4/21     20664979\n",
       "5/5/21     21077410\n",
       "Length: 470, dtype: int64"
      ]
     },
     "execution_count": 31,
     "metadata": {},
     "output_type": "execute_result"
    }
   ],
   "source": [
    "# Just to visualize the spread of data for a country\n",
    "confirmed_df[confirmed_df['country'] == 'India'].iloc[:,5:].sum(axis=0)"
   ]
  },
  {
   "cell_type": "code",
   "execution_count": 32,
   "metadata": {},
   "outputs": [
    {
     "data": {
      "application/vnd.jupyter.widget-view+json": {
       "model_id": "a3c4bfa80cd24f7180b3ace913c2c517",
       "version_major": 2,
       "version_minor": 0
      },
      "text/plain": [
       "interactive(children=(Text(value='India', description='name'), Output()), _dom_classes=('widget-interact',))"
      ]
     },
     "metadata": {},
     "output_type": "display_data"
    }
   ],
   "source": [
    "# Visualizing the trend of confirmed cases over time using Plotly\n",
    "def confirmedCases_trend(name):\n",
    "    x_data = confirmed_df.iloc[:, 5:].columns\n",
    "    y_data = confirmed_df[confirmed_df['country'] == name].iloc[:,5:].sum(axis=0)\n",
    "    \n",
    "    fig = go.Figure()\n",
    "    fig.add_trace(go.Scatter(x=x_data, y=y_data,\n",
    "                    mode='markers',\n",
    "                    name='markers'))\n",
    "\n",
    "    fig.update_layout(\n",
    "        title=str(name) +\"'s trend on confirmed casess. <br> (Last updated on \"+(confirmed_df.columns)[-1]+\")\",\n",
    "        xaxis_title=\"Date\",\n",
    "        yaxis_title=\"Confirmed Cases\",\n",
    "        width = 800\n",
    "        )\n",
    "\n",
    "    fig.show()\n",
    "    \n",
    "    \n",
    "\n",
    "interact(confirmedCases_trend, name='India')\n",
    "ipywLayout = widgets.Layout()\n",
    "ipywLayout.display='none'"
   ]
  },
  {
   "cell_type": "markdown",
   "metadata": {},
   "source": [
    "### Trend of Death Cases"
   ]
  },
  {
   "cell_type": "code",
   "execution_count": 33,
   "metadata": {},
   "outputs": [
    {
     "data": {
      "application/vnd.jupyter.widget-view+json": {
       "model_id": "23e4204e12134e139ee40c36539d8bcc",
       "version_major": 2,
       "version_minor": 0
      },
      "text/plain": [
       "interactive(children=(Text(value='India', description='name'), Output()), _dom_classes=('widget-interact',))"
      ]
     },
     "metadata": {},
     "output_type": "display_data"
    }
   ],
   "source": [
    "# Visualizing the trend of death cases over time using Plotly\n",
    "def deathCases_trend(name):\n",
    "    x_data = death_df.iloc[:, 5:].columns\n",
    "    y_data = death_df[death_df['country'] == name].iloc[:,5:].sum(axis=0)\n",
    "    \n",
    "    fig = go.Figure()\n",
    "    fig.add_trace(go.Scatter(x=x_data, y=y_data,\n",
    "                    mode='markers',\n",
    "                    name='markers'))\n",
    "\n",
    "    fig.update_layout(\n",
    "        title=str(name) +\"'s trend on death cases. <br> (Last updated on \"+(death_df.columns)[-1]+\")\",\n",
    "        xaxis_title=\"Date\",\n",
    "        yaxis_title=\"Death Cases\",\n",
    "        width = 800\n",
    "        )\n",
    "\n",
    "    fig.show()\n",
    "    \n",
    "\n",
    "interact(deathCases_trend, name='India')\n",
    "ipywLayout = widgets.Layout()\n",
    "ipywLayout.display='none'"
   ]
  },
  {
   "cell_type": "markdown",
   "metadata": {},
   "source": [
    "### Trend of Recovered Case"
   ]
  },
  {
   "cell_type": "code",
   "execution_count": 34,
   "metadata": {},
   "outputs": [
    {
     "data": {
      "application/vnd.jupyter.widget-view+json": {
       "model_id": "0509326e6aea47ac84fc3ec6f5e33bc5",
       "version_major": 2,
       "version_minor": 0
      },
      "text/plain": [
       "interactive(children=(Text(value='India', description='name'), Output()), _dom_classes=('widget-interact',))"
      ]
     },
     "metadata": {},
     "output_type": "display_data"
    }
   ],
   "source": [
    "# Visualizing the trend of recovered cases over time using Plotly\n",
    "def recoveredCases_trend(name):\n",
    "    x_data = recovered_df.iloc[:, 5:].columns\n",
    "    y_data = recovered_df[recovered_df['country'] == name].iloc[:,5:].sum(axis=0)\n",
    "    \n",
    "    fig = go.Figure()\n",
    "    fig.add_trace(go.Scatter(x=x_data, y=y_data,\n",
    "                    mode='markers',\n",
    "                    name='markers'))\n",
    "\n",
    "    fig.update_layout(\n",
    "        title=str(name) +\"'s trend on recovered casess. <br> (Last updated on \"+(recovered_df.columns)[-1]+\")\",\n",
    "        xaxis_title=\"Date\",\n",
    "        yaxis_title=\"Recovered Cases\",\n",
    "        width = 800\n",
    "        )\n",
    "\n",
    "    fig.show()\n",
    "    \n",
    "    \n",
    "interact(recoveredCases_trend, name='India')\n",
    "ipywLayout = widgets.Layout()\n",
    "ipywLayout.display='none'"
   ]
  },
  {
   "cell_type": "markdown",
   "metadata": {},
   "source": [
    " "
   ]
  },
  {
   "cell_type": "markdown",
   "metadata": {},
   "source": [
    "# Interactive Table Chart"
   ]
  },
  {
   "cell_type": "markdown",
   "metadata": {},
   "source": [
    "### COVID-19 Confirmed/Death/Recovered/Active cases - Sorted by Confirmed Cases in Descending order"
   ]
  },
  {
   "cell_type": "code",
   "execution_count": 35,
   "metadata": {},
   "outputs": [
    {
     "data": {
      "application/vnd.jupyter.widget-view+json": {
       "model_id": "73896b77c968415fab3820826b24e86e",
       "version_major": 2,
       "version_minor": 0
      },
      "text/plain": [
       "interactive(children=(Text(value='10', description='n'), Output()), _dom_classes=('widget-interact',))"
      ]
     },
     "metadata": {},
     "output_type": "display_data"
    }
   ],
   "source": [
    "# Printing the top n countries sorted by Confirmed Cases in Descending order\n",
    "def show_latest_cases(n):\n",
    "    n = int(n)\n",
    "    df1 = country_df[['country','last_update','confirmed','deaths','recovered','active','incident_rate','mortality_rate']]\n",
    "    df1 = df1.sort_values(by ='confirmed', ascending=False)\n",
    "    return df1.head(n)\n",
    "\n",
    "\n",
    "interact(show_latest_cases, n='10')\n",
    "ipywLayout = widgets.Layout()\n",
    "ipywLayout.display='none'"
   ]
  },
  {
   "cell_type": "markdown",
   "metadata": {},
   "source": [
    "### COVID-19 Confirmed/Death/Recovered/Active cases - Country specific"
   ]
  },
  {
   "cell_type": "code",
   "execution_count": 36,
   "metadata": {},
   "outputs": [
    {
     "data": {
      "application/vnd.jupyter.widget-view+json": {
       "model_id": "a6655b58e0ac468284a7a4642f8f6174",
       "version_major": 2,
       "version_minor": 0
      },
      "text/plain": [
       "interactive(children=(Text(value='India', description='name'), Output()), _dom_classes=('widget-interact',))"
      ]
     },
     "metadata": {},
     "output_type": "display_data"
    }
   ],
   "source": [
    "# Country specific search to see the count details\n",
    "def country_specific(name):\n",
    "    df1 = country_df[['country','last_update','confirmed','deaths','recovered','active','incident_rate','mortality_rate']]\n",
    "    country_specific = df1.loc[df1['country'] == name]\n",
    "    return country_specific\n",
    "\n",
    "\n",
    "interact(country_specific, name='India')\n",
    "ipywLayout = widgets.Layout()\n",
    "ipywLayout.display='none'"
   ]
  },
  {
   "cell_type": "markdown",
   "metadata": {},
   "source": [
    "# Data Visualization through Bar Charts"
   ]
  },
  {
   "cell_type": "markdown",
   "metadata": {},
   "source": [
    "### Worst Hit Countries - Confirmed Cases"
   ]
  },
  {
   "cell_type": "code",
   "execution_count": 37,
   "metadata": {},
   "outputs": [
    {
     "data": {
      "text/html": [
       "<div>\n",
       "<style scoped>\n",
       "    .dataframe tbody tr th:only-of-type {\n",
       "        vertical-align: middle;\n",
       "    }\n",
       "\n",
       "    .dataframe tbody tr th {\n",
       "        vertical-align: top;\n",
       "    }\n",
       "\n",
       "    .dataframe thead th {\n",
       "        text-align: right;\n",
       "    }\n",
       "</style>\n",
       "<table border=\"1\" class=\"dataframe\">\n",
       "  <thead>\n",
       "    <tr style=\"text-align: right;\">\n",
       "      <th></th>\n",
       "      <th>country</th>\n",
       "      <th>last_update</th>\n",
       "      <th>lat</th>\n",
       "      <th>long_</th>\n",
       "      <th>confirmed</th>\n",
       "      <th>deaths</th>\n",
       "      <th>recovered</th>\n",
       "      <th>active</th>\n",
       "      <th>incident_rate</th>\n",
       "      <th>people_tested</th>\n",
       "      <th>people_hospitalized</th>\n",
       "      <th>mortality_rate</th>\n",
       "      <th>uid</th>\n",
       "      <th>iso3</th>\n",
       "    </tr>\n",
       "  </thead>\n",
       "  <tbody>\n",
       "    <tr>\n",
       "      <th>0</th>\n",
       "      <td>Afghanistan</td>\n",
       "      <td>2021-05-07 02:20:49</td>\n",
       "      <td>33.93911</td>\n",
       "      <td>67.709953</td>\n",
       "      <td>61162.0</td>\n",
       "      <td>2664.0</td>\n",
       "      <td>53961.0</td>\n",
       "      <td>4537.0</td>\n",
       "      <td>157.114324</td>\n",
       "      <td>NaN</td>\n",
       "      <td>NaN</td>\n",
       "      <td>4.355646</td>\n",
       "      <td>4</td>\n",
       "      <td>AFG</td>\n",
       "    </tr>\n",
       "    <tr>\n",
       "      <th>1</th>\n",
       "      <td>Albania</td>\n",
       "      <td>2021-05-07 02:20:49</td>\n",
       "      <td>41.15330</td>\n",
       "      <td>20.168300</td>\n",
       "      <td>131510.0</td>\n",
       "      <td>2406.0</td>\n",
       "      <td>114362.0</td>\n",
       "      <td>14742.0</td>\n",
       "      <td>4569.810272</td>\n",
       "      <td>NaN</td>\n",
       "      <td>NaN</td>\n",
       "      <td>1.829519</td>\n",
       "      <td>8</td>\n",
       "      <td>ALB</td>\n",
       "    </tr>\n",
       "    <tr>\n",
       "      <th>2</th>\n",
       "      <td>Algeria</td>\n",
       "      <td>2021-05-07 02:20:49</td>\n",
       "      <td>28.03390</td>\n",
       "      <td>1.659600</td>\n",
       "      <td>123473.0</td>\n",
       "      <td>3307.0</td>\n",
       "      <td>86007.0</td>\n",
       "      <td>34159.0</td>\n",
       "      <td>281.573690</td>\n",
       "      <td>NaN</td>\n",
       "      <td>NaN</td>\n",
       "      <td>2.678318</td>\n",
       "      <td>12</td>\n",
       "      <td>DZA</td>\n",
       "    </tr>\n",
       "    <tr>\n",
       "      <th>3</th>\n",
       "      <td>Andorra</td>\n",
       "      <td>2021-05-07 02:20:49</td>\n",
       "      <td>42.50630</td>\n",
       "      <td>1.521800</td>\n",
       "      <td>13363.0</td>\n",
       "      <td>127.0</td>\n",
       "      <td>12900.0</td>\n",
       "      <td>336.0</td>\n",
       "      <td>17295.023620</td>\n",
       "      <td>NaN</td>\n",
       "      <td>NaN</td>\n",
       "      <td>0.950385</td>\n",
       "      <td>20</td>\n",
       "      <td>AND</td>\n",
       "    </tr>\n",
       "    <tr>\n",
       "      <th>4</th>\n",
       "      <td>Angola</td>\n",
       "      <td>2021-05-07 02:20:49</td>\n",
       "      <td>-11.20270</td>\n",
       "      <td>17.873900</td>\n",
       "      <td>27921.0</td>\n",
       "      <td>622.0</td>\n",
       "      <td>24503.0</td>\n",
       "      <td>2796.0</td>\n",
       "      <td>84.953363</td>\n",
       "      <td>NaN</td>\n",
       "      <td>NaN</td>\n",
       "      <td>2.227714</td>\n",
       "      <td>24</td>\n",
       "      <td>AGO</td>\n",
       "    </tr>\n",
       "  </tbody>\n",
       "</table>\n",
       "</div>"
      ],
      "text/plain": [
       "       country          last_update       lat      long_  confirmed  deaths  \\\n",
       "0  Afghanistan  2021-05-07 02:20:49  33.93911  67.709953    61162.0  2664.0   \n",
       "1      Albania  2021-05-07 02:20:49  41.15330  20.168300   131510.0  2406.0   \n",
       "2      Algeria  2021-05-07 02:20:49  28.03390   1.659600   123473.0  3307.0   \n",
       "3      Andorra  2021-05-07 02:20:49  42.50630   1.521800    13363.0   127.0   \n",
       "4       Angola  2021-05-07 02:20:49 -11.20270  17.873900    27921.0   622.0   \n",
       "\n",
       "   recovered   active  incident_rate  people_tested  people_hospitalized  \\\n",
       "0    53961.0   4537.0     157.114324            NaN                  NaN   \n",
       "1   114362.0  14742.0    4569.810272            NaN                  NaN   \n",
       "2    86007.0  34159.0     281.573690            NaN                  NaN   \n",
       "3    12900.0    336.0   17295.023620            NaN                  NaN   \n",
       "4    24503.0   2796.0      84.953363            NaN                  NaN   \n",
       "\n",
       "   mortality_rate  uid iso3  \n",
       "0        4.355646    4  AFG  \n",
       "1        1.829519    8  ALB  \n",
       "2        2.678318   12  DZA  \n",
       "3        0.950385   20  AND  \n",
       "4        2.227714   24  AGO  "
      ]
     },
     "execution_count": 37,
     "metadata": {},
     "output_type": "execute_result"
    }
   ],
   "source": [
    "country_df.head()"
   ]
  },
  {
   "cell_type": "code",
   "execution_count": 38,
   "metadata": {},
   "outputs": [
    {
     "data": {
      "application/vnd.jupyter.widget-view+json": {
       "model_id": "b211b6bc8bc940c5a8d6f1de154cbc7b",
       "version_major": 2,
       "version_minor": 0
      },
      "text/plain": [
       "interactive(children=(IntSlider(value=10, description='n', max=30, min=-10), Output()), _dom_classes=('widget-…"
      ]
     },
     "metadata": {},
     "output_type": "display_data"
    }
   ],
   "source": [
    "# Visualizing the top n countries with respect to confirmed cases using Plotly\n",
    "def confirmedCases_bar_chart(n):\n",
    "    df1 = country_df.sort_values(by ='confirmed', ascending=False)\n",
    "    fig = px.bar(df1.head(n), x=\"country\", y=\"confirmed\")\n",
    "    \n",
    "    fig.update_layout(\n",
    "    title=str(n) +\" countries with highest number of confirmed cases. <br> (Last updated on \"+ df1.last_update[1] +\")\",\n",
    "    xaxis_title=\"Countries\",\n",
    "    yaxis_title=\"Confirmed Cases\",\n",
    "    width = 800\n",
    "    )\n",
    "    \n",
    "    fig.show();\n",
    "\n",
    "    \n",
    "interact(confirmedCases_bar_chart, n=10)\n",
    "ipywLayout = widgets.Layout()\n",
    "ipywLayout.display='none'"
   ]
  },
  {
   "cell_type": "markdown",
   "metadata": {},
   "source": [
    "### Worst Hit Countries - Death Cases"
   ]
  },
  {
   "cell_type": "code",
   "execution_count": 39,
   "metadata": {},
   "outputs": [
    {
     "data": {
      "application/vnd.jupyter.widget-view+json": {
       "model_id": "7ba102d1aba34080a546fcb6f2cd2218",
       "version_major": 2,
       "version_minor": 0
      },
      "text/plain": [
       "interactive(children=(IntSlider(value=10, description='n', max=30, min=-10), Output()), _dom_classes=('widget-…"
      ]
     },
     "metadata": {},
     "output_type": "display_data"
    }
   ],
   "source": [
    "# Visualizing the top n countries with respect to death cases using Plotly\n",
    "def deathCases_bar_chart(n):\n",
    "    df1 = country_df.sort_values(by ='deaths', ascending=False)\n",
    "    fig = px.bar(df1.head(n), x=\"country\", y=\"deaths\")\n",
    "    \n",
    "    fig.update_layout(\n",
    "    title=str(n) +\" countries with highest number of death cases. <br> (Last updated on \"+ df1.last_update[1] +\")\",\n",
    "    xaxis_title=\"Countries\",\n",
    "    yaxis_title=\"Death Cases\",\n",
    "    width = 800\n",
    "    )\n",
    "    \n",
    "    fig.show();\n",
    "\n",
    "    \n",
    "interact(deathCases_bar_chart, n=10)\n",
    "ipywLayout = widgets.Layout()\n",
    "ipywLayout.display='none'"
   ]
  },
  {
   "cell_type": "markdown",
   "metadata": {},
   "source": [
    "### Countries - Recovered Cases"
   ]
  },
  {
   "cell_type": "code",
   "execution_count": 40,
   "metadata": {},
   "outputs": [
    {
     "data": {
      "application/vnd.jupyter.widget-view+json": {
       "model_id": "9347d57b6a7b45f7800db7f2c062bd6b",
       "version_major": 2,
       "version_minor": 0
      },
      "text/plain": [
       "interactive(children=(IntSlider(value=10, description='n', max=30, min=-10), Output()), _dom_classes=('widget-…"
      ]
     },
     "metadata": {},
     "output_type": "display_data"
    }
   ],
   "source": [
    "# Visualizing the top n countries with respect to recovered cases using Plotly\n",
    "def recoveredCases_bar_chart(n):\n",
    "    df1 = country_df.sort_values(by ='recovered', ascending=False)\n",
    "    fig = px.bar(df1.head(n), x=\"country\", y=\"recovered\")\n",
    "    \n",
    "    fig.update_layout(\n",
    "    title=str(n) +\" countries with highest number of recovered cases. <br> (Last updated on \"+ df1.last_update[1] +\")\",\n",
    "    xaxis_title=\"Countries\",\n",
    "    yaxis_title=\"Recovered Cases\",\n",
    "    width = 800\n",
    "    )\n",
    "    \n",
    "    fig.show();\n",
    "\n",
    "    \n",
    "interact(recoveredCases_bar_chart, n=10)\n",
    "ipywLayout = widgets.Layout()\n",
    "ipywLayout.display='none'"
   ]
  },
  {
   "cell_type": "markdown",
   "metadata": {},
   "source": [
    "### Countries - Active Cases"
   ]
  },
  {
   "cell_type": "code",
   "execution_count": 41,
   "metadata": {
    "scrolled": false
   },
   "outputs": [
    {
     "data": {
      "application/vnd.jupyter.widget-view+json": {
       "model_id": "4cd71f886678411db36ec4f1a28e523d",
       "version_major": 2,
       "version_minor": 0
      },
      "text/plain": [
       "interactive(children=(IntSlider(value=10, description='n', max=30, min=-10), Output()), _dom_classes=('widget-…"
      ]
     },
     "metadata": {},
     "output_type": "display_data"
    }
   ],
   "source": [
    "# Visualizing the top n countries with respect to active cases using Plotly\n",
    "def activeCases_bar_chart(n):\n",
    "    df1 = country_df.sort_values(by ='active', ascending=False)\n",
    "    fig = px.bar(df1.head(n), x=\"country\", y=\"recovered\")\n",
    "    \n",
    "    fig.update_layout(\n",
    "    title=str(n) +\" countries with highest number of active cases. <br> (Last updated on \"+ df1.last_update[1] +\")\",\n",
    "    xaxis_title=\"Countries\",\n",
    "    yaxis_title=\"Active Cases\",\n",
    "    width = 800\n",
    "    )\n",
    "    \n",
    "    fig.show();\n",
    "\n",
    "    \n",
    "interact(recoveredCases_bar_chart, n=10)\n",
    "ipywLayout = widgets.Layout()\n",
    "ipywLayout.display='none'"
   ]
  },
  {
   "cell_type": "markdown",
   "metadata": {},
   "source": [
    "# Data Visualization on Maps"
   ]
  },
  {
   "cell_type": "markdown",
   "metadata": {},
   "source": [
    "### Global spread of COVID-19 using Folium"
   ]
  },
  {
   "cell_type": "code",
   "execution_count": 42,
   "metadata": {
    "scrolled": true
   },
   "outputs": [
    {
     "data": {
      "text/html": [
       "<div>\n",
       "<style scoped>\n",
       "    .dataframe tbody tr th:only-of-type {\n",
       "        vertical-align: middle;\n",
       "    }\n",
       "\n",
       "    .dataframe tbody tr th {\n",
       "        vertical-align: top;\n",
       "    }\n",
       "\n",
       "    .dataframe thead th {\n",
       "        text-align: right;\n",
       "    }\n",
       "</style>\n",
       "<table border=\"1\" class=\"dataframe\">\n",
       "  <thead>\n",
       "    <tr style=\"text-align: right;\">\n",
       "      <th></th>\n",
       "      <th>state</th>\n",
       "      <th>country</th>\n",
       "      <th>lat</th>\n",
       "      <th>long</th>\n",
       "      <th>NewCases</th>\n",
       "      <th>1/22/20</th>\n",
       "      <th>1/23/20</th>\n",
       "      <th>1/24/20</th>\n",
       "      <th>1/25/20</th>\n",
       "      <th>1/26/20</th>\n",
       "      <th>...</th>\n",
       "      <th>4/26/21</th>\n",
       "      <th>4/27/21</th>\n",
       "      <th>4/28/21</th>\n",
       "      <th>4/29/21</th>\n",
       "      <th>4/30/21</th>\n",
       "      <th>5/1/21</th>\n",
       "      <th>5/2/21</th>\n",
       "      <th>5/3/21</th>\n",
       "      <th>5/4/21</th>\n",
       "      <th>5/5/21</th>\n",
       "    </tr>\n",
       "  </thead>\n",
       "  <tbody>\n",
       "    <tr>\n",
       "      <th>52</th>\n",
       "      <td>Repatriated Travellers</td>\n",
       "      <td>Canada</td>\n",
       "      <td>NaN</td>\n",
       "      <td>NaN</td>\n",
       "      <td>0</td>\n",
       "      <td>0</td>\n",
       "      <td>0</td>\n",
       "      <td>0</td>\n",
       "      <td>0</td>\n",
       "      <td>0</td>\n",
       "      <td>...</td>\n",
       "      <td>13</td>\n",
       "      <td>13</td>\n",
       "      <td>13</td>\n",
       "      <td>13</td>\n",
       "      <td>13</td>\n",
       "      <td>13</td>\n",
       "      <td>13</td>\n",
       "      <td>13</td>\n",
       "      <td>13</td>\n",
       "      <td>13</td>\n",
       "    </tr>\n",
       "    <tr>\n",
       "      <th>88</th>\n",
       "      <td>Unknown</td>\n",
       "      <td>China</td>\n",
       "      <td>NaN</td>\n",
       "      <td>NaN</td>\n",
       "      <td>0</td>\n",
       "      <td>0</td>\n",
       "      <td>0</td>\n",
       "      <td>0</td>\n",
       "      <td>0</td>\n",
       "      <td>0</td>\n",
       "      <td>...</td>\n",
       "      <td>0</td>\n",
       "      <td>0</td>\n",
       "      <td>0</td>\n",
       "      <td>0</td>\n",
       "      <td>0</td>\n",
       "      <td>0</td>\n",
       "      <td>0</td>\n",
       "      <td>0</td>\n",
       "      <td>0</td>\n",
       "      <td>0</td>\n",
       "    </tr>\n",
       "  </tbody>\n",
       "</table>\n",
       "<p>2 rows × 475 columns</p>\n",
       "</div>"
      ],
      "text/plain": [
       "                     state country  lat  long  NewCases  1/22/20  1/23/20  \\\n",
       "52  Repatriated Travellers  Canada  NaN   NaN         0        0        0   \n",
       "88                 Unknown   China  NaN   NaN         0        0        0   \n",
       "\n",
       "    1/24/20  1/25/20  1/26/20  ...  4/26/21  4/27/21  4/28/21  4/29/21  \\\n",
       "52        0        0        0  ...       13       13       13       13   \n",
       "88        0        0        0  ...        0        0        0        0   \n",
       "\n",
       "    4/30/21  5/1/21  5/2/21  5/3/21  5/4/21  5/5/21  \n",
       "52       13      13      13      13      13      13  \n",
       "88        0       0       0       0       0       0  \n",
       "\n",
       "[2 rows x 475 columns]"
      ]
     },
     "execution_count": 42,
     "metadata": {},
     "output_type": "execute_result"
    }
   ],
   "source": [
    "# Checking number of null in lat\n",
    "confirmed_df[confirmed_df['lat'].isnull()]"
   ]
  },
  {
   "cell_type": "code",
   "execution_count": 43,
   "metadata": {},
   "outputs": [
    {
     "data": {
      "text/html": [
       "<div>\n",
       "<style scoped>\n",
       "    .dataframe tbody tr th:only-of-type {\n",
       "        vertical-align: middle;\n",
       "    }\n",
       "\n",
       "    .dataframe tbody tr th {\n",
       "        vertical-align: top;\n",
       "    }\n",
       "\n",
       "    .dataframe thead th {\n",
       "        text-align: right;\n",
       "    }\n",
       "</style>\n",
       "<table border=\"1\" class=\"dataframe\">\n",
       "  <thead>\n",
       "    <tr style=\"text-align: right;\">\n",
       "      <th></th>\n",
       "      <th>state</th>\n",
       "      <th>country</th>\n",
       "      <th>lat</th>\n",
       "      <th>long</th>\n",
       "      <th>NewCases</th>\n",
       "      <th>1/22/20</th>\n",
       "      <th>1/23/20</th>\n",
       "      <th>1/24/20</th>\n",
       "      <th>1/25/20</th>\n",
       "      <th>1/26/20</th>\n",
       "      <th>...</th>\n",
       "      <th>4/26/21</th>\n",
       "      <th>4/27/21</th>\n",
       "      <th>4/28/21</th>\n",
       "      <th>4/29/21</th>\n",
       "      <th>4/30/21</th>\n",
       "      <th>5/1/21</th>\n",
       "      <th>5/2/21</th>\n",
       "      <th>5/3/21</th>\n",
       "      <th>5/4/21</th>\n",
       "      <th>5/5/21</th>\n",
       "    </tr>\n",
       "  </thead>\n",
       "  <tbody>\n",
       "    <tr>\n",
       "      <th>52</th>\n",
       "      <td>Repatriated Travellers</td>\n",
       "      <td>Canada</td>\n",
       "      <td>NaN</td>\n",
       "      <td>NaN</td>\n",
       "      <td>0</td>\n",
       "      <td>0</td>\n",
       "      <td>0</td>\n",
       "      <td>0</td>\n",
       "      <td>0</td>\n",
       "      <td>0</td>\n",
       "      <td>...</td>\n",
       "      <td>13</td>\n",
       "      <td>13</td>\n",
       "      <td>13</td>\n",
       "      <td>13</td>\n",
       "      <td>13</td>\n",
       "      <td>13</td>\n",
       "      <td>13</td>\n",
       "      <td>13</td>\n",
       "      <td>13</td>\n",
       "      <td>13</td>\n",
       "    </tr>\n",
       "    <tr>\n",
       "      <th>88</th>\n",
       "      <td>Unknown</td>\n",
       "      <td>China</td>\n",
       "      <td>NaN</td>\n",
       "      <td>NaN</td>\n",
       "      <td>0</td>\n",
       "      <td>0</td>\n",
       "      <td>0</td>\n",
       "      <td>0</td>\n",
       "      <td>0</td>\n",
       "      <td>0</td>\n",
       "      <td>...</td>\n",
       "      <td>0</td>\n",
       "      <td>0</td>\n",
       "      <td>0</td>\n",
       "      <td>0</td>\n",
       "      <td>0</td>\n",
       "      <td>0</td>\n",
       "      <td>0</td>\n",
       "      <td>0</td>\n",
       "      <td>0</td>\n",
       "      <td>0</td>\n",
       "    </tr>\n",
       "  </tbody>\n",
       "</table>\n",
       "<p>2 rows × 475 columns</p>\n",
       "</div>"
      ],
      "text/plain": [
       "                     state country  lat  long  NewCases  1/22/20  1/23/20  \\\n",
       "52  Repatriated Travellers  Canada  NaN   NaN         0        0        0   \n",
       "88                 Unknown   China  NaN   NaN         0        0        0   \n",
       "\n",
       "    1/24/20  1/25/20  1/26/20  ...  4/26/21  4/27/21  4/28/21  4/29/21  \\\n",
       "52        0        0        0  ...       13       13       13       13   \n",
       "88        0        0        0  ...        0        0        0        0   \n",
       "\n",
       "    4/30/21  5/1/21  5/2/21  5/3/21  5/4/21  5/5/21  \n",
       "52       13      13      13      13      13      13  \n",
       "88        0       0       0       0       0       0  \n",
       "\n",
       "[2 rows x 475 columns]"
      ]
     },
     "execution_count": 43,
     "metadata": {},
     "output_type": "execute_result"
    }
   ],
   "source": [
    "# Checking number of null in long\n",
    "confirmed_df[confirmed_df['long'].isnull()]"
   ]
  },
  {
   "cell_type": "code",
   "execution_count": 44,
   "metadata": {},
   "outputs": [],
   "source": [
    "# Removing the null values from confirmed_df\n",
    "confirmed_df = confirmed_df[~confirmed_df['lat'].isnull()]"
   ]
  },
  {
   "cell_type": "code",
   "execution_count": 45,
   "metadata": {
    "scrolled": true
   },
   "outputs": [
    {
     "data": {
      "text/html": [
       "<div style=\"width:100%;\"><div style=\"position:relative;width:100%;height:0;padding-bottom:60%;\"><span style=\"color:#565656\">Make this Notebook Trusted to load map: File -> Trust Notebook</span><iframe src=\"about:blank\" style=\"position:absolute;width:100%;height:100%;left:0;top:0;border:none !important;\" data-html=%3C%21DOCTYPE%20html%3E%0A%3Chead%3E%20%20%20%20%0A%20%20%20%20%3Cmeta%20http-equiv%3D%22content-type%22%20content%3D%22text/html%3B%20charset%3DUTF-8%22%20/%3E%0A%20%20%20%20%0A%20%20%20%20%20%20%20%20%3Cscript%3E%0A%20%20%20%20%20%20%20%20%20%20%20%20L_NO_TOUCH%20%3D%20false%3B%0A%20%20%20%20%20%20%20%20%20%20%20%20L_DISABLE_3D%20%3D%20false%3B%0A%20%20%20%20%20%20%20%20%3C/script%3E%0A%20%20%20%20%0A%20%20%20%20%3Cstyle%3Ehtml%2C%20body%20%7Bwidth%3A%20100%25%3Bheight%3A%20100%25%3Bmargin%3A%200%3Bpadding%3A%200%3B%7D%3C/style%3E%0A%20%20%20%20%3Cstyle%3E%23map%20%7Bposition%3Aabsolute%3Btop%3A0%3Bbottom%3A0%3Bright%3A0%3Bleft%3A0%3B%7D%3C/style%3E%0A%20%20%20%20%3Cscript%20src%3D%22https%3A//cdn.jsdelivr.net/npm/leaflet%401.6.0/dist/leaflet.js%22%3E%3C/script%3E%0A%20%20%20%20%3Cscript%20src%3D%22https%3A//code.jquery.com/jquery-1.12.4.min.js%22%3E%3C/script%3E%0A%20%20%20%20%3Cscript%20src%3D%22https%3A//maxcdn.bootstrapcdn.com/bootstrap/3.2.0/js/bootstrap.min.js%22%3E%3C/script%3E%0A%20%20%20%20%3Cscript%20src%3D%22https%3A//cdnjs.cloudflare.com/ajax/libs/Leaflet.awesome-markers/2.0.2/leaflet.awesome-markers.js%22%3E%3C/script%3E%0A%20%20%20%20%3Clink%20rel%3D%22stylesheet%22%20href%3D%22https%3A//cdn.jsdelivr.net/npm/leaflet%401.6.0/dist/leaflet.css%22/%3E%0A%20%20%20%20%3Clink%20rel%3D%22stylesheet%22%20href%3D%22https%3A//maxcdn.bootstrapcdn.com/bootstrap/3.2.0/css/bootstrap.min.css%22/%3E%0A%20%20%20%20%3Clink%20rel%3D%22stylesheet%22%20href%3D%22https%3A//maxcdn.bootstrapcdn.com/bootstrap/3.2.0/css/bootstrap-theme.min.css%22/%3E%0A%20%20%20%20%3Clink%20rel%3D%22stylesheet%22%20href%3D%22https%3A//maxcdn.bootstrapcdn.com/font-awesome/4.6.3/css/font-awesome.min.css%22/%3E%0A%20%20%20%20%3Clink%20rel%3D%22stylesheet%22%20href%3D%22https%3A//cdnjs.cloudflare.com/ajax/libs/Leaflet.awesome-markers/2.0.2/leaflet.awesome-markers.css%22/%3E%0A%20%20%20%20%3Clink%20rel%3D%22stylesheet%22%20href%3D%22https%3A//cdn.jsdelivr.net/gh/python-visualization/folium/folium/templates/leaflet.awesome.rotate.min.css%22/%3E%0A%20%20%20%20%0A%20%20%20%20%20%20%20%20%20%20%20%20%3Cmeta%20name%3D%22viewport%22%20content%3D%22width%3Ddevice-width%2C%0A%20%20%20%20%20%20%20%20%20%20%20%20%20%20%20%20initial-scale%3D1.0%2C%20maximum-scale%3D1.0%2C%20user-scalable%3Dno%22%20/%3E%0A%20%20%20%20%20%20%20%20%20%20%20%20%3Cstyle%3E%0A%20%20%20%20%20%20%20%20%20%20%20%20%20%20%20%20%23map_a1d00f7722f64a9393b48021895cff65%20%7B%0A%20%20%20%20%20%20%20%20%20%20%20%20%20%20%20%20%20%20%20%20position%3A%20relative%3B%0A%20%20%20%20%20%20%20%20%20%20%20%20%20%20%20%20%20%20%20%20width%3A%20100.0%25%3B%0A%20%20%20%20%20%20%20%20%20%20%20%20%20%20%20%20%20%20%20%20height%3A%20100.0%25%3B%0A%20%20%20%20%20%20%20%20%20%20%20%20%20%20%20%20%20%20%20%20left%3A%200.0%25%3B%0A%20%20%20%20%20%20%20%20%20%20%20%20%20%20%20%20%20%20%20%20top%3A%200.0%25%3B%0A%20%20%20%20%20%20%20%20%20%20%20%20%20%20%20%20%7D%0A%20%20%20%20%20%20%20%20%20%20%20%20%3C/style%3E%0A%20%20%20%20%20%20%20%20%0A%3C/head%3E%0A%3Cbody%3E%20%20%20%20%0A%20%20%20%20%0A%20%20%20%20%20%20%20%20%20%20%20%20%3Cdiv%20class%3D%22folium-map%22%20id%3D%22map_a1d00f7722f64a9393b48021895cff65%22%20%3E%3C/div%3E%0A%20%20%20%20%20%20%20%20%0A%3C/body%3E%0A%3Cscript%3E%20%20%20%20%0A%20%20%20%20%0A%20%20%20%20%20%20%20%20%20%20%20%20var%20map_a1d00f7722f64a9393b48021895cff65%20%3D%20L.map%28%0A%20%20%20%20%20%20%20%20%20%20%20%20%20%20%20%20%22map_a1d00f7722f64a9393b48021895cff65%22%2C%0A%20%20%20%20%20%20%20%20%20%20%20%20%20%20%20%20%7B%0A%20%20%20%20%20%20%20%20%20%20%20%20%20%20%20%20%20%20%20%20center%3A%20%5B11.0%2C%200.0%5D%2C%0A%20%20%20%20%20%20%20%20%20%20%20%20%20%20%20%20%20%20%20%20crs%3A%20L.CRS.EPSG3857%2C%0A%20%20%20%20%20%20%20%20%20%20%20%20%20%20%20%20%20%20%20%20zoom%3A%202%2C%0A%20%20%20%20%20%20%20%20%20%20%20%20%20%20%20%20%20%20%20%20zoomControl%3A%20true%2C%0A%20%20%20%20%20%20%20%20%20%20%20%20%20%20%20%20%20%20%20%20preferCanvas%3A%20false%2C%0A%20%20%20%20%20%20%20%20%20%20%20%20%20%20%20%20%7D%0A%20%20%20%20%20%20%20%20%20%20%20%20%29%3B%0A%0A%20%20%20%20%20%20%20%20%20%20%20%20%0A%0A%20%20%20%20%20%20%20%20%0A%20%20%20%20%0A%20%20%20%20%20%20%20%20%20%20%20%20var%20tile_layer_dc88ae9fca184d18b2ebc220a15d0a3f%20%3D%20L.tileLayer%28%0A%20%20%20%20%20%20%20%20%20%20%20%20%20%20%20%20%22https%3A//cartodb-basemaps-%7Bs%7D.global.ssl.fastly.net/light_all/%7Bz%7D/%7Bx%7D/%7By%7D.png%22%2C%0A%20%20%20%20%20%20%20%20%20%20%20%20%20%20%20%20%7B%22attribution%22%3A%20%22%5Cu0026copy%3B%20%5Cu003ca%20href%3D%5C%22http%3A//www.openstreetmap.org/copyright%5C%22%5Cu003eOpenStreetMap%5Cu003c/a%5Cu003e%20contributors%20%5Cu0026copy%3B%20%5Cu003ca%20href%3D%5C%22http%3A//cartodb.com/attributions%5C%22%5Cu003eCartoDB%5Cu003c/a%5Cu003e%2C%20CartoDB%20%5Cu003ca%20href%20%3D%5C%22http%3A//cartodb.com/attributions%5C%22%5Cu003eattributions%5Cu003c/a%5Cu003e%22%2C%20%22detectRetina%22%3A%20false%2C%20%22maxNativeZoom%22%3A%206%2C%20%22maxZoom%22%3A%206%2C%20%22minZoom%22%3A%202%2C%20%22noWrap%22%3A%20false%2C%20%22opacity%22%3A%201%2C%20%22subdomains%22%3A%20%22abc%22%2C%20%22tms%22%3A%20false%7D%0A%20%20%20%20%20%20%20%20%20%20%20%20%29.addTo%28map_a1d00f7722f64a9393b48021895cff65%29%3B%0A%20%20%20%20%20%20%20%20%0A%20%20%20%20%0A%20%20%20%20%20%20%20%20%20%20%20%20var%20circle_b8e4acbe234b4850817b2dc6bd802857%20%3D%20L.circle%28%0A%20%20%20%20%20%20%20%20%20%20%20%20%20%20%20%20%5B33.93911%2C%2067.709953%5D%2C%0A%20%20%20%20%20%20%20%20%20%20%20%20%20%20%20%20%7B%22bubblingMouseEvents%22%3A%20true%2C%20%22color%22%3A%20%22red%22%2C%20%22dashArray%22%3A%20null%2C%20%22dashOffset%22%3A%20null%2C%20%22fill%22%3A%20true%2C%20%22fillColor%22%3A%20%22indigo%22%2C%20%22fillOpacity%22%3A%200.2%2C%20%22fillRule%22%3A%20%22evenodd%22%2C%20%22lineCap%22%3A%20%22round%22%2C%20%22lineJoin%22%3A%20%22round%22%2C%20%22opacity%22%3A%201.0%2C%20%22radius%22%3A%2056000.0%2C%20%22stroke%22%3A%20true%2C%20%22weight%22%3A%203%7D%0A%20%20%20%20%20%20%20%20%20%20%20%20%29.addTo%28map_a1d00f7722f64a9393b48021895cff65%29%3B%0A%20%20%20%20%20%20%20%20%0A%20%20%20%20%0A%20%20%20%20%20%20%20%20%20%20%20%20circle_b8e4acbe234b4850817b2dc6bd802857.bindTooltip%28%0A%20%20%20%20%20%20%20%20%20%20%20%20%20%20%20%20%60%3Cdiv%3E%0A%20%20%20%20%20%20%20%20%20%20%20%20%20%20%20%20%20%20%20%20%20%3Cdiv%20style%3D%27margin%3A%200%3B%20background-color%3A%20black%3B%20color%3A%20white%3B%27%3E%3Ch4%20style%3D%27text-align%3Acenter%3Bfont-weight%3A%20bold%27%3EAfghanistan%3C/h4%3E%3Chr%20style%3D%27margin%3A10px%3Bcolor%3A%20white%3B%27%3E%3Cul%20style%3D%27color%3A%20white%3B%3Blist-style-type%3Acircle%3Balign-item%3Aleft%3Bpadding-left%3A20px%3Bpadding-right%3A20px%27%3E%3Cli%3EConfirmed%3A%2060797%3C/li%3E%3Cli%3EDeaths%3A%20%20%202654%3C/li%3E%3Cli%3EDeath%20Rate%3A%204.37%3C/li%3E%3C/ul%3E%3C/div%3E%0A%20%20%20%20%20%20%20%20%20%20%20%20%20%20%20%20%20%3C/div%3E%60%2C%0A%20%20%20%20%20%20%20%20%20%20%20%20%20%20%20%20%7B%22sticky%22%3A%20true%7D%0A%20%20%20%20%20%20%20%20%20%20%20%20%29%3B%0A%20%20%20%20%20%20%20%20%0A%20%20%20%20%0A%20%20%20%20%20%20%20%20%20%20%20%20var%20circle_b4d24a48c83944e7b8d6a91ef145e0d6%20%3D%20L.circle%28%0A%20%20%20%20%20%20%20%20%20%20%20%20%20%20%20%20%5B41.1533%2C%2020.1683%5D%2C%0A%20%20%20%20%20%20%20%20%20%20%20%20%20%20%20%20%7B%22bubblingMouseEvents%22%3A%20true%2C%20%22color%22%3A%20%22red%22%2C%20%22dashArray%22%3A%20null%2C%20%22dashOffset%22%3A%20null%2C%20%22fill%22%3A%20true%2C%20%22fillColor%22%3A%20%22indigo%22%2C%20%22fillOpacity%22%3A%200.2%2C%20%22fillRule%22%3A%20%22evenodd%22%2C%20%22lineCap%22%3A%20%22round%22%2C%20%22lineJoin%22%3A%20%22round%22%2C%20%22opacity%22%3A%201.0%2C%20%22radius%22%3A%2056000.0%2C%20%22stroke%22%3A%20true%2C%20%22weight%22%3A%203%7D%0A%20%20%20%20%20%20%20%20%20%20%20%20%29.addTo%28map_a1d00f7722f64a9393b48021895cff65%29%3B%0A%20%20%20%20%20%20%20%20%0A%20%20%20%20%0A%20%20%20%20%20%20%20%20%20%20%20%20circle_b4d24a48c83944e7b8d6a91ef145e0d6.bindTooltip%28%0A%20%20%20%20%20%20%20%20%20%20%20%20%20%20%20%20%60%3Cdiv%3E%0A%20%20%20%20%20%20%20%20%20%20%20%20%20%20%20%20%20%20%20%20%20%3Cdiv%20style%3D%27margin%3A%200%3B%20background-color%3A%20black%3B%20color%3A%20white%3B%27%3E%3Ch4%20style%3D%27text-align%3Acenter%3Bfont-weight%3A%20bold%27%3EAlbania%3C/h4%3E%3Chr%20style%3D%27margin%3A10px%3Bcolor%3A%20white%3B%27%3E%3Cul%20style%3D%27color%3A%20white%3B%3Blist-style-type%3Acircle%3Balign-item%3Aleft%3Bpadding-left%3A20px%3Bpadding-right%3A20px%27%3E%3Cli%3EConfirmed%3A%20131419%3C/li%3E%3Cli%3EDeaths%3A%20%20%202403%3C/li%3E%3Cli%3EDeath%20Rate%3A%201.83%3C/li%3E%3C/ul%3E%3C/div%3E%0A%20%20%20%20%20%20%20%20%20%20%20%20%20%20%20%20%20%3C/div%3E%60%2C%0A%20%20%20%20%20%20%20%20%20%20%20%20%20%20%20%20%7B%22sticky%22%3A%20true%7D%0A%20%20%20%20%20%20%20%20%20%20%20%20%29%3B%0A%20%20%20%20%20%20%20%20%0A%20%20%20%20%0A%20%20%20%20%20%20%20%20%20%20%20%20var%20circle_6b3bc6cc1beb468ba6c22a507489808b%20%3D%20L.circle%28%0A%20%20%20%20%20%20%20%20%20%20%20%20%20%20%20%20%5B28.0339%2C%201.6596%5D%2C%0A%20%20%20%20%20%20%20%20%20%20%20%20%20%20%20%20%7B%22bubblingMouseEvents%22%3A%20true%2C%20%22color%22%3A%20%22red%22%2C%20%22dashArray%22%3A%20null%2C%20%22dashOffset%22%3A%20null%2C%20%22fill%22%3A%20true%2C%20%22fillColor%22%3A%20%22indigo%22%2C%20%22fillOpacity%22%3A%200.2%2C%20%22fillRule%22%3A%20%22evenodd%22%2C%20%22lineCap%22%3A%20%22round%22%2C%20%22lineJoin%22%3A%20%22round%22%2C%20%22opacity%22%3A%201.0%2C%20%22radius%22%3A%2056000.0%2C%20%22stroke%22%3A%20true%2C%20%22weight%22%3A%203%7D%0A%20%20%20%20%20%20%20%20%20%20%20%20%29.addTo%28map_a1d00f7722f64a9393b48021895cff65%29%3B%0A%20%20%20%20%20%20%20%20%0A%20%20%20%20%0A%20%20%20%20%20%20%20%20%20%20%20%20circle_6b3bc6cc1beb468ba6c22a507489808b.bindTooltip%28%0A%20%20%20%20%20%20%20%20%20%20%20%20%20%20%20%20%60%3Cdiv%3E%0A%20%20%20%20%20%20%20%20%20%20%20%20%20%20%20%20%20%20%20%20%20%3Cdiv%20style%3D%27margin%3A%200%3B%20background-color%3A%20black%3B%20color%3A%20white%3B%27%3E%3Ch4%20style%3D%27text-align%3Acenter%3Bfont-weight%3A%20bold%27%3EAlgeria%3C/h4%3E%3Chr%20style%3D%27margin%3A10px%3Bcolor%3A%20white%3B%27%3E%3Cul%20style%3D%27color%3A%20white%3B%3Blist-style-type%3Acircle%3Balign-item%3Aleft%3Bpadding-left%3A20px%3Bpadding-right%3A20px%27%3E%3Cli%3EConfirmed%3A%20123272%3C/li%3E%3Cli%3EDeaths%3A%20%20%203299%3C/li%3E%3Cli%3EDeath%20Rate%3A%202.68%3C/li%3E%3C/ul%3E%3C/div%3E%0A%20%20%20%20%20%20%20%20%20%20%20%20%20%20%20%20%20%3C/div%3E%60%2C%0A%20%20%20%20%20%20%20%20%20%20%20%20%20%20%20%20%7B%22sticky%22%3A%20true%7D%0A%20%20%20%20%20%20%20%20%20%20%20%20%29%3B%0A%20%20%20%20%20%20%20%20%0A%20%20%20%20%0A%20%20%20%20%20%20%20%20%20%20%20%20var%20circle_973142f82d4643faae0810e5708f3cef%20%3D%20L.circle%28%0A%20%20%20%20%20%20%20%20%20%20%20%20%20%20%20%20%5B42.5063%2C%201.5218%5D%2C%0A%20%20%20%20%20%20%20%20%20%20%20%20%20%20%20%20%7B%22bubblingMouseEvents%22%3A%20true%2C%20%22color%22%3A%20%22red%22%2C%20%22dashArray%22%3A%20null%2C%20%22dashOffset%22%3A%20null%2C%20%22fill%22%3A%20true%2C%20%22fillColor%22%3A%20%22indigo%22%2C%20%22fillOpacity%22%3A%200.2%2C%20%22fillRule%22%3A%20%22evenodd%22%2C%20%22lineCap%22%3A%20%22round%22%2C%20%22lineJoin%22%3A%20%22round%22%2C%20%22opacity%22%3A%201.0%2C%20%22radius%22%3A%2046000.0%2C%20%22stroke%22%3A%20true%2C%20%22weight%22%3A%203%7D%0A%20%20%20%20%20%20%20%20%20%20%20%20%29.addTo%28map_a1d00f7722f64a9393b48021895cff65%29%3B%0A%20%20%20%20%20%20%20%20%0A%20%20%20%20%0A%20%20%20%20%20%20%20%20%20%20%20%20circle_973142f82d4643faae0810e5708f3cef.bindTooltip%28%0A%20%20%20%20%20%20%20%20%20%20%20%20%20%20%20%20%60%3Cdiv%3E%0A%20%20%20%20%20%20%20%20%20%20%20%20%20%20%20%20%20%20%20%20%20%3Cdiv%20style%3D%27margin%3A%200%3B%20background-color%3A%20black%3B%20color%3A%20white%3B%27%3E%3Ch4%20style%3D%27text-align%3Acenter%3Bfont-weight%3A%20bold%27%3EAndorra%3C/h4%3E%3Chr%20style%3D%27margin%3A10px%3Bcolor%3A%20white%3B%27%3E%3Cul%20style%3D%27color%3A%20white%3B%3Blist-style-type%3Acircle%3Balign-item%3Aleft%3Bpadding-left%3A20px%3Bpadding-right%3A20px%27%3E%3Cli%3EConfirmed%3A%2013340%3C/li%3E%3Cli%3EDeaths%3A%20%20%20127%3C/li%3E%3Cli%3EDeath%20Rate%3A%200.95%3C/li%3E%3C/ul%3E%3C/div%3E%0A%20%20%20%20%20%20%20%20%20%20%20%20%20%20%20%20%20%3C/div%3E%60%2C%0A%20%20%20%20%20%20%20%20%20%20%20%20%20%20%20%20%7B%22sticky%22%3A%20true%7D%0A%20%20%20%20%20%20%20%20%20%20%20%20%29%3B%0A%20%20%20%20%20%20%20%20%0A%20%20%20%20%0A%20%20%20%20%20%20%20%20%20%20%20%20var%20circle_d3f8cf1cbcb24e749da32017fe0518ae%20%3D%20L.circle%28%0A%20%20%20%20%20%20%20%20%20%20%20%20%20%20%20%20%5B-11.2027%2C%2017.8739%5D%2C%0A%20%20%20%20%20%20%20%20%20%20%20%20%20%20%20%20%7B%22bubblingMouseEvents%22%3A%20true%2C%20%22color%22%3A%20%22red%22%2C%20%22dashArray%22%3A%20null%2C%20%22dashOffset%22%3A%20null%2C%20%22fill%22%3A%20true%2C%20%22fillColor%22%3A%20%22indigo%22%2C%20%22fillOpacity%22%3A%200.2%2C%20%22fillRule%22%3A%20%22evenodd%22%2C%20%22lineCap%22%3A%20%22round%22%2C%20%22lineJoin%22%3A%20%22round%22%2C%20%22opacity%22%3A%201.0%2C%20%22radius%22%3A%2051000.0%2C%20%22stroke%22%3A%20true%2C%20%22weight%22%3A%203%7D%0A%20%20%20%20%20%20%20%20%20%20%20%20%29.addTo%28map_a1d00f7722f64a9393b48021895cff65%29%3B%0A%20%20%20%20%20%20%20%20%0A%20%20%20%20%0A%20%20%20%20%20%20%20%20%20%20%20%20circle_d3f8cf1cbcb24e749da32017fe0518ae.bindTooltip%28%0A%20%20%20%20%20%20%20%20%20%20%20%20%20%20%20%20%60%3Cdiv%3E%0A%20%20%20%20%20%20%20%20%20%20%20%20%20%20%20%20%20%20%20%20%20%3Cdiv%20style%3D%27margin%3A%200%3B%20background-color%3A%20black%3B%20color%3A%20white%3B%27%3E%3Ch4%20style%3D%27text-align%3Acenter%3Bfont-weight%3A%20bold%27%3EAngola%3C/h4%3E%3Chr%20style%3D%27margin%3A10px%3Bcolor%3A%20white%3B%27%3E%3Cul%20style%3D%27color%3A%20white%3B%3Blist-style-type%3Acircle%3Balign-item%3Aleft%3Bpadding-left%3A20px%3Bpadding-right%3A20px%27%3E%3Cli%3EConfirmed%3A%2027529%3C/li%3E%3Cli%3EDeaths%3A%20%20%20618%3C/li%3E%3Cli%3EDeath%20Rate%3A%202.24%3C/li%3E%3C/ul%3E%3C/div%3E%0A%20%20%20%20%20%20%20%20%20%20%20%20%20%20%20%20%20%3C/div%3E%60%2C%0A%20%20%20%20%20%20%20%20%20%20%20%20%20%20%20%20%7B%22sticky%22%3A%20true%7D%0A%20%20%20%20%20%20%20%20%20%20%20%20%29%3B%0A%20%20%20%20%20%20%20%20%0A%20%20%20%20%0A%20%20%20%20%20%20%20%20%20%20%20%20var%20circle_59242dde0fad436aaf15b17e388c9a00%20%3D%20L.circle%28%0A%20%20%20%20%20%20%20%20%20%20%20%20%20%20%20%20%5B17.0608%2C%20-61.7964%5D%2C%0A%20%20%20%20%20%20%20%20%20%20%20%20%20%20%20%20%7B%22bubblingMouseEvents%22%3A%20true%2C%20%22color%22%3A%20%22red%22%2C%20%22dashArray%22%3A%20null%2C%20%22dashOffset%22%3A%20null%2C%20%22fill%22%3A%20true%2C%20%22fillColor%22%3A%20%22indigo%22%2C%20%22fillOpacity%22%3A%200.2%2C%20%22fillRule%22%3A%20%22evenodd%22%2C%20%22lineCap%22%3A%20%22round%22%2C%20%22lineJoin%22%3A%20%22round%22%2C%20%22opacity%22%3A%201.0%2C%20%22radius%22%3A%2036000.0%2C%20%22stroke%22%3A%20true%2C%20%22weight%22%3A%203%7D%0A%20%20%20%20%20%20%20%20%20%20%20%20%29.addTo%28map_a1d00f7722f64a9393b48021895cff65%29%3B%0A%20%20%20%20%20%20%20%20%0A%20%20%20%20%0A%20%20%20%20%20%20%20%20%20%20%20%20circle_59242dde0fad436aaf15b17e388c9a00.bindTooltip%28%0A%20%20%20%20%20%20%20%20%20%20%20%20%20%20%20%20%60%3Cdiv%3E%0A%20%20%20%20%20%20%20%20%20%20%20%20%20%20%20%20%20%20%20%20%20%3Cdiv%20style%3D%27margin%3A%200%3B%20background-color%3A%20black%3B%20color%3A%20white%3B%27%3E%3Ch4%20style%3D%27text-align%3Acenter%3Bfont-weight%3A%20bold%27%3EAntigua%20and%20Barbuda%3C/h4%3E%3Chr%20style%3D%27margin%3A10px%3Bcolor%3A%20white%3B%27%3E%3Cul%20style%3D%27color%3A%20white%3B%3Blist-style-type%3Acircle%3Balign-item%3Aleft%3Bpadding-left%3A20px%3Bpadding-right%3A20px%27%3E%3Cli%3EConfirmed%3A%201232%3C/li%3E%3Cli%3EDeaths%3A%20%20%2032%3C/li%3E%3Cli%3EDeath%20Rate%3A%202.6%3C/li%3E%3C/ul%3E%3C/div%3E%0A%20%20%20%20%20%20%20%20%20%20%20%20%20%20%20%20%20%3C/div%3E%60%2C%0A%20%20%20%20%20%20%20%20%20%20%20%20%20%20%20%20%7B%22sticky%22%3A%20true%7D%0A%20%20%20%20%20%20%20%20%20%20%20%20%29%3B%0A%20%20%20%20%20%20%20%20%0A%20%20%20%20%0A%20%20%20%20%20%20%20%20%20%20%20%20var%20circle_15edbd7eebe441c2a4771af738bb71e9%20%3D%20L.circle%28%0A%20%20%20%20%20%20%20%20%20%20%20%20%20%20%20%20%5B-38.4161%2C%20-63.6167%5D%2C%0A%20%20%20%20%20%20%20%20%20%20%20%20%20%20%20%20%7B%22bubblingMouseEvents%22%3A%20true%2C%20%22color%22%3A%20%22red%22%2C%20%22dashArray%22%3A%20null%2C%20%22dashOffset%22%3A%20null%2C%20%22fill%22%3A%20true%2C%20%22fillColor%22%3A%20%22indigo%22%2C%20%22fillOpacity%22%3A%200.2%2C%20%22fillRule%22%3A%20%22evenodd%22%2C%20%22lineCap%22%3A%20%22round%22%2C%20%22lineJoin%22%3A%20%22round%22%2C%20%22opacity%22%3A%201.0%2C%20%22radius%22%3A%2071000.0%2C%20%22stroke%22%3A%20true%2C%20%22weight%22%3A%203%7D%0A%20%20%20%20%20%20%20%20%20%20%20%20%29.addTo%28map_a1d00f7722f64a9393b48021895cff65%29%3B%0A%20%20%20%20%20%20%20%20%0A%20%20%20%20%0A%20%20%20%20%20%20%20%20%20%20%20%20circle_15edbd7eebe441c2a4771af738bb71e9.bindTooltip%28%0A%20%20%20%20%20%20%20%20%20%20%20%20%20%20%20%20%60%3Cdiv%3E%0A%20%20%20%20%20%20%20%20%20%20%20%20%20%20%20%20%20%20%20%20%20%3Cdiv%20style%3D%27margin%3A%200%3B%20background-color%3A%20black%3B%20color%3A%20white%3B%27%3E%3Ch4%20style%3D%27text-align%3Acenter%3Bfont-weight%3A%20bold%27%3EArgentina%3C/h4%3E%3Chr%20style%3D%27margin%3A10px%3Bcolor%3A%20white%3B%27%3E%3Cul%20style%3D%27color%3A%20white%3B%3Blist-style-type%3Acircle%3Balign-item%3Aleft%3Bpadding-left%3A20px%3Bpadding-right%3A20px%27%3E%3Cli%3EConfirmed%3A%203071496%3C/li%3E%3Cli%3EDeaths%3A%20%20%2065865%3C/li%3E%3Cli%3EDeath%20Rate%3A%202.14%3C/li%3E%3C/ul%3E%3C/div%3E%0A%20%20%20%20%20%20%20%20%20%20%20%20%20%20%20%20%20%3C/div%3E%60%2C%0A%20%20%20%20%20%20%20%20%20%20%20%20%20%20%20%20%7B%22sticky%22%3A%20true%7D%0A%20%20%20%20%20%20%20%20%20%20%20%20%29%3B%0A%20%20%20%20%20%20%20%20%0A%20%20%20%20%0A%20%20%20%20%20%20%20%20%20%20%20%20var%20circle_5413d3a4872d46a9ab6c2b2e5cfb1c94%20%3D%20L.circle%28%0A%20%20%20%20%20%20%20%20%20%20%20%20%20%20%20%20%5B40.0691%2C%2045.0382%5D%2C%0A%20%20%20%20%20%20%20%20%20%20%20%20%20%20%20%20%7B%22bubblingMouseEvents%22%3A%20true%2C%20%22color%22%3A%20%22red%22%2C%20%22dashArray%22%3A%20null%2C%20%22dashOffset%22%3A%20null%2C%20%22fill%22%3A%20true%2C%20%22fillColor%22%3A%20%22indigo%22%2C%20%22fillOpacity%22%3A%200.2%2C%20%22fillRule%22%3A%20%22evenodd%22%2C%20%22lineCap%22%3A%20%22round%22%2C%20%22lineJoin%22%3A%20%22round%22%2C%20%22opacity%22%3A%201.0%2C%20%22radius%22%3A%2061000.0%2C%20%22stroke%22%3A%20true%2C%20%22weight%22%3A%203%7D%0A%20%20%20%20%20%20%20%20%20%20%20%20%29.addTo%28map_a1d00f7722f64a9393b48021895cff65%29%3B%0A%20%20%20%20%20%20%20%20%0A%20%20%20%20%0A%20%20%20%20%20%20%20%20%20%20%20%20circle_5413d3a4872d46a9ab6c2b2e5cfb1c94.bindTooltip%28%0A%20%20%20%20%20%20%20%20%20%20%20%20%20%20%20%20%60%3Cdiv%3E%0A%20%20%20%20%20%20%20%20%20%20%20%20%20%20%20%20%20%20%20%20%20%3Cdiv%20style%3D%27margin%3A%200%3B%20background-color%3A%20black%3B%20color%3A%20white%3B%27%3E%3Ch4%20style%3D%27text-align%3Acenter%3Bfont-weight%3A%20bold%27%3EArmenia%3C/h4%3E%3Chr%20style%3D%27margin%3A10px%3Bcolor%3A%20white%3B%27%3E%3Cul%20style%3D%27color%3A%20white%3B%3Blist-style-type%3Acircle%3Balign-item%3Aleft%3Bpadding-left%3A20px%3Bpadding-right%3A20px%27%3E%3Cli%3EConfirmed%3A%20217900%3C/li%3E%3Cli%3EDeaths%3A%20%20%204178%3C/li%3E%3Cli%3EDeath%20Rate%3A%201.92%3C/li%3E%3C/ul%3E%3C/div%3E%0A%20%20%20%20%20%20%20%20%20%20%20%20%20%20%20%20%20%3C/div%3E%60%2C%0A%20%20%20%20%20%20%20%20%20%20%20%20%20%20%20%20%7B%22sticky%22%3A%20true%7D%0A%20%20%20%20%20%20%20%20%20%20%20%20%29%3B%0A%20%20%20%20%20%20%20%20%0A%20%20%20%20%0A%20%20%20%20%20%20%20%20%20%20%20%20var%20circle_17bd767d46594f44aad7d3616e8a303d%20%3D%20L.circle%28%0A%20%20%20%20%20%20%20%20%20%20%20%20%20%20%20%20%5B-35.4735%2C%20149.0124%5D%2C%0A%20%20%20%20%20%20%20%20%20%20%20%20%20%20%20%20%7B%22bubblingMouseEvents%22%3A%20true%2C%20%22color%22%3A%20%22red%22%2C%20%22dashArray%22%3A%20null%2C%20%22dashOffset%22%3A%20null%2C%20%22fill%22%3A%20true%2C%20%22fillColor%22%3A%20%22indigo%22%2C%20%22fillOpacity%22%3A%200.2%2C%20%22fillRule%22%3A%20%22evenodd%22%2C%20%22lineCap%22%3A%20%22round%22%2C%20%22lineJoin%22%3A%20%22round%22%2C%20%22opacity%22%3A%201.0%2C%20%22radius%22%3A%2021000.0%2C%20%22stroke%22%3A%20true%2C%20%22weight%22%3A%203%7D%0A%20%20%20%20%20%20%20%20%20%20%20%20%29.addTo%28map_a1d00f7722f64a9393b48021895cff65%29%3B%0A%20%20%20%20%20%20%20%20%0A%20%20%20%20%0A%20%20%20%20%20%20%20%20%20%20%20%20circle_17bd767d46594f44aad7d3616e8a303d.bindTooltip%28%0A%20%20%20%20%20%20%20%20%20%20%20%20%20%20%20%20%60%3Cdiv%3E%0A%20%20%20%20%20%20%20%20%20%20%20%20%20%20%20%20%20%20%20%20%20%3Cdiv%20style%3D%27margin%3A%200%3B%20background-color%3A%20black%3B%20color%3A%20white%3B%27%3E%3Ch4%20style%3D%27text-align%3Acenter%3Bfont-weight%3A%20bold%27%3EAustralia%3C/h4%3E%3Chr%20style%3D%27margin%3A10px%3Bcolor%3A%20white%3B%27%3E%3Cul%20style%3D%27color%3A%20white%3B%3Blist-style-type%3Acircle%3Balign-item%3Aleft%3Bpadding-left%3A20px%3Bpadding-right%3A20px%27%3E%3Cli%3EConfirmed%3A%20124%3C/li%3E%3Cli%3EDeaths%3A%20%20%203%3C/li%3E%3Cli%3EDeath%20Rate%3A%202.4%3C/li%3E%3C/ul%3E%3C/div%3E%0A%20%20%20%20%20%20%20%20%20%20%20%20%20%20%20%20%20%3C/div%3E%60%2C%0A%20%20%20%20%20%20%20%20%20%20%20%20%20%20%20%20%7B%22sticky%22%3A%20true%7D%0A%20%20%20%20%20%20%20%20%20%20%20%20%29%3B%0A%20%20%20%20%20%20%20%20%0A%20%20%20%20%0A%20%20%20%20%20%20%20%20%20%20%20%20var%20circle_c73e684ea8df49d9a648bb731f342616%20%3D%20L.circle%28%0A%20%20%20%20%20%20%20%20%20%20%20%20%20%20%20%20%5B-33.8688%2C%20151.2093%5D%2C%0A%20%20%20%20%20%20%20%20%20%20%20%20%20%20%20%20%7B%22bubblingMouseEvents%22%3A%20true%2C%20%22color%22%3A%20%22red%22%2C%20%22dashArray%22%3A%20null%2C%20%22dashOffset%22%3A%20null%2C%20%22fill%22%3A%20true%2C%20%22fillColor%22%3A%20%22indigo%22%2C%20%22fillOpacity%22%3A%200.2%2C%20%22fillRule%22%3A%20%22evenodd%22%2C%20%22lineCap%22%3A%20%22round%22%2C%20%22lineJoin%22%3A%20%22round%22%2C%20%22opacity%22%3A%201.0%2C%20%22radius%22%3A%2041000.0%2C%20%22stroke%22%3A%20true%2C%20%22weight%22%3A%203%7D%0A%20%20%20%20%20%20%20%20%20%20%20%20%29.addTo%28map_a1d00f7722f64a9393b48021895cff65%29%3B%0A%20%20%20%20%20%20%20%20%0A%20%20%20%20%0A%20%20%20%20%20%20%20%20%20%20%20%20circle_c73e684ea8df49d9a648bb731f342616.bindTooltip%28%0A%20%20%20%20%20%20%20%20%20%20%20%20%20%20%20%20%60%3Cdiv%3E%0A%20%20%20%20%20%20%20%20%20%20%20%20%20%20%20%20%20%20%20%20%20%3Cdiv%20style%3D%27margin%3A%200%3B%20background-color%3A%20black%3B%20color%3A%20white%3B%27%3E%3Ch4%20style%3D%27text-align%3Acenter%3Bfont-weight%3A%20bold%27%3EAustralia%3C/h4%3E%3Chr%20style%3D%27margin%3A10px%3Bcolor%3A%20white%3B%27%3E%3Cul%20style%3D%27color%3A%20white%3B%3Blist-style-type%3Acircle%3Balign-item%3Aleft%3Bpadding-left%3A20px%3Bpadding-right%3A20px%27%3E%3Cli%3EConfirmed%3A%205516%3C/li%3E%3Cli%3EDeaths%3A%20%20%2054%3C/li%3E%3Cli%3EDeath%20Rate%3A%200.98%3C/li%3E%3C/ul%3E%3C/div%3E%0A%20%20%20%20%20%20%20%20%20%20%20%20%20%20%20%20%20%3C/div%3E%60%2C%0A%20%20%20%20%20%20%20%20%20%20%20%20%20%20%20%20%7B%22sticky%22%3A%20true%7D%0A%20%20%20%20%20%20%20%20%20%20%20%20%29%3B%0A%20%20%20%20%20%20%20%20%0A%20%20%20%20%0A%20%20%20%20%20%20%20%20%20%20%20%20var%20circle_035e5a5ba69c4de793da4e24fc89eb38%20%3D%20L.circle%28%0A%20%20%20%20%20%20%20%20%20%20%20%20%20%20%20%20%5B-12.4634%2C%20130.8456%5D%2C%0A%20%20%20%20%20%20%20%20%20%20%20%20%20%20%20%20%7B%22bubblingMouseEvents%22%3A%20true%2C%20%22color%22%3A%20%22red%22%2C%20%22dashArray%22%3A%20null%2C%20%22dashOffset%22%3A%20null%2C%20%22fill%22%3A%20true%2C%20%22fillColor%22%3A%20%22indigo%22%2C%20%22fillOpacity%22%3A%200.2%2C%20%22fillRule%22%3A%20%22evenodd%22%2C%20%22lineCap%22%3A%20%22round%22%2C%20%22lineJoin%22%3A%20%22round%22%2C%20%22opacity%22%3A%201.0%2C%20%22radius%22%3A%2026000.0%2C%20%22stroke%22%3A%20true%2C%20%22weight%22%3A%203%7D%0A%20%20%20%20%20%20%20%20%20%20%20%20%29.addTo%28map_a1d00f7722f64a9393b48021895cff65%29%3B%0A%20%20%20%20%20%20%20%20%0A%20%20%20%20%0A%20%20%20%20%20%20%20%20%20%20%20%20circle_035e5a5ba69c4de793da4e24fc89eb38.bindTooltip%28%0A%20%20%20%20%20%20%20%20%20%20%20%20%20%20%20%20%60%3Cdiv%3E%0A%20%20%20%20%20%20%20%20%20%20%20%20%20%20%20%20%20%20%20%20%20%3Cdiv%20style%3D%27margin%3A%200%3B%20background-color%3A%20black%3B%20color%3A%20white%3B%27%3E%3Ch4%20style%3D%27text-align%3Acenter%3Bfont-weight%3A%20bold%27%3EAustralia%3C/h4%3E%3Chr%20style%3D%27margin%3A10px%3Bcolor%3A%20white%3B%27%3E%3Cul%20style%3D%27color%3A%20white%3B%3Blist-style-type%3Acircle%3Balign-item%3Aleft%3Bpadding-left%3A20px%3Bpadding-right%3A20px%27%3E%3Cli%3EConfirmed%3A%20167%3C/li%3E%3Cli%3EDeaths%3A%20%20%200%3C/li%3E%3Cli%3EDeath%20Rate%3A%200.0%3C/li%3E%3C/ul%3E%3C/div%3E%0A%20%20%20%20%20%20%20%20%20%20%20%20%20%20%20%20%20%3C/div%3E%60%2C%0A%20%20%20%20%20%20%20%20%20%20%20%20%20%20%20%20%7B%22sticky%22%3A%20true%7D%0A%20%20%20%20%20%20%20%20%20%20%20%20%29%3B%0A%20%20%20%20%20%20%20%20%0A%20%20%20%20%0A%20%20%20%20%20%20%20%20%20%20%20%20var%20circle_31fc393c9d4741c98048974f7f4cab0a%20%3D%20L.circle%28%0A%20%20%20%20%20%20%20%20%20%20%20%20%20%20%20%20%5B-27.4698%2C%20153.0251%5D%2C%0A%20%20%20%20%20%20%20%20%20%20%20%20%20%20%20%20%7B%22bubblingMouseEvents%22%3A%20true%2C%20%22color%22%3A%20%22red%22%2C%20%22dashArray%22%3A%20null%2C%20%22dashOffset%22%3A%20null%2C%20%22fill%22%3A%20true%2C%20%22fillColor%22%3A%20%22indigo%22%2C%20%22fillOpacity%22%3A%200.2%2C%20%22fillRule%22%3A%20%22evenodd%22%2C%20%22lineCap%22%3A%20%22round%22%2C%20%22lineJoin%22%3A%20%22round%22%2C%20%22opacity%22%3A%201.0%2C%20%22radius%22%3A%2036000.0%2C%20%22stroke%22%3A%20true%2C%20%22weight%22%3A%203%7D%0A%20%20%20%20%20%20%20%20%20%20%20%20%29.addTo%28map_a1d00f7722f64a9393b48021895cff65%29%3B%0A%20%20%20%20%20%20%20%20%0A%20%20%20%20%0A%20%20%20%20%20%20%20%20%20%20%20%20circle_31fc393c9d4741c98048974f7f4cab0a.bindTooltip%28%0A%20%20%20%20%20%20%20%20%20%20%20%20%20%20%20%20%60%3Cdiv%3E%0A%20%20%20%20%20%20%20%20%20%20%20%20%20%20%20%20%20%20%20%20%20%3Cdiv%20style%3D%27margin%3A%200%3B%20background-color%3A%20black%3B%20color%3A%20white%3B%27%3E%3Ch4%20style%3D%27text-align%3Acenter%3Bfont-weight%3A%20bold%27%3EAustralia%3C/h4%3E%3Chr%20style%3D%27margin%3A10px%3Bcolor%3A%20white%3B%27%3E%3Cul%20style%3D%27color%3A%20white%3B%3Blist-style-type%3Acircle%3Balign-item%3Aleft%3Bpadding-left%3A20px%3Bpadding-right%3A20px%27%3E%3Cli%3EConfirmed%3A%201571%3C/li%3E%3Cli%3EDeaths%3A%20%20%207%3C/li%3E%3Cli%3EDeath%20Rate%3A%200.45%3C/li%3E%3C/ul%3E%3C/div%3E%0A%20%20%20%20%20%20%20%20%20%20%20%20%20%20%20%20%20%3C/div%3E%60%2C%0A%20%20%20%20%20%20%20%20%20%20%20%20%20%20%20%20%7B%22sticky%22%3A%20true%7D%0A%20%20%20%20%20%20%20%20%20%20%20%20%29%3B%0A%20%20%20%20%20%20%20%20%0A%20%20%20%20%0A%20%20%20%20%20%20%20%20%20%20%20%20var%20circle_eb8410f7089e4bd8bdc8f474375097b0%20%3D%20L.circle%28%0A%20%20%20%20%20%20%20%20%20%20%20%20%20%20%20%20%5B-34.9285%2C%20138.6007%5D%2C%0A%20%20%20%20%20%20%20%20%20%20%20%20%20%20%20%20%7B%22bubblingMouseEvents%22%3A%20true%2C%20%22color%22%3A%20%22red%22%2C%20%22dashArray%22%3A%20null%2C%20%22dashOffset%22%3A%20null%2C%20%22fill%22%3A%20true%2C%20%22fillColor%22%3A%20%22indigo%22%2C%20%22fillOpacity%22%3A%200.2%2C%20%22fillRule%22%3A%20%22evenodd%22%2C%20%22lineCap%22%3A%20%22round%22%2C%20%22lineJoin%22%3A%20%22round%22%2C%20%22opacity%22%3A%201.0%2C%20%22radius%22%3A%2031000.0%2C%20%22stroke%22%3A%20true%2C%20%22weight%22%3A%203%7D%0A%20%20%20%20%20%20%20%20%20%20%20%20%29.addTo%28map_a1d00f7722f64a9393b48021895cff65%29%3B%0A%20%20%20%20%20%20%20%20%0A%20%20%20%20%0A%20%20%20%20%20%20%20%20%20%20%20%20circle_eb8410f7089e4bd8bdc8f474375097b0.bindTooltip%28%0A%20%20%20%20%20%20%20%20%20%20%20%20%20%20%20%20%60%3Cdiv%3E%0A%20%20%20%20%20%20%20%20%20%20%20%20%20%20%20%20%20%20%20%20%20%3Cdiv%20style%3D%27margin%3A%200%3B%20background-color%3A%20black%3B%20color%3A%20white%3B%27%3E%3Ch4%20style%3D%27text-align%3Acenter%3Bfont-weight%3A%20bold%27%3EAustralia%3C/h4%3E%3Chr%20style%3D%27margin%3A10px%3Bcolor%3A%20white%3B%27%3E%3Cul%20style%3D%27color%3A%20white%3B%3Blist-style-type%3Acircle%3Balign-item%3Aleft%3Bpadding-left%3A20px%3Bpadding-right%3A20px%27%3E%3Cli%3EConfirmed%3A%20733%3C/li%3E%3Cli%3EDeaths%3A%20%20%204%3C/li%3E%3Cli%3EDeath%20Rate%3A%200.54%3C/li%3E%3C/ul%3E%3C/div%3E%0A%20%20%20%20%20%20%20%20%20%20%20%20%20%20%20%20%20%3C/div%3E%60%2C%0A%20%20%20%20%20%20%20%20%20%20%20%20%20%20%20%20%7B%22sticky%22%3A%20true%7D%0A%20%20%20%20%20%20%20%20%20%20%20%20%29%3B%0A%20%20%20%20%20%20%20%20%0A%20%20%20%20%0A%20%20%20%20%20%20%20%20%20%20%20%20var%20circle_4cc82bf035c2415c8fa009a0c4f85c22%20%3D%20L.circle%28%0A%20%20%20%20%20%20%20%20%20%20%20%20%20%20%20%20%5B-42.8821%2C%20147.3272%5D%2C%0A%20%20%20%20%20%20%20%20%20%20%20%20%20%20%20%20%7B%22bubblingMouseEvents%22%3A%20true%2C%20%22color%22%3A%20%22red%22%2C%20%22dashArray%22%3A%20null%2C%20%22dashOffset%22%3A%20null%2C%20%22fill%22%3A%20true%2C%20%22fillColor%22%3A%20%22indigo%22%2C%20%22fillOpacity%22%3A%200.2%2C%20%22fillRule%22%3A%20%22evenodd%22%2C%20%22lineCap%22%3A%20%22round%22%2C%20%22lineJoin%22%3A%20%22round%22%2C%20%22opacity%22%3A%201.0%2C%20%22radius%22%3A%2026000.0%2C%20%22stroke%22%3A%20true%2C%20%22weight%22%3A%203%7D%0A%20%20%20%20%20%20%20%20%20%20%20%20%29.addTo%28map_a1d00f7722f64a9393b48021895cff65%29%3B%0A%20%20%20%20%20%20%20%20%0A%20%20%20%20%0A%20%20%20%20%20%20%20%20%20%20%20%20circle_4cc82bf035c2415c8fa009a0c4f85c22.bindTooltip%28%0A%20%20%20%20%20%20%20%20%20%20%20%20%20%20%20%20%60%3Cdiv%3E%0A%20%20%20%20%20%20%20%20%20%20%20%20%20%20%20%20%20%20%20%20%20%3Cdiv%20style%3D%27margin%3A%200%3B%20background-color%3A%20black%3B%20color%3A%20white%3B%27%3E%3Ch4%20style%3D%27text-align%3Acenter%3Bfont-weight%3A%20bold%27%3EAustralia%3C/h4%3E%3Chr%20style%3D%27margin%3A10px%3Bcolor%3A%20white%3B%27%3E%3Cul%20style%3D%27color%3A%20white%3B%3Blist-style-type%3Acircle%3Balign-item%3Aleft%3Bpadding-left%3A20px%3Bpadding-right%3A20px%27%3E%3Cli%3EConfirmed%3A%20234%3C/li%3E%3Cli%3EDeaths%3A%20%20%2013%3C/li%3E%3Cli%3EDeath%20Rate%3A%205.53%3C/li%3E%3C/ul%3E%3C/div%3E%0A%20%20%20%20%20%20%20%20%20%20%20%20%20%20%20%20%20%3C/div%3E%60%2C%0A%20%20%20%20%20%20%20%20%20%20%20%20%20%20%20%20%7B%22sticky%22%3A%20true%7D%0A%20%20%20%20%20%20%20%20%20%20%20%20%29%3B%0A%20%20%20%20%20%20%20%20%0A%20%20%20%20%0A%20%20%20%20%20%20%20%20%20%20%20%20var%20circle_664e79d72bd84753af727c4d44620393%20%3D%20L.circle%28%0A%20%20%20%20%20%20%20%20%20%20%20%20%20%20%20%20%5B-37.8136%2C%20144.9631%5D%2C%0A%20%20%20%20%20%20%20%20%20%20%20%20%20%20%20%20%7B%22bubblingMouseEvents%22%3A%20true%2C%20%22color%22%3A%20%22red%22%2C%20%22dashArray%22%3A%20null%2C%20%22dashOffset%22%3A%20null%2C%20%22fill%22%3A%20true%2C%20%22fillColor%22%3A%20%22indigo%22%2C%20%22fillOpacity%22%3A%200.2%2C%20%22fillRule%22%3A%20%22evenodd%22%2C%20%22lineCap%22%3A%20%22round%22%2C%20%22lineJoin%22%3A%20%22round%22%2C%20%22opacity%22%3A%201.0%2C%20%22radius%22%3A%2046000.0%2C%20%22stroke%22%3A%20true%2C%20%22weight%22%3A%203%7D%0A%20%20%20%20%20%20%20%20%20%20%20%20%29.addTo%28map_a1d00f7722f64a9393b48021895cff65%29%3B%0A%20%20%20%20%20%20%20%20%0A%20%20%20%20%0A%20%20%20%20%20%20%20%20%20%20%20%20circle_664e79d72bd84753af727c4d44620393.bindTooltip%28%0A%20%20%20%20%20%20%20%20%20%20%20%20%20%20%20%20%60%3Cdiv%3E%0A%20%20%20%20%20%20%20%20%20%20%20%20%20%20%20%20%20%20%20%20%20%3Cdiv%20style%3D%27margin%3A%200%3B%20background-color%3A%20black%3B%20color%3A%20white%3B%27%3E%3Ch4%20style%3D%27text-align%3Acenter%3Bfont-weight%3A%20bold%27%3EAustralia%3C/h4%3E%3Chr%20style%3D%27margin%3A10px%3Bcolor%3A%20white%3B%27%3E%3Cul%20style%3D%27color%3A%20white%3B%3Blist-style-type%3Acircle%3Balign-item%3Aleft%3Bpadding-left%3A20px%3Bpadding-right%3A20px%27%3E%3Cli%3EConfirmed%3A%2020526%3C/li%3E%3Cli%3EDeaths%3A%20%20%20820%3C/li%3E%3Cli%3EDeath%20Rate%3A%203.99%3C/li%3E%3C/ul%3E%3C/div%3E%0A%20%20%20%20%20%20%20%20%20%20%20%20%20%20%20%20%20%3C/div%3E%60%2C%0A%20%20%20%20%20%20%20%20%20%20%20%20%20%20%20%20%7B%22sticky%22%3A%20true%7D%0A%20%20%20%20%20%20%20%20%20%20%20%20%29%3B%0A%20%20%20%20%20%20%20%20%0A%20%20%20%20%0A%20%20%20%20%20%20%20%20%20%20%20%20var%20circle_b12af8786bfa4d6088939f884b4107c0%20%3D%20L.circle%28%0A%20%20%20%20%20%20%20%20%20%20%20%20%20%20%20%20%5B-31.9505%2C%20115.8605%5D%2C%0A%20%20%20%20%20%20%20%20%20%20%20%20%20%20%20%20%7B%22bubblingMouseEvents%22%3A%20true%2C%20%22color%22%3A%20%22red%22%2C%20%22dashArray%22%3A%20null%2C%20%22dashOffset%22%3A%20null%2C%20%22fill%22%3A%20true%2C%20%22fillColor%22%3A%20%22indigo%22%2C%20%22fillOpacity%22%3A%200.2%2C%20%22fillRule%22%3A%20%22evenodd%22%2C%20%22lineCap%22%3A%20%22round%22%2C%20%22lineJoin%22%3A%20%22round%22%2C%20%22opacity%22%3A%201.0%2C%20%22radius%22%3A%2031000.0%2C%20%22stroke%22%3A%20true%2C%20%22weight%22%3A%203%7D%0A%20%20%20%20%20%20%20%20%20%20%20%20%29.addTo%28map_a1d00f7722f64a9393b48021895cff65%29%3B%0A%20%20%20%20%20%20%20%20%0A%20%20%20%20%0A%20%20%20%20%20%20%20%20%20%20%20%20circle_b12af8786bfa4d6088939f884b4107c0.bindTooltip%28%0A%20%20%20%20%20%20%20%20%20%20%20%20%20%20%20%20%60%3Cdiv%3E%0A%20%20%20%20%20%20%20%20%20%20%20%20%20%20%20%20%20%20%20%20%20%3Cdiv%20style%3D%27margin%3A%200%3B%20background-color%3A%20black%3B%20color%3A%20white%3B%27%3E%3Ch4%20style%3D%27text-align%3Acenter%3Bfont-weight%3A%20bold%27%3EAustralia%3C/h4%3E%3Chr%20style%3D%27margin%3A10px%3Bcolor%3A%20white%3B%27%3E%3Cul%20style%3D%27color%3A%20white%3B%3Blist-style-type%3Acircle%3Balign-item%3Aleft%3Bpadding-left%3A20px%3Bpadding-right%3A20px%27%3E%3Cli%3EConfirmed%3A%201013%3C/li%3E%3Cli%3EDeaths%3A%20%20%209%3C/li%3E%3Cli%3EDeath%20Rate%3A%200.89%3C/li%3E%3C/ul%3E%3C/div%3E%0A%20%20%20%20%20%20%20%20%20%20%20%20%20%20%20%20%20%3C/div%3E%60%2C%0A%20%20%20%20%20%20%20%20%20%20%20%20%20%20%20%20%7B%22sticky%22%3A%20true%7D%0A%20%20%20%20%20%20%20%20%20%20%20%20%29%3B%0A%20%20%20%20%20%20%20%20%0A%20%20%20%20%0A%20%20%20%20%20%20%20%20%20%20%20%20var%20circle_3ed906291f4d450a82b20d11ef740afb%20%3D%20L.circle%28%0A%20%20%20%20%20%20%20%20%20%20%20%20%20%20%20%20%5B47.5162%2C%2014.5501%5D%2C%0A%20%20%20%20%20%20%20%20%20%20%20%20%20%20%20%20%7B%22bubblingMouseEvents%22%3A%20true%2C%20%22color%22%3A%20%22red%22%2C%20%22dashArray%22%3A%20null%2C%20%22dashOffset%22%3A%20null%2C%20%22fill%22%3A%20true%2C%20%22fillColor%22%3A%20%22indigo%22%2C%20%22fillOpacity%22%3A%200.2%2C%20%22fillRule%22%3A%20%22evenodd%22%2C%20%22lineCap%22%3A%20%22round%22%2C%20%22lineJoin%22%3A%20%22round%22%2C%20%22opacity%22%3A%201.0%2C%20%22radius%22%3A%2066000.0%2C%20%22stroke%22%3A%20true%2C%20%22weight%22%3A%203%7D%0A%20%20%20%20%20%20%20%20%20%20%20%20%29.addTo%28map_a1d00f7722f64a9393b48021895cff65%29%3B%0A%20%20%20%20%20%20%20%20%0A%20%20%20%20%0A%20%20%20%20%20%20%20%20%20%20%20%20circle_3ed906291f4d450a82b20d11ef740afb.bindTooltip%28%0A%20%20%20%20%20%20%20%20%20%20%20%20%20%20%20%20%60%3Cdiv%3E%0A%20%20%20%20%20%20%20%20%20%20%20%20%20%20%20%20%20%20%20%20%20%3Cdiv%20style%3D%27margin%3A%200%3B%20background-color%3A%20black%3B%20color%3A%20white%3B%27%3E%3Ch4%20style%3D%27text-align%3Acenter%3Bfont-weight%3A%20bold%27%3EAustria%3C/h4%3E%3Chr%20style%3D%27margin%3A10px%3Bcolor%3A%20white%3B%27%3E%3Cul%20style%3D%27color%3A%20white%3B%3Blist-style-type%3Acircle%3Balign-item%3Aleft%3Bpadding-left%3A20px%3Bpadding-right%3A20px%27%3E%3Cli%3EConfirmed%3A%20626239%3C/li%3E%3Cli%3EDeaths%3A%20%20%2010311%3C/li%3E%3Cli%3EDeath%20Rate%3A%201.65%3C/li%3E%3C/ul%3E%3C/div%3E%0A%20%20%20%20%20%20%20%20%20%20%20%20%20%20%20%20%20%3C/div%3E%60%2C%0A%20%20%20%20%20%20%20%20%20%20%20%20%20%20%20%20%7B%22sticky%22%3A%20true%7D%0A%20%20%20%20%20%20%20%20%20%20%20%20%29%3B%0A%20%20%20%20%20%20%20%20%0A%20%20%20%20%0A%20%20%20%20%20%20%20%20%20%20%20%20var%20circle_b611c8e74a154cfcb10c5bbe8366b2ff%20%3D%20L.circle%28%0A%20%20%20%20%20%20%20%20%20%20%20%20%20%20%20%20%5B40.1431%2C%2047.5769%5D%2C%0A%20%20%20%20%20%20%20%20%20%20%20%20%20%20%20%20%7B%22bubblingMouseEvents%22%3A%20true%2C%20%22color%22%3A%20%22red%22%2C%20%22dashArray%22%3A%20null%2C%20%22dashOffset%22%3A%20null%2C%20%22fill%22%3A%20true%2C%20%22fillColor%22%3A%20%22indigo%22%2C%20%22fillOpacity%22%3A%200.2%2C%20%22fillRule%22%3A%20%22evenodd%22%2C%20%22lineCap%22%3A%20%22round%22%2C%20%22lineJoin%22%3A%20%22round%22%2C%20%22opacity%22%3A%201.0%2C%20%22radius%22%3A%2061000.0%2C%20%22stroke%22%3A%20true%2C%20%22weight%22%3A%203%7D%0A%20%20%20%20%20%20%20%20%20%20%20%20%29.addTo%28map_a1d00f7722f64a9393b48021895cff65%29%3B%0A%20%20%20%20%20%20%20%20%0A%20%20%20%20%0A%20%20%20%20%20%20%20%20%20%20%20%20circle_b611c8e74a154cfcb10c5bbe8366b2ff.bindTooltip%28%0A%20%20%20%20%20%20%20%20%20%20%20%20%20%20%20%20%60%3Cdiv%3E%0A%20%20%20%20%20%20%20%20%20%20%20%20%20%20%20%20%20%20%20%20%20%3Cdiv%20style%3D%27margin%3A%200%3B%20background-color%3A%20black%3B%20color%3A%20white%3B%27%3E%3Ch4%20style%3D%27text-align%3Acenter%3Bfont-weight%3A%20bold%27%3EAzerbaijan%3C/h4%3E%3Chr%20style%3D%27margin%3A10px%3Bcolor%3A%20white%3B%27%3E%3Cul%20style%3D%27color%3A%20white%3B%3Blist-style-type%3Acircle%3Balign-item%3Aleft%3Bpadding-left%3A20px%3Bpadding-right%3A20px%27%3E%3Cli%3EConfirmed%3A%20323841%3C/li%3E%3Cli%3EDeaths%3A%20%20%204617%3C/li%3E%3Cli%3EDeath%20Rate%3A%201.43%3C/li%3E%3C/ul%3E%3C/div%3E%0A%20%20%20%20%20%20%20%20%20%20%20%20%20%20%20%20%20%3C/div%3E%60%2C%0A%20%20%20%20%20%20%20%20%20%20%20%20%20%20%20%20%7B%22sticky%22%3A%20true%7D%0A%20%20%20%20%20%20%20%20%20%20%20%20%29%3B%0A%20%20%20%20%20%20%20%20%0A%20%20%20%20%0A%20%20%20%20%20%20%20%20%20%20%20%20var%20circle_34f919d4aa304c35b97d1eb51168628c%20%3D%20L.circle%28%0A%20%20%20%20%20%20%20%20%20%20%20%20%20%20%20%20%5B25.025885%2C%20-78.035889%5D%2C%0A%20%20%20%20%20%20%20%20%20%20%20%20%20%20%20%20%7B%22bubblingMouseEvents%22%3A%20true%2C%20%22color%22%3A%20%22red%22%2C%20%22dashArray%22%3A%20null%2C%20%22dashOffset%22%3A%20null%2C%20%22fill%22%3A%20true%2C%20%22fillColor%22%3A%20%22indigo%22%2C%20%22fillOpacity%22%3A%200.2%2C%20%22fillRule%22%3A%20%22evenodd%22%2C%20%22lineCap%22%3A%20%22round%22%2C%20%22lineJoin%22%3A%20%22round%22%2C%20%22opacity%22%3A%201.0%2C%20%22radius%22%3A%2046000.0%2C%20%22stroke%22%3A%20true%2C%20%22weight%22%3A%203%7D%0A%20%20%20%20%20%20%20%20%20%20%20%20%29.addTo%28map_a1d00f7722f64a9393b48021895cff65%29%3B%0A%20%20%20%20%20%20%20%20%0A%20%20%20%20%0A%20%20%20%20%20%20%20%20%20%20%20%20circle_34f919d4aa304c35b97d1eb51168628c.bindTooltip%28%0A%20%20%20%20%20%20%20%20%20%20%20%20%20%20%20%20%60%3Cdiv%3E%0A%20%20%20%20%20%20%20%20%20%20%20%20%20%20%20%20%20%20%20%20%20%3Cdiv%20style%3D%27margin%3A%200%3B%20background-color%3A%20black%3B%20color%3A%20white%3B%27%3E%3Ch4%20style%3D%27text-align%3Acenter%3Bfont-weight%3A%20bold%27%3EBahamas%3C/h4%3E%3Chr%20style%3D%27margin%3A10px%3Bcolor%3A%20white%3B%27%3E%3Cul%20style%3D%27color%3A%20white%3B%3Blist-style-type%3Acircle%3Balign-item%3Aleft%3Bpadding-left%3A20px%3Bpadding-right%3A20px%27%3E%3Cli%3EConfirmed%3A%2010576%3C/li%3E%3Cli%3EDeaths%3A%20%20%20210%3C/li%3E%3Cli%3EDeath%20Rate%3A%201.99%3C/li%3E%3C/ul%3E%3C/div%3E%0A%20%20%20%20%20%20%20%20%20%20%20%20%20%20%20%20%20%3C/div%3E%60%2C%0A%20%20%20%20%20%20%20%20%20%20%20%20%20%20%20%20%7B%22sticky%22%3A%20true%7D%0A%20%20%20%20%20%20%20%20%20%20%20%20%29%3B%0A%20%20%20%20%20%20%20%20%0A%20%20%20%20%0A%20%20%20%20%20%20%20%20%20%20%20%20var%20circle_448d602f6ec340a0ad850d224b4956fc%20%3D%20L.circle%28%0A%20%20%20%20%20%20%20%20%20%20%20%20%20%20%20%20%5B26.0275%2C%2050.55%5D%2C%0A%20%20%20%20%20%20%20%20%20%20%20%20%20%20%20%20%7B%22bubblingMouseEvents%22%3A%20true%2C%20%22color%22%3A%20%22red%22%2C%20%22dashArray%22%3A%20null%2C%20%22dashOffset%22%3A%20null%2C%20%22fill%22%3A%20true%2C%20%22fillColor%22%3A%20%22indigo%22%2C%20%22fillOpacity%22%3A%200.2%2C%20%22fillRule%22%3A%20%22evenodd%22%2C%20%22lineCap%22%3A%20%22round%22%2C%20%22lineJoin%22%3A%20%22round%22%2C%20%22opacity%22%3A%201.0%2C%20%22radius%22%3A%2061000.0%2C%20%22stroke%22%3A%20true%2C%20%22weight%22%3A%203%7D%0A%20%20%20%20%20%20%20%20%20%20%20%20%29.addTo%28map_a1d00f7722f64a9393b48021895cff65%29%3B%0A%20%20%20%20%20%20%20%20%0A%20%20%20%20%0A%20%20%20%20%20%20%20%20%20%20%20%20circle_448d602f6ec340a0ad850d224b4956fc.bindTooltip%28%0A%20%20%20%20%20%20%20%20%20%20%20%20%20%20%20%20%60%3Cdiv%3E%0A%20%20%20%20%20%20%20%20%20%20%20%20%20%20%20%20%20%20%20%20%20%3Cdiv%20style%3D%27margin%3A%200%3B%20background-color%3A%20black%3B%20color%3A%20white%3B%27%3E%3Ch4%20style%3D%27text-align%3Acenter%3Bfont-weight%3A%20bold%27%3EBahrain%3C/h4%3E%3Chr%20style%3D%27margin%3A10px%3Bcolor%3A%20white%3B%27%3E%3Cul%20style%3D%27color%3A%20white%3B%3Blist-style-type%3Acircle%3Balign-item%3Aleft%3Bpadding-left%3A20px%3Bpadding-right%3A20px%27%3E%3Cli%3EConfirmed%3A%20183330%3C/li%3E%3Cli%3EDeaths%3A%20%20%20664%3C/li%3E%3Cli%3EDeath%20Rate%3A%200.36%3C/li%3E%3C/ul%3E%3C/div%3E%0A%20%20%20%20%20%20%20%20%20%20%20%20%20%20%20%20%20%3C/div%3E%60%2C%0A%20%20%20%20%20%20%20%20%20%20%20%20%20%20%20%20%7B%22sticky%22%3A%20true%7D%0A%20%20%20%20%20%20%20%20%20%20%20%20%29%3B%0A%20%20%20%20%20%20%20%20%0A%20%20%20%20%0A%20%20%20%20%20%20%20%20%20%20%20%20var%20circle_d7de08a2a1cb409faa83ed9e6b2d7ae2%20%3D%20L.circle%28%0A%20%20%20%20%20%20%20%20%20%20%20%20%20%20%20%20%5B23.685%2C%2090.3563%5D%2C%0A%20%20%20%20%20%20%20%20%20%20%20%20%20%20%20%20%7B%22bubblingMouseEvents%22%3A%20true%2C%20%22color%22%3A%20%22red%22%2C%20%22dashArray%22%3A%20null%2C%20%22dashOffset%22%3A%20null%2C%20%22fill%22%3A%20true%2C%20%22fillColor%22%3A%20%22indigo%22%2C%20%22fillOpacity%22%3A%200.2%2C%20%22fillRule%22%3A%20%22evenodd%22%2C%20%22lineCap%22%3A%20%22round%22%2C%20%22lineJoin%22%3A%20%22round%22%2C%20%22opacity%22%3A%201.0%2C%20%22radius%22%3A%2066000.0%2C%20%22stroke%22%3A%20true%2C%20%22weight%22%3A%203%7D%0A%20%20%20%20%20%20%20%20%20%20%20%20%29.addTo%28map_a1d00f7722f64a9393b48021895cff65%29%3B%0A%20%20%20%20%20%20%20%20%0A%20%20%20%20%0A%20%20%20%20%20%20%20%20%20%20%20%20circle_d7de08a2a1cb409faa83ed9e6b2d7ae2.bindTooltip%28%0A%20%20%20%20%20%20%20%20%20%20%20%20%20%20%20%20%60%3Cdiv%3E%0A%20%20%20%20%20%20%20%20%20%20%20%20%20%20%20%20%20%20%20%20%20%3Cdiv%20style%3D%27margin%3A%200%3B%20background-color%3A%20black%3B%20color%3A%20white%3B%27%3E%3Ch4%20style%3D%27text-align%3Acenter%3Bfont-weight%3A%20bold%27%3EBangladesh%3C/h4%3E%3Chr%20style%3D%27margin%3A10px%3Bcolor%3A%20white%3B%27%3E%3Cul%20style%3D%27color%3A%20white%3B%3Blist-style-type%3Acircle%3Balign-item%3Aleft%3Bpadding-left%3A20px%3Bpadding-right%3A20px%27%3E%3Cli%3EConfirmed%3A%20767338%3C/li%3E%3Cli%3EDeaths%3A%20%20%2011755%3C/li%3E%3Cli%3EDeath%20Rate%3A%201.53%3C/li%3E%3C/ul%3E%3C/div%3E%0A%20%20%20%20%20%20%20%20%20%20%20%20%20%20%20%20%20%3C/div%3E%60%2C%0A%20%20%20%20%20%20%20%20%20%20%20%20%20%20%20%20%7B%22sticky%22%3A%20true%7D%0A%20%20%20%20%20%20%20%20%20%20%20%20%29%3B%0A%20%20%20%20%20%20%20%20%0A%20%20%20%20%0A%20%20%20%20%20%20%20%20%20%20%20%20var%20circle_ccae4549d1634093a0323e163fd4afd1%20%3D%20L.circle%28%0A%20%20%20%20%20%20%20%20%20%20%20%20%20%20%20%20%5B13.1939%2C%20-59.5432%5D%2C%0A%20%20%20%20%20%20%20%20%20%20%20%20%20%20%20%20%7B%22bubblingMouseEvents%22%3A%20true%2C%20%22color%22%3A%20%22red%22%2C%20%22dashArray%22%3A%20null%2C%20%22dashOffset%22%3A%20null%2C%20%22fill%22%3A%20true%2C%20%22fillColor%22%3A%20%22indigo%22%2C%20%22fillOpacity%22%3A%200.2%2C%20%22fillRule%22%3A%20%22evenodd%22%2C%20%22lineCap%22%3A%20%22round%22%2C%20%22lineJoin%22%3A%20%22round%22%2C%20%22opacity%22%3A%201.0%2C%20%22radius%22%3A%2041000.0%2C%20%22stroke%22%3A%20true%2C%20%22weight%22%3A%203%7D%0A%20%20%20%20%20%20%20%20%20%20%20%20%29.addTo%28map_a1d00f7722f64a9393b48021895cff65%29%3B%0A%20%20%20%20%20%20%20%20%0A%20%20%20%20%0A%20%20%20%20%20%20%20%20%20%20%20%20circle_ccae4549d1634093a0323e163fd4afd1.bindTooltip%28%0A%20%20%20%20%20%20%20%20%20%20%20%20%20%20%20%20%60%3Cdiv%3E%0A%20%20%20%20%20%20%20%20%20%20%20%20%20%20%20%20%20%20%20%20%20%3Cdiv%20style%3D%27margin%3A%200%3B%20background-color%3A%20black%3B%20color%3A%20white%3B%27%3E%3Ch4%20style%3D%27text-align%3Acenter%3Bfont-weight%3A%20bold%27%3EBarbados%3C/h4%3E%3Chr%20style%3D%27margin%3A10px%3Bcolor%3A%20white%3B%27%3E%3Cul%20style%3D%27color%3A%20white%3B%3Blist-style-type%3Acircle%3Balign-item%3Aleft%3Bpadding-left%3A20px%3Bpadding-right%3A20px%27%3E%3Cli%3EConfirmed%3A%203915%3C/li%3E%3Cli%3EDeaths%3A%20%20%2045%3C/li%3E%3Cli%3EDeath%20Rate%3A%201.15%3C/li%3E%3C/ul%3E%3C/div%3E%0A%20%20%20%20%20%20%20%20%20%20%20%20%20%20%20%20%20%3C/div%3E%60%2C%0A%20%20%20%20%20%20%20%20%20%20%20%20%20%20%20%20%7B%22sticky%22%3A%20true%7D%0A%20%20%20%20%20%20%20%20%20%20%20%20%29%3B%0A%20%20%20%20%20%20%20%20%0A%20%20%20%20%0A%20%20%20%20%20%20%20%20%20%20%20%20var%20circle_0057236d2bf743a49bb5fdcfffa4d876%20%3D%20L.circle%28%0A%20%20%20%20%20%20%20%20%20%20%20%20%20%20%20%20%5B53.7098%2C%2027.9534%5D%2C%0A%20%20%20%20%20%20%20%20%20%20%20%20%20%20%20%20%7B%22bubblingMouseEvents%22%3A%20true%2C%20%22color%22%3A%20%22red%22%2C%20%22dashArray%22%3A%20null%2C%20%22dashOffset%22%3A%20null%2C%20%22fill%22%3A%20true%2C%20%22fillColor%22%3A%20%22indigo%22%2C%20%22fillOpacity%22%3A%200.2%2C%20%22fillRule%22%3A%20%22evenodd%22%2C%20%22lineCap%22%3A%20%22round%22%2C%20%22lineJoin%22%3A%20%22round%22%2C%20%22opacity%22%3A%201.0%2C%20%22radius%22%3A%2061000.0%2C%20%22stroke%22%3A%20true%2C%20%22weight%22%3A%203%7D%0A%20%20%20%20%20%20%20%20%20%20%20%20%29.addTo%28map_a1d00f7722f64a9393b48021895cff65%29%3B%0A%20%20%20%20%20%20%20%20%0A%20%20%20%20%0A%20%20%20%20%20%20%20%20%20%20%20%20circle_0057236d2bf743a49bb5fdcfffa4d876.bindTooltip%28%0A%20%20%20%20%20%20%20%20%20%20%20%20%20%20%20%20%60%3Cdiv%3E%0A%20%20%20%20%20%20%20%20%20%20%20%20%20%20%20%20%20%20%20%20%20%3Cdiv%20style%3D%27margin%3A%200%3B%20background-color%3A%20black%3B%20color%3A%20white%3B%27%3E%3Ch4%20style%3D%27text-align%3Acenter%3Bfont-weight%3A%20bold%27%3EBelarus%3C/h4%3E%3Chr%20style%3D%27margin%3A10px%3Bcolor%3A%20white%3B%27%3E%3Cul%20style%3D%27color%3A%20white%3B%3Blist-style-type%3Acircle%3Balign-item%3Aleft%3Bpadding-left%3A20px%3Bpadding-right%3A20px%27%3E%3Cli%3EConfirmed%3A%20363732%3C/li%3E%3Cli%3EDeaths%3A%20%20%202592%3C/li%3E%3Cli%3EDeath%20Rate%3A%200.71%3C/li%3E%3C/ul%3E%3C/div%3E%0A%20%20%20%20%20%20%20%20%20%20%20%20%20%20%20%20%20%3C/div%3E%60%2C%0A%20%20%20%20%20%20%20%20%20%20%20%20%20%20%20%20%7B%22sticky%22%3A%20true%7D%0A%20%20%20%20%20%20%20%20%20%20%20%20%29%3B%0A%20%20%20%20%20%20%20%20%0A%20%20%20%20%0A%20%20%20%20%20%20%20%20%20%20%20%20var%20circle_15df711f386747639f32ac3ab5b3509c%20%3D%20L.circle%28%0A%20%20%20%20%20%20%20%20%20%20%20%20%20%20%20%20%5B50.8333%2C%204.469936%5D%2C%0A%20%20%20%20%20%20%20%20%20%20%20%20%20%20%20%20%7B%22bubblingMouseEvents%22%3A%20true%2C%20%22color%22%3A%20%22red%22%2C%20%22dashArray%22%3A%20null%2C%20%22dashOffset%22%3A%20null%2C%20%22fill%22%3A%20true%2C%20%22fillColor%22%3A%20%22indigo%22%2C%20%22fillOpacity%22%3A%200.2%2C%20%22fillRule%22%3A%20%22evenodd%22%2C%20%22lineCap%22%3A%20%22round%22%2C%20%22lineJoin%22%3A%20%22round%22%2C%20%22opacity%22%3A%201.0%2C%20%22radius%22%3A%2066000.0%2C%20%22stroke%22%3A%20true%2C%20%22weight%22%3A%203%7D%0A%20%20%20%20%20%20%20%20%20%20%20%20%29.addTo%28map_a1d00f7722f64a9393b48021895cff65%29%3B%0A%20%20%20%20%20%20%20%20%0A%20%20%20%20%0A%20%20%20%20%20%20%20%20%20%20%20%20circle_15df711f386747639f32ac3ab5b3509c.bindTooltip%28%0A%20%20%20%20%20%20%20%20%20%20%20%20%20%20%20%20%60%3Cdiv%3E%0A%20%20%20%20%20%20%20%20%20%20%20%20%20%20%20%20%20%20%20%20%20%3Cdiv%20style%3D%27margin%3A%200%3B%20background-color%3A%20black%3B%20color%3A%20white%3B%27%3E%3Ch4%20style%3D%27text-align%3Acenter%3Bfont-weight%3A%20bold%27%3EBelgium%3C/h4%3E%3Chr%20style%3D%27margin%3A10px%3Bcolor%3A%20white%3B%27%3E%3Cul%20style%3D%27color%3A%20white%3B%3Blist-style-type%3Acircle%3Balign-item%3Aleft%3Bpadding-left%3A20px%3Bpadding-right%3A20px%27%3E%3Cli%3EConfirmed%3A%201003746%3C/li%3E%3Cli%3EDeaths%3A%20%20%2024406%3C/li%3E%3Cli%3EDeath%20Rate%3A%202.43%3C/li%3E%3C/ul%3E%3C/div%3E%0A%20%20%20%20%20%20%20%20%20%20%20%20%20%20%20%20%20%3C/div%3E%60%2C%0A%20%20%20%20%20%20%20%20%20%20%20%20%20%20%20%20%7B%22sticky%22%3A%20true%7D%0A%20%20%20%20%20%20%20%20%20%20%20%20%29%3B%0A%20%20%20%20%20%20%20%20%0A%20%20%20%20%0A%20%20%20%20%20%20%20%20%20%20%20%20var%20circle_8e0d13f022264ba1be4e241a0a26bf48%20%3D%20L.circle%28%0A%20%20%20%20%20%20%20%20%20%20%20%20%20%20%20%20%5B17.1899%2C%20-88.4976%5D%2C%0A%20%20%20%20%20%20%20%20%20%20%20%20%20%20%20%20%7B%22bubblingMouseEvents%22%3A%20true%2C%20%22color%22%3A%20%22red%22%2C%20%22dashArray%22%3A%20null%2C%20%22dashOffset%22%3A%20null%2C%20%22fill%22%3A%20true%2C%20%22fillColor%22%3A%20%22indigo%22%2C%20%22fillOpacity%22%3A%200.2%2C%20%22fillRule%22%3A%20%22evenodd%22%2C%20%22lineCap%22%3A%20%22round%22%2C%20%22lineJoin%22%3A%20%22round%22%2C%20%22opacity%22%3A%201.0%2C%20%22radius%22%3A%2046000.0%2C%20%22stroke%22%3A%20true%2C%20%22weight%22%3A%203%7D%0A%20%20%20%20%20%20%20%20%20%20%20%20%29.addTo%28map_a1d00f7722f64a9393b48021895cff65%29%3B%0A%20%20%20%20%20%20%20%20%0A%20%20%20%20%0A%20%20%20%20%20%20%20%20%20%20%20%20circle_8e0d13f022264ba1be4e241a0a26bf48.bindTooltip%28%0A%20%20%20%20%20%20%20%20%20%20%20%20%20%20%20%20%60%3Cdiv%3E%0A%20%20%20%20%20%20%20%20%20%20%20%20%20%20%20%20%20%20%20%20%20%3Cdiv%20style%3D%27margin%3A%200%3B%20background-color%3A%20black%3B%20color%3A%20white%3B%27%3E%3Ch4%20style%3D%27text-align%3Acenter%3Bfont-weight%3A%20bold%27%3EBelize%3C/h4%3E%3Chr%20style%3D%27margin%3A10px%3Bcolor%3A%20white%3B%27%3E%3Cul%20style%3D%27color%3A%20white%3B%3Blist-style-type%3Acircle%3Balign-item%3Aleft%3Bpadding-left%3A20px%3Bpadding-right%3A20px%27%3E%3Cli%3EConfirmed%3A%2012680%3C/li%3E%3Cli%3EDeaths%3A%20%20%20323%3C/li%3E%3Cli%3EDeath%20Rate%3A%202.55%3C/li%3E%3C/ul%3E%3C/div%3E%0A%20%20%20%20%20%20%20%20%20%20%20%20%20%20%20%20%20%3C/div%3E%60%2C%0A%20%20%20%20%20%20%20%20%20%20%20%20%20%20%20%20%7B%22sticky%22%3A%20true%7D%0A%20%20%20%20%20%20%20%20%20%20%20%20%29%3B%0A%20%20%20%20%20%20%20%20%0A%20%20%20%20%0A%20%20%20%20%20%20%20%20%20%20%20%20var%20circle_e8937e33bd7543788d6e851b3c2a5138%20%3D%20L.circle%28%0A%20%20%20%20%20%20%20%20%20%20%20%20%20%20%20%20%5B9.3077%2C%202.3158%5D%2C%0A%20%20%20%20%20%20%20%20%20%20%20%20%20%20%20%20%7B%22bubblingMouseEvents%22%3A%20true%2C%20%22color%22%3A%20%22red%22%2C%20%22dashArray%22%3A%20null%2C%20%22dashOffset%22%3A%20null%2C%20%22fill%22%3A%20true%2C%20%22fillColor%22%3A%20%22indigo%22%2C%20%22fillOpacity%22%3A%200.2%2C%20%22fillRule%22%3A%20%22evenodd%22%2C%20%22lineCap%22%3A%20%22round%22%2C%20%22lineJoin%22%3A%20%22round%22%2C%20%22opacity%22%3A%201.0%2C%20%22radius%22%3A%2041000.0%2C%20%22stroke%22%3A%20true%2C%20%22weight%22%3A%203%7D%0A%20%20%20%20%20%20%20%20%20%20%20%20%29.addTo%28map_a1d00f7722f64a9393b48021895cff65%29%3B%0A%20%20%20%20%20%20%20%20%0A%20%20%20%20%0A%20%20%20%20%20%20%20%20%20%20%20%20circle_e8937e33bd7543788d6e851b3c2a5138.bindTooltip%28%0A%20%20%20%20%20%20%20%20%20%20%20%20%20%20%20%20%60%3Cdiv%3E%0A%20%20%20%20%20%20%20%20%20%20%20%20%20%20%20%20%20%20%20%20%20%3Cdiv%20style%3D%27margin%3A%200%3B%20background-color%3A%20black%3B%20color%3A%20white%3B%27%3E%3Ch4%20style%3D%27text-align%3Acenter%3Bfont-weight%3A%20bold%27%3EBenin%3C/h4%3E%3Chr%20style%3D%27margin%3A10px%3Bcolor%3A%20white%3B%27%3E%3Cul%20style%3D%27color%3A%20white%3B%3Blist-style-type%3Acircle%3Balign-item%3Aleft%3Bpadding-left%3A20px%3Bpadding-right%3A20px%27%3E%3Cli%3EConfirmed%3A%207884%3C/li%3E%3Cli%3EDeaths%3A%20%20%20100%3C/li%3E%3Cli%3EDeath%20Rate%3A%201.27%3C/li%3E%3C/ul%3E%3C/div%3E%0A%20%20%20%20%20%20%20%20%20%20%20%20%20%20%20%20%20%3C/div%3E%60%2C%0A%20%20%20%20%20%20%20%20%20%20%20%20%20%20%20%20%7B%22sticky%22%3A%20true%7D%0A%20%20%20%20%20%20%20%20%20%20%20%20%29%3B%0A%20%20%20%20%20%20%20%20%0A%20%20%20%20%0A%20%20%20%20%20%20%20%20%20%20%20%20var%20circle_042f7b70f32345d488a59e5ad2a0a88e%20%3D%20L.circle%28%0A%20%20%20%20%20%20%20%20%20%20%20%20%20%20%20%20%5B27.5142%2C%2090.4336%5D%2C%0A%20%20%20%20%20%20%20%20%20%20%20%20%20%20%20%20%7B%22bubblingMouseEvents%22%3A%20true%2C%20%22color%22%3A%20%22red%22%2C%20%22dashArray%22%3A%20null%2C%20%22dashOffset%22%3A%20null%2C%20%22fill%22%3A%20true%2C%20%22fillColor%22%3A%20%22indigo%22%2C%20%22fillOpacity%22%3A%200.2%2C%20%22fillRule%22%3A%20%22evenodd%22%2C%20%22lineCap%22%3A%20%22round%22%2C%20%22lineJoin%22%3A%20%22round%22%2C%20%22opacity%22%3A%201.0%2C%20%22radius%22%3A%2036000.0%2C%20%22stroke%22%3A%20true%2C%20%22weight%22%3A%203%7D%0A%20%20%20%20%20%20%20%20%20%20%20%20%29.addTo%28map_a1d00f7722f64a9393b48021895cff65%29%3B%0A%20%20%20%20%20%20%20%20%0A%20%20%20%20%0A%20%20%20%20%20%20%20%20%20%20%20%20circle_042f7b70f32345d488a59e5ad2a0a88e.bindTooltip%28%0A%20%20%20%20%20%20%20%20%20%20%20%20%20%20%20%20%60%3Cdiv%3E%0A%20%20%20%20%20%20%20%20%20%20%20%20%20%20%20%20%20%20%20%20%20%3Cdiv%20style%3D%27margin%3A%200%3B%20background-color%3A%20black%3B%20color%3A%20white%3B%27%3E%3Ch4%20style%3D%27text-align%3Acenter%3Bfont-weight%3A%20bold%27%3EBhutan%3C/h4%3E%3Chr%20style%3D%27margin%3A10px%3Bcolor%3A%20white%3B%27%3E%3Cul%20style%3D%27color%3A%20white%3B%3Blist-style-type%3Acircle%3Balign-item%3Aleft%3Bpadding-left%3A20px%3Bpadding-right%3A20px%27%3E%3Cli%3EConfirmed%3A%201144%3C/li%3E%3Cli%3EDeaths%3A%20%20%201%3C/li%3E%3Cli%3EDeath%20Rate%3A%200.09%3C/li%3E%3C/ul%3E%3C/div%3E%0A%20%20%20%20%20%20%20%20%20%20%20%20%20%20%20%20%20%3C/div%3E%60%2C%0A%20%20%20%20%20%20%20%20%20%20%20%20%20%20%20%20%7B%22sticky%22%3A%20true%7D%0A%20%20%20%20%20%20%20%20%20%20%20%20%29%3B%0A%20%20%20%20%20%20%20%20%0A%20%20%20%20%0A%20%20%20%20%20%20%20%20%20%20%20%20var%20circle_0b27670a212c4a60b427e2f0264e2a0d%20%3D%20L.circle%28%0A%20%20%20%20%20%20%20%20%20%20%20%20%20%20%20%20%5B-16.2902%2C%20-63.5887%5D%2C%0A%20%20%20%20%20%20%20%20%20%20%20%20%20%20%20%20%7B%22bubblingMouseEvents%22%3A%20true%2C%20%22color%22%3A%20%22red%22%2C%20%22dashArray%22%3A%20null%2C%20%22dashOffset%22%3A%20null%2C%20%22fill%22%3A%20true%2C%20%22fillColor%22%3A%20%22indigo%22%2C%20%22fillOpacity%22%3A%200.2%2C%20%22fillRule%22%3A%20%22evenodd%22%2C%20%22lineCap%22%3A%20%22round%22%2C%20%22lineJoin%22%3A%20%22round%22%2C%20%22opacity%22%3A%201.0%2C%20%22radius%22%3A%2061000.0%2C%20%22stroke%22%3A%20true%2C%20%22weight%22%3A%203%7D%0A%20%20%20%20%20%20%20%20%20%20%20%20%29.addTo%28map_a1d00f7722f64a9393b48021895cff65%29%3B%0A%20%20%20%20%20%20%20%20%0A%20%20%20%20%0A%20%20%20%20%20%20%20%20%20%20%20%20circle_0b27670a212c4a60b427e2f0264e2a0d.bindTooltip%28%0A%20%20%20%20%20%20%20%20%20%20%20%20%20%20%20%20%60%3Cdiv%3E%0A%20%20%20%20%20%20%20%20%20%20%20%20%20%20%20%20%20%20%20%20%20%3Cdiv%20style%3D%27margin%3A%200%3B%20background-color%3A%20black%3B%20color%3A%20white%3B%27%3E%3Ch4%20style%3D%27text-align%3Acenter%3Bfont-weight%3A%20bold%27%3EBolivia%3C/h4%3E%3Chr%20style%3D%27margin%3A10px%3Bcolor%3A%20white%3B%27%3E%3Cul%20style%3D%27color%3A%20white%3B%3Blist-style-type%3Acircle%3Balign-item%3Aleft%3Bpadding-left%3A20px%3Bpadding-right%3A20px%27%3E%3Cli%3EConfirmed%3A%20310572%3C/li%3E%3Cli%3EDeaths%3A%20%20%2013082%3C/li%3E%3Cli%3EDeath%20Rate%3A%204.21%3C/li%3E%3C/ul%3E%3C/div%3E%0A%20%20%20%20%20%20%20%20%20%20%20%20%20%20%20%20%20%3C/div%3E%60%2C%0A%20%20%20%20%20%20%20%20%20%20%20%20%20%20%20%20%7B%22sticky%22%3A%20true%7D%0A%20%20%20%20%20%20%20%20%20%20%20%20%29%3B%0A%20%20%20%20%20%20%20%20%0A%20%20%20%20%0A%20%20%20%20%20%20%20%20%20%20%20%20var%20circle_b533c4749f3449cc9cc6ef2e298b10e4%20%3D%20L.circle%28%0A%20%20%20%20%20%20%20%20%20%20%20%20%20%20%20%20%5B43.9159%2C%2017.6791%5D%2C%0A%20%20%20%20%20%20%20%20%20%20%20%20%20%20%20%20%7B%22bubblingMouseEvents%22%3A%20true%2C%20%22color%22%3A%20%22red%22%2C%20%22dashArray%22%3A%20null%2C%20%22dashOffset%22%3A%20null%2C%20%22fill%22%3A%20true%2C%20%22fillColor%22%3A%20%22indigo%22%2C%20%22fillOpacity%22%3A%200.2%2C%20%22fillRule%22%3A%20%22evenodd%22%2C%20%22lineCap%22%3A%20%22round%22%2C%20%22lineJoin%22%3A%20%22round%22%2C%20%22opacity%22%3A%201.0%2C%20%22radius%22%3A%2061000.0%2C%20%22stroke%22%3A%20true%2C%20%22weight%22%3A%203%7D%0A%20%20%20%20%20%20%20%20%20%20%20%20%29.addTo%28map_a1d00f7722f64a9393b48021895cff65%29%3B%0A%20%20%20%20%20%20%20%20%0A%20%20%20%20%0A%20%20%20%20%20%20%20%20%20%20%20%20circle_b533c4749f3449cc9cc6ef2e298b10e4.bindTooltip%28%0A%20%20%20%20%20%20%20%20%20%20%20%20%20%20%20%20%60%3Cdiv%3E%0A%20%20%20%20%20%20%20%20%20%20%20%20%20%20%20%20%20%20%20%20%20%3Cdiv%20style%3D%27margin%3A%200%3B%20background-color%3A%20black%3B%20color%3A%20white%3B%27%3E%3Ch4%20style%3D%27text-align%3Acenter%3Bfont-weight%3A%20bold%27%3EBosnia%20and%20Herzegovina%3C/h4%3E%3Chr%20style%3D%27margin%3A10px%3Bcolor%3A%20white%3B%27%3E%3Cul%20style%3D%27color%3A%20white%3B%3Blist-style-type%3Acircle%3Balign-item%3Aleft%3Bpadding-left%3A20px%3Bpadding-right%3A20px%27%3E%3Cli%3EConfirmed%3A%20199882%3C/li%3E%3Cli%3EDeaths%3A%20%20%208736%3C/li%3E%3Cli%3EDeath%20Rate%3A%204.37%3C/li%3E%3C/ul%3E%3C/div%3E%0A%20%20%20%20%20%20%20%20%20%20%20%20%20%20%20%20%20%3C/div%3E%60%2C%0A%20%20%20%20%20%20%20%20%20%20%20%20%20%20%20%20%7B%22sticky%22%3A%20true%7D%0A%20%20%20%20%20%20%20%20%20%20%20%20%29%3B%0A%20%20%20%20%20%20%20%20%0A%20%20%20%20%0A%20%20%20%20%20%20%20%20%20%20%20%20var%20circle_a26b85d584274cd6b8a796f83d4fc065%20%3D%20L.circle%28%0A%20%20%20%20%20%20%20%20%20%20%20%20%20%20%20%20%5B-22.3285%2C%2024.6849%5D%2C%0A%20%20%20%20%20%20%20%20%20%20%20%20%20%20%20%20%7B%22bubblingMouseEvents%22%3A%20true%2C%20%22color%22%3A%20%22red%22%2C%20%22dashArray%22%3A%20null%2C%20%22dashOffset%22%3A%20null%2C%20%22fill%22%3A%20true%2C%20%22fillColor%22%3A%20%22indigo%22%2C%20%22fillOpacity%22%3A%200.2%2C%20%22fillRule%22%3A%20%22evenodd%22%2C%20%22lineCap%22%3A%20%22round%22%2C%20%22lineJoin%22%3A%20%22round%22%2C%20%22opacity%22%3A%201.0%2C%20%22radius%22%3A%2051000.0%2C%20%22stroke%22%3A%20true%2C%20%22weight%22%3A%203%7D%0A%20%20%20%20%20%20%20%20%20%20%20%20%29.addTo%28map_a1d00f7722f64a9393b48021895cff65%29%3B%0A%20%20%20%20%20%20%20%20%0A%20%20%20%20%0A%20%20%20%20%20%20%20%20%20%20%20%20circle_a26b85d584274cd6b8a796f83d4fc065.bindTooltip%28%0A%20%20%20%20%20%20%20%20%20%20%20%20%20%20%20%20%60%3Cdiv%3E%0A%20%20%20%20%20%20%20%20%20%20%20%20%20%20%20%20%20%20%20%20%20%3Cdiv%20style%3D%27margin%3A%200%3B%20background-color%3A%20black%3B%20color%3A%20white%3B%27%3E%3Ch4%20style%3D%27text-align%3Acenter%3Bfont-weight%3A%20bold%27%3EBotswana%3C/h4%3E%3Chr%20style%3D%27margin%3A10px%3Bcolor%3A%20white%3B%27%3E%3Cul%20style%3D%27color%3A%20white%3B%3Blist-style-type%3Acircle%3Balign-item%3Aleft%3Bpadding-left%3A20px%3Bpadding-right%3A20px%27%3E%3Cli%3EConfirmed%3A%2047851%3C/li%3E%3Cli%3EDeaths%3A%20%20%20724%3C/li%3E%3Cli%3EDeath%20Rate%3A%201.51%3C/li%3E%3C/ul%3E%3C/div%3E%0A%20%20%20%20%20%20%20%20%20%20%20%20%20%20%20%20%20%3C/div%3E%60%2C%0A%20%20%20%20%20%20%20%20%20%20%20%20%20%20%20%20%7B%22sticky%22%3A%20true%7D%0A%20%20%20%20%20%20%20%20%20%20%20%20%29%3B%0A%20%20%20%20%20%20%20%20%0A%20%20%20%20%0A%20%20%20%20%20%20%20%20%20%20%20%20var%20circle_340605bb89aa4a25b69eda1f69256497%20%3D%20L.circle%28%0A%20%20%20%20%20%20%20%20%20%20%20%20%20%20%20%20%5B-14.235%2C%20-51.9253%5D%2C%0A%20%20%20%20%20%20%20%20%20%20%20%20%20%20%20%20%7B%22bubblingMouseEvents%22%3A%20true%2C%20%22color%22%3A%20%22red%22%2C%20%22dashArray%22%3A%20null%2C%20%22dashOffset%22%3A%20null%2C%20%22fill%22%3A%20true%2C%20%22fillColor%22%3A%20%22indigo%22%2C%20%22fillOpacity%22%3A%200.2%2C%20%22fillRule%22%3A%20%22evenodd%22%2C%20%22lineCap%22%3A%20%22round%22%2C%20%22lineJoin%22%3A%20%22round%22%2C%20%22opacity%22%3A%201.0%2C%20%22radius%22%3A%2081000.0%2C%20%22stroke%22%3A%20true%2C%20%22weight%22%3A%203%7D%0A%20%20%20%20%20%20%20%20%20%20%20%20%29.addTo%28map_a1d00f7722f64a9393b48021895cff65%29%3B%0A%20%20%20%20%20%20%20%20%0A%20%20%20%20%0A%20%20%20%20%20%20%20%20%20%20%20%20circle_340605bb89aa4a25b69eda1f69256497.bindTooltip%28%0A%20%20%20%20%20%20%20%20%20%20%20%20%20%20%20%20%60%3Cdiv%3E%0A%20%20%20%20%20%20%20%20%20%20%20%20%20%20%20%20%20%20%20%20%20%3Cdiv%20style%3D%27margin%3A%200%3B%20background-color%3A%20black%3B%20color%3A%20white%3B%27%3E%3Ch4%20style%3D%27text-align%3Acenter%3Bfont-weight%3A%20bold%27%3EBrazil%3C/h4%3E%3Chr%20style%3D%27margin%3A10px%3Bcolor%3A%20white%3B%27%3E%3Cul%20style%3D%27color%3A%20white%3B%3Blist-style-type%3Acircle%3Balign-item%3Aleft%3Bpadding-left%3A20px%3Bpadding-right%3A20px%27%3E%3Cli%3EConfirmed%3A%2014930183%3C/li%3E%3Cli%3EDeaths%3A%20%20%20414399%3C/li%3E%3Cli%3EDeath%20Rate%3A%202.78%3C/li%3E%3C/ul%3E%3C/div%3E%0A%20%20%20%20%20%20%20%20%20%20%20%20%20%20%20%20%20%3C/div%3E%60%2C%0A%20%20%20%20%20%20%20%20%20%20%20%20%20%20%20%20%7B%22sticky%22%3A%20true%7D%0A%20%20%20%20%20%20%20%20%20%20%20%20%29%3B%0A%20%20%20%20%20%20%20%20%0A%20%20%20%20%0A%20%20%20%20%20%20%20%20%20%20%20%20var%20circle_01d86272cbed4ff79cf221474fa624ca%20%3D%20L.circle%28%0A%20%20%20%20%20%20%20%20%20%20%20%20%20%20%20%20%5B4.5353%2C%20114.7277%5D%2C%0A%20%20%20%20%20%20%20%20%20%20%20%20%20%20%20%20%7B%22bubblingMouseEvents%22%3A%20true%2C%20%22color%22%3A%20%22red%22%2C%20%22dashArray%22%3A%20null%2C%20%22dashOffset%22%3A%20null%2C%20%22fill%22%3A%20true%2C%20%22fillColor%22%3A%20%22indigo%22%2C%20%22fillOpacity%22%3A%200.2%2C%20%22fillRule%22%3A%20%22evenodd%22%2C%20%22lineCap%22%3A%20%22round%22%2C%20%22lineJoin%22%3A%20%22round%22%2C%20%22opacity%22%3A%201.0%2C%20%22radius%22%3A%2026000.0%2C%20%22stroke%22%3A%20true%2C%20%22weight%22%3A%203%7D%0A%20%20%20%20%20%20%20%20%20%20%20%20%29.addTo%28map_a1d00f7722f64a9393b48021895cff65%29%3B%0A%20%20%20%20%20%20%20%20%0A%20%20%20%20%0A%20%20%20%20%20%20%20%20%20%20%20%20circle_01d86272cbed4ff79cf221474fa624ca.bindTooltip%28%0A%20%20%20%20%20%20%20%20%20%20%20%20%20%20%20%20%60%3Cdiv%3E%0A%20%20%20%20%20%20%20%20%20%20%20%20%20%20%20%20%20%20%20%20%20%3Cdiv%20style%3D%27margin%3A%200%3B%20background-color%3A%20black%3B%20color%3A%20white%3B%27%3E%3Ch4%20style%3D%27text-align%3Acenter%3Bfont-weight%3A%20bold%27%3EBrunei%3C/h4%3E%3Chr%20style%3D%27margin%3A10px%3Bcolor%3A%20white%3B%27%3E%3Cul%20style%3D%27color%3A%20white%3B%3Blist-style-type%3Acircle%3Balign-item%3Aleft%3Bpadding-left%3A20px%3Bpadding-right%3A20px%27%3E%3Cli%3EConfirmed%3A%20228%3C/li%3E%3Cli%3EDeaths%3A%20%20%203%3C/li%3E%3Cli%3EDeath%20Rate%3A%201.31%3C/li%3E%3C/ul%3E%3C/div%3E%0A%20%20%20%20%20%20%20%20%20%20%20%20%20%20%20%20%20%3C/div%3E%60%2C%0A%20%20%20%20%20%20%20%20%20%20%20%20%20%20%20%20%7B%22sticky%22%3A%20true%7D%0A%20%20%20%20%20%20%20%20%20%20%20%20%29%3B%0A%20%20%20%20%20%20%20%20%0A%20%20%20%20%0A%20%20%20%20%20%20%20%20%20%20%20%20var%20circle_5a78d3231ffe4f399712157fea5acf83%20%3D%20L.circle%28%0A%20%20%20%20%20%20%20%20%20%20%20%20%20%20%20%20%5B42.7339%2C%2025.4858%5D%2C%0A%20%20%20%20%20%20%20%20%20%20%20%20%20%20%20%20%7B%22bubblingMouseEvents%22%3A%20true%2C%20%22color%22%3A%20%22red%22%2C%20%22dashArray%22%3A%20null%2C%20%22dashOffset%22%3A%20null%2C%20%22fill%22%3A%20true%2C%20%22fillColor%22%3A%20%22indigo%22%2C%20%22fillOpacity%22%3A%200.2%2C%20%22fillRule%22%3A%20%22evenodd%22%2C%20%22lineCap%22%3A%20%22round%22%2C%20%22lineJoin%22%3A%20%22round%22%2C%20%22opacity%22%3A%201.0%2C%20%22radius%22%3A%2061000.0%2C%20%22stroke%22%3A%20true%2C%20%22weight%22%3A%203%7D%0A%20%20%20%20%20%20%20%20%20%20%20%20%29.addTo%28map_a1d00f7722f64a9393b48021895cff65%29%3B%0A%20%20%20%20%20%20%20%20%0A%20%20%20%20%0A%20%20%20%20%20%20%20%20%20%20%20%20circle_5a78d3231ffe4f399712157fea5acf83.bindTooltip%28%0A%20%20%20%20%20%20%20%20%20%20%20%20%20%20%20%20%60%3Cdiv%3E%0A%20%20%20%20%20%20%20%20%20%20%20%20%20%20%20%20%20%20%20%20%20%3Cdiv%20style%3D%27margin%3A%200%3B%20background-color%3A%20black%3B%20color%3A%20white%3B%27%3E%3Ch4%20style%3D%27text-align%3Acenter%3Bfont-weight%3A%20bold%27%3EBulgaria%3C/h4%3E%3Chr%20style%3D%27margin%3A10px%3Bcolor%3A%20white%3B%27%3E%3Cul%20style%3D%27color%3A%20white%3B%3Blist-style-type%3Acircle%3Balign-item%3Aleft%3Bpadding-left%3A20px%3Bpadding-right%3A20px%27%3E%3Cli%3EConfirmed%3A%20407827%3C/li%3E%3Cli%3EDeaths%3A%20%20%2016773%3C/li%3E%3Cli%3EDeath%20Rate%3A%204.11%3C/li%3E%3C/ul%3E%3C/div%3E%0A%20%20%20%20%20%20%20%20%20%20%20%20%20%20%20%20%20%3C/div%3E%60%2C%0A%20%20%20%20%20%20%20%20%20%20%20%20%20%20%20%20%7B%22sticky%22%3A%20true%7D%0A%20%20%20%20%20%20%20%20%20%20%20%20%29%3B%0A%20%20%20%20%20%20%20%20%0A%20%20%20%20%0A%20%20%20%20%20%20%20%20%20%20%20%20var%20circle_df928d51d82a40d7915a8ce3420fec9e%20%3D%20L.circle%28%0A%20%20%20%20%20%20%20%20%20%20%20%20%20%20%20%20%5B12.2383%2C%20-1.5616%5D%2C%0A%20%20%20%20%20%20%20%20%20%20%20%20%20%20%20%20%7B%22bubblingMouseEvents%22%3A%20true%2C%20%22color%22%3A%20%22red%22%2C%20%22dashArray%22%3A%20null%2C%20%22dashOffset%22%3A%20null%2C%20%22fill%22%3A%20true%2C%20%22fillColor%22%3A%20%22indigo%22%2C%20%22fillOpacity%22%3A%200.2%2C%20%22fillRule%22%3A%20%22evenodd%22%2C%20%22lineCap%22%3A%20%22round%22%2C%20%22lineJoin%22%3A%20%22round%22%2C%20%22opacity%22%3A%201.0%2C%20%22radius%22%3A%2046000.0%2C%20%22stroke%22%3A%20true%2C%20%22weight%22%3A%203%7D%0A%20%20%20%20%20%20%20%20%20%20%20%20%29.addTo%28map_a1d00f7722f64a9393b48021895cff65%29%3B%0A%20%20%20%20%20%20%20%20%0A%20%20%20%20%0A%20%20%20%20%20%20%20%20%20%20%20%20circle_df928d51d82a40d7915a8ce3420fec9e.bindTooltip%28%0A%20%20%20%20%20%20%20%20%20%20%20%20%20%20%20%20%60%3Cdiv%3E%0A%20%20%20%20%20%20%20%20%20%20%20%20%20%20%20%20%20%20%20%20%20%3Cdiv%20style%3D%27margin%3A%200%3B%20background-color%3A%20black%3B%20color%3A%20white%3B%27%3E%3Ch4%20style%3D%27text-align%3Acenter%3Bfont-weight%3A%20bold%27%3EBurkina%20Faso%3C/h4%3E%3Chr%20style%3D%27margin%3A10px%3Bcolor%3A%20white%3B%27%3E%3Cul%20style%3D%27color%3A%20white%3B%3Blist-style-type%3Acircle%3Balign-item%3Aleft%3Bpadding-left%3A20px%3Bpadding-right%3A20px%27%3E%3Cli%3EConfirmed%3A%2013345%3C/li%3E%3Cli%3EDeaths%3A%20%20%20161%3C/li%3E%3Cli%3EDeath%20Rate%3A%201.21%3C/li%3E%3C/ul%3E%3C/div%3E%0A%20%20%20%20%20%20%20%20%20%20%20%20%20%20%20%20%20%3C/div%3E%60%2C%0A%20%20%20%20%20%20%20%20%20%20%20%20%20%20%20%20%7B%22sticky%22%3A%20true%7D%0A%20%20%20%20%20%20%20%20%20%20%20%20%29%3B%0A%20%20%20%20%20%20%20%20%0A%20%20%20%20%0A%20%20%20%20%20%20%20%20%20%20%20%20var%20circle_f93e83928d4444e693ff0f2cc26c1cfe%20%3D%20L.circle%28%0A%20%20%20%20%20%20%20%20%20%20%20%20%20%20%20%20%5B21.9162%2C%2095.956%5D%2C%0A%20%20%20%20%20%20%20%20%20%20%20%20%20%20%20%20%7B%22bubblingMouseEvents%22%3A%20true%2C%20%22color%22%3A%20%22red%22%2C%20%22dashArray%22%3A%20null%2C%20%22dashOffset%22%3A%20null%2C%20%22fill%22%3A%20true%2C%20%22fillColor%22%3A%20%22indigo%22%2C%20%22fillOpacity%22%3A%200.2%2C%20%22fillRule%22%3A%20%22evenodd%22%2C%20%22lineCap%22%3A%20%22round%22%2C%20%22lineJoin%22%3A%20%22round%22%2C%20%22opacity%22%3A%201.0%2C%20%22radius%22%3A%2056000.0%2C%20%22stroke%22%3A%20true%2C%20%22weight%22%3A%203%7D%0A%20%20%20%20%20%20%20%20%20%20%20%20%29.addTo%28map_a1d00f7722f64a9393b48021895cff65%29%3B%0A%20%20%20%20%20%20%20%20%0A%20%20%20%20%0A%20%20%20%20%20%20%20%20%20%20%20%20circle_f93e83928d4444e693ff0f2cc26c1cfe.bindTooltip%28%0A%20%20%20%20%20%20%20%20%20%20%20%20%20%20%20%20%60%3Cdiv%3E%0A%20%20%20%20%20%20%20%20%20%20%20%20%20%20%20%20%20%20%20%20%20%3Cdiv%20style%3D%27margin%3A%200%3B%20background-color%3A%20black%3B%20color%3A%20white%3B%27%3E%3Ch4%20style%3D%27text-align%3Acenter%3Bfont-weight%3A%20bold%27%3EBurma%3C/h4%3E%3Chr%20style%3D%27margin%3A10px%3Bcolor%3A%20white%3B%27%3E%3Cul%20style%3D%27color%3A%20white%3B%3Blist-style-type%3Acircle%3Balign-item%3Aleft%3Bpadding-left%3A20px%3Bpadding-right%3A20px%27%3E%3Cli%3EConfirmed%3A%20142874%3C/li%3E%3Cli%3EDeaths%3A%20%20%203210%3C/li%3E%3Cli%3EDeath%20Rate%3A%202.25%3C/li%3E%3C/ul%3E%3C/div%3E%0A%20%20%20%20%20%20%20%20%20%20%20%20%20%20%20%20%20%3C/div%3E%60%2C%0A%20%20%20%20%20%20%20%20%20%20%20%20%20%20%20%20%7B%22sticky%22%3A%20true%7D%0A%20%20%20%20%20%20%20%20%20%20%20%20%29%3B%0A%20%20%20%20%20%20%20%20%0A%20%20%20%20%0A%20%20%20%20%20%20%20%20%20%20%20%20var%20circle_e97dfe4e2c4b45aabe676d3ce1115f00%20%3D%20L.circle%28%0A%20%20%20%20%20%20%20%20%20%20%20%20%20%20%20%20%5B-3.3731%2C%2029.9189%5D%2C%0A%20%20%20%20%20%20%20%20%20%20%20%20%20%20%20%20%7B%22bubblingMouseEvents%22%3A%20true%2C%20%22color%22%3A%20%22red%22%2C%20%22dashArray%22%3A%20null%2C%20%22dashOffset%22%3A%20null%2C%20%22fill%22%3A%20true%2C%20%22fillColor%22%3A%20%22indigo%22%2C%20%22fillOpacity%22%3A%200.2%2C%20%22fillRule%22%3A%20%22evenodd%22%2C%20%22lineCap%22%3A%20%22round%22%2C%20%22lineJoin%22%3A%20%22round%22%2C%20%22opacity%22%3A%201.0%2C%20%22radius%22%3A%2041000.0%2C%20%22stroke%22%3A%20true%2C%20%22weight%22%3A%203%7D%0A%20%20%20%20%20%20%20%20%20%20%20%20%29.addTo%28map_a1d00f7722f64a9393b48021895cff65%29%3B%0A%20%20%20%20%20%20%20%20%0A%20%20%20%20%0A%20%20%20%20%20%20%20%20%20%20%20%20circle_e97dfe4e2c4b45aabe676d3ce1115f00.bindTooltip%28%0A%20%20%20%20%20%20%20%20%20%20%20%20%20%20%20%20%60%3Cdiv%3E%0A%20%20%20%20%20%20%20%20%20%20%20%20%20%20%20%20%20%20%20%20%20%3Cdiv%20style%3D%27margin%3A%200%3B%20background-color%3A%20black%3B%20color%3A%20white%3B%27%3E%3Ch4%20style%3D%27text-align%3Acenter%3Bfont-weight%3A%20bold%27%3EBurundi%3C/h4%3E%3Chr%20style%3D%27margin%3A10px%3Bcolor%3A%20white%3B%27%3E%3Cul%20style%3D%27color%3A%20white%3B%3Blist-style-type%3Acircle%3Balign-item%3Aleft%3Bpadding-left%3A20px%3Bpadding-right%3A20px%27%3E%3Cli%3EConfirmed%3A%204069%3C/li%3E%3Cli%3EDeaths%3A%20%20%206%3C/li%3E%3Cli%3EDeath%20Rate%3A%200.15%3C/li%3E%3C/ul%3E%3C/div%3E%0A%20%20%20%20%20%20%20%20%20%20%20%20%20%20%20%20%20%3C/div%3E%60%2C%0A%20%20%20%20%20%20%20%20%20%20%20%20%20%20%20%20%7B%22sticky%22%3A%20true%7D%0A%20%20%20%20%20%20%20%20%20%20%20%20%29%3B%0A%20%20%20%20%20%20%20%20%0A%20%20%20%20%0A%20%20%20%20%20%20%20%20%20%20%20%20var%20circle_2a89b57d6226498d972255f5c92cbf91%20%3D%20L.circle%28%0A%20%20%20%20%20%20%20%20%20%20%20%20%20%20%20%20%5B16.5388%2C%20-23.0418%5D%2C%0A%20%20%20%20%20%20%20%20%20%20%20%20%20%20%20%20%7B%22bubblingMouseEvents%22%3A%20true%2C%20%22color%22%3A%20%22red%22%2C%20%22dashArray%22%3A%20null%2C%20%22dashOffset%22%3A%20null%2C%20%22fill%22%3A%20true%2C%20%22fillColor%22%3A%20%22indigo%22%2C%20%22fillOpacity%22%3A%200.2%2C%20%22fillRule%22%3A%20%22evenodd%22%2C%20%22lineCap%22%3A%20%22round%22%2C%20%22lineJoin%22%3A%20%22round%22%2C%20%22opacity%22%3A%201.0%2C%20%22radius%22%3A%2051000.0%2C%20%22stroke%22%3A%20true%2C%20%22weight%22%3A%203%7D%0A%20%20%20%20%20%20%20%20%20%20%20%20%29.addTo%28map_a1d00f7722f64a9393b48021895cff65%29%3B%0A%20%20%20%20%20%20%20%20%0A%20%20%20%20%0A%20%20%20%20%20%20%20%20%20%20%20%20circle_2a89b57d6226498d972255f5c92cbf91.bindTooltip%28%0A%20%20%20%20%20%20%20%20%20%20%20%20%20%20%20%20%60%3Cdiv%3E%0A%20%20%20%20%20%20%20%20%20%20%20%20%20%20%20%20%20%20%20%20%20%3Cdiv%20style%3D%27margin%3A%200%3B%20background-color%3A%20black%3B%20color%3A%20white%3B%27%3E%3Ch4%20style%3D%27text-align%3Acenter%3Bfont-weight%3A%20bold%27%3ECabo%20Verde%3C/h4%3E%3Chr%20style%3D%27margin%3A10px%3Bcolor%3A%20white%3B%27%3E%3Cul%20style%3D%27color%3A%20white%3B%3Blist-style-type%3Acircle%3Balign-item%3Aleft%3Bpadding-left%3A20px%3Bpadding-right%3A20px%27%3E%3Cli%3EConfirmed%3A%2025159%3C/li%3E%3Cli%3EDeaths%3A%20%20%20229%3C/li%3E%3Cli%3EDeath%20Rate%3A%200.91%3C/li%3E%3C/ul%3E%3C/div%3E%0A%20%20%20%20%20%20%20%20%20%20%20%20%20%20%20%20%20%3C/div%3E%60%2C%0A%20%20%20%20%20%20%20%20%20%20%20%20%20%20%20%20%7B%22sticky%22%3A%20true%7D%0A%20%20%20%20%20%20%20%20%20%20%20%20%29%3B%0A%20%20%20%20%20%20%20%20%0A%20%20%20%20%0A%20%20%20%20%20%20%20%20%20%20%20%20var%20circle_fd6b347849b0438888aed13780c80698%20%3D%20L.circle%28%0A%20%20%20%20%20%20%20%20%20%20%20%20%20%20%20%20%5B11.55%2C%20104.9167%5D%2C%0A%20%20%20%20%20%20%20%20%20%20%20%20%20%20%20%20%7B%22bubblingMouseEvents%22%3A%20true%2C%20%22color%22%3A%20%22red%22%2C%20%22dashArray%22%3A%20null%2C%20%22dashOffset%22%3A%20null%2C%20%22fill%22%3A%20true%2C%20%22fillColor%22%3A%20%22indigo%22%2C%20%22fillOpacity%22%3A%200.2%2C%20%22fillRule%22%3A%20%22evenodd%22%2C%20%22lineCap%22%3A%20%22round%22%2C%20%22lineJoin%22%3A%20%22round%22%2C%20%22opacity%22%3A%201.0%2C%20%22radius%22%3A%2046000.0%2C%20%22stroke%22%3A%20true%2C%20%22weight%22%3A%203%7D%0A%20%20%20%20%20%20%20%20%20%20%20%20%29.addTo%28map_a1d00f7722f64a9393b48021895cff65%29%3B%0A%20%20%20%20%20%20%20%20%0A%20%20%20%20%0A%20%20%20%20%20%20%20%20%20%20%20%20circle_fd6b347849b0438888aed13780c80698.bindTooltip%28%0A%20%20%20%20%20%20%20%20%20%20%20%20%20%20%20%20%60%3Cdiv%3E%0A%20%20%20%20%20%20%20%20%20%20%20%20%20%20%20%20%20%20%20%20%20%3Cdiv%20style%3D%27margin%3A%200%3B%20background-color%3A%20black%3B%20color%3A%20white%3B%27%3E%3Ch4%20style%3D%27text-align%3Acenter%3Bfont-weight%3A%20bold%27%3ECambodia%3C/h4%3E%3Chr%20style%3D%27margin%3A10px%3Bcolor%3A%20white%3B%27%3E%3Cul%20style%3D%27color%3A%20white%3B%3Blist-style-type%3Acircle%3Balign-item%3Aleft%3Bpadding-left%3A20px%3Bpadding-right%3A20px%27%3E%3Cli%3EConfirmed%3A%2016971%3C/li%3E%3Cli%3EDeaths%3A%20%20%20110%3C/li%3E%3Cli%3EDeath%20Rate%3A%200.65%3C/li%3E%3C/ul%3E%3C/div%3E%0A%20%20%20%20%20%20%20%20%20%20%20%20%20%20%20%20%20%3C/div%3E%60%2C%0A%20%20%20%20%20%20%20%20%20%20%20%20%20%20%20%20%7B%22sticky%22%3A%20true%7D%0A%20%20%20%20%20%20%20%20%20%20%20%20%29%3B%0A%20%20%20%20%20%20%20%20%0A%20%20%20%20%0A%20%20%20%20%20%20%20%20%20%20%20%20var%20circle_e475011354f14c7c97e4c478bebddbd9%20%3D%20L.circle%28%0A%20%20%20%20%20%20%20%20%20%20%20%20%20%20%20%20%5B3.8480000000000003%2C%2011.5021%5D%2C%0A%20%20%20%20%20%20%20%20%20%20%20%20%20%20%20%20%7B%22bubblingMouseEvents%22%3A%20true%2C%20%22color%22%3A%20%22red%22%2C%20%22dashArray%22%3A%20null%2C%20%22dashOffset%22%3A%20null%2C%20%22fill%22%3A%20true%2C%20%22fillColor%22%3A%20%22indigo%22%2C%20%22fillOpacity%22%3A%200.2%2C%20%22fillRule%22%3A%20%22evenodd%22%2C%20%22lineCap%22%3A%20%22round%22%2C%20%22lineJoin%22%3A%20%22round%22%2C%20%22opacity%22%3A%201.0%2C%20%22radius%22%3A%2056000.0%2C%20%22stroke%22%3A%20true%2C%20%22weight%22%3A%203%7D%0A%20%20%20%20%20%20%20%20%20%20%20%20%29.addTo%28map_a1d00f7722f64a9393b48021895cff65%29%3B%0A%20%20%20%20%20%20%20%20%0A%20%20%20%20%0A%20%20%20%20%20%20%20%20%20%20%20%20circle_e475011354f14c7c97e4c478bebddbd9.bindTooltip%28%0A%20%20%20%20%20%20%20%20%20%20%20%20%20%20%20%20%60%3Cdiv%3E%0A%20%20%20%20%20%20%20%20%20%20%20%20%20%20%20%20%20%20%20%20%20%3Cdiv%20style%3D%27margin%3A%200%3B%20background-color%3A%20black%3B%20color%3A%20white%3B%27%3E%3Ch4%20style%3D%27text-align%3Acenter%3Bfont-weight%3A%20bold%27%3ECameroon%3C/h4%3E%3Chr%20style%3D%27margin%3A10px%3Bcolor%3A%20white%3B%27%3E%3Cul%20style%3D%27color%3A%20white%3B%3Blist-style-type%3Acircle%3Balign-item%3Aleft%3Bpadding-left%3A20px%3Bpadding-right%3A20px%27%3E%3Cli%3EConfirmed%3A%2072250%3C/li%3E%3Cli%3EDeaths%3A%20%20%201107%3C/li%3E%3Cli%3EDeath%20Rate%3A%201.53%3C/li%3E%3C/ul%3E%3C/div%3E%0A%20%20%20%20%20%20%20%20%20%20%20%20%20%20%20%20%20%3C/div%3E%60%2C%0A%20%20%20%20%20%20%20%20%20%20%20%20%20%20%20%20%7B%22sticky%22%3A%20true%7D%0A%20%20%20%20%20%20%20%20%20%20%20%20%29%3B%0A%20%20%20%20%20%20%20%20%0A%20%20%20%20%0A%20%20%20%20%20%20%20%20%20%20%20%20var%20circle_d9fd8fbd877548e89b2e65311d837eca%20%3D%20L.circle%28%0A%20%20%20%20%20%20%20%20%20%20%20%20%20%20%20%20%5B53.9333%2C%20-116.5765%5D%2C%0A%20%20%20%20%20%20%20%20%20%20%20%20%20%20%20%20%7B%22bubblingMouseEvents%22%3A%20true%2C%20%22color%22%3A%20%22red%22%2C%20%22dashArray%22%3A%20null%2C%20%22dashOffset%22%3A%20null%2C%20%22fill%22%3A%20true%2C%20%22fillColor%22%3A%20%22indigo%22%2C%20%22fillOpacity%22%3A%200.2%2C%20%22fillRule%22%3A%20%22evenodd%22%2C%20%22lineCap%22%3A%20%22round%22%2C%20%22lineJoin%22%3A%20%22round%22%2C%20%22opacity%22%3A%201.0%2C%20%22radius%22%3A%2061000.0%2C%20%22stroke%22%3A%20true%2C%20%22weight%22%3A%203%7D%0A%20%20%20%20%20%20%20%20%20%20%20%20%29.addTo%28map_a1d00f7722f64a9393b48021895cff65%29%3B%0A%20%20%20%20%20%20%20%20%0A%20%20%20%20%0A%20%20%20%20%20%20%20%20%20%20%20%20circle_d9fd8fbd877548e89b2e65311d837eca.bindTooltip%28%0A%20%20%20%20%20%20%20%20%20%20%20%20%20%20%20%20%60%3Cdiv%3E%0A%20%20%20%20%20%20%20%20%20%20%20%20%20%20%20%20%20%20%20%20%20%3Cdiv%20style%3D%27margin%3A%200%3B%20background-color%3A%20black%3B%20color%3A%20white%3B%27%3E%3Ch4%20style%3D%27text-align%3Acenter%3Bfont-weight%3A%20bold%27%3ECanada%3C/h4%3E%3Chr%20style%3D%27margin%3A10px%3Bcolor%3A%20white%3B%27%3E%3Cul%20style%3D%27color%3A%20white%3B%3Blist-style-type%3Acircle%3Balign-item%3Aleft%3Bpadding-left%3A20px%3Bpadding-right%3A20px%27%3E%3Cli%3EConfirmed%3A%20200924%3C/li%3E%3Cli%3EDeaths%3A%20%20%202102%3C/li%3E%3Cli%3EDeath%20Rate%3A%201.05%3C/li%3E%3C/ul%3E%3C/div%3E%0A%20%20%20%20%20%20%20%20%20%20%20%20%20%20%20%20%20%3C/div%3E%60%2C%0A%20%20%20%20%20%20%20%20%20%20%20%20%20%20%20%20%7B%22sticky%22%3A%20true%7D%0A%20%20%20%20%20%20%20%20%20%20%20%20%29%3B%0A%20%20%20%20%20%20%20%20%0A%20%20%20%20%0A%20%20%20%20%20%20%20%20%20%20%20%20var%20circle_1cac8ee48b694e7c9c6c1095e606cd19%20%3D%20L.circle%28%0A%20%20%20%20%20%20%20%20%20%20%20%20%20%20%20%20%5B53.7267%2C%20-127.6476%5D%2C%0A%20%20%20%20%20%20%20%20%20%20%20%20%20%20%20%20%7B%22bubblingMouseEvents%22%3A%20true%2C%20%22color%22%3A%20%22red%22%2C%20%22dashArray%22%3A%20null%2C%20%22dashOffset%22%3A%20null%2C%20%22fill%22%3A%20true%2C%20%22fillColor%22%3A%20%22indigo%22%2C%20%22fillOpacity%22%3A%200.2%2C%20%22fillRule%22%3A%20%22evenodd%22%2C%20%22lineCap%22%3A%20%22round%22%2C%20%22lineJoin%22%3A%20%22round%22%2C%20%22opacity%22%3A%201.0%2C%20%22radius%22%3A%2056000.0%2C%20%22stroke%22%3A%20true%2C%20%22weight%22%3A%203%7D%0A%20%20%20%20%20%20%20%20%20%20%20%20%29.addTo%28map_a1d00f7722f64a9393b48021895cff65%29%3B%0A%20%20%20%20%20%20%20%20%0A%20%20%20%20%0A%20%20%20%20%20%20%20%20%20%20%20%20circle_1cac8ee48b694e7c9c6c1095e606cd19.bindTooltip%28%0A%20%20%20%20%20%20%20%20%20%20%20%20%20%20%20%20%60%3Cdiv%3E%0A%20%20%20%20%20%20%20%20%20%20%20%20%20%20%20%20%20%20%20%20%20%3Cdiv%20style%3D%27margin%3A%200%3B%20background-color%3A%20black%3B%20color%3A%20white%3B%27%3E%3Ch4%20style%3D%27text-align%3Acenter%3Bfont-weight%3A%20bold%27%3ECanada%3C/h4%3E%3Chr%20style%3D%27margin%3A10px%3Bcolor%3A%20white%3B%27%3E%3Cul%20style%3D%27color%3A%20white%3B%3Blist-style-type%3Acircle%3Balign-item%3Aleft%3Bpadding-left%3A20px%3Bpadding-right%3A20px%27%3E%3Cli%3EConfirmed%3A%20132925%3C/li%3E%3Cli%3EDeaths%3A%20%20%201594%3C/li%3E%3Cli%3EDeath%20Rate%3A%201.2%3C/li%3E%3C/ul%3E%3C/div%3E%0A%20%20%20%20%20%20%20%20%20%20%20%20%20%20%20%20%20%3C/div%3E%60%2C%0A%20%20%20%20%20%20%20%20%20%20%20%20%20%20%20%20%7B%22sticky%22%3A%20true%7D%0A%20%20%20%20%20%20%20%20%20%20%20%20%29%3B%0A%20%20%20%20%20%20%20%20%0A%20%20%20%20%0A%20%20%20%20%20%20%20%20%20%20%20%20var%20circle_9aa29525b6854c6881141d2bf349f125%20%3D%20L.circle%28%0A%20%20%20%20%20%20%20%20%20%20%20%20%20%20%20%20%5B0.0%2C%200.0%5D%2C%0A%20%20%20%20%20%20%20%20%20%20%20%20%20%20%20%20%7B%22bubblingMouseEvents%22%3A%20true%2C%20%22color%22%3A%20%22red%22%2C%20%22dashArray%22%3A%20null%2C%20%22dashOffset%22%3A%20null%2C%20%22fill%22%3A%20true%2C%20%22fillColor%22%3A%20%22indigo%22%2C%20%22fillOpacity%22%3A%200.2%2C%20%22fillRule%22%3A%20%22evenodd%22%2C%20%22lineCap%22%3A%20%22round%22%2C%20%22lineJoin%22%3A%20%22round%22%2C%20%22opacity%22%3A%201.0%2C%20%22radius%22%3A%201000.0%2C%20%22stroke%22%3A%20true%2C%20%22weight%22%3A%203%7D%0A%20%20%20%20%20%20%20%20%20%20%20%20%29.addTo%28map_a1d00f7722f64a9393b48021895cff65%29%3B%0A%20%20%20%20%20%20%20%20%0A%20%20%20%20%0A%20%20%20%20%20%20%20%20%20%20%20%20circle_9aa29525b6854c6881141d2bf349f125.bindTooltip%28%0A%20%20%20%20%20%20%20%20%20%20%20%20%20%20%20%20%60%3Cdiv%3E%0A%20%20%20%20%20%20%20%20%20%20%20%20%20%20%20%20%20%20%20%20%20%3Cdiv%20style%3D%27margin%3A%200%3B%20background-color%3A%20black%3B%20color%3A%20white%3B%27%3E%3Ch4%20style%3D%27text-align%3Acenter%3Bfont-weight%3A%20bold%27%3ECanada%3C/h4%3E%3Chr%20style%3D%27margin%3A10px%3Bcolor%3A%20white%3B%27%3E%3Cul%20style%3D%27color%3A%20white%3B%3Blist-style-type%3Acircle%3Balign-item%3Aleft%3Bpadding-left%3A20px%3Bpadding-right%3A20px%27%3E%3Cli%3EConfirmed%3A%200%3C/li%3E%3Cli%3EDeaths%3A%20%20%201%3C/li%3E%3Cli%3EDeath%20Rate%3A%20100.0%3C/li%3E%3C/ul%3E%3C/div%3E%0A%20%20%20%20%20%20%20%20%20%20%20%20%20%20%20%20%20%3C/div%3E%60%2C%0A%20%20%20%20%20%20%20%20%20%20%20%20%20%20%20%20%7B%22sticky%22%3A%20true%7D%0A%20%20%20%20%20%20%20%20%20%20%20%20%29%3B%0A%20%20%20%20%20%20%20%20%0A%20%20%20%20%0A%20%20%20%20%20%20%20%20%20%20%20%20var%20circle_8bfc0b7f28ca403cbd3bff392977f899%20%3D%20L.circle%28%0A%20%20%20%20%20%20%20%20%20%20%20%20%20%20%20%20%5B0.0%2C%200.0%5D%2C%0A%20%20%20%20%20%20%20%20%20%20%20%20%20%20%20%20%7B%22bubblingMouseEvents%22%3A%20true%2C%20%22color%22%3A%20%22red%22%2C%20%22dashArray%22%3A%20null%2C%20%22dashOffset%22%3A%20null%2C%20%22fill%22%3A%20true%2C%20%22fillColor%22%3A%20%22indigo%22%2C%20%22fillOpacity%22%3A%200.2%2C%20%22fillRule%22%3A%20%22evenodd%22%2C%20%22lineCap%22%3A%20%22round%22%2C%20%22lineJoin%22%3A%20%22round%22%2C%20%22opacity%22%3A%201.0%2C%20%22radius%22%3A%2011000.0%2C%20%22stroke%22%3A%20true%2C%20%22weight%22%3A%203%7D%0A%20%20%20%20%20%20%20%20%20%20%20%20%29.addTo%28map_a1d00f7722f64a9393b48021895cff65%29%3B%0A%20%20%20%20%20%20%20%20%0A%20%20%20%20%0A%20%20%20%20%20%20%20%20%20%20%20%20circle_8bfc0b7f28ca403cbd3bff392977f899.bindTooltip%28%0A%20%20%20%20%20%20%20%20%20%20%20%20%20%20%20%20%60%3Cdiv%3E%0A%20%20%20%20%20%20%20%20%20%20%20%20%20%20%20%20%20%20%20%20%20%3Cdiv%20style%3D%27margin%3A%200%3B%20background-color%3A%20black%3B%20color%3A%20white%3B%27%3E%3Ch4%20style%3D%27text-align%3Acenter%3Bfont-weight%3A%20bold%27%3ECanada%3C/h4%3E%3Chr%20style%3D%27margin%3A10px%3Bcolor%3A%20white%3B%27%3E%3Cul%20style%3D%27color%3A%20white%3B%3Blist-style-type%3Acircle%3Balign-item%3Aleft%3Bpadding-left%3A20px%3Bpadding-right%3A20px%27%3E%3Cli%3EConfirmed%3A%2013%3C/li%3E%3Cli%3EDeaths%3A%20%20%200%3C/li%3E%3Cli%3EDeath%20Rate%3A%200.0%3C/li%3E%3C/ul%3E%3C/div%3E%0A%20%20%20%20%20%20%20%20%20%20%20%20%20%20%20%20%20%3C/div%3E%60%2C%0A%20%20%20%20%20%20%20%20%20%20%20%20%20%20%20%20%7B%22sticky%22%3A%20true%7D%0A%20%20%20%20%20%20%20%20%20%20%20%20%29%3B%0A%20%20%20%20%20%20%20%20%0A%20%20%20%20%0A%20%20%20%20%20%20%20%20%20%20%20%20var%20circle_d591725e7ead49f0b752ff3c90216ea7%20%3D%20L.circle%28%0A%20%20%20%20%20%20%20%20%20%20%20%20%20%20%20%20%5B53.7609%2C%20-98.8139%5D%2C%0A%20%20%20%20%20%20%20%20%20%20%20%20%20%20%20%20%7B%22bubblingMouseEvents%22%3A%20true%2C%20%22color%22%3A%20%22red%22%2C%20%22dashArray%22%3A%20null%2C%20%22dashOffset%22%3A%20null%2C%20%22fill%22%3A%20true%2C%20%22fillColor%22%3A%20%22indigo%22%2C%20%22fillOpacity%22%3A%200.2%2C%20%22fillRule%22%3A%20%22evenodd%22%2C%20%22lineCap%22%3A%20%22round%22%2C%20%22lineJoin%22%3A%20%22round%22%2C%20%22opacity%22%3A%201.0%2C%20%22radius%22%3A%2051000.0%2C%20%22stroke%22%3A%20true%2C%20%22weight%22%3A%203%7D%0A%20%20%20%20%20%20%20%20%20%20%20%20%29.addTo%28map_a1d00f7722f64a9393b48021895cff65%29%3B%0A%20%20%20%20%20%20%20%20%0A%20%20%20%20%0A%20%20%20%20%20%20%20%20%20%20%20%20circle_d591725e7ead49f0b752ff3c90216ea7.bindTooltip%28%0A%20%20%20%20%20%20%20%20%20%20%20%20%20%20%20%20%60%3Cdiv%3E%0A%20%20%20%20%20%20%20%20%20%20%20%20%20%20%20%20%20%20%20%20%20%3Cdiv%20style%3D%27margin%3A%200%3B%20background-color%3A%20black%3B%20color%3A%20white%3B%27%3E%3Ch4%20style%3D%27text-align%3Acenter%3Bfont-weight%3A%20bold%27%3ECanada%3C/h4%3E%3Chr%20style%3D%27margin%3A10px%3Bcolor%3A%20white%3B%27%3E%3Cul%20style%3D%27color%3A%20white%3B%3Blist-style-type%3Acircle%3Balign-item%3Aleft%3Bpadding-left%3A20px%3Bpadding-right%3A20px%27%3E%3Cli%3EConfirmed%3A%2040085%3C/li%3E%3Cli%3EDeaths%3A%20%20%20982%3C/li%3E%3Cli%3EDeath%20Rate%3A%202.45%3C/li%3E%3C/ul%3E%3C/div%3E%0A%20%20%20%20%20%20%20%20%20%20%20%20%20%20%20%20%20%3C/div%3E%60%2C%0A%20%20%20%20%20%20%20%20%20%20%20%20%20%20%20%20%7B%22sticky%22%3A%20true%7D%0A%20%20%20%20%20%20%20%20%20%20%20%20%29%3B%0A%20%20%20%20%20%20%20%20%0A%20%20%20%20%0A%20%20%20%20%20%20%20%20%20%20%20%20var%20circle_81f7e4146613477b8313edb816c32cbb%20%3D%20L.circle%28%0A%20%20%20%20%20%20%20%20%20%20%20%20%20%20%20%20%5B46.5653%2C%20-66.4619%5D%2C%0A%20%20%20%20%20%20%20%20%20%20%20%20%20%20%20%20%7B%22bubblingMouseEvents%22%3A%20true%2C%20%22color%22%3A%20%22red%22%2C%20%22dashArray%22%3A%20null%2C%20%22dashOffset%22%3A%20null%2C%20%22fill%22%3A%20true%2C%20%22fillColor%22%3A%20%22indigo%22%2C%20%22fillOpacity%22%3A%200.2%2C%20%22fillRule%22%3A%20%22evenodd%22%2C%20%22lineCap%22%3A%20%22round%22%2C%20%22lineJoin%22%3A%20%22round%22%2C%20%22opacity%22%3A%201.0%2C%20%22radius%22%3A%2036000.0%2C%20%22stroke%22%3A%20true%2C%20%22weight%22%3A%203%7D%0A%20%20%20%20%20%20%20%20%20%20%20%20%29.addTo%28map_a1d00f7722f64a9393b48021895cff65%29%3B%0A%20%20%20%20%20%20%20%20%0A%20%20%20%20%0A%20%20%20%20%20%20%20%20%20%20%20%20circle_81f7e4146613477b8313edb816c32cbb.bindTooltip%28%0A%20%20%20%20%20%20%20%20%20%20%20%20%20%20%20%20%60%3Cdiv%3E%0A%20%20%20%20%20%20%20%20%20%20%20%20%20%20%20%20%20%20%20%20%20%3Cdiv%20style%3D%27margin%3A%200%3B%20background-color%3A%20black%3B%20color%3A%20white%3B%27%3E%3Ch4%20style%3D%27text-align%3Acenter%3Bfont-weight%3A%20bold%27%3ECanada%3C/h4%3E%3Chr%20style%3D%27margin%3A10px%3Bcolor%3A%20white%3B%27%3E%3Cul%20style%3D%27color%3A%20white%3B%3Blist-style-type%3Acircle%3Balign-item%3Aleft%3Bpadding-left%3A20px%3Bpadding-right%3A20px%27%3E%3Cli%3EConfirmed%3A%201969%3C/li%3E%3Cli%3EDeaths%3A%20%20%2039%3C/li%3E%3Cli%3EDeath%20Rate%3A%201.98%3C/li%3E%3C/ul%3E%3C/div%3E%0A%20%20%20%20%20%20%20%20%20%20%20%20%20%20%20%20%20%3C/div%3E%60%2C%0A%20%20%20%20%20%20%20%20%20%20%20%20%20%20%20%20%7B%22sticky%22%3A%20true%7D%0A%20%20%20%20%20%20%20%20%20%20%20%20%29%3B%0A%20%20%20%20%20%20%20%20%0A%20%20%20%20%0A%20%20%20%20%20%20%20%20%20%20%20%20var%20circle_842848a33b084460948dba9873f2ca5d%20%3D%20L.circle%28%0A%20%20%20%20%20%20%20%20%20%20%20%20%20%20%20%20%5B53.1355%2C%20-57.6604%5D%2C%0A%20%20%20%20%20%20%20%20%20%20%20%20%20%20%20%20%7B%22bubblingMouseEvents%22%3A%20true%2C%20%22color%22%3A%20%22red%22%2C%20%22dashArray%22%3A%20null%2C%20%22dashOffset%22%3A%20null%2C%20%22fill%22%3A%20true%2C%20%22fillColor%22%3A%20%22indigo%22%2C%20%22fillOpacity%22%3A%200.2%2C%20%22fillRule%22%3A%20%22evenodd%22%2C%20%22lineCap%22%3A%20%22round%22%2C%20%22lineJoin%22%3A%20%22round%22%2C%20%22opacity%22%3A%201.0%2C%20%22radius%22%3A%2036000.0%2C%20%22stroke%22%3A%20true%2C%20%22weight%22%3A%203%7D%0A%20%20%20%20%20%20%20%20%20%20%20%20%29.addTo%28map_a1d00f7722f64a9393b48021895cff65%29%3B%0A%20%20%20%20%20%20%20%20%0A%20%20%20%20%0A%20%20%20%20%20%20%20%20%20%20%20%20circle_842848a33b084460948dba9873f2ca5d.bindTooltip%28%0A%20%20%20%20%20%20%20%20%20%20%20%20%20%20%20%20%60%3Cdiv%3E%0A%20%20%20%20%20%20%20%20%20%20%20%20%20%20%20%20%20%20%20%20%20%3Cdiv%20style%3D%27margin%3A%200%3B%20background-color%3A%20black%3B%20color%3A%20white%3B%27%3E%3Ch4%20style%3D%27text-align%3Acenter%3Bfont-weight%3A%20bold%27%3ECanada%3C/h4%3E%3Chr%20style%3D%27margin%3A10px%3Bcolor%3A%20white%3B%27%3E%3Cul%20style%3D%27color%3A%20white%3B%3Blist-style-type%3Acircle%3Balign-item%3Aleft%3Bpadding-left%3A20px%3Bpadding-right%3A20px%27%3E%3Cli%3EConfirmed%3A%201114%3C/li%3E%3Cli%3EDeaths%3A%20%20%206%3C/li%3E%3Cli%3EDeath%20Rate%3A%200.54%3C/li%3E%3C/ul%3E%3C/div%3E%0A%20%20%20%20%20%20%20%20%20%20%20%20%20%20%20%20%20%3C/div%3E%60%2C%0A%20%20%20%20%20%20%20%20%20%20%20%20%20%20%20%20%7B%22sticky%22%3A%20true%7D%0A%20%20%20%20%20%20%20%20%20%20%20%20%29%3B%0A%20%20%20%20%20%20%20%20%0A%20%20%20%20%0A%20%20%20%20%20%20%20%20%20%20%20%20var%20circle_78216fcc8f404cffae7e0795b5b41e67%20%3D%20L.circle%28%0A%20%20%20%20%20%20%20%20%20%20%20%20%20%20%20%20%5B64.8255%2C%20-124.8457%5D%2C%0A%20%20%20%20%20%20%20%20%20%20%20%20%20%20%20%20%7B%22bubblingMouseEvents%22%3A%20true%2C%20%22color%22%3A%20%22red%22%2C%20%22dashArray%22%3A%20null%2C%20%22dashOffset%22%3A%20null%2C%20%22fill%22%3A%20true%2C%20%22fillColor%22%3A%20%22indigo%22%2C%20%22fillOpacity%22%3A%200.2%2C%20%22fillRule%22%3A%20%22evenodd%22%2C%20%22lineCap%22%3A%20%22round%22%2C%20%22lineJoin%22%3A%20%22round%22%2C%20%22opacity%22%3A%201.0%2C%20%22radius%22%3A%2021000.0%2C%20%22stroke%22%3A%20true%2C%20%22weight%22%3A%203%7D%0A%20%20%20%20%20%20%20%20%20%20%20%20%29.addTo%28map_a1d00f7722f64a9393b48021895cff65%29%3B%0A%20%20%20%20%20%20%20%20%0A%20%20%20%20%0A%20%20%20%20%20%20%20%20%20%20%20%20circle_78216fcc8f404cffae7e0795b5b41e67.bindTooltip%28%0A%20%20%20%20%20%20%20%20%20%20%20%20%20%20%20%20%60%3Cdiv%3E%0A%20%20%20%20%20%20%20%20%20%20%20%20%20%20%20%20%20%20%20%20%20%3Cdiv%20style%3D%27margin%3A%200%3B%20background-color%3A%20black%3B%20color%3A%20white%3B%27%3E%3Ch4%20style%3D%27text-align%3Acenter%3Bfont-weight%3A%20bold%27%3ECanada%3C/h4%3E%3Chr%20style%3D%27margin%3A10px%3Bcolor%3A%20white%3B%27%3E%3Cul%20style%3D%27color%3A%20white%3B%3Blist-style-type%3Acircle%3Balign-item%3Aleft%3Bpadding-left%3A20px%3Bpadding-right%3A20px%27%3E%3Cli%3EConfirmed%3A%2091%3C/li%3E%3Cli%3EDeaths%3A%20%20%200%3C/li%3E%3Cli%3EDeath%20Rate%3A%200.0%3C/li%3E%3C/ul%3E%3C/div%3E%0A%20%20%20%20%20%20%20%20%20%20%20%20%20%20%20%20%20%3C/div%3E%60%2C%0A%20%20%20%20%20%20%20%20%20%20%20%20%20%20%20%20%7B%22sticky%22%3A%20true%7D%0A%20%20%20%20%20%20%20%20%20%20%20%20%29%3B%0A%20%20%20%20%20%20%20%20%0A%20%20%20%20%0A%20%20%20%20%20%20%20%20%20%20%20%20var%20circle_1892ba830e3e4768a620242c4edfcf68%20%3D%20L.circle%28%0A%20%20%20%20%20%20%20%20%20%20%20%20%20%20%20%20%5B44.681999999999995%2C%20-63.7443%5D%2C%0A%20%20%20%20%20%20%20%20%20%20%20%20%20%20%20%20%7B%22bubblingMouseEvents%22%3A%20true%2C%20%22color%22%3A%20%22red%22%2C%20%22dashArray%22%3A%20null%2C%20%22dashOffset%22%3A%20null%2C%20%22fill%22%3A%20true%2C%20%22fillColor%22%3A%20%22indigo%22%2C%20%22fillOpacity%22%3A%200.2%2C%20%22fillRule%22%3A%20%22evenodd%22%2C%20%22lineCap%22%3A%20%22round%22%2C%20%22lineJoin%22%3A%20%22round%22%2C%20%22opacity%22%3A%201.0%2C%20%22radius%22%3A%2041000.0%2C%20%22stroke%22%3A%20true%2C%20%22weight%22%3A%203%7D%0A%20%20%20%20%20%20%20%20%20%20%20%20%29.addTo%28map_a1d00f7722f64a9393b48021895cff65%29%3B%0A%20%20%20%20%20%20%20%20%0A%20%20%20%20%0A%20%20%20%20%20%20%20%20%20%20%20%20circle_1892ba830e3e4768a620242c4edfcf68.bindTooltip%28%0A%20%20%20%20%20%20%20%20%20%20%20%20%20%20%20%20%60%3Cdiv%3E%0A%20%20%20%20%20%20%20%20%20%20%20%20%20%20%20%20%20%20%20%20%20%3Cdiv%20style%3D%27margin%3A%200%3B%20background-color%3A%20black%3B%20color%3A%20white%3B%27%3E%3Ch4%20style%3D%27text-align%3Acenter%3Bfont-weight%3A%20bold%27%3ECanada%3C/h4%3E%3Chr%20style%3D%27margin%3A10px%3Bcolor%3A%20white%3B%27%3E%3Cul%20style%3D%27color%3A%20white%3B%3Blist-style-type%3Acircle%3Balign-item%3Aleft%3Bpadding-left%3A20px%3Bpadding-right%3A20px%27%3E%3Cli%3EConfirmed%3A%203182%3C/li%3E%3Cli%3EDeaths%3A%20%20%2069%3C/li%3E%3Cli%3EDeath%20Rate%3A%202.17%3C/li%3E%3C/ul%3E%3C/div%3E%0A%20%20%20%20%20%20%20%20%20%20%20%20%20%20%20%20%20%3C/div%3E%60%2C%0A%20%20%20%20%20%20%20%20%20%20%20%20%20%20%20%20%7B%22sticky%22%3A%20true%7D%0A%20%20%20%20%20%20%20%20%20%20%20%20%29%3B%0A%20%20%20%20%20%20%20%20%0A%20%20%20%20%0A%20%20%20%20%20%20%20%20%20%20%20%20var%20circle_c61fe9d9cbf34b9a84c4d69bcf692373%20%3D%20L.circle%28%0A%20%20%20%20%20%20%20%20%20%20%20%20%20%20%20%20%5B70.2998%2C%20-83.1076%5D%2C%0A%20%20%20%20%20%20%20%20%20%20%20%20%20%20%20%20%7B%22bubblingMouseEvents%22%3A%20true%2C%20%22color%22%3A%20%22red%22%2C%20%22dashArray%22%3A%20null%2C%20%22dashOffset%22%3A%20null%2C%20%22fill%22%3A%20true%2C%20%22fillColor%22%3A%20%22indigo%22%2C%20%22fillOpacity%22%3A%200.2%2C%20%22fillRule%22%3A%20%22evenodd%22%2C%20%22lineCap%22%3A%20%22round%22%2C%20%22lineJoin%22%3A%20%22round%22%2C%20%22opacity%22%3A%201.0%2C%20%22radius%22%3A%2031000.0%2C%20%22stroke%22%3A%20true%2C%20%22weight%22%3A%203%7D%0A%20%20%20%20%20%20%20%20%20%20%20%20%29.addTo%28map_a1d00f7722f64a9393b48021895cff65%29%3B%0A%20%20%20%20%20%20%20%20%0A%20%20%20%20%0A%20%20%20%20%20%20%20%20%20%20%20%20circle_c61fe9d9cbf34b9a84c4d69bcf692373.bindTooltip%28%0A%20%20%20%20%20%20%20%20%20%20%20%20%20%20%20%20%60%3Cdiv%3E%0A%20%20%20%20%20%20%20%20%20%20%20%20%20%20%20%20%20%20%20%20%20%3Cdiv%20style%3D%27margin%3A%200%3B%20background-color%3A%20black%3B%20color%3A%20white%3B%27%3E%3Ch4%20style%3D%27text-align%3Acenter%3Bfont-weight%3A%20bold%27%3ECanada%3C/h4%3E%3Chr%20style%3D%27margin%3A10px%3Bcolor%3A%20white%3B%27%3E%3Cul%20style%3D%27color%3A%20white%3B%3Blist-style-type%3Acircle%3Balign-item%3Aleft%3Bpadding-left%3A20px%3Bpadding-right%3A20px%27%3E%3Cli%3EConfirmed%3A%20540%3C/li%3E%3Cli%3EDeaths%3A%20%20%204%3C/li%3E%3Cli%3EDeath%20Rate%3A%200.74%3C/li%3E%3C/ul%3E%3C/div%3E%0A%20%20%20%20%20%20%20%20%20%20%20%20%20%20%20%20%20%3C/div%3E%60%2C%0A%20%20%20%20%20%20%20%20%20%20%20%20%20%20%20%20%7B%22sticky%22%3A%20true%7D%0A%20%20%20%20%20%20%20%20%20%20%20%20%29%3B%0A%20%20%20%20%20%20%20%20%0A%20%20%20%20%0A%20%20%20%20%20%20%20%20%20%20%20%20var%20circle_f07b506d53b246b1b18ad854f92395f7%20%3D%20L.circle%28%0A%20%20%20%20%20%20%20%20%20%20%20%20%20%20%20%20%5B51.2538%2C%20-85.3232%5D%2C%0A%20%20%20%20%20%20%20%20%20%20%20%20%20%20%20%20%7B%22bubblingMouseEvents%22%3A%20true%2C%20%22color%22%3A%20%22red%22%2C%20%22dashArray%22%3A%20null%2C%20%22dashOffset%22%3A%20null%2C%20%22fill%22%3A%20true%2C%20%22fillColor%22%3A%20%22indigo%22%2C%20%22fillOpacity%22%3A%200.2%2C%20%22fillRule%22%3A%20%22evenodd%22%2C%20%22lineCap%22%3A%20%22round%22%2C%20%22lineJoin%22%3A%20%22round%22%2C%20%22opacity%22%3A%201.0%2C%20%22radius%22%3A%2066000.0%2C%20%22stroke%22%3A%20true%2C%20%22weight%22%3A%203%7D%0A%20%20%20%20%20%20%20%20%20%20%20%20%29.addTo%28map_a1d00f7722f64a9393b48021895cff65%29%3B%0A%20%20%20%20%20%20%20%20%0A%20%20%20%20%0A%20%20%20%20%20%20%20%20%20%20%20%20circle_f07b506d53b246b1b18ad854f92395f7.bindTooltip%28%0A%20%20%20%20%20%20%20%20%20%20%20%20%20%20%20%20%60%3Cdiv%3E%0A%20%20%20%20%20%20%20%20%20%20%20%20%20%20%20%20%20%20%20%20%20%3Cdiv%20style%3D%27margin%3A%200%3B%20background-color%3A%20black%3B%20color%3A%20white%3B%27%3E%3Ch4%20style%3D%27text-align%3Acenter%3Bfont-weight%3A%20bold%27%3ECanada%3C/h4%3E%3Chr%20style%3D%27margin%3A10px%3Bcolor%3A%20white%3B%27%3E%3Cul%20style%3D%27color%3A%20white%3B%3Blist-style-type%3Acircle%3Balign-item%3Aleft%3Bpadding-left%3A20px%3Bpadding-right%3A20px%27%3E%3Cli%3EConfirmed%3A%20488535%3C/li%3E%3Cli%3EDeaths%3A%20%20%208173%3C/li%3E%3Cli%3EDeath%20Rate%3A%201.67%3C/li%3E%3C/ul%3E%3C/div%3E%0A%20%20%20%20%20%20%20%20%20%20%20%20%20%20%20%20%20%3C/div%3E%60%2C%0A%20%20%20%20%20%20%20%20%20%20%20%20%20%20%20%20%7B%22sticky%22%3A%20true%7D%0A%20%20%20%20%20%20%20%20%20%20%20%20%29%3B%0A%20%20%20%20%20%20%20%20%0A%20%20%20%20%0A%20%20%20%20%20%20%20%20%20%20%20%20var%20circle_da61745dda4248a9a5cefef23955cf9c%20%3D%20L.circle%28%0A%20%20%20%20%20%20%20%20%20%20%20%20%20%20%20%20%5B46.5107%2C%20-63.4168%5D%2C%0A%20%20%20%20%20%20%20%20%20%20%20%20%20%20%20%20%7B%22bubblingMouseEvents%22%3A%20true%2C%20%22color%22%3A%20%22red%22%2C%20%22dashArray%22%3A%20null%2C%20%22dashOffset%22%3A%20null%2C%20%22fill%22%3A%20true%2C%20%22fillColor%22%3A%20%22indigo%22%2C%20%22fillOpacity%22%3A%200.2%2C%20%22fillRule%22%3A%20%22evenodd%22%2C%20%22lineCap%22%3A%20%22round%22%2C%20%22lineJoin%22%3A%20%22round%22%2C%20%22opacity%22%3A%201.0%2C%20%22radius%22%3A%2026000.0%2C%20%22stroke%22%3A%20true%2C%20%22weight%22%3A%203%7D%0A%20%20%20%20%20%20%20%20%20%20%20%20%29.addTo%28map_a1d00f7722f64a9393b48021895cff65%29%3B%0A%20%20%20%20%20%20%20%20%0A%20%20%20%20%0A%20%20%20%20%20%20%20%20%20%20%20%20circle_da61745dda4248a9a5cefef23955cf9c.bindTooltip%28%0A%20%20%20%20%20%20%20%20%20%20%20%20%20%20%20%20%60%3Cdiv%3E%0A%20%20%20%20%20%20%20%20%20%20%20%20%20%20%20%20%20%20%20%20%20%3Cdiv%20style%3D%27margin%3A%200%3B%20background-color%3A%20black%3B%20color%3A%20white%3B%27%3E%3Ch4%20style%3D%27text-align%3Acenter%3Bfont-weight%3A%20bold%27%3ECanada%3C/h4%3E%3Chr%20style%3D%27margin%3A10px%3Bcolor%3A%20white%3B%27%3E%3Cul%20style%3D%27color%3A%20white%3B%3Blist-style-type%3Acircle%3Balign-item%3Aleft%3Bpadding-left%3A20px%3Bpadding-right%3A20px%27%3E%3Cli%3EConfirmed%3A%20183%3C/li%3E%3Cli%3EDeaths%3A%20%20%200%3C/li%3E%3Cli%3EDeath%20Rate%3A%200.0%3C/li%3E%3C/ul%3E%3C/div%3E%0A%20%20%20%20%20%20%20%20%20%20%20%20%20%20%20%20%20%3C/div%3E%60%2C%0A%20%20%20%20%20%20%20%20%20%20%20%20%20%20%20%20%7B%22sticky%22%3A%20true%7D%0A%20%20%20%20%20%20%20%20%20%20%20%20%29%3B%0A%20%20%20%20%20%20%20%20%0A%20%20%20%20%0A%20%20%20%20%20%20%20%20%20%20%20%20var%20circle_7e749cf0156342b48f757ada18c58150%20%3D%20L.circle%28%0A%20%20%20%20%20%20%20%20%20%20%20%20%20%20%20%20%5B52.9399%2C%20-73.5491%5D%2C%0A%20%20%20%20%20%20%20%20%20%20%20%20%20%20%20%20%7B%22bubblingMouseEvents%22%3A%20true%2C%20%22color%22%3A%20%22red%22%2C%20%22dashArray%22%3A%20null%2C%20%22dashOffset%22%3A%20null%2C%20%22fill%22%3A%20true%2C%20%22fillColor%22%3A%20%22indigo%22%2C%20%22fillOpacity%22%3A%200.2%2C%20%22fillRule%22%3A%20%22evenodd%22%2C%20%22lineCap%22%3A%20%22round%22%2C%20%22lineJoin%22%3A%20%22round%22%2C%20%22opacity%22%3A%201.0%2C%20%22radius%22%3A%2061000.0%2C%20%22stroke%22%3A%20true%2C%20%22weight%22%3A%203%7D%0A%20%20%20%20%20%20%20%20%20%20%20%20%29.addTo%28map_a1d00f7722f64a9393b48021895cff65%29%3B%0A%20%20%20%20%20%20%20%20%0A%20%20%20%20%0A%20%20%20%20%20%20%20%20%20%20%20%20circle_7e749cf0156342b48f757ada18c58150.bindTooltip%28%0A%20%20%20%20%20%20%20%20%20%20%20%20%20%20%20%20%60%3Cdiv%3E%0A%20%20%20%20%20%20%20%20%20%20%20%20%20%20%20%20%20%20%20%20%20%3Cdiv%20style%3D%27margin%3A%200%3B%20background-color%3A%20black%3B%20color%3A%20white%3B%27%3E%3Ch4%20style%3D%27text-align%3Acenter%3Bfont-weight%3A%20bold%27%3ECanada%3C/h4%3E%3Chr%20style%3D%27margin%3A10px%3Bcolor%3A%20white%3B%27%3E%3Cul%20style%3D%27color%3A%20white%3B%3Blist-style-type%3Acircle%3Balign-item%3Aleft%3Bpadding-left%3A20px%3Bpadding-right%3A20px%27%3E%3Cli%3EConfirmed%3A%20354390%3C/li%3E%3Cli%3EDeaths%3A%20%20%2010964%3C/li%3E%3Cli%3EDeath%20Rate%3A%203.09%3C/li%3E%3C/ul%3E%3C/div%3E%0A%20%20%20%20%20%20%20%20%20%20%20%20%20%20%20%20%20%3C/div%3E%60%2C%0A%20%20%20%20%20%20%20%20%20%20%20%20%20%20%20%20%7B%22sticky%22%3A%20true%7D%0A%20%20%20%20%20%20%20%20%20%20%20%20%29%3B%0A%20%20%20%20%20%20%20%20%0A%20%20%20%20%0A%20%20%20%20%20%20%20%20%20%20%20%20var%20circle_92f9aab9676d41d5bf0e85bbf4bf611f%20%3D%20L.circle%28%0A%20%20%20%20%20%20%20%20%20%20%20%20%20%20%20%20%5B52.9399%2C%20-106.4509%5D%2C%0A%20%20%20%20%20%20%20%20%20%20%20%20%20%20%20%20%7B%22bubblingMouseEvents%22%3A%20true%2C%20%22color%22%3A%20%22red%22%2C%20%22dashArray%22%3A%20null%2C%20%22dashOffset%22%3A%20null%2C%20%22fill%22%3A%20true%2C%20%22fillColor%22%3A%20%22indigo%22%2C%20%22fillOpacity%22%3A%200.2%2C%20%22fillRule%22%3A%20%22evenodd%22%2C%20%22lineCap%22%3A%20%22round%22%2C%20%22lineJoin%22%3A%20%22round%22%2C%20%22opacity%22%3A%201.0%2C%20%22radius%22%3A%2051000.0%2C%20%22stroke%22%3A%20true%2C%20%22weight%22%3A%203%7D%0A%20%20%20%20%20%20%20%20%20%20%20%20%29.addTo%28map_a1d00f7722f64a9393b48021895cff65%29%3B%0A%20%20%20%20%20%20%20%20%0A%20%20%20%20%0A%20%20%20%20%20%20%20%20%20%20%20%20circle_92f9aab9676d41d5bf0e85bbf4bf611f.bindTooltip%28%0A%20%20%20%20%20%20%20%20%20%20%20%20%20%20%20%20%60%3Cdiv%3E%0A%20%20%20%20%20%20%20%20%20%20%20%20%20%20%20%20%20%20%20%20%20%3Cdiv%20style%3D%27margin%3A%200%3B%20background-color%3A%20black%3B%20color%3A%20white%3B%27%3E%3Ch4%20style%3D%27text-align%3Acenter%3Bfont-weight%3A%20bold%27%3ECanada%3C/h4%3E%3Chr%20style%3D%27margin%3A10px%3Bcolor%3A%20white%3B%27%3E%3Cul%20style%3D%27color%3A%20white%3B%3Blist-style-type%3Acircle%3Balign-item%3Aleft%3Bpadding-left%3A20px%3Bpadding-right%3A20px%27%3E%3Cli%3EConfirmed%3A%2042203%3C/li%3E%3Cli%3EDeaths%3A%20%20%200%3C/li%3E%3Cli%3EDeath%20Rate%3A%200.0%3C/li%3E%3C/ul%3E%3C/div%3E%0A%20%20%20%20%20%20%20%20%20%20%20%20%20%20%20%20%20%3C/div%3E%60%2C%0A%20%20%20%20%20%20%20%20%20%20%20%20%20%20%20%20%7B%22sticky%22%3A%20true%7D%0A%20%20%20%20%20%20%20%20%20%20%20%20%29%3B%0A%20%20%20%20%20%20%20%20%0A%20%20%20%20%0A%20%20%20%20%20%20%20%20%20%20%20%20var%20circle_147de6bd2efb4924857d4da95c3e3f58%20%3D%20L.circle%28%0A%20%20%20%20%20%20%20%20%20%20%20%20%20%20%20%20%5B64.2823%2C%20-135.0%5D%2C%0A%20%20%20%20%20%20%20%20%20%20%20%20%20%20%20%20%7B%22bubblingMouseEvents%22%3A%20true%2C%20%22color%22%3A%20%22red%22%2C%20%22dashArray%22%3A%20null%2C%20%22dashOffset%22%3A%20null%2C%20%22fill%22%3A%20true%2C%20%22fillColor%22%3A%20%22indigo%22%2C%20%22fillOpacity%22%3A%200.2%2C%20%22fillRule%22%3A%20%22evenodd%22%2C%20%22lineCap%22%3A%20%22round%22%2C%20%22lineJoin%22%3A%20%22round%22%2C%20%22opacity%22%3A%201.0%2C%20%22radius%22%3A%2021000.0%2C%20%22stroke%22%3A%20true%2C%20%22weight%22%3A%203%7D%0A%20%20%20%20%20%20%20%20%20%20%20%20%29.addTo%28map_a1d00f7722f64a9393b48021895cff65%29%3B%0A%20%20%20%20%20%20%20%20%0A%20%20%20%20%0A%20%20%20%20%20%20%20%20%20%20%20%20circle_147de6bd2efb4924857d4da95c3e3f58.bindTooltip%28%0A%20%20%20%20%20%20%20%20%20%20%20%20%20%20%20%20%60%3Cdiv%3E%0A%20%20%20%20%20%20%20%20%20%20%20%20%20%20%20%20%20%20%20%20%20%3Cdiv%20style%3D%27margin%3A%200%3B%20background-color%3A%20black%3B%20color%3A%20white%3B%27%3E%3Ch4%20style%3D%27text-align%3Acenter%3Bfont-weight%3A%20bold%27%3ECanada%3C/h4%3E%3Chr%20style%3D%27margin%3A10px%3Bcolor%3A%20white%3B%27%3E%3Cul%20style%3D%27color%3A%20white%3B%3Blist-style-type%3Acircle%3Balign-item%3Aleft%3Bpadding-left%3A20px%3Bpadding-right%3A20px%27%3E%3Cli%3EConfirmed%3A%2082%3C/li%3E%3Cli%3EDeaths%3A%20%20%20501%3C/li%3E%3Cli%3EDeath%20Rate%3A%20603.61%3C/li%3E%3C/ul%3E%3C/div%3E%0A%20%20%20%20%20%20%20%20%20%20%20%20%20%20%20%20%20%3C/div%3E%60%2C%0A%20%20%20%20%20%20%20%20%20%20%20%20%20%20%20%20%7B%22sticky%22%3A%20true%7D%0A%20%20%20%20%20%20%20%20%20%20%20%20%29%3B%0A%20%20%20%20%20%20%20%20%0A%20%20%20%20%0A%20%20%20%20%20%20%20%20%20%20%20%20var%20circle_4821036d036544f18330c5bccb87a315%20%3D%20L.circle%28%0A%20%20%20%20%20%20%20%20%20%20%20%20%20%20%20%20%5B6.6111%2C%2020.9394%5D%2C%0A%20%20%20%20%20%20%20%20%20%20%20%20%20%20%20%20%7B%22bubblingMouseEvents%22%3A%20true%2C%20%22color%22%3A%20%22red%22%2C%20%22dashArray%22%3A%20null%2C%20%22dashOffset%22%3A%20null%2C%20%22fill%22%3A%20true%2C%20%22fillColor%22%3A%20%22indigo%22%2C%20%22fillOpacity%22%3A%200.2%2C%20%22fillRule%22%3A%20%22evenodd%22%2C%20%22lineCap%22%3A%20%22round%22%2C%20%22lineJoin%22%3A%20%22round%22%2C%20%22opacity%22%3A%201.0%2C%20%22radius%22%3A%2041000.0%2C%20%22stroke%22%3A%20true%2C%20%22weight%22%3A%203%7D%0A%20%20%20%20%20%20%20%20%20%20%20%20%29.addTo%28map_a1d00f7722f64a9393b48021895cff65%29%3B%0A%20%20%20%20%20%20%20%20%0A%20%20%20%20%0A%20%20%20%20%20%20%20%20%20%20%20%20circle_4821036d036544f18330c5bccb87a315.bindTooltip%28%0A%20%20%20%20%20%20%20%20%20%20%20%20%20%20%20%20%60%3Cdiv%3E%0A%20%20%20%20%20%20%20%20%20%20%20%20%20%20%20%20%20%20%20%20%20%3Cdiv%20style%3D%27margin%3A%200%3B%20background-color%3A%20black%3B%20color%3A%20white%3B%27%3E%3Ch4%20style%3D%27text-align%3Acenter%3Bfont-weight%3A%20bold%27%3ECentral%20African%20Republic%3C/h4%3E%3Chr%20style%3D%27margin%3A10px%3Bcolor%3A%20white%3B%27%3E%3Cul%20style%3D%27color%3A%20white%3B%3Blist-style-type%3Acircle%3Balign-item%3Aleft%3Bpadding-left%3A20px%3Bpadding-right%3A20px%27%3E%3Cli%3EConfirmed%3A%206521%3C/li%3E%3Cli%3EDeaths%3A%20%20%202%3C/li%3E%3Cli%3EDeath%20Rate%3A%200.03%3C/li%3E%3C/ul%3E%3C/div%3E%0A%20%20%20%20%20%20%20%20%20%20%20%20%20%20%20%20%20%3C/div%3E%60%2C%0A%20%20%20%20%20%20%20%20%20%20%20%20%20%20%20%20%7B%22sticky%22%3A%20true%7D%0A%20%20%20%20%20%20%20%20%20%20%20%20%29%3B%0A%20%20%20%20%20%20%20%20%0A%20%20%20%20%0A%20%20%20%20%20%20%20%20%20%20%20%20var%20circle_25668a3aa5ff4421953d83b116943646%20%3D%20L.circle%28%0A%20%20%20%20%20%20%20%20%20%20%20%20%20%20%20%20%5B15.4542%2C%2018.7322%5D%2C%0A%20%20%20%20%20%20%20%20%20%20%20%20%20%20%20%20%7B%22bubblingMouseEvents%22%3A%20true%2C%20%22color%22%3A%20%22red%22%2C%20%22dashArray%22%3A%20null%2C%20%22dashOffset%22%3A%20null%2C%20%22fill%22%3A%20true%2C%20%22fillColor%22%3A%20%22indigo%22%2C%20%22fillOpacity%22%3A%200.2%2C%20%22fillRule%22%3A%20%22evenodd%22%2C%20%22lineCap%22%3A%20%22round%22%2C%20%22lineJoin%22%3A%20%22round%22%2C%20%22opacity%22%3A%201.0%2C%20%22radius%22%3A%2041000.0%2C%20%22stroke%22%3A%20true%2C%20%22weight%22%3A%203%7D%0A%20%20%20%20%20%20%20%20%20%20%20%20%29.addTo%28map_a1d00f7722f64a9393b48021895cff65%29%3B%0A%20%20%20%20%20%20%20%20%0A%20%20%20%20%0A%20%20%20%20%20%20%20%20%20%20%20%20circle_25668a3aa5ff4421953d83b116943646.bindTooltip%28%0A%20%20%20%20%20%20%20%20%20%20%20%20%20%20%20%20%60%3Cdiv%3E%0A%20%20%20%20%20%20%20%20%20%20%20%20%20%20%20%20%20%20%20%20%20%3Cdiv%20style%3D%27margin%3A%200%3B%20background-color%3A%20black%3B%20color%3A%20white%3B%27%3E%3Ch4%20style%3D%27text-align%3Acenter%3Bfont-weight%3A%20bold%27%3EChad%3C/h4%3E%3Chr%20style%3D%27margin%3A10px%3Bcolor%3A%20white%3B%27%3E%3Cul%20style%3D%27color%3A%20white%3B%3Blist-style-type%3Acircle%3Balign-item%3Aleft%3Bpadding-left%3A20px%3Bpadding-right%3A20px%27%3E%3Cli%3EConfirmed%3A%204847%3C/li%3E%3Cli%3EDeaths%3A%20%20%2091%3C/li%3E%3Cli%3EDeath%20Rate%3A%201.88%3C/li%3E%3C/ul%3E%3C/div%3E%0A%20%20%20%20%20%20%20%20%20%20%20%20%20%20%20%20%20%3C/div%3E%60%2C%0A%20%20%20%20%20%20%20%20%20%20%20%20%20%20%20%20%7B%22sticky%22%3A%20true%7D%0A%20%20%20%20%20%20%20%20%20%20%20%20%29%3B%0A%20%20%20%20%20%20%20%20%0A%20%20%20%20%0A%20%20%20%20%20%20%20%20%20%20%20%20var%20circle_53c39407b8354e23a6a02e41dfcc02fd%20%3D%20L.circle%28%0A%20%20%20%20%20%20%20%20%20%20%20%20%20%20%20%20%5B-35.6751%2C%20-71.543%5D%2C%0A%20%20%20%20%20%20%20%20%20%20%20%20%20%20%20%20%7B%22bubblingMouseEvents%22%3A%20true%2C%20%22color%22%3A%20%22red%22%2C%20%22dashArray%22%3A%20null%2C%20%22dashOffset%22%3A%20null%2C%20%22fill%22%3A%20true%2C%20%22fillColor%22%3A%20%22indigo%22%2C%20%22fillOpacity%22%3A%200.2%2C%20%22fillRule%22%3A%20%22evenodd%22%2C%20%22lineCap%22%3A%20%22round%22%2C%20%22lineJoin%22%3A%20%22round%22%2C%20%22opacity%22%3A%201.0%2C%20%22radius%22%3A%2071000.0%2C%20%22stroke%22%3A%20true%2C%20%22weight%22%3A%203%7D%0A%20%20%20%20%20%20%20%20%20%20%20%20%29.addTo%28map_a1d00f7722f64a9393b48021895cff65%29%3B%0A%20%20%20%20%20%20%20%20%0A%20%20%20%20%0A%20%20%20%20%20%20%20%20%20%20%20%20circle_53c39407b8354e23a6a02e41dfcc02fd.bindTooltip%28%0A%20%20%20%20%20%20%20%20%20%20%20%20%20%20%20%20%60%3Cdiv%3E%0A%20%20%20%20%20%20%20%20%20%20%20%20%20%20%20%20%20%20%20%20%20%3Cdiv%20style%3D%27margin%3A%200%3B%20background-color%3A%20black%3B%20color%3A%20white%3B%27%3E%3Ch4%20style%3D%27text-align%3Acenter%3Bfont-weight%3A%20bold%27%3EChile%3C/h4%3E%3Chr%20style%3D%27margin%3A10px%3Bcolor%3A%20white%3B%27%3E%3Cul%20style%3D%27color%3A%20white%3B%3Blist-style-type%3Acircle%3Balign-item%3Aleft%3Bpadding-left%3A20px%3Bpadding-right%3A20px%27%3E%3Cli%3EConfirmed%3A%201222949%3C/li%3E%3Cli%3EDeaths%3A%20%20%20170%3C/li%3E%3Cli%3EDeath%20Rate%3A%200.01%3C/li%3E%3C/ul%3E%3C/div%3E%0A%20%20%20%20%20%20%20%20%20%20%20%20%20%20%20%20%20%3C/div%3E%60%2C%0A%20%20%20%20%20%20%20%20%20%20%20%20%20%20%20%20%7B%22sticky%22%3A%20true%7D%0A%20%20%20%20%20%20%20%20%20%20%20%20%29%3B%0A%20%20%20%20%20%20%20%20%0A%20%20%20%20%0A%20%20%20%20%20%20%20%20%20%20%20%20var%20circle_afc6a6bbc42c4380b51faec4c9fbcbc9%20%3D%20L.circle%28%0A%20%20%20%20%20%20%20%20%20%20%20%20%20%20%20%20%5B31.8257%2C%20117.2264%5D%2C%0A%20%20%20%20%20%20%20%20%20%20%20%20%20%20%20%20%7B%22bubblingMouseEvents%22%3A%20true%2C%20%22color%22%3A%20%22red%22%2C%20%22dashArray%22%3A%20null%2C%20%22dashOffset%22%3A%20null%2C%20%22fill%22%3A%20true%2C%20%22fillColor%22%3A%20%22indigo%22%2C%20%22fillOpacity%22%3A%200.2%2C%20%22fillRule%22%3A%20%22evenodd%22%2C%20%22lineCap%22%3A%20%22round%22%2C%20%22lineJoin%22%3A%20%22round%22%2C%20%22opacity%22%3A%201.0%2C%20%22radius%22%3A%2031000.0%2C%20%22stroke%22%3A%20true%2C%20%22weight%22%3A%203%7D%0A%20%20%20%20%20%20%20%20%20%20%20%20%29.addTo%28map_a1d00f7722f64a9393b48021895cff65%29%3B%0A%20%20%20%20%20%20%20%20%0A%20%20%20%20%0A%20%20%20%20%20%20%20%20%20%20%20%20circle_afc6a6bbc42c4380b51faec4c9fbcbc9.bindTooltip%28%0A%20%20%20%20%20%20%20%20%20%20%20%20%20%20%20%20%60%3Cdiv%3E%0A%20%20%20%20%20%20%20%20%20%20%20%20%20%20%20%20%20%20%20%20%20%3Cdiv%20style%3D%27margin%3A%200%3B%20background-color%3A%20black%3B%20color%3A%20white%3B%27%3E%3Ch4%20style%3D%27text-align%3Acenter%3Bfont-weight%3A%20bold%27%3EChina%3C/h4%3E%3Chr%20style%3D%27margin%3A10px%3Bcolor%3A%20white%3B%27%3E%3Cul%20style%3D%27color%3A%20white%3B%3Blist-style-type%3Acircle%3Balign-item%3Aleft%3Bpadding-left%3A20px%3Bpadding-right%3A20px%27%3E%3Cli%3EConfirmed%3A%20994%3C/li%3E%3Cli%3EDeaths%3A%20%20%2026726%3C/li%3E%3Cli%3EDeath%20Rate%3A%202686.03%3C/li%3E%3C/ul%3E%3C/div%3E%0A%20%20%20%20%20%20%20%20%20%20%20%20%20%20%20%20%20%3C/div%3E%60%2C%0A%20%20%20%20%20%20%20%20%20%20%20%20%20%20%20%20%7B%22sticky%22%3A%20true%7D%0A%20%20%20%20%20%20%20%20%20%20%20%20%29%3B%0A%20%20%20%20%20%20%20%20%0A%20%20%20%20%0A%20%20%20%20%20%20%20%20%20%20%20%20var%20circle_a866321e3b6c4f9b90a254e79322c818%20%3D%20L.circle%28%0A%20%20%20%20%20%20%20%20%20%20%20%20%20%20%20%20%5B40.1824%2C%20116.4142%5D%2C%0A%20%20%20%20%20%20%20%20%20%20%20%20%20%20%20%20%7B%22bubblingMouseEvents%22%3A%20true%2C%20%22color%22%3A%20%22red%22%2C%20%22dashArray%22%3A%20null%2C%20%22dashOffset%22%3A%20null%2C%20%22fill%22%3A%20true%2C%20%22fillColor%22%3A%20%22indigo%22%2C%20%22fillOpacity%22%3A%200.2%2C%20%22fillRule%22%3A%20%22evenodd%22%2C%20%22lineCap%22%3A%20%22round%22%2C%20%22lineJoin%22%3A%20%22round%22%2C%20%22opacity%22%3A%201.0%2C%20%22radius%22%3A%2031000.0%2C%20%22stroke%22%3A%20true%2C%20%22weight%22%3A%203%7D%0A%20%20%20%20%20%20%20%20%20%20%20%20%29.addTo%28map_a1d00f7722f64a9393b48021895cff65%29%3B%0A%20%20%20%20%20%20%20%20%0A%20%20%20%20%0A%20%20%20%20%20%20%20%20%20%20%20%20circle_a866321e3b6c4f9b90a254e79322c818.bindTooltip%28%0A%20%20%20%20%20%20%20%20%20%20%20%20%20%20%20%20%60%3Cdiv%3E%0A%20%20%20%20%20%20%20%20%20%20%20%20%20%20%20%20%20%20%20%20%20%3Cdiv%20style%3D%27margin%3A%200%3B%20background-color%3A%20black%3B%20color%3A%20white%3B%27%3E%3Ch4%20style%3D%27text-align%3Acenter%3Bfont-weight%3A%20bold%27%3EChina%3C/h4%3E%3Chr%20style%3D%27margin%3A10px%3Bcolor%3A%20white%3B%27%3E%3Cul%20style%3D%27color%3A%20white%3B%3Blist-style-type%3Acircle%3Balign-item%3Aleft%3Bpadding-left%3A20px%3Bpadding-right%3A20px%27%3E%3Cli%3EConfirmed%3A%201057%3C/li%3E%3Cli%3EDeaths%3A%20%20%206%3C/li%3E%3Cli%3EDeath%20Rate%3A%200.57%3C/li%3E%3C/ul%3E%3C/div%3E%0A%20%20%20%20%20%20%20%20%20%20%20%20%20%20%20%20%20%3C/div%3E%60%2C%0A%20%20%20%20%20%20%20%20%20%20%20%20%20%20%20%20%7B%22sticky%22%3A%20true%7D%0A%20%20%20%20%20%20%20%20%20%20%20%20%29%3B%0A%20%20%20%20%20%20%20%20%0A%20%20%20%20%0A%20%20%20%20%20%20%20%20%20%20%20%20var%20circle_414e2ae91a1f4df6befa96719170bebc%20%3D%20L.circle%28%0A%20%20%20%20%20%20%20%20%20%20%20%20%20%20%20%20%5B30.0572%2C%20107.874%5D%2C%0A%20%20%20%20%20%20%20%20%20%20%20%20%20%20%20%20%7B%22bubblingMouseEvents%22%3A%20true%2C%20%22color%22%3A%20%22red%22%2C%20%22dashArray%22%3A%20null%2C%20%22dashOffset%22%3A%20null%2C%20%22fill%22%3A%20true%2C%20%22fillColor%22%3A%20%22indigo%22%2C%20%22fillOpacity%22%3A%200.2%2C%20%22fillRule%22%3A%20%22evenodd%22%2C%20%22lineCap%22%3A%20%22round%22%2C%20%22lineJoin%22%3A%20%22round%22%2C%20%22opacity%22%3A%201.0%2C%20%22radius%22%3A%2031000.0%2C%20%22stroke%22%3A%20true%2C%20%22weight%22%3A%203%7D%0A%20%20%20%20%20%20%20%20%20%20%20%20%29.addTo%28map_a1d00f7722f64a9393b48021895cff65%29%3B%0A%20%20%20%20%20%20%20%20%0A%20%20%20%20%0A%20%20%20%20%20%20%20%20%20%20%20%20circle_414e2ae91a1f4df6befa96719170bebc.bindTooltip%28%0A%20%20%20%20%20%20%20%20%20%20%20%20%20%20%20%20%60%3Cdiv%3E%0A%20%20%20%20%20%20%20%20%20%20%20%20%20%20%20%20%20%20%20%20%20%3Cdiv%20style%3D%27margin%3A%200%3B%20background-color%3A%20black%3B%20color%3A%20white%3B%27%3E%3Ch4%20style%3D%27text-align%3Acenter%3Bfont-weight%3A%20bold%27%3EChina%3C/h4%3E%3Chr%20style%3D%27margin%3A10px%3Bcolor%3A%20white%3B%27%3E%3Cul%20style%3D%27color%3A%20white%3B%3Blist-style-type%3Acircle%3Balign-item%3Aleft%3Bpadding-left%3A20px%3Bpadding-right%3A20px%27%3E%3Cli%3EConfirmed%3A%20596%3C/li%3E%3Cli%3EDeaths%3A%20%20%209%3C/li%3E%3Cli%3EDeath%20Rate%3A%201.51%3C/li%3E%3C/ul%3E%3C/div%3E%0A%20%20%20%20%20%20%20%20%20%20%20%20%20%20%20%20%20%3C/div%3E%60%2C%0A%20%20%20%20%20%20%20%20%20%20%20%20%20%20%20%20%7B%22sticky%22%3A%20true%7D%0A%20%20%20%20%20%20%20%20%20%20%20%20%29%3B%0A%20%20%20%20%20%20%20%20%0A%20%20%20%20%0A%20%20%20%20%20%20%20%20%20%20%20%20var%20circle_700fbed969fb405bb492d8f57e698369%20%3D%20L.circle%28%0A%20%20%20%20%20%20%20%20%20%20%20%20%20%20%20%20%5B26.0789%2C%20117.9874%5D%2C%0A%20%20%20%20%20%20%20%20%20%20%20%20%20%20%20%20%7B%22bubblingMouseEvents%22%3A%20true%2C%20%22color%22%3A%20%22red%22%2C%20%22dashArray%22%3A%20null%2C%20%22dashOffset%22%3A%20null%2C%20%22fill%22%3A%20true%2C%20%22fillColor%22%3A%20%22indigo%22%2C%20%22fillOpacity%22%3A%200.2%2C%20%22fillRule%22%3A%20%22evenodd%22%2C%20%22lineCap%22%3A%20%22round%22%2C%20%22lineJoin%22%3A%20%22round%22%2C%20%22opacity%22%3A%201.0%2C%20%22radius%22%3A%2031000.0%2C%20%22stroke%22%3A%20true%2C%20%22weight%22%3A%203%7D%0A%20%20%20%20%20%20%20%20%20%20%20%20%29.addTo%28map_a1d00f7722f64a9393b48021895cff65%29%3B%0A%20%20%20%20%20%20%20%20%0A%20%20%20%20%0A%20%20%20%20%20%20%20%20%20%20%20%20circle_700fbed969fb405bb492d8f57e698369.bindTooltip%28%0A%20%20%20%20%20%20%20%20%20%20%20%20%20%20%20%20%60%3Cdiv%3E%0A%20%20%20%20%20%20%20%20%20%20%20%20%20%20%20%20%20%20%20%20%20%3Cdiv%20style%3D%27margin%3A%200%3B%20background-color%3A%20black%3B%20color%3A%20white%3B%27%3E%3Ch4%20style%3D%27text-align%3Acenter%3Bfont-weight%3A%20bold%27%3EChina%3C/h4%3E%3Chr%20style%3D%27margin%3A10px%3Bcolor%3A%20white%3B%27%3E%3Cul%20style%3D%27color%3A%20white%3B%3Blist-style-type%3Acircle%3Balign-item%3Aleft%3Bpadding-left%3A20px%3Bpadding-right%3A20px%27%3E%3Cli%3EConfirmed%3A%20593%3C/li%3E%3Cli%3EDeaths%3A%20%20%206%3C/li%3E%3Cli%3EDeath%20Rate%3A%201.01%3C/li%3E%3C/ul%3E%3C/div%3E%0A%20%20%20%20%20%20%20%20%20%20%20%20%20%20%20%20%20%3C/div%3E%60%2C%0A%20%20%20%20%20%20%20%20%20%20%20%20%20%20%20%20%7B%22sticky%22%3A%20true%7D%0A%20%20%20%20%20%20%20%20%20%20%20%20%29%3B%0A%20%20%20%20%20%20%20%20%0A%20%20%20%20%0A%20%20%20%20%20%20%20%20%20%20%20%20var%20circle_6607582da8e04a358f144203831768eb%20%3D%20L.circle%28%0A%20%20%20%20%20%20%20%20%20%20%20%20%20%20%20%20%5B35.7518%2C%20104.2861%5D%2C%0A%20%20%20%20%20%20%20%20%20%20%20%20%20%20%20%20%7B%22bubblingMouseEvents%22%3A%20true%2C%20%22color%22%3A%20%22red%22%2C%20%22dashArray%22%3A%20null%2C%20%22dashOffset%22%3A%20null%2C%20%22fill%22%3A%20true%2C%20%22fillColor%22%3A%20%22indigo%22%2C%20%22fillOpacity%22%3A%200.2%2C%20%22fillRule%22%3A%20%22evenodd%22%2C%20%22lineCap%22%3A%20%22round%22%2C%20%22lineJoin%22%3A%20%22round%22%2C%20%22opacity%22%3A%201.0%2C%20%22radius%22%3A%2026000.0%2C%20%22stroke%22%3A%20true%2C%20%22weight%22%3A%203%7D%0A%20%20%20%20%20%20%20%20%20%20%20%20%29.addTo%28map_a1d00f7722f64a9393b48021895cff65%29%3B%0A%20%20%20%20%20%20%20%20%0A%20%20%20%20%0A%20%20%20%20%20%20%20%20%20%20%20%20circle_6607582da8e04a358f144203831768eb.bindTooltip%28%0A%20%20%20%20%20%20%20%20%20%20%20%20%20%20%20%20%60%3Cdiv%3E%0A%20%20%20%20%20%20%20%20%20%20%20%20%20%20%20%20%20%20%20%20%20%3Cdiv%20style%3D%27margin%3A%200%3B%20background-color%3A%20black%3B%20color%3A%20white%3B%27%3E%3Ch4%20style%3D%27text-align%3Acenter%3Bfont-weight%3A%20bold%27%3EChina%3C/h4%3E%3Chr%20style%3D%27margin%3A10px%3Bcolor%3A%20white%3B%27%3E%3Cul%20style%3D%27color%3A%20white%3B%3Blist-style-type%3Acircle%3Balign-item%3Aleft%3Bpadding-left%3A20px%3Bpadding-right%3A20px%27%3E%3Cli%3EConfirmed%3A%20193%3C/li%3E%3Cli%3EDeaths%3A%20%20%201%3C/li%3E%3Cli%3EDeath%20Rate%3A%200.52%3C/li%3E%3C/ul%3E%3C/div%3E%0A%20%20%20%20%20%20%20%20%20%20%20%20%20%20%20%20%20%3C/div%3E%60%2C%0A%20%20%20%20%20%20%20%20%20%20%20%20%20%20%20%20%7B%22sticky%22%3A%20true%7D%0A%20%20%20%20%20%20%20%20%20%20%20%20%29%3B%0A%20%20%20%20%20%20%20%20%0A%20%20%20%20%0A%20%20%20%20%20%20%20%20%20%20%20%20var%20circle_1e875e265a3d45cbab8a7ac3c991b412%20%3D%20L.circle%28%0A%20%20%20%20%20%20%20%20%20%20%20%20%20%20%20%20%5B23.3417%2C%20113.4244%5D%2C%0A%20%20%20%20%20%20%20%20%20%20%20%20%20%20%20%20%7B%22bubblingMouseEvents%22%3A%20true%2C%20%22color%22%3A%20%22red%22%2C%20%22dashArray%22%3A%20null%2C%20%22dashOffset%22%3A%20null%2C%20%22fill%22%3A%20true%2C%20%22fillColor%22%3A%20%22indigo%22%2C%20%22fillOpacity%22%3A%200.2%2C%20%22fillRule%22%3A%20%22evenodd%22%2C%20%22lineCap%22%3A%20%22round%22%2C%20%22lineJoin%22%3A%20%22round%22%2C%20%22opacity%22%3A%201.0%2C%20%22radius%22%3A%2036000.0%2C%20%22stroke%22%3A%20true%2C%20%22weight%22%3A%203%7D%0A%20%20%20%20%20%20%20%20%20%20%20%20%29.addTo%28map_a1d00f7722f64a9393b48021895cff65%29%3B%0A%20%20%20%20%20%20%20%20%0A%20%20%20%20%0A%20%20%20%20%20%20%20%20%20%20%20%20circle_1e875e265a3d45cbab8a7ac3c991b412.bindTooltip%28%0A%20%20%20%20%20%20%20%20%20%20%20%20%20%20%20%20%60%3Cdiv%3E%0A%20%20%20%20%20%20%20%20%20%20%20%20%20%20%20%20%20%20%20%20%20%3Cdiv%20style%3D%27margin%3A%200%3B%20background-color%3A%20black%3B%20color%3A%20white%3B%27%3E%3Ch4%20style%3D%27text-align%3Acenter%3Bfont-weight%3A%20bold%27%3EChina%3C/h4%3E%3Chr%20style%3D%27margin%3A10px%3Bcolor%3A%20white%3B%27%3E%3Cul%20style%3D%27color%3A%20white%3B%3Blist-style-type%3Acircle%3Balign-item%3Aleft%3Bpadding-left%3A20px%3Bpadding-right%3A20px%27%3E%3Cli%3EConfirmed%3A%202360%3C/li%3E%3Cli%3EDeaths%3A%20%20%202%3C/li%3E%3Cli%3EDeath%20Rate%3A%200.08%3C/li%3E%3C/ul%3E%3C/div%3E%0A%20%20%20%20%20%20%20%20%20%20%20%20%20%20%20%20%20%3C/div%3E%60%2C%0A%20%20%20%20%20%20%20%20%20%20%20%20%20%20%20%20%7B%22sticky%22%3A%20true%7D%0A%20%20%20%20%20%20%20%20%20%20%20%20%29%3B%0A%20%20%20%20%20%20%20%20%0A%20%20%20%20%0A%20%20%20%20%20%20%20%20%20%20%20%20var%20circle_342a629044df4c8c8640989a0c7a750e%20%3D%20L.circle%28%0A%20%20%20%20%20%20%20%20%20%20%20%20%20%20%20%20%5B23.8298%2C%20108.7881%5D%2C%0A%20%20%20%20%20%20%20%20%20%20%20%20%20%20%20%20%7B%22bubblingMouseEvents%22%3A%20true%2C%20%22color%22%3A%20%22red%22%2C%20%22dashArray%22%3A%20null%2C%20%22dashOffset%22%3A%20null%2C%20%22fill%22%3A%20true%2C%20%22fillColor%22%3A%20%22indigo%22%2C%20%22fillOpacity%22%3A%200.2%2C%20%22fillRule%22%3A%20%22evenodd%22%2C%20%22lineCap%22%3A%20%22round%22%2C%20%22lineJoin%22%3A%20%22round%22%2C%20%22opacity%22%3A%201.0%2C%20%22radius%22%3A%2026000.0%2C%20%22stroke%22%3A%20true%2C%20%22weight%22%3A%203%7D%0A%20%20%20%20%20%20%20%20%20%20%20%20%29.addTo%28map_a1d00f7722f64a9393b48021895cff65%29%3B%0A%20%20%20%20%20%20%20%20%0A%20%20%20%20%0A%20%20%20%20%20%20%20%20%20%20%20%20circle_342a629044df4c8c8640989a0c7a750e.bindTooltip%28%0A%20%20%20%20%20%20%20%20%20%20%20%20%20%20%20%20%60%3Cdiv%3E%0A%20%20%20%20%20%20%20%20%20%20%20%20%20%20%20%20%20%20%20%20%20%3Cdiv%20style%3D%27margin%3A%200%3B%20background-color%3A%20black%3B%20color%3A%20white%3B%27%3E%3Ch4%20style%3D%27text-align%3Acenter%3Bfont-weight%3A%20bold%27%3EChina%3C/h4%3E%3Chr%20style%3D%27margin%3A10px%3Bcolor%3A%20white%3B%27%3E%3Cul%20style%3D%27color%3A%20white%3B%3Blist-style-type%3Acircle%3Balign-item%3Aleft%3Bpadding-left%3A20px%3Bpadding-right%3A20px%27%3E%3Cli%3EConfirmed%3A%20275%3C/li%3E%3Cli%3EDeaths%3A%20%20%208%3C/li%3E%3Cli%3EDeath%20Rate%3A%202.9%3C/li%3E%3C/ul%3E%3C/div%3E%0A%20%20%20%20%20%20%20%20%20%20%20%20%20%20%20%20%20%3C/div%3E%60%2C%0A%20%20%20%20%20%20%20%20%20%20%20%20%20%20%20%20%7B%22sticky%22%3A%20true%7D%0A%20%20%20%20%20%20%20%20%20%20%20%20%29%3B%0A%20%20%20%20%20%20%20%20%0A%20%20%20%20%0A%20%20%20%20%20%20%20%20%20%20%20%20var%20circle_d2107b786a2141508c7782d8c92296b0%20%3D%20L.circle%28%0A%20%20%20%20%20%20%20%20%20%20%20%20%20%20%20%20%5B26.8154%2C%20106.8748%5D%2C%0A%20%20%20%20%20%20%20%20%20%20%20%20%20%20%20%20%7B%22bubblingMouseEvents%22%3A%20true%2C%20%22color%22%3A%20%22red%22%2C%20%22dashArray%22%3A%20null%2C%20%22dashOffset%22%3A%20null%2C%20%22fill%22%3A%20true%2C%20%22fillColor%22%3A%20%22indigo%22%2C%20%22fillOpacity%22%3A%200.2%2C%20%22fillRule%22%3A%20%22evenodd%22%2C%20%22lineCap%22%3A%20%22round%22%2C%20%22lineJoin%22%3A%20%22round%22%2C%20%22opacity%22%3A%201.0%2C%20%22radius%22%3A%2021000.0%2C%20%22stroke%22%3A%20true%2C%20%22weight%22%3A%203%7D%0A%20%20%20%20%20%20%20%20%20%20%20%20%29.addTo%28map_a1d00f7722f64a9393b48021895cff65%29%3B%0A%20%20%20%20%20%20%20%20%0A%20%20%20%20%0A%20%20%20%20%20%20%20%20%20%20%20%20circle_d2107b786a2141508c7782d8c92296b0.bindTooltip%28%0A%20%20%20%20%20%20%20%20%20%20%20%20%20%20%20%20%60%3Cdiv%3E%0A%20%20%20%20%20%20%20%20%20%20%20%20%20%20%20%20%20%20%20%20%20%3Cdiv%20style%3D%27margin%3A%200%3B%20background-color%3A%20black%3B%20color%3A%20white%3B%27%3E%3Ch4%20style%3D%27text-align%3Acenter%3Bfont-weight%3A%20bold%27%3EChina%3C/h4%3E%3Chr%20style%3D%27margin%3A10px%3Bcolor%3A%20white%3B%27%3E%3Cul%20style%3D%27color%3A%20white%3B%3Blist-style-type%3Acircle%3Balign-item%3Aleft%3Bpadding-left%3A20px%3Bpadding-right%3A20px%27%3E%3Cli%3EConfirmed%3A%20147%3C/li%3E%3Cli%3EDeaths%3A%20%20%202%3C/li%3E%3Cli%3EDeath%20Rate%3A%201.35%3C/li%3E%3C/ul%3E%3C/div%3E%0A%20%20%20%20%20%20%20%20%20%20%20%20%20%20%20%20%20%3C/div%3E%60%2C%0A%20%20%20%20%20%20%20%20%20%20%20%20%20%20%20%20%7B%22sticky%22%3A%20true%7D%0A%20%20%20%20%20%20%20%20%20%20%20%20%29%3B%0A%20%20%20%20%20%20%20%20%0A%20%20%20%20%0A%20%20%20%20%20%20%20%20%20%20%20%20var%20circle_708b8c47afd54ddbb12ec808e947a56e%20%3D%20L.circle%28%0A%20%20%20%20%20%20%20%20%20%20%20%20%20%20%20%20%5B19.1959%2C%20109.7453%5D%2C%0A%20%20%20%20%20%20%20%20%20%20%20%20%20%20%20%20%7B%22bubblingMouseEvents%22%3A%20true%2C%20%22color%22%3A%20%22red%22%2C%20%22dashArray%22%3A%20null%2C%20%22dashOffset%22%3A%20null%2C%20%22fill%22%3A%20true%2C%20%22fillColor%22%3A%20%22indigo%22%2C%20%22fillOpacity%22%3A%200.2%2C%20%22fillRule%22%3A%20%22evenodd%22%2C%20%22lineCap%22%3A%20%22round%22%2C%20%22lineJoin%22%3A%20%22round%22%2C%20%22opacity%22%3A%201.0%2C%20%22radius%22%3A%2026000.0%2C%20%22stroke%22%3A%20true%2C%20%22weight%22%3A%203%7D%0A%20%20%20%20%20%20%20%20%20%20%20%20%29.addTo%28map_a1d00f7722f64a9393b48021895cff65%29%3B%0A%20%20%20%20%20%20%20%20%0A%20%20%20%20%0A%20%20%20%20%20%20%20%20%20%20%20%20circle_708b8c47afd54ddbb12ec808e947a56e.bindTooltip%28%0A%20%20%20%20%20%20%20%20%20%20%20%20%20%20%20%20%60%3Cdiv%3E%0A%20%20%20%20%20%20%20%20%20%20%20%20%20%20%20%20%20%20%20%20%20%3Cdiv%20style%3D%27margin%3A%200%3B%20background-color%3A%20black%3B%20color%3A%20white%3B%27%3E%3Ch4%20style%3D%27text-align%3Acenter%3Bfont-weight%3A%20bold%27%3EChina%3C/h4%3E%3Chr%20style%3D%27margin%3A10px%3Bcolor%3A%20white%3B%27%3E%3Cul%20style%3D%27color%3A%20white%3B%3Blist-style-type%3Acircle%3Balign-item%3Aleft%3Bpadding-left%3A20px%3Bpadding-right%3A20px%27%3E%3Cli%3EConfirmed%3A%20188%3C/li%3E%3Cli%3EDeaths%3A%20%20%202%3C/li%3E%3Cli%3EDeath%20Rate%3A%201.06%3C/li%3E%3C/ul%3E%3C/div%3E%0A%20%20%20%20%20%20%20%20%20%20%20%20%20%20%20%20%20%3C/div%3E%60%2C%0A%20%20%20%20%20%20%20%20%20%20%20%20%20%20%20%20%7B%22sticky%22%3A%20true%7D%0A%20%20%20%20%20%20%20%20%20%20%20%20%29%3B%0A%20%20%20%20%20%20%20%20%0A%20%20%20%20%0A%20%20%20%20%20%20%20%20%20%20%20%20var%20circle_a0aac1e59a674f9aa9efd85ff2fa771c%20%3D%20L.circle%28%0A%20%20%20%20%20%20%20%20%20%20%20%20%20%20%20%20%5B39.549%2C%20116.1306%5D%2C%0A%20%20%20%20%20%20%20%20%20%20%20%20%20%20%20%20%7B%22bubblingMouseEvents%22%3A%20true%2C%20%22color%22%3A%20%22red%22%2C%20%22dashArray%22%3A%20null%2C%20%22dashOffset%22%3A%20null%2C%20%22fill%22%3A%20true%2C%20%22fillColor%22%3A%20%22indigo%22%2C%20%22fillOpacity%22%3A%200.2%2C%20%22fillRule%22%3A%20%22evenodd%22%2C%20%22lineCap%22%3A%20%22round%22%2C%20%22lineJoin%22%3A%20%22round%22%2C%20%22opacity%22%3A%201.0%2C%20%22radius%22%3A%2036000.0%2C%20%22stroke%22%3A%20true%2C%20%22weight%22%3A%203%7D%0A%20%20%20%20%20%20%20%20%20%20%20%20%29.addTo%28map_a1d00f7722f64a9393b48021895cff65%29%3B%0A%20%20%20%20%20%20%20%20%0A%20%20%20%20%0A%20%20%20%20%20%20%20%20%20%20%20%20circle_a0aac1e59a674f9aa9efd85ff2fa771c.bindTooltip%28%0A%20%20%20%20%20%20%20%20%20%20%20%20%20%20%20%20%60%3Cdiv%3E%0A%20%20%20%20%20%20%20%20%20%20%20%20%20%20%20%20%20%20%20%20%20%3Cdiv%20style%3D%27margin%3A%200%3B%20background-color%3A%20black%3B%20color%3A%20white%3B%27%3E%3Ch4%20style%3D%27text-align%3Acenter%3Bfont-weight%3A%20bold%27%3EChina%3C/h4%3E%3Chr%20style%3D%27margin%3A10px%3Bcolor%3A%20white%3B%27%3E%3Cul%20style%3D%27color%3A%20white%3B%3Blist-style-type%3Acircle%3Balign-item%3Aleft%3Bpadding-left%3A20px%3Bpadding-right%3A20px%27%3E%3Cli%3EConfirmed%3A%201317%3C/li%3E%3Cli%3EDeaths%3A%20%20%206%3C/li%3E%3Cli%3EDeath%20Rate%3A%200.46%3C/li%3E%3C/ul%3E%3C/div%3E%0A%20%20%20%20%20%20%20%20%20%20%20%20%20%20%20%20%20%3C/div%3E%60%2C%0A%20%20%20%20%20%20%20%20%20%20%20%20%20%20%20%20%7B%22sticky%22%3A%20true%7D%0A%20%20%20%20%20%20%20%20%20%20%20%20%29%3B%0A%20%20%20%20%20%20%20%20%0A%20%20%20%20%0A%20%20%20%20%20%20%20%20%20%20%20%20var%20circle_dc97516bb833475f98a776197e3ee02b%20%3D%20L.circle%28%0A%20%20%20%20%20%20%20%20%20%20%20%20%20%20%20%20%5B47.861999999999995%2C%20127.7615%5D%2C%0A%20%20%20%20%20%20%20%20%20%20%20%20%20%20%20%20%7B%22bubblingMouseEvents%22%3A%20true%2C%20%22color%22%3A%20%22red%22%2C%20%22dashArray%22%3A%20null%2C%20%22dashOffset%22%3A%20null%2C%20%22fill%22%3A%20true%2C%20%22fillColor%22%3A%20%22indigo%22%2C%20%22fillOpacity%22%3A%200.2%2C%20%22fillRule%22%3A%20%22evenodd%22%2C%20%22lineCap%22%3A%20%22round%22%2C%20%22lineJoin%22%3A%20%22round%22%2C%20%22opacity%22%3A%201.0%2C%20%22radius%22%3A%2036000.0%2C%20%22stroke%22%3A%20true%2C%20%22weight%22%3A%203%7D%0A%20%20%20%20%20%20%20%20%20%20%20%20%29.addTo%28map_a1d00f7722f64a9393b48021895cff65%29%3B%0A%20%20%20%20%20%20%20%20%0A%20%20%20%20%0A%20%20%20%20%20%20%20%20%20%20%20%20circle_dc97516bb833475f98a776197e3ee02b.bindTooltip%28%0A%20%20%20%20%20%20%20%20%20%20%20%20%20%20%20%20%60%3Cdiv%3E%0A%20%20%20%20%20%20%20%20%20%20%20%20%20%20%20%20%20%20%20%20%20%3Cdiv%20style%3D%27margin%3A%200%3B%20background-color%3A%20black%3B%20color%3A%20white%3B%27%3E%3Ch4%20style%3D%27text-align%3Acenter%3Bfont-weight%3A%20bold%27%3EChina%3C/h4%3E%3Chr%20style%3D%27margin%3A10px%3Bcolor%3A%20white%3B%27%3E%3Cul%20style%3D%27color%3A%20white%3B%3Blist-style-type%3Acircle%3Balign-item%3Aleft%3Bpadding-left%3A20px%3Bpadding-right%3A20px%27%3E%3Cli%3EConfirmed%3A%201610%3C/li%3E%3Cli%3EDeaths%3A%20%20%207%3C/li%3E%3Cli%3EDeath%20Rate%3A%200.43%3C/li%3E%3C/ul%3E%3C/div%3E%0A%20%20%20%20%20%20%20%20%20%20%20%20%20%20%20%20%20%3C/div%3E%60%2C%0A%20%20%20%20%20%20%20%20%20%20%20%20%20%20%20%20%7B%22sticky%22%3A%20true%7D%0A%20%20%20%20%20%20%20%20%20%20%20%20%29%3B%0A%20%20%20%20%20%20%20%20%0A%20%20%20%20%0A%20%20%20%20%20%20%20%20%20%20%20%20var%20circle_1f5a6bfb07bf41108e982fb12c6f28da%20%3D%20L.circle%28%0A%20%20%20%20%20%20%20%20%20%20%20%20%20%20%20%20%5B37.8957%2C%20114.9042%5D%2C%0A%20%20%20%20%20%20%20%20%20%20%20%20%20%20%20%20%7B%22bubblingMouseEvents%22%3A%20true%2C%20%22color%22%3A%20%22red%22%2C%20%22dashArray%22%3A%20null%2C%20%22dashOffset%22%3A%20null%2C%20%22fill%22%3A%20true%2C%20%22fillColor%22%3A%20%22indigo%22%2C%20%22fillOpacity%22%3A%200.2%2C%20%22fillRule%22%3A%20%22evenodd%22%2C%20%22lineCap%22%3A%20%22round%22%2C%20%22lineJoin%22%3A%20%22round%22%2C%20%22opacity%22%3A%201.0%2C%20%22radius%22%3A%2036000.0%2C%20%22stroke%22%3A%20true%2C%20%22weight%22%3A%203%7D%0A%20%20%20%20%20%20%20%20%20%20%20%20%29.addTo%28map_a1d00f7722f64a9393b48021895cff65%29%3B%0A%20%20%20%20%20%20%20%20%0A%20%20%20%20%0A%20%20%20%20%20%20%20%20%20%20%20%20circle_1f5a6bfb07bf41108e982fb12c6f28da.bindTooltip%28%0A%20%20%20%20%20%20%20%20%20%20%20%20%20%20%20%20%60%3Cdiv%3E%0A%20%20%20%20%20%20%20%20%20%20%20%20%20%20%20%20%20%20%20%20%20%3Cdiv%20style%3D%27margin%3A%200%3B%20background-color%3A%20black%3B%20color%3A%20white%3B%27%3E%3Ch4%20style%3D%27text-align%3Acenter%3Bfont-weight%3A%20bold%27%3EChina%3C/h4%3E%3Chr%20style%3D%27margin%3A10px%3Bcolor%3A%20white%3B%27%3E%3Cul%20style%3D%27color%3A%20white%3B%3Blist-style-type%3Acircle%3Balign-item%3Aleft%3Bpadding-left%3A20px%3Bpadding-right%3A20px%27%3E%3Cli%3EConfirmed%3A%201312%3C/li%3E%3Cli%3EDeaths%3A%20%20%2013%3C/li%3E%3Cli%3EDeath%20Rate%3A%200.99%3C/li%3E%3C/ul%3E%3C/div%3E%0A%20%20%20%20%20%20%20%20%20%20%20%20%20%20%20%20%20%3C/div%3E%60%2C%0A%20%20%20%20%20%20%20%20%20%20%20%20%20%20%20%20%7B%22sticky%22%3A%20true%7D%0A%20%20%20%20%20%20%20%20%20%20%20%20%29%3B%0A%20%20%20%20%20%20%20%20%0A%20%20%20%20%0A%20%20%20%20%20%20%20%20%20%20%20%20var%20circle_afb26b19dee94c9db7ec82aa5302bf26%20%3D%20L.circle%28%0A%20%20%20%20%20%20%20%20%20%20%20%20%20%20%20%20%5B22.3%2C%20114.2%5D%2C%0A%20%20%20%20%20%20%20%20%20%20%20%20%20%20%20%20%7B%22bubblingMouseEvents%22%3A%20true%2C%20%22color%22%3A%20%22red%22%2C%20%22dashArray%22%3A%20null%2C%20%22dashOffset%22%3A%20null%2C%20%22fill%22%3A%20true%2C%20%22fillColor%22%3A%20%22indigo%22%2C%20%22fillOpacity%22%3A%200.2%2C%20%22fillRule%22%3A%20%22evenodd%22%2C%20%22lineCap%22%3A%20%22round%22%2C%20%22lineJoin%22%3A%20%22round%22%2C%20%22opacity%22%3A%201.0%2C%20%22radius%22%3A%2046000.0%2C%20%22stroke%22%3A%20true%2C%20%22weight%22%3A%203%7D%0A%20%20%20%20%20%20%20%20%20%20%20%20%29.addTo%28map_a1d00f7722f64a9393b48021895cff65%29%3B%0A%20%20%20%20%20%20%20%20%0A%20%20%20%20%0A%20%20%20%20%20%20%20%20%20%20%20%20circle_afb26b19dee94c9db7ec82aa5302bf26.bindTooltip%28%0A%20%20%20%20%20%20%20%20%20%20%20%20%20%20%20%20%60%3Cdiv%3E%0A%20%20%20%20%20%20%20%20%20%20%20%20%20%20%20%20%20%20%20%20%20%3Cdiv%20style%3D%27margin%3A%200%3B%20background-color%3A%20black%3B%20color%3A%20white%3B%27%3E%3Ch4%20style%3D%27text-align%3Acenter%3Bfont-weight%3A%20bold%27%3EChina%3C/h4%3E%3Chr%20style%3D%27margin%3A10px%3Bcolor%3A%20white%3B%27%3E%3Cul%20style%3D%27color%3A%20white%3B%3Blist-style-type%3Acircle%3Balign-item%3Aleft%3Bpadding-left%3A20px%3Bpadding-right%3A20px%27%3E%3Cli%3EConfirmed%3A%2011796%3C/li%3E%3Cli%3EDeaths%3A%20%20%2022%3C/li%3E%3Cli%3EDeath%20Rate%3A%200.19%3C/li%3E%3C/ul%3E%3C/div%3E%0A%20%20%20%20%20%20%20%20%20%20%20%20%20%20%20%20%20%3C/div%3E%60%2C%0A%20%20%20%20%20%20%20%20%20%20%20%20%20%20%20%20%7B%22sticky%22%3A%20true%7D%0A%20%20%20%20%20%20%20%20%20%20%20%20%29%3B%0A%20%20%20%20%20%20%20%20%0A%20%20%20%20%0A%20%20%20%20%20%20%20%20%20%20%20%20var%20circle_5de76a15e9474634bb109f2249251f69%20%3D%20L.circle%28%0A%20%20%20%20%20%20%20%20%20%20%20%20%20%20%20%20%5B30.9756%2C%20112.2707%5D%2C%0A%20%20%20%20%20%20%20%20%20%20%20%20%20%20%20%20%7B%22bubblingMouseEvents%22%3A%20true%2C%20%22color%22%3A%20%22red%22%2C%20%22dashArray%22%3A%20null%2C%20%22dashOffset%22%3A%20null%2C%20%22fill%22%3A%20true%2C%20%22fillColor%22%3A%20%22indigo%22%2C%20%22fillOpacity%22%3A%200.2%2C%20%22fillRule%22%3A%20%22evenodd%22%2C%20%22lineCap%22%3A%20%22round%22%2C%20%22lineJoin%22%3A%20%22round%22%2C%20%22opacity%22%3A%201.0%2C%20%22radius%22%3A%2056000.0%2C%20%22stroke%22%3A%20true%2C%20%22weight%22%3A%203%7D%0A%20%20%20%20%20%20%20%20%20%20%20%20%29.addTo%28map_a1d00f7722f64a9393b48021895cff65%29%3B%0A%20%20%20%20%20%20%20%20%0A%20%20%20%20%0A%20%20%20%20%20%20%20%20%20%20%20%20circle_5de76a15e9474634bb109f2249251f69.bindTooltip%28%0A%20%20%20%20%20%20%20%20%20%20%20%20%20%20%20%20%60%3Cdiv%3E%0A%20%20%20%20%20%20%20%20%20%20%20%20%20%20%20%20%20%20%20%20%20%3Cdiv%20style%3D%27margin%3A%200%3B%20background-color%3A%20black%3B%20color%3A%20white%3B%27%3E%3Ch4%20style%3D%27text-align%3Acenter%3Bfont-weight%3A%20bold%27%3EChina%3C/h4%3E%3Chr%20style%3D%27margin%3A10px%3Bcolor%3A%20white%3B%27%3E%3Cul%20style%3D%27color%3A%20white%3B%3Blist-style-type%3Acircle%3Balign-item%3Aleft%3Bpadding-left%3A20px%3Bpadding-right%3A20px%27%3E%3Cli%3EConfirmed%3A%2068158%3C/li%3E%3Cli%3EDeaths%3A%20%20%20210%3C/li%3E%3Cli%3EDeath%20Rate%3A%200.31%3C/li%3E%3C/ul%3E%3C/div%3E%0A%20%20%20%20%20%20%20%20%20%20%20%20%20%20%20%20%20%3C/div%3E%60%2C%0A%20%20%20%20%20%20%20%20%20%20%20%20%20%20%20%20%7B%22sticky%22%3A%20true%7D%0A%20%20%20%20%20%20%20%20%20%20%20%20%29%3B%0A%20%20%20%20%20%20%20%20%0A%20%20%20%20%0A%20%20%20%20%20%20%20%20%20%20%20%20var%20circle_1bbe11a009a34e408664de70b03dbedb%20%3D%20L.circle%28%0A%20%20%20%20%20%20%20%20%20%20%20%20%20%20%20%20%5B27.6104%2C%20111.7088%5D%2C%0A%20%20%20%20%20%20%20%20%20%20%20%20%20%20%20%20%7B%22bubblingMouseEvents%22%3A%20true%2C%20%22color%22%3A%20%22red%22%2C%20%22dashArray%22%3A%20null%2C%20%22dashOffset%22%3A%20null%2C%20%22fill%22%3A%20true%2C%20%22fillColor%22%3A%20%22indigo%22%2C%20%22fillOpacity%22%3A%200.2%2C%20%22fillRule%22%3A%20%22evenodd%22%2C%20%22lineCap%22%3A%20%22round%22%2C%20%22lineJoin%22%3A%20%22round%22%2C%20%22opacity%22%3A%201.0%2C%20%22radius%22%3A%2031000.0%2C%20%22stroke%22%3A%20true%2C%20%22weight%22%3A%203%7D%0A%20%20%20%20%20%20%20%20%20%20%20%20%29.addTo%28map_a1d00f7722f64a9393b48021895cff65%29%3B%0A%20%20%20%20%20%20%20%20%0A%20%20%20%20%0A%20%20%20%20%20%20%20%20%20%20%20%20circle_1bbe11a009a34e408664de70b03dbedb.bindTooltip%28%0A%20%20%20%20%20%20%20%20%20%20%20%20%20%20%20%20%60%3Cdiv%3E%0A%20%20%20%20%20%20%20%20%20%20%20%20%20%20%20%20%20%20%20%20%20%3Cdiv%20style%3D%27margin%3A%200%3B%20background-color%3A%20black%3B%20color%3A%20white%3B%27%3E%3Ch4%20style%3D%27text-align%3Acenter%3Bfont-weight%3A%20bold%27%3EChina%3C/h4%3E%3Chr%20style%3D%27margin%3A10px%3Bcolor%3A%20white%3B%27%3E%3Cul%20style%3D%27color%3A%20white%3B%3Blist-style-type%3Acircle%3Balign-item%3Aleft%3Bpadding-left%3A20px%3Bpadding-right%3A20px%27%3E%3Cli%3EConfirmed%3A%201044%3C/li%3E%3Cli%3EDeaths%3A%20%20%204512%3C/li%3E%3Cli%3EDeath%20Rate%3A%20431.77%3C/li%3E%3C/ul%3E%3C/div%3E%0A%20%20%20%20%20%20%20%20%20%20%20%20%20%20%20%20%20%3C/div%3E%60%2C%0A%20%20%20%20%20%20%20%20%20%20%20%20%20%20%20%20%7B%22sticky%22%3A%20true%7D%0A%20%20%20%20%20%20%20%20%20%20%20%20%29%3B%0A%20%20%20%20%20%20%20%20%0A%20%20%20%20%0A%20%20%20%20%20%20%20%20%20%20%20%20var%20circle_25c58041fc9c4d59b9ea4d50096e922d%20%3D%20L.circle%28%0A%20%20%20%20%20%20%20%20%20%20%20%20%20%20%20%20%5B44.0935%2C%20113.9448%5D%2C%0A%20%20%20%20%20%20%20%20%20%20%20%20%20%20%20%20%7B%22bubblingMouseEvents%22%3A%20true%2C%20%22color%22%3A%20%22red%22%2C%20%22dashArray%22%3A%20null%2C%20%22dashOffset%22%3A%20null%2C%20%22fill%22%3A%20true%2C%20%22fillColor%22%3A%20%22indigo%22%2C%20%22fillOpacity%22%3A%200.2%2C%20%22fillRule%22%3A%20%22evenodd%22%2C%20%22lineCap%22%3A%20%22round%22%2C%20%22lineJoin%22%3A%20%22round%22%2C%20%22opacity%22%3A%201.0%2C%20%22radius%22%3A%2026000.0%2C%20%22stroke%22%3A%20true%2C%20%22weight%22%3A%203%7D%0A%20%20%20%20%20%20%20%20%20%20%20%20%29.addTo%28map_a1d00f7722f64a9393b48021895cff65%29%3B%0A%20%20%20%20%20%20%20%20%0A%20%20%20%20%0A%20%20%20%20%20%20%20%20%20%20%20%20circle_25c58041fc9c4d59b9ea4d50096e922d.bindTooltip%28%0A%20%20%20%20%20%20%20%20%20%20%20%20%20%20%20%20%60%3Cdiv%3E%0A%20%20%20%20%20%20%20%20%20%20%20%20%20%20%20%20%20%20%20%20%20%3Cdiv%20style%3D%27margin%3A%200%3B%20background-color%3A%20black%3B%20color%3A%20white%3B%27%3E%3Ch4%20style%3D%27text-align%3Acenter%3Bfont-weight%3A%20bold%27%3EChina%3C/h4%3E%3Chr%20style%3D%27margin%3A10px%3Bcolor%3A%20white%3B%27%3E%3Cul%20style%3D%27color%3A%20white%3B%3Blist-style-type%3Acircle%3Balign-item%3Aleft%3Bpadding-left%3A20px%3Bpadding-right%3A20px%27%3E%3Cli%3EConfirmed%3A%20382%3C/li%3E%3Cli%3EDeaths%3A%20%20%204%3C/li%3E%3Cli%3EDeath%20Rate%3A%201.04%3C/li%3E%3C/ul%3E%3C/div%3E%0A%20%20%20%20%20%20%20%20%20%20%20%20%20%20%20%20%20%3C/div%3E%60%2C%0A%20%20%20%20%20%20%20%20%20%20%20%20%20%20%20%20%7B%22sticky%22%3A%20true%7D%0A%20%20%20%20%20%20%20%20%20%20%20%20%29%3B%0A%20%20%20%20%20%20%20%20%0A%20%20%20%20%0A%20%20%20%20%20%20%20%20%20%20%20%20var%20circle_b57c0b9dec264f7a9b101f697933d636%20%3D%20L.circle%28%0A%20%20%20%20%20%20%20%20%20%20%20%20%20%20%20%20%5B32.9711%2C%20119.455%5D%2C%0A%20%20%20%20%20%20%20%20%20%20%20%20%20%20%20%20%7B%22bubblingMouseEvents%22%3A%20true%2C%20%22color%22%3A%20%22red%22%2C%20%22dashArray%22%3A%20null%2C%20%22dashOffset%22%3A%20null%2C%20%22fill%22%3A%20true%2C%20%22fillColor%22%3A%20%22indigo%22%2C%20%22fillOpacity%22%3A%200.2%2C%20%22fillRule%22%3A%20%22evenodd%22%2C%20%22lineCap%22%3A%20%22round%22%2C%20%22lineJoin%22%3A%20%22round%22%2C%20%22opacity%22%3A%201.0%2C%20%22radius%22%3A%2031000.0%2C%20%22stroke%22%3A%20true%2C%20%22weight%22%3A%203%7D%0A%20%20%20%20%20%20%20%20%20%20%20%20%29.addTo%28map_a1d00f7722f64a9393b48021895cff65%29%3B%0A%20%20%20%20%20%20%20%20%0A%20%20%20%20%0A%20%20%20%20%20%20%20%20%20%20%20%20circle_b57c0b9dec264f7a9b101f697933d636.bindTooltip%28%0A%20%20%20%20%20%20%20%20%20%20%20%20%20%20%20%20%60%3Cdiv%3E%0A%20%20%20%20%20%20%20%20%20%20%20%20%20%20%20%20%20%20%20%20%20%3Cdiv%20style%3D%27margin%3A%200%3B%20background-color%3A%20black%3B%20color%3A%20white%3B%27%3E%3Ch4%20style%3D%27text-align%3Acenter%3Bfont-weight%3A%20bold%27%3EChina%3C/h4%3E%3Chr%20style%3D%27margin%3A10px%3Bcolor%3A%20white%3B%27%3E%3Cul%20style%3D%27color%3A%20white%3B%3Blist-style-type%3Acircle%3Balign-item%3Aleft%3Bpadding-left%3A20px%3Bpadding-right%3A20px%27%3E%3Cli%3EConfirmed%3A%20720%3C/li%3E%3Cli%3EDeaths%3A%20%20%201%3C/li%3E%3Cli%3EDeath%20Rate%3A%200.14%3C/li%3E%3C/ul%3E%3C/div%3E%0A%20%20%20%20%20%20%20%20%20%20%20%20%20%20%20%20%20%3C/div%3E%60%2C%0A%20%20%20%20%20%20%20%20%20%20%20%20%20%20%20%20%7B%22sticky%22%3A%20true%7D%0A%20%20%20%20%20%20%20%20%20%20%20%20%29%3B%0A%20%20%20%20%20%20%20%20%0A%20%20%20%20%0A%20%20%20%20%20%20%20%20%20%20%20%20var%20circle_202a9b3805ba4c37931ebff20eeb496c%20%3D%20L.circle%28%0A%20%20%20%20%20%20%20%20%20%20%20%20%20%20%20%20%5B27.614%2C%20115.7221%5D%2C%0A%20%20%20%20%20%20%20%20%20%20%20%20%20%20%20%20%7B%22bubblingMouseEvents%22%3A%20true%2C%20%22color%22%3A%20%22red%22%2C%20%22dashArray%22%3A%20null%2C%20%22dashOffset%22%3A%20null%2C%20%22fill%22%3A%20true%2C%20%22fillColor%22%3A%20%22indigo%22%2C%20%22fillOpacity%22%3A%200.2%2C%20%22fillRule%22%3A%20%22evenodd%22%2C%20%22lineCap%22%3A%20%22round%22%2C%20%22lineJoin%22%3A%20%22round%22%2C%20%22opacity%22%3A%201.0%2C%20%22radius%22%3A%2031000.0%2C%20%22stroke%22%3A%20true%2C%20%22weight%22%3A%203%7D%0A%20%20%20%20%20%20%20%20%20%20%20%20%29.addTo%28map_a1d00f7722f64a9393b48021895cff65%29%3B%0A%20%20%20%20%20%20%20%20%0A%20%20%20%20%0A%20%20%20%20%20%20%20%20%20%20%20%20circle_202a9b3805ba4c37931ebff20eeb496c.bindTooltip%28%0A%20%20%20%20%20%20%20%20%20%20%20%20%20%20%20%20%60%3Cdiv%3E%0A%20%20%20%20%20%20%20%20%20%20%20%20%20%20%20%20%20%20%20%20%20%3Cdiv%20style%3D%27margin%3A%200%3B%20background-color%3A%20black%3B%20color%3A%20white%3B%27%3E%3Ch4%20style%3D%27text-align%3Acenter%3Bfont-weight%3A%20bold%27%3EChina%3C/h4%3E%3Chr%20style%3D%27margin%3A10px%3Bcolor%3A%20white%3B%27%3E%3Cul%20style%3D%27color%3A%20white%3B%3Blist-style-type%3Acircle%3Balign-item%3Aleft%3Bpadding-left%3A20px%3Bpadding-right%3A20px%27%3E%3Cli%3EConfirmed%3A%20937%3C/li%3E%3Cli%3EDeaths%3A%20%20%200%3C/li%3E%3Cli%3EDeath%20Rate%3A%200.0%3C/li%3E%3C/ul%3E%3C/div%3E%0A%20%20%20%20%20%20%20%20%20%20%20%20%20%20%20%20%20%3C/div%3E%60%2C%0A%20%20%20%20%20%20%20%20%20%20%20%20%20%20%20%20%7B%22sticky%22%3A%20true%7D%0A%20%20%20%20%20%20%20%20%20%20%20%20%29%3B%0A%20%20%20%20%20%20%20%20%0A%20%20%20%20%0A%20%20%20%20%20%20%20%20%20%20%20%20var%20circle_8abb60fb5cab4730b8f2b20b652291ce%20%3D%20L.circle%28%0A%20%20%20%20%20%20%20%20%20%20%20%20%20%20%20%20%5B43.6661%2C%20126.1923%5D%2C%0A%20%20%20%20%20%20%20%20%20%20%20%20%20%20%20%20%7B%22bubblingMouseEvents%22%3A%20true%2C%20%22color%22%3A%20%22red%22%2C%20%22dashArray%22%3A%20null%2C%20%22dashOffset%22%3A%20null%2C%20%22fill%22%3A%20true%2C%20%22fillColor%22%3A%20%22indigo%22%2C%20%22fillOpacity%22%3A%200.2%2C%20%22fillRule%22%3A%20%22evenodd%22%2C%20%22lineCap%22%3A%20%22round%22%2C%20%22lineJoin%22%3A%20%22round%22%2C%20%22opacity%22%3A%201.0%2C%20%22radius%22%3A%2031000.0%2C%20%22stroke%22%3A%20true%2C%20%22weight%22%3A%203%7D%0A%20%20%20%20%20%20%20%20%20%20%20%20%29.addTo%28map_a1d00f7722f64a9393b48021895cff65%29%3B%0A%20%20%20%20%20%20%20%20%0A%20%20%20%20%0A%20%20%20%20%20%20%20%20%20%20%20%20circle_8abb60fb5cab4730b8f2b20b652291ce.bindTooltip%28%0A%20%20%20%20%20%20%20%20%20%20%20%20%20%20%20%20%60%3Cdiv%3E%0A%20%20%20%20%20%20%20%20%20%20%20%20%20%20%20%20%20%20%20%20%20%3Cdiv%20style%3D%27margin%3A%200%3B%20background-color%3A%20black%3B%20color%3A%20white%3B%27%3E%3Ch4%20style%3D%27text-align%3Acenter%3Bfont-weight%3A%20bold%27%3EChina%3C/h4%3E%3Chr%20style%3D%27margin%3A10px%3Bcolor%3A%20white%3B%27%3E%3Cul%20style%3D%27color%3A%20white%3B%3Blist-style-type%3Acircle%3Balign-item%3Aleft%3Bpadding-left%3A20px%3Bpadding-right%3A20px%27%3E%3Cli%3EConfirmed%3A%20573%3C/li%3E%3Cli%3EDeaths%3A%20%20%201%3C/li%3E%3Cli%3EDeath%20Rate%3A%200.17%3C/li%3E%3C/ul%3E%3C/div%3E%0A%20%20%20%20%20%20%20%20%20%20%20%20%20%20%20%20%20%3C/div%3E%60%2C%0A%20%20%20%20%20%20%20%20%20%20%20%20%20%20%20%20%7B%22sticky%22%3A%20true%7D%0A%20%20%20%20%20%20%20%20%20%20%20%20%29%3B%0A%20%20%20%20%20%20%20%20%0A%20%20%20%20%0A%20%20%20%20%20%20%20%20%20%20%20%20var%20circle_875fbbb62a894d209ac6378f0213082c%20%3D%20L.circle%28%0A%20%20%20%20%20%20%20%20%20%20%20%20%20%20%20%20%5B41.2956%2C%20122.6085%5D%2C%0A%20%20%20%20%20%20%20%20%20%20%20%20%20%20%20%20%7B%22bubblingMouseEvents%22%3A%20true%2C%20%22color%22%3A%20%22red%22%2C%20%22dashArray%22%3A%20null%2C%20%22dashOffset%22%3A%20null%2C%20%22fill%22%3A%20true%2C%20%22fillColor%22%3A%20%22indigo%22%2C%20%22fillOpacity%22%3A%200.2%2C%20%22fillRule%22%3A%20%22evenodd%22%2C%20%22lineCap%22%3A%20%22round%22%2C%20%22lineJoin%22%3A%20%22round%22%2C%20%22opacity%22%3A%201.0%2C%20%22radius%22%3A%2031000.0%2C%20%22stroke%22%3A%20true%2C%20%22weight%22%3A%203%7D%0A%20%20%20%20%20%20%20%20%20%20%20%20%29.addTo%28map_a1d00f7722f64a9393b48021895cff65%29%3B%0A%20%20%20%20%20%20%20%20%0A%20%20%20%20%0A%20%20%20%20%20%20%20%20%20%20%20%20circle_875fbbb62a894d209ac6378f0213082c.bindTooltip%28%0A%20%20%20%20%20%20%20%20%20%20%20%20%20%20%20%20%60%3Cdiv%3E%0A%20%20%20%20%20%20%20%20%20%20%20%20%20%20%20%20%20%20%20%20%20%3Cdiv%20style%3D%27margin%3A%200%3B%20background-color%3A%20black%3B%20color%3A%20white%3B%27%3E%3Ch4%20style%3D%27text-align%3Acenter%3Bfont-weight%3A%20bold%27%3EChina%3C/h4%3E%3Chr%20style%3D%27margin%3A10px%3Bcolor%3A%20white%3B%27%3E%3Cul%20style%3D%27color%3A%20white%3B%3Blist-style-type%3Acircle%3Balign-item%3Aleft%3Bpadding-left%3A20px%3Bpadding-right%3A20px%27%3E%3Cli%3EConfirmed%3A%20408%3C/li%3E%3Cli%3EDeaths%3A%20%20%203%3C/li%3E%3Cli%3EDeath%20Rate%3A%200.73%3C/li%3E%3C/ul%3E%3C/div%3E%0A%20%20%20%20%20%20%20%20%20%20%20%20%20%20%20%20%20%3C/div%3E%60%2C%0A%20%20%20%20%20%20%20%20%20%20%20%20%20%20%20%20%7B%22sticky%22%3A%20true%7D%0A%20%20%20%20%20%20%20%20%20%20%20%20%29%3B%0A%20%20%20%20%20%20%20%20%0A%20%20%20%20%0A%20%20%20%20%20%20%20%20%20%20%20%20var%20circle_d960f4cb3da0498babea602e06e1058d%20%3D%20L.circle%28%0A%20%20%20%20%20%20%20%20%20%20%20%20%20%20%20%20%5B22.1667%2C%20113.55%5D%2C%0A%20%20%20%20%20%20%20%20%20%20%20%20%20%20%20%20%7B%22bubblingMouseEvents%22%3A%20true%2C%20%22color%22%3A%20%22red%22%2C%20%22dashArray%22%3A%20null%2C%20%22dashOffset%22%3A%20null%2C%20%22fill%22%3A%20true%2C%20%22fillColor%22%3A%20%22indigo%22%2C%20%22fillOpacity%22%3A%200.2%2C%20%22fillRule%22%3A%20%22evenodd%22%2C%20%22lineCap%22%3A%20%22round%22%2C%20%22lineJoin%22%3A%20%22round%22%2C%20%22opacity%22%3A%201.0%2C%20%22radius%22%3A%2016000.0%2C%20%22stroke%22%3A%20true%2C%20%22weight%22%3A%203%7D%0A%20%20%20%20%20%20%20%20%20%20%20%20%29.addTo%28map_a1d00f7722f64a9393b48021895cff65%29%3B%0A%20%20%20%20%20%20%20%20%0A%20%20%20%20%0A%20%20%20%20%20%20%20%20%20%20%20%20circle_d960f4cb3da0498babea602e06e1058d.bindTooltip%28%0A%20%20%20%20%20%20%20%20%20%20%20%20%20%20%20%20%60%3Cdiv%3E%0A%20%20%20%20%20%20%20%20%20%20%20%20%20%20%20%20%20%20%20%20%20%3Cdiv%20style%3D%27margin%3A%200%3B%20background-color%3A%20black%3B%20color%3A%20white%3B%27%3E%3Ch4%20style%3D%27text-align%3Acenter%3Bfont-weight%3A%20bold%27%3EChina%3C/h4%3E%3Chr%20style%3D%27margin%3A10px%3Bcolor%3A%20white%3B%27%3E%3Cul%20style%3D%27color%3A%20white%3B%3Blist-style-type%3Acircle%3Balign-item%3Aleft%3Bpadding-left%3A20px%3Bpadding-right%3A20px%27%3E%3Cli%3EConfirmed%3A%2049%3C/li%3E%3Cli%3EDeaths%3A%20%20%202%3C/li%3E%3Cli%3EDeath%20Rate%3A%204.0%3C/li%3E%3C/ul%3E%3C/div%3E%0A%20%20%20%20%20%20%20%20%20%20%20%20%20%20%20%20%20%3C/div%3E%60%2C%0A%20%20%20%20%20%20%20%20%20%20%20%20%20%20%20%20%7B%22sticky%22%3A%20true%7D%0A%20%20%20%20%20%20%20%20%20%20%20%20%29%3B%0A%20%20%20%20%20%20%20%20%0A%20%20%20%20%0A%20%20%20%20%20%20%20%20%20%20%20%20var%20circle_12e5c42d855b43a7bc4491094e88ed78%20%3D%20L.circle%28%0A%20%20%20%20%20%20%20%20%20%20%20%20%20%20%20%20%5B37.2692%2C%20106.1655%5D%2C%0A%20%20%20%20%20%20%20%20%20%20%20%20%20%20%20%20%7B%22bubblingMouseEvents%22%3A%20true%2C%20%22color%22%3A%20%22red%22%2C%20%22dashArray%22%3A%20null%2C%20%22dashOffset%22%3A%20null%2C%20%22fill%22%3A%20true%2C%20%22fillColor%22%3A%20%22indigo%22%2C%20%22fillOpacity%22%3A%200.2%2C%20%22fillRule%22%3A%20%22evenodd%22%2C%20%22lineCap%22%3A%20%22round%22%2C%20%22lineJoin%22%3A%20%22round%22%2C%20%22opacity%22%3A%201.0%2C%20%22radius%22%3A%2021000.0%2C%20%22stroke%22%3A%20true%2C%20%22weight%22%3A%203%7D%0A%20%20%20%20%20%20%20%20%20%20%20%20%29.addTo%28map_a1d00f7722f64a9393b48021895cff65%29%3B%0A%20%20%20%20%20%20%20%20%0A%20%20%20%20%0A%20%20%20%20%20%20%20%20%20%20%20%20circle_12e5c42d855b43a7bc4491094e88ed78.bindTooltip%28%0A%20%20%20%20%20%20%20%20%20%20%20%20%20%20%20%20%60%3Cdiv%3E%0A%20%20%20%20%20%20%20%20%20%20%20%20%20%20%20%20%20%20%20%20%20%3Cdiv%20style%3D%27margin%3A%200%3B%20background-color%3A%20black%3B%20color%3A%20white%3B%27%3E%3Ch4%20style%3D%27text-align%3Acenter%3Bfont-weight%3A%20bold%27%3EChina%3C/h4%3E%3Chr%20style%3D%27margin%3A10px%3Bcolor%3A%20white%3B%27%3E%3Cul%20style%3D%27color%3A%20white%3B%3Blist-style-type%3Acircle%3Balign-item%3Aleft%3Bpadding-left%3A20px%3Bpadding-right%3A20px%27%3E%3Cli%3EConfirmed%3A%2075%3C/li%3E%3Cli%3EDeaths%3A%20%20%200%3C/li%3E%3Cli%3EDeath%20Rate%3A%200.0%3C/li%3E%3C/ul%3E%3C/div%3E%0A%20%20%20%20%20%20%20%20%20%20%20%20%20%20%20%20%20%3C/div%3E%60%2C%0A%20%20%20%20%20%20%20%20%20%20%20%20%20%20%20%20%7B%22sticky%22%3A%20true%7D%0A%20%20%20%20%20%20%20%20%20%20%20%20%29%3B%0A%20%20%20%20%20%20%20%20%0A%20%20%20%20%0A%20%20%20%20%20%20%20%20%20%20%20%20var%20circle_1967d79beeee4f73892dd740086c0962%20%3D%20L.circle%28%0A%20%20%20%20%20%20%20%20%20%20%20%20%20%20%20%20%5B35.7452%2C%2095.9956%5D%2C%0A%20%20%20%20%20%20%20%20%20%20%20%20%20%20%20%20%7B%22bubblingMouseEvents%22%3A%20true%2C%20%22color%22%3A%20%22red%22%2C%20%22dashArray%22%3A%20null%2C%20%22dashOffset%22%3A%20null%2C%20%22fill%22%3A%20true%2C%20%22fillColor%22%3A%20%22indigo%22%2C%20%22fillOpacity%22%3A%200.2%2C%20%22fillRule%22%3A%20%22evenodd%22%2C%20%22lineCap%22%3A%20%22round%22%2C%20%22lineJoin%22%3A%20%22round%22%2C%20%22opacity%22%3A%201.0%2C%20%22radius%22%3A%2011000.0%2C%20%22stroke%22%3A%20true%2C%20%22weight%22%3A%203%7D%0A%20%20%20%20%20%20%20%20%20%20%20%20%29.addTo%28map_a1d00f7722f64a9393b48021895cff65%29%3B%0A%20%20%20%20%20%20%20%20%0A%20%20%20%20%0A%20%20%20%20%20%20%20%20%20%20%20%20circle_1967d79beeee4f73892dd740086c0962.bindTooltip%28%0A%20%20%20%20%20%20%20%20%20%20%20%20%20%20%20%20%60%3Cdiv%3E%0A%20%20%20%20%20%20%20%20%20%20%20%20%20%20%20%20%20%20%20%20%20%3Cdiv%20style%3D%27margin%3A%200%3B%20background-color%3A%20black%3B%20color%3A%20white%3B%27%3E%3Ch4%20style%3D%27text-align%3Acenter%3Bfont-weight%3A%20bold%27%3EChina%3C/h4%3E%3Chr%20style%3D%27margin%3A10px%3Bcolor%3A%20white%3B%27%3E%3Cul%20style%3D%27color%3A%20white%3B%3Blist-style-type%3Acircle%3Balign-item%3Aleft%3Bpadding-left%3A20px%3Bpadding-right%3A20px%27%3E%3Cli%3EConfirmed%3A%2018%3C/li%3E%3Cli%3EDeaths%3A%20%20%200%3C/li%3E%3Cli%3EDeath%20Rate%3A%200.0%3C/li%3E%3C/ul%3E%3C/div%3E%0A%20%20%20%20%20%20%20%20%20%20%20%20%20%20%20%20%20%3C/div%3E%60%2C%0A%20%20%20%20%20%20%20%20%20%20%20%20%20%20%20%20%7B%22sticky%22%3A%20true%7D%0A%20%20%20%20%20%20%20%20%20%20%20%20%29%3B%0A%20%20%20%20%20%20%20%20%0A%20%20%20%20%0A%20%20%20%20%20%20%20%20%20%20%20%20var%20circle_ffa0707903c74c2f86af0c68ad1eeee4%20%3D%20L.circle%28%0A%20%20%20%20%20%20%20%20%20%20%20%20%20%20%20%20%5B35.1917%2C%20108.8701%5D%2C%0A%20%20%20%20%20%20%20%20%20%20%20%20%20%20%20%20%7B%22bubblingMouseEvents%22%3A%20true%2C%20%22color%22%3A%20%22red%22%2C%20%22dashArray%22%3A%20null%2C%20%22dashOffset%22%3A%20null%2C%20%22fill%22%3A%20true%2C%20%22fillColor%22%3A%20%22indigo%22%2C%20%22fillOpacity%22%3A%200.2%2C%20%22fillRule%22%3A%20%22evenodd%22%2C%20%22lineCap%22%3A%20%22round%22%2C%20%22lineJoin%22%3A%20%22round%22%2C%20%22opacity%22%3A%201.0%2C%20%22radius%22%3A%2031000.0%2C%20%22stroke%22%3A%20true%2C%20%22weight%22%3A%203%7D%0A%20%20%20%20%20%20%20%20%20%20%20%20%29.addTo%28map_a1d00f7722f64a9393b48021895cff65%29%3B%0A%20%20%20%20%20%20%20%20%0A%20%20%20%20%0A%20%20%20%20%20%20%20%20%20%20%20%20circle_ffa0707903c74c2f86af0c68ad1eeee4.bindTooltip%28%0A%20%20%20%20%20%20%20%20%20%20%20%20%20%20%20%20%60%3Cdiv%3E%0A%20%20%20%20%20%20%20%20%20%20%20%20%20%20%20%20%20%20%20%20%20%3Cdiv%20style%3D%27margin%3A%200%3B%20background-color%3A%20black%3B%20color%3A%20white%3B%27%3E%3Ch4%20style%3D%27text-align%3Acenter%3Bfont-weight%3A%20bold%27%3EChina%3C/h4%3E%3Chr%20style%3D%27margin%3A10px%3Bcolor%3A%20white%3B%27%3E%3Cul%20style%3D%27color%3A%20white%3B%3Blist-style-type%3Acircle%3Balign-item%3Aleft%3Bpadding-left%3A20px%3Bpadding-right%3A20px%27%3E%3Cli%3EConfirmed%3A%20590%3C/li%3E%3Cli%3EDeaths%3A%20%20%200%3C/li%3E%3Cli%3EDeath%20Rate%3A%200.0%3C/li%3E%3C/ul%3E%3C/div%3E%0A%20%20%20%20%20%20%20%20%20%20%20%20%20%20%20%20%20%3C/div%3E%60%2C%0A%20%20%20%20%20%20%20%20%20%20%20%20%20%20%20%20%7B%22sticky%22%3A%20true%7D%0A%20%20%20%20%20%20%20%20%20%20%20%20%29%3B%0A%20%20%20%20%20%20%20%20%0A%20%20%20%20%0A%20%20%20%20%20%20%20%20%20%20%20%20var%20circle_c6ee3e0c5169430098c3d0b04873c8b0%20%3D%20L.circle%28%0A%20%20%20%20%20%20%20%20%20%20%20%20%20%20%20%20%5B36.3427%2C%20118.1498%5D%2C%0A%20%20%20%20%20%20%20%20%20%20%20%20%20%20%20%20%7B%22bubblingMouseEvents%22%3A%20true%2C%20%22color%22%3A%20%22red%22%2C%20%22dashArray%22%3A%20null%2C%20%22dashOffset%22%3A%20null%2C%20%22fill%22%3A%20true%2C%20%22fillColor%22%3A%20%22indigo%22%2C%20%22fillOpacity%22%3A%200.2%2C%20%22fillRule%22%3A%20%22evenodd%22%2C%20%22lineCap%22%3A%20%22round%22%2C%20%22lineJoin%22%3A%20%22round%22%2C%20%22opacity%22%3A%201.0%2C%20%22radius%22%3A%2031000.0%2C%20%22stroke%22%3A%20true%2C%20%22weight%22%3A%203%7D%0A%20%20%20%20%20%20%20%20%20%20%20%20%29.addTo%28map_a1d00f7722f64a9393b48021895cff65%29%3B%0A%20%20%20%20%20%20%20%20%0A%20%20%20%20%0A%20%20%20%20%20%20%20%20%20%20%20%20circle_c6ee3e0c5169430098c3d0b04873c8b0.bindTooltip%28%0A%20%20%20%20%20%20%20%20%20%20%20%20%20%20%20%20%60%3Cdiv%3E%0A%20%20%20%20%20%20%20%20%20%20%20%20%20%20%20%20%20%20%20%20%20%3Cdiv%20style%3D%27margin%3A%200%3B%20background-color%3A%20black%3B%20color%3A%20white%3B%27%3E%3Ch4%20style%3D%27text-align%3Acenter%3Bfont-weight%3A%20bold%27%3EChina%3C/h4%3E%3Chr%20style%3D%27margin%3A10px%3Bcolor%3A%20white%3B%27%3E%3Cul%20style%3D%27color%3A%20white%3B%3Blist-style-type%3Acircle%3Balign-item%3Aleft%3Bpadding-left%3A20px%3Bpadding-right%3A20px%27%3E%3Cli%3EConfirmed%3A%20879%3C/li%3E%3Cli%3EDeaths%3A%20%20%203%3C/li%3E%3Cli%3EDeath%20Rate%3A%200.34%3C/li%3E%3C/ul%3E%3C/div%3E%0A%20%20%20%20%20%20%20%20%20%20%20%20%20%20%20%20%20%3C/div%3E%60%2C%0A%20%20%20%20%20%20%20%20%20%20%20%20%20%20%20%20%7B%22sticky%22%3A%20true%7D%0A%20%20%20%20%20%20%20%20%20%20%20%20%29%3B%0A%20%20%20%20%20%20%20%20%0A%20%20%20%20%0A%20%20%20%20%20%20%20%20%20%20%20%20var%20circle_68b3d862973f4f0f9182b419cdc24f5e%20%3D%20L.circle%28%0A%20%20%20%20%20%20%20%20%20%20%20%20%20%20%20%20%5B31.201999999999998%2C%20121.4491%5D%2C%0A%20%20%20%20%20%20%20%20%20%20%20%20%20%20%20%20%7B%22bubblingMouseEvents%22%3A%20true%2C%20%22color%22%3A%20%22red%22%2C%20%22dashArray%22%3A%20null%2C%20%22dashOffset%22%3A%20null%2C%20%22fill%22%3A%20true%2C%20%22fillColor%22%3A%20%22indigo%22%2C%20%22fillOpacity%22%3A%200.2%2C%20%22fillRule%22%3A%20%22evenodd%22%2C%20%22lineCap%22%3A%20%22round%22%2C%20%22lineJoin%22%3A%20%22round%22%2C%20%22opacity%22%3A%201.0%2C%20%22radius%22%3A%2036000.0%2C%20%22stroke%22%3A%20true%2C%20%22weight%22%3A%203%7D%0A%20%20%20%20%20%20%20%20%20%20%20%20%29.addTo%28map_a1d00f7722f64a9393b48021895cff65%29%3B%0A%20%20%20%20%20%20%20%20%0A%20%20%20%20%0A%20%20%20%20%20%20%20%20%20%20%20%20circle_68b3d862973f4f0f9182b419cdc24f5e.bindTooltip%28%0A%20%20%20%20%20%20%20%20%20%20%20%20%20%20%20%20%60%3Cdiv%3E%0A%20%20%20%20%20%20%20%20%20%20%20%20%20%20%20%20%20%20%20%20%20%3Cdiv%20style%3D%27margin%3A%200%3B%20background-color%3A%20black%3B%20color%3A%20white%3B%27%3E%3Ch4%20style%3D%27text-align%3Acenter%3Bfont-weight%3A%20bold%27%3EChina%3C/h4%3E%3Chr%20style%3D%27margin%3A10px%3Bcolor%3A%20white%3B%27%3E%3Cul%20style%3D%27color%3A%20white%3B%3Blist-style-type%3Acircle%3Balign-item%3Aleft%3Bpadding-left%3A20px%3Bpadding-right%3A20px%27%3E%3Cli%3EConfirmed%3A%201999%3C/li%3E%3Cli%3EDeaths%3A%20%20%207%3C/li%3E%3Cli%3EDeath%20Rate%3A%200.35%3C/li%3E%3C/ul%3E%3C/div%3E%0A%20%20%20%20%20%20%20%20%20%20%20%20%20%20%20%20%20%3C/div%3E%60%2C%0A%20%20%20%20%20%20%20%20%20%20%20%20%20%20%20%20%7B%22sticky%22%3A%20true%7D%0A%20%20%20%20%20%20%20%20%20%20%20%20%29%3B%0A%20%20%20%20%20%20%20%20%0A%20%20%20%20%0A%20%20%20%20%20%20%20%20%20%20%20%20var%20circle_38689abe4b524936831f2c74dcc5a44f%20%3D%20L.circle%28%0A%20%20%20%20%20%20%20%20%20%20%20%20%20%20%20%20%5B37.5777%2C%20112.2922%5D%2C%0A%20%20%20%20%20%20%20%20%20%20%20%20%20%20%20%20%7B%22bubblingMouseEvents%22%3A%20true%2C%20%22color%22%3A%20%22red%22%2C%20%22dashArray%22%3A%20null%2C%20%22dashOffset%22%3A%20null%2C%20%22fill%22%3A%20true%2C%20%22fillColor%22%3A%20%22indigo%22%2C%20%22fillOpacity%22%3A%200.2%2C%20%22fillRule%22%3A%20%22evenodd%22%2C%20%22lineCap%22%3A%20%22round%22%2C%20%22lineJoin%22%3A%20%22round%22%2C%20%22opacity%22%3A%201.0%2C%20%22radius%22%3A%2026000.0%2C%20%22stroke%22%3A%20true%2C%20%22weight%22%3A%203%7D%0A%20%20%20%20%20%20%20%20%20%20%20%20%29.addTo%28map_a1d00f7722f64a9393b48021895cff65%29%3B%0A%20%20%20%20%20%20%20%20%0A%20%20%20%20%0A%20%20%20%20%20%20%20%20%20%20%20%20circle_38689abe4b524936831f2c74dcc5a44f.bindTooltip%28%0A%20%20%20%20%20%20%20%20%20%20%20%20%20%20%20%20%60%3Cdiv%3E%0A%20%20%20%20%20%20%20%20%20%20%20%20%20%20%20%20%20%20%20%20%20%3Cdiv%20style%3D%27margin%3A%200%3B%20background-color%3A%20black%3B%20color%3A%20white%3B%27%3E%3Ch4%20style%3D%27text-align%3Acenter%3Bfont-weight%3A%20bold%27%3EChina%3C/h4%3E%3Chr%20style%3D%27margin%3A10px%3Bcolor%3A%20white%3B%27%3E%3Cul%20style%3D%27color%3A%20white%3B%3Blist-style-type%3Acircle%3Balign-item%3Aleft%3Bpadding-left%3A20px%3Bpadding-right%3A20px%27%3E%3Cli%3EConfirmed%3A%20251%3C/li%3E%3Cli%3EDeaths%3A%20%20%207%3C/li%3E%3Cli%3EDeath%20Rate%3A%202.78%3C/li%3E%3C/ul%3E%3C/div%3E%0A%20%20%20%20%20%20%20%20%20%20%20%20%20%20%20%20%20%3C/div%3E%60%2C%0A%20%20%20%20%20%20%20%20%20%20%20%20%20%20%20%20%7B%22sticky%22%3A%20true%7D%0A%20%20%20%20%20%20%20%20%20%20%20%20%29%3B%0A%20%20%20%20%20%20%20%20%0A%20%20%20%20%0A%20%20%20%20%20%20%20%20%20%20%20%20var%20circle_eb768a9a88e94c528a62b258611f1182%20%3D%20L.circle%28%0A%20%20%20%20%20%20%20%20%20%20%20%20%20%20%20%20%5B30.6171%2C%20102.7103%5D%2C%0A%20%20%20%20%20%20%20%20%20%20%20%20%20%20%20%20%7B%22bubblingMouseEvents%22%3A%20true%2C%20%22color%22%3A%20%22red%22%2C%20%22dashArray%22%3A%20null%2C%20%22dashOffset%22%3A%20null%2C%20%22fill%22%3A%20true%2C%20%22fillColor%22%3A%20%22indigo%22%2C%20%22fillOpacity%22%3A%200.2%2C%20%22fillRule%22%3A%20%22evenodd%22%2C%20%22lineCap%22%3A%20%22round%22%2C%20%22lineJoin%22%3A%20%22round%22%2C%20%22opacity%22%3A%201.0%2C%20%22radius%22%3A%2031000.0%2C%20%22stroke%22%3A%20true%2C%20%22weight%22%3A%203%7D%0A%20%20%20%20%20%20%20%20%20%20%20%20%29.addTo%28map_a1d00f7722f64a9393b48021895cff65%29%3B%0A%20%20%20%20%20%20%20%20%0A%20%20%20%20%0A%20%20%20%20%20%20%20%20%20%20%20%20circle_eb768a9a88e94c528a62b258611f1182.bindTooltip%28%0A%20%20%20%20%20%20%20%20%20%20%20%20%20%20%20%20%60%3Cdiv%3E%0A%20%20%20%20%20%20%20%20%20%20%20%20%20%20%20%20%20%20%20%20%20%3Cdiv%20style%3D%27margin%3A%200%3B%20background-color%3A%20black%3B%20color%3A%20white%3B%27%3E%3Ch4%20style%3D%27text-align%3Acenter%3Bfont-weight%3A%20bold%27%3EChina%3C/h4%3E%3Chr%20style%3D%27margin%3A10px%3Bcolor%3A%20white%3B%27%3E%3Cul%20style%3D%27color%3A%20white%3B%3Blist-style-type%3Acircle%3Balign-item%3Aleft%3Bpadding-left%3A20px%3Bpadding-right%3A20px%27%3E%3Cli%3EConfirmed%3A%20992%3C/li%3E%3Cli%3EDeaths%3A%20%20%200%3C/li%3E%3Cli%3EDeath%20Rate%3A%200.0%3C/li%3E%3C/ul%3E%3C/div%3E%0A%20%20%20%20%20%20%20%20%20%20%20%20%20%20%20%20%20%3C/div%3E%60%2C%0A%20%20%20%20%20%20%20%20%20%20%20%20%20%20%20%20%7B%22sticky%22%3A%20true%7D%0A%20%20%20%20%20%20%20%20%20%20%20%20%29%3B%0A%20%20%20%20%20%20%20%20%0A%20%20%20%20%0A%20%20%20%20%20%20%20%20%20%20%20%20var%20circle_f65d8831d4fd49a59d8092109bd4ce75%20%3D%20L.circle%28%0A%20%20%20%20%20%20%20%20%20%20%20%20%20%20%20%20%5B39.3054%2C%20117.323%5D%2C%0A%20%20%20%20%20%20%20%20%20%20%20%20%20%20%20%20%7B%22bubblingMouseEvents%22%3A%20true%2C%20%22color%22%3A%20%22red%22%2C%20%22dashArray%22%3A%20null%2C%20%22dashOffset%22%3A%20null%2C%20%22fill%22%3A%20true%2C%20%22fillColor%22%3A%20%22indigo%22%2C%20%22fillOpacity%22%3A%200.2%2C%20%22fillRule%22%3A%20%22evenodd%22%2C%20%22lineCap%22%3A%20%22round%22%2C%20%22lineJoin%22%3A%20%22round%22%2C%20%22opacity%22%3A%201.0%2C%20%22radius%22%3A%2026000.0%2C%20%22stroke%22%3A%20true%2C%20%22weight%22%3A%203%7D%0A%20%20%20%20%20%20%20%20%20%20%20%20%29.addTo%28map_a1d00f7722f64a9393b48021895cff65%29%3B%0A%20%20%20%20%20%20%20%20%0A%20%20%20%20%0A%20%20%20%20%20%20%20%20%20%20%20%20circle_f65d8831d4fd49a59d8092109bd4ce75.bindTooltip%28%0A%20%20%20%20%20%20%20%20%20%20%20%20%20%20%20%20%60%3Cdiv%3E%0A%20%20%20%20%20%20%20%20%20%20%20%20%20%20%20%20%20%20%20%20%20%3Cdiv%20style%3D%27margin%3A%200%3B%20background-color%3A%20black%3B%20color%3A%20white%3B%27%3E%3Ch4%20style%3D%27text-align%3Acenter%3Bfont-weight%3A%20bold%27%3EChina%3C/h4%3E%3Chr%20style%3D%27margin%3A10px%3Bcolor%3A%20white%3B%27%3E%3Cul%20style%3D%27color%3A%20white%3B%3Blist-style-type%3Acircle%3Balign-item%3Aleft%3Bpadding-left%3A20px%3Bpadding-right%3A20px%27%3E%3Cli%3EConfirmed%3A%20386%3C/li%3E%3Cli%3EDeaths%3A%20%20%203%3C/li%3E%3Cli%3EDeath%20Rate%3A%200.78%3C/li%3E%3C/ul%3E%3C/div%3E%0A%20%20%20%20%20%20%20%20%20%20%20%20%20%20%20%20%20%3C/div%3E%60%2C%0A%20%20%20%20%20%20%20%20%20%20%20%20%20%20%20%20%7B%22sticky%22%3A%20true%7D%0A%20%20%20%20%20%20%20%20%20%20%20%20%29%3B%0A%20%20%20%20%20%20%20%20%0A%20%20%20%20%0A%20%20%20%20%20%20%20%20%20%20%20%20var%20circle_5b22268c7094487096506ab2c56758bb%20%3D%20L.circle%28%0A%20%20%20%20%20%20%20%20%20%20%20%20%20%20%20%20%5B31.6927%2C%2088.0924%5D%2C%0A%20%20%20%20%20%20%20%20%20%20%20%20%20%20%20%20%7B%22bubblingMouseEvents%22%3A%20true%2C%20%22color%22%3A%20%22red%22%2C%20%22dashArray%22%3A%20null%2C%20%22dashOffset%22%3A%20null%2C%20%22fill%22%3A%20true%2C%20%22fillColor%22%3A%20%22indigo%22%2C%20%22fillOpacity%22%3A%200.2%2C%20%22fillRule%22%3A%20%22evenodd%22%2C%20%22lineCap%22%3A%20%22round%22%2C%20%22lineJoin%22%3A%20%22round%22%2C%20%22opacity%22%3A%201.0%2C%20%22radius%22%3A%201000.0%2C%20%22stroke%22%3A%20true%2C%20%22weight%22%3A%203%7D%0A%20%20%20%20%20%20%20%20%20%20%20%20%29.addTo%28map_a1d00f7722f64a9393b48021895cff65%29%3B%0A%20%20%20%20%20%20%20%20%0A%20%20%20%20%0A%20%20%20%20%20%20%20%20%20%20%20%20circle_5b22268c7094487096506ab2c56758bb.bindTooltip%28%0A%20%20%20%20%20%20%20%20%20%20%20%20%20%20%20%20%60%3Cdiv%3E%0A%20%20%20%20%20%20%20%20%20%20%20%20%20%20%20%20%20%20%20%20%20%3Cdiv%20style%3D%27margin%3A%200%3B%20background-color%3A%20black%3B%20color%3A%20white%3B%27%3E%3Ch4%20style%3D%27text-align%3Acenter%3Bfont-weight%3A%20bold%27%3EChina%3C/h4%3E%3Chr%20style%3D%27margin%3A10px%3Bcolor%3A%20white%3B%27%3E%3Cul%20style%3D%27color%3A%20white%3B%3Blist-style-type%3Acircle%3Balign-item%3Aleft%3Bpadding-left%3A20px%3Bpadding-right%3A20px%27%3E%3Cli%3EConfirmed%3A%201%3C/li%3E%3Cli%3EDeaths%3A%20%20%203%3C/li%3E%3Cli%3EDeath%20Rate%3A%20150.0%3C/li%3E%3C/ul%3E%3C/div%3E%0A%20%20%20%20%20%20%20%20%20%20%20%20%20%20%20%20%20%3C/div%3E%60%2C%0A%20%20%20%20%20%20%20%20%20%20%20%20%20%20%20%20%7B%22sticky%22%3A%20true%7D%0A%20%20%20%20%20%20%20%20%20%20%20%20%29%3B%0A%20%20%20%20%20%20%20%20%0A%20%20%20%20%0A%20%20%20%20%20%20%20%20%20%20%20%20var%20circle_5cd6920a0b644649aa2584f89d989034%20%3D%20L.circle%28%0A%20%20%20%20%20%20%20%20%20%20%20%20%20%20%20%20%5B41.1129%2C%2085.2401%5D%2C%0A%20%20%20%20%20%20%20%20%20%20%20%20%20%20%20%20%7B%22bubblingMouseEvents%22%3A%20true%2C%20%22color%22%3A%20%22red%22%2C%20%22dashArray%22%3A%20null%2C%20%22dashOffset%22%3A%20null%2C%20%22fill%22%3A%20true%2C%20%22fillColor%22%3A%20%22indigo%22%2C%20%22fillOpacity%22%3A%200.2%2C%20%22fillRule%22%3A%20%22evenodd%22%2C%20%22lineCap%22%3A%20%22round%22%2C%20%22lineJoin%22%3A%20%22round%22%2C%20%22opacity%22%3A%201.0%2C%20%22radius%22%3A%2031000.0%2C%20%22stroke%22%3A%20true%2C%20%22weight%22%3A%203%7D%0A%20%20%20%20%20%20%20%20%20%20%20%20%29.addTo%28map_a1d00f7722f64a9393b48021895cff65%29%3B%0A%20%20%20%20%20%20%20%20%0A%20%20%20%20%0A%20%20%20%20%20%20%20%20%20%20%20%20circle_5cd6920a0b644649aa2584f89d989034.bindTooltip%28%0A%20%20%20%20%20%20%20%20%20%20%20%20%20%20%20%20%60%3Cdiv%3E%0A%20%20%20%20%20%20%20%20%20%20%20%20%20%20%20%20%20%20%20%20%20%3Cdiv%20style%3D%27margin%3A%200%3B%20background-color%3A%20black%3B%20color%3A%20white%3B%27%3E%3Ch4%20style%3D%27text-align%3Acenter%3Bfont-weight%3A%20bold%27%3EChina%3C/h4%3E%3Chr%20style%3D%27margin%3A10px%3Bcolor%3A%20white%3B%27%3E%3Cul%20style%3D%27color%3A%20white%3B%3Blist-style-type%3Acircle%3Balign-item%3Aleft%3Bpadding-left%3A20px%3Bpadding-right%3A20px%27%3E%3Cli%3EConfirmed%3A%20980%3C/li%3E%3Cli%3EDeaths%3A%20%20%200%3C/li%3E%3Cli%3EDeath%20Rate%3A%200.0%3C/li%3E%3C/ul%3E%3C/div%3E%0A%20%20%20%20%20%20%20%20%20%20%20%20%20%20%20%20%20%3C/div%3E%60%2C%0A%20%20%20%20%20%20%20%20%20%20%20%20%20%20%20%20%7B%22sticky%22%3A%20true%7D%0A%20%20%20%20%20%20%20%20%20%20%20%20%29%3B%0A%20%20%20%20%20%20%20%20%0A%20%20%20%20%0A%20%20%20%20%20%20%20%20%20%20%20%20var%20circle_b279d50d279545d6ba7fb859b3a3cf81%20%3D%20L.circle%28%0A%20%20%20%20%20%20%20%20%20%20%20%20%20%20%20%20%5B24.974%2C%20101.48700000000001%5D%2C%0A%20%20%20%20%20%20%20%20%20%20%20%20%20%20%20%20%7B%22bubblingMouseEvents%22%3A%20true%2C%20%22color%22%3A%20%22red%22%2C%20%22dashArray%22%3A%20null%2C%20%22dashOffset%22%3A%20null%2C%20%22fill%22%3A%20true%2C%20%22fillColor%22%3A%20%22indigo%22%2C%20%22fillOpacity%22%3A%200.2%2C%20%22fillRule%22%3A%20%22evenodd%22%2C%20%22lineCap%22%3A%20%22round%22%2C%20%22lineJoin%22%3A%20%22round%22%2C%20%22opacity%22%3A%201.0%2C%20%22radius%22%3A%2026000.0%2C%20%22stroke%22%3A%20true%2C%20%22weight%22%3A%203%7D%0A%20%20%20%20%20%20%20%20%20%20%20%20%29.addTo%28map_a1d00f7722f64a9393b48021895cff65%29%3B%0A%20%20%20%20%20%20%20%20%0A%20%20%20%20%0A%20%20%20%20%20%20%20%20%20%20%20%20circle_b279d50d279545d6ba7fb859b3a3cf81.bindTooltip%28%0A%20%20%20%20%20%20%20%20%20%20%20%20%20%20%20%20%60%3Cdiv%3E%0A%20%20%20%20%20%20%20%20%20%20%20%20%20%20%20%20%20%20%20%20%20%3Cdiv%20style%3D%27margin%3A%200%3B%20background-color%3A%20black%3B%20color%3A%20white%3B%27%3E%3Ch4%20style%3D%27text-align%3Acenter%3Bfont-weight%3A%20bold%27%3EChina%3C/h4%3E%3Chr%20style%3D%27margin%3A10px%3Bcolor%3A%20white%3B%27%3E%3Cul%20style%3D%27color%3A%20white%3B%3Blist-style-type%3Acircle%3Balign-item%3Aleft%3Bpadding-left%3A20px%3Bpadding-right%3A20px%27%3E%3Cli%3EConfirmed%3A%20347%3C/li%3E%3Cli%3EDeaths%3A%20%20%200%3C/li%3E%3Cli%3EDeath%20Rate%3A%200.0%3C/li%3E%3C/ul%3E%3C/div%3E%0A%20%20%20%20%20%20%20%20%20%20%20%20%20%20%20%20%20%3C/div%3E%60%2C%0A%20%20%20%20%20%20%20%20%20%20%20%20%20%20%20%20%7B%22sticky%22%3A%20true%7D%0A%20%20%20%20%20%20%20%20%20%20%20%20%29%3B%0A%20%20%20%20%20%20%20%20%0A%20%20%20%20%0A%20%20%20%20%20%20%20%20%20%20%20%20var%20circle_35e0aef610ab4117a0c9543ee6767edf%20%3D%20L.circle%28%0A%20%20%20%20%20%20%20%20%20%20%20%20%20%20%20%20%5B29.1832%2C%20120.0934%5D%2C%0A%20%20%20%20%20%20%20%20%20%20%20%20%20%20%20%20%7B%22bubblingMouseEvents%22%3A%20true%2C%20%22color%22%3A%20%22red%22%2C%20%22dashArray%22%3A%20null%2C%20%22dashOffset%22%3A%20null%2C%20%22fill%22%3A%20true%2C%20%22fillColor%22%3A%20%22indigo%22%2C%20%22fillOpacity%22%3A%200.2%2C%20%22fillRule%22%3A%20%22evenodd%22%2C%20%22lineCap%22%3A%20%22round%22%2C%20%22lineJoin%22%3A%20%22round%22%2C%20%22opacity%22%3A%201.0%2C%20%22radius%22%3A%2036000.0%2C%20%22stroke%22%3A%20true%2C%20%22weight%22%3A%203%7D%0A%20%20%20%20%20%20%20%20%20%20%20%20%29.addTo%28map_a1d00f7722f64a9393b48021895cff65%29%3B%0A%20%20%20%20%20%20%20%20%0A%20%20%20%20%0A%20%20%20%20%20%20%20%20%20%20%20%20circle_35e0aef610ab4117a0c9543ee6767edf.bindTooltip%28%0A%20%20%20%20%20%20%20%20%20%20%20%20%20%20%20%20%60%3Cdiv%3E%0A%20%20%20%20%20%20%20%20%20%20%20%20%20%20%20%20%20%20%20%20%20%3Cdiv%20style%3D%27margin%3A%200%3B%20background-color%3A%20black%3B%20color%3A%20white%3B%27%3E%3Ch4%20style%3D%27text-align%3Acenter%3Bfont-weight%3A%20bold%27%3EChina%3C/h4%3E%3Chr%20style%3D%27margin%3A10px%3Bcolor%3A%20white%3B%27%3E%3Cul%20style%3D%27color%3A%20white%3B%3Blist-style-type%3Acircle%3Balign-item%3Aleft%3Bpadding-left%3A20px%3Bpadding-right%3A20px%27%3E%3Cli%3EConfirmed%3A%201344%3C/li%3E%3Cli%3EDeaths%3A%20%20%203%3C/li%3E%3Cli%3EDeath%20Rate%3A%200.22%3C/li%3E%3C/ul%3E%3C/div%3E%0A%20%20%20%20%20%20%20%20%20%20%20%20%20%20%20%20%20%3C/div%3E%60%2C%0A%20%20%20%20%20%20%20%20%20%20%20%20%20%20%20%20%7B%22sticky%22%3A%20true%7D%0A%20%20%20%20%20%20%20%20%20%20%20%20%29%3B%0A%20%20%20%20%20%20%20%20%0A%20%20%20%20%0A%20%20%20%20%20%20%20%20%20%20%20%20var%20circle_625d57c74c434abebac1dee80c5ae10b%20%3D%20L.circle%28%0A%20%20%20%20%20%20%20%20%20%20%20%20%20%20%20%20%5B4.5709%2C%20-74.2973%5D%2C%0A%20%20%20%20%20%20%20%20%20%20%20%20%20%20%20%20%7B%22bubblingMouseEvents%22%3A%20true%2C%20%22color%22%3A%20%22red%22%2C%20%22dashArray%22%3A%20null%2C%20%22dashOffset%22%3A%20null%2C%20%22fill%22%3A%20true%2C%20%22fillColor%22%3A%20%22indigo%22%2C%20%22fillOpacity%22%3A%200.2%2C%20%22fillRule%22%3A%20%22evenodd%22%2C%20%22lineCap%22%3A%20%22round%22%2C%20%22lineJoin%22%3A%20%22round%22%2C%20%22opacity%22%3A%201.0%2C%20%22radius%22%3A%2071000.0%2C%20%22stroke%22%3A%20true%2C%20%22weight%22%3A%203%7D%0A%20%20%20%20%20%20%20%20%20%20%20%20%29.addTo%28map_a1d00f7722f64a9393b48021895cff65%29%3B%0A%20%20%20%20%20%20%20%20%0A%20%20%20%20%0A%20%20%20%20%20%20%20%20%20%20%20%20circle_625d57c74c434abebac1dee80c5ae10b.bindTooltip%28%0A%20%20%20%20%20%20%20%20%20%20%20%20%20%20%20%20%60%3Cdiv%3E%0A%20%20%20%20%20%20%20%20%20%20%20%20%20%20%20%20%20%20%20%20%20%3Cdiv%20style%3D%27margin%3A%200%3B%20background-color%3A%20black%3B%20color%3A%20white%3B%27%3E%3Ch4%20style%3D%27text-align%3Acenter%3Bfont-weight%3A%20bold%27%3EColombia%3C/h4%3E%3Chr%20style%3D%27margin%3A10px%3Bcolor%3A%20white%3B%27%3E%3Cul%20style%3D%27color%3A%20white%3B%3Blist-style-type%3Acircle%3Balign-item%3Aleft%3Bpadding-left%3A20px%3Bpadding-right%3A20px%27%3E%3Cli%3EConfirmed%3A%202934611%3C/li%3E%3Cli%3EDeaths%3A%20%20%202%3C/li%3E%3Cli%3EDeath%20Rate%3A%200.0%3C/li%3E%3C/ul%3E%3C/div%3E%0A%20%20%20%20%20%20%20%20%20%20%20%20%20%20%20%20%20%3C/div%3E%60%2C%0A%20%20%20%20%20%20%20%20%20%20%20%20%20%20%20%20%7B%22sticky%22%3A%20true%7D%0A%20%20%20%20%20%20%20%20%20%20%20%20%29%3B%0A%20%20%20%20%20%20%20%20%0A%20%20%20%20%0A%20%20%20%20%20%20%20%20%20%20%20%20var%20circle_b7decf2646324a12886dbe575484a08e%20%3D%20L.circle%28%0A%20%20%20%20%20%20%20%20%20%20%20%20%20%20%20%20%5B-11.6455%2C%2043.3333%5D%2C%0A%20%20%20%20%20%20%20%20%20%20%20%20%20%20%20%20%7B%22bubblingMouseEvents%22%3A%20true%2C%20%22color%22%3A%20%22red%22%2C%20%22dashArray%22%3A%20null%2C%20%22dashOffset%22%3A%20null%2C%20%22fill%22%3A%20true%2C%20%22fillColor%22%3A%20%22indigo%22%2C%20%22fillOpacity%22%3A%200.2%2C%20%22fillRule%22%3A%20%22evenodd%22%2C%20%22lineCap%22%3A%20%22round%22%2C%20%22lineJoin%22%3A%20%22round%22%2C%20%22opacity%22%3A%201.0%2C%20%22radius%22%3A%2041000.0%2C%20%22stroke%22%3A%20true%2C%20%22weight%22%3A%203%7D%0A%20%20%20%20%20%20%20%20%20%20%20%20%29.addTo%28map_a1d00f7722f64a9393b48021895cff65%29%3B%0A%20%20%20%20%20%20%20%20%0A%20%20%20%20%0A%20%20%20%20%20%20%20%20%20%20%20%20circle_b7decf2646324a12886dbe575484a08e.bindTooltip%28%0A%20%20%20%20%20%20%20%20%20%20%20%20%20%20%20%20%60%3Cdiv%3E%0A%20%20%20%20%20%20%20%20%20%20%20%20%20%20%20%20%20%20%20%20%20%3Cdiv%20style%3D%27margin%3A%200%3B%20background-color%3A%20black%3B%20color%3A%20white%3B%27%3E%3Ch4%20style%3D%27text-align%3Acenter%3Bfont-weight%3A%20bold%27%3EComoros%3C/h4%3E%3Chr%20style%3D%27margin%3A10px%3Bcolor%3A%20white%3B%27%3E%3Cul%20style%3D%27color%3A%20white%3B%3Blist-style-type%3Acircle%3Balign-item%3Aleft%3Bpadding-left%3A20px%3Bpadding-right%3A20px%27%3E%3Cli%3EConfirmed%3A%203847%3C/li%3E%3Cli%3EDeaths%3A%20%20%201%3C/li%3E%3Cli%3EDeath%20Rate%3A%200.03%3C/li%3E%3C/ul%3E%3C/div%3E%0A%20%20%20%20%20%20%20%20%20%20%20%20%20%20%20%20%20%3C/div%3E%60%2C%0A%20%20%20%20%20%20%20%20%20%20%20%20%20%20%20%20%7B%22sticky%22%3A%20true%7D%0A%20%20%20%20%20%20%20%20%20%20%20%20%29%3B%0A%20%20%20%20%20%20%20%20%0A%20%20%20%20%0A%20%20%20%20%20%20%20%20%20%20%20%20var%20circle_ec5abf559d4446339db7e6f55de2e217%20%3D%20L.circle%28%0A%20%20%20%20%20%20%20%20%20%20%20%20%20%20%20%20%5B-0.228%2C%2015.8277%5D%2C%0A%20%20%20%20%20%20%20%20%20%20%20%20%20%20%20%20%7B%22bubblingMouseEvents%22%3A%20true%2C%20%22color%22%3A%20%22red%22%2C%20%22dashArray%22%3A%20null%2C%20%22dashOffset%22%3A%20null%2C%20%22fill%22%3A%20true%2C%20%22fillColor%22%3A%20%22indigo%22%2C%20%22fillOpacity%22%3A%200.2%2C%20%22fillRule%22%3A%20%22evenodd%22%2C%20%22lineCap%22%3A%20%22round%22%2C%20%22lineJoin%22%3A%20%22round%22%2C%20%22opacity%22%3A%201.0%2C%20%22radius%22%3A%2046000.0%2C%20%22stroke%22%3A%20true%2C%20%22weight%22%3A%203%7D%0A%20%20%20%20%20%20%20%20%20%20%20%20%29.addTo%28map_a1d00f7722f64a9393b48021895cff65%29%3B%0A%20%20%20%20%20%20%20%20%0A%20%20%20%20%0A%20%20%20%20%20%20%20%20%20%20%20%20circle_ec5abf559d4446339db7e6f55de2e217.bindTooltip%28%0A%20%20%20%20%20%20%20%20%20%20%20%20%20%20%20%20%60%3Cdiv%3E%0A%20%20%20%20%20%20%20%20%20%20%20%20%20%20%20%20%20%20%20%20%20%3Cdiv%20style%3D%27margin%3A%200%3B%20background-color%3A%20black%3B%20color%3A%20white%3B%27%3E%3Ch4%20style%3D%27text-align%3Acenter%3Bfont-weight%3A%20bold%27%3ECongo%20%28Brazzaville%29%3C/h4%3E%3Chr%20style%3D%27margin%3A10px%3Bcolor%3A%20white%3B%27%3E%3Cul%20style%3D%27color%3A%20white%3B%3Blist-style-type%3Acircle%3Balign-item%3Aleft%3Bpadding-left%3A20px%3Bpadding-right%3A20px%27%3E%3Cli%3EConfirmed%3A%2011016%3C/li%3E%3Cli%3EDeaths%3A%20%20%2076015%3C/li%3E%3Cli%3EDeath%20Rate%3A%20689.98%3C/li%3E%3C/ul%3E%3C/div%3E%0A%20%20%20%20%20%20%20%20%20%20%20%20%20%20%20%20%20%3C/div%3E%60%2C%0A%20%20%20%20%20%20%20%20%20%20%20%20%20%20%20%20%7B%22sticky%22%3A%20true%7D%0A%20%20%20%20%20%20%20%20%20%20%20%20%29%3B%0A%20%20%20%20%20%20%20%20%0A%20%20%20%20%0A%20%20%20%20%20%20%20%20%20%20%20%20var%20circle_d14fff892d37491b849cac67fec956ff%20%3D%20L.circle%28%0A%20%20%20%20%20%20%20%20%20%20%20%20%20%20%20%20%5B-4.0383%2C%2021.7587%5D%2C%0A%20%20%20%20%20%20%20%20%20%20%20%20%20%20%20%20%7B%22bubblingMouseEvents%22%3A%20true%2C%20%22color%22%3A%20%22red%22%2C%20%22dashArray%22%3A%20null%2C%20%22dashOffset%22%3A%20null%2C%20%22fill%22%3A%20true%2C%20%22fillColor%22%3A%20%22indigo%22%2C%20%22fillOpacity%22%3A%200.2%2C%20%22fillRule%22%3A%20%22evenodd%22%2C%20%22lineCap%22%3A%20%22round%22%2C%20%22lineJoin%22%3A%20%22round%22%2C%20%22opacity%22%3A%201.0%2C%20%22radius%22%3A%2051000.0%2C%20%22stroke%22%3A%20true%2C%20%22weight%22%3A%203%7D%0A%20%20%20%20%20%20%20%20%20%20%20%20%29.addTo%28map_a1d00f7722f64a9393b48021895cff65%29%3B%0A%20%20%20%20%20%20%20%20%0A%20%20%20%20%0A%20%20%20%20%20%20%20%20%20%20%20%20circle_d14fff892d37491b849cac67fec956ff.bindTooltip%28%0A%20%20%20%20%20%20%20%20%20%20%20%20%20%20%20%20%60%3Cdiv%3E%0A%20%20%20%20%20%20%20%20%20%20%20%20%20%20%20%20%20%20%20%20%20%3Cdiv%20style%3D%27margin%3A%200%3B%20background-color%3A%20black%3B%20color%3A%20white%3B%27%3E%3Ch4%20style%3D%27text-align%3Acenter%3Bfont-weight%3A%20bold%27%3ECongo%20%28Kinshasa%29%3C/h4%3E%3Chr%20style%3D%27margin%3A10px%3Bcolor%3A%20white%3B%27%3E%3Cul%20style%3D%27color%3A%20white%3B%3Blist-style-type%3Acircle%3Balign-item%3Aleft%3Bpadding-left%3A20px%3Bpadding-right%3A20px%27%3E%3Cli%3EConfirmed%3A%2030130%3C/li%3E%3Cli%3EDeaths%3A%20%20%20146%3C/li%3E%3Cli%3EDeath%20Rate%3A%200.48%3C/li%3E%3C/ul%3E%3C/div%3E%0A%20%20%20%20%20%20%20%20%20%20%20%20%20%20%20%20%20%3C/div%3E%60%2C%0A%20%20%20%20%20%20%20%20%20%20%20%20%20%20%20%20%7B%22sticky%22%3A%20true%7D%0A%20%20%20%20%20%20%20%20%20%20%20%20%29%3B%0A%20%20%20%20%20%20%20%20%0A%20%20%20%20%0A%20%20%20%20%20%20%20%20%20%20%20%20var%20circle_9a2292918cb04888827bde5b43c75525%20%3D%20L.circle%28%0A%20%20%20%20%20%20%20%20%20%20%20%20%20%20%20%20%5B9.7489%2C%20-83.7534%5D%2C%0A%20%20%20%20%20%20%20%20%20%20%20%20%20%20%20%20%7B%22bubblingMouseEvents%22%3A%20true%2C%20%22color%22%3A%20%22red%22%2C%20%22dashArray%22%3A%20null%2C%20%22dashOffset%22%3A%20null%2C%20%22fill%22%3A%20true%2C%20%22fillColor%22%3A%20%22indigo%22%2C%20%22fillOpacity%22%3A%200.2%2C%20%22fillRule%22%3A%20%22evenodd%22%2C%20%22lineCap%22%3A%20%22round%22%2C%20%22lineJoin%22%3A%20%22round%22%2C%20%22opacity%22%3A%201.0%2C%20%22radius%22%3A%2061000.0%2C%20%22stroke%22%3A%20true%2C%20%22weight%22%3A%203%7D%0A%20%20%20%20%20%20%20%20%20%20%20%20%29.addTo%28map_a1d00f7722f64a9393b48021895cff65%29%3B%0A%20%20%20%20%20%20%20%20%0A%20%20%20%20%0A%20%20%20%20%20%20%20%20%20%20%20%20circle_9a2292918cb04888827bde5b43c75525.bindTooltip%28%0A%20%20%20%20%20%20%20%20%20%20%20%20%20%20%20%20%60%3Cdiv%3E%0A%20%20%20%20%20%20%20%20%20%20%20%20%20%20%20%20%20%20%20%20%20%3Cdiv%20style%3D%27margin%3A%200%3B%20background-color%3A%20black%3B%20color%3A%20white%3B%27%3E%3Ch4%20style%3D%27text-align%3Acenter%3Bfont-weight%3A%20bold%27%3ECosta%20Rica%3C/h4%3E%3Chr%20style%3D%27margin%3A10px%3Bcolor%3A%20white%3B%27%3E%3Cul%20style%3D%27color%3A%20white%3B%3Blist-style-type%3Acircle%3Balign-item%3Aleft%3Bpadding-left%3A20px%3Bpadding-right%3A20px%27%3E%3Cli%3EConfirmed%3A%20260535%3C/li%3E%3Cli%3EDeaths%3A%20%20%20147%3C/li%3E%3Cli%3EDeath%20Rate%3A%200.06%3C/li%3E%3C/ul%3E%3C/div%3E%0A%20%20%20%20%20%20%20%20%20%20%20%20%20%20%20%20%20%3C/div%3E%60%2C%0A%20%20%20%20%20%20%20%20%20%20%20%20%20%20%20%20%7B%22sticky%22%3A%20true%7D%0A%20%20%20%20%20%20%20%20%20%20%20%20%29%3B%0A%20%20%20%20%20%20%20%20%0A%20%20%20%20%0A%20%20%20%20%20%20%20%20%20%20%20%20var%20circle_f93885c5f34e41d99bcf00d4f5553bda%20%3D%20L.circle%28%0A%20%20%20%20%20%20%20%20%20%20%20%20%20%20%20%20%5B7.54%2C%20-5.5471%5D%2C%0A%20%20%20%20%20%20%20%20%20%20%20%20%20%20%20%20%7B%22bubblingMouseEvents%22%3A%20true%2C%20%22color%22%3A%20%22red%22%2C%20%22dashArray%22%3A%20null%2C%20%22dashOffset%22%3A%20null%2C%20%22fill%22%3A%20true%2C%20%22fillColor%22%3A%20%22indigo%22%2C%20%22fillOpacity%22%3A%200.2%2C%20%22fillRule%22%3A%20%22evenodd%22%2C%20%22lineCap%22%3A%20%22round%22%2C%20%22lineJoin%22%3A%20%22round%22%2C%20%22opacity%22%3A%201.0%2C%20%22radius%22%3A%2051000.0%2C%20%22stroke%22%3A%20true%2C%20%22weight%22%3A%203%7D%0A%20%20%20%20%20%20%20%20%20%20%20%20%29.addTo%28map_a1d00f7722f64a9393b48021895cff65%29%3B%0A%20%20%20%20%20%20%20%20%0A%20%20%20%20%0A%20%20%20%20%20%20%20%20%20%20%20%20circle_f93885c5f34e41d99bcf00d4f5553bda.bindTooltip%28%0A%20%20%20%20%20%20%20%20%20%20%20%20%20%20%20%20%60%3Cdiv%3E%0A%20%20%20%20%20%20%20%20%20%20%20%20%20%20%20%20%20%20%20%20%20%3Cdiv%20style%3D%27margin%3A%200%3B%20background-color%3A%20black%3B%20color%3A%20white%3B%27%3E%3Ch4%20style%3D%27text-align%3Acenter%3Bfont-weight%3A%20bold%27%3ECote%20d%27Ivoire%3C/h4%3E%3Chr%20style%3D%27margin%3A10px%3Bcolor%3A%20white%3B%27%3E%3Cul%20style%3D%27color%3A%20white%3B%3Blist-style-type%3Acircle%3Balign-item%3Aleft%3Bpadding-left%3A20px%3Bpadding-right%3A20px%27%3E%3Cli%3EConfirmed%3A%2046231%3C/li%3E%3Cli%3EDeaths%3A%20%20%20770%3C/li%3E%3Cli%3EDeath%20Rate%3A%201.67%3C/li%3E%3C/ul%3E%3C/div%3E%0A%20%20%20%20%20%20%20%20%20%20%20%20%20%20%20%20%20%3C/div%3E%60%2C%0A%20%20%20%20%20%20%20%20%20%20%20%20%20%20%20%20%7B%22sticky%22%3A%20true%7D%0A%20%20%20%20%20%20%20%20%20%20%20%20%29%3B%0A%20%20%20%20%20%20%20%20%0A%20%20%20%20%0A%20%20%20%20%20%20%20%20%20%20%20%20var%20circle_75477aa5efb345b5b5b085dad710c831%20%3D%20L.circle%28%0A%20%20%20%20%20%20%20%20%20%20%20%20%20%20%20%20%5B45.1%2C%2015.2%5D%2C%0A%20%20%20%20%20%20%20%20%20%20%20%20%20%20%20%20%7B%22bubblingMouseEvents%22%3A%20true%2C%20%22color%22%3A%20%22red%22%2C%20%22dashArray%22%3A%20null%2C%20%22dashOffset%22%3A%20null%2C%20%22fill%22%3A%20true%2C%20%22fillColor%22%3A%20%22indigo%22%2C%20%22fillOpacity%22%3A%200.2%2C%20%22fillRule%22%3A%20%22evenodd%22%2C%20%22lineCap%22%3A%20%22round%22%2C%20%22lineJoin%22%3A%20%22round%22%2C%20%22opacity%22%3A%201.0%2C%20%22radius%22%3A%2061000.0%2C%20%22stroke%22%3A%20true%2C%20%22weight%22%3A%203%7D%0A%20%20%20%20%20%20%20%20%20%20%20%20%29.addTo%28map_a1d00f7722f64a9393b48021895cff65%29%3B%0A%20%20%20%20%20%20%20%20%0A%20%20%20%20%0A%20%20%20%20%20%20%20%20%20%20%20%20circle_75477aa5efb345b5b5b085dad710c831.bindTooltip%28%0A%20%20%20%20%20%20%20%20%20%20%20%20%20%20%20%20%60%3Cdiv%3E%0A%20%20%20%20%20%20%20%20%20%20%20%20%20%20%20%20%20%20%20%20%20%3Cdiv%20style%3D%27margin%3A%200%3B%20background-color%3A%20black%3B%20color%3A%20white%3B%27%3E%3Ch4%20style%3D%27text-align%3Acenter%3Bfont-weight%3A%20bold%27%3ECroatia%3C/h4%3E%3Chr%20style%3D%27margin%3A10px%3Bcolor%3A%20white%3B%27%3E%3Cul%20style%3D%27color%3A%20white%3B%3Blist-style-type%3Acircle%3Balign-item%3Aleft%3Bpadding-left%3A20px%3Bpadding-right%3A20px%27%3E%3Cli%3EConfirmed%3A%20339412%3C/li%3E%3Cli%3EDeaths%3A%20%20%203326%3C/li%3E%3Cli%3EDeath%20Rate%3A%200.98%3C/li%3E%3C/ul%3E%3C/div%3E%0A%20%20%20%20%20%20%20%20%20%20%20%20%20%20%20%20%20%3C/div%3E%60%2C%0A%20%20%20%20%20%20%20%20%20%20%20%20%20%20%20%20%7B%22sticky%22%3A%20true%7D%0A%20%20%20%20%20%20%20%20%20%20%20%20%29%3B%0A%20%20%20%20%20%20%20%20%0A%20%20%20%20%0A%20%20%20%20%20%20%20%20%20%20%20%20var%20circle_ee77104c30de4c34b9435c3cae86393b%20%3D%20L.circle%28%0A%20%20%20%20%20%20%20%20%20%20%20%20%20%20%20%20%5B21.521757%2C%20-77.78116700000001%5D%2C%0A%20%20%20%20%20%20%20%20%20%20%20%20%20%20%20%20%7B%22bubblingMouseEvents%22%3A%20true%2C%20%22color%22%3A%20%22red%22%2C%20%22dashArray%22%3A%20null%2C%20%22dashOffset%22%3A%20null%2C%20%22fill%22%3A%20true%2C%20%22fillColor%22%3A%20%22indigo%22%2C%20%22fillOpacity%22%3A%200.2%2C%20%22fillRule%22%3A%20%22evenodd%22%2C%20%22lineCap%22%3A%20%22round%22%2C%20%22lineJoin%22%3A%20%22round%22%2C%20%22opacity%22%3A%201.0%2C%20%22radius%22%3A%2056000.0%2C%20%22stroke%22%3A%20true%2C%20%22weight%22%3A%203%7D%0A%20%20%20%20%20%20%20%20%20%20%20%20%29.addTo%28map_a1d00f7722f64a9393b48021895cff65%29%3B%0A%20%20%20%20%20%20%20%20%0A%20%20%20%20%0A%20%20%20%20%20%20%20%20%20%20%20%20circle_ee77104c30de4c34b9435c3cae86393b.bindTooltip%28%0A%20%20%20%20%20%20%20%20%20%20%20%20%20%20%20%20%60%3Cdiv%3E%0A%20%20%20%20%20%20%20%20%20%20%20%20%20%20%20%20%20%20%20%20%20%3Cdiv%20style%3D%27margin%3A%200%3B%20background-color%3A%20black%3B%20color%3A%20white%3B%27%3E%3Ch4%20style%3D%27text-align%3Acenter%3Bfont-weight%3A%20bold%27%3ECuba%3C/h4%3E%3Chr%20style%3D%27margin%3A10px%3Bcolor%3A%20white%3B%27%3E%3Cul%20style%3D%27color%3A%20white%3B%3Blist-style-type%3Acircle%3Balign-item%3Aleft%3Bpadding-left%3A20px%3Bpadding-right%3A20px%27%3E%3Cli%3EConfirmed%3A%20111654%3C/li%3E%3Cli%3EDeaths%3A%20%20%20291%3C/li%3E%3Cli%3EDeath%20Rate%3A%200.26%3C/li%3E%3C/ul%3E%3C/div%3E%0A%20%20%20%20%20%20%20%20%20%20%20%20%20%20%20%20%20%3C/div%3E%60%2C%0A%20%20%20%20%20%20%20%20%20%20%20%20%20%20%20%20%7B%22sticky%22%3A%20true%7D%0A%20%20%20%20%20%20%20%20%20%20%20%20%29%3B%0A%20%20%20%20%20%20%20%20%0A%20%20%20%20%0A%20%20%20%20%20%20%20%20%20%20%20%20var%20circle_711c71a21b3d43d583b8b66765fe929c%20%3D%20L.circle%28%0A%20%20%20%20%20%20%20%20%20%20%20%20%20%20%20%20%5B35.1264%2C%2033.4299%5D%2C%0A%20%20%20%20%20%20%20%20%20%20%20%20%20%20%20%20%7B%22bubblingMouseEvents%22%3A%20true%2C%20%22color%22%3A%20%22red%22%2C%20%22dashArray%22%3A%20null%2C%20%22dashOffset%22%3A%20null%2C%20%22fill%22%3A%20true%2C%20%22fillColor%22%3A%20%22indigo%22%2C%20%22fillOpacity%22%3A%200.2%2C%20%22fillRule%22%3A%20%22evenodd%22%2C%20%22lineCap%22%3A%20%22round%22%2C%20%22lineJoin%22%3A%20%22round%22%2C%20%22opacity%22%3A%201.0%2C%20%22radius%22%3A%2056000.0%2C%20%22stroke%22%3A%20true%2C%20%22weight%22%3A%203%7D%0A%20%20%20%20%20%20%20%20%20%20%20%20%29.addTo%28map_a1d00f7722f64a9393b48021895cff65%29%3B%0A%20%20%20%20%20%20%20%20%0A%20%20%20%20%0A%20%20%20%20%20%20%20%20%20%20%20%20circle_711c71a21b3d43d583b8b66765fe929c.bindTooltip%28%0A%20%20%20%20%20%20%20%20%20%20%20%20%20%20%20%20%60%3Cdiv%3E%0A%20%20%20%20%20%20%20%20%20%20%20%20%20%20%20%20%20%20%20%20%20%3Cdiv%20style%3D%27margin%3A%200%3B%20background-color%3A%20black%3B%20color%3A%20white%3B%27%3E%3Ch4%20style%3D%27text-align%3Acenter%3Bfont-weight%3A%20bold%27%3ECyprus%3C/h4%3E%3Chr%20style%3D%27margin%3A10px%3Bcolor%3A%20white%3B%27%3E%3Cul%20style%3D%27color%3A%20white%3B%3Blist-style-type%3Acircle%3Balign-item%3Aleft%3Bpadding-left%3A20px%3Bpadding-right%3A20px%27%3E%3Cli%3EConfirmed%3A%2067982%3C/li%3E%3Cli%3EDeaths%3A%20%20%207315%3C/li%3E%3Cli%3EDeath%20Rate%3A%2010.76%3C/li%3E%3C/ul%3E%3C/div%3E%0A%20%20%20%20%20%20%20%20%20%20%20%20%20%20%20%20%20%3C/div%3E%60%2C%0A%20%20%20%20%20%20%20%20%20%20%20%20%20%20%20%20%7B%22sticky%22%3A%20true%7D%0A%20%20%20%20%20%20%20%20%20%20%20%20%29%3B%0A%20%20%20%20%20%20%20%20%0A%20%20%20%20%0A%20%20%20%20%20%20%20%20%20%20%20%20var%20circle_91f79f3d34bd4b2982582d36ca998905%20%3D%20L.circle%28%0A%20%20%20%20%20%20%20%20%20%20%20%20%20%20%20%20%5B49.8175%2C%2015.472999999999999%5D%2C%0A%20%20%20%20%20%20%20%20%20%20%20%20%20%20%20%20%7B%22bubblingMouseEvents%22%3A%20true%2C%20%22color%22%3A%20%22red%22%2C%20%22dashArray%22%3A%20null%2C%20%22dashOffset%22%3A%20null%2C%20%22fill%22%3A%20true%2C%20%22fillColor%22%3A%20%22indigo%22%2C%20%22fillOpacity%22%3A%200.2%2C%20%22fillRule%22%3A%20%22evenodd%22%2C%20%22lineCap%22%3A%20%22round%22%2C%20%22lineJoin%22%3A%20%22round%22%2C%20%22opacity%22%3A%201.0%2C%20%22radius%22%3A%2071000.0%2C%20%22stroke%22%3A%20true%2C%20%22weight%22%3A%203%7D%0A%20%20%20%20%20%20%20%20%20%20%20%20%29.addTo%28map_a1d00f7722f64a9393b48021895cff65%29%3B%0A%20%20%20%20%20%20%20%20%0A%20%20%20%20%0A%20%20%20%20%20%20%20%20%20%20%20%20circle_91f79f3d34bd4b2982582d36ca998905.bindTooltip%28%0A%20%20%20%20%20%20%20%20%20%20%20%20%20%20%20%20%60%3Cdiv%3E%0A%20%20%20%20%20%20%20%20%20%20%20%20%20%20%20%20%20%20%20%20%20%3Cdiv%20style%3D%27margin%3A%200%3B%20background-color%3A%20black%3B%20color%3A%20white%3B%27%3E%3Ch4%20style%3D%27text-align%3Acenter%3Bfont-weight%3A%20bold%27%3ECzechia%3C/h4%3E%3Chr%20style%3D%27margin%3A10px%3Bcolor%3A%20white%3B%27%3E%3Cul%20style%3D%27color%3A%20white%3B%3Blist-style-type%3Acircle%3Balign-item%3Aleft%3Bpadding-left%3A20px%3Bpadding-right%3A20px%27%3E%3Cli%3EConfirmed%3A%201639248%3C/li%3E%3Cli%3EDeaths%3A%20%20%20694%3C/li%3E%3Cli%3EDeath%20Rate%3A%200.04%3C/li%3E%3C/ul%3E%3C/div%3E%0A%20%20%20%20%20%20%20%20%20%20%20%20%20%20%20%20%20%3C/div%3E%60%2C%0A%20%20%20%20%20%20%20%20%20%20%20%20%20%20%20%20%7B%22sticky%22%3A%20true%7D%0A%20%20%20%20%20%20%20%20%20%20%20%20%29%3B%0A%20%20%20%20%20%20%20%20%0A%20%20%20%20%0A%20%20%20%20%20%20%20%20%20%20%20%20var%20circle_b20abd61cad54f2a9f025a7836242de6%20%3D%20L.circle%28%0A%20%20%20%20%20%20%20%20%20%20%20%20%20%20%20%20%5B61.8926%2C%20-6.9118%5D%2C%0A%20%20%20%20%20%20%20%20%20%20%20%20%20%20%20%20%7B%22bubblingMouseEvents%22%3A%20true%2C%20%22color%22%3A%20%22red%22%2C%20%22dashArray%22%3A%20null%2C%20%22dashOffset%22%3A%20null%2C%20%22fill%22%3A%20true%2C%20%22fillColor%22%3A%20%22indigo%22%2C%20%22fillOpacity%22%3A%200.2%2C%20%22fillRule%22%3A%20%22evenodd%22%2C%20%22lineCap%22%3A%20%22round%22%2C%20%22lineJoin%22%3A%20%22round%22%2C%20%22opacity%22%3A%201.0%2C%20%22radius%22%3A%2031000.0%2C%20%22stroke%22%3A%20true%2C%20%22weight%22%3A%203%7D%0A%20%20%20%20%20%20%20%20%20%20%20%20%29.addTo%28map_a1d00f7722f64a9393b48021895cff65%29%3B%0A%20%20%20%20%20%20%20%20%0A%20%20%20%20%0A%20%20%20%20%20%20%20%20%20%20%20%20circle_b20abd61cad54f2a9f025a7836242de6.bindTooltip%28%0A%20%20%20%20%20%20%20%20%20%20%20%20%20%20%20%20%60%3Cdiv%3E%0A%20%20%20%20%20%20%20%20%20%20%20%20%20%20%20%20%20%20%20%20%20%3Cdiv%20style%3D%27margin%3A%200%3B%20background-color%3A%20black%3B%20color%3A%20white%3B%27%3E%3Ch4%20style%3D%27text-align%3Acenter%3Bfont-weight%3A%20bold%27%3EDenmark%3C/h4%3E%3Chr%20style%3D%27margin%3A10px%3Bcolor%3A%20white%3B%27%3E%3Cul%20style%3D%27color%3A%20white%3B%3Blist-style-type%3Acircle%3Balign-item%3Aleft%3Bpadding-left%3A20px%3Bpadding-right%3A20px%27%3E%3Cli%3EConfirmed%3A%20668%3C/li%3E%3Cli%3EDeaths%3A%20%20%20327%3C/li%3E%3Cli%3EDeath%20Rate%3A%2048.88%3C/li%3E%3C/ul%3E%3C/div%3E%0A%20%20%20%20%20%20%20%20%20%20%20%20%20%20%20%20%20%3C/div%3E%60%2C%0A%20%20%20%20%20%20%20%20%20%20%20%20%20%20%20%20%7B%22sticky%22%3A%20true%7D%0A%20%20%20%20%20%20%20%20%20%20%20%20%29%3B%0A%20%20%20%20%20%20%20%20%0A%20%20%20%20%0A%20%20%20%20%20%20%20%20%20%20%20%20var%20circle_8c90087a262a4199b75eadb5ea2cd464%20%3D%20L.circle%28%0A%20%20%20%20%20%20%20%20%20%20%20%20%20%20%20%20%5B71.7069%2C%20-42.6043%5D%2C%0A%20%20%20%20%20%20%20%20%20%20%20%20%20%20%20%20%7B%22bubblingMouseEvents%22%3A%20true%2C%20%22color%22%3A%20%22red%22%2C%20%22dashArray%22%3A%20null%2C%20%22dashOffset%22%3A%20null%2C%20%22fill%22%3A%20true%2C%20%22fillColor%22%3A%20%22indigo%22%2C%20%22fillOpacity%22%3A%200.2%2C%20%22fillRule%22%3A%20%22evenodd%22%2C%20%22lineCap%22%3A%20%22round%22%2C%20%22lineJoin%22%3A%20%22round%22%2C%20%22opacity%22%3A%201.0%2C%20%22radius%22%3A%2016000.0%2C%20%22stroke%22%3A%20true%2C%20%22weight%22%3A%203%7D%0A%20%20%20%20%20%20%20%20%20%20%20%20%29.addTo%28map_a1d00f7722f64a9393b48021895cff65%29%3B%0A%20%20%20%20%20%20%20%20%0A%20%20%20%20%0A%20%20%20%20%20%20%20%20%20%20%20%20circle_8c90087a262a4199b75eadb5ea2cd464.bindTooltip%28%0A%20%20%20%20%20%20%20%20%20%20%20%20%20%20%20%20%60%3Cdiv%3E%0A%20%20%20%20%20%20%20%20%20%20%20%20%20%20%20%20%20%20%20%20%20%3Cdiv%20style%3D%27margin%3A%200%3B%20background-color%3A%20black%3B%20color%3A%20white%3B%27%3E%3Ch4%20style%3D%27text-align%3Acenter%3Bfont-weight%3A%20bold%27%3EDenmark%3C/h4%3E%3Chr%20style%3D%27margin%3A10px%3Bcolor%3A%20white%3B%27%3E%3Cul%20style%3D%27color%3A%20white%3B%3Blist-style-type%3Acircle%3Balign-item%3Aleft%3Bpadding-left%3A20px%3Bpadding-right%3A20px%27%3E%3Cli%3EConfirmed%3A%2031%3C/li%3E%3Cli%3EDeaths%3A%20%20%2029479%3C/li%3E%3Cli%3EDeath%20Rate%3A%2092121.85%3C/li%3E%3C/ul%3E%3C/div%3E%0A%20%20%20%20%20%20%20%20%20%20%20%20%20%20%20%20%20%3C/div%3E%60%2C%0A%20%20%20%20%20%20%20%20%20%20%20%20%20%20%20%20%7B%22sticky%22%3A%20true%7D%0A%20%20%20%20%20%20%20%20%20%20%20%20%29%3B%0A%20%20%20%20%20%20%20%20%0A%20%20%20%20%0A%20%20%20%20%20%20%20%20%20%20%20%20var%20circle_e222aa0cd50f4030b5be30d7db79c841%20%3D%20L.circle%28%0A%20%20%20%20%20%20%20%20%20%20%20%20%20%20%20%20%5B56.2639%2C%209.5018%5D%2C%0A%20%20%20%20%20%20%20%20%20%20%20%20%20%20%20%20%7B%22bubblingMouseEvents%22%3A%20true%2C%20%22color%22%3A%20%22red%22%2C%20%22dashArray%22%3A%20null%2C%20%22dashOffset%22%3A%20null%2C%20%22fill%22%3A%20true%2C%20%22fillColor%22%3A%20%22indigo%22%2C%20%22fillOpacity%22%3A%200.2%2C%20%22fillRule%22%3A%20%22evenodd%22%2C%20%22lineCap%22%3A%20%22round%22%2C%20%22lineJoin%22%3A%20%22round%22%2C%20%22opacity%22%3A%201.0%2C%20%22radius%22%3A%2061000.0%2C%20%22stroke%22%3A%20true%2C%20%22weight%22%3A%203%7D%0A%20%20%20%20%20%20%20%20%20%20%20%20%29.addTo%28map_a1d00f7722f64a9393b48021895cff65%29%3B%0A%20%20%20%20%20%20%20%20%0A%20%20%20%20%0A%20%20%20%20%20%20%20%20%20%20%20%20circle_e222aa0cd50f4030b5be30d7db79c841.bindTooltip%28%0A%20%20%20%20%20%20%20%20%20%20%20%20%20%20%20%20%60%3Cdiv%3E%0A%20%20%20%20%20%20%20%20%20%20%20%20%20%20%20%20%20%20%20%20%20%3Cdiv%20style%3D%27margin%3A%200%3B%20background-color%3A%20black%3B%20color%3A%20white%3B%27%3E%3Ch4%20style%3D%27text-align%3Acenter%3Bfont-weight%3A%20bold%27%3EDenmark%3C/h4%3E%3Chr%20style%3D%27margin%3A10px%3Bcolor%3A%20white%3B%27%3E%3Cul%20style%3D%27color%3A%20white%3B%3Blist-style-type%3Acircle%3Balign-item%3Aleft%3Bpadding-left%3A20px%3Bpadding-right%3A20px%27%3E%3Cli%3EConfirmed%3A%20254482%3C/li%3E%3Cli%3EDeaths%3A%20%20%201%3C/li%3E%3Cli%3EDeath%20Rate%3A%200.0%3C/li%3E%3C/ul%3E%3C/div%3E%0A%20%20%20%20%20%20%20%20%20%20%20%20%20%20%20%20%20%3C/div%3E%60%2C%0A%20%20%20%20%20%20%20%20%20%20%20%20%20%20%20%20%7B%22sticky%22%3A%20true%7D%0A%20%20%20%20%20%20%20%20%20%20%20%20%29%3B%0A%20%20%20%20%20%20%20%20%0A%20%20%20%20%0A%20%20%20%20%20%20%20%20%20%20%20%20var%20circle_448593d678664587a98ffb20a47f4b87%20%3D%20L.circle%28%0A%20%20%20%20%20%20%20%20%20%20%20%20%20%20%20%20%5B0.0%2C%200.0%5D%2C%0A%20%20%20%20%20%20%20%20%20%20%20%20%20%20%20%20%7B%22bubblingMouseEvents%22%3A%20true%2C%20%22color%22%3A%20%22red%22%2C%20%22dashArray%22%3A%20null%2C%20%22dashOffset%22%3A%20null%2C%20%22fill%22%3A%20true%2C%20%22fillColor%22%3A%20%22indigo%22%2C%20%22fillOpacity%22%3A%200.2%2C%20%22fillRule%22%3A%20%22evenodd%22%2C%20%22lineCap%22%3A%20%22round%22%2C%20%22lineJoin%22%3A%20%22round%22%2C%20%22opacity%22%3A%201.0%2C%20%22radius%22%3A%2031000.0%2C%20%22stroke%22%3A%20true%2C%20%22weight%22%3A%203%7D%0A%20%20%20%20%20%20%20%20%20%20%20%20%29.addTo%28map_a1d00f7722f64a9393b48021895cff65%29%3B%0A%20%20%20%20%20%20%20%20%0A%20%20%20%20%0A%20%20%20%20%20%20%20%20%20%20%20%20circle_448593d678664587a98ffb20a47f4b87.bindTooltip%28%0A%20%20%20%20%20%20%20%20%20%20%20%20%20%20%20%20%60%3Cdiv%3E%0A%20%20%20%20%20%20%20%20%20%20%20%20%20%20%20%20%20%20%20%20%20%3Cdiv%20style%3D%27margin%3A%200%3B%20background-color%3A%20black%3B%20color%3A%20white%3B%27%3E%3Ch4%20style%3D%27text-align%3Acenter%3Bfont-weight%3A%20bold%27%3EDiamond%20Princess%3C/h4%3E%3Chr%20style%3D%27margin%3A10px%3Bcolor%3A%20white%3B%27%3E%3Cul%20style%3D%27color%3A%20white%3B%3Blist-style-type%3Acircle%3Balign-item%3Aleft%3Bpadding-left%3A20px%3Bpadding-right%3A20px%27%3E%3Cli%3EConfirmed%3A%20712%3C/li%3E%3Cli%3EDeaths%3A%20%20%200%3C/li%3E%3Cli%3EDeath%20Rate%3A%200.0%3C/li%3E%3C/ul%3E%3C/div%3E%0A%20%20%20%20%20%20%20%20%20%20%20%20%20%20%20%20%20%3C/div%3E%60%2C%0A%20%20%20%20%20%20%20%20%20%20%20%20%20%20%20%20%7B%22sticky%22%3A%20true%7D%0A%20%20%20%20%20%20%20%20%20%20%20%20%29%3B%0A%20%20%20%20%20%20%20%20%0A%20%20%20%20%0A%20%20%20%20%20%20%20%20%20%20%20%20var%20circle_56403df2787f444ca2e2fbf5216af5ad%20%3D%20L.circle%28%0A%20%20%20%20%20%20%20%20%20%20%20%20%20%20%20%20%5B11.8251%2C%2042.5903%5D%2C%0A%20%20%20%20%20%20%20%20%20%20%20%20%20%20%20%20%7B%22bubblingMouseEvents%22%3A%20true%2C%20%22color%22%3A%20%22red%22%2C%20%22dashArray%22%3A%20null%2C%20%22dashOffset%22%3A%20null%2C%20%22fill%22%3A%20true%2C%20%22fillColor%22%3A%20%22indigo%22%2C%20%22fillOpacity%22%3A%200.2%2C%20%22fillRule%22%3A%20%22evenodd%22%2C%20%22lineCap%22%3A%20%22round%22%2C%20%22lineJoin%22%3A%20%22round%22%2C%20%22opacity%22%3A%201.0%2C%20%22radius%22%3A%2046000.0%2C%20%22stroke%22%3A%20true%2C%20%22weight%22%3A%203%7D%0A%20%20%20%20%20%20%20%20%20%20%20%20%29.addTo%28map_a1d00f7722f64a9393b48021895cff65%29%3B%0A%20%20%20%20%20%20%20%20%0A%20%20%20%20%0A%20%20%20%20%20%20%20%20%20%20%20%20circle_56403df2787f444ca2e2fbf5216af5ad.bindTooltip%28%0A%20%20%20%20%20%20%20%20%20%20%20%20%20%20%20%20%60%3Cdiv%3E%0A%20%20%20%20%20%20%20%20%20%20%20%20%20%20%20%20%20%20%20%20%20%3Cdiv%20style%3D%27margin%3A%200%3B%20background-color%3A%20black%3B%20color%3A%20white%3B%27%3E%3Ch4%20style%3D%27text-align%3Acenter%3Bfont-weight%3A%20bold%27%3EDjibouti%3C/h4%3E%3Chr%20style%3D%27margin%3A10px%3Bcolor%3A%20white%3B%27%3E%3Cul%20style%3D%27color%3A%20white%3B%3Blist-style-type%3Acircle%3Balign-item%3Aleft%3Bpadding-left%3A20px%3Bpadding-right%3A20px%27%3E%3Cli%3EConfirmed%3A%2011268%3C/li%3E%3Cli%3EDeaths%3A%20%20%202491%3C/li%3E%3Cli%3EDeath%20Rate%3A%2022.1%3C/li%3E%3C/ul%3E%3C/div%3E%0A%20%20%20%20%20%20%20%20%20%20%20%20%20%20%20%20%20%3C/div%3E%60%2C%0A%20%20%20%20%20%20%20%20%20%20%20%20%20%20%20%20%7B%22sticky%22%3A%20true%7D%0A%20%20%20%20%20%20%20%20%20%20%20%20%29%3B%0A%20%20%20%20%20%20%20%20%0A%20%20%20%20%0A%20%20%20%20%20%20%20%20%20%20%20%20var%20circle_bd552e25312643f193ff8988e0dc962b%20%3D%20L.circle%28%0A%20%20%20%20%20%20%20%20%20%20%20%20%20%20%20%20%5B15.415%2C%20-61.371%5D%2C%0A%20%20%20%20%20%20%20%20%20%20%20%20%20%20%20%20%7B%22bubblingMouseEvents%22%3A%20true%2C%20%22color%22%3A%20%22red%22%2C%20%22dashArray%22%3A%20null%2C%20%22dashOffset%22%3A%20null%2C%20%22fill%22%3A%20true%2C%20%22fillColor%22%3A%20%22indigo%22%2C%20%22fillOpacity%22%3A%200.2%2C%20%22fillRule%22%3A%20%22evenodd%22%2C%20%22lineCap%22%3A%20%22round%22%2C%20%22lineJoin%22%3A%20%22round%22%2C%20%22opacity%22%3A%201.0%2C%20%22radius%22%3A%2026000.0%2C%20%22stroke%22%3A%20true%2C%20%22weight%22%3A%203%7D%0A%20%20%20%20%20%20%20%20%20%20%20%20%29.addTo%28map_a1d00f7722f64a9393b48021895cff65%29%3B%0A%20%20%20%20%20%20%20%20%0A%20%20%20%20%0A%20%20%20%20%20%20%20%20%20%20%20%20circle_bd552e25312643f193ff8988e0dc962b.bindTooltip%28%0A%20%20%20%20%20%20%20%20%20%20%20%20%20%20%20%20%60%3Cdiv%3E%0A%20%20%20%20%20%20%20%20%20%20%20%20%20%20%20%20%20%20%20%20%20%3Cdiv%20style%3D%27margin%3A%200%3B%20background-color%3A%20black%3B%20color%3A%20white%3B%27%3E%3Ch4%20style%3D%27text-align%3Acenter%3Bfont-weight%3A%20bold%27%3EDominica%3C/h4%3E%3Chr%20style%3D%27margin%3A10px%3Bcolor%3A%20white%3B%27%3E%3Cul%20style%3D%27color%3A%20white%3B%3Blist-style-type%3Acircle%3Balign-item%3Aleft%3Bpadding-left%3A20px%3Bpadding-right%3A20px%27%3E%3Cli%3EConfirmed%3A%20174%3C/li%3E%3Cli%3EDeaths%3A%20%20%2013%3C/li%3E%3Cli%3EDeath%20Rate%3A%207.43%3C/li%3E%3C/ul%3E%3C/div%3E%0A%20%20%20%20%20%20%20%20%20%20%20%20%20%20%20%20%20%3C/div%3E%60%2C%0A%20%20%20%20%20%20%20%20%20%20%20%20%20%20%20%20%7B%22sticky%22%3A%20true%7D%0A%20%20%20%20%20%20%20%20%20%20%20%20%29%3B%0A%20%20%20%20%20%20%20%20%0A%20%20%20%20%0A%20%20%20%20%20%20%20%20%20%20%20%20var%20circle_41d31daff44d4425836494b7d9d77f09%20%3D%20L.circle%28%0A%20%20%20%20%20%20%20%20%20%20%20%20%20%20%20%20%5B18.7357%2C%20-70.1627%5D%2C%0A%20%20%20%20%20%20%20%20%20%20%20%20%20%20%20%20%7B%22bubblingMouseEvents%22%3A%20true%2C%20%22color%22%3A%20%22red%22%2C%20%22dashArray%22%3A%20null%2C%20%22dashOffset%22%3A%20null%2C%20%22fill%22%3A%20true%2C%20%22fillColor%22%3A%20%22indigo%22%2C%20%22fillOpacity%22%3A%200.2%2C%20%22fillRule%22%3A%20%22evenodd%22%2C%20%22lineCap%22%3A%20%22round%22%2C%20%22lineJoin%22%3A%20%22round%22%2C%20%22opacity%22%3A%201.0%2C%20%22radius%22%3A%2061000.0%2C%20%22stroke%22%3A%20true%2C%20%22weight%22%3A%203%7D%0A%20%20%20%20%20%20%20%20%20%20%20%20%29.addTo%28map_a1d00f7722f64a9393b48021895cff65%29%3B%0A%20%20%20%20%20%20%20%20%0A%20%20%20%20%0A%20%20%20%20%20%20%20%20%20%20%20%20circle_41d31daff44d4425836494b7d9d77f09.bindTooltip%28%0A%20%20%20%20%20%20%20%20%20%20%20%20%20%20%20%20%60%3Cdiv%3E%0A%20%20%20%20%20%20%20%20%20%20%20%20%20%20%20%20%20%20%20%20%20%3Cdiv%20style%3D%27margin%3A%200%3B%20background-color%3A%20black%3B%20color%3A%20white%3B%27%3E%3Ch4%20style%3D%27text-align%3Acenter%3Bfont-weight%3A%20bold%27%3EDominican%20Republic%3C/h4%3E%3Chr%20style%3D%27margin%3A10px%3Bcolor%3A%20white%3B%27%3E%3Cul%20style%3D%27color%3A%20white%3B%3Blist-style-type%3Acircle%3Balign-item%3Aleft%3Bpadding-left%3A20px%3Bpadding-right%3A20px%27%3E%3Cli%3EConfirmed%3A%20268561%3C/li%3E%3Cli%3EDeaths%3A%20%20%20147%3C/li%3E%3Cli%3EDeath%20Rate%3A%200.05%3C/li%3E%3C/ul%3E%3C/div%3E%0A%20%20%20%20%20%20%20%20%20%20%20%20%20%20%20%20%20%3C/div%3E%60%2C%0A%20%20%20%20%20%20%20%20%20%20%20%20%20%20%20%20%7B%22sticky%22%3A%20true%7D%0A%20%20%20%20%20%20%20%20%20%20%20%20%29%3B%0A%20%20%20%20%20%20%20%20%0A%20%20%20%20%0A%20%20%20%20%20%20%20%20%20%20%20%20var%20circle_6935f014097e497b8894891ec2657219%20%3D%20L.circle%28%0A%20%20%20%20%20%20%20%20%20%20%20%20%20%20%20%20%5B-1.8312%2C%20-78.1834%5D%2C%0A%20%20%20%20%20%20%20%20%20%20%20%20%20%20%20%20%7B%22bubblingMouseEvents%22%3A%20true%2C%20%22color%22%3A%20%22red%22%2C%20%22dashArray%22%3A%20null%2C%20%22dashOffset%22%3A%20null%2C%20%22fill%22%3A%20true%2C%20%22fillColor%22%3A%20%22indigo%22%2C%20%22fillOpacity%22%3A%200.2%2C%20%22fillRule%22%3A%20%22evenodd%22%2C%20%22lineCap%22%3A%20%22round%22%2C%20%22lineJoin%22%3A%20%22round%22%2C%20%22opacity%22%3A%201.0%2C%20%22radius%22%3A%2061000.0%2C%20%22stroke%22%3A%20true%2C%20%22weight%22%3A%203%7D%0A%20%20%20%20%20%20%20%20%20%20%20%20%29.addTo%28map_a1d00f7722f64a9393b48021895cff65%29%3B%0A%20%20%20%20%20%20%20%20%0A%20%20%20%20%0A%20%20%20%20%20%20%20%20%20%20%20%20circle_6935f014097e497b8894891ec2657219.bindTooltip%28%0A%20%20%20%20%20%20%20%20%20%20%20%20%20%20%20%20%60%3Cdiv%3E%0A%20%20%20%20%20%20%20%20%20%20%20%20%20%20%20%20%20%20%20%20%20%3Cdiv%20style%3D%27margin%3A%200%3B%20background-color%3A%20black%3B%20color%3A%20white%3B%27%3E%3Ch4%20style%3D%27text-align%3Acenter%3Bfont-weight%3A%20bold%27%3EEcuador%3C/h4%3E%3Chr%20style%3D%27margin%3A10px%3Bcolor%3A%20white%3B%27%3E%3Cul%20style%3D%27color%3A%20white%3B%3Blist-style-type%3Acircle%3Balign-item%3Aleft%3Bpadding-left%3A20px%3Bpadding-right%3A20px%27%3E%3Cli%3EConfirmed%3A%20393048%3C/li%3E%3Cli%3EDeaths%3A%20%20%200%3C/li%3E%3Cli%3EDeath%20Rate%3A%200.0%3C/li%3E%3C/ul%3E%3C/div%3E%0A%20%20%20%20%20%20%20%20%20%20%20%20%20%20%20%20%20%3C/div%3E%60%2C%0A%20%20%20%20%20%20%20%20%20%20%20%20%20%20%20%20%7B%22sticky%22%3A%20true%7D%0A%20%20%20%20%20%20%20%20%20%20%20%20%29%3B%0A%20%20%20%20%20%20%20%20%0A%20%20%20%20%0A%20%20%20%20%20%20%20%20%20%20%20%20var%20circle_45bc9c2d96c44e488d6c57218460b61a%20%3D%20L.circle%28%0A%20%20%20%20%20%20%20%20%20%20%20%20%20%20%20%20%5B26.820553000000004%2C%2030.802497999999996%5D%2C%0A%20%20%20%20%20%20%20%20%20%20%20%20%20%20%20%20%7B%22bubblingMouseEvents%22%3A%20true%2C%20%22color%22%3A%20%22red%22%2C%20%22dashArray%22%3A%20null%2C%20%22dashOffset%22%3A%20null%2C%20%22fill%22%3A%20true%2C%20%22fillColor%22%3A%20%22indigo%22%2C%20%22fillOpacity%22%3A%200.2%2C%20%22fillRule%22%3A%20%22evenodd%22%2C%20%22lineCap%22%3A%20%22round%22%2C%20%22lineJoin%22%3A%20%22round%22%2C%20%22opacity%22%3A%201.0%2C%20%22radius%22%3A%2061000.0%2C%20%22stroke%22%3A%20true%2C%20%22weight%22%3A%203%7D%0A%20%20%20%20%20%20%20%20%20%20%20%20%29.addTo%28map_a1d00f7722f64a9393b48021895cff65%29%3B%0A%20%20%20%20%20%20%20%20%0A%20%20%20%20%0A%20%20%20%20%20%20%20%20%20%20%20%20circle_45bc9c2d96c44e488d6c57218460b61a.bindTooltip%28%0A%20%20%20%20%20%20%20%20%20%20%20%20%20%20%20%20%60%3Cdiv%3E%0A%20%20%20%20%20%20%20%20%20%20%20%20%20%20%20%20%20%20%20%20%20%3Cdiv%20style%3D%27margin%3A%200%3B%20background-color%3A%20black%3B%20color%3A%20white%3B%27%3E%3Ch4%20style%3D%27text-align%3Acenter%3Bfont-weight%3A%20bold%27%3EEgypt%3C/h4%3E%3Chr%20style%3D%27margin%3A10px%3Bcolor%3A%20white%3B%27%3E%3Cul%20style%3D%27color%3A%20white%3B%3Blist-style-type%3Acircle%3Balign-item%3Aleft%3Bpadding-left%3A20px%3Bpadding-right%3A20px%27%3E%3Cli%3EConfirmed%3A%20232905%3C/li%3E%3Cli%3EDeaths%3A%20%20%203509%3C/li%3E%3Cli%3EDeath%20Rate%3A%201.51%3C/li%3E%3C/ul%3E%3C/div%3E%0A%20%20%20%20%20%20%20%20%20%20%20%20%20%20%20%20%20%3C/div%3E%60%2C%0A%20%20%20%20%20%20%20%20%20%20%20%20%20%20%20%20%7B%22sticky%22%3A%20true%7D%0A%20%20%20%20%20%20%20%20%20%20%20%20%29%3B%0A%20%20%20%20%20%20%20%20%0A%20%20%20%20%0A%20%20%20%20%20%20%20%20%20%20%20%20var%20circle_beb6bec1ae4747c0b33dc2c914603f22%20%3D%20L.circle%28%0A%20%20%20%20%20%20%20%20%20%20%20%20%20%20%20%20%5B13.7942%2C%20-88.8965%5D%2C%0A%20%20%20%20%20%20%20%20%20%20%20%20%20%20%20%20%7B%22bubblingMouseEvents%22%3A%20true%2C%20%22color%22%3A%20%22red%22%2C%20%22dashArray%22%3A%20null%2C%20%22dashOffset%22%3A%20null%2C%20%22fill%22%3A%20true%2C%20%22fillColor%22%3A%20%22indigo%22%2C%20%22fillOpacity%22%3A%200.2%2C%20%22fillRule%22%3A%20%22evenodd%22%2C%20%22lineCap%22%3A%20%22round%22%2C%20%22lineJoin%22%3A%20%22round%22%2C%20%22opacity%22%3A%201.0%2C%20%22radius%22%3A%2056000.0%2C%20%22stroke%22%3A%20true%2C%20%22weight%22%3A%203%7D%0A%20%20%20%20%20%20%20%20%20%20%20%20%29.addTo%28map_a1d00f7722f64a9393b48021895cff65%29%3B%0A%20%20%20%20%20%20%20%20%0A%20%20%20%20%0A%20%20%20%20%20%20%20%20%20%20%20%20circle_beb6bec1ae4747c0b33dc2c914603f22.bindTooltip%28%0A%20%20%20%20%20%20%20%20%20%20%20%20%20%20%20%20%60%3Cdiv%3E%0A%20%20%20%20%20%20%20%20%20%20%20%20%20%20%20%20%20%20%20%20%20%3Cdiv%20style%3D%27margin%3A%200%3B%20background-color%3A%20black%3B%20color%3A%20white%3B%27%3E%3Ch4%20style%3D%27text-align%3Acenter%3Bfont-weight%3A%20bold%27%3EEl%20Salvador%3C/h4%3E%3Chr%20style%3D%27margin%3A10px%3Bcolor%3A%20white%3B%27%3E%3Cul%20style%3D%27color%3A%20white%3B%3Blist-style-type%3Acircle%3Balign-item%3Aleft%3Bpadding-left%3A20px%3Bpadding-right%3A20px%27%3E%3Cli%3EConfirmed%3A%2069997%3C/li%3E%3Cli%3EDeaths%3A%20%20%2018907%3C/li%3E%3Cli%3EDeath%20Rate%3A%2027.01%3C/li%3E%3C/ul%3E%3C/div%3E%0A%20%20%20%20%20%20%20%20%20%20%20%20%20%20%20%20%20%3C/div%3E%60%2C%0A%20%20%20%20%20%20%20%20%20%20%20%20%20%20%20%20%7B%22sticky%22%3A%20true%7D%0A%20%20%20%20%20%20%20%20%20%20%20%20%29%3B%0A%20%20%20%20%20%20%20%20%0A%20%20%20%20%0A%20%20%20%20%20%20%20%20%20%20%20%20var%20circle_e471074be1f54c7d8d0f20aae198b558%20%3D%20L.circle%28%0A%20%20%20%20%20%20%20%20%20%20%20%20%20%20%20%20%5B1.6508%2C%2010.2679%5D%2C%0A%20%20%20%20%20%20%20%20%20%20%20%20%20%20%20%20%7B%22bubblingMouseEvents%22%3A%20true%2C%20%22color%22%3A%20%22red%22%2C%20%22dashArray%22%3A%20null%2C%20%22dashOffset%22%3A%20null%2C%20%22fill%22%3A%20true%2C%20%22fillColor%22%3A%20%22indigo%22%2C%20%22fillOpacity%22%3A%200.2%2C%20%22fillRule%22%3A%20%22evenodd%22%2C%20%22lineCap%22%3A%20%22round%22%2C%20%22lineJoin%22%3A%20%22round%22%2C%20%22opacity%22%3A%201.0%2C%20%22radius%22%3A%2041000.0%2C%20%22stroke%22%3A%20true%2C%20%22weight%22%3A%203%7D%0A%20%20%20%20%20%20%20%20%20%20%20%20%29.addTo%28map_a1d00f7722f64a9393b48021895cff65%29%3B%0A%20%20%20%20%20%20%20%20%0A%20%20%20%20%0A%20%20%20%20%20%20%20%20%20%20%20%20circle_e471074be1f54c7d8d0f20aae198b558.bindTooltip%28%0A%20%20%20%20%20%20%20%20%20%20%20%20%20%20%20%20%60%3Cdiv%3E%0A%20%20%20%20%20%20%20%20%20%20%20%20%20%20%20%20%20%20%20%20%20%3Cdiv%20style%3D%27margin%3A%200%3B%20background-color%3A%20black%3B%20color%3A%20white%3B%27%3E%3Ch4%20style%3D%27text-align%3Acenter%3Bfont-weight%3A%20bold%27%3EEquatorial%20Guinea%3C/h4%3E%3Chr%20style%3D%27margin%3A10px%3Bcolor%3A%20white%3B%27%3E%3Cul%20style%3D%27color%3A%20white%3B%3Blist-style-type%3Acircle%3Balign-item%3Aleft%3Bpadding-left%3A20px%3Bpadding-right%3A20px%27%3E%3Cli%3EConfirmed%3A%207694%3C/li%3E%3Cli%3EDeaths%3A%20%20%2013655%3C/li%3E%3Cli%3EDeath%20Rate%3A%20177.45%3C/li%3E%3C/ul%3E%3C/div%3E%0A%20%20%20%20%20%20%20%20%20%20%20%20%20%20%20%20%20%3C/div%3E%60%2C%0A%20%20%20%20%20%20%20%20%20%20%20%20%20%20%20%20%7B%22sticky%22%3A%20true%7D%0A%20%20%20%20%20%20%20%20%20%20%20%20%29%3B%0A%20%20%20%20%20%20%20%20%0A%20%20%20%20%0A%20%20%20%20%20%20%20%20%20%20%20%20var%20circle_ec4a605782c246b08152fd233d790f81%20%3D%20L.circle%28%0A%20%20%20%20%20%20%20%20%20%20%20%20%20%20%20%20%5B15.1794%2C%2039.7823%5D%2C%0A%20%20%20%20%20%20%20%20%20%20%20%20%20%20%20%20%7B%22bubblingMouseEvents%22%3A%20true%2C%20%22color%22%3A%20%22red%22%2C%20%22dashArray%22%3A%20null%2C%20%22dashOffset%22%3A%20null%2C%20%22fill%22%3A%20true%2C%20%22fillColor%22%3A%20%22indigo%22%2C%20%22fillOpacity%22%3A%200.2%2C%20%22fillRule%22%3A%20%22evenodd%22%2C%20%22lineCap%22%3A%20%22round%22%2C%20%22lineJoin%22%3A%20%22round%22%2C%20%22opacity%22%3A%201.0%2C%20%22radius%22%3A%2041000.0%2C%20%22stroke%22%3A%20true%2C%20%22weight%22%3A%203%7D%0A%20%20%20%20%20%20%20%20%20%20%20%20%29.addTo%28map_a1d00f7722f64a9393b48021895cff65%29%3B%0A%20%20%20%20%20%20%20%20%0A%20%20%20%20%0A%20%20%20%20%20%20%20%20%20%20%20%20circle_ec4a605782c246b08152fd233d790f81.bindTooltip%28%0A%20%20%20%20%20%20%20%20%20%20%20%20%20%20%20%20%60%3Cdiv%3E%0A%20%20%20%20%20%20%20%20%20%20%20%20%20%20%20%20%20%20%20%20%20%3Cdiv%20style%3D%27margin%3A%200%3B%20background-color%3A%20black%3B%20color%3A%20white%3B%27%3E%3Ch4%20style%3D%27text-align%3Acenter%3Bfont-weight%3A%20bold%27%3EEritrea%3C/h4%3E%3Chr%20style%3D%27margin%3A10px%3Bcolor%3A%20white%3B%27%3E%3Cul%20style%3D%27color%3A%20white%3B%3Blist-style-type%3Acircle%3Balign-item%3Aleft%3Bpadding-left%3A20px%3Bpadding-right%3A20px%27%3E%3Cli%3EConfirmed%3A%203707%3C/li%3E%3Cli%3EDeaths%3A%20%20%202141%3C/li%3E%3Cli%3EDeath%20Rate%3A%2057.74%3C/li%3E%3C/ul%3E%3C/div%3E%0A%20%20%20%20%20%20%20%20%20%20%20%20%20%20%20%20%20%3C/div%3E%60%2C%0A%20%20%20%20%20%20%20%20%20%20%20%20%20%20%20%20%7B%22sticky%22%3A%20true%7D%0A%20%20%20%20%20%20%20%20%20%20%20%20%29%3B%0A%20%20%20%20%20%20%20%20%0A%20%20%20%20%0A%20%20%20%20%20%20%20%20%20%20%20%20var%20circle_31cf417de57f4132baea167ce31a6282%20%3D%20L.circle%28%0A%20%20%20%20%20%20%20%20%20%20%20%20%20%20%20%20%5B58.5953%2C%2025.0136%5D%2C%0A%20%20%20%20%20%20%20%20%20%20%20%20%20%20%20%20%7B%22bubblingMouseEvents%22%3A%20true%2C%20%22color%22%3A%20%22red%22%2C%20%22dashArray%22%3A%20null%2C%20%22dashOffset%22%3A%20null%2C%20%22fill%22%3A%20true%2C%20%22fillColor%22%3A%20%22indigo%22%2C%20%22fillOpacity%22%3A%200.2%2C%20%22fillRule%22%3A%20%22evenodd%22%2C%20%22lineCap%22%3A%20%22round%22%2C%20%22lineJoin%22%3A%20%22round%22%2C%20%22opacity%22%3A%201.0%2C%20%22radius%22%3A%2056000.0%2C%20%22stroke%22%3A%20true%2C%20%22weight%22%3A%203%7D%0A%20%20%20%20%20%20%20%20%20%20%20%20%29.addTo%28map_a1d00f7722f64a9393b48021895cff65%29%3B%0A%20%20%20%20%20%20%20%20%0A%20%20%20%20%0A%20%20%20%20%20%20%20%20%20%20%20%20circle_31cf417de57f4132baea167ce31a6282.bindTooltip%28%0A%20%20%20%20%20%20%20%20%20%20%20%20%20%20%20%20%60%3Cdiv%3E%0A%20%20%20%20%20%20%20%20%20%20%20%20%20%20%20%20%20%20%20%20%20%3Cdiv%20style%3D%27margin%3A%200%3B%20background-color%3A%20black%3B%20color%3A%20white%3B%27%3E%3Ch4%20style%3D%27text-align%3Acenter%3Bfont-weight%3A%20bold%27%3EEstonia%3C/h4%3E%3Chr%20style%3D%27margin%3A10px%3Bcolor%3A%20white%3B%27%3E%3Cul%20style%3D%27color%3A%20white%3B%3Blist-style-type%3Acircle%3Balign-item%3Aleft%3Bpadding-left%3A20px%3Bpadding-right%3A20px%27%3E%3Cli%3EConfirmed%3A%20123781%3C/li%3E%3Cli%3EDeaths%3A%20%20%20112%3C/li%3E%3Cli%3EDeath%20Rate%3A%200.09%3C/li%3E%3C/ul%3E%3C/div%3E%0A%20%20%20%20%20%20%20%20%20%20%20%20%20%20%20%20%20%3C/div%3E%60%2C%0A%20%20%20%20%20%20%20%20%20%20%20%20%20%20%20%20%7B%22sticky%22%3A%20true%7D%0A%20%20%20%20%20%20%20%20%20%20%20%20%29%3B%0A%20%20%20%20%20%20%20%20%0A%20%20%20%20%0A%20%20%20%20%20%20%20%20%20%20%20%20var%20circle_00ce3a0b97a54e65a26283d735ab1b1e%20%3D%20L.circle%28%0A%20%20%20%20%20%20%20%20%20%20%20%20%20%20%20%20%5B-26.5225%2C%2031.4659%5D%2C%0A%20%20%20%20%20%20%20%20%20%20%20%20%20%20%20%20%7B%22bubblingMouseEvents%22%3A%20true%2C%20%22color%22%3A%20%22red%22%2C%20%22dashArray%22%3A%20null%2C%20%22dashOffset%22%3A%20null%2C%20%22fill%22%3A%20true%2C%20%22fillColor%22%3A%20%22indigo%22%2C%20%22fillOpacity%22%3A%200.2%2C%20%22fillRule%22%3A%20%22evenodd%22%2C%20%22lineCap%22%3A%20%22round%22%2C%20%22lineJoin%22%3A%20%22round%22%2C%20%22opacity%22%3A%201.0%2C%20%22radius%22%3A%2046000.0%2C%20%22stroke%22%3A%20true%2C%20%22weight%22%3A%203%7D%0A%20%20%20%20%20%20%20%20%20%20%20%20%29.addTo%28map_a1d00f7722f64a9393b48021895cff65%29%3B%0A%20%20%20%20%20%20%20%20%0A%20%20%20%20%0A%20%20%20%20%20%20%20%20%20%20%20%20circle_00ce3a0b97a54e65a26283d735ab1b1e.bindTooltip%28%0A%20%20%20%20%20%20%20%20%20%20%20%20%20%20%20%20%60%3Cdiv%3E%0A%20%20%20%20%20%20%20%20%20%20%20%20%20%20%20%20%20%20%20%20%20%3Cdiv%20style%3D%27margin%3A%200%3B%20background-color%3A%20black%3B%20color%3A%20white%3B%27%3E%3Ch4%20style%3D%27text-align%3Acenter%3Bfont-weight%3A%20bold%27%3EEswatini%3C/h4%3E%3Chr%20style%3D%27margin%3A10px%3Bcolor%3A%20white%3B%27%3E%3Cul%20style%3D%27color%3A%20white%3B%3Blist-style-type%3Acircle%3Balign-item%3Aleft%3Bpadding-left%3A20px%3Bpadding-right%3A20px%27%3E%3Cli%3EConfirmed%3A%2018467%3C/li%3E%3Cli%3EDeaths%3A%20%20%2012%3C/li%3E%3Cli%3EDeath%20Rate%3A%200.06%3C/li%3E%3C/ul%3E%3C/div%3E%0A%20%20%20%20%20%20%20%20%20%20%20%20%20%20%20%20%20%3C/div%3E%60%2C%0A%20%20%20%20%20%20%20%20%20%20%20%20%20%20%20%20%7B%22sticky%22%3A%20true%7D%0A%20%20%20%20%20%20%20%20%20%20%20%20%29%3B%0A%20%20%20%20%20%20%20%20%0A%20%20%20%20%0A%20%20%20%20%20%20%20%20%20%20%20%20var%20circle_9c3899ebcd88403dbd70afdbc9f4987b%20%3D%20L.circle%28%0A%20%20%20%20%20%20%20%20%20%20%20%20%20%20%20%20%5B9.145%2C%2040.4897%5D%2C%0A%20%20%20%20%20%20%20%20%20%20%20%20%20%20%20%20%7B%22bubblingMouseEvents%22%3A%20true%2C%20%22color%22%3A%20%22red%22%2C%20%22dashArray%22%3A%20null%2C%20%22dashOffset%22%3A%20null%2C%20%22fill%22%3A%20true%2C%20%22fillColor%22%3A%20%22indigo%22%2C%20%22fillOpacity%22%3A%200.2%2C%20%22fillRule%22%3A%20%22evenodd%22%2C%20%22lineCap%22%3A%20%22round%22%2C%20%22lineJoin%22%3A%20%22round%22%2C%20%22opacity%22%3A%201.0%2C%20%22radius%22%3A%2061000.0%2C%20%22stroke%22%3A%20true%2C%20%22weight%22%3A%203%7D%0A%20%20%20%20%20%20%20%20%20%20%20%20%29.addTo%28map_a1d00f7722f64a9393b48021895cff65%29%3B%0A%20%20%20%20%20%20%20%20%0A%20%20%20%20%0A%20%20%20%20%20%20%20%20%20%20%20%20circle_9c3899ebcd88403dbd70afdbc9f4987b.bindTooltip%28%0A%20%20%20%20%20%20%20%20%20%20%20%20%20%20%20%20%60%3Cdiv%3E%0A%20%20%20%20%20%20%20%20%20%20%20%20%20%20%20%20%20%20%20%20%20%3Cdiv%20style%3D%27margin%3A%200%3B%20background-color%3A%20black%3B%20color%3A%20white%3B%27%3E%3Ch4%20style%3D%27text-align%3Acenter%3Bfont-weight%3A%20bold%27%3EEthiopia%3C/h4%3E%3Chr%20style%3D%27margin%3A10px%3Bcolor%3A%20white%3B%27%3E%3Cul%20style%3D%27color%3A%20white%3B%3Blist-style-type%3Acircle%3Balign-item%3Aleft%3Bpadding-left%3A20px%3Bpadding-right%3A20px%27%3E%3Cli%3EConfirmed%3A%20260139%3C/li%3E%3Cli%3EDeaths%3A%20%20%201183%3C/li%3E%3Cli%3EDeath%20Rate%3A%200.45%3C/li%3E%3C/ul%3E%3C/div%3E%0A%20%20%20%20%20%20%20%20%20%20%20%20%20%20%20%20%20%3C/div%3E%60%2C%0A%20%20%20%20%20%20%20%20%20%20%20%20%20%20%20%20%7B%22sticky%22%3A%20true%7D%0A%20%20%20%20%20%20%20%20%20%20%20%20%29%3B%0A%20%20%20%20%20%20%20%20%0A%20%20%20%20%0A%20%20%20%20%20%20%20%20%20%20%20%20var%20circle_ac971ca2758844b4b681aafec807a4cc%20%3D%20L.circle%28%0A%20%20%20%20%20%20%20%20%20%20%20%20%20%20%20%20%5B-17.7134%2C%20178.065%5D%2C%0A%20%20%20%20%20%20%20%20%20%20%20%20%20%20%20%20%7B%22bubblingMouseEvents%22%3A%20true%2C%20%22color%22%3A%20%22red%22%2C%20%22dashArray%22%3A%20null%2C%20%22dashOffset%22%3A%20null%2C%20%22fill%22%3A%20true%2C%20%22fillColor%22%3A%20%22indigo%22%2C%20%22fillOpacity%22%3A%200.2%2C%20%22fillRule%22%3A%20%22evenodd%22%2C%20%22lineCap%22%3A%20%22round%22%2C%20%22lineJoin%22%3A%20%22round%22%2C%20%22opacity%22%3A%201.0%2C%20%22radius%22%3A%2021000.0%2C%20%22stroke%22%3A%20true%2C%20%22weight%22%3A%203%7D%0A%20%20%20%20%20%20%20%20%20%20%20%20%29.addTo%28map_a1d00f7722f64a9393b48021895cff65%29%3B%0A%20%20%20%20%20%20%20%20%0A%20%20%20%20%0A%20%20%20%20%20%20%20%20%20%20%20%20circle_ac971ca2758844b4b681aafec807a4cc.bindTooltip%28%0A%20%20%20%20%20%20%20%20%20%20%20%20%20%20%20%20%60%3Cdiv%3E%0A%20%20%20%20%20%20%20%20%20%20%20%20%20%20%20%20%20%20%20%20%20%3Cdiv%20style%3D%27margin%3A%200%3B%20background-color%3A%20black%3B%20color%3A%20white%3B%27%3E%3Ch4%20style%3D%27text-align%3Acenter%3Bfont-weight%3A%20bold%27%3EFiji%3C/h4%3E%3Chr%20style%3D%27margin%3A10px%3Bcolor%3A%20white%3B%27%3E%3Cul%20style%3D%27color%3A%20white%3B%3Blist-style-type%3Acircle%3Balign-item%3Aleft%3Bpadding-left%3A20px%3Bpadding-right%3A20px%27%3E%3Cli%3EConfirmed%3A%20125%3C/li%3E%3Cli%3EDeaths%3A%20%20%20671%3C/li%3E%3Cli%3EDeath%20Rate%3A%20532.54%3C/li%3E%3C/ul%3E%3C/div%3E%0A%20%20%20%20%20%20%20%20%20%20%20%20%20%20%20%20%20%3C/div%3E%60%2C%0A%20%20%20%20%20%20%20%20%20%20%20%20%20%20%20%20%7B%22sticky%22%3A%20true%7D%0A%20%20%20%20%20%20%20%20%20%20%20%20%29%3B%0A%20%20%20%20%20%20%20%20%0A%20%20%20%20%0A%20%20%20%20%20%20%20%20%20%20%20%20var%20circle_9251630b86fd4cea98db2c4aba4d89cc%20%3D%20L.circle%28%0A%20%20%20%20%20%20%20%20%20%20%20%20%20%20%20%20%5B61.92411%2C%2025.748151%5D%2C%0A%20%20%20%20%20%20%20%20%20%20%20%20%20%20%20%20%7B%22bubblingMouseEvents%22%3A%20true%2C%20%22color%22%3A%20%22red%22%2C%20%22dashArray%22%3A%20null%2C%20%22dashOffset%22%3A%20null%2C%20%22fill%22%3A%20true%2C%20%22fillColor%22%3A%20%22indigo%22%2C%20%22fillOpacity%22%3A%200.2%2C%20%22fillRule%22%3A%20%22evenodd%22%2C%20%22lineCap%22%3A%20%22round%22%2C%20%22lineJoin%22%3A%20%22round%22%2C%20%22opacity%22%3A%201.0%2C%20%22radius%22%3A%2056000.0%2C%20%22stroke%22%3A%20true%2C%20%22weight%22%3A%203%7D%0A%20%20%20%20%20%20%20%20%20%20%20%20%29.addTo%28map_a1d00f7722f64a9393b48021895cff65%29%3B%0A%20%20%20%20%20%20%20%20%0A%20%20%20%20%0A%20%20%20%20%20%20%20%20%20%20%20%20circle_9251630b86fd4cea98db2c4aba4d89cc.bindTooltip%28%0A%20%20%20%20%20%20%20%20%20%20%20%20%20%20%20%20%60%3Cdiv%3E%0A%20%20%20%20%20%20%20%20%20%20%20%20%20%20%20%20%20%20%20%20%20%3Cdiv%20style%3D%27margin%3A%200%3B%20background-color%3A%20black%3B%20color%3A%20white%3B%27%3E%3Ch4%20style%3D%27text-align%3Acenter%3Bfont-weight%3A%20bold%27%3EFinland%3C/h4%3E%3Chr%20style%3D%27margin%3A10px%3Bcolor%3A%20white%3B%27%3E%3Cul%20style%3D%27color%3A%20white%3B%3Blist-style-type%3Acircle%3Balign-item%3Aleft%3Bpadding-left%3A20px%3Bpadding-right%3A20px%27%3E%3Cli%3EConfirmed%3A%2087798%3C/li%3E%3Cli%3EDeaths%3A%20%20%203795%3C/li%3E%3Cli%3EDeath%20Rate%3A%204.32%3C/li%3E%3C/ul%3E%3C/div%3E%0A%20%20%20%20%20%20%20%20%20%20%20%20%20%20%20%20%20%3C/div%3E%60%2C%0A%20%20%20%20%20%20%20%20%20%20%20%20%20%20%20%20%7B%22sticky%22%3A%20true%7D%0A%20%20%20%20%20%20%20%20%20%20%20%20%29%3B%0A%20%20%20%20%20%20%20%20%0A%20%20%20%20%0A%20%20%20%20%20%20%20%20%20%20%20%20var%20circle_eb7d390d49674b6eb9f19ed2071b7f6c%20%3D%20L.circle%28%0A%20%20%20%20%20%20%20%20%20%20%20%20%20%20%20%20%5B3.9339%2C%20-53.1258%5D%2C%0A%20%20%20%20%20%20%20%20%20%20%20%20%20%20%20%20%7B%22bubblingMouseEvents%22%3A%20true%2C%20%22color%22%3A%20%22red%22%2C%20%22dashArray%22%3A%20null%2C%20%22dashOffset%22%3A%20null%2C%20%22fill%22%3A%20true%2C%20%22fillColor%22%3A%20%22indigo%22%2C%20%22fillOpacity%22%3A%200.2%2C%20%22fillRule%22%3A%20%22evenodd%22%2C%20%22lineCap%22%3A%20%22round%22%2C%20%22lineJoin%22%3A%20%22round%22%2C%20%22opacity%22%3A%201.0%2C%20%22radius%22%3A%2046000.0%2C%20%22stroke%22%3A%20true%2C%20%22weight%22%3A%203%7D%0A%20%20%20%20%20%20%20%20%20%20%20%20%29.addTo%28map_a1d00f7722f64a9393b48021895cff65%29%3B%0A%20%20%20%20%20%20%20%20%0A%20%20%20%20%0A%20%20%20%20%20%20%20%20%20%20%20%20circle_eb7d390d49674b6eb9f19ed2071b7f6c.bindTooltip%28%0A%20%20%20%20%20%20%20%20%20%20%20%20%20%20%20%20%60%3Cdiv%3E%0A%20%20%20%20%20%20%20%20%20%20%20%20%20%20%20%20%20%20%20%20%20%3Cdiv%20style%3D%27margin%3A%200%3B%20background-color%3A%20black%3B%20color%3A%20white%3B%27%3E%3Ch4%20style%3D%27text-align%3Acenter%3Bfont-weight%3A%20bold%27%3EFrance%3C/h4%3E%3Chr%20style%3D%27margin%3A10px%3Bcolor%3A%20white%3B%27%3E%3Cul%20style%3D%27color%3A%20white%3B%3Blist-style-type%3Acircle%3Balign-item%3Aleft%3Bpadding-left%3A20px%3Bpadding-right%3A20px%27%3E%3Cli%3EConfirmed%3A%2019882%3C/li%3E%3Cli%3EDeaths%3A%20%20%202%3C/li%3E%3Cli%3EDeath%20Rate%3A%200.01%3C/li%3E%3C/ul%3E%3C/div%3E%0A%20%20%20%20%20%20%20%20%20%20%20%20%20%20%20%20%20%3C/div%3E%60%2C%0A%20%20%20%20%20%20%20%20%20%20%20%20%20%20%20%20%7B%22sticky%22%3A%20true%7D%0A%20%20%20%20%20%20%20%20%20%20%20%20%29%3B%0A%20%20%20%20%20%20%20%20%0A%20%20%20%20%0A%20%20%20%20%20%20%20%20%20%20%20%20var%20circle_291aac85f3224488b543d81b10e02fca%20%3D%20L.circle%28%0A%20%20%20%20%20%20%20%20%20%20%20%20%20%20%20%20%5B-17.6797%2C%20149.4068%5D%2C%0A%20%20%20%20%20%20%20%20%20%20%20%20%20%20%20%20%7B%22bubblingMouseEvents%22%3A%20true%2C%20%22color%22%3A%20%22red%22%2C%20%22dashArray%22%3A%20null%2C%20%22dashOffset%22%3A%20null%2C%20%22fill%22%3A%20true%2C%20%22fillColor%22%3A%20%22indigo%22%2C%20%22fillOpacity%22%3A%200.2%2C%20%22fillRule%22%3A%20%22evenodd%22%2C%20%22lineCap%22%3A%20%22round%22%2C%20%22lineJoin%22%3A%20%22round%22%2C%20%22opacity%22%3A%201.0%2C%20%22radius%22%3A%2046000.0%2C%20%22stroke%22%3A%20true%2C%20%22weight%22%3A%203%7D%0A%20%20%20%20%20%20%20%20%20%20%20%20%29.addTo%28map_a1d00f7722f64a9393b48021895cff65%29%3B%0A%20%20%20%20%20%20%20%20%0A%20%20%20%20%0A%20%20%20%20%20%20%20%20%20%20%20%20circle_291aac85f3224488b543d81b10e02fca.bindTooltip%28%0A%20%20%20%20%20%20%20%20%20%20%20%20%20%20%20%20%60%3Cdiv%3E%0A%20%20%20%20%20%20%20%20%20%20%20%20%20%20%20%20%20%20%20%20%20%3Cdiv%20style%3D%27margin%3A%200%3B%20background-color%3A%20black%3B%20color%3A%20white%3B%27%3E%3Ch4%20style%3D%27text-align%3Acenter%3Bfont-weight%3A%20bold%27%3EFrance%3C/h4%3E%3Chr%20style%3D%27margin%3A10px%3Bcolor%3A%20white%3B%27%3E%3Cul%20style%3D%27color%3A%20white%3B%3Blist-style-type%3Acircle%3Balign-item%3Aleft%3Bpadding-left%3A20px%3Bpadding-right%3A20px%27%3E%3Cli%3EConfirmed%3A%2018775%3C/li%3E%3Cli%3EDeaths%3A%20%20%20918%3C/li%3E%3Cli%3EDeath%20Rate%3A%204.89%3C/li%3E%3C/ul%3E%3C/div%3E%0A%20%20%20%20%20%20%20%20%20%20%20%20%20%20%20%20%20%3C/div%3E%60%2C%0A%20%20%20%20%20%20%20%20%20%20%20%20%20%20%20%20%7B%22sticky%22%3A%20true%7D%0A%20%20%20%20%20%20%20%20%20%20%20%20%29%3B%0A%20%20%20%20%20%20%20%20%0A%20%20%20%20%0A%20%20%20%20%20%20%20%20%20%20%20%20var%20circle_813fdcddce844240952e96a03a56c795%20%3D%20L.circle%28%0A%20%20%20%20%20%20%20%20%20%20%20%20%20%20%20%20%5B16.265%2C%20-61.551%5D%2C%0A%20%20%20%20%20%20%20%20%20%20%20%20%20%20%20%20%7B%22bubblingMouseEvents%22%3A%20true%2C%20%22color%22%3A%20%22red%22%2C%20%22dashArray%22%3A%20null%2C%20%22dashOffset%22%3A%20null%2C%20%22fill%22%3A%20true%2C%20%22fillColor%22%3A%20%22indigo%22%2C%20%22fillOpacity%22%3A%200.2%2C%20%22fillRule%22%3A%20%22evenodd%22%2C%20%22lineCap%22%3A%20%22round%22%2C%20%22lineJoin%22%3A%20%22round%22%2C%20%22opacity%22%3A%201.0%2C%20%22radius%22%3A%2046000.0%2C%20%22stroke%22%3A%20true%2C%20%22weight%22%3A%203%7D%0A%20%20%20%20%20%20%20%20%20%20%20%20%29.addTo%28map_a1d00f7722f64a9393b48021895cff65%29%3B%0A%20%20%20%20%20%20%20%20%0A%20%20%20%20%0A%20%20%20%20%20%20%20%20%20%20%20%20circle_813fdcddce844240952e96a03a56c795.bindTooltip%28%0A%20%20%20%20%20%20%20%20%20%20%20%20%20%20%20%20%60%3Cdiv%3E%0A%20%20%20%20%20%20%20%20%20%20%20%20%20%20%20%20%20%20%20%20%20%3Cdiv%20style%3D%27margin%3A%200%3B%20background-color%3A%20black%3B%20color%3A%20white%3B%27%3E%3Ch4%20style%3D%27text-align%3Acenter%3Bfont-weight%3A%20bold%27%3EFrance%3C/h4%3E%3Chr%20style%3D%27margin%3A10px%3Bcolor%3A%20white%3B%27%3E%3Cul%20style%3D%27color%3A%20white%3B%3Blist-style-type%3Acircle%3Balign-item%3Aleft%3Bpadding-left%3A20px%3Bpadding-right%3A20px%27%3E%3Cli%3EConfirmed%3A%2014634%3C/li%3E%3Cli%3EDeaths%3A%20%20%20104%3C/li%3E%3Cli%3EDeath%20Rate%3A%200.71%3C/li%3E%3C/ul%3E%3C/div%3E%0A%20%20%20%20%20%20%20%20%20%20%20%20%20%20%20%20%20%3C/div%3E%60%2C%0A%20%20%20%20%20%20%20%20%20%20%20%20%20%20%20%20%7B%22sticky%22%3A%20true%7D%0A%20%20%20%20%20%20%20%20%20%20%20%20%29%3B%0A%20%20%20%20%20%20%20%20%0A%20%20%20%20%0A%20%20%20%20%20%20%20%20%20%20%20%20var%20circle_c9cac79378184203b20a1bd85d697e7b%20%3D%20L.circle%28%0A%20%20%20%20%20%20%20%20%20%20%20%20%20%20%20%20%5B14.6415%2C%20-61.0242%5D%2C%0A%20%20%20%20%20%20%20%20%20%20%20%20%20%20%20%20%7B%22bubblingMouseEvents%22%3A%20true%2C%20%22color%22%3A%20%22red%22%2C%20%22dashArray%22%3A%20null%2C%20%22dashOffset%22%3A%20null%2C%20%22fill%22%3A%20true%2C%20%22fillColor%22%3A%20%22indigo%22%2C%20%22fillOpacity%22%3A%200.2%2C%20%22fillRule%22%3A%20%22evenodd%22%2C%20%22lineCap%22%3A%20%22round%22%2C%20%22lineJoin%22%3A%20%22round%22%2C%20%22opacity%22%3A%201.0%2C%20%22radius%22%3A%2046000.0%2C%20%22stroke%22%3A%20true%2C%20%22weight%22%3A%203%7D%0A%20%20%20%20%20%20%20%20%20%20%20%20%29.addTo%28map_a1d00f7722f64a9393b48021895cff65%29%3B%0A%20%20%20%20%20%20%20%20%0A%20%20%20%20%0A%20%20%20%20%20%20%20%20%20%20%20%20circle_c9cac79378184203b20a1bd85d697e7b.bindTooltip%28%0A%20%20%20%20%20%20%20%20%20%20%20%20%20%20%20%20%60%3Cdiv%3E%0A%20%20%20%20%20%20%20%20%20%20%20%20%20%20%20%20%20%20%20%20%20%3Cdiv%20style%3D%27margin%3A%200%3B%20background-color%3A%20black%3B%20color%3A%20white%3B%27%3E%3Ch4%20style%3D%27text-align%3Acenter%3Bfont-weight%3A%20bold%27%3EFrance%3C/h4%3E%3Chr%20style%3D%27margin%3A10px%3Bcolor%3A%20white%3B%27%3E%3Cul%20style%3D%27color%3A%20white%3B%3Blist-style-type%3Acircle%3Balign-item%3Aleft%3Bpadding-left%3A20px%3Bpadding-right%3A20px%27%3E%3Cli%3EConfirmed%3A%2011139%3C/li%3E%3Cli%3EDeaths%3A%20%20%20141%3C/li%3E%3Cli%3EDeath%20Rate%3A%201.27%3C/li%3E%3C/ul%3E%3C/div%3E%0A%20%20%20%20%20%20%20%20%20%20%20%20%20%20%20%20%20%3C/div%3E%60%2C%0A%20%20%20%20%20%20%20%20%20%20%20%20%20%20%20%20%7B%22sticky%22%3A%20true%7D%0A%20%20%20%20%20%20%20%20%20%20%20%20%29%3B%0A%20%20%20%20%20%20%20%20%0A%20%20%20%20%0A%20%20%20%20%20%20%20%20%20%20%20%20var%20circle_9cd2c90dca744a84a4305323f9dcd00b%20%3D%20L.circle%28%0A%20%20%20%20%20%20%20%20%20%20%20%20%20%20%20%20%5B-12.8275%2C%2045.166244%5D%2C%0A%20%20%20%20%20%20%20%20%20%20%20%20%20%20%20%20%7B%22bubblingMouseEvents%22%3A%20true%2C%20%22color%22%3A%20%22red%22%2C%20%22dashArray%22%3A%20null%2C%20%22dashOffset%22%3A%20null%2C%20%22fill%22%3A%20true%2C%20%22fillColor%22%3A%20%22indigo%22%2C%20%22fillOpacity%22%3A%200.2%2C%20%22fillRule%22%3A%20%22evenodd%22%2C%20%22lineCap%22%3A%20%22round%22%2C%20%22lineJoin%22%3A%20%22round%22%2C%20%22opacity%22%3A%201.0%2C%20%22radius%22%3A%2046000.0%2C%20%22stroke%22%3A%20true%2C%20%22weight%22%3A%203%7D%0A%20%20%20%20%20%20%20%20%20%20%20%20%29.addTo%28map_a1d00f7722f64a9393b48021895cff65%29%3B%0A%20%20%20%20%20%20%20%20%0A%20%20%20%20%0A%20%20%20%20%20%20%20%20%20%20%20%20circle_9cd2c90dca744a84a4305323f9dcd00b.bindTooltip%28%0A%20%20%20%20%20%20%20%20%20%20%20%20%20%20%20%20%60%3Cdiv%3E%0A%20%20%20%20%20%20%20%20%20%20%20%20%20%20%20%20%20%20%20%20%20%3Cdiv%20style%3D%27margin%3A%200%3B%20background-color%3A%20black%3B%20color%3A%20white%3B%27%3E%3Ch4%20style%3D%27text-align%3Acenter%3Bfont-weight%3A%20bold%27%3EFrance%3C/h4%3E%3Chr%20style%3D%27margin%3A10px%3Bcolor%3A%20white%3B%27%3E%3Cul%20style%3D%27color%3A%20white%3B%3Blist-style-type%3Acircle%3Balign-item%3Aleft%3Bpadding-left%3A20px%3Bpadding-right%3A20px%27%3E%3Cli%3EConfirmed%3A%2020094%3C/li%3E%3Cli%3EDeaths%3A%20%20%20228%3C/li%3E%3Cli%3EDeath%20Rate%3A%201.13%3C/li%3E%3C/ul%3E%3C/div%3E%0A%20%20%20%20%20%20%20%20%20%20%20%20%20%20%20%20%20%3C/div%3E%60%2C%0A%20%20%20%20%20%20%20%20%20%20%20%20%20%20%20%20%7B%22sticky%22%3A%20true%7D%0A%20%20%20%20%20%20%20%20%20%20%20%20%29%3B%0A%20%20%20%20%20%20%20%20%0A%20%20%20%20%0A%20%20%20%20%20%20%20%20%20%20%20%20var%20circle_decdfb15670947b58b3a2c5a99c04151%20%3D%20L.circle%28%0A%20%20%20%20%20%20%20%20%20%20%20%20%20%20%20%20%5B-20.904304999999997%2C%20165.618042%5D%2C%0A%20%20%20%20%20%20%20%20%20%20%20%20%20%20%20%20%7B%22bubblingMouseEvents%22%3A%20true%2C%20%22color%22%3A%20%22red%22%2C%20%22dashArray%22%3A%20null%2C%20%22dashOffset%22%3A%20null%2C%20%22fill%22%3A%20true%2C%20%22fillColor%22%3A%20%22indigo%22%2C%20%22fillOpacity%22%3A%200.2%2C%20%22fillRule%22%3A%20%22evenodd%22%2C%20%22lineCap%22%3A%20%22round%22%2C%20%22lineJoin%22%3A%20%22round%22%2C%20%22opacity%22%3A%201.0%2C%20%22radius%22%3A%2021000.0%2C%20%22stroke%22%3A%20true%2C%20%22weight%22%3A%203%7D%0A%20%20%20%20%20%20%20%20%20%20%20%20%29.addTo%28map_a1d00f7722f64a9393b48021895cff65%29%3B%0A%20%20%20%20%20%20%20%20%0A%20%20%20%20%0A%20%20%20%20%20%20%20%20%20%20%20%20circle_decdfb15670947b58b3a2c5a99c04151.bindTooltip%28%0A%20%20%20%20%20%20%20%20%20%20%20%20%20%20%20%20%60%3Cdiv%3E%0A%20%20%20%20%20%20%20%20%20%20%20%20%20%20%20%20%20%20%20%20%20%3Cdiv%20style%3D%27margin%3A%200%3B%20background-color%3A%20black%3B%20color%3A%20white%3B%27%3E%3Ch4%20style%3D%27text-align%3Acenter%3Bfont-weight%3A%20bold%27%3EFrance%3C/h4%3E%3Chr%20style%3D%27margin%3A10px%3Bcolor%3A%20white%3B%27%3E%3Cul%20style%3D%27color%3A%20white%3B%3Blist-style-type%3Acircle%3Balign-item%3Aleft%3Bpadding-left%3A20px%3Bpadding-right%3A20px%27%3E%3Cli%3EConfirmed%3A%20124%3C/li%3E%3Cli%3EDeaths%3A%20%20%2079%3C/li%3E%3Cli%3EDeath%20Rate%3A%2063.2%3C/li%3E%3C/ul%3E%3C/div%3E%0A%20%20%20%20%20%20%20%20%20%20%20%20%20%20%20%20%20%3C/div%3E%60%2C%0A%20%20%20%20%20%20%20%20%20%20%20%20%20%20%20%20%7B%22sticky%22%3A%20true%7D%0A%20%20%20%20%20%20%20%20%20%20%20%20%29%3B%0A%20%20%20%20%20%20%20%20%0A%20%20%20%20%0A%20%20%20%20%20%20%20%20%20%20%20%20var%20circle_0248f7acdb214ea489507c61fabc7888%20%3D%20L.circle%28%0A%20%20%20%20%20%20%20%20%20%20%20%20%20%20%20%20%5B-21.1151%2C%2055.5364%5D%2C%0A%20%20%20%20%20%20%20%20%20%20%20%20%20%20%20%20%7B%22bubblingMouseEvents%22%3A%20true%2C%20%22color%22%3A%20%22red%22%2C%20%22dashArray%22%3A%20null%2C%20%22dashOffset%22%3A%20null%2C%20%22fill%22%3A%20true%2C%20%22fillColor%22%3A%20%22indigo%22%2C%20%22fillOpacity%22%3A%200.2%2C%20%22fillRule%22%3A%20%22evenodd%22%2C%20%22lineCap%22%3A%20%22round%22%2C%20%22lineJoin%22%3A%20%22round%22%2C%20%22opacity%22%3A%201.0%2C%20%22radius%22%3A%2046000.0%2C%20%22stroke%22%3A%20true%2C%20%22weight%22%3A%203%7D%0A%20%20%20%20%20%20%20%20%20%20%20%20%29.addTo%28map_a1d00f7722f64a9393b48021895cff65%29%3B%0A%20%20%20%20%20%20%20%20%0A%20%20%20%20%0A%20%20%20%20%20%20%20%20%20%20%20%20circle_0248f7acdb214ea489507c61fabc7888.bindTooltip%28%0A%20%20%20%20%20%20%20%20%20%20%20%20%20%20%20%20%60%3Cdiv%3E%0A%20%20%20%20%20%20%20%20%20%20%20%20%20%20%20%20%20%20%20%20%20%3Cdiv%20style%3D%27margin%3A%200%3B%20background-color%3A%20black%3B%20color%3A%20white%3B%27%3E%3Ch4%20style%3D%27text-align%3Acenter%3Bfont-weight%3A%20bold%27%3EFrance%3C/h4%3E%3Chr%20style%3D%27margin%3A10px%3Bcolor%3A%20white%3B%27%3E%3Cul%20style%3D%27color%3A%20white%3B%3Blist-style-type%3Acircle%3Balign-item%3Aleft%3Bpadding-left%3A20px%3Bpadding-right%3A20px%27%3E%3Cli%3EConfirmed%3A%2021451%3C/li%3E%3Cli%3EDeaths%3A%20%20%20170%3C/li%3E%3Cli%3EDeath%20Rate%3A%200.79%3C/li%3E%3C/ul%3E%3C/div%3E%0A%20%20%20%20%20%20%20%20%20%20%20%20%20%20%20%20%20%3C/div%3E%60%2C%0A%20%20%20%20%20%20%20%20%20%20%20%20%20%20%20%20%7B%22sticky%22%3A%20true%7D%0A%20%20%20%20%20%20%20%20%20%20%20%20%29%3B%0A%20%20%20%20%20%20%20%20%0A%20%20%20%20%0A%20%20%20%20%20%20%20%20%20%20%20%20var%20circle_387262359d064b7c8ace8e82522a8525%20%3D%20L.circle%28%0A%20%20%20%20%20%20%20%20%20%20%20%20%20%20%20%20%5B17.9%2C%20-62.8333%5D%2C%0A%20%20%20%20%20%20%20%20%20%20%20%20%20%20%20%20%7B%22bubblingMouseEvents%22%3A%20true%2C%20%22color%22%3A%20%22red%22%2C%20%22dashArray%22%3A%20null%2C%20%22dashOffset%22%3A%20null%2C%20%22fill%22%3A%20true%2C%20%22fillColor%22%3A%20%22indigo%22%2C%20%22fillOpacity%22%3A%200.2%2C%20%22fillRule%22%3A%20%22evenodd%22%2C%20%22lineCap%22%3A%20%22round%22%2C%20%22lineJoin%22%3A%20%22round%22%2C%20%22opacity%22%3A%201.0%2C%20%22radius%22%3A%2031000.0%2C%20%22stroke%22%3A%20true%2C%20%22weight%22%3A%203%7D%0A%20%20%20%20%20%20%20%20%20%20%20%20%29.addTo%28map_a1d00f7722f64a9393b48021895cff65%29%3B%0A%20%20%20%20%20%20%20%20%0A%20%20%20%20%0A%20%20%20%20%20%20%20%20%20%20%20%20circle_387262359d064b7c8ace8e82522a8525.bindTooltip%28%0A%20%20%20%20%20%20%20%20%20%20%20%20%20%20%20%20%60%3Cdiv%3E%0A%20%20%20%20%20%20%20%20%20%20%20%20%20%20%20%20%20%20%20%20%20%3Cdiv%20style%3D%27margin%3A%200%3B%20background-color%3A%20black%3B%20color%3A%20white%3B%27%3E%3Ch4%20style%3D%27text-align%3Acenter%3Bfont-weight%3A%20bold%27%3EFrance%3C/h4%3E%3Chr%20style%3D%27margin%3A10px%3Bcolor%3A%20white%3B%27%3E%3Cul%20style%3D%27color%3A%20white%3B%3Blist-style-type%3Acircle%3Balign-item%3Aleft%3Bpadding-left%3A20px%3Bpadding-right%3A20px%27%3E%3Cli%3EConfirmed%3A%20974%3C/li%3E%3Cli%3EDeaths%3A%20%20%200%3C/li%3E%3Cli%3EDeath%20Rate%3A%200.0%3C/li%3E%3C/ul%3E%3C/div%3E%0A%20%20%20%20%20%20%20%20%20%20%20%20%20%20%20%20%20%3C/div%3E%60%2C%0A%20%20%20%20%20%20%20%20%20%20%20%20%20%20%20%20%7B%22sticky%22%3A%20true%7D%0A%20%20%20%20%20%20%20%20%20%20%20%20%29%3B%0A%20%20%20%20%20%20%20%20%0A%20%20%20%20%0A%20%20%20%20%20%20%20%20%20%20%20%20var%20circle_14fe646df381471f89315e01f390e9cd%20%3D%20L.circle%28%0A%20%20%20%20%20%20%20%20%20%20%20%20%20%20%20%20%5B46.8852%2C%20-56.3159%5D%2C%0A%20%20%20%20%20%20%20%20%20%20%20%20%20%20%20%20%7B%22bubblingMouseEvents%22%3A%20true%2C%20%22color%22%3A%20%22red%22%2C%20%22dashArray%22%3A%20null%2C%20%22dashOffset%22%3A%20null%2C%20%22fill%22%3A%20true%2C%20%22fillColor%22%3A%20%22indigo%22%2C%20%22fillOpacity%22%3A%200.2%2C%20%22fillRule%22%3A%20%22evenodd%22%2C%20%22lineCap%22%3A%20%22round%22%2C%20%22lineJoin%22%3A%20%22round%22%2C%20%22opacity%22%3A%201.0%2C%20%22radius%22%3A%2016000.0%2C%20%22stroke%22%3A%20true%2C%20%22weight%22%3A%203%7D%0A%20%20%20%20%20%20%20%20%20%20%20%20%29.addTo%28map_a1d00f7722f64a9393b48021895cff65%29%3B%0A%20%20%20%20%20%20%20%20%0A%20%20%20%20%0A%20%20%20%20%20%20%20%20%20%20%20%20circle_14fe646df381471f89315e01f390e9cd.bindTooltip%28%0A%20%20%20%20%20%20%20%20%20%20%20%20%20%20%20%20%60%3Cdiv%3E%0A%20%20%20%20%20%20%20%20%20%20%20%20%20%20%20%20%20%20%20%20%20%3Cdiv%20style%3D%27margin%3A%200%3B%20background-color%3A%20black%3B%20color%3A%20white%3B%27%3E%3Ch4%20style%3D%27text-align%3Acenter%3Bfont-weight%3A%20bold%27%3EFrance%3C/h4%3E%3Chr%20style%3D%27margin%3A10px%3Bcolor%3A%20white%3B%27%3E%3Cul%20style%3D%27color%3A%20white%3B%3Blist-style-type%3Acircle%3Balign-item%3Aleft%3Bpadding-left%3A20px%3Bpadding-right%3A20px%27%3E%3Cli%3EConfirmed%3A%2025%3C/li%3E%3Cli%3EDeaths%3A%20%20%20150%3C/li%3E%3Cli%3EDeath%20Rate%3A%20576.92%3C/li%3E%3C/ul%3E%3C/div%3E%0A%20%20%20%20%20%20%20%20%20%20%20%20%20%20%20%20%20%3C/div%3E%60%2C%0A%20%20%20%20%20%20%20%20%20%20%20%20%20%20%20%20%7B%22sticky%22%3A%20true%7D%0A%20%20%20%20%20%20%20%20%20%20%20%20%29%3B%0A%20%20%20%20%20%20%20%20%0A%20%20%20%20%0A%20%20%20%20%20%20%20%20%20%20%20%20var%20circle_e81d10d359444c23af6107dd96ed7f07%20%3D%20L.circle%28%0A%20%20%20%20%20%20%20%20%20%20%20%20%20%20%20%20%5B18.0708%2C%20-63.0501%5D%2C%0A%20%20%20%20%20%20%20%20%20%20%20%20%20%20%20%20%7B%22bubblingMouseEvents%22%3A%20true%2C%20%22color%22%3A%20%22red%22%2C%20%22dashArray%22%3A%20null%2C%20%22dashOffset%22%3A%20null%2C%20%22fill%22%3A%20true%2C%20%22fillColor%22%3A%20%22indigo%22%2C%20%22fillOpacity%22%3A%200.2%2C%20%22fillRule%22%3A%20%22evenodd%22%2C%20%22lineCap%22%3A%20%22round%22%2C%20%22lineJoin%22%3A%20%22round%22%2C%20%22opacity%22%3A%201.0%2C%20%22radius%22%3A%2036000.0%2C%20%22stroke%22%3A%20true%2C%20%22weight%22%3A%203%7D%0A%20%20%20%20%20%20%20%20%20%20%20%20%29.addTo%28map_a1d00f7722f64a9393b48021895cff65%29%3B%0A%20%20%20%20%20%20%20%20%0A%20%20%20%20%0A%20%20%20%20%20%20%20%20%20%20%20%20circle_e81d10d359444c23af6107dd96ed7f07.bindTooltip%28%0A%20%20%20%20%20%20%20%20%20%20%20%20%20%20%20%20%60%3Cdiv%3E%0A%20%20%20%20%20%20%20%20%20%20%20%20%20%20%20%20%20%20%20%20%20%3Cdiv%20style%3D%27margin%3A%200%3B%20background-color%3A%20black%3B%20color%3A%20white%3B%27%3E%3Ch4%20style%3D%27text-align%3Acenter%3Bfont-weight%3A%20bold%27%3EFrance%3C/h4%3E%3Chr%20style%3D%27margin%3A10px%3Bcolor%3A%20white%3B%27%3E%3Cul%20style%3D%27color%3A%20white%3B%3Blist-style-type%3Acircle%3Balign-item%3Aleft%3Bpadding-left%3A20px%3Bpadding-right%3A20px%27%3E%3Cli%3EConfirmed%3A%201745%3C/li%3E%3Cli%3EDeaths%3A%20%20%201%3C/li%3E%3Cli%3EDeath%20Rate%3A%200.06%3C/li%3E%3C/ul%3E%3C/div%3E%0A%20%20%20%20%20%20%20%20%20%20%20%20%20%20%20%20%20%3C/div%3E%60%2C%0A%20%20%20%20%20%20%20%20%20%20%20%20%20%20%20%20%7B%22sticky%22%3A%20true%7D%0A%20%20%20%20%20%20%20%20%20%20%20%20%29%3B%0A%20%20%20%20%20%20%20%20%0A%20%20%20%20%0A%20%20%20%20%20%20%20%20%20%20%20%20var%20circle_2a08ffdb0c9e441bb67c48eb994386ae%20%3D%20L.circle%28%0A%20%20%20%20%20%20%20%20%20%20%20%20%20%20%20%20%5B-14.2938%2C%20-178.1165%5D%2C%0A%20%20%20%20%20%20%20%20%20%20%20%20%20%20%20%20%7B%22bubblingMouseEvents%22%3A%20true%2C%20%22color%22%3A%20%22red%22%2C%20%22dashArray%22%3A%20null%2C%20%22dashOffset%22%3A%20null%2C%20%22fill%22%3A%20true%2C%20%22fillColor%22%3A%20%22indigo%22%2C%20%22fillOpacity%22%3A%200.2%2C%20%22fillRule%22%3A%20%22evenodd%22%2C%20%22lineCap%22%3A%20%22round%22%2C%20%22lineJoin%22%3A%20%22round%22%2C%20%22opacity%22%3A%201.0%2C%20%22radius%22%3A%2031000.0%2C%20%22stroke%22%3A%20true%2C%20%22weight%22%3A%203%7D%0A%20%20%20%20%20%20%20%20%20%20%20%20%29.addTo%28map_a1d00f7722f64a9393b48021895cff65%29%3B%0A%20%20%20%20%20%20%20%20%0A%20%20%20%20%0A%20%20%20%20%20%20%20%20%20%20%20%20circle_2a08ffdb0c9e441bb67c48eb994386ae.bindTooltip%28%0A%20%20%20%20%20%20%20%20%20%20%20%20%20%20%20%20%60%3Cdiv%3E%0A%20%20%20%20%20%20%20%20%20%20%20%20%20%20%20%20%20%20%20%20%20%3Cdiv%20style%3D%27margin%3A%200%3B%20background-color%3A%20black%3B%20color%3A%20white%3B%27%3E%3Ch4%20style%3D%27text-align%3Acenter%3Bfont-weight%3A%20bold%27%3EFrance%3C/h4%3E%3Chr%20style%3D%27margin%3A10px%3Bcolor%3A%20white%3B%27%3E%3Cul%20style%3D%27color%3A%20white%3B%3Blist-style-type%3Acircle%3Balign-item%3Aleft%3Bpadding-left%3A20px%3Bpadding-right%3A20px%27%3E%3Cli%3EConfirmed%3A%20444%3C/li%3E%3Cli%3EDeaths%3A%20%20%200%3C/li%3E%3Cli%3EDeath%20Rate%3A%200.0%3C/li%3E%3C/ul%3E%3C/div%3E%0A%20%20%20%20%20%20%20%20%20%20%20%20%20%20%20%20%20%3C/div%3E%60%2C%0A%20%20%20%20%20%20%20%20%20%20%20%20%20%20%20%20%7B%22sticky%22%3A%20true%7D%0A%20%20%20%20%20%20%20%20%20%20%20%20%29%3B%0A%20%20%20%20%20%20%20%20%0A%20%20%20%20%0A%20%20%20%20%20%20%20%20%20%20%20%20var%20circle_0d3965a7fba647f8986cad95d909020c%20%3D%20L.circle%28%0A%20%20%20%20%20%20%20%20%20%20%20%20%20%20%20%20%5B46.2276%2C%202.2137%5D%2C%0A%20%20%20%20%20%20%20%20%20%20%20%20%20%20%20%20%7B%22bubblingMouseEvents%22%3A%20true%2C%20%22color%22%3A%20%22red%22%2C%20%22dashArray%22%3A%20null%2C%20%22dashOffset%22%3A%20null%2C%20%22fill%22%3A%20true%2C%20%22fillColor%22%3A%20%22indigo%22%2C%20%22fillOpacity%22%3A%200.2%2C%20%22fillRule%22%3A%20%22evenodd%22%2C%20%22lineCap%22%3A%20%22round%22%2C%20%22lineJoin%22%3A%20%22round%22%2C%20%22opacity%22%3A%201.0%2C%20%22radius%22%3A%2076000.0%2C%20%22stroke%22%3A%20true%2C%20%22weight%22%3A%203%7D%0A%20%20%20%20%20%20%20%20%20%20%20%20%29.addTo%28map_a1d00f7722f64a9393b48021895cff65%29%3B%0A%20%20%20%20%20%20%20%20%0A%20%20%20%20%0A%20%20%20%20%20%20%20%20%20%20%20%20circle_0d3965a7fba647f8986cad95d909020c.bindTooltip%28%0A%20%20%20%20%20%20%20%20%20%20%20%20%20%20%20%20%60%3Cdiv%3E%0A%20%20%20%20%20%20%20%20%20%20%20%20%20%20%20%20%20%20%20%20%20%3Cdiv%20style%3D%27margin%3A%200%3B%20background-color%3A%20black%3B%20color%3A%20white%3B%27%3E%3Ch4%20style%3D%27text-align%3Acenter%3Bfont-weight%3A%20bold%27%3EFrance%3C/h4%3E%3Chr%20style%3D%27margin%3A10px%3Bcolor%3A%20white%3B%27%3E%3Cul%20style%3D%27color%3A%20white%3B%3Blist-style-type%3Acircle%3Balign-item%3Aleft%3Bpadding-left%3A20px%3Bpadding-right%3A20px%27%3E%3Cli%3EConfirmed%3A%205658254%3C/li%3E%3Cli%3EDeaths%3A%20%20%2012%3C/li%3E%3Cli%3EDeath%20Rate%3A%200.0%3C/li%3E%3C/ul%3E%3C/div%3E%0A%20%20%20%20%20%20%20%20%20%20%20%20%20%20%20%20%20%3C/div%3E%60%2C%0A%20%20%20%20%20%20%20%20%20%20%20%20%20%20%20%20%7B%22sticky%22%3A%20true%7D%0A%20%20%20%20%20%20%20%20%20%20%20%20%29%3B%0A%20%20%20%20%20%20%20%20%0A%20%20%20%20%0A%20%20%20%20%20%20%20%20%20%20%20%20var%20circle_3bfe31aa5b224951b6d9a53cbd98a6aa%20%3D%20L.circle%28%0A%20%20%20%20%20%20%20%20%20%20%20%20%20%20%20%20%5B-0.8037%2C%2011.6094%5D%2C%0A%20%20%20%20%20%20%20%20%20%20%20%20%20%20%20%20%7B%22bubblingMouseEvents%22%3A%20true%2C%20%22color%22%3A%20%22red%22%2C%20%22dashArray%22%3A%20null%2C%20%22dashOffset%22%3A%20null%2C%20%22fill%22%3A%20true%2C%20%22fillColor%22%3A%20%22indigo%22%2C%20%22fillOpacity%22%3A%200.2%2C%20%22fillRule%22%3A%20%22evenodd%22%2C%20%22lineCap%22%3A%20%22round%22%2C%20%22lineJoin%22%3A%20%22round%22%2C%20%22opacity%22%3A%201.0%2C%20%22radius%22%3A%2051000.0%2C%20%22stroke%22%3A%20true%2C%20%22weight%22%3A%203%7D%0A%20%20%20%20%20%20%20%20%20%20%20%20%29.addTo%28map_a1d00f7722f64a9393b48021895cff65%29%3B%0A%20%20%20%20%20%20%20%20%0A%20%20%20%20%0A%20%20%20%20%20%20%20%20%20%20%20%20circle_3bfe31aa5b224951b6d9a53cbd98a6aa.bindTooltip%28%0A%20%20%20%20%20%20%20%20%20%20%20%20%20%20%20%20%60%3Cdiv%3E%0A%20%20%20%20%20%20%20%20%20%20%20%20%20%20%20%20%20%20%20%20%20%3Cdiv%20style%3D%27margin%3A%200%3B%20background-color%3A%20black%3B%20color%3A%20white%3B%27%3E%3Ch4%20style%3D%27text-align%3Acenter%3Bfont-weight%3A%20bold%27%3EGabon%3C/h4%3E%3Chr%20style%3D%27margin%3A10px%3Bcolor%3A%20white%3B%27%3E%3Cul%20style%3D%27color%3A%20white%3B%3Blist-style-type%3Acircle%3Balign-item%3Aleft%3Bpadding-left%3A20px%3Bpadding-right%3A20px%27%3E%3Cli%3EConfirmed%3A%2023201%3C/li%3E%3Cli%3EDeaths%3A%20%20%207%3C/li%3E%3Cli%3EDeath%20Rate%3A%200.03%3C/li%3E%3C/ul%3E%3C/div%3E%0A%20%20%20%20%20%20%20%20%20%20%20%20%20%20%20%20%20%3C/div%3E%60%2C%0A%20%20%20%20%20%20%20%20%20%20%20%20%20%20%20%20%7B%22sticky%22%3A%20true%7D%0A%20%20%20%20%20%20%20%20%20%20%20%20%29%3B%0A%20%20%20%20%20%20%20%20%0A%20%20%20%20%0A%20%20%20%20%20%20%20%20%20%20%20%20var%20circle_112958b13a474db2b7f459b9f755a606%20%3D%20L.circle%28%0A%20%20%20%20%20%20%20%20%20%20%20%20%20%20%20%20%5B13.4432%2C%20-15.3101%5D%2C%0A%20%20%20%20%20%20%20%20%20%20%20%20%20%20%20%20%7B%22bubblingMouseEvents%22%3A%20true%2C%20%22color%22%3A%20%22red%22%2C%20%22dashArray%22%3A%20null%2C%20%22dashOffset%22%3A%20null%2C%20%22fill%22%3A%20true%2C%20%22fillColor%22%3A%20%22indigo%22%2C%20%22fillOpacity%22%3A%200.2%2C%20%22fillRule%22%3A%20%22evenodd%22%2C%20%22lineCap%22%3A%20%22round%22%2C%20%22lineJoin%22%3A%20%22round%22%2C%20%22opacity%22%3A%201.0%2C%20%22radius%22%3A%2041000.0%2C%20%22stroke%22%3A%20true%2C%20%22weight%22%3A%203%7D%0A%20%20%20%20%20%20%20%20%20%20%20%20%29.addTo%28map_a1d00f7722f64a9393b48021895cff65%29%3B%0A%20%20%20%20%20%20%20%20%0A%20%20%20%20%0A%20%20%20%20%20%20%20%20%20%20%20%20circle_112958b13a474db2b7f459b9f755a606.bindTooltip%28%0A%20%20%20%20%20%20%20%20%20%20%20%20%20%20%20%20%60%3Cdiv%3E%0A%20%20%20%20%20%20%20%20%20%20%20%20%20%20%20%20%20%20%20%20%20%3Cdiv%20style%3D%27margin%3A%200%3B%20background-color%3A%20black%3B%20color%3A%20white%3B%27%3E%3Ch4%20style%3D%27text-align%3Acenter%3Bfont-weight%3A%20bold%27%3EGambia%3C/h4%3E%3Chr%20style%3D%27margin%3A10px%3Bcolor%3A%20white%3B%27%3E%3Cul%20style%3D%27color%3A%20white%3B%3Blist-style-type%3Acircle%3Balign-item%3Aleft%3Bpadding-left%3A20px%3Bpadding-right%3A20px%27%3E%3Cli%3EConfirmed%3A%205914%3C/li%3E%3Cli%3EDeaths%3A%20%20%20104900%3C/li%3E%3Cli%3EDeath%20Rate%3A%201773.46%3C/li%3E%3C/ul%3E%3C/div%3E%0A%20%20%20%20%20%20%20%20%20%20%20%20%20%20%20%20%20%3C/div%3E%60%2C%0A%20%20%20%20%20%20%20%20%20%20%20%20%20%20%20%20%7B%22sticky%22%3A%20true%7D%0A%20%20%20%20%20%20%20%20%20%20%20%20%29%3B%0A%20%20%20%20%20%20%20%20%0A%20%20%20%20%0A%20%20%20%20%20%20%20%20%20%20%20%20var%20circle_bdac7202b09646a880bc18a97c999b12%20%3D%20L.circle%28%0A%20%20%20%20%20%20%20%20%20%20%20%20%20%20%20%20%5B42.3154%2C%2043.3569%5D%2C%0A%20%20%20%20%20%20%20%20%20%20%20%20%20%20%20%20%7B%22bubblingMouseEvents%22%3A%20true%2C%20%22color%22%3A%20%22red%22%2C%20%22dashArray%22%3A%20null%2C%20%22dashOffset%22%3A%20null%2C%20%22fill%22%3A%20true%2C%20%22fillColor%22%3A%20%22indigo%22%2C%20%22fillOpacity%22%3A%200.2%2C%20%22fillRule%22%3A%20%22evenodd%22%2C%20%22lineCap%22%3A%20%22round%22%2C%20%22lineJoin%22%3A%20%22round%22%2C%20%22opacity%22%3A%201.0%2C%20%22radius%22%3A%2061000.0%2C%20%22stroke%22%3A%20true%2C%20%22weight%22%3A%203%7D%0A%20%20%20%20%20%20%20%20%20%20%20%20%29.addTo%28map_a1d00f7722f64a9393b48021895cff65%29%3B%0A%20%20%20%20%20%20%20%20%0A%20%20%20%20%0A%20%20%20%20%20%20%20%20%20%20%20%20circle_bdac7202b09646a880bc18a97c999b12.bindTooltip%28%0A%20%20%20%20%20%20%20%20%20%20%20%20%20%20%20%20%60%3Cdiv%3E%0A%20%20%20%20%20%20%20%20%20%20%20%20%20%20%20%20%20%20%20%20%20%3Cdiv%20style%3D%27margin%3A%200%3B%20background-color%3A%20black%3B%20color%3A%20white%3B%27%3E%3Ch4%20style%3D%27text-align%3Acenter%3Bfont-weight%3A%20bold%27%3EGeorgia%3C/h4%3E%3Chr%20style%3D%27margin%3A10px%3Bcolor%3A%20white%3B%27%3E%3Cul%20style%3D%27color%3A%20white%3B%3Blist-style-type%3Acircle%3Balign-item%3Aleft%3Bpadding-left%3A20px%3Bpadding-right%3A20px%27%3E%3Cli%3EConfirmed%3A%20315913%3C/li%3E%3Cli%3EDeaths%3A%20%20%20140%3C/li%3E%3Cli%3EDeath%20Rate%3A%200.04%3C/li%3E%3C/ul%3E%3C/div%3E%0A%20%20%20%20%20%20%20%20%20%20%20%20%20%20%20%20%20%3C/div%3E%60%2C%0A%20%20%20%20%20%20%20%20%20%20%20%20%20%20%20%20%7B%22sticky%22%3A%20true%7D%0A%20%20%20%20%20%20%20%20%20%20%20%20%29%3B%0A%20%20%20%20%20%20%20%20%0A%20%20%20%20%0A%20%20%20%20%20%20%20%20%20%20%20%20var%20circle_e21df5ef351b4f6a8432a9d88f64f110%20%3D%20L.circle%28%0A%20%20%20%20%20%20%20%20%20%20%20%20%20%20%20%20%5B51.165690999999995%2C%2010.451526%5D%2C%0A%20%20%20%20%20%20%20%20%20%20%20%20%20%20%20%20%7B%22bubblingMouseEvents%22%3A%20true%2C%20%22color%22%3A%20%22red%22%2C%20%22dashArray%22%3A%20null%2C%20%22dashOffset%22%3A%20null%2C%20%22fill%22%3A%20true%2C%20%22fillColor%22%3A%20%22indigo%22%2C%20%22fillOpacity%22%3A%200.2%2C%20%22fillRule%22%3A%20%22evenodd%22%2C%20%22lineCap%22%3A%20%22round%22%2C%20%22lineJoin%22%3A%20%22round%22%2C%20%22opacity%22%3A%201.0%2C%20%22radius%22%3A%2076000.0%2C%20%22stroke%22%3A%20true%2C%20%22weight%22%3A%203%7D%0A%20%20%20%20%20%20%20%20%20%20%20%20%29.addTo%28map_a1d00f7722f64a9393b48021895cff65%29%3B%0A%20%20%20%20%20%20%20%20%0A%20%20%20%20%0A%20%20%20%20%20%20%20%20%20%20%20%20circle_e21df5ef351b4f6a8432a9d88f64f110.bindTooltip%28%0A%20%20%20%20%20%20%20%20%20%20%20%20%20%20%20%20%60%3Cdiv%3E%0A%20%20%20%20%20%20%20%20%20%20%20%20%20%20%20%20%20%20%20%20%20%3Cdiv%20style%3D%27margin%3A%200%3B%20background-color%3A%20black%3B%20color%3A%20white%3B%27%3E%3Ch4%20style%3D%27text-align%3Acenter%3Bfont-weight%3A%20bold%27%3EGermany%3C/h4%3E%3Chr%20style%3D%27margin%3A10px%3Bcolor%3A%20white%3B%27%3E%3Cul%20style%3D%27color%3A%20white%3B%3Blist-style-type%3Acircle%3Balign-item%3Aleft%3Bpadding-left%3A20px%3Bpadding-right%3A20px%27%3E%3Cli%3EConfirmed%3A%203484755%3C/li%3E%3Cli%3EDeaths%3A%20%20%20175%3C/li%3E%3Cli%3EDeath%20Rate%3A%200.01%3C/li%3E%3C/ul%3E%3C/div%3E%0A%20%20%20%20%20%20%20%20%20%20%20%20%20%20%20%20%20%3C/div%3E%60%2C%0A%20%20%20%20%20%20%20%20%20%20%20%20%20%20%20%20%7B%22sticky%22%3A%20true%7D%0A%20%20%20%20%20%20%20%20%20%20%20%20%29%3B%0A%20%20%20%20%20%20%20%20%0A%20%20%20%20%0A%20%20%20%20%20%20%20%20%20%20%20%20var%20circle_43c01999f96d4e6a8f4c5524afc2031d%20%3D%20L.circle%28%0A%20%20%20%20%20%20%20%20%20%20%20%20%20%20%20%20%5B7.9465%2C%20-1.0232%5D%2C%0A%20%20%20%20%20%20%20%20%20%20%20%20%20%20%20%20%7B%22bubblingMouseEvents%22%3A%20true%2C%20%22color%22%3A%20%22red%22%2C%20%22dashArray%22%3A%20null%2C%20%22dashOffset%22%3A%20null%2C%20%22fill%22%3A%20true%2C%20%22fillColor%22%3A%20%22indigo%22%2C%20%22fillOpacity%22%3A%200.2%2C%20%22fillRule%22%3A%20%22evenodd%22%2C%20%22lineCap%22%3A%20%22round%22%2C%20%22lineJoin%22%3A%20%22round%22%2C%20%22opacity%22%3A%201.0%2C%20%22radius%22%3A%2056000.0%2C%20%22stroke%22%3A%20true%2C%20%22weight%22%3A%203%7D%0A%20%20%20%20%20%20%20%20%20%20%20%20%29.addTo%28map_a1d00f7722f64a9393b48021895cff65%29%3B%0A%20%20%20%20%20%20%20%20%0A%20%20%20%20%0A%20%20%20%20%20%20%20%20%20%20%20%20circle_43c01999f96d4e6a8f4c5524afc2031d.bindTooltip%28%0A%20%20%20%20%20%20%20%20%20%20%20%20%20%20%20%20%60%3Cdiv%3E%0A%20%20%20%20%20%20%20%20%20%20%20%20%20%20%20%20%20%20%20%20%20%3Cdiv%20style%3D%27margin%3A%200%3B%20background-color%3A%20black%3B%20color%3A%20white%3B%27%3E%3Ch4%20style%3D%27text-align%3Acenter%3Bfont-weight%3A%20bold%27%3EGhana%3C/h4%3E%3Chr%20style%3D%27margin%3A10px%3Bcolor%3A%20white%3B%27%3E%3Cul%20style%3D%27color%3A%20white%3B%3Blist-style-type%3Acircle%3Balign-item%3Aleft%3Bpadding-left%3A20px%3Bpadding-right%3A20px%27%3E%3Cli%3EConfirmed%3A%2092828%3C/li%3E%3Cli%3EDeaths%3A%20%20%204207%3C/li%3E%3Cli%3EDeath%20Rate%3A%204.53%3C/li%3E%3C/ul%3E%3C/div%3E%0A%20%20%20%20%20%20%20%20%20%20%20%20%20%20%20%20%20%3C/div%3E%60%2C%0A%20%20%20%20%20%20%20%20%20%20%20%20%20%20%20%20%7B%22sticky%22%3A%20true%7D%0A%20%20%20%20%20%20%20%20%20%20%20%20%29%3B%0A%20%20%20%20%20%20%20%20%0A%20%20%20%20%0A%20%20%20%20%20%20%20%20%20%20%20%20var%20circle_ced1d7467af04d2ca526a4a6a4a72a6e%20%3D%20L.circle%28%0A%20%20%20%20%20%20%20%20%20%20%20%20%20%20%20%20%5B39.0742%2C%2021.8243%5D%2C%0A%20%20%20%20%20%20%20%20%20%20%20%20%20%20%20%20%7B%22bubblingMouseEvents%22%3A%20true%2C%20%22color%22%3A%20%22red%22%2C%20%22dashArray%22%3A%20null%2C%20%22dashOffset%22%3A%20null%2C%20%22fill%22%3A%20true%2C%20%22fillColor%22%3A%20%22indigo%22%2C%20%22fillOpacity%22%3A%200.2%2C%20%22fillRule%22%3A%20%22evenodd%22%2C%20%22lineCap%22%3A%20%22round%22%2C%20%22lineJoin%22%3A%20%22round%22%2C%20%22opacity%22%3A%201.0%2C%20%22radius%22%3A%2061000.0%2C%20%22stroke%22%3A%20true%2C%20%22weight%22%3A%203%7D%0A%20%20%20%20%20%20%20%20%20%20%20%20%29.addTo%28map_a1d00f7722f64a9393b48021895cff65%29%3B%0A%20%20%20%20%20%20%20%20%0A%20%20%20%20%0A%20%20%20%20%20%20%20%20%20%20%20%20circle_ced1d7467af04d2ca526a4a6a4a72a6e.bindTooltip%28%0A%20%20%20%20%20%20%20%20%20%20%20%20%20%20%20%20%60%3Cdiv%3E%0A%20%20%20%20%20%20%20%20%20%20%20%20%20%20%20%20%20%20%20%20%20%3Cdiv%20style%3D%27margin%3A%200%3B%20background-color%3A%20black%3B%20color%3A%20white%3B%27%3E%3Ch4%20style%3D%27text-align%3Acenter%3Bfont-weight%3A%20bold%27%3EGreece%3C/h4%3E%3Chr%20style%3D%27margin%3A10px%3Bcolor%3A%20white%3B%27%3E%3Cul%20style%3D%27color%3A%20white%3B%3Blist-style-type%3Acircle%3Balign-item%3Aleft%3Bpadding-left%3A20px%3Bpadding-right%3A20px%27%3E%3Cli%3EConfirmed%3A%20352027%3C/li%3E%3Cli%3EDeaths%3A%20%20%2084141%3C/li%3E%3Cli%3EDeath%20Rate%3A%2023.9%3C/li%3E%3C/ul%3E%3C/div%3E%0A%20%20%20%20%20%20%20%20%20%20%20%20%20%20%20%20%20%3C/div%3E%60%2C%0A%20%20%20%20%20%20%20%20%20%20%20%20%20%20%20%20%7B%22sticky%22%3A%20true%7D%0A%20%20%20%20%20%20%20%20%20%20%20%20%29%3B%0A%20%20%20%20%20%20%20%20%0A%20%20%20%20%0A%20%20%20%20%20%20%20%20%20%20%20%20var%20circle_b4e4a43a2adb4f28b7eb7c8d0bc64674%20%3D%20L.circle%28%0A%20%20%20%20%20%20%20%20%20%20%20%20%20%20%20%20%5B12.1165%2C%20-61.678999999999995%5D%2C%0A%20%20%20%20%20%20%20%20%20%20%20%20%20%20%20%20%7B%22bubblingMouseEvents%22%3A%20true%2C%20%22color%22%3A%20%22red%22%2C%20%22dashArray%22%3A%20null%2C%20%22dashOffset%22%3A%20null%2C%20%22fill%22%3A%20true%2C%20%22fillColor%22%3A%20%22indigo%22%2C%20%22fillOpacity%22%3A%200.2%2C%20%22fillRule%22%3A%20%22evenodd%22%2C%20%22lineCap%22%3A%20%22round%22%2C%20%22lineJoin%22%3A%20%22round%22%2C%20%22opacity%22%3A%201.0%2C%20%22radius%22%3A%2026000.0%2C%20%22stroke%22%3A%20true%2C%20%22weight%22%3A%203%7D%0A%20%20%20%20%20%20%20%20%20%20%20%20%29.addTo%28map_a1d00f7722f64a9393b48021895cff65%29%3B%0A%20%20%20%20%20%20%20%20%0A%20%20%20%20%0A%20%20%20%20%20%20%20%20%20%20%20%20circle_b4e4a43a2adb4f28b7eb7c8d0bc64674.bindTooltip%28%0A%20%20%20%20%20%20%20%20%20%20%20%20%20%20%20%20%60%3Cdiv%3E%0A%20%20%20%20%20%20%20%20%20%20%20%20%20%20%20%20%20%20%20%20%20%3Cdiv%20style%3D%27margin%3A%200%3B%20background-color%3A%20black%3B%20color%3A%20white%3B%27%3E%3Ch4%20style%3D%27text-align%3Acenter%3Bfont-weight%3A%20bold%27%3EGrenada%3C/h4%3E%3Chr%20style%3D%27margin%3A10px%3Bcolor%3A%20white%3B%27%3E%3Cul%20style%3D%27color%3A%20white%3B%3Blist-style-type%3Acircle%3Balign-item%3Aleft%3Bpadding-left%3A20px%3Bpadding-right%3A20px%27%3E%3Cli%3EConfirmed%3A%20160%3C/li%3E%3Cli%3EDeaths%3A%20%20%20783%3C/li%3E%3Cli%3EDeath%20Rate%3A%20486.34%3C/li%3E%3C/ul%3E%3C/div%3E%0A%20%20%20%20%20%20%20%20%20%20%20%20%20%20%20%20%20%3C/div%3E%60%2C%0A%20%20%20%20%20%20%20%20%20%20%20%20%20%20%20%20%7B%22sticky%22%3A%20true%7D%0A%20%20%20%20%20%20%20%20%20%20%20%20%29%3B%0A%20%20%20%20%20%20%20%20%0A%20%20%20%20%0A%20%20%20%20%20%20%20%20%20%20%20%20var%20circle_45b8bdbf6d254085a43d721d69481445%20%3D%20L.circle%28%0A%20%20%20%20%20%20%20%20%20%20%20%20%20%20%20%20%5B15.7835%2C%20-90.2308%5D%2C%0A%20%20%20%20%20%20%20%20%20%20%20%20%20%20%20%20%7B%22bubblingMouseEvents%22%3A%20true%2C%20%22color%22%3A%20%22red%22%2C%20%22dashArray%22%3A%20null%2C%20%22dashOffset%22%3A%20null%2C%20%22fill%22%3A%20true%2C%20%22fillColor%22%3A%20%22indigo%22%2C%20%22fillOpacity%22%3A%200.2%2C%20%22fillRule%22%3A%20%22evenodd%22%2C%20%22lineCap%22%3A%20%22round%22%2C%20%22lineJoin%22%3A%20%22round%22%2C%20%22opacity%22%3A%201.0%2C%20%22radius%22%3A%2061000.0%2C%20%22stroke%22%3A%20true%2C%20%22weight%22%3A%203%7D%0A%20%20%20%20%20%20%20%20%20%20%20%20%29.addTo%28map_a1d00f7722f64a9393b48021895cff65%29%3B%0A%20%20%20%20%20%20%20%20%0A%20%20%20%20%0A%20%20%20%20%20%20%20%20%20%20%20%20circle_45b8bdbf6d254085a43d721d69481445.bindTooltip%28%0A%20%20%20%20%20%20%20%20%20%20%20%20%20%20%20%20%60%3Cdiv%3E%0A%20%20%20%20%20%20%20%20%20%20%20%20%20%20%20%20%20%20%20%20%20%3Cdiv%20style%3D%27margin%3A%200%3B%20background-color%3A%20black%3B%20color%3A%20white%3B%27%3E%3Ch4%20style%3D%27text-align%3Acenter%3Bfont-weight%3A%20bold%27%3EGuatemala%3C/h4%3E%3Chr%20style%3D%27margin%3A10px%3Bcolor%3A%20white%3B%27%3E%3Cul%20style%3D%27color%3A%20white%3B%3Blist-style-type%3Acircle%3Balign-item%3Aleft%3Bpadding-left%3A20px%3Bpadding-right%3A20px%27%3E%3Cli%3EConfirmed%3A%20231289%3C/li%3E%3Cli%3EDeaths%3A%20%20%2010764%3C/li%3E%3Cli%3EDeath%20Rate%3A%204.65%3C/li%3E%3C/ul%3E%3C/div%3E%0A%20%20%20%20%20%20%20%20%20%20%20%20%20%20%20%20%20%3C/div%3E%60%2C%0A%20%20%20%20%20%20%20%20%20%20%20%20%20%20%20%20%7B%22sticky%22%3A%20true%7D%0A%20%20%20%20%20%20%20%20%20%20%20%20%29%3B%0A%20%20%20%20%20%20%20%20%0A%20%20%20%20%0A%20%20%20%20%20%20%20%20%20%20%20%20var%20circle_524b7fef198a46ebace4b8fe7ac582c8%20%3D%20L.circle%28%0A%20%20%20%20%20%20%20%20%20%20%20%20%20%20%20%20%5B9.9456%2C%20-9.6966%5D%2C%0A%20%20%20%20%20%20%20%20%20%20%20%20%20%20%20%20%7B%22bubblingMouseEvents%22%3A%20true%2C%20%22color%22%3A%20%22red%22%2C%20%22dashArray%22%3A%20null%2C%20%22dashOffset%22%3A%20null%2C%20%22fill%22%3A%20true%2C%20%22fillColor%22%3A%20%22indigo%22%2C%20%22fillOpacity%22%3A%200.2%2C%20%22fillRule%22%3A%20%22evenodd%22%2C%20%22lineCap%22%3A%20%22round%22%2C%20%22lineJoin%22%3A%20%22round%22%2C%20%22opacity%22%3A%201.0%2C%20%22radius%22%3A%2051000.0%2C%20%22stroke%22%3A%20true%2C%20%22weight%22%3A%203%7D%0A%20%20%20%20%20%20%20%20%20%20%20%20%29.addTo%28map_a1d00f7722f64a9393b48021895cff65%29%3B%0A%20%20%20%20%20%20%20%20%0A%20%20%20%20%0A%20%20%20%20%20%20%20%20%20%20%20%20circle_524b7fef198a46ebace4b8fe7ac582c8.bindTooltip%28%0A%20%20%20%20%20%20%20%20%20%20%20%20%20%20%20%20%60%3Cdiv%3E%0A%20%20%20%20%20%20%20%20%20%20%20%20%20%20%20%20%20%20%20%20%20%3Cdiv%20style%3D%27margin%3A%200%3B%20background-color%3A%20black%3B%20color%3A%20white%3B%27%3E%3Ch4%20style%3D%27text-align%3Acenter%3Bfont-weight%3A%20bold%27%3EGuinea%3C/h4%3E%3Chr%20style%3D%27margin%3A10px%3Bcolor%3A%20white%3B%27%3E%3Cul%20style%3D%27color%3A%20white%3B%3Blist-style-type%3Acircle%3Balign-item%3Aleft%3Bpadding-left%3A20px%3Bpadding-right%3A20px%27%3E%3Cli%3EConfirmed%3A%2022468%3C/li%3E%3Cli%3EDeaths%3A%20%20%201%3C/li%3E%3Cli%3EDeath%20Rate%3A%200.0%3C/li%3E%3C/ul%3E%3C/div%3E%0A%20%20%20%20%20%20%20%20%20%20%20%20%20%20%20%20%20%3C/div%3E%60%2C%0A%20%20%20%20%20%20%20%20%20%20%20%20%20%20%20%20%7B%22sticky%22%3A%20true%7D%0A%20%20%20%20%20%20%20%20%20%20%20%20%29%3B%0A%20%20%20%20%20%20%20%20%0A%20%20%20%20%0A%20%20%20%20%20%20%20%20%20%20%20%20var%20circle_ca0e870642f045ff82134ee0ceeb7f27%20%3D%20L.circle%28%0A%20%20%20%20%20%20%20%20%20%20%20%20%20%20%20%20%5B11.8037%2C%20-15.1804%5D%2C%0A%20%20%20%20%20%20%20%20%20%20%20%20%20%20%20%20%7B%22bubblingMouseEvents%22%3A%20true%2C%20%22color%22%3A%20%22red%22%2C%20%22dashArray%22%3A%20null%2C%20%22dashOffset%22%3A%20null%2C%20%22fill%22%3A%20true%2C%20%22fillColor%22%3A%20%22indigo%22%2C%20%22fillOpacity%22%3A%200.2%2C%20%22fillRule%22%3A%20%22evenodd%22%2C%20%22lineCap%22%3A%20%22round%22%2C%20%22lineJoin%22%3A%20%22round%22%2C%20%22opacity%22%3A%201.0%2C%20%22radius%22%3A%2041000.0%2C%20%22stroke%22%3A%20true%2C%20%22weight%22%3A%203%7D%0A%20%20%20%20%20%20%20%20%20%20%20%20%29.addTo%28map_a1d00f7722f64a9393b48021895cff65%29%3B%0A%20%20%20%20%20%20%20%20%0A%20%20%20%20%0A%20%20%20%20%20%20%20%20%20%20%20%20circle_ca0e870642f045ff82134ee0ceeb7f27.bindTooltip%28%0A%20%20%20%20%20%20%20%20%20%20%20%20%20%20%20%20%60%3Cdiv%3E%0A%20%20%20%20%20%20%20%20%20%20%20%20%20%20%20%20%20%20%20%20%20%3Cdiv%20style%3D%27margin%3A%200%3B%20background-color%3A%20black%3B%20color%3A%20white%3B%27%3E%3Ch4%20style%3D%27text-align%3Acenter%3Bfont-weight%3A%20bold%27%3EGuinea-Bissau%3C/h4%3E%3Chr%20style%3D%27margin%3A10px%3Bcolor%3A%20white%3B%27%3E%3Cul%20style%3D%27color%3A%20white%3B%3Blist-style-type%3Acircle%3Balign-item%3Aleft%3Bpadding-left%3A20px%3Bpadding-right%3A20px%27%3E%3Cli%3EConfirmed%3A%203738%3C/li%3E%3Cli%3EDeaths%3A%20%20%207642%3C/li%3E%3Cli%3EDeath%20Rate%3A%20204.39%3C/li%3E%3C/ul%3E%3C/div%3E%0A%20%20%20%20%20%20%20%20%20%20%20%20%20%20%20%20%20%3C/div%3E%60%2C%0A%20%20%20%20%20%20%20%20%20%20%20%20%20%20%20%20%7B%22sticky%22%3A%20true%7D%0A%20%20%20%20%20%20%20%20%20%20%20%20%29%3B%0A%20%20%20%20%20%20%20%20%0A%20%20%20%20%0A%20%20%20%20%20%20%20%20%20%20%20%20var%20circle_0ee3e3210f614d59a6caa67eccb484b6%20%3D%20L.circle%28%0A%20%20%20%20%20%20%20%20%20%20%20%20%20%20%20%20%5B4.860416000000001%2C%20-58.93018000000001%5D%2C%0A%20%20%20%20%20%20%20%20%20%20%20%20%20%20%20%20%7B%22bubblingMouseEvents%22%3A%20true%2C%20%22color%22%3A%20%22red%22%2C%20%22dashArray%22%3A%20null%2C%20%22dashOffset%22%3A%20null%2C%20%22fill%22%3A%20true%2C%20%22fillColor%22%3A%20%22indigo%22%2C%20%22fillOpacity%22%3A%200.2%2C%20%22fillRule%22%3A%20%22evenodd%22%2C%20%22lineCap%22%3A%20%22round%22%2C%20%22lineJoin%22%3A%20%22round%22%2C%20%22opacity%22%3A%201.0%2C%20%22radius%22%3A%2046000.0%2C%20%22stroke%22%3A%20true%2C%20%22weight%22%3A%203%7D%0A%20%20%20%20%20%20%20%20%20%20%20%20%29.addTo%28map_a1d00f7722f64a9393b48021895cff65%29%3B%0A%20%20%20%20%20%20%20%20%0A%20%20%20%20%0A%20%20%20%20%20%20%20%20%20%20%20%20circle_0ee3e3210f614d59a6caa67eccb484b6.bindTooltip%28%0A%20%20%20%20%20%20%20%20%20%20%20%20%20%20%20%20%60%3Cdiv%3E%0A%20%20%20%20%20%20%20%20%20%20%20%20%20%20%20%20%20%20%20%20%20%3Cdiv%20style%3D%27margin%3A%200%3B%20background-color%3A%20black%3B%20color%3A%20white%3B%27%3E%3Ch4%20style%3D%27text-align%3Acenter%3Bfont-weight%3A%20bold%27%3EGuyana%3C/h4%3E%3Chr%20style%3D%27margin%3A10px%3Bcolor%3A%20white%3B%27%3E%3Cul%20style%3D%27color%3A%20white%3B%3Blist-style-type%3Acircle%3Balign-item%3Aleft%3Bpadding-left%3A20px%3Bpadding-right%3A20px%27%3E%3Cli%3EConfirmed%3A%2013829%3C/li%3E%3Cli%3EDeaths%3A%20%20%20148%3C/li%3E%3Cli%3EDeath%20Rate%3A%201.07%3C/li%3E%3C/ul%3E%3C/div%3E%0A%20%20%20%20%20%20%20%20%20%20%20%20%20%20%20%20%20%3C/div%3E%60%2C%0A%20%20%20%20%20%20%20%20%20%20%20%20%20%20%20%20%7B%22sticky%22%3A%20true%7D%0A%20%20%20%20%20%20%20%20%20%20%20%20%29%3B%0A%20%20%20%20%20%20%20%20%0A%20%20%20%20%0A%20%20%20%20%20%20%20%20%20%20%20%20var%20circle_76aba17d474a4bde88a481b3210c421b%20%3D%20L.circle%28%0A%20%20%20%20%20%20%20%20%20%20%20%20%20%20%20%20%5B18.9712%2C%20-72.2852%5D%2C%0A%20%20%20%20%20%20%20%20%20%20%20%20%20%20%20%20%7B%22bubblingMouseEvents%22%3A%20true%2C%20%22color%22%3A%20%22red%22%2C%20%22dashArray%22%3A%20null%2C%20%22dashOffset%22%3A%20null%2C%20%22fill%22%3A%20true%2C%20%22fillColor%22%3A%20%22indigo%22%2C%20%22fillOpacity%22%3A%200.2%2C%20%22fillRule%22%3A%20%22evenodd%22%2C%20%22lineCap%22%3A%20%22round%22%2C%20%22lineJoin%22%3A%20%22round%22%2C%20%22opacity%22%3A%201.0%2C%20%22radius%22%3A%2046000.0%2C%20%22stroke%22%3A%20true%2C%20%22weight%22%3A%203%7D%0A%20%20%20%20%20%20%20%20%20%20%20%20%29.addTo%28map_a1d00f7722f64a9393b48021895cff65%29%3B%0A%20%20%20%20%20%20%20%20%0A%20%20%20%20%0A%20%20%20%20%20%20%20%20%20%20%20%20circle_76aba17d474a4bde88a481b3210c421b.bindTooltip%28%0A%20%20%20%20%20%20%20%20%20%20%20%20%20%20%20%20%60%3Cdiv%3E%0A%20%20%20%20%20%20%20%20%20%20%20%20%20%20%20%20%20%20%20%20%20%3Cdiv%20style%3D%27margin%3A%200%3B%20background-color%3A%20black%3B%20color%3A%20white%3B%27%3E%3Ch4%20style%3D%27text-align%3Acenter%3Bfont-weight%3A%20bold%27%3EHaiti%3C/h4%3E%3Chr%20style%3D%27margin%3A10px%3Bcolor%3A%20white%3B%27%3E%3Cul%20style%3D%27color%3A%20white%3B%3Blist-style-type%3Acircle%3Balign-item%3Aleft%3Bpadding-left%3A20px%3Bpadding-right%3A20px%27%3E%3Cli%3EConfirmed%3A%2013149%3C/li%3E%3Cli%3EDeaths%3A%20%20%2067%3C/li%3E%3Cli%3EDeath%20Rate%3A%200.51%3C/li%3E%3C/ul%3E%3C/div%3E%0A%20%20%20%20%20%20%20%20%20%20%20%20%20%20%20%20%20%3C/div%3E%60%2C%0A%20%20%20%20%20%20%20%20%20%20%20%20%20%20%20%20%7B%22sticky%22%3A%20true%7D%0A%20%20%20%20%20%20%20%20%20%20%20%20%29%3B%0A%20%20%20%20%20%20%20%20%0A%20%20%20%20%0A%20%20%20%20%20%20%20%20%20%20%20%20var%20circle_7af036ce4aa043ce95a0e568b53cef06%20%3D%20L.circle%28%0A%20%20%20%20%20%20%20%20%20%20%20%20%20%20%20%20%5B41.9029%2C%2012.4534%5D%2C%0A%20%20%20%20%20%20%20%20%20%20%20%20%20%20%20%20%7B%22bubblingMouseEvents%22%3A%20true%2C%20%22color%22%3A%20%22red%22%2C%20%22dashArray%22%3A%20null%2C%20%22dashOffset%22%3A%20null%2C%20%22fill%22%3A%20true%2C%20%22fillColor%22%3A%20%22indigo%22%2C%20%22fillOpacity%22%3A%200.2%2C%20%22fillRule%22%3A%20%22evenodd%22%2C%20%22lineCap%22%3A%20%22round%22%2C%20%22lineJoin%22%3A%20%22round%22%2C%20%22opacity%22%3A%201.0%2C%20%22radius%22%3A%2016000.0%2C%20%22stroke%22%3A%20true%2C%20%22weight%22%3A%203%7D%0A%20%20%20%20%20%20%20%20%20%20%20%20%29.addTo%28map_a1d00f7722f64a9393b48021895cff65%29%3B%0A%20%20%20%20%20%20%20%20%0A%20%20%20%20%0A%20%20%20%20%20%20%20%20%20%20%20%20circle_7af036ce4aa043ce95a0e568b53cef06.bindTooltip%28%0A%20%20%20%20%20%20%20%20%20%20%20%20%20%20%20%20%60%3Cdiv%3E%0A%20%20%20%20%20%20%20%20%20%20%20%20%20%20%20%20%20%20%20%20%20%3Cdiv%20style%3D%27margin%3A%200%3B%20background-color%3A%20black%3B%20color%3A%20white%3B%27%3E%3Ch4%20style%3D%27text-align%3Acenter%3Bfont-weight%3A%20bold%27%3EHoly%20See%3C/h4%3E%3Chr%20style%3D%27margin%3A10px%3Bcolor%3A%20white%3B%27%3E%3Cul%20style%3D%27color%3A%20white%3B%3Blist-style-type%3Acircle%3Balign-item%3Aleft%3Bpadding-left%3A20px%3Bpadding-right%3A20px%27%3E%3Cli%3EConfirmed%3A%2027%3C/li%3E%3Cli%3EDeaths%3A%20%20%20308%3C/li%3E%3Cli%3EDeath%20Rate%3A%201100.0%3C/li%3E%3C/ul%3E%3C/div%3E%0A%20%20%20%20%20%20%20%20%20%20%20%20%20%20%20%20%20%3C/div%3E%60%2C%0A%20%20%20%20%20%20%20%20%20%20%20%20%20%20%20%20%7B%22sticky%22%3A%20true%7D%0A%20%20%20%20%20%20%20%20%20%20%20%20%29%3B%0A%20%20%20%20%20%20%20%20%0A%20%20%20%20%0A%20%20%20%20%20%20%20%20%20%20%20%20var%20circle_e719df395d8b4cc28538da6d06652305%20%3D%20L.circle%28%0A%20%20%20%20%20%20%20%20%20%20%20%20%20%20%20%20%5B15.2%2C%20-86.2419%5D%2C%0A%20%20%20%20%20%20%20%20%20%20%20%20%20%20%20%20%7B%22bubblingMouseEvents%22%3A%20true%2C%20%22color%22%3A%20%22red%22%2C%20%22dashArray%22%3A%20null%2C%20%22dashOffset%22%3A%20null%2C%20%22fill%22%3A%20true%2C%20%22fillColor%22%3A%20%22indigo%22%2C%20%22fillOpacity%22%3A%200.2%2C%20%22fillRule%22%3A%20%22evenodd%22%2C%20%22lineCap%22%3A%20%22round%22%2C%20%22lineJoin%22%3A%20%22round%22%2C%20%22opacity%22%3A%201.0%2C%20%22radius%22%3A%2061000.0%2C%20%22stroke%22%3A%20true%2C%20%22weight%22%3A%203%7D%0A%20%20%20%20%20%20%20%20%20%20%20%20%29.addTo%28map_a1d00f7722f64a9393b48021895cff65%29%3B%0A%20%20%20%20%20%20%20%20%0A%20%20%20%20%0A%20%20%20%20%20%20%20%20%20%20%20%20circle_e719df395d8b4cc28538da6d06652305.bindTooltip%28%0A%20%20%20%20%20%20%20%20%20%20%20%20%20%20%20%20%60%3Cdiv%3E%0A%20%20%20%20%20%20%20%20%20%20%20%20%20%20%20%20%20%20%20%20%20%3Cdiv%20style%3D%27margin%3A%200%3B%20background-color%3A%20black%3B%20color%3A%20white%3B%27%3E%3Ch4%20style%3D%27text-align%3Acenter%3Bfont-weight%3A%20bold%27%3EHonduras%3C/h4%3E%3Chr%20style%3D%27margin%3A10px%3Bcolor%3A%20white%3B%27%3E%3Cul%20style%3D%27color%3A%20white%3B%3Blist-style-type%3Acircle%3Balign-item%3Aleft%3Bpadding-left%3A20px%3Bpadding-right%3A20px%27%3E%3Cli%3EConfirmed%3A%20216964%3C/li%3E%3Cli%3EDeaths%3A%20%20%20260%3C/li%3E%3Cli%3EDeath%20Rate%3A%200.12%3C/li%3E%3C/ul%3E%3C/div%3E%0A%20%20%20%20%20%20%20%20%20%20%20%20%20%20%20%20%20%3C/div%3E%60%2C%0A%20%20%20%20%20%20%20%20%20%20%20%20%20%20%20%20%7B%22sticky%22%3A%20true%7D%0A%20%20%20%20%20%20%20%20%20%20%20%20%29%3B%0A%20%20%20%20%20%20%20%20%0A%20%20%20%20%0A%20%20%20%20%20%20%20%20%20%20%20%20var%20circle_84cd55e7c94649e6bff00eda0182ce18%20%3D%20L.circle%28%0A%20%20%20%20%20%20%20%20%20%20%20%20%20%20%20%20%5B47.1625%2C%2019.5033%5D%2C%0A%20%20%20%20%20%20%20%20%20%20%20%20%20%20%20%20%7B%22bubblingMouseEvents%22%3A%20true%2C%20%22color%22%3A%20%22red%22%2C%20%22dashArray%22%3A%20null%2C%20%22dashOffset%22%3A%20null%2C%20%22fill%22%3A%20true%2C%20%22fillColor%22%3A%20%22indigo%22%2C%20%22fillOpacity%22%3A%200.2%2C%20%22fillRule%22%3A%20%22evenodd%22%2C%20%22lineCap%22%3A%20%22round%22%2C%20%22lineJoin%22%3A%20%22round%22%2C%20%22opacity%22%3A%201.0%2C%20%22radius%22%3A%2066000.0%2C%20%22stroke%22%3A%20true%2C%20%22weight%22%3A%203%7D%0A%20%20%20%20%20%20%20%20%20%20%20%20%29.addTo%28map_a1d00f7722f64a9393b48021895cff65%29%3B%0A%20%20%20%20%20%20%20%20%0A%20%20%20%20%0A%20%20%20%20%20%20%20%20%20%20%20%20circle_84cd55e7c94649e6bff00eda0182ce18.bindTooltip%28%0A%20%20%20%20%20%20%20%20%20%20%20%20%20%20%20%20%60%3Cdiv%3E%0A%20%20%20%20%20%20%20%20%20%20%20%20%20%20%20%20%20%20%20%20%20%3Cdiv%20style%3D%27margin%3A%200%3B%20background-color%3A%20black%3B%20color%3A%20white%3B%27%3E%3Ch4%20style%3D%27text-align%3Acenter%3Bfont-weight%3A%20bold%27%3EHungary%3C/h4%3E%3Chr%20style%3D%27margin%3A10px%3Bcolor%3A%20white%3B%27%3E%3Cul%20style%3D%27color%3A%20white%3B%3Blist-style-type%3Acircle%3Balign-item%3Aleft%3Bpadding-left%3A20px%3Bpadding-right%3A20px%27%3E%3Cli%3EConfirmed%3A%20785967%3C/li%3E%3Cli%3EDeaths%3A%20%20%200%3C/li%3E%3Cli%3EDeath%20Rate%3A%200.0%3C/li%3E%3C/ul%3E%3C/div%3E%0A%20%20%20%20%20%20%20%20%20%20%20%20%20%20%20%20%20%3C/div%3E%60%2C%0A%20%20%20%20%20%20%20%20%20%20%20%20%20%20%20%20%7B%22sticky%22%3A%20true%7D%0A%20%20%20%20%20%20%20%20%20%20%20%20%29%3B%0A%20%20%20%20%20%20%20%20%0A%20%20%20%20%0A%20%20%20%20%20%20%20%20%20%20%20%20var%20circle_630ac0ab2264453bb411dabc295d6c61%20%3D%20L.circle%28%0A%20%20%20%20%20%20%20%20%20%20%20%20%20%20%20%20%5B64.9631%2C%20-19.0208%5D%2C%0A%20%20%20%20%20%20%20%20%20%20%20%20%20%20%20%20%7B%22bubblingMouseEvents%22%3A%20true%2C%20%22color%22%3A%20%22red%22%2C%20%22dashArray%22%3A%20null%2C%20%22dashOffset%22%3A%20null%2C%20%22fill%22%3A%20true%2C%20%22fillColor%22%3A%20%22indigo%22%2C%20%22fillOpacity%22%3A%200.2%2C%20%22fillRule%22%3A%20%22evenodd%22%2C%20%22lineCap%22%3A%20%22round%22%2C%20%22lineJoin%22%3A%20%22round%22%2C%20%22opacity%22%3A%201.0%2C%20%22radius%22%3A%2041000.0%2C%20%22stroke%22%3A%20true%2C%20%22weight%22%3A%203%7D%0A%20%20%20%20%20%20%20%20%20%20%20%20%29.addTo%28map_a1d00f7722f64a9393b48021895cff65%29%3B%0A%20%20%20%20%20%20%20%20%0A%20%20%20%20%0A%20%20%20%20%20%20%20%20%20%20%20%20circle_630ac0ab2264453bb411dabc295d6c61.bindTooltip%28%0A%20%20%20%20%20%20%20%20%20%20%20%20%20%20%20%20%60%3Cdiv%3E%0A%20%20%20%20%20%20%20%20%20%20%20%20%20%20%20%20%20%20%20%20%20%3Cdiv%20style%3D%27margin%3A%200%3B%20background-color%3A%20black%3B%20color%3A%20white%3B%27%3E%3Ch4%20style%3D%27text-align%3Acenter%3Bfont-weight%3A%20bold%27%3EIceland%3C/h4%3E%3Chr%20style%3D%27margin%3A10px%3Bcolor%3A%20white%3B%27%3E%3Cul%20style%3D%27color%3A%20white%3B%3Blist-style-type%3Acircle%3Balign-item%3Aleft%3Bpadding-left%3A20px%3Bpadding-right%3A20px%27%3E%3Cli%3EConfirmed%3A%206497%3C/li%3E%3Cli%3EDeaths%3A%20%20%205439%3C/li%3E%3Cli%3EDeath%20Rate%3A%2083.7%3C/li%3E%3C/ul%3E%3C/div%3E%0A%20%20%20%20%20%20%20%20%20%20%20%20%20%20%20%20%20%3C/div%3E%60%2C%0A%20%20%20%20%20%20%20%20%20%20%20%20%20%20%20%20%7B%22sticky%22%3A%20true%7D%0A%20%20%20%20%20%20%20%20%20%20%20%20%29%3B%0A%20%20%20%20%20%20%20%20%0A%20%20%20%20%0A%20%20%20%20%20%20%20%20%20%20%20%20var%20circle_6c4785bb893a4c3183239f4e02e600d8%20%3D%20L.circle%28%0A%20%20%20%20%20%20%20%20%20%20%20%20%20%20%20%20%5B20.593684%2C%2078.96288%5D%2C%0A%20%20%20%20%20%20%20%20%20%20%20%20%20%20%20%20%7B%22bubblingMouseEvents%22%3A%20true%2C%20%22color%22%3A%20%22red%22%2C%20%22dashArray%22%3A%20null%2C%20%22dashOffset%22%3A%20null%2C%20%22fill%22%3A%20true%2C%20%22fillColor%22%3A%20%22indigo%22%2C%20%22fillOpacity%22%3A%200.2%2C%20%22fillRule%22%3A%20%22evenodd%22%2C%20%22lineCap%22%3A%20%22round%22%2C%20%22lineJoin%22%3A%20%22round%22%2C%20%22opacity%22%3A%201.0%2C%20%22radius%22%3A%2081000.0%2C%20%22stroke%22%3A%20true%2C%20%22weight%22%3A%203%7D%0A%20%20%20%20%20%20%20%20%20%20%20%20%29.addTo%28map_a1d00f7722f64a9393b48021895cff65%29%3B%0A%20%20%20%20%20%20%20%20%0A%20%20%20%20%0A%20%20%20%20%20%20%20%20%20%20%20%20circle_6c4785bb893a4c3183239f4e02e600d8.bindTooltip%28%0A%20%20%20%20%20%20%20%20%20%20%20%20%20%20%20%20%60%3Cdiv%3E%0A%20%20%20%20%20%20%20%20%20%20%20%20%20%20%20%20%20%20%20%20%20%3Cdiv%20style%3D%27margin%3A%200%3B%20background-color%3A%20black%3B%20color%3A%20white%3B%27%3E%3Ch4%20style%3D%27text-align%3Acenter%3Bfont-weight%3A%20bold%27%3EIndia%3C/h4%3E%3Chr%20style%3D%27margin%3A10px%3Bcolor%3A%20white%3B%27%3E%3Cul%20style%3D%27color%3A%20white%3B%3Blist-style-type%3Acircle%3Balign-item%3Aleft%3Bpadding-left%3A20px%3Bpadding-right%3A20px%27%3E%3Cli%3EConfirmed%3A%2021077410%3C/li%3E%3Cli%3EDeaths%3A%20%20%2028173%3C/li%3E%3Cli%3EDeath%20Rate%3A%200.13%3C/li%3E%3C/ul%3E%3C/div%3E%0A%20%20%20%20%20%20%20%20%20%20%20%20%20%20%20%20%20%3C/div%3E%60%2C%0A%20%20%20%20%20%20%20%20%20%20%20%20%20%20%20%20%7B%22sticky%22%3A%20true%7D%0A%20%20%20%20%20%20%20%20%20%20%20%20%29%3B%0A%20%20%20%20%20%20%20%20%0A%20%20%20%20%0A%20%20%20%20%20%20%20%20%20%20%20%20var%20circle_ec6ce3de9adf4df69c013a5c5da5e4cc%20%3D%20L.circle%28%0A%20%20%20%20%20%20%20%20%20%20%20%20%20%20%20%20%5B-0.7893%2C%20113.9213%5D%2C%0A%20%20%20%20%20%20%20%20%20%20%20%20%20%20%20%20%7B%22bubblingMouseEvents%22%3A%20true%2C%20%22color%22%3A%20%22red%22%2C%20%22dashArray%22%3A%20null%2C%20%22dashOffset%22%3A%20null%2C%20%22fill%22%3A%20true%2C%20%22fillColor%22%3A%20%22indigo%22%2C%20%22fillOpacity%22%3A%200.2%2C%20%22fillRule%22%3A%20%22evenodd%22%2C%20%22lineCap%22%3A%20%22round%22%2C%20%22lineJoin%22%3A%20%22round%22%2C%20%22opacity%22%3A%201.0%2C%20%22radius%22%3A%2071000.0%2C%20%22stroke%22%3A%20true%2C%20%22weight%22%3A%203%7D%0A%20%20%20%20%20%20%20%20%20%20%20%20%29.addTo%28map_a1d00f7722f64a9393b48021895cff65%29%3B%0A%20%20%20%20%20%20%20%20%0A%20%20%20%20%0A%20%20%20%20%20%20%20%20%20%20%20%20circle_ec6ce3de9adf4df69c013a5c5da5e4cc.bindTooltip%28%0A%20%20%20%20%20%20%20%20%20%20%20%20%20%20%20%20%60%3Cdiv%3E%0A%20%20%20%20%20%20%20%20%20%20%20%20%20%20%20%20%20%20%20%20%20%3Cdiv%20style%3D%27margin%3A%200%3B%20background-color%3A%20black%3B%20color%3A%20white%3B%27%3E%3Ch4%20style%3D%27text-align%3Acenter%3Bfont-weight%3A%20bold%27%3EIndonesia%3C/h4%3E%3Chr%20style%3D%27margin%3A10px%3Bcolor%3A%20white%3B%27%3E%3Cul%20style%3D%27color%3A%20white%3B%3Blist-style-type%3Acircle%3Balign-item%3Aleft%3Bpadding-left%3A20px%3Bpadding-right%3A20px%27%3E%3Cli%3EConfirmed%3A%201691658%3C/li%3E%3Cli%3EDeaths%3A%20%20%2029%3C/li%3E%3Cli%3EDeath%20Rate%3A%200.0%3C/li%3E%3C/ul%3E%3C/div%3E%0A%20%20%20%20%20%20%20%20%20%20%20%20%20%20%20%20%20%3C/div%3E%60%2C%0A%20%20%20%20%20%20%20%20%20%20%20%20%20%20%20%20%7B%22sticky%22%3A%20true%7D%0A%20%20%20%20%20%20%20%20%20%20%20%20%29%3B%0A%20%20%20%20%20%20%20%20%0A%20%20%20%20%0A%20%20%20%20%20%20%20%20%20%20%20%20var%20circle_a5a8ae4301184c66827f4a327ee22b9a%20%3D%20L.circle%28%0A%20%20%20%20%20%20%20%20%20%20%20%20%20%20%20%20%5B32.427908%2C%2053.68804599999999%5D%2C%0A%20%20%20%20%20%20%20%20%20%20%20%20%20%20%20%20%7B%22bubblingMouseEvents%22%3A%20true%2C%20%22color%22%3A%20%22red%22%2C%20%22dashArray%22%3A%20null%2C%20%22dashOffset%22%3A%20null%2C%20%22fill%22%3A%20true%2C%20%22fillColor%22%3A%20%22indigo%22%2C%20%22fillOpacity%22%3A%200.2%2C%20%22fillRule%22%3A%20%22evenodd%22%2C%20%22lineCap%22%3A%20%22round%22%2C%20%22lineJoin%22%3A%20%22round%22%2C%20%22opacity%22%3A%201.0%2C%20%22radius%22%3A%2071000.0%2C%20%22stroke%22%3A%20true%2C%20%22weight%22%3A%203%7D%0A%20%20%20%20%20%20%20%20%20%20%20%20%29.addTo%28map_a1d00f7722f64a9393b48021895cff65%29%3B%0A%20%20%20%20%20%20%20%20%0A%20%20%20%20%0A%20%20%20%20%20%20%20%20%20%20%20%20circle_a5a8ae4301184c66827f4a327ee22b9a.bindTooltip%28%0A%20%20%20%20%20%20%20%20%20%20%20%20%20%20%20%20%60%3Cdiv%3E%0A%20%20%20%20%20%20%20%20%20%20%20%20%20%20%20%20%20%20%20%20%20%3Cdiv%20style%3D%27margin%3A%200%3B%20background-color%3A%20black%3B%20color%3A%20white%3B%27%3E%3Ch4%20style%3D%27text-align%3Acenter%3Bfont-weight%3A%20bold%27%3EIran%3C/h4%3E%3Chr%20style%3D%27margin%3A10px%3Bcolor%3A%20white%3B%27%3E%3Cul%20style%3D%27color%3A%20white%3B%3Blist-style-type%3Acircle%3Balign-item%3Aleft%3Bpadding-left%3A20px%3Bpadding-right%3A20px%27%3E%3Cli%3EConfirmed%3A%202591609%3C/li%3E%3Cli%3EDeaths%3A%20%20%20230168%3C/li%3E%3Cli%3EDeath%20Rate%3A%208.88%3C/li%3E%3C/ul%3E%3C/div%3E%0A%20%20%20%20%20%20%20%20%20%20%20%20%20%20%20%20%20%3C/div%3E%60%2C%0A%20%20%20%20%20%20%20%20%20%20%20%20%20%20%20%20%7B%22sticky%22%3A%20true%7D%0A%20%20%20%20%20%20%20%20%20%20%20%20%29%3B%0A%20%20%20%20%20%20%20%20%0A%20%20%20%20%0A%20%20%20%20%20%20%20%20%20%20%20%20var%20circle_c3800a2153c044e9a56ae624bed914eb%20%3D%20L.circle%28%0A%20%20%20%20%20%20%20%20%20%20%20%20%20%20%20%20%5B33.223191%2C%2043.679291%5D%2C%0A%20%20%20%20%20%20%20%20%20%20%20%20%20%20%20%20%7B%22bubblingMouseEvents%22%3A%20true%2C%20%22color%22%3A%20%22red%22%2C%20%22dashArray%22%3A%20null%2C%20%22dashOffset%22%3A%20null%2C%20%22fill%22%3A%20true%2C%20%22fillColor%22%3A%20%22indigo%22%2C%20%22fillOpacity%22%3A%200.2%2C%20%22fillRule%22%3A%20%22evenodd%22%2C%20%22lineCap%22%3A%20%22round%22%2C%20%22lineJoin%22%3A%20%22round%22%2C%20%22opacity%22%3A%201.0%2C%20%22radius%22%3A%2066000.0%2C%20%22stroke%22%3A%20true%2C%20%22weight%22%3A%203%7D%0A%20%20%20%20%20%20%20%20%20%20%20%20%29.addTo%28map_a1d00f7722f64a9393b48021895cff65%29%3B%0A%20%20%20%20%20%20%20%20%0A%20%20%20%20%0A%20%20%20%20%20%20%20%20%20%20%20%20circle_c3800a2153c044e9a56ae624bed914eb.bindTooltip%28%0A%20%20%20%20%20%20%20%20%20%20%20%20%20%20%20%20%60%3Cdiv%3E%0A%20%20%20%20%20%20%20%20%20%20%20%20%20%20%20%20%20%20%20%20%20%3Cdiv%20style%3D%27margin%3A%200%3B%20background-color%3A%20black%3B%20color%3A%20white%3B%27%3E%3Ch4%20style%3D%27text-align%3Acenter%3Bfont-weight%3A%20bold%27%3EIraq%3C/h4%3E%3Chr%20style%3D%27margin%3A10px%3Bcolor%3A%20white%3B%27%3E%3Cul%20style%3D%27color%3A%20white%3B%3Blist-style-type%3Acircle%3Balign-item%3Aleft%3Bpadding-left%3A20px%3Bpadding-right%3A20px%27%3E%3Cli%3EConfirmed%3A%201091954%3C/li%3E%3Cli%3EDeaths%3A%20%20%2046349%3C/li%3E%3Cli%3EDeath%20Rate%3A%204.24%3C/li%3E%3C/ul%3E%3C/div%3E%0A%20%20%20%20%20%20%20%20%20%20%20%20%20%20%20%20%20%3C/div%3E%60%2C%0A%20%20%20%20%20%20%20%20%20%20%20%20%20%20%20%20%7B%22sticky%22%3A%20true%7D%0A%20%20%20%20%20%20%20%20%20%20%20%20%29%3B%0A%20%20%20%20%20%20%20%20%0A%20%20%20%20%0A%20%20%20%20%20%20%20%20%20%20%20%20var%20circle_5acccef4b80f4919a6467681e9c54747%20%3D%20L.circle%28%0A%20%20%20%20%20%20%20%20%20%20%20%20%20%20%20%20%5B53.1424%2C%20-7.6921%5D%2C%0A%20%20%20%20%20%20%20%20%20%20%20%20%20%20%20%20%7B%22bubblingMouseEvents%22%3A%20true%2C%20%22color%22%3A%20%22red%22%2C%20%22dashArray%22%3A%20null%2C%20%22dashOffset%22%3A%20null%2C%20%22fill%22%3A%20true%2C%20%22fillColor%22%3A%20%22indigo%22%2C%20%22fillOpacity%22%3A%200.2%2C%20%22fillRule%22%3A%20%22evenodd%22%2C%20%22lineCap%22%3A%20%22round%22%2C%20%22lineJoin%22%3A%20%22round%22%2C%20%22opacity%22%3A%201.0%2C%20%22radius%22%3A%2061000.0%2C%20%22stroke%22%3A%20true%2C%20%22weight%22%3A%203%7D%0A%20%20%20%20%20%20%20%20%20%20%20%20%29.addTo%28map_a1d00f7722f64a9393b48021895cff65%29%3B%0A%20%20%20%20%20%20%20%20%0A%20%20%20%20%0A%20%20%20%20%20%20%20%20%20%20%20%20circle_5acccef4b80f4919a6467681e9c54747.bindTooltip%28%0A%20%20%20%20%20%20%20%20%20%20%20%20%20%20%20%20%60%3Cdiv%3E%0A%20%20%20%20%20%20%20%20%20%20%20%20%20%20%20%20%20%20%20%20%20%3Cdiv%20style%3D%27margin%3A%200%3B%20background-color%3A%20black%3B%20color%3A%20white%3B%27%3E%3Ch4%20style%3D%27text-align%3Acenter%3Bfont-weight%3A%20bold%27%3EIreland%3C/h4%3E%3Chr%20style%3D%27margin%3A10px%3Bcolor%3A%20white%3B%27%3E%3Cul%20style%3D%27color%3A%20white%3B%3Blist-style-type%3Acircle%3Balign-item%3Aleft%3Bpadding-left%3A20px%3Bpadding-right%3A20px%27%3E%3Cli%3EConfirmed%3A%20251087%3C/li%3E%3Cli%3EDeaths%3A%20%20%2073568%3C/li%3E%3Cli%3EDeath%20Rate%3A%2029.3%3C/li%3E%3C/ul%3E%3C/div%3E%0A%20%20%20%20%20%20%20%20%20%20%20%20%20%20%20%20%20%3C/div%3E%60%2C%0A%20%20%20%20%20%20%20%20%20%20%20%20%20%20%20%20%7B%22sticky%22%3A%20true%7D%0A%20%20%20%20%20%20%20%20%20%20%20%20%29%3B%0A%20%20%20%20%20%20%20%20%0A%20%20%20%20%0A%20%20%20%20%20%20%20%20%20%20%20%20var%20circle_0e622b4e7d1d40289efc91ccf3c1f899%20%3D%20L.circle%28%0A%20%20%20%20%20%20%20%20%20%20%20%20%20%20%20%20%5B31.046051000000002%2C%2034.851612%5D%2C%0A%20%20%20%20%20%20%20%20%20%20%20%20%20%20%20%20%7B%22bubblingMouseEvents%22%3A%20true%2C%20%22color%22%3A%20%22red%22%2C%20%22dashArray%22%3A%20null%2C%20%22dashOffset%22%3A%20null%2C%20%22fill%22%3A%20true%2C%20%22fillColor%22%3A%20%22indigo%22%2C%20%22fillOpacity%22%3A%200.2%2C%20%22fillRule%22%3A%20%22evenodd%22%2C%20%22lineCap%22%3A%20%22round%22%2C%20%22lineJoin%22%3A%20%22round%22%2C%20%22opacity%22%3A%201.0%2C%20%22radius%22%3A%2066000.0%2C%20%22stroke%22%3A%20true%2C%20%22weight%22%3A%203%7D%0A%20%20%20%20%20%20%20%20%20%20%20%20%29.addTo%28map_a1d00f7722f64a9393b48021895cff65%29%3B%0A%20%20%20%20%20%20%20%20%0A%20%20%20%20%0A%20%20%20%20%20%20%20%20%20%20%20%20circle_0e622b4e7d1d40289efc91ccf3c1f899.bindTooltip%28%0A%20%20%20%20%20%20%20%20%20%20%20%20%20%20%20%20%60%3Cdiv%3E%0A%20%20%20%20%20%20%20%20%20%20%20%20%20%20%20%20%20%20%20%20%20%3Cdiv%20style%3D%27margin%3A%200%3B%20background-color%3A%20black%3B%20color%3A%20white%3B%27%3E%3Ch4%20style%3D%27text-align%3Acenter%3Bfont-weight%3A%20bold%27%3EIsrael%3C/h4%3E%3Chr%20style%3D%27margin%3A10px%3Bcolor%3A%20white%3B%27%3E%3Cul%20style%3D%27color%3A%20white%3B%3Blist-style-type%3Acircle%3Balign-item%3Aleft%3Bpadding-left%3A20px%3Bpadding-right%3A20px%27%3E%3Cli%3EConfirmed%3A%20838767%3C/li%3E%3Cli%3EDeaths%3A%20%20%2015640%3C/li%3E%3Cli%3EDeath%20Rate%3A%201.86%3C/li%3E%3C/ul%3E%3C/div%3E%0A%20%20%20%20%20%20%20%20%20%20%20%20%20%20%20%20%20%3C/div%3E%60%2C%0A%20%20%20%20%20%20%20%20%20%20%20%20%20%20%20%20%7B%22sticky%22%3A%20true%7D%0A%20%20%20%20%20%20%20%20%20%20%20%20%29%3B%0A%20%20%20%20%20%20%20%20%0A%20%20%20%20%0A%20%20%20%20%20%20%20%20%20%20%20%20var%20circle_a6cd9b2f0e4a46e4904422f9102d87b3%20%3D%20L.circle%28%0A%20%20%20%20%20%20%20%20%20%20%20%20%20%20%20%20%5B41.87194%2C%2012.56738%5D%2C%0A%20%20%20%20%20%20%20%20%20%20%20%20%20%20%20%20%7B%22bubblingMouseEvents%22%3A%20true%2C%20%22color%22%3A%20%22red%22%2C%20%22dashArray%22%3A%20null%2C%20%22dashOffset%22%3A%20null%2C%20%22fill%22%3A%20true%2C%20%22fillColor%22%3A%20%22indigo%22%2C%20%22fillOpacity%22%3A%200.2%2C%20%22fillRule%22%3A%20%22evenodd%22%2C%20%22lineCap%22%3A%20%22round%22%2C%20%22lineJoin%22%3A%20%22round%22%2C%20%22opacity%22%3A%201.0%2C%20%22radius%22%3A%2076000.0%2C%20%22stroke%22%3A%20true%2C%20%22weight%22%3A%203%7D%0A%20%20%20%20%20%20%20%20%20%20%20%20%29.addTo%28map_a1d00f7722f64a9393b48021895cff65%29%3B%0A%20%20%20%20%20%20%20%20%0A%20%20%20%20%0A%20%20%20%20%20%20%20%20%20%20%20%20circle_a6cd9b2f0e4a46e4904422f9102d87b3.bindTooltip%28%0A%20%20%20%20%20%20%20%20%20%20%20%20%20%20%20%20%60%3Cdiv%3E%0A%20%20%20%20%20%20%20%20%20%20%20%20%20%20%20%20%20%20%20%20%20%3Cdiv%20style%3D%27margin%3A%200%3B%20background-color%3A%20black%3B%20color%3A%20white%3B%27%3E%3Ch4%20style%3D%27text-align%3Acenter%3Bfont-weight%3A%20bold%27%3EItaly%3C/h4%3E%3Chr%20style%3D%27margin%3A10px%3Bcolor%3A%20white%3B%27%3E%3Cul%20style%3D%27color%3A%20white%3B%3Blist-style-type%3Acircle%3Balign-item%3Aleft%3Bpadding-left%3A20px%3Bpadding-right%3A20px%27%3E%3Cli%3EConfirmed%3A%204070400%3C/li%3E%3Cli%3EDeaths%3A%20%20%204915%3C/li%3E%3Cli%3EDeath%20Rate%3A%200.12%3C/li%3E%3C/ul%3E%3C/div%3E%0A%20%20%20%20%20%20%20%20%20%20%20%20%20%20%20%20%20%3C/div%3E%60%2C%0A%20%20%20%20%20%20%20%20%20%20%20%20%20%20%20%20%7B%22sticky%22%3A%20true%7D%0A%20%20%20%20%20%20%20%20%20%20%20%20%29%3B%0A%20%20%20%20%20%20%20%20%0A%20%20%20%20%0A%20%20%20%20%20%20%20%20%20%20%20%20var%20circle_539627d641184965adb322a7968bc79d%20%3D%20L.circle%28%0A%20%20%20%20%20%20%20%20%20%20%20%20%20%20%20%20%5B18.1096%2C%20-77.2975%5D%2C%0A%20%20%20%20%20%20%20%20%20%20%20%20%20%20%20%20%7B%22bubblingMouseEvents%22%3A%20true%2C%20%22color%22%3A%20%22red%22%2C%20%22dashArray%22%3A%20null%2C%20%22dashOffset%22%3A%20null%2C%20%22fill%22%3A%20true%2C%20%22fillColor%22%3A%20%22indigo%22%2C%20%22fillOpacity%22%3A%200.2%2C%20%22fillRule%22%3A%20%22evenodd%22%2C%20%22lineCap%22%3A%20%22round%22%2C%20%22lineJoin%22%3A%20%22round%22%2C%20%22opacity%22%3A%201.0%2C%20%22radius%22%3A%2051000.0%2C%20%22stroke%22%3A%20true%2C%20%22weight%22%3A%203%7D%0A%20%20%20%20%20%20%20%20%20%20%20%20%29.addTo%28map_a1d00f7722f64a9393b48021895cff65%29%3B%0A%20%20%20%20%20%20%20%20%0A%20%20%20%20%0A%20%20%20%20%20%20%20%20%20%20%20%20circle_539627d641184965adb322a7968bc79d.bindTooltip%28%0A%20%20%20%20%20%20%20%20%20%20%20%20%20%20%20%20%60%3Cdiv%3E%0A%20%20%20%20%20%20%20%20%20%20%20%20%20%20%20%20%20%20%20%20%20%3Cdiv%20style%3D%27margin%3A%200%3B%20background-color%3A%20black%3B%20color%3A%20white%3B%27%3E%3Ch4%20style%3D%27text-align%3Acenter%3Bfont-weight%3A%20bold%27%3EJamaica%3C/h4%3E%3Chr%20style%3D%27margin%3A10px%3Bcolor%3A%20white%3B%27%3E%3Cul%20style%3D%27color%3A%20white%3B%3Blist-style-type%3Acircle%3Balign-item%3Aleft%3Bpadding-left%3A20px%3Bpadding-right%3A20px%27%3E%3Cli%3EConfirmed%3A%2046194%3C/li%3E%3Cli%3EDeaths%3A%20%20%206370%3C/li%3E%3Cli%3EDeath%20Rate%3A%2013.79%3C/li%3E%3C/ul%3E%3C/div%3E%0A%20%20%20%20%20%20%20%20%20%20%20%20%20%20%20%20%20%3C/div%3E%60%2C%0A%20%20%20%20%20%20%20%20%20%20%20%20%20%20%20%20%7B%22sticky%22%3A%20true%7D%0A%20%20%20%20%20%20%20%20%20%20%20%20%29%3B%0A%20%20%20%20%20%20%20%20%0A%20%20%20%20%0A%20%20%20%20%20%20%20%20%20%20%20%20var%20circle_c6b73b6824e74364b8b31c467fb5395b%20%3D%20L.circle%28%0A%20%20%20%20%20%20%20%20%20%20%20%20%20%20%20%20%5B36.204824%2C%20138.252924%5D%2C%0A%20%20%20%20%20%20%20%20%20%20%20%20%20%20%20%20%7B%22bubblingMouseEvents%22%3A%20true%2C%20%22color%22%3A%20%22red%22%2C%20%22dashArray%22%3A%20null%2C%20%22dashOffset%22%3A%20null%2C%20%22fill%22%3A%20true%2C%20%22fillColor%22%3A%20%22indigo%22%2C%20%22fillOpacity%22%3A%200.2%2C%20%22fillRule%22%3A%20%22evenodd%22%2C%20%22lineCap%22%3A%20%22round%22%2C%20%22lineJoin%22%3A%20%22round%22%2C%20%22opacity%22%3A%201.0%2C%20%22radius%22%3A%2066000.0%2C%20%22stroke%22%3A%20true%2C%20%22weight%22%3A%203%7D%0A%20%20%20%20%20%20%20%20%20%20%20%20%29.addTo%28map_a1d00f7722f64a9393b48021895cff65%29%3B%0A%20%20%20%20%20%20%20%20%0A%20%20%20%20%0A%20%20%20%20%20%20%20%20%20%20%20%20circle_c6b73b6824e74364b8b31c467fb5395b.bindTooltip%28%0A%20%20%20%20%20%20%20%20%20%20%20%20%20%20%20%20%60%3Cdiv%3E%0A%20%20%20%20%20%20%20%20%20%20%20%20%20%20%20%20%20%20%20%20%20%3Cdiv%20style%3D%27margin%3A%200%3B%20background-color%3A%20black%3B%20color%3A%20white%3B%27%3E%3Ch4%20style%3D%27text-align%3Acenter%3Bfont-weight%3A%20bold%27%3EJapan%3C/h4%3E%3Chr%20style%3D%27margin%3A10px%3Bcolor%3A%20white%3B%27%3E%3Cul%20style%3D%27color%3A%20white%3B%3Blist-style-type%3Acircle%3Balign-item%3Aleft%3Bpadding-left%3A20px%3Bpadding-right%3A20px%27%3E%3Cli%3EConfirmed%3A%20617890%3C/li%3E%3Cli%3EDeaths%3A%20%20%20122005%3C/li%3E%3Cli%3EDeath%20Rate%3A%2019.75%3C/li%3E%3C/ul%3E%3C/div%3E%0A%20%20%20%20%20%20%20%20%20%20%20%20%20%20%20%20%20%3C/div%3E%60%2C%0A%20%20%20%20%20%20%20%20%20%20%20%20%20%20%20%20%7B%22sticky%22%3A%20true%7D%0A%20%20%20%20%20%20%20%20%20%20%20%20%29%3B%0A%20%20%20%20%20%20%20%20%0A%20%20%20%20%0A%20%20%20%20%20%20%20%20%20%20%20%20var%20circle_0f7da0893ed946c99ee89aaa130dc62a%20%3D%20L.circle%28%0A%20%20%20%20%20%20%20%20%20%20%20%20%20%20%20%20%5B31.24%2C%2036.51%5D%2C%0A%20%20%20%20%20%20%20%20%20%20%20%20%20%20%20%20%7B%22bubblingMouseEvents%22%3A%20true%2C%20%22color%22%3A%20%22red%22%2C%20%22dashArray%22%3A%20null%2C%20%22dashOffset%22%3A%20null%2C%20%22fill%22%3A%20true%2C%20%22fillColor%22%3A%20%22indigo%22%2C%20%22fillOpacity%22%3A%200.2%2C%20%22fillRule%22%3A%20%22evenodd%22%2C%20%22lineCap%22%3A%20%22round%22%2C%20%22lineJoin%22%3A%20%22round%22%2C%20%22opacity%22%3A%201.0%2C%20%22radius%22%3A%2066000.0%2C%20%22stroke%22%3A%20true%2C%20%22weight%22%3A%203%7D%0A%20%20%20%20%20%20%20%20%20%20%20%20%29.addTo%28map_a1d00f7722f64a9393b48021895cff65%29%3B%0A%20%20%20%20%20%20%20%20%0A%20%20%20%20%0A%20%20%20%20%20%20%20%20%20%20%20%20circle_0f7da0893ed946c99ee89aaa130dc62a.bindTooltip%28%0A%20%20%20%20%20%20%20%20%20%20%20%20%20%20%20%20%60%3Cdiv%3E%0A%20%20%20%20%20%20%20%20%20%20%20%20%20%20%20%20%20%20%20%20%20%3Cdiv%20style%3D%27margin%3A%200%3B%20background-color%3A%20black%3B%20color%3A%20white%3B%27%3E%3Ch4%20style%3D%27text-align%3Acenter%3Bfont-weight%3A%20bold%27%3EJordan%3C/h4%3E%3Chr%20style%3D%27margin%3A10px%3Bcolor%3A%20white%3B%27%3E%3Cul%20style%3D%27color%3A%20white%3B%3Blist-style-type%3Acircle%3Balign-item%3Aleft%3Bpadding-left%3A20px%3Bpadding-right%3A20px%27%3E%3Cli%3EConfirmed%3A%20716923%3C/li%3E%3Cli%3EDeaths%3A%20%20%20794%3C/li%3E%3Cli%3EDeath%20Rate%3A%200.11%3C/li%3E%3C/ul%3E%3C/div%3E%0A%20%20%20%20%20%20%20%20%20%20%20%20%20%20%20%20%20%3C/div%3E%60%2C%0A%20%20%20%20%20%20%20%20%20%20%20%20%20%20%20%20%7B%22sticky%22%3A%20true%7D%0A%20%20%20%20%20%20%20%20%20%20%20%20%29%3B%0A%20%20%20%20%20%20%20%20%0A%20%20%20%20%0A%20%20%20%20%20%20%20%20%20%20%20%20var%20circle_be88ec696ecd4dee963bde5ea7a8f5b1%20%3D%20L.circle%28%0A%20%20%20%20%20%20%20%20%20%20%20%20%20%20%20%20%5B48.0196%2C%2066.9237%5D%2C%0A%20%20%20%20%20%20%20%20%20%20%20%20%20%20%20%20%7B%22bubblingMouseEvents%22%3A%20true%2C%20%22color%22%3A%20%22red%22%2C%20%22dashArray%22%3A%20null%2C%20%22dashOffset%22%3A%20null%2C%20%22fill%22%3A%20true%2C%20%22fillColor%22%3A%20%22indigo%22%2C%20%22fillOpacity%22%3A%200.2%2C%20%22fillRule%22%3A%20%22evenodd%22%2C%20%22lineCap%22%3A%20%22round%22%2C%20%22lineJoin%22%3A%20%22round%22%2C%20%22opacity%22%3A%201.0%2C%20%22radius%22%3A%2061000.0%2C%20%22stroke%22%3A%20true%2C%20%22weight%22%3A%203%7D%0A%20%20%20%20%20%20%20%20%20%20%20%20%29.addTo%28map_a1d00f7722f64a9393b48021895cff65%29%3B%0A%20%20%20%20%20%20%20%20%0A%20%20%20%20%0A%20%20%20%20%20%20%20%20%20%20%20%20circle_be88ec696ecd4dee963bde5ea7a8f5b1.bindTooltip%28%0A%20%20%20%20%20%20%20%20%20%20%20%20%20%20%20%20%60%3Cdiv%3E%0A%20%20%20%20%20%20%20%20%20%20%20%20%20%20%20%20%20%20%20%20%20%3Cdiv%20style%3D%27margin%3A%200%3B%20background-color%3A%20black%3B%20color%3A%20white%3B%27%3E%3Ch4%20style%3D%27text-align%3Acenter%3Bfont-weight%3A%20bold%27%3EKazakhstan%3C/h4%3E%3Chr%20style%3D%27margin%3A10px%3Bcolor%3A%20white%3B%27%3E%3Cul%20style%3D%27color%3A%20white%3B%3Blist-style-type%3Acircle%3Balign-item%3Aleft%3Bpadding-left%3A20px%3Bpadding-right%3A20px%27%3E%3Cli%3EConfirmed%3A%20388111%3C/li%3E%3Cli%3EDeaths%3A%20%20%2010501%3C/li%3E%3Cli%3EDeath%20Rate%3A%202.71%3C/li%3E%3C/ul%3E%3C/div%3E%0A%20%20%20%20%20%20%20%20%20%20%20%20%20%20%20%20%20%3C/div%3E%60%2C%0A%20%20%20%20%20%20%20%20%20%20%20%20%20%20%20%20%7B%22sticky%22%3A%20true%7D%0A%20%20%20%20%20%20%20%20%20%20%20%20%29%3B%0A%20%20%20%20%20%20%20%20%0A%20%20%20%20%0A%20%20%20%20%20%20%20%20%20%20%20%20var%20circle_c89b520de2a347e1b16b942e80af2343%20%3D%20L.circle%28%0A%20%20%20%20%20%20%20%20%20%20%20%20%20%20%20%20%5B-0.0236%2C%2037.9062%5D%2C%0A%20%20%20%20%20%20%20%20%20%20%20%20%20%20%20%20%7B%22bubblingMouseEvents%22%3A%20true%2C%20%22color%22%3A%20%22red%22%2C%20%22dashArray%22%3A%20null%2C%20%22dashOffset%22%3A%20null%2C%20%22fill%22%3A%20true%2C%20%22fillColor%22%3A%20%22indigo%22%2C%20%22fillOpacity%22%3A%200.2%2C%20%22fillRule%22%3A%20%22evenodd%22%2C%20%22lineCap%22%3A%20%22round%22%2C%20%22lineJoin%22%3A%20%22round%22%2C%20%22opacity%22%3A%201.0%2C%20%22radius%22%3A%2056000.0%2C%20%22stroke%22%3A%20true%2C%20%22weight%22%3A%203%7D%0A%20%20%20%20%20%20%20%20%20%20%20%20%29.addTo%28map_a1d00f7722f64a9393b48021895cff65%29%3B%0A%20%20%20%20%20%20%20%20%0A%20%20%20%20%0A%20%20%20%20%20%20%20%20%20%20%20%20circle_c89b520de2a347e1b16b942e80af2343.bindTooltip%28%0A%20%20%20%20%20%20%20%20%20%20%20%20%20%20%20%20%60%3Cdiv%3E%0A%20%20%20%20%20%20%20%20%20%20%20%20%20%20%20%20%20%20%20%20%20%3Cdiv%20style%3D%27margin%3A%200%3B%20background-color%3A%20black%3B%20color%3A%20white%3B%27%3E%3Ch4%20style%3D%27text-align%3Acenter%3Bfont-weight%3A%20bold%27%3EKenya%3C/h4%3E%3Chr%20style%3D%27margin%3A10px%3Bcolor%3A%20white%3B%27%3E%3Cul%20style%3D%27color%3A%20white%3B%3Blist-style-type%3Acircle%3Balign-item%3Aleft%3Bpadding-left%3A20px%3Bpadding-right%3A20px%27%3E%3Cli%3EConfirmed%3A%20161393%3C/li%3E%3Cli%3EDeaths%3A%20%20%208988%3C/li%3E%3Cli%3EDeath%20Rate%3A%205.57%3C/li%3E%3C/ul%3E%3C/div%3E%0A%20%20%20%20%20%20%20%20%20%20%20%20%20%20%20%20%20%3C/div%3E%60%2C%0A%20%20%20%20%20%20%20%20%20%20%20%20%20%20%20%20%7B%22sticky%22%3A%20true%7D%0A%20%20%20%20%20%20%20%20%20%20%20%20%29%3B%0A%20%20%20%20%20%20%20%20%0A%20%20%20%20%0A%20%20%20%20%20%20%20%20%20%20%20%20var%20circle_fdb97037b3f1490bb491f62290b27bd8%20%3D%20L.circle%28%0A%20%20%20%20%20%20%20%20%20%20%20%20%20%20%20%20%5B35.907757000000004%2C%20127.766922%5D%2C%0A%20%20%20%20%20%20%20%20%20%20%20%20%20%20%20%20%7B%22bubblingMouseEvents%22%3A%20true%2C%20%22color%22%3A%20%22red%22%2C%20%22dashArray%22%3A%20null%2C%20%22dashOffset%22%3A%20null%2C%20%22fill%22%3A%20true%2C%20%22fillColor%22%3A%20%22indigo%22%2C%20%22fillOpacity%22%3A%200.2%2C%20%22fillRule%22%3A%20%22evenodd%22%2C%20%22lineCap%22%3A%20%22round%22%2C%20%22lineJoin%22%3A%20%22round%22%2C%20%22opacity%22%3A%201.0%2C%20%22radius%22%3A%2056000.0%2C%20%22stroke%22%3A%20true%2C%20%22weight%22%3A%203%7D%0A%20%20%20%20%20%20%20%20%20%20%20%20%29.addTo%28map_a1d00f7722f64a9393b48021895cff65%29%3B%0A%20%20%20%20%20%20%20%20%0A%20%20%20%20%0A%20%20%20%20%20%20%20%20%20%20%20%20circle_fdb97037b3f1490bb491f62290b27bd8.bindTooltip%28%0A%20%20%20%20%20%20%20%20%20%20%20%20%20%20%20%20%60%3Cdiv%3E%0A%20%20%20%20%20%20%20%20%20%20%20%20%20%20%20%20%20%20%20%20%20%3Cdiv%20style%3D%27margin%3A%200%3B%20background-color%3A%20black%3B%20color%3A%20white%3B%27%3E%3Ch4%20style%3D%27text-align%3Acenter%3Bfont-weight%3A%20bold%27%3EKorea%2C%20South%3C/h4%3E%3Chr%20style%3D%27margin%3A10px%3Bcolor%3A%20white%3B%27%3E%3Cul%20style%3D%27color%3A%20white%3B%3Blist-style-type%3Acircle%3Balign-item%3Aleft%3Bpadding-left%3A20px%3Bpadding-right%3A20px%27%3E%3Cli%3EConfirmed%3A%20125519%3C/li%3E%3Cli%3EDeaths%3A%20%20%203363%3C/li%3E%3Cli%3EDeath%20Rate%3A%202.68%3C/li%3E%3C/ul%3E%3C/div%3E%0A%20%20%20%20%20%20%20%20%20%20%20%20%20%20%20%20%20%3C/div%3E%60%2C%0A%20%20%20%20%20%20%20%20%20%20%20%20%20%20%20%20%7B%22sticky%22%3A%20true%7D%0A%20%20%20%20%20%20%20%20%20%20%20%20%29%3B%0A%20%20%20%20%20%20%20%20%0A%20%20%20%20%0A%20%20%20%20%20%20%20%20%20%20%20%20var%20circle_c949b66dd2ed44ecb25be26f593c408e%20%3D%20L.circle%28%0A%20%20%20%20%20%20%20%20%20%20%20%20%20%20%20%20%5B42.602636%2C%2020.902977%5D%2C%0A%20%20%20%20%20%20%20%20%20%20%20%20%20%20%20%20%7B%22bubblingMouseEvents%22%3A%20true%2C%20%22color%22%3A%20%22red%22%2C%20%22dashArray%22%3A%20null%2C%20%22dashOffset%22%3A%20null%2C%20%22fill%22%3A%20true%2C%20%22fillColor%22%3A%20%22indigo%22%2C%20%22fillOpacity%22%3A%200.2%2C%20%22fillRule%22%3A%20%22evenodd%22%2C%20%22lineCap%22%3A%20%22round%22%2C%20%22lineJoin%22%3A%20%22round%22%2C%20%22opacity%22%3A%201.0%2C%20%22radius%22%3A%2056000.0%2C%20%22stroke%22%3A%20true%2C%20%22weight%22%3A%203%7D%0A%20%20%20%20%20%20%20%20%20%20%20%20%29.addTo%28map_a1d00f7722f64a9393b48021895cff65%29%3B%0A%20%20%20%20%20%20%20%20%0A%20%20%20%20%0A%20%20%20%20%20%20%20%20%20%20%20%20circle_c949b66dd2ed44ecb25be26f593c408e.bindTooltip%28%0A%20%20%20%20%20%20%20%20%20%20%20%20%20%20%20%20%60%3Cdiv%3E%0A%20%20%20%20%20%20%20%20%20%20%20%20%20%20%20%20%20%20%20%20%20%3Cdiv%20style%3D%27margin%3A%200%3B%20background-color%3A%20black%3B%20color%3A%20white%3B%27%3E%3Ch4%20style%3D%27text-align%3Acenter%3Bfont-weight%3A%20bold%27%3EKosovo%3C/h4%3E%3Chr%20style%3D%27margin%3A10px%3Bcolor%3A%20white%3B%27%3E%3Cul%20style%3D%27color%3A%20white%3B%3Blist-style-type%3Acircle%3Balign-item%3Aleft%3Bpadding-left%3A20px%3Bpadding-right%3A20px%27%3E%3Cli%3EConfirmed%3A%20103638%3C/li%3E%3Cli%3EDeaths%3A%20%20%202825%3C/li%3E%3Cli%3EDeath%20Rate%3A%202.73%3C/li%3E%3C/ul%3E%3C/div%3E%0A%20%20%20%20%20%20%20%20%20%20%20%20%20%20%20%20%20%3C/div%3E%60%2C%0A%20%20%20%20%20%20%20%20%20%20%20%20%20%20%20%20%7B%22sticky%22%3A%20true%7D%0A%20%20%20%20%20%20%20%20%20%20%20%20%29%3B%0A%20%20%20%20%20%20%20%20%0A%20%20%20%20%0A%20%20%20%20%20%20%20%20%20%20%20%20var%20circle_ce90221d82004475a7ca331e7a6744de%20%3D%20L.circle%28%0A%20%20%20%20%20%20%20%20%20%20%20%20%20%20%20%20%5B29.311659999999996%2C%2047.481766%5D%2C%0A%20%20%20%20%20%20%20%20%20%20%20%20%20%20%20%20%7B%22bubblingMouseEvents%22%3A%20true%2C%20%22color%22%3A%20%22red%22%2C%20%22dashArray%22%3A%20null%2C%20%22dashOffset%22%3A%20null%2C%20%22fill%22%3A%20true%2C%20%22fillColor%22%3A%20%22indigo%22%2C%20%22fillOpacity%22%3A%200.2%2C%20%22fillRule%22%3A%20%22evenodd%22%2C%20%22lineCap%22%3A%20%22round%22%2C%20%22lineJoin%22%3A%20%22round%22%2C%20%22opacity%22%3A%201.0%2C%20%22radius%22%3A%2061000.0%2C%20%22stroke%22%3A%20true%2C%20%22weight%22%3A%203%7D%0A%20%20%20%20%20%20%20%20%20%20%20%20%29.addTo%28map_a1d00f7722f64a9393b48021895cff65%29%3B%0A%20%20%20%20%20%20%20%20%0A%20%20%20%20%0A%20%20%20%20%20%20%20%20%20%20%20%20circle_ce90221d82004475a7ca331e7a6744de.bindTooltip%28%0A%20%20%20%20%20%20%20%20%20%20%20%20%20%20%20%20%60%3Cdiv%3E%0A%20%20%20%20%20%20%20%20%20%20%20%20%20%20%20%20%20%20%20%20%20%3Cdiv%20style%3D%27margin%3A%200%3B%20background-color%3A%20black%3B%20color%3A%20white%3B%27%3E%3Ch4%20style%3D%27text-align%3Acenter%3Bfont-weight%3A%20bold%27%3EKuwait%3C/h4%3E%3Chr%20style%3D%27margin%3A10px%3Bcolor%3A%20white%3B%27%3E%3Cul%20style%3D%27color%3A%20white%3B%3Blist-style-type%3Acircle%3Balign-item%3Aleft%3Bpadding-left%3A20px%3Bpadding-right%3A20px%27%3E%3Cli%3EConfirmed%3A%20280536%3C/li%3E%3Cli%3EDeaths%3A%20%20%201851%3C/li%3E%3Cli%3EDeath%20Rate%3A%200.66%3C/li%3E%3C/ul%3E%3C/div%3E%0A%20%20%20%20%20%20%20%20%20%20%20%20%20%20%20%20%20%3C/div%3E%60%2C%0A%20%20%20%20%20%20%20%20%20%20%20%20%20%20%20%20%7B%22sticky%22%3A%20true%7D%0A%20%20%20%20%20%20%20%20%20%20%20%20%29%3B%0A%20%20%20%20%20%20%20%20%0A%20%20%20%20%0A%20%20%20%20%20%20%20%20%20%20%20%20var%20circle_ad42002b9d194ceba3a1d3c4dec1820e%20%3D%20L.circle%28%0A%20%20%20%20%20%20%20%20%20%20%20%20%20%20%20%20%5B41.20438%2C%2074.766098%5D%2C%0A%20%20%20%20%20%20%20%20%20%20%20%20%20%20%20%20%7B%22bubblingMouseEvents%22%3A%20true%2C%20%22color%22%3A%20%22red%22%2C%20%22dashArray%22%3A%20null%2C%20%22dashOffset%22%3A%20null%2C%20%22fill%22%3A%20true%2C%20%22fillColor%22%3A%20%22indigo%22%2C%20%22fillOpacity%22%3A%200.2%2C%20%22fillRule%22%3A%20%22evenodd%22%2C%20%22lineCap%22%3A%20%22round%22%2C%20%22lineJoin%22%3A%20%22round%22%2C%20%22opacity%22%3A%201.0%2C%20%22radius%22%3A%2056000.0%2C%20%22stroke%22%3A%20true%2C%20%22weight%22%3A%203%7D%0A%20%20%20%20%20%20%20%20%20%20%20%20%29.addTo%28map_a1d00f7722f64a9393b48021895cff65%29%3B%0A%20%20%20%20%20%20%20%20%0A%20%20%20%20%0A%20%20%20%20%20%20%20%20%20%20%20%20circle_ad42002b9d194ceba3a1d3c4dec1820e.bindTooltip%28%0A%20%20%20%20%20%20%20%20%20%20%20%20%20%20%20%20%60%3Cdiv%3E%0A%20%20%20%20%20%20%20%20%20%20%20%20%20%20%20%20%20%20%20%20%20%3Cdiv%20style%3D%27margin%3A%200%3B%20background-color%3A%20black%3B%20color%3A%20white%3B%27%3E%3Ch4%20style%3D%27text-align%3Acenter%3Bfont-weight%3A%20bold%27%3EKyrgyzstan%3C/h4%3E%3Chr%20style%3D%27margin%3A10px%3Bcolor%3A%20white%3B%27%3E%3Cul%20style%3D%27color%3A%20white%3B%3Blist-style-type%3Acircle%3Balign-item%3Aleft%3Bpadding-left%3A20px%3Bpadding-right%3A20px%27%3E%3Cli%3EConfirmed%3A%2096958%3C/li%3E%3Cli%3EDeaths%3A%20%20%202134%3C/li%3E%3Cli%3EDeath%20Rate%3A%202.2%3C/li%3E%3C/ul%3E%3C/div%3E%0A%20%20%20%20%20%20%20%20%20%20%20%20%20%20%20%20%20%3C/div%3E%60%2C%0A%20%20%20%20%20%20%20%20%20%20%20%20%20%20%20%20%7B%22sticky%22%3A%20true%7D%0A%20%20%20%20%20%20%20%20%20%20%20%20%29%3B%0A%20%20%20%20%20%20%20%20%0A%20%20%20%20%0A%20%20%20%20%20%20%20%20%20%20%20%20var%20circle_6f9c957a78264d018341355940203434%20%3D%20L.circle%28%0A%20%20%20%20%20%20%20%20%20%20%20%20%20%20%20%20%5B19.856270000000002%2C%20102.495496%5D%2C%0A%20%20%20%20%20%20%20%20%20%20%20%20%20%20%20%20%7B%22bubblingMouseEvents%22%3A%20true%2C%20%22color%22%3A%20%22red%22%2C%20%22dashArray%22%3A%20null%2C%20%22dashOffset%22%3A%20null%2C%20%22fill%22%3A%20true%2C%20%22fillColor%22%3A%20%22indigo%22%2C%20%22fillOpacity%22%3A%200.2%2C%20%22fillRule%22%3A%20%22evenodd%22%2C%20%22lineCap%22%3A%20%22round%22%2C%20%22lineJoin%22%3A%20%22round%22%2C%20%22opacity%22%3A%201.0%2C%20%22radius%22%3A%2031000.0%2C%20%22stroke%22%3A%20true%2C%20%22weight%22%3A%203%7D%0A%20%20%20%20%20%20%20%20%20%20%20%20%29.addTo%28map_a1d00f7722f64a9393b48021895cff65%29%3B%0A%20%20%20%20%20%20%20%20%0A%20%20%20%20%0A%20%20%20%20%20%20%20%20%20%20%20%20circle_6f9c957a78264d018341355940203434.bindTooltip%28%0A%20%20%20%20%20%20%20%20%20%20%20%20%20%20%20%20%60%3Cdiv%3E%0A%20%20%20%20%20%20%20%20%20%20%20%20%20%20%20%20%20%20%20%20%20%3Cdiv%20style%3D%27margin%3A%200%3B%20background-color%3A%20black%3B%20color%3A%20white%3B%27%3E%3Ch4%20style%3D%27text-align%3Acenter%3Bfont-weight%3A%20bold%27%3ELaos%3C/h4%3E%3Chr%20style%3D%27margin%3A10px%3Bcolor%3A%20white%3B%27%3E%3Cul%20style%3D%27color%3A%20white%3B%3Blist-style-type%3Acircle%3Balign-item%3Aleft%3Bpadding-left%3A20px%3Bpadding-right%3A20px%27%3E%3Cli%3EConfirmed%3A%201072%3C/li%3E%3Cli%3EDeaths%3A%20%20%201610%3C/li%3E%3Cli%3EDeath%20Rate%3A%20150.05%3C/li%3E%3C/ul%3E%3C/div%3E%0A%20%20%20%20%20%20%20%20%20%20%20%20%20%20%20%20%20%3C/div%3E%60%2C%0A%20%20%20%20%20%20%20%20%20%20%20%20%20%20%20%20%7B%22sticky%22%3A%20true%7D%0A%20%20%20%20%20%20%20%20%20%20%20%20%29%3B%0A%20%20%20%20%20%20%20%20%0A%20%20%20%20%0A%20%20%20%20%20%20%20%20%20%20%20%20var%20circle_8eb89beffb534552890c28070564a776%20%3D%20L.circle%28%0A%20%20%20%20%20%20%20%20%20%20%20%20%20%20%20%20%5B56.8796%2C%2024.6032%5D%2C%0A%20%20%20%20%20%20%20%20%20%20%20%20%20%20%20%20%7B%22bubblingMouseEvents%22%3A%20true%2C%20%22color%22%3A%20%22red%22%2C%20%22dashArray%22%3A%20null%2C%20%22dashOffset%22%3A%20null%2C%20%22fill%22%3A%20true%2C%20%22fillColor%22%3A%20%22indigo%22%2C%20%22fillOpacity%22%3A%200.2%2C%20%22fillRule%22%3A%20%22evenodd%22%2C%20%22lineCap%22%3A%20%22round%22%2C%20%22lineJoin%22%3A%20%22round%22%2C%20%22opacity%22%3A%201.0%2C%20%22radius%22%3A%2056000.0%2C%20%22stroke%22%3A%20true%2C%20%22weight%22%3A%203%7D%0A%20%20%20%20%20%20%20%20%20%20%20%20%29.addTo%28map_a1d00f7722f64a9393b48021895cff65%29%3B%0A%20%20%20%20%20%20%20%20%0A%20%20%20%20%0A%20%20%20%20%20%20%20%20%20%20%20%20circle_8eb89beffb534552890c28070564a776.bindTooltip%28%0A%20%20%20%20%20%20%20%20%20%20%20%20%20%20%20%20%60%3Cdiv%3E%0A%20%20%20%20%20%20%20%20%20%20%20%20%20%20%20%20%20%20%20%20%20%3Cdiv%20style%3D%27margin%3A%200%3B%20background-color%3A%20black%3B%20color%3A%20white%3B%27%3E%3Ch4%20style%3D%27text-align%3Acenter%3Bfont-weight%3A%20bold%27%3ELatvia%3C/h4%3E%3Chr%20style%3D%27margin%3A10px%3Bcolor%3A%20white%3B%27%3E%3Cul%20style%3D%27color%3A%20white%3B%3Blist-style-type%3Acircle%3Balign-item%3Aleft%3Bpadding-left%3A20px%3Bpadding-right%3A20px%27%3E%3Cli%3EConfirmed%3A%20120736%3C/li%3E%3Cli%3EDeaths%3A%20%20%201637%3C/li%3E%3Cli%3EDeath%20Rate%3A%201.36%3C/li%3E%3C/ul%3E%3C/div%3E%0A%20%20%20%20%20%20%20%20%20%20%20%20%20%20%20%20%20%3C/div%3E%60%2C%0A%20%20%20%20%20%20%20%20%20%20%20%20%20%20%20%20%7B%22sticky%22%3A%20true%7D%0A%20%20%20%20%20%20%20%20%20%20%20%20%29%3B%0A%20%20%20%20%20%20%20%20%0A%20%20%20%20%0A%20%20%20%20%20%20%20%20%20%20%20%20var%20circle_df9b4659c19141c4b04cc3f937bee9dc%20%3D%20L.circle%28%0A%20%20%20%20%20%20%20%20%20%20%20%20%20%20%20%20%5B33.8547%2C%2035.8623%5D%2C%0A%20%20%20%20%20%20%20%20%20%20%20%20%20%20%20%20%7B%22bubblingMouseEvents%22%3A%20true%2C%20%22color%22%3A%20%22red%22%2C%20%22dashArray%22%3A%20null%2C%20%22dashOffset%22%3A%20null%2C%20%22fill%22%3A%20true%2C%20%22fillColor%22%3A%20%22indigo%22%2C%20%22fillOpacity%22%3A%200.2%2C%20%22fillRule%22%3A%20%22evenodd%22%2C%20%22lineCap%22%3A%20%22round%22%2C%20%22lineJoin%22%3A%20%22round%22%2C%20%22opacity%22%3A%201.0%2C%20%22radius%22%3A%2066000.0%2C%20%22stroke%22%3A%20true%2C%20%22weight%22%3A%203%7D%0A%20%20%20%20%20%20%20%20%20%20%20%20%29.addTo%28map_a1d00f7722f64a9393b48021895cff65%29%3B%0A%20%20%20%20%20%20%20%20%0A%20%20%20%20%0A%20%20%20%20%20%20%20%20%20%20%20%20circle_df9b4659c19141c4b04cc3f937bee9dc.bindTooltip%28%0A%20%20%20%20%20%20%20%20%20%20%20%20%20%20%20%20%60%3Cdiv%3E%0A%20%20%20%20%20%20%20%20%20%20%20%20%20%20%20%20%20%20%20%20%20%3Cdiv%20style%3D%27margin%3A%200%3B%20background-color%3A%20black%3B%20color%3A%20white%3B%27%3E%3Ch4%20style%3D%27text-align%3Acenter%3Bfont-weight%3A%20bold%27%3ELebanon%3C/h4%3E%3Chr%20style%3D%27margin%3A10px%3Bcolor%3A%20white%3B%27%3E%3Cul%20style%3D%27color%3A%20white%3B%3Blist-style-type%3Acircle%3Balign-item%3Aleft%3Bpadding-left%3A20px%3Bpadding-right%3A20px%27%3E%3Cli%3EConfirmed%3A%20530217%3C/li%3E%3Cli%3EDeaths%3A%20%20%200%3C/li%3E%3Cli%3EDeath%20Rate%3A%200.0%3C/li%3E%3C/ul%3E%3C/div%3E%0A%20%20%20%20%20%20%20%20%20%20%20%20%20%20%20%20%20%3C/div%3E%60%2C%0A%20%20%20%20%20%20%20%20%20%20%20%20%20%20%20%20%7B%22sticky%22%3A%20true%7D%0A%20%20%20%20%20%20%20%20%20%20%20%20%29%3B%0A%20%20%20%20%20%20%20%20%0A%20%20%20%20%0A%20%20%20%20%20%20%20%20%20%20%20%20var%20circle_1bc95c1030bb48a1a23e35ff4a4de12b%20%3D%20L.circle%28%0A%20%20%20%20%20%20%20%20%20%20%20%20%20%20%20%20%5B-29.61%2C%2028.2336%5D%2C%0A%20%20%20%20%20%20%20%20%20%20%20%20%20%20%20%20%7B%22bubblingMouseEvents%22%3A%20true%2C%20%22color%22%3A%20%22red%22%2C%20%22dashArray%22%3A%20null%2C%20%22dashOffset%22%3A%20null%2C%20%22fill%22%3A%20true%2C%20%22fillColor%22%3A%20%22indigo%22%2C%20%22fillOpacity%22%3A%200.2%2C%20%22fillRule%22%3A%20%22evenodd%22%2C%20%22lineCap%22%3A%20%22round%22%2C%20%22lineJoin%22%3A%20%22round%22%2C%20%22opacity%22%3A%201.0%2C%20%22radius%22%3A%2046000.0%2C%20%22stroke%22%3A%20true%2C%20%22weight%22%3A%203%7D%0A%20%20%20%20%20%20%20%20%20%20%20%20%29.addTo%28map_a1d00f7722f64a9393b48021895cff65%29%3B%0A%20%20%20%20%20%20%20%20%0A%20%20%20%20%0A%20%20%20%20%20%20%20%20%20%20%20%20circle_1bc95c1030bb48a1a23e35ff4a4de12b.bindTooltip%28%0A%20%20%20%20%20%20%20%20%20%20%20%20%20%20%20%20%60%3Cdiv%3E%0A%20%20%20%20%20%20%20%20%20%20%20%20%20%20%20%20%20%20%20%20%20%3Cdiv%20style%3D%27margin%3A%200%3B%20background-color%3A%20black%3B%20color%3A%20white%3B%27%3E%3Ch4%20style%3D%27text-align%3Acenter%3Bfont-weight%3A%20bold%27%3ELesotho%3C/h4%3E%3Chr%20style%3D%27margin%3A10px%3Bcolor%3A%20white%3B%27%3E%3Cul%20style%3D%27color%3A%20white%3B%3Blist-style-type%3Acircle%3Balign-item%3Aleft%3Bpadding-left%3A20px%3Bpadding-right%3A20px%27%3E%3Cli%3EConfirmed%3A%2010749%3C/li%3E%3Cli%3EDeaths%3A%20%20%202166%3C/li%3E%3Cli%3EDeath%20Rate%3A%2020.15%3C/li%3E%3C/ul%3E%3C/div%3E%0A%20%20%20%20%20%20%20%20%20%20%20%20%20%20%20%20%20%3C/div%3E%60%2C%0A%20%20%20%20%20%20%20%20%20%20%20%20%20%20%20%20%7B%22sticky%22%3A%20true%7D%0A%20%20%20%20%20%20%20%20%20%20%20%20%29%3B%0A%20%20%20%20%20%20%20%20%0A%20%20%20%20%0A%20%20%20%20%20%20%20%20%20%20%20%20var%20circle_e11d6b16319a4bd1b4ec079eae1a6e2a%20%3D%20L.circle%28%0A%20%20%20%20%20%20%20%20%20%20%20%20%20%20%20%20%5B6.4280550000000005%2C%20-9.429499%5D%2C%0A%20%20%20%20%20%20%20%20%20%20%20%20%20%20%20%20%7B%22bubblingMouseEvents%22%3A%20true%2C%20%22color%22%3A%20%22red%22%2C%20%22dashArray%22%3A%20null%2C%20%22dashOffset%22%3A%20null%2C%20%22fill%22%3A%20true%2C%20%22fillColor%22%3A%20%22indigo%22%2C%20%22fillOpacity%22%3A%200.2%2C%20%22fillRule%22%3A%20%22evenodd%22%2C%20%22lineCap%22%3A%20%22round%22%2C%20%22lineJoin%22%3A%20%22round%22%2C%20%22opacity%22%3A%201.0%2C%20%22radius%22%3A%2036000.0%2C%20%22stroke%22%3A%20true%2C%20%22weight%22%3A%203%7D%0A%20%20%20%20%20%20%20%20%20%20%20%20%29.addTo%28map_a1d00f7722f64a9393b48021895cff65%29%3B%0A%20%20%20%20%20%20%20%20%0A%20%20%20%20%0A%20%20%20%20%20%20%20%20%20%20%20%20circle_e11d6b16319a4bd1b4ec079eae1a6e2a.bindTooltip%28%0A%20%20%20%20%20%20%20%20%20%20%20%20%20%20%20%20%60%3Cdiv%3E%0A%20%20%20%20%20%20%20%20%20%20%20%20%20%20%20%20%20%20%20%20%20%3Cdiv%20style%3D%27margin%3A%200%3B%20background-color%3A%20black%3B%20color%3A%20white%3B%27%3E%3Ch4%20style%3D%27text-align%3Acenter%3Bfont-weight%3A%20bold%27%3ELiberia%3C/h4%3E%3Chr%20style%3D%27margin%3A10px%3Bcolor%3A%20white%3B%27%3E%3Cul%20style%3D%27color%3A%20white%3B%3Blist-style-type%3Acircle%3Balign-item%3Aleft%3Bpadding-left%3A20px%3Bpadding-right%3A20px%27%3E%3Cli%3EConfirmed%3A%202113%3C/li%3E%3Cli%3EDeaths%3A%20%20%207390%3C/li%3E%3Cli%3EDeath%20Rate%3A%20349.57%3C/li%3E%3C/ul%3E%3C/div%3E%0A%20%20%20%20%20%20%20%20%20%20%20%20%20%20%20%20%20%3C/div%3E%60%2C%0A%20%20%20%20%20%20%20%20%20%20%20%20%20%20%20%20%7B%22sticky%22%3A%20true%7D%0A%20%20%20%20%20%20%20%20%20%20%20%20%29%3B%0A%20%20%20%20%20%20%20%20%0A%20%20%20%20%0A%20%20%20%20%20%20%20%20%20%20%20%20var%20circle_c2a7cb623dab44e99791c344c25ef805%20%3D%20L.circle%28%0A%20%20%20%20%20%20%20%20%20%20%20%20%20%20%20%20%5B26.3351%2C%2017.228331%5D%2C%0A%20%20%20%20%20%20%20%20%20%20%20%20%20%20%20%20%7B%22bubblingMouseEvents%22%3A%20true%2C%20%22color%22%3A%20%22red%22%2C%20%22dashArray%22%3A%20null%2C%20%22dashOffset%22%3A%20null%2C%20%22fill%22%3A%20true%2C%20%22fillColor%22%3A%20%22indigo%22%2C%20%22fillOpacity%22%3A%200.2%2C%20%22fillRule%22%3A%20%22evenodd%22%2C%20%22lineCap%22%3A%20%22round%22%2C%20%22lineJoin%22%3A%20%22round%22%2C%20%22opacity%22%3A%201.0%2C%20%22radius%22%3A%2061000.0%2C%20%22stroke%22%3A%20true%2C%20%22weight%22%3A%203%7D%0A%20%20%20%20%20%20%20%20%20%20%20%20%29.addTo%28map_a1d00f7722f64a9393b48021895cff65%29%3B%0A%20%20%20%20%20%20%20%20%0A%20%20%20%20%0A%20%20%20%20%20%20%20%20%20%20%20%20circle_c2a7cb623dab44e99791c344c25ef805.bindTooltip%28%0A%20%20%20%20%20%20%20%20%20%20%20%20%20%20%20%20%60%3Cdiv%3E%0A%20%20%20%20%20%20%20%20%20%20%20%20%20%20%20%20%20%20%20%20%20%3Cdiv%20style%3D%27margin%3A%200%3B%20background-color%3A%20black%3B%20color%3A%20white%3B%27%3E%3Ch4%20style%3D%27text-align%3Acenter%3Bfont-weight%3A%20bold%27%3ELibya%3C/h4%3E%3Chr%20style%3D%27margin%3A10px%3Bcolor%3A%20white%3B%27%3E%3Cul%20style%3D%27color%3A%20white%3B%3Blist-style-type%3Acircle%3Balign-item%3Aleft%3Bpadding-left%3A20px%3Bpadding-right%3A20px%27%3E%3Cli%3EConfirmed%3A%20178927%3C/li%3E%3Cli%3EDeaths%3A%20%20%20319%3C/li%3E%3Cli%3EDeath%20Rate%3A%200.18%3C/li%3E%3C/ul%3E%3C/div%3E%0A%20%20%20%20%20%20%20%20%20%20%20%20%20%20%20%20%20%3C/div%3E%60%2C%0A%20%20%20%20%20%20%20%20%20%20%20%20%20%20%20%20%7B%22sticky%22%3A%20true%7D%0A%20%20%20%20%20%20%20%20%20%20%20%20%29%3B%0A%20%20%20%20%20%20%20%20%0A%20%20%20%20%0A%20%20%20%20%20%20%20%20%20%20%20%20var%20circle_e99d2c49e1fa4dde8d5a8eb9cb5cb59a%20%3D%20L.circle%28%0A%20%20%20%20%20%20%20%20%20%20%20%20%20%20%20%20%5B47.14%2C%209.55%5D%2C%0A%20%20%20%20%20%20%20%20%20%20%20%20%20%20%20%20%7B%22bubblingMouseEvents%22%3A%20true%2C%20%22color%22%3A%20%22red%22%2C%20%22dashArray%22%3A%20null%2C%20%22dashOffset%22%3A%20null%2C%20%22fill%22%3A%20true%2C%20%22fillColor%22%3A%20%22indigo%22%2C%20%22fillOpacity%22%3A%200.2%2C%20%22fillRule%22%3A%20%22evenodd%22%2C%20%22lineCap%22%3A%20%22round%22%2C%20%22lineJoin%22%3A%20%22round%22%2C%20%22opacity%22%3A%201.0%2C%20%22radius%22%3A%2036000.0%2C%20%22stroke%22%3A%20true%2C%20%22weight%22%3A%203%7D%0A%20%20%20%20%20%20%20%20%20%20%20%20%29.addTo%28map_a1d00f7722f64a9393b48021895cff65%29%3B%0A%20%20%20%20%20%20%20%20%0A%20%20%20%20%0A%20%20%20%20%20%20%20%20%20%20%20%20circle_e99d2c49e1fa4dde8d5a8eb9cb5cb59a.bindTooltip%28%0A%20%20%20%20%20%20%20%20%20%20%20%20%20%20%20%20%60%3Cdiv%3E%0A%20%20%20%20%20%20%20%20%20%20%20%20%20%20%20%20%20%20%20%20%20%3Cdiv%20style%3D%27margin%3A%200%3B%20background-color%3A%20black%3B%20color%3A%20white%3B%27%3E%3Ch4%20style%3D%27text-align%3Acenter%3Bfont-weight%3A%20bold%27%3ELiechtenstein%3C/h4%3E%3Chr%20style%3D%27margin%3A10px%3Bcolor%3A%20white%3B%27%3E%3Cul%20style%3D%27color%3A%20white%3B%3Blist-style-type%3Acircle%3Balign-item%3Aleft%3Bpadding-left%3A20px%3Bpadding-right%3A20px%27%3E%3Cli%3EConfirmed%3A%202956%3C/li%3E%3Cli%3EDeaths%3A%20%20%2085%3C/li%3E%3Cli%3EDeath%20Rate%3A%202.87%3C/li%3E%3C/ul%3E%3C/div%3E%0A%20%20%20%20%20%20%20%20%20%20%20%20%20%20%20%20%20%3C/div%3E%60%2C%0A%20%20%20%20%20%20%20%20%20%20%20%20%20%20%20%20%7B%22sticky%22%3A%20true%7D%0A%20%20%20%20%20%20%20%20%20%20%20%20%29%3B%0A%20%20%20%20%20%20%20%20%0A%20%20%20%20%0A%20%20%20%20%20%20%20%20%20%20%20%20var%20circle_c4de6ec673314cb1bafbf7afad0fd9b3%20%3D%20L.circle%28%0A%20%20%20%20%20%20%20%20%20%20%20%20%20%20%20%20%5B55.1694%2C%2023.8813%5D%2C%0A%20%20%20%20%20%20%20%20%20%20%20%20%20%20%20%20%7B%22bubblingMouseEvents%22%3A%20true%2C%20%22color%22%3A%20%22red%22%2C%20%22dashArray%22%3A%20null%2C%20%22dashOffset%22%3A%20null%2C%20%22fill%22%3A%20true%2C%20%22fillColor%22%3A%20%22indigo%22%2C%20%22fillOpacity%22%3A%200.2%2C%20%22fillRule%22%3A%20%22evenodd%22%2C%20%22lineCap%22%3A%20%22round%22%2C%20%22lineJoin%22%3A%20%22round%22%2C%20%22opacity%22%3A%201.0%2C%20%22radius%22%3A%2061000.0%2C%20%22stroke%22%3A%20true%2C%20%22weight%22%3A%203%7D%0A%20%20%20%20%20%20%20%20%20%20%20%20%29.addTo%28map_a1d00f7722f64a9393b48021895cff65%29%3B%0A%20%20%20%20%20%20%20%20%0A%20%20%20%20%0A%20%20%20%20%20%20%20%20%20%20%20%20circle_c4de6ec673314cb1bafbf7afad0fd9b3.bindTooltip%28%0A%20%20%20%20%20%20%20%20%20%20%20%20%20%20%20%20%60%3Cdiv%3E%0A%20%20%20%20%20%20%20%20%20%20%20%20%20%20%20%20%20%20%20%20%20%3Cdiv%20style%3D%27margin%3A%200%3B%20background-color%3A%20black%3B%20color%3A%20white%3B%27%3E%3Ch4%20style%3D%27text-align%3Acenter%3Bfont-weight%3A%20bold%27%3ELithuania%3C/h4%3E%3Chr%20style%3D%27margin%3A10px%3Bcolor%3A%20white%3B%27%3E%3Cul%20style%3D%27color%3A%20white%3B%3Blist-style-type%3Acircle%3Balign-item%3Aleft%3Bpadding-left%3A20px%3Bpadding-right%3A20px%27%3E%3Cli%3EConfirmed%3A%20252699%3C/li%3E%3Cli%3EDeaths%3A%20%20%203058%3C/li%3E%3Cli%3EDeath%20Rate%3A%201.21%3C/li%3E%3C/ul%3E%3C/div%3E%0A%20%20%20%20%20%20%20%20%20%20%20%20%20%20%20%20%20%3C/div%3E%60%2C%0A%20%20%20%20%20%20%20%20%20%20%20%20%20%20%20%20%7B%22sticky%22%3A%20true%7D%0A%20%20%20%20%20%20%20%20%20%20%20%20%29%3B%0A%20%20%20%20%20%20%20%20%0A%20%20%20%20%0A%20%20%20%20%20%20%20%20%20%20%20%20var%20circle_35a4dd453794452b8565a70b862bddd5%20%3D%20L.circle%28%0A%20%20%20%20%20%20%20%20%20%20%20%20%20%20%20%20%5B49.8153%2C%206.1296%5D%2C%0A%20%20%20%20%20%20%20%20%20%20%20%20%20%20%20%20%7B%22bubblingMouseEvents%22%3A%20true%2C%20%22color%22%3A%20%22red%22%2C%20%22dashArray%22%3A%20null%2C%20%22dashOffset%22%3A%20null%2C%20%22fill%22%3A%20true%2C%20%22fillColor%22%3A%20%22indigo%22%2C%20%22fillOpacity%22%3A%200.2%2C%20%22fillRule%22%3A%20%22evenodd%22%2C%20%22lineCap%22%3A%20%22round%22%2C%20%22lineJoin%22%3A%20%22round%22%2C%20%22opacity%22%3A%201.0%2C%20%22radius%22%3A%2056000.0%2C%20%22stroke%22%3A%20true%2C%20%22weight%22%3A%203%7D%0A%20%20%20%20%20%20%20%20%20%20%20%20%29.addTo%28map_a1d00f7722f64a9393b48021895cff65%29%3B%0A%20%20%20%20%20%20%20%20%0A%20%20%20%20%0A%20%20%20%20%20%20%20%20%20%20%20%20circle_35a4dd453794452b8565a70b862bddd5.bindTooltip%28%0A%20%20%20%20%20%20%20%20%20%20%20%20%20%20%20%20%60%3Cdiv%3E%0A%20%20%20%20%20%20%20%20%20%20%20%20%20%20%20%20%20%20%20%20%20%3Cdiv%20style%3D%27margin%3A%200%3B%20background-color%3A%20black%3B%20color%3A%20white%3B%27%3E%3Ch4%20style%3D%27text-align%3Acenter%3Bfont-weight%3A%20bold%27%3ELuxembourg%3C/h4%3E%3Chr%20style%3D%27margin%3A10px%3Bcolor%3A%20white%3B%27%3E%3Cul%20style%3D%27color%3A%20white%3B%3Blist-style-type%3Acircle%3Balign-item%3Aleft%3Bpadding-left%3A20px%3Bpadding-right%3A20px%27%3E%3Cli%3EConfirmed%3A%2067850%3C/li%3E%3Cli%3EDeaths%3A%20%20%2057%3C/li%3E%3Cli%3EDeath%20Rate%3A%200.08%3C/li%3E%3C/ul%3E%3C/div%3E%0A%20%20%20%20%20%20%20%20%20%20%20%20%20%20%20%20%20%3C/div%3E%60%2C%0A%20%20%20%20%20%20%20%20%20%20%20%20%20%20%20%20%7B%22sticky%22%3A%20true%7D%0A%20%20%20%20%20%20%20%20%20%20%20%20%29%3B%0A%20%20%20%20%20%20%20%20%0A%20%20%20%20%0A%20%20%20%20%20%20%20%20%20%20%20%20var%20circle_5897a3d069f14d7da87838ead0a92189%20%3D%20L.circle%28%0A%20%20%20%20%20%20%20%20%20%20%20%20%20%20%20%20%5B0.0%2C%200.0%5D%2C%0A%20%20%20%20%20%20%20%20%20%20%20%20%20%20%20%20%7B%22bubblingMouseEvents%22%3A%20true%2C%20%22color%22%3A%20%22red%22%2C%20%22dashArray%22%3A%20null%2C%20%22dashOffset%22%3A%20null%2C%20%22fill%22%3A%20true%2C%20%22fillColor%22%3A%20%22indigo%22%2C%20%22fillOpacity%22%3A%200.2%2C%20%22fillRule%22%3A%20%22evenodd%22%2C%20%22lineCap%22%3A%20%22round%22%2C%20%22lineJoin%22%3A%20%22round%22%2C%20%22opacity%22%3A%201.0%2C%20%22radius%22%3A%2011000.0%2C%20%22stroke%22%3A%20true%2C%20%22weight%22%3A%203%7D%0A%20%20%20%20%20%20%20%20%20%20%20%20%29.addTo%28map_a1d00f7722f64a9393b48021895cff65%29%3B%0A%20%20%20%20%20%20%20%20%0A%20%20%20%20%0A%20%20%20%20%20%20%20%20%20%20%20%20circle_5897a3d069f14d7da87838ead0a92189.bindTooltip%28%0A%20%20%20%20%20%20%20%20%20%20%20%20%20%20%20%20%60%3Cdiv%3E%0A%20%20%20%20%20%20%20%20%20%20%20%20%20%20%20%20%20%20%20%20%20%3Cdiv%20style%3D%27margin%3A%200%3B%20background-color%3A%20black%3B%20color%3A%20white%3B%27%3E%3Ch4%20style%3D%27text-align%3Acenter%3Bfont-weight%3A%20bold%27%3EMS%20Zaandam%3C/h4%3E%3Chr%20style%3D%27margin%3A10px%3Bcolor%3A%20white%3B%27%3E%3Cul%20style%3D%27color%3A%20white%3B%3Blist-style-type%3Acircle%3Balign-item%3Aleft%3Bpadding-left%3A20px%3Bpadding-right%3A20px%27%3E%3Cli%3EConfirmed%3A%209%3C/li%3E%3Cli%3EDeaths%3A%20%20%203993%3C/li%3E%3Cli%3EDeath%20Rate%3A%2039929.96%3C/li%3E%3C/ul%3E%3C/div%3E%0A%20%20%20%20%20%20%20%20%20%20%20%20%20%20%20%20%20%3C/div%3E%60%2C%0A%20%20%20%20%20%20%20%20%20%20%20%20%20%20%20%20%7B%22sticky%22%3A%20true%7D%0A%20%20%20%20%20%20%20%20%20%20%20%20%29%3B%0A%20%20%20%20%20%20%20%20%0A%20%20%20%20%0A%20%20%20%20%20%20%20%20%20%20%20%20var%20circle_c0d30a6b21a74912a6e12dbe176c21a6%20%3D%20L.circle%28%0A%20%20%20%20%20%20%20%20%20%20%20%20%20%20%20%20%5B-18.766947000000002%2C%2046.869107%5D%2C%0A%20%20%20%20%20%20%20%20%20%20%20%20%20%20%20%20%7B%22bubblingMouseEvents%22%3A%20true%2C%20%22color%22%3A%20%22red%22%2C%20%22dashArray%22%3A%20null%2C%20%22dashOffset%22%3A%20null%2C%20%22fill%22%3A%20true%2C%20%22fillColor%22%3A%20%22indigo%22%2C%20%22fillOpacity%22%3A%200.2%2C%20%22fillRule%22%3A%20%22evenodd%22%2C%20%22lineCap%22%3A%20%22round%22%2C%20%22lineJoin%22%3A%20%22round%22%2C%20%22opacity%22%3A%201.0%2C%20%22radius%22%3A%2051000.0%2C%20%22stroke%22%3A%20true%2C%20%22weight%22%3A%203%7D%0A%20%20%20%20%20%20%20%20%20%20%20%20%29.addTo%28map_a1d00f7722f64a9393b48021895cff65%29%3B%0A%20%20%20%20%20%20%20%20%0A%20%20%20%20%0A%20%20%20%20%20%20%20%20%20%20%20%20circle_c0d30a6b21a74912a6e12dbe176c21a6.bindTooltip%28%0A%20%20%20%20%20%20%20%20%20%20%20%20%20%20%20%20%60%3Cdiv%3E%0A%20%20%20%20%20%20%20%20%20%20%20%20%20%20%20%20%20%20%20%20%20%3Cdiv%20style%3D%27margin%3A%200%3B%20background-color%3A%20black%3B%20color%3A%20white%3B%27%3E%3Ch4%20style%3D%27text-align%3Acenter%3Bfont-weight%3A%20bold%27%3EMadagascar%3C/h4%3E%3Chr%20style%3D%27margin%3A10px%3Bcolor%3A%20white%3B%27%3E%3Cul%20style%3D%27color%3A%20white%3B%3Blist-style-type%3Acircle%3Balign-item%3Aleft%3Bpadding-left%3A20px%3Bpadding-right%3A20px%27%3E%3Cli%3EConfirmed%3A%2038116%3C/li%3E%3Cli%3EDeaths%3A%20%20%20800%3C/li%3E%3Cli%3EDeath%20Rate%3A%202.1%3C/li%3E%3C/ul%3E%3C/div%3E%0A%20%20%20%20%20%20%20%20%20%20%20%20%20%20%20%20%20%3C/div%3E%60%2C%0A%20%20%20%20%20%20%20%20%20%20%20%20%20%20%20%20%7B%22sticky%22%3A%20true%7D%0A%20%20%20%20%20%20%20%20%20%20%20%20%29%3B%0A%20%20%20%20%20%20%20%20%0A%20%20%20%20%0A%20%20%20%20%20%20%20%20%20%20%20%20var%20circle_533102fefabf40ffaec3d70cd347ff61%20%3D%20L.circle%28%0A%20%20%20%20%20%20%20%20%20%20%20%20%20%20%20%20%5B-13.2543%2C%2034.3015%5D%2C%0A%20%20%20%20%20%20%20%20%20%20%20%20%20%20%20%20%7B%22bubblingMouseEvents%22%3A%20true%2C%20%22color%22%3A%20%22red%22%2C%20%22dashArray%22%3A%20null%2C%20%22dashOffset%22%3A%20null%2C%20%22fill%22%3A%20true%2C%20%22fillColor%22%3A%20%22indigo%22%2C%20%22fillOpacity%22%3A%200.2%2C%20%22fillRule%22%3A%20%22evenodd%22%2C%20%22lineCap%22%3A%20%22round%22%2C%20%22lineJoin%22%3A%20%22round%22%2C%20%22opacity%22%3A%201.0%2C%20%22radius%22%3A%2051000.0%2C%20%22stroke%22%3A%20true%2C%20%22weight%22%3A%203%7D%0A%20%20%20%20%20%20%20%20%20%20%20%20%29.addTo%28map_a1d00f7722f64a9393b48021895cff65%29%3B%0A%20%20%20%20%20%20%20%20%0A%20%20%20%20%0A%20%20%20%20%20%20%20%20%20%20%20%20circle_533102fefabf40ffaec3d70cd347ff61.bindTooltip%28%0A%20%20%20%20%20%20%20%20%20%20%20%20%20%20%20%20%60%3Cdiv%3E%0A%20%20%20%20%20%20%20%20%20%20%20%20%20%20%20%20%20%20%20%20%20%3Cdiv%20style%3D%27margin%3A%200%3B%20background-color%3A%20black%3B%20color%3A%20white%3B%27%3E%3Ch4%20style%3D%27text-align%3Acenter%3Bfont-weight%3A%20bold%27%3EMalawi%3C/h4%3E%3Chr%20style%3D%27margin%3A10px%3Bcolor%3A%20white%3B%27%3E%3Cul%20style%3D%27color%3A%20white%3B%3Blist-style-type%3Acircle%3Balign-item%3Aleft%3Bpadding-left%3A20px%3Bpadding-right%3A20px%27%3E%3Cli%3EConfirmed%3A%2034143%3C/li%3E%3Cli%3EDeaths%3A%20%20%202%3C/li%3E%3Cli%3EDeath%20Rate%3A%200.01%3C/li%3E%3C/ul%3E%3C/div%3E%0A%20%20%20%20%20%20%20%20%20%20%20%20%20%20%20%20%20%3C/div%3E%60%2C%0A%20%20%20%20%20%20%20%20%20%20%20%20%20%20%20%20%7B%22sticky%22%3A%20true%7D%0A%20%20%20%20%20%20%20%20%20%20%20%20%29%3B%0A%20%20%20%20%20%20%20%20%0A%20%20%20%20%0A%20%20%20%20%20%20%20%20%20%20%20%20var%20circle_de47f2cc8f6149dcaf1b2bb00f7fff67%20%3D%20L.circle%28%0A%20%20%20%20%20%20%20%20%20%20%20%20%20%20%20%20%5B4.210483999999999%2C%20101.97576600000001%5D%2C%0A%20%20%20%20%20%20%20%20%20%20%20%20%20%20%20%20%7B%22bubblingMouseEvents%22%3A%20true%2C%20%22color%22%3A%20%22red%22%2C%20%22dashArray%22%3A%20null%2C%20%22dashOffset%22%3A%20null%2C%20%22fill%22%3A%20true%2C%20%22fillColor%22%3A%20%22indigo%22%2C%20%22fillOpacity%22%3A%200.2%2C%20%22fillRule%22%3A%20%22evenodd%22%2C%20%22lineCap%22%3A%20%22round%22%2C%20%22lineJoin%22%3A%20%22round%22%2C%20%22opacity%22%3A%201.0%2C%20%22radius%22%3A%2061000.0%2C%20%22stroke%22%3A%20true%2C%20%22weight%22%3A%203%7D%0A%20%20%20%20%20%20%20%20%20%20%20%20%29.addTo%28map_a1d00f7722f64a9393b48021895cff65%29%3B%0A%20%20%20%20%20%20%20%20%0A%20%20%20%20%0A%20%20%20%20%20%20%20%20%20%20%20%20circle_de47f2cc8f6149dcaf1b2bb00f7fff67.bindTooltip%28%0A%20%20%20%20%20%20%20%20%20%20%20%20%20%20%20%20%60%3Cdiv%3E%0A%20%20%20%20%20%20%20%20%20%20%20%20%20%20%20%20%20%20%20%20%20%3Cdiv%20style%3D%27margin%3A%200%3B%20background-color%3A%20black%3B%20color%3A%20white%3B%27%3E%3Ch4%20style%3D%27text-align%3Acenter%3Bfont-weight%3A%20bold%27%3EMalaysia%3C/h4%3E%3Chr%20style%3D%27margin%3A10px%3Bcolor%3A%20white%3B%27%3E%3Cul%20style%3D%27color%3A%20white%3B%3Blist-style-type%3Acircle%3Balign-item%3Aleft%3Bpadding-left%3A20px%3Bpadding-right%3A20px%27%3E%3Cli%3EConfirmed%3A%20424376%3C/li%3E%3Cli%3EDeaths%3A%20%20%20690%3C/li%3E%3Cli%3EDeath%20Rate%3A%200.16%3C/li%3E%3C/ul%3E%3C/div%3E%0A%20%20%20%20%20%20%20%20%20%20%20%20%20%20%20%20%20%3C/div%3E%60%2C%0A%20%20%20%20%20%20%20%20%20%20%20%20%20%20%20%20%7B%22sticky%22%3A%20true%7D%0A%20%20%20%20%20%20%20%20%20%20%20%20%29%3B%0A%20%20%20%20%20%20%20%20%0A%20%20%20%20%0A%20%20%20%20%20%20%20%20%20%20%20%20var%20circle_5eae7d8a3c644a14801f869ac7c9696a%20%3D%20L.circle%28%0A%20%20%20%20%20%20%20%20%20%20%20%20%20%20%20%20%5B3.2028%2C%2073.2207%5D%2C%0A%20%20%20%20%20%20%20%20%20%20%20%20%20%20%20%20%7B%22bubblingMouseEvents%22%3A%20true%2C%20%22color%22%3A%20%22red%22%2C%20%22dashArray%22%3A%20null%2C%20%22dashOffset%22%3A%20null%2C%20%22fill%22%3A%20true%2C%20%22fillColor%22%3A%20%22indigo%22%2C%20%22fillOpacity%22%3A%200.2%2C%20%22fillRule%22%3A%20%22evenodd%22%2C%20%22lineCap%22%3A%20%22round%22%2C%20%22lineJoin%22%3A%20%22round%22%2C%20%22opacity%22%3A%201.0%2C%20%22radius%22%3A%2051000.0%2C%20%22stroke%22%3A%20true%2C%20%22weight%22%3A%203%7D%0A%20%20%20%20%20%20%20%20%20%20%20%20%29.addTo%28map_a1d00f7722f64a9393b48021895cff65%29%3B%0A%20%20%20%20%20%20%20%20%0A%20%20%20%20%0A%20%20%20%20%20%20%20%20%20%20%20%20circle_5eae7d8a3c644a14801f869ac7c9696a.bindTooltip%28%0A%20%20%20%20%20%20%20%20%20%20%20%20%20%20%20%20%60%3Cdiv%3E%0A%20%20%20%20%20%20%20%20%20%20%20%20%20%20%20%20%20%20%20%20%20%3Cdiv%20style%3D%27margin%3A%200%3B%20background-color%3A%20black%3B%20color%3A%20white%3B%27%3E%3Ch4%20style%3D%27text-align%3Acenter%3Bfont-weight%3A%20bold%27%3EMaldives%3C/h4%3E%3Chr%20style%3D%27margin%3A10px%3Bcolor%3A%20white%3B%27%3E%3Cul%20style%3D%27color%3A%20white%3B%3Blist-style-type%3Acircle%3Balign-item%3Aleft%3Bpadding-left%3A20px%3Bpadding-right%3A20px%27%3E%3Cli%3EConfirmed%3A%2032665%3C/li%3E%3Cli%3EDeaths%3A%20%20%201151%3C/li%3E%3Cli%3EDeath%20Rate%3A%203.52%3C/li%3E%3C/ul%3E%3C/div%3E%0A%20%20%20%20%20%20%20%20%20%20%20%20%20%20%20%20%20%3C/div%3E%60%2C%0A%20%20%20%20%20%20%20%20%20%20%20%20%20%20%20%20%7B%22sticky%22%3A%20true%7D%0A%20%20%20%20%20%20%20%20%20%20%20%20%29%3B%0A%20%20%20%20%20%20%20%20%0A%20%20%20%20%0A%20%20%20%20%20%20%20%20%20%20%20%20var%20circle_c601fb95058e487b9babe281e565fe94%20%3D%20L.circle%28%0A%20%20%20%20%20%20%20%20%20%20%20%20%20%20%20%20%5B17.570692%2C%20-3.9961660000000006%5D%2C%0A%20%20%20%20%20%20%20%20%20%20%20%20%20%20%20%20%7B%22bubblingMouseEvents%22%3A%20true%2C%20%22color%22%3A%20%22red%22%2C%20%22dashArray%22%3A%20null%2C%20%22dashOffset%22%3A%20null%2C%20%22fill%22%3A%20true%2C%20%22fillColor%22%3A%20%22indigo%22%2C%20%22fillOpacity%22%3A%200.2%2C%20%22fillRule%22%3A%20%22evenodd%22%2C%20%22lineCap%22%3A%20%22round%22%2C%20%22lineJoin%22%3A%20%22round%22%2C%20%22opacity%22%3A%201.0%2C%20%22radius%22%3A%2046000.0%2C%20%22stroke%22%3A%20true%2C%20%22weight%22%3A%203%7D%0A%20%20%20%20%20%20%20%20%20%20%20%20%29.addTo%28map_a1d00f7722f64a9393b48021895cff65%29%3B%0A%20%20%20%20%20%20%20%20%0A%20%20%20%20%0A%20%20%20%20%20%20%20%20%20%20%20%20circle_c601fb95058e487b9babe281e565fe94.bindTooltip%28%0A%20%20%20%20%20%20%20%20%20%20%20%20%20%20%20%20%60%3Cdiv%3E%0A%20%20%20%20%20%20%20%20%20%20%20%20%20%20%20%20%20%20%20%20%20%3Cdiv%20style%3D%27margin%3A%200%3B%20background-color%3A%20black%3B%20color%3A%20white%3B%27%3E%3Ch4%20style%3D%27text-align%3Acenter%3Bfont-weight%3A%20bold%27%3EMali%3C/h4%3E%3Chr%20style%3D%27margin%3A10px%3Bcolor%3A%20white%3B%27%3E%3Cul%20style%3D%27color%3A%20white%3B%3Blist-style-type%3Acircle%3Balign-item%3Aleft%3Bpadding-left%3A20px%3Bpadding-right%3A20px%27%3E%3Cli%3EConfirmed%3A%2013998%3C/li%3E%3Cli%3EDeaths%3A%20%20%201591%3C/li%3E%3Cli%3EDeath%20Rate%3A%2011.37%3C/li%3E%3C/ul%3E%3C/div%3E%0A%20%20%20%20%20%20%20%20%20%20%20%20%20%20%20%20%20%3C/div%3E%60%2C%0A%20%20%20%20%20%20%20%20%20%20%20%20%20%20%20%20%7B%22sticky%22%3A%20true%7D%0A%20%20%20%20%20%20%20%20%20%20%20%20%29%3B%0A%20%20%20%20%20%20%20%20%0A%20%20%20%20%0A%20%20%20%20%20%20%20%20%20%20%20%20var%20circle_b7e22e8483c749e1886347f9e244699e%20%3D%20L.circle%28%0A%20%20%20%20%20%20%20%20%20%20%20%20%20%20%20%20%5B35.9375%2C%2014.3754%5D%2C%0A%20%20%20%20%20%20%20%20%20%20%20%20%20%20%20%20%7B%22bubblingMouseEvents%22%3A%20true%2C%20%22color%22%3A%20%22red%22%2C%20%22dashArray%22%3A%20null%2C%20%22dashOffset%22%3A%20null%2C%20%22fill%22%3A%20true%2C%20%22fillColor%22%3A%20%22indigo%22%2C%20%22fillOpacity%22%3A%200.2%2C%20%22fillRule%22%3A%20%22evenodd%22%2C%20%22lineCap%22%3A%20%22round%22%2C%20%22lineJoin%22%3A%20%22round%22%2C%20%22opacity%22%3A%201.0%2C%20%22radius%22%3A%2051000.0%2C%20%22stroke%22%3A%20true%2C%20%22weight%22%3A%203%7D%0A%20%20%20%20%20%20%20%20%20%20%20%20%29.addTo%28map_a1d00f7722f64a9393b48021895cff65%29%3B%0A%20%20%20%20%20%20%20%20%0A%20%20%20%20%0A%20%20%20%20%20%20%20%20%20%20%20%20circle_b7e22e8483c749e1886347f9e244699e.bindTooltip%28%0A%20%20%20%20%20%20%20%20%20%20%20%20%20%20%20%20%60%3Cdiv%3E%0A%20%20%20%20%20%20%20%20%20%20%20%20%20%20%20%20%20%20%20%20%20%3Cdiv%20style%3D%27margin%3A%200%3B%20background-color%3A%20black%3B%20color%3A%20white%3B%27%3E%3Ch4%20style%3D%27text-align%3Acenter%3Bfont-weight%3A%20bold%27%3EMalta%3C/h4%3E%3Chr%20style%3D%27margin%3A10px%3Bcolor%3A%20white%3B%27%3E%3Cul%20style%3D%27color%3A%20white%3B%3Blist-style-type%3Acircle%3Balign-item%3Aleft%3Bpadding-left%3A20px%3Bpadding-right%3A20px%27%3E%3Cli%3EConfirmed%3A%2030411%3C/li%3E%3Cli%3EDeaths%3A%20%20%2074%3C/li%3E%3Cli%3EDeath%20Rate%3A%200.24%3C/li%3E%3C/ul%3E%3C/div%3E%0A%20%20%20%20%20%20%20%20%20%20%20%20%20%20%20%20%20%3C/div%3E%60%2C%0A%20%20%20%20%20%20%20%20%20%20%20%20%20%20%20%20%7B%22sticky%22%3A%20true%7D%0A%20%20%20%20%20%20%20%20%20%20%20%20%29%3B%0A%20%20%20%20%20%20%20%20%0A%20%20%20%20%0A%20%20%20%20%20%20%20%20%20%20%20%20var%20circle_ec33b1509e364967b861bf9ec0f77dad%20%3D%20L.circle%28%0A%20%20%20%20%20%20%20%20%20%20%20%20%20%20%20%20%5B7.1315%2C%20171.1845%5D%2C%0A%20%20%20%20%20%20%20%20%20%20%20%20%20%20%20%20%7B%22bubblingMouseEvents%22%3A%20true%2C%20%22color%22%3A%20%22red%22%2C%20%22dashArray%22%3A%20null%2C%20%22dashOffset%22%3A%20null%2C%20%22fill%22%3A%20true%2C%20%22fillColor%22%3A%20%22indigo%22%2C%20%22fillOpacity%22%3A%200.2%2C%20%22fillRule%22%3A%20%22evenodd%22%2C%20%22lineCap%22%3A%20%22round%22%2C%20%22lineJoin%22%3A%20%22round%22%2C%20%22opacity%22%3A%201.0%2C%20%22radius%22%3A%206000.0%2C%20%22stroke%22%3A%20true%2C%20%22weight%22%3A%203%7D%0A%20%20%20%20%20%20%20%20%20%20%20%20%29.addTo%28map_a1d00f7722f64a9393b48021895cff65%29%3B%0A%20%20%20%20%20%20%20%20%0A%20%20%20%20%0A%20%20%20%20%20%20%20%20%20%20%20%20circle_ec33b1509e364967b861bf9ec0f77dad.bindTooltip%28%0A%20%20%20%20%20%20%20%20%20%20%20%20%20%20%20%20%60%3Cdiv%3E%0A%20%20%20%20%20%20%20%20%20%20%20%20%20%20%20%20%20%20%20%20%20%3Cdiv%20style%3D%27margin%3A%200%3B%20background-color%3A%20black%3B%20color%3A%20white%3B%27%3E%3Ch4%20style%3D%27text-align%3Acenter%3Bfont-weight%3A%20bold%27%3EMarshall%20Islands%3C/h4%3E%3Chr%20style%3D%27margin%3A10px%3Bcolor%3A%20white%3B%27%3E%3Cul%20style%3D%27color%3A%20white%3B%3Blist-style-type%3Acircle%3Balign-item%3Aleft%3Bpadding-left%3A20px%3Bpadding-right%3A20px%27%3E%3Cli%3EConfirmed%3A%204%3C/li%3E%3Cli%3EDeaths%3A%20%20%20493%3C/li%3E%3Cli%3EDeath%20Rate%3A%209859.98%3C/li%3E%3C/ul%3E%3C/div%3E%0A%20%20%20%20%20%20%20%20%20%20%20%20%20%20%20%20%20%3C/div%3E%60%2C%0A%20%20%20%20%20%20%20%20%20%20%20%20%20%20%20%20%7B%22sticky%22%3A%20true%7D%0A%20%20%20%20%20%20%20%20%20%20%20%20%29%3B%0A%20%20%20%20%20%20%20%20%0A%20%20%20%20%0A%20%20%20%20%20%20%20%20%20%20%20%20var%20circle_8d0e053b351342a18727ff9a627b6e73%20%3D%20L.circle%28%0A%20%20%20%20%20%20%20%20%20%20%20%20%20%20%20%20%5B21.0079%2C%20-10.9408%5D%2C%0A%20%20%20%20%20%20%20%20%20%20%20%20%20%20%20%20%7B%22bubblingMouseEvents%22%3A%20true%2C%20%22color%22%3A%20%22red%22%2C%20%22dashArray%22%3A%20null%2C%20%22dashOffset%22%3A%20null%2C%20%22fill%22%3A%20true%2C%20%22fillColor%22%3A%20%22indigo%22%2C%20%22fillOpacity%22%3A%200.2%2C%20%22fillRule%22%3A%20%22evenodd%22%2C%20%22lineCap%22%3A%20%22round%22%2C%20%22lineJoin%22%3A%20%22round%22%2C%20%22opacity%22%3A%201.0%2C%20%22radius%22%3A%2046000.0%2C%20%22stroke%22%3A%20true%2C%20%22weight%22%3A%203%7D%0A%20%20%20%20%20%20%20%20%20%20%20%20%29.addTo%28map_a1d00f7722f64a9393b48021895cff65%29%3B%0A%20%20%20%20%20%20%20%20%0A%20%20%20%20%0A%20%20%20%20%20%20%20%20%20%20%20%20circle_8d0e053b351342a18727ff9a627b6e73.bindTooltip%28%0A%20%20%20%20%20%20%20%20%20%20%20%20%20%20%20%20%60%3Cdiv%3E%0A%20%20%20%20%20%20%20%20%20%20%20%20%20%20%20%20%20%20%20%20%20%3Cdiv%20style%3D%27margin%3A%200%3B%20background-color%3A%20black%3B%20color%3A%20white%3B%27%3E%3Ch4%20style%3D%27text-align%3Acenter%3Bfont-weight%3A%20bold%27%3EMauritania%3C/h4%3E%3Chr%20style%3D%27margin%3A10px%3Bcolor%3A%20white%3B%27%3E%3Cul%20style%3D%27color%3A%20white%3B%3Blist-style-type%3Acircle%3Balign-item%3Aleft%3Bpadding-left%3A20px%3Bpadding-right%3A20px%27%3E%3Cli%3EConfirmed%3A%2018542%3C/li%3E%3Cli%3EDeaths%3A%20%20%20416%3C/li%3E%3Cli%3EDeath%20Rate%3A%202.24%3C/li%3E%3C/ul%3E%3C/div%3E%0A%20%20%20%20%20%20%20%20%20%20%20%20%20%20%20%20%20%3C/div%3E%60%2C%0A%20%20%20%20%20%20%20%20%20%20%20%20%20%20%20%20%7B%22sticky%22%3A%20true%7D%0A%20%20%20%20%20%20%20%20%20%20%20%20%29%3B%0A%20%20%20%20%20%20%20%20%0A%20%20%20%20%0A%20%20%20%20%20%20%20%20%20%20%20%20var%20circle_7d81577e01e04185805c4c982f934a4d%20%3D%20L.circle%28%0A%20%20%20%20%20%20%20%20%20%20%20%20%20%20%20%20%5B-20.348404000000002%2C%2057.552152%5D%2C%0A%20%20%20%20%20%20%20%20%20%20%20%20%20%20%20%20%7B%22bubblingMouseEvents%22%3A%20true%2C%20%22color%22%3A%20%22red%22%2C%20%22dashArray%22%3A%20null%2C%20%22dashOffset%22%3A%20null%2C%20%22fill%22%3A%20true%2C%20%22fillColor%22%3A%20%22indigo%22%2C%20%22fillOpacity%22%3A%200.2%2C%20%22fillRule%22%3A%20%22evenodd%22%2C%20%22lineCap%22%3A%20%22round%22%2C%20%22lineJoin%22%3A%20%22round%22%2C%20%22opacity%22%3A%201.0%2C%20%22radius%22%3A%2036000.0%2C%20%22stroke%22%3A%20true%2C%20%22weight%22%3A%203%7D%0A%20%20%20%20%20%20%20%20%20%20%20%20%29.addTo%28map_a1d00f7722f64a9393b48021895cff65%29%3B%0A%20%20%20%20%20%20%20%20%0A%20%20%20%20%0A%20%20%20%20%20%20%20%20%20%20%20%20circle_7d81577e01e04185805c4c982f934a4d.bindTooltip%28%0A%20%20%20%20%20%20%20%20%20%20%20%20%20%20%20%20%60%3Cdiv%3E%0A%20%20%20%20%20%20%20%20%20%20%20%20%20%20%20%20%20%20%20%20%20%3Cdiv%20style%3D%27margin%3A%200%3B%20background-color%3A%20black%3B%20color%3A%20white%3B%27%3E%3Ch4%20style%3D%27text-align%3Acenter%3Bfont-weight%3A%20bold%27%3EMauritius%3C/h4%3E%3Chr%20style%3D%27margin%3A10px%3Bcolor%3A%20white%3B%27%3E%3Cul%20style%3D%27color%3A%20white%3B%3Blist-style-type%3Acircle%3Balign-item%3Aleft%3Bpadding-left%3A20px%3Bpadding-right%3A20px%27%3E%3Cli%3EConfirmed%3A%201216%3C/li%3E%3Cli%3EDeaths%3A%20%20%200%3C/li%3E%3Cli%3EDeath%20Rate%3A%200.0%3C/li%3E%3C/ul%3E%3C/div%3E%0A%20%20%20%20%20%20%20%20%20%20%20%20%20%20%20%20%20%3C/div%3E%60%2C%0A%20%20%20%20%20%20%20%20%20%20%20%20%20%20%20%20%7B%22sticky%22%3A%20true%7D%0A%20%20%20%20%20%20%20%20%20%20%20%20%29%3B%0A%20%20%20%20%20%20%20%20%0A%20%20%20%20%0A%20%20%20%20%20%20%20%20%20%20%20%20var%20circle_8a7697ee9bc94bc6b0d73629744eb17f%20%3D%20L.circle%28%0A%20%20%20%20%20%20%20%20%20%20%20%20%20%20%20%20%5B23.6345%2C%20-102.5528%5D%2C%0A%20%20%20%20%20%20%20%20%20%20%20%20%20%20%20%20%7B%22bubblingMouseEvents%22%3A%20true%2C%20%22color%22%3A%20%22red%22%2C%20%22dashArray%22%3A%20null%2C%20%22dashOffset%22%3A%20null%2C%20%22fill%22%3A%20true%2C%20%22fillColor%22%3A%20%22indigo%22%2C%20%22fillOpacity%22%3A%200.2%2C%20%22fillRule%22%3A%20%22evenodd%22%2C%20%22lineCap%22%3A%20%22round%22%2C%20%22lineJoin%22%3A%20%22round%22%2C%20%22opacity%22%3A%201.0%2C%20%22radius%22%3A%2071000.0%2C%20%22stroke%22%3A%20true%2C%20%22weight%22%3A%203%7D%0A%20%20%20%20%20%20%20%20%20%20%20%20%29.addTo%28map_a1d00f7722f64a9393b48021895cff65%29%3B%0A%20%20%20%20%20%20%20%20%0A%20%20%20%20%0A%20%20%20%20%20%20%20%20%20%20%20%20circle_8a7697ee9bc94bc6b0d73629744eb17f.bindTooltip%28%0A%20%20%20%20%20%20%20%20%20%20%20%20%20%20%20%20%60%3Cdiv%3E%0A%20%20%20%20%20%20%20%20%20%20%20%20%20%20%20%20%20%20%20%20%20%3Cdiv%20style%3D%27margin%3A%200%3B%20background-color%3A%20black%3B%20color%3A%20white%3B%27%3E%3Ch4%20style%3D%27text-align%3Acenter%3Bfont-weight%3A%20bold%27%3EMexico%3C/h4%3E%3Chr%20style%3D%27margin%3A10px%3Bcolor%3A%20white%3B%27%3E%3Cul%20style%3D%27color%3A%20white%3B%3Blist-style-type%3Acircle%3Balign-item%3Aleft%3Bpadding-left%3A20px%3Bpadding-right%3A20px%27%3E%3Cli%3EConfirmed%3A%202355985%3C/li%3E%3Cli%3EDeaths%3A%20%20%20456%3C/li%3E%3Cli%3EDeath%20Rate%3A%200.02%3C/li%3E%3C/ul%3E%3C/div%3E%0A%20%20%20%20%20%20%20%20%20%20%20%20%20%20%20%20%20%3C/div%3E%60%2C%0A%20%20%20%20%20%20%20%20%20%20%20%20%20%20%20%20%7B%22sticky%22%3A%20true%7D%0A%20%20%20%20%20%20%20%20%20%20%20%20%29%3B%0A%20%20%20%20%20%20%20%20%0A%20%20%20%20%0A%20%20%20%20%20%20%20%20%20%20%20%20var%20circle_681cb995a28446269592e65ad121a9bc%20%3D%20L.circle%28%0A%20%20%20%20%20%20%20%20%20%20%20%20%20%20%20%20%5B7.4256%2C%20150.5508%5D%2C%0A%20%20%20%20%20%20%20%20%20%20%20%20%20%20%20%20%7B%22bubblingMouseEvents%22%3A%20true%2C%20%22color%22%3A%20%22red%22%2C%20%22dashArray%22%3A%20null%2C%20%22dashOffset%22%3A%20null%2C%20%22fill%22%3A%20true%2C%20%22fillColor%22%3A%20%22indigo%22%2C%20%22fillOpacity%22%3A%200.2%2C%20%22fillRule%22%3A%20%22evenodd%22%2C%20%22lineCap%22%3A%20%22round%22%2C%20%22lineJoin%22%3A%20%22round%22%2C%20%22opacity%22%3A%201.0%2C%20%22radius%22%3A%201000.0%2C%20%22stroke%22%3A%20true%2C%20%22weight%22%3A%203%7D%0A%20%20%20%20%20%20%20%20%20%20%20%20%29.addTo%28map_a1d00f7722f64a9393b48021895cff65%29%3B%0A%20%20%20%20%20%20%20%20%0A%20%20%20%20%0A%20%20%20%20%20%20%20%20%20%20%20%20circle_681cb995a28446269592e65ad121a9bc.bindTooltip%28%0A%20%20%20%20%20%20%20%20%20%20%20%20%20%20%20%20%60%3Cdiv%3E%0A%20%20%20%20%20%20%20%20%20%20%20%20%20%20%20%20%20%20%20%20%20%3Cdiv%20style%3D%27margin%3A%200%3B%20background-color%3A%20black%3B%20color%3A%20white%3B%27%3E%3Ch4%20style%3D%27text-align%3Acenter%3Bfont-weight%3A%20bold%27%3EMicronesia%3C/h4%3E%3Chr%20style%3D%27margin%3A10px%3Bcolor%3A%20white%3B%27%3E%3Cul%20style%3D%27color%3A%20white%3B%3Blist-style-type%3Acircle%3Balign-item%3Aleft%3Bpadding-left%3A20px%3Bpadding-right%3A20px%27%3E%3Cli%3EConfirmed%3A%201%3C/li%3E%3Cli%3EDeaths%3A%20%20%2017%3C/li%3E%3Cli%3EDeath%20Rate%3A%20850.0%3C/li%3E%3C/ul%3E%3C/div%3E%0A%20%20%20%20%20%20%20%20%20%20%20%20%20%20%20%20%20%3C/div%3E%60%2C%0A%20%20%20%20%20%20%20%20%20%20%20%20%20%20%20%20%7B%22sticky%22%3A%20true%7D%0A%20%20%20%20%20%20%20%20%20%20%20%20%29%3B%0A%20%20%20%20%20%20%20%20%0A%20%20%20%20%0A%20%20%20%20%20%20%20%20%20%20%20%20var%20circle_4994be3f33464898a5fddf522e11d52b%20%3D%20L.circle%28%0A%20%20%20%20%20%20%20%20%20%20%20%20%20%20%20%20%5B47.4116%2C%2028.3699%5D%2C%0A%20%20%20%20%20%20%20%20%20%20%20%20%20%20%20%20%7B%22bubblingMouseEvents%22%3A%20true%2C%20%22color%22%3A%20%22red%22%2C%20%22dashArray%22%3A%20null%2C%20%22dashOffset%22%3A%20null%2C%20%22fill%22%3A%20true%2C%20%22fillColor%22%3A%20%22indigo%22%2C%20%22fillOpacity%22%3A%200.2%2C%20%22fillRule%22%3A%20%22evenodd%22%2C%20%22lineCap%22%3A%20%22round%22%2C%20%22lineJoin%22%3A%20%22round%22%2C%20%22opacity%22%3A%201.0%2C%20%22radius%22%3A%2061000.0%2C%20%22stroke%22%3A%20true%2C%20%22weight%22%3A%203%7D%0A%20%20%20%20%20%20%20%20%20%20%20%20%29.addTo%28map_a1d00f7722f64a9393b48021895cff65%29%3B%0A%20%20%20%20%20%20%20%20%0A%20%20%20%20%0A%20%20%20%20%20%20%20%20%20%20%20%20circle_4994be3f33464898a5fddf522e11d52b.bindTooltip%28%0A%20%20%20%20%20%20%20%20%20%20%20%20%20%20%20%20%60%3Cdiv%3E%0A%20%20%20%20%20%20%20%20%20%20%20%20%20%20%20%20%20%20%20%20%20%3Cdiv%20style%3D%27margin%3A%200%3B%20background-color%3A%20black%3B%20color%3A%20white%3B%27%3E%3Ch4%20style%3D%27text-align%3Acenter%3Bfont-weight%3A%20bold%27%3EMoldova%3C/h4%3E%3Chr%20style%3D%27margin%3A10px%3Bcolor%3A%20white%3B%27%3E%3Cul%20style%3D%27color%3A%20white%3B%3Blist-style-type%3Acircle%3Balign-item%3Aleft%3Bpadding-left%3A20px%3Bpadding-right%3A20px%27%3E%3Cli%3EConfirmed%3A%20251820%3C/li%3E%3Cli%3EDeaths%3A%20%20%20218007%3C/li%3E%3Cli%3EDeath%20Rate%3A%2086.57%3C/li%3E%3C/ul%3E%3C/div%3E%0A%20%20%20%20%20%20%20%20%20%20%20%20%20%20%20%20%20%3C/div%3E%60%2C%0A%20%20%20%20%20%20%20%20%20%20%20%20%20%20%20%20%7B%22sticky%22%3A%20true%7D%0A%20%20%20%20%20%20%20%20%20%20%20%20%29%3B%0A%20%20%20%20%20%20%20%20%0A%20%20%20%20%0A%20%20%20%20%20%20%20%20%20%20%20%20var%20circle_ed8ce4863df0496288458d166eb80f43%20%3D%20L.circle%28%0A%20%20%20%20%20%20%20%20%20%20%20%20%20%20%20%20%5B43.7333%2C%207.4167%5D%2C%0A%20%20%20%20%20%20%20%20%20%20%20%20%20%20%20%20%7B%22bubblingMouseEvents%22%3A%20true%2C%20%22color%22%3A%20%22red%22%2C%20%22dashArray%22%3A%20null%2C%20%22dashOffset%22%3A%20null%2C%20%22fill%22%3A%20true%2C%20%22fillColor%22%3A%20%22indigo%22%2C%20%22fillOpacity%22%3A%200.2%2C%20%22fillRule%22%3A%20%22evenodd%22%2C%20%22lineCap%22%3A%20%22round%22%2C%20%22lineJoin%22%3A%20%22round%22%2C%20%22opacity%22%3A%201.0%2C%20%22radius%22%3A%2036000.0%2C%20%22stroke%22%3A%20true%2C%20%22weight%22%3A%203%7D%0A%20%20%20%20%20%20%20%20%20%20%20%20%29.addTo%28map_a1d00f7722f64a9393b48021895cff65%29%3B%0A%20%20%20%20%20%20%20%20%0A%20%20%20%20%0A%20%20%20%20%20%20%20%20%20%20%20%20circle_ed8ce4863df0496288458d166eb80f43.bindTooltip%28%0A%20%20%20%20%20%20%20%20%20%20%20%20%20%20%20%20%60%3Cdiv%3E%0A%20%20%20%20%20%20%20%20%20%20%20%20%20%20%20%20%20%20%20%20%20%3Cdiv%20style%3D%27margin%3A%200%3B%20background-color%3A%20black%3B%20color%3A%20white%3B%27%3E%3Ch4%20style%3D%27text-align%3Acenter%3Bfont-weight%3A%20bold%27%3EMonaco%3C/h4%3E%3Chr%20style%3D%27margin%3A10px%3Bcolor%3A%20white%3B%27%3E%3Cul%20style%3D%27color%3A%20white%3B%3Blist-style-type%3Acircle%3Balign-item%3Aleft%3Bpadding-left%3A20px%3Bpadding-right%3A20px%27%3E%3Cli%3EConfirmed%3A%202471%3C/li%3E%3Cli%3EDeaths%3A%20%20%200%3C/li%3E%3Cli%3EDeath%20Rate%3A%200.0%3C/li%3E%3C/ul%3E%3C/div%3E%0A%20%20%20%20%20%20%20%20%20%20%20%20%20%20%20%20%20%3C/div%3E%60%2C%0A%20%20%20%20%20%20%20%20%20%20%20%20%20%20%20%20%7B%22sticky%22%3A%20true%7D%0A%20%20%20%20%20%20%20%20%20%20%20%20%29%3B%0A%20%20%20%20%20%20%20%20%0A%20%20%20%20%0A%20%20%20%20%20%20%20%20%20%20%20%20var%20circle_584304802993457299fb2f92823ee234%20%3D%20L.circle%28%0A%20%20%20%20%20%20%20%20%20%20%20%20%20%20%20%20%5B46.8625%2C%20103.8467%5D%2C%0A%20%20%20%20%20%20%20%20%20%20%20%20%20%20%20%20%7B%22bubblingMouseEvents%22%3A%20true%2C%20%22color%22%3A%20%22red%22%2C%20%22dashArray%22%3A%20null%2C%20%22dashOffset%22%3A%20null%2C%20%22fill%22%3A%20true%2C%20%22fillColor%22%3A%20%22indigo%22%2C%20%22fillOpacity%22%3A%200.2%2C%20%22fillRule%22%3A%20%22evenodd%22%2C%20%22lineCap%22%3A%20%22round%22%2C%20%22lineJoin%22%3A%20%22round%22%2C%20%22opacity%22%3A%201.0%2C%20%22radius%22%3A%2051000.0%2C%20%22stroke%22%3A%20true%2C%20%22weight%22%3A%203%7D%0A%20%20%20%20%20%20%20%20%20%20%20%20%29.addTo%28map_a1d00f7722f64a9393b48021895cff65%29%3B%0A%20%20%20%20%20%20%20%20%0A%20%20%20%20%0A%20%20%20%20%20%20%20%20%20%20%20%20circle_584304802993457299fb2f92823ee234.bindTooltip%28%0A%20%20%20%20%20%20%20%20%20%20%20%20%20%20%20%20%60%3Cdiv%3E%0A%20%20%20%20%20%20%20%20%20%20%20%20%20%20%20%20%20%20%20%20%20%3Cdiv%20style%3D%27margin%3A%200%3B%20background-color%3A%20black%3B%20color%3A%20white%3B%27%3E%3Ch4%20style%3D%27text-align%3Acenter%3Bfont-weight%3A%20bold%27%3EMongolia%3C/h4%3E%3Chr%20style%3D%27margin%3A10px%3Bcolor%3A%20white%3B%27%3E%3Cul%20style%3D%27color%3A%20white%3B%3Blist-style-type%3Acircle%3Balign-item%3Aleft%3Bpadding-left%3A20px%3Bpadding-right%3A20px%27%3E%3Cli%3EConfirmed%3A%2041524%3C/li%3E%3Cli%3EDeaths%3A%20%20%205892%3C/li%3E%3Cli%3EDeath%20Rate%3A%2014.19%3C/li%3E%3C/ul%3E%3C/div%3E%0A%20%20%20%20%20%20%20%20%20%20%20%20%20%20%20%20%20%3C/div%3E%60%2C%0A%20%20%20%20%20%20%20%20%20%20%20%20%20%20%20%20%7B%22sticky%22%3A%20true%7D%0A%20%20%20%20%20%20%20%20%20%20%20%20%29%3B%0A%20%20%20%20%20%20%20%20%0A%20%20%20%20%0A%20%20%20%20%20%20%20%20%20%20%20%20var%20circle_fe359d87c0c14891b8277279243e1cf0%20%3D%20L.circle%28%0A%20%20%20%20%20%20%20%20%20%20%20%20%20%20%20%20%5B42.708678000000006%2C%2019.37439%5D%2C%0A%20%20%20%20%20%20%20%20%20%20%20%20%20%20%20%20%7B%22bubblingMouseEvents%22%3A%20true%2C%20%22color%22%3A%20%22red%22%2C%20%22dashArray%22%3A%20null%2C%20%22dashOffset%22%3A%20null%2C%20%22fill%22%3A%20true%2C%20%22fillColor%22%3A%20%22indigo%22%2C%20%22fillOpacity%22%3A%200.2%2C%20%22fillRule%22%3A%20%22evenodd%22%2C%20%22lineCap%22%3A%20%22round%22%2C%20%22lineJoin%22%3A%20%22round%22%2C%20%22opacity%22%3A%201.0%2C%20%22radius%22%3A%2056000.0%2C%20%22stroke%22%3A%20true%2C%20%22weight%22%3A%203%7D%0A%20%20%20%20%20%20%20%20%20%20%20%20%29.addTo%28map_a1d00f7722f64a9393b48021895cff65%29%3B%0A%20%20%20%20%20%20%20%20%0A%20%20%20%20%0A%20%20%20%20%20%20%20%20%20%20%20%20circle_fe359d87c0c14891b8277279243e1cf0.bindTooltip%28%0A%20%20%20%20%20%20%20%20%20%20%20%20%20%20%20%20%60%3Cdiv%3E%0A%20%20%20%20%20%20%20%20%20%20%20%20%20%20%20%20%20%20%20%20%20%3Cdiv%20style%3D%27margin%3A%200%3B%20background-color%3A%20black%3B%20color%3A%20white%3B%27%3E%3Ch4%20style%3D%27text-align%3Acenter%3Bfont-weight%3A%20bold%27%3EMontenegro%3C/h4%3E%3Chr%20style%3D%27margin%3A10px%3Bcolor%3A%20white%3B%27%3E%3Cul%20style%3D%27color%3A%20white%3B%3Blist-style-type%3Acircle%3Balign-item%3Aleft%3Bpadding-left%3A20px%3Bpadding-right%3A20px%27%3E%3Cli%3EConfirmed%3A%2097930%3C/li%3E%3Cli%3EDeaths%3A%20%20%2032%3C/li%3E%3Cli%3EDeath%20Rate%3A%200.03%3C/li%3E%3C/ul%3E%3C/div%3E%0A%20%20%20%20%20%20%20%20%20%20%20%20%20%20%20%20%20%3C/div%3E%60%2C%0A%20%20%20%20%20%20%20%20%20%20%20%20%20%20%20%20%7B%22sticky%22%3A%20true%7D%0A%20%20%20%20%20%20%20%20%20%20%20%20%29%3B%0A%20%20%20%20%20%20%20%20%0A%20%20%20%20%0A%20%20%20%20%20%20%20%20%20%20%20%20var%20circle_32a2caa2b131495f896cc26ea05402ac%20%3D%20L.circle%28%0A%20%20%20%20%20%20%20%20%20%20%20%20%20%20%20%20%5B31.7917%2C%20-7.0926%5D%2C%0A%20%20%20%20%20%20%20%20%20%20%20%20%20%20%20%20%7B%22bubblingMouseEvents%22%3A%20true%2C%20%22color%22%3A%20%22red%22%2C%20%22dashArray%22%3A%20null%2C%20%22dashOffset%22%3A%20null%2C%20%22fill%22%3A%20true%2C%20%22fillColor%22%3A%20%22indigo%22%2C%20%22fillOpacity%22%3A%200.2%2C%20%22fillRule%22%3A%20%22evenodd%22%2C%20%22lineCap%22%3A%20%22round%22%2C%20%22lineJoin%22%3A%20%22round%22%2C%20%22opacity%22%3A%201.0%2C%20%22radius%22%3A%2066000.0%2C%20%22stroke%22%3A%20true%2C%20%22weight%22%3A%203%7D%0A%20%20%20%20%20%20%20%20%20%20%20%20%29.addTo%28map_a1d00f7722f64a9393b48021895cff65%29%3B%0A%20%20%20%20%20%20%20%20%0A%20%20%20%20%0A%20%20%20%20%20%20%20%20%20%20%20%20circle_32a2caa2b131495f896cc26ea05402ac.bindTooltip%28%0A%20%20%20%20%20%20%20%20%20%20%20%20%20%20%20%20%60%3Cdiv%3E%0A%20%20%20%20%20%20%20%20%20%20%20%20%20%20%20%20%20%20%20%20%20%3Cdiv%20style%3D%27margin%3A%200%3B%20background-color%3A%20black%3B%20color%3A%20white%3B%27%3E%3Ch4%20style%3D%27text-align%3Acenter%3Bfont-weight%3A%20bold%27%3EMorocco%3C/h4%3E%3Chr%20style%3D%27margin%3A10px%3Bcolor%3A%20white%3B%27%3E%3Cul%20style%3D%27color%3A%20white%3B%3Blist-style-type%3Acircle%3Balign-item%3Aleft%3Bpadding-left%3A20px%3Bpadding-right%3A20px%27%3E%3Cli%3EConfirmed%3A%20512656%3C/li%3E%3Cli%3EDeaths%3A%20%20%20130%3C/li%3E%3Cli%3EDeath%20Rate%3A%200.03%3C/li%3E%3C/ul%3E%3C/div%3E%0A%20%20%20%20%20%20%20%20%20%20%20%20%20%20%20%20%20%3C/div%3E%60%2C%0A%20%20%20%20%20%20%20%20%20%20%20%20%20%20%20%20%7B%22sticky%22%3A%20true%7D%0A%20%20%20%20%20%20%20%20%20%20%20%20%29%3B%0A%20%20%20%20%20%20%20%20%0A%20%20%20%20%0A%20%20%20%20%20%20%20%20%20%20%20%20var%20circle_8e2cae0b15f94527983963817dab9695%20%3D%20L.circle%28%0A%20%20%20%20%20%20%20%20%20%20%20%20%20%20%20%20%5B-18.665695%2C%2035.529562%5D%2C%0A%20%20%20%20%20%20%20%20%20%20%20%20%20%20%20%20%7B%22bubblingMouseEvents%22%3A%20true%2C%20%22color%22%3A%20%22red%22%2C%20%22dashArray%22%3A%20null%2C%20%22dashOffset%22%3A%20null%2C%20%22fill%22%3A%20true%2C%20%22fillColor%22%3A%20%22indigo%22%2C%20%22fillOpacity%22%3A%200.2%2C%20%22fillRule%22%3A%20%22evenodd%22%2C%20%22lineCap%22%3A%20%22round%22%2C%20%22lineJoin%22%3A%20%22round%22%2C%20%22opacity%22%3A%201.0%2C%20%22radius%22%3A%2056000.0%2C%20%22stroke%22%3A%20true%2C%20%22weight%22%3A%203%7D%0A%20%20%20%20%20%20%20%20%20%20%20%20%29.addTo%28map_a1d00f7722f64a9393b48021895cff65%29%3B%0A%20%20%20%20%20%20%20%20%0A%20%20%20%20%0A%20%20%20%20%20%20%20%20%20%20%20%20circle_8e2cae0b15f94527983963817dab9695.bindTooltip%28%0A%20%20%20%20%20%20%20%20%20%20%20%20%20%20%20%20%60%3Cdiv%3E%0A%20%20%20%20%20%20%20%20%20%20%20%20%20%20%20%20%20%20%20%20%20%3Cdiv%20style%3D%27margin%3A%200%3B%20background-color%3A%20black%3B%20color%3A%20white%3B%27%3E%3Ch4%20style%3D%27text-align%3Acenter%3Bfont-weight%3A%20bold%27%3EMozambique%3C/h4%3E%3Chr%20style%3D%27margin%3A10px%3Bcolor%3A%20white%3B%27%3E%3Cul%20style%3D%27color%3A%20white%3B%3Blist-style-type%3Acircle%3Balign-item%3Aleft%3Bpadding-left%3A20px%3Bpadding-right%3A20px%27%3E%3Cli%3EConfirmed%3A%2070052%3C/li%3E%3Cli%3EDeaths%3A%20%20%201521%3C/li%3E%3Cli%3EDeath%20Rate%3A%202.17%3C/li%3E%3C/ul%3E%3C/div%3E%0A%20%20%20%20%20%20%20%20%20%20%20%20%20%20%20%20%20%3C/div%3E%60%2C%0A%20%20%20%20%20%20%20%20%20%20%20%20%20%20%20%20%7B%22sticky%22%3A%20true%7D%0A%20%20%20%20%20%20%20%20%20%20%20%20%29%3B%0A%20%20%20%20%20%20%20%20%0A%20%20%20%20%0A%20%20%20%20%20%20%20%20%20%20%20%20var%20circle_86f64534dad349afba6575238bafb04b%20%3D%20L.circle%28%0A%20%20%20%20%20%20%20%20%20%20%20%20%20%20%20%20%5B-22.9576%2C%2018.4904%5D%2C%0A%20%20%20%20%20%20%20%20%20%20%20%20%20%20%20%20%7B%22bubblingMouseEvents%22%3A%20true%2C%20%22color%22%3A%20%22red%22%2C%20%22dashArray%22%3A%20null%2C%20%22dashOffset%22%3A%20null%2C%20%22fill%22%3A%20true%2C%20%22fillColor%22%3A%20%22indigo%22%2C%20%22fillOpacity%22%3A%200.2%2C%20%22fillRule%22%3A%20%22evenodd%22%2C%20%22lineCap%22%3A%20%22round%22%2C%20%22lineJoin%22%3A%20%22round%22%2C%20%22opacity%22%3A%201.0%2C%20%22radius%22%3A%2051000.0%2C%20%22stroke%22%3A%20true%2C%20%22weight%22%3A%203%7D%0A%20%20%20%20%20%20%20%20%20%20%20%20%29.addTo%28map_a1d00f7722f64a9393b48021895cff65%29%3B%0A%20%20%20%20%20%20%20%20%0A%20%20%20%20%0A%20%20%20%20%20%20%20%20%20%20%20%20circle_86f64534dad349afba6575238bafb04b.bindTooltip%28%0A%20%20%20%20%20%20%20%20%20%20%20%20%20%20%20%20%60%3Cdiv%3E%0A%20%20%20%20%20%20%20%20%20%20%20%20%20%20%20%20%20%20%20%20%20%3Cdiv%20style%3D%27margin%3A%200%3B%20background-color%3A%20black%3B%20color%3A%20white%3B%27%3E%3Ch4%20style%3D%27text-align%3Acenter%3Bfont-weight%3A%20bold%27%3ENamibia%3C/h4%3E%3Chr%20style%3D%27margin%3A10px%3Bcolor%3A%20white%3B%27%3E%3Cul%20style%3D%27color%3A%20white%3B%3Blist-style-type%3Acircle%3Balign-item%3Aleft%3Bpadding-left%3A20px%3Bpadding-right%3A20px%27%3E%3Cli%3EConfirmed%3A%2049323%3C/li%3E%3Cli%3EDeaths%3A%20%20%209043%3C/li%3E%3Cli%3EDeath%20Rate%3A%2018.33%3C/li%3E%3C/ul%3E%3C/div%3E%0A%20%20%20%20%20%20%20%20%20%20%20%20%20%20%20%20%20%3C/div%3E%60%2C%0A%20%20%20%20%20%20%20%20%20%20%20%20%20%20%20%20%7B%22sticky%22%3A%20true%7D%0A%20%20%20%20%20%20%20%20%20%20%20%20%29%3B%0A%20%20%20%20%20%20%20%20%0A%20%20%20%20%0A%20%20%20%20%20%20%20%20%20%20%20%20var%20circle_0022c18bc2704626ad5f4a89e50eacf3%20%3D%20L.circle%28%0A%20%20%20%20%20%20%20%20%20%20%20%20%20%20%20%20%5B28.1667%2C%2084.25%5D%2C%0A%20%20%20%20%20%20%20%20%20%20%20%20%20%20%20%20%7B%22bubblingMouseEvents%22%3A%20true%2C%20%22color%22%3A%20%22red%22%2C%20%22dashArray%22%3A%20null%2C%20%22dashOffset%22%3A%20null%2C%20%22fill%22%3A%20true%2C%20%22fillColor%22%3A%20%22indigo%22%2C%20%22fillOpacity%22%3A%200.2%2C%20%22fillRule%22%3A%20%22evenodd%22%2C%20%22lineCap%22%3A%20%22round%22%2C%20%22lineJoin%22%3A%20%22round%22%2C%20%22opacity%22%3A%201.0%2C%20%22radius%22%3A%2061000.0%2C%20%22stroke%22%3A%20true%2C%20%22weight%22%3A%203%7D%0A%20%20%20%20%20%20%20%20%20%20%20%20%29.addTo%28map_a1d00f7722f64a9393b48021895cff65%29%3B%0A%20%20%20%20%20%20%20%20%0A%20%20%20%20%0A%20%20%20%20%20%20%20%20%20%20%20%20circle_0022c18bc2704626ad5f4a89e50eacf3.bindTooltip%28%0A%20%20%20%20%20%20%20%20%20%20%20%20%20%20%20%20%60%3Cdiv%3E%0A%20%20%20%20%20%20%20%20%20%20%20%20%20%20%20%20%20%20%20%20%20%3Cdiv%20style%3D%27margin%3A%200%3B%20background-color%3A%20black%3B%20color%3A%20white%3B%27%3E%3Ch4%20style%3D%27text-align%3Acenter%3Bfont-weight%3A%20bold%27%3ENepal%3C/h4%3E%3Chr%20style%3D%27margin%3A10px%3Bcolor%3A%20white%3B%27%3E%3Cul%20style%3D%27color%3A%20white%3B%3Blist-style-type%3Acircle%3Balign-item%3Aleft%3Bpadding-left%3A20px%3Bpadding-right%3A20px%27%3E%3Cli%3EConfirmed%3A%20359610%3C/li%3E%3Cli%3EDeaths%3A%20%20%20818%3C/li%3E%3Cli%3EDeath%20Rate%3A%200.23%3C/li%3E%3C/ul%3E%3C/div%3E%0A%20%20%20%20%20%20%20%20%20%20%20%20%20%20%20%20%20%3C/div%3E%60%2C%0A%20%20%20%20%20%20%20%20%20%20%20%20%20%20%20%20%7B%22sticky%22%3A%20true%7D%0A%20%20%20%20%20%20%20%20%20%20%20%20%29%3B%0A%20%20%20%20%20%20%20%20%0A%20%20%20%20%0A%20%20%20%20%20%20%20%20%20%20%20%20var%20circle_8394ff7e0ed243b6bc4af5aab79e3aa0%20%3D%20L.circle%28%0A%20%20%20%20%20%20%20%20%20%20%20%20%20%20%20%20%5B12.5211%2C%20-69.9683%5D%2C%0A%20%20%20%20%20%20%20%20%20%20%20%20%20%20%20%20%7B%22bubblingMouseEvents%22%3A%20true%2C%20%22color%22%3A%20%22red%22%2C%20%22dashArray%22%3A%20null%2C%20%22dashOffset%22%3A%20null%2C%20%22fill%22%3A%20true%2C%20%22fillColor%22%3A%20%22indigo%22%2C%20%22fillOpacity%22%3A%200.2%2C%20%22fillRule%22%3A%20%22evenodd%22%2C%20%22lineCap%22%3A%20%22round%22%2C%20%22lineJoin%22%3A%20%22round%22%2C%20%22opacity%22%3A%201.0%2C%20%22radius%22%3A%2046000.0%2C%20%22stroke%22%3A%20true%2C%20%22weight%22%3A%203%7D%0A%20%20%20%20%20%20%20%20%20%20%20%20%29.addTo%28map_a1d00f7722f64a9393b48021895cff65%29%3B%0A%20%20%20%20%20%20%20%20%0A%20%20%20%20%0A%20%20%20%20%20%20%20%20%20%20%20%20circle_8394ff7e0ed243b6bc4af5aab79e3aa0.bindTooltip%28%0A%20%20%20%20%20%20%20%20%20%20%20%20%20%20%20%20%60%3Cdiv%3E%0A%20%20%20%20%20%20%20%20%20%20%20%20%20%20%20%20%20%20%20%20%20%3Cdiv%20style%3D%27margin%3A%200%3B%20background-color%3A%20black%3B%20color%3A%20white%3B%27%3E%3Ch4%20style%3D%27text-align%3Acenter%3Bfont-weight%3A%20bold%27%3ENetherlands%3C/h4%3E%3Chr%20style%3D%27margin%3A10px%3Bcolor%3A%20white%3B%27%3E%3Cul%20style%3D%27color%3A%20white%3B%3Blist-style-type%3Acircle%3Balign-item%3Aleft%3Bpadding-left%3A20px%3Bpadding-right%3A20px%27%3E%3Cli%3EConfirmed%3A%2010721%3C/li%3E%3Cli%3EDeaths%3A%20%20%20667%3C/li%3E%3Cli%3EDeath%20Rate%3A%206.22%3C/li%3E%3C/ul%3E%3C/div%3E%0A%20%20%20%20%20%20%20%20%20%20%20%20%20%20%20%20%20%3C/div%3E%60%2C%0A%20%20%20%20%20%20%20%20%20%20%20%20%20%20%20%20%7B%22sticky%22%3A%20true%7D%0A%20%20%20%20%20%20%20%20%20%20%20%20%29%3B%0A%20%20%20%20%20%20%20%20%0A%20%20%20%20%0A%20%20%20%20%20%20%20%20%20%20%20%20var%20circle_1cb4471239c642e1af1b0b948c20ad59%20%3D%20L.circle%28%0A%20%20%20%20%20%20%20%20%20%20%20%20%20%20%20%20%5B12.1784%2C%20-68.2385%5D%2C%0A%20%20%20%20%20%20%20%20%20%20%20%20%20%20%20%20%7B%22bubblingMouseEvents%22%3A%20true%2C%20%22color%22%3A%20%22red%22%2C%20%22dashArray%22%3A%20null%2C%20%22dashOffset%22%3A%20null%2C%20%22fill%22%3A%20true%2C%20%22fillColor%22%3A%20%22indigo%22%2C%20%22fillOpacity%22%3A%200.2%2C%20%22fillRule%22%3A%20%22evenodd%22%2C%20%22lineCap%22%3A%20%22round%22%2C%20%22lineJoin%22%3A%20%22round%22%2C%20%22opacity%22%3A%201.0%2C%20%22radius%22%3A%2036000.0%2C%20%22stroke%22%3A%20true%2C%20%22weight%22%3A%203%7D%0A%20%20%20%20%20%20%20%20%20%20%20%20%29.addTo%28map_a1d00f7722f64a9393b48021895cff65%29%3B%0A%20%20%20%20%20%20%20%20%0A%20%20%20%20%0A%20%20%20%20%20%20%20%20%20%20%20%20circle_1cb4471239c642e1af1b0b948c20ad59.bindTooltip%28%0A%20%20%20%20%20%20%20%20%20%20%20%20%20%20%20%20%60%3Cdiv%3E%0A%20%20%20%20%20%20%20%20%20%20%20%20%20%20%20%20%20%20%20%20%20%3Cdiv%20style%3D%27margin%3A%200%3B%20background-color%3A%20black%3B%20color%3A%20white%3B%27%3E%3Ch4%20style%3D%27text-align%3Acenter%3Bfont-weight%3A%20bold%27%3ENetherlands%3C/h4%3E%3Chr%20style%3D%27margin%3A10px%3Bcolor%3A%20white%3B%27%3E%3Cul%20style%3D%27color%3A%20white%3B%3Blist-style-type%3Acircle%3Balign-item%3Aleft%3Bpadding-left%3A20px%3Bpadding-right%3A20px%27%3E%3Cli%3EConfirmed%3A%201567%3C/li%3E%3Cli%3EDeaths%3A%20%20%203475%3C/li%3E%3Cli%3EDeath%20Rate%3A%20221.62%3C/li%3E%3C/ul%3E%3C/div%3E%0A%20%20%20%20%20%20%20%20%20%20%20%20%20%20%20%20%20%3C/div%3E%60%2C%0A%20%20%20%20%20%20%20%20%20%20%20%20%20%20%20%20%7B%22sticky%22%3A%20true%7D%0A%20%20%20%20%20%20%20%20%20%20%20%20%29%3B%0A%20%20%20%20%20%20%20%20%0A%20%20%20%20%0A%20%20%20%20%20%20%20%20%20%20%20%20var%20circle_0cd804e1e621401a8939c5637699f4c7%20%3D%20L.circle%28%0A%20%20%20%20%20%20%20%20%20%20%20%20%20%20%20%20%5B12.1696%2C%20-68.99%5D%2C%0A%20%20%20%20%20%20%20%20%20%20%20%20%20%20%20%20%7B%22bubblingMouseEvents%22%3A%20true%2C%20%22color%22%3A%20%22red%22%2C%20%22dashArray%22%3A%20null%2C%20%22dashOffset%22%3A%20null%2C%20%22fill%22%3A%20true%2C%20%22fillColor%22%3A%20%22indigo%22%2C%20%22fillOpacity%22%3A%200.2%2C%20%22fillRule%22%3A%20%22evenodd%22%2C%20%22lineCap%22%3A%20%22round%22%2C%20%22lineJoin%22%3A%20%22round%22%2C%20%22opacity%22%3A%201.0%2C%20%22radius%22%3A%2046000.0%2C%20%22stroke%22%3A%20true%2C%20%22weight%22%3A%203%7D%0A%20%20%20%20%20%20%20%20%20%20%20%20%29.addTo%28map_a1d00f7722f64a9393b48021895cff65%29%3B%0A%20%20%20%20%20%20%20%20%0A%20%20%20%20%0A%20%20%20%20%20%20%20%20%20%20%20%20circle_0cd804e1e621401a8939c5637699f4c7.bindTooltip%28%0A%20%20%20%20%20%20%20%20%20%20%20%20%20%20%20%20%60%3Cdiv%3E%0A%20%20%20%20%20%20%20%20%20%20%20%20%20%20%20%20%20%20%20%20%20%3Cdiv%20style%3D%27margin%3A%200%3B%20background-color%3A%20black%3B%20color%3A%20white%3B%27%3E%3Ch4%20style%3D%27text-align%3Acenter%3Bfont-weight%3A%20bold%27%3ENetherlands%3C/h4%3E%3Chr%20style%3D%27margin%3A10px%3Bcolor%3A%20white%3B%27%3E%3Cul%20style%3D%27color%3A%20white%3B%3Blist-style-type%3Acircle%3Balign-item%3Aleft%3Bpadding-left%3A20px%3Bpadding-right%3A20px%27%3E%3Cli%3EConfirmed%3A%2012218%3C/li%3E%3Cli%3EDeaths%3A%20%20%20100%3C/li%3E%3Cli%3EDeath%20Rate%3A%200.82%3C/li%3E%3C/ul%3E%3C/div%3E%0A%20%20%20%20%20%20%20%20%20%20%20%20%20%20%20%20%20%3C/div%3E%60%2C%0A%20%20%20%20%20%20%20%20%20%20%20%20%20%20%20%20%7B%22sticky%22%3A%20true%7D%0A%20%20%20%20%20%20%20%20%20%20%20%20%29%3B%0A%20%20%20%20%20%20%20%20%0A%20%20%20%20%0A%20%20%20%20%20%20%20%20%20%20%20%20var%20circle_410bfe6bad2a4321a84c91747283b059%20%3D%20L.circle%28%0A%20%20%20%20%20%20%20%20%20%20%20%20%20%20%20%20%5B18.0425%2C%20-63.0548%5D%2C%0A%20%20%20%20%20%20%20%20%20%20%20%20%20%20%20%20%7B%22bubblingMouseEvents%22%3A%20true%2C%20%22color%22%3A%20%22red%22%2C%20%22dashArray%22%3A%20null%2C%20%22dashOffset%22%3A%20null%2C%20%22fill%22%3A%20true%2C%20%22fillColor%22%3A%20%22indigo%22%2C%20%22fillOpacity%22%3A%200.2%2C%20%22fillRule%22%3A%20%22evenodd%22%2C%20%22lineCap%22%3A%20%22round%22%2C%20%22lineJoin%22%3A%20%22round%22%2C%20%22opacity%22%3A%201.0%2C%20%22radius%22%3A%2036000.0%2C%20%22stroke%22%3A%20true%2C%20%22weight%22%3A%203%7D%0A%20%20%20%20%20%20%20%20%20%20%20%20%29.addTo%28map_a1d00f7722f64a9393b48021895cff65%29%3B%0A%20%20%20%20%20%20%20%20%0A%20%20%20%20%0A%20%20%20%20%20%20%20%20%20%20%20%20circle_410bfe6bad2a4321a84c91747283b059.bindTooltip%28%0A%20%20%20%20%20%20%20%20%20%20%20%20%20%20%20%20%60%3Cdiv%3E%0A%20%20%20%20%20%20%20%20%20%20%20%20%20%20%20%20%20%20%20%20%20%3Cdiv%20style%3D%27margin%3A%200%3B%20background-color%3A%20black%3B%20color%3A%20white%3B%27%3E%3Ch4%20style%3D%27text-align%3Acenter%3Bfont-weight%3A%20bold%27%3ENetherlands%3C/h4%3E%3Chr%20style%3D%27margin%3A10px%3Bcolor%3A%20white%3B%27%3E%3Cul%20style%3D%27color%3A%20white%3B%3Blist-style-type%3Acircle%3Balign-item%3Aleft%3Bpadding-left%3A20px%3Bpadding-right%3A20px%27%3E%3Cli%3EConfirmed%3A%202243%3C/li%3E%3Cli%3EDeaths%3A%20%20%2016%3C/li%3E%3Cli%3EDeath%20Rate%3A%200.71%3C/li%3E%3C/ul%3E%3C/div%3E%0A%20%20%20%20%20%20%20%20%20%20%20%20%20%20%20%20%20%3C/div%3E%60%2C%0A%20%20%20%20%20%20%20%20%20%20%20%20%20%20%20%20%7B%22sticky%22%3A%20true%7D%0A%20%20%20%20%20%20%20%20%20%20%20%20%29%3B%0A%20%20%20%20%20%20%20%20%0A%20%20%20%20%0A%20%20%20%20%20%20%20%20%20%20%20%20var%20circle_6934ddf10f4f4706b880f5f1c3626898%20%3D%20L.circle%28%0A%20%20%20%20%20%20%20%20%20%20%20%20%20%20%20%20%5B52.1326%2C%205.2913%5D%2C%0A%20%20%20%20%20%20%20%20%20%20%20%20%20%20%20%20%7B%22bubblingMouseEvents%22%3A%20true%2C%20%22color%22%3A%20%22red%22%2C%20%22dashArray%22%3A%20null%2C%20%22dashOffset%22%3A%20null%2C%20%22fill%22%3A%20true%2C%20%22fillColor%22%3A%20%22indigo%22%2C%20%22fillOpacity%22%3A%200.2%2C%20%22fillRule%22%3A%20%22evenodd%22%2C%20%22lineCap%22%3A%20%22round%22%2C%20%22lineJoin%22%3A%20%22round%22%2C%20%22opacity%22%3A%201.0%2C%20%22radius%22%3A%2071000.0%2C%20%22stroke%22%3A%20true%2C%20%22weight%22%3A%203%7D%0A%20%20%20%20%20%20%20%20%20%20%20%20%29.addTo%28map_a1d00f7722f64a9393b48021895cff65%29%3B%0A%20%20%20%20%20%20%20%20%0A%20%20%20%20%0A%20%20%20%20%20%20%20%20%20%20%20%20circle_6934ddf10f4f4706b880f5f1c3626898.bindTooltip%28%0A%20%20%20%20%20%20%20%20%20%20%20%20%20%20%20%20%60%3Cdiv%3E%0A%20%20%20%20%20%20%20%20%20%20%20%20%20%20%20%20%20%20%20%20%20%3Cdiv%20style%3D%27margin%3A%200%3B%20background-color%3A%20black%3B%20color%3A%20white%3B%27%3E%3Ch4%20style%3D%27text-align%3Acenter%3Bfont-weight%3A%20bold%27%3ENetherlands%3C/h4%3E%3Chr%20style%3D%27margin%3A10px%3Bcolor%3A%20white%3B%27%3E%3Cul%20style%3D%27color%3A%20white%3B%3Blist-style-type%3Acircle%3Balign-item%3Aleft%3Bpadding-left%3A20px%3Bpadding-right%3A20px%27%3E%3Cli%3EConfirmed%3A%201531800%3C/li%3E%3Cli%3EDeaths%3A%20%20%20113%3C/li%3E%3Cli%3EDeath%20Rate%3A%200.01%3C/li%3E%3C/ul%3E%3C/div%3E%0A%20%20%20%20%20%20%20%20%20%20%20%20%20%20%20%20%20%3C/div%3E%60%2C%0A%20%20%20%20%20%20%20%20%20%20%20%20%20%20%20%20%7B%22sticky%22%3A%20true%7D%0A%20%20%20%20%20%20%20%20%20%20%20%20%29%3B%0A%20%20%20%20%20%20%20%20%0A%20%20%20%20%0A%20%20%20%20%20%20%20%20%20%20%20%20var%20circle_3958bda28e924d53a1cda780a165dcf6%20%3D%20L.circle%28%0A%20%20%20%20%20%20%20%20%20%20%20%20%20%20%20%20%5B-40.9006%2C%20174.886%5D%2C%0A%20%20%20%20%20%20%20%20%20%20%20%20%20%20%20%20%7B%22bubblingMouseEvents%22%3A%20true%2C%20%22color%22%3A%20%22red%22%2C%20%22dashArray%22%3A%20null%2C%20%22dashOffset%22%3A%20null%2C%20%22fill%22%3A%20true%2C%20%22fillColor%22%3A%20%22indigo%22%2C%20%22fillOpacity%22%3A%200.2%2C%20%22fillRule%22%3A%20%22evenodd%22%2C%20%22lineCap%22%3A%20%22round%22%2C%20%22lineJoin%22%3A%20%22round%22%2C%20%22opacity%22%3A%201.0%2C%20%22radius%22%3A%2036000.0%2C%20%22stroke%22%3A%20true%2C%20%22weight%22%3A%203%7D%0A%20%20%20%20%20%20%20%20%20%20%20%20%29.addTo%28map_a1d00f7722f64a9393b48021895cff65%29%3B%0A%20%20%20%20%20%20%20%20%0A%20%20%20%20%0A%20%20%20%20%20%20%20%20%20%20%20%20circle_3958bda28e924d53a1cda780a165dcf6.bindTooltip%28%0A%20%20%20%20%20%20%20%20%20%20%20%20%20%20%20%20%60%3Cdiv%3E%0A%20%20%20%20%20%20%20%20%20%20%20%20%20%20%20%20%20%20%20%20%20%3Cdiv%20style%3D%27margin%3A%200%3B%20background-color%3A%20black%3B%20color%3A%20white%3B%27%3E%3Ch4%20style%3D%27text-align%3Acenter%3Bfont-weight%3A%20bold%27%3ENew%20Zealand%3C/h4%3E%3Chr%20style%3D%27margin%3A10px%3Bcolor%3A%20white%3B%27%3E%3Cul%20style%3D%27color%3A%20white%3B%3Blist-style-type%3Acircle%3Balign-item%3Aleft%3Bpadding-left%3A20px%3Bpadding-right%3A20px%27%3E%3Cli%3EConfirmed%3A%202633%3C/li%3E%3Cli%3EDeaths%3A%20%20%2027%3C/li%3E%3Cli%3EDeath%20Rate%3A%201.03%3C/li%3E%3C/ul%3E%3C/div%3E%0A%20%20%20%20%20%20%20%20%20%20%20%20%20%20%20%20%20%3C/div%3E%60%2C%0A%20%20%20%20%20%20%20%20%20%20%20%20%20%20%20%20%7B%22sticky%22%3A%20true%7D%0A%20%20%20%20%20%20%20%20%20%20%20%20%29%3B%0A%20%20%20%20%20%20%20%20%0A%20%20%20%20%0A%20%20%20%20%20%20%20%20%20%20%20%20var%20circle_0bf4eb0c7520463f94b37881ec9fe159%20%3D%20L.circle%28%0A%20%20%20%20%20%20%20%20%20%20%20%20%20%20%20%20%5B12.865416%2C%20-85.207229%5D%2C%0A%20%20%20%20%20%20%20%20%20%20%20%20%20%20%20%20%7B%22bubblingMouseEvents%22%3A%20true%2C%20%22color%22%3A%20%22red%22%2C%20%22dashArray%22%3A%20null%2C%20%22dashOffset%22%3A%20null%2C%20%22fill%22%3A%20true%2C%20%22fillColor%22%3A%20%22indigo%22%2C%20%22fillOpacity%22%3A%200.2%2C%20%22fillRule%22%3A%20%22evenodd%22%2C%20%22lineCap%22%3A%20%22round%22%2C%20%22lineJoin%22%3A%20%22round%22%2C%20%22opacity%22%3A%201.0%2C%20%22radius%22%3A%2041000.0%2C%20%22stroke%22%3A%20true%2C%20%22weight%22%3A%203%7D%0A%20%20%20%20%20%20%20%20%20%20%20%20%29.addTo%28map_a1d00f7722f64a9393b48021895cff65%29%3B%0A%20%20%20%20%20%20%20%20%0A%20%20%20%20%0A%20%20%20%20%20%20%20%20%20%20%20%20circle_0bf4eb0c7520463f94b37881ec9fe159.bindTooltip%28%0A%20%20%20%20%20%20%20%20%20%20%20%20%20%20%20%20%60%3Cdiv%3E%0A%20%20%20%20%20%20%20%20%20%20%20%20%20%20%20%20%20%20%20%20%20%3Cdiv%20style%3D%27margin%3A%200%3B%20background-color%3A%20black%3B%20color%3A%20white%3B%27%3E%3Ch4%20style%3D%27text-align%3Acenter%3Bfont-weight%3A%20bold%27%3ENicaragua%3C/h4%3E%3Chr%20style%3D%27margin%3A10px%3Bcolor%3A%20white%3B%27%3E%3Cul%20style%3D%27color%3A%20white%3B%3Blist-style-type%3Acircle%3Balign-item%3Aleft%3Bpadding-left%3A20px%3Bpadding-right%3A20px%27%3E%3Cli%3EConfirmed%3A%206989%3C/li%3E%3Cli%3EDeaths%3A%20%20%2017245%3C/li%3E%3Cli%3EDeath%20Rate%3A%20246.71%3C/li%3E%3C/ul%3E%3C/div%3E%0A%20%20%20%20%20%20%20%20%20%20%20%20%20%20%20%20%20%3C/div%3E%60%2C%0A%20%20%20%20%20%20%20%20%20%20%20%20%20%20%20%20%7B%22sticky%22%3A%20true%7D%0A%20%20%20%20%20%20%20%20%20%20%20%20%29%3B%0A%20%20%20%20%20%20%20%20%0A%20%20%20%20%0A%20%20%20%20%20%20%20%20%20%20%20%20var%20circle_ed9e643a0d404f9fa89195ca8a885359%20%3D%20L.circle%28%0A%20%20%20%20%20%20%20%20%20%20%20%20%20%20%20%20%5B17.607789%2C%208.081666%5D%2C%0A%20%20%20%20%20%20%20%20%20%20%20%20%20%20%20%20%7B%22bubblingMouseEvents%22%3A%20true%2C%20%22color%22%3A%20%22red%22%2C%20%22dashArray%22%3A%20null%2C%20%22dashOffset%22%3A%20null%2C%20%22fill%22%3A%20true%2C%20%22fillColor%22%3A%20%22indigo%22%2C%20%22fillOpacity%22%3A%200.2%2C%20%22fillRule%22%3A%20%22evenodd%22%2C%20%22lineCap%22%3A%20%22round%22%2C%20%22lineJoin%22%3A%20%22round%22%2C%20%22opacity%22%3A%201.0%2C%20%22radius%22%3A%2041000.0%2C%20%22stroke%22%3A%20true%2C%20%22weight%22%3A%203%7D%0A%20%20%20%20%20%20%20%20%20%20%20%20%29.addTo%28map_a1d00f7722f64a9393b48021895cff65%29%3B%0A%20%20%20%20%20%20%20%20%0A%20%20%20%20%0A%20%20%20%20%20%20%20%20%20%20%20%20circle_ed9e643a0d404f9fa89195ca8a885359.bindTooltip%28%0A%20%20%20%20%20%20%20%20%20%20%20%20%20%20%20%20%60%3Cdiv%3E%0A%20%20%20%20%20%20%20%20%20%20%20%20%20%20%20%20%20%20%20%20%20%3Cdiv%20style%3D%27margin%3A%200%3B%20background-color%3A%20black%3B%20color%3A%20white%3B%27%3E%3Ch4%20style%3D%27text-align%3Acenter%3Bfont-weight%3A%20bold%27%3ENiger%3C/h4%3E%3Chr%20style%3D%27margin%3A10px%3Bcolor%3A%20white%3B%27%3E%3Cul%20style%3D%27color%3A%20white%3B%3Blist-style-type%3Acircle%3Balign-item%3Aleft%3Bpadding-left%3A20px%3Bpadding-right%3A20px%27%3E%3Cli%3EConfirmed%3A%205286%3C/li%3E%3Cli%3EDeaths%3A%20%20%2026%3C/li%3E%3Cli%3EDeath%20Rate%3A%200.49%3C/li%3E%3C/ul%3E%3C/div%3E%0A%20%20%20%20%20%20%20%20%20%20%20%20%20%20%20%20%20%3C/div%3E%60%2C%0A%20%20%20%20%20%20%20%20%20%20%20%20%20%20%20%20%7B%22sticky%22%3A%20true%7D%0A%20%20%20%20%20%20%20%20%20%20%20%20%29%3B%0A%20%20%20%20%20%20%20%20%0A%20%20%20%20%0A%20%20%20%20%20%20%20%20%20%20%20%20var%20circle_c93843f6bb06408e82b8bb985b349432%20%3D%20L.circle%28%0A%20%20%20%20%20%20%20%20%20%20%20%20%20%20%20%20%5B9.082%2C%208.6753%5D%2C%0A%20%20%20%20%20%20%20%20%20%20%20%20%20%20%20%20%7B%22bubblingMouseEvents%22%3A%20true%2C%20%22color%22%3A%20%22red%22%2C%20%22dashArray%22%3A%20null%2C%20%22dashOffset%22%3A%20null%2C%20%22fill%22%3A%20true%2C%20%22fillColor%22%3A%20%22indigo%22%2C%20%22fillOpacity%22%3A%200.2%2C%20%22fillRule%22%3A%20%22evenodd%22%2C%20%22lineCap%22%3A%20%22round%22%2C%20%22lineJoin%22%3A%20%22round%22%2C%20%22opacity%22%3A%201.0%2C%20%22radius%22%3A%2061000.0%2C%20%22stroke%22%3A%20true%2C%20%22weight%22%3A%203%7D%0A%20%20%20%20%20%20%20%20%20%20%20%20%29.addTo%28map_a1d00f7722f64a9393b48021895cff65%29%3B%0A%20%20%20%20%20%20%20%20%0A%20%20%20%20%0A%20%20%20%20%20%20%20%20%20%20%20%20circle_c93843f6bb06408e82b8bb985b349432.bindTooltip%28%0A%20%20%20%20%20%20%20%20%20%20%20%20%20%20%20%20%60%3Cdiv%3E%0A%20%20%20%20%20%20%20%20%20%20%20%20%20%20%20%20%20%20%20%20%20%3Cdiv%20style%3D%27margin%3A%200%3B%20background-color%3A%20black%3B%20color%3A%20white%3B%27%3E%3Ch4%20style%3D%27text-align%3Acenter%3Bfont-weight%3A%20bold%27%3ENigeria%3C/h4%3E%3Chr%20style%3D%27margin%3A10px%3Bcolor%3A%20white%3B%27%3E%3Cul%20style%3D%27color%3A%20white%3B%3Blist-style-type%3Acircle%3Balign-item%3Aleft%3Bpadding-left%3A20px%3Bpadding-right%3A20px%27%3E%3Cli%3EConfirmed%3A%20165273%3C/li%3E%3Cli%3EDeaths%3A%20%20%20183%3C/li%3E%3Cli%3EDeath%20Rate%3A%200.11%3C/li%3E%3C/ul%3E%3C/div%3E%0A%20%20%20%20%20%20%20%20%20%20%20%20%20%20%20%20%20%3C/div%3E%60%2C%0A%20%20%20%20%20%20%20%20%20%20%20%20%20%20%20%20%7B%22sticky%22%3A%20true%7D%0A%20%20%20%20%20%20%20%20%20%20%20%20%29%3B%0A%20%20%20%20%20%20%20%20%0A%20%20%20%20%0A%20%20%20%20%20%20%20%20%20%20%20%20var%20circle_348329ef862e4be2b77c5dcceecfa39d%20%3D%20L.circle%28%0A%20%20%20%20%20%20%20%20%20%20%20%20%20%20%20%20%5B41.6086%2C%2021.7453%5D%2C%0A%20%20%20%20%20%20%20%20%20%20%20%20%20%20%20%20%7B%22bubblingMouseEvents%22%3A%20true%2C%20%22color%22%3A%20%22red%22%2C%20%22dashArray%22%3A%20null%2C%20%22dashOffset%22%3A%20null%2C%20%22fill%22%3A%20true%2C%20%22fillColor%22%3A%20%22indigo%22%2C%20%22fillOpacity%22%3A%200.2%2C%20%22fillRule%22%3A%20%22evenodd%22%2C%20%22lineCap%22%3A%20%22round%22%2C%20%22lineJoin%22%3A%20%22round%22%2C%20%22opacity%22%3A%201.0%2C%20%22radius%22%3A%2056000.0%2C%20%22stroke%22%3A%20true%2C%20%22weight%22%3A%203%7D%0A%20%20%20%20%20%20%20%20%20%20%20%20%29.addTo%28map_a1d00f7722f64a9393b48021895cff65%29%3B%0A%20%20%20%20%20%20%20%20%0A%20%20%20%20%0A%20%20%20%20%20%20%20%20%20%20%20%20circle_348329ef862e4be2b77c5dcceecfa39d.bindTooltip%28%0A%20%20%20%20%20%20%20%20%20%20%20%20%20%20%20%20%60%3Cdiv%3E%0A%20%20%20%20%20%20%20%20%20%20%20%20%20%20%20%20%20%20%20%20%20%3Cdiv%20style%3D%27margin%3A%200%3B%20background-color%3A%20black%3B%20color%3A%20white%3B%27%3E%3Ch4%20style%3D%27text-align%3Acenter%3Bfont-weight%3A%20bold%27%3ENorth%20Macedonia%3C/h4%3E%3Chr%20style%3D%27margin%3A10px%3Bcolor%3A%20white%3B%27%3E%3Cul%20style%3D%27color%3A%20white%3B%3Blist-style-type%3Acircle%3Balign-item%3Aleft%3Bpadding-left%3A20px%3Bpadding-right%3A20px%27%3E%3Cli%3EConfirmed%3A%20153137%3C/li%3E%3Cli%3EDeaths%3A%20%20%20192%3C/li%3E%3Cli%3EDeath%20Rate%3A%200.13%3C/li%3E%3C/ul%3E%3C/div%3E%0A%20%20%20%20%20%20%20%20%20%20%20%20%20%20%20%20%20%3C/div%3E%60%2C%0A%20%20%20%20%20%20%20%20%20%20%20%20%20%20%20%20%7B%22sticky%22%3A%20true%7D%0A%20%20%20%20%20%20%20%20%20%20%20%20%29%3B%0A%20%20%20%20%20%20%20%20%0A%20%20%20%20%0A%20%20%20%20%20%20%20%20%20%20%20%20var%20circle_8778a8d802834d71980f67ad05977cc7%20%3D%20L.circle%28%0A%20%20%20%20%20%20%20%20%20%20%20%20%20%20%20%20%5B60.472%2C%208.4689%5D%2C%0A%20%20%20%20%20%20%20%20%20%20%20%20%20%20%20%20%7B%22bubblingMouseEvents%22%3A%20true%2C%20%22color%22%3A%20%22red%22%2C%20%22dashArray%22%3A%20null%2C%20%22dashOffset%22%3A%20null%2C%20%22fill%22%3A%20true%2C%20%22fillColor%22%3A%20%22indigo%22%2C%20%22fillOpacity%22%3A%200.2%2C%20%22fillRule%22%3A%20%22evenodd%22%2C%20%22lineCap%22%3A%20%22round%22%2C%20%22lineJoin%22%3A%20%22round%22%2C%20%22opacity%22%3A%201.0%2C%20%22radius%22%3A%2056000.0%2C%20%22stroke%22%3A%20true%2C%20%22weight%22%3A%203%7D%0A%20%20%20%20%20%20%20%20%20%20%20%20%29.addTo%28map_a1d00f7722f64a9393b48021895cff65%29%3B%0A%20%20%20%20%20%20%20%20%0A%20%20%20%20%0A%20%20%20%20%20%20%20%20%20%20%20%20circle_8778a8d802834d71980f67ad05977cc7.bindTooltip%28%0A%20%20%20%20%20%20%20%20%20%20%20%20%20%20%20%20%60%3Cdiv%3E%0A%20%20%20%20%20%20%20%20%20%20%20%20%20%20%20%20%20%20%20%20%20%3Cdiv%20style%3D%27margin%3A%200%3B%20background-color%3A%20black%3B%20color%3A%20white%3B%27%3E%3Ch4%20style%3D%27text-align%3Acenter%3Bfont-weight%3A%20bold%27%3ENorway%3C/h4%3E%3Chr%20style%3D%27margin%3A10px%3Bcolor%3A%20white%3B%27%3E%3Cul%20style%3D%27color%3A%20white%3B%3Blist-style-type%3Acircle%3Balign-item%3Aleft%3Bpadding-left%3A20px%3Bpadding-right%3A20px%27%3E%3Cli%3EConfirmed%3A%20114905%3C/li%3E%3Cli%3EDeaths%3A%20%20%202065%3C/li%3E%3Cli%3EDeath%20Rate%3A%201.8%3C/li%3E%3C/ul%3E%3C/div%3E%0A%20%20%20%20%20%20%20%20%20%20%20%20%20%20%20%20%20%3C/div%3E%60%2C%0A%20%20%20%20%20%20%20%20%20%20%20%20%20%20%20%20%7B%22sticky%22%3A%20true%7D%0A%20%20%20%20%20%20%20%20%20%20%20%20%29%3B%0A%20%20%20%20%20%20%20%20%0A%20%20%20%20%0A%20%20%20%20%20%20%20%20%20%20%20%20var%20circle_fdaa82a1f1bd453dbf1c8296f48aeeab%20%3D%20L.circle%28%0A%20%20%20%20%20%20%20%20%20%20%20%20%20%20%20%20%5B21.512583%2C%2055.923255000000005%5D%2C%0A%20%20%20%20%20%20%20%20%20%20%20%20%20%20%20%20%7B%22bubblingMouseEvents%22%3A%20true%2C%20%22color%22%3A%20%22red%22%2C%20%22dashArray%22%3A%20null%2C%20%22dashOffset%22%3A%20null%2C%20%22fill%22%3A%20true%2C%20%22fillColor%22%3A%20%22indigo%22%2C%20%22fillOpacity%22%3A%200.2%2C%20%22fillRule%22%3A%20%22evenodd%22%2C%20%22lineCap%22%3A%20%22round%22%2C%20%22lineJoin%22%3A%20%22round%22%2C%20%22opacity%22%3A%201.0%2C%20%22radius%22%3A%2061000.0%2C%20%22stroke%22%3A%20true%2C%20%22weight%22%3A%203%7D%0A%20%20%20%20%20%20%20%20%20%20%20%20%29.addTo%28map_a1d00f7722f64a9393b48021895cff65%29%3B%0A%20%20%20%20%20%20%20%20%0A%20%20%20%20%0A%20%20%20%20%20%20%20%20%20%20%20%20circle_fdaa82a1f1bd453dbf1c8296f48aeeab.bindTooltip%28%0A%20%20%20%20%20%20%20%20%20%20%20%20%20%20%20%20%60%3Cdiv%3E%0A%20%20%20%20%20%20%20%20%20%20%20%20%20%20%20%20%20%20%20%20%20%3Cdiv%20style%3D%27margin%3A%200%3B%20background-color%3A%20black%3B%20color%3A%20white%3B%27%3E%3Ch4%20style%3D%27text-align%3Acenter%3Bfont-weight%3A%20bold%27%3EOman%3C/h4%3E%3Chr%20style%3D%27margin%3A10px%3Bcolor%3A%20white%3B%27%3E%3Cul%20style%3D%27color%3A%20white%3B%3Blist-style-type%3Acircle%3Balign-item%3Aleft%3Bpadding-left%3A20px%3Bpadding-right%3A20px%27%3E%3Cli%3EConfirmed%3A%20198572%3C/li%3E%3Cli%3EDeaths%3A%20%20%205016%3C/li%3E%3Cli%3EDeath%20Rate%3A%202.53%3C/li%3E%3C/ul%3E%3C/div%3E%0A%20%20%20%20%20%20%20%20%20%20%20%20%20%20%20%20%20%3C/div%3E%60%2C%0A%20%20%20%20%20%20%20%20%20%20%20%20%20%20%20%20%7B%22sticky%22%3A%20true%7D%0A%20%20%20%20%20%20%20%20%20%20%20%20%29%3B%0A%20%20%20%20%20%20%20%20%0A%20%20%20%20%0A%20%20%20%20%20%20%20%20%20%20%20%20var%20circle_70e850ea96be420299ce8c630df2640b%20%3D%20L.circle%28%0A%20%20%20%20%20%20%20%20%20%20%20%20%20%20%20%20%5B30.3753%2C%2069.3451%5D%2C%0A%20%20%20%20%20%20%20%20%20%20%20%20%20%20%20%20%7B%22bubblingMouseEvents%22%3A%20true%2C%20%22color%22%3A%20%22red%22%2C%20%22dashArray%22%3A%20null%2C%20%22dashOffset%22%3A%20null%2C%20%22fill%22%3A%20true%2C%20%22fillColor%22%3A%20%22indigo%22%2C%20%22fillOpacity%22%3A%200.2%2C%20%22fillRule%22%3A%20%22evenodd%22%2C%20%22lineCap%22%3A%20%22round%22%2C%20%22lineJoin%22%3A%20%22round%22%2C%20%22opacity%22%3A%201.0%2C%20%22radius%22%3A%2066000.0%2C%20%22stroke%22%3A%20true%2C%20%22weight%22%3A%203%7D%0A%20%20%20%20%20%20%20%20%20%20%20%20%29.addTo%28map_a1d00f7722f64a9393b48021895cff65%29%3B%0A%20%20%20%20%20%20%20%20%0A%20%20%20%20%0A%20%20%20%20%20%20%20%20%20%20%20%20circle_70e850ea96be420299ce8c630df2640b.bindTooltip%28%0A%20%20%20%20%20%20%20%20%20%20%20%20%20%20%20%20%60%3Cdiv%3E%0A%20%20%20%20%20%20%20%20%20%20%20%20%20%20%20%20%20%20%20%20%20%3Cdiv%20style%3D%27margin%3A%200%3B%20background-color%3A%20black%3B%20color%3A%20white%3B%27%3E%3Ch4%20style%3D%27text-align%3Acenter%3Bfont-weight%3A%20bold%27%3EPakistan%3C/h4%3E%3Chr%20style%3D%27margin%3A10px%3Bcolor%3A%20white%3B%27%3E%3Cul%20style%3D%27color%3A%20white%3B%3Blist-style-type%3Acircle%3Balign-item%3Aleft%3Bpadding-left%3A20px%3Bpadding-right%3A20px%27%3E%3Cli%3EConfirmed%3A%20841636%3C/li%3E%3Cli%3EDeaths%3A%20%20%20767%3C/li%3E%3Cli%3EDeath%20Rate%3A%200.09%3C/li%3E%3C/ul%3E%3C/div%3E%0A%20%20%20%20%20%20%20%20%20%20%20%20%20%20%20%20%20%3C/div%3E%60%2C%0A%20%20%20%20%20%20%20%20%20%20%20%20%20%20%20%20%7B%22sticky%22%3A%20true%7D%0A%20%20%20%20%20%20%20%20%20%20%20%20%29%3B%0A%20%20%20%20%20%20%20%20%0A%20%20%20%20%0A%20%20%20%20%20%20%20%20%20%20%20%20var%20circle_ab75e589b4554157bb37a792f6be7ddd%20%3D%20L.circle%28%0A%20%20%20%20%20%20%20%20%20%20%20%20%20%20%20%20%5B8.538%2C%20-80.7821%5D%2C%0A%20%20%20%20%20%20%20%20%20%20%20%20%20%20%20%20%7B%22bubblingMouseEvents%22%3A%20true%2C%20%22color%22%3A%20%22red%22%2C%20%22dashArray%22%3A%20null%2C%20%22dashOffset%22%3A%20null%2C%20%22fill%22%3A%20true%2C%20%22fillColor%22%3A%20%22indigo%22%2C%20%22fillOpacity%22%3A%200.2%2C%20%22fillRule%22%3A%20%22evenodd%22%2C%20%22lineCap%22%3A%20%22round%22%2C%20%22lineJoin%22%3A%20%22round%22%2C%20%22opacity%22%3A%201.0%2C%20%22radius%22%3A%2061000.0%2C%20%22stroke%22%3A%20true%2C%20%22weight%22%3A%203%7D%0A%20%20%20%20%20%20%20%20%20%20%20%20%29.addTo%28map_a1d00f7722f64a9393b48021895cff65%29%3B%0A%20%20%20%20%20%20%20%20%0A%20%20%20%20%0A%20%20%20%20%20%20%20%20%20%20%20%20circle_ab75e589b4554157bb37a792f6be7ddd.bindTooltip%28%0A%20%20%20%20%20%20%20%20%20%20%20%20%20%20%20%20%60%3Cdiv%3E%0A%20%20%20%20%20%20%20%20%20%20%20%20%20%20%20%20%20%20%20%20%20%3Cdiv%20style%3D%27margin%3A%200%3B%20background-color%3A%20black%3B%20color%3A%20white%3B%27%3E%3Ch4%20style%3D%27text-align%3Acenter%3Bfont-weight%3A%20bold%27%3EPanama%3C/h4%3E%3Chr%20style%3D%27margin%3A10px%3Bcolor%3A%20white%3B%27%3E%3Cul%20style%3D%27color%3A%20white%3B%3Blist-style-type%3Acircle%3Balign-item%3Aleft%3Bpadding-left%3A20px%3Bpadding-right%3A20px%27%3E%3Cli%3EConfirmed%3A%20365975%3C/li%3E%3Cli%3EDeaths%3A%20%20%202071%3C/li%3E%3Cli%3EDeath%20Rate%3A%200.57%3C/li%3E%3C/ul%3E%3C/div%3E%0A%20%20%20%20%20%20%20%20%20%20%20%20%20%20%20%20%20%3C/div%3E%60%2C%0A%20%20%20%20%20%20%20%20%20%20%20%20%20%20%20%20%7B%22sticky%22%3A%20true%7D%0A%20%20%20%20%20%20%20%20%20%20%20%20%29%3B%0A%20%20%20%20%20%20%20%20%0A%20%20%20%20%0A%20%20%20%20%20%20%20%20%20%20%20%20var%20circle_cf93015af0814e7a8598540d8a70b28f%20%3D%20L.circle%28%0A%20%20%20%20%20%20%20%20%20%20%20%20%20%20%20%20%5B-6.314993%2C%20143.95555%5D%2C%0A%20%20%20%20%20%20%20%20%20%20%20%20%20%20%20%20%7B%22bubblingMouseEvents%22%3A%20true%2C%20%22color%22%3A%20%22red%22%2C%20%22dashArray%22%3A%20null%2C%20%22dashOffset%22%3A%20null%2C%20%22fill%22%3A%20true%2C%20%22fillColor%22%3A%20%22indigo%22%2C%20%22fillOpacity%22%3A%200.2%2C%20%22fillRule%22%3A%20%22evenodd%22%2C%20%22lineCap%22%3A%20%22round%22%2C%20%22lineJoin%22%3A%20%22round%22%2C%20%22opacity%22%3A%201.0%2C%20%22radius%22%3A%2046000.0%2C%20%22stroke%22%3A%20true%2C%20%22weight%22%3A%203%7D%0A%20%20%20%20%20%20%20%20%20%20%20%20%29.addTo%28map_a1d00f7722f64a9393b48021895cff65%29%3B%0A%20%20%20%20%20%20%20%20%0A%20%20%20%20%0A%20%20%20%20%20%20%20%20%20%20%20%20circle_cf93015af0814e7a8598540d8a70b28f.bindTooltip%28%0A%20%20%20%20%20%20%20%20%20%20%20%20%20%20%20%20%60%3Cdiv%3E%0A%20%20%20%20%20%20%20%20%20%20%20%20%20%20%20%20%20%20%20%20%20%3Cdiv%20style%3D%27margin%3A%200%3B%20background-color%3A%20black%3B%20color%3A%20white%3B%27%3E%3Ch4%20style%3D%27text-align%3Acenter%3Bfont-weight%3A%20bold%27%3EPapua%20New%20Guinea%3C/h4%3E%3Chr%20style%3D%27margin%3A10px%3Bcolor%3A%20white%3B%27%3E%3Cul%20style%3D%27color%3A%20white%3B%3Blist-style-type%3Acircle%3Balign-item%3Aleft%3Bpadding-left%3A20px%3Bpadding-right%3A20px%27%3E%3Cli%3EConfirmed%3A%2011273%3C/li%3E%3Cli%3EDeaths%3A%20%20%2018429%3C/li%3E%3Cli%3EDeath%20Rate%3A%20163.46%3C/li%3E%3C/ul%3E%3C/div%3E%0A%20%20%20%20%20%20%20%20%20%20%20%20%20%20%20%20%20%3C/div%3E%60%2C%0A%20%20%20%20%20%20%20%20%20%20%20%20%20%20%20%20%7B%22sticky%22%3A%20true%7D%0A%20%20%20%20%20%20%20%20%20%20%20%20%29%3B%0A%20%20%20%20%20%20%20%20%0A%20%20%20%20%0A%20%20%20%20%20%20%20%20%20%20%20%20var%20circle_50f4a9a3e5ae44fb8b1ec0a7649fb81e%20%3D%20L.circle%28%0A%20%20%20%20%20%20%20%20%20%20%20%20%20%20%20%20%5B-23.4425%2C%20-58.4438%5D%2C%0A%20%20%20%20%20%20%20%20%20%20%20%20%20%20%20%20%7B%22bubblingMouseEvents%22%3A%20true%2C%20%22color%22%3A%20%22red%22%2C%20%22dashArray%22%3A%20null%2C%20%22dashOffset%22%3A%20null%2C%20%22fill%22%3A%20true%2C%20%22fillColor%22%3A%20%22indigo%22%2C%20%22fillOpacity%22%3A%200.2%2C%20%22fillRule%22%3A%20%22evenodd%22%2C%20%22lineCap%22%3A%20%22round%22%2C%20%22lineJoin%22%3A%20%22round%22%2C%20%22opacity%22%3A%201.0%2C%20%22radius%22%3A%2061000.0%2C%20%22stroke%22%3A%20true%2C%20%22weight%22%3A%203%7D%0A%20%20%20%20%20%20%20%20%20%20%20%20%29.addTo%28map_a1d00f7722f64a9393b48021895cff65%29%3B%0A%20%20%20%20%20%20%20%20%0A%20%20%20%20%0A%20%20%20%20%20%20%20%20%20%20%20%20circle_50f4a9a3e5ae44fb8b1ec0a7649fb81e.bindTooltip%28%0A%20%20%20%20%20%20%20%20%20%20%20%20%20%20%20%20%60%3Cdiv%3E%0A%20%20%20%20%20%20%20%20%20%20%20%20%20%20%20%20%20%20%20%20%20%3Cdiv%20style%3D%27margin%3A%200%3B%20background-color%3A%20black%3B%20color%3A%20white%3B%27%3E%3Ch4%20style%3D%27text-align%3Acenter%3Bfont-weight%3A%20bold%27%3EParaguay%3C/h4%3E%3Chr%20style%3D%27margin%3A10px%3Bcolor%3A%20white%3B%27%3E%3Cul%20style%3D%27color%3A%20white%3B%3Blist-style-type%3Acircle%3Balign-item%3Aleft%3Bpadding-left%3A20px%3Bpadding-right%3A20px%27%3E%3Cli%3EConfirmed%3A%20288974%3C/li%3E%3Cli%3EDeaths%3A%20%20%206252%3C/li%3E%3Cli%3EDeath%20Rate%3A%202.16%3C/li%3E%3C/ul%3E%3C/div%3E%0A%20%20%20%20%20%20%20%20%20%20%20%20%20%20%20%20%20%3C/div%3E%60%2C%0A%20%20%20%20%20%20%20%20%20%20%20%20%20%20%20%20%7B%22sticky%22%3A%20true%7D%0A%20%20%20%20%20%20%20%20%20%20%20%20%29%3B%0A%20%20%20%20%20%20%20%20%0A%20%20%20%20%0A%20%20%20%20%20%20%20%20%20%20%20%20var%20circle_d150f27b7bc94e75b7f3c4e08edc7a0a%20%3D%20L.circle%28%0A%20%20%20%20%20%20%20%20%20%20%20%20%20%20%20%20%5B-9.19%2C%20-75.0152%5D%2C%0A%20%20%20%20%20%20%20%20%20%20%20%20%20%20%20%20%7B%22bubblingMouseEvents%22%3A%20true%2C%20%22color%22%3A%20%22red%22%2C%20%22dashArray%22%3A%20null%2C%20%22dashOffset%22%3A%20null%2C%20%22fill%22%3A%20true%2C%20%22fillColor%22%3A%20%22indigo%22%2C%20%22fillOpacity%22%3A%200.2%2C%20%22fillRule%22%3A%20%22evenodd%22%2C%20%22lineCap%22%3A%20%22round%22%2C%20%22lineJoin%22%3A%20%22round%22%2C%20%22opacity%22%3A%201.0%2C%20%22radius%22%3A%2071000.0%2C%20%22stroke%22%3A%20true%2C%20%22weight%22%3A%203%7D%0A%20%20%20%20%20%20%20%20%20%20%20%20%29.addTo%28map_a1d00f7722f64a9393b48021895cff65%29%3B%0A%20%20%20%20%20%20%20%20%0A%20%20%20%20%0A%20%20%20%20%20%20%20%20%20%20%20%20circle_d150f27b7bc94e75b7f3c4e08edc7a0a.bindTooltip%28%0A%20%20%20%20%20%20%20%20%20%20%20%20%20%20%20%20%60%3Cdiv%3E%0A%20%20%20%20%20%20%20%20%20%20%20%20%20%20%20%20%20%20%20%20%20%3Cdiv%20style%3D%27margin%3A%200%3B%20background-color%3A%20black%3B%20color%3A%20white%3B%27%3E%3Ch4%20style%3D%27text-align%3Acenter%3Bfont-weight%3A%20bold%27%3EPeru%3C/h4%3E%3Chr%20style%3D%27margin%3A10px%3Bcolor%3A%20white%3B%27%3E%3Cul%20style%3D%27color%3A%20white%3B%3Blist-style-type%3Acircle%3Balign-item%3Aleft%3Bpadding-left%3A20px%3Bpadding-right%3A20px%27%3E%3Cli%3EConfirmed%3A%201818689%3C/li%3E%3Cli%3EDeaths%3A%20%20%20121%3C/li%3E%3Cli%3EDeath%20Rate%3A%200.01%3C/li%3E%3C/ul%3E%3C/div%3E%0A%20%20%20%20%20%20%20%20%20%20%20%20%20%20%20%20%20%3C/div%3E%60%2C%0A%20%20%20%20%20%20%20%20%20%20%20%20%20%20%20%20%7B%22sticky%22%3A%20true%7D%0A%20%20%20%20%20%20%20%20%20%20%20%20%29%3B%0A%20%20%20%20%20%20%20%20%0A%20%20%20%20%0A%20%20%20%20%20%20%20%20%20%20%20%20var%20circle_5f9f76eb89b8472c984904375a1ef7fc%20%3D%20L.circle%28%0A%20%20%20%20%20%20%20%20%20%20%20%20%20%20%20%20%5B12.879721%2C%20121.77401699999999%5D%2C%0A%20%20%20%20%20%20%20%20%20%20%20%20%20%20%20%20%7B%22bubblingMouseEvents%22%3A%20true%2C%20%22color%22%3A%20%22red%22%2C%20%22dashArray%22%3A%20null%2C%20%22dashOffset%22%3A%20null%2C%20%22fill%22%3A%20true%2C%20%22fillColor%22%3A%20%22indigo%22%2C%20%22fillOpacity%22%3A%200.2%2C%20%22fillRule%22%3A%20%22evenodd%22%2C%20%22lineCap%22%3A%20%22round%22%2C%20%22lineJoin%22%3A%20%22round%22%2C%20%22opacity%22%3A%201.0%2C%20%22radius%22%3A%2066000.0%2C%20%22stroke%22%3A%20true%2C%20%22weight%22%3A%203%7D%0A%20%20%20%20%20%20%20%20%20%20%20%20%29.addTo%28map_a1d00f7722f64a9393b48021895cff65%29%3B%0A%20%20%20%20%20%20%20%20%0A%20%20%20%20%0A%20%20%20%20%20%20%20%20%20%20%20%20circle_5f9f76eb89b8472c984904375a1ef7fc.bindTooltip%28%0A%20%20%20%20%20%20%20%20%20%20%20%20%20%20%20%20%60%3Cdiv%3E%0A%20%20%20%20%20%20%20%20%20%20%20%20%20%20%20%20%20%20%20%20%20%3Cdiv%20style%3D%27margin%3A%200%3B%20background-color%3A%20black%3B%20color%3A%20white%3B%27%3E%3Ch4%20style%3D%27text-align%3Acenter%3Bfont-weight%3A%20bold%27%3EPhilippines%3C/h4%3E%3Chr%20style%3D%27margin%3A10px%3Bcolor%3A%20white%3B%27%3E%3Cul%20style%3D%27color%3A%20white%3B%3Blist-style-type%3Acircle%3Balign-item%3Aleft%3Bpadding-left%3A20px%3Bpadding-right%3A20px%27%3E%3Cli%3EConfirmed%3A%201073555%3C/li%3E%3Cli%3EDeaths%3A%20%20%206798%3C/li%3E%3Cli%3EDeath%20Rate%3A%200.63%3C/li%3E%3C/ul%3E%3C/div%3E%0A%20%20%20%20%20%20%20%20%20%20%20%20%20%20%20%20%20%3C/div%3E%60%2C%0A%20%20%20%20%20%20%20%20%20%20%20%20%20%20%20%20%7B%22sticky%22%3A%20true%7D%0A%20%20%20%20%20%20%20%20%20%20%20%20%29%3B%0A%20%20%20%20%20%20%20%20%0A%20%20%20%20%0A%20%20%20%20%20%20%20%20%20%20%20%20var%20circle_adac0d3347f2475f86b7b6e849686045%20%3D%20L.circle%28%0A%20%20%20%20%20%20%20%20%20%20%20%20%20%20%20%20%5B51.9194%2C%2019.1451%5D%2C%0A%20%20%20%20%20%20%20%20%20%20%20%20%20%20%20%20%7B%22bubblingMouseEvents%22%3A%20true%2C%20%22color%22%3A%20%22red%22%2C%20%22dashArray%22%3A%20null%2C%20%22dashOffset%22%3A%20null%2C%20%22fill%22%3A%20true%2C%20%22fillColor%22%3A%20%22indigo%22%2C%20%22fillOpacity%22%3A%200.2%2C%20%22fillRule%22%3A%20%22evenodd%22%2C%20%22lineCap%22%3A%20%22round%22%2C%20%22lineJoin%22%3A%20%22round%22%2C%20%22opacity%22%3A%201.0%2C%20%22radius%22%3A%2071000.0%2C%20%22stroke%22%3A%20true%2C%20%22weight%22%3A%203%7D%0A%20%20%20%20%20%20%20%20%20%20%20%20%29.addTo%28map_a1d00f7722f64a9393b48021895cff65%29%3B%0A%20%20%20%20%20%20%20%20%0A%20%20%20%20%0A%20%20%20%20%20%20%20%20%20%20%20%20circle_adac0d3347f2475f86b7b6e849686045.bindTooltip%28%0A%20%20%20%20%20%20%20%20%20%20%20%20%20%20%20%20%60%3Cdiv%3E%0A%20%20%20%20%20%20%20%20%20%20%20%20%20%20%20%20%20%20%20%20%20%3Cdiv%20style%3D%27margin%3A%200%3B%20background-color%3A%20black%3B%20color%3A%20white%3B%27%3E%3Ch4%20style%3D%27text-align%3Acenter%3Bfont-weight%3A%20bold%27%3EPoland%3C/h4%3E%3Chr%20style%3D%27margin%3A10px%3Bcolor%3A%20white%3B%27%3E%3Cul%20style%3D%27color%3A%20white%3B%3Blist-style-type%3Acircle%3Balign-item%3Aleft%3Bpadding-left%3A20px%3Bpadding-right%3A20px%27%3E%3Cli%3EConfirmed%3A%202811951%3C/li%3E%3Cli%3EDeaths%3A%20%20%2062674%3C/li%3E%3Cli%3EDeath%20Rate%3A%202.23%3C/li%3E%3C/ul%3E%3C/div%3E%0A%20%20%20%20%20%20%20%20%20%20%20%20%20%20%20%20%20%3C/div%3E%60%2C%0A%20%20%20%20%20%20%20%20%20%20%20%20%20%20%20%20%7B%22sticky%22%3A%20true%7D%0A%20%20%20%20%20%20%20%20%20%20%20%20%29%3B%0A%20%20%20%20%20%20%20%20%0A%20%20%20%20%0A%20%20%20%20%20%20%20%20%20%20%20%20var%20circle_3bd81b08f9fd40438f651b2cbe86ff0d%20%3D%20L.circle%28%0A%20%20%20%20%20%20%20%20%20%20%20%20%20%20%20%20%5B39.3999%2C%20-8.2245%5D%2C%0A%20%20%20%20%20%20%20%20%20%20%20%20%20%20%20%20%7B%22bubblingMouseEvents%22%3A%20true%2C%20%22color%22%3A%20%22red%22%2C%20%22dashArray%22%3A%20null%2C%20%22dashOffset%22%3A%20null%2C%20%22fill%22%3A%20true%2C%20%22fillColor%22%3A%20%22indigo%22%2C%20%22fillOpacity%22%3A%200.2%2C%20%22fillRule%22%3A%20%22evenodd%22%2C%20%22lineCap%22%3A%20%22round%22%2C%20%22lineJoin%22%3A%20%22round%22%2C%20%22opacity%22%3A%201.0%2C%20%22radius%22%3A%2066000.0%2C%20%22stroke%22%3A%20true%2C%20%22weight%22%3A%203%7D%0A%20%20%20%20%20%20%20%20%20%20%20%20%29.addTo%28map_a1d00f7722f64a9393b48021895cff65%29%3B%0A%20%20%20%20%20%20%20%20%0A%20%20%20%20%0A%20%20%20%20%20%20%20%20%20%20%20%20circle_3bd81b08f9fd40438f651b2cbe86ff0d.bindTooltip%28%0A%20%20%20%20%20%20%20%20%20%20%20%20%20%20%20%20%60%3Cdiv%3E%0A%20%20%20%20%20%20%20%20%20%20%20%20%20%20%20%20%20%20%20%20%20%3Cdiv%20style%3D%27margin%3A%200%3B%20background-color%3A%20black%3B%20color%3A%20white%3B%27%3E%3Ch4%20style%3D%27text-align%3Acenter%3Bfont-weight%3A%20bold%27%3EPortugal%3C/h4%3E%3Chr%20style%3D%27margin%3A10px%3Bcolor%3A%20white%3B%27%3E%3Cul%20style%3D%27color%3A%20white%3B%3Blist-style-type%3Acircle%3Balign-item%3Aleft%3Bpadding-left%3A20px%3Bpadding-right%3A20px%27%3E%3Cli%3EConfirmed%3A%20838102%3C/li%3E%3Cli%3EDeaths%3A%20%20%2017800%3C/li%3E%3Cli%3EDeath%20Rate%3A%202.12%3C/li%3E%3C/ul%3E%3C/div%3E%0A%20%20%20%20%20%20%20%20%20%20%20%20%20%20%20%20%20%3C/div%3E%60%2C%0A%20%20%20%20%20%20%20%20%20%20%20%20%20%20%20%20%7B%22sticky%22%3A%20true%7D%0A%20%20%20%20%20%20%20%20%20%20%20%20%29%3B%0A%20%20%20%20%20%20%20%20%0A%20%20%20%20%0A%20%20%20%20%20%20%20%20%20%20%20%20var%20circle_9ffc0421cbc34d968a2222a4175b556c%20%3D%20L.circle%28%0A%20%20%20%20%20%20%20%20%20%20%20%20%20%20%20%20%5B25.3548%2C%2051.1839%5D%2C%0A%20%20%20%20%20%20%20%20%20%20%20%20%20%20%20%20%7B%22bubblingMouseEvents%22%3A%20true%2C%20%22color%22%3A%20%22red%22%2C%20%22dashArray%22%3A%20null%2C%20%22dashOffset%22%3A%20null%2C%20%22fill%22%3A%20true%2C%20%22fillColor%22%3A%20%22indigo%22%2C%20%22fillOpacity%22%3A%200.2%2C%20%22fillRule%22%3A%20%22evenodd%22%2C%20%22lineCap%22%3A%20%22round%22%2C%20%22lineJoin%22%3A%20%22round%22%2C%20%22opacity%22%3A%201.0%2C%20%22radius%22%3A%2061000.0%2C%20%22stroke%22%3A%20true%2C%20%22weight%22%3A%203%7D%0A%20%20%20%20%20%20%20%20%20%20%20%20%29.addTo%28map_a1d00f7722f64a9393b48021895cff65%29%3B%0A%20%20%20%20%20%20%20%20%0A%20%20%20%20%0A%20%20%20%20%20%20%20%20%20%20%20%20circle_9ffc0421cbc34d968a2222a4175b556c.bindTooltip%28%0A%20%20%20%20%20%20%20%20%20%20%20%20%20%20%20%20%60%3Cdiv%3E%0A%20%20%20%20%20%20%20%20%20%20%20%20%20%20%20%20%20%20%20%20%20%3Cdiv%20style%3D%27margin%3A%200%3B%20background-color%3A%20black%3B%20color%3A%20white%3B%27%3E%3Ch4%20style%3D%27text-align%3Acenter%3Bfont-weight%3A%20bold%27%3EQatar%3C/h4%3E%3Chr%20style%3D%27margin%3A10px%3Bcolor%3A%20white%3B%27%3E%3Cul%20style%3D%27color%3A%20white%3B%3Blist-style-type%3Acircle%3Balign-item%3Aleft%3Bpadding-left%3A20px%3Bpadding-right%3A20px%27%3E%3Cli%3EConfirmed%3A%20208877%3C/li%3E%3Cli%3EDeaths%3A%20%20%2068482%3C/li%3E%3Cli%3EDeath%20Rate%3A%2032.79%3C/li%3E%3C/ul%3E%3C/div%3E%0A%20%20%20%20%20%20%20%20%20%20%20%20%20%20%20%20%20%3C/div%3E%60%2C%0A%20%20%20%20%20%20%20%20%20%20%20%20%20%20%20%20%7B%22sticky%22%3A%20true%7D%0A%20%20%20%20%20%20%20%20%20%20%20%20%29%3B%0A%20%20%20%20%20%20%20%20%0A%20%20%20%20%0A%20%20%20%20%20%20%20%20%20%20%20%20var%20circle_0f75a3a11a0a4856908e67d02415eae9%20%3D%20L.circle%28%0A%20%20%20%20%20%20%20%20%20%20%20%20%20%20%20%20%5B45.9432%2C%2024.9668%5D%2C%0A%20%20%20%20%20%20%20%20%20%20%20%20%20%20%20%20%7B%22bubblingMouseEvents%22%3A%20true%2C%20%22color%22%3A%20%22red%22%2C%20%22dashArray%22%3A%20null%2C%20%22dashOffset%22%3A%20null%2C%20%22fill%22%3A%20true%2C%20%22fillColor%22%3A%20%22indigo%22%2C%20%22fillOpacity%22%3A%200.2%2C%20%22fillRule%22%3A%20%22evenodd%22%2C%20%22lineCap%22%3A%20%22round%22%2C%20%22lineJoin%22%3A%20%22round%22%2C%20%22opacity%22%3A%201.0%2C%20%22radius%22%3A%2066000.0%2C%20%22stroke%22%3A%20true%2C%20%22weight%22%3A%203%7D%0A%20%20%20%20%20%20%20%20%20%20%20%20%29.addTo%28map_a1d00f7722f64a9393b48021895cff65%29%3B%0A%20%20%20%20%20%20%20%20%0A%20%20%20%20%0A%20%20%20%20%20%20%20%20%20%20%20%20circle_0f75a3a11a0a4856908e67d02415eae9.bindTooltip%28%0A%20%20%20%20%20%20%20%20%20%20%20%20%20%20%20%20%60%3Cdiv%3E%0A%20%20%20%20%20%20%20%20%20%20%20%20%20%20%20%20%20%20%20%20%20%3Cdiv%20style%3D%27margin%3A%200%3B%20background-color%3A%20black%3B%20color%3A%20white%3B%27%3E%3Ch4%20style%3D%27text-align%3Acenter%3Bfont-weight%3A%20bold%27%3ERomania%3C/h4%3E%3Chr%20style%3D%27margin%3A10px%3Bcolor%3A%20white%3B%27%3E%3Cul%20style%3D%27color%3A%20white%3B%3Blist-style-type%3Acircle%3Balign-item%3Aleft%3Bpadding-left%3A20px%3Bpadding-right%3A20px%27%3E%3Cli%3EConfirmed%3A%201060895%3C/li%3E%3Cli%3EDeaths%3A%20%20%2016983%3C/li%3E%3Cli%3EDeath%20Rate%3A%201.6%3C/li%3E%3C/ul%3E%3C/div%3E%0A%20%20%20%20%20%20%20%20%20%20%20%20%20%20%20%20%20%3C/div%3E%60%2C%0A%20%20%20%20%20%20%20%20%20%20%20%20%20%20%20%20%7B%22sticky%22%3A%20true%7D%0A%20%20%20%20%20%20%20%20%20%20%20%20%29%3B%0A%20%20%20%20%20%20%20%20%0A%20%20%20%20%0A%20%20%20%20%20%20%20%20%20%20%20%20var%20circle_1d1e97d39d4e46bcb6a41e2714618ee3%20%3D%20L.circle%28%0A%20%20%20%20%20%20%20%20%20%20%20%20%20%20%20%20%5B61.52401%2C%20105.31875600000001%5D%2C%0A%20%20%20%20%20%20%20%20%20%20%20%20%20%20%20%20%7B%22bubblingMouseEvents%22%3A%20true%2C%20%22color%22%3A%20%22red%22%2C%20%22dashArray%22%3A%20null%2C%20%22dashOffset%22%3A%20null%2C%20%22fill%22%3A%20true%2C%20%22fillColor%22%3A%20%22indigo%22%2C%20%22fillOpacity%22%3A%200.2%2C%20%22fillRule%22%3A%20%22evenodd%22%2C%20%22lineCap%22%3A%20%22round%22%2C%20%22lineJoin%22%3A%20%22round%22%2C%20%22opacity%22%3A%201.0%2C%20%22radius%22%3A%2076000.0%2C%20%22stroke%22%3A%20true%2C%20%22weight%22%3A%203%7D%0A%20%20%20%20%20%20%20%20%20%20%20%20%29.addTo%28map_a1d00f7722f64a9393b48021895cff65%29%3B%0A%20%20%20%20%20%20%20%20%0A%20%20%20%20%0A%20%20%20%20%20%20%20%20%20%20%20%20circle_1d1e97d39d4e46bcb6a41e2714618ee3.bindTooltip%28%0A%20%20%20%20%20%20%20%20%20%20%20%20%20%20%20%20%60%3Cdiv%3E%0A%20%20%20%20%20%20%20%20%20%20%20%20%20%20%20%20%20%20%20%20%20%3Cdiv%20style%3D%27margin%3A%200%3B%20background-color%3A%20black%3B%20color%3A%20white%3B%27%3E%3Ch4%20style%3D%27text-align%3Acenter%3Bfont-weight%3A%20bold%27%3ERussia%3C/h4%3E%3Chr%20style%3D%27margin%3A10px%3Bcolor%3A%20white%3B%27%3E%3Cul%20style%3D%27color%3A%20white%3B%3Blist-style-type%3Acircle%3Balign-item%3Aleft%3Bpadding-left%3A20px%3Bpadding-right%3A20px%27%3E%3Cli%3EConfirmed%3A%204792354%3C/li%3E%3Cli%3EDeaths%3A%20%20%20489%3C/li%3E%3Cli%3EDeath%20Rate%3A%200.01%3C/li%3E%3C/ul%3E%3C/div%3E%0A%20%20%20%20%20%20%20%20%20%20%20%20%20%20%20%20%20%3C/div%3E%60%2C%0A%20%20%20%20%20%20%20%20%20%20%20%20%20%20%20%20%7B%22sticky%22%3A%20true%7D%0A%20%20%20%20%20%20%20%20%20%20%20%20%29%3B%0A%20%20%20%20%20%20%20%20%0A%20%20%20%20%0A%20%20%20%20%20%20%20%20%20%20%20%20var%20circle_8378dbaee0f24323af9946b9b77d3dbe%20%3D%20L.circle%28%0A%20%20%20%20%20%20%20%20%20%20%20%20%20%20%20%20%5B-1.9403%2C%2029.8739%5D%2C%0A%20%20%20%20%20%20%20%20%20%20%20%20%20%20%20%20%7B%22bubblingMouseEvents%22%3A%20true%2C%20%22color%22%3A%20%22red%22%2C%20%22dashArray%22%3A%20null%2C%20%22dashOffset%22%3A%20null%2C%20%22fill%22%3A%20true%2C%20%22fillColor%22%3A%20%22indigo%22%2C%20%22fillOpacity%22%3A%200.2%2C%20%22fillRule%22%3A%20%22evenodd%22%2C%20%22lineCap%22%3A%20%22round%22%2C%20%22lineJoin%22%3A%20%22round%22%2C%20%22opacity%22%3A%201.0%2C%20%22radius%22%3A%2051000.0%2C%20%22stroke%22%3A%20true%2C%20%22weight%22%3A%203%7D%0A%20%20%20%20%20%20%20%20%20%20%20%20%29.addTo%28map_a1d00f7722f64a9393b48021895cff65%29%3B%0A%20%20%20%20%20%20%20%20%0A%20%20%20%20%0A%20%20%20%20%20%20%20%20%20%20%20%20circle_8378dbaee0f24323af9946b9b77d3dbe.bindTooltip%28%0A%20%20%20%20%20%20%20%20%20%20%20%20%20%20%20%20%60%3Cdiv%3E%0A%20%20%20%20%20%20%20%20%20%20%20%20%20%20%20%20%20%20%20%20%20%3Cdiv%20style%3D%27margin%3A%200%3B%20background-color%3A%20black%3B%20color%3A%20white%3B%27%3E%3Ch4%20style%3D%27text-align%3Acenter%3Bfont-weight%3A%20bold%27%3ERwanda%3C/h4%3E%3Chr%20style%3D%27margin%3A10px%3Bcolor%3A%20white%3B%27%3E%3Cul%20style%3D%27color%3A%20white%3B%3Blist-style-type%3Acircle%3Balign-item%3Aleft%3Bpadding-left%3A20px%3Bpadding-right%3A20px%27%3E%3Cli%3EConfirmed%3A%2025421%3C/li%3E%3Cli%3EDeaths%3A%20%20%2028616%3C/li%3E%3Cli%3EDeath%20Rate%3A%20112.56%3C/li%3E%3C/ul%3E%3C/div%3E%0A%20%20%20%20%20%20%20%20%20%20%20%20%20%20%20%20%20%3C/div%3E%60%2C%0A%20%20%20%20%20%20%20%20%20%20%20%20%20%20%20%20%7B%22sticky%22%3A%20true%7D%0A%20%20%20%20%20%20%20%20%20%20%20%20%29%3B%0A%20%20%20%20%20%20%20%20%0A%20%20%20%20%0A%20%20%20%20%20%20%20%20%20%20%20%20var%20circle_3470001559c04c6a8b36f2d88257adf5%20%3D%20L.circle%28%0A%20%20%20%20%20%20%20%20%20%20%20%20%20%20%20%20%5B17.357822%2C%20-62.782998%5D%2C%0A%20%20%20%20%20%20%20%20%20%20%20%20%20%20%20%20%7B%22bubblingMouseEvents%22%3A%20true%2C%20%22color%22%3A%20%22red%22%2C%20%22dashArray%22%3A%20null%2C%20%22dashOffset%22%3A%20null%2C%20%22fill%22%3A%20true%2C%20%22fillColor%22%3A%20%22indigo%22%2C%20%22fillOpacity%22%3A%200.2%2C%20%22fillRule%22%3A%20%22evenodd%22%2C%20%22lineCap%22%3A%20%22round%22%2C%20%22lineJoin%22%3A%20%22round%22%2C%20%22opacity%22%3A%201.0%2C%20%22radius%22%3A%2016000.0%2C%20%22stroke%22%3A%20true%2C%20%22weight%22%3A%203%7D%0A%20%20%20%20%20%20%20%20%20%20%20%20%29.addTo%28map_a1d00f7722f64a9393b48021895cff65%29%3B%0A%20%20%20%20%20%20%20%20%0A%20%20%20%20%0A%20%20%20%20%20%20%20%20%20%20%20%20circle_3470001559c04c6a8b36f2d88257adf5.bindTooltip%28%0A%20%20%20%20%20%20%20%20%20%20%20%20%20%20%20%20%60%3Cdiv%3E%0A%20%20%20%20%20%20%20%20%20%20%20%20%20%20%20%20%20%20%20%20%20%3Cdiv%20style%3D%27margin%3A%200%3B%20background-color%3A%20black%3B%20color%3A%20white%3B%27%3E%3Ch4%20style%3D%27text-align%3Acenter%3Bfont-weight%3A%20bold%27%3ESaint%20Kitts%20and%20Nevis%3C/h4%3E%3Chr%20style%3D%27margin%3A10px%3Bcolor%3A%20white%3B%27%3E%3Cul%20style%3D%27color%3A%20white%3B%3Blist-style-type%3Acircle%3Balign-item%3Aleft%3Bpadding-left%3A20px%3Bpadding-right%3A20px%27%3E%3Cli%3EConfirmed%3A%2045%3C/li%3E%3Cli%3EDeaths%3A%20%20%20110022%3C/li%3E%3Cli%3EDeath%20Rate%3A%20239178.21%3C/li%3E%3C/ul%3E%3C/div%3E%0A%20%20%20%20%20%20%20%20%20%20%20%20%20%20%20%20%20%3C/div%3E%60%2C%0A%20%20%20%20%20%20%20%20%20%20%20%20%20%20%20%20%7B%22sticky%22%3A%20true%7D%0A%20%20%20%20%20%20%20%20%20%20%20%20%29%3B%0A%20%20%20%20%20%20%20%20%0A%20%20%20%20%0A%20%20%20%20%20%20%20%20%20%20%20%20var%20circle_b9751719a1814a198d7abd4633ca685d%20%3D%20L.circle%28%0A%20%20%20%20%20%20%20%20%20%20%20%20%20%20%20%20%5B13.9094%2C%20-60.9789%5D%2C%0A%20%20%20%20%20%20%20%20%20%20%20%20%20%20%20%20%7B%22bubblingMouseEvents%22%3A%20true%2C%20%22color%22%3A%20%22red%22%2C%20%22dashArray%22%3A%20null%2C%20%22dashOffset%22%3A%20null%2C%20%22fill%22%3A%20true%2C%20%22fillColor%22%3A%20%22indigo%22%2C%20%22fillOpacity%22%3A%200.2%2C%20%22fillRule%22%3A%20%22evenodd%22%2C%20%22lineCap%22%3A%20%22round%22%2C%20%22lineJoin%22%3A%20%22round%22%2C%20%22opacity%22%3A%201.0%2C%20%22radius%22%3A%2041000.0%2C%20%22stroke%22%3A%20true%2C%20%22weight%22%3A%203%7D%0A%20%20%20%20%20%20%20%20%20%20%20%20%29.addTo%28map_a1d00f7722f64a9393b48021895cff65%29%3B%0A%20%20%20%20%20%20%20%20%0A%20%20%20%20%0A%20%20%20%20%20%20%20%20%20%20%20%20circle_b9751719a1814a198d7abd4633ca685d.bindTooltip%28%0A%20%20%20%20%20%20%20%20%20%20%20%20%20%20%20%20%60%3Cdiv%3E%0A%20%20%20%20%20%20%20%20%20%20%20%20%20%20%20%20%20%20%20%20%20%3Cdiv%20style%3D%27margin%3A%200%3B%20background-color%3A%20black%3B%20color%3A%20white%3B%27%3E%3Ch4%20style%3D%27text-align%3Acenter%3Bfont-weight%3A%20bold%27%3ESaint%20Lucia%3C/h4%3E%3Chr%20style%3D%27margin%3A10px%3Bcolor%3A%20white%3B%27%3E%3Cul%20style%3D%27color%3A%20white%3B%3Blist-style-type%3Acircle%3Balign-item%3Aleft%3Bpadding-left%3A20px%3Bpadding-right%3A20px%27%3E%3Cli%3EConfirmed%3A%204585%3C/li%3E%3Cli%3EDeaths%3A%20%20%20338%3C/li%3E%3Cli%3EDeath%20Rate%3A%207.37%3C/li%3E%3C/ul%3E%3C/div%3E%0A%20%20%20%20%20%20%20%20%20%20%20%20%20%20%20%20%20%3C/div%3E%60%2C%0A%20%20%20%20%20%20%20%20%20%20%20%20%20%20%20%20%7B%22sticky%22%3A%20true%7D%0A%20%20%20%20%20%20%20%20%20%20%20%20%29%3B%0A%20%20%20%20%20%20%20%20%0A%20%20%20%20%0A%20%20%20%20%20%20%20%20%20%20%20%20var%20circle_b33e4424edbf485990b5850d88788a83%20%3D%20L.circle%28%0A%20%20%20%20%20%20%20%20%20%20%20%20%20%20%20%20%5B12.9843%2C%20-61.2872%5D%2C%0A%20%20%20%20%20%20%20%20%20%20%20%20%20%20%20%20%7B%22bubblingMouseEvents%22%3A%20true%2C%20%22color%22%3A%20%22red%22%2C%20%22dashArray%22%3A%20null%2C%20%22dashOffset%22%3A%20null%2C%20%22fill%22%3A%20true%2C%20%22fillColor%22%3A%20%22indigo%22%2C%20%22fillOpacity%22%3A%200.2%2C%20%22fillRule%22%3A%20%22evenodd%22%2C%20%22lineCap%22%3A%20%22round%22%2C%20%22lineJoin%22%3A%20%22round%22%2C%20%22opacity%22%3A%201.0%2C%20%22radius%22%3A%2036000.0%2C%20%22stroke%22%3A%20true%2C%20%22weight%22%3A%203%7D%0A%20%20%20%20%20%20%20%20%20%20%20%20%29.addTo%28map_a1d00f7722f64a9393b48021895cff65%29%3B%0A%20%20%20%20%20%20%20%20%0A%20%20%20%20%0A%20%20%20%20%20%20%20%20%20%20%20%20circle_b33e4424edbf485990b5850d88788a83.bindTooltip%28%0A%20%20%20%20%20%20%20%20%20%20%20%20%20%20%20%20%60%3Cdiv%3E%0A%20%20%20%20%20%20%20%20%20%20%20%20%20%20%20%20%20%20%20%20%20%3Cdiv%20style%3D%27margin%3A%200%3B%20background-color%3A%20black%3B%20color%3A%20white%3B%27%3E%3Ch4%20style%3D%27text-align%3Acenter%3Bfont-weight%3A%20bold%27%3ESaint%20Vincent%20and%20the%20Grenadines%3C/h4%3E%3Chr%20style%3D%27margin%3A10px%3Bcolor%3A%20white%3B%27%3E%3Cul%20style%3D%27color%3A%20white%3B%3Blist-style-type%3Acircle%3Balign-item%3Aleft%3Bpadding-left%3A20px%3Bpadding-right%3A20px%27%3E%3Cli%3EConfirmed%3A%201882%3C/li%3E%3Cli%3EDeaths%3A%20%20%200%3C/li%3E%3Cli%3EDeath%20Rate%3A%200.0%3C/li%3E%3C/ul%3E%3C/div%3E%0A%20%20%20%20%20%20%20%20%20%20%20%20%20%20%20%20%20%3C/div%3E%60%2C%0A%20%20%20%20%20%20%20%20%20%20%20%20%20%20%20%20%7B%22sticky%22%3A%20true%7D%0A%20%20%20%20%20%20%20%20%20%20%20%20%29%3B%0A%20%20%20%20%20%20%20%20%0A%20%20%20%20%0A%20%20%20%20%20%20%20%20%20%20%20%20var%20circle_5d7875e80ab04f289bc75e54fe1e2ee3%20%3D%20L.circle%28%0A%20%20%20%20%20%20%20%20%20%20%20%20%20%20%20%20%5B-13.759%2C%20-172.1046%5D%2C%0A%20%20%20%20%20%20%20%20%20%20%20%20%20%20%20%20%7B%22bubblingMouseEvents%22%3A%20true%2C%20%22color%22%3A%20%22red%22%2C%20%22dashArray%22%3A%20null%2C%20%22dashOffset%22%3A%20null%2C%20%22fill%22%3A%20true%2C%20%22fillColor%22%3A%20%22indigo%22%2C%20%22fillOpacity%22%3A%200.2%2C%20%22fillRule%22%3A%20%22evenodd%22%2C%20%22lineCap%22%3A%20%22round%22%2C%20%22lineJoin%22%3A%20%22round%22%2C%20%22opacity%22%3A%201.0%2C%20%22radius%22%3A%206000.0%2C%20%22stroke%22%3A%20true%2C%20%22weight%22%3A%203%7D%0A%20%20%20%20%20%20%20%20%20%20%20%20%29.addTo%28map_a1d00f7722f64a9393b48021895cff65%29%3B%0A%20%20%20%20%20%20%20%20%0A%20%20%20%20%0A%20%20%20%20%20%20%20%20%20%20%20%20circle_5d7875e80ab04f289bc75e54fe1e2ee3.bindTooltip%28%0A%20%20%20%20%20%20%20%20%20%20%20%20%20%20%20%20%60%3Cdiv%3E%0A%20%20%20%20%20%20%20%20%20%20%20%20%20%20%20%20%20%20%20%20%20%3Cdiv%20style%3D%27margin%3A%200%3B%20background-color%3A%20black%3B%20color%3A%20white%3B%27%3E%3Ch4%20style%3D%27text-align%3Acenter%3Bfont-weight%3A%20bold%27%3ESamoa%3C/h4%3E%3Chr%20style%3D%27margin%3A10px%3Bcolor%3A%20white%3B%27%3E%3Cul%20style%3D%27color%3A%20white%3B%3Blist-style-type%3Acircle%3Balign-item%3Aleft%3Bpadding-left%3A20px%3Bpadding-right%3A20px%27%3E%3Cli%3EConfirmed%3A%203%3C/li%3E%3Cli%3EDeaths%3A%20%20%2074%3C/li%3E%3Cli%3EDeath%20Rate%3A%201850.0%3C/li%3E%3C/ul%3E%3C/div%3E%0A%20%20%20%20%20%20%20%20%20%20%20%20%20%20%20%20%20%3C/div%3E%60%2C%0A%20%20%20%20%20%20%20%20%20%20%20%20%20%20%20%20%7B%22sticky%22%3A%20true%7D%0A%20%20%20%20%20%20%20%20%20%20%20%20%29%3B%0A%20%20%20%20%20%20%20%20%0A%20%20%20%20%0A%20%20%20%20%20%20%20%20%20%20%20%20var%20circle_1508c600418f4fb2aa275010af1b79c4%20%3D%20L.circle%28%0A%20%20%20%20%20%20%20%20%20%20%20%20%20%20%20%20%5B43.9424%2C%2012.4578%5D%2C%0A%20%20%20%20%20%20%20%20%20%20%20%20%20%20%20%20%7B%22bubblingMouseEvents%22%3A%20true%2C%20%22color%22%3A%20%22red%22%2C%20%22dashArray%22%3A%20null%2C%20%22dashOffset%22%3A%20null%2C%20%22fill%22%3A%20true%2C%20%22fillColor%22%3A%20%22indigo%22%2C%20%22fillOpacity%22%3A%200.2%2C%20%22fillRule%22%3A%20%22evenodd%22%2C%20%22lineCap%22%3A%20%22round%22%2C%20%22lineJoin%22%3A%20%22round%22%2C%20%22opacity%22%3A%201.0%2C%20%22radius%22%3A%2041000.0%2C%20%22stroke%22%3A%20true%2C%20%22weight%22%3A%203%7D%0A%20%20%20%20%20%20%20%20%20%20%20%20%29.addTo%28map_a1d00f7722f64a9393b48021895cff65%29%3B%0A%20%20%20%20%20%20%20%20%0A%20%20%20%20%0A%20%20%20%20%20%20%20%20%20%20%20%20circle_1508c600418f4fb2aa275010af1b79c4.bindTooltip%28%0A%20%20%20%20%20%20%20%20%20%20%20%20%20%20%20%20%60%3Cdiv%3E%0A%20%20%20%20%20%20%20%20%20%20%20%20%20%20%20%20%20%20%20%20%20%3Cdiv%20style%3D%27margin%3A%200%3B%20background-color%3A%20black%3B%20color%3A%20white%3B%27%3E%3Ch4%20style%3D%27text-align%3Acenter%3Bfont-weight%3A%20bold%27%3ESan%20Marino%3C/h4%3E%3Chr%20style%3D%27margin%3A10px%3Bcolor%3A%20white%3B%27%3E%3Cul%20style%3D%27color%3A%20white%3B%3Blist-style-type%3Acircle%3Balign-item%3Aleft%3Bpadding-left%3A20px%3Bpadding-right%3A20px%27%3E%3Cli%3EConfirmed%3A%205067%3C/li%3E%3Cli%3EDeaths%3A%20%20%2011%3C/li%3E%3Cli%3EDeath%20Rate%3A%200.22%3C/li%3E%3C/ul%3E%3C/div%3E%0A%20%20%20%20%20%20%20%20%20%20%20%20%20%20%20%20%20%3C/div%3E%60%2C%0A%20%20%20%20%20%20%20%20%20%20%20%20%20%20%20%20%7B%22sticky%22%3A%20true%7D%0A%20%20%20%20%20%20%20%20%20%20%20%20%29%3B%0A%20%20%20%20%20%20%20%20%0A%20%20%20%20%0A%20%20%20%20%20%20%20%20%20%20%20%20var%20circle_3f17d4dbd0664b57a47e4bfb51db138c%20%3D%20L.circle%28%0A%20%20%20%20%20%20%20%20%20%20%20%20%20%20%20%20%5B0.1864%2C%206.6131%5D%2C%0A%20%20%20%20%20%20%20%20%20%20%20%20%20%20%20%20%7B%22bubblingMouseEvents%22%3A%20true%2C%20%22color%22%3A%20%22red%22%2C%20%22dashArray%22%3A%20null%2C%20%22dashOffset%22%3A%20null%2C%20%22fill%22%3A%20true%2C%20%22fillColor%22%3A%20%22indigo%22%2C%20%22fillOpacity%22%3A%200.2%2C%20%22fillRule%22%3A%20%22evenodd%22%2C%20%22lineCap%22%3A%20%22round%22%2C%20%22lineJoin%22%3A%20%22round%22%2C%20%22opacity%22%3A%201.0%2C%20%22radius%22%3A%2036000.0%2C%20%22stroke%22%3A%20true%2C%20%22weight%22%3A%203%7D%0A%20%20%20%20%20%20%20%20%20%20%20%20%29.addTo%28map_a1d00f7722f64a9393b48021895cff65%29%3B%0A%20%20%20%20%20%20%20%20%0A%20%20%20%20%0A%20%20%20%20%20%20%20%20%20%20%20%20circle_3f17d4dbd0664b57a47e4bfb51db138c.bindTooltip%28%0A%20%20%20%20%20%20%20%20%20%20%20%20%20%20%20%20%60%3Cdiv%3E%0A%20%20%20%20%20%20%20%20%20%20%20%20%20%20%20%20%20%20%20%20%20%3Cdiv%20style%3D%27margin%3A%200%3B%20background-color%3A%20black%3B%20color%3A%20white%3B%27%3E%3Ch4%20style%3D%27text-align%3Acenter%3Bfont-weight%3A%20bold%27%3ESao%20Tome%20and%20Principe%3C/h4%3E%3Chr%20style%3D%27margin%3A10px%3Bcolor%3A%20white%3B%27%3E%3Cul%20style%3D%27color%3A%20white%3B%3Blist-style-type%3Acircle%3Balign-item%3Aleft%3Bpadding-left%3A20px%3Bpadding-right%3A20px%27%3E%3Cli%3EConfirmed%3A%202314%3C/li%3E%3Cli%3EDeaths%3A%20%20%200%3C/li%3E%3Cli%3EDeath%20Rate%3A%200.0%3C/li%3E%3C/ul%3E%3C/div%3E%0A%20%20%20%20%20%20%20%20%20%20%20%20%20%20%20%20%20%3C/div%3E%60%2C%0A%20%20%20%20%20%20%20%20%20%20%20%20%20%20%20%20%7B%22sticky%22%3A%20true%7D%0A%20%20%20%20%20%20%20%20%20%20%20%20%29%3B%0A%20%20%20%20%20%20%20%20%0A%20%20%20%20%0A%20%20%20%20%20%20%20%20%20%20%20%20var%20circle_1765bc85dfcf4e008a911bd9571befe1%20%3D%20L.circle%28%0A%20%20%20%20%20%20%20%20%20%20%20%20%20%20%20%20%5B23.885942%2C%2045.079162%5D%2C%0A%20%20%20%20%20%20%20%20%20%20%20%20%20%20%20%20%7B%22bubblingMouseEvents%22%3A%20true%2C%20%22color%22%3A%20%22red%22%2C%20%22dashArray%22%3A%20null%2C%20%22dashOffset%22%3A%20null%2C%20%22fill%22%3A%20true%2C%20%22fillColor%22%3A%20%22indigo%22%2C%20%22fillOpacity%22%3A%200.2%2C%20%22fillRule%22%3A%20%22evenodd%22%2C%20%22lineCap%22%3A%20%22round%22%2C%20%22lineJoin%22%3A%20%22round%22%2C%20%22opacity%22%3A%201.0%2C%20%22radius%22%3A%2061000.0%2C%20%22stroke%22%3A%20true%2C%20%22weight%22%3A%203%7D%0A%20%20%20%20%20%20%20%20%20%20%20%20%29.addTo%28map_a1d00f7722f64a9393b48021895cff65%29%3B%0A%20%20%20%20%20%20%20%20%0A%20%20%20%20%0A%20%20%20%20%20%20%20%20%20%20%20%20circle_1765bc85dfcf4e008a911bd9571befe1.bindTooltip%28%0A%20%20%20%20%20%20%20%20%20%20%20%20%20%20%20%20%60%3Cdiv%3E%0A%20%20%20%20%20%20%20%20%20%20%20%20%20%20%20%20%20%20%20%20%20%3Cdiv%20style%3D%27margin%3A%200%3B%20background-color%3A%20black%3B%20color%3A%20white%3B%27%3E%3Ch4%20style%3D%27text-align%3Acenter%3Bfont-weight%3A%20bold%27%3ESaudi%20Arabia%3C/h4%3E%3Chr%20style%3D%27margin%3A10px%3Bcolor%3A%20white%3B%27%3E%3Cul%20style%3D%27color%3A%20white%3B%3Blist-style-type%3Acircle%3Balign-item%3Aleft%3Bpadding-left%3A20px%3Bpadding-right%3A20px%27%3E%3Cli%3EConfirmed%3A%20422316%3C/li%3E%3Cli%3EDeaths%3A%20%20%2090%3C/li%3E%3Cli%3EDeath%20Rate%3A%200.02%3C/li%3E%3C/ul%3E%3C/div%3E%0A%20%20%20%20%20%20%20%20%20%20%20%20%20%20%20%20%20%3C/div%3E%60%2C%0A%20%20%20%20%20%20%20%20%20%20%20%20%20%20%20%20%7B%22sticky%22%3A%20true%7D%0A%20%20%20%20%20%20%20%20%20%20%20%20%29%3B%0A%20%20%20%20%20%20%20%20%0A%20%20%20%20%0A%20%20%20%20%20%20%20%20%20%20%20%20var%20circle_17d57f8b61674bc49993ec708f920f6e%20%3D%20L.circle%28%0A%20%20%20%20%20%20%20%20%20%20%20%20%20%20%20%20%5B14.4974%2C%20-14.4524%5D%2C%0A%20%20%20%20%20%20%20%20%20%20%20%20%20%20%20%20%7B%22bubblingMouseEvents%22%3A%20true%2C%20%22color%22%3A%20%22red%22%2C%20%22dashArray%22%3A%20null%2C%20%22dashOffset%22%3A%20null%2C%20%22fill%22%3A%20true%2C%20%22fillColor%22%3A%20%22indigo%22%2C%20%22fillOpacity%22%3A%200.2%2C%20%22fillRule%22%3A%20%22evenodd%22%2C%20%22lineCap%22%3A%20%22round%22%2C%20%22lineJoin%22%3A%20%22round%22%2C%20%22opacity%22%3A%201.0%2C%20%22radius%22%3A%2051000.0%2C%20%22stroke%22%3A%20true%2C%20%22weight%22%3A%203%7D%0A%20%20%20%20%20%20%20%20%20%20%20%20%29.addTo%28map_a1d00f7722f64a9393b48021895cff65%29%3B%0A%20%20%20%20%20%20%20%20%0A%20%20%20%20%0A%20%20%20%20%20%20%20%20%20%20%20%20circle_17d57f8b61674bc49993ec708f920f6e.bindTooltip%28%0A%20%20%20%20%20%20%20%20%20%20%20%20%20%20%20%20%60%3Cdiv%3E%0A%20%20%20%20%20%20%20%20%20%20%20%20%20%20%20%20%20%20%20%20%20%3Cdiv%20style%3D%27margin%3A%200%3B%20background-color%3A%20black%3B%20color%3A%20white%3B%27%3E%3Ch4%20style%3D%27text-align%3Acenter%3Bfont-weight%3A%20bold%27%3ESenegal%3C/h4%3E%3Chr%20style%3D%27margin%3A10px%3Bcolor%3A%20white%3B%27%3E%3Cul%20style%3D%27color%3A%20white%3B%3Blist-style-type%3Acircle%3Balign-item%3Aleft%3Bpadding-left%3A20px%3Bpadding-right%3A20px%27%3E%3Cli%3EConfirmed%3A%2040544%3C/li%3E%3Cli%3EDeaths%3A%20%20%2035%3C/li%3E%3Cli%3EDeath%20Rate%3A%200.09%3C/li%3E%3C/ul%3E%3C/div%3E%0A%20%20%20%20%20%20%20%20%20%20%20%20%20%20%20%20%20%3C/div%3E%60%2C%0A%20%20%20%20%20%20%20%20%20%20%20%20%20%20%20%20%7B%22sticky%22%3A%20true%7D%0A%20%20%20%20%20%20%20%20%20%20%20%20%29%3B%0A%20%20%20%20%20%20%20%20%0A%20%20%20%20%0A%20%20%20%20%20%20%20%20%20%20%20%20var%20circle_d58c76ea4fca47ab868bea1d980bbf28%20%3D%20L.circle%28%0A%20%20%20%20%20%20%20%20%20%20%20%20%20%20%20%20%5B44.0165%2C%2021.0059%5D%2C%0A%20%20%20%20%20%20%20%20%20%20%20%20%20%20%20%20%7B%22bubblingMouseEvents%22%3A%20true%2C%20%22color%22%3A%20%22red%22%2C%20%22dashArray%22%3A%20null%2C%20%22dashOffset%22%3A%20null%2C%20%22fill%22%3A%20true%2C%20%22fillColor%22%3A%20%22indigo%22%2C%20%22fillOpacity%22%3A%200.2%2C%20%22fillRule%22%3A%20%22evenodd%22%2C%20%22lineCap%22%3A%20%22round%22%2C%20%22lineJoin%22%3A%20%22round%22%2C%20%22opacity%22%3A%201.0%2C%20%22radius%22%3A%2066000.0%2C%20%22stroke%22%3A%20true%2C%20%22weight%22%3A%203%7D%0A%20%20%20%20%20%20%20%20%20%20%20%20%29.addTo%28map_a1d00f7722f64a9393b48021895cff65%29%3B%0A%20%20%20%20%20%20%20%20%0A%20%20%20%20%0A%20%20%20%20%20%20%20%20%20%20%20%20circle_d58c76ea4fca47ab868bea1d980bbf28.bindTooltip%28%0A%20%20%20%20%20%20%20%20%20%20%20%20%20%20%20%20%60%3Cdiv%3E%0A%20%20%20%20%20%20%20%20%20%20%20%20%20%20%20%20%20%20%20%20%20%3Cdiv%20style%3D%27margin%3A%200%3B%20background-color%3A%20black%3B%20color%3A%20white%3B%27%3E%3Ch4%20style%3D%27text-align%3Acenter%3Bfont-weight%3A%20bold%27%3ESerbia%3C/h4%3E%3Chr%20style%3D%27margin%3A10px%3Bcolor%3A%20white%3B%27%3E%3Cul%20style%3D%27color%3A%20white%3B%3Blist-style-type%3Acircle%3Balign-item%3Aleft%3Bpadding-left%3A20px%3Bpadding-right%3A20px%27%3E%3Cli%3EConfirmed%3A%20695875%3C/li%3E%3Cli%3EDeaths%3A%20%20%207018%3C/li%3E%3Cli%3EDeath%20Rate%3A%201.01%3C/li%3E%3C/ul%3E%3C/div%3E%0A%20%20%20%20%20%20%20%20%20%20%20%20%20%20%20%20%20%3C/div%3E%60%2C%0A%20%20%20%20%20%20%20%20%20%20%20%20%20%20%20%20%7B%22sticky%22%3A%20true%7D%0A%20%20%20%20%20%20%20%20%20%20%20%20%29%3B%0A%20%20%20%20%20%20%20%20%0A%20%20%20%20%0A%20%20%20%20%20%20%20%20%20%20%20%20var%20circle_cd27027357f24199a879d4018797399e%20%3D%20L.circle%28%0A%20%20%20%20%20%20%20%20%20%20%20%20%20%20%20%20%5B-4.6796%2C%2055.492%5D%2C%0A%20%20%20%20%20%20%20%20%20%20%20%20%20%20%20%20%7B%22bubblingMouseEvents%22%3A%20true%2C%20%22color%22%3A%20%22red%22%2C%20%22dashArray%22%3A%20null%2C%20%22dashOffset%22%3A%20null%2C%20%22fill%22%3A%20true%2C%20%22fillColor%22%3A%20%22indigo%22%2C%20%22fillOpacity%22%3A%200.2%2C%20%22fillRule%22%3A%20%22evenodd%22%2C%20%22lineCap%22%3A%20%22round%22%2C%20%22lineJoin%22%3A%20%22round%22%2C%20%22opacity%22%3A%201.0%2C%20%22radius%22%3A%2041000.0%2C%20%22stroke%22%3A%20true%2C%20%22weight%22%3A%203%7D%0A%20%20%20%20%20%20%20%20%20%20%20%20%29.addTo%28map_a1d00f7722f64a9393b48021895cff65%29%3B%0A%20%20%20%20%20%20%20%20%0A%20%20%20%20%0A%20%20%20%20%20%20%20%20%20%20%20%20circle_cd27027357f24199a879d4018797399e.bindTooltip%28%0A%20%20%20%20%20%20%20%20%20%20%20%20%20%20%20%20%60%3Cdiv%3E%0A%20%20%20%20%20%20%20%20%20%20%20%20%20%20%20%20%20%20%20%20%20%3Cdiv%20style%3D%27margin%3A%200%3B%20background-color%3A%20black%3B%20color%3A%20white%3B%27%3E%3Ch4%20style%3D%27text-align%3Acenter%3Bfont-weight%3A%20bold%27%3ESeychelles%3C/h4%3E%3Chr%20style%3D%27margin%3A10px%3Bcolor%3A%20white%3B%27%3E%3Cul%20style%3D%27color%3A%20white%3B%3Blist-style-type%3Acircle%3Balign-item%3Aleft%3Bpadding-left%3A20px%3Bpadding-right%3A20px%27%3E%3Cli%3EConfirmed%3A%206373%3C/li%3E%3Cli%3EDeaths%3A%20%20%201114%3C/li%3E%3Cli%3EDeath%20Rate%3A%2017.48%3C/li%3E%3C/ul%3E%3C/div%3E%0A%20%20%20%20%20%20%20%20%20%20%20%20%20%20%20%20%20%3C/div%3E%60%2C%0A%20%20%20%20%20%20%20%20%20%20%20%20%20%20%20%20%7B%22sticky%22%3A%20true%7D%0A%20%20%20%20%20%20%20%20%20%20%20%20%29%3B%0A%20%20%20%20%20%20%20%20%0A%20%20%20%20%0A%20%20%20%20%20%20%20%20%20%20%20%20var%20circle_f64c67d43fae4fd48a21f1d03b8cb18b%20%3D%20L.circle%28%0A%20%20%20%20%20%20%20%20%20%20%20%20%20%20%20%20%5B8.460555000000001%2C%20-11.779889%5D%2C%0A%20%20%20%20%20%20%20%20%20%20%20%20%20%20%20%20%7B%22bubblingMouseEvents%22%3A%20true%2C%20%22color%22%3A%20%22red%22%2C%20%22dashArray%22%3A%20null%2C%20%22dashOffset%22%3A%20null%2C%20%22fill%22%3A%20true%2C%20%22fillColor%22%3A%20%22indigo%22%2C%20%22fillOpacity%22%3A%200.2%2C%20%22fillRule%22%3A%20%22evenodd%22%2C%20%22lineCap%22%3A%20%22round%22%2C%20%22lineJoin%22%3A%20%22round%22%2C%20%22opacity%22%3A%201.0%2C%20%22radius%22%3A%2041000.0%2C%20%22stroke%22%3A%20true%2C%20%22weight%22%3A%203%7D%0A%20%20%20%20%20%20%20%20%20%20%20%20%29.addTo%28map_a1d00f7722f64a9393b48021895cff65%29%3B%0A%20%20%20%20%20%20%20%20%0A%20%20%20%20%0A%20%20%20%20%20%20%20%20%20%20%20%20circle_f64c67d43fae4fd48a21f1d03b8cb18b.bindTooltip%28%0A%20%20%20%20%20%20%20%20%20%20%20%20%20%20%20%20%60%3Cdiv%3E%0A%20%20%20%20%20%20%20%20%20%20%20%20%20%20%20%20%20%20%20%20%20%3Cdiv%20style%3D%27margin%3A%200%3B%20background-color%3A%20black%3B%20color%3A%20white%3B%27%3E%3Ch4%20style%3D%27text-align%3Acenter%3Bfont-weight%3A%20bold%27%3ESierra%20Leone%3C/h4%3E%3Chr%20style%3D%27margin%3A10px%3Bcolor%3A%20white%3B%27%3E%3Cul%20style%3D%27color%3A%20white%3B%3Blist-style-type%3Acircle%3Balign-item%3Aleft%3Bpadding-left%3A20px%3Bpadding-right%3A20px%27%3E%3Cli%3EConfirmed%3A%204068%3C/li%3E%3Cli%3EDeaths%3A%20%20%206478%3C/li%3E%3Cli%3EDeath%20Rate%3A%20159.2%3C/li%3E%3C/ul%3E%3C/div%3E%0A%20%20%20%20%20%20%20%20%20%20%20%20%20%20%20%20%20%3C/div%3E%60%2C%0A%20%20%20%20%20%20%20%20%20%20%20%20%20%20%20%20%7B%22sticky%22%3A%20true%7D%0A%20%20%20%20%20%20%20%20%20%20%20%20%29%3B%0A%20%20%20%20%20%20%20%20%0A%20%20%20%20%0A%20%20%20%20%20%20%20%20%20%20%20%20var%20circle_8e81f1ac843e490b90c9a83a7edc66e4%20%3D%20L.circle%28%0A%20%20%20%20%20%20%20%20%20%20%20%20%20%20%20%20%5B1.2833%2C%20103.8333%5D%2C%0A%20%20%20%20%20%20%20%20%20%20%20%20%20%20%20%20%7B%22bubblingMouseEvents%22%3A%20true%2C%20%22color%22%3A%20%22red%22%2C%20%22dashArray%22%3A%20null%2C%20%22dashOffset%22%3A%20null%2C%20%22fill%22%3A%20true%2C%20%22fillColor%22%3A%20%22indigo%22%2C%20%22fillOpacity%22%3A%200.2%2C%20%22fillRule%22%3A%20%22evenodd%22%2C%20%22lineCap%22%3A%20%22round%22%2C%20%22lineJoin%22%3A%20%22round%22%2C%20%22opacity%22%3A%201.0%2C%20%22radius%22%3A%2056000.0%2C%20%22stroke%22%3A%20true%2C%20%22weight%22%3A%203%7D%0A%20%20%20%20%20%20%20%20%20%20%20%20%29.addTo%28map_a1d00f7722f64a9393b48021895cff65%29%3B%0A%20%20%20%20%20%20%20%20%0A%20%20%20%20%0A%20%20%20%20%20%20%20%20%20%20%20%20circle_8e81f1ac843e490b90c9a83a7edc66e4.bindTooltip%28%0A%20%20%20%20%20%20%20%20%20%20%20%20%20%20%20%20%60%3Cdiv%3E%0A%20%20%20%20%20%20%20%20%20%20%20%20%20%20%20%20%20%20%20%20%20%3Cdiv%20style%3D%27margin%3A%200%3B%20background-color%3A%20black%3B%20color%3A%20white%3B%27%3E%3Ch4%20style%3D%27text-align%3Acenter%3Bfont-weight%3A%20bold%27%3ESingapore%3C/h4%3E%3Chr%20style%3D%27margin%3A10px%3Bcolor%3A%20white%3B%27%3E%3Cul%20style%3D%27color%3A%20white%3B%3Blist-style-type%3Acircle%3Balign-item%3Aleft%3Bpadding-left%3A20px%3Bpadding-right%3A20px%27%3E%3Cli%3EConfirmed%3A%2061268%3C/li%3E%3Cli%3EDeaths%3A%20%20%2028%3C/li%3E%3Cli%3EDeath%20Rate%3A%200.05%3C/li%3E%3C/ul%3E%3C/div%3E%0A%20%20%20%20%20%20%20%20%20%20%20%20%20%20%20%20%20%3C/div%3E%60%2C%0A%20%20%20%20%20%20%20%20%20%20%20%20%20%20%20%20%7B%22sticky%22%3A%20true%7D%0A%20%20%20%20%20%20%20%20%20%20%20%20%29%3B%0A%20%20%20%20%20%20%20%20%0A%20%20%20%20%0A%20%20%20%20%20%20%20%20%20%20%20%20var%20circle_5303ea30c2d446dcbba909181c8feab2%20%3D%20L.circle%28%0A%20%20%20%20%20%20%20%20%20%20%20%20%20%20%20%20%5B48.669%2C%2019.699%5D%2C%0A%20%20%20%20%20%20%20%20%20%20%20%20%20%20%20%20%7B%22bubblingMouseEvents%22%3A%20true%2C%20%22color%22%3A%20%22red%22%2C%20%22dashArray%22%3A%20null%2C%20%22dashOffset%22%3A%20null%2C%20%22fill%22%3A%20true%2C%20%22fillColor%22%3A%20%22indigo%22%2C%20%22fillOpacity%22%3A%200.2%2C%20%22fillRule%22%3A%20%22evenodd%22%2C%20%22lineCap%22%3A%20%22round%22%2C%20%22lineJoin%22%3A%20%22round%22%2C%20%22opacity%22%3A%201.0%2C%20%22radius%22%3A%2061000.0%2C%20%22stroke%22%3A%20true%2C%20%22weight%22%3A%203%7D%0A%20%20%20%20%20%20%20%20%20%20%20%20%29.addTo%28map_a1d00f7722f64a9393b48021895cff65%29%3B%0A%20%20%20%20%20%20%20%20%0A%20%20%20%20%0A%20%20%20%20%20%20%20%20%20%20%20%20circle_5303ea30c2d446dcbba909181c8feab2.bindTooltip%28%0A%20%20%20%20%20%20%20%20%20%20%20%20%20%20%20%20%60%3Cdiv%3E%0A%20%20%20%20%20%20%20%20%20%20%20%20%20%20%20%20%20%20%20%20%20%3Cdiv%20style%3D%27margin%3A%200%3B%20background-color%3A%20black%3B%20color%3A%20white%3B%27%3E%3Ch4%20style%3D%27text-align%3Acenter%3Bfont-weight%3A%20bold%27%3ESlovakia%3C/h4%3E%3Chr%20style%3D%27margin%3A10px%3Bcolor%3A%20white%3B%27%3E%3Cul%20style%3D%27color%3A%20white%3B%3Blist-style-type%3Acircle%3Balign-item%3Aleft%3Bpadding-left%3A20px%3Bpadding-right%3A20px%27%3E%3Cli%3EConfirmed%3A%20384317%3C/li%3E%3Cli%3EDeaths%3A%20%20%2079%3C/li%3E%3Cli%3EDeath%20Rate%3A%200.02%3C/li%3E%3C/ul%3E%3C/div%3E%0A%20%20%20%20%20%20%20%20%20%20%20%20%20%20%20%20%20%3C/div%3E%60%2C%0A%20%20%20%20%20%20%20%20%20%20%20%20%20%20%20%20%7B%22sticky%22%3A%20true%7D%0A%20%20%20%20%20%20%20%20%20%20%20%20%29%3B%0A%20%20%20%20%20%20%20%20%0A%20%20%20%20%0A%20%20%20%20%20%20%20%20%20%20%20%20var%20circle_d73f1f57bfac4acbbddab937ad7cb4ab%20%3D%20L.circle%28%0A%20%20%20%20%20%20%20%20%20%20%20%20%20%20%20%20%5B46.1512%2C%2014.9955%5D%2C%0A%20%20%20%20%20%20%20%20%20%20%20%20%20%20%20%20%7B%22bubblingMouseEvents%22%3A%20true%2C%20%22color%22%3A%20%22red%22%2C%20%22dashArray%22%3A%20null%2C%20%22dashOffset%22%3A%20null%2C%20%22fill%22%3A%20true%2C%20%22fillColor%22%3A%20%22indigo%22%2C%20%22fillOpacity%22%3A%200.2%2C%20%22fillRule%22%3A%20%22evenodd%22%2C%20%22lineCap%22%3A%20%22round%22%2C%20%22lineJoin%22%3A%20%22round%22%2C%20%22opacity%22%3A%201.0%2C%20%22radius%22%3A%2061000.0%2C%20%22stroke%22%3A%20true%2C%20%22weight%22%3A%203%7D%0A%20%20%20%20%20%20%20%20%20%20%20%20%29.addTo%28map_a1d00f7722f64a9393b48021895cff65%29%3B%0A%20%20%20%20%20%20%20%20%0A%20%20%20%20%0A%20%20%20%20%20%20%20%20%20%20%20%20circle_d73f1f57bfac4acbbddab937ad7cb4ab.bindTooltip%28%0A%20%20%20%20%20%20%20%20%20%20%20%20%20%20%20%20%60%3Cdiv%3E%0A%20%20%20%20%20%20%20%20%20%20%20%20%20%20%20%20%20%20%20%20%20%3Cdiv%20style%3D%27margin%3A%200%3B%20background-color%3A%20black%3B%20color%3A%20white%3B%27%3E%3Ch4%20style%3D%27text-align%3Acenter%3Bfont-weight%3A%20bold%27%3ESlovenia%3C/h4%3E%3Chr%20style%3D%27margin%3A10px%3Bcolor%3A%20white%3B%27%3E%3Cul%20style%3D%27color%3A%20white%3B%3Blist-style-type%3Acircle%3Balign-item%3Aleft%3Bpadding-left%3A20px%3Bpadding-right%3A20px%27%3E%3Cli%3EConfirmed%3A%20243719%3C/li%3E%3Cli%3EDeaths%3A%20%20%2031%3C/li%3E%3Cli%3EDeath%20Rate%3A%200.01%3C/li%3E%3C/ul%3E%3C/div%3E%0A%20%20%20%20%20%20%20%20%20%20%20%20%20%20%20%20%20%3C/div%3E%60%2C%0A%20%20%20%20%20%20%20%20%20%20%20%20%20%20%20%20%7B%22sticky%22%3A%20true%7D%0A%20%20%20%20%20%20%20%20%20%20%20%20%29%3B%0A%20%20%20%20%20%20%20%20%0A%20%20%20%20%0A%20%20%20%20%20%20%20%20%20%20%20%20var%20circle_99b994cac6164d80a604b7973a41d469%20%3D%20L.circle%28%0A%20%20%20%20%20%20%20%20%20%20%20%20%20%20%20%20%5B-9.6457%2C%20160.1562%5D%2C%0A%20%20%20%20%20%20%20%20%20%20%20%20%20%20%20%20%7B%22bubblingMouseEvents%22%3A%20true%2C%20%22color%22%3A%20%22red%22%2C%20%22dashArray%22%3A%20null%2C%20%22dashOffset%22%3A%20null%2C%20%22fill%22%3A%20true%2C%20%22fillColor%22%3A%20%22indigo%22%2C%20%22fillOpacity%22%3A%200.2%2C%20%22fillRule%22%3A%20%22evenodd%22%2C%20%22lineCap%22%3A%20%22round%22%2C%20%22lineJoin%22%3A%20%22round%22%2C%20%22opacity%22%3A%201.0%2C%20%22radius%22%3A%2016000.0%2C%20%22stroke%22%3A%20true%2C%20%22weight%22%3A%203%7D%0A%20%20%20%20%20%20%20%20%20%20%20%20%29.addTo%28map_a1d00f7722f64a9393b48021895cff65%29%3B%0A%20%20%20%20%20%20%20%20%0A%20%20%20%20%0A%20%20%20%20%20%20%20%20%20%20%20%20circle_99b994cac6164d80a604b7973a41d469.bindTooltip%28%0A%20%20%20%20%20%20%20%20%20%20%20%20%20%20%20%20%60%3Cdiv%3E%0A%20%20%20%20%20%20%20%20%20%20%20%20%20%20%20%20%20%20%20%20%20%3Cdiv%20style%3D%27margin%3A%200%3B%20background-color%3A%20black%3B%20color%3A%20white%3B%27%3E%3Ch4%20style%3D%27text-align%3Acenter%3Bfont-weight%3A%20bold%27%3ESolomon%20Islands%3C/h4%3E%3Chr%20style%3D%27margin%3A10px%3Bcolor%3A%20white%3B%27%3E%3Cul%20style%3D%27color%3A%20white%3B%3Blist-style-type%3Acircle%3Balign-item%3Aleft%3Bpadding-left%3A20px%3Bpadding-right%3A20px%27%3E%3Cli%3EConfirmed%3A%2020%3C/li%3E%3Cli%3EDeaths%3A%20%20%2011886%3C/li%3E%3Cli%3EDeath%20Rate%3A%2056599.97%3C/li%3E%3C/ul%3E%3C/div%3E%0A%20%20%20%20%20%20%20%20%20%20%20%20%20%20%20%20%20%3C/div%3E%60%2C%0A%20%20%20%20%20%20%20%20%20%20%20%20%20%20%20%20%7B%22sticky%22%3A%20true%7D%0A%20%20%20%20%20%20%20%20%20%20%20%20%29%3B%0A%20%20%20%20%20%20%20%20%0A%20%20%20%20%0A%20%20%20%20%20%20%20%20%20%20%20%20var%20circle_34ee377a3aed468cb1b2b85263255156%20%3D%20L.circle%28%0A%20%20%20%20%20%20%20%20%20%20%20%20%20%20%20%20%5B5.152149%2C%2046.199616%5D%2C%0A%20%20%20%20%20%20%20%20%20%20%20%20%20%20%20%20%7B%22bubblingMouseEvents%22%3A%20true%2C%20%22color%22%3A%20%22red%22%2C%20%22dashArray%22%3A%20null%2C%20%22dashOffset%22%3A%20null%2C%20%22fill%22%3A%20true%2C%20%22fillColor%22%3A%20%22indigo%22%2C%20%22fillOpacity%22%3A%200.2%2C%20%22fillRule%22%3A%20%22evenodd%22%2C%20%22lineCap%22%3A%20%22round%22%2C%20%22lineJoin%22%3A%20%22round%22%2C%20%22opacity%22%3A%201.0%2C%20%22radius%22%3A%2046000.0%2C%20%22stroke%22%3A%20true%2C%20%22weight%22%3A%203%7D%0A%20%20%20%20%20%20%20%20%20%20%20%20%29.addTo%28map_a1d00f7722f64a9393b48021895cff65%29%3B%0A%20%20%20%20%20%20%20%20%0A%20%20%20%20%0A%20%20%20%20%20%20%20%20%20%20%20%20circle_34ee377a3aed468cb1b2b85263255156.bindTooltip%28%0A%20%20%20%20%20%20%20%20%20%20%20%20%20%20%20%20%60%3Cdiv%3E%0A%20%20%20%20%20%20%20%20%20%20%20%20%20%20%20%20%20%20%20%20%20%3Cdiv%20style%3D%27margin%3A%200%3B%20background-color%3A%20black%3B%20color%3A%20white%3B%27%3E%3Ch4%20style%3D%27text-align%3Acenter%3Bfont-weight%3A%20bold%27%3ESomalia%3C/h4%3E%3Chr%20style%3D%27margin%3A10px%3Bcolor%3A%20white%3B%27%3E%3Cul%20style%3D%27color%3A%20white%3B%3Blist-style-type%3Acircle%3Balign-item%3Aleft%3Bpadding-left%3A20px%3Bpadding-right%3A20px%27%3E%3Cli%3EConfirmed%3A%2014121%3C/li%3E%3Cli%3EDeaths%3A%20%20%204279%3C/li%3E%3Cli%3EDeath%20Rate%3A%2030.3%3C/li%3E%3C/ul%3E%3C/div%3E%0A%20%20%20%20%20%20%20%20%20%20%20%20%20%20%20%20%20%3C/div%3E%60%2C%0A%20%20%20%20%20%20%20%20%20%20%20%20%20%20%20%20%7B%22sticky%22%3A%20true%7D%0A%20%20%20%20%20%20%20%20%20%20%20%20%29%3B%0A%20%20%20%20%20%20%20%20%0A%20%20%20%20%0A%20%20%20%20%20%20%20%20%20%20%20%20var%20circle_d9d3d4b151de4725a4bb7694da19b349%20%3D%20L.circle%28%0A%20%20%20%20%20%20%20%20%20%20%20%20%20%20%20%20%5B-30.5595%2C%2022.9375%5D%2C%0A%20%20%20%20%20%20%20%20%20%20%20%20%20%20%20%20%7B%22bubblingMouseEvents%22%3A%20true%2C%20%22color%22%3A%20%22red%22%2C%20%22dashArray%22%3A%20null%2C%20%22dashOffset%22%3A%20null%2C%20%22fill%22%3A%20true%2C%20%22fillColor%22%3A%20%22indigo%22%2C%20%22fillOpacity%22%3A%200.2%2C%20%22fillRule%22%3A%20%22evenodd%22%2C%20%22lineCap%22%3A%20%22round%22%2C%20%22lineJoin%22%3A%20%22round%22%2C%20%22opacity%22%3A%201.0%2C%20%22radius%22%3A%2071000.0%2C%20%22stroke%22%3A%20true%2C%20%22weight%22%3A%203%7D%0A%20%20%20%20%20%20%20%20%20%20%20%20%29.addTo%28map_a1d00f7722f64a9393b48021895cff65%29%3B%0A%20%20%20%20%20%20%20%20%0A%20%20%20%20%0A%20%20%20%20%20%20%20%20%20%20%20%20circle_d9d3d4b151de4725a4bb7694da19b349.bindTooltip%28%0A%20%20%20%20%20%20%20%20%20%20%20%20%20%20%20%20%60%3Cdiv%3E%0A%20%20%20%20%20%20%20%20%20%20%20%20%20%20%20%20%20%20%20%20%20%3Cdiv%20style%3D%27margin%3A%200%3B%20background-color%3A%20black%3B%20color%3A%20white%3B%27%3E%3Ch4%20style%3D%27text-align%3Acenter%3Bfont-weight%3A%20bold%27%3ESouth%20Africa%3C/h4%3E%3Chr%20style%3D%27margin%3A10px%3Bcolor%3A%20white%3B%27%3E%3Cul%20style%3D%27color%3A%20white%3B%3Blist-style-type%3Acircle%3Balign-item%3Aleft%3Bpadding-left%3A20px%3Bpadding-right%3A20px%27%3E%3Cli%3EConfirmed%3A%201588221%3C/li%3E%3Cli%3EDeaths%3A%20%20%200%3C/li%3E%3Cli%3EDeath%20Rate%3A%200.0%3C/li%3E%3C/ul%3E%3C/div%3E%0A%20%20%20%20%20%20%20%20%20%20%20%20%20%20%20%20%20%3C/div%3E%60%2C%0A%20%20%20%20%20%20%20%20%20%20%20%20%20%20%20%20%7B%22sticky%22%3A%20true%7D%0A%20%20%20%20%20%20%20%20%20%20%20%20%29%3B%0A%20%20%20%20%20%20%20%20%0A%20%20%20%20%0A%20%20%20%20%20%20%20%20%20%20%20%20var%20circle_52a63921b896436e8630a2a3582c6867%20%3D%20L.circle%28%0A%20%20%20%20%20%20%20%20%20%20%20%20%20%20%20%20%5B6.877000000000001%2C%2031.307%5D%2C%0A%20%20%20%20%20%20%20%20%20%20%20%20%20%20%20%20%7B%22bubblingMouseEvents%22%3A%20true%2C%20%22color%22%3A%20%22red%22%2C%20%22dashArray%22%3A%20null%2C%20%22dashOffset%22%3A%20null%2C%20%22fill%22%3A%20true%2C%20%22fillColor%22%3A%20%22indigo%22%2C%20%22fillOpacity%22%3A%200.2%2C%20%22fillRule%22%3A%20%22evenodd%22%2C%20%22lineCap%22%3A%20%22round%22%2C%20%22lineJoin%22%3A%20%22round%22%2C%20%22opacity%22%3A%201.0%2C%20%22radius%22%3A%2046000.0%2C%20%22stroke%22%3A%20true%2C%20%22weight%22%3A%203%7D%0A%20%20%20%20%20%20%20%20%20%20%20%20%29.addTo%28map_a1d00f7722f64a9393b48021895cff65%29%3B%0A%20%20%20%20%20%20%20%20%0A%20%20%20%20%0A%20%20%20%20%20%20%20%20%20%20%20%20circle_52a63921b896436e8630a2a3582c6867.bindTooltip%28%0A%20%20%20%20%20%20%20%20%20%20%20%20%20%20%20%20%60%3Cdiv%3E%0A%20%20%20%20%20%20%20%20%20%20%20%20%20%20%20%20%20%20%20%20%20%3Cdiv%20style%3D%27margin%3A%200%3B%20background-color%3A%20black%3B%20color%3A%20white%3B%27%3E%3Ch4%20style%3D%27text-align%3Acenter%3Bfont-weight%3A%20bold%27%3ESouth%20Sudan%3C/h4%3E%3Chr%20style%3D%27margin%3A10px%3Bcolor%3A%20white%3B%27%3E%3Cul%20style%3D%27color%3A%20white%3B%3Blist-style-type%3Acircle%3Balign-item%3Aleft%3Bpadding-left%3A20px%3Bpadding-right%3A20px%27%3E%3Cli%3EConfirmed%3A%2010613%3C/li%3E%3Cli%3EDeaths%3A%20%20%20721%3C/li%3E%3Cli%3EDeath%20Rate%3A%206.79%3C/li%3E%3C/ul%3E%3C/div%3E%0A%20%20%20%20%20%20%20%20%20%20%20%20%20%20%20%20%20%3C/div%3E%60%2C%0A%20%20%20%20%20%20%20%20%20%20%20%20%20%20%20%20%7B%22sticky%22%3A%20true%7D%0A%20%20%20%20%20%20%20%20%20%20%20%20%29%3B%0A%20%20%20%20%20%20%20%20%0A%20%20%20%20%0A%20%20%20%20%20%20%20%20%20%20%20%20var%20circle_93d5a71f47e640ea83139bc227ade238%20%3D%20L.circle%28%0A%20%20%20%20%20%20%20%20%20%20%20%20%20%20%20%20%5B40.463667%2C%20-3.7492199999999998%5D%2C%0A%20%20%20%20%20%20%20%20%20%20%20%20%20%20%20%20%7B%22bubblingMouseEvents%22%3A%20true%2C%20%22color%22%3A%20%22red%22%2C%20%22dashArray%22%3A%20null%2C%20%22dashOffset%22%3A%20null%2C%20%22fill%22%3A%20true%2C%20%22fillColor%22%3A%20%22indigo%22%2C%20%22fillOpacity%22%3A%200.2%2C%20%22fillRule%22%3A%20%22evenodd%22%2C%20%22lineCap%22%3A%20%22round%22%2C%20%22lineJoin%22%3A%20%22round%22%2C%20%22opacity%22%3A%201.0%2C%20%22radius%22%3A%2076000.0%2C%20%22stroke%22%3A%20true%2C%20%22weight%22%3A%203%7D%0A%20%20%20%20%20%20%20%20%20%20%20%20%29.addTo%28map_a1d00f7722f64a9393b48021895cff65%29%3B%0A%20%20%20%20%20%20%20%20%0A%20%20%20%20%0A%20%20%20%20%20%20%20%20%20%20%20%20circle_93d5a71f47e640ea83139bc227ade238.bindTooltip%28%0A%20%20%20%20%20%20%20%20%20%20%20%20%20%20%20%20%60%3Cdiv%3E%0A%20%20%20%20%20%20%20%20%20%20%20%20%20%20%20%20%20%20%20%20%20%3Cdiv%20style%3D%27margin%3A%200%3B%20background-color%3A%20black%3B%20color%3A%20white%3B%27%3E%3Ch4%20style%3D%27text-align%3Acenter%3Bfont-weight%3A%20bold%27%3ESpain%3C/h4%3E%3Chr%20style%3D%27margin%3A10px%3Bcolor%3A%20white%3B%27%3E%3Cul%20style%3D%27color%3A%20white%3B%3Blist-style-type%3Acircle%3Balign-item%3Aleft%3Bpadding-left%3A20px%3Bpadding-right%3A20px%27%3E%3Cli%3EConfirmed%3A%203551262%3C/li%3E%3Cli%3EDeaths%3A%20%20%2054557%3C/li%3E%3Cli%3EDeath%20Rate%3A%201.54%3C/li%3E%3C/ul%3E%3C/div%3E%0A%20%20%20%20%20%20%20%20%20%20%20%20%20%20%20%20%20%3C/div%3E%60%2C%0A%20%20%20%20%20%20%20%20%20%20%20%20%20%20%20%20%7B%22sticky%22%3A%20true%7D%0A%20%20%20%20%20%20%20%20%20%20%20%20%29%3B%0A%20%20%20%20%20%20%20%20%0A%20%20%20%20%0A%20%20%20%20%20%20%20%20%20%20%20%20var%20circle_e2ec1e8f74c6443e92ee5eadcb10ec7c%20%3D%20L.circle%28%0A%20%20%20%20%20%20%20%20%20%20%20%20%20%20%20%20%5B7.873054%2C%2080.77179699999999%5D%2C%0A%20%20%20%20%20%20%20%20%20%20%20%20%20%20%20%20%7B%22bubblingMouseEvents%22%3A%20true%2C%20%22color%22%3A%20%22red%22%2C%20%22dashArray%22%3A%20null%2C%20%22dashOffset%22%3A%20null%2C%20%22fill%22%3A%20true%2C%20%22fillColor%22%3A%20%22indigo%22%2C%20%22fillOpacity%22%3A%200.2%2C%20%22fillRule%22%3A%20%22evenodd%22%2C%20%22lineCap%22%3A%20%22round%22%2C%20%22lineJoin%22%3A%20%22round%22%2C%20%22opacity%22%3A%201.0%2C%20%22radius%22%3A%2056000.0%2C%20%22stroke%22%3A%20true%2C%20%22weight%22%3A%203%7D%0A%20%20%20%20%20%20%20%20%20%20%20%20%29.addTo%28map_a1d00f7722f64a9393b48021895cff65%29%3B%0A%20%20%20%20%20%20%20%20%0A%20%20%20%20%0A%20%20%20%20%20%20%20%20%20%20%20%20circle_e2ec1e8f74c6443e92ee5eadcb10ec7c.bindTooltip%28%0A%20%20%20%20%20%20%20%20%20%20%20%20%20%20%20%20%60%3Cdiv%3E%0A%20%20%20%20%20%20%20%20%20%20%20%20%20%20%20%20%20%20%20%20%20%3Cdiv%20style%3D%27margin%3A%200%3B%20background-color%3A%20black%3B%20color%3A%20white%3B%27%3E%3Ch4%20style%3D%27text-align%3Acenter%3Bfont-weight%3A%20bold%27%3ESri%20Lanka%3C/h4%3E%3Chr%20style%3D%27margin%3A10px%3Bcolor%3A%20white%3B%27%3E%3Cul%20style%3D%27color%3A%20white%3B%3Blist-style-type%3Acircle%3Balign-item%3Aleft%3Bpadding-left%3A20px%3Bpadding-right%3A20px%27%3E%3Cli%3EConfirmed%3A%20117529%3C/li%3E%3Cli%3EDeaths%3A%20%20%20115%3C/li%3E%3Cli%3EDeath%20Rate%3A%200.1%3C/li%3E%3C/ul%3E%3C/div%3E%0A%20%20%20%20%20%20%20%20%20%20%20%20%20%20%20%20%20%3C/div%3E%60%2C%0A%20%20%20%20%20%20%20%20%20%20%20%20%20%20%20%20%7B%22sticky%22%3A%20true%7D%0A%20%20%20%20%20%20%20%20%20%20%20%20%29%3B%0A%20%20%20%20%20%20%20%20%0A%20%20%20%20%0A%20%20%20%20%20%20%20%20%20%20%20%20var%20circle_3871d92a1e8646abaf53d8762b2d7bf4%20%3D%20L.circle%28%0A%20%20%20%20%20%20%20%20%20%20%20%20%20%20%20%20%5B12.8628%2C%2030.2176%5D%2C%0A%20%20%20%20%20%20%20%20%20%20%20%20%20%20%20%20%7B%22bubblingMouseEvents%22%3A%20true%2C%20%22color%22%3A%20%22red%22%2C%20%22dashArray%22%3A%20null%2C%20%22dashOffset%22%3A%20null%2C%20%22fill%22%3A%20true%2C%20%22fillColor%22%3A%20%22indigo%22%2C%20%22fillOpacity%22%3A%200.2%2C%20%22fillRule%22%3A%20%22evenodd%22%2C%20%22lineCap%22%3A%20%22round%22%2C%20%22lineJoin%22%3A%20%22round%22%2C%20%22opacity%22%3A%201.0%2C%20%22radius%22%3A%2051000.0%2C%20%22stroke%22%3A%20true%2C%20%22weight%22%3A%203%7D%0A%20%20%20%20%20%20%20%20%20%20%20%20%29.addTo%28map_a1d00f7722f64a9393b48021895cff65%29%3B%0A%20%20%20%20%20%20%20%20%0A%20%20%20%20%0A%20%20%20%20%20%20%20%20%20%20%20%20circle_3871d92a1e8646abaf53d8762b2d7bf4.bindTooltip%28%0A%20%20%20%20%20%20%20%20%20%20%20%20%20%20%20%20%60%3Cdiv%3E%0A%20%20%20%20%20%20%20%20%20%20%20%20%20%20%20%20%20%20%20%20%20%3Cdiv%20style%3D%27margin%3A%200%3B%20background-color%3A%20black%3B%20color%3A%20white%3B%27%3E%3Ch4%20style%3D%27text-align%3Acenter%3Bfont-weight%3A%20bold%27%3ESudan%3C/h4%3E%3Chr%20style%3D%27margin%3A10px%3Bcolor%3A%20white%3B%27%3E%3Cul%20style%3D%27color%3A%20white%3B%3Blist-style-type%3Acircle%3Balign-item%3Aleft%3Bpadding-left%3A20px%3Bpadding-right%3A20px%27%3E%3Cli%3EConfirmed%3A%2034082%3C/li%3E%3Cli%3EDeaths%3A%20%20%2078566%3C/li%3E%3Cli%3EDeath%20Rate%3A%20230.51%3C/li%3E%3C/ul%3E%3C/div%3E%0A%20%20%20%20%20%20%20%20%20%20%20%20%20%20%20%20%20%3C/div%3E%60%2C%0A%20%20%20%20%20%20%20%20%20%20%20%20%20%20%20%20%7B%22sticky%22%3A%20true%7D%0A%20%20%20%20%20%20%20%20%20%20%20%20%29%3B%0A%20%20%20%20%20%20%20%20%0A%20%20%20%20%0A%20%20%20%20%20%20%20%20%20%20%20%20var%20circle_65188ed9a4a5404384169451b0ce8dca%20%3D%20L.circle%28%0A%20%20%20%20%20%20%20%20%20%20%20%20%20%20%20%20%5B3.9193%2C%20-56.0278%5D%2C%0A%20%20%20%20%20%20%20%20%20%20%20%20%20%20%20%20%7B%22bubblingMouseEvents%22%3A%20true%2C%20%22color%22%3A%20%22red%22%2C%20%22dashArray%22%3A%20null%2C%20%22dashOffset%22%3A%20null%2C%20%22fill%22%3A%20true%2C%20%22fillColor%22%3A%20%22indigo%22%2C%20%22fillOpacity%22%3A%200.2%2C%20%22fillRule%22%3A%20%22evenodd%22%2C%20%22lineCap%22%3A%20%22round%22%2C%20%22lineJoin%22%3A%20%22round%22%2C%20%22opacity%22%3A%201.0%2C%20%22radius%22%3A%2046000.0%2C%20%22stroke%22%3A%20true%2C%20%22weight%22%3A%203%7D%0A%20%20%20%20%20%20%20%20%20%20%20%20%29.addTo%28map_a1d00f7722f64a9393b48021895cff65%29%3B%0A%20%20%20%20%20%20%20%20%0A%20%20%20%20%0A%20%20%20%20%20%20%20%20%20%20%20%20circle_65188ed9a4a5404384169451b0ce8dca.bindTooltip%28%0A%20%20%20%20%20%20%20%20%20%20%20%20%20%20%20%20%60%3Cdiv%3E%0A%20%20%20%20%20%20%20%20%20%20%20%20%20%20%20%20%20%20%20%20%20%3Cdiv%20style%3D%27margin%3A%200%3B%20background-color%3A%20black%3B%20color%3A%20white%3B%27%3E%3Ch4%20style%3D%27text-align%3Acenter%3Bfont-weight%3A%20bold%27%3ESuriname%3C/h4%3E%3Chr%20style%3D%27margin%3A10px%3Bcolor%3A%20white%3B%27%3E%3Cul%20style%3D%27color%3A%20white%3B%3Blist-style-type%3Acircle%3Balign-item%3Aleft%3Bpadding-left%3A20px%3Bpadding-right%3A20px%27%3E%3Cli%3EConfirmed%3A%2010696%3C/li%3E%3Cli%3EDeaths%3A%20%20%20734%3C/li%3E%3Cli%3EDeath%20Rate%3A%206.86%3C/li%3E%3C/ul%3E%3C/div%3E%0A%20%20%20%20%20%20%20%20%20%20%20%20%20%20%20%20%20%3C/div%3E%60%2C%0A%20%20%20%20%20%20%20%20%20%20%20%20%20%20%20%20%7B%22sticky%22%3A%20true%7D%0A%20%20%20%20%20%20%20%20%20%20%20%20%29%3B%0A%20%20%20%20%20%20%20%20%0A%20%20%20%20%0A%20%20%20%20%20%20%20%20%20%20%20%20var%20circle_5df2019e05af4272a2f0a56b9ef5be3c%20%3D%20L.circle%28%0A%20%20%20%20%20%20%20%20%20%20%20%20%20%20%20%20%5B60.128161%2C%2018.643501%5D%2C%0A%20%20%20%20%20%20%20%20%20%20%20%20%20%20%20%20%7B%22bubblingMouseEvents%22%3A%20true%2C%20%22color%22%3A%20%22red%22%2C%20%22dashArray%22%3A%20null%2C%20%22dashOffset%22%3A%20null%2C%20%22fill%22%3A%20true%2C%20%22fillColor%22%3A%20%22indigo%22%2C%20%22fillOpacity%22%3A%200.2%2C%20%22fillRule%22%3A%20%22evenodd%22%2C%20%22lineCap%22%3A%20%22round%22%2C%20%22lineJoin%22%3A%20%22round%22%2C%20%22opacity%22%3A%201.0%2C%20%22radius%22%3A%2066000.0%2C%20%22stroke%22%3A%20true%2C%20%22weight%22%3A%203%7D%0A%20%20%20%20%20%20%20%20%20%20%20%20%29.addTo%28map_a1d00f7722f64a9393b48021895cff65%29%3B%0A%20%20%20%20%20%20%20%20%0A%20%20%20%20%0A%20%20%20%20%20%20%20%20%20%20%20%20circle_5df2019e05af4272a2f0a56b9ef5be3c.bindTooltip%28%0A%20%20%20%20%20%20%20%20%20%20%20%20%20%20%20%20%60%3Cdiv%3E%0A%20%20%20%20%20%20%20%20%20%20%20%20%20%20%20%20%20%20%20%20%20%3Cdiv%20style%3D%27margin%3A%200%3B%20background-color%3A%20black%3B%20color%3A%20white%3B%27%3E%3Ch4%20style%3D%27text-align%3Acenter%3Bfont-weight%3A%20bold%27%3ESweden%3C/h4%3E%3Chr%20style%3D%27margin%3A10px%3Bcolor%3A%20white%3B%27%3E%3Cul%20style%3D%27color%3A%20white%3B%3Blist-style-type%3Acircle%3Balign-item%3Aleft%3Bpadding-left%3A20px%3Bpadding-right%3A20px%27%3E%3Cli%3EConfirmed%3A%20995595%3C/li%3E%3Cli%3EDeaths%3A%20%20%202365%3C/li%3E%3Cli%3EDeath%20Rate%3A%200.24%3C/li%3E%3C/ul%3E%3C/div%3E%0A%20%20%20%20%20%20%20%20%20%20%20%20%20%20%20%20%20%3C/div%3E%60%2C%0A%20%20%20%20%20%20%20%20%20%20%20%20%20%20%20%20%7B%22sticky%22%3A%20true%7D%0A%20%20%20%20%20%20%20%20%20%20%20%20%29%3B%0A%20%20%20%20%20%20%20%20%0A%20%20%20%20%0A%20%20%20%20%20%20%20%20%20%20%20%20var%20circle_1cc0dc5f065b45b5ad073bac43430c49%20%3D%20L.circle%28%0A%20%20%20%20%20%20%20%20%20%20%20%20%20%20%20%20%5B46.8182%2C%208.2275%5D%2C%0A%20%20%20%20%20%20%20%20%20%20%20%20%20%20%20%20%7B%22bubblingMouseEvents%22%3A%20true%2C%20%22color%22%3A%20%22red%22%2C%20%22dashArray%22%3A%20null%2C%20%22dashOffset%22%3A%20null%2C%20%22fill%22%3A%20true%2C%20%22fillColor%22%3A%20%22indigo%22%2C%20%22fillOpacity%22%3A%200.2%2C%20%22fillRule%22%3A%20%22evenodd%22%2C%20%22lineCap%22%3A%20%22round%22%2C%20%22lineJoin%22%3A%20%22round%22%2C%20%22opacity%22%3A%201.0%2C%20%22radius%22%3A%2066000.0%2C%20%22stroke%22%3A%20true%2C%20%22weight%22%3A%203%7D%0A%20%20%20%20%20%20%20%20%20%20%20%20%29.addTo%28map_a1d00f7722f64a9393b48021895cff65%29%3B%0A%20%20%20%20%20%20%20%20%0A%20%20%20%20%0A%20%20%20%20%20%20%20%20%20%20%20%20circle_1cc0dc5f065b45b5ad073bac43430c49.bindTooltip%28%0A%20%20%20%20%20%20%20%20%20%20%20%20%20%20%20%20%60%3Cdiv%3E%0A%20%20%20%20%20%20%20%20%20%20%20%20%20%20%20%20%20%20%20%20%20%3Cdiv%20style%3D%27margin%3A%200%3B%20background-color%3A%20black%3B%20color%3A%20white%3B%27%3E%3Ch4%20style%3D%27text-align%3Acenter%3Bfont-weight%3A%20bold%27%3ESwitzerland%3C/h4%3E%3Chr%20style%3D%27margin%3A10px%3Bcolor%3A%20white%3B%27%3E%3Cul%20style%3D%27color%3A%20white%3B%3Blist-style-type%3Acircle%3Balign-item%3Aleft%3Bpadding-left%3A20px%3Bpadding-right%3A20px%27%3E%3Cli%3EConfirmed%3A%20667380%3C/li%3E%3Cli%3EDeaths%3A%20%20%20212%3C/li%3E%3Cli%3EDeath%20Rate%3A%200.03%3C/li%3E%3C/ul%3E%3C/div%3E%0A%20%20%20%20%20%20%20%20%20%20%20%20%20%20%20%20%20%3C/div%3E%60%2C%0A%20%20%20%20%20%20%20%20%20%20%20%20%20%20%20%20%7B%22sticky%22%3A%20true%7D%0A%20%20%20%20%20%20%20%20%20%20%20%20%29%3B%0A%20%20%20%20%20%20%20%20%0A%20%20%20%20%0A%20%20%20%20%20%20%20%20%20%20%20%20var%20circle_49478d70881a4cf49910f57cf402643d%20%3D%20L.circle%28%0A%20%20%20%20%20%20%20%20%20%20%20%20%20%20%20%20%5B34.802075%2C%2038.996815000000005%5D%2C%0A%20%20%20%20%20%20%20%20%20%20%20%20%20%20%20%20%7B%22bubblingMouseEvents%22%3A%20true%2C%20%22color%22%3A%20%22red%22%2C%20%22dashArray%22%3A%20null%2C%20%22dashOffset%22%3A%20null%2C%20%22fill%22%3A%20true%2C%20%22fillColor%22%3A%20%22indigo%22%2C%20%22fillOpacity%22%3A%200.2%2C%20%22fillRule%22%3A%20%22evenodd%22%2C%20%22lineCap%22%3A%20%22round%22%2C%20%22lineJoin%22%3A%20%22round%22%2C%20%22opacity%22%3A%201.0%2C%20%22radius%22%3A%2051000.0%2C%20%22stroke%22%3A%20true%2C%20%22weight%22%3A%203%7D%0A%20%20%20%20%20%20%20%20%20%20%20%20%29.addTo%28map_a1d00f7722f64a9393b48021895cff65%29%3B%0A%20%20%20%20%20%20%20%20%0A%20%20%20%20%0A%20%20%20%20%20%20%20%20%20%20%20%20circle_49478d70881a4cf49910f57cf402643d.bindTooltip%28%0A%20%20%20%20%20%20%20%20%20%20%20%20%20%20%20%20%60%3Cdiv%3E%0A%20%20%20%20%20%20%20%20%20%20%20%20%20%20%20%20%20%20%20%20%20%3Cdiv%20style%3D%27margin%3A%200%3B%20background-color%3A%20black%3B%20color%3A%20white%3B%27%3E%3Ch4%20style%3D%27text-align%3Acenter%3Bfont-weight%3A%20bold%27%3ESyria%3C/h4%3E%3Chr%20style%3D%27margin%3A10px%3Bcolor%3A%20white%3B%27%3E%3Cul%20style%3D%27color%3A%20white%3B%3Blist-style-type%3Acircle%3Balign-item%3Aleft%3Bpadding-left%3A20px%3Bpadding-right%3A20px%27%3E%3Cli%3EConfirmed%3A%2023121%3C/li%3E%3Cli%3EDeaths%3A%20%20%2014151%3C/li%3E%3Cli%3EDeath%20Rate%3A%2061.2%3C/li%3E%3C/ul%3E%3C/div%3E%0A%20%20%20%20%20%20%20%20%20%20%20%20%20%20%20%20%20%3C/div%3E%60%2C%0A%20%20%20%20%20%20%20%20%20%20%20%20%20%20%20%20%7B%22sticky%22%3A%20true%7D%0A%20%20%20%20%20%20%20%20%20%20%20%20%29%3B%0A%20%20%20%20%20%20%20%20%0A%20%20%20%20%0A%20%20%20%20%20%20%20%20%20%20%20%20var%20circle_0cbfcb520eec43b6833e1efc5ad029f1%20%3D%20L.circle%28%0A%20%20%20%20%20%20%20%20%20%20%20%20%20%20%20%20%5B23.7%2C%20121.0%5D%2C%0A%20%20%20%20%20%20%20%20%20%20%20%20%20%20%20%20%7B%22bubblingMouseEvents%22%3A%20true%2C%20%22color%22%3A%20%22red%22%2C%20%22dashArray%22%3A%20null%2C%20%22dashOffset%22%3A%20null%2C%20%22fill%22%3A%20true%2C%20%22fillColor%22%3A%20%22indigo%22%2C%20%22fillOpacity%22%3A%200.2%2C%20%22fillRule%22%3A%20%22evenodd%22%2C%20%22lineCap%22%3A%20%22round%22%2C%20%22lineJoin%22%3A%20%22round%22%2C%20%22opacity%22%3A%201.0%2C%20%22radius%22%3A%2036000.0%2C%20%22stroke%22%3A%20true%2C%20%22weight%22%3A%203%7D%0A%20%20%20%20%20%20%20%20%20%20%20%20%29.addTo%28map_a1d00f7722f64a9393b48021895cff65%29%3B%0A%20%20%20%20%20%20%20%20%0A%20%20%20%20%0A%20%20%20%20%20%20%20%20%20%20%20%20circle_0cbfcb520eec43b6833e1efc5ad029f1.bindTooltip%28%0A%20%20%20%20%20%20%20%20%20%20%20%20%20%20%20%20%60%3Cdiv%3E%0A%20%20%20%20%20%20%20%20%20%20%20%20%20%20%20%20%20%20%20%20%20%3Cdiv%20style%3D%27margin%3A%200%3B%20background-color%3A%20black%3B%20color%3A%20white%3B%27%3E%3Ch4%20style%3D%27text-align%3Acenter%3Bfont-weight%3A%20bold%27%3ETaiwan%2A%3C/h4%3E%3Chr%20style%3D%27margin%3A10px%3Bcolor%3A%20white%3B%27%3E%3Cul%20style%3D%27color%3A%20white%3B%3Blist-style-type%3Acircle%3Balign-item%3Aleft%3Bpadding-left%3A20px%3Bpadding-right%3A20px%27%3E%3Cli%3EConfirmed%3A%201160%3C/li%3E%3Cli%3EDeaths%3A%20%20%2010685%3C/li%3E%3Cli%3EDeath%20Rate%3A%20920.33%3C/li%3E%3C/ul%3E%3C/div%3E%0A%20%20%20%20%20%20%20%20%20%20%20%20%20%20%20%20%20%3C/div%3E%60%2C%0A%20%20%20%20%20%20%20%20%20%20%20%20%20%20%20%20%7B%22sticky%22%3A%20true%7D%0A%20%20%20%20%20%20%20%20%20%20%20%20%29%3B%0A%20%20%20%20%20%20%20%20%0A%20%20%20%20%0A%20%20%20%20%20%20%20%20%20%20%20%20var%20circle_465da8155be64ed6ac45bec0106d1c5e%20%3D%20L.circle%28%0A%20%20%20%20%20%20%20%20%20%20%20%20%20%20%20%20%5B38.861%2C%2071.2761%5D%2C%0A%20%20%20%20%20%20%20%20%20%20%20%20%20%20%20%20%7B%22bubblingMouseEvents%22%3A%20true%2C%20%22color%22%3A%20%22red%22%2C%20%22dashArray%22%3A%20null%2C%20%22dashOffset%22%3A%20null%2C%20%22fill%22%3A%20true%2C%20%22fillColor%22%3A%20%22indigo%22%2C%20%22fillOpacity%22%3A%200.2%2C%20%22fillRule%22%3A%20%22evenodd%22%2C%20%22lineCap%22%3A%20%22round%22%2C%20%22lineJoin%22%3A%20%22round%22%2C%20%22opacity%22%3A%201.0%2C%20%22radius%22%3A%2046000.0%2C%20%22stroke%22%3A%20true%2C%20%22weight%22%3A%203%7D%0A%20%20%20%20%20%20%20%20%20%20%20%20%29.addTo%28map_a1d00f7722f64a9393b48021895cff65%29%3B%0A%20%20%20%20%20%20%20%20%0A%20%20%20%20%0A%20%20%20%20%20%20%20%20%20%20%20%20circle_465da8155be64ed6ac45bec0106d1c5e.bindTooltip%28%0A%20%20%20%20%20%20%20%20%20%20%20%20%20%20%20%20%60%3Cdiv%3E%0A%20%20%20%20%20%20%20%20%20%20%20%20%20%20%20%20%20%20%20%20%20%3Cdiv%20style%3D%27margin%3A%200%3B%20background-color%3A%20black%3B%20color%3A%20white%3B%27%3E%3Ch4%20style%3D%27text-align%3Acenter%3Bfont-weight%3A%20bold%27%3ETajikistan%3C/h4%3E%3Chr%20style%3D%27margin%3A10px%3Bcolor%3A%20white%3B%27%3E%3Cul%20style%3D%27color%3A%20white%3B%3Blist-style-type%3Acircle%3Balign-item%3Aleft%3Bpadding-left%3A20px%3Bpadding-right%3A20px%27%3E%3Cli%3EConfirmed%3A%2013308%3C/li%3E%3Cli%3EDeaths%3A%20%20%201625%3C/li%3E%3Cli%3EDeath%20Rate%3A%2012.21%3C/li%3E%3C/ul%3E%3C/div%3E%0A%20%20%20%20%20%20%20%20%20%20%20%20%20%20%20%20%20%3C/div%3E%60%2C%0A%20%20%20%20%20%20%20%20%20%20%20%20%20%20%20%20%7B%22sticky%22%3A%20true%7D%0A%20%20%20%20%20%20%20%20%20%20%20%20%29%3B%0A%20%20%20%20%20%20%20%20%0A%20%20%20%20%0A%20%20%20%20%20%20%20%20%20%20%20%20var%20circle_fdeddf63e3d84cb0b46d5fdde27465a8%20%3D%20L.circle%28%0A%20%20%20%20%20%20%20%20%20%20%20%20%20%20%20%20%5B-6.369028%2C%2034.888822%5D%2C%0A%20%20%20%20%20%20%20%20%20%20%20%20%20%20%20%20%7B%22bubblingMouseEvents%22%3A%20true%2C%20%22color%22%3A%20%22red%22%2C%20%22dashArray%22%3A%20null%2C%20%22dashOffset%22%3A%20null%2C%20%22fill%22%3A%20true%2C%20%22fillColor%22%3A%20%22indigo%22%2C%20%22fillOpacity%22%3A%200.2%2C%20%22fillRule%22%3A%20%22evenodd%22%2C%20%22lineCap%22%3A%20%22round%22%2C%20%22lineJoin%22%3A%20%22round%22%2C%20%22opacity%22%3A%201.0%2C%20%22radius%22%3A%2031000.0%2C%20%22stroke%22%3A%20true%2C%20%22weight%22%3A%203%7D%0A%20%20%20%20%20%20%20%20%20%20%20%20%29.addTo%28map_a1d00f7722f64a9393b48021895cff65%29%3B%0A%20%20%20%20%20%20%20%20%0A%20%20%20%20%0A%20%20%20%20%20%20%20%20%20%20%20%20circle_fdeddf63e3d84cb0b46d5fdde27465a8.bindTooltip%28%0A%20%20%20%20%20%20%20%20%20%20%20%20%20%20%20%20%60%3Cdiv%3E%0A%20%20%20%20%20%20%20%20%20%20%20%20%20%20%20%20%20%20%20%20%20%3Cdiv%20style%3D%27margin%3A%200%3B%20background-color%3A%20black%3B%20color%3A%20white%3B%27%3E%3Ch4%20style%3D%27text-align%3Acenter%3Bfont-weight%3A%20bold%27%3ETanzania%3C/h4%3E%3Chr%20style%3D%27margin%3A10px%3Bcolor%3A%20white%3B%27%3E%3Cul%20style%3D%27color%3A%20white%3B%3Blist-style-type%3Acircle%3Balign-item%3Aleft%3Bpadding-left%3A20px%3Bpadding-right%3A20px%27%3E%3Cli%3EConfirmed%3A%20509%3C/li%3E%3Cli%3EDeaths%3A%20%20%2012%3C/li%3E%3Cli%3EDeath%20Rate%3A%202.35%3C/li%3E%3C/ul%3E%3C/div%3E%0A%20%20%20%20%20%20%20%20%20%20%20%20%20%20%20%20%20%3C/div%3E%60%2C%0A%20%20%20%20%20%20%20%20%20%20%20%20%20%20%20%20%7B%22sticky%22%3A%20true%7D%0A%20%20%20%20%20%20%20%20%20%20%20%20%29%3B%0A%20%20%20%20%20%20%20%20%0A%20%20%20%20%0A%20%20%20%20%20%20%20%20%20%20%20%20var%20circle_13f40de525dd4c799a55ba8895f5078a%20%3D%20L.circle%28%0A%20%20%20%20%20%20%20%20%20%20%20%20%20%20%20%20%5B15.870032%2C%20100.992541%5D%2C%0A%20%20%20%20%20%20%20%20%20%20%20%20%20%20%20%20%7B%22bubblingMouseEvents%22%3A%20true%2C%20%22color%22%3A%20%22red%22%2C%20%22dashArray%22%3A%20null%2C%20%22dashOffset%22%3A%20null%2C%20%22fill%22%3A%20true%2C%20%22fillColor%22%3A%20%22indigo%22%2C%20%22fillOpacity%22%3A%200.2%2C%20%22fillRule%22%3A%20%22evenodd%22%2C%20%22lineCap%22%3A%20%22round%22%2C%20%22lineJoin%22%3A%20%22round%22%2C%20%22opacity%22%3A%201.0%2C%20%22radius%22%3A%2056000.0%2C%20%22stroke%22%3A%20true%2C%20%22weight%22%3A%203%7D%0A%20%20%20%20%20%20%20%20%20%20%20%20%29.addTo%28map_a1d00f7722f64a9393b48021895cff65%29%3B%0A%20%20%20%20%20%20%20%20%0A%20%20%20%20%0A%20%20%20%20%20%20%20%20%20%20%20%20circle_13f40de525dd4c799a55ba8895f5078a.bindTooltip%28%0A%20%20%20%20%20%20%20%20%20%20%20%20%20%20%20%20%60%3Cdiv%3E%0A%20%20%20%20%20%20%20%20%20%20%20%20%20%20%20%20%20%20%20%20%20%3Cdiv%20style%3D%27margin%3A%200%3B%20background-color%3A%20black%3B%20color%3A%20white%3B%27%3E%3Ch4%20style%3D%27text-align%3Acenter%3Bfont-weight%3A%20bold%27%3EThailand%3C/h4%3E%3Chr%20style%3D%27margin%3A10px%3Bcolor%3A%20white%3B%27%3E%3Cul%20style%3D%27color%3A%20white%3B%3Blist-style-type%3Acircle%3Balign-item%3Aleft%3Bpadding-left%3A20px%3Bpadding-right%3A20px%27%3E%3Cli%3EConfirmed%3A%2074900%3C/li%3E%3Cli%3EDeaths%3A%20%20%2090%3C/li%3E%3Cli%3EDeath%20Rate%3A%200.12%3C/li%3E%3C/ul%3E%3C/div%3E%0A%20%20%20%20%20%20%20%20%20%20%20%20%20%20%20%20%20%3C/div%3E%60%2C%0A%20%20%20%20%20%20%20%20%20%20%20%20%20%20%20%20%7B%22sticky%22%3A%20true%7D%0A%20%20%20%20%20%20%20%20%20%20%20%20%29%3B%0A%20%20%20%20%20%20%20%20%0A%20%20%20%20%0A%20%20%20%20%20%20%20%20%20%20%20%20var%20circle_2adae9aa5af1491d8d738d44244b9327%20%3D%20L.circle%28%0A%20%20%20%20%20%20%20%20%20%20%20%20%20%20%20%20%5B-8.874217%2C%20125.727539%5D%2C%0A%20%20%20%20%20%20%20%20%20%20%20%20%20%20%20%20%7B%22bubblingMouseEvents%22%3A%20true%2C%20%22color%22%3A%20%22red%22%2C%20%22dashArray%22%3A%20null%2C%20%22dashOffset%22%3A%20null%2C%20%22fill%22%3A%20true%2C%20%22fillColor%22%3A%20%22indigo%22%2C%20%22fillOpacity%22%3A%200.2%2C%20%22fillRule%22%3A%20%22evenodd%22%2C%20%22lineCap%22%3A%20%22round%22%2C%20%22lineJoin%22%3A%20%22round%22%2C%20%22opacity%22%3A%201.0%2C%20%22radius%22%3A%2036000.0%2C%20%22stroke%22%3A%20true%2C%20%22weight%22%3A%203%7D%0A%20%20%20%20%20%20%20%20%20%20%20%20%29.addTo%28map_a1d00f7722f64a9393b48021895cff65%29%3B%0A%20%20%20%20%20%20%20%20%0A%20%20%20%20%0A%20%20%20%20%20%20%20%20%20%20%20%20circle_2adae9aa5af1491d8d738d44244b9327.bindTooltip%28%0A%20%20%20%20%20%20%20%20%20%20%20%20%20%20%20%20%60%3Cdiv%3E%0A%20%20%20%20%20%20%20%20%20%20%20%20%20%20%20%20%20%20%20%20%20%3Cdiv%20style%3D%27margin%3A%200%3B%20background-color%3A%20black%3B%20color%3A%20white%3B%27%3E%3Ch4%20style%3D%27text-align%3Acenter%3Bfont-weight%3A%20bold%27%3ETimor-Leste%3C/h4%3E%3Chr%20style%3D%27margin%3A10px%3Bcolor%3A%20white%3B%27%3E%3Cul%20style%3D%27color%3A%20white%3B%3Blist-style-type%3Acircle%3Balign-item%3Aleft%3Bpadding-left%3A20px%3Bpadding-right%3A20px%27%3E%3Cli%3EConfirmed%3A%202786%3C/li%3E%3Cli%3EDeaths%3A%20%20%2021%3C/li%3E%3Cli%3EDeath%20Rate%3A%200.75%3C/li%3E%3C/ul%3E%3C/div%3E%0A%20%20%20%20%20%20%20%20%20%20%20%20%20%20%20%20%20%3C/div%3E%60%2C%0A%20%20%20%20%20%20%20%20%20%20%20%20%20%20%20%20%7B%22sticky%22%3A%20true%7D%0A%20%20%20%20%20%20%20%20%20%20%20%20%29%3B%0A%20%20%20%20%20%20%20%20%0A%20%20%20%20%0A%20%20%20%20%20%20%20%20%20%20%20%20var%20circle_19169a39251145e78a6d845482e6e68d%20%3D%20L.circle%28%0A%20%20%20%20%20%20%20%20%20%20%20%20%20%20%20%20%5B8.6195%2C%200.8248%5D%2C%0A%20%20%20%20%20%20%20%20%20%20%20%20%20%20%20%20%7B%22bubblingMouseEvents%22%3A%20true%2C%20%22color%22%3A%20%22red%22%2C%20%22dashArray%22%3A%20null%2C%20%22dashOffset%22%3A%20null%2C%20%22fill%22%3A%20true%2C%20%22fillColor%22%3A%20%22indigo%22%2C%20%22fillOpacity%22%3A%200.2%2C%20%22fillRule%22%3A%20%22evenodd%22%2C%20%22lineCap%22%3A%20%22round%22%2C%20%22lineJoin%22%3A%20%22round%22%2C%20%22opacity%22%3A%201.0%2C%20%22radius%22%3A%2046000.0%2C%20%22stroke%22%3A%20true%2C%20%22weight%22%3A%203%7D%0A%20%20%20%20%20%20%20%20%20%20%20%20%29.addTo%28map_a1d00f7722f64a9393b48021895cff65%29%3B%0A%20%20%20%20%20%20%20%20%0A%20%20%20%20%0A%20%20%20%20%20%20%20%20%20%20%20%20circle_19169a39251145e78a6d845482e6e68d.bindTooltip%28%0A%20%20%20%20%20%20%20%20%20%20%20%20%20%20%20%20%60%3Cdiv%3E%0A%20%20%20%20%20%20%20%20%20%20%20%20%20%20%20%20%20%20%20%20%20%3Cdiv%20style%3D%27margin%3A%200%3B%20background-color%3A%20black%3B%20color%3A%20white%3B%27%3E%3Ch4%20style%3D%27text-align%3Acenter%3Bfont-weight%3A%20bold%27%3ETogo%3C/h4%3E%3Chr%20style%3D%27margin%3A10px%3Bcolor%3A%20white%3B%27%3E%3Cul%20style%3D%27color%3A%20white%3B%3Blist-style-type%3Acircle%3Balign-item%3Aleft%3Bpadding-left%3A20px%3Bpadding-right%3A20px%27%3E%3Cli%3EConfirmed%3A%2013068%3C/li%3E%3Cli%3EDeaths%3A%20%20%20318%3C/li%3E%3Cli%3EDeath%20Rate%3A%202.43%3C/li%3E%3C/ul%3E%3C/div%3E%0A%20%20%20%20%20%20%20%20%20%20%20%20%20%20%20%20%20%3C/div%3E%60%2C%0A%20%20%20%20%20%20%20%20%20%20%20%20%20%20%20%20%7B%22sticky%22%3A%20true%7D%0A%20%20%20%20%20%20%20%20%20%20%20%20%29%3B%0A%20%20%20%20%20%20%20%20%0A%20%20%20%20%0A%20%20%20%20%20%20%20%20%20%20%20%20var%20circle_ceb1155761144223872d83f668f312ac%20%3D%20L.circle%28%0A%20%20%20%20%20%20%20%20%20%20%20%20%20%20%20%20%5B10.6918%2C%20-61.2225%5D%2C%0A%20%20%20%20%20%20%20%20%20%20%20%20%20%20%20%20%7B%22bubblingMouseEvents%22%3A%20true%2C%20%22color%22%3A%20%22red%22%2C%20%22dashArray%22%3A%20null%2C%20%22dashOffset%22%3A%20null%2C%20%22fill%22%3A%20true%2C%20%22fillColor%22%3A%20%22indigo%22%2C%20%22fillOpacity%22%3A%200.2%2C%20%22fillRule%22%3A%20%22evenodd%22%2C%20%22lineCap%22%3A%20%22round%22%2C%20%22lineJoin%22%3A%20%22round%22%2C%20%22opacity%22%3A%201.0%2C%20%22radius%22%3A%2046000.0%2C%20%22stroke%22%3A%20true%2C%20%22weight%22%3A%203%7D%0A%20%20%20%20%20%20%20%20%20%20%20%20%29.addTo%28map_a1d00f7722f64a9393b48021895cff65%29%3B%0A%20%20%20%20%20%20%20%20%0A%20%20%20%20%0A%20%20%20%20%20%20%20%20%20%20%20%20circle_ceb1155761144223872d83f668f312ac.bindTooltip%28%0A%20%20%20%20%20%20%20%20%20%20%20%20%20%20%20%20%60%3Cdiv%3E%0A%20%20%20%20%20%20%20%20%20%20%20%20%20%20%20%20%20%20%20%20%20%3Cdiv%20style%3D%27margin%3A%200%3B%20background-color%3A%20black%3B%20color%3A%20white%3B%27%3E%3Ch4%20style%3D%27text-align%3Acenter%3Bfont-weight%3A%20bold%27%3ETrinidad%20and%20Tobago%3C/h4%3E%3Chr%20style%3D%27margin%3A10px%3Bcolor%3A%20white%3B%27%3E%3Cul%20style%3D%27color%3A%20white%3B%3Blist-style-type%3Acircle%3Balign-item%3Aleft%3Bpadding-left%3A20px%3Bpadding-right%3A20px%27%3E%3Cli%3EConfirmed%3A%2012105%3C/li%3E%3Cli%3EDeaths%3A%20%20%204%3C/li%3E%3Cli%3EDeath%20Rate%3A%200.03%3C/li%3E%3C/ul%3E%3C/div%3E%0A%20%20%20%20%20%20%20%20%20%20%20%20%20%20%20%20%20%3C/div%3E%60%2C%0A%20%20%20%20%20%20%20%20%20%20%20%20%20%20%20%20%7B%22sticky%22%3A%20true%7D%0A%20%20%20%20%20%20%20%20%20%20%20%20%29%3B%0A%20%20%20%20%20%20%20%20%0A%20%20%20%20%0A%20%20%20%20%20%20%20%20%20%20%20%20var%20circle_67f55fadc38d42d0be9ade2852d98cfd%20%3D%20L.circle%28%0A%20%20%20%20%20%20%20%20%20%20%20%20%20%20%20%20%5B33.886917%2C%209.537499%5D%2C%0A%20%20%20%20%20%20%20%20%20%20%20%20%20%20%20%20%7B%22bubblingMouseEvents%22%3A%20true%2C%20%22color%22%3A%20%22red%22%2C%20%22dashArray%22%3A%20null%2C%20%22dashOffset%22%3A%20null%2C%20%22fill%22%3A%20true%2C%20%22fillColor%22%3A%20%22indigo%22%2C%20%22fillOpacity%22%3A%200.2%2C%20%22fillRule%22%3A%20%22evenodd%22%2C%20%22lineCap%22%3A%20%22round%22%2C%20%22lineJoin%22%3A%20%22round%22%2C%20%22opacity%22%3A%201.0%2C%20%22radius%22%3A%2061000.0%2C%20%22stroke%22%3A%20true%2C%20%22weight%22%3A%203%7D%0A%20%20%20%20%20%20%20%20%20%20%20%20%29.addTo%28map_a1d00f7722f64a9393b48021895cff65%29%3B%0A%20%20%20%20%20%20%20%20%0A%20%20%20%20%0A%20%20%20%20%20%20%20%20%20%20%20%20circle_67f55fadc38d42d0be9ade2852d98cfd.bindTooltip%28%0A%20%20%20%20%20%20%20%20%20%20%20%20%20%20%20%20%60%3Cdiv%3E%0A%20%20%20%20%20%20%20%20%20%20%20%20%20%20%20%20%20%20%20%20%20%3Cdiv%20style%3D%27margin%3A%200%3B%20background-color%3A%20black%3B%20color%3A%20white%3B%27%3E%3Ch4%20style%3D%27text-align%3Acenter%3Bfont-weight%3A%20bold%27%3ETunisia%3C/h4%3E%3Chr%20style%3D%27margin%3A10px%3Bcolor%3A%20white%3B%27%3E%3Cul%20style%3D%27color%3A%20white%3B%3Blist-style-type%3Acircle%3Balign-item%3Aleft%3Bpadding-left%3A20px%3Bpadding-right%3A20px%27%3E%3Cli%3EConfirmed%3A%20315600%3C/li%3E%3Cli%3EDeaths%3A%20%20%20123%3C/li%3E%3Cli%3EDeath%20Rate%3A%200.04%3C/li%3E%3C/ul%3E%3C/div%3E%0A%20%20%20%20%20%20%20%20%20%20%20%20%20%20%20%20%20%3C/div%3E%60%2C%0A%20%20%20%20%20%20%20%20%20%20%20%20%20%20%20%20%7B%22sticky%22%3A%20true%7D%0A%20%20%20%20%20%20%20%20%20%20%20%20%29%3B%0A%20%20%20%20%20%20%20%20%0A%20%20%20%20%0A%20%20%20%20%20%20%20%20%20%20%20%20var%20circle_37d55c782d2e458bbe5283fbd700cf79%20%3D%20L.circle%28%0A%20%20%20%20%20%20%20%20%20%20%20%20%20%20%20%20%5B38.9637%2C%2035.2433%5D%2C%0A%20%20%20%20%20%20%20%20%20%20%20%20%20%20%20%20%7B%22bubblingMouseEvents%22%3A%20true%2C%20%22color%22%3A%20%22red%22%2C%20%22dashArray%22%3A%20null%2C%20%22dashOffset%22%3A%20null%2C%20%22fill%22%3A%20true%2C%20%22fillColor%22%3A%20%22indigo%22%2C%20%22fillOpacity%22%3A%200.2%2C%20%22fillRule%22%3A%20%22evenodd%22%2C%20%22lineCap%22%3A%20%22round%22%2C%20%22lineJoin%22%3A%20%22round%22%2C%20%22opacity%22%3A%201.0%2C%20%22radius%22%3A%2076000.0%2C%20%22stroke%22%3A%20true%2C%20%22weight%22%3A%203%7D%0A%20%20%20%20%20%20%20%20%20%20%20%20%29.addTo%28map_a1d00f7722f64a9393b48021895cff65%29%3B%0A%20%20%20%20%20%20%20%20%0A%20%20%20%20%0A%20%20%20%20%20%20%20%20%20%20%20%20circle_37d55c782d2e458bbe5283fbd700cf79.bindTooltip%28%0A%20%20%20%20%20%20%20%20%20%20%20%20%20%20%20%20%60%3Cdiv%3E%0A%20%20%20%20%20%20%20%20%20%20%20%20%20%20%20%20%20%20%20%20%20%3Cdiv%20style%3D%27margin%3A%200%3B%20background-color%3A%20black%3B%20color%3A%20white%3B%27%3E%3Ch4%20style%3D%27text-align%3Acenter%3Bfont-weight%3A%20bold%27%3ETurkey%3C/h4%3E%3Chr%20style%3D%27margin%3A10px%3Bcolor%3A%20white%3B%27%3E%3Cul%20style%3D%27color%3A%20white%3B%3Blist-style-type%3Acircle%3Balign-item%3Aleft%3Bpadding-left%3A20px%3Bpadding-right%3A20px%27%3E%3Cli%3EConfirmed%3A%204955594%3C/li%3E%3Cli%3EDeaths%3A%20%20%20189%3C/li%3E%3Cli%3EDeath%20Rate%3A%200.0%3C/li%3E%3C/ul%3E%3C/div%3E%0A%20%20%20%20%20%20%20%20%20%20%20%20%20%20%20%20%20%3C/div%3E%60%2C%0A%20%20%20%20%20%20%20%20%20%20%20%20%20%20%20%20%7B%22sticky%22%3A%20true%7D%0A%20%20%20%20%20%20%20%20%20%20%20%20%29%3B%0A%20%20%20%20%20%20%20%20%0A%20%20%20%20%0A%20%20%20%20%20%20%20%20%20%20%20%20var%20circle_98eab5123b80405bb0a0b243639199ba%20%3D%20L.circle%28%0A%20%20%20%20%20%20%20%20%20%20%20%20%20%20%20%20%5B40.0%2C%20-100.0%5D%2C%0A%20%20%20%20%20%20%20%20%20%20%20%20%20%20%20%20%7B%22bubblingMouseEvents%22%3A%20true%2C%20%22color%22%3A%20%22red%22%2C%20%22dashArray%22%3A%20null%2C%20%22dashOffset%22%3A%20null%2C%20%22fill%22%3A%20true%2C%20%22fillColor%22%3A%20%22indigo%22%2C%20%22fillOpacity%22%3A%200.2%2C%20%22fillRule%22%3A%20%22evenodd%22%2C%20%22lineCap%22%3A%20%22round%22%2C%20%22lineJoin%22%3A%20%22round%22%2C%20%22opacity%22%3A%201.0%2C%20%22radius%22%3A%2086000.0%2C%20%22stroke%22%3A%20true%2C%20%22weight%22%3A%203%7D%0A%20%20%20%20%20%20%20%20%20%20%20%20%29.addTo%28map_a1d00f7722f64a9393b48021895cff65%29%3B%0A%20%20%20%20%20%20%20%20%0A%20%20%20%20%0A%20%20%20%20%20%20%20%20%20%20%20%20circle_98eab5123b80405bb0a0b243639199ba.bindTooltip%28%0A%20%20%20%20%20%20%20%20%20%20%20%20%20%20%20%20%60%3Cdiv%3E%0A%20%20%20%20%20%20%20%20%20%20%20%20%20%20%20%20%20%20%20%20%20%3Cdiv%20style%3D%27margin%3A%200%3B%20background-color%3A%20black%3B%20color%3A%20white%3B%27%3E%3Ch4%20style%3D%27text-align%3Acenter%3Bfont-weight%3A%20bold%27%3EUS%3C/h4%3E%3Chr%20style%3D%27margin%3A10px%3Bcolor%3A%20white%3B%27%3E%3Cul%20style%3D%27color%3A%20white%3B%3Blist-style-type%3Acircle%3Balign-item%3Aleft%3Bpadding-left%3A20px%3Bpadding-right%3A20px%27%3E%3Cli%3EConfirmed%3A%2032557444%3C/li%3E%3Cli%3EDeaths%3A%20%20%2011122%3C/li%3E%3Cli%3EDeath%20Rate%3A%200.03%3C/li%3E%3C/ul%3E%3C/div%3E%0A%20%20%20%20%20%20%20%20%20%20%20%20%20%20%20%20%20%3C/div%3E%60%2C%0A%20%20%20%20%20%20%20%20%20%20%20%20%20%20%20%20%7B%22sticky%22%3A%20true%7D%0A%20%20%20%20%20%20%20%20%20%20%20%20%29%3B%0A%20%20%20%20%20%20%20%20%0A%20%20%20%20%0A%20%20%20%20%20%20%20%20%20%20%20%20var%20circle_7fa9f3e27f6f4d11aa380890d6f0a72a%20%3D%20L.circle%28%0A%20%20%20%20%20%20%20%20%20%20%20%20%20%20%20%20%5B1.373333%2C%2032.290275%5D%2C%0A%20%20%20%20%20%20%20%20%20%20%20%20%20%20%20%20%7B%22bubblingMouseEvents%22%3A%20true%2C%20%22color%22%3A%20%22red%22%2C%20%22dashArray%22%3A%20null%2C%20%22dashOffset%22%3A%20null%2C%20%22fill%22%3A%20true%2C%20%22fillColor%22%3A%20%22indigo%22%2C%20%22fillOpacity%22%3A%200.2%2C%20%22fillRule%22%3A%20%22evenodd%22%2C%20%22lineCap%22%3A%20%22round%22%2C%20%22lineJoin%22%3A%20%22round%22%2C%20%22opacity%22%3A%201.0%2C%20%22radius%22%3A%2051000.0%2C%20%22stroke%22%3A%20true%2C%20%22weight%22%3A%203%7D%0A%20%20%20%20%20%20%20%20%20%20%20%20%29.addTo%28map_a1d00f7722f64a9393b48021895cff65%29%3B%0A%20%20%20%20%20%20%20%20%0A%20%20%20%20%0A%20%20%20%20%20%20%20%20%20%20%20%20circle_7fa9f3e27f6f4d11aa380890d6f0a72a.bindTooltip%28%0A%20%20%20%20%20%20%20%20%20%20%20%20%20%20%20%20%60%3Cdiv%3E%0A%20%20%20%20%20%20%20%20%20%20%20%20%20%20%20%20%20%20%20%20%20%3Cdiv%20style%3D%27margin%3A%200%3B%20background-color%3A%20black%3B%20color%3A%20white%3B%27%3E%3Ch4%20style%3D%27text-align%3Acenter%3Bfont-weight%3A%20bold%27%3EUganda%3C/h4%3E%3Chr%20style%3D%27margin%3A10px%3Bcolor%3A%20white%3B%27%3E%3Cul%20style%3D%27color%3A%20white%3B%3Blist-style-type%3Acircle%3Balign-item%3Aleft%3Bpadding-left%3A20px%3Bpadding-right%3A20px%27%3E%3Cli%3EConfirmed%3A%2042102%3C/li%3E%3Cli%3EDeaths%3A%20%20%2041883%3C/li%3E%3Cli%3EDeath%20Rate%3A%2099.48%3C/li%3E%3C/ul%3E%3C/div%3E%0A%20%20%20%20%20%20%20%20%20%20%20%20%20%20%20%20%20%3C/div%3E%60%2C%0A%20%20%20%20%20%20%20%20%20%20%20%20%20%20%20%20%7B%22sticky%22%3A%20true%7D%0A%20%20%20%20%20%20%20%20%20%20%20%20%29%3B%0A%20%20%20%20%20%20%20%20%0A%20%20%20%20%0A%20%20%20%20%20%20%20%20%20%20%20%20var%20circle_3acc5f1358a943c49b17c999f55b846f%20%3D%20L.circle%28%0A%20%20%20%20%20%20%20%20%20%20%20%20%20%20%20%20%5B48.3794%2C%2031.1656%5D%2C%0A%20%20%20%20%20%20%20%20%20%20%20%20%20%20%20%20%7B%22bubblingMouseEvents%22%3A%20true%2C%20%22color%22%3A%20%22red%22%2C%20%22dashArray%22%3A%20null%2C%20%22dashOffset%22%3A%20null%2C%20%22fill%22%3A%20true%2C%20%22fillColor%22%3A%20%22indigo%22%2C%20%22fillOpacity%22%3A%200.2%2C%20%22fillRule%22%3A%20%22evenodd%22%2C%20%22lineCap%22%3A%20%22round%22%2C%20%22lineJoin%22%3A%20%22round%22%2C%20%22opacity%22%3A%201.0%2C%20%22radius%22%3A%2071000.0%2C%20%22stroke%22%3A%20true%2C%20%22weight%22%3A%203%7D%0A%20%20%20%20%20%20%20%20%20%20%20%20%29.addTo%28map_a1d00f7722f64a9393b48021895cff65%29%3B%0A%20%20%20%20%20%20%20%20%0A%20%20%20%20%0A%20%20%20%20%20%20%20%20%20%20%20%20circle_3acc5f1358a943c49b17c999f55b846f.bindTooltip%28%0A%20%20%20%20%20%20%20%20%20%20%20%20%20%20%20%20%60%3Cdiv%3E%0A%20%20%20%20%20%20%20%20%20%20%20%20%20%20%20%20%20%20%20%20%20%3Cdiv%20style%3D%27margin%3A%200%3B%20background-color%3A%20black%3B%20color%3A%20white%3B%27%3E%3Ch4%20style%3D%27text-align%3Acenter%3Bfont-weight%3A%20bold%27%3EUkraine%3C/h4%3E%3Chr%20style%3D%27margin%3A10px%3Bcolor%3A%20white%3B%27%3E%3Cul%20style%3D%27color%3A%20white%3B%3Blist-style-type%3Acircle%3Balign-item%3Aleft%3Bpadding-left%3A20px%3Bpadding-right%3A20px%27%3E%3Cli%3EConfirmed%3A%202146121%3C/li%3E%3Cli%3EDeaths%3A%20%20%20579275%3C/li%3E%3Cli%3EDeath%20Rate%3A%2026.99%3C/li%3E%3C/ul%3E%3C/div%3E%0A%20%20%20%20%20%20%20%20%20%20%20%20%20%20%20%20%20%3C/div%3E%60%2C%0A%20%20%20%20%20%20%20%20%20%20%20%20%20%20%20%20%7B%22sticky%22%3A%20true%7D%0A%20%20%20%20%20%20%20%20%20%20%20%20%29%3B%0A%20%20%20%20%20%20%20%20%0A%20%20%20%20%0A%20%20%20%20%20%20%20%20%20%20%20%20var%20circle_fa62c527ee3749b59d59cbba9ef89c45%20%3D%20L.circle%28%0A%20%20%20%20%20%20%20%20%20%20%20%20%20%20%20%20%5B23.424076%2C%2053.847818000000004%5D%2C%0A%20%20%20%20%20%20%20%20%20%20%20%20%20%20%20%20%7B%22bubblingMouseEvents%22%3A%20true%2C%20%22color%22%3A%20%22red%22%2C%20%22dashArray%22%3A%20null%2C%20%22dashOffset%22%3A%20null%2C%20%22fill%22%3A%20true%2C%20%22fillColor%22%3A%20%22indigo%22%2C%20%22fillOpacity%22%3A%200.2%2C%20%22fillRule%22%3A%20%22evenodd%22%2C%20%22lineCap%22%3A%20%22round%22%2C%20%22lineJoin%22%3A%20%22round%22%2C%20%22opacity%22%3A%201.0%2C%20%22radius%22%3A%2066000.0%2C%20%22stroke%22%3A%20true%2C%20%22weight%22%3A%203%7D%0A%20%20%20%20%20%20%20%20%20%20%20%20%29.addTo%28map_a1d00f7722f64a9393b48021895cff65%29%3B%0A%20%20%20%20%20%20%20%20%0A%20%20%20%20%0A%20%20%20%20%20%20%20%20%20%20%20%20circle_fa62c527ee3749b59d59cbba9ef89c45.bindTooltip%28%0A%20%20%20%20%20%20%20%20%20%20%20%20%20%20%20%20%60%3Cdiv%3E%0A%20%20%20%20%20%20%20%20%20%20%20%20%20%20%20%20%20%20%20%20%20%3Cdiv%20style%3D%27margin%3A%200%3B%20background-color%3A%20black%3B%20color%3A%20white%3B%27%3E%3Ch4%20style%3D%27text-align%3Acenter%3Bfont-weight%3A%20bold%27%3EUnited%20Arab%20Emirates%3C/h4%3E%3Chr%20style%3D%27margin%3A10px%3Bcolor%3A%20white%3B%27%3E%3Cul%20style%3D%27color%3A%20white%3B%3Blist-style-type%3Acircle%3Balign-item%3Aleft%3Bpadding-left%3A20px%3Bpadding-right%3A20px%27%3E%3Cli%3EConfirmed%3A%20529220%3C/li%3E%3Cli%3EDeaths%3A%20%20%20343%3C/li%3E%3Cli%3EDeath%20Rate%3A%200.06%3C/li%3E%3C/ul%3E%3C/div%3E%0A%20%20%20%20%20%20%20%20%20%20%20%20%20%20%20%20%20%3C/div%3E%60%2C%0A%20%20%20%20%20%20%20%20%20%20%20%20%20%20%20%20%7B%22sticky%22%3A%20true%7D%0A%20%20%20%20%20%20%20%20%20%20%20%20%29%3B%0A%20%20%20%20%20%20%20%20%0A%20%20%20%20%0A%20%20%20%20%20%20%20%20%20%20%20%20var%20circle_5cc22e2455994f33b7fa6d07b4cab136%20%3D%20L.circle%28%0A%20%20%20%20%20%20%20%20%20%20%20%20%20%20%20%20%5B18.2206%2C%20-63.0686%5D%2C%0A%20%20%20%20%20%20%20%20%20%20%20%20%20%20%20%20%7B%22bubblingMouseEvents%22%3A%20true%2C%20%22color%22%3A%20%22red%22%2C%20%22dashArray%22%3A%20null%2C%20%22dashOffset%22%3A%20null%2C%20%22fill%22%3A%20true%2C%20%22fillColor%22%3A%20%22indigo%22%2C%20%22fillOpacity%22%3A%200.2%2C%20%22fillRule%22%3A%20%22evenodd%22%2C%20%22lineCap%22%3A%20%22round%22%2C%20%22lineJoin%22%3A%20%22round%22%2C%20%22opacity%22%3A%201.0%2C%20%22radius%22%3A%2021000.0%2C%20%22stroke%22%3A%20true%2C%20%22weight%22%3A%203%7D%0A%20%20%20%20%20%20%20%20%20%20%20%20%29.addTo%28map_a1d00f7722f64a9393b48021895cff65%29%3B%0A%20%20%20%20%20%20%20%20%0A%20%20%20%20%0A%20%20%20%20%20%20%20%20%20%20%20%20circle_5cc22e2455994f33b7fa6d07b4cab136.bindTooltip%28%0A%20%20%20%20%20%20%20%20%20%20%20%20%20%20%20%20%60%3Cdiv%3E%0A%20%20%20%20%20%20%20%20%20%20%20%20%20%20%20%20%20%20%20%20%20%3Cdiv%20style%3D%27margin%3A%200%3B%20background-color%3A%20black%3B%20color%3A%20white%3B%27%3E%3Ch4%20style%3D%27text-align%3Acenter%3Bfont-weight%3A%20bold%27%3EUnited%20Kingdom%3C/h4%3E%3Chr%20style%3D%27margin%3A10px%3Bcolor%3A%20white%3B%27%3E%3Cul%20style%3D%27color%3A%20white%3B%3Blist-style-type%3Acircle%3Balign-item%3Aleft%3Bpadding-left%3A20px%3Bpadding-right%3A20px%27%3E%3Cli%3EConfirmed%3A%2095%3C/li%3E%3Cli%3EDeaths%3A%20%20%2046950%3C/li%3E%3Cli%3EDeath%20Rate%3A%2048906.24%3C/li%3E%3C/ul%3E%3C/div%3E%0A%20%20%20%20%20%20%20%20%20%20%20%20%20%20%20%20%20%3C/div%3E%60%2C%0A%20%20%20%20%20%20%20%20%20%20%20%20%20%20%20%20%7B%22sticky%22%3A%20true%7D%0A%20%20%20%20%20%20%20%20%20%20%20%20%29%3B%0A%20%20%20%20%20%20%20%20%0A%20%20%20%20%0A%20%20%20%20%20%20%20%20%20%20%20%20var%20circle_dd872d6b4f5c41be8d6d7893e4598fe6%20%3D%20L.circle%28%0A%20%20%20%20%20%20%20%20%20%20%20%20%20%20%20%20%5B32.3078%2C%20-64.7505%5D%2C%0A%20%20%20%20%20%20%20%20%20%20%20%20%20%20%20%20%7B%22bubblingMouseEvents%22%3A%20true%2C%20%22color%22%3A%20%22red%22%2C%20%22dashArray%22%3A%20null%2C%20%22dashOffset%22%3A%20null%2C%20%22fill%22%3A%20true%2C%20%22fillColor%22%3A%20%22indigo%22%2C%20%22fillOpacity%22%3A%200.2%2C%20%22fillRule%22%3A%20%22evenodd%22%2C%20%22lineCap%22%3A%20%22round%22%2C%20%22lineJoin%22%3A%20%22round%22%2C%20%22opacity%22%3A%201.0%2C%20%22radius%22%3A%2036000.0%2C%20%22stroke%22%3A%20true%2C%20%22weight%22%3A%203%7D%0A%20%20%20%20%20%20%20%20%20%20%20%20%29.addTo%28map_a1d00f7722f64a9393b48021895cff65%29%3B%0A%20%20%20%20%20%20%20%20%0A%20%20%20%20%0A%20%20%20%20%20%20%20%20%20%20%20%20circle_dd872d6b4f5c41be8d6d7893e4598fe6.bindTooltip%28%0A%20%20%20%20%20%20%20%20%20%20%20%20%20%20%20%20%60%3Cdiv%3E%0A%20%20%20%20%20%20%20%20%20%20%20%20%20%20%20%20%20%20%20%20%20%3Cdiv%20style%3D%27margin%3A%200%3B%20background-color%3A%20black%3B%20color%3A%20white%3B%27%3E%3Ch4%20style%3D%27text-align%3Acenter%3Bfont-weight%3A%20bold%27%3EUnited%20Kingdom%3C/h4%3E%3Chr%20style%3D%27margin%3A10px%3Bcolor%3A%20white%3B%27%3E%3Cul%20style%3D%27color%3A%20white%3B%3Blist-style-type%3Acircle%3Balign-item%3Aleft%3Bpadding-left%3A20px%3Bpadding-right%3A20px%27%3E%3Cli%3EConfirmed%3A%202429%3C/li%3E%3Cli%3EDeaths%3A%20%20%201601%3C/li%3E%3Cli%3EDeath%20Rate%3A%2065.88%3C/li%3E%3C/ul%3E%3C/div%3E%0A%20%20%20%20%20%20%20%20%20%20%20%20%20%20%20%20%20%3C/div%3E%60%2C%0A%20%20%20%20%20%20%20%20%20%20%20%20%20%20%20%20%7B%22sticky%22%3A%20true%7D%0A%20%20%20%20%20%20%20%20%20%20%20%20%29%3B%0A%20%20%20%20%20%20%20%20%0A%20%20%20%20%0A%20%20%20%20%20%20%20%20%20%20%20%20var%20circle_2e1532fbcb7f4a6ea8bcb0e026bb1652%20%3D%20L.circle%28%0A%20%20%20%20%20%20%20%20%20%20%20%20%20%20%20%20%5B18.4207%2C%20-64.64%5D%2C%0A%20%20%20%20%20%20%20%20%20%20%20%20%20%20%20%20%7B%22bubblingMouseEvents%22%3A%20true%2C%20%22color%22%3A%20%22red%22%2C%20%22dashArray%22%3A%20null%2C%20%22dashOffset%22%3A%20null%2C%20%22fill%22%3A%20true%2C%20%22fillColor%22%3A%20%22indigo%22%2C%20%22fillOpacity%22%3A%200.2%2C%20%22fillRule%22%3A%20%22evenodd%22%2C%20%22lineCap%22%3A%20%22round%22%2C%20%22lineJoin%22%3A%20%22round%22%2C%20%22opacity%22%3A%201.0%2C%20%22radius%22%3A%2026000.0%2C%20%22stroke%22%3A%20true%2C%20%22weight%22%3A%203%7D%0A%20%20%20%20%20%20%20%20%20%20%20%20%29.addTo%28map_a1d00f7722f64a9393b48021895cff65%29%3B%0A%20%20%20%20%20%20%20%20%0A%20%20%20%20%0A%20%20%20%20%20%20%20%20%20%20%20%20circle_2e1532fbcb7f4a6ea8bcb0e026bb1652.bindTooltip%28%0A%20%20%20%20%20%20%20%20%20%20%20%20%20%20%20%20%60%3Cdiv%3E%0A%20%20%20%20%20%20%20%20%20%20%20%20%20%20%20%20%20%20%20%20%20%3Cdiv%20style%3D%27margin%3A%200%3B%20background-color%3A%20black%3B%20color%3A%20white%3B%27%3E%3Ch4%20style%3D%27text-align%3Acenter%3Bfont-weight%3A%20bold%27%3EUnited%20Kingdom%3C/h4%3E%3Chr%20style%3D%27margin%3A10px%3Bcolor%3A%20white%3B%27%3E%3Cul%20style%3D%27color%3A%20white%3B%3Blist-style-type%3Acircle%3Balign-item%3Aleft%3Bpadding-left%3A20px%3Bpadding-right%3A20px%27%3E%3Cli%3EConfirmed%3A%20216%3C/li%3E%3Cli%3EDeaths%3A%20%20%200%3C/li%3E%3Cli%3EDeath%20Rate%3A%200.0%3C/li%3E%3C/ul%3E%3C/div%3E%0A%20%20%20%20%20%20%20%20%20%20%20%20%20%20%20%20%20%3C/div%3E%60%2C%0A%20%20%20%20%20%20%20%20%20%20%20%20%20%20%20%20%7B%22sticky%22%3A%20true%7D%0A%20%20%20%20%20%20%20%20%20%20%20%20%29%3B%0A%20%20%20%20%20%20%20%20%0A%20%20%20%20%0A%20%20%20%20%20%20%20%20%20%20%20%20var%20circle_2ec6101ad2a843aa90c5b7b28fd3efac%20%3D%20L.circle%28%0A%20%20%20%20%20%20%20%20%20%20%20%20%20%20%20%20%5B19.3133%2C%20-81.2546%5D%2C%0A%20%20%20%20%20%20%20%20%20%20%20%20%20%20%20%20%7B%22bubblingMouseEvents%22%3A%20true%2C%20%22color%22%3A%20%22red%22%2C%20%22dashArray%22%3A%20null%2C%20%22dashOffset%22%3A%20null%2C%20%22fill%22%3A%20true%2C%20%22fillColor%22%3A%20%22indigo%22%2C%20%22fillOpacity%22%3A%200.2%2C%20%22fillRule%22%3A%20%22evenodd%22%2C%20%22lineCap%22%3A%20%22round%22%2C%20%22lineJoin%22%3A%20%22round%22%2C%20%22opacity%22%3A%201.0%2C%20%22radius%22%3A%2031000.0%2C%20%22stroke%22%3A%20true%2C%20%22weight%22%3A%203%7D%0A%20%20%20%20%20%20%20%20%20%20%20%20%29.addTo%28map_a1d00f7722f64a9393b48021895cff65%29%3B%0A%20%20%20%20%20%20%20%20%0A%20%20%20%20%0A%20%20%20%20%20%20%20%20%20%20%20%20circle_2ec6101ad2a843aa90c5b7b28fd3efac.bindTooltip%28%0A%20%20%20%20%20%20%20%20%20%20%20%20%20%20%20%20%60%3Cdiv%3E%0A%20%20%20%20%20%20%20%20%20%20%20%20%20%20%20%20%20%20%20%20%20%3Cdiv%20style%3D%27margin%3A%200%3B%20background-color%3A%20black%3B%20color%3A%20white%3B%27%3E%3Ch4%20style%3D%27text-align%3Acenter%3Bfont-weight%3A%20bold%27%3EUnited%20Kingdom%3C/h4%3E%3Chr%20style%3D%27margin%3A10px%3Bcolor%3A%20white%3B%27%3E%3Cul%20style%3D%27color%3A%20white%3B%3Blist-style-type%3Acircle%3Balign-item%3Aleft%3Bpadding-left%3A20px%3Bpadding-right%3A20px%27%3E%3Cli%3EConfirmed%3A%20545%3C/li%3E%3Cli%3EDeaths%3A%20%20%2030%3C/li%3E%3Cli%3EDeath%20Rate%3A%205.49%3C/li%3E%3C/ul%3E%3C/div%3E%0A%20%20%20%20%20%20%20%20%20%20%20%20%20%20%20%20%20%3C/div%3E%60%2C%0A%20%20%20%20%20%20%20%20%20%20%20%20%20%20%20%20%7B%22sticky%22%3A%20true%7D%0A%20%20%20%20%20%20%20%20%20%20%20%20%29%3B%0A%20%20%20%20%20%20%20%20%0A%20%20%20%20%0A%20%20%20%20%20%20%20%20%20%20%20%20var%20circle_13be1a5b315d41a39e5b0549e4dfc353%20%3D%20L.circle%28%0A%20%20%20%20%20%20%20%20%20%20%20%20%20%20%20%20%5B49.3723%2C%20-2.3644%5D%2C%0A%20%20%20%20%20%20%20%20%20%20%20%20%20%20%20%20%7B%22bubblingMouseEvents%22%3A%20true%2C%20%22color%22%3A%20%22red%22%2C%20%22dashArray%22%3A%20null%2C%20%22dashOffset%22%3A%20null%2C%20%22fill%22%3A%20true%2C%20%22fillColor%22%3A%20%22indigo%22%2C%20%22fillOpacity%22%3A%200.2%2C%20%22fillRule%22%3A%20%22evenodd%22%2C%20%22lineCap%22%3A%20%22round%22%2C%20%22lineJoin%22%3A%20%22round%22%2C%20%22opacity%22%3A%201.0%2C%20%22radius%22%3A%2041000.0%2C%20%22stroke%22%3A%20true%2C%20%22weight%22%3A%203%7D%0A%20%20%20%20%20%20%20%20%20%20%20%20%29.addTo%28map_a1d00f7722f64a9393b48021895cff65%29%3B%0A%20%20%20%20%20%20%20%20%0A%20%20%20%20%0A%20%20%20%20%20%20%20%20%20%20%20%20circle_13be1a5b315d41a39e5b0549e4dfc353.bindTooltip%28%0A%20%20%20%20%20%20%20%20%20%20%20%20%20%20%20%20%60%3Cdiv%3E%0A%20%20%20%20%20%20%20%20%20%20%20%20%20%20%20%20%20%20%20%20%20%3Cdiv%20style%3D%27margin%3A%200%3B%20background-color%3A%20black%3B%20color%3A%20white%3B%27%3E%3Ch4%20style%3D%27text-align%3Acenter%3Bfont-weight%3A%20bold%27%3EUnited%20Kingdom%3C/h4%3E%3Chr%20style%3D%27margin%3A10px%3Bcolor%3A%20white%3B%27%3E%3Cul%20style%3D%27color%3A%20white%3B%3Blist-style-type%3Acircle%3Balign-item%3Aleft%3Bpadding-left%3A20px%3Bpadding-right%3A20px%27%3E%3Cli%3EConfirmed%3A%204056%3C/li%3E%3Cli%3EDeaths%3A%20%20%201%3C/li%3E%3Cli%3EDeath%20Rate%3A%200.02%3C/li%3E%3C/ul%3E%3C/div%3E%0A%20%20%20%20%20%20%20%20%20%20%20%20%20%20%20%20%20%3C/div%3E%60%2C%0A%20%20%20%20%20%20%20%20%20%20%20%20%20%20%20%20%7B%22sticky%22%3A%20true%7D%0A%20%20%20%20%20%20%20%20%20%20%20%20%29%3B%0A%20%20%20%20%20%20%20%20%0A%20%20%20%20%0A%20%20%20%20%20%20%20%20%20%20%20%20var%20circle_0a0639e7ac1a41a98045cb19e16b52a7%20%3D%20L.circle%28%0A%20%20%20%20%20%20%20%20%20%20%20%20%20%20%20%20%5B-51.7963%2C%20-59.5236%5D%2C%0A%20%20%20%20%20%20%20%20%20%20%20%20%20%20%20%20%7B%22bubblingMouseEvents%22%3A%20true%2C%20%22color%22%3A%20%22red%22%2C%20%22dashArray%22%3A%20null%2C%20%22dashOffset%22%3A%20null%2C%20%22fill%22%3A%20true%2C%20%22fillColor%22%3A%20%22indigo%22%2C%20%22fillOpacity%22%3A%200.2%2C%20%22fillRule%22%3A%20%22evenodd%22%2C%20%22lineCap%22%3A%20%22round%22%2C%20%22lineJoin%22%3A%20%22round%22%2C%20%22opacity%22%3A%201.0%2C%20%22radius%22%3A%2021000.0%2C%20%22stroke%22%3A%20true%2C%20%22weight%22%3A%203%7D%0A%20%20%20%20%20%20%20%20%20%20%20%20%29.addTo%28map_a1d00f7722f64a9393b48021895cff65%29%3B%0A%20%20%20%20%20%20%20%20%0A%20%20%20%20%0A%20%20%20%20%20%20%20%20%20%20%20%20circle_0a0639e7ac1a41a98045cb19e16b52a7.bindTooltip%28%0A%20%20%20%20%20%20%20%20%20%20%20%20%20%20%20%20%60%3Cdiv%3E%0A%20%20%20%20%20%20%20%20%20%20%20%20%20%20%20%20%20%20%20%20%20%3Cdiv%20style%3D%27margin%3A%200%3B%20background-color%3A%20black%3B%20color%3A%20white%3B%27%3E%3Ch4%20style%3D%27text-align%3Acenter%3Bfont-weight%3A%20bold%27%3EUnited%20Kingdom%3C/h4%3E%3Chr%20style%3D%27margin%3A10px%3Bcolor%3A%20white%3B%27%3E%3Cul%20style%3D%27color%3A%20white%3B%3Blist-style-type%3Acircle%3Balign-item%3Aleft%3Bpadding-left%3A20px%3Bpadding-right%3A20px%27%3E%3Cli%3EConfirmed%3A%2063%3C/li%3E%3Cli%3EDeaths%3A%20%20%202%3C/li%3E%3Cli%3EDeath%20Rate%3A%203.12%3C/li%3E%3C/ul%3E%3C/div%3E%0A%20%20%20%20%20%20%20%20%20%20%20%20%20%20%20%20%20%3C/div%3E%60%2C%0A%20%20%20%20%20%20%20%20%20%20%20%20%20%20%20%20%7B%22sticky%22%3A%20true%7D%0A%20%20%20%20%20%20%20%20%20%20%20%20%29%3B%0A%20%20%20%20%20%20%20%20%0A%20%20%20%20%0A%20%20%20%20%20%20%20%20%20%20%20%20var%20circle_3d100f41538d4781b7a280ed7b1daa72%20%3D%20L.circle%28%0A%20%20%20%20%20%20%20%20%20%20%20%20%20%20%20%20%5B36.1408%2C%20-5.3536%5D%2C%0A%20%20%20%20%20%20%20%20%20%20%20%20%20%20%20%20%7B%22bubblingMouseEvents%22%3A%20true%2C%20%22color%22%3A%20%22red%22%2C%20%22dashArray%22%3A%20null%2C%20%22dashOffset%22%3A%20null%2C%20%22fill%22%3A%20true%2C%20%22fillColor%22%3A%20%22indigo%22%2C%20%22fillOpacity%22%3A%200.2%2C%20%22fillRule%22%3A%20%22evenodd%22%2C%20%22lineCap%22%3A%20%22round%22%2C%20%22lineJoin%22%3A%20%22round%22%2C%20%22opacity%22%3A%201.0%2C%20%22radius%22%3A%2041000.0%2C%20%22stroke%22%3A%20true%2C%20%22weight%22%3A%203%7D%0A%20%20%20%20%20%20%20%20%20%20%20%20%29.addTo%28map_a1d00f7722f64a9393b48021895cff65%29%3B%0A%20%20%20%20%20%20%20%20%0A%20%20%20%20%0A%20%20%20%20%20%20%20%20%20%20%20%20circle_3d100f41538d4781b7a280ed7b1daa72.bindTooltip%28%0A%20%20%20%20%20%20%20%20%20%20%20%20%20%20%20%20%60%3Cdiv%3E%0A%20%20%20%20%20%20%20%20%20%20%20%20%20%20%20%20%20%20%20%20%20%3Cdiv%20style%3D%27margin%3A%200%3B%20background-color%3A%20black%3B%20color%3A%20white%3B%27%3E%3Ch4%20style%3D%27text-align%3Acenter%3Bfont-weight%3A%20bold%27%3EUnited%20Kingdom%3C/h4%3E%3Chr%20style%3D%27margin%3A10px%3Bcolor%3A%20white%3B%27%3E%3Cul%20style%3D%27color%3A%20white%3B%3Blist-style-type%3Acircle%3Balign-item%3Aleft%3Bpadding-left%3A20px%3Bpadding-right%3A20px%27%3E%3Cli%3EConfirmed%3A%204286%3C/li%3E%3Cli%3EDeaths%3A%20%20%2086%3C/li%3E%3Cli%3EDeath%20Rate%3A%202.01%3C/li%3E%3C/ul%3E%3C/div%3E%0A%20%20%20%20%20%20%20%20%20%20%20%20%20%20%20%20%20%3C/div%3E%60%2C%0A%20%20%20%20%20%20%20%20%20%20%20%20%20%20%20%20%7B%22sticky%22%3A%20true%7D%0A%20%20%20%20%20%20%20%20%20%20%20%20%29%3B%0A%20%20%20%20%20%20%20%20%0A%20%20%20%20%0A%20%20%20%20%20%20%20%20%20%20%20%20var%20circle_b8e62bfb58f94ff38cc5a6ea94fc7fd2%20%3D%20L.circle%28%0A%20%20%20%20%20%20%20%20%20%20%20%20%20%20%20%20%5B54.2361%2C%20-4.5481%5D%2C%0A%20%20%20%20%20%20%20%20%20%20%20%20%20%20%20%20%7B%22bubblingMouseEvents%22%3A%20true%2C%20%22color%22%3A%20%22red%22%2C%20%22dashArray%22%3A%20null%2C%20%22dashOffset%22%3A%20null%2C%20%22fill%22%3A%20true%2C%20%22fillColor%22%3A%20%22indigo%22%2C%20%22fillOpacity%22%3A%200.2%2C%20%22fillRule%22%3A%20%22evenodd%22%2C%20%22lineCap%22%3A%20%22round%22%2C%20%22lineJoin%22%3A%20%22round%22%2C%20%22opacity%22%3A%201.0%2C%20%22radius%22%3A%2036000.0%2C%20%22stroke%22%3A%20true%2C%20%22weight%22%3A%203%7D%0A%20%20%20%20%20%20%20%20%20%20%20%20%29.addTo%28map_a1d00f7722f64a9393b48021895cff65%29%3B%0A%20%20%20%20%20%20%20%20%0A%20%20%20%20%0A%20%20%20%20%20%20%20%20%20%20%20%20circle_b8e62bfb58f94ff38cc5a6ea94fc7fd2.bindTooltip%28%0A%20%20%20%20%20%20%20%20%20%20%20%20%20%20%20%20%60%3Cdiv%3E%0A%20%20%20%20%20%20%20%20%20%20%20%20%20%20%20%20%20%20%20%20%20%3Cdiv%20style%3D%27margin%3A%200%3B%20background-color%3A%20black%3B%20color%3A%20white%3B%27%3E%3Ch4%20style%3D%27text-align%3Acenter%3Bfont-weight%3A%20bold%27%3EUnited%20Kingdom%3C/h4%3E%3Chr%20style%3D%27margin%3A10px%3Bcolor%3A%20white%3B%27%3E%3Cul%20style%3D%27color%3A%20white%3B%3Blist-style-type%3Acircle%3Balign-item%3Aleft%3Bpadding-left%3A20px%3Bpadding-right%3A20px%27%3E%3Cli%3EConfirmed%3A%201590%3C/li%3E%3Cli%3EDeaths%3A%20%20%200%3C/li%3E%3Cli%3EDeath%20Rate%3A%200.0%3C/li%3E%3C/ul%3E%3C/div%3E%0A%20%20%20%20%20%20%20%20%20%20%20%20%20%20%20%20%20%3C/div%3E%60%2C%0A%20%20%20%20%20%20%20%20%20%20%20%20%20%20%20%20%7B%22sticky%22%3A%20true%7D%0A%20%20%20%20%20%20%20%20%20%20%20%20%29%3B%0A%20%20%20%20%20%20%20%20%0A%20%20%20%20%0A%20%20%20%20%20%20%20%20%20%20%20%20var%20circle_3b78a304f93043ca87c554a9bb8925a6%20%3D%20L.circle%28%0A%20%20%20%20%20%20%20%20%20%20%20%20%20%20%20%20%5B16.742498%2C%20-62.187366000000004%5D%2C%0A%20%20%20%20%20%20%20%20%20%20%20%20%20%20%20%20%7B%22bubblingMouseEvents%22%3A%20true%2C%20%22color%22%3A%20%22red%22%2C%20%22dashArray%22%3A%20null%2C%20%22dashOffset%22%3A%20null%2C%20%22fill%22%3A%20true%2C%20%22fillColor%22%3A%20%22indigo%22%2C%20%22fillOpacity%22%3A%200.2%2C%20%22fillRule%22%3A%20%22evenodd%22%2C%20%22lineCap%22%3A%20%22round%22%2C%20%22lineJoin%22%3A%20%22round%22%2C%20%22opacity%22%3A%201.0%2C%20%22radius%22%3A%2016000.0%2C%20%22stroke%22%3A%20true%2C%20%22weight%22%3A%203%7D%0A%20%20%20%20%20%20%20%20%20%20%20%20%29.addTo%28map_a1d00f7722f64a9393b48021895cff65%29%3B%0A%20%20%20%20%20%20%20%20%0A%20%20%20%20%0A%20%20%20%20%20%20%20%20%20%20%20%20circle_3b78a304f93043ca87c554a9bb8925a6.bindTooltip%28%0A%20%20%20%20%20%20%20%20%20%20%20%20%20%20%20%20%60%3Cdiv%3E%0A%20%20%20%20%20%20%20%20%20%20%20%20%20%20%20%20%20%20%20%20%20%3Cdiv%20style%3D%27margin%3A%200%3B%20background-color%3A%20black%3B%20color%3A%20white%3B%27%3E%3Ch4%20style%3D%27text-align%3Acenter%3Bfont-weight%3A%20bold%27%3EUnited%20Kingdom%3C/h4%3E%3Chr%20style%3D%27margin%3A10px%3Bcolor%3A%20white%3B%27%3E%3Cul%20style%3D%27color%3A%20white%3B%3Blist-style-type%3Acircle%3Balign-item%3Aleft%3Bpadding-left%3A20px%3Bpadding-right%3A20px%27%3E%3Cli%3EConfirmed%3A%2020%3C/li%3E%3Cli%3EDeaths%3A%20%20%2094%3C/li%3E%3Cli%3EDeath%20Rate%3A%20447.62%3C/li%3E%3C/ul%3E%3C/div%3E%0A%20%20%20%20%20%20%20%20%20%20%20%20%20%20%20%20%20%3C/div%3E%60%2C%0A%20%20%20%20%20%20%20%20%20%20%20%20%20%20%20%20%7B%22sticky%22%3A%20true%7D%0A%20%20%20%20%20%20%20%20%20%20%20%20%29%3B%0A%20%20%20%20%20%20%20%20%0A%20%20%20%20%0A%20%20%20%20%20%20%20%20%20%20%20%20var%20circle_420a958109324ae8b42ea0d6ea4033f0%20%3D%20L.circle%28%0A%20%20%20%20%20%20%20%20%20%20%20%20%20%20%20%20%5B-7.9467%2C%20-14.3559%5D%2C%0A%20%20%20%20%20%20%20%20%20%20%20%20%20%20%20%20%7B%22bubblingMouseEvents%22%3A%20true%2C%20%22color%22%3A%20%22red%22%2C%20%22dashArray%22%3A%20null%2C%20%22dashOffset%22%3A%20null%2C%20%22fill%22%3A%20true%2C%20%22fillColor%22%3A%20%22indigo%22%2C%20%22fillOpacity%22%3A%200.2%2C%20%22fillRule%22%3A%20%22evenodd%22%2C%20%22lineCap%22%3A%20%22round%22%2C%20%22lineJoin%22%3A%20%22round%22%2C%20%22opacity%22%3A%201.0%2C%20%22radius%22%3A%206000.0%2C%20%22stroke%22%3A%20true%2C%20%22weight%22%3A%203%7D%0A%20%20%20%20%20%20%20%20%20%20%20%20%29.addTo%28map_a1d00f7722f64a9393b48021895cff65%29%3B%0A%20%20%20%20%20%20%20%20%0A%20%20%20%20%0A%20%20%20%20%20%20%20%20%20%20%20%20circle_420a958109324ae8b42ea0d6ea4033f0.bindTooltip%28%0A%20%20%20%20%20%20%20%20%20%20%20%20%20%20%20%20%60%3Cdiv%3E%0A%20%20%20%20%20%20%20%20%20%20%20%20%20%20%20%20%20%20%20%20%20%3Cdiv%20style%3D%27margin%3A%200%3B%20background-color%3A%20black%3B%20color%3A%20white%3B%27%3E%3Ch4%20style%3D%27text-align%3Acenter%3Bfont-weight%3A%20bold%27%3EUnited%20Kingdom%3C/h4%3E%3Chr%20style%3D%27margin%3A10px%3Bcolor%3A%20white%3B%27%3E%3Cul%20style%3D%27color%3A%20white%3B%3Blist-style-type%3Acircle%3Balign-item%3Aleft%3Bpadding-left%3A20px%3Bpadding-right%3A20px%27%3E%3Cli%3EConfirmed%3A%204%3C/li%3E%3Cli%3EDeaths%3A%20%20%2029%3C/li%3E%3Cli%3EDeath%20Rate%3A%20580.0%3C/li%3E%3C/ul%3E%3C/div%3E%0A%20%20%20%20%20%20%20%20%20%20%20%20%20%20%20%20%20%3C/div%3E%60%2C%0A%20%20%20%20%20%20%20%20%20%20%20%20%20%20%20%20%7B%22sticky%22%3A%20true%7D%0A%20%20%20%20%20%20%20%20%20%20%20%20%29%3B%0A%20%20%20%20%20%20%20%20%0A%20%20%20%20%0A%20%20%20%20%20%20%20%20%20%20%20%20var%20circle_b58fa6b71e2a451f945ab2a412f1188d%20%3D%20L.circle%28%0A%20%20%20%20%20%20%20%20%20%20%20%20%20%20%20%20%5B21.694000000000003%2C%20-71.7979%5D%2C%0A%20%20%20%20%20%20%20%20%20%20%20%20%20%20%20%20%7B%22bubblingMouseEvents%22%3A%20true%2C%20%22color%22%3A%20%22red%22%2C%20%22dashArray%22%3A%20null%2C%20%22dashOffset%22%3A%20null%2C%20%22fill%22%3A%20true%2C%20%22fillColor%22%3A%20%22indigo%22%2C%20%22fillOpacity%22%3A%200.2%2C%20%22fillRule%22%3A%20%22evenodd%22%2C%20%22lineCap%22%3A%20%22round%22%2C%20%22lineJoin%22%3A%20%22round%22%2C%20%22opacity%22%3A%201.0%2C%20%22radius%22%3A%2036000.0%2C%20%22stroke%22%3A%20true%2C%20%22weight%22%3A%203%7D%0A%20%20%20%20%20%20%20%20%20%20%20%20%29.addTo%28map_a1d00f7722f64a9393b48021895cff65%29%3B%0A%20%20%20%20%20%20%20%20%0A%20%20%20%20%0A%20%20%20%20%20%20%20%20%20%20%20%20circle_b58fa6b71e2a451f945ab2a412f1188d.bindTooltip%28%0A%20%20%20%20%20%20%20%20%20%20%20%20%20%20%20%20%60%3Cdiv%3E%0A%20%20%20%20%20%20%20%20%20%20%20%20%20%20%20%20%20%20%20%20%20%3Cdiv%20style%3D%27margin%3A%200%3B%20background-color%3A%20black%3B%20color%3A%20white%3B%27%3E%3Ch4%20style%3D%27text-align%3Acenter%3Bfont-weight%3A%20bold%27%3EUnited%20Kingdom%3C/h4%3E%3Chr%20style%3D%27margin%3A10px%3Bcolor%3A%20white%3B%27%3E%3Cul%20style%3D%27color%3A%20white%3B%3Blist-style-type%3Acircle%3Balign-item%3Aleft%3Bpadding-left%3A20px%3Bpadding-right%3A20px%27%3E%3Cli%3EConfirmed%3A%202400%3C/li%3E%3Cli%3EDeaths%3A%20%20%201%3C/li%3E%3Cli%3EDeath%20Rate%3A%200.04%3C/li%3E%3C/ul%3E%3C/div%3E%0A%20%20%20%20%20%20%20%20%20%20%20%20%20%20%20%20%20%3C/div%3E%60%2C%0A%20%20%20%20%20%20%20%20%20%20%20%20%20%20%20%20%7B%22sticky%22%3A%20true%7D%0A%20%20%20%20%20%20%20%20%20%20%20%20%29%3B%0A%20%20%20%20%20%20%20%20%0A%20%20%20%20%0A%20%20%20%20%20%20%20%20%20%20%20%20var%20circle_91b97da3676d490388fc7bb31d65c80f%20%3D%20L.circle%28%0A%20%20%20%20%20%20%20%20%20%20%20%20%20%20%20%20%5B55.3781%2C%20-3.4360000000000004%5D%2C%0A%20%20%20%20%20%20%20%20%20%20%20%20%20%20%20%20%7B%22bubblingMouseEvents%22%3A%20true%2C%20%22color%22%3A%20%22red%22%2C%20%22dashArray%22%3A%20null%2C%20%22dashOffset%22%3A%20null%2C%20%22fill%22%3A%20true%2C%20%22fillColor%22%3A%20%22indigo%22%2C%20%22fillOpacity%22%3A%200.2%2C%20%22fillRule%22%3A%20%22evenodd%22%2C%20%22lineCap%22%3A%20%22round%22%2C%20%22lineJoin%22%3A%20%22round%22%2C%20%22opacity%22%3A%201.0%2C%20%22radius%22%3A%2076000.0%2C%20%22stroke%22%3A%20true%2C%20%22weight%22%3A%203%7D%0A%20%20%20%20%20%20%20%20%20%20%20%20%29.addTo%28map_a1d00f7722f64a9393b48021895cff65%29%3B%0A%20%20%20%20%20%20%20%20%0A%20%20%20%20%0A%20%20%20%20%20%20%20%20%20%20%20%20circle_91b97da3676d490388fc7bb31d65c80f.bindTooltip%28%0A%20%20%20%20%20%20%20%20%20%20%20%20%20%20%20%20%60%3Cdiv%3E%0A%20%20%20%20%20%20%20%20%20%20%20%20%20%20%20%20%20%20%20%20%20%3Cdiv%20style%3D%27margin%3A%200%3B%20background-color%3A%20black%3B%20color%3A%20white%3B%27%3E%3Ch4%20style%3D%27text-align%3Acenter%3Bfont-weight%3A%20bold%27%3EUnited%20Kingdom%3C/h4%3E%3Chr%20style%3D%27margin%3A10px%3Bcolor%3A%20white%3B%27%3E%3Cul%20style%3D%27color%3A%20white%3B%3Blist-style-type%3Acircle%3Balign-item%3Aleft%3Bpadding-left%3A20px%3Bpadding-right%3A20px%27%3E%3Cli%3EConfirmed%3A%204425940%3C/li%3E%3Cli%3EDeaths%3A%20%20%200%3C/li%3E%3Cli%3EDeath%20Rate%3A%200.0%3C/li%3E%3C/ul%3E%3C/div%3E%0A%20%20%20%20%20%20%20%20%20%20%20%20%20%20%20%20%20%3C/div%3E%60%2C%0A%20%20%20%20%20%20%20%20%20%20%20%20%20%20%20%20%7B%22sticky%22%3A%20true%7D%0A%20%20%20%20%20%20%20%20%20%20%20%20%29%3B%0A%20%20%20%20%20%20%20%20%0A%20%20%20%20%0A%20%20%20%20%20%20%20%20%20%20%20%20var%20circle_9e54a560a22e4369842772cdc925e317%20%3D%20L.circle%28%0A%20%20%20%20%20%20%20%20%20%20%20%20%20%20%20%20%5B-32.5228%2C%20-55.7658%5D%2C%0A%20%20%20%20%20%20%20%20%20%20%20%20%20%20%20%20%7B%22bubblingMouseEvents%22%3A%20true%2C%20%22color%22%3A%20%22red%22%2C%20%22dashArray%22%3A%20null%2C%20%22dashOffset%22%3A%20null%2C%20%22fill%22%3A%20true%2C%20%22fillColor%22%3A%20%22indigo%22%2C%20%22fillOpacity%22%3A%200.2%2C%20%22fillRule%22%3A%20%22evenodd%22%2C%20%22lineCap%22%3A%20%22round%22%2C%20%22lineJoin%22%3A%20%22round%22%2C%20%22opacity%22%3A%201.0%2C%20%22radius%22%3A%2061000.0%2C%20%22stroke%22%3A%20true%2C%20%22weight%22%3A%203%7D%0A%20%20%20%20%20%20%20%20%20%20%20%20%29.addTo%28map_a1d00f7722f64a9393b48021895cff65%29%3B%0A%20%20%20%20%20%20%20%20%0A%20%20%20%20%0A%20%20%20%20%20%20%20%20%20%20%20%20circle_9e54a560a22e4369842772cdc925e317.bindTooltip%28%0A%20%20%20%20%20%20%20%20%20%20%20%20%20%20%20%20%60%3Cdiv%3E%0A%20%20%20%20%20%20%20%20%20%20%20%20%20%20%20%20%20%20%20%20%20%3Cdiv%20style%3D%27margin%3A%200%3B%20background-color%3A%20black%3B%20color%3A%20white%3B%27%3E%3Ch4%20style%3D%27text-align%3Acenter%3Bfont-weight%3A%20bold%27%3EUruguay%3C/h4%3E%3Chr%20style%3D%27margin%3A10px%3Bcolor%3A%20white%3B%27%3E%3Cul%20style%3D%27color%3A%20white%3B%3Blist-style-type%3Acircle%3Balign-item%3Aleft%3Bpadding-left%3A20px%3Bpadding-right%3A20px%27%3E%3Cli%3EConfirmed%3A%20209867%3C/li%3E%3Cli%3EDeaths%3A%20%20%2017%3C/li%3E%3Cli%3EDeath%20Rate%3A%200.01%3C/li%3E%3C/ul%3E%3C/div%3E%0A%20%20%20%20%20%20%20%20%20%20%20%20%20%20%20%20%20%3C/div%3E%60%2C%0A%20%20%20%20%20%20%20%20%20%20%20%20%20%20%20%20%7B%22sticky%22%3A%20true%7D%0A%20%20%20%20%20%20%20%20%20%20%20%20%29%3B%0A%20%20%20%20%20%20%20%20%0A%20%20%20%20%0A%20%20%20%20%20%20%20%20%20%20%20%20var%20circle_130b21751be144458dcf711935aa4303%20%3D%20L.circle%28%0A%20%20%20%20%20%20%20%20%20%20%20%20%20%20%20%20%5B41.377491%2C%2064.585262%5D%2C%0A%20%20%20%20%20%20%20%20%20%20%20%20%20%20%20%20%7B%22bubblingMouseEvents%22%3A%20true%2C%20%22color%22%3A%20%22red%22%2C%20%22dashArray%22%3A%20null%2C%20%22dashOffset%22%3A%20null%2C%20%22fill%22%3A%20true%2C%20%22fillColor%22%3A%20%22indigo%22%2C%20%22fillOpacity%22%3A%200.2%2C%20%22fillRule%22%3A%20%22evenodd%22%2C%20%22lineCap%22%3A%20%22round%22%2C%20%22lineJoin%22%3A%20%22round%22%2C%20%22opacity%22%3A%201.0%2C%20%22radius%22%3A%2056000.0%2C%20%22stroke%22%3A%20true%2C%20%22weight%22%3A%203%7D%0A%20%20%20%20%20%20%20%20%20%20%20%20%29.addTo%28map_a1d00f7722f64a9393b48021895cff65%29%3B%0A%20%20%20%20%20%20%20%20%0A%20%20%20%20%0A%20%20%20%20%20%20%20%20%20%20%20%20circle_130b21751be144458dcf711935aa4303.bindTooltip%28%0A%20%20%20%20%20%20%20%20%20%20%20%20%20%20%20%20%60%3Cdiv%3E%0A%20%20%20%20%20%20%20%20%20%20%20%20%20%20%20%20%20%20%20%20%20%3Cdiv%20style%3D%27margin%3A%200%3B%20background-color%3A%20black%3B%20color%3A%20white%3B%27%3E%3Ch4%20style%3D%27text-align%3Acenter%3Bfont-weight%3A%20bold%27%3EUzbekistan%3C/h4%3E%3Chr%20style%3D%27margin%3A10px%3Bcolor%3A%20white%3B%27%3E%3Cul%20style%3D%27color%3A%20white%3B%3Blist-style-type%3Acircle%3Balign-item%3Aleft%3Bpadding-left%3A20px%3Bpadding-right%3A20px%27%3E%3Cli%3EConfirmed%3A%2092724%3C/li%3E%3Cli%3EDeaths%3A%20%20%20127570%3C/li%3E%3Cli%3EDeath%20Rate%3A%20137.58%3C/li%3E%3C/ul%3E%3C/div%3E%0A%20%20%20%20%20%20%20%20%20%20%20%20%20%20%20%20%20%3C/div%3E%60%2C%0A%20%20%20%20%20%20%20%20%20%20%20%20%20%20%20%20%7B%22sticky%22%3A%20true%7D%0A%20%20%20%20%20%20%20%20%20%20%20%20%29%3B%0A%20%20%20%20%20%20%20%20%0A%20%20%20%20%0A%20%20%20%20%20%20%20%20%20%20%20%20var%20circle_5c1d136ad2da4b01a0ed1f67fa714182%20%3D%20L.circle%28%0A%20%20%20%20%20%20%20%20%20%20%20%20%20%20%20%20%5B-15.3767%2C%20166.9592%5D%2C%0A%20%20%20%20%20%20%20%20%20%20%20%20%20%20%20%20%7B%22bubblingMouseEvents%22%3A%20true%2C%20%22color%22%3A%20%22red%22%2C%20%22dashArray%22%3A%20null%2C%20%22dashOffset%22%3A%20null%2C%20%22fill%22%3A%20true%2C%20%22fillColor%22%3A%20%22indigo%22%2C%20%22fillOpacity%22%3A%200.2%2C%20%22fillRule%22%3A%20%22evenodd%22%2C%20%22lineCap%22%3A%20%22round%22%2C%20%22lineJoin%22%3A%20%22round%22%2C%20%22opacity%22%3A%201.0%2C%20%22radius%22%3A%206000.0%2C%20%22stroke%22%3A%20true%2C%20%22weight%22%3A%203%7D%0A%20%20%20%20%20%20%20%20%20%20%20%20%29.addTo%28map_a1d00f7722f64a9393b48021895cff65%29%3B%0A%20%20%20%20%20%20%20%20%0A%20%20%20%20%0A%20%20%20%20%20%20%20%20%20%20%20%20circle_5c1d136ad2da4b01a0ed1f67fa714182.bindTooltip%28%0A%20%20%20%20%20%20%20%20%20%20%20%20%20%20%20%20%60%3Cdiv%3E%0A%20%20%20%20%20%20%20%20%20%20%20%20%20%20%20%20%20%20%20%20%20%3Cdiv%20style%3D%27margin%3A%200%3B%20background-color%3A%20black%3B%20color%3A%20white%3B%27%3E%3Ch4%20style%3D%27text-align%3Acenter%3Bfont-weight%3A%20bold%27%3EVanuatu%3C/h4%3E%3Chr%20style%3D%27margin%3A10px%3Bcolor%3A%20white%3B%27%3E%3Cul%20style%3D%27color%3A%20white%3B%3Blist-style-type%3Acircle%3Balign-item%3Aleft%3Bpadding-left%3A20px%3Bpadding-right%3A20px%27%3E%3Cli%3EConfirmed%3A%204%3C/li%3E%3Cli%3EDeaths%3A%20%20%202918%3C/li%3E%3Cli%3EDeath%20Rate%3A%2058359.88%3C/li%3E%3C/ul%3E%3C/div%3E%0A%20%20%20%20%20%20%20%20%20%20%20%20%20%20%20%20%20%3C/div%3E%60%2C%0A%20%20%20%20%20%20%20%20%20%20%20%20%20%20%20%20%7B%22sticky%22%3A%20true%7D%0A%20%20%20%20%20%20%20%20%20%20%20%20%29%3B%0A%20%20%20%20%20%20%20%20%0A%20%20%20%20%0A%20%20%20%20%20%20%20%20%20%20%20%20var%20circle_7215623479704f3d8113dc59ef353a4e%20%3D%20L.circle%28%0A%20%20%20%20%20%20%20%20%20%20%20%20%20%20%20%20%5B6.4238%2C%20-66.5897%5D%2C%0A%20%20%20%20%20%20%20%20%20%20%20%20%20%20%20%20%7B%22bubblingMouseEvents%22%3A%20true%2C%20%22color%22%3A%20%22red%22%2C%20%22dashArray%22%3A%20null%2C%20%22dashOffset%22%3A%20null%2C%20%22fill%22%3A%20true%2C%20%22fillColor%22%3A%20%22indigo%22%2C%20%22fillOpacity%22%3A%200.2%2C%20%22fillRule%22%3A%20%22evenodd%22%2C%20%22lineCap%22%3A%20%22round%22%2C%20%22lineJoin%22%3A%20%22round%22%2C%20%22opacity%22%3A%201.0%2C%20%22radius%22%3A%2061000.0%2C%20%22stroke%22%3A%20true%2C%20%22weight%22%3A%203%7D%0A%20%20%20%20%20%20%20%20%20%20%20%20%29.addTo%28map_a1d00f7722f64a9393b48021895cff65%29%3B%0A%20%20%20%20%20%20%20%20%0A%20%20%20%20%0A%20%20%20%20%20%20%20%20%20%20%20%20circle_7215623479704f3d8113dc59ef353a4e.bindTooltip%28%0A%20%20%20%20%20%20%20%20%20%20%20%20%20%20%20%20%60%3Cdiv%3E%0A%20%20%20%20%20%20%20%20%20%20%20%20%20%20%20%20%20%20%20%20%20%3Cdiv%20style%3D%27margin%3A%200%3B%20background-color%3A%20black%3B%20color%3A%20white%3B%27%3E%3Ch4%20style%3D%27text-align%3Acenter%3Bfont-weight%3A%20bold%27%3EVenezuela%3C/h4%3E%3Chr%20style%3D%27margin%3A10px%3Bcolor%3A%20white%3B%27%3E%3Cul%20style%3D%27color%3A%20white%3B%3Blist-style-type%3Acircle%3Balign-item%3Aleft%3Bpadding-left%3A20px%3Bpadding-right%3A20px%27%3E%3Cli%3EConfirmed%3A%20202578%3C/li%3E%3Cli%3EDeaths%3A%20%20%20655%3C/li%3E%3Cli%3EDeath%20Rate%3A%200.32%3C/li%3E%3C/ul%3E%3C/div%3E%0A%20%20%20%20%20%20%20%20%20%20%20%20%20%20%20%20%20%3C/div%3E%60%2C%0A%20%20%20%20%20%20%20%20%20%20%20%20%20%20%20%20%7B%22sticky%22%3A%20true%7D%0A%20%20%20%20%20%20%20%20%20%20%20%20%29%3B%0A%20%20%20%20%20%20%20%20%0A%20%20%20%20%0A%20%20%20%20%20%20%20%20%20%20%20%20var%20circle_427bb17a0f0f420d936c40d0f0188f15%20%3D%20L.circle%28%0A%20%20%20%20%20%20%20%20%20%20%20%20%20%20%20%20%5B14.058323999999999%2C%20108.277199%5D%2C%0A%20%20%20%20%20%20%20%20%20%20%20%20%20%20%20%20%7B%22bubblingMouseEvents%22%3A%20true%2C%20%22color%22%3A%20%22red%22%2C%20%22dashArray%22%3A%20null%2C%20%22dashOffset%22%3A%20null%2C%20%22fill%22%3A%20true%2C%20%22fillColor%22%3A%20%22indigo%22%2C%20%22fillOpacity%22%3A%200.2%2C%20%22fillRule%22%3A%20%22evenodd%22%2C%20%22lineCap%22%3A%20%22round%22%2C%20%22lineJoin%22%3A%20%22round%22%2C%20%22opacity%22%3A%201.0%2C%20%22radius%22%3A%2041000.0%2C%20%22stroke%22%3A%20true%2C%20%22weight%22%3A%203%7D%0A%20%20%20%20%20%20%20%20%20%20%20%20%29.addTo%28map_a1d00f7722f64a9393b48021895cff65%29%3B%0A%20%20%20%20%20%20%20%20%0A%20%20%20%20%0A%20%20%20%20%20%20%20%20%20%20%20%20circle_427bb17a0f0f420d936c40d0f0188f15.bindTooltip%28%0A%20%20%20%20%20%20%20%20%20%20%20%20%20%20%20%20%60%3Cdiv%3E%0A%20%20%20%20%20%20%20%20%20%20%20%20%20%20%20%20%20%20%20%20%20%3Cdiv%20style%3D%27margin%3A%200%3B%20background-color%3A%20black%3B%20color%3A%20white%3B%27%3E%3Ch4%20style%3D%27text-align%3Acenter%3Bfont-weight%3A%20bold%27%3EVietnam%3C/h4%3E%3Chr%20style%3D%27margin%3A10px%3Bcolor%3A%20white%3B%27%3E%3Cul%20style%3D%27color%3A%20white%3B%3Blist-style-type%3Acircle%3Balign-item%3Aleft%3Bpadding-left%3A20px%3Bpadding-right%3A20px%27%3E%3Cli%3EConfirmed%3A%203030%3C/li%3E%3Cli%3EDeaths%3A%20%20%201%3C/li%3E%3Cli%3EDeath%20Rate%3A%200.03%3C/li%3E%3C/ul%3E%3C/div%3E%0A%20%20%20%20%20%20%20%20%20%20%20%20%20%20%20%20%20%3C/div%3E%60%2C%0A%20%20%20%20%20%20%20%20%20%20%20%20%20%20%20%20%7B%22sticky%22%3A%20true%7D%0A%20%20%20%20%20%20%20%20%20%20%20%20%29%3B%0A%20%20%20%20%20%20%20%20%0A%20%20%20%20%0A%20%20%20%20%20%20%20%20%20%20%20%20var%20circle_af2407fff15646fa9d9c5454dd5493cd%20%3D%20L.circle%28%0A%20%20%20%20%20%20%20%20%20%20%20%20%20%20%20%20%5B31.9522%2C%2035.2332%5D%2C%0A%20%20%20%20%20%20%20%20%20%20%20%20%20%20%20%20%7B%22bubblingMouseEvents%22%3A%20true%2C%20%22color%22%3A%20%22red%22%2C%20%22dashArray%22%3A%20null%2C%20%22dashOffset%22%3A%20null%2C%20%22fill%22%3A%20true%2C%20%22fillColor%22%3A%20%22indigo%22%2C%20%22fillOpacity%22%3A%200.2%2C%20%22fillRule%22%3A%20%22evenodd%22%2C%20%22lineCap%22%3A%20%22round%22%2C%20%22lineJoin%22%3A%20%22round%22%2C%20%22opacity%22%3A%201.0%2C%20%22radius%22%3A%2061000.0%2C%20%22stroke%22%3A%20true%2C%20%22weight%22%3A%203%7D%0A%20%20%20%20%20%20%20%20%20%20%20%20%29.addTo%28map_a1d00f7722f64a9393b48021895cff65%29%3B%0A%20%20%20%20%20%20%20%20%0A%20%20%20%20%0A%20%20%20%20%20%20%20%20%20%20%20%20circle_af2407fff15646fa9d9c5454dd5493cd.bindTooltip%28%0A%20%20%20%20%20%20%20%20%20%20%20%20%20%20%20%20%60%3Cdiv%3E%0A%20%20%20%20%20%20%20%20%20%20%20%20%20%20%20%20%20%20%20%20%20%3Cdiv%20style%3D%27margin%3A%200%3B%20background-color%3A%20black%3B%20color%3A%20white%3B%27%3E%3Ch4%20style%3D%27text-align%3Acenter%3Bfont-weight%3A%20bold%27%3EWest%20Bank%20and%20Gaza%3C/h4%3E%3Chr%20style%3D%27margin%3A10px%3Bcolor%3A%20white%3B%27%3E%3Cul%20style%3D%27color%3A%20white%3B%3Blist-style-type%3Acircle%3Balign-item%3Aleft%3Bpadding-left%3A20px%3Bpadding-right%3A20px%27%3E%3Cli%3EConfirmed%3A%20299736%3C/li%3E%3Cli%3EDeaths%3A%20%20%202226%3C/li%3E%3Cli%3EDeath%20Rate%3A%200.74%3C/li%3E%3C/ul%3E%3C/div%3E%0A%20%20%20%20%20%20%20%20%20%20%20%20%20%20%20%20%20%3C/div%3E%60%2C%0A%20%20%20%20%20%20%20%20%20%20%20%20%20%20%20%20%7B%22sticky%22%3A%20true%7D%0A%20%20%20%20%20%20%20%20%20%20%20%20%29%3B%0A%20%20%20%20%20%20%20%20%0A%20%20%20%20%0A%20%20%20%20%20%20%20%20%20%20%20%20var%20circle_f2a5d6125209416286af96d9575d63ef%20%3D%20L.circle%28%0A%20%20%20%20%20%20%20%20%20%20%20%20%20%20%20%20%5B15.552726999999999%2C%2048.516388%5D%2C%0A%20%20%20%20%20%20%20%20%20%20%20%20%20%20%20%20%7B%22bubblingMouseEvents%22%3A%20true%2C%20%22color%22%3A%20%22red%22%2C%20%22dashArray%22%3A%20null%2C%20%22dashOffset%22%3A%20null%2C%20%22fill%22%3A%20true%2C%20%22fillColor%22%3A%20%22indigo%22%2C%20%22fillOpacity%22%3A%200.2%2C%20%22fillRule%22%3A%20%22evenodd%22%2C%20%22lineCap%22%3A%20%22round%22%2C%20%22lineJoin%22%3A%20%22round%22%2C%20%22opacity%22%3A%201.0%2C%20%22radius%22%3A%2041000.0%2C%20%22stroke%22%3A%20true%2C%20%22weight%22%3A%203%7D%0A%20%20%20%20%20%20%20%20%20%20%20%20%29.addTo%28map_a1d00f7722f64a9393b48021895cff65%29%3B%0A%20%20%20%20%20%20%20%20%0A%20%20%20%20%0A%20%20%20%20%20%20%20%20%20%20%20%20circle_f2a5d6125209416286af96d9575d63ef.bindTooltip%28%0A%20%20%20%20%20%20%20%20%20%20%20%20%20%20%20%20%60%3Cdiv%3E%0A%20%20%20%20%20%20%20%20%20%20%20%20%20%20%20%20%20%20%20%20%20%3Cdiv%20style%3D%27margin%3A%200%3B%20background-color%3A%20black%3B%20color%3A%20white%3B%27%3E%3Ch4%20style%3D%27text-align%3Acenter%3Bfont-weight%3A%20bold%27%3EYemen%3C/h4%3E%3Chr%20style%3D%27margin%3A10px%3Bcolor%3A%20white%3B%27%3E%3Cul%20style%3D%27color%3A%20white%3B%3Blist-style-type%3Acircle%3Balign-item%3Aleft%3Bpadding-left%3A20px%3Bpadding-right%3A20px%27%3E%3Cli%3EConfirmed%3A%206414%3C/li%3E%3Cli%3EDeaths%3A%20%20%2035%3C/li%3E%3Cli%3EDeath%20Rate%3A%200.55%3C/li%3E%3C/ul%3E%3C/div%3E%0A%20%20%20%20%20%20%20%20%20%20%20%20%20%20%20%20%20%3C/div%3E%60%2C%0A%20%20%20%20%20%20%20%20%20%20%20%20%20%20%20%20%7B%22sticky%22%3A%20true%7D%0A%20%20%20%20%20%20%20%20%20%20%20%20%29%3B%0A%20%20%20%20%20%20%20%20%0A%20%20%20%20%0A%20%20%20%20%20%20%20%20%20%20%20%20var%20circle_5623cd6e97ae4f54b4d3b687d43cf1a6%20%3D%20L.circle%28%0A%20%20%20%20%20%20%20%20%20%20%20%20%20%20%20%20%5B-13.133897%2C%2027.849332%5D%2C%0A%20%20%20%20%20%20%20%20%20%20%20%20%20%20%20%20%7B%22bubblingMouseEvents%22%3A%20true%2C%20%22color%22%3A%20%22red%22%2C%20%22dashArray%22%3A%20null%2C%20%22dashOffset%22%3A%20null%2C%20%22fill%22%3A%20true%2C%20%22fillColor%22%3A%20%22indigo%22%2C%20%22fillOpacity%22%3A%200.2%2C%20%22fillRule%22%3A%20%22evenodd%22%2C%20%22lineCap%22%3A%20%22round%22%2C%20%22lineJoin%22%3A%20%22round%22%2C%20%22opacity%22%3A%201.0%2C%20%22radius%22%3A%2056000.0%2C%20%22stroke%22%3A%20true%2C%20%22weight%22%3A%203%7D%0A%20%20%20%20%20%20%20%20%20%20%20%20%29.addTo%28map_a1d00f7722f64a9393b48021895cff65%29%3B%0A%20%20%20%20%20%20%20%20%0A%20%20%20%20%0A%20%20%20%20%20%20%20%20%20%20%20%20circle_5623cd6e97ae4f54b4d3b687d43cf1a6.bindTooltip%28%0A%20%20%20%20%20%20%20%20%20%20%20%20%20%20%20%20%60%3Cdiv%3E%0A%20%20%20%20%20%20%20%20%20%20%20%20%20%20%20%20%20%20%20%20%20%3Cdiv%20style%3D%27margin%3A%200%3B%20background-color%3A%20black%3B%20color%3A%20white%3B%27%3E%3Ch4%20style%3D%27text-align%3Acenter%3Bfont-weight%3A%20bold%27%3EZambia%3C/h4%3E%3Chr%20style%3D%27margin%3A10px%3Bcolor%3A%20white%3B%27%3E%3Cul%20style%3D%27color%3A%20white%3B%3Blist-style-type%3Acircle%3Balign-item%3Aleft%3Bpadding-left%3A20px%3Bpadding-right%3A20px%27%3E%3Cli%3EConfirmed%3A%2091849%3C/li%3E%3Cli%3EDeaths%3A%20%20%203317%3C/li%3E%3Cli%3EDeath%20Rate%3A%203.61%3C/li%3E%3C/ul%3E%3C/div%3E%0A%20%20%20%20%20%20%20%20%20%20%20%20%20%20%20%20%20%3C/div%3E%60%2C%0A%20%20%20%20%20%20%20%20%20%20%20%20%20%20%20%20%7B%22sticky%22%3A%20true%7D%0A%20%20%20%20%20%20%20%20%20%20%20%20%29%3B%0A%20%20%20%20%20%20%20%20%0A%20%20%20%20%0A%20%20%20%20%20%20%20%20%20%20%20%20var%20circle_0c3bc14541ba4d2996159ceb25b91340%20%3D%20L.circle%28%0A%20%20%20%20%20%20%20%20%20%20%20%20%20%20%20%20%5B-19.015438%2C%2029.154857%5D%2C%0A%20%20%20%20%20%20%20%20%20%20%20%20%20%20%20%20%7B%22bubblingMouseEvents%22%3A%20true%2C%20%22color%22%3A%20%22red%22%2C%20%22dashArray%22%3A%20null%2C%20%22dashOffset%22%3A%20null%2C%20%22fill%22%3A%20true%2C%20%22fillColor%22%3A%20%22indigo%22%2C%20%22fillOpacity%22%3A%200.2%2C%20%22fillRule%22%3A%20%22evenodd%22%2C%20%22lineCap%22%3A%20%22round%22%2C%20%22lineJoin%22%3A%20%22round%22%2C%20%22opacity%22%3A%201.0%2C%20%22radius%22%3A%2051000.0%2C%20%22stroke%22%3A%20true%2C%20%22weight%22%3A%203%7D%0A%20%20%20%20%20%20%20%20%20%20%20%20%29.addTo%28map_a1d00f7722f64a9393b48021895cff65%29%3B%0A%20%20%20%20%20%20%20%20%0A%20%20%20%20%0A%20%20%20%20%20%20%20%20%20%20%20%20circle_0c3bc14541ba4d2996159ceb25b91340.bindTooltip%28%0A%20%20%20%20%20%20%20%20%20%20%20%20%20%20%20%20%60%3Cdiv%3E%0A%20%20%20%20%20%20%20%20%20%20%20%20%20%20%20%20%20%20%20%20%20%3Cdiv%20style%3D%27margin%3A%200%3B%20background-color%3A%20black%3B%20color%3A%20white%3B%27%3E%3Ch4%20style%3D%27text-align%3Acenter%3Bfont-weight%3A%20bold%27%3EZimbabwe%3C/h4%3E%3Chr%20style%3D%27margin%3A10px%3Bcolor%3A%20white%3B%27%3E%3Cul%20style%3D%27color%3A%20white%3B%3Blist-style-type%3Acircle%3Balign-item%3Aleft%3Bpadding-left%3A20px%3Bpadding-right%3A20px%27%3E%3Cli%3EConfirmed%3A%2038357%3C/li%3E%3Cli%3EDeaths%3A%20%20%201260%3C/li%3E%3Cli%3EDeath%20Rate%3A%203.28%3C/li%3E%3C/ul%3E%3C/div%3E%0A%20%20%20%20%20%20%20%20%20%20%20%20%20%20%20%20%20%3C/div%3E%60%2C%0A%20%20%20%20%20%20%20%20%20%20%20%20%20%20%20%20%7B%22sticky%22%3A%20true%7D%0A%20%20%20%20%20%20%20%20%20%20%20%20%29%3B%0A%20%20%20%20%20%20%20%20%0A%3C/script%3E onload=\"this.contentDocument.open();this.contentDocument.write(    decodeURIComponent(this.getAttribute('data-html')));this.contentDocument.close();\" allowfullscreen webkitallowfullscreen mozallowfullscreen></iframe></div></div>"
      ],
      "text/plain": [
       "<folium.folium.Map at 0x1f809df6ac0>"
      ]
     },
     "execution_count": 45,
     "metadata": {},
     "output_type": "execute_result"
    }
   ],
   "source": [
    "# Using Folium to spread of COVID19 cases over the world\n",
    "world_map = folium.Map(location=[11,0], tiles=\"cartodbpositron\", zoom_start=2, max_zoom = 6, min_zoom = 2)\n",
    "\n",
    "\n",
    "for i in range(0,len(confirmed_df)):\n",
    "    folium.Circle(\n",
    "        location=[confirmed_df.iloc[i]['lat'], confirmed_df.iloc[i]['long']],\n",
    "        fill=True,\n",
    "        radius=(int((np.log(confirmed_df.iloc[i,-1]+1.00001)))+0.2)*5000,\n",
    "        color='red',\n",
    "        fill_color='indigo',\n",
    "        tooltip = \"<div style='margin: 0; background-color: black; color: white;'>\"+\n",
    "                    \"<h4 style='text-align:center;font-weight: bold'>\"+confirmed_df.iloc[i]['country'] + \"</h4>\"\n",
    "                    \"<hr style='margin:10px;color: white;'>\"+\n",
    "                    \"<ul style='color: white;;list-style-type:circle;align-item:left;padding-left:20px;padding-right:20px'>\"+\n",
    "                        \"<li>Confirmed: \"+str(confirmed_df.iloc[i,-1])+\"</li>\"+\n",
    "                        \"<li>Deaths:   \"+str(death_df.iloc[i,-1])+\"</li>\"+\n",
    "                        \"<li>Death Rate: \"+ str(np.round(death_df.iloc[i,-1]/(confirmed_df.iloc[i,-1]+1.00001)*100,2))+ \"</li>\"+\n",
    "                    \"</ul></div>\",\n",
    "        ).add_to(world_map)\n",
    "\n",
    "world_map\n"
   ]
  },
  {
   "cell_type": "markdown",
   "metadata": {},
   "source": [
    " "
   ]
  },
  {
   "cell_type": "markdown",
   "metadata": {},
   "source": [
    "## Global spread of COVID-19 using Plotly"
   ]
  },
  {
   "cell_type": "code",
   "execution_count": 46,
   "metadata": {},
   "outputs": [
    {
     "data": {
      "application/vnd.plotly.v1+json": {
       "config": {
        "plotlyServerURL": "https://plot.ly"
       },
       "data": [
        {
         "hovertemplate": "country=Afghanistan<br>lat=%{lat}<br>long=%{lon}<extra></extra>",
         "lat": [
          33.93911
         ],
         "legendgroup": "Afghanistan",
         "lon": [
          67.709953
         ],
         "marker": {
          "color": "#636efa"
         },
         "mode": "markers",
         "name": "Afghanistan",
         "showlegend": true,
         "subplot": "mapbox",
         "type": "scattermapbox"
        },
        {
         "hovertemplate": "country=Albania<br>lat=%{lat}<br>long=%{lon}<extra></extra>",
         "lat": [
          41.1533
         ],
         "legendgroup": "Albania",
         "lon": [
          20.1683
         ],
         "marker": {
          "color": "#EF553B"
         },
         "mode": "markers",
         "name": "Albania",
         "showlegend": true,
         "subplot": "mapbox",
         "type": "scattermapbox"
        },
        {
         "hovertemplate": "country=Algeria<br>lat=%{lat}<br>long=%{lon}<extra></extra>",
         "lat": [
          28.0339
         ],
         "legendgroup": "Algeria",
         "lon": [
          1.6596
         ],
         "marker": {
          "color": "#00cc96"
         },
         "mode": "markers",
         "name": "Algeria",
         "showlegend": true,
         "subplot": "mapbox",
         "type": "scattermapbox"
        },
        {
         "hovertemplate": "country=Andorra<br>lat=%{lat}<br>long=%{lon}<extra></extra>",
         "lat": [
          42.5063
         ],
         "legendgroup": "Andorra",
         "lon": [
          1.5218
         ],
         "marker": {
          "color": "#ab63fa"
         },
         "mode": "markers",
         "name": "Andorra",
         "showlegend": true,
         "subplot": "mapbox",
         "type": "scattermapbox"
        },
        {
         "hovertemplate": "country=Angola<br>lat=%{lat}<br>long=%{lon}<extra></extra>",
         "lat": [
          -11.2027
         ],
         "legendgroup": "Angola",
         "lon": [
          17.8739
         ],
         "marker": {
          "color": "#FFA15A"
         },
         "mode": "markers",
         "name": "Angola",
         "showlegend": true,
         "subplot": "mapbox",
         "type": "scattermapbox"
        },
        {
         "hovertemplate": "country=Antigua and Barbuda<br>lat=%{lat}<br>long=%{lon}<extra></extra>",
         "lat": [
          17.0608
         ],
         "legendgroup": "Antigua and Barbuda",
         "lon": [
          -61.7964
         ],
         "marker": {
          "color": "#19d3f3"
         },
         "mode": "markers",
         "name": "Antigua and Barbuda",
         "showlegend": true,
         "subplot": "mapbox",
         "type": "scattermapbox"
        },
        {
         "hovertemplate": "country=Argentina<br>lat=%{lat}<br>long=%{lon}<extra></extra>",
         "lat": [
          -38.4161
         ],
         "legendgroup": "Argentina",
         "lon": [
          -63.6167
         ],
         "marker": {
          "color": "#FF6692"
         },
         "mode": "markers",
         "name": "Argentina",
         "showlegend": true,
         "subplot": "mapbox",
         "type": "scattermapbox"
        },
        {
         "hovertemplate": "country=Armenia<br>lat=%{lat}<br>long=%{lon}<extra></extra>",
         "lat": [
          40.0691
         ],
         "legendgroup": "Armenia",
         "lon": [
          45.0382
         ],
         "marker": {
          "color": "#B6E880"
         },
         "mode": "markers",
         "name": "Armenia",
         "showlegend": true,
         "subplot": "mapbox",
         "type": "scattermapbox"
        },
        {
         "hovertemplate": "country=Australia<br>lat=%{lat}<br>long=%{lon}<extra></extra>",
         "lat": [
          -35.4735,
          -33.8688,
          -12.4634,
          -27.4698,
          -34.9285,
          -42.8821,
          -37.8136,
          -31.9505
         ],
         "legendgroup": "Australia",
         "lon": [
          149.0124,
          151.2093,
          130.8456,
          153.0251,
          138.6007,
          147.3272,
          144.9631,
          115.8605
         ],
         "marker": {
          "color": "#FF97FF"
         },
         "mode": "markers",
         "name": "Australia",
         "showlegend": true,
         "subplot": "mapbox",
         "type": "scattermapbox"
        },
        {
         "hovertemplate": "country=Austria<br>lat=%{lat}<br>long=%{lon}<extra></extra>",
         "lat": [
          47.5162
         ],
         "legendgroup": "Austria",
         "lon": [
          14.5501
         ],
         "marker": {
          "color": "#FECB52"
         },
         "mode": "markers",
         "name": "Austria",
         "showlegend": true,
         "subplot": "mapbox",
         "type": "scattermapbox"
        },
        {
         "hovertemplate": "country=Azerbaijan<br>lat=%{lat}<br>long=%{lon}<extra></extra>",
         "lat": [
          40.1431
         ],
         "legendgroup": "Azerbaijan",
         "lon": [
          47.5769
         ],
         "marker": {
          "color": "#636efa"
         },
         "mode": "markers",
         "name": "Azerbaijan",
         "showlegend": true,
         "subplot": "mapbox",
         "type": "scattermapbox"
        },
        {
         "hovertemplate": "country=Bahamas<br>lat=%{lat}<br>long=%{lon}<extra></extra>",
         "lat": [
          25.025885
         ],
         "legendgroup": "Bahamas",
         "lon": [
          -78.035889
         ],
         "marker": {
          "color": "#EF553B"
         },
         "mode": "markers",
         "name": "Bahamas",
         "showlegend": true,
         "subplot": "mapbox",
         "type": "scattermapbox"
        },
        {
         "hovertemplate": "country=Bahrain<br>lat=%{lat}<br>long=%{lon}<extra></extra>",
         "lat": [
          26.0275
         ],
         "legendgroup": "Bahrain",
         "lon": [
          50.55
         ],
         "marker": {
          "color": "#00cc96"
         },
         "mode": "markers",
         "name": "Bahrain",
         "showlegend": true,
         "subplot": "mapbox",
         "type": "scattermapbox"
        },
        {
         "hovertemplate": "country=Bangladesh<br>lat=%{lat}<br>long=%{lon}<extra></extra>",
         "lat": [
          23.685
         ],
         "legendgroup": "Bangladesh",
         "lon": [
          90.3563
         ],
         "marker": {
          "color": "#ab63fa"
         },
         "mode": "markers",
         "name": "Bangladesh",
         "showlegend": true,
         "subplot": "mapbox",
         "type": "scattermapbox"
        },
        {
         "hovertemplate": "country=Barbados<br>lat=%{lat}<br>long=%{lon}<extra></extra>",
         "lat": [
          13.1939
         ],
         "legendgroup": "Barbados",
         "lon": [
          -59.5432
         ],
         "marker": {
          "color": "#FFA15A"
         },
         "mode": "markers",
         "name": "Barbados",
         "showlegend": true,
         "subplot": "mapbox",
         "type": "scattermapbox"
        },
        {
         "hovertemplate": "country=Belarus<br>lat=%{lat}<br>long=%{lon}<extra></extra>",
         "lat": [
          53.7098
         ],
         "legendgroup": "Belarus",
         "lon": [
          27.9534
         ],
         "marker": {
          "color": "#19d3f3"
         },
         "mode": "markers",
         "name": "Belarus",
         "showlegend": true,
         "subplot": "mapbox",
         "type": "scattermapbox"
        },
        {
         "hovertemplate": "country=Belgium<br>lat=%{lat}<br>long=%{lon}<extra></extra>",
         "lat": [
          50.8333
         ],
         "legendgroup": "Belgium",
         "lon": [
          4.469936
         ],
         "marker": {
          "color": "#FF6692"
         },
         "mode": "markers",
         "name": "Belgium",
         "showlegend": true,
         "subplot": "mapbox",
         "type": "scattermapbox"
        },
        {
         "hovertemplate": "country=Belize<br>lat=%{lat}<br>long=%{lon}<extra></extra>",
         "lat": [
          17.1899
         ],
         "legendgroup": "Belize",
         "lon": [
          -88.4976
         ],
         "marker": {
          "color": "#B6E880"
         },
         "mode": "markers",
         "name": "Belize",
         "showlegend": true,
         "subplot": "mapbox",
         "type": "scattermapbox"
        },
        {
         "hovertemplate": "country=Benin<br>lat=%{lat}<br>long=%{lon}<extra></extra>",
         "lat": [
          9.3077
         ],
         "legendgroup": "Benin",
         "lon": [
          2.3158
         ],
         "marker": {
          "color": "#FF97FF"
         },
         "mode": "markers",
         "name": "Benin",
         "showlegend": true,
         "subplot": "mapbox",
         "type": "scattermapbox"
        },
        {
         "hovertemplate": "country=Bhutan<br>lat=%{lat}<br>long=%{lon}<extra></extra>",
         "lat": [
          27.5142
         ],
         "legendgroup": "Bhutan",
         "lon": [
          90.4336
         ],
         "marker": {
          "color": "#FECB52"
         },
         "mode": "markers",
         "name": "Bhutan",
         "showlegend": true,
         "subplot": "mapbox",
         "type": "scattermapbox"
        },
        {
         "hovertemplate": "country=Bolivia<br>lat=%{lat}<br>long=%{lon}<extra></extra>",
         "lat": [
          -16.2902
         ],
         "legendgroup": "Bolivia",
         "lon": [
          -63.5887
         ],
         "marker": {
          "color": "#636efa"
         },
         "mode": "markers",
         "name": "Bolivia",
         "showlegend": true,
         "subplot": "mapbox",
         "type": "scattermapbox"
        },
        {
         "hovertemplate": "country=Bosnia and Herzegovina<br>lat=%{lat}<br>long=%{lon}<extra></extra>",
         "lat": [
          43.9159
         ],
         "legendgroup": "Bosnia and Herzegovina",
         "lon": [
          17.6791
         ],
         "marker": {
          "color": "#EF553B"
         },
         "mode": "markers",
         "name": "Bosnia and Herzegovina",
         "showlegend": true,
         "subplot": "mapbox",
         "type": "scattermapbox"
        },
        {
         "hovertemplate": "country=Botswana<br>lat=%{lat}<br>long=%{lon}<extra></extra>",
         "lat": [
          -22.3285
         ],
         "legendgroup": "Botswana",
         "lon": [
          24.6849
         ],
         "marker": {
          "color": "#00cc96"
         },
         "mode": "markers",
         "name": "Botswana",
         "showlegend": true,
         "subplot": "mapbox",
         "type": "scattermapbox"
        },
        {
         "hovertemplate": "country=Brazil<br>lat=%{lat}<br>long=%{lon}<extra></extra>",
         "lat": [
          -14.235
         ],
         "legendgroup": "Brazil",
         "lon": [
          -51.9253
         ],
         "marker": {
          "color": "#ab63fa"
         },
         "mode": "markers",
         "name": "Brazil",
         "showlegend": true,
         "subplot": "mapbox",
         "type": "scattermapbox"
        },
        {
         "hovertemplate": "country=Brunei<br>lat=%{lat}<br>long=%{lon}<extra></extra>",
         "lat": [
          4.5353
         ],
         "legendgroup": "Brunei",
         "lon": [
          114.7277
         ],
         "marker": {
          "color": "#FFA15A"
         },
         "mode": "markers",
         "name": "Brunei",
         "showlegend": true,
         "subplot": "mapbox",
         "type": "scattermapbox"
        },
        {
         "hovertemplate": "country=Bulgaria<br>lat=%{lat}<br>long=%{lon}<extra></extra>",
         "lat": [
          42.7339
         ],
         "legendgroup": "Bulgaria",
         "lon": [
          25.4858
         ],
         "marker": {
          "color": "#19d3f3"
         },
         "mode": "markers",
         "name": "Bulgaria",
         "showlegend": true,
         "subplot": "mapbox",
         "type": "scattermapbox"
        },
        {
         "hovertemplate": "country=Burkina Faso<br>lat=%{lat}<br>long=%{lon}<extra></extra>",
         "lat": [
          12.2383
         ],
         "legendgroup": "Burkina Faso",
         "lon": [
          -1.5616
         ],
         "marker": {
          "color": "#FF6692"
         },
         "mode": "markers",
         "name": "Burkina Faso",
         "showlegend": true,
         "subplot": "mapbox",
         "type": "scattermapbox"
        },
        {
         "hovertemplate": "country=Burma<br>lat=%{lat}<br>long=%{lon}<extra></extra>",
         "lat": [
          21.9162
         ],
         "legendgroup": "Burma",
         "lon": [
          95.956
         ],
         "marker": {
          "color": "#B6E880"
         },
         "mode": "markers",
         "name": "Burma",
         "showlegend": true,
         "subplot": "mapbox",
         "type": "scattermapbox"
        },
        {
         "hovertemplate": "country=Burundi<br>lat=%{lat}<br>long=%{lon}<extra></extra>",
         "lat": [
          -3.3731
         ],
         "legendgroup": "Burundi",
         "lon": [
          29.9189
         ],
         "marker": {
          "color": "#FF97FF"
         },
         "mode": "markers",
         "name": "Burundi",
         "showlegend": true,
         "subplot": "mapbox",
         "type": "scattermapbox"
        },
        {
         "hovertemplate": "country=Cabo Verde<br>lat=%{lat}<br>long=%{lon}<extra></extra>",
         "lat": [
          16.5388
         ],
         "legendgroup": "Cabo Verde",
         "lon": [
          -23.0418
         ],
         "marker": {
          "color": "#FECB52"
         },
         "mode": "markers",
         "name": "Cabo Verde",
         "showlegend": true,
         "subplot": "mapbox",
         "type": "scattermapbox"
        },
        {
         "hovertemplate": "country=Cambodia<br>lat=%{lat}<br>long=%{lon}<extra></extra>",
         "lat": [
          11.55
         ],
         "legendgroup": "Cambodia",
         "lon": [
          104.9167
         ],
         "marker": {
          "color": "#636efa"
         },
         "mode": "markers",
         "name": "Cambodia",
         "showlegend": true,
         "subplot": "mapbox",
         "type": "scattermapbox"
        },
        {
         "hovertemplate": "country=Cameroon<br>lat=%{lat}<br>long=%{lon}<extra></extra>",
         "lat": [
          3.8480000000000003
         ],
         "legendgroup": "Cameroon",
         "lon": [
          11.5021
         ],
         "marker": {
          "color": "#EF553B"
         },
         "mode": "markers",
         "name": "Cameroon",
         "showlegend": true,
         "subplot": "mapbox",
         "type": "scattermapbox"
        },
        {
         "hovertemplate": "country=Canada<br>lat=%{lat}<br>long=%{lon}<extra></extra>",
         "lat": [
          53.9333,
          53.7267,
          0,
          0,
          53.7609,
          46.5653,
          53.1355,
          64.8255,
          44.681999999999995,
          70.2998,
          51.2538,
          46.5107,
          52.9399,
          52.9399,
          64.2823
         ],
         "legendgroup": "Canada",
         "lon": [
          -116.5765,
          -127.6476,
          0,
          0,
          -98.8139,
          -66.4619,
          -57.6604,
          -124.8457,
          -63.7443,
          -83.1076,
          -85.3232,
          -63.4168,
          -73.5491,
          -106.4509,
          -135
         ],
         "marker": {
          "color": "#00cc96"
         },
         "mode": "markers",
         "name": "Canada",
         "showlegend": true,
         "subplot": "mapbox",
         "type": "scattermapbox"
        },
        {
         "hovertemplate": "country=Central African Republic<br>lat=%{lat}<br>long=%{lon}<extra></extra>",
         "lat": [
          6.6111
         ],
         "legendgroup": "Central African Republic",
         "lon": [
          20.9394
         ],
         "marker": {
          "color": "#ab63fa"
         },
         "mode": "markers",
         "name": "Central African Republic",
         "showlegend": true,
         "subplot": "mapbox",
         "type": "scattermapbox"
        },
        {
         "hovertemplate": "country=Chad<br>lat=%{lat}<br>long=%{lon}<extra></extra>",
         "lat": [
          15.4542
         ],
         "legendgroup": "Chad",
         "lon": [
          18.7322
         ],
         "marker": {
          "color": "#FFA15A"
         },
         "mode": "markers",
         "name": "Chad",
         "showlegend": true,
         "subplot": "mapbox",
         "type": "scattermapbox"
        },
        {
         "hovertemplate": "country=Chile<br>lat=%{lat}<br>long=%{lon}<extra></extra>",
         "lat": [
          -35.6751
         ],
         "legendgroup": "Chile",
         "lon": [
          -71.543
         ],
         "marker": {
          "color": "#19d3f3"
         },
         "mode": "markers",
         "name": "Chile",
         "showlegend": true,
         "subplot": "mapbox",
         "type": "scattermapbox"
        },
        {
         "hovertemplate": "country=China<br>lat=%{lat}<br>long=%{lon}<extra></extra>",
         "lat": [
          31.8257,
          40.1824,
          30.0572,
          26.0789,
          35.7518,
          23.3417,
          23.8298,
          26.8154,
          19.1959,
          39.549,
          47.861999999999995,
          37.8957,
          22.3,
          30.9756,
          27.6104,
          44.0935,
          32.9711,
          27.614,
          43.6661,
          41.2956,
          22.1667,
          37.2692,
          35.7452,
          35.1917,
          36.3427,
          31.201999999999998,
          37.5777,
          30.6171,
          39.3054,
          31.6927,
          41.1129,
          24.974,
          29.1832
         ],
         "legendgroup": "China",
         "lon": [
          117.2264,
          116.4142,
          107.874,
          117.9874,
          104.2861,
          113.4244,
          108.7881,
          106.8748,
          109.7453,
          116.1306,
          127.7615,
          114.9042,
          114.2,
          112.2707,
          111.7088,
          113.9448,
          119.455,
          115.7221,
          126.1923,
          122.6085,
          113.55,
          106.1655,
          95.9956,
          108.8701,
          118.1498,
          121.4491,
          112.2922,
          102.7103,
          117.323,
          88.0924,
          85.2401,
          101.48700000000001,
          120.0934
         ],
         "marker": {
          "color": "#FF6692"
         },
         "mode": "markers",
         "name": "China",
         "showlegend": true,
         "subplot": "mapbox",
         "type": "scattermapbox"
        },
        {
         "hovertemplate": "country=Colombia<br>lat=%{lat}<br>long=%{lon}<extra></extra>",
         "lat": [
          4.5709
         ],
         "legendgroup": "Colombia",
         "lon": [
          -74.2973
         ],
         "marker": {
          "color": "#B6E880"
         },
         "mode": "markers",
         "name": "Colombia",
         "showlegend": true,
         "subplot": "mapbox",
         "type": "scattermapbox"
        },
        {
         "hovertemplate": "country=Comoros<br>lat=%{lat}<br>long=%{lon}<extra></extra>",
         "lat": [
          -11.6455
         ],
         "legendgroup": "Comoros",
         "lon": [
          43.3333
         ],
         "marker": {
          "color": "#FF97FF"
         },
         "mode": "markers",
         "name": "Comoros",
         "showlegend": true,
         "subplot": "mapbox",
         "type": "scattermapbox"
        },
        {
         "hovertemplate": "country=Congo (Brazzaville)<br>lat=%{lat}<br>long=%{lon}<extra></extra>",
         "lat": [
          -0.228
         ],
         "legendgroup": "Congo (Brazzaville)",
         "lon": [
          15.8277
         ],
         "marker": {
          "color": "#FECB52"
         },
         "mode": "markers",
         "name": "Congo (Brazzaville)",
         "showlegend": true,
         "subplot": "mapbox",
         "type": "scattermapbox"
        },
        {
         "hovertemplate": "country=Congo (Kinshasa)<br>lat=%{lat}<br>long=%{lon}<extra></extra>",
         "lat": [
          -4.0383
         ],
         "legendgroup": "Congo (Kinshasa)",
         "lon": [
          21.7587
         ],
         "marker": {
          "color": "#636efa"
         },
         "mode": "markers",
         "name": "Congo (Kinshasa)",
         "showlegend": true,
         "subplot": "mapbox",
         "type": "scattermapbox"
        },
        {
         "hovertemplate": "country=Costa Rica<br>lat=%{lat}<br>long=%{lon}<extra></extra>",
         "lat": [
          9.7489
         ],
         "legendgroup": "Costa Rica",
         "lon": [
          -83.7534
         ],
         "marker": {
          "color": "#EF553B"
         },
         "mode": "markers",
         "name": "Costa Rica",
         "showlegend": true,
         "subplot": "mapbox",
         "type": "scattermapbox"
        },
        {
         "hovertemplate": "country=Cote d'Ivoire<br>lat=%{lat}<br>long=%{lon}<extra></extra>",
         "lat": [
          7.54
         ],
         "legendgroup": "Cote d'Ivoire",
         "lon": [
          -5.5471
         ],
         "marker": {
          "color": "#00cc96"
         },
         "mode": "markers",
         "name": "Cote d'Ivoire",
         "showlegend": true,
         "subplot": "mapbox",
         "type": "scattermapbox"
        },
        {
         "hovertemplate": "country=Croatia<br>lat=%{lat}<br>long=%{lon}<extra></extra>",
         "lat": [
          45.1
         ],
         "legendgroup": "Croatia",
         "lon": [
          15.2
         ],
         "marker": {
          "color": "#ab63fa"
         },
         "mode": "markers",
         "name": "Croatia",
         "showlegend": true,
         "subplot": "mapbox",
         "type": "scattermapbox"
        },
        {
         "hovertemplate": "country=Cuba<br>lat=%{lat}<br>long=%{lon}<extra></extra>",
         "lat": [
          21.521757
         ],
         "legendgroup": "Cuba",
         "lon": [
          -77.78116700000001
         ],
         "marker": {
          "color": "#FFA15A"
         },
         "mode": "markers",
         "name": "Cuba",
         "showlegend": true,
         "subplot": "mapbox",
         "type": "scattermapbox"
        },
        {
         "hovertemplate": "country=Cyprus<br>lat=%{lat}<br>long=%{lon}<extra></extra>",
         "lat": [
          35.1264
         ],
         "legendgroup": "Cyprus",
         "lon": [
          33.4299
         ],
         "marker": {
          "color": "#19d3f3"
         },
         "mode": "markers",
         "name": "Cyprus",
         "showlegend": true,
         "subplot": "mapbox",
         "type": "scattermapbox"
        },
        {
         "hovertemplate": "country=Czechia<br>lat=%{lat}<br>long=%{lon}<extra></extra>",
         "lat": [
          49.8175
         ],
         "legendgroup": "Czechia",
         "lon": [
          15.472999999999999
         ],
         "marker": {
          "color": "#FF6692"
         },
         "mode": "markers",
         "name": "Czechia",
         "showlegend": true,
         "subplot": "mapbox",
         "type": "scattermapbox"
        },
        {
         "hovertemplate": "country=Denmark<br>lat=%{lat}<br>long=%{lon}<extra></extra>",
         "lat": [
          61.8926,
          71.7069,
          56.2639
         ],
         "legendgroup": "Denmark",
         "lon": [
          -6.9118,
          -42.6043,
          9.5018
         ],
         "marker": {
          "color": "#B6E880"
         },
         "mode": "markers",
         "name": "Denmark",
         "showlegend": true,
         "subplot": "mapbox",
         "type": "scattermapbox"
        },
        {
         "hovertemplate": "country=Diamond Princess<br>lat=%{lat}<br>long=%{lon}<extra></extra>",
         "lat": [
          0
         ],
         "legendgroup": "Diamond Princess",
         "lon": [
          0
         ],
         "marker": {
          "color": "#FF97FF"
         },
         "mode": "markers",
         "name": "Diamond Princess",
         "showlegend": true,
         "subplot": "mapbox",
         "type": "scattermapbox"
        },
        {
         "hovertemplate": "country=Djibouti<br>lat=%{lat}<br>long=%{lon}<extra></extra>",
         "lat": [
          11.8251
         ],
         "legendgroup": "Djibouti",
         "lon": [
          42.5903
         ],
         "marker": {
          "color": "#FECB52"
         },
         "mode": "markers",
         "name": "Djibouti",
         "showlegend": true,
         "subplot": "mapbox",
         "type": "scattermapbox"
        },
        {
         "hovertemplate": "country=Dominica<br>lat=%{lat}<br>long=%{lon}<extra></extra>",
         "lat": [
          15.415
         ],
         "legendgroup": "Dominica",
         "lon": [
          -61.371
         ],
         "marker": {
          "color": "#636efa"
         },
         "mode": "markers",
         "name": "Dominica",
         "showlegend": true,
         "subplot": "mapbox",
         "type": "scattermapbox"
        },
        {
         "hovertemplate": "country=Dominican Republic<br>lat=%{lat}<br>long=%{lon}<extra></extra>",
         "lat": [
          18.7357
         ],
         "legendgroup": "Dominican Republic",
         "lon": [
          -70.1627
         ],
         "marker": {
          "color": "#EF553B"
         },
         "mode": "markers",
         "name": "Dominican Republic",
         "showlegend": true,
         "subplot": "mapbox",
         "type": "scattermapbox"
        },
        {
         "hovertemplate": "country=Ecuador<br>lat=%{lat}<br>long=%{lon}<extra></extra>",
         "lat": [
          -1.8312
         ],
         "legendgroup": "Ecuador",
         "lon": [
          -78.1834
         ],
         "marker": {
          "color": "#00cc96"
         },
         "mode": "markers",
         "name": "Ecuador",
         "showlegend": true,
         "subplot": "mapbox",
         "type": "scattermapbox"
        },
        {
         "hovertemplate": "country=Egypt<br>lat=%{lat}<br>long=%{lon}<extra></extra>",
         "lat": [
          26.820553000000004
         ],
         "legendgroup": "Egypt",
         "lon": [
          30.802497999999996
         ],
         "marker": {
          "color": "#ab63fa"
         },
         "mode": "markers",
         "name": "Egypt",
         "showlegend": true,
         "subplot": "mapbox",
         "type": "scattermapbox"
        },
        {
         "hovertemplate": "country=El Salvador<br>lat=%{lat}<br>long=%{lon}<extra></extra>",
         "lat": [
          13.7942
         ],
         "legendgroup": "El Salvador",
         "lon": [
          -88.8965
         ],
         "marker": {
          "color": "#FFA15A"
         },
         "mode": "markers",
         "name": "El Salvador",
         "showlegend": true,
         "subplot": "mapbox",
         "type": "scattermapbox"
        },
        {
         "hovertemplate": "country=Equatorial Guinea<br>lat=%{lat}<br>long=%{lon}<extra></extra>",
         "lat": [
          1.6508
         ],
         "legendgroup": "Equatorial Guinea",
         "lon": [
          10.2679
         ],
         "marker": {
          "color": "#19d3f3"
         },
         "mode": "markers",
         "name": "Equatorial Guinea",
         "showlegend": true,
         "subplot": "mapbox",
         "type": "scattermapbox"
        },
        {
         "hovertemplate": "country=Eritrea<br>lat=%{lat}<br>long=%{lon}<extra></extra>",
         "lat": [
          15.1794
         ],
         "legendgroup": "Eritrea",
         "lon": [
          39.7823
         ],
         "marker": {
          "color": "#FF6692"
         },
         "mode": "markers",
         "name": "Eritrea",
         "showlegend": true,
         "subplot": "mapbox",
         "type": "scattermapbox"
        },
        {
         "hovertemplate": "country=Estonia<br>lat=%{lat}<br>long=%{lon}<extra></extra>",
         "lat": [
          58.5953
         ],
         "legendgroup": "Estonia",
         "lon": [
          25.0136
         ],
         "marker": {
          "color": "#B6E880"
         },
         "mode": "markers",
         "name": "Estonia",
         "showlegend": true,
         "subplot": "mapbox",
         "type": "scattermapbox"
        },
        {
         "hovertemplate": "country=Eswatini<br>lat=%{lat}<br>long=%{lon}<extra></extra>",
         "lat": [
          -26.5225
         ],
         "legendgroup": "Eswatini",
         "lon": [
          31.4659
         ],
         "marker": {
          "color": "#FF97FF"
         },
         "mode": "markers",
         "name": "Eswatini",
         "showlegend": true,
         "subplot": "mapbox",
         "type": "scattermapbox"
        },
        {
         "hovertemplate": "country=Ethiopia<br>lat=%{lat}<br>long=%{lon}<extra></extra>",
         "lat": [
          9.145
         ],
         "legendgroup": "Ethiopia",
         "lon": [
          40.4897
         ],
         "marker": {
          "color": "#FECB52"
         },
         "mode": "markers",
         "name": "Ethiopia",
         "showlegend": true,
         "subplot": "mapbox",
         "type": "scattermapbox"
        },
        {
         "hovertemplate": "country=Fiji<br>lat=%{lat}<br>long=%{lon}<extra></extra>",
         "lat": [
          -17.7134
         ],
         "legendgroup": "Fiji",
         "lon": [
          178.065
         ],
         "marker": {
          "color": "#636efa"
         },
         "mode": "markers",
         "name": "Fiji",
         "showlegend": true,
         "subplot": "mapbox",
         "type": "scattermapbox"
        },
        {
         "hovertemplate": "country=Finland<br>lat=%{lat}<br>long=%{lon}<extra></extra>",
         "lat": [
          61.92411
         ],
         "legendgroup": "Finland",
         "lon": [
          25.748151
         ],
         "marker": {
          "color": "#EF553B"
         },
         "mode": "markers",
         "name": "Finland",
         "showlegend": true,
         "subplot": "mapbox",
         "type": "scattermapbox"
        },
        {
         "hovertemplate": "country=France<br>lat=%{lat}<br>long=%{lon}<extra></extra>",
         "lat": [
          3.9339,
          -17.6797,
          16.265,
          14.6415,
          -12.8275,
          -20.904304999999997,
          -21.1151,
          17.9,
          46.8852,
          18.0708,
          -14.2938,
          46.2276
         ],
         "legendgroup": "France",
         "lon": [
          -53.1258,
          149.4068,
          -61.551,
          -61.0242,
          45.166244,
          165.618042,
          55.5364,
          -62.8333,
          -56.3159,
          -63.0501,
          -178.1165,
          2.2137
         ],
         "marker": {
          "color": "#00cc96"
         },
         "mode": "markers",
         "name": "France",
         "showlegend": true,
         "subplot": "mapbox",
         "type": "scattermapbox"
        },
        {
         "hovertemplate": "country=Gabon<br>lat=%{lat}<br>long=%{lon}<extra></extra>",
         "lat": [
          -0.8037
         ],
         "legendgroup": "Gabon",
         "lon": [
          11.6094
         ],
         "marker": {
          "color": "#ab63fa"
         },
         "mode": "markers",
         "name": "Gabon",
         "showlegend": true,
         "subplot": "mapbox",
         "type": "scattermapbox"
        },
        {
         "hovertemplate": "country=Gambia<br>lat=%{lat}<br>long=%{lon}<extra></extra>",
         "lat": [
          13.4432
         ],
         "legendgroup": "Gambia",
         "lon": [
          -15.3101
         ],
         "marker": {
          "color": "#FFA15A"
         },
         "mode": "markers",
         "name": "Gambia",
         "showlegend": true,
         "subplot": "mapbox",
         "type": "scattermapbox"
        },
        {
         "hovertemplate": "country=Georgia<br>lat=%{lat}<br>long=%{lon}<extra></extra>",
         "lat": [
          42.3154
         ],
         "legendgroup": "Georgia",
         "lon": [
          43.3569
         ],
         "marker": {
          "color": "#19d3f3"
         },
         "mode": "markers",
         "name": "Georgia",
         "showlegend": true,
         "subplot": "mapbox",
         "type": "scattermapbox"
        },
        {
         "hovertemplate": "country=Germany<br>lat=%{lat}<br>long=%{lon}<extra></extra>",
         "lat": [
          51.165690999999995
         ],
         "legendgroup": "Germany",
         "lon": [
          10.451526
         ],
         "marker": {
          "color": "#FF6692"
         },
         "mode": "markers",
         "name": "Germany",
         "showlegend": true,
         "subplot": "mapbox",
         "type": "scattermapbox"
        },
        {
         "hovertemplate": "country=Ghana<br>lat=%{lat}<br>long=%{lon}<extra></extra>",
         "lat": [
          7.9465
         ],
         "legendgroup": "Ghana",
         "lon": [
          -1.0232
         ],
         "marker": {
          "color": "#B6E880"
         },
         "mode": "markers",
         "name": "Ghana",
         "showlegend": true,
         "subplot": "mapbox",
         "type": "scattermapbox"
        },
        {
         "hovertemplate": "country=Greece<br>lat=%{lat}<br>long=%{lon}<extra></extra>",
         "lat": [
          39.0742
         ],
         "legendgroup": "Greece",
         "lon": [
          21.8243
         ],
         "marker": {
          "color": "#FF97FF"
         },
         "mode": "markers",
         "name": "Greece",
         "showlegend": true,
         "subplot": "mapbox",
         "type": "scattermapbox"
        },
        {
         "hovertemplate": "country=Grenada<br>lat=%{lat}<br>long=%{lon}<extra></extra>",
         "lat": [
          12.1165
         ],
         "legendgroup": "Grenada",
         "lon": [
          -61.678999999999995
         ],
         "marker": {
          "color": "#FECB52"
         },
         "mode": "markers",
         "name": "Grenada",
         "showlegend": true,
         "subplot": "mapbox",
         "type": "scattermapbox"
        },
        {
         "hovertemplate": "country=Guatemala<br>lat=%{lat}<br>long=%{lon}<extra></extra>",
         "lat": [
          15.7835
         ],
         "legendgroup": "Guatemala",
         "lon": [
          -90.2308
         ],
         "marker": {
          "color": "#636efa"
         },
         "mode": "markers",
         "name": "Guatemala",
         "showlegend": true,
         "subplot": "mapbox",
         "type": "scattermapbox"
        },
        {
         "hovertemplate": "country=Guinea<br>lat=%{lat}<br>long=%{lon}<extra></extra>",
         "lat": [
          9.9456
         ],
         "legendgroup": "Guinea",
         "lon": [
          -9.6966
         ],
         "marker": {
          "color": "#EF553B"
         },
         "mode": "markers",
         "name": "Guinea",
         "showlegend": true,
         "subplot": "mapbox",
         "type": "scattermapbox"
        },
        {
         "hovertemplate": "country=Guinea-Bissau<br>lat=%{lat}<br>long=%{lon}<extra></extra>",
         "lat": [
          11.8037
         ],
         "legendgroup": "Guinea-Bissau",
         "lon": [
          -15.1804
         ],
         "marker": {
          "color": "#00cc96"
         },
         "mode": "markers",
         "name": "Guinea-Bissau",
         "showlegend": true,
         "subplot": "mapbox",
         "type": "scattermapbox"
        },
        {
         "hovertemplate": "country=Guyana<br>lat=%{lat}<br>long=%{lon}<extra></extra>",
         "lat": [
          4.860416000000001
         ],
         "legendgroup": "Guyana",
         "lon": [
          -58.93018000000001
         ],
         "marker": {
          "color": "#ab63fa"
         },
         "mode": "markers",
         "name": "Guyana",
         "showlegend": true,
         "subplot": "mapbox",
         "type": "scattermapbox"
        },
        {
         "hovertemplate": "country=Haiti<br>lat=%{lat}<br>long=%{lon}<extra></extra>",
         "lat": [
          18.9712
         ],
         "legendgroup": "Haiti",
         "lon": [
          -72.2852
         ],
         "marker": {
          "color": "#FFA15A"
         },
         "mode": "markers",
         "name": "Haiti",
         "showlegend": true,
         "subplot": "mapbox",
         "type": "scattermapbox"
        },
        {
         "hovertemplate": "country=Holy See<br>lat=%{lat}<br>long=%{lon}<extra></extra>",
         "lat": [
          41.9029
         ],
         "legendgroup": "Holy See",
         "lon": [
          12.4534
         ],
         "marker": {
          "color": "#19d3f3"
         },
         "mode": "markers",
         "name": "Holy See",
         "showlegend": true,
         "subplot": "mapbox",
         "type": "scattermapbox"
        },
        {
         "hovertemplate": "country=Honduras<br>lat=%{lat}<br>long=%{lon}<extra></extra>",
         "lat": [
          15.2
         ],
         "legendgroup": "Honduras",
         "lon": [
          -86.2419
         ],
         "marker": {
          "color": "#FF6692"
         },
         "mode": "markers",
         "name": "Honduras",
         "showlegend": true,
         "subplot": "mapbox",
         "type": "scattermapbox"
        },
        {
         "hovertemplate": "country=Hungary<br>lat=%{lat}<br>long=%{lon}<extra></extra>",
         "lat": [
          47.1625
         ],
         "legendgroup": "Hungary",
         "lon": [
          19.5033
         ],
         "marker": {
          "color": "#B6E880"
         },
         "mode": "markers",
         "name": "Hungary",
         "showlegend": true,
         "subplot": "mapbox",
         "type": "scattermapbox"
        },
        {
         "hovertemplate": "country=Iceland<br>lat=%{lat}<br>long=%{lon}<extra></extra>",
         "lat": [
          64.9631
         ],
         "legendgroup": "Iceland",
         "lon": [
          -19.0208
         ],
         "marker": {
          "color": "#FF97FF"
         },
         "mode": "markers",
         "name": "Iceland",
         "showlegend": true,
         "subplot": "mapbox",
         "type": "scattermapbox"
        },
        {
         "hovertemplate": "country=India<br>lat=%{lat}<br>long=%{lon}<extra></extra>",
         "lat": [
          20.593684
         ],
         "legendgroup": "India",
         "lon": [
          78.96288
         ],
         "marker": {
          "color": "#FECB52"
         },
         "mode": "markers",
         "name": "India",
         "showlegend": true,
         "subplot": "mapbox",
         "type": "scattermapbox"
        },
        {
         "hovertemplate": "country=Indonesia<br>lat=%{lat}<br>long=%{lon}<extra></extra>",
         "lat": [
          -0.7893
         ],
         "legendgroup": "Indonesia",
         "lon": [
          113.9213
         ],
         "marker": {
          "color": "#636efa"
         },
         "mode": "markers",
         "name": "Indonesia",
         "showlegend": true,
         "subplot": "mapbox",
         "type": "scattermapbox"
        },
        {
         "hovertemplate": "country=Iran<br>lat=%{lat}<br>long=%{lon}<extra></extra>",
         "lat": [
          32.427908
         ],
         "legendgroup": "Iran",
         "lon": [
          53.68804599999999
         ],
         "marker": {
          "color": "#EF553B"
         },
         "mode": "markers",
         "name": "Iran",
         "showlegend": true,
         "subplot": "mapbox",
         "type": "scattermapbox"
        },
        {
         "hovertemplate": "country=Iraq<br>lat=%{lat}<br>long=%{lon}<extra></extra>",
         "lat": [
          33.223191
         ],
         "legendgroup": "Iraq",
         "lon": [
          43.679291
         ],
         "marker": {
          "color": "#00cc96"
         },
         "mode": "markers",
         "name": "Iraq",
         "showlegend": true,
         "subplot": "mapbox",
         "type": "scattermapbox"
        },
        {
         "hovertemplate": "country=Ireland<br>lat=%{lat}<br>long=%{lon}<extra></extra>",
         "lat": [
          53.1424
         ],
         "legendgroup": "Ireland",
         "lon": [
          -7.6921
         ],
         "marker": {
          "color": "#ab63fa"
         },
         "mode": "markers",
         "name": "Ireland",
         "showlegend": true,
         "subplot": "mapbox",
         "type": "scattermapbox"
        },
        {
         "hovertemplate": "country=Israel<br>lat=%{lat}<br>long=%{lon}<extra></extra>",
         "lat": [
          31.046051000000002
         ],
         "legendgroup": "Israel",
         "lon": [
          34.851612
         ],
         "marker": {
          "color": "#FFA15A"
         },
         "mode": "markers",
         "name": "Israel",
         "showlegend": true,
         "subplot": "mapbox",
         "type": "scattermapbox"
        },
        {
         "hovertemplate": "country=Italy<br>lat=%{lat}<br>long=%{lon}<extra></extra>",
         "lat": [
          41.87194
         ],
         "legendgroup": "Italy",
         "lon": [
          12.56738
         ],
         "marker": {
          "color": "#19d3f3"
         },
         "mode": "markers",
         "name": "Italy",
         "showlegend": true,
         "subplot": "mapbox",
         "type": "scattermapbox"
        },
        {
         "hovertemplate": "country=Jamaica<br>lat=%{lat}<br>long=%{lon}<extra></extra>",
         "lat": [
          18.1096
         ],
         "legendgroup": "Jamaica",
         "lon": [
          -77.2975
         ],
         "marker": {
          "color": "#FF6692"
         },
         "mode": "markers",
         "name": "Jamaica",
         "showlegend": true,
         "subplot": "mapbox",
         "type": "scattermapbox"
        },
        {
         "hovertemplate": "country=Japan<br>lat=%{lat}<br>long=%{lon}<extra></extra>",
         "lat": [
          36.204824
         ],
         "legendgroup": "Japan",
         "lon": [
          138.252924
         ],
         "marker": {
          "color": "#B6E880"
         },
         "mode": "markers",
         "name": "Japan",
         "showlegend": true,
         "subplot": "mapbox",
         "type": "scattermapbox"
        },
        {
         "hovertemplate": "country=Jordan<br>lat=%{lat}<br>long=%{lon}<extra></extra>",
         "lat": [
          31.24
         ],
         "legendgroup": "Jordan",
         "lon": [
          36.51
         ],
         "marker": {
          "color": "#FF97FF"
         },
         "mode": "markers",
         "name": "Jordan",
         "showlegend": true,
         "subplot": "mapbox",
         "type": "scattermapbox"
        },
        {
         "hovertemplate": "country=Kazakhstan<br>lat=%{lat}<br>long=%{lon}<extra></extra>",
         "lat": [
          48.0196
         ],
         "legendgroup": "Kazakhstan",
         "lon": [
          66.9237
         ],
         "marker": {
          "color": "#FECB52"
         },
         "mode": "markers",
         "name": "Kazakhstan",
         "showlegend": true,
         "subplot": "mapbox",
         "type": "scattermapbox"
        },
        {
         "hovertemplate": "country=Kenya<br>lat=%{lat}<br>long=%{lon}<extra></extra>",
         "lat": [
          -0.0236
         ],
         "legendgroup": "Kenya",
         "lon": [
          37.9062
         ],
         "marker": {
          "color": "#636efa"
         },
         "mode": "markers",
         "name": "Kenya",
         "showlegend": true,
         "subplot": "mapbox",
         "type": "scattermapbox"
        },
        {
         "hovertemplate": "country=Korea, South<br>lat=%{lat}<br>long=%{lon}<extra></extra>",
         "lat": [
          35.907757000000004
         ],
         "legendgroup": "Korea, South",
         "lon": [
          127.766922
         ],
         "marker": {
          "color": "#EF553B"
         },
         "mode": "markers",
         "name": "Korea, South",
         "showlegend": true,
         "subplot": "mapbox",
         "type": "scattermapbox"
        },
        {
         "hovertemplate": "country=Kosovo<br>lat=%{lat}<br>long=%{lon}<extra></extra>",
         "lat": [
          42.602636
         ],
         "legendgroup": "Kosovo",
         "lon": [
          20.902977
         ],
         "marker": {
          "color": "#00cc96"
         },
         "mode": "markers",
         "name": "Kosovo",
         "showlegend": true,
         "subplot": "mapbox",
         "type": "scattermapbox"
        },
        {
         "hovertemplate": "country=Kuwait<br>lat=%{lat}<br>long=%{lon}<extra></extra>",
         "lat": [
          29.311659999999996
         ],
         "legendgroup": "Kuwait",
         "lon": [
          47.481766
         ],
         "marker": {
          "color": "#ab63fa"
         },
         "mode": "markers",
         "name": "Kuwait",
         "showlegend": true,
         "subplot": "mapbox",
         "type": "scattermapbox"
        },
        {
         "hovertemplate": "country=Kyrgyzstan<br>lat=%{lat}<br>long=%{lon}<extra></extra>",
         "lat": [
          41.20438
         ],
         "legendgroup": "Kyrgyzstan",
         "lon": [
          74.766098
         ],
         "marker": {
          "color": "#FFA15A"
         },
         "mode": "markers",
         "name": "Kyrgyzstan",
         "showlegend": true,
         "subplot": "mapbox",
         "type": "scattermapbox"
        },
        {
         "hovertemplate": "country=Laos<br>lat=%{lat}<br>long=%{lon}<extra></extra>",
         "lat": [
          19.856270000000002
         ],
         "legendgroup": "Laos",
         "lon": [
          102.495496
         ],
         "marker": {
          "color": "#19d3f3"
         },
         "mode": "markers",
         "name": "Laos",
         "showlegend": true,
         "subplot": "mapbox",
         "type": "scattermapbox"
        },
        {
         "hovertemplate": "country=Latvia<br>lat=%{lat}<br>long=%{lon}<extra></extra>",
         "lat": [
          56.8796
         ],
         "legendgroup": "Latvia",
         "lon": [
          24.6032
         ],
         "marker": {
          "color": "#FF6692"
         },
         "mode": "markers",
         "name": "Latvia",
         "showlegend": true,
         "subplot": "mapbox",
         "type": "scattermapbox"
        },
        {
         "hovertemplate": "country=Lebanon<br>lat=%{lat}<br>long=%{lon}<extra></extra>",
         "lat": [
          33.8547
         ],
         "legendgroup": "Lebanon",
         "lon": [
          35.8623
         ],
         "marker": {
          "color": "#B6E880"
         },
         "mode": "markers",
         "name": "Lebanon",
         "showlegend": true,
         "subplot": "mapbox",
         "type": "scattermapbox"
        },
        {
         "hovertemplate": "country=Lesotho<br>lat=%{lat}<br>long=%{lon}<extra></extra>",
         "lat": [
          -29.61
         ],
         "legendgroup": "Lesotho",
         "lon": [
          28.2336
         ],
         "marker": {
          "color": "#FF97FF"
         },
         "mode": "markers",
         "name": "Lesotho",
         "showlegend": true,
         "subplot": "mapbox",
         "type": "scattermapbox"
        },
        {
         "hovertemplate": "country=Liberia<br>lat=%{lat}<br>long=%{lon}<extra></extra>",
         "lat": [
          6.4280550000000005
         ],
         "legendgroup": "Liberia",
         "lon": [
          -9.429499
         ],
         "marker": {
          "color": "#FECB52"
         },
         "mode": "markers",
         "name": "Liberia",
         "showlegend": true,
         "subplot": "mapbox",
         "type": "scattermapbox"
        },
        {
         "hovertemplate": "country=Libya<br>lat=%{lat}<br>long=%{lon}<extra></extra>",
         "lat": [
          26.3351
         ],
         "legendgroup": "Libya",
         "lon": [
          17.228331
         ],
         "marker": {
          "color": "#636efa"
         },
         "mode": "markers",
         "name": "Libya",
         "showlegend": true,
         "subplot": "mapbox",
         "type": "scattermapbox"
        },
        {
         "hovertemplate": "country=Liechtenstein<br>lat=%{lat}<br>long=%{lon}<extra></extra>",
         "lat": [
          47.14
         ],
         "legendgroup": "Liechtenstein",
         "lon": [
          9.55
         ],
         "marker": {
          "color": "#EF553B"
         },
         "mode": "markers",
         "name": "Liechtenstein",
         "showlegend": true,
         "subplot": "mapbox",
         "type": "scattermapbox"
        },
        {
         "hovertemplate": "country=Lithuania<br>lat=%{lat}<br>long=%{lon}<extra></extra>",
         "lat": [
          55.1694
         ],
         "legendgroup": "Lithuania",
         "lon": [
          23.8813
         ],
         "marker": {
          "color": "#00cc96"
         },
         "mode": "markers",
         "name": "Lithuania",
         "showlegend": true,
         "subplot": "mapbox",
         "type": "scattermapbox"
        },
        {
         "hovertemplate": "country=Luxembourg<br>lat=%{lat}<br>long=%{lon}<extra></extra>",
         "lat": [
          49.8153
         ],
         "legendgroup": "Luxembourg",
         "lon": [
          6.1296
         ],
         "marker": {
          "color": "#ab63fa"
         },
         "mode": "markers",
         "name": "Luxembourg",
         "showlegend": true,
         "subplot": "mapbox",
         "type": "scattermapbox"
        },
        {
         "hovertemplate": "country=MS Zaandam<br>lat=%{lat}<br>long=%{lon}<extra></extra>",
         "lat": [
          0
         ],
         "legendgroup": "MS Zaandam",
         "lon": [
          0
         ],
         "marker": {
          "color": "#FFA15A"
         },
         "mode": "markers",
         "name": "MS Zaandam",
         "showlegend": true,
         "subplot": "mapbox",
         "type": "scattermapbox"
        },
        {
         "hovertemplate": "country=Madagascar<br>lat=%{lat}<br>long=%{lon}<extra></extra>",
         "lat": [
          -18.766947000000002
         ],
         "legendgroup": "Madagascar",
         "lon": [
          46.869107
         ],
         "marker": {
          "color": "#19d3f3"
         },
         "mode": "markers",
         "name": "Madagascar",
         "showlegend": true,
         "subplot": "mapbox",
         "type": "scattermapbox"
        },
        {
         "hovertemplate": "country=Malawi<br>lat=%{lat}<br>long=%{lon}<extra></extra>",
         "lat": [
          -13.2543
         ],
         "legendgroup": "Malawi",
         "lon": [
          34.3015
         ],
         "marker": {
          "color": "#FF6692"
         },
         "mode": "markers",
         "name": "Malawi",
         "showlegend": true,
         "subplot": "mapbox",
         "type": "scattermapbox"
        },
        {
         "hovertemplate": "country=Malaysia<br>lat=%{lat}<br>long=%{lon}<extra></extra>",
         "lat": [
          4.210483999999999
         ],
         "legendgroup": "Malaysia",
         "lon": [
          101.97576600000001
         ],
         "marker": {
          "color": "#B6E880"
         },
         "mode": "markers",
         "name": "Malaysia",
         "showlegend": true,
         "subplot": "mapbox",
         "type": "scattermapbox"
        },
        {
         "hovertemplate": "country=Maldives<br>lat=%{lat}<br>long=%{lon}<extra></extra>",
         "lat": [
          3.2028
         ],
         "legendgroup": "Maldives",
         "lon": [
          73.2207
         ],
         "marker": {
          "color": "#FF97FF"
         },
         "mode": "markers",
         "name": "Maldives",
         "showlegend": true,
         "subplot": "mapbox",
         "type": "scattermapbox"
        },
        {
         "hovertemplate": "country=Mali<br>lat=%{lat}<br>long=%{lon}<extra></extra>",
         "lat": [
          17.570692
         ],
         "legendgroup": "Mali",
         "lon": [
          -3.9961660000000006
         ],
         "marker": {
          "color": "#FECB52"
         },
         "mode": "markers",
         "name": "Mali",
         "showlegend": true,
         "subplot": "mapbox",
         "type": "scattermapbox"
        },
        {
         "hovertemplate": "country=Malta<br>lat=%{lat}<br>long=%{lon}<extra></extra>",
         "lat": [
          35.9375
         ],
         "legendgroup": "Malta",
         "lon": [
          14.3754
         ],
         "marker": {
          "color": "#636efa"
         },
         "mode": "markers",
         "name": "Malta",
         "showlegend": true,
         "subplot": "mapbox",
         "type": "scattermapbox"
        },
        {
         "hovertemplate": "country=Marshall Islands<br>lat=%{lat}<br>long=%{lon}<extra></extra>",
         "lat": [
          7.1315
         ],
         "legendgroup": "Marshall Islands",
         "lon": [
          171.1845
         ],
         "marker": {
          "color": "#EF553B"
         },
         "mode": "markers",
         "name": "Marshall Islands",
         "showlegend": true,
         "subplot": "mapbox",
         "type": "scattermapbox"
        },
        {
         "hovertemplate": "country=Mauritania<br>lat=%{lat}<br>long=%{lon}<extra></extra>",
         "lat": [
          21.0079
         ],
         "legendgroup": "Mauritania",
         "lon": [
          -10.9408
         ],
         "marker": {
          "color": "#00cc96"
         },
         "mode": "markers",
         "name": "Mauritania",
         "showlegend": true,
         "subplot": "mapbox",
         "type": "scattermapbox"
        },
        {
         "hovertemplate": "country=Mauritius<br>lat=%{lat}<br>long=%{lon}<extra></extra>",
         "lat": [
          -20.348404000000002
         ],
         "legendgroup": "Mauritius",
         "lon": [
          57.552152
         ],
         "marker": {
          "color": "#ab63fa"
         },
         "mode": "markers",
         "name": "Mauritius",
         "showlegend": true,
         "subplot": "mapbox",
         "type": "scattermapbox"
        },
        {
         "hovertemplate": "country=Mexico<br>lat=%{lat}<br>long=%{lon}<extra></extra>",
         "lat": [
          23.6345
         ],
         "legendgroup": "Mexico",
         "lon": [
          -102.5528
         ],
         "marker": {
          "color": "#FFA15A"
         },
         "mode": "markers",
         "name": "Mexico",
         "showlegend": true,
         "subplot": "mapbox",
         "type": "scattermapbox"
        },
        {
         "hovertemplate": "country=Micronesia<br>lat=%{lat}<br>long=%{lon}<extra></extra>",
         "lat": [
          7.4256
         ],
         "legendgroup": "Micronesia",
         "lon": [
          150.5508
         ],
         "marker": {
          "color": "#19d3f3"
         },
         "mode": "markers",
         "name": "Micronesia",
         "showlegend": true,
         "subplot": "mapbox",
         "type": "scattermapbox"
        },
        {
         "hovertemplate": "country=Moldova<br>lat=%{lat}<br>long=%{lon}<extra></extra>",
         "lat": [
          47.4116
         ],
         "legendgroup": "Moldova",
         "lon": [
          28.3699
         ],
         "marker": {
          "color": "#FF6692"
         },
         "mode": "markers",
         "name": "Moldova",
         "showlegend": true,
         "subplot": "mapbox",
         "type": "scattermapbox"
        },
        {
         "hovertemplate": "country=Monaco<br>lat=%{lat}<br>long=%{lon}<extra></extra>",
         "lat": [
          43.7333
         ],
         "legendgroup": "Monaco",
         "lon": [
          7.4167
         ],
         "marker": {
          "color": "#B6E880"
         },
         "mode": "markers",
         "name": "Monaco",
         "showlegend": true,
         "subplot": "mapbox",
         "type": "scattermapbox"
        },
        {
         "hovertemplate": "country=Mongolia<br>lat=%{lat}<br>long=%{lon}<extra></extra>",
         "lat": [
          46.8625
         ],
         "legendgroup": "Mongolia",
         "lon": [
          103.8467
         ],
         "marker": {
          "color": "#FF97FF"
         },
         "mode": "markers",
         "name": "Mongolia",
         "showlegend": true,
         "subplot": "mapbox",
         "type": "scattermapbox"
        },
        {
         "hovertemplate": "country=Montenegro<br>lat=%{lat}<br>long=%{lon}<extra></extra>",
         "lat": [
          42.708678000000006
         ],
         "legendgroup": "Montenegro",
         "lon": [
          19.37439
         ],
         "marker": {
          "color": "#FECB52"
         },
         "mode": "markers",
         "name": "Montenegro",
         "showlegend": true,
         "subplot": "mapbox",
         "type": "scattermapbox"
        },
        {
         "hovertemplate": "country=Morocco<br>lat=%{lat}<br>long=%{lon}<extra></extra>",
         "lat": [
          31.7917
         ],
         "legendgroup": "Morocco",
         "lon": [
          -7.0926
         ],
         "marker": {
          "color": "#636efa"
         },
         "mode": "markers",
         "name": "Morocco",
         "showlegend": true,
         "subplot": "mapbox",
         "type": "scattermapbox"
        },
        {
         "hovertemplate": "country=Mozambique<br>lat=%{lat}<br>long=%{lon}<extra></extra>",
         "lat": [
          -18.665695
         ],
         "legendgroup": "Mozambique",
         "lon": [
          35.529562
         ],
         "marker": {
          "color": "#EF553B"
         },
         "mode": "markers",
         "name": "Mozambique",
         "showlegend": true,
         "subplot": "mapbox",
         "type": "scattermapbox"
        },
        {
         "hovertemplate": "country=Namibia<br>lat=%{lat}<br>long=%{lon}<extra></extra>",
         "lat": [
          -22.9576
         ],
         "legendgroup": "Namibia",
         "lon": [
          18.4904
         ],
         "marker": {
          "color": "#00cc96"
         },
         "mode": "markers",
         "name": "Namibia",
         "showlegend": true,
         "subplot": "mapbox",
         "type": "scattermapbox"
        },
        {
         "hovertemplate": "country=Nepal<br>lat=%{lat}<br>long=%{lon}<extra></extra>",
         "lat": [
          28.1667
         ],
         "legendgroup": "Nepal",
         "lon": [
          84.25
         ],
         "marker": {
          "color": "#ab63fa"
         },
         "mode": "markers",
         "name": "Nepal",
         "showlegend": true,
         "subplot": "mapbox",
         "type": "scattermapbox"
        },
        {
         "hovertemplate": "country=Netherlands<br>lat=%{lat}<br>long=%{lon}<extra></extra>",
         "lat": [
          12.5211,
          12.1784,
          12.1696,
          18.0425,
          52.1326
         ],
         "legendgroup": "Netherlands",
         "lon": [
          -69.9683,
          -68.2385,
          -68.99,
          -63.0548,
          5.2913
         ],
         "marker": {
          "color": "#FFA15A"
         },
         "mode": "markers",
         "name": "Netherlands",
         "showlegend": true,
         "subplot": "mapbox",
         "type": "scattermapbox"
        },
        {
         "hovertemplate": "country=New Zealand<br>lat=%{lat}<br>long=%{lon}<extra></extra>",
         "lat": [
          -40.9006
         ],
         "legendgroup": "New Zealand",
         "lon": [
          174.886
         ],
         "marker": {
          "color": "#19d3f3"
         },
         "mode": "markers",
         "name": "New Zealand",
         "showlegend": true,
         "subplot": "mapbox",
         "type": "scattermapbox"
        },
        {
         "hovertemplate": "country=Nicaragua<br>lat=%{lat}<br>long=%{lon}<extra></extra>",
         "lat": [
          12.865416
         ],
         "legendgroup": "Nicaragua",
         "lon": [
          -85.207229
         ],
         "marker": {
          "color": "#FF6692"
         },
         "mode": "markers",
         "name": "Nicaragua",
         "showlegend": true,
         "subplot": "mapbox",
         "type": "scattermapbox"
        },
        {
         "hovertemplate": "country=Niger<br>lat=%{lat}<br>long=%{lon}<extra></extra>",
         "lat": [
          17.607789
         ],
         "legendgroup": "Niger",
         "lon": [
          8.081666
         ],
         "marker": {
          "color": "#B6E880"
         },
         "mode": "markers",
         "name": "Niger",
         "showlegend": true,
         "subplot": "mapbox",
         "type": "scattermapbox"
        },
        {
         "hovertemplate": "country=Nigeria<br>lat=%{lat}<br>long=%{lon}<extra></extra>",
         "lat": [
          9.082
         ],
         "legendgroup": "Nigeria",
         "lon": [
          8.6753
         ],
         "marker": {
          "color": "#FF97FF"
         },
         "mode": "markers",
         "name": "Nigeria",
         "showlegend": true,
         "subplot": "mapbox",
         "type": "scattermapbox"
        },
        {
         "hovertemplate": "country=North Macedonia<br>lat=%{lat}<br>long=%{lon}<extra></extra>",
         "lat": [
          41.6086
         ],
         "legendgroup": "North Macedonia",
         "lon": [
          21.7453
         ],
         "marker": {
          "color": "#FECB52"
         },
         "mode": "markers",
         "name": "North Macedonia",
         "showlegend": true,
         "subplot": "mapbox",
         "type": "scattermapbox"
        },
        {
         "hovertemplate": "country=Norway<br>lat=%{lat}<br>long=%{lon}<extra></extra>",
         "lat": [
          60.472
         ],
         "legendgroup": "Norway",
         "lon": [
          8.4689
         ],
         "marker": {
          "color": "#636efa"
         },
         "mode": "markers",
         "name": "Norway",
         "showlegend": true,
         "subplot": "mapbox",
         "type": "scattermapbox"
        },
        {
         "hovertemplate": "country=Oman<br>lat=%{lat}<br>long=%{lon}<extra></extra>",
         "lat": [
          21.512583
         ],
         "legendgroup": "Oman",
         "lon": [
          55.923255000000005
         ],
         "marker": {
          "color": "#EF553B"
         },
         "mode": "markers",
         "name": "Oman",
         "showlegend": true,
         "subplot": "mapbox",
         "type": "scattermapbox"
        },
        {
         "hovertemplate": "country=Pakistan<br>lat=%{lat}<br>long=%{lon}<extra></extra>",
         "lat": [
          30.3753
         ],
         "legendgroup": "Pakistan",
         "lon": [
          69.3451
         ],
         "marker": {
          "color": "#00cc96"
         },
         "mode": "markers",
         "name": "Pakistan",
         "showlegend": true,
         "subplot": "mapbox",
         "type": "scattermapbox"
        },
        {
         "hovertemplate": "country=Panama<br>lat=%{lat}<br>long=%{lon}<extra></extra>",
         "lat": [
          8.538
         ],
         "legendgroup": "Panama",
         "lon": [
          -80.7821
         ],
         "marker": {
          "color": "#ab63fa"
         },
         "mode": "markers",
         "name": "Panama",
         "showlegend": true,
         "subplot": "mapbox",
         "type": "scattermapbox"
        },
        {
         "hovertemplate": "country=Papua New Guinea<br>lat=%{lat}<br>long=%{lon}<extra></extra>",
         "lat": [
          -6.314993
         ],
         "legendgroup": "Papua New Guinea",
         "lon": [
          143.95555
         ],
         "marker": {
          "color": "#FFA15A"
         },
         "mode": "markers",
         "name": "Papua New Guinea",
         "showlegend": true,
         "subplot": "mapbox",
         "type": "scattermapbox"
        },
        {
         "hovertemplate": "country=Paraguay<br>lat=%{lat}<br>long=%{lon}<extra></extra>",
         "lat": [
          -23.4425
         ],
         "legendgroup": "Paraguay",
         "lon": [
          -58.4438
         ],
         "marker": {
          "color": "#19d3f3"
         },
         "mode": "markers",
         "name": "Paraguay",
         "showlegend": true,
         "subplot": "mapbox",
         "type": "scattermapbox"
        },
        {
         "hovertemplate": "country=Peru<br>lat=%{lat}<br>long=%{lon}<extra></extra>",
         "lat": [
          -9.19
         ],
         "legendgroup": "Peru",
         "lon": [
          -75.0152
         ],
         "marker": {
          "color": "#FF6692"
         },
         "mode": "markers",
         "name": "Peru",
         "showlegend": true,
         "subplot": "mapbox",
         "type": "scattermapbox"
        },
        {
         "hovertemplate": "country=Philippines<br>lat=%{lat}<br>long=%{lon}<extra></extra>",
         "lat": [
          12.879721
         ],
         "legendgroup": "Philippines",
         "lon": [
          121.77401699999999
         ],
         "marker": {
          "color": "#B6E880"
         },
         "mode": "markers",
         "name": "Philippines",
         "showlegend": true,
         "subplot": "mapbox",
         "type": "scattermapbox"
        },
        {
         "hovertemplate": "country=Poland<br>lat=%{lat}<br>long=%{lon}<extra></extra>",
         "lat": [
          51.9194
         ],
         "legendgroup": "Poland",
         "lon": [
          19.1451
         ],
         "marker": {
          "color": "#FF97FF"
         },
         "mode": "markers",
         "name": "Poland",
         "showlegend": true,
         "subplot": "mapbox",
         "type": "scattermapbox"
        },
        {
         "hovertemplate": "country=Portugal<br>lat=%{lat}<br>long=%{lon}<extra></extra>",
         "lat": [
          39.3999
         ],
         "legendgroup": "Portugal",
         "lon": [
          -8.2245
         ],
         "marker": {
          "color": "#FECB52"
         },
         "mode": "markers",
         "name": "Portugal",
         "showlegend": true,
         "subplot": "mapbox",
         "type": "scattermapbox"
        },
        {
         "hovertemplate": "country=Qatar<br>lat=%{lat}<br>long=%{lon}<extra></extra>",
         "lat": [
          25.3548
         ],
         "legendgroup": "Qatar",
         "lon": [
          51.1839
         ],
         "marker": {
          "color": "#636efa"
         },
         "mode": "markers",
         "name": "Qatar",
         "showlegend": true,
         "subplot": "mapbox",
         "type": "scattermapbox"
        },
        {
         "hovertemplate": "country=Romania<br>lat=%{lat}<br>long=%{lon}<extra></extra>",
         "lat": [
          45.9432
         ],
         "legendgroup": "Romania",
         "lon": [
          24.9668
         ],
         "marker": {
          "color": "#EF553B"
         },
         "mode": "markers",
         "name": "Romania",
         "showlegend": true,
         "subplot": "mapbox",
         "type": "scattermapbox"
        },
        {
         "hovertemplate": "country=Russia<br>lat=%{lat}<br>long=%{lon}<extra></extra>",
         "lat": [
          61.52401
         ],
         "legendgroup": "Russia",
         "lon": [
          105.31875600000001
         ],
         "marker": {
          "color": "#00cc96"
         },
         "mode": "markers",
         "name": "Russia",
         "showlegend": true,
         "subplot": "mapbox",
         "type": "scattermapbox"
        },
        {
         "hovertemplate": "country=Rwanda<br>lat=%{lat}<br>long=%{lon}<extra></extra>",
         "lat": [
          -1.9403
         ],
         "legendgroup": "Rwanda",
         "lon": [
          29.8739
         ],
         "marker": {
          "color": "#ab63fa"
         },
         "mode": "markers",
         "name": "Rwanda",
         "showlegend": true,
         "subplot": "mapbox",
         "type": "scattermapbox"
        },
        {
         "hovertemplate": "country=Saint Kitts and Nevis<br>lat=%{lat}<br>long=%{lon}<extra></extra>",
         "lat": [
          17.357822
         ],
         "legendgroup": "Saint Kitts and Nevis",
         "lon": [
          -62.782998
         ],
         "marker": {
          "color": "#FFA15A"
         },
         "mode": "markers",
         "name": "Saint Kitts and Nevis",
         "showlegend": true,
         "subplot": "mapbox",
         "type": "scattermapbox"
        },
        {
         "hovertemplate": "country=Saint Lucia<br>lat=%{lat}<br>long=%{lon}<extra></extra>",
         "lat": [
          13.9094
         ],
         "legendgroup": "Saint Lucia",
         "lon": [
          -60.9789
         ],
         "marker": {
          "color": "#19d3f3"
         },
         "mode": "markers",
         "name": "Saint Lucia",
         "showlegend": true,
         "subplot": "mapbox",
         "type": "scattermapbox"
        },
        {
         "hovertemplate": "country=Saint Vincent and the Grenadines<br>lat=%{lat}<br>long=%{lon}<extra></extra>",
         "lat": [
          12.9843
         ],
         "legendgroup": "Saint Vincent and the Grenadines",
         "lon": [
          -61.2872
         ],
         "marker": {
          "color": "#FF6692"
         },
         "mode": "markers",
         "name": "Saint Vincent and the Grenadines",
         "showlegend": true,
         "subplot": "mapbox",
         "type": "scattermapbox"
        },
        {
         "hovertemplate": "country=Samoa<br>lat=%{lat}<br>long=%{lon}<extra></extra>",
         "lat": [
          -13.759
         ],
         "legendgroup": "Samoa",
         "lon": [
          -172.1046
         ],
         "marker": {
          "color": "#B6E880"
         },
         "mode": "markers",
         "name": "Samoa",
         "showlegend": true,
         "subplot": "mapbox",
         "type": "scattermapbox"
        },
        {
         "hovertemplate": "country=San Marino<br>lat=%{lat}<br>long=%{lon}<extra></extra>",
         "lat": [
          43.9424
         ],
         "legendgroup": "San Marino",
         "lon": [
          12.4578
         ],
         "marker": {
          "color": "#FF97FF"
         },
         "mode": "markers",
         "name": "San Marino",
         "showlegend": true,
         "subplot": "mapbox",
         "type": "scattermapbox"
        },
        {
         "hovertemplate": "country=Sao Tome and Principe<br>lat=%{lat}<br>long=%{lon}<extra></extra>",
         "lat": [
          0.1864
         ],
         "legendgroup": "Sao Tome and Principe",
         "lon": [
          6.6131
         ],
         "marker": {
          "color": "#FECB52"
         },
         "mode": "markers",
         "name": "Sao Tome and Principe",
         "showlegend": true,
         "subplot": "mapbox",
         "type": "scattermapbox"
        },
        {
         "hovertemplate": "country=Saudi Arabia<br>lat=%{lat}<br>long=%{lon}<extra></extra>",
         "lat": [
          23.885942
         ],
         "legendgroup": "Saudi Arabia",
         "lon": [
          45.079162
         ],
         "marker": {
          "color": "#636efa"
         },
         "mode": "markers",
         "name": "Saudi Arabia",
         "showlegend": true,
         "subplot": "mapbox",
         "type": "scattermapbox"
        },
        {
         "hovertemplate": "country=Senegal<br>lat=%{lat}<br>long=%{lon}<extra></extra>",
         "lat": [
          14.4974
         ],
         "legendgroup": "Senegal",
         "lon": [
          -14.4524
         ],
         "marker": {
          "color": "#EF553B"
         },
         "mode": "markers",
         "name": "Senegal",
         "showlegend": true,
         "subplot": "mapbox",
         "type": "scattermapbox"
        },
        {
         "hovertemplate": "country=Serbia<br>lat=%{lat}<br>long=%{lon}<extra></extra>",
         "lat": [
          44.0165
         ],
         "legendgroup": "Serbia",
         "lon": [
          21.0059
         ],
         "marker": {
          "color": "#00cc96"
         },
         "mode": "markers",
         "name": "Serbia",
         "showlegend": true,
         "subplot": "mapbox",
         "type": "scattermapbox"
        },
        {
         "hovertemplate": "country=Seychelles<br>lat=%{lat}<br>long=%{lon}<extra></extra>",
         "lat": [
          -4.6796
         ],
         "legendgroup": "Seychelles",
         "lon": [
          55.492
         ],
         "marker": {
          "color": "#ab63fa"
         },
         "mode": "markers",
         "name": "Seychelles",
         "showlegend": true,
         "subplot": "mapbox",
         "type": "scattermapbox"
        },
        {
         "hovertemplate": "country=Sierra Leone<br>lat=%{lat}<br>long=%{lon}<extra></extra>",
         "lat": [
          8.460555000000001
         ],
         "legendgroup": "Sierra Leone",
         "lon": [
          -11.779889
         ],
         "marker": {
          "color": "#FFA15A"
         },
         "mode": "markers",
         "name": "Sierra Leone",
         "showlegend": true,
         "subplot": "mapbox",
         "type": "scattermapbox"
        },
        {
         "hovertemplate": "country=Singapore<br>lat=%{lat}<br>long=%{lon}<extra></extra>",
         "lat": [
          1.2833
         ],
         "legendgroup": "Singapore",
         "lon": [
          103.8333
         ],
         "marker": {
          "color": "#19d3f3"
         },
         "mode": "markers",
         "name": "Singapore",
         "showlegend": true,
         "subplot": "mapbox",
         "type": "scattermapbox"
        },
        {
         "hovertemplate": "country=Slovakia<br>lat=%{lat}<br>long=%{lon}<extra></extra>",
         "lat": [
          48.669
         ],
         "legendgroup": "Slovakia",
         "lon": [
          19.699
         ],
         "marker": {
          "color": "#FF6692"
         },
         "mode": "markers",
         "name": "Slovakia",
         "showlegend": true,
         "subplot": "mapbox",
         "type": "scattermapbox"
        },
        {
         "hovertemplate": "country=Slovenia<br>lat=%{lat}<br>long=%{lon}<extra></extra>",
         "lat": [
          46.1512
         ],
         "legendgroup": "Slovenia",
         "lon": [
          14.9955
         ],
         "marker": {
          "color": "#B6E880"
         },
         "mode": "markers",
         "name": "Slovenia",
         "showlegend": true,
         "subplot": "mapbox",
         "type": "scattermapbox"
        },
        {
         "hovertemplate": "country=Solomon Islands<br>lat=%{lat}<br>long=%{lon}<extra></extra>",
         "lat": [
          -9.6457
         ],
         "legendgroup": "Solomon Islands",
         "lon": [
          160.1562
         ],
         "marker": {
          "color": "#FF97FF"
         },
         "mode": "markers",
         "name": "Solomon Islands",
         "showlegend": true,
         "subplot": "mapbox",
         "type": "scattermapbox"
        },
        {
         "hovertemplate": "country=Somalia<br>lat=%{lat}<br>long=%{lon}<extra></extra>",
         "lat": [
          5.152149
         ],
         "legendgroup": "Somalia",
         "lon": [
          46.199616
         ],
         "marker": {
          "color": "#FECB52"
         },
         "mode": "markers",
         "name": "Somalia",
         "showlegend": true,
         "subplot": "mapbox",
         "type": "scattermapbox"
        },
        {
         "hovertemplate": "country=South Africa<br>lat=%{lat}<br>long=%{lon}<extra></extra>",
         "lat": [
          -30.5595
         ],
         "legendgroup": "South Africa",
         "lon": [
          22.9375
         ],
         "marker": {
          "color": "#636efa"
         },
         "mode": "markers",
         "name": "South Africa",
         "showlegend": true,
         "subplot": "mapbox",
         "type": "scattermapbox"
        },
        {
         "hovertemplate": "country=South Sudan<br>lat=%{lat}<br>long=%{lon}<extra></extra>",
         "lat": [
          6.877000000000001
         ],
         "legendgroup": "South Sudan",
         "lon": [
          31.307
         ],
         "marker": {
          "color": "#EF553B"
         },
         "mode": "markers",
         "name": "South Sudan",
         "showlegend": true,
         "subplot": "mapbox",
         "type": "scattermapbox"
        },
        {
         "hovertemplate": "country=Spain<br>lat=%{lat}<br>long=%{lon}<extra></extra>",
         "lat": [
          40.463667
         ],
         "legendgroup": "Spain",
         "lon": [
          -3.7492199999999998
         ],
         "marker": {
          "color": "#00cc96"
         },
         "mode": "markers",
         "name": "Spain",
         "showlegend": true,
         "subplot": "mapbox",
         "type": "scattermapbox"
        },
        {
         "hovertemplate": "country=Sri Lanka<br>lat=%{lat}<br>long=%{lon}<extra></extra>",
         "lat": [
          7.873054
         ],
         "legendgroup": "Sri Lanka",
         "lon": [
          80.77179699999999
         ],
         "marker": {
          "color": "#ab63fa"
         },
         "mode": "markers",
         "name": "Sri Lanka",
         "showlegend": true,
         "subplot": "mapbox",
         "type": "scattermapbox"
        },
        {
         "hovertemplate": "country=Sudan<br>lat=%{lat}<br>long=%{lon}<extra></extra>",
         "lat": [
          12.8628
         ],
         "legendgroup": "Sudan",
         "lon": [
          30.2176
         ],
         "marker": {
          "color": "#FFA15A"
         },
         "mode": "markers",
         "name": "Sudan",
         "showlegend": true,
         "subplot": "mapbox",
         "type": "scattermapbox"
        },
        {
         "hovertemplate": "country=Suriname<br>lat=%{lat}<br>long=%{lon}<extra></extra>",
         "lat": [
          3.9193
         ],
         "legendgroup": "Suriname",
         "lon": [
          -56.0278
         ],
         "marker": {
          "color": "#19d3f3"
         },
         "mode": "markers",
         "name": "Suriname",
         "showlegend": true,
         "subplot": "mapbox",
         "type": "scattermapbox"
        },
        {
         "hovertemplate": "country=Sweden<br>lat=%{lat}<br>long=%{lon}<extra></extra>",
         "lat": [
          60.128161
         ],
         "legendgroup": "Sweden",
         "lon": [
          18.643501
         ],
         "marker": {
          "color": "#FF6692"
         },
         "mode": "markers",
         "name": "Sweden",
         "showlegend": true,
         "subplot": "mapbox",
         "type": "scattermapbox"
        },
        {
         "hovertemplate": "country=Switzerland<br>lat=%{lat}<br>long=%{lon}<extra></extra>",
         "lat": [
          46.8182
         ],
         "legendgroup": "Switzerland",
         "lon": [
          8.2275
         ],
         "marker": {
          "color": "#B6E880"
         },
         "mode": "markers",
         "name": "Switzerland",
         "showlegend": true,
         "subplot": "mapbox",
         "type": "scattermapbox"
        },
        {
         "hovertemplate": "country=Syria<br>lat=%{lat}<br>long=%{lon}<extra></extra>",
         "lat": [
          34.802075
         ],
         "legendgroup": "Syria",
         "lon": [
          38.996815000000005
         ],
         "marker": {
          "color": "#FF97FF"
         },
         "mode": "markers",
         "name": "Syria",
         "showlegend": true,
         "subplot": "mapbox",
         "type": "scattermapbox"
        },
        {
         "hovertemplate": "country=Taiwan*<br>lat=%{lat}<br>long=%{lon}<extra></extra>",
         "lat": [
          23.7
         ],
         "legendgroup": "Taiwan*",
         "lon": [
          121
         ],
         "marker": {
          "color": "#FECB52"
         },
         "mode": "markers",
         "name": "Taiwan*",
         "showlegend": true,
         "subplot": "mapbox",
         "type": "scattermapbox"
        },
        {
         "hovertemplate": "country=Tajikistan<br>lat=%{lat}<br>long=%{lon}<extra></extra>",
         "lat": [
          38.861
         ],
         "legendgroup": "Tajikistan",
         "lon": [
          71.2761
         ],
         "marker": {
          "color": "#636efa"
         },
         "mode": "markers",
         "name": "Tajikistan",
         "showlegend": true,
         "subplot": "mapbox",
         "type": "scattermapbox"
        },
        {
         "hovertemplate": "country=Tanzania<br>lat=%{lat}<br>long=%{lon}<extra></extra>",
         "lat": [
          -6.369028
         ],
         "legendgroup": "Tanzania",
         "lon": [
          34.888822
         ],
         "marker": {
          "color": "#EF553B"
         },
         "mode": "markers",
         "name": "Tanzania",
         "showlegend": true,
         "subplot": "mapbox",
         "type": "scattermapbox"
        },
        {
         "hovertemplate": "country=Thailand<br>lat=%{lat}<br>long=%{lon}<extra></extra>",
         "lat": [
          15.870032
         ],
         "legendgroup": "Thailand",
         "lon": [
          100.992541
         ],
         "marker": {
          "color": "#00cc96"
         },
         "mode": "markers",
         "name": "Thailand",
         "showlegend": true,
         "subplot": "mapbox",
         "type": "scattermapbox"
        },
        {
         "hovertemplate": "country=Timor-Leste<br>lat=%{lat}<br>long=%{lon}<extra></extra>",
         "lat": [
          -8.874217
         ],
         "legendgroup": "Timor-Leste",
         "lon": [
          125.727539
         ],
         "marker": {
          "color": "#ab63fa"
         },
         "mode": "markers",
         "name": "Timor-Leste",
         "showlegend": true,
         "subplot": "mapbox",
         "type": "scattermapbox"
        },
        {
         "hovertemplate": "country=Togo<br>lat=%{lat}<br>long=%{lon}<extra></extra>",
         "lat": [
          8.6195
         ],
         "legendgroup": "Togo",
         "lon": [
          0.8248
         ],
         "marker": {
          "color": "#FFA15A"
         },
         "mode": "markers",
         "name": "Togo",
         "showlegend": true,
         "subplot": "mapbox",
         "type": "scattermapbox"
        },
        {
         "hovertemplate": "country=Trinidad and Tobago<br>lat=%{lat}<br>long=%{lon}<extra></extra>",
         "lat": [
          10.6918
         ],
         "legendgroup": "Trinidad and Tobago",
         "lon": [
          -61.2225
         ],
         "marker": {
          "color": "#19d3f3"
         },
         "mode": "markers",
         "name": "Trinidad and Tobago",
         "showlegend": true,
         "subplot": "mapbox",
         "type": "scattermapbox"
        },
        {
         "hovertemplate": "country=Tunisia<br>lat=%{lat}<br>long=%{lon}<extra></extra>",
         "lat": [
          33.886917
         ],
         "legendgroup": "Tunisia",
         "lon": [
          9.537499
         ],
         "marker": {
          "color": "#FF6692"
         },
         "mode": "markers",
         "name": "Tunisia",
         "showlegend": true,
         "subplot": "mapbox",
         "type": "scattermapbox"
        },
        {
         "hovertemplate": "country=Turkey<br>lat=%{lat}<br>long=%{lon}<extra></extra>",
         "lat": [
          38.9637
         ],
         "legendgroup": "Turkey",
         "lon": [
          35.2433
         ],
         "marker": {
          "color": "#B6E880"
         },
         "mode": "markers",
         "name": "Turkey",
         "showlegend": true,
         "subplot": "mapbox",
         "type": "scattermapbox"
        },
        {
         "hovertemplate": "country=US<br>lat=%{lat}<br>long=%{lon}<extra></extra>",
         "lat": [
          40
         ],
         "legendgroup": "US",
         "lon": [
          -100
         ],
         "marker": {
          "color": "#FF97FF"
         },
         "mode": "markers",
         "name": "US",
         "showlegend": true,
         "subplot": "mapbox",
         "type": "scattermapbox"
        },
        {
         "hovertemplate": "country=Uganda<br>lat=%{lat}<br>long=%{lon}<extra></extra>",
         "lat": [
          1.373333
         ],
         "legendgroup": "Uganda",
         "lon": [
          32.290275
         ],
         "marker": {
          "color": "#FECB52"
         },
         "mode": "markers",
         "name": "Uganda",
         "showlegend": true,
         "subplot": "mapbox",
         "type": "scattermapbox"
        },
        {
         "hovertemplate": "country=Ukraine<br>lat=%{lat}<br>long=%{lon}<extra></extra>",
         "lat": [
          48.3794
         ],
         "legendgroup": "Ukraine",
         "lon": [
          31.1656
         ],
         "marker": {
          "color": "#636efa"
         },
         "mode": "markers",
         "name": "Ukraine",
         "showlegend": true,
         "subplot": "mapbox",
         "type": "scattermapbox"
        },
        {
         "hovertemplate": "country=United Arab Emirates<br>lat=%{lat}<br>long=%{lon}<extra></extra>",
         "lat": [
          23.424076
         ],
         "legendgroup": "United Arab Emirates",
         "lon": [
          53.847818000000004
         ],
         "marker": {
          "color": "#EF553B"
         },
         "mode": "markers",
         "name": "United Arab Emirates",
         "showlegend": true,
         "subplot": "mapbox",
         "type": "scattermapbox"
        },
        {
         "hovertemplate": "country=United Kingdom<br>lat=%{lat}<br>long=%{lon}<extra></extra>",
         "lat": [
          18.2206,
          32.3078,
          18.4207,
          19.3133,
          49.3723,
          -51.7963,
          36.1408,
          54.2361,
          16.742498,
          -7.9467,
          21.694000000000003,
          55.3781
         ],
         "legendgroup": "United Kingdom",
         "lon": [
          -63.0686,
          -64.7505,
          -64.64,
          -81.2546,
          -2.3644,
          -59.5236,
          -5.3536,
          -4.5481,
          -62.187366000000004,
          -14.3559,
          -71.7979,
          -3.4360000000000004
         ],
         "marker": {
          "color": "#00cc96"
         },
         "mode": "markers",
         "name": "United Kingdom",
         "showlegend": true,
         "subplot": "mapbox",
         "type": "scattermapbox"
        },
        {
         "hovertemplate": "country=Uruguay<br>lat=%{lat}<br>long=%{lon}<extra></extra>",
         "lat": [
          -32.5228
         ],
         "legendgroup": "Uruguay",
         "lon": [
          -55.7658
         ],
         "marker": {
          "color": "#ab63fa"
         },
         "mode": "markers",
         "name": "Uruguay",
         "showlegend": true,
         "subplot": "mapbox",
         "type": "scattermapbox"
        },
        {
         "hovertemplate": "country=Uzbekistan<br>lat=%{lat}<br>long=%{lon}<extra></extra>",
         "lat": [
          41.377491
         ],
         "legendgroup": "Uzbekistan",
         "lon": [
          64.585262
         ],
         "marker": {
          "color": "#FFA15A"
         },
         "mode": "markers",
         "name": "Uzbekistan",
         "showlegend": true,
         "subplot": "mapbox",
         "type": "scattermapbox"
        },
        {
         "hovertemplate": "country=Vanuatu<br>lat=%{lat}<br>long=%{lon}<extra></extra>",
         "lat": [
          -15.3767
         ],
         "legendgroup": "Vanuatu",
         "lon": [
          166.9592
         ],
         "marker": {
          "color": "#19d3f3"
         },
         "mode": "markers",
         "name": "Vanuatu",
         "showlegend": true,
         "subplot": "mapbox",
         "type": "scattermapbox"
        },
        {
         "hovertemplate": "country=Venezuela<br>lat=%{lat}<br>long=%{lon}<extra></extra>",
         "lat": [
          6.4238
         ],
         "legendgroup": "Venezuela",
         "lon": [
          -66.5897
         ],
         "marker": {
          "color": "#FF6692"
         },
         "mode": "markers",
         "name": "Venezuela",
         "showlegend": true,
         "subplot": "mapbox",
         "type": "scattermapbox"
        },
        {
         "hovertemplate": "country=Vietnam<br>lat=%{lat}<br>long=%{lon}<extra></extra>",
         "lat": [
          14.058323999999999
         ],
         "legendgroup": "Vietnam",
         "lon": [
          108.277199
         ],
         "marker": {
          "color": "#B6E880"
         },
         "mode": "markers",
         "name": "Vietnam",
         "showlegend": true,
         "subplot": "mapbox",
         "type": "scattermapbox"
        },
        {
         "hovertemplate": "country=West Bank and Gaza<br>lat=%{lat}<br>long=%{lon}<extra></extra>",
         "lat": [
          31.9522
         ],
         "legendgroup": "West Bank and Gaza",
         "lon": [
          35.2332
         ],
         "marker": {
          "color": "#FF97FF"
         },
         "mode": "markers",
         "name": "West Bank and Gaza",
         "showlegend": true,
         "subplot": "mapbox",
         "type": "scattermapbox"
        },
        {
         "hovertemplate": "country=Yemen<br>lat=%{lat}<br>long=%{lon}<extra></extra>",
         "lat": [
          15.552726999999999
         ],
         "legendgroup": "Yemen",
         "lon": [
          48.516388
         ],
         "marker": {
          "color": "#FECB52"
         },
         "mode": "markers",
         "name": "Yemen",
         "showlegend": true,
         "subplot": "mapbox",
         "type": "scattermapbox"
        },
        {
         "hovertemplate": "country=Zambia<br>lat=%{lat}<br>long=%{lon}<extra></extra>",
         "lat": [
          -13.133897
         ],
         "legendgroup": "Zambia",
         "lon": [
          27.849332
         ],
         "marker": {
          "color": "#636efa"
         },
         "mode": "markers",
         "name": "Zambia",
         "showlegend": true,
         "subplot": "mapbox",
         "type": "scattermapbox"
        },
        {
         "hovertemplate": "country=Zimbabwe<br>lat=%{lat}<br>long=%{lon}<extra></extra>",
         "lat": [
          -19.015438
         ],
         "legendgroup": "Zimbabwe",
         "lon": [
          29.154857
         ],
         "marker": {
          "color": "#EF553B"
         },
         "mode": "markers",
         "name": "Zimbabwe",
         "showlegend": true,
         "subplot": "mapbox",
         "type": "scattermapbox"
        }
       ],
       "layout": {
        "legend": {
         "title": {
          "text": "country"
         },
         "tracegroupgap": 0
        },
        "mapbox": {
         "center": {
          "lat": 20.534804212454183,
          "lon": 23.02814327472526
         },
         "domain": {
          "x": [
           0,
           1
          ],
          "y": [
           0,
           1
          ]
         },
         "style": "carto-positron",
         "zoom": 0
        },
        "margin": {
         "t": 60
        },
        "template": {
         "data": {
          "bar": [
           {
            "error_x": {
             "color": "#2a3f5f"
            },
            "error_y": {
             "color": "#2a3f5f"
            },
            "marker": {
             "line": {
              "color": "#E5ECF6",
              "width": 0.5
             }
            },
            "type": "bar"
           }
          ],
          "barpolar": [
           {
            "marker": {
             "line": {
              "color": "#E5ECF6",
              "width": 0.5
             }
            },
            "type": "barpolar"
           }
          ],
          "carpet": [
           {
            "aaxis": {
             "endlinecolor": "#2a3f5f",
             "gridcolor": "white",
             "linecolor": "white",
             "minorgridcolor": "white",
             "startlinecolor": "#2a3f5f"
            },
            "baxis": {
             "endlinecolor": "#2a3f5f",
             "gridcolor": "white",
             "linecolor": "white",
             "minorgridcolor": "white",
             "startlinecolor": "#2a3f5f"
            },
            "type": "carpet"
           }
          ],
          "choropleth": [
           {
            "colorbar": {
             "outlinewidth": 0,
             "ticks": ""
            },
            "type": "choropleth"
           }
          ],
          "contour": [
           {
            "colorbar": {
             "outlinewidth": 0,
             "ticks": ""
            },
            "colorscale": [
             [
              0,
              "#0d0887"
             ],
             [
              0.1111111111111111,
              "#46039f"
             ],
             [
              0.2222222222222222,
              "#7201a8"
             ],
             [
              0.3333333333333333,
              "#9c179e"
             ],
             [
              0.4444444444444444,
              "#bd3786"
             ],
             [
              0.5555555555555556,
              "#d8576b"
             ],
             [
              0.6666666666666666,
              "#ed7953"
             ],
             [
              0.7777777777777778,
              "#fb9f3a"
             ],
             [
              0.8888888888888888,
              "#fdca26"
             ],
             [
              1,
              "#f0f921"
             ]
            ],
            "type": "contour"
           }
          ],
          "contourcarpet": [
           {
            "colorbar": {
             "outlinewidth": 0,
             "ticks": ""
            },
            "type": "contourcarpet"
           }
          ],
          "heatmap": [
           {
            "colorbar": {
             "outlinewidth": 0,
             "ticks": ""
            },
            "colorscale": [
             [
              0,
              "#0d0887"
             ],
             [
              0.1111111111111111,
              "#46039f"
             ],
             [
              0.2222222222222222,
              "#7201a8"
             ],
             [
              0.3333333333333333,
              "#9c179e"
             ],
             [
              0.4444444444444444,
              "#bd3786"
             ],
             [
              0.5555555555555556,
              "#d8576b"
             ],
             [
              0.6666666666666666,
              "#ed7953"
             ],
             [
              0.7777777777777778,
              "#fb9f3a"
             ],
             [
              0.8888888888888888,
              "#fdca26"
             ],
             [
              1,
              "#f0f921"
             ]
            ],
            "type": "heatmap"
           }
          ],
          "heatmapgl": [
           {
            "colorbar": {
             "outlinewidth": 0,
             "ticks": ""
            },
            "colorscale": [
             [
              0,
              "#0d0887"
             ],
             [
              0.1111111111111111,
              "#46039f"
             ],
             [
              0.2222222222222222,
              "#7201a8"
             ],
             [
              0.3333333333333333,
              "#9c179e"
             ],
             [
              0.4444444444444444,
              "#bd3786"
             ],
             [
              0.5555555555555556,
              "#d8576b"
             ],
             [
              0.6666666666666666,
              "#ed7953"
             ],
             [
              0.7777777777777778,
              "#fb9f3a"
             ],
             [
              0.8888888888888888,
              "#fdca26"
             ],
             [
              1,
              "#f0f921"
             ]
            ],
            "type": "heatmapgl"
           }
          ],
          "histogram": [
           {
            "marker": {
             "colorbar": {
              "outlinewidth": 0,
              "ticks": ""
             }
            },
            "type": "histogram"
           }
          ],
          "histogram2d": [
           {
            "colorbar": {
             "outlinewidth": 0,
             "ticks": ""
            },
            "colorscale": [
             [
              0,
              "#0d0887"
             ],
             [
              0.1111111111111111,
              "#46039f"
             ],
             [
              0.2222222222222222,
              "#7201a8"
             ],
             [
              0.3333333333333333,
              "#9c179e"
             ],
             [
              0.4444444444444444,
              "#bd3786"
             ],
             [
              0.5555555555555556,
              "#d8576b"
             ],
             [
              0.6666666666666666,
              "#ed7953"
             ],
             [
              0.7777777777777778,
              "#fb9f3a"
             ],
             [
              0.8888888888888888,
              "#fdca26"
             ],
             [
              1,
              "#f0f921"
             ]
            ],
            "type": "histogram2d"
           }
          ],
          "histogram2dcontour": [
           {
            "colorbar": {
             "outlinewidth": 0,
             "ticks": ""
            },
            "colorscale": [
             [
              0,
              "#0d0887"
             ],
             [
              0.1111111111111111,
              "#46039f"
             ],
             [
              0.2222222222222222,
              "#7201a8"
             ],
             [
              0.3333333333333333,
              "#9c179e"
             ],
             [
              0.4444444444444444,
              "#bd3786"
             ],
             [
              0.5555555555555556,
              "#d8576b"
             ],
             [
              0.6666666666666666,
              "#ed7953"
             ],
             [
              0.7777777777777778,
              "#fb9f3a"
             ],
             [
              0.8888888888888888,
              "#fdca26"
             ],
             [
              1,
              "#f0f921"
             ]
            ],
            "type": "histogram2dcontour"
           }
          ],
          "mesh3d": [
           {
            "colorbar": {
             "outlinewidth": 0,
             "ticks": ""
            },
            "type": "mesh3d"
           }
          ],
          "parcoords": [
           {
            "line": {
             "colorbar": {
              "outlinewidth": 0,
              "ticks": ""
             }
            },
            "type": "parcoords"
           }
          ],
          "pie": [
           {
            "automargin": true,
            "type": "pie"
           }
          ],
          "scatter": [
           {
            "marker": {
             "colorbar": {
              "outlinewidth": 0,
              "ticks": ""
             }
            },
            "type": "scatter"
           }
          ],
          "scatter3d": [
           {
            "line": {
             "colorbar": {
              "outlinewidth": 0,
              "ticks": ""
             }
            },
            "marker": {
             "colorbar": {
              "outlinewidth": 0,
              "ticks": ""
             }
            },
            "type": "scatter3d"
           }
          ],
          "scattercarpet": [
           {
            "marker": {
             "colorbar": {
              "outlinewidth": 0,
              "ticks": ""
             }
            },
            "type": "scattercarpet"
           }
          ],
          "scattergeo": [
           {
            "marker": {
             "colorbar": {
              "outlinewidth": 0,
              "ticks": ""
             }
            },
            "type": "scattergeo"
           }
          ],
          "scattergl": [
           {
            "marker": {
             "colorbar": {
              "outlinewidth": 0,
              "ticks": ""
             }
            },
            "type": "scattergl"
           }
          ],
          "scattermapbox": [
           {
            "marker": {
             "colorbar": {
              "outlinewidth": 0,
              "ticks": ""
             }
            },
            "type": "scattermapbox"
           }
          ],
          "scatterpolar": [
           {
            "marker": {
             "colorbar": {
              "outlinewidth": 0,
              "ticks": ""
             }
            },
            "type": "scatterpolar"
           }
          ],
          "scatterpolargl": [
           {
            "marker": {
             "colorbar": {
              "outlinewidth": 0,
              "ticks": ""
             }
            },
            "type": "scatterpolargl"
           }
          ],
          "scatterternary": [
           {
            "marker": {
             "colorbar": {
              "outlinewidth": 0,
              "ticks": ""
             }
            },
            "type": "scatterternary"
           }
          ],
          "surface": [
           {
            "colorbar": {
             "outlinewidth": 0,
             "ticks": ""
            },
            "colorscale": [
             [
              0,
              "#0d0887"
             ],
             [
              0.1111111111111111,
              "#46039f"
             ],
             [
              0.2222222222222222,
              "#7201a8"
             ],
             [
              0.3333333333333333,
              "#9c179e"
             ],
             [
              0.4444444444444444,
              "#bd3786"
             ],
             [
              0.5555555555555556,
              "#d8576b"
             ],
             [
              0.6666666666666666,
              "#ed7953"
             ],
             [
              0.7777777777777778,
              "#fb9f3a"
             ],
             [
              0.8888888888888888,
              "#fdca26"
             ],
             [
              1,
              "#f0f921"
             ]
            ],
            "type": "surface"
           }
          ],
          "table": [
           {
            "cells": {
             "fill": {
              "color": "#EBF0F8"
             },
             "line": {
              "color": "white"
             }
            },
            "header": {
             "fill": {
              "color": "#C8D4E3"
             },
             "line": {
              "color": "white"
             }
            },
            "type": "table"
           }
          ]
         },
         "layout": {
          "annotationdefaults": {
           "arrowcolor": "#2a3f5f",
           "arrowhead": 0,
           "arrowwidth": 1
          },
          "autotypenumbers": "strict",
          "coloraxis": {
           "colorbar": {
            "outlinewidth": 0,
            "ticks": ""
           }
          },
          "colorscale": {
           "diverging": [
            [
             0,
             "#8e0152"
            ],
            [
             0.1,
             "#c51b7d"
            ],
            [
             0.2,
             "#de77ae"
            ],
            [
             0.3,
             "#f1b6da"
            ],
            [
             0.4,
             "#fde0ef"
            ],
            [
             0.5,
             "#f7f7f7"
            ],
            [
             0.6,
             "#e6f5d0"
            ],
            [
             0.7,
             "#b8e186"
            ],
            [
             0.8,
             "#7fbc41"
            ],
            [
             0.9,
             "#4d9221"
            ],
            [
             1,
             "#276419"
            ]
           ],
           "sequential": [
            [
             0,
             "#0d0887"
            ],
            [
             0.1111111111111111,
             "#46039f"
            ],
            [
             0.2222222222222222,
             "#7201a8"
            ],
            [
             0.3333333333333333,
             "#9c179e"
            ],
            [
             0.4444444444444444,
             "#bd3786"
            ],
            [
             0.5555555555555556,
             "#d8576b"
            ],
            [
             0.6666666666666666,
             "#ed7953"
            ],
            [
             0.7777777777777778,
             "#fb9f3a"
            ],
            [
             0.8888888888888888,
             "#fdca26"
            ],
            [
             1,
             "#f0f921"
            ]
           ],
           "sequentialminus": [
            [
             0,
             "#0d0887"
            ],
            [
             0.1111111111111111,
             "#46039f"
            ],
            [
             0.2222222222222222,
             "#7201a8"
            ],
            [
             0.3333333333333333,
             "#9c179e"
            ],
            [
             0.4444444444444444,
             "#bd3786"
            ],
            [
             0.5555555555555556,
             "#d8576b"
            ],
            [
             0.6666666666666666,
             "#ed7953"
            ],
            [
             0.7777777777777778,
             "#fb9f3a"
            ],
            [
             0.8888888888888888,
             "#fdca26"
            ],
            [
             1,
             "#f0f921"
            ]
           ]
          },
          "colorway": [
           "#636efa",
           "#EF553B",
           "#00cc96",
           "#ab63fa",
           "#FFA15A",
           "#19d3f3",
           "#FF6692",
           "#B6E880",
           "#FF97FF",
           "#FECB52"
          ],
          "font": {
           "color": "#2a3f5f"
          },
          "geo": {
           "bgcolor": "white",
           "lakecolor": "white",
           "landcolor": "#E5ECF6",
           "showlakes": true,
           "showland": true,
           "subunitcolor": "white"
          },
          "hoverlabel": {
           "align": "left"
          },
          "hovermode": "closest",
          "mapbox": {
           "style": "light"
          },
          "paper_bgcolor": "white",
          "plot_bgcolor": "#E5ECF6",
          "polar": {
           "angularaxis": {
            "gridcolor": "white",
            "linecolor": "white",
            "ticks": ""
           },
           "bgcolor": "#E5ECF6",
           "radialaxis": {
            "gridcolor": "white",
            "linecolor": "white",
            "ticks": ""
           }
          },
          "scene": {
           "xaxis": {
            "backgroundcolor": "#E5ECF6",
            "gridcolor": "white",
            "gridwidth": 2,
            "linecolor": "white",
            "showbackground": true,
            "ticks": "",
            "zerolinecolor": "white"
           },
           "yaxis": {
            "backgroundcolor": "#E5ECF6",
            "gridcolor": "white",
            "gridwidth": 2,
            "linecolor": "white",
            "showbackground": true,
            "ticks": "",
            "zerolinecolor": "white"
           },
           "zaxis": {
            "backgroundcolor": "#E5ECF6",
            "gridcolor": "white",
            "gridwidth": 2,
            "linecolor": "white",
            "showbackground": true,
            "ticks": "",
            "zerolinecolor": "white"
           }
          },
          "shapedefaults": {
           "line": {
            "color": "#2a3f5f"
           }
          },
          "ternary": {
           "aaxis": {
            "gridcolor": "white",
            "linecolor": "white",
            "ticks": ""
           },
           "baxis": {
            "gridcolor": "white",
            "linecolor": "white",
            "ticks": ""
           },
           "bgcolor": "#E5ECF6",
           "caxis": {
            "gridcolor": "white",
            "linecolor": "white",
            "ticks": ""
           }
          },
          "title": {
           "x": 0.05
          },
          "xaxis": {
           "automargin": true,
           "gridcolor": "white",
           "linecolor": "white",
           "ticks": "",
           "title": {
            "standoff": 15
           },
           "zerolinecolor": "white",
           "zerolinewidth": 2
          },
          "yaxis": {
           "automargin": true,
           "gridcolor": "white",
           "linecolor": "white",
           "ticks": "",
           "title": {
            "standoff": 15
           },
           "zerolinecolor": "white",
           "zerolinewidth": 2
          }
         }
        },
        "title": {
         "text": "Global spread of COVID-19. (Last updated on 5/5/21)"
        }
       }
      },
      "text/html": [
       "<div>                            <div id=\"32612904-f769-49b4-86b0-0e195a720194\" class=\"plotly-graph-div\" style=\"height:525px; width:100%;\"></div>            <script type=\"text/javascript\">                require([\"plotly\"], function(Plotly) {                    window.PLOTLYENV=window.PLOTLYENV || {};                                    if (document.getElementById(\"32612904-f769-49b4-86b0-0e195a720194\")) {                    Plotly.newPlot(                        \"32612904-f769-49b4-86b0-0e195a720194\",                        [{\"hovertemplate\": \"country=Afghanistan<br>lat=%{lat}<br>long=%{lon}<extra></extra>\", \"lat\": [33.93911], \"legendgroup\": \"Afghanistan\", \"lon\": [67.709953], \"marker\": {\"color\": \"#636efa\"}, \"mode\": \"markers\", \"name\": \"Afghanistan\", \"showlegend\": true, \"subplot\": \"mapbox\", \"type\": \"scattermapbox\"}, {\"hovertemplate\": \"country=Albania<br>lat=%{lat}<br>long=%{lon}<extra></extra>\", \"lat\": [41.1533], \"legendgroup\": \"Albania\", \"lon\": [20.1683], \"marker\": {\"color\": \"#EF553B\"}, \"mode\": \"markers\", \"name\": \"Albania\", \"showlegend\": true, \"subplot\": \"mapbox\", \"type\": \"scattermapbox\"}, {\"hovertemplate\": \"country=Algeria<br>lat=%{lat}<br>long=%{lon}<extra></extra>\", \"lat\": [28.0339], \"legendgroup\": \"Algeria\", \"lon\": [1.6596], \"marker\": {\"color\": \"#00cc96\"}, \"mode\": \"markers\", \"name\": \"Algeria\", \"showlegend\": true, \"subplot\": \"mapbox\", \"type\": \"scattermapbox\"}, {\"hovertemplate\": \"country=Andorra<br>lat=%{lat}<br>long=%{lon}<extra></extra>\", \"lat\": [42.5063], \"legendgroup\": \"Andorra\", \"lon\": [1.5218], \"marker\": {\"color\": \"#ab63fa\"}, \"mode\": \"markers\", \"name\": \"Andorra\", \"showlegend\": true, \"subplot\": \"mapbox\", \"type\": \"scattermapbox\"}, {\"hovertemplate\": \"country=Angola<br>lat=%{lat}<br>long=%{lon}<extra></extra>\", \"lat\": [-11.2027], \"legendgroup\": \"Angola\", \"lon\": [17.8739], \"marker\": {\"color\": \"#FFA15A\"}, \"mode\": \"markers\", \"name\": \"Angola\", \"showlegend\": true, \"subplot\": \"mapbox\", \"type\": \"scattermapbox\"}, {\"hovertemplate\": \"country=Antigua and Barbuda<br>lat=%{lat}<br>long=%{lon}<extra></extra>\", \"lat\": [17.0608], \"legendgroup\": \"Antigua and Barbuda\", \"lon\": [-61.7964], \"marker\": {\"color\": \"#19d3f3\"}, \"mode\": \"markers\", \"name\": \"Antigua and Barbuda\", \"showlegend\": true, \"subplot\": \"mapbox\", \"type\": \"scattermapbox\"}, {\"hovertemplate\": \"country=Argentina<br>lat=%{lat}<br>long=%{lon}<extra></extra>\", \"lat\": [-38.4161], \"legendgroup\": \"Argentina\", \"lon\": [-63.6167], \"marker\": {\"color\": \"#FF6692\"}, \"mode\": \"markers\", \"name\": \"Argentina\", \"showlegend\": true, \"subplot\": \"mapbox\", \"type\": \"scattermapbox\"}, {\"hovertemplate\": \"country=Armenia<br>lat=%{lat}<br>long=%{lon}<extra></extra>\", \"lat\": [40.0691], \"legendgroup\": \"Armenia\", \"lon\": [45.0382], \"marker\": {\"color\": \"#B6E880\"}, \"mode\": \"markers\", \"name\": \"Armenia\", \"showlegend\": true, \"subplot\": \"mapbox\", \"type\": \"scattermapbox\"}, {\"hovertemplate\": \"country=Australia<br>lat=%{lat}<br>long=%{lon}<extra></extra>\", \"lat\": [-35.4735, -33.8688, -12.4634, -27.4698, -34.9285, -42.8821, -37.8136, -31.9505], \"legendgroup\": \"Australia\", \"lon\": [149.0124, 151.2093, 130.8456, 153.0251, 138.6007, 147.3272, 144.9631, 115.8605], \"marker\": {\"color\": \"#FF97FF\"}, \"mode\": \"markers\", \"name\": \"Australia\", \"showlegend\": true, \"subplot\": \"mapbox\", \"type\": \"scattermapbox\"}, {\"hovertemplate\": \"country=Austria<br>lat=%{lat}<br>long=%{lon}<extra></extra>\", \"lat\": [47.5162], \"legendgroup\": \"Austria\", \"lon\": [14.5501], \"marker\": {\"color\": \"#FECB52\"}, \"mode\": \"markers\", \"name\": \"Austria\", \"showlegend\": true, \"subplot\": \"mapbox\", \"type\": \"scattermapbox\"}, {\"hovertemplate\": \"country=Azerbaijan<br>lat=%{lat}<br>long=%{lon}<extra></extra>\", \"lat\": [40.1431], \"legendgroup\": \"Azerbaijan\", \"lon\": [47.5769], \"marker\": {\"color\": \"#636efa\"}, \"mode\": \"markers\", \"name\": \"Azerbaijan\", \"showlegend\": true, \"subplot\": \"mapbox\", \"type\": \"scattermapbox\"}, {\"hovertemplate\": \"country=Bahamas<br>lat=%{lat}<br>long=%{lon}<extra></extra>\", \"lat\": [25.025885], \"legendgroup\": \"Bahamas\", \"lon\": [-78.035889], \"marker\": {\"color\": \"#EF553B\"}, \"mode\": \"markers\", \"name\": \"Bahamas\", \"showlegend\": true, \"subplot\": \"mapbox\", \"type\": \"scattermapbox\"}, {\"hovertemplate\": \"country=Bahrain<br>lat=%{lat}<br>long=%{lon}<extra></extra>\", \"lat\": [26.0275], \"legendgroup\": \"Bahrain\", \"lon\": [50.55], \"marker\": {\"color\": \"#00cc96\"}, \"mode\": \"markers\", \"name\": \"Bahrain\", \"showlegend\": true, \"subplot\": \"mapbox\", \"type\": \"scattermapbox\"}, {\"hovertemplate\": \"country=Bangladesh<br>lat=%{lat}<br>long=%{lon}<extra></extra>\", \"lat\": [23.685], \"legendgroup\": \"Bangladesh\", \"lon\": [90.3563], \"marker\": {\"color\": \"#ab63fa\"}, \"mode\": \"markers\", \"name\": \"Bangladesh\", \"showlegend\": true, \"subplot\": \"mapbox\", \"type\": \"scattermapbox\"}, {\"hovertemplate\": \"country=Barbados<br>lat=%{lat}<br>long=%{lon}<extra></extra>\", \"lat\": [13.1939], \"legendgroup\": \"Barbados\", \"lon\": [-59.5432], \"marker\": {\"color\": \"#FFA15A\"}, \"mode\": \"markers\", \"name\": \"Barbados\", \"showlegend\": true, \"subplot\": \"mapbox\", \"type\": \"scattermapbox\"}, {\"hovertemplate\": \"country=Belarus<br>lat=%{lat}<br>long=%{lon}<extra></extra>\", \"lat\": [53.7098], \"legendgroup\": \"Belarus\", \"lon\": [27.9534], \"marker\": {\"color\": \"#19d3f3\"}, \"mode\": \"markers\", \"name\": \"Belarus\", \"showlegend\": true, \"subplot\": \"mapbox\", \"type\": \"scattermapbox\"}, {\"hovertemplate\": \"country=Belgium<br>lat=%{lat}<br>long=%{lon}<extra></extra>\", \"lat\": [50.8333], \"legendgroup\": \"Belgium\", \"lon\": [4.469936], \"marker\": {\"color\": \"#FF6692\"}, \"mode\": \"markers\", \"name\": \"Belgium\", \"showlegend\": true, \"subplot\": \"mapbox\", \"type\": \"scattermapbox\"}, {\"hovertemplate\": \"country=Belize<br>lat=%{lat}<br>long=%{lon}<extra></extra>\", \"lat\": [17.1899], \"legendgroup\": \"Belize\", \"lon\": [-88.4976], \"marker\": {\"color\": \"#B6E880\"}, \"mode\": \"markers\", \"name\": \"Belize\", \"showlegend\": true, \"subplot\": \"mapbox\", \"type\": \"scattermapbox\"}, {\"hovertemplate\": \"country=Benin<br>lat=%{lat}<br>long=%{lon}<extra></extra>\", \"lat\": [9.3077], \"legendgroup\": \"Benin\", \"lon\": [2.3158], \"marker\": {\"color\": \"#FF97FF\"}, \"mode\": \"markers\", \"name\": \"Benin\", \"showlegend\": true, \"subplot\": \"mapbox\", \"type\": \"scattermapbox\"}, {\"hovertemplate\": \"country=Bhutan<br>lat=%{lat}<br>long=%{lon}<extra></extra>\", \"lat\": [27.5142], \"legendgroup\": \"Bhutan\", \"lon\": [90.4336], \"marker\": {\"color\": \"#FECB52\"}, \"mode\": \"markers\", \"name\": \"Bhutan\", \"showlegend\": true, \"subplot\": \"mapbox\", \"type\": \"scattermapbox\"}, {\"hovertemplate\": \"country=Bolivia<br>lat=%{lat}<br>long=%{lon}<extra></extra>\", \"lat\": [-16.2902], \"legendgroup\": \"Bolivia\", \"lon\": [-63.5887], \"marker\": {\"color\": \"#636efa\"}, \"mode\": \"markers\", \"name\": \"Bolivia\", \"showlegend\": true, \"subplot\": \"mapbox\", \"type\": \"scattermapbox\"}, {\"hovertemplate\": \"country=Bosnia and Herzegovina<br>lat=%{lat}<br>long=%{lon}<extra></extra>\", \"lat\": [43.9159], \"legendgroup\": \"Bosnia and Herzegovina\", \"lon\": [17.6791], \"marker\": {\"color\": \"#EF553B\"}, \"mode\": \"markers\", \"name\": \"Bosnia and Herzegovina\", \"showlegend\": true, \"subplot\": \"mapbox\", \"type\": \"scattermapbox\"}, {\"hovertemplate\": \"country=Botswana<br>lat=%{lat}<br>long=%{lon}<extra></extra>\", \"lat\": [-22.3285], \"legendgroup\": \"Botswana\", \"lon\": [24.6849], \"marker\": {\"color\": \"#00cc96\"}, \"mode\": \"markers\", \"name\": \"Botswana\", \"showlegend\": true, \"subplot\": \"mapbox\", \"type\": \"scattermapbox\"}, {\"hovertemplate\": \"country=Brazil<br>lat=%{lat}<br>long=%{lon}<extra></extra>\", \"lat\": [-14.235], \"legendgroup\": \"Brazil\", \"lon\": [-51.9253], \"marker\": {\"color\": \"#ab63fa\"}, \"mode\": \"markers\", \"name\": \"Brazil\", \"showlegend\": true, \"subplot\": \"mapbox\", \"type\": \"scattermapbox\"}, {\"hovertemplate\": \"country=Brunei<br>lat=%{lat}<br>long=%{lon}<extra></extra>\", \"lat\": [4.5353], \"legendgroup\": \"Brunei\", \"lon\": [114.7277], \"marker\": {\"color\": \"#FFA15A\"}, \"mode\": \"markers\", \"name\": \"Brunei\", \"showlegend\": true, \"subplot\": \"mapbox\", \"type\": \"scattermapbox\"}, {\"hovertemplate\": \"country=Bulgaria<br>lat=%{lat}<br>long=%{lon}<extra></extra>\", \"lat\": [42.7339], \"legendgroup\": \"Bulgaria\", \"lon\": [25.4858], \"marker\": {\"color\": \"#19d3f3\"}, \"mode\": \"markers\", \"name\": \"Bulgaria\", \"showlegend\": true, \"subplot\": \"mapbox\", \"type\": \"scattermapbox\"}, {\"hovertemplate\": \"country=Burkina Faso<br>lat=%{lat}<br>long=%{lon}<extra></extra>\", \"lat\": [12.2383], \"legendgroup\": \"Burkina Faso\", \"lon\": [-1.5616], \"marker\": {\"color\": \"#FF6692\"}, \"mode\": \"markers\", \"name\": \"Burkina Faso\", \"showlegend\": true, \"subplot\": \"mapbox\", \"type\": \"scattermapbox\"}, {\"hovertemplate\": \"country=Burma<br>lat=%{lat}<br>long=%{lon}<extra></extra>\", \"lat\": [21.9162], \"legendgroup\": \"Burma\", \"lon\": [95.956], \"marker\": {\"color\": \"#B6E880\"}, \"mode\": \"markers\", \"name\": \"Burma\", \"showlegend\": true, \"subplot\": \"mapbox\", \"type\": \"scattermapbox\"}, {\"hovertemplate\": \"country=Burundi<br>lat=%{lat}<br>long=%{lon}<extra></extra>\", \"lat\": [-3.3731], \"legendgroup\": \"Burundi\", \"lon\": [29.9189], \"marker\": {\"color\": \"#FF97FF\"}, \"mode\": \"markers\", \"name\": \"Burundi\", \"showlegend\": true, \"subplot\": \"mapbox\", \"type\": \"scattermapbox\"}, {\"hovertemplate\": \"country=Cabo Verde<br>lat=%{lat}<br>long=%{lon}<extra></extra>\", \"lat\": [16.5388], \"legendgroup\": \"Cabo Verde\", \"lon\": [-23.0418], \"marker\": {\"color\": \"#FECB52\"}, \"mode\": \"markers\", \"name\": \"Cabo Verde\", \"showlegend\": true, \"subplot\": \"mapbox\", \"type\": \"scattermapbox\"}, {\"hovertemplate\": \"country=Cambodia<br>lat=%{lat}<br>long=%{lon}<extra></extra>\", \"lat\": [11.55], \"legendgroup\": \"Cambodia\", \"lon\": [104.9167], \"marker\": {\"color\": \"#636efa\"}, \"mode\": \"markers\", \"name\": \"Cambodia\", \"showlegend\": true, \"subplot\": \"mapbox\", \"type\": \"scattermapbox\"}, {\"hovertemplate\": \"country=Cameroon<br>lat=%{lat}<br>long=%{lon}<extra></extra>\", \"lat\": [3.8480000000000003], \"legendgroup\": \"Cameroon\", \"lon\": [11.5021], \"marker\": {\"color\": \"#EF553B\"}, \"mode\": \"markers\", \"name\": \"Cameroon\", \"showlegend\": true, \"subplot\": \"mapbox\", \"type\": \"scattermapbox\"}, {\"hovertemplate\": \"country=Canada<br>lat=%{lat}<br>long=%{lon}<extra></extra>\", \"lat\": [53.9333, 53.7267, 0.0, 0.0, 53.7609, 46.5653, 53.1355, 64.8255, 44.681999999999995, 70.2998, 51.2538, 46.5107, 52.9399, 52.9399, 64.2823], \"legendgroup\": \"Canada\", \"lon\": [-116.5765, -127.6476, 0.0, 0.0, -98.8139, -66.4619, -57.6604, -124.8457, -63.7443, -83.1076, -85.3232, -63.4168, -73.5491, -106.4509, -135.0], \"marker\": {\"color\": \"#00cc96\"}, \"mode\": \"markers\", \"name\": \"Canada\", \"showlegend\": true, \"subplot\": \"mapbox\", \"type\": \"scattermapbox\"}, {\"hovertemplate\": \"country=Central African Republic<br>lat=%{lat}<br>long=%{lon}<extra></extra>\", \"lat\": [6.6111], \"legendgroup\": \"Central African Republic\", \"lon\": [20.9394], \"marker\": {\"color\": \"#ab63fa\"}, \"mode\": \"markers\", \"name\": \"Central African Republic\", \"showlegend\": true, \"subplot\": \"mapbox\", \"type\": \"scattermapbox\"}, {\"hovertemplate\": \"country=Chad<br>lat=%{lat}<br>long=%{lon}<extra></extra>\", \"lat\": [15.4542], \"legendgroup\": \"Chad\", \"lon\": [18.7322], \"marker\": {\"color\": \"#FFA15A\"}, \"mode\": \"markers\", \"name\": \"Chad\", \"showlegend\": true, \"subplot\": \"mapbox\", \"type\": \"scattermapbox\"}, {\"hovertemplate\": \"country=Chile<br>lat=%{lat}<br>long=%{lon}<extra></extra>\", \"lat\": [-35.6751], \"legendgroup\": \"Chile\", \"lon\": [-71.543], \"marker\": {\"color\": \"#19d3f3\"}, \"mode\": \"markers\", \"name\": \"Chile\", \"showlegend\": true, \"subplot\": \"mapbox\", \"type\": \"scattermapbox\"}, {\"hovertemplate\": \"country=China<br>lat=%{lat}<br>long=%{lon}<extra></extra>\", \"lat\": [31.8257, 40.1824, 30.0572, 26.0789, 35.7518, 23.3417, 23.8298, 26.8154, 19.1959, 39.549, 47.861999999999995, 37.8957, 22.3, 30.9756, 27.6104, 44.0935, 32.9711, 27.614, 43.6661, 41.2956, 22.1667, 37.2692, 35.7452, 35.1917, 36.3427, 31.201999999999998, 37.5777, 30.6171, 39.3054, 31.6927, 41.1129, 24.974, 29.1832], \"legendgroup\": \"China\", \"lon\": [117.2264, 116.4142, 107.874, 117.9874, 104.2861, 113.4244, 108.7881, 106.8748, 109.7453, 116.1306, 127.7615, 114.9042, 114.2, 112.2707, 111.7088, 113.9448, 119.455, 115.7221, 126.1923, 122.6085, 113.55, 106.1655, 95.9956, 108.8701, 118.1498, 121.4491, 112.2922, 102.7103, 117.323, 88.0924, 85.2401, 101.48700000000001, 120.0934], \"marker\": {\"color\": \"#FF6692\"}, \"mode\": \"markers\", \"name\": \"China\", \"showlegend\": true, \"subplot\": \"mapbox\", \"type\": \"scattermapbox\"}, {\"hovertemplate\": \"country=Colombia<br>lat=%{lat}<br>long=%{lon}<extra></extra>\", \"lat\": [4.5709], \"legendgroup\": \"Colombia\", \"lon\": [-74.2973], \"marker\": {\"color\": \"#B6E880\"}, \"mode\": \"markers\", \"name\": \"Colombia\", \"showlegend\": true, \"subplot\": \"mapbox\", \"type\": \"scattermapbox\"}, {\"hovertemplate\": \"country=Comoros<br>lat=%{lat}<br>long=%{lon}<extra></extra>\", \"lat\": [-11.6455], \"legendgroup\": \"Comoros\", \"lon\": [43.3333], \"marker\": {\"color\": \"#FF97FF\"}, \"mode\": \"markers\", \"name\": \"Comoros\", \"showlegend\": true, \"subplot\": \"mapbox\", \"type\": \"scattermapbox\"}, {\"hovertemplate\": \"country=Congo (Brazzaville)<br>lat=%{lat}<br>long=%{lon}<extra></extra>\", \"lat\": [-0.228], \"legendgroup\": \"Congo (Brazzaville)\", \"lon\": [15.8277], \"marker\": {\"color\": \"#FECB52\"}, \"mode\": \"markers\", \"name\": \"Congo (Brazzaville)\", \"showlegend\": true, \"subplot\": \"mapbox\", \"type\": \"scattermapbox\"}, {\"hovertemplate\": \"country=Congo (Kinshasa)<br>lat=%{lat}<br>long=%{lon}<extra></extra>\", \"lat\": [-4.0383], \"legendgroup\": \"Congo (Kinshasa)\", \"lon\": [21.7587], \"marker\": {\"color\": \"#636efa\"}, \"mode\": \"markers\", \"name\": \"Congo (Kinshasa)\", \"showlegend\": true, \"subplot\": \"mapbox\", \"type\": \"scattermapbox\"}, {\"hovertemplate\": \"country=Costa Rica<br>lat=%{lat}<br>long=%{lon}<extra></extra>\", \"lat\": [9.7489], \"legendgroup\": \"Costa Rica\", \"lon\": [-83.7534], \"marker\": {\"color\": \"#EF553B\"}, \"mode\": \"markers\", \"name\": \"Costa Rica\", \"showlegend\": true, \"subplot\": \"mapbox\", \"type\": \"scattermapbox\"}, {\"hovertemplate\": \"country=Cote d'Ivoire<br>lat=%{lat}<br>long=%{lon}<extra></extra>\", \"lat\": [7.54], \"legendgroup\": \"Cote d'Ivoire\", \"lon\": [-5.5471], \"marker\": {\"color\": \"#00cc96\"}, \"mode\": \"markers\", \"name\": \"Cote d'Ivoire\", \"showlegend\": true, \"subplot\": \"mapbox\", \"type\": \"scattermapbox\"}, {\"hovertemplate\": \"country=Croatia<br>lat=%{lat}<br>long=%{lon}<extra></extra>\", \"lat\": [45.1], \"legendgroup\": \"Croatia\", \"lon\": [15.2], \"marker\": {\"color\": \"#ab63fa\"}, \"mode\": \"markers\", \"name\": \"Croatia\", \"showlegend\": true, \"subplot\": \"mapbox\", \"type\": \"scattermapbox\"}, {\"hovertemplate\": \"country=Cuba<br>lat=%{lat}<br>long=%{lon}<extra></extra>\", \"lat\": [21.521757], \"legendgroup\": \"Cuba\", \"lon\": [-77.78116700000001], \"marker\": {\"color\": \"#FFA15A\"}, \"mode\": \"markers\", \"name\": \"Cuba\", \"showlegend\": true, \"subplot\": \"mapbox\", \"type\": \"scattermapbox\"}, {\"hovertemplate\": \"country=Cyprus<br>lat=%{lat}<br>long=%{lon}<extra></extra>\", \"lat\": [35.1264], \"legendgroup\": \"Cyprus\", \"lon\": [33.4299], \"marker\": {\"color\": \"#19d3f3\"}, \"mode\": \"markers\", \"name\": \"Cyprus\", \"showlegend\": true, \"subplot\": \"mapbox\", \"type\": \"scattermapbox\"}, {\"hovertemplate\": \"country=Czechia<br>lat=%{lat}<br>long=%{lon}<extra></extra>\", \"lat\": [49.8175], \"legendgroup\": \"Czechia\", \"lon\": [15.472999999999999], \"marker\": {\"color\": \"#FF6692\"}, \"mode\": \"markers\", \"name\": \"Czechia\", \"showlegend\": true, \"subplot\": \"mapbox\", \"type\": \"scattermapbox\"}, {\"hovertemplate\": \"country=Denmark<br>lat=%{lat}<br>long=%{lon}<extra></extra>\", \"lat\": [61.8926, 71.7069, 56.2639], \"legendgroup\": \"Denmark\", \"lon\": [-6.9118, -42.6043, 9.5018], \"marker\": {\"color\": \"#B6E880\"}, \"mode\": \"markers\", \"name\": \"Denmark\", \"showlegend\": true, \"subplot\": \"mapbox\", \"type\": \"scattermapbox\"}, {\"hovertemplate\": \"country=Diamond Princess<br>lat=%{lat}<br>long=%{lon}<extra></extra>\", \"lat\": [0.0], \"legendgroup\": \"Diamond Princess\", \"lon\": [0.0], \"marker\": {\"color\": \"#FF97FF\"}, \"mode\": \"markers\", \"name\": \"Diamond Princess\", \"showlegend\": true, \"subplot\": \"mapbox\", \"type\": \"scattermapbox\"}, {\"hovertemplate\": \"country=Djibouti<br>lat=%{lat}<br>long=%{lon}<extra></extra>\", \"lat\": [11.8251], \"legendgroup\": \"Djibouti\", \"lon\": [42.5903], \"marker\": {\"color\": \"#FECB52\"}, \"mode\": \"markers\", \"name\": \"Djibouti\", \"showlegend\": true, \"subplot\": \"mapbox\", \"type\": \"scattermapbox\"}, {\"hovertemplate\": \"country=Dominica<br>lat=%{lat}<br>long=%{lon}<extra></extra>\", \"lat\": [15.415], \"legendgroup\": \"Dominica\", \"lon\": [-61.371], \"marker\": {\"color\": \"#636efa\"}, \"mode\": \"markers\", \"name\": \"Dominica\", \"showlegend\": true, \"subplot\": \"mapbox\", \"type\": \"scattermapbox\"}, {\"hovertemplate\": \"country=Dominican Republic<br>lat=%{lat}<br>long=%{lon}<extra></extra>\", \"lat\": [18.7357], \"legendgroup\": \"Dominican Republic\", \"lon\": [-70.1627], \"marker\": {\"color\": \"#EF553B\"}, \"mode\": \"markers\", \"name\": \"Dominican Republic\", \"showlegend\": true, \"subplot\": \"mapbox\", \"type\": \"scattermapbox\"}, {\"hovertemplate\": \"country=Ecuador<br>lat=%{lat}<br>long=%{lon}<extra></extra>\", \"lat\": [-1.8312], \"legendgroup\": \"Ecuador\", \"lon\": [-78.1834], \"marker\": {\"color\": \"#00cc96\"}, \"mode\": \"markers\", \"name\": \"Ecuador\", \"showlegend\": true, \"subplot\": \"mapbox\", \"type\": \"scattermapbox\"}, {\"hovertemplate\": \"country=Egypt<br>lat=%{lat}<br>long=%{lon}<extra></extra>\", \"lat\": [26.820553000000004], \"legendgroup\": \"Egypt\", \"lon\": [30.802497999999996], \"marker\": {\"color\": \"#ab63fa\"}, \"mode\": \"markers\", \"name\": \"Egypt\", \"showlegend\": true, \"subplot\": \"mapbox\", \"type\": \"scattermapbox\"}, {\"hovertemplate\": \"country=El Salvador<br>lat=%{lat}<br>long=%{lon}<extra></extra>\", \"lat\": [13.7942], \"legendgroup\": \"El Salvador\", \"lon\": [-88.8965], \"marker\": {\"color\": \"#FFA15A\"}, \"mode\": \"markers\", \"name\": \"El Salvador\", \"showlegend\": true, \"subplot\": \"mapbox\", \"type\": \"scattermapbox\"}, {\"hovertemplate\": \"country=Equatorial Guinea<br>lat=%{lat}<br>long=%{lon}<extra></extra>\", \"lat\": [1.6508], \"legendgroup\": \"Equatorial Guinea\", \"lon\": [10.2679], \"marker\": {\"color\": \"#19d3f3\"}, \"mode\": \"markers\", \"name\": \"Equatorial Guinea\", \"showlegend\": true, \"subplot\": \"mapbox\", \"type\": \"scattermapbox\"}, {\"hovertemplate\": \"country=Eritrea<br>lat=%{lat}<br>long=%{lon}<extra></extra>\", \"lat\": [15.1794], \"legendgroup\": \"Eritrea\", \"lon\": [39.7823], \"marker\": {\"color\": \"#FF6692\"}, \"mode\": \"markers\", \"name\": \"Eritrea\", \"showlegend\": true, \"subplot\": \"mapbox\", \"type\": \"scattermapbox\"}, {\"hovertemplate\": \"country=Estonia<br>lat=%{lat}<br>long=%{lon}<extra></extra>\", \"lat\": [58.5953], \"legendgroup\": \"Estonia\", \"lon\": [25.0136], \"marker\": {\"color\": \"#B6E880\"}, \"mode\": \"markers\", \"name\": \"Estonia\", \"showlegend\": true, \"subplot\": \"mapbox\", \"type\": \"scattermapbox\"}, {\"hovertemplate\": \"country=Eswatini<br>lat=%{lat}<br>long=%{lon}<extra></extra>\", \"lat\": [-26.5225], \"legendgroup\": \"Eswatini\", \"lon\": [31.4659], \"marker\": {\"color\": \"#FF97FF\"}, \"mode\": \"markers\", \"name\": \"Eswatini\", \"showlegend\": true, \"subplot\": \"mapbox\", \"type\": \"scattermapbox\"}, {\"hovertemplate\": \"country=Ethiopia<br>lat=%{lat}<br>long=%{lon}<extra></extra>\", \"lat\": [9.145], \"legendgroup\": \"Ethiopia\", \"lon\": [40.4897], \"marker\": {\"color\": \"#FECB52\"}, \"mode\": \"markers\", \"name\": \"Ethiopia\", \"showlegend\": true, \"subplot\": \"mapbox\", \"type\": \"scattermapbox\"}, {\"hovertemplate\": \"country=Fiji<br>lat=%{lat}<br>long=%{lon}<extra></extra>\", \"lat\": [-17.7134], \"legendgroup\": \"Fiji\", \"lon\": [178.065], \"marker\": {\"color\": \"#636efa\"}, \"mode\": \"markers\", \"name\": \"Fiji\", \"showlegend\": true, \"subplot\": \"mapbox\", \"type\": \"scattermapbox\"}, {\"hovertemplate\": \"country=Finland<br>lat=%{lat}<br>long=%{lon}<extra></extra>\", \"lat\": [61.92411], \"legendgroup\": \"Finland\", \"lon\": [25.748151], \"marker\": {\"color\": \"#EF553B\"}, \"mode\": \"markers\", \"name\": \"Finland\", \"showlegend\": true, \"subplot\": \"mapbox\", \"type\": \"scattermapbox\"}, {\"hovertemplate\": \"country=France<br>lat=%{lat}<br>long=%{lon}<extra></extra>\", \"lat\": [3.9339, -17.6797, 16.265, 14.6415, -12.8275, -20.904304999999997, -21.1151, 17.9, 46.8852, 18.0708, -14.2938, 46.2276], \"legendgroup\": \"France\", \"lon\": [-53.1258, 149.4068, -61.551, -61.0242, 45.166244, 165.618042, 55.5364, -62.8333, -56.3159, -63.0501, -178.1165, 2.2137], \"marker\": {\"color\": \"#00cc96\"}, \"mode\": \"markers\", \"name\": \"France\", \"showlegend\": true, \"subplot\": \"mapbox\", \"type\": \"scattermapbox\"}, {\"hovertemplate\": \"country=Gabon<br>lat=%{lat}<br>long=%{lon}<extra></extra>\", \"lat\": [-0.8037], \"legendgroup\": \"Gabon\", \"lon\": [11.6094], \"marker\": {\"color\": \"#ab63fa\"}, \"mode\": \"markers\", \"name\": \"Gabon\", \"showlegend\": true, \"subplot\": \"mapbox\", \"type\": \"scattermapbox\"}, {\"hovertemplate\": \"country=Gambia<br>lat=%{lat}<br>long=%{lon}<extra></extra>\", \"lat\": [13.4432], \"legendgroup\": \"Gambia\", \"lon\": [-15.3101], \"marker\": {\"color\": \"#FFA15A\"}, \"mode\": \"markers\", \"name\": \"Gambia\", \"showlegend\": true, \"subplot\": \"mapbox\", \"type\": \"scattermapbox\"}, {\"hovertemplate\": \"country=Georgia<br>lat=%{lat}<br>long=%{lon}<extra></extra>\", \"lat\": [42.3154], \"legendgroup\": \"Georgia\", \"lon\": [43.3569], \"marker\": {\"color\": \"#19d3f3\"}, \"mode\": \"markers\", \"name\": \"Georgia\", \"showlegend\": true, \"subplot\": \"mapbox\", \"type\": \"scattermapbox\"}, {\"hovertemplate\": \"country=Germany<br>lat=%{lat}<br>long=%{lon}<extra></extra>\", \"lat\": [51.165690999999995], \"legendgroup\": \"Germany\", \"lon\": [10.451526], \"marker\": {\"color\": \"#FF6692\"}, \"mode\": \"markers\", \"name\": \"Germany\", \"showlegend\": true, \"subplot\": \"mapbox\", \"type\": \"scattermapbox\"}, {\"hovertemplate\": \"country=Ghana<br>lat=%{lat}<br>long=%{lon}<extra></extra>\", \"lat\": [7.9465], \"legendgroup\": \"Ghana\", \"lon\": [-1.0232], \"marker\": {\"color\": \"#B6E880\"}, \"mode\": \"markers\", \"name\": \"Ghana\", \"showlegend\": true, \"subplot\": \"mapbox\", \"type\": \"scattermapbox\"}, {\"hovertemplate\": \"country=Greece<br>lat=%{lat}<br>long=%{lon}<extra></extra>\", \"lat\": [39.0742], \"legendgroup\": \"Greece\", \"lon\": [21.8243], \"marker\": {\"color\": \"#FF97FF\"}, \"mode\": \"markers\", \"name\": \"Greece\", \"showlegend\": true, \"subplot\": \"mapbox\", \"type\": \"scattermapbox\"}, {\"hovertemplate\": \"country=Grenada<br>lat=%{lat}<br>long=%{lon}<extra></extra>\", \"lat\": [12.1165], \"legendgroup\": \"Grenada\", \"lon\": [-61.678999999999995], \"marker\": {\"color\": \"#FECB52\"}, \"mode\": \"markers\", \"name\": \"Grenada\", \"showlegend\": true, \"subplot\": \"mapbox\", \"type\": \"scattermapbox\"}, {\"hovertemplate\": \"country=Guatemala<br>lat=%{lat}<br>long=%{lon}<extra></extra>\", \"lat\": [15.7835], \"legendgroup\": \"Guatemala\", \"lon\": [-90.2308], \"marker\": {\"color\": \"#636efa\"}, \"mode\": \"markers\", \"name\": \"Guatemala\", \"showlegend\": true, \"subplot\": \"mapbox\", \"type\": \"scattermapbox\"}, {\"hovertemplate\": \"country=Guinea<br>lat=%{lat}<br>long=%{lon}<extra></extra>\", \"lat\": [9.9456], \"legendgroup\": \"Guinea\", \"lon\": [-9.6966], \"marker\": {\"color\": \"#EF553B\"}, \"mode\": \"markers\", \"name\": \"Guinea\", \"showlegend\": true, \"subplot\": \"mapbox\", \"type\": \"scattermapbox\"}, {\"hovertemplate\": \"country=Guinea-Bissau<br>lat=%{lat}<br>long=%{lon}<extra></extra>\", \"lat\": [11.8037], \"legendgroup\": \"Guinea-Bissau\", \"lon\": [-15.1804], \"marker\": {\"color\": \"#00cc96\"}, \"mode\": \"markers\", \"name\": \"Guinea-Bissau\", \"showlegend\": true, \"subplot\": \"mapbox\", \"type\": \"scattermapbox\"}, {\"hovertemplate\": \"country=Guyana<br>lat=%{lat}<br>long=%{lon}<extra></extra>\", \"lat\": [4.860416000000001], \"legendgroup\": \"Guyana\", \"lon\": [-58.93018000000001], \"marker\": {\"color\": \"#ab63fa\"}, \"mode\": \"markers\", \"name\": \"Guyana\", \"showlegend\": true, \"subplot\": \"mapbox\", \"type\": \"scattermapbox\"}, {\"hovertemplate\": \"country=Haiti<br>lat=%{lat}<br>long=%{lon}<extra></extra>\", \"lat\": [18.9712], \"legendgroup\": \"Haiti\", \"lon\": [-72.2852], \"marker\": {\"color\": \"#FFA15A\"}, \"mode\": \"markers\", \"name\": \"Haiti\", \"showlegend\": true, \"subplot\": \"mapbox\", \"type\": \"scattermapbox\"}, {\"hovertemplate\": \"country=Holy See<br>lat=%{lat}<br>long=%{lon}<extra></extra>\", \"lat\": [41.9029], \"legendgroup\": \"Holy See\", \"lon\": [12.4534], \"marker\": {\"color\": \"#19d3f3\"}, \"mode\": \"markers\", \"name\": \"Holy See\", \"showlegend\": true, \"subplot\": \"mapbox\", \"type\": \"scattermapbox\"}, {\"hovertemplate\": \"country=Honduras<br>lat=%{lat}<br>long=%{lon}<extra></extra>\", \"lat\": [15.2], \"legendgroup\": \"Honduras\", \"lon\": [-86.2419], \"marker\": {\"color\": \"#FF6692\"}, \"mode\": \"markers\", \"name\": \"Honduras\", \"showlegend\": true, \"subplot\": \"mapbox\", \"type\": \"scattermapbox\"}, {\"hovertemplate\": \"country=Hungary<br>lat=%{lat}<br>long=%{lon}<extra></extra>\", \"lat\": [47.1625], \"legendgroup\": \"Hungary\", \"lon\": [19.5033], \"marker\": {\"color\": \"#B6E880\"}, \"mode\": \"markers\", \"name\": \"Hungary\", \"showlegend\": true, \"subplot\": \"mapbox\", \"type\": \"scattermapbox\"}, {\"hovertemplate\": \"country=Iceland<br>lat=%{lat}<br>long=%{lon}<extra></extra>\", \"lat\": [64.9631], \"legendgroup\": \"Iceland\", \"lon\": [-19.0208], \"marker\": {\"color\": \"#FF97FF\"}, \"mode\": \"markers\", \"name\": \"Iceland\", \"showlegend\": true, \"subplot\": \"mapbox\", \"type\": \"scattermapbox\"}, {\"hovertemplate\": \"country=India<br>lat=%{lat}<br>long=%{lon}<extra></extra>\", \"lat\": [20.593684], \"legendgroup\": \"India\", \"lon\": [78.96288], \"marker\": {\"color\": \"#FECB52\"}, \"mode\": \"markers\", \"name\": \"India\", \"showlegend\": true, \"subplot\": \"mapbox\", \"type\": \"scattermapbox\"}, {\"hovertemplate\": \"country=Indonesia<br>lat=%{lat}<br>long=%{lon}<extra></extra>\", \"lat\": [-0.7893], \"legendgroup\": \"Indonesia\", \"lon\": [113.9213], \"marker\": {\"color\": \"#636efa\"}, \"mode\": \"markers\", \"name\": \"Indonesia\", \"showlegend\": true, \"subplot\": \"mapbox\", \"type\": \"scattermapbox\"}, {\"hovertemplate\": \"country=Iran<br>lat=%{lat}<br>long=%{lon}<extra></extra>\", \"lat\": [32.427908], \"legendgroup\": \"Iran\", \"lon\": [53.68804599999999], \"marker\": {\"color\": \"#EF553B\"}, \"mode\": \"markers\", \"name\": \"Iran\", \"showlegend\": true, \"subplot\": \"mapbox\", \"type\": \"scattermapbox\"}, {\"hovertemplate\": \"country=Iraq<br>lat=%{lat}<br>long=%{lon}<extra></extra>\", \"lat\": [33.223191], \"legendgroup\": \"Iraq\", \"lon\": [43.679291], \"marker\": {\"color\": \"#00cc96\"}, \"mode\": \"markers\", \"name\": \"Iraq\", \"showlegend\": true, \"subplot\": \"mapbox\", \"type\": \"scattermapbox\"}, {\"hovertemplate\": \"country=Ireland<br>lat=%{lat}<br>long=%{lon}<extra></extra>\", \"lat\": [53.1424], \"legendgroup\": \"Ireland\", \"lon\": [-7.6921], \"marker\": {\"color\": \"#ab63fa\"}, \"mode\": \"markers\", \"name\": \"Ireland\", \"showlegend\": true, \"subplot\": \"mapbox\", \"type\": \"scattermapbox\"}, {\"hovertemplate\": \"country=Israel<br>lat=%{lat}<br>long=%{lon}<extra></extra>\", \"lat\": [31.046051000000002], \"legendgroup\": \"Israel\", \"lon\": [34.851612], \"marker\": {\"color\": \"#FFA15A\"}, \"mode\": \"markers\", \"name\": \"Israel\", \"showlegend\": true, \"subplot\": \"mapbox\", \"type\": \"scattermapbox\"}, {\"hovertemplate\": \"country=Italy<br>lat=%{lat}<br>long=%{lon}<extra></extra>\", \"lat\": [41.87194], \"legendgroup\": \"Italy\", \"lon\": [12.56738], \"marker\": {\"color\": \"#19d3f3\"}, \"mode\": \"markers\", \"name\": \"Italy\", \"showlegend\": true, \"subplot\": \"mapbox\", \"type\": \"scattermapbox\"}, {\"hovertemplate\": \"country=Jamaica<br>lat=%{lat}<br>long=%{lon}<extra></extra>\", \"lat\": [18.1096], \"legendgroup\": \"Jamaica\", \"lon\": [-77.2975], \"marker\": {\"color\": \"#FF6692\"}, \"mode\": \"markers\", \"name\": \"Jamaica\", \"showlegend\": true, \"subplot\": \"mapbox\", \"type\": \"scattermapbox\"}, {\"hovertemplate\": \"country=Japan<br>lat=%{lat}<br>long=%{lon}<extra></extra>\", \"lat\": [36.204824], \"legendgroup\": \"Japan\", \"lon\": [138.252924], \"marker\": {\"color\": \"#B6E880\"}, \"mode\": \"markers\", \"name\": \"Japan\", \"showlegend\": true, \"subplot\": \"mapbox\", \"type\": \"scattermapbox\"}, {\"hovertemplate\": \"country=Jordan<br>lat=%{lat}<br>long=%{lon}<extra></extra>\", \"lat\": [31.24], \"legendgroup\": \"Jordan\", \"lon\": [36.51], \"marker\": {\"color\": \"#FF97FF\"}, \"mode\": \"markers\", \"name\": \"Jordan\", \"showlegend\": true, \"subplot\": \"mapbox\", \"type\": \"scattermapbox\"}, {\"hovertemplate\": \"country=Kazakhstan<br>lat=%{lat}<br>long=%{lon}<extra></extra>\", \"lat\": [48.0196], \"legendgroup\": \"Kazakhstan\", \"lon\": [66.9237], \"marker\": {\"color\": \"#FECB52\"}, \"mode\": \"markers\", \"name\": \"Kazakhstan\", \"showlegend\": true, \"subplot\": \"mapbox\", \"type\": \"scattermapbox\"}, {\"hovertemplate\": \"country=Kenya<br>lat=%{lat}<br>long=%{lon}<extra></extra>\", \"lat\": [-0.0236], \"legendgroup\": \"Kenya\", \"lon\": [37.9062], \"marker\": {\"color\": \"#636efa\"}, \"mode\": \"markers\", \"name\": \"Kenya\", \"showlegend\": true, \"subplot\": \"mapbox\", \"type\": \"scattermapbox\"}, {\"hovertemplate\": \"country=Korea, South<br>lat=%{lat}<br>long=%{lon}<extra></extra>\", \"lat\": [35.907757000000004], \"legendgroup\": \"Korea, South\", \"lon\": [127.766922], \"marker\": {\"color\": \"#EF553B\"}, \"mode\": \"markers\", \"name\": \"Korea, South\", \"showlegend\": true, \"subplot\": \"mapbox\", \"type\": \"scattermapbox\"}, {\"hovertemplate\": \"country=Kosovo<br>lat=%{lat}<br>long=%{lon}<extra></extra>\", \"lat\": [42.602636], \"legendgroup\": \"Kosovo\", \"lon\": [20.902977], \"marker\": {\"color\": \"#00cc96\"}, \"mode\": \"markers\", \"name\": \"Kosovo\", \"showlegend\": true, \"subplot\": \"mapbox\", \"type\": \"scattermapbox\"}, {\"hovertemplate\": \"country=Kuwait<br>lat=%{lat}<br>long=%{lon}<extra></extra>\", \"lat\": [29.311659999999996], \"legendgroup\": \"Kuwait\", \"lon\": [47.481766], \"marker\": {\"color\": \"#ab63fa\"}, \"mode\": \"markers\", \"name\": \"Kuwait\", \"showlegend\": true, \"subplot\": \"mapbox\", \"type\": \"scattermapbox\"}, {\"hovertemplate\": \"country=Kyrgyzstan<br>lat=%{lat}<br>long=%{lon}<extra></extra>\", \"lat\": [41.20438], \"legendgroup\": \"Kyrgyzstan\", \"lon\": [74.766098], \"marker\": {\"color\": \"#FFA15A\"}, \"mode\": \"markers\", \"name\": \"Kyrgyzstan\", \"showlegend\": true, \"subplot\": \"mapbox\", \"type\": \"scattermapbox\"}, {\"hovertemplate\": \"country=Laos<br>lat=%{lat}<br>long=%{lon}<extra></extra>\", \"lat\": [19.856270000000002], \"legendgroup\": \"Laos\", \"lon\": [102.495496], \"marker\": {\"color\": \"#19d3f3\"}, \"mode\": \"markers\", \"name\": \"Laos\", \"showlegend\": true, \"subplot\": \"mapbox\", \"type\": \"scattermapbox\"}, {\"hovertemplate\": \"country=Latvia<br>lat=%{lat}<br>long=%{lon}<extra></extra>\", \"lat\": [56.8796], \"legendgroup\": \"Latvia\", \"lon\": [24.6032], \"marker\": {\"color\": \"#FF6692\"}, \"mode\": \"markers\", \"name\": \"Latvia\", \"showlegend\": true, \"subplot\": \"mapbox\", \"type\": \"scattermapbox\"}, {\"hovertemplate\": \"country=Lebanon<br>lat=%{lat}<br>long=%{lon}<extra></extra>\", \"lat\": [33.8547], \"legendgroup\": \"Lebanon\", \"lon\": [35.8623], \"marker\": {\"color\": \"#B6E880\"}, \"mode\": \"markers\", \"name\": \"Lebanon\", \"showlegend\": true, \"subplot\": \"mapbox\", \"type\": \"scattermapbox\"}, {\"hovertemplate\": \"country=Lesotho<br>lat=%{lat}<br>long=%{lon}<extra></extra>\", \"lat\": [-29.61], \"legendgroup\": \"Lesotho\", \"lon\": [28.2336], \"marker\": {\"color\": \"#FF97FF\"}, \"mode\": \"markers\", \"name\": \"Lesotho\", \"showlegend\": true, \"subplot\": \"mapbox\", \"type\": \"scattermapbox\"}, {\"hovertemplate\": \"country=Liberia<br>lat=%{lat}<br>long=%{lon}<extra></extra>\", \"lat\": [6.4280550000000005], \"legendgroup\": \"Liberia\", \"lon\": [-9.429499], \"marker\": {\"color\": \"#FECB52\"}, \"mode\": \"markers\", \"name\": \"Liberia\", \"showlegend\": true, \"subplot\": \"mapbox\", \"type\": \"scattermapbox\"}, {\"hovertemplate\": \"country=Libya<br>lat=%{lat}<br>long=%{lon}<extra></extra>\", \"lat\": [26.3351], \"legendgroup\": \"Libya\", \"lon\": [17.228331], \"marker\": {\"color\": \"#636efa\"}, \"mode\": \"markers\", \"name\": \"Libya\", \"showlegend\": true, \"subplot\": \"mapbox\", \"type\": \"scattermapbox\"}, {\"hovertemplate\": \"country=Liechtenstein<br>lat=%{lat}<br>long=%{lon}<extra></extra>\", \"lat\": [47.14], \"legendgroup\": \"Liechtenstein\", \"lon\": [9.55], \"marker\": {\"color\": \"#EF553B\"}, \"mode\": \"markers\", \"name\": \"Liechtenstein\", \"showlegend\": true, \"subplot\": \"mapbox\", \"type\": \"scattermapbox\"}, {\"hovertemplate\": \"country=Lithuania<br>lat=%{lat}<br>long=%{lon}<extra></extra>\", \"lat\": [55.1694], \"legendgroup\": \"Lithuania\", \"lon\": [23.8813], \"marker\": {\"color\": \"#00cc96\"}, \"mode\": \"markers\", \"name\": \"Lithuania\", \"showlegend\": true, \"subplot\": \"mapbox\", \"type\": \"scattermapbox\"}, {\"hovertemplate\": \"country=Luxembourg<br>lat=%{lat}<br>long=%{lon}<extra></extra>\", \"lat\": [49.8153], \"legendgroup\": \"Luxembourg\", \"lon\": [6.1296], \"marker\": {\"color\": \"#ab63fa\"}, \"mode\": \"markers\", \"name\": \"Luxembourg\", \"showlegend\": true, \"subplot\": \"mapbox\", \"type\": \"scattermapbox\"}, {\"hovertemplate\": \"country=MS Zaandam<br>lat=%{lat}<br>long=%{lon}<extra></extra>\", \"lat\": [0.0], \"legendgroup\": \"MS Zaandam\", \"lon\": [0.0], \"marker\": {\"color\": \"#FFA15A\"}, \"mode\": \"markers\", \"name\": \"MS Zaandam\", \"showlegend\": true, \"subplot\": \"mapbox\", \"type\": \"scattermapbox\"}, {\"hovertemplate\": \"country=Madagascar<br>lat=%{lat}<br>long=%{lon}<extra></extra>\", \"lat\": [-18.766947000000002], \"legendgroup\": \"Madagascar\", \"lon\": [46.869107], \"marker\": {\"color\": \"#19d3f3\"}, \"mode\": \"markers\", \"name\": \"Madagascar\", \"showlegend\": true, \"subplot\": \"mapbox\", \"type\": \"scattermapbox\"}, {\"hovertemplate\": \"country=Malawi<br>lat=%{lat}<br>long=%{lon}<extra></extra>\", \"lat\": [-13.2543], \"legendgroup\": \"Malawi\", \"lon\": [34.3015], \"marker\": {\"color\": \"#FF6692\"}, \"mode\": \"markers\", \"name\": \"Malawi\", \"showlegend\": true, \"subplot\": \"mapbox\", \"type\": \"scattermapbox\"}, {\"hovertemplate\": \"country=Malaysia<br>lat=%{lat}<br>long=%{lon}<extra></extra>\", \"lat\": [4.210483999999999], \"legendgroup\": \"Malaysia\", \"lon\": [101.97576600000001], \"marker\": {\"color\": \"#B6E880\"}, \"mode\": \"markers\", \"name\": \"Malaysia\", \"showlegend\": true, \"subplot\": \"mapbox\", \"type\": \"scattermapbox\"}, {\"hovertemplate\": \"country=Maldives<br>lat=%{lat}<br>long=%{lon}<extra></extra>\", \"lat\": [3.2028], \"legendgroup\": \"Maldives\", \"lon\": [73.2207], \"marker\": {\"color\": \"#FF97FF\"}, \"mode\": \"markers\", \"name\": \"Maldives\", \"showlegend\": true, \"subplot\": \"mapbox\", \"type\": \"scattermapbox\"}, {\"hovertemplate\": \"country=Mali<br>lat=%{lat}<br>long=%{lon}<extra></extra>\", \"lat\": [17.570692], \"legendgroup\": \"Mali\", \"lon\": [-3.9961660000000006], \"marker\": {\"color\": \"#FECB52\"}, \"mode\": \"markers\", \"name\": \"Mali\", \"showlegend\": true, \"subplot\": \"mapbox\", \"type\": \"scattermapbox\"}, {\"hovertemplate\": \"country=Malta<br>lat=%{lat}<br>long=%{lon}<extra></extra>\", \"lat\": [35.9375], \"legendgroup\": \"Malta\", \"lon\": [14.3754], \"marker\": {\"color\": \"#636efa\"}, \"mode\": \"markers\", \"name\": \"Malta\", \"showlegend\": true, \"subplot\": \"mapbox\", \"type\": \"scattermapbox\"}, {\"hovertemplate\": \"country=Marshall Islands<br>lat=%{lat}<br>long=%{lon}<extra></extra>\", \"lat\": [7.1315], \"legendgroup\": \"Marshall Islands\", \"lon\": [171.1845], \"marker\": {\"color\": \"#EF553B\"}, \"mode\": \"markers\", \"name\": \"Marshall Islands\", \"showlegend\": true, \"subplot\": \"mapbox\", \"type\": \"scattermapbox\"}, {\"hovertemplate\": \"country=Mauritania<br>lat=%{lat}<br>long=%{lon}<extra></extra>\", \"lat\": [21.0079], \"legendgroup\": \"Mauritania\", \"lon\": [-10.9408], \"marker\": {\"color\": \"#00cc96\"}, \"mode\": \"markers\", \"name\": \"Mauritania\", \"showlegend\": true, \"subplot\": \"mapbox\", \"type\": \"scattermapbox\"}, {\"hovertemplate\": \"country=Mauritius<br>lat=%{lat}<br>long=%{lon}<extra></extra>\", \"lat\": [-20.348404000000002], \"legendgroup\": \"Mauritius\", \"lon\": [57.552152], \"marker\": {\"color\": \"#ab63fa\"}, \"mode\": \"markers\", \"name\": \"Mauritius\", \"showlegend\": true, \"subplot\": \"mapbox\", \"type\": \"scattermapbox\"}, {\"hovertemplate\": \"country=Mexico<br>lat=%{lat}<br>long=%{lon}<extra></extra>\", \"lat\": [23.6345], \"legendgroup\": \"Mexico\", \"lon\": [-102.5528], \"marker\": {\"color\": \"#FFA15A\"}, \"mode\": \"markers\", \"name\": \"Mexico\", \"showlegend\": true, \"subplot\": \"mapbox\", \"type\": \"scattermapbox\"}, {\"hovertemplate\": \"country=Micronesia<br>lat=%{lat}<br>long=%{lon}<extra></extra>\", \"lat\": [7.4256], \"legendgroup\": \"Micronesia\", \"lon\": [150.5508], \"marker\": {\"color\": \"#19d3f3\"}, \"mode\": \"markers\", \"name\": \"Micronesia\", \"showlegend\": true, \"subplot\": \"mapbox\", \"type\": \"scattermapbox\"}, {\"hovertemplate\": \"country=Moldova<br>lat=%{lat}<br>long=%{lon}<extra></extra>\", \"lat\": [47.4116], \"legendgroup\": \"Moldova\", \"lon\": [28.3699], \"marker\": {\"color\": \"#FF6692\"}, \"mode\": \"markers\", \"name\": \"Moldova\", \"showlegend\": true, \"subplot\": \"mapbox\", \"type\": \"scattermapbox\"}, {\"hovertemplate\": \"country=Monaco<br>lat=%{lat}<br>long=%{lon}<extra></extra>\", \"lat\": [43.7333], \"legendgroup\": \"Monaco\", \"lon\": [7.4167], \"marker\": {\"color\": \"#B6E880\"}, \"mode\": \"markers\", \"name\": \"Monaco\", \"showlegend\": true, \"subplot\": \"mapbox\", \"type\": \"scattermapbox\"}, {\"hovertemplate\": \"country=Mongolia<br>lat=%{lat}<br>long=%{lon}<extra></extra>\", \"lat\": [46.8625], \"legendgroup\": \"Mongolia\", \"lon\": [103.8467], \"marker\": {\"color\": \"#FF97FF\"}, \"mode\": \"markers\", \"name\": \"Mongolia\", \"showlegend\": true, \"subplot\": \"mapbox\", \"type\": \"scattermapbox\"}, {\"hovertemplate\": \"country=Montenegro<br>lat=%{lat}<br>long=%{lon}<extra></extra>\", \"lat\": [42.708678000000006], \"legendgroup\": \"Montenegro\", \"lon\": [19.37439], \"marker\": {\"color\": \"#FECB52\"}, \"mode\": \"markers\", \"name\": \"Montenegro\", \"showlegend\": true, \"subplot\": \"mapbox\", \"type\": \"scattermapbox\"}, {\"hovertemplate\": \"country=Morocco<br>lat=%{lat}<br>long=%{lon}<extra></extra>\", \"lat\": [31.7917], \"legendgroup\": \"Morocco\", \"lon\": [-7.0926], \"marker\": {\"color\": \"#636efa\"}, \"mode\": \"markers\", \"name\": \"Morocco\", \"showlegend\": true, \"subplot\": \"mapbox\", \"type\": \"scattermapbox\"}, {\"hovertemplate\": \"country=Mozambique<br>lat=%{lat}<br>long=%{lon}<extra></extra>\", \"lat\": [-18.665695], \"legendgroup\": \"Mozambique\", \"lon\": [35.529562], \"marker\": {\"color\": \"#EF553B\"}, \"mode\": \"markers\", \"name\": \"Mozambique\", \"showlegend\": true, \"subplot\": \"mapbox\", \"type\": \"scattermapbox\"}, {\"hovertemplate\": \"country=Namibia<br>lat=%{lat}<br>long=%{lon}<extra></extra>\", \"lat\": [-22.9576], \"legendgroup\": \"Namibia\", \"lon\": [18.4904], \"marker\": {\"color\": \"#00cc96\"}, \"mode\": \"markers\", \"name\": \"Namibia\", \"showlegend\": true, \"subplot\": \"mapbox\", \"type\": \"scattermapbox\"}, {\"hovertemplate\": \"country=Nepal<br>lat=%{lat}<br>long=%{lon}<extra></extra>\", \"lat\": [28.1667], \"legendgroup\": \"Nepal\", \"lon\": [84.25], \"marker\": {\"color\": \"#ab63fa\"}, \"mode\": \"markers\", \"name\": \"Nepal\", \"showlegend\": true, \"subplot\": \"mapbox\", \"type\": \"scattermapbox\"}, {\"hovertemplate\": \"country=Netherlands<br>lat=%{lat}<br>long=%{lon}<extra></extra>\", \"lat\": [12.5211, 12.1784, 12.1696, 18.0425, 52.1326], \"legendgroup\": \"Netherlands\", \"lon\": [-69.9683, -68.2385, -68.99, -63.0548, 5.2913], \"marker\": {\"color\": \"#FFA15A\"}, \"mode\": \"markers\", \"name\": \"Netherlands\", \"showlegend\": true, \"subplot\": \"mapbox\", \"type\": \"scattermapbox\"}, {\"hovertemplate\": \"country=New Zealand<br>lat=%{lat}<br>long=%{lon}<extra></extra>\", \"lat\": [-40.9006], \"legendgroup\": \"New Zealand\", \"lon\": [174.886], \"marker\": {\"color\": \"#19d3f3\"}, \"mode\": \"markers\", \"name\": \"New Zealand\", \"showlegend\": true, \"subplot\": \"mapbox\", \"type\": \"scattermapbox\"}, {\"hovertemplate\": \"country=Nicaragua<br>lat=%{lat}<br>long=%{lon}<extra></extra>\", \"lat\": [12.865416], \"legendgroup\": \"Nicaragua\", \"lon\": [-85.207229], \"marker\": {\"color\": \"#FF6692\"}, \"mode\": \"markers\", \"name\": \"Nicaragua\", \"showlegend\": true, \"subplot\": \"mapbox\", \"type\": \"scattermapbox\"}, {\"hovertemplate\": \"country=Niger<br>lat=%{lat}<br>long=%{lon}<extra></extra>\", \"lat\": [17.607789], \"legendgroup\": \"Niger\", \"lon\": [8.081666], \"marker\": {\"color\": \"#B6E880\"}, \"mode\": \"markers\", \"name\": \"Niger\", \"showlegend\": true, \"subplot\": \"mapbox\", \"type\": \"scattermapbox\"}, {\"hovertemplate\": \"country=Nigeria<br>lat=%{lat}<br>long=%{lon}<extra></extra>\", \"lat\": [9.082], \"legendgroup\": \"Nigeria\", \"lon\": [8.6753], \"marker\": {\"color\": \"#FF97FF\"}, \"mode\": \"markers\", \"name\": \"Nigeria\", \"showlegend\": true, \"subplot\": \"mapbox\", \"type\": \"scattermapbox\"}, {\"hovertemplate\": \"country=North Macedonia<br>lat=%{lat}<br>long=%{lon}<extra></extra>\", \"lat\": [41.6086], \"legendgroup\": \"North Macedonia\", \"lon\": [21.7453], \"marker\": {\"color\": \"#FECB52\"}, \"mode\": \"markers\", \"name\": \"North Macedonia\", \"showlegend\": true, \"subplot\": \"mapbox\", \"type\": \"scattermapbox\"}, {\"hovertemplate\": \"country=Norway<br>lat=%{lat}<br>long=%{lon}<extra></extra>\", \"lat\": [60.472], \"legendgroup\": \"Norway\", \"lon\": [8.4689], \"marker\": {\"color\": \"#636efa\"}, \"mode\": \"markers\", \"name\": \"Norway\", \"showlegend\": true, \"subplot\": \"mapbox\", \"type\": \"scattermapbox\"}, {\"hovertemplate\": \"country=Oman<br>lat=%{lat}<br>long=%{lon}<extra></extra>\", \"lat\": [21.512583], \"legendgroup\": \"Oman\", \"lon\": [55.923255000000005], \"marker\": {\"color\": \"#EF553B\"}, \"mode\": \"markers\", \"name\": \"Oman\", \"showlegend\": true, \"subplot\": \"mapbox\", \"type\": \"scattermapbox\"}, {\"hovertemplate\": \"country=Pakistan<br>lat=%{lat}<br>long=%{lon}<extra></extra>\", \"lat\": [30.3753], \"legendgroup\": \"Pakistan\", \"lon\": [69.3451], \"marker\": {\"color\": \"#00cc96\"}, \"mode\": \"markers\", \"name\": \"Pakistan\", \"showlegend\": true, \"subplot\": \"mapbox\", \"type\": \"scattermapbox\"}, {\"hovertemplate\": \"country=Panama<br>lat=%{lat}<br>long=%{lon}<extra></extra>\", \"lat\": [8.538], \"legendgroup\": \"Panama\", \"lon\": [-80.7821], \"marker\": {\"color\": \"#ab63fa\"}, \"mode\": \"markers\", \"name\": \"Panama\", \"showlegend\": true, \"subplot\": \"mapbox\", \"type\": \"scattermapbox\"}, {\"hovertemplate\": \"country=Papua New Guinea<br>lat=%{lat}<br>long=%{lon}<extra></extra>\", \"lat\": [-6.314993], \"legendgroup\": \"Papua New Guinea\", \"lon\": [143.95555], \"marker\": {\"color\": \"#FFA15A\"}, \"mode\": \"markers\", \"name\": \"Papua New Guinea\", \"showlegend\": true, \"subplot\": \"mapbox\", \"type\": \"scattermapbox\"}, {\"hovertemplate\": \"country=Paraguay<br>lat=%{lat}<br>long=%{lon}<extra></extra>\", \"lat\": [-23.4425], \"legendgroup\": \"Paraguay\", \"lon\": [-58.4438], \"marker\": {\"color\": \"#19d3f3\"}, \"mode\": \"markers\", \"name\": \"Paraguay\", \"showlegend\": true, \"subplot\": \"mapbox\", \"type\": \"scattermapbox\"}, {\"hovertemplate\": \"country=Peru<br>lat=%{lat}<br>long=%{lon}<extra></extra>\", \"lat\": [-9.19], \"legendgroup\": \"Peru\", \"lon\": [-75.0152], \"marker\": {\"color\": \"#FF6692\"}, \"mode\": \"markers\", \"name\": \"Peru\", \"showlegend\": true, \"subplot\": \"mapbox\", \"type\": \"scattermapbox\"}, {\"hovertemplate\": \"country=Philippines<br>lat=%{lat}<br>long=%{lon}<extra></extra>\", \"lat\": [12.879721], \"legendgroup\": \"Philippines\", \"lon\": [121.77401699999999], \"marker\": {\"color\": \"#B6E880\"}, \"mode\": \"markers\", \"name\": \"Philippines\", \"showlegend\": true, \"subplot\": \"mapbox\", \"type\": \"scattermapbox\"}, {\"hovertemplate\": \"country=Poland<br>lat=%{lat}<br>long=%{lon}<extra></extra>\", \"lat\": [51.9194], \"legendgroup\": \"Poland\", \"lon\": [19.1451], \"marker\": {\"color\": \"#FF97FF\"}, \"mode\": \"markers\", \"name\": \"Poland\", \"showlegend\": true, \"subplot\": \"mapbox\", \"type\": \"scattermapbox\"}, {\"hovertemplate\": \"country=Portugal<br>lat=%{lat}<br>long=%{lon}<extra></extra>\", \"lat\": [39.3999], \"legendgroup\": \"Portugal\", \"lon\": [-8.2245], \"marker\": {\"color\": \"#FECB52\"}, \"mode\": \"markers\", \"name\": \"Portugal\", \"showlegend\": true, \"subplot\": \"mapbox\", \"type\": \"scattermapbox\"}, {\"hovertemplate\": \"country=Qatar<br>lat=%{lat}<br>long=%{lon}<extra></extra>\", \"lat\": [25.3548], \"legendgroup\": \"Qatar\", \"lon\": [51.1839], \"marker\": {\"color\": \"#636efa\"}, \"mode\": \"markers\", \"name\": \"Qatar\", \"showlegend\": true, \"subplot\": \"mapbox\", \"type\": \"scattermapbox\"}, {\"hovertemplate\": \"country=Romania<br>lat=%{lat}<br>long=%{lon}<extra></extra>\", \"lat\": [45.9432], \"legendgroup\": \"Romania\", \"lon\": [24.9668], \"marker\": {\"color\": \"#EF553B\"}, \"mode\": \"markers\", \"name\": \"Romania\", \"showlegend\": true, \"subplot\": \"mapbox\", \"type\": \"scattermapbox\"}, {\"hovertemplate\": \"country=Russia<br>lat=%{lat}<br>long=%{lon}<extra></extra>\", \"lat\": [61.52401], \"legendgroup\": \"Russia\", \"lon\": [105.31875600000001], \"marker\": {\"color\": \"#00cc96\"}, \"mode\": \"markers\", \"name\": \"Russia\", \"showlegend\": true, \"subplot\": \"mapbox\", \"type\": \"scattermapbox\"}, {\"hovertemplate\": \"country=Rwanda<br>lat=%{lat}<br>long=%{lon}<extra></extra>\", \"lat\": [-1.9403], \"legendgroup\": \"Rwanda\", \"lon\": [29.8739], \"marker\": {\"color\": \"#ab63fa\"}, \"mode\": \"markers\", \"name\": \"Rwanda\", \"showlegend\": true, \"subplot\": \"mapbox\", \"type\": \"scattermapbox\"}, {\"hovertemplate\": \"country=Saint Kitts and Nevis<br>lat=%{lat}<br>long=%{lon}<extra></extra>\", \"lat\": [17.357822], \"legendgroup\": \"Saint Kitts and Nevis\", \"lon\": [-62.782998], \"marker\": {\"color\": \"#FFA15A\"}, \"mode\": \"markers\", \"name\": \"Saint Kitts and Nevis\", \"showlegend\": true, \"subplot\": \"mapbox\", \"type\": \"scattermapbox\"}, {\"hovertemplate\": \"country=Saint Lucia<br>lat=%{lat}<br>long=%{lon}<extra></extra>\", \"lat\": [13.9094], \"legendgroup\": \"Saint Lucia\", \"lon\": [-60.9789], \"marker\": {\"color\": \"#19d3f3\"}, \"mode\": \"markers\", \"name\": \"Saint Lucia\", \"showlegend\": true, \"subplot\": \"mapbox\", \"type\": \"scattermapbox\"}, {\"hovertemplate\": \"country=Saint Vincent and the Grenadines<br>lat=%{lat}<br>long=%{lon}<extra></extra>\", \"lat\": [12.9843], \"legendgroup\": \"Saint Vincent and the Grenadines\", \"lon\": [-61.2872], \"marker\": {\"color\": \"#FF6692\"}, \"mode\": \"markers\", \"name\": \"Saint Vincent and the Grenadines\", \"showlegend\": true, \"subplot\": \"mapbox\", \"type\": \"scattermapbox\"}, {\"hovertemplate\": \"country=Samoa<br>lat=%{lat}<br>long=%{lon}<extra></extra>\", \"lat\": [-13.759], \"legendgroup\": \"Samoa\", \"lon\": [-172.1046], \"marker\": {\"color\": \"#B6E880\"}, \"mode\": \"markers\", \"name\": \"Samoa\", \"showlegend\": true, \"subplot\": \"mapbox\", \"type\": \"scattermapbox\"}, {\"hovertemplate\": \"country=San Marino<br>lat=%{lat}<br>long=%{lon}<extra></extra>\", \"lat\": [43.9424], \"legendgroup\": \"San Marino\", \"lon\": [12.4578], \"marker\": {\"color\": \"#FF97FF\"}, \"mode\": \"markers\", \"name\": \"San Marino\", \"showlegend\": true, \"subplot\": \"mapbox\", \"type\": \"scattermapbox\"}, {\"hovertemplate\": \"country=Sao Tome and Principe<br>lat=%{lat}<br>long=%{lon}<extra></extra>\", \"lat\": [0.1864], \"legendgroup\": \"Sao Tome and Principe\", \"lon\": [6.6131], \"marker\": {\"color\": \"#FECB52\"}, \"mode\": \"markers\", \"name\": \"Sao Tome and Principe\", \"showlegend\": true, \"subplot\": \"mapbox\", \"type\": \"scattermapbox\"}, {\"hovertemplate\": \"country=Saudi Arabia<br>lat=%{lat}<br>long=%{lon}<extra></extra>\", \"lat\": [23.885942], \"legendgroup\": \"Saudi Arabia\", \"lon\": [45.079162], \"marker\": {\"color\": \"#636efa\"}, \"mode\": \"markers\", \"name\": \"Saudi Arabia\", \"showlegend\": true, \"subplot\": \"mapbox\", \"type\": \"scattermapbox\"}, {\"hovertemplate\": \"country=Senegal<br>lat=%{lat}<br>long=%{lon}<extra></extra>\", \"lat\": [14.4974], \"legendgroup\": \"Senegal\", \"lon\": [-14.4524], \"marker\": {\"color\": \"#EF553B\"}, \"mode\": \"markers\", \"name\": \"Senegal\", \"showlegend\": true, \"subplot\": \"mapbox\", \"type\": \"scattermapbox\"}, {\"hovertemplate\": \"country=Serbia<br>lat=%{lat}<br>long=%{lon}<extra></extra>\", \"lat\": [44.0165], \"legendgroup\": \"Serbia\", \"lon\": [21.0059], \"marker\": {\"color\": \"#00cc96\"}, \"mode\": \"markers\", \"name\": \"Serbia\", \"showlegend\": true, \"subplot\": \"mapbox\", \"type\": \"scattermapbox\"}, {\"hovertemplate\": \"country=Seychelles<br>lat=%{lat}<br>long=%{lon}<extra></extra>\", \"lat\": [-4.6796], \"legendgroup\": \"Seychelles\", \"lon\": [55.492], \"marker\": {\"color\": \"#ab63fa\"}, \"mode\": \"markers\", \"name\": \"Seychelles\", \"showlegend\": true, \"subplot\": \"mapbox\", \"type\": \"scattermapbox\"}, {\"hovertemplate\": \"country=Sierra Leone<br>lat=%{lat}<br>long=%{lon}<extra></extra>\", \"lat\": [8.460555000000001], \"legendgroup\": \"Sierra Leone\", \"lon\": [-11.779889], \"marker\": {\"color\": \"#FFA15A\"}, \"mode\": \"markers\", \"name\": \"Sierra Leone\", \"showlegend\": true, \"subplot\": \"mapbox\", \"type\": \"scattermapbox\"}, {\"hovertemplate\": \"country=Singapore<br>lat=%{lat}<br>long=%{lon}<extra></extra>\", \"lat\": [1.2833], \"legendgroup\": \"Singapore\", \"lon\": [103.8333], \"marker\": {\"color\": \"#19d3f3\"}, \"mode\": \"markers\", \"name\": \"Singapore\", \"showlegend\": true, \"subplot\": \"mapbox\", \"type\": \"scattermapbox\"}, {\"hovertemplate\": \"country=Slovakia<br>lat=%{lat}<br>long=%{lon}<extra></extra>\", \"lat\": [48.669], \"legendgroup\": \"Slovakia\", \"lon\": [19.699], \"marker\": {\"color\": \"#FF6692\"}, \"mode\": \"markers\", \"name\": \"Slovakia\", \"showlegend\": true, \"subplot\": \"mapbox\", \"type\": \"scattermapbox\"}, {\"hovertemplate\": \"country=Slovenia<br>lat=%{lat}<br>long=%{lon}<extra></extra>\", \"lat\": [46.1512], \"legendgroup\": \"Slovenia\", \"lon\": [14.9955], \"marker\": {\"color\": \"#B6E880\"}, \"mode\": \"markers\", \"name\": \"Slovenia\", \"showlegend\": true, \"subplot\": \"mapbox\", \"type\": \"scattermapbox\"}, {\"hovertemplate\": \"country=Solomon Islands<br>lat=%{lat}<br>long=%{lon}<extra></extra>\", \"lat\": [-9.6457], \"legendgroup\": \"Solomon Islands\", \"lon\": [160.1562], \"marker\": {\"color\": \"#FF97FF\"}, \"mode\": \"markers\", \"name\": \"Solomon Islands\", \"showlegend\": true, \"subplot\": \"mapbox\", \"type\": \"scattermapbox\"}, {\"hovertemplate\": \"country=Somalia<br>lat=%{lat}<br>long=%{lon}<extra></extra>\", \"lat\": [5.152149], \"legendgroup\": \"Somalia\", \"lon\": [46.199616], \"marker\": {\"color\": \"#FECB52\"}, \"mode\": \"markers\", \"name\": \"Somalia\", \"showlegend\": true, \"subplot\": \"mapbox\", \"type\": \"scattermapbox\"}, {\"hovertemplate\": \"country=South Africa<br>lat=%{lat}<br>long=%{lon}<extra></extra>\", \"lat\": [-30.5595], \"legendgroup\": \"South Africa\", \"lon\": [22.9375], \"marker\": {\"color\": \"#636efa\"}, \"mode\": \"markers\", \"name\": \"South Africa\", \"showlegend\": true, \"subplot\": \"mapbox\", \"type\": \"scattermapbox\"}, {\"hovertemplate\": \"country=South Sudan<br>lat=%{lat}<br>long=%{lon}<extra></extra>\", \"lat\": [6.877000000000001], \"legendgroup\": \"South Sudan\", \"lon\": [31.307], \"marker\": {\"color\": \"#EF553B\"}, \"mode\": \"markers\", \"name\": \"South Sudan\", \"showlegend\": true, \"subplot\": \"mapbox\", \"type\": \"scattermapbox\"}, {\"hovertemplate\": \"country=Spain<br>lat=%{lat}<br>long=%{lon}<extra></extra>\", \"lat\": [40.463667], \"legendgroup\": \"Spain\", \"lon\": [-3.7492199999999998], \"marker\": {\"color\": \"#00cc96\"}, \"mode\": \"markers\", \"name\": \"Spain\", \"showlegend\": true, \"subplot\": \"mapbox\", \"type\": \"scattermapbox\"}, {\"hovertemplate\": \"country=Sri Lanka<br>lat=%{lat}<br>long=%{lon}<extra></extra>\", \"lat\": [7.873054], \"legendgroup\": \"Sri Lanka\", \"lon\": [80.77179699999999], \"marker\": {\"color\": \"#ab63fa\"}, \"mode\": \"markers\", \"name\": \"Sri Lanka\", \"showlegend\": true, \"subplot\": \"mapbox\", \"type\": \"scattermapbox\"}, {\"hovertemplate\": \"country=Sudan<br>lat=%{lat}<br>long=%{lon}<extra></extra>\", \"lat\": [12.8628], \"legendgroup\": \"Sudan\", \"lon\": [30.2176], \"marker\": {\"color\": \"#FFA15A\"}, \"mode\": \"markers\", \"name\": \"Sudan\", \"showlegend\": true, \"subplot\": \"mapbox\", \"type\": \"scattermapbox\"}, {\"hovertemplate\": \"country=Suriname<br>lat=%{lat}<br>long=%{lon}<extra></extra>\", \"lat\": [3.9193], \"legendgroup\": \"Suriname\", \"lon\": [-56.0278], \"marker\": {\"color\": \"#19d3f3\"}, \"mode\": \"markers\", \"name\": \"Suriname\", \"showlegend\": true, \"subplot\": \"mapbox\", \"type\": \"scattermapbox\"}, {\"hovertemplate\": \"country=Sweden<br>lat=%{lat}<br>long=%{lon}<extra></extra>\", \"lat\": [60.128161], \"legendgroup\": \"Sweden\", \"lon\": [18.643501], \"marker\": {\"color\": \"#FF6692\"}, \"mode\": \"markers\", \"name\": \"Sweden\", \"showlegend\": true, \"subplot\": \"mapbox\", \"type\": \"scattermapbox\"}, {\"hovertemplate\": \"country=Switzerland<br>lat=%{lat}<br>long=%{lon}<extra></extra>\", \"lat\": [46.8182], \"legendgroup\": \"Switzerland\", \"lon\": [8.2275], \"marker\": {\"color\": \"#B6E880\"}, \"mode\": \"markers\", \"name\": \"Switzerland\", \"showlegend\": true, \"subplot\": \"mapbox\", \"type\": \"scattermapbox\"}, {\"hovertemplate\": \"country=Syria<br>lat=%{lat}<br>long=%{lon}<extra></extra>\", \"lat\": [34.802075], \"legendgroup\": \"Syria\", \"lon\": [38.996815000000005], \"marker\": {\"color\": \"#FF97FF\"}, \"mode\": \"markers\", \"name\": \"Syria\", \"showlegend\": true, \"subplot\": \"mapbox\", \"type\": \"scattermapbox\"}, {\"hovertemplate\": \"country=Taiwan*<br>lat=%{lat}<br>long=%{lon}<extra></extra>\", \"lat\": [23.7], \"legendgroup\": \"Taiwan*\", \"lon\": [121.0], \"marker\": {\"color\": \"#FECB52\"}, \"mode\": \"markers\", \"name\": \"Taiwan*\", \"showlegend\": true, \"subplot\": \"mapbox\", \"type\": \"scattermapbox\"}, {\"hovertemplate\": \"country=Tajikistan<br>lat=%{lat}<br>long=%{lon}<extra></extra>\", \"lat\": [38.861], \"legendgroup\": \"Tajikistan\", \"lon\": [71.2761], \"marker\": {\"color\": \"#636efa\"}, \"mode\": \"markers\", \"name\": \"Tajikistan\", \"showlegend\": true, \"subplot\": \"mapbox\", \"type\": \"scattermapbox\"}, {\"hovertemplate\": \"country=Tanzania<br>lat=%{lat}<br>long=%{lon}<extra></extra>\", \"lat\": [-6.369028], \"legendgroup\": \"Tanzania\", \"lon\": [34.888822], \"marker\": {\"color\": \"#EF553B\"}, \"mode\": \"markers\", \"name\": \"Tanzania\", \"showlegend\": true, \"subplot\": \"mapbox\", \"type\": \"scattermapbox\"}, {\"hovertemplate\": \"country=Thailand<br>lat=%{lat}<br>long=%{lon}<extra></extra>\", \"lat\": [15.870032], \"legendgroup\": \"Thailand\", \"lon\": [100.992541], \"marker\": {\"color\": \"#00cc96\"}, \"mode\": \"markers\", \"name\": \"Thailand\", \"showlegend\": true, \"subplot\": \"mapbox\", \"type\": \"scattermapbox\"}, {\"hovertemplate\": \"country=Timor-Leste<br>lat=%{lat}<br>long=%{lon}<extra></extra>\", \"lat\": [-8.874217], \"legendgroup\": \"Timor-Leste\", \"lon\": [125.727539], \"marker\": {\"color\": \"#ab63fa\"}, \"mode\": \"markers\", \"name\": \"Timor-Leste\", \"showlegend\": true, \"subplot\": \"mapbox\", \"type\": \"scattermapbox\"}, {\"hovertemplate\": \"country=Togo<br>lat=%{lat}<br>long=%{lon}<extra></extra>\", \"lat\": [8.6195], \"legendgroup\": \"Togo\", \"lon\": [0.8248], \"marker\": {\"color\": \"#FFA15A\"}, \"mode\": \"markers\", \"name\": \"Togo\", \"showlegend\": true, \"subplot\": \"mapbox\", \"type\": \"scattermapbox\"}, {\"hovertemplate\": \"country=Trinidad and Tobago<br>lat=%{lat}<br>long=%{lon}<extra></extra>\", \"lat\": [10.6918], \"legendgroup\": \"Trinidad and Tobago\", \"lon\": [-61.2225], \"marker\": {\"color\": \"#19d3f3\"}, \"mode\": \"markers\", \"name\": \"Trinidad and Tobago\", \"showlegend\": true, \"subplot\": \"mapbox\", \"type\": \"scattermapbox\"}, {\"hovertemplate\": \"country=Tunisia<br>lat=%{lat}<br>long=%{lon}<extra></extra>\", \"lat\": [33.886917], \"legendgroup\": \"Tunisia\", \"lon\": [9.537499], \"marker\": {\"color\": \"#FF6692\"}, \"mode\": \"markers\", \"name\": \"Tunisia\", \"showlegend\": true, \"subplot\": \"mapbox\", \"type\": \"scattermapbox\"}, {\"hovertemplate\": \"country=Turkey<br>lat=%{lat}<br>long=%{lon}<extra></extra>\", \"lat\": [38.9637], \"legendgroup\": \"Turkey\", \"lon\": [35.2433], \"marker\": {\"color\": \"#B6E880\"}, \"mode\": \"markers\", \"name\": \"Turkey\", \"showlegend\": true, \"subplot\": \"mapbox\", \"type\": \"scattermapbox\"}, {\"hovertemplate\": \"country=US<br>lat=%{lat}<br>long=%{lon}<extra></extra>\", \"lat\": [40.0], \"legendgroup\": \"US\", \"lon\": [-100.0], \"marker\": {\"color\": \"#FF97FF\"}, \"mode\": \"markers\", \"name\": \"US\", \"showlegend\": true, \"subplot\": \"mapbox\", \"type\": \"scattermapbox\"}, {\"hovertemplate\": \"country=Uganda<br>lat=%{lat}<br>long=%{lon}<extra></extra>\", \"lat\": [1.373333], \"legendgroup\": \"Uganda\", \"lon\": [32.290275], \"marker\": {\"color\": \"#FECB52\"}, \"mode\": \"markers\", \"name\": \"Uganda\", \"showlegend\": true, \"subplot\": \"mapbox\", \"type\": \"scattermapbox\"}, {\"hovertemplate\": \"country=Ukraine<br>lat=%{lat}<br>long=%{lon}<extra></extra>\", \"lat\": [48.3794], \"legendgroup\": \"Ukraine\", \"lon\": [31.1656], \"marker\": {\"color\": \"#636efa\"}, \"mode\": \"markers\", \"name\": \"Ukraine\", \"showlegend\": true, \"subplot\": \"mapbox\", \"type\": \"scattermapbox\"}, {\"hovertemplate\": \"country=United Arab Emirates<br>lat=%{lat}<br>long=%{lon}<extra></extra>\", \"lat\": [23.424076], \"legendgroup\": \"United Arab Emirates\", \"lon\": [53.847818000000004], \"marker\": {\"color\": \"#EF553B\"}, \"mode\": \"markers\", \"name\": \"United Arab Emirates\", \"showlegend\": true, \"subplot\": \"mapbox\", \"type\": \"scattermapbox\"}, {\"hovertemplate\": \"country=United Kingdom<br>lat=%{lat}<br>long=%{lon}<extra></extra>\", \"lat\": [18.2206, 32.3078, 18.4207, 19.3133, 49.3723, -51.7963, 36.1408, 54.2361, 16.742498, -7.9467, 21.694000000000003, 55.3781], \"legendgroup\": \"United Kingdom\", \"lon\": [-63.0686, -64.7505, -64.64, -81.2546, -2.3644, -59.5236, -5.3536, -4.5481, -62.187366000000004, -14.3559, -71.7979, -3.4360000000000004], \"marker\": {\"color\": \"#00cc96\"}, \"mode\": \"markers\", \"name\": \"United Kingdom\", \"showlegend\": true, \"subplot\": \"mapbox\", \"type\": \"scattermapbox\"}, {\"hovertemplate\": \"country=Uruguay<br>lat=%{lat}<br>long=%{lon}<extra></extra>\", \"lat\": [-32.5228], \"legendgroup\": \"Uruguay\", \"lon\": [-55.7658], \"marker\": {\"color\": \"#ab63fa\"}, \"mode\": \"markers\", \"name\": \"Uruguay\", \"showlegend\": true, \"subplot\": \"mapbox\", \"type\": \"scattermapbox\"}, {\"hovertemplate\": \"country=Uzbekistan<br>lat=%{lat}<br>long=%{lon}<extra></extra>\", \"lat\": [41.377491], \"legendgroup\": \"Uzbekistan\", \"lon\": [64.585262], \"marker\": {\"color\": \"#FFA15A\"}, \"mode\": \"markers\", \"name\": \"Uzbekistan\", \"showlegend\": true, \"subplot\": \"mapbox\", \"type\": \"scattermapbox\"}, {\"hovertemplate\": \"country=Vanuatu<br>lat=%{lat}<br>long=%{lon}<extra></extra>\", \"lat\": [-15.3767], \"legendgroup\": \"Vanuatu\", \"lon\": [166.9592], \"marker\": {\"color\": \"#19d3f3\"}, \"mode\": \"markers\", \"name\": \"Vanuatu\", \"showlegend\": true, \"subplot\": \"mapbox\", \"type\": \"scattermapbox\"}, {\"hovertemplate\": \"country=Venezuela<br>lat=%{lat}<br>long=%{lon}<extra></extra>\", \"lat\": [6.4238], \"legendgroup\": \"Venezuela\", \"lon\": [-66.5897], \"marker\": {\"color\": \"#FF6692\"}, \"mode\": \"markers\", \"name\": \"Venezuela\", \"showlegend\": true, \"subplot\": \"mapbox\", \"type\": \"scattermapbox\"}, {\"hovertemplate\": \"country=Vietnam<br>lat=%{lat}<br>long=%{lon}<extra></extra>\", \"lat\": [14.058323999999999], \"legendgroup\": \"Vietnam\", \"lon\": [108.277199], \"marker\": {\"color\": \"#B6E880\"}, \"mode\": \"markers\", \"name\": \"Vietnam\", \"showlegend\": true, \"subplot\": \"mapbox\", \"type\": \"scattermapbox\"}, {\"hovertemplate\": \"country=West Bank and Gaza<br>lat=%{lat}<br>long=%{lon}<extra></extra>\", \"lat\": [31.9522], \"legendgroup\": \"West Bank and Gaza\", \"lon\": [35.2332], \"marker\": {\"color\": \"#FF97FF\"}, \"mode\": \"markers\", \"name\": \"West Bank and Gaza\", \"showlegend\": true, \"subplot\": \"mapbox\", \"type\": \"scattermapbox\"}, {\"hovertemplate\": \"country=Yemen<br>lat=%{lat}<br>long=%{lon}<extra></extra>\", \"lat\": [15.552726999999999], \"legendgroup\": \"Yemen\", \"lon\": [48.516388], \"marker\": {\"color\": \"#FECB52\"}, \"mode\": \"markers\", \"name\": \"Yemen\", \"showlegend\": true, \"subplot\": \"mapbox\", \"type\": \"scattermapbox\"}, {\"hovertemplate\": \"country=Zambia<br>lat=%{lat}<br>long=%{lon}<extra></extra>\", \"lat\": [-13.133897], \"legendgroup\": \"Zambia\", \"lon\": [27.849332], \"marker\": {\"color\": \"#636efa\"}, \"mode\": \"markers\", \"name\": \"Zambia\", \"showlegend\": true, \"subplot\": \"mapbox\", \"type\": \"scattermapbox\"}, {\"hovertemplate\": \"country=Zimbabwe<br>lat=%{lat}<br>long=%{lon}<extra></extra>\", \"lat\": [-19.015438], \"legendgroup\": \"Zimbabwe\", \"lon\": [29.154857], \"marker\": {\"color\": \"#EF553B\"}, \"mode\": \"markers\", \"name\": \"Zimbabwe\", \"showlegend\": true, \"subplot\": \"mapbox\", \"type\": \"scattermapbox\"}],                        {\"legend\": {\"title\": {\"text\": \"country\"}, \"tracegroupgap\": 0}, \"mapbox\": {\"center\": {\"lat\": 20.534804212454183, \"lon\": 23.02814327472526}, \"domain\": {\"x\": [0.0, 1.0], \"y\": [0.0, 1.0]}, \"style\": \"carto-positron\", \"zoom\": 0}, \"margin\": {\"t\": 60}, \"template\": {\"data\": {\"bar\": [{\"error_x\": {\"color\": \"#2a3f5f\"}, \"error_y\": {\"color\": \"#2a3f5f\"}, \"marker\": {\"line\": {\"color\": \"#E5ECF6\", \"width\": 0.5}}, \"type\": \"bar\"}], \"barpolar\": [{\"marker\": {\"line\": {\"color\": \"#E5ECF6\", \"width\": 0.5}}, \"type\": \"barpolar\"}], \"carpet\": [{\"aaxis\": {\"endlinecolor\": \"#2a3f5f\", \"gridcolor\": \"white\", \"linecolor\": \"white\", \"minorgridcolor\": \"white\", \"startlinecolor\": \"#2a3f5f\"}, \"baxis\": {\"endlinecolor\": \"#2a3f5f\", \"gridcolor\": \"white\", \"linecolor\": \"white\", \"minorgridcolor\": \"white\", \"startlinecolor\": \"#2a3f5f\"}, \"type\": \"carpet\"}], \"choropleth\": [{\"colorbar\": {\"outlinewidth\": 0, \"ticks\": \"\"}, \"type\": \"choropleth\"}], \"contour\": [{\"colorbar\": {\"outlinewidth\": 0, \"ticks\": \"\"}, \"colorscale\": [[0.0, \"#0d0887\"], [0.1111111111111111, \"#46039f\"], [0.2222222222222222, \"#7201a8\"], [0.3333333333333333, \"#9c179e\"], [0.4444444444444444, \"#bd3786\"], [0.5555555555555556, \"#d8576b\"], [0.6666666666666666, \"#ed7953\"], [0.7777777777777778, \"#fb9f3a\"], [0.8888888888888888, \"#fdca26\"], [1.0, \"#f0f921\"]], \"type\": \"contour\"}], \"contourcarpet\": [{\"colorbar\": {\"outlinewidth\": 0, \"ticks\": \"\"}, \"type\": \"contourcarpet\"}], \"heatmap\": [{\"colorbar\": {\"outlinewidth\": 0, \"ticks\": \"\"}, \"colorscale\": [[0.0, \"#0d0887\"], [0.1111111111111111, \"#46039f\"], [0.2222222222222222, \"#7201a8\"], [0.3333333333333333, \"#9c179e\"], [0.4444444444444444, \"#bd3786\"], [0.5555555555555556, \"#d8576b\"], [0.6666666666666666, \"#ed7953\"], [0.7777777777777778, \"#fb9f3a\"], [0.8888888888888888, \"#fdca26\"], [1.0, \"#f0f921\"]], \"type\": \"heatmap\"}], \"heatmapgl\": [{\"colorbar\": {\"outlinewidth\": 0, \"ticks\": \"\"}, \"colorscale\": [[0.0, \"#0d0887\"], [0.1111111111111111, \"#46039f\"], [0.2222222222222222, \"#7201a8\"], [0.3333333333333333, \"#9c179e\"], [0.4444444444444444, \"#bd3786\"], [0.5555555555555556, \"#d8576b\"], [0.6666666666666666, \"#ed7953\"], [0.7777777777777778, \"#fb9f3a\"], [0.8888888888888888, \"#fdca26\"], [1.0, \"#f0f921\"]], \"type\": \"heatmapgl\"}], \"histogram\": [{\"marker\": {\"colorbar\": {\"outlinewidth\": 0, \"ticks\": \"\"}}, \"type\": \"histogram\"}], \"histogram2d\": [{\"colorbar\": {\"outlinewidth\": 0, \"ticks\": \"\"}, \"colorscale\": [[0.0, \"#0d0887\"], [0.1111111111111111, \"#46039f\"], [0.2222222222222222, \"#7201a8\"], [0.3333333333333333, \"#9c179e\"], [0.4444444444444444, \"#bd3786\"], [0.5555555555555556, \"#d8576b\"], [0.6666666666666666, \"#ed7953\"], [0.7777777777777778, \"#fb9f3a\"], [0.8888888888888888, \"#fdca26\"], [1.0, \"#f0f921\"]], \"type\": \"histogram2d\"}], \"histogram2dcontour\": [{\"colorbar\": {\"outlinewidth\": 0, \"ticks\": \"\"}, \"colorscale\": [[0.0, \"#0d0887\"], [0.1111111111111111, \"#46039f\"], [0.2222222222222222, \"#7201a8\"], [0.3333333333333333, \"#9c179e\"], [0.4444444444444444, \"#bd3786\"], [0.5555555555555556, \"#d8576b\"], [0.6666666666666666, \"#ed7953\"], [0.7777777777777778, \"#fb9f3a\"], [0.8888888888888888, \"#fdca26\"], [1.0, \"#f0f921\"]], \"type\": \"histogram2dcontour\"}], \"mesh3d\": [{\"colorbar\": {\"outlinewidth\": 0, \"ticks\": \"\"}, \"type\": \"mesh3d\"}], \"parcoords\": [{\"line\": {\"colorbar\": {\"outlinewidth\": 0, \"ticks\": \"\"}}, \"type\": \"parcoords\"}], \"pie\": [{\"automargin\": true, \"type\": \"pie\"}], \"scatter\": [{\"marker\": {\"colorbar\": {\"outlinewidth\": 0, \"ticks\": \"\"}}, \"type\": \"scatter\"}], \"scatter3d\": [{\"line\": {\"colorbar\": {\"outlinewidth\": 0, \"ticks\": \"\"}}, \"marker\": {\"colorbar\": {\"outlinewidth\": 0, \"ticks\": \"\"}}, \"type\": \"scatter3d\"}], \"scattercarpet\": [{\"marker\": {\"colorbar\": {\"outlinewidth\": 0, \"ticks\": \"\"}}, \"type\": \"scattercarpet\"}], \"scattergeo\": [{\"marker\": {\"colorbar\": {\"outlinewidth\": 0, \"ticks\": \"\"}}, \"type\": \"scattergeo\"}], \"scattergl\": [{\"marker\": {\"colorbar\": {\"outlinewidth\": 0, \"ticks\": \"\"}}, \"type\": \"scattergl\"}], \"scattermapbox\": [{\"marker\": {\"colorbar\": {\"outlinewidth\": 0, \"ticks\": \"\"}}, \"type\": \"scattermapbox\"}], \"scatterpolar\": [{\"marker\": {\"colorbar\": {\"outlinewidth\": 0, \"ticks\": \"\"}}, \"type\": \"scatterpolar\"}], \"scatterpolargl\": [{\"marker\": {\"colorbar\": {\"outlinewidth\": 0, \"ticks\": \"\"}}, \"type\": \"scatterpolargl\"}], \"scatterternary\": [{\"marker\": {\"colorbar\": {\"outlinewidth\": 0, \"ticks\": \"\"}}, \"type\": \"scatterternary\"}], \"surface\": [{\"colorbar\": {\"outlinewidth\": 0, \"ticks\": \"\"}, \"colorscale\": [[0.0, \"#0d0887\"], [0.1111111111111111, \"#46039f\"], [0.2222222222222222, \"#7201a8\"], [0.3333333333333333, \"#9c179e\"], [0.4444444444444444, \"#bd3786\"], [0.5555555555555556, \"#d8576b\"], [0.6666666666666666, \"#ed7953\"], [0.7777777777777778, \"#fb9f3a\"], [0.8888888888888888, \"#fdca26\"], [1.0, \"#f0f921\"]], \"type\": \"surface\"}], \"table\": [{\"cells\": {\"fill\": {\"color\": \"#EBF0F8\"}, \"line\": {\"color\": \"white\"}}, \"header\": {\"fill\": {\"color\": \"#C8D4E3\"}, \"line\": {\"color\": \"white\"}}, \"type\": \"table\"}]}, \"layout\": {\"annotationdefaults\": {\"arrowcolor\": \"#2a3f5f\", \"arrowhead\": 0, \"arrowwidth\": 1}, \"autotypenumbers\": \"strict\", \"coloraxis\": {\"colorbar\": {\"outlinewidth\": 0, \"ticks\": \"\"}}, \"colorscale\": {\"diverging\": [[0, \"#8e0152\"], [0.1, \"#c51b7d\"], [0.2, \"#de77ae\"], [0.3, \"#f1b6da\"], [0.4, \"#fde0ef\"], [0.5, \"#f7f7f7\"], [0.6, \"#e6f5d0\"], [0.7, \"#b8e186\"], [0.8, \"#7fbc41\"], [0.9, \"#4d9221\"], [1, \"#276419\"]], \"sequential\": [[0.0, \"#0d0887\"], [0.1111111111111111, \"#46039f\"], [0.2222222222222222, \"#7201a8\"], [0.3333333333333333, \"#9c179e\"], [0.4444444444444444, \"#bd3786\"], [0.5555555555555556, \"#d8576b\"], [0.6666666666666666, \"#ed7953\"], [0.7777777777777778, \"#fb9f3a\"], [0.8888888888888888, \"#fdca26\"], [1.0, \"#f0f921\"]], \"sequentialminus\": [[0.0, \"#0d0887\"], [0.1111111111111111, \"#46039f\"], [0.2222222222222222, \"#7201a8\"], [0.3333333333333333, \"#9c179e\"], [0.4444444444444444, \"#bd3786\"], [0.5555555555555556, \"#d8576b\"], [0.6666666666666666, \"#ed7953\"], [0.7777777777777778, \"#fb9f3a\"], [0.8888888888888888, \"#fdca26\"], [1.0, \"#f0f921\"]]}, \"colorway\": [\"#636efa\", \"#EF553B\", \"#00cc96\", \"#ab63fa\", \"#FFA15A\", \"#19d3f3\", \"#FF6692\", \"#B6E880\", \"#FF97FF\", \"#FECB52\"], \"font\": {\"color\": \"#2a3f5f\"}, \"geo\": {\"bgcolor\": \"white\", \"lakecolor\": \"white\", \"landcolor\": \"#E5ECF6\", \"showlakes\": true, \"showland\": true, \"subunitcolor\": \"white\"}, \"hoverlabel\": {\"align\": \"left\"}, \"hovermode\": \"closest\", \"mapbox\": {\"style\": \"light\"}, \"paper_bgcolor\": \"white\", \"plot_bgcolor\": \"#E5ECF6\", \"polar\": {\"angularaxis\": {\"gridcolor\": \"white\", \"linecolor\": \"white\", \"ticks\": \"\"}, \"bgcolor\": \"#E5ECF6\", \"radialaxis\": {\"gridcolor\": \"white\", \"linecolor\": \"white\", \"ticks\": \"\"}}, \"scene\": {\"xaxis\": {\"backgroundcolor\": \"#E5ECF6\", \"gridcolor\": \"white\", \"gridwidth\": 2, \"linecolor\": \"white\", \"showbackground\": true, \"ticks\": \"\", \"zerolinecolor\": \"white\"}, \"yaxis\": {\"backgroundcolor\": \"#E5ECF6\", \"gridcolor\": \"white\", \"gridwidth\": 2, \"linecolor\": \"white\", \"showbackground\": true, \"ticks\": \"\", \"zerolinecolor\": \"white\"}, \"zaxis\": {\"backgroundcolor\": \"#E5ECF6\", \"gridcolor\": \"white\", \"gridwidth\": 2, \"linecolor\": \"white\", \"showbackground\": true, \"ticks\": \"\", \"zerolinecolor\": \"white\"}}, \"shapedefaults\": {\"line\": {\"color\": \"#2a3f5f\"}}, \"ternary\": {\"aaxis\": {\"gridcolor\": \"white\", \"linecolor\": \"white\", \"ticks\": \"\"}, \"baxis\": {\"gridcolor\": \"white\", \"linecolor\": \"white\", \"ticks\": \"\"}, \"bgcolor\": \"#E5ECF6\", \"caxis\": {\"gridcolor\": \"white\", \"linecolor\": \"white\", \"ticks\": \"\"}}, \"title\": {\"x\": 0.05}, \"xaxis\": {\"automargin\": true, \"gridcolor\": \"white\", \"linecolor\": \"white\", \"ticks\": \"\", \"title\": {\"standoff\": 15}, \"zerolinecolor\": \"white\", \"zerolinewidth\": 2}, \"yaxis\": {\"automargin\": true, \"gridcolor\": \"white\", \"linecolor\": \"white\", \"ticks\": \"\", \"title\": {\"standoff\": 15}, \"zerolinecolor\": \"white\", \"zerolinewidth\": 2}}}, \"title\": {\"text\": \"Global spread of COVID-19. (Last updated on 5/5/21)\"}},                        {\"responsive\": true}                    ).then(function(){\n",
       "                            \n",
       "var gd = document.getElementById('32612904-f769-49b4-86b0-0e195a720194');\n",
       "var x = new MutationObserver(function (mutations, observer) {{\n",
       "        var display = window.getComputedStyle(gd).display;\n",
       "        if (!display || display === 'none') {{\n",
       "            console.log([gd, 'removed!']);\n",
       "            Plotly.purge(gd);\n",
       "            observer.disconnect();\n",
       "        }}\n",
       "}});\n",
       "\n",
       "// Listen for the removal of the full notebook cells\n",
       "var notebookContainer = gd.closest('#notebook-container');\n",
       "if (notebookContainer) {{\n",
       "    x.observe(notebookContainer, {childList: true});\n",
       "}}\n",
       "\n",
       "// Listen for the clearing of the current output cell\n",
       "var outputEl = gd.closest('.output');\n",
       "if (outputEl) {{\n",
       "    x.observe(outputEl, {childList: true});\n",
       "}}\n",
       "\n",
       "                        })                };                });            </script>        </div>"
      ]
     },
     "metadata": {},
     "output_type": "display_data"
    }
   ],
   "source": [
    "fig = px.scatter_mapbox(confirmed_df, lat=\"lat\", lon=\"long\", color=\"country\",\n",
    "                  color_continuous_scale=px.colors.cyclical.IceFire, size_max=15, zoom=0,\n",
    "                  mapbox_style=\"carto-positron\")\n",
    "\n",
    "fig.update_layout(\n",
    "    title=\"Global spread of COVID-19. (Last updated on \"+ confirmed_df.columns[-1] +\")\"\n",
    "    )\n",
    "    \n",
    "fig.show();"
   ]
  }
 ],
 "metadata": {
  "kernelspec": {
   "display_name": "Python 3",
   "language": "python",
   "name": "python3"
  },
  "language_info": {
   "codemirror_mode": {
    "name": "ipython",
    "version": 3
   },
   "file_extension": ".py",
   "mimetype": "text/x-python",
   "name": "python",
   "nbconvert_exporter": "python",
   "pygments_lexer": "ipython3",
   "version": "3.8.3"
  }
 },
 "nbformat": 4,
 "nbformat_minor": 4
}
