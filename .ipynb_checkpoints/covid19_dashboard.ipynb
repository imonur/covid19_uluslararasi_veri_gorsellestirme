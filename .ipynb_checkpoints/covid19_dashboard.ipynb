{
 "cells": [
  {
   "cell_type": "markdown",
   "metadata": {},
   "source": [
    "# COVID-19 Data Analysis & Visualization"
   ]
  },
  {
   "cell_type": "markdown",
   "metadata": {},
   "source": [
    "## What is COVID-19?"
   ]
  },
  {
   "cell_type": "markdown",
   "metadata": {},
   "source": [
    "> Coronavirus disease (COVID-19) is an infectious disease caused by a newly discovered coronavirus.\n",
    "Most people infected with the COVID-19 virus will experience mild to moderate respiratory illness and recover without requiring special treatment.  Older people, and those with underlying medical problems like cardiovascular disease, diabetes, chronic respiratory disease, and cancer are more likely to develop serious illness.\n",
    "The best way to prevent and slow down transmission is to be well informed about the COVID-19 virus, the disease it causes and how it spreads. Protect yourself and others from infection by washing your hands or using an alcohol based rub frequently and not touching your face. \n",
    "The COVID-19 virus spreads primarily through droplets of saliva or discharge from the nose when an infected person coughs or sneezes, so it’s important that you also practice respiratory etiquette (for example, by coughing into a flexed elbow)."
   ]
  },
  {
   "cell_type": "markdown",
   "metadata": {},
   "source": [
    "![Coronavirus Image](https://cdn.pixabay.com/photo/2020/03/16/16/29/virus-4937553_960_720.jpg)"
   ]
  },
  {
   "cell_type": "code",
   "execution_count": 2,
   "metadata": {},
   "outputs": [],
   "source": [
    "# Importing the libraries\n",
    "import numpy as np\n",
    "import pandas as pd\n",
    "import matplotlib.pyplot as plt\n",
    "\n",
    "import plotly.express as px\n",
    "import plotly.graph_objects as go\n",
    "\n",
    "from IPython.display import display, HTML\n",
    "\n",
    "from ipywidgets import interact\n",
    "import ipywidgets as widgets\n",
    "import folium"
   ]
  },
  {
   "cell_type": "code",
   "execution_count": 3,
   "metadata": {},
   "outputs": [],
   "source": [
    "# loading data right from the source:\n",
    "death_df = pd.read_csv('https://raw.githubusercontent.com/CSSEGISandData/COVID-19/master/csse_covid_19_data/csse_covid_19_time_series/time_series_covid19_deaths_global.csv')\n",
    "confirmed_df = pd.read_csv('https://raw.githubusercontent.com/CSSEGISandData/COVID-19/master/csse_covid_19_data/csse_covid_19_time_series/time_series_covid19_confirmed_global.csv')\n",
    "recovered_df = pd.read_csv('https://raw.githubusercontent.com/CSSEGISandData/COVID-19/master/csse_covid_19_data/csse_covid_19_time_series/time_series_covid19_recovered_global.csv')\n",
    "country_df = pd.read_csv('https://raw.githubusercontent.com/CSSEGISandData/COVID-19/web-data/data/cases_country.csv')"
   ]
  },
  {
   "cell_type": "code",
   "execution_count": 4,
   "metadata": {},
   "outputs": [],
   "source": [
    "# Converting the columns names to lower case\n",
    "death_df.columns = map(str.lower,death_df.columns)\n",
    "confirmed_df.columns = map(str.lower,confirmed_df.columns)\n",
    "recovered_df.columns = map(str.lower,recovered_df.columns)\n",
    "country_df.columns = map(str.lower,country_df.columns)"
   ]
  },
  {
   "cell_type": "code",
   "execution_count": 5,
   "metadata": {},
   "outputs": [],
   "source": [
    "# Renaming some of the columns for easy handling\n",
    "death_df = death_df.rename(columns={'province/state': 'state', 'country/region': 'country'})\n",
    "confirmed_df = confirmed_df.rename(columns={'province/state': 'state', 'country/region': 'country'})\n",
    "recovered_df = recovered_df.rename(columns={'province/state': 'state', 'country/region': 'country'})\n",
    "country_df = country_df.rename(columns={'country_region': 'country'})"
   ]
  },
  {
   "cell_type": "code",
   "execution_count": 6,
   "metadata": {},
   "outputs": [],
   "source": [
    "# Creating a new feature \"NewCases\" to capture the difference between the last/latest day count and 2nd last day count\n",
    "confirmed_df.insert(4,'NewCases',0)\n",
    "confirmed_df['NewCases'] = confirmed_df.iloc[:,-1] - confirmed_df.iloc[:,-2]"
   ]
  },
  {
   "cell_type": "code",
   "execution_count": 7,
   "metadata": {},
   "outputs": [],
   "source": [
    "# Creating a new feature \"NewCases\" to capture the difference between the last/latest day count and 2nd last day count\n",
    "recovered_df.insert(4,'NewCases',0)\n",
    "recovered_df['NewCases'] = recovered_df.iloc[:,-1] - recovered_df.iloc[:,-2]"
   ]
  },
  {
   "cell_type": "code",
   "execution_count": 8,
   "metadata": {},
   "outputs": [],
   "source": [
    "# Creating a new feature \"NewCases\" to capture the difference between the last/latest day count and 2nd last day count\n",
    "death_df.insert(4,'NewCases',0)\n",
    "death_df['NewCases'] = death_df.iloc[:,-1] - death_df.iloc[:,-2]"
   ]
  },
  {
   "cell_type": "markdown",
   "metadata": {},
   "source": [
    "## Overal Worldwide Counts"
   ]
  },
  {
   "cell_type": "code",
   "execution_count": 9,
   "metadata": {},
   "outputs": [],
   "source": [
    "# Summing up the total confirmed cases across countries\n",
    "confirmed_total = country_df['confirmed'].sum()"
   ]
  },
  {
   "cell_type": "code",
   "execution_count": 10,
   "metadata": {},
   "outputs": [],
   "source": [
    "# Summing up the total deaths cases across countries\n",
    "deaths_total = country_df['deaths'].sum()"
   ]
  },
  {
   "cell_type": "code",
   "execution_count": 11,
   "metadata": {},
   "outputs": [],
   "source": [
    "# Summing up the total recovered cases across countries\n",
    "recovered_total = country_df['recovered'].sum()"
   ]
  },
  {
   "cell_type": "code",
   "execution_count": 12,
   "metadata": {},
   "outputs": [],
   "source": [
    "# Summing up the total active cases across countries\n",
    "active_total = country_df['active'].sum()"
   ]
  },
  {
   "cell_type": "code",
   "execution_count": 13,
   "metadata": {
    "scrolled": true
   },
   "outputs": [
    {
     "data": {
      "text/html": [
       "<div style = 'background-color: #504e4e; padding: 32px '><span style='color: #fff; font-size:32px;'> Confirmed: 527072266</span><span style='color: red; font-size:32px;margin-left:22px;'> Deaths: 6281996</span><span style='color: lightgreen; font-size:32px; margin-left:22px;'> Recovered: 0.0</span><span style='color: #fff; font-size:32px; margin-left:22px;'> Active: 0.0</span></div>"
      ],
      "text/plain": [
       "<IPython.core.display.HTML object>"
      ]
     },
     "metadata": {},
     "output_type": "display_data"
    }
   ],
   "source": [
    "# displaying the current total stats\n",
    "\n",
    "display(HTML(\"<div style = 'background-color: #504e4e; padding: 32px '>\" +\n",
    "             \"<span style='color: #fff; font-size:32px;'> Confirmed: \"  + str(confirmed_total) +\"</span>\" +\n",
    "             \"<span style='color: red; font-size:32px;margin-left:22px;'> Deaths: \" + str(deaths_total) + \"</span>\"+\n",
    "             \"<span style='color: lightgreen; font-size:32px; margin-left:22px;'> Recovered: \" + str(recovered_total) + \"</span>\"+\n",
    "             \"<span style='color: #fff; font-size:32px; margin-left:22px;'> Active: \"  + str(active_total) +\"</span>\" +\n",
    "             \"</div>\")\n",
    "       )"
   ]
  },
  {
   "cell_type": "markdown",
   "metadata": {},
   "source": [
    "# Data Visualization through Bubble Charts"
   ]
  },
  {
   "cell_type": "markdown",
   "metadata": {},
   "source": [
    "### Latest Count of Confirmed New Cases"
   ]
  },
  {
   "cell_type": "code",
   "execution_count": 14,
   "metadata": {
    "scrolled": true
   },
   "outputs": [],
   "source": [
    "# Aggregating the confirmed new cases against each country\n",
    "country_confirmed_newcases = confirmed_df.groupby(\"country\")['NewCases'].sum().reset_index(name ='TotalNewCases')\n",
    "country_confirmed_newcases = country_confirmed_newcases.sort_values(by='TotalNewCases', ascending=False)"
   ]
  },
  {
   "cell_type": "code",
   "execution_count": 15,
   "metadata": {
    "scrolled": false
   },
   "outputs": [
    {
     "data": {
      "application/vnd.jupyter.widget-view+json": {
       "model_id": "842e419c62eb40bfa1c9a1b8e3e8ed97",
       "version_major": 2,
       "version_minor": 0
      },
      "text/plain": [
       "interactive(children=(IntSlider(value=10, description='n', max=30, min=-10), Output()), _dom_classes=('widget-…"
      ]
     },
     "metadata": {},
     "output_type": "display_data"
    }
   ],
   "source": [
    "# Visualizing the new confirmed cases against each country using plotly\n",
    "def bubble_chart(n):\n",
    "    fig = px.scatter(country_confirmed_newcases.head(n), x=\"country\", y=\"TotalNewCases\", size=\"TotalNewCases\", color=\"country\",\n",
    "               hover_name=\"country\", size_max=60)\n",
    "    fig.update_layout(\n",
    "    title=str(n) +\" countries with highest number of confirmed new cases. <br> (Last updated on \"+(confirmed_df.columns)[-1]+\")\",\n",
    "    xaxis_title=\"Countries\",\n",
    "    yaxis_title=\"Confirmed New Cases\",\n",
    "    width = 900\n",
    "    )\n",
    "    fig.show();\n",
    "    \n",
    "\n",
    "interact(bubble_chart, n=10)\n",
    "ipywLayout = widgets.Layout()\n",
    "ipywLayout.display='none'"
   ]
  },
  {
   "cell_type": "markdown",
   "metadata": {},
   "source": [
    "### Latest Count of New Death Cases"
   ]
  },
  {
   "cell_type": "code",
   "execution_count": 16,
   "metadata": {},
   "outputs": [],
   "source": [
    "# Aggregating the new death cases against each country\n",
    "country_death_newcases = death_df.groupby(\"country\")['NewCases'].sum().reset_index(name ='TotalNewCases')\n",
    "country_death_newcases = country_death_newcases.sort_values(by='TotalNewCases', ascending=False)"
   ]
  },
  {
   "cell_type": "code",
   "execution_count": 17,
   "metadata": {
    "scrolled": false
   },
   "outputs": [
    {
     "data": {
      "application/vnd.jupyter.widget-view+json": {
       "model_id": "c372c676d2084998986eb9d26408a604",
       "version_major": 2,
       "version_minor": 0
      },
      "text/plain": [
       "interactive(children=(IntSlider(value=10, description='n', max=30, min=-10), Output()), _dom_classes=('widget-…"
      ]
     },
     "metadata": {},
     "output_type": "display_data"
    }
   ],
   "source": [
    "# Visualizing the new death cases against each country using plotly\n",
    "def bubble_chart(n):\n",
    "    fig = px.scatter(country_death_newcases.head(n), x=\"country\", y=\"TotalNewCases\", size=\"TotalNewCases\", color=\"country\",\n",
    "               hover_name=\"country\", size_max=60)\n",
    "    fig.update_layout(\n",
    "    title=str(n) +\" countries with highest number of new death cases. <br> (Last updated on \"+(death_df.columns)[-1]+\")\",\n",
    "    xaxis_title=\"Countries\",\n",
    "    yaxis_title=\"New Death Cases\",\n",
    "    width = 900\n",
    "    )\n",
    "    fig.show();\n",
    "\n",
    "    \n",
    "interact(bubble_chart, n=10)\n",
    "ipywLayout = widgets.Layout()\n",
    "ipywLayout.display='none'"
   ]
  },
  {
   "cell_type": "markdown",
   "metadata": {},
   "source": [
    "### Latest Count of New Recovered Cases"
   ]
  },
  {
   "cell_type": "code",
   "execution_count": 18,
   "metadata": {
    "scrolled": true
   },
   "outputs": [],
   "source": [
    "# Aggregating the recovered new cases against each country\n",
    "country_recovered_newcases = recovered_df.groupby(\"country\")['NewCases'].sum().reset_index(name ='TotalNewCases')\n",
    "country_recovered_newcases = country_recovered_newcases.sort_values(by='TotalNewCases', ascending=False)"
   ]
  },
  {
   "cell_type": "code",
   "execution_count": 19,
   "metadata": {
    "scrolled": false
   },
   "outputs": [
    {
     "data": {
      "application/vnd.jupyter.widget-view+json": {
       "model_id": "dcab06a6ba334161931aa6ee950312bd",
       "version_major": 2,
       "version_minor": 0
      },
      "text/plain": [
       "interactive(children=(IntSlider(value=10, description='n', max=30, min=-10), Output()), _dom_classes=('widget-…"
      ]
     },
     "metadata": {},
     "output_type": "display_data"
    }
   ],
   "source": [
    "# Visualizing the recovered new cases against each country using plotly\n",
    "def bubble_chart(n):\n",
    "    fig = px.scatter(country_recovered_newcases.head(n), x=\"country\", y=\"TotalNewCases\", size=\"TotalNewCases\", color=\"country\",\n",
    "               hover_name=\"country\", size_max=60)\n",
    "    fig.update_layout(\n",
    "    title=str(n) +\" countries with highest number of new recovered cases. <br> (Last updated on \"+(recovered_df.columns)[-1]+\")\",\n",
    "    xaxis_title=\"Countries\",\n",
    "    yaxis_title=\"New Recovered Cases\",\n",
    "    width = 900\n",
    "    )\n",
    "    fig.show();\n",
    "\n",
    "    \n",
    "interact(bubble_chart, n=10)\n",
    "ipywLayout = widgets.Layout()\n",
    "ipywLayout.display='none'"
   ]
  },
  {
   "cell_type": "markdown",
   "metadata": {},
   "source": [
    " "
   ]
  },
  {
   "cell_type": "markdown",
   "metadata": {},
   "source": [
    "# Data Visualization through Line Charts"
   ]
  },
  {
   "cell_type": "markdown",
   "metadata": {},
   "source": [
    "### Trend of Confirmed Case"
   ]
  },
  {
   "cell_type": "code",
   "execution_count": 20,
   "metadata": {},
   "outputs": [
    {
     "data": {
      "application/vnd.jupyter.widget-view+json": {
       "model_id": "28789edf22fb4903b4b478dcf1cd5144",
       "version_major": 2,
       "version_minor": 0
      },
      "text/plain": [
       "interactive(children=(Text(value='India', description='name'), Output()), _dom_classes=('widget-interact',))"
      ]
     },
     "metadata": {},
     "output_type": "display_data"
    }
   ],
   "source": [
    "# Visualizing the trend of confirmed cases over time using Plotly\n",
    "def confirmedCases_trend(name):\n",
    "    x_data = confirmed_df.iloc[:, 5:].columns\n",
    "    y_data = confirmed_df[confirmed_df['country'] == name].iloc[:,5:].sum(axis=0)\n",
    "    \n",
    "    fig = go.Figure()\n",
    "    fig.add_trace(go.Scatter(x=x_data, y=y_data,\n",
    "                    mode='markers',\n",
    "                    name='markers'))\n",
    "\n",
    "    fig.update_layout(\n",
    "        title=str(name) +\"'s trend on confirmed casess. <br> (Last updated on \"+(confirmed_df.columns)[-1]+\")\",\n",
    "        xaxis_title=\"Date\",\n",
    "        yaxis_title=\"Confirmed Cases\",\n",
    "        width = 800\n",
    "        )\n",
    "\n",
    "    fig.show()\n",
    "    \n",
    "    \n",
    "\n",
    "interact(confirmedCases_trend, name='India')\n",
    "ipywLayout = widgets.Layout()\n",
    "ipywLayout.display='none'"
   ]
  },
  {
   "cell_type": "markdown",
   "metadata": {},
   "source": [
    "### Trend of Death Cases"
   ]
  },
  {
   "cell_type": "code",
   "execution_count": 21,
   "metadata": {},
   "outputs": [
    {
     "data": {
      "application/vnd.jupyter.widget-view+json": {
       "model_id": "45c84d44b2fd46e18c439eaa7d9d088d",
       "version_major": 2,
       "version_minor": 0
      },
      "text/plain": [
       "interactive(children=(Text(value='India', description='name'), Output()), _dom_classes=('widget-interact',))"
      ]
     },
     "metadata": {},
     "output_type": "display_data"
    }
   ],
   "source": [
    "# Visualizing the trend of death cases over time using Plotly\n",
    "def deathCases_trend(name):\n",
    "    x_data = death_df.iloc[:, 5:].columns\n",
    "    y_data = death_df[death_df['country'] == name].iloc[:,5:].sum(axis=0)\n",
    "    \n",
    "    fig = go.Figure()\n",
    "    fig.add_trace(go.Scatter(x=x_data, y=y_data,\n",
    "                    mode='markers',\n",
    "                    name='markers'))\n",
    "\n",
    "    fig.update_layout(\n",
    "        title=str(name) +\"'s trend on death cases. <br> (Last updated on \"+(death_df.columns)[-1]+\")\",\n",
    "        xaxis_title=\"Date\",\n",
    "        yaxis_title=\"Death Cases\",\n",
    "        width = 800\n",
    "        )\n",
    "\n",
    "    fig.show()\n",
    "    \n",
    "\n",
    "interact(deathCases_trend, name='India')\n",
    "ipywLayout = widgets.Layout()\n",
    "ipywLayout.display='none'"
   ]
  },
  {
   "cell_type": "markdown",
   "metadata": {},
   "source": [
    "### Trend of Recovered Case"
   ]
  },
  {
   "cell_type": "code",
   "execution_count": 22,
   "metadata": {},
   "outputs": [
    {
     "data": {
      "application/vnd.jupyter.widget-view+json": {
       "model_id": "20f09fbbd0a8420d89efbaa3696abafc",
       "version_major": 2,
       "version_minor": 0
      },
      "text/plain": [
       "interactive(children=(Text(value='India', description='name'), Output()), _dom_classes=('widget-interact',))"
      ]
     },
     "metadata": {},
     "output_type": "display_data"
    }
   ],
   "source": [
    "# Visualizing the trend of recovered cases over time using Plotly\n",
    "def recoveredCases_trend(name):\n",
    "    x_data = recovered_df.iloc[:, 5:].columns\n",
    "    y_data = recovered_df[recovered_df['country'] == name].iloc[:,5:].sum(axis=0)\n",
    "    \n",
    "    fig = go.Figure()\n",
    "    fig.add_trace(go.Scatter(x=x_data, y=y_data,\n",
    "                    mode='markers',\n",
    "                    name='markers'))\n",
    "\n",
    "    fig.update_layout(\n",
    "        title=str(name) +\"'s trend on recovered casess. <br> (Last updated on \"+(recovered_df.columns)[-1]+\")\",\n",
    "        xaxis_title=\"Date\",\n",
    "        yaxis_title=\"Recovered Cases\",\n",
    "        width = 800\n",
    "        )\n",
    "\n",
    "    fig.show()\n",
    "    \n",
    "    \n",
    "interact(recoveredCases_trend, name='India')\n",
    "ipywLayout = widgets.Layout()\n",
    "ipywLayout.display='none'"
   ]
  },
  {
   "cell_type": "markdown",
   "metadata": {},
   "source": [
    " "
   ]
  },
  {
   "cell_type": "markdown",
   "metadata": {},
   "source": [
    "# Interactive Table Chart"
   ]
  },
  {
   "cell_type": "markdown",
   "metadata": {},
   "source": [
    "### COVID-19 Confirmed/Death/Recovered/Active cases - Sorted by Confirmed Cases in Descending order"
   ]
  },
  {
   "cell_type": "code",
   "execution_count": 23,
   "metadata": {},
   "outputs": [
    {
     "data": {
      "application/vnd.jupyter.widget-view+json": {
       "model_id": "0b315b8192f3409682e5e366c8efec9b",
       "version_major": 2,
       "version_minor": 0
      },
      "text/plain": [
       "interactive(children=(Text(value='10', description='n'), Output()), _dom_classes=('widget-interact',))"
      ]
     },
     "metadata": {},
     "output_type": "display_data"
    }
   ],
   "source": [
    "# Printing the top n countries sorted by Confirmed Cases in Descending order\n",
    "def show_latest_cases(n):\n",
    "    n = int(n)\n",
    "    df1 = country_df[['country','last_update','confirmed','deaths','recovered','active','incident_rate','mortality_rate']]\n",
    "    df1 = df1.sort_values(by ='confirmed', ascending=False)\n",
    "    return df1.head(n)\n",
    "\n",
    "\n",
    "interact(show_latest_cases, n='10')\n",
    "ipywLayout = widgets.Layout()\n",
    "ipywLayout.display='none'"
   ]
  },
  {
   "cell_type": "markdown",
   "metadata": {},
   "source": [
    "### COVID-19 Confirmed/Death/Recovered/Active cases - Country specific"
   ]
  },
  {
   "cell_type": "code",
   "execution_count": 24,
   "metadata": {},
   "outputs": [
    {
     "data": {
      "application/vnd.jupyter.widget-view+json": {
       "model_id": "e539553cefec4d30829227b71ee7502a",
       "version_major": 2,
       "version_minor": 0
      },
      "text/plain": [
       "interactive(children=(Text(value='India', description='name'), Output()), _dom_classes=('widget-interact',))"
      ]
     },
     "metadata": {},
     "output_type": "display_data"
    }
   ],
   "source": [
    "# Country specific search to see the count details\n",
    "def country_specific(name):\n",
    "    df1 = country_df[['country','last_update','confirmed','deaths','recovered','active','incident_rate','mortality_rate']]\n",
    "    country_specific = df1.loc[df1['country'] == name]\n",
    "    return country_specific\n",
    "\n",
    "\n",
    "interact(country_specific, name='India')\n",
    "ipywLayout = widgets.Layout()\n",
    "ipywLayout.display='none'"
   ]
  },
  {
   "cell_type": "markdown",
   "metadata": {},
   "source": [
    "# Data Visualization through Bar Charts"
   ]
  },
  {
   "cell_type": "markdown",
   "metadata": {},
   "source": [
    "### Worst Hit Countries - Confirmed Cases"
   ]
  },
  {
   "cell_type": "code",
   "execution_count": 25,
   "metadata": {},
   "outputs": [
    {
     "data": {
      "application/vnd.jupyter.widget-view+json": {
       "model_id": "0046781cfcbc45ab8f9dd64bdc79a4b5",
       "version_major": 2,
       "version_minor": 0
      },
      "text/plain": [
       "interactive(children=(IntSlider(value=10, description='n', max=30, min=-10), Output()), _dom_classes=('widget-…"
      ]
     },
     "metadata": {},
     "output_type": "display_data"
    }
   ],
   "source": [
    "# Visualizing the top n countries with respect to confirmed cases using Plotly\n",
    "def confirmedCases_bar_chart(n):\n",
    "    df1 = country_df.sort_values(by ='confirmed', ascending=False)\n",
    "    fig = px.bar(df1.head(n), x=\"country\", y=\"confirmed\")\n",
    "    \n",
    "    fig.update_layout(\n",
    "    title=str(n) +\" countries with highest number of confirmed cases. <br> (Last updated on \"+ df1.last_update[1] +\")\",\n",
    "    xaxis_title=\"Countries\",\n",
    "    yaxis_title=\"Confirmed Cases\",\n",
    "    width = 800\n",
    "    )\n",
    "    \n",
    "    fig.show();\n",
    "\n",
    "    \n",
    "interact(confirmedCases_bar_chart, n=10)\n",
    "ipywLayout = widgets.Layout()\n",
    "ipywLayout.display='none'"
   ]
  },
  {
   "cell_type": "markdown",
   "metadata": {},
   "source": [
    "### Worst Hit Countries - Death Cases"
   ]
  },
  {
   "cell_type": "code",
   "execution_count": 26,
   "metadata": {},
   "outputs": [
    {
     "data": {
      "application/vnd.jupyter.widget-view+json": {
       "model_id": "586ba7cf00934613b2019d5682a7650c",
       "version_major": 2,
       "version_minor": 0
      },
      "text/plain": [
       "interactive(children=(IntSlider(value=10, description='n', max=30, min=-10), Output()), _dom_classes=('widget-…"
      ]
     },
     "metadata": {},
     "output_type": "display_data"
    }
   ],
   "source": [
    "# Visualizing the top n countries with respect to death cases using Plotly\n",
    "def deathCases_bar_chart(n):\n",
    "    df1 = country_df.sort_values(by ='deaths', ascending=False)\n",
    "    fig = px.bar(df1.head(n), x=\"country\", y=\"deaths\")\n",
    "    \n",
    "    fig.update_layout(\n",
    "    title=str(n) +\" countries with highest number of death cases. <br> (Last updated on \"+ df1.last_update[1] +\")\",\n",
    "    xaxis_title=\"Countries\",\n",
    "    yaxis_title=\"Death Cases\",\n",
    "    width = 800\n",
    "    )\n",
    "    \n",
    "    fig.show();\n",
    "\n",
    "    \n",
    "interact(deathCases_bar_chart, n=10)\n",
    "ipywLayout = widgets.Layout()\n",
    "ipywLayout.display='none'"
   ]
  },
  {
   "cell_type": "markdown",
   "metadata": {},
   "source": [
    "### Countries - Recovered Cases"
   ]
  },
  {
   "cell_type": "code",
   "execution_count": 27,
   "metadata": {},
   "outputs": [
    {
     "data": {
      "application/vnd.jupyter.widget-view+json": {
       "model_id": "07a02b180d5d485eb58dc4f486e49da1",
       "version_major": 2,
       "version_minor": 0
      },
      "text/plain": [
       "interactive(children=(IntSlider(value=10, description='n', max=30, min=-10), Output()), _dom_classes=('widget-…"
      ]
     },
     "metadata": {},
     "output_type": "display_data"
    }
   ],
   "source": [
    "# Visualizing the top n countries with respect to recovered cases using Plotly\n",
    "def recoveredCases_bar_chart(n):\n",
    "    df1 = country_df.sort_values(by ='recovered', ascending=False)\n",
    "    fig = px.bar(df1.head(n), x=\"country\", y=\"recovered\")\n",
    "    \n",
    "    fig.update_layout(\n",
    "    title=str(n) +\" countries with highest number of recovered cases. <br> (Last updated on \"+ df1.last_update[1] +\")\",\n",
    "    xaxis_title=\"Countries\",\n",
    "    yaxis_title=\"Recovered Cases\",\n",
    "    width = 800\n",
    "    )\n",
    "    \n",
    "    fig.show();\n",
    "\n",
    "    \n",
    "interact(recoveredCases_bar_chart, n=10)\n",
    "ipywLayout = widgets.Layout()\n",
    "ipywLayout.display='none'"
   ]
  },
  {
   "cell_type": "markdown",
   "metadata": {},
   "source": [
    "### Countries - Active Cases"
   ]
  },
  {
   "cell_type": "code",
   "execution_count": 28,
   "metadata": {
    "scrolled": false
   },
   "outputs": [
    {
     "data": {
      "application/vnd.jupyter.widget-view+json": {
       "model_id": "2e629b1695de4e888f3b361ebf1cf6d2",
       "version_major": 2,
       "version_minor": 0
      },
      "text/plain": [
       "interactive(children=(IntSlider(value=10, description='n', max=30, min=-10), Output()), _dom_classes=('widget-…"
      ]
     },
     "metadata": {},
     "output_type": "display_data"
    }
   ],
   "source": [
    "# Visualizing the top n countries with respect to active cases using Plotly\n",
    "def activeCases_bar_chart(n):\n",
    "    df1 = country_df.sort_values(by ='active', ascending=False)\n",
    "    fig = px.bar(df1.head(n), x=\"country\", y=\"recovered\")\n",
    "    \n",
    "    fig.update_layout(\n",
    "    title=str(n) +\" countries with highest number of active cases. <br> (Last updated on \"+ df1.last_update[1] +\")\",\n",
    "    xaxis_title=\"Countries\",\n",
    "    yaxis_title=\"Active Cases\",\n",
    "    width = 800\n",
    "    )\n",
    "    \n",
    "    fig.show();\n",
    "\n",
    "    \n",
    "interact(recoveredCases_bar_chart, n=10)\n",
    "ipywLayout = widgets.Layout()\n",
    "ipywLayout.display='none'"
   ]
  },
  {
   "cell_type": "markdown",
   "metadata": {},
   "source": [
    "# Data Visualization on Maps"
   ]
  },
  {
   "cell_type": "markdown",
   "metadata": {},
   "source": [
    "### Global spread of COVID-19 using Folium"
   ]
  },
  {
   "cell_type": "code",
   "execution_count": 29,
   "metadata": {},
   "outputs": [],
   "source": [
    "# Removing the null values from confirmed_df\n",
    "confirmed_df = confirmed_df[~confirmed_df['lat'].isnull()]"
   ]
  },
  {
   "cell_type": "code",
   "execution_count": 30,
   "metadata": {
    "scrolled": false
   },
   "outputs": [
    {
     "data": {
      "text/html": [
       "<div style=\"width:100%;\"><div style=\"position:relative;width:100%;height:0;padding-bottom:60%;\"><span style=\"color:#565656\">Make this Notebook Trusted to load map: File -> Trust Notebook</span><iframe srcdoc=\"&lt;!DOCTYPE html&gt;\n",
       "&lt;head&gt;    \n",
       "    &lt;meta http-equiv=&quot;content-type&quot; content=&quot;text/html; charset=UTF-8&quot; /&gt;\n",
       "    \n",
       "        &lt;script&gt;\n",
       "            L_NO_TOUCH = false;\n",
       "            L_DISABLE_3D = false;\n",
       "        &lt;/script&gt;\n",
       "    \n",
       "    &lt;style&gt;html, body {width: 100%;height: 100%;margin: 0;padding: 0;}&lt;/style&gt;\n",
       "    &lt;style&gt;#map {position:absolute;top:0;bottom:0;right:0;left:0;}&lt;/style&gt;\n",
       "    &lt;script src=&quot;https://cdn.jsdelivr.net/npm/leaflet@1.6.0/dist/leaflet.js&quot;&gt;&lt;/script&gt;\n",
       "    &lt;script src=&quot;https://code.jquery.com/jquery-1.12.4.min.js&quot;&gt;&lt;/script&gt;\n",
       "    &lt;script src=&quot;https://maxcdn.bootstrapcdn.com/bootstrap/3.2.0/js/bootstrap.min.js&quot;&gt;&lt;/script&gt;\n",
       "    &lt;script src=&quot;https://cdnjs.cloudflare.com/ajax/libs/Leaflet.awesome-markers/2.0.2/leaflet.awesome-markers.js&quot;&gt;&lt;/script&gt;\n",
       "    &lt;link rel=&quot;stylesheet&quot; href=&quot;https://cdn.jsdelivr.net/npm/leaflet@1.6.0/dist/leaflet.css&quot;/&gt;\n",
       "    &lt;link rel=&quot;stylesheet&quot; href=&quot;https://maxcdn.bootstrapcdn.com/bootstrap/3.2.0/css/bootstrap.min.css&quot;/&gt;\n",
       "    &lt;link rel=&quot;stylesheet&quot; href=&quot;https://maxcdn.bootstrapcdn.com/bootstrap/3.2.0/css/bootstrap-theme.min.css&quot;/&gt;\n",
       "    &lt;link rel=&quot;stylesheet&quot; href=&quot;https://maxcdn.bootstrapcdn.com/font-awesome/4.6.3/css/font-awesome.min.css&quot;/&gt;\n",
       "    &lt;link rel=&quot;stylesheet&quot; href=&quot;https://cdnjs.cloudflare.com/ajax/libs/Leaflet.awesome-markers/2.0.2/leaflet.awesome-markers.css&quot;/&gt;\n",
       "    &lt;link rel=&quot;stylesheet&quot; href=&quot;https://cdn.jsdelivr.net/gh/python-visualization/folium/folium/templates/leaflet.awesome.rotate.min.css&quot;/&gt;\n",
       "    \n",
       "            &lt;meta name=&quot;viewport&quot; content=&quot;width=device-width,\n",
       "                initial-scale=1.0, maximum-scale=1.0, user-scalable=no&quot; /&gt;\n",
       "            &lt;style&gt;\n",
       "                #map_8de725e800d35d654a5b94e5a3721265 {\n",
       "                    position: relative;\n",
       "                    width: 100.0%;\n",
       "                    height: 100.0%;\n",
       "                    left: 0.0%;\n",
       "                    top: 0.0%;\n",
       "                }\n",
       "            &lt;/style&gt;\n",
       "        \n",
       "&lt;/head&gt;\n",
       "&lt;body&gt;    \n",
       "    \n",
       "            &lt;div class=&quot;folium-map&quot; id=&quot;map_8de725e800d35d654a5b94e5a3721265&quot; &gt;&lt;/div&gt;\n",
       "        \n",
       "&lt;/body&gt;\n",
       "&lt;script&gt;    \n",
       "    \n",
       "            var map_8de725e800d35d654a5b94e5a3721265 = L.map(\n",
       "                &quot;map_8de725e800d35d654a5b94e5a3721265&quot;,\n",
       "                {\n",
       "                    center: [11.0, 0.0],\n",
       "                    crs: L.CRS.EPSG3857,\n",
       "                    zoom: 2,\n",
       "                    zoomControl: true,\n",
       "                    preferCanvas: false,\n",
       "                }\n",
       "            );\n",
       "\n",
       "            \n",
       "\n",
       "        \n",
       "    \n",
       "            var tile_layer_88f7ef2ae67af1e5d1ddfce884088f31 = L.tileLayer(\n",
       "                &quot;https://cartodb-basemaps-{s}.global.ssl.fastly.net/light_all/{z}/{x}/{y}.png&quot;,\n",
       "                {&quot;attribution&quot;: &quot;\\u0026copy; \\u003ca href=\\&quot;http://www.openstreetmap.org/copyright\\&quot;\\u003eOpenStreetMap\\u003c/a\\u003e contributors \\u0026copy; \\u003ca href=\\&quot;http://cartodb.com/attributions\\&quot;\\u003eCartoDB\\u003c/a\\u003e, CartoDB \\u003ca href =\\&quot;http://cartodb.com/attributions\\&quot;\\u003eattributions\\u003c/a\\u003e&quot;, &quot;detectRetina&quot;: false, &quot;maxNativeZoom&quot;: 6, &quot;maxZoom&quot;: 6, &quot;minZoom&quot;: 2, &quot;noWrap&quot;: false, &quot;opacity&quot;: 1, &quot;subdomains&quot;: &quot;abc&quot;, &quot;tms&quot;: false}\n",
       "            ).addTo(map_8de725e800d35d654a5b94e5a3721265);\n",
       "        \n",
       "    \n",
       "            var circle_9b396d9e7a95de32e322a73b0b1273eb = L.circle(\n",
       "                [33.93911, 67.709953],\n",
       "                {&quot;bubblingMouseEvents&quot;: true, &quot;color&quot;: &quot;red&quot;, &quot;dashArray&quot;: null, &quot;dashOffset&quot;: null, &quot;fill&quot;: true, &quot;fillColor&quot;: &quot;indigo&quot;, &quot;fillOpacity&quot;: 0.2, &quot;fillRule&quot;: &quot;evenodd&quot;, &quot;lineCap&quot;: &quot;round&quot;, &quot;lineJoin&quot;: &quot;round&quot;, &quot;opacity&quot;: 1.0, &quot;radius&quot;: 61000.0, &quot;stroke&quot;: true, &quot;weight&quot;: 3}\n",
       "            ).addTo(map_8de725e800d35d654a5b94e5a3721265);\n",
       "        \n",
       "    \n",
       "            circle_9b396d9e7a95de32e322a73b0b1273eb.bindTooltip(\n",
       "                `&lt;div&gt;\n",
       "                     &lt;div style=&#x27;margin: 0; background-color: black; color: white;&#x27;&gt;&lt;h4 style=&#x27;text-align:center;font-weight: bold&#x27;&gt;Afghanistan&lt;/h4&gt;&lt;hr style=&#x27;margin:10px;color: white;&#x27;&gt;&lt;ul style=&#x27;color: white;;list-style-type:circle;align-item:left;padding-left:20px;padding-right:20px&#x27;&gt;&lt;li&gt;Confirmed: 179771&lt;/li&gt;&lt;li&gt;Deaths:   7698&lt;/li&gt;&lt;li&gt;Death Rate: 4.28&lt;/li&gt;&lt;/ul&gt;&lt;/div&gt;\n",
       "                 &lt;/div&gt;`,\n",
       "                {&quot;sticky&quot;: true}\n",
       "            );\n",
       "        \n",
       "    \n",
       "            var circle_a2c429fea6d34d13df1f01a3055149a5 = L.circle(\n",
       "                [41.1533, 20.1683],\n",
       "                {&quot;bubblingMouseEvents&quot;: true, &quot;color&quot;: &quot;red&quot;, &quot;dashArray&quot;: null, &quot;dashOffset&quot;: null, &quot;fill&quot;: true, &quot;fillColor&quot;: &quot;indigo&quot;, &quot;fillOpacity&quot;: 0.2, &quot;fillRule&quot;: &quot;evenodd&quot;, &quot;lineCap&quot;: &quot;round&quot;, &quot;lineJoin&quot;: &quot;round&quot;, &quot;opacity&quot;: 1.0, &quot;radius&quot;: 61000.0, &quot;stroke&quot;: true, &quot;weight&quot;: 3}\n",
       "            ).addTo(map_8de725e800d35d654a5b94e5a3721265);\n",
       "        \n",
       "    \n",
       "            circle_a2c429fea6d34d13df1f01a3055149a5.bindTooltip(\n",
       "                `&lt;div&gt;\n",
       "                     &lt;div style=&#x27;margin: 0; background-color: black; color: white;&#x27;&gt;&lt;h4 style=&#x27;text-align:center;font-weight: bold&#x27;&gt;Albania&lt;/h4&gt;&lt;hr style=&#x27;margin:10px;color: white;&#x27;&gt;&lt;ul style=&#x27;color: white;;list-style-type:circle;align-item:left;padding-left:20px;padding-right:20px&#x27;&gt;&lt;li&gt;Confirmed: 275939&lt;/li&gt;&lt;li&gt;Deaths:   3497&lt;/li&gt;&lt;li&gt;Death Rate: 1.27&lt;/li&gt;&lt;/ul&gt;&lt;/div&gt;\n",
       "                 &lt;/div&gt;`,\n",
       "                {&quot;sticky&quot;: true}\n",
       "            );\n",
       "        \n",
       "    \n",
       "            var circle_305e27ffd0b4ed303335f363bdb4abcc = L.circle(\n",
       "                [28.0339, 1.6596],\n",
       "                {&quot;bubblingMouseEvents&quot;: true, &quot;color&quot;: &quot;red&quot;, &quot;dashArray&quot;: null, &quot;dashOffset&quot;: null, &quot;fill&quot;: true, &quot;fillColor&quot;: &quot;indigo&quot;, &quot;fillOpacity&quot;: 0.2, &quot;fillRule&quot;: &quot;evenodd&quot;, &quot;lineCap&quot;: &quot;round&quot;, &quot;lineJoin&quot;: &quot;round&quot;, &quot;opacity&quot;: 1.0, &quot;radius&quot;: 61000.0, &quot;stroke&quot;: true, &quot;weight&quot;: 3}\n",
       "            ).addTo(map_8de725e800d35d654a5b94e5a3721265);\n",
       "        \n",
       "    \n",
       "            circle_305e27ffd0b4ed303335f363bdb4abcc.bindTooltip(\n",
       "                `&lt;div&gt;\n",
       "                     &lt;div style=&#x27;margin: 0; background-color: black; color: white;&#x27;&gt;&lt;h4 style=&#x27;text-align:center;font-weight: bold&#x27;&gt;Algeria&lt;/h4&gt;&lt;hr style=&#x27;margin:10px;color: white;&#x27;&gt;&lt;ul style=&#x27;color: white;;list-style-type:circle;align-item:left;padding-left:20px;padding-right:20px&#x27;&gt;&lt;li&gt;Confirmed: 265860&lt;/li&gt;&lt;li&gt;Deaths:   6875&lt;/li&gt;&lt;li&gt;Death Rate: 2.59&lt;/li&gt;&lt;/ul&gt;&lt;/div&gt;\n",
       "                 &lt;/div&gt;`,\n",
       "                {&quot;sticky&quot;: true}\n",
       "            );\n",
       "        \n",
       "    \n",
       "            var circle_00b57a31fb5ff0ff88af49b207272033 = L.circle(\n",
       "                [42.5063, 1.5218],\n",
       "                {&quot;bubblingMouseEvents&quot;: true, &quot;color&quot;: &quot;red&quot;, &quot;dashArray&quot;: null, &quot;dashOffset&quot;: null, &quot;fill&quot;: true, &quot;fillColor&quot;: &quot;indigo&quot;, &quot;fillOpacity&quot;: 0.2, &quot;fillRule&quot;: &quot;evenodd&quot;, &quot;lineCap&quot;: &quot;round&quot;, &quot;lineJoin&quot;: &quot;round&quot;, &quot;opacity&quot;: 1.0, &quot;radius&quot;: 51000.0, &quot;stroke&quot;: true, &quot;weight&quot;: 3}\n",
       "            ).addTo(map_8de725e800d35d654a5b94e5a3721265);\n",
       "        \n",
       "    \n",
       "            circle_00b57a31fb5ff0ff88af49b207272033.bindTooltip(\n",
       "                `&lt;div&gt;\n",
       "                     &lt;div style=&#x27;margin: 0; background-color: black; color: white;&#x27;&gt;&lt;h4 style=&#x27;text-align:center;font-weight: bold&#x27;&gt;Andorra&lt;/h4&gt;&lt;hr style=&#x27;margin:10px;color: white;&#x27;&gt;&lt;ul style=&#x27;color: white;;list-style-type:circle;align-item:left;padding-left:20px;padding-right:20px&#x27;&gt;&lt;li&gt;Confirmed: 42572&lt;/li&gt;&lt;li&gt;Deaths:   153&lt;/li&gt;&lt;li&gt;Death Rate: 0.36&lt;/li&gt;&lt;/ul&gt;&lt;/div&gt;\n",
       "                 &lt;/div&gt;`,\n",
       "                {&quot;sticky&quot;: true}\n",
       "            );\n",
       "        \n",
       "    \n",
       "            var circle_ee38eeffdc2c390625e7203571fe0097 = L.circle(\n",
       "                [-11.2027, 17.8739],\n",
       "                {&quot;bubblingMouseEvents&quot;: true, &quot;color&quot;: &quot;red&quot;, &quot;dashArray&quot;: null, &quot;dashOffset&quot;: null, &quot;fill&quot;: true, &quot;fillColor&quot;: &quot;indigo&quot;, &quot;fillOpacity&quot;: 0.2, &quot;fillRule&quot;: &quot;evenodd&quot;, &quot;lineCap&quot;: &quot;round&quot;, &quot;lineJoin&quot;: &quot;round&quot;, &quot;opacity&quot;: 1.0, &quot;radius&quot;: 56000.0, &quot;stroke&quot;: true, &quot;weight&quot;: 3}\n",
       "            ).addTo(map_8de725e800d35d654a5b94e5a3721265);\n",
       "        \n",
       "    \n",
       "            circle_ee38eeffdc2c390625e7203571fe0097.bindTooltip(\n",
       "                `&lt;div&gt;\n",
       "                     &lt;div style=&#x27;margin: 0; background-color: black; color: white;&#x27;&gt;&lt;h4 style=&#x27;text-align:center;font-weight: bold&#x27;&gt;Angola&lt;/h4&gt;&lt;hr style=&#x27;margin:10px;color: white;&#x27;&gt;&lt;ul style=&#x27;color: white;;list-style-type:circle;align-item:left;padding-left:20px;padding-right:20px&#x27;&gt;&lt;li&gt;Confirmed: 99433&lt;/li&gt;&lt;li&gt;Deaths:   1900&lt;/li&gt;&lt;li&gt;Death Rate: 1.91&lt;/li&gt;&lt;/ul&gt;&lt;/div&gt;\n",
       "                 &lt;/div&gt;`,\n",
       "                {&quot;sticky&quot;: true}\n",
       "            );\n",
       "        \n",
       "    \n",
       "            var circle_015a7a2f1e1fc4e4269eaeab54b0bce0 = L.circle(\n",
       "                [-71.9499, 23.347],\n",
       "                {&quot;bubblingMouseEvents&quot;: true, &quot;color&quot;: &quot;red&quot;, &quot;dashArray&quot;: null, &quot;dashOffset&quot;: null, &quot;fill&quot;: true, &quot;fillColor&quot;: &quot;indigo&quot;, &quot;fillOpacity&quot;: 0.2, &quot;fillRule&quot;: &quot;evenodd&quot;, &quot;lineCap&quot;: &quot;round&quot;, &quot;lineJoin&quot;: &quot;round&quot;, &quot;opacity&quot;: 1.0, &quot;radius&quot;: 11000.0, &quot;stroke&quot;: true, &quot;weight&quot;: 3}\n",
       "            ).addTo(map_8de725e800d35d654a5b94e5a3721265);\n",
       "        \n",
       "    \n",
       "            circle_015a7a2f1e1fc4e4269eaeab54b0bce0.bindTooltip(\n",
       "                `&lt;div&gt;\n",
       "                     &lt;div style=&#x27;margin: 0; background-color: black; color: white;&#x27;&gt;&lt;h4 style=&#x27;text-align:center;font-weight: bold&#x27;&gt;Antarctica&lt;/h4&gt;&lt;hr style=&#x27;margin:10px;color: white;&#x27;&gt;&lt;ul style=&#x27;color: white;;list-style-type:circle;align-item:left;padding-left:20px;padding-right:20px&#x27;&gt;&lt;li&gt;Confirmed: 11&lt;/li&gt;&lt;li&gt;Deaths:   0&lt;/li&gt;&lt;li&gt;Death Rate: 0.0&lt;/li&gt;&lt;/ul&gt;&lt;/div&gt;\n",
       "                 &lt;/div&gt;`,\n",
       "                {&quot;sticky&quot;: true}\n",
       "            );\n",
       "        \n",
       "    \n",
       "            var circle_260ea6d10cbd21cdf60eddd481919f54 = L.circle(\n",
       "                [17.0608, -61.7964],\n",
       "                {&quot;bubblingMouseEvents&quot;: true, &quot;color&quot;: &quot;red&quot;, &quot;dashArray&quot;: null, &quot;dashOffset&quot;: null, &quot;fill&quot;: true, &quot;fillColor&quot;: &quot;indigo&quot;, &quot;fillOpacity&quot;: 0.2, &quot;fillRule&quot;: &quot;evenodd&quot;, &quot;lineCap&quot;: &quot;round&quot;, &quot;lineJoin&quot;: &quot;round&quot;, &quot;opacity&quot;: 1.0, &quot;radius&quot;: 41000.0, &quot;stroke&quot;: true, &quot;weight&quot;: 3}\n",
       "            ).addTo(map_8de725e800d35d654a5b94e5a3721265);\n",
       "        \n",
       "    \n",
       "            circle_260ea6d10cbd21cdf60eddd481919f54.bindTooltip(\n",
       "                `&lt;div&gt;\n",
       "                     &lt;div style=&#x27;margin: 0; background-color: black; color: white;&#x27;&gt;&lt;h4 style=&#x27;text-align:center;font-weight: bold&#x27;&gt;Antigua and Barbuda&lt;/h4&gt;&lt;hr style=&#x27;margin:10px;color: white;&#x27;&gt;&lt;ul style=&#x27;color: white;;list-style-type:circle;align-item:left;padding-left:20px;padding-right:20px&#x27;&gt;&lt;li&gt;Confirmed: 7982&lt;/li&gt;&lt;li&gt;Deaths:   138&lt;/li&gt;&lt;li&gt;Death Rate: 1.73&lt;/li&gt;&lt;/ul&gt;&lt;/div&gt;\n",
       "                 &lt;/div&gt;`,\n",
       "                {&quot;sticky&quot;: true}\n",
       "            );\n",
       "        \n",
       "    \n",
       "            var circle_1073b07430f08a294c664a8e23854929 = L.circle(\n",
       "                [-38.4161, -63.6167],\n",
       "                {&quot;bubblingMouseEvents&quot;: true, &quot;color&quot;: &quot;red&quot;, &quot;dashArray&quot;: null, &quot;dashOffset&quot;: null, &quot;fill&quot;: true, &quot;fillColor&quot;: &quot;indigo&quot;, &quot;fillOpacity&quot;: 0.2, &quot;fillRule&quot;: &quot;evenodd&quot;, &quot;lineCap&quot;: &quot;round&quot;, &quot;lineJoin&quot;: &quot;round&quot;, &quot;opacity&quot;: 1.0, &quot;radius&quot;: 81000.0, &quot;stroke&quot;: true, &quot;weight&quot;: 3}\n",
       "            ).addTo(map_8de725e800d35d654a5b94e5a3721265);\n",
       "        \n",
       "    \n",
       "            circle_1073b07430f08a294c664a8e23854929.bindTooltip(\n",
       "                `&lt;div&gt;\n",
       "                     &lt;div style=&#x27;margin: 0; background-color: black; color: white;&#x27;&gt;&lt;h4 style=&#x27;text-align:center;font-weight: bold&#x27;&gt;Argentina&lt;/h4&gt;&lt;hr style=&#x27;margin:10px;color: white;&#x27;&gt;&lt;ul style=&#x27;color: white;;list-style-type:circle;align-item:left;padding-left:20px;padding-right:20px&#x27;&gt;&lt;li&gt;Confirmed: 9178795&lt;/li&gt;&lt;li&gt;Deaths:   128825&lt;/li&gt;&lt;li&gt;Death Rate: 1.4&lt;/li&gt;&lt;/ul&gt;&lt;/div&gt;\n",
       "                 &lt;/div&gt;`,\n",
       "                {&quot;sticky&quot;: true}\n",
       "            );\n",
       "        \n",
       "    \n",
       "            var circle_5f6228ca0eceee960d61af2ba1b89abf = L.circle(\n",
       "                [40.0691, 45.0382],\n",
       "                {&quot;bubblingMouseEvents&quot;: true, &quot;color&quot;: &quot;red&quot;, &quot;dashArray&quot;: null, &quot;dashOffset&quot;: null, &quot;fill&quot;: true, &quot;fillColor&quot;: &quot;indigo&quot;, &quot;fillOpacity&quot;: 0.2, &quot;fillRule&quot;: &quot;evenodd&quot;, &quot;lineCap&quot;: &quot;round&quot;, &quot;lineJoin&quot;: &quot;round&quot;, &quot;opacity&quot;: 1.0, &quot;radius&quot;: 61000.0, &quot;stroke&quot;: true, &quot;weight&quot;: 3}\n",
       "            ).addTo(map_8de725e800d35d654a5b94e5a3721265);\n",
       "        \n",
       "    \n",
       "            circle_5f6228ca0eceee960d61af2ba1b89abf.bindTooltip(\n",
       "                `&lt;div&gt;\n",
       "                     &lt;div style=&#x27;margin: 0; background-color: black; color: white;&#x27;&gt;&lt;h4 style=&#x27;text-align:center;font-weight: bold&#x27;&gt;Armenia&lt;/h4&gt;&lt;hr style=&#x27;margin:10px;color: white;&#x27;&gt;&lt;ul style=&#x27;color: white;;list-style-type:circle;align-item:left;padding-left:20px;padding-right:20px&#x27;&gt;&lt;li&gt;Confirmed: 422939&lt;/li&gt;&lt;li&gt;Deaths:   8624&lt;/li&gt;&lt;li&gt;Death Rate: 2.04&lt;/li&gt;&lt;/ul&gt;&lt;/div&gt;\n",
       "                 &lt;/div&gt;`,\n",
       "                {&quot;sticky&quot;: true}\n",
       "            );\n",
       "        \n",
       "    \n",
       "            var circle_fb561ea8c41621005818d1aa2e025f4c = L.circle(\n",
       "                [-35.4735, 149.0124],\n",
       "                {&quot;bubblingMouseEvents&quot;: true, &quot;color&quot;: &quot;red&quot;, &quot;dashArray&quot;: null, &quot;dashOffset&quot;: null, &quot;fill&quot;: true, &quot;fillColor&quot;: &quot;indigo&quot;, &quot;fillOpacity&quot;: 0.2, &quot;fillRule&quot;: &quot;evenodd&quot;, &quot;lineCap&quot;: &quot;round&quot;, &quot;lineJoin&quot;: &quot;round&quot;, &quot;opacity&quot;: 1.0, &quot;radius&quot;: 56000.0, &quot;stroke&quot;: true, &quot;weight&quot;: 3}\n",
       "            ).addTo(map_8de725e800d35d654a5b94e5a3721265);\n",
       "        \n",
       "    \n",
       "            circle_fb561ea8c41621005818d1aa2e025f4c.bindTooltip(\n",
       "                `&lt;div&gt;\n",
       "                     &lt;div style=&#x27;margin: 0; background-color: black; color: white;&#x27;&gt;&lt;h4 style=&#x27;text-align:center;font-weight: bold&#x27;&gt;Australia&lt;/h4&gt;&lt;hr style=&#x27;margin:10px;color: white;&#x27;&gt;&lt;ul style=&#x27;color: white;;list-style-type:circle;align-item:left;padding-left:20px;padding-right:20px&#x27;&gt;&lt;li&gt;Confirmed: 127556&lt;/li&gt;&lt;li&gt;Deaths:   61&lt;/li&gt;&lt;li&gt;Death Rate: 0.05&lt;/li&gt;&lt;/ul&gt;&lt;/div&gt;\n",
       "                 &lt;/div&gt;`,\n",
       "                {&quot;sticky&quot;: true}\n",
       "            );\n",
       "        \n",
       "    \n",
       "            var circle_27c3aa7f30d81f454c46f3e73fb9345f = L.circle(\n",
       "                [-33.8688, 151.2093],\n",
       "                {&quot;bubblingMouseEvents&quot;: true, &quot;color&quot;: &quot;red&quot;, &quot;dashArray&quot;: null, &quot;dashOffset&quot;: null, &quot;fill&quot;: true, &quot;fillColor&quot;: &quot;indigo&quot;, &quot;fillOpacity&quot;: 0.2, &quot;fillRule&quot;: &quot;evenodd&quot;, &quot;lineCap&quot;: &quot;round&quot;, &quot;lineJoin&quot;: &quot;round&quot;, &quot;opacity&quot;: 1.0, &quot;radius&quot;: 71000.0, &quot;stroke&quot;: true, &quot;weight&quot;: 3}\n",
       "            ).addTo(map_8de725e800d35d654a5b94e5a3721265);\n",
       "        \n",
       "    \n",
       "            circle_27c3aa7f30d81f454c46f3e73fb9345f.bindTooltip(\n",
       "                `&lt;div&gt;\n",
       "                     &lt;div style=&#x27;margin: 0; background-color: black; color: white;&#x27;&gt;&lt;h4 style=&#x27;text-align:center;font-weight: bold&#x27;&gt;Australia&lt;/h4&gt;&lt;hr style=&#x27;margin:10px;color: white;&#x27;&gt;&lt;ul style=&#x27;color: white;;list-style-type:circle;align-item:left;padding-left:20px;padding-right:20px&#x27;&gt;&lt;li&gt;Confirmed: 2534852&lt;/li&gt;&lt;li&gt;Deaths:   3082&lt;/li&gt;&lt;li&gt;Death Rate: 0.12&lt;/li&gt;&lt;/ul&gt;&lt;/div&gt;\n",
       "                 &lt;/div&gt;`,\n",
       "                {&quot;sticky&quot;: true}\n",
       "            );\n",
       "        \n",
       "    \n",
       "            var circle_0b45effeaa81ca7d31ff3cfeb93b3afb = L.circle(\n",
       "                [-12.4634, 130.8456],\n",
       "                {&quot;bubblingMouseEvents&quot;: true, &quot;color&quot;: &quot;red&quot;, &quot;dashArray&quot;: null, &quot;dashOffset&quot;: null, &quot;fill&quot;: true, &quot;fillColor&quot;: &quot;indigo&quot;, &quot;fillOpacity&quot;: 0.2, &quot;fillRule&quot;: &quot;evenodd&quot;, &quot;lineCap&quot;: &quot;round&quot;, &quot;lineJoin&quot;: &quot;round&quot;, &quot;opacity&quot;: 1.0, &quot;radius&quot;: 56000.0, &quot;stroke&quot;: true, &quot;weight&quot;: 3}\n",
       "            ).addTo(map_8de725e800d35d654a5b94e5a3721265);\n",
       "        \n",
       "    \n",
       "            circle_0b45effeaa81ca7d31ff3cfeb93b3afb.bindTooltip(\n",
       "                `&lt;div&gt;\n",
       "                     &lt;div style=&#x27;margin: 0; background-color: black; color: white;&#x27;&gt;&lt;h4 style=&#x27;text-align:center;font-weight: bold&#x27;&gt;Australia&lt;/h4&gt;&lt;hr style=&#x27;margin:10px;color: white;&#x27;&gt;&lt;ul style=&#x27;color: white;;list-style-type:circle;align-item:left;padding-left:20px;padding-right:20px&#x27;&gt;&lt;li&gt;Confirmed: 70455&lt;/li&gt;&lt;li&gt;Deaths:   47&lt;/li&gt;&lt;li&gt;Death Rate: 0.07&lt;/li&gt;&lt;/ul&gt;&lt;/div&gt;\n",
       "                 &lt;/div&gt;`,\n",
       "                {&quot;sticky&quot;: true}\n",
       "            );\n",
       "        \n",
       "    \n",
       "            var circle_0d82a271564f82af8bbd5bdd958b5e5c = L.circle(\n",
       "                [-27.4698, 153.0251],\n",
       "                {&quot;bubblingMouseEvents&quot;: true, &quot;color&quot;: &quot;red&quot;, &quot;dashArray&quot;: null, &quot;dashOffset&quot;: null, &quot;fill&quot;: true, &quot;fillColor&quot;: &quot;indigo&quot;, &quot;fillOpacity&quot;: 0.2, &quot;fillRule&quot;: &quot;evenodd&quot;, &quot;lineCap&quot;: &quot;round&quot;, &quot;lineJoin&quot;: &quot;round&quot;, &quot;opacity&quot;: 1.0, &quot;radius&quot;: 66000.0, &quot;stroke&quot;: true, &quot;weight&quot;: 3}\n",
       "            ).addTo(map_8de725e800d35d654a5b94e5a3721265);\n",
       "        \n",
       "    \n",
       "            circle_0d82a271564f82af8bbd5bdd958b5e5c.bindTooltip(\n",
       "                `&lt;div&gt;\n",
       "                     &lt;div style=&#x27;margin: 0; background-color: black; color: white;&#x27;&gt;&lt;h4 style=&#x27;text-align:center;font-weight: bold&#x27;&gt;Australia&lt;/h4&gt;&lt;hr style=&#x27;margin:10px;color: white;&#x27;&gt;&lt;ul style=&#x27;color: white;;list-style-type:circle;align-item:left;padding-left:20px;padding-right:20px&#x27;&gt;&lt;li&gt;Confirmed: 1154678&lt;/li&gt;&lt;li&gt;Deaths:   1008&lt;/li&gt;&lt;li&gt;Death Rate: 0.09&lt;/li&gt;&lt;/ul&gt;&lt;/div&gt;\n",
       "                 &lt;/div&gt;`,\n",
       "                {&quot;sticky&quot;: true}\n",
       "            );\n",
       "        \n",
       "    \n",
       "            var circle_479a50a7eb97344b82df31ccbc1148de = L.circle(\n",
       "                [-34.9285, 138.6007],\n",
       "                {&quot;bubblingMouseEvents&quot;: true, &quot;color&quot;: &quot;red&quot;, &quot;dashArray&quot;: null, &quot;dashOffset&quot;: null, &quot;fill&quot;: true, &quot;fillColor&quot;: &quot;indigo&quot;, &quot;fillOpacity&quot;: 0.2, &quot;fillRule&quot;: &quot;evenodd&quot;, &quot;lineCap&quot;: &quot;round&quot;, &quot;lineJoin&quot;: &quot;round&quot;, &quot;opacity&quot;: 1.0, &quot;radius&quot;: 66000.0, &quot;stroke&quot;: true, &quot;weight&quot;: 3}\n",
       "            ).addTo(map_8de725e800d35d654a5b94e5a3721265);\n",
       "        \n",
       "    \n",
       "            circle_479a50a7eb97344b82df31ccbc1148de.bindTooltip(\n",
       "                `&lt;div&gt;\n",
       "                     &lt;div style=&#x27;margin: 0; background-color: black; color: white;&#x27;&gt;&lt;h4 style=&#x27;text-align:center;font-weight: bold&#x27;&gt;Australia&lt;/h4&gt;&lt;hr style=&#x27;margin:10px;color: white;&#x27;&gt;&lt;ul style=&#x27;color: white;;list-style-type:circle;align-item:left;padding-left:20px;padding-right:20px&#x27;&gt;&lt;li&gt;Confirmed: 498300&lt;/li&gt;&lt;li&gt;Deaths:   441&lt;/li&gt;&lt;li&gt;Death Rate: 0.09&lt;/li&gt;&lt;/ul&gt;&lt;/div&gt;\n",
       "                 &lt;/div&gt;`,\n",
       "                {&quot;sticky&quot;: true}\n",
       "            );\n",
       "        \n",
       "    \n",
       "            var circle_3447e4d5590b20d405f6ad4cc46647fb = L.circle(\n",
       "                [-42.8821, 147.3272],\n",
       "                {&quot;bubblingMouseEvents&quot;: true, &quot;color&quot;: &quot;red&quot;, &quot;dashArray&quot;: null, &quot;dashOffset&quot;: null, &quot;fill&quot;: true, &quot;fillColor&quot;: &quot;indigo&quot;, &quot;fillOpacity&quot;: 0.2, &quot;fillRule&quot;: &quot;evenodd&quot;, &quot;lineCap&quot;: &quot;round&quot;, &quot;lineJoin&quot;: &quot;round&quot;, &quot;opacity&quot;: 1.0, &quot;radius&quot;: 56000.0, &quot;stroke&quot;: true, &quot;weight&quot;: 3}\n",
       "            ).addTo(map_8de725e800d35d654a5b94e5a3721265);\n",
       "        \n",
       "    \n",
       "            circle_3447e4d5590b20d405f6ad4cc46647fb.bindTooltip(\n",
       "                `&lt;div&gt;\n",
       "                     &lt;div style=&#x27;margin: 0; background-color: black; color: white;&#x27;&gt;&lt;h4 style=&#x27;text-align:center;font-weight: bold&#x27;&gt;Australia&lt;/h4&gt;&lt;hr style=&#x27;margin:10px;color: white;&#x27;&gt;&lt;ul style=&#x27;color: white;;list-style-type:circle;align-item:left;padding-left:20px;padding-right:20px&#x27;&gt;&lt;li&gt;Confirmed: 159676&lt;/li&gt;&lt;li&gt;Deaths:   71&lt;/li&gt;&lt;li&gt;Death Rate: 0.04&lt;/li&gt;&lt;/ul&gt;&lt;/div&gt;\n",
       "                 &lt;/div&gt;`,\n",
       "                {&quot;sticky&quot;: true}\n",
       "            );\n",
       "        \n",
       "    \n",
       "            var circle_87911c01512dadf1cb1417819edf9682 = L.circle(\n",
       "                [-37.8136, 144.9631],\n",
       "                {&quot;bubblingMouseEvents&quot;: true, &quot;color&quot;: &quot;red&quot;, &quot;dashArray&quot;: null, &quot;dashOffset&quot;: null, &quot;fill&quot;: true, &quot;fillColor&quot;: &quot;indigo&quot;, &quot;fillOpacity&quot;: 0.2, &quot;fillRule&quot;: &quot;evenodd&quot;, &quot;lineCap&quot;: &quot;round&quot;, &quot;lineJoin&quot;: &quot;round&quot;, &quot;opacity&quot;: 1.0, &quot;radius&quot;: 71000.0, &quot;stroke&quot;: true, &quot;weight&quot;: 3}\n",
       "            ).addTo(map_8de725e800d35d654a5b94e5a3721265);\n",
       "        \n",
       "    \n",
       "            circle_87911c01512dadf1cb1417819edf9682.bindTooltip(\n",
       "                `&lt;div&gt;\n",
       "                     &lt;div style=&#x27;margin: 0; background-color: black; color: white;&#x27;&gt;&lt;h4 style=&#x27;text-align:center;font-weight: bold&#x27;&gt;Australia&lt;/h4&gt;&lt;hr style=&#x27;margin:10px;color: white;&#x27;&gt;&lt;ul style=&#x27;color: white;;list-style-type:circle;align-item:left;padding-left:20px;padding-right:20px&#x27;&gt;&lt;li&gt;Confirmed: 1841871&lt;/li&gt;&lt;li&gt;Deaths:   3285&lt;/li&gt;&lt;li&gt;Death Rate: 0.18&lt;/li&gt;&lt;/ul&gt;&lt;/div&gt;\n",
       "                 &lt;/div&gt;`,\n",
       "                {&quot;sticky&quot;: true}\n",
       "            );\n",
       "        \n",
       "    \n",
       "            var circle_55176f6220699e6a1b6812ccf6d0b4be = L.circle(\n",
       "                [-31.9505, 115.8605],\n",
       "                {&quot;bubblingMouseEvents&quot;: true, &quot;color&quot;: &quot;red&quot;, &quot;dashArray&quot;: null, &quot;dashOffset&quot;: null, &quot;fill&quot;: true, &quot;fillColor&quot;: &quot;indigo&quot;, &quot;fillOpacity&quot;: 0.2, &quot;fillRule&quot;: &quot;evenodd&quot;, &quot;lineCap&quot;: &quot;round&quot;, &quot;lineJoin&quot;: &quot;round&quot;, &quot;opacity&quot;: 1.0, &quot;radius&quot;: 66000.0, &quot;stroke&quot;: true, &quot;weight&quot;: 3}\n",
       "            ).addTo(map_8de725e800d35d654a5b94e5a3721265);\n",
       "        \n",
       "    \n",
       "            circle_55176f6220699e6a1b6812ccf6d0b4be.bindTooltip(\n",
       "                `&lt;div&gt;\n",
       "                     &lt;div style=&#x27;margin: 0; background-color: black; color: white;&#x27;&gt;&lt;h4 style=&#x27;text-align:center;font-weight: bold&#x27;&gt;Australia&lt;/h4&gt;&lt;hr style=&#x27;margin:10px;color: white;&#x27;&gt;&lt;ul style=&#x27;color: white;;list-style-type:circle;align-item:left;padding-left:20px;padding-right:20px&#x27;&gt;&lt;li&gt;Confirmed: 684326&lt;/li&gt;&lt;li&gt;Deaths:   223&lt;/li&gt;&lt;li&gt;Death Rate: 0.03&lt;/li&gt;&lt;/ul&gt;&lt;/div&gt;\n",
       "                 &lt;/div&gt;`,\n",
       "                {&quot;sticky&quot;: true}\n",
       "            );\n",
       "        \n",
       "    \n",
       "            var circle_25a8bbc94a4330b756f6e371b76c4049 = L.circle(\n",
       "                [47.5162, 14.5501],\n",
       "                {&quot;bubblingMouseEvents&quot;: true, &quot;color&quot;: &quot;red&quot;, &quot;dashArray&quot;: null, &quot;dashOffset&quot;: null, &quot;fill&quot;: true, &quot;fillColor&quot;: &quot;indigo&quot;, &quot;fillOpacity&quot;: 0.2, &quot;fillRule&quot;: &quot;evenodd&quot;, &quot;lineCap&quot;: &quot;round&quot;, &quot;lineJoin&quot;: &quot;round&quot;, &quot;opacity&quot;: 1.0, &quot;radius&quot;: 76000.0, &quot;stroke&quot;: true, &quot;weight&quot;: 3}\n",
       "            ).addTo(map_8de725e800d35d654a5b94e5a3721265);\n",
       "        \n",
       "    \n",
       "            circle_25a8bbc94a4330b756f6e371b76c4049.bindTooltip(\n",
       "                `&lt;div&gt;\n",
       "                     &lt;div style=&#x27;margin: 0; background-color: black; color: white;&#x27;&gt;&lt;h4 style=&#x27;text-align:center;font-weight: bold&#x27;&gt;Austria&lt;/h4&gt;&lt;hr style=&#x27;margin:10px;color: white;&#x27;&gt;&lt;ul style=&#x27;color: white;;list-style-type:circle;align-item:left;padding-left:20px;padding-right:20px&#x27;&gt;&lt;li&gt;Confirmed: 4274095&lt;/li&gt;&lt;li&gt;Deaths:   19874&lt;/li&gt;&lt;li&gt;Death Rate: 0.46&lt;/li&gt;&lt;/ul&gt;&lt;/div&gt;\n",
       "                 &lt;/div&gt;`,\n",
       "                {&quot;sticky&quot;: true}\n",
       "            );\n",
       "        \n",
       "    \n",
       "            var circle_40419ce01b0c5aa2fa709938b5cba42e = L.circle(\n",
       "                [40.1431, 47.5769],\n",
       "                {&quot;bubblingMouseEvents&quot;: true, &quot;color&quot;: &quot;red&quot;, &quot;dashArray&quot;: null, &quot;dashOffset&quot;: null, &quot;fill&quot;: true, &quot;fillColor&quot;: &quot;indigo&quot;, &quot;fillOpacity&quot;: 0.2, &quot;fillRule&quot;: &quot;evenodd&quot;, &quot;lineCap&quot;: &quot;round&quot;, &quot;lineJoin&quot;: &quot;round&quot;, &quot;opacity&quot;: 1.0, &quot;radius&quot;: 66000.0, &quot;stroke&quot;: true, &quot;weight&quot;: 3}\n",
       "            ).addTo(map_8de725e800d35d654a5b94e5a3721265);\n",
       "        \n",
       "    \n",
       "            circle_40419ce01b0c5aa2fa709938b5cba42e.bindTooltip(\n",
       "                `&lt;div&gt;\n",
       "                     &lt;div style=&#x27;margin: 0; background-color: black; color: white;&#x27;&gt;&lt;h4 style=&#x27;text-align:center;font-weight: bold&#x27;&gt;Azerbaijan&lt;/h4&gt;&lt;hr style=&#x27;margin:10px;color: white;&#x27;&gt;&lt;ul style=&#x27;color: white;;list-style-type:circle;align-item:left;padding-left:20px;padding-right:20px&#x27;&gt;&lt;li&gt;Confirmed: 792714&lt;/li&gt;&lt;li&gt;Deaths:   9710&lt;/li&gt;&lt;li&gt;Death Rate: 1.22&lt;/li&gt;&lt;/ul&gt;&lt;/div&gt;\n",
       "                 &lt;/div&gt;`,\n",
       "                {&quot;sticky&quot;: true}\n",
       "            );\n",
       "        \n",
       "    \n",
       "            var circle_aaf17b4684904b5107b36944dd11b228 = L.circle(\n",
       "                [25.025885, -78.035889],\n",
       "                {&quot;bubblingMouseEvents&quot;: true, &quot;color&quot;: &quot;red&quot;, &quot;dashArray&quot;: null, &quot;dashOffset&quot;: null, &quot;fill&quot;: true, &quot;fillColor&quot;: &quot;indigo&quot;, &quot;fillOpacity&quot;: 0.2, &quot;fillRule&quot;: &quot;evenodd&quot;, &quot;lineCap&quot;: &quot;round&quot;, &quot;lineJoin&quot;: &quot;round&quot;, &quot;opacity&quot;: 1.0, &quot;radius&quot;: 51000.0, &quot;stroke&quot;: true, &quot;weight&quot;: 3}\n",
       "            ).addTo(map_8de725e800d35d654a5b94e5a3721265);\n",
       "        \n",
       "    \n",
       "            circle_aaf17b4684904b5107b36944dd11b228.bindTooltip(\n",
       "                `&lt;div&gt;\n",
       "                     &lt;div style=&#x27;margin: 0; background-color: black; color: white;&#x27;&gt;&lt;h4 style=&#x27;text-align:center;font-weight: bold&#x27;&gt;Bahamas&lt;/h4&gt;&lt;hr style=&#x27;margin:10px;color: white;&#x27;&gt;&lt;ul style=&#x27;color: white;;list-style-type:circle;align-item:left;padding-left:20px;padding-right:20px&#x27;&gt;&lt;li&gt;Confirmed: 34355&lt;/li&gt;&lt;li&gt;Deaths:   810&lt;/li&gt;&lt;li&gt;Death Rate: 2.36&lt;/li&gt;&lt;/ul&gt;&lt;/div&gt;\n",
       "                 &lt;/div&gt;`,\n",
       "                {&quot;sticky&quot;: true}\n",
       "            );\n",
       "        \n",
       "    \n",
       "            var circle_225aeb62c2c4d46df49b9e0ab8bc0377 = L.circle(\n",
       "                [26.0275, 50.55],\n",
       "                {&quot;bubblingMouseEvents&quot;: true, &quot;color&quot;: &quot;red&quot;, &quot;dashArray&quot;: null, &quot;dashOffset&quot;: null, &quot;fill&quot;: true, &quot;fillColor&quot;: &quot;indigo&quot;, &quot;fillOpacity&quot;: 0.2, &quot;fillRule&quot;: &quot;evenodd&quot;, &quot;lineCap&quot;: &quot;round&quot;, &quot;lineJoin&quot;: &quot;round&quot;, &quot;opacity&quot;: 1.0, &quot;radius&quot;: 66000.0, &quot;stroke&quot;: true, &quot;weight&quot;: 3}\n",
       "            ).addTo(map_8de725e800d35d654a5b94e5a3721265);\n",
       "        \n",
       "    \n",
       "            circle_225aeb62c2c4d46df49b9e0ab8bc0377.bindTooltip(\n",
       "                `&lt;div&gt;\n",
       "                     &lt;div style=&#x27;margin: 0; background-color: black; color: white;&#x27;&gt;&lt;h4 style=&#x27;text-align:center;font-weight: bold&#x27;&gt;Bahrain&lt;/h4&gt;&lt;hr style=&#x27;margin:10px;color: white;&#x27;&gt;&lt;ul style=&#x27;color: white;;list-style-type:circle;align-item:left;padding-left:20px;padding-right:20px&#x27;&gt;&lt;li&gt;Confirmed: 582287&lt;/li&gt;&lt;li&gt;Deaths:   1484&lt;/li&gt;&lt;li&gt;Death Rate: 0.25&lt;/li&gt;&lt;/ul&gt;&lt;/div&gt;\n",
       "                 &lt;/div&gt;`,\n",
       "                {&quot;sticky&quot;: true}\n",
       "            );\n",
       "        \n",
       "    \n",
       "            var circle_9944e27564e61fbbbe2539c8002d194f = L.circle(\n",
       "                [23.685, 90.3563],\n",
       "                {&quot;bubblingMouseEvents&quot;: true, &quot;color&quot;: &quot;red&quot;, &quot;dashArray&quot;: null, &quot;dashOffset&quot;: null, &quot;fill&quot;: true, &quot;fillColor&quot;: &quot;indigo&quot;, &quot;fillOpacity&quot;: 0.2, &quot;fillRule&quot;: &quot;evenodd&quot;, &quot;lineCap&quot;: &quot;round&quot;, &quot;lineJoin&quot;: &quot;round&quot;, &quot;opacity&quot;: 1.0, &quot;radius&quot;: 71000.0, &quot;stroke&quot;: true, &quot;weight&quot;: 3}\n",
       "            ).addTo(map_8de725e800d35d654a5b94e5a3721265);\n",
       "        \n",
       "    \n",
       "            circle_9944e27564e61fbbbe2539c8002d194f.bindTooltip(\n",
       "                `&lt;div&gt;\n",
       "                     &lt;div style=&#x27;margin: 0; background-color: black; color: white;&#x27;&gt;&lt;h4 style=&#x27;text-align:center;font-weight: bold&#x27;&gt;Bangladesh&lt;/h4&gt;&lt;hr style=&#x27;margin:10px;color: white;&#x27;&gt;&lt;ul style=&#x27;color: white;;list-style-type:circle;align-item:left;padding-left:20px;padding-right:20px&#x27;&gt;&lt;li&gt;Confirmed: 1953298&lt;/li&gt;&lt;li&gt;Deaths:   29130&lt;/li&gt;&lt;li&gt;Death Rate: 1.49&lt;/li&gt;&lt;/ul&gt;&lt;/div&gt;\n",
       "                 &lt;/div&gt;`,\n",
       "                {&quot;sticky&quot;: true}\n",
       "            );\n",
       "        \n",
       "    \n",
       "            var circle_e71b66fa5cc358cb2000432f5eccb2c9 = L.circle(\n",
       "                [13.1939, -59.5432],\n",
       "                {&quot;bubblingMouseEvents&quot;: true, &quot;color&quot;: &quot;red&quot;, &quot;dashArray&quot;: null, &quot;dashOffset&quot;: null, &quot;fill&quot;: true, &quot;fillColor&quot;: &quot;indigo&quot;, &quot;fillOpacity&quot;: 0.2, &quot;fillRule&quot;: &quot;evenodd&quot;, &quot;lineCap&quot;: &quot;round&quot;, &quot;lineJoin&quot;: &quot;round&quot;, &quot;opacity&quot;: 1.0, &quot;radius&quot;: 56000.0, &quot;stroke&quot;: true, &quot;weight&quot;: 3}\n",
       "            ).addTo(map_8de725e800d35d654a5b94e5a3721265);\n",
       "        \n",
       "    \n",
       "            circle_e71b66fa5cc358cb2000432f5eccb2c9.bindTooltip(\n",
       "                `&lt;div&gt;\n",
       "                     &lt;div style=&#x27;margin: 0; background-color: black; color: white;&#x27;&gt;&lt;h4 style=&#x27;text-align:center;font-weight: bold&#x27;&gt;Barbados&lt;/h4&gt;&lt;hr style=&#x27;margin:10px;color: white;&#x27;&gt;&lt;ul style=&#x27;color: white;;list-style-type:circle;align-item:left;padding-left:20px;padding-right:20px&#x27;&gt;&lt;li&gt;Confirmed: 79383&lt;/li&gt;&lt;li&gt;Deaths:   443&lt;/li&gt;&lt;li&gt;Death Rate: 0.56&lt;/li&gt;&lt;/ul&gt;&lt;/div&gt;\n",
       "                 &lt;/div&gt;`,\n",
       "                {&quot;sticky&quot;: true}\n",
       "            );\n",
       "        \n",
       "    \n",
       "            var circle_eb5d23bce06172eea6d2a1965af6705a = L.circle(\n",
       "                [53.7098, 27.9534],\n",
       "                {&quot;bubblingMouseEvents&quot;: true, &quot;color&quot;: &quot;red&quot;, &quot;dashArray&quot;: null, &quot;dashOffset&quot;: null, &quot;fill&quot;: true, &quot;fillColor&quot;: &quot;indigo&quot;, &quot;fillOpacity&quot;: 0.2, &quot;fillRule&quot;: &quot;evenodd&quot;, &quot;lineCap&quot;: &quot;round&quot;, &quot;lineJoin&quot;: &quot;round&quot;, &quot;opacity&quot;: 1.0, &quot;radius&quot;: 66000.0, &quot;stroke&quot;: true, &quot;weight&quot;: 3}\n",
       "            ).addTo(map_8de725e800d35d654a5b94e5a3721265);\n",
       "        \n",
       "    \n",
       "            circle_eb5d23bce06172eea6d2a1965af6705a.bindTooltip(\n",
       "                `&lt;div&gt;\n",
       "                     &lt;div style=&#x27;margin: 0; background-color: black; color: white;&#x27;&gt;&lt;h4 style=&#x27;text-align:center;font-weight: bold&#x27;&gt;Belarus&lt;/h4&gt;&lt;hr style=&#x27;margin:10px;color: white;&#x27;&gt;&lt;ul style=&#x27;color: white;;list-style-type:circle;align-item:left;padding-left:20px;padding-right:20px&#x27;&gt;&lt;li&gt;Confirmed: 982867&lt;/li&gt;&lt;li&gt;Deaths:   6978&lt;/li&gt;&lt;li&gt;Death Rate: 0.71&lt;/li&gt;&lt;/ul&gt;&lt;/div&gt;\n",
       "                 &lt;/div&gt;`,\n",
       "                {&quot;sticky&quot;: true}\n",
       "            );\n",
       "        \n",
       "    \n",
       "            var circle_6dfb377bd6554f48940b3fd1ffa9a2b8 = L.circle(\n",
       "                [50.8333, 4.469936],\n",
       "                {&quot;bubblingMouseEvents&quot;: true, &quot;color&quot;: &quot;red&quot;, &quot;dashArray&quot;: null, &quot;dashOffset&quot;: null, &quot;fill&quot;: true, &quot;fillColor&quot;: &quot;indigo&quot;, &quot;fillOpacity&quot;: 0.2, &quot;fillRule&quot;: &quot;evenodd&quot;, &quot;lineCap&quot;: &quot;round&quot;, &quot;lineJoin&quot;: &quot;round&quot;, &quot;opacity&quot;: 1.0, &quot;radius&quot;: 76000.0, &quot;stroke&quot;: true, &quot;weight&quot;: 3}\n",
       "            ).addTo(map_8de725e800d35d654a5b94e5a3721265);\n",
       "        \n",
       "    \n",
       "            circle_6dfb377bd6554f48940b3fd1ffa9a2b8.bindTooltip(\n",
       "                `&lt;div&gt;\n",
       "                     &lt;div style=&#x27;margin: 0; background-color: black; color: white;&#x27;&gt;&lt;h4 style=&#x27;text-align:center;font-weight: bold&#x27;&gt;Belgium&lt;/h4&gt;&lt;hr style=&#x27;margin:10px;color: white;&#x27;&gt;&lt;ul style=&#x27;color: white;;list-style-type:circle;align-item:left;padding-left:20px;padding-right:20px&#x27;&gt;&lt;li&gt;Confirmed: 4143408&lt;/li&gt;&lt;li&gt;Deaths:   31710&lt;/li&gt;&lt;li&gt;Death Rate: 0.77&lt;/li&gt;&lt;/ul&gt;&lt;/div&gt;\n",
       "                 &lt;/div&gt;`,\n",
       "                {&quot;sticky&quot;: true}\n",
       "            );\n",
       "        \n",
       "    \n",
       "            var circle_eb5b89b1b4e770ad421279c5915b17c1 = L.circle(\n",
       "                [17.1899, -88.4976],\n",
       "                {&quot;bubblingMouseEvents&quot;: true, &quot;color&quot;: &quot;red&quot;, &quot;dashArray&quot;: null, &quot;dashOffset&quot;: null, &quot;fill&quot;: true, &quot;fillColor&quot;: &quot;indigo&quot;, &quot;fillOpacity&quot;: 0.2, &quot;fillRule&quot;: &quot;evenodd&quot;, &quot;lineCap&quot;: &quot;round&quot;, &quot;lineJoin&quot;: &quot;round&quot;, &quot;opacity&quot;: 1.0, &quot;radius&quot;: 51000.0, &quot;stroke&quot;: true, &quot;weight&quot;: 3}\n",
       "            ).addTo(map_8de725e800d35d654a5b94e5a3721265);\n",
       "        \n",
       "    \n",
       "            circle_eb5b89b1b4e770ad421279c5915b17c1.bindTooltip(\n",
       "                `&lt;div&gt;\n",
       "                     &lt;div style=&#x27;margin: 0; background-color: black; color: white;&#x27;&gt;&lt;h4 style=&#x27;text-align:center;font-weight: bold&#x27;&gt;Belize&lt;/h4&gt;&lt;hr style=&#x27;margin:10px;color: white;&#x27;&gt;&lt;ul style=&#x27;color: white;;list-style-type:circle;align-item:left;padding-left:20px;padding-right:20px&#x27;&gt;&lt;li&gt;Confirmed: 58749&lt;/li&gt;&lt;li&gt;Deaths:   677&lt;/li&gt;&lt;li&gt;Death Rate: 1.15&lt;/li&gt;&lt;/ul&gt;&lt;/div&gt;\n",
       "                 &lt;/div&gt;`,\n",
       "                {&quot;sticky&quot;: true}\n",
       "            );\n",
       "        \n",
       "    \n",
       "            var circle_0f4c760ed0f86918988366e94890782d = L.circle(\n",
       "                [9.3077, 2.3158],\n",
       "                {&quot;bubblingMouseEvents&quot;: true, &quot;color&quot;: &quot;red&quot;, &quot;dashArray&quot;: null, &quot;dashOffset&quot;: null, &quot;fill&quot;: true, &quot;fillColor&quot;: &quot;indigo&quot;, &quot;fillOpacity&quot;: 0.2, &quot;fillRule&quot;: &quot;evenodd&quot;, &quot;lineCap&quot;: &quot;round&quot;, &quot;lineJoin&quot;: &quot;round&quot;, &quot;opacity&quot;: 1.0, &quot;radius&quot;: 51000.0, &quot;stroke&quot;: true, &quot;weight&quot;: 3}\n",
       "            ).addTo(map_8de725e800d35d654a5b94e5a3721265);\n",
       "        \n",
       "    \n",
       "            circle_0f4c760ed0f86918988366e94890782d.bindTooltip(\n",
       "                `&lt;div&gt;\n",
       "                     &lt;div style=&#x27;margin: 0; background-color: black; color: white;&#x27;&gt;&lt;h4 style=&#x27;text-align:center;font-weight: bold&#x27;&gt;Benin&lt;/h4&gt;&lt;hr style=&#x27;margin:10px;color: white;&#x27;&gt;&lt;ul style=&#x27;color: white;;list-style-type:circle;align-item:left;padding-left:20px;padding-right:20px&#x27;&gt;&lt;li&gt;Confirmed: 26952&lt;/li&gt;&lt;li&gt;Deaths:   163&lt;/li&gt;&lt;li&gt;Death Rate: 0.6&lt;/li&gt;&lt;/ul&gt;&lt;/div&gt;\n",
       "                 &lt;/div&gt;`,\n",
       "                {&quot;sticky&quot;: true}\n",
       "            );\n",
       "        \n",
       "    \n",
       "            var circle_8b7c2663ca6cff0f31a720e9c19c9e08 = L.circle(\n",
       "                [27.5142, 90.4336],\n",
       "                {&quot;bubblingMouseEvents&quot;: true, &quot;color&quot;: &quot;red&quot;, &quot;dashArray&quot;: null, &quot;dashOffset&quot;: null, &quot;fill&quot;: true, &quot;fillColor&quot;: &quot;indigo&quot;, &quot;fillOpacity&quot;: 0.2, &quot;fillRule&quot;: &quot;evenodd&quot;, &quot;lineCap&quot;: &quot;round&quot;, &quot;lineJoin&quot;: &quot;round&quot;, &quot;opacity&quot;: 1.0, &quot;radius&quot;: 51000.0, &quot;stroke&quot;: true, &quot;weight&quot;: 3}\n",
       "            ).addTo(map_8de725e800d35d654a5b94e5a3721265);\n",
       "        \n",
       "    \n",
       "            circle_8b7c2663ca6cff0f31a720e9c19c9e08.bindTooltip(\n",
       "                `&lt;div&gt;\n",
       "                     &lt;div style=&#x27;margin: 0; background-color: black; color: white;&#x27;&gt;&lt;h4 style=&#x27;text-align:center;font-weight: bold&#x27;&gt;Bhutan&lt;/h4&gt;&lt;hr style=&#x27;margin:10px;color: white;&#x27;&gt;&lt;ul style=&#x27;color: white;;list-style-type:circle;align-item:left;padding-left:20px;padding-right:20px&#x27;&gt;&lt;li&gt;Confirmed: 59614&lt;/li&gt;&lt;li&gt;Deaths:   21&lt;/li&gt;&lt;li&gt;Death Rate: 0.04&lt;/li&gt;&lt;/ul&gt;&lt;/div&gt;\n",
       "                 &lt;/div&gt;`,\n",
       "                {&quot;sticky&quot;: true}\n",
       "            );\n",
       "        \n",
       "    \n",
       "            var circle_e5daa1e4998827fc37cf60a651e684a3 = L.circle(\n",
       "                [-16.2902, -63.5887],\n",
       "                {&quot;bubblingMouseEvents&quot;: true, &quot;color&quot;: &quot;red&quot;, &quot;dashArray&quot;: null, &quot;dashOffset&quot;: null, &quot;fill&quot;: true, &quot;fillColor&quot;: &quot;indigo&quot;, &quot;fillOpacity&quot;: 0.2, &quot;fillRule&quot;: &quot;evenodd&quot;, &quot;lineCap&quot;: &quot;round&quot;, &quot;lineJoin&quot;: &quot;round&quot;, &quot;opacity&quot;: 1.0, &quot;radius&quot;: 66000.0, &quot;stroke&quot;: true, &quot;weight&quot;: 3}\n",
       "            ).addTo(map_8de725e800d35d654a5b94e5a3721265);\n",
       "        \n",
       "    \n",
       "            circle_e5daa1e4998827fc37cf60a651e684a3.bindTooltip(\n",
       "                `&lt;div&gt;\n",
       "                     &lt;div style=&#x27;margin: 0; background-color: black; color: white;&#x27;&gt;&lt;h4 style=&#x27;text-align:center;font-weight: bold&#x27;&gt;Bolivia&lt;/h4&gt;&lt;hr style=&#x27;margin:10px;color: white;&#x27;&gt;&lt;ul style=&#x27;color: white;;list-style-type:circle;align-item:left;padding-left:20px;padding-right:20px&#x27;&gt;&lt;li&gt;Confirmed: 907767&lt;/li&gt;&lt;li&gt;Deaths:   21945&lt;/li&gt;&lt;li&gt;Death Rate: 2.42&lt;/li&gt;&lt;/ul&gt;&lt;/div&gt;\n",
       "                 &lt;/div&gt;`,\n",
       "                {&quot;sticky&quot;: true}\n",
       "            );\n",
       "        \n",
       "    \n",
       "            var circle_01a847e9079daf3d1cb5622766d707ec = L.circle(\n",
       "                [43.9159, 17.6791],\n",
       "                {&quot;bubblingMouseEvents&quot;: true, &quot;color&quot;: &quot;red&quot;, &quot;dashArray&quot;: null, &quot;dashOffset&quot;: null, &quot;fill&quot;: true, &quot;fillColor&quot;: &quot;indigo&quot;, &quot;fillOpacity&quot;: 0.2, &quot;fillRule&quot;: &quot;evenodd&quot;, &quot;lineCap&quot;: &quot;round&quot;, &quot;lineJoin&quot;: &quot;round&quot;, &quot;opacity&quot;: 1.0, &quot;radius&quot;: 61000.0, &quot;stroke&quot;: true, &quot;weight&quot;: 3}\n",
       "            ).addTo(map_8de725e800d35d654a5b94e5a3721265);\n",
       "        \n",
       "    \n",
       "            circle_01a847e9079daf3d1cb5622766d707ec.bindTooltip(\n",
       "                `&lt;div&gt;\n",
       "                     &lt;div style=&#x27;margin: 0; background-color: black; color: white;&#x27;&gt;&lt;h4 style=&#x27;text-align:center;font-weight: bold&#x27;&gt;Bosnia and Herzegovina&lt;/h4&gt;&lt;hr style=&#x27;margin:10px;color: white;&#x27;&gt;&lt;ul style=&#x27;color: white;;list-style-type:circle;align-item:left;padding-left:20px;padding-right:20px&#x27;&gt;&lt;li&gt;Confirmed: 377769&lt;/li&gt;&lt;li&gt;Deaths:   15786&lt;/li&gt;&lt;li&gt;Death Rate: 4.18&lt;/li&gt;&lt;/ul&gt;&lt;/div&gt;\n",
       "                 &lt;/div&gt;`,\n",
       "                {&quot;sticky&quot;: true}\n",
       "            );\n",
       "        \n",
       "    \n",
       "            var circle_b1ae94d069dab44e3d78bf362e14ed59 = L.circle(\n",
       "                [-22.3285, 24.6849],\n",
       "                {&quot;bubblingMouseEvents&quot;: true, &quot;color&quot;: &quot;red&quot;, &quot;dashArray&quot;: null, &quot;dashOffset&quot;: null, &quot;fill&quot;: true, &quot;fillColor&quot;: &quot;indigo&quot;, &quot;fillOpacity&quot;: 0.2, &quot;fillRule&quot;: &quot;evenodd&quot;, &quot;lineCap&quot;: &quot;round&quot;, &quot;lineJoin&quot;: &quot;round&quot;, &quot;opacity&quot;: 1.0, &quot;radius&quot;: 61000.0, &quot;stroke&quot;: true, &quot;weight&quot;: 3}\n",
       "            ).addTo(map_8de725e800d35d654a5b94e5a3721265);\n",
       "        \n",
       "    \n",
       "            circle_b1ae94d069dab44e3d78bf362e14ed59.bindTooltip(\n",
       "                `&lt;div&gt;\n",
       "                     &lt;div style=&#x27;margin: 0; background-color: black; color: white;&#x27;&gt;&lt;h4 style=&#x27;text-align:center;font-weight: bold&#x27;&gt;Botswana&lt;/h4&gt;&lt;hr style=&#x27;margin:10px;color: white;&#x27;&gt;&lt;ul style=&#x27;color: white;;list-style-type:circle;align-item:left;padding-left:20px;padding-right:20px&#x27;&gt;&lt;li&gt;Confirmed: 307126&lt;/li&gt;&lt;li&gt;Deaths:   2695&lt;/li&gt;&lt;li&gt;Death Rate: 0.88&lt;/li&gt;&lt;/ul&gt;&lt;/div&gt;\n",
       "                 &lt;/div&gt;`,\n",
       "                {&quot;sticky&quot;: true}\n",
       "            );\n",
       "        \n",
       "    \n",
       "            var circle_a6e90d509bb7a17aab7c1a9a4399934f = L.circle(\n",
       "                [-14.235, -51.9253],\n",
       "                {&quot;bubblingMouseEvents&quot;: true, &quot;color&quot;: &quot;red&quot;, &quot;dashArray&quot;: null, &quot;dashOffset&quot;: null, &quot;fill&quot;: true, &quot;fillColor&quot;: &quot;indigo&quot;, &quot;fillOpacity&quot;: 0.2, &quot;fillRule&quot;: &quot;evenodd&quot;, &quot;lineCap&quot;: &quot;round&quot;, &quot;lineJoin&quot;: &quot;round&quot;, &quot;opacity&quot;: 1.0, &quot;radius&quot;: 86000.0, &quot;stroke&quot;: true, &quot;weight&quot;: 3}\n",
       "            ).addTo(map_8de725e800d35d654a5b94e5a3721265);\n",
       "        \n",
       "    \n",
       "            circle_a6e90d509bb7a17aab7c1a9a4399934f.bindTooltip(\n",
       "                `&lt;div&gt;\n",
       "                     &lt;div style=&#x27;margin: 0; background-color: black; color: white;&#x27;&gt;&lt;h4 style=&#x27;text-align:center;font-weight: bold&#x27;&gt;Brazil&lt;/h4&gt;&lt;hr style=&#x27;margin:10px;color: white;&#x27;&gt;&lt;ul style=&#x27;color: white;;list-style-type:circle;align-item:left;padding-left:20px;padding-right:20px&#x27;&gt;&lt;li&gt;Confirmed: 30836815&lt;/li&gt;&lt;li&gt;Deaths:   666129&lt;/li&gt;&lt;li&gt;Death Rate: 2.16&lt;/li&gt;&lt;/ul&gt;&lt;/div&gt;\n",
       "                 &lt;/div&gt;`,\n",
       "                {&quot;sticky&quot;: true}\n",
       "            );\n",
       "        \n",
       "    \n",
       "            var circle_0301971bbdb977791dfa11d8630fcd76 = L.circle(\n",
       "                [4.5353, 114.7277],\n",
       "                {&quot;bubblingMouseEvents&quot;: true, &quot;color&quot;: &quot;red&quot;, &quot;dashArray&quot;: null, &quot;dashOffset&quot;: null, &quot;fill&quot;: true, &quot;fillColor&quot;: &quot;indigo&quot;, &quot;fillOpacity&quot;: 0.2, &quot;fillRule&quot;: &quot;evenodd&quot;, &quot;lineCap&quot;: &quot;round&quot;, &quot;lineJoin&quot;: &quot;round&quot;, &quot;opacity&quot;: 1.0, &quot;radius&quot;: 56000.0, &quot;stroke&quot;: true, &quot;weight&quot;: 3}\n",
       "            ).addTo(map_8de725e800d35d654a5b94e5a3721265);\n",
       "        \n",
       "    \n",
       "            circle_0301971bbdb977791dfa11d8630fcd76.bindTooltip(\n",
       "                `&lt;div&gt;\n",
       "                     &lt;div style=&#x27;margin: 0; background-color: black; color: white;&#x27;&gt;&lt;h4 style=&#x27;text-align:center;font-weight: bold&#x27;&gt;Brunei&lt;/h4&gt;&lt;hr style=&#x27;margin:10px;color: white;&#x27;&gt;&lt;ul style=&#x27;color: white;;list-style-type:circle;align-item:left;padding-left:20px;padding-right:20px&#x27;&gt;&lt;li&gt;Confirmed: 147021&lt;/li&gt;&lt;li&gt;Deaths:   222&lt;/li&gt;&lt;li&gt;Death Rate: 0.15&lt;/li&gt;&lt;/ul&gt;&lt;/div&gt;\n",
       "                 &lt;/div&gt;`,\n",
       "                {&quot;sticky&quot;: true}\n",
       "            );\n",
       "        \n",
       "    \n",
       "            var circle_1bbefea5c36f8cc8e4fd008211998f25 = L.circle(\n",
       "                [42.7339, 25.4858],\n",
       "                {&quot;bubblingMouseEvents&quot;: true, &quot;color&quot;: &quot;red&quot;, &quot;dashArray&quot;: null, &quot;dashOffset&quot;: null, &quot;fill&quot;: true, &quot;fillColor&quot;: &quot;indigo&quot;, &quot;fillOpacity&quot;: 0.2, &quot;fillRule&quot;: &quot;evenodd&quot;, &quot;lineCap&quot;: &quot;round&quot;, &quot;lineJoin&quot;: &quot;round&quot;, &quot;opacity&quot;: 1.0, &quot;radius&quot;: 66000.0, &quot;stroke&quot;: true, &quot;weight&quot;: 3}\n",
       "            ).addTo(map_8de725e800d35d654a5b94e5a3721265);\n",
       "        \n",
       "    \n",
       "            circle_1bbefea5c36f8cc8e4fd008211998f25.bindTooltip(\n",
       "                `&lt;div&gt;\n",
       "                     &lt;div style=&#x27;margin: 0; background-color: black; color: white;&#x27;&gt;&lt;h4 style=&#x27;text-align:center;font-weight: bold&#x27;&gt;Bulgaria&lt;/h4&gt;&lt;hr style=&#x27;margin:10px;color: white;&#x27;&gt;&lt;ul style=&#x27;color: white;;list-style-type:circle;align-item:left;padding-left:20px;padding-right:20px&#x27;&gt;&lt;li&gt;Confirmed: 1163806&lt;/li&gt;&lt;li&gt;Deaths:   37109&lt;/li&gt;&lt;li&gt;Death Rate: 3.19&lt;/li&gt;&lt;/ul&gt;&lt;/div&gt;\n",
       "                 &lt;/div&gt;`,\n",
       "                {&quot;sticky&quot;: true}\n",
       "            );\n",
       "        \n",
       "    \n",
       "            var circle_85d553bf1973df8ad0de2ecad028d64f = L.circle(\n",
       "                [12.2383, -1.5616],\n",
       "                {&quot;bubblingMouseEvents&quot;: true, &quot;color&quot;: &quot;red&quot;, &quot;dashArray&quot;: null, &quot;dashOffset&quot;: null, &quot;fill&quot;: true, &quot;fillColor&quot;: &quot;indigo&quot;, &quot;fillOpacity&quot;: 0.2, &quot;fillRule&quot;: &quot;evenodd&quot;, &quot;lineCap&quot;: &quot;round&quot;, &quot;lineJoin&quot;: &quot;round&quot;, &quot;opacity&quot;: 1.0, &quot;radius&quot;: 46000.0, &quot;stroke&quot;: true, &quot;weight&quot;: 3}\n",
       "            ).addTo(map_8de725e800d35d654a5b94e5a3721265);\n",
       "        \n",
       "    \n",
       "            circle_85d553bf1973df8ad0de2ecad028d64f.bindTooltip(\n",
       "                `&lt;div&gt;\n",
       "                     &lt;div style=&#x27;margin: 0; background-color: black; color: white;&#x27;&gt;&lt;h4 style=&#x27;text-align:center;font-weight: bold&#x27;&gt;Burkina Faso&lt;/h4&gt;&lt;hr style=&#x27;margin:10px;color: white;&#x27;&gt;&lt;ul style=&#x27;color: white;;list-style-type:circle;align-item:left;padding-left:20px;padding-right:20px&#x27;&gt;&lt;li&gt;Confirmed: 20899&lt;/li&gt;&lt;li&gt;Deaths:   384&lt;/li&gt;&lt;li&gt;Death Rate: 1.84&lt;/li&gt;&lt;/ul&gt;&lt;/div&gt;\n",
       "                 &lt;/div&gt;`,\n",
       "                {&quot;sticky&quot;: true}\n",
       "            );\n",
       "        \n",
       "    \n",
       "            var circle_d102702d2056b479af9fdde7602d780d = L.circle(\n",
       "                [21.9162, 95.956],\n",
       "                {&quot;bubblingMouseEvents&quot;: true, &quot;color&quot;: &quot;red&quot;, &quot;dashArray&quot;: null, &quot;dashOffset&quot;: null, &quot;fill&quot;: true, &quot;fillColor&quot;: &quot;indigo&quot;, &quot;fillOpacity&quot;: 0.2, &quot;fillRule&quot;: &quot;evenodd&quot;, &quot;lineCap&quot;: &quot;round&quot;, &quot;lineJoin&quot;: &quot;round&quot;, &quot;opacity&quot;: 1.0, &quot;radius&quot;: 66000.0, &quot;stroke&quot;: true, &quot;weight&quot;: 3}\n",
       "            ).addTo(map_8de725e800d35d654a5b94e5a3721265);\n",
       "        \n",
       "    \n",
       "            circle_d102702d2056b479af9fdde7602d780d.bindTooltip(\n",
       "                `&lt;div&gt;\n",
       "                     &lt;div style=&#x27;margin: 0; background-color: black; color: white;&#x27;&gt;&lt;h4 style=&#x27;text-align:center;font-weight: bold&#x27;&gt;Burma&lt;/h4&gt;&lt;hr style=&#x27;margin:10px;color: white;&#x27;&gt;&lt;ul style=&#x27;color: white;;list-style-type:circle;align-item:left;padding-left:20px;padding-right:20px&#x27;&gt;&lt;li&gt;Confirmed: 613238&lt;/li&gt;&lt;li&gt;Deaths:   19434&lt;/li&gt;&lt;li&gt;Death Rate: 3.17&lt;/li&gt;&lt;/ul&gt;&lt;/div&gt;\n",
       "                 &lt;/div&gt;`,\n",
       "                {&quot;sticky&quot;: true}\n",
       "            );\n",
       "        \n",
       "    \n",
       "            var circle_ef02a78c6637d639307389a903404f02 = L.circle(\n",
       "                [-3.3731, 29.9189],\n",
       "                {&quot;bubblingMouseEvents&quot;: true, &quot;color&quot;: &quot;red&quot;, &quot;dashArray&quot;: null, &quot;dashOffset&quot;: null, &quot;fill&quot;: true, &quot;fillColor&quot;: &quot;indigo&quot;, &quot;fillOpacity&quot;: 0.2, &quot;fillRule&quot;: &quot;evenodd&quot;, &quot;lineCap&quot;: &quot;round&quot;, &quot;lineJoin&quot;: &quot;round&quot;, &quot;opacity&quot;: 1.0, &quot;radius&quot;: 51000.0, &quot;stroke&quot;: true, &quot;weight&quot;: 3}\n",
       "            ).addTo(map_8de725e800d35d654a5b94e5a3721265);\n",
       "        \n",
       "    \n",
       "            circle_ef02a78c6637d639307389a903404f02.bindTooltip(\n",
       "                `&lt;div&gt;\n",
       "                     &lt;div style=&#x27;margin: 0; background-color: black; color: white;&#x27;&gt;&lt;h4 style=&#x27;text-align:center;font-weight: bold&#x27;&gt;Burundi&lt;/h4&gt;&lt;hr style=&#x27;margin:10px;color: white;&#x27;&gt;&lt;ul style=&#x27;color: white;;list-style-type:circle;align-item:left;padding-left:20px;padding-right:20px&#x27;&gt;&lt;li&gt;Confirmed: 41897&lt;/li&gt;&lt;li&gt;Deaths:   38&lt;/li&gt;&lt;li&gt;Death Rate: 0.09&lt;/li&gt;&lt;/ul&gt;&lt;/div&gt;\n",
       "                 &lt;/div&gt;`,\n",
       "                {&quot;sticky&quot;: true}\n",
       "            );\n",
       "        \n",
       "    \n",
       "            var circle_31f375ad82d874126e28095c7f3a5084 = L.circle(\n",
       "                [16.5388, -23.0418],\n",
       "                {&quot;bubblingMouseEvents&quot;: true, &quot;color&quot;: &quot;red&quot;, &quot;dashArray&quot;: null, &quot;dashOffset&quot;: null, &quot;fill&quot;: true, &quot;fillColor&quot;: &quot;indigo&quot;, &quot;fillOpacity&quot;: 0.2, &quot;fillRule&quot;: &quot;evenodd&quot;, &quot;lineCap&quot;: &quot;round&quot;, &quot;lineJoin&quot;: &quot;round&quot;, &quot;opacity&quot;: 1.0, &quot;radius&quot;: 51000.0, &quot;stroke&quot;: true, &quot;weight&quot;: 3}\n",
       "            ).addTo(map_8de725e800d35d654a5b94e5a3721265);\n",
       "        \n",
       "    \n",
       "            circle_31f375ad82d874126e28095c7f3a5084.bindTooltip(\n",
       "                `&lt;div&gt;\n",
       "                     &lt;div style=&#x27;margin: 0; background-color: black; color: white;&#x27;&gt;&lt;h4 style=&#x27;text-align:center;font-weight: bold&#x27;&gt;Cabo Verde&lt;/h4&gt;&lt;hr style=&#x27;margin:10px;color: white;&#x27;&gt;&lt;ul style=&#x27;color: white;;list-style-type:circle;align-item:left;padding-left:20px;padding-right:20px&#x27;&gt;&lt;li&gt;Confirmed: 56172&lt;/li&gt;&lt;li&gt;Deaths:   401&lt;/li&gt;&lt;li&gt;Death Rate: 0.71&lt;/li&gt;&lt;/ul&gt;&lt;/div&gt;\n",
       "                 &lt;/div&gt;`,\n",
       "                {&quot;sticky&quot;: true}\n",
       "            );\n",
       "        \n",
       "    \n",
       "            var circle_7de8d035e1533de4c72c0db4b40cf194 = L.circle(\n",
       "                [11.55, 104.9167],\n",
       "                {&quot;bubblingMouseEvents&quot;: true, &quot;color&quot;: &quot;red&quot;, &quot;dashArray&quot;: null, &quot;dashOffset&quot;: null, &quot;fill&quot;: true, &quot;fillColor&quot;: &quot;indigo&quot;, &quot;fillOpacity&quot;: 0.2, &quot;fillRule&quot;: &quot;evenodd&quot;, &quot;lineCap&quot;: &quot;round&quot;, &quot;lineJoin&quot;: &quot;round&quot;, &quot;opacity&quot;: 1.0, &quot;radius&quot;: 56000.0, &quot;stroke&quot;: true, &quot;weight&quot;: 3}\n",
       "            ).addTo(map_8de725e800d35d654a5b94e5a3721265);\n",
       "        \n",
       "    \n",
       "            circle_7de8d035e1533de4c72c0db4b40cf194.bindTooltip(\n",
       "                `&lt;div&gt;\n",
       "                     &lt;div style=&#x27;margin: 0; background-color: black; color: white;&#x27;&gt;&lt;h4 style=&#x27;text-align:center;font-weight: bold&#x27;&gt;Cambodia&lt;/h4&gt;&lt;hr style=&#x27;margin:10px;color: white;&#x27;&gt;&lt;ul style=&#x27;color: white;;list-style-type:circle;align-item:left;padding-left:20px;padding-right:20px&#x27;&gt;&lt;li&gt;Confirmed: 136262&lt;/li&gt;&lt;li&gt;Deaths:   3056&lt;/li&gt;&lt;li&gt;Death Rate: 2.24&lt;/li&gt;&lt;/ul&gt;&lt;/div&gt;\n",
       "                 &lt;/div&gt;`,\n",
       "                {&quot;sticky&quot;: true}\n",
       "            );\n",
       "        \n",
       "    \n",
       "            var circle_76413be2ac85ae88035414d9026fecbd = L.circle(\n",
       "                [3.848, 11.5021],\n",
       "                {&quot;bubblingMouseEvents&quot;: true, &quot;color&quot;: &quot;red&quot;, &quot;dashArray&quot;: null, &quot;dashOffset&quot;: null, &quot;fill&quot;: true, &quot;fillColor&quot;: &quot;indigo&quot;, &quot;fillOpacity&quot;: 0.2, &quot;fillRule&quot;: &quot;evenodd&quot;, &quot;lineCap&quot;: &quot;round&quot;, &quot;lineJoin&quot;: &quot;round&quot;, &quot;opacity&quot;: 1.0, &quot;radius&quot;: 56000.0, &quot;stroke&quot;: true, &quot;weight&quot;: 3}\n",
       "            ).addTo(map_8de725e800d35d654a5b94e5a3721265);\n",
       "        \n",
       "    \n",
       "            circle_76413be2ac85ae88035414d9026fecbd.bindTooltip(\n",
       "                `&lt;div&gt;\n",
       "                     &lt;div style=&#x27;margin: 0; background-color: black; color: white;&#x27;&gt;&lt;h4 style=&#x27;text-align:center;font-weight: bold&#x27;&gt;Cameroon&lt;/h4&gt;&lt;hr style=&#x27;margin:10px;color: white;&#x27;&gt;&lt;ul style=&#x27;color: white;;list-style-type:circle;align-item:left;padding-left:20px;padding-right:20px&#x27;&gt;&lt;li&gt;Confirmed: 119780&lt;/li&gt;&lt;li&gt;Deaths:   1927&lt;/li&gt;&lt;li&gt;Death Rate: 1.61&lt;/li&gt;&lt;/ul&gt;&lt;/div&gt;\n",
       "                 &lt;/div&gt;`,\n",
       "                {&quot;sticky&quot;: true}\n",
       "            );\n",
       "        \n",
       "    \n",
       "            var circle_cdaf6edc0a5fa44bc9d906583ca1d016 = L.circle(\n",
       "                [53.9333, -116.5765],\n",
       "                {&quot;bubblingMouseEvents&quot;: true, &quot;color&quot;: &quot;red&quot;, &quot;dashArray&quot;: null, &quot;dashOffset&quot;: null, &quot;fill&quot;: true, &quot;fillColor&quot;: &quot;indigo&quot;, &quot;fillOpacity&quot;: 0.2, &quot;fillRule&quot;: &quot;evenodd&quot;, &quot;lineCap&quot;: &quot;round&quot;, &quot;lineJoin&quot;: &quot;round&quot;, &quot;opacity&quot;: 1.0, &quot;radius&quot;: 66000.0, &quot;stroke&quot;: true, &quot;weight&quot;: 3}\n",
       "            ).addTo(map_8de725e800d35d654a5b94e5a3721265);\n",
       "        \n",
       "    \n",
       "            circle_cdaf6edc0a5fa44bc9d906583ca1d016.bindTooltip(\n",
       "                `&lt;div&gt;\n",
       "                     &lt;div style=&#x27;margin: 0; background-color: black; color: white;&#x27;&gt;&lt;h4 style=&#x27;text-align:center;font-weight: bold&#x27;&gt;Canada&lt;/h4&gt;&lt;hr style=&#x27;margin:10px;color: white;&#x27;&gt;&lt;ul style=&#x27;color: white;;list-style-type:circle;align-item:left;padding-left:20px;padding-right:20px&#x27;&gt;&lt;li&gt;Confirmed: 578291&lt;/li&gt;&lt;li&gt;Deaths:   4452&lt;/li&gt;&lt;li&gt;Death Rate: 0.77&lt;/li&gt;&lt;/ul&gt;&lt;/div&gt;\n",
       "                 &lt;/div&gt;`,\n",
       "                {&quot;sticky&quot;: true}\n",
       "            );\n",
       "        \n",
       "    \n",
       "            var circle_242d4c74402545c748c707bdfcae457b = L.circle(\n",
       "                [53.7267, -127.6476],\n",
       "                {&quot;bubblingMouseEvents&quot;: true, &quot;color&quot;: &quot;red&quot;, &quot;dashArray&quot;: null, &quot;dashOffset&quot;: null, &quot;fill&quot;: true, &quot;fillColor&quot;: &quot;indigo&quot;, &quot;fillOpacity&quot;: 0.2, &quot;fillRule&quot;: &quot;evenodd&quot;, &quot;lineCap&quot;: &quot;round&quot;, &quot;lineJoin&quot;: &quot;round&quot;, &quot;opacity&quot;: 1.0, &quot;radius&quot;: 61000.0, &quot;stroke&quot;: true, &quot;weight&quot;: 3}\n",
       "            ).addTo(map_8de725e800d35d654a5b94e5a3721265);\n",
       "        \n",
       "    \n",
       "            circle_242d4c74402545c748c707bdfcae457b.bindTooltip(\n",
       "                `&lt;div&gt;\n",
       "                     &lt;div style=&#x27;margin: 0; background-color: black; color: white;&#x27;&gt;&lt;h4 style=&#x27;text-align:center;font-weight: bold&#x27;&gt;Canada&lt;/h4&gt;&lt;hr style=&#x27;margin:10px;color: white;&#x27;&gt;&lt;ul style=&#x27;color: white;;list-style-type:circle;align-item:left;padding-left:20px;padding-right:20px&#x27;&gt;&lt;li&gt;Confirmed: 369202&lt;/li&gt;&lt;li&gt;Deaths:   3398&lt;/li&gt;&lt;li&gt;Death Rate: 0.92&lt;/li&gt;&lt;/ul&gt;&lt;/div&gt;\n",
       "                 &lt;/div&gt;`,\n",
       "                {&quot;sticky&quot;: true}\n",
       "            );\n",
       "        \n",
       "    \n",
       "            var circle_66ee8dabadf5431c2320d290d3f29bda = L.circle(\n",
       "                [0.0, 0.0],\n",
       "                {&quot;bubblingMouseEvents&quot;: true, &quot;color&quot;: &quot;red&quot;, &quot;dashArray&quot;: null, &quot;dashOffset&quot;: null, &quot;fill&quot;: true, &quot;fillColor&quot;: &quot;indigo&quot;, &quot;fillOpacity&quot;: 0.2, &quot;fillRule&quot;: &quot;evenodd&quot;, &quot;lineCap&quot;: &quot;round&quot;, &quot;lineJoin&quot;: &quot;round&quot;, &quot;opacity&quot;: 1.0, &quot;radius&quot;: 1000.0, &quot;stroke&quot;: true, &quot;weight&quot;: 3}\n",
       "            ).addTo(map_8de725e800d35d654a5b94e5a3721265);\n",
       "        \n",
       "    \n",
       "            circle_66ee8dabadf5431c2320d290d3f29bda.bindTooltip(\n",
       "                `&lt;div&gt;\n",
       "                     &lt;div style=&#x27;margin: 0; background-color: black; color: white;&#x27;&gt;&lt;h4 style=&#x27;text-align:center;font-weight: bold&#x27;&gt;Canada&lt;/h4&gt;&lt;hr style=&#x27;margin:10px;color: white;&#x27;&gt;&lt;ul style=&#x27;color: white;;list-style-type:circle;align-item:left;padding-left:20px;padding-right:20px&#x27;&gt;&lt;li&gt;Confirmed: 0&lt;/li&gt;&lt;li&gt;Deaths:   1&lt;/li&gt;&lt;li&gt;Death Rate: 100.0&lt;/li&gt;&lt;/ul&gt;&lt;/div&gt;\n",
       "                 &lt;/div&gt;`,\n",
       "                {&quot;sticky&quot;: true}\n",
       "            );\n",
       "        \n",
       "    \n",
       "            var circle_814fda12d2bfd29d087879f00fa2c44d = L.circle(\n",
       "                [0.0, 0.0],\n",
       "                {&quot;bubblingMouseEvents&quot;: true, &quot;color&quot;: &quot;red&quot;, &quot;dashArray&quot;: null, &quot;dashOffset&quot;: null, &quot;fill&quot;: true, &quot;fillColor&quot;: &quot;indigo&quot;, &quot;fillOpacity&quot;: 0.2, &quot;fillRule&quot;: &quot;evenodd&quot;, &quot;lineCap&quot;: &quot;round&quot;, &quot;lineJoin&quot;: &quot;round&quot;, &quot;opacity&quot;: 1.0, &quot;radius&quot;: 11000.0, &quot;stroke&quot;: true, &quot;weight&quot;: 3}\n",
       "            ).addTo(map_8de725e800d35d654a5b94e5a3721265);\n",
       "        \n",
       "    \n",
       "            circle_814fda12d2bfd29d087879f00fa2c44d.bindTooltip(\n",
       "                `&lt;div&gt;\n",
       "                     &lt;div style=&#x27;margin: 0; background-color: black; color: white;&#x27;&gt;&lt;h4 style=&#x27;text-align:center;font-weight: bold&#x27;&gt;Canada&lt;/h4&gt;&lt;hr style=&#x27;margin:10px;color: white;&#x27;&gt;&lt;ul style=&#x27;color: white;;list-style-type:circle;align-item:left;padding-left:20px;padding-right:20px&#x27;&gt;&lt;li&gt;Confirmed: 13&lt;/li&gt;&lt;li&gt;Deaths:   0&lt;/li&gt;&lt;li&gt;Death Rate: 0.0&lt;/li&gt;&lt;/ul&gt;&lt;/div&gt;\n",
       "                 &lt;/div&gt;`,\n",
       "                {&quot;sticky&quot;: true}\n",
       "            );\n",
       "        \n",
       "    \n",
       "            var circle_3dba0ae785d3f292fd9e7049a738da13 = L.circle(\n",
       "                [53.7609, -98.8139],\n",
       "                {&quot;bubblingMouseEvents&quot;: true, &quot;color&quot;: &quot;red&quot;, &quot;dashArray&quot;: null, &quot;dashOffset&quot;: null, &quot;fill&quot;: true, &quot;fillColor&quot;: &quot;indigo&quot;, &quot;fillOpacity&quot;: 0.2, &quot;fillRule&quot;: &quot;evenodd&quot;, &quot;lineCap&quot;: &quot;round&quot;, &quot;lineJoin&quot;: &quot;round&quot;, &quot;opacity&quot;: 1.0, &quot;radius&quot;: 56000.0, &quot;stroke&quot;: true, &quot;weight&quot;: 3}\n",
       "            ).addTo(map_8de725e800d35d654a5b94e5a3721265);\n",
       "        \n",
       "    \n",
       "            circle_3dba0ae785d3f292fd9e7049a738da13.bindTooltip(\n",
       "                `&lt;div&gt;\n",
       "                     &lt;div style=&#x27;margin: 0; background-color: black; color: white;&#x27;&gt;&lt;h4 style=&#x27;text-align:center;font-weight: bold&#x27;&gt;Canada&lt;/h4&gt;&lt;hr style=&#x27;margin:10px;color: white;&#x27;&gt;&lt;ul style=&#x27;color: white;;list-style-type:circle;align-item:left;padding-left:20px;padding-right:20px&#x27;&gt;&lt;li&gt;Confirmed: 143603&lt;/li&gt;&lt;li&gt;Deaths:   1913&lt;/li&gt;&lt;li&gt;Death Rate: 1.33&lt;/li&gt;&lt;/ul&gt;&lt;/div&gt;\n",
       "                 &lt;/div&gt;`,\n",
       "                {&quot;sticky&quot;: true}\n",
       "            );\n",
       "        \n",
       "    \n",
       "            var circle_d70b0ac22a77c15f0b91826f4a18eda7 = L.circle(\n",
       "                [46.5653, -66.4619],\n",
       "                {&quot;bubblingMouseEvents&quot;: true, &quot;color&quot;: &quot;red&quot;, &quot;dashArray&quot;: null, &quot;dashOffset&quot;: null, &quot;fill&quot;: true, &quot;fillColor&quot;: &quot;indigo&quot;, &quot;fillOpacity&quot;: 0.2, &quot;fillRule&quot;: &quot;evenodd&quot;, &quot;lineCap&quot;: &quot;round&quot;, &quot;lineJoin&quot;: &quot;round&quot;, &quot;opacity&quot;: 1.0, &quot;radius&quot;: 56000.0, &quot;stroke&quot;: true, &quot;weight&quot;: 3}\n",
       "            ).addTo(map_8de725e800d35d654a5b94e5a3721265);\n",
       "        \n",
       "    \n",
       "            circle_d70b0ac22a77c15f0b91826f4a18eda7.bindTooltip(\n",
       "                `&lt;div&gt;\n",
       "                     &lt;div style=&#x27;margin: 0; background-color: black; color: white;&#x27;&gt;&lt;h4 style=&#x27;text-align:center;font-weight: bold&#x27;&gt;Canada&lt;/h4&gt;&lt;hr style=&#x27;margin:10px;color: white;&#x27;&gt;&lt;ul style=&#x27;color: white;;list-style-type:circle;align-item:left;padding-left:20px;padding-right:20px&#x27;&gt;&lt;li&gt;Confirmed: 64490&lt;/li&gt;&lt;li&gt;Deaths:   411&lt;/li&gt;&lt;li&gt;Death Rate: 0.64&lt;/li&gt;&lt;/ul&gt;&lt;/div&gt;\n",
       "                 &lt;/div&gt;`,\n",
       "                {&quot;sticky&quot;: true}\n",
       "            );\n",
       "        \n",
       "    \n",
       "            var circle_9de0f9fde27c35d0dd62b9319721ffbb = L.circle(\n",
       "                [53.1355, -57.6604],\n",
       "                {&quot;bubblingMouseEvents&quot;: true, &quot;color&quot;: &quot;red&quot;, &quot;dashArray&quot;: null, &quot;dashOffset&quot;: null, &quot;fill&quot;: true, &quot;fillColor&quot;: &quot;indigo&quot;, &quot;fillOpacity&quot;: 0.2, &quot;fillRule&quot;: &quot;evenodd&quot;, &quot;lineCap&quot;: &quot;round&quot;, &quot;lineJoin&quot;: &quot;round&quot;, &quot;opacity&quot;: 1.0, &quot;radius&quot;: 51000.0, &quot;stroke&quot;: true, &quot;weight&quot;: 3}\n",
       "            ).addTo(map_8de725e800d35d654a5b94e5a3721265);\n",
       "        \n",
       "    \n",
       "            circle_9de0f9fde27c35d0dd62b9319721ffbb.bindTooltip(\n",
       "                `&lt;div&gt;\n",
       "                     &lt;div style=&#x27;margin: 0; background-color: black; color: white;&#x27;&gt;&lt;h4 style=&#x27;text-align:center;font-weight: bold&#x27;&gt;Canada&lt;/h4&gt;&lt;hr style=&#x27;margin:10px;color: white;&#x27;&gt;&lt;ul style=&#x27;color: white;;list-style-type:circle;align-item:left;padding-left:20px;padding-right:20px&#x27;&gt;&lt;li&gt;Confirmed: 45409&lt;/li&gt;&lt;li&gt;Deaths:   177&lt;/li&gt;&lt;li&gt;Death Rate: 0.39&lt;/li&gt;&lt;/ul&gt;&lt;/div&gt;\n",
       "                 &lt;/div&gt;`,\n",
       "                {&quot;sticky&quot;: true}\n",
       "            );\n",
       "        \n",
       "    \n",
       "            var circle_089a8dff5767f743a06f72377c0a8849 = L.circle(\n",
       "                [64.8255, -124.8457],\n",
       "                {&quot;bubblingMouseEvents&quot;: true, &quot;color&quot;: &quot;red&quot;, &quot;dashArray&quot;: null, &quot;dashOffset&quot;: null, &quot;fill&quot;: true, &quot;fillColor&quot;: &quot;indigo&quot;, &quot;fillOpacity&quot;: 0.2, &quot;fillRule&quot;: &quot;evenodd&quot;, &quot;lineCap&quot;: &quot;round&quot;, &quot;lineJoin&quot;: &quot;round&quot;, &quot;opacity&quot;: 1.0, &quot;radius&quot;: 46000.0, &quot;stroke&quot;: true, &quot;weight&quot;: 3}\n",
       "            ).addTo(map_8de725e800d35d654a5b94e5a3721265);\n",
       "        \n",
       "    \n",
       "            circle_089a8dff5767f743a06f72377c0a8849.bindTooltip(\n",
       "                `&lt;div&gt;\n",
       "                     &lt;div style=&#x27;margin: 0; background-color: black; color: white;&#x27;&gt;&lt;h4 style=&#x27;text-align:center;font-weight: bold&#x27;&gt;Canada&lt;/h4&gt;&lt;hr style=&#x27;margin:10px;color: white;&#x27;&gt;&lt;ul style=&#x27;color: white;;list-style-type:circle;align-item:left;padding-left:20px;padding-right:20px&#x27;&gt;&lt;li&gt;Confirmed: 12046&lt;/li&gt;&lt;li&gt;Deaths:   22&lt;/li&gt;&lt;li&gt;Death Rate: 0.18&lt;/li&gt;&lt;/ul&gt;&lt;/div&gt;\n",
       "                 &lt;/div&gt;`,\n",
       "                {&quot;sticky&quot;: true}\n",
       "            );\n",
       "        \n",
       "    \n",
       "            var circle_1a639a93e3512d4dc05909103fd5e92d = L.circle(\n",
       "                [44.682, -63.7443],\n",
       "                {&quot;bubblingMouseEvents&quot;: true, &quot;color&quot;: &quot;red&quot;, &quot;dashArray&quot;: null, &quot;dashOffset&quot;: null, &quot;fill&quot;: true, &quot;fillColor&quot;: &quot;indigo&quot;, &quot;fillOpacity&quot;: 0.2, &quot;fillRule&quot;: &quot;evenodd&quot;, &quot;lineCap&quot;: &quot;round&quot;, &quot;lineJoin&quot;: &quot;round&quot;, &quot;opacity&quot;: 1.0, &quot;radius&quot;: 56000.0, &quot;stroke&quot;: true, &quot;weight&quot;: 3}\n",
       "            ).addTo(map_8de725e800d35d654a5b94e5a3721265);\n",
       "        \n",
       "    \n",
       "            circle_1a639a93e3512d4dc05909103fd5e92d.bindTooltip(\n",
       "                `&lt;div&gt;\n",
       "                     &lt;div style=&#x27;margin: 0; background-color: black; color: white;&#x27;&gt;&lt;h4 style=&#x27;text-align:center;font-weight: bold&#x27;&gt;Canada&lt;/h4&gt;&lt;hr style=&#x27;margin:10px;color: white;&#x27;&gt;&lt;ul style=&#x27;color: white;;list-style-type:circle;align-item:left;padding-left:20px;padding-right:20px&#x27;&gt;&lt;li&gt;Confirmed: 94893&lt;/li&gt;&lt;li&gt;Deaths:   378&lt;/li&gt;&lt;li&gt;Death Rate: 0.4&lt;/li&gt;&lt;/ul&gt;&lt;/div&gt;\n",
       "                 &lt;/div&gt;`,\n",
       "                {&quot;sticky&quot;: true}\n",
       "            );\n",
       "        \n",
       "    \n",
       "            var circle_c286554ff6c55ffef5b07e3552a09832 = L.circle(\n",
       "                [70.2998, -83.1076],\n",
       "                {&quot;bubblingMouseEvents&quot;: true, &quot;color&quot;: &quot;red&quot;, &quot;dashArray&quot;: null, &quot;dashOffset&quot;: null, &quot;fill&quot;: true, &quot;fillColor&quot;: &quot;indigo&quot;, &quot;fillOpacity&quot;: 0.2, &quot;fillRule&quot;: &quot;evenodd&quot;, &quot;lineCap&quot;: &quot;round&quot;, &quot;lineJoin&quot;: &quot;round&quot;, &quot;opacity&quot;: 1.0, &quot;radius&quot;: 41000.0, &quot;stroke&quot;: true, &quot;weight&quot;: 3}\n",
       "            ).addTo(map_8de725e800d35d654a5b94e5a3721265);\n",
       "        \n",
       "    \n",
       "            circle_c286554ff6c55ffef5b07e3552a09832.bindTooltip(\n",
       "                `&lt;div&gt;\n",
       "                     &lt;div style=&#x27;margin: 0; background-color: black; color: white;&#x27;&gt;&lt;h4 style=&#x27;text-align:center;font-weight: bold&#x27;&gt;Canada&lt;/h4&gt;&lt;hr style=&#x27;margin:10px;color: white;&#x27;&gt;&lt;ul style=&#x27;color: white;;list-style-type:circle;align-item:left;padding-left:20px;padding-right:20px&#x27;&gt;&lt;li&gt;Confirmed: 3531&lt;/li&gt;&lt;li&gt;Deaths:   7&lt;/li&gt;&lt;li&gt;Death Rate: 0.2&lt;/li&gt;&lt;/ul&gt;&lt;/div&gt;\n",
       "                 &lt;/div&gt;`,\n",
       "                {&quot;sticky&quot;: true}\n",
       "            );\n",
       "        \n",
       "    \n",
       "            var circle_060d539b6e0c19a9b3c92d2a4d67bace = L.circle(\n",
       "                [51.2538, -85.3232],\n",
       "                {&quot;bubblingMouseEvents&quot;: true, &quot;color&quot;: &quot;red&quot;, &quot;dashArray&quot;: null, &quot;dashOffset&quot;: null, &quot;fill&quot;: true, &quot;fillColor&quot;: &quot;indigo&quot;, &quot;fillOpacity&quot;: 0.2, &quot;fillRule&quot;: &quot;evenodd&quot;, &quot;lineCap&quot;: &quot;round&quot;, &quot;lineJoin&quot;: &quot;round&quot;, &quot;opacity&quot;: 1.0, &quot;radius&quot;: 71000.0, &quot;stroke&quot;: true, &quot;weight&quot;: 3}\n",
       "            ).addTo(map_8de725e800d35d654a5b94e5a3721265);\n",
       "        \n",
       "    \n",
       "            circle_060d539b6e0c19a9b3c92d2a4d67bace.bindTooltip(\n",
       "                `&lt;div&gt;\n",
       "                     &lt;div style=&#x27;margin: 0; background-color: black; color: white;&#x27;&gt;&lt;h4 style=&#x27;text-align:center;font-weight: bold&#x27;&gt;Canada&lt;/h4&gt;&lt;hr style=&#x27;margin:10px;color: white;&#x27;&gt;&lt;ul style=&#x27;color: white;;list-style-type:circle;align-item:left;padding-left:20px;padding-right:20px&#x27;&gt;&lt;li&gt;Confirmed: 1312206&lt;/li&gt;&lt;li&gt;Deaths:   13207&lt;/li&gt;&lt;li&gt;Death Rate: 1.01&lt;/li&gt;&lt;/ul&gt;&lt;/div&gt;\n",
       "                 &lt;/div&gt;`,\n",
       "                {&quot;sticky&quot;: true}\n",
       "            );\n",
       "        \n",
       "    \n",
       "            var circle_9a9e6c4c4e6ba72a1d908f2346160aa9 = L.circle(\n",
       "                [46.5107, -63.4168],\n",
       "                {&quot;bubblingMouseEvents&quot;: true, &quot;color&quot;: &quot;red&quot;, &quot;dashArray&quot;: null, &quot;dashOffset&quot;: null, &quot;fill&quot;: true, &quot;fillColor&quot;: &quot;indigo&quot;, &quot;fillOpacity&quot;: 0.2, &quot;fillRule&quot;: &quot;evenodd&quot;, &quot;lineCap&quot;: &quot;round&quot;, &quot;lineJoin&quot;: &quot;round&quot;, &quot;opacity&quot;: 1.0, &quot;radius&quot;: 51000.0, &quot;stroke&quot;: true, &quot;weight&quot;: 3}\n",
       "            ).addTo(map_8de725e800d35d654a5b94e5a3721265);\n",
       "        \n",
       "    \n",
       "            circle_9a9e6c4c4e6ba72a1d908f2346160aa9.bindTooltip(\n",
       "                `&lt;div&gt;\n",
       "                     &lt;div style=&#x27;margin: 0; background-color: black; color: white;&#x27;&gt;&lt;h4 style=&#x27;text-align:center;font-weight: bold&#x27;&gt;Canada&lt;/h4&gt;&lt;hr style=&#x27;margin:10px;color: white;&#x27;&gt;&lt;ul style=&#x27;color: white;;list-style-type:circle;align-item:left;padding-left:20px;padding-right:20px&#x27;&gt;&lt;li&gt;Confirmed: 37578&lt;/li&gt;&lt;li&gt;Deaths:   33&lt;/li&gt;&lt;li&gt;Death Rate: 0.09&lt;/li&gt;&lt;/ul&gt;&lt;/div&gt;\n",
       "                 &lt;/div&gt;`,\n",
       "                {&quot;sticky&quot;: true}\n",
       "            );\n",
       "        \n",
       "    \n",
       "            var circle_365573905724c5be5430bfaeeca7ce45 = L.circle(\n",
       "                [52.9399, -73.5491],\n",
       "                {&quot;bubblingMouseEvents&quot;: true, &quot;color&quot;: &quot;red&quot;, &quot;dashArray&quot;: null, &quot;dashOffset&quot;: null, &quot;fill&quot;: true, &quot;fillColor&quot;: &quot;indigo&quot;, &quot;fillOpacity&quot;: 0.2, &quot;fillRule&quot;: &quot;evenodd&quot;, &quot;lineCap&quot;: &quot;round&quot;, &quot;lineJoin&quot;: &quot;round&quot;, &quot;opacity&quot;: 1.0, &quot;radius&quot;: 66000.0, &quot;stroke&quot;: true, &quot;weight&quot;: 3}\n",
       "            ).addTo(map_8de725e800d35d654a5b94e5a3721265);\n",
       "        \n",
       "    \n",
       "            circle_365573905724c5be5430bfaeeca7ce45.bindTooltip(\n",
       "                `&lt;div&gt;\n",
       "                     &lt;div style=&#x27;margin: 0; background-color: black; color: white;&#x27;&gt;&lt;h4 style=&#x27;text-align:center;font-weight: bold&#x27;&gt;Canada&lt;/h4&gt;&lt;hr style=&#x27;margin:10px;color: white;&#x27;&gt;&lt;ul style=&#x27;color: white;;list-style-type:circle;align-item:left;padding-left:20px;padding-right:20px&#x27;&gt;&lt;li&gt;Confirmed: 1062449&lt;/li&gt;&lt;li&gt;Deaths:   15357&lt;/li&gt;&lt;li&gt;Death Rate: 1.45&lt;/li&gt;&lt;/ul&gt;&lt;/div&gt;\n",
       "                 &lt;/div&gt;`,\n",
       "                {&quot;sticky&quot;: true}\n",
       "            );\n",
       "        \n",
       "    \n",
       "            var circle_9b1e847527f9d6bf428efcf1a9ebb9dd = L.circle(\n",
       "                [52.9399, -106.4509],\n",
       "                {&quot;bubblingMouseEvents&quot;: true, &quot;color&quot;: &quot;red&quot;, &quot;dashArray&quot;: null, &quot;dashOffset&quot;: null, &quot;fill&quot;: true, &quot;fillColor&quot;: &quot;indigo&quot;, &quot;fillOpacity&quot;: 0.2, &quot;fillRule&quot;: &quot;evenodd&quot;, &quot;lineCap&quot;: &quot;round&quot;, &quot;lineJoin&quot;: &quot;round&quot;, &quot;opacity&quot;: 1.0, &quot;radius&quot;: 56000.0, &quot;stroke&quot;: true, &quot;weight&quot;: 3}\n",
       "            ).addTo(map_8de725e800d35d654a5b94e5a3721265);\n",
       "        \n",
       "    \n",
       "            circle_9b1e847527f9d6bf428efcf1a9ebb9dd.bindTooltip(\n",
       "                `&lt;div&gt;\n",
       "                     &lt;div style=&#x27;margin: 0; background-color: black; color: white;&#x27;&gt;&lt;h4 style=&#x27;text-align:center;font-weight: bold&#x27;&gt;Canada&lt;/h4&gt;&lt;hr style=&#x27;margin:10px;color: white;&#x27;&gt;&lt;ul style=&#x27;color: white;;list-style-type:circle;align-item:left;padding-left:20px;padding-right:20px&#x27;&gt;&lt;li&gt;Confirmed: 137967&lt;/li&gt;&lt;li&gt;Deaths:   0&lt;/li&gt;&lt;li&gt;Death Rate: 0.0&lt;/li&gt;&lt;/ul&gt;&lt;/div&gt;\n",
       "                 &lt;/div&gt;`,\n",
       "                {&quot;sticky&quot;: true}\n",
       "            );\n",
       "        \n",
       "    \n",
       "            var circle_61d5c6a6897e08a4c86353707237c1d2 = L.circle(\n",
       "                [64.2823, -135.0],\n",
       "                {&quot;bubblingMouseEvents&quot;: true, &quot;color&quot;: &quot;red&quot;, &quot;dashArray&quot;: null, &quot;dashOffset&quot;: null, &quot;fill&quot;: true, &quot;fillColor&quot;: &quot;indigo&quot;, &quot;fillOpacity&quot;: 0.2, &quot;fillRule&quot;: &quot;evenodd&quot;, &quot;lineCap&quot;: &quot;round&quot;, &quot;lineJoin&quot;: &quot;round&quot;, &quot;opacity&quot;: 1.0, &quot;radius&quot;: 41000.0, &quot;stroke&quot;: true, &quot;weight&quot;: 3}\n",
       "            ).addTo(map_8de725e800d35d654a5b94e5a3721265);\n",
       "        \n",
       "    \n",
       "            circle_61d5c6a6897e08a4c86353707237c1d2.bindTooltip(\n",
       "                `&lt;div&gt;\n",
       "                     &lt;div style=&#x27;margin: 0; background-color: black; color: white;&#x27;&gt;&lt;h4 style=&#x27;text-align:center;font-weight: bold&#x27;&gt;Canada&lt;/h4&gt;&lt;hr style=&#x27;margin:10px;color: white;&#x27;&gt;&lt;ul style=&#x27;color: white;;list-style-type:circle;align-item:left;padding-left:20px;padding-right:20px&#x27;&gt;&lt;li&gt;Confirmed: 4363&lt;/li&gt;&lt;li&gt;Deaths:   1364&lt;/li&gt;&lt;li&gt;Death Rate: 31.26&lt;/li&gt;&lt;/ul&gt;&lt;/div&gt;\n",
       "                 &lt;/div&gt;`,\n",
       "                {&quot;sticky&quot;: true}\n",
       "            );\n",
       "        \n",
       "    \n",
       "            var circle_282a9683c6f7771b2339ba0a4266a174 = L.circle(\n",
       "                [6.6111, 20.9394],\n",
       "                {&quot;bubblingMouseEvents&quot;: true, &quot;color&quot;: &quot;red&quot;, &quot;dashArray&quot;: null, &quot;dashOffset&quot;: null, &quot;fill&quot;: true, &quot;fillColor&quot;: &quot;indigo&quot;, &quot;fillOpacity&quot;: 0.2, &quot;fillRule&quot;: &quot;evenodd&quot;, &quot;lineCap&quot;: &quot;round&quot;, &quot;lineJoin&quot;: &quot;round&quot;, &quot;opacity&quot;: 1.0, &quot;radius&quot;: 46000.0, &quot;stroke&quot;: true, &quot;weight&quot;: 3}\n",
       "            ).addTo(map_8de725e800d35d654a5b94e5a3721265);\n",
       "        \n",
       "    \n",
       "            circle_282a9683c6f7771b2339ba0a4266a174.bindTooltip(\n",
       "                `&lt;div&gt;\n",
       "                     &lt;div style=&#x27;margin: 0; background-color: black; color: white;&#x27;&gt;&lt;h4 style=&#x27;text-align:center;font-weight: bold&#x27;&gt;Central African Republic&lt;/h4&gt;&lt;hr style=&#x27;margin:10px;color: white;&#x27;&gt;&lt;ul style=&#x27;color: white;;list-style-type:circle;align-item:left;padding-left:20px;padding-right:20px&#x27;&gt;&lt;li&gt;Confirmed: 14649&lt;/li&gt;&lt;li&gt;Deaths:   25&lt;/li&gt;&lt;li&gt;Death Rate: 0.17&lt;/li&gt;&lt;/ul&gt;&lt;/div&gt;\n",
       "                 &lt;/div&gt;`,\n",
       "                {&quot;sticky&quot;: true}\n",
       "            );\n",
       "        \n",
       "    \n",
       "            var circle_1d9556bf17ceb6f73dd86f5bfe00ead5 = L.circle(\n",
       "                [15.4542, 18.7322],\n",
       "                {&quot;bubblingMouseEvents&quot;: true, &quot;color&quot;: &quot;red&quot;, &quot;dashArray&quot;: null, &quot;dashOffset&quot;: null, &quot;fill&quot;: true, &quot;fillColor&quot;: &quot;indigo&quot;, &quot;fillOpacity&quot;: 0.2, &quot;fillRule&quot;: &quot;evenodd&quot;, &quot;lineCap&quot;: &quot;round&quot;, &quot;lineJoin&quot;: &quot;round&quot;, &quot;opacity&quot;: 1.0, &quot;radius&quot;: 41000.0, &quot;stroke&quot;: true, &quot;weight&quot;: 3}\n",
       "            ).addTo(map_8de725e800d35d654a5b94e5a3721265);\n",
       "        \n",
       "    \n",
       "            circle_1d9556bf17ceb6f73dd86f5bfe00ead5.bindTooltip(\n",
       "                `&lt;div&gt;\n",
       "                     &lt;div style=&#x27;margin: 0; background-color: black; color: white;&#x27;&gt;&lt;h4 style=&#x27;text-align:center;font-weight: bold&#x27;&gt;Chad&lt;/h4&gt;&lt;hr style=&#x27;margin:10px;color: white;&#x27;&gt;&lt;ul style=&#x27;color: white;;list-style-type:circle;align-item:left;padding-left:20px;padding-right:20px&#x27;&gt;&lt;li&gt;Confirmed: 7417&lt;/li&gt;&lt;li&gt;Deaths:   113&lt;/li&gt;&lt;li&gt;Death Rate: 1.52&lt;/li&gt;&lt;/ul&gt;&lt;/div&gt;\n",
       "                 &lt;/div&gt;`,\n",
       "                {&quot;sticky&quot;: true}\n",
       "            );\n",
       "        \n",
       "    \n",
       "            var circle_6ab4890b68d7652be19c386be4d42c5b = L.circle(\n",
       "                [-35.6751, -71.543],\n",
       "                {&quot;bubblingMouseEvents&quot;: true, &quot;color&quot;: &quot;red&quot;, &quot;dashArray&quot;: null, &quot;dashOffset&quot;: null, &quot;fill&quot;: true, &quot;fillColor&quot;: &quot;indigo&quot;, &quot;fillOpacity&quot;: 0.2, &quot;fillRule&quot;: &quot;evenodd&quot;, &quot;lineCap&quot;: &quot;round&quot;, &quot;lineJoin&quot;: &quot;round&quot;, &quot;opacity&quot;: 1.0, &quot;radius&quot;: 76000.0, &quot;stroke&quot;: true, &quot;weight&quot;: 3}\n",
       "            ).addTo(map_8de725e800d35d654a5b94e5a3721265);\n",
       "        \n",
       "    \n",
       "            circle_6ab4890b68d7652be19c386be4d42c5b.bindTooltip(\n",
       "                `&lt;div&gt;\n",
       "                     &lt;div style=&#x27;margin: 0; background-color: black; color: white;&#x27;&gt;&lt;h4 style=&#x27;text-align:center;font-weight: bold&#x27;&gt;Chile&lt;/h4&gt;&lt;hr style=&#x27;margin:10px;color: white;&#x27;&gt;&lt;ul style=&#x27;color: white;;list-style-type:circle;align-item:left;padding-left:20px;padding-right:20px&#x27;&gt;&lt;li&gt;Confirmed: 3651076&lt;/li&gt;&lt;li&gt;Deaths:   193&lt;/li&gt;&lt;li&gt;Death Rate: 0.01&lt;/li&gt;&lt;/ul&gt;&lt;/div&gt;\n",
       "                 &lt;/div&gt;`,\n",
       "                {&quot;sticky&quot;: true}\n",
       "            );\n",
       "        \n",
       "    \n",
       "            var circle_e03639f108a3f18a34a0a0d7af9e994e = L.circle(\n",
       "                [31.8257, 117.2264],\n",
       "                {&quot;bubblingMouseEvents&quot;: true, &quot;color&quot;: &quot;red&quot;, &quot;dashArray&quot;: null, &quot;dashOffset&quot;: null, &quot;fill&quot;: true, &quot;fillColor&quot;: &quot;indigo&quot;, &quot;fillOpacity&quot;: 0.2, &quot;fillRule&quot;: &quot;evenodd&quot;, &quot;lineCap&quot;: &quot;round&quot;, &quot;lineJoin&quot;: &quot;round&quot;, &quot;opacity&quot;: 1.0, &quot;radius&quot;: 31000.0, &quot;stroke&quot;: true, &quot;weight&quot;: 3}\n",
       "            ).addTo(map_8de725e800d35d654a5b94e5a3721265);\n",
       "        \n",
       "    \n",
       "            circle_e03639f108a3f18a34a0a0d7af9e994e.bindTooltip(\n",
       "                `&lt;div&gt;\n",
       "                     &lt;div style=&#x27;margin: 0; background-color: black; color: white;&#x27;&gt;&lt;h4 style=&#x27;text-align:center;font-weight: bold&#x27;&gt;China&lt;/h4&gt;&lt;hr style=&#x27;margin:10px;color: white;&#x27;&gt;&lt;ul style=&#x27;color: white;;list-style-type:circle;align-item:left;padding-left:20px;padding-right:20px&#x27;&gt;&lt;li&gt;Confirmed: 1065&lt;/li&gt;&lt;li&gt;Deaths:   57813&lt;/li&gt;&lt;li&gt;Death Rate: 5423.36&lt;/li&gt;&lt;/ul&gt;&lt;/div&gt;\n",
       "                 &lt;/div&gt;`,\n",
       "                {&quot;sticky&quot;: true}\n",
       "            );\n",
       "        \n",
       "    \n",
       "            var circle_26f238a0c5e79498129c161d3bf82771 = L.circle(\n",
       "                [40.1824, 116.4142],\n",
       "                {&quot;bubblingMouseEvents&quot;: true, &quot;color&quot;: &quot;red&quot;, &quot;dashArray&quot;: null, &quot;dashOffset&quot;: null, &quot;fill&quot;: true, &quot;fillColor&quot;: &quot;indigo&quot;, &quot;fillOpacity&quot;: 0.2, &quot;fillRule&quot;: &quot;evenodd&quot;, &quot;lineCap&quot;: &quot;round&quot;, &quot;lineJoin&quot;: &quot;round&quot;, &quot;opacity&quot;: 1.0, &quot;radius&quot;: 41000.0, &quot;stroke&quot;: true, &quot;weight&quot;: 3}\n",
       "            ).addTo(map_8de725e800d35d654a5b94e5a3721265);\n",
       "        \n",
       "    \n",
       "            circle_26f238a0c5e79498129c161d3bf82771.bindTooltip(\n",
       "                `&lt;div&gt;\n",
       "                     &lt;div style=&#x27;margin: 0; background-color: black; color: white;&#x27;&gt;&lt;h4 style=&#x27;text-align:center;font-weight: bold&#x27;&gt;China&lt;/h4&gt;&lt;hr style=&#x27;margin:10px;color: white;&#x27;&gt;&lt;ul style=&#x27;color: white;;list-style-type:circle;align-item:left;padding-left:20px;padding-right:20px&#x27;&gt;&lt;li&gt;Confirmed: 3250&lt;/li&gt;&lt;li&gt;Deaths:   6&lt;/li&gt;&lt;li&gt;Death Rate: 0.18&lt;/li&gt;&lt;/ul&gt;&lt;/div&gt;\n",
       "                 &lt;/div&gt;`,\n",
       "                {&quot;sticky&quot;: true}\n",
       "            );\n",
       "        \n",
       "    \n",
       "            var circle_f1b6935e8def33fc445e494d1a6036a7 = L.circle(\n",
       "                [30.0572, 107.874],\n",
       "                {&quot;bubblingMouseEvents&quot;: true, &quot;color&quot;: &quot;red&quot;, &quot;dashArray&quot;: null, &quot;dashOffset&quot;: null, &quot;fill&quot;: true, &quot;fillColor&quot;: &quot;indigo&quot;, &quot;fillOpacity&quot;: 0.2, &quot;fillRule&quot;: &quot;evenodd&quot;, &quot;lineCap&quot;: &quot;round&quot;, &quot;lineJoin&quot;: &quot;round&quot;, &quot;opacity&quot;: 1.0, &quot;radius&quot;: 31000.0, &quot;stroke&quot;: true, &quot;weight&quot;: 3}\n",
       "            ).addTo(map_8de725e800d35d654a5b94e5a3721265);\n",
       "        \n",
       "    \n",
       "            circle_f1b6935e8def33fc445e494d1a6036a7.bindTooltip(\n",
       "                `&lt;div&gt;\n",
       "                     &lt;div style=&#x27;margin: 0; background-color: black; color: white;&#x27;&gt;&lt;h4 style=&#x27;text-align:center;font-weight: bold&#x27;&gt;China&lt;/h4&gt;&lt;hr style=&#x27;margin:10px;color: white;&#x27;&gt;&lt;ul style=&#x27;color: white;;list-style-type:circle;align-item:left;padding-left:20px;padding-right:20px&#x27;&gt;&lt;li&gt;Confirmed: 709&lt;/li&gt;&lt;li&gt;Deaths:   9&lt;/li&gt;&lt;li&gt;Death Rate: 1.27&lt;/li&gt;&lt;/ul&gt;&lt;/div&gt;\n",
       "                 &lt;/div&gt;`,\n",
       "                {&quot;sticky&quot;: true}\n",
       "            );\n",
       "        \n",
       "    \n",
       "            var circle_28dff7ba0bbe36938e7525dd42528162 = L.circle(\n",
       "                [26.0789, 117.9874],\n",
       "                {&quot;bubblingMouseEvents&quot;: true, &quot;color&quot;: &quot;red&quot;, &quot;dashArray&quot;: null, &quot;dashOffset&quot;: null, &quot;fill&quot;: true, &quot;fillColor&quot;: &quot;indigo&quot;, &quot;fillOpacity&quot;: 0.2, &quot;fillRule&quot;: &quot;evenodd&quot;, &quot;lineCap&quot;: &quot;round&quot;, &quot;lineJoin&quot;: &quot;round&quot;, &quot;opacity&quot;: 1.0, &quot;radius&quot;: 41000.0, &quot;stroke&quot;: true, &quot;weight&quot;: 3}\n",
       "            ).addTo(map_8de725e800d35d654a5b94e5a3721265);\n",
       "        \n",
       "    \n",
       "            circle_28dff7ba0bbe36938e7525dd42528162.bindTooltip(\n",
       "                `&lt;div&gt;\n",
       "                     &lt;div style=&#x27;margin: 0; background-color: black; color: white;&#x27;&gt;&lt;h4 style=&#x27;text-align:center;font-weight: bold&#x27;&gt;China&lt;/h4&gt;&lt;hr style=&#x27;margin:10px;color: white;&#x27;&gt;&lt;ul style=&#x27;color: white;;list-style-type:circle;align-item:left;padding-left:20px;padding-right:20px&#x27;&gt;&lt;li&gt;Confirmed: 3201&lt;/li&gt;&lt;li&gt;Deaths:   6&lt;/li&gt;&lt;li&gt;Death Rate: 0.19&lt;/li&gt;&lt;/ul&gt;&lt;/div&gt;\n",
       "                 &lt;/div&gt;`,\n",
       "                {&quot;sticky&quot;: true}\n",
       "            );\n",
       "        \n",
       "    \n",
       "            var circle_6dee29278c377d43f3d3d664fd5bc9dd = L.circle(\n",
       "                [35.7518, 104.2861],\n",
       "                {&quot;bubblingMouseEvents&quot;: true, &quot;color&quot;: &quot;red&quot;, &quot;dashArray&quot;: null, &quot;dashOffset&quot;: null, &quot;fill&quot;: true, &quot;fillColor&quot;: &quot;indigo&quot;, &quot;fillOpacity&quot;: 0.2, &quot;fillRule&quot;: &quot;evenodd&quot;, &quot;lineCap&quot;: &quot;round&quot;, &quot;lineJoin&quot;: &quot;round&quot;, &quot;opacity&quot;: 1.0, &quot;radius&quot;: 31000.0, &quot;stroke&quot;: true, &quot;weight&quot;: 3}\n",
       "            ).addTo(map_8de725e800d35d654a5b94e5a3721265);\n",
       "        \n",
       "    \n",
       "            circle_6dee29278c377d43f3d3d664fd5bc9dd.bindTooltip(\n",
       "                `&lt;div&gt;\n",
       "                     &lt;div style=&#x27;margin: 0; background-color: black; color: white;&#x27;&gt;&lt;h4 style=&#x27;text-align:center;font-weight: bold&#x27;&gt;China&lt;/h4&gt;&lt;hr style=&#x27;margin:10px;color: white;&#x27;&gt;&lt;ul style=&#x27;color: white;;list-style-type:circle;align-item:left;padding-left:20px;padding-right:20px&#x27;&gt;&lt;li&gt;Confirmed: 681&lt;/li&gt;&lt;li&gt;Deaths:   1&lt;/li&gt;&lt;li&gt;Death Rate: 0.15&lt;/li&gt;&lt;/ul&gt;&lt;/div&gt;\n",
       "                 &lt;/div&gt;`,\n",
       "                {&quot;sticky&quot;: true}\n",
       "            );\n",
       "        \n",
       "    \n",
       "            var circle_3d30b4d2434fd7eda98683ecd5597313 = L.circle(\n",
       "                [23.3417, 113.4244],\n",
       "                {&quot;bubblingMouseEvents&quot;: true, &quot;color&quot;: &quot;red&quot;, &quot;dashArray&quot;: null, &quot;dashOffset&quot;: null, &quot;fill&quot;: true, &quot;fillColor&quot;: &quot;indigo&quot;, &quot;fillOpacity&quot;: 0.2, &quot;fillRule&quot;: &quot;evenodd&quot;, &quot;lineCap&quot;: &quot;round&quot;, &quot;lineJoin&quot;: &quot;round&quot;, &quot;opacity&quot;: 1.0, &quot;radius&quot;: 41000.0, &quot;stroke&quot;: true, &quot;weight&quot;: 3}\n",
       "            ).addTo(map_8de725e800d35d654a5b94e5a3721265);\n",
       "        \n",
       "    \n",
       "            circle_3d30b4d2434fd7eda98683ecd5597313.bindTooltip(\n",
       "                `&lt;div&gt;\n",
       "                     &lt;div style=&#x27;margin: 0; background-color: black; color: white;&#x27;&gt;&lt;h4 style=&#x27;text-align:center;font-weight: bold&#x27;&gt;China&lt;/h4&gt;&lt;hr style=&#x27;margin:10px;color: white;&#x27;&gt;&lt;ul style=&#x27;color: white;;list-style-type:circle;align-item:left;padding-left:20px;padding-right:20px&#x27;&gt;&lt;li&gt;Confirmed: 7284&lt;/li&gt;&lt;li&gt;Deaths:   2&lt;/li&gt;&lt;li&gt;Death Rate: 0.03&lt;/li&gt;&lt;/ul&gt;&lt;/div&gt;\n",
       "                 &lt;/div&gt;`,\n",
       "                {&quot;sticky&quot;: true}\n",
       "            );\n",
       "        \n",
       "    \n",
       "            var circle_dde394db57de3602b41e284309b769b6 = L.circle(\n",
       "                [23.8298, 108.7881],\n",
       "                {&quot;bubblingMouseEvents&quot;: true, &quot;color&quot;: &quot;red&quot;, &quot;dashArray&quot;: null, &quot;dashOffset&quot;: null, &quot;fill&quot;: true, &quot;fillColor&quot;: &quot;indigo&quot;, &quot;fillOpacity&quot;: 0.2, &quot;fillRule&quot;: &quot;evenodd&quot;, &quot;lineCap&quot;: &quot;round&quot;, &quot;lineJoin&quot;: &quot;round&quot;, &quot;opacity&quot;: 1.0, &quot;radius&quot;: 36000.0, &quot;stroke&quot;: true, &quot;weight&quot;: 3}\n",
       "            ).addTo(map_8de725e800d35d654a5b94e5a3721265);\n",
       "        \n",
       "    \n",
       "            circle_dde394db57de3602b41e284309b769b6.bindTooltip(\n",
       "                `&lt;div&gt;\n",
       "                     &lt;div style=&#x27;margin: 0; background-color: black; color: white;&#x27;&gt;&lt;h4 style=&#x27;text-align:center;font-weight: bold&#x27;&gt;China&lt;/h4&gt;&lt;hr style=&#x27;margin:10px;color: white;&#x27;&gt;&lt;ul style=&#x27;color: white;;list-style-type:circle;align-item:left;padding-left:20px;padding-right:20px&#x27;&gt;&lt;li&gt;Confirmed: 1621&lt;/li&gt;&lt;li&gt;Deaths:   8&lt;/li&gt;&lt;li&gt;Death Rate: 0.49&lt;/li&gt;&lt;/ul&gt;&lt;/div&gt;\n",
       "                 &lt;/div&gt;`,\n",
       "                {&quot;sticky&quot;: true}\n",
       "            );\n",
       "        \n",
       "    \n",
       "            var circle_bcef434cbcc21e57713bbabffc2f136e = L.circle(\n",
       "                [26.8154, 106.8748],\n",
       "                {&quot;bubblingMouseEvents&quot;: true, &quot;color&quot;: &quot;red&quot;, &quot;dashArray&quot;: null, &quot;dashOffset&quot;: null, &quot;fill&quot;: true, &quot;fillColor&quot;: &quot;indigo&quot;, &quot;fillOpacity&quot;: 0.2, &quot;fillRule&quot;: &quot;evenodd&quot;, &quot;lineCap&quot;: &quot;round&quot;, &quot;lineJoin&quot;: &quot;round&quot;, &quot;opacity&quot;: 1.0, &quot;radius&quot;: 26000.0, &quot;stroke&quot;: true, &quot;weight&quot;: 3}\n",
       "            ).addTo(map_8de725e800d35d654a5b94e5a3721265);\n",
       "        \n",
       "    \n",
       "            circle_bcef434cbcc21e57713bbabffc2f136e.bindTooltip(\n",
       "                `&lt;div&gt;\n",
       "                     &lt;div style=&#x27;margin: 0; background-color: black; color: white;&#x27;&gt;&lt;h4 style=&#x27;text-align:center;font-weight: bold&#x27;&gt;China&lt;/h4&gt;&lt;hr style=&#x27;margin:10px;color: white;&#x27;&gt;&lt;ul style=&#x27;color: white;;list-style-type:circle;align-item:left;padding-left:20px;padding-right:20px&#x27;&gt;&lt;li&gt;Confirmed: 185&lt;/li&gt;&lt;li&gt;Deaths:   2&lt;/li&gt;&lt;li&gt;Death Rate: 1.08&lt;/li&gt;&lt;/ul&gt;&lt;/div&gt;\n",
       "                 &lt;/div&gt;`,\n",
       "                {&quot;sticky&quot;: true}\n",
       "            );\n",
       "        \n",
       "    \n",
       "            var circle_ee55e81cd848b0caba72e696e46b8379 = L.circle(\n",
       "                [19.1959, 109.7453],\n",
       "                {&quot;bubblingMouseEvents&quot;: true, &quot;color&quot;: &quot;red&quot;, &quot;dashArray&quot;: null, &quot;dashOffset&quot;: null, &quot;fill&quot;: true, &quot;fillColor&quot;: &quot;indigo&quot;, &quot;fillOpacity&quot;: 0.2, &quot;fillRule&quot;: &quot;evenodd&quot;, &quot;lineCap&quot;: &quot;round&quot;, &quot;lineJoin&quot;: &quot;round&quot;, &quot;opacity&quot;: 1.0, &quot;radius&quot;: 26000.0, &quot;stroke&quot;: true, &quot;weight&quot;: 3}\n",
       "            ).addTo(map_8de725e800d35d654a5b94e5a3721265);\n",
       "        \n",
       "    \n",
       "            circle_ee55e81cd848b0caba72e696e46b8379.bindTooltip(\n",
       "                `&lt;div&gt;\n",
       "                     &lt;div style=&#x27;margin: 0; background-color: black; color: white;&#x27;&gt;&lt;h4 style=&#x27;text-align:center;font-weight: bold&#x27;&gt;China&lt;/h4&gt;&lt;hr style=&#x27;margin:10px;color: white;&#x27;&gt;&lt;ul style=&#x27;color: white;;list-style-type:circle;align-item:left;padding-left:20px;padding-right:20px&#x27;&gt;&lt;li&gt;Confirmed: 288&lt;/li&gt;&lt;li&gt;Deaths:   2&lt;/li&gt;&lt;li&gt;Death Rate: 0.69&lt;/li&gt;&lt;/ul&gt;&lt;/div&gt;\n",
       "                 &lt;/div&gt;`,\n",
       "                {&quot;sticky&quot;: true}\n",
       "            );\n",
       "        \n",
       "    \n",
       "            var circle_f0aa02a229feb4093f832dee4d0a120c = L.circle(\n",
       "                [39.549, 116.1306],\n",
       "                {&quot;bubblingMouseEvents&quot;: true, &quot;color&quot;: &quot;red&quot;, &quot;dashArray&quot;: null, &quot;dashOffset&quot;: null, &quot;fill&quot;: true, &quot;fillColor&quot;: &quot;indigo&quot;, &quot;fillOpacity&quot;: 0.2, &quot;fillRule&quot;: &quot;evenodd&quot;, &quot;lineCap&quot;: &quot;round&quot;, &quot;lineJoin&quot;: &quot;round&quot;, &quot;opacity&quot;: 1.0, &quot;radius&quot;: 36000.0, &quot;stroke&quot;: true, &quot;weight&quot;: 3}\n",
       "            ).addTo(map_8de725e800d35d654a5b94e5a3721265);\n",
       "        \n",
       "    \n",
       "            circle_f0aa02a229feb4093f832dee4d0a120c.bindTooltip(\n",
       "                `&lt;div&gt;\n",
       "                     &lt;div style=&#x27;margin: 0; background-color: black; color: white;&#x27;&gt;&lt;h4 style=&#x27;text-align:center;font-weight: bold&#x27;&gt;China&lt;/h4&gt;&lt;hr style=&#x27;margin:10px;color: white;&#x27;&gt;&lt;ul style=&#x27;color: white;;list-style-type:circle;align-item:left;padding-left:20px;padding-right:20px&#x27;&gt;&lt;li&gt;Confirmed: 2004&lt;/li&gt;&lt;li&gt;Deaths:   6&lt;/li&gt;&lt;li&gt;Death Rate: 0.3&lt;/li&gt;&lt;/ul&gt;&lt;/div&gt;\n",
       "                 &lt;/div&gt;`,\n",
       "                {&quot;sticky&quot;: true}\n",
       "            );\n",
       "        \n",
       "    \n",
       "            var circle_e328e324fcbc20bdaf73f25d59856ca9 = L.circle(\n",
       "                [47.862, 127.7615],\n",
       "                {&quot;bubblingMouseEvents&quot;: true, &quot;color&quot;: &quot;red&quot;, &quot;dashArray&quot;: null, &quot;dashOffset&quot;: null, &quot;fill&quot;: true, &quot;fillColor&quot;: &quot;indigo&quot;, &quot;fillOpacity&quot;: 0.2, &quot;fillRule&quot;: &quot;evenodd&quot;, &quot;lineCap&quot;: &quot;round&quot;, &quot;lineJoin&quot;: &quot;round&quot;, &quot;opacity&quot;: 1.0, &quot;radius&quot;: 41000.0, &quot;stroke&quot;: true, &quot;weight&quot;: 3}\n",
       "            ).addTo(map_8de725e800d35d654a5b94e5a3721265);\n",
       "        \n",
       "    \n",
       "            circle_e328e324fcbc20bdaf73f25d59856ca9.bindTooltip(\n",
       "                `&lt;div&gt;\n",
       "                     &lt;div style=&#x27;margin: 0; background-color: black; color: white;&#x27;&gt;&lt;h4 style=&#x27;text-align:center;font-weight: bold&#x27;&gt;China&lt;/h4&gt;&lt;hr style=&#x27;margin:10px;color: white;&#x27;&gt;&lt;ul style=&#x27;color: white;;list-style-type:circle;align-item:left;padding-left:20px;padding-right:20px&#x27;&gt;&lt;li&gt;Confirmed: 2983&lt;/li&gt;&lt;li&gt;Deaths:   7&lt;/li&gt;&lt;li&gt;Death Rate: 0.23&lt;/li&gt;&lt;/ul&gt;&lt;/div&gt;\n",
       "                 &lt;/div&gt;`,\n",
       "                {&quot;sticky&quot;: true}\n",
       "            );\n",
       "        \n",
       "    \n",
       "            var circle_02b7f1ba442ef23b176f5192d737241d = L.circle(\n",
       "                [37.8957, 114.9042],\n",
       "                {&quot;bubblingMouseEvents&quot;: true, &quot;color&quot;: &quot;red&quot;, &quot;dashArray&quot;: null, &quot;dashOffset&quot;: null, &quot;fill&quot;: true, &quot;fillColor&quot;: &quot;indigo&quot;, &quot;fillOpacity&quot;: 0.2, &quot;fillRule&quot;: &quot;evenodd&quot;, &quot;lineCap&quot;: &quot;round&quot;, &quot;lineJoin&quot;: &quot;round&quot;, &quot;opacity&quot;: 1.0, &quot;radius&quot;: 41000.0, &quot;stroke&quot;: true, &quot;weight&quot;: 3}\n",
       "            ).addTo(map_8de725e800d35d654a5b94e5a3721265);\n",
       "        \n",
       "    \n",
       "            circle_02b7f1ba442ef23b176f5192d737241d.bindTooltip(\n",
       "                `&lt;div&gt;\n",
       "                     &lt;div style=&#x27;margin: 0; background-color: black; color: white;&#x27;&gt;&lt;h4 style=&#x27;text-align:center;font-weight: bold&#x27;&gt;China&lt;/h4&gt;&lt;hr style=&#x27;margin:10px;color: white;&#x27;&gt;&lt;ul style=&#x27;color: white;;list-style-type:circle;align-item:left;padding-left:20px;padding-right:20px&#x27;&gt;&lt;li&gt;Confirmed: 3165&lt;/li&gt;&lt;li&gt;Deaths:   13&lt;/li&gt;&lt;li&gt;Death Rate: 0.41&lt;/li&gt;&lt;/ul&gt;&lt;/div&gt;\n",
       "                 &lt;/div&gt;`,\n",
       "                {&quot;sticky&quot;: true}\n",
       "            );\n",
       "        \n",
       "    \n",
       "            var circle_a3cf5d21d0ecd0852c82c31feb83c324 = L.circle(\n",
       "                [22.3, 114.2],\n",
       "                {&quot;bubblingMouseEvents&quot;: true, &quot;color&quot;: &quot;red&quot;, &quot;dashArray&quot;: null, &quot;dashOffset&quot;: null, &quot;fill&quot;: true, &quot;fillColor&quot;: &quot;indigo&quot;, &quot;fillOpacity&quot;: 0.2, &quot;fillRule&quot;: &quot;evenodd&quot;, &quot;lineCap&quot;: &quot;round&quot;, &quot;lineJoin&quot;: &quot;round&quot;, &quot;opacity&quot;: 1.0, &quot;radius&quot;: 71000.0, &quot;stroke&quot;: true, &quot;weight&quot;: 3}\n",
       "            ).addTo(map_8de725e800d35d654a5b94e5a3721265);\n",
       "        \n",
       "    \n",
       "            circle_a3cf5d21d0ecd0852c82c31feb83c324.bindTooltip(\n",
       "                `&lt;div&gt;\n",
       "                     &lt;div style=&#x27;margin: 0; background-color: black; color: white;&#x27;&gt;&lt;h4 style=&#x27;text-align:center;font-weight: bold&#x27;&gt;China&lt;/h4&gt;&lt;hr style=&#x27;margin:10px;color: white;&#x27;&gt;&lt;ul style=&#x27;color: white;;list-style-type:circle;align-item:left;padding-left:20px;padding-right:20px&#x27;&gt;&lt;li&gt;Confirmed: 1210836&lt;/li&gt;&lt;li&gt;Deaths:   22&lt;/li&gt;&lt;li&gt;Death Rate: 0.0&lt;/li&gt;&lt;/ul&gt;&lt;/div&gt;\n",
       "                 &lt;/div&gt;`,\n",
       "                {&quot;sticky&quot;: true}\n",
       "            );\n",
       "        \n",
       "    \n",
       "            var circle_5cd0a11dc6b06cd18ac477b1fb9065cc = L.circle(\n",
       "                [30.9756, 112.2707],\n",
       "                {&quot;bubblingMouseEvents&quot;: true, &quot;color&quot;: &quot;red&quot;, &quot;dashArray&quot;: null, &quot;dashOffset&quot;: null, &quot;fill&quot;: true, &quot;fillColor&quot;: &quot;indigo&quot;, &quot;fillOpacity&quot;: 0.2, &quot;fillRule&quot;: &quot;evenodd&quot;, &quot;lineCap&quot;: &quot;round&quot;, &quot;lineJoin&quot;: &quot;round&quot;, &quot;opacity&quot;: 1.0, &quot;radius&quot;: 56000.0, &quot;stroke&quot;: true, &quot;weight&quot;: 3}\n",
       "            ).addTo(map_8de725e800d35d654a5b94e5a3721265);\n",
       "        \n",
       "    \n",
       "            circle_5cd0a11dc6b06cd18ac477b1fb9065cc.bindTooltip(\n",
       "                `&lt;div&gt;\n",
       "                     &lt;div style=&#x27;margin: 0; background-color: black; color: white;&#x27;&gt;&lt;h4 style=&#x27;text-align:center;font-weight: bold&#x27;&gt;China&lt;/h4&gt;&lt;hr style=&#x27;margin:10px;color: white;&#x27;&gt;&lt;ul style=&#x27;color: white;;list-style-type:circle;align-item:left;padding-left:20px;padding-right:20px&#x27;&gt;&lt;li&gt;Confirmed: 68398&lt;/li&gt;&lt;li&gt;Deaths:   9370&lt;/li&gt;&lt;li&gt;Death Rate: 13.7&lt;/li&gt;&lt;/ul&gt;&lt;/div&gt;\n",
       "                 &lt;/div&gt;`,\n",
       "                {&quot;sticky&quot;: true}\n",
       "            );\n",
       "        \n",
       "    \n",
       "            var circle_822e9390689714165bc134434e58d488 = L.circle(\n",
       "                [27.6104, 111.7088],\n",
       "                {&quot;bubblingMouseEvents&quot;: true, &quot;color&quot;: &quot;red&quot;, &quot;dashArray&quot;: null, &quot;dashOffset&quot;: null, &quot;fill&quot;: true, &quot;fillColor&quot;: &quot;indigo&quot;, &quot;fillOpacity&quot;: 0.2, &quot;fillRule&quot;: &quot;evenodd&quot;, &quot;lineCap&quot;: &quot;round&quot;, &quot;lineJoin&quot;: &quot;round&quot;, &quot;opacity&quot;: 1.0, &quot;radius&quot;: 36000.0, &quot;stroke&quot;: true, &quot;weight&quot;: 3}\n",
       "            ).addTo(map_8de725e800d35d654a5b94e5a3721265);\n",
       "        \n",
       "    \n",
       "            circle_822e9390689714165bc134434e58d488.bindTooltip(\n",
       "                `&lt;div&gt;\n",
       "                     &lt;div style=&#x27;margin: 0; background-color: black; color: white;&#x27;&gt;&lt;h4 style=&#x27;text-align:center;font-weight: bold&#x27;&gt;China&lt;/h4&gt;&lt;hr style=&#x27;margin:10px;color: white;&#x27;&gt;&lt;ul style=&#x27;color: white;;list-style-type:circle;align-item:left;padding-left:20px;padding-right:20px&#x27;&gt;&lt;li&gt;Confirmed: 1393&lt;/li&gt;&lt;li&gt;Deaths:   4512&lt;/li&gt;&lt;li&gt;Death Rate: 323.67&lt;/li&gt;&lt;/ul&gt;&lt;/div&gt;\n",
       "                 &lt;/div&gt;`,\n",
       "                {&quot;sticky&quot;: true}\n",
       "            );\n",
       "        \n",
       "    \n",
       "            var circle_4f8facc8c58cba84fbb71ec421ceb0cf = L.circle(\n",
       "                [44.0935, 113.9448],\n",
       "                {&quot;bubblingMouseEvents&quot;: true, &quot;color&quot;: &quot;red&quot;, &quot;dashArray&quot;: null, &quot;dashOffset&quot;: null, &quot;fill&quot;: true, &quot;fillColor&quot;: &quot;indigo&quot;, &quot;fillOpacity&quot;: 0.2, &quot;fillRule&quot;: &quot;evenodd&quot;, &quot;lineCap&quot;: &quot;round&quot;, &quot;lineJoin&quot;: &quot;round&quot;, &quot;opacity&quot;: 1.0, &quot;radius&quot;: 36000.0, &quot;stroke&quot;: true, &quot;weight&quot;: 3}\n",
       "            ).addTo(map_8de725e800d35d654a5b94e5a3721265);\n",
       "        \n",
       "    \n",
       "            circle_4f8facc8c58cba84fbb71ec421ceb0cf.bindTooltip(\n",
       "                `&lt;div&gt;\n",
       "                     &lt;div style=&#x27;margin: 0; background-color: black; color: white;&#x27;&gt;&lt;h4 style=&#x27;text-align:center;font-weight: bold&#x27;&gt;China&lt;/h4&gt;&lt;hr style=&#x27;margin:10px;color: white;&#x27;&gt;&lt;ul style=&#x27;color: white;;list-style-type:circle;align-item:left;padding-left:20px;padding-right:20px&#x27;&gt;&lt;li&gt;Confirmed: 1753&lt;/li&gt;&lt;li&gt;Deaths:   4&lt;/li&gt;&lt;li&gt;Death Rate: 0.23&lt;/li&gt;&lt;/ul&gt;&lt;/div&gt;\n",
       "                 &lt;/div&gt;`,\n",
       "                {&quot;sticky&quot;: true}\n",
       "            );\n",
       "        \n",
       "    \n",
       "            var circle_e44de7f7883c5ac2f94360bec7718ba7 = L.circle(\n",
       "                [32.9711, 119.455],\n",
       "                {&quot;bubblingMouseEvents&quot;: true, &quot;color&quot;: &quot;red&quot;, &quot;dashArray&quot;: null, &quot;dashOffset&quot;: null, &quot;fill&quot;: true, &quot;fillColor&quot;: &quot;indigo&quot;, &quot;fillOpacity&quot;: 0.2, &quot;fillRule&quot;: &quot;evenodd&quot;, &quot;lineCap&quot;: &quot;round&quot;, &quot;lineJoin&quot;: &quot;round&quot;, &quot;opacity&quot;: 1.0, &quot;radius&quot;: 36000.0, &quot;stroke&quot;: true, &quot;weight&quot;: 3}\n",
       "            ).addTo(map_8de725e800d35d654a5b94e5a3721265);\n",
       "        \n",
       "    \n",
       "            circle_e44de7f7883c5ac2f94360bec7718ba7.bindTooltip(\n",
       "                `&lt;div&gt;\n",
       "                     &lt;div style=&#x27;margin: 0; background-color: black; color: white;&#x27;&gt;&lt;h4 style=&#x27;text-align:center;font-weight: bold&#x27;&gt;China&lt;/h4&gt;&lt;hr style=&#x27;margin:10px;color: white;&#x27;&gt;&lt;ul style=&#x27;color: white;;list-style-type:circle;align-item:left;padding-left:20px;padding-right:20px&#x27;&gt;&lt;li&gt;Confirmed: 2224&lt;/li&gt;&lt;li&gt;Deaths:   1&lt;/li&gt;&lt;li&gt;Death Rate: 0.04&lt;/li&gt;&lt;/ul&gt;&lt;/div&gt;\n",
       "                 &lt;/div&gt;`,\n",
       "                {&quot;sticky&quot;: true}\n",
       "            );\n",
       "        \n",
       "    \n",
       "            var circle_3e6b3242aba3b3b664ec4a1a92a82642 = L.circle(\n",
       "                [27.614, 115.7221],\n",
       "                {&quot;bubblingMouseEvents&quot;: true, &quot;color&quot;: &quot;red&quot;, &quot;dashArray&quot;: null, &quot;dashOffset&quot;: null, &quot;fill&quot;: true, &quot;fillColor&quot;: &quot;indigo&quot;, &quot;fillOpacity&quot;: 0.2, &quot;fillRule&quot;: &quot;evenodd&quot;, &quot;lineCap&quot;: &quot;round&quot;, &quot;lineJoin&quot;: &quot;round&quot;, &quot;opacity&quot;: 1.0, &quot;radius&quot;: 36000.0, &quot;stroke&quot;: true, &quot;weight&quot;: 3}\n",
       "            ).addTo(map_8de725e800d35d654a5b94e5a3721265);\n",
       "        \n",
       "    \n",
       "            circle_3e6b3242aba3b3b664ec4a1a92a82642.bindTooltip(\n",
       "                `&lt;div&gt;\n",
       "                     &lt;div style=&#x27;margin: 0; background-color: black; color: white;&#x27;&gt;&lt;h4 style=&#x27;text-align:center;font-weight: bold&#x27;&gt;China&lt;/h4&gt;&lt;hr style=&#x27;margin:10px;color: white;&#x27;&gt;&lt;ul style=&#x27;color: white;;list-style-type:circle;align-item:left;padding-left:20px;padding-right:20px&#x27;&gt;&lt;li&gt;Confirmed: 1383&lt;/li&gt;&lt;li&gt;Deaths:   0&lt;/li&gt;&lt;li&gt;Death Rate: 0.0&lt;/li&gt;&lt;/ul&gt;&lt;/div&gt;\n",
       "                 &lt;/div&gt;`,\n",
       "                {&quot;sticky&quot;: true}\n",
       "            );\n",
       "        \n",
       "    \n",
       "            var circle_25396e6706bed25f11cfafb1c636be4d = L.circle(\n",
       "                [43.6661, 126.1923],\n",
       "                {&quot;bubblingMouseEvents&quot;: true, &quot;color&quot;: &quot;red&quot;, &quot;dashArray&quot;: null, &quot;dashOffset&quot;: null, &quot;fill&quot;: true, &quot;fillColor&quot;: &quot;indigo&quot;, &quot;fillOpacity&quot;: 0.2, &quot;fillRule&quot;: &quot;evenodd&quot;, &quot;lineCap&quot;: &quot;round&quot;, &quot;lineJoin&quot;: &quot;round&quot;, &quot;opacity&quot;: 1.0, &quot;radius&quot;: 51000.0, &quot;stroke&quot;: true, &quot;weight&quot;: 3}\n",
       "            ).addTo(map_8de725e800d35d654a5b94e5a3721265);\n",
       "        \n",
       "    \n",
       "            circle_25396e6706bed25f11cfafb1c636be4d.bindTooltip(\n",
       "                `&lt;div&gt;\n",
       "                     &lt;div style=&#x27;margin: 0; background-color: black; color: white;&#x27;&gt;&lt;h4 style=&#x27;text-align:center;font-weight: bold&#x27;&gt;China&lt;/h4&gt;&lt;hr style=&#x27;margin:10px;color: white;&#x27;&gt;&lt;ul style=&#x27;color: white;;list-style-type:circle;align-item:left;padding-left:20px;padding-right:20px&#x27;&gt;&lt;li&gt;Confirmed: 40287&lt;/li&gt;&lt;li&gt;Deaths:   1&lt;/li&gt;&lt;li&gt;Death Rate: 0.0&lt;/li&gt;&lt;/ul&gt;&lt;/div&gt;\n",
       "                 &lt;/div&gt;`,\n",
       "                {&quot;sticky&quot;: true}\n",
       "            );\n",
       "        \n",
       "    \n",
       "            var circle_be9f802810ccd8f13ccba764ef714b9a = L.circle(\n",
       "                [41.2956, 122.6085],\n",
       "                {&quot;bubblingMouseEvents&quot;: true, &quot;color&quot;: &quot;red&quot;, &quot;dashArray&quot;: null, &quot;dashOffset&quot;: null, &quot;fill&quot;: true, &quot;fillColor&quot;: &quot;indigo&quot;, &quot;fillOpacity&quot;: 0.2, &quot;fillRule&quot;: &quot;evenodd&quot;, &quot;lineCap&quot;: &quot;round&quot;, &quot;lineJoin&quot;: &quot;round&quot;, &quot;opacity&quot;: 1.0, &quot;radius&quot;: 36000.0, &quot;stroke&quot;: true, &quot;weight&quot;: 3}\n",
       "            ).addTo(map_8de725e800d35d654a5b94e5a3721265);\n",
       "        \n",
       "    \n",
       "            circle_be9f802810ccd8f13ccba764ef714b9a.bindTooltip(\n",
       "                `&lt;div&gt;\n",
       "                     &lt;div style=&#x27;margin: 0; background-color: black; color: white;&#x27;&gt;&lt;h4 style=&#x27;text-align:center;font-weight: bold&#x27;&gt;China&lt;/h4&gt;&lt;hr style=&#x27;margin:10px;color: white;&#x27;&gt;&lt;ul style=&#x27;color: white;;list-style-type:circle;align-item:left;padding-left:20px;padding-right:20px&#x27;&gt;&lt;li&gt;Confirmed: 1673&lt;/li&gt;&lt;li&gt;Deaths:   5&lt;/li&gt;&lt;li&gt;Death Rate: 0.3&lt;/li&gt;&lt;/ul&gt;&lt;/div&gt;\n",
       "                 &lt;/div&gt;`,\n",
       "                {&quot;sticky&quot;: true}\n",
       "            );\n",
       "        \n",
       "    \n",
       "            var circle_b7dd7ae46fdd6c4e3e9e8e0878d102c1 = L.circle(\n",
       "                [22.1667, 113.55],\n",
       "                {&quot;bubblingMouseEvents&quot;: true, &quot;color&quot;: &quot;red&quot;, &quot;dashArray&quot;: null, &quot;dashOffset&quot;: null, &quot;fill&quot;: true, &quot;fillColor&quot;: &quot;indigo&quot;, &quot;fillOpacity&quot;: 0.2, &quot;fillRule&quot;: &quot;evenodd&quot;, &quot;lineCap&quot;: &quot;round&quot;, &quot;lineJoin&quot;: &quot;round&quot;, &quot;opacity&quot;: 1.0, &quot;radius&quot;: 21000.0, &quot;stroke&quot;: true, &quot;weight&quot;: 3}\n",
       "            ).addTo(map_8de725e800d35d654a5b94e5a3721265);\n",
       "        \n",
       "    \n",
       "            circle_b7dd7ae46fdd6c4e3e9e8e0878d102c1.bindTooltip(\n",
       "                `&lt;div&gt;\n",
       "                     &lt;div style=&#x27;margin: 0; background-color: black; color: white;&#x27;&gt;&lt;h4 style=&#x27;text-align:center;font-weight: bold&#x27;&gt;China&lt;/h4&gt;&lt;hr style=&#x27;margin:10px;color: white;&#x27;&gt;&lt;ul style=&#x27;color: white;;list-style-type:circle;align-item:left;padding-left:20px;padding-right:20px&#x27;&gt;&lt;li&gt;Confirmed: 82&lt;/li&gt;&lt;li&gt;Deaths:   2&lt;/li&gt;&lt;li&gt;Death Rate: 2.41&lt;/li&gt;&lt;/ul&gt;&lt;/div&gt;\n",
       "                 &lt;/div&gt;`,\n",
       "                {&quot;sticky&quot;: true}\n",
       "            );\n",
       "        \n",
       "    \n",
       "            var circle_fafe66345697fcfe953ec773ac576dbc = L.circle(\n",
       "                [37.2692, 106.1655],\n",
       "                {&quot;bubblingMouseEvents&quot;: true, &quot;color&quot;: &quot;red&quot;, &quot;dashArray&quot;: null, &quot;dashOffset&quot;: null, &quot;fill&quot;: true, &quot;fillColor&quot;: &quot;indigo&quot;, &quot;fillOpacity&quot;: 0.2, &quot;fillRule&quot;: &quot;evenodd&quot;, &quot;lineCap&quot;: &quot;round&quot;, &quot;lineJoin&quot;: &quot;round&quot;, &quot;opacity&quot;: 1.0, &quot;radius&quot;: 21000.0, &quot;stroke&quot;: true, &quot;weight&quot;: 3}\n",
       "            ).addTo(map_8de725e800d35d654a5b94e5a3721265);\n",
       "        \n",
       "    \n",
       "            circle_fafe66345697fcfe953ec773ac576dbc.bindTooltip(\n",
       "                `&lt;div&gt;\n",
       "                     &lt;div style=&#x27;margin: 0; background-color: black; color: white;&#x27;&gt;&lt;h4 style=&#x27;text-align:center;font-weight: bold&#x27;&gt;China&lt;/h4&gt;&lt;hr style=&#x27;margin:10px;color: white;&#x27;&gt;&lt;ul style=&#x27;color: white;;list-style-type:circle;align-item:left;padding-left:20px;padding-right:20px&#x27;&gt;&lt;li&gt;Confirmed: 122&lt;/li&gt;&lt;li&gt;Deaths:   0&lt;/li&gt;&lt;li&gt;Death Rate: 0.0&lt;/li&gt;&lt;/ul&gt;&lt;/div&gt;\n",
       "                 &lt;/div&gt;`,\n",
       "                {&quot;sticky&quot;: true}\n",
       "            );\n",
       "        \n",
       "    \n",
       "            var circle_2ee95d1a01def56e90207d8f5f7fc51c = L.circle(\n",
       "                [35.7452, 95.9956],\n",
       "                {&quot;bubblingMouseEvents&quot;: true, &quot;color&quot;: &quot;red&quot;, &quot;dashArray&quot;: null, &quot;dashOffset&quot;: null, &quot;fill&quot;: true, &quot;fillColor&quot;: &quot;indigo&quot;, &quot;fillOpacity&quot;: 0.2, &quot;fillRule&quot;: &quot;evenodd&quot;, &quot;lineCap&quot;: &quot;round&quot;, &quot;lineJoin&quot;: &quot;round&quot;, &quot;opacity&quot;: 1.0, &quot;radius&quot;: 21000.0, &quot;stroke&quot;: true, &quot;weight&quot;: 3}\n",
       "            ).addTo(map_8de725e800d35d654a5b94e5a3721265);\n",
       "        \n",
       "    \n",
       "            circle_2ee95d1a01def56e90207d8f5f7fc51c.bindTooltip(\n",
       "                `&lt;div&gt;\n",
       "                     &lt;div style=&#x27;margin: 0; background-color: black; color: white;&#x27;&gt;&lt;h4 style=&#x27;text-align:center;font-weight: bold&#x27;&gt;China&lt;/h4&gt;&lt;hr style=&#x27;margin:10px;color: white;&#x27;&gt;&lt;ul style=&#x27;color: white;;list-style-type:circle;align-item:left;padding-left:20px;padding-right:20px&#x27;&gt;&lt;li&gt;Confirmed: 147&lt;/li&gt;&lt;li&gt;Deaths:   0&lt;/li&gt;&lt;li&gt;Death Rate: 0.0&lt;/li&gt;&lt;/ul&gt;&lt;/div&gt;\n",
       "                 &lt;/div&gt;`,\n",
       "                {&quot;sticky&quot;: true}\n",
       "            );\n",
       "        \n",
       "    \n",
       "            var circle_ef10e9c4f3227e07d79574a879710c53 = L.circle(\n",
       "                [35.1917, 108.8701],\n",
       "                {&quot;bubblingMouseEvents&quot;: true, &quot;color&quot;: &quot;red&quot;, &quot;dashArray&quot;: null, &quot;dashOffset&quot;: null, &quot;fill&quot;: true, &quot;fillColor&quot;: &quot;indigo&quot;, &quot;fillOpacity&quot;: 0.2, &quot;fillRule&quot;: &quot;evenodd&quot;, &quot;lineCap&quot;: &quot;round&quot;, &quot;lineJoin&quot;: &quot;round&quot;, &quot;opacity&quot;: 1.0, &quot;radius&quot;: 41000.0, &quot;stroke&quot;: true, &quot;weight&quot;: 3}\n",
       "            ).addTo(map_8de725e800d35d654a5b94e5a3721265);\n",
       "        \n",
       "    \n",
       "            circle_ef10e9c4f3227e07d79574a879710c53.bindTooltip(\n",
       "                `&lt;div&gt;\n",
       "                     &lt;div style=&#x27;margin: 0; background-color: black; color: white;&#x27;&gt;&lt;h4 style=&#x27;text-align:center;font-weight: bold&#x27;&gt;China&lt;/h4&gt;&lt;hr style=&#x27;margin:10px;color: white;&#x27;&gt;&lt;ul style=&#x27;color: white;;list-style-type:circle;align-item:left;padding-left:20px;padding-right:20px&#x27;&gt;&lt;li&gt;Confirmed: 3283&lt;/li&gt;&lt;li&gt;Deaths:   0&lt;/li&gt;&lt;li&gt;Death Rate: 0.0&lt;/li&gt;&lt;/ul&gt;&lt;/div&gt;\n",
       "                 &lt;/div&gt;`,\n",
       "                {&quot;sticky&quot;: true}\n",
       "            );\n",
       "        \n",
       "    \n",
       "            var circle_4506fbecd540148b5beeef42c078f115 = L.circle(\n",
       "                [36.3427, 118.1498],\n",
       "                {&quot;bubblingMouseEvents&quot;: true, &quot;color&quot;: &quot;red&quot;, &quot;dashArray&quot;: null, &quot;dashOffset&quot;: null, &quot;fill&quot;: true, &quot;fillColor&quot;: &quot;indigo&quot;, &quot;fillOpacity&quot;: 0.2, &quot;fillRule&quot;: &quot;evenodd&quot;, &quot;lineCap&quot;: &quot;round&quot;, &quot;lineJoin&quot;: &quot;round&quot;, &quot;opacity&quot;: 1.0, &quot;radius&quot;: 36000.0, &quot;stroke&quot;: true, &quot;weight&quot;: 3}\n",
       "            ).addTo(map_8de725e800d35d654a5b94e5a3721265);\n",
       "        \n",
       "    \n",
       "            circle_4506fbecd540148b5beeef42c078f115.bindTooltip(\n",
       "                `&lt;div&gt;\n",
       "                     &lt;div style=&#x27;margin: 0; background-color: black; color: white;&#x27;&gt;&lt;h4 style=&#x27;text-align:center;font-weight: bold&#x27;&gt;China&lt;/h4&gt;&lt;hr style=&#x27;margin:10px;color: white;&#x27;&gt;&lt;ul style=&#x27;color: white;;list-style-type:circle;align-item:left;padding-left:20px;padding-right:20px&#x27;&gt;&lt;li&gt;Confirmed: 2735&lt;/li&gt;&lt;li&gt;Deaths:   3&lt;/li&gt;&lt;li&gt;Death Rate: 0.11&lt;/li&gt;&lt;/ul&gt;&lt;/div&gt;\n",
       "                 &lt;/div&gt;`,\n",
       "                {&quot;sticky&quot;: true}\n",
       "            );\n",
       "        \n",
       "    \n",
       "            var circle_9ac290122b3e5fdd53d436abd318fe94 = L.circle(\n",
       "                [31.202, 121.4491],\n",
       "                {&quot;bubblingMouseEvents&quot;: true, &quot;color&quot;: &quot;red&quot;, &quot;dashArray&quot;: null, &quot;dashOffset&quot;: null, &quot;fill&quot;: true, &quot;fillColor&quot;: &quot;indigo&quot;, &quot;fillOpacity&quot;: 0.2, &quot;fillRule&quot;: &quot;evenodd&quot;, &quot;lineCap&quot;: &quot;round&quot;, &quot;lineJoin&quot;: &quot;round&quot;, &quot;opacity&quot;: 1.0, &quot;radius&quot;: 56000.0, &quot;stroke&quot;: true, &quot;weight&quot;: 3}\n",
       "            ).addTo(map_8de725e800d35d654a5b94e5a3721265);\n",
       "        \n",
       "    \n",
       "            circle_9ac290122b3e5fdd53d436abd318fe94.bindTooltip(\n",
       "                `&lt;div&gt;\n",
       "                     &lt;div style=&#x27;margin: 0; background-color: black; color: white;&#x27;&gt;&lt;h4 style=&#x27;text-align:center;font-weight: bold&#x27;&gt;China&lt;/h4&gt;&lt;hr style=&#x27;margin:10px;color: white;&#x27;&gt;&lt;ul style=&#x27;color: white;;list-style-type:circle;align-item:left;padding-left:20px;padding-right:20px&#x27;&gt;&lt;li&gt;Confirmed: 62818&lt;/li&gt;&lt;li&gt;Deaths:   7&lt;/li&gt;&lt;li&gt;Death Rate: 0.01&lt;/li&gt;&lt;/ul&gt;&lt;/div&gt;\n",
       "                 &lt;/div&gt;`,\n",
       "                {&quot;sticky&quot;: true}\n",
       "            );\n",
       "        \n",
       "    \n",
       "            var circle_70fd2adbece71baad35ed638c1418e10 = L.circle(\n",
       "                [37.5777, 112.2922],\n",
       "                {&quot;bubblingMouseEvents&quot;: true, &quot;color&quot;: &quot;red&quot;, &quot;dashArray&quot;: null, &quot;dashOffset&quot;: null, &quot;fill&quot;: true, &quot;fillColor&quot;: &quot;indigo&quot;, &quot;fillOpacity&quot;: 0.2, &quot;fillRule&quot;: &quot;evenodd&quot;, &quot;lineCap&quot;: &quot;round&quot;, &quot;lineJoin&quot;: &quot;round&quot;, &quot;opacity&quot;: 1.0, &quot;radius&quot;: 31000.0, &quot;stroke&quot;: true, &quot;weight&quot;: 3}\n",
       "            ).addTo(map_8de725e800d35d654a5b94e5a3721265);\n",
       "        \n",
       "    \n",
       "            circle_70fd2adbece71baad35ed638c1418e10.bindTooltip(\n",
       "                `&lt;div&gt;\n",
       "                     &lt;div style=&#x27;margin: 0; background-color: black; color: white;&#x27;&gt;&lt;h4 style=&#x27;text-align:center;font-weight: bold&#x27;&gt;China&lt;/h4&gt;&lt;hr style=&#x27;margin:10px;color: white;&#x27;&gt;&lt;ul style=&#x27;color: white;;list-style-type:circle;align-item:left;padding-left:20px;padding-right:20px&#x27;&gt;&lt;li&gt;Confirmed: 420&lt;/li&gt;&lt;li&gt;Deaths:   593&lt;/li&gt;&lt;li&gt;Death Rate: 140.86&lt;/li&gt;&lt;/ul&gt;&lt;/div&gt;\n",
       "                 &lt;/div&gt;`,\n",
       "                {&quot;sticky&quot;: true}\n",
       "            );\n",
       "        \n",
       "    \n",
       "            var circle_55228c5ba8af1ba8c4e82439791544b3 = L.circle(\n",
       "                [30.6171, 102.7103],\n",
       "                {&quot;bubblingMouseEvents&quot;: true, &quot;color&quot;: &quot;red&quot;, &quot;dashArray&quot;: null, &quot;dashOffset&quot;: null, &quot;fill&quot;: true, &quot;fillColor&quot;: &quot;indigo&quot;, &quot;fillOpacity&quot;: 0.2, &quot;fillRule&quot;: &quot;evenodd&quot;, &quot;lineCap&quot;: &quot;round&quot;, &quot;lineJoin&quot;: &quot;round&quot;, &quot;opacity&quot;: 1.0, &quot;radius&quot;: 36000.0, &quot;stroke&quot;: true, &quot;weight&quot;: 3}\n",
       "            ).addTo(map_8de725e800d35d654a5b94e5a3721265);\n",
       "        \n",
       "    \n",
       "            circle_55228c5ba8af1ba8c4e82439791544b3.bindTooltip(\n",
       "                `&lt;div&gt;\n",
       "                     &lt;div style=&#x27;margin: 0; background-color: black; color: white;&#x27;&gt;&lt;h4 style=&#x27;text-align:center;font-weight: bold&#x27;&gt;China&lt;/h4&gt;&lt;hr style=&#x27;margin:10px;color: white;&#x27;&gt;&lt;ul style=&#x27;color: white;;list-style-type:circle;align-item:left;padding-left:20px;padding-right:20px&#x27;&gt;&lt;li&gt;Confirmed: 2312&lt;/li&gt;&lt;li&gt;Deaths:   0&lt;/li&gt;&lt;li&gt;Death Rate: 0.0&lt;/li&gt;&lt;/ul&gt;&lt;/div&gt;\n",
       "                 &lt;/div&gt;`,\n",
       "                {&quot;sticky&quot;: true}\n",
       "            );\n",
       "        \n",
       "    \n",
       "            var circle_afc084a136e2963fd527ef00c0c3621a = L.circle(\n",
       "                [39.3054, 117.323],\n",
       "                {&quot;bubblingMouseEvents&quot;: true, &quot;color&quot;: &quot;red&quot;, &quot;dashArray&quot;: null, &quot;dashOffset&quot;: null, &quot;fill&quot;: true, &quot;fillColor&quot;: &quot;indigo&quot;, &quot;fillOpacity&quot;: 0.2, &quot;fillRule&quot;: &quot;evenodd&quot;, &quot;lineCap&quot;: &quot;round&quot;, &quot;lineJoin&quot;: &quot;round&quot;, &quot;opacity&quot;: 1.0, &quot;radius&quot;: 36000.0, &quot;stroke&quot;: true, &quot;weight&quot;: 3}\n",
       "            ).addTo(map_8de725e800d35d654a5b94e5a3721265);\n",
       "        \n",
       "    \n",
       "            circle_afc084a136e2963fd527ef00c0c3621a.bindTooltip(\n",
       "                `&lt;div&gt;\n",
       "                     &lt;div style=&#x27;margin: 0; background-color: black; color: white;&#x27;&gt;&lt;h4 style=&#x27;text-align:center;font-weight: bold&#x27;&gt;China&lt;/h4&gt;&lt;hr style=&#x27;margin:10px;color: white;&#x27;&gt;&lt;ul style=&#x27;color: white;;list-style-type:circle;align-item:left;padding-left:20px;padding-right:20px&#x27;&gt;&lt;li&gt;Confirmed: 1940&lt;/li&gt;&lt;li&gt;Deaths:   3&lt;/li&gt;&lt;li&gt;Death Rate: 0.15&lt;/li&gt;&lt;/ul&gt;&lt;/div&gt;\n",
       "                 &lt;/div&gt;`,\n",
       "                {&quot;sticky&quot;: true}\n",
       "            );\n",
       "        \n",
       "    \n",
       "            var circle_816c412ecbe670955fea03a6bcd54d93 = L.circle(\n",
       "                [31.6927, 88.0924],\n",
       "                {&quot;bubblingMouseEvents&quot;: true, &quot;color&quot;: &quot;red&quot;, &quot;dashArray&quot;: null, &quot;dashOffset&quot;: null, &quot;fill&quot;: true, &quot;fillColor&quot;: &quot;indigo&quot;, &quot;fillOpacity&quot;: 0.2, &quot;fillRule&quot;: &quot;evenodd&quot;, &quot;lineCap&quot;: &quot;round&quot;, &quot;lineJoin&quot;: &quot;round&quot;, &quot;opacity&quot;: 1.0, &quot;radius&quot;: 1000.0, &quot;stroke&quot;: true, &quot;weight&quot;: 3}\n",
       "            ).addTo(map_8de725e800d35d654a5b94e5a3721265);\n",
       "        \n",
       "    \n",
       "            circle_816c412ecbe670955fea03a6bcd54d93.bindTooltip(\n",
       "                `&lt;div&gt;\n",
       "                     &lt;div style=&#x27;margin: 0; background-color: black; color: white;&#x27;&gt;&lt;h4 style=&#x27;text-align:center;font-weight: bold&#x27;&gt;China&lt;/h4&gt;&lt;hr style=&#x27;margin:10px;color: white;&#x27;&gt;&lt;ul style=&#x27;color: white;;list-style-type:circle;align-item:left;padding-left:20px;padding-right:20px&#x27;&gt;&lt;li&gt;Confirmed: 1&lt;/li&gt;&lt;li&gt;Deaths:   3&lt;/li&gt;&lt;li&gt;Death Rate: 150.0&lt;/li&gt;&lt;/ul&gt;&lt;/div&gt;\n",
       "                 &lt;/div&gt;`,\n",
       "                {&quot;sticky&quot;: true}\n",
       "            );\n",
       "        \n",
       "    \n",
       "            var circle_1a3257d80e0390492720e7a78f37a676 = L.circle(\n",
       "                [41.1129, 85.2401],\n",
       "                {&quot;bubblingMouseEvents&quot;: true, &quot;color&quot;: &quot;red&quot;, &quot;dashArray&quot;: null, &quot;dashOffset&quot;: null, &quot;fill&quot;: true, &quot;fillColor&quot;: &quot;indigo&quot;, &quot;fillOpacity&quot;: 0.2, &quot;fillRule&quot;: &quot;evenodd&quot;, &quot;lineCap&quot;: &quot;round&quot;, &quot;lineJoin&quot;: &quot;round&quot;, &quot;opacity&quot;: 1.0, &quot;radius&quot;: 31000.0, &quot;stroke&quot;: true, &quot;weight&quot;: 3}\n",
       "            ).addTo(map_8de725e800d35d654a5b94e5a3721265);\n",
       "        \n",
       "    \n",
       "            circle_1a3257d80e0390492720e7a78f37a676.bindTooltip(\n",
       "                `&lt;div&gt;\n",
       "                     &lt;div style=&#x27;margin: 0; background-color: black; color: white;&#x27;&gt;&lt;h4 style=&#x27;text-align:center;font-weight: bold&#x27;&gt;China&lt;/h4&gt;&lt;hr style=&#x27;margin:10px;color: white;&#x27;&gt;&lt;ul style=&#x27;color: white;;list-style-type:circle;align-item:left;padding-left:20px;padding-right:20px&#x27;&gt;&lt;li&gt;Confirmed: 1008&lt;/li&gt;&lt;li&gt;Deaths:   0&lt;/li&gt;&lt;li&gt;Death Rate: 0.0&lt;/li&gt;&lt;/ul&gt;&lt;/div&gt;\n",
       "                 &lt;/div&gt;`,\n",
       "                {&quot;sticky&quot;: true}\n",
       "            );\n",
       "        \n",
       "    \n",
       "            var circle_39f665ed22b424663a9ffa7db06e4a5c = L.circle(\n",
       "                [24.974, 101.487],\n",
       "                {&quot;bubblingMouseEvents&quot;: true, &quot;color&quot;: &quot;red&quot;, &quot;dashArray&quot;: null, &quot;dashOffset&quot;: null, &quot;fill&quot;: true, &quot;fillColor&quot;: &quot;indigo&quot;, &quot;fillOpacity&quot;: 0.2, &quot;fillRule&quot;: &quot;evenodd&quot;, &quot;lineCap&quot;: &quot;round&quot;, &quot;lineJoin&quot;: &quot;round&quot;, &quot;opacity&quot;: 1.0, &quot;radius&quot;: 36000.0, &quot;stroke&quot;: true, &quot;weight&quot;: 3}\n",
       "            ).addTo(map_8de725e800d35d654a5b94e5a3721265);\n",
       "        \n",
       "    \n",
       "            circle_39f665ed22b424663a9ffa7db06e4a5c.bindTooltip(\n",
       "                `&lt;div&gt;\n",
       "                     &lt;div style=&#x27;margin: 0; background-color: black; color: white;&#x27;&gt;&lt;h4 style=&#x27;text-align:center;font-weight: bold&#x27;&gt;China&lt;/h4&gt;&lt;hr style=&#x27;margin:10px;color: white;&#x27;&gt;&lt;ul style=&#x27;color: white;;list-style-type:circle;align-item:left;padding-left:20px;padding-right:20px&#x27;&gt;&lt;li&gt;Confirmed: 2136&lt;/li&gt;&lt;li&gt;Deaths:   0&lt;/li&gt;&lt;li&gt;Death Rate: 0.0&lt;/li&gt;&lt;/ul&gt;&lt;/div&gt;\n",
       "                 &lt;/div&gt;`,\n",
       "                {&quot;sticky&quot;: true}\n",
       "            );\n",
       "        \n",
       "    \n",
       "            var circle_4e6b3a094ce6d10fd55aba2519d16028 = L.circle(\n",
       "                [29.1832, 120.0934],\n",
       "                {&quot;bubblingMouseEvents&quot;: true, &quot;color&quot;: &quot;red&quot;, &quot;dashArray&quot;: null, &quot;dashOffset&quot;: null, &quot;fill&quot;: true, &quot;fillColor&quot;: &quot;indigo&quot;, &quot;fillOpacity&quot;: 0.2, &quot;fillRule&quot;: &quot;evenodd&quot;, &quot;lineCap&quot;: &quot;round&quot;, &quot;lineJoin&quot;: &quot;round&quot;, &quot;opacity&quot;: 1.0, &quot;radius&quot;: 41000.0, &quot;stroke&quot;: true, &quot;weight&quot;: 3}\n",
       "            ).addTo(map_8de725e800d35d654a5b94e5a3721265);\n",
       "        \n",
       "    \n",
       "            circle_4e6b3a094ce6d10fd55aba2519d16028.bindTooltip(\n",
       "                `&lt;div&gt;\n",
       "                     &lt;div style=&#x27;margin: 0; background-color: black; color: white;&#x27;&gt;&lt;h4 style=&#x27;text-align:center;font-weight: bold&#x27;&gt;China&lt;/h4&gt;&lt;hr style=&#x27;margin:10px;color: white;&#x27;&gt;&lt;ul style=&#x27;color: white;;list-style-type:circle;align-item:left;padding-left:20px;padding-right:20px&#x27;&gt;&lt;li&gt;Confirmed: 3136&lt;/li&gt;&lt;li&gt;Deaths:   3&lt;/li&gt;&lt;li&gt;Death Rate: 0.1&lt;/li&gt;&lt;/ul&gt;&lt;/div&gt;\n",
       "                 &lt;/div&gt;`,\n",
       "                {&quot;sticky&quot;: true}\n",
       "            );\n",
       "        \n",
       "    \n",
       "            var circle_73ba564a97bc0d561bc29f6ba29a9f6e = L.circle(\n",
       "                [4.5709, -74.2973],\n",
       "                {&quot;bubblingMouseEvents&quot;: true, &quot;color&quot;: &quot;red&quot;, &quot;dashArray&quot;: null, &quot;dashOffset&quot;: null, &quot;fill&quot;: true, &quot;fillColor&quot;: &quot;indigo&quot;, &quot;fillOpacity&quot;: 0.2, &quot;fillRule&quot;: &quot;evenodd&quot;, &quot;lineCap&quot;: &quot;round&quot;, &quot;lineJoin&quot;: &quot;round&quot;, &quot;opacity&quot;: 1.0, &quot;radius&quot;: 76000.0, &quot;stroke&quot;: true, &quot;weight&quot;: 3}\n",
       "            ).addTo(map_8de725e800d35d654a5b94e5a3721265);\n",
       "        \n",
       "    \n",
       "            circle_73ba564a97bc0d561bc29f6ba29a9f6e.bindTooltip(\n",
       "                `&lt;div&gt;\n",
       "                     &lt;div style=&#x27;margin: 0; background-color: black; color: white;&#x27;&gt;&lt;h4 style=&#x27;text-align:center;font-weight: bold&#x27;&gt;Colombia&lt;/h4&gt;&lt;hr style=&#x27;margin:10px;color: white;&#x27;&gt;&lt;ul style=&#x27;color: white;;list-style-type:circle;align-item:left;padding-left:20px;padding-right:20px&#x27;&gt;&lt;li&gt;Confirmed: 6099111&lt;/li&gt;&lt;li&gt;Deaths:   2&lt;/li&gt;&lt;li&gt;Death Rate: 0.0&lt;/li&gt;&lt;/ul&gt;&lt;/div&gt;\n",
       "                 &lt;/div&gt;`,\n",
       "                {&quot;sticky&quot;: true}\n",
       "            );\n",
       "        \n",
       "    \n",
       "            var circle_1f3b4babccbd38e008b5bf9e0357a9f9 = L.circle(\n",
       "                [-11.6455, 43.3333],\n",
       "                {&quot;bubblingMouseEvents&quot;: true, &quot;color&quot;: &quot;red&quot;, &quot;dashArray&quot;: null, &quot;dashOffset&quot;: null, &quot;fill&quot;: true, &quot;fillColor&quot;: &quot;indigo&quot;, &quot;fillOpacity&quot;: 0.2, &quot;fillRule&quot;: &quot;evenodd&quot;, &quot;lineCap&quot;: &quot;round&quot;, &quot;lineJoin&quot;: &quot;round&quot;, &quot;opacity&quot;: 1.0, &quot;radius&quot;: 46000.0, &quot;stroke&quot;: true, &quot;weight&quot;: 3}\n",
       "            ).addTo(map_8de725e800d35d654a5b94e5a3721265);\n",
       "        \n",
       "    \n",
       "            circle_1f3b4babccbd38e008b5bf9e0357a9f9.bindTooltip(\n",
       "                `&lt;div&gt;\n",
       "                     &lt;div style=&#x27;margin: 0; background-color: black; color: white;&#x27;&gt;&lt;h4 style=&#x27;text-align:center;font-weight: bold&#x27;&gt;Comoros&lt;/h4&gt;&lt;hr style=&#x27;margin:10px;color: white;&#x27;&gt;&lt;ul style=&#x27;color: white;;list-style-type:circle;align-item:left;padding-left:20px;padding-right:20px&#x27;&gt;&lt;li&gt;Confirmed: 8114&lt;/li&gt;&lt;li&gt;Deaths:   1&lt;/li&gt;&lt;li&gt;Death Rate: 0.01&lt;/li&gt;&lt;/ul&gt;&lt;/div&gt;\n",
       "                 &lt;/div&gt;`,\n",
       "                {&quot;sticky&quot;: true}\n",
       "            );\n",
       "        \n",
       "    \n",
       "            var circle_0d548d771974ee82edccca19c31bd420 = L.circle(\n",
       "                [-0.228, 15.8277],\n",
       "                {&quot;bubblingMouseEvents&quot;: true, &quot;color&quot;: &quot;red&quot;, &quot;dashArray&quot;: null, &quot;dashOffset&quot;: null, &quot;fill&quot;: true, &quot;fillColor&quot;: &quot;indigo&quot;, &quot;fillOpacity&quot;: 0.2, &quot;fillRule&quot;: &quot;evenodd&quot;, &quot;lineCap&quot;: &quot;round&quot;, &quot;lineJoin&quot;: &quot;round&quot;, &quot;opacity&quot;: 1.0, &quot;radius&quot;: 51000.0, &quot;stroke&quot;: true, &quot;weight&quot;: 3}\n",
       "            ).addTo(map_8de725e800d35d654a5b94e5a3721265);\n",
       "        \n",
       "    \n",
       "            circle_0d548d771974ee82edccca19c31bd420.bindTooltip(\n",
       "                `&lt;div&gt;\n",
       "                     &lt;div style=&#x27;margin: 0; background-color: black; color: white;&#x27;&gt;&lt;h4 style=&#x27;text-align:center;font-weight: bold&#x27;&gt;Congo (Brazzaville)&lt;/h4&gt;&lt;hr style=&#x27;margin:10px;color: white;&#x27;&gt;&lt;ul style=&#x27;color: white;;list-style-type:circle;align-item:left;padding-left:20px;padding-right:20px&#x27;&gt;&lt;li&gt;Confirmed: 24079&lt;/li&gt;&lt;li&gt;Deaths:   139833&lt;/li&gt;&lt;li&gt;Death Rate: 580.7&lt;/li&gt;&lt;/ul&gt;&lt;/div&gt;\n",
       "                 &lt;/div&gt;`,\n",
       "                {&quot;sticky&quot;: true}\n",
       "            );\n",
       "        \n",
       "    \n",
       "            var circle_96e643bd269a2f81c10ddbe10ac54d9c = L.circle(\n",
       "                [-4.0383, 21.7587],\n",
       "                {&quot;bubblingMouseEvents&quot;: true, &quot;color&quot;: &quot;red&quot;, &quot;dashArray&quot;: null, &quot;dashOffset&quot;: null, &quot;fill&quot;: true, &quot;fillColor&quot;: &quot;indigo&quot;, &quot;fillOpacity&quot;: 0.2, &quot;fillRule&quot;: &quot;evenodd&quot;, &quot;lineCap&quot;: &quot;round&quot;, &quot;lineJoin&quot;: &quot;round&quot;, &quot;opacity&quot;: 1.0, &quot;radius&quot;: 56000.0, &quot;stroke&quot;: true, &quot;weight&quot;: 3}\n",
       "            ).addTo(map_8de725e800d35d654a5b94e5a3721265);\n",
       "        \n",
       "    \n",
       "            circle_96e643bd269a2f81c10ddbe10ac54d9c.bindTooltip(\n",
       "                `&lt;div&gt;\n",
       "                     &lt;div style=&#x27;margin: 0; background-color: black; color: white;&#x27;&gt;&lt;h4 style=&#x27;text-align:center;font-weight: bold&#x27;&gt;Congo (Kinshasa)&lt;/h4&gt;&lt;hr style=&#x27;margin:10px;color: white;&#x27;&gt;&lt;ul style=&#x27;color: white;;list-style-type:circle;align-item:left;padding-left:20px;padding-right:20px&#x27;&gt;&lt;li&gt;Confirmed: 87633&lt;/li&gt;&lt;li&gt;Deaths:   160&lt;/li&gt;&lt;li&gt;Death Rate: 0.18&lt;/li&gt;&lt;/ul&gt;&lt;/div&gt;\n",
       "                 &lt;/div&gt;`,\n",
       "                {&quot;sticky&quot;: true}\n",
       "            );\n",
       "        \n",
       "    \n",
       "            var circle_671f09b55b42ac560ba9ded8347a59e7 = L.circle(\n",
       "                [9.7489, -83.7534],\n",
       "                {&quot;bubblingMouseEvents&quot;: true, &quot;color&quot;: &quot;red&quot;, &quot;dashArray&quot;: null, &quot;dashOffset&quot;: null, &quot;fill&quot;: true, &quot;fillColor&quot;: &quot;indigo&quot;, &quot;fillOpacity&quot;: 0.2, &quot;fillRule&quot;: &quot;evenodd&quot;, &quot;lineCap&quot;: &quot;round&quot;, &quot;lineJoin&quot;: &quot;round&quot;, &quot;opacity&quot;: 1.0, &quot;radius&quot;: 66000.0, &quot;stroke&quot;: true, &quot;weight&quot;: 3}\n",
       "            ).addTo(map_8de725e800d35d654a5b94e5a3721265);\n",
       "        \n",
       "    \n",
       "            circle_671f09b55b42ac560ba9ded8347a59e7.bindTooltip(\n",
       "                `&lt;div&gt;\n",
       "                     &lt;div style=&#x27;margin: 0; background-color: black; color: white;&#x27;&gt;&lt;h4 style=&#x27;text-align:center;font-weight: bold&#x27;&gt;Costa Rica&lt;/h4&gt;&lt;hr style=&#x27;margin:10px;color: white;&#x27;&gt;&lt;ul style=&#x27;color: white;;list-style-type:circle;align-item:left;padding-left:20px;padding-right:20px&#x27;&gt;&lt;li&gt;Confirmed: 891038&lt;/li&gt;&lt;li&gt;Deaths:   385&lt;/li&gt;&lt;li&gt;Death Rate: 0.04&lt;/li&gt;&lt;/ul&gt;&lt;/div&gt;\n",
       "                 &lt;/div&gt;`,\n",
       "                {&quot;sticky&quot;: true}\n",
       "            );\n",
       "        \n",
       "    \n",
       "            var circle_9ecb546722ec8f057a18bdfeab99d910 = L.circle(\n",
       "                [7.54, -5.5471],\n",
       "                {&quot;bubblingMouseEvents&quot;: true, &quot;color&quot;: &quot;red&quot;, &quot;dashArray&quot;: null, &quot;dashOffset&quot;: null, &quot;fill&quot;: true, &quot;fillColor&quot;: &quot;indigo&quot;, &quot;fillOpacity&quot;: 0.2, &quot;fillRule&quot;: &quot;evenodd&quot;, &quot;lineCap&quot;: &quot;round&quot;, &quot;lineJoin&quot;: &quot;round&quot;, &quot;opacity&quot;: 1.0, &quot;radius&quot;: 56000.0, &quot;stroke&quot;: true, &quot;weight&quot;: 3}\n",
       "            ).addTo(map_8de725e800d35d654a5b94e5a3721265);\n",
       "        \n",
       "    \n",
       "            circle_9ecb546722ec8f057a18bdfeab99d910.bindTooltip(\n",
       "                `&lt;div&gt;\n",
       "                     &lt;div style=&#x27;margin: 0; background-color: black; color: white;&#x27;&gt;&lt;h4 style=&#x27;text-align:center;font-weight: bold&#x27;&gt;Cote d&#x27;Ivoire&lt;/h4&gt;&lt;hr style=&#x27;margin:10px;color: white;&#x27;&gt;&lt;ul style=&#x27;color: white;;list-style-type:circle;align-item:left;padding-left:20px;padding-right:20px&#x27;&gt;&lt;li&gt;Confirmed: 82088&lt;/li&gt;&lt;li&gt;Deaths:   1338&lt;/li&gt;&lt;li&gt;Death Rate: 1.63&lt;/li&gt;&lt;/ul&gt;&lt;/div&gt;\n",
       "                 &lt;/div&gt;`,\n",
       "                {&quot;sticky&quot;: true}\n",
       "            );\n",
       "        \n",
       "    \n",
       "            var circle_6d3ca7062bcdfaf8d7f55440193279d4 = L.circle(\n",
       "                [45.1, 15.2],\n",
       "                {&quot;bubblingMouseEvents&quot;: true, &quot;color&quot;: &quot;red&quot;, &quot;dashArray&quot;: null, &quot;dashOffset&quot;: null, &quot;fill&quot;: true, &quot;fillColor&quot;: &quot;indigo&quot;, &quot;fillOpacity&quot;: 0.2, &quot;fillRule&quot;: &quot;evenodd&quot;, &quot;lineCap&quot;: &quot;round&quot;, &quot;lineJoin&quot;: &quot;round&quot;, &quot;opacity&quot;: 1.0, &quot;radius&quot;: 66000.0, &quot;stroke&quot;: true, &quot;weight&quot;: 3}\n",
       "            ).addTo(map_8de725e800d35d654a5b94e5a3721265);\n",
       "        \n",
       "    \n",
       "            circle_6d3ca7062bcdfaf8d7f55440193279d4.bindTooltip(\n",
       "                `&lt;div&gt;\n",
       "                     &lt;div style=&#x27;margin: 0; background-color: black; color: white;&#x27;&gt;&lt;h4 style=&#x27;text-align:center;font-weight: bold&#x27;&gt;Croatia&lt;/h4&gt;&lt;hr style=&#x27;margin:10px;color: white;&#x27;&gt;&lt;ul style=&#x27;color: white;;list-style-type:circle;align-item:left;padding-left:20px;padding-right:20px&#x27;&gt;&lt;li&gt;Confirmed: 1134541&lt;/li&gt;&lt;li&gt;Deaths:   8495&lt;/li&gt;&lt;li&gt;Death Rate: 0.75&lt;/li&gt;&lt;/ul&gt;&lt;/div&gt;\n",
       "                 &lt;/div&gt;`,\n",
       "                {&quot;sticky&quot;: true}\n",
       "            );\n",
       "        \n",
       "    \n",
       "            var circle_6a50f400c5454d2c96e620b2684edfb2 = L.circle(\n",
       "                [21.521757, -77.781167],\n",
       "                {&quot;bubblingMouseEvents&quot;: true, &quot;color&quot;: &quot;red&quot;, &quot;dashArray&quot;: null, &quot;dashOffset&quot;: null, &quot;fill&quot;: true, &quot;fillColor&quot;: &quot;indigo&quot;, &quot;fillOpacity&quot;: 0.2, &quot;fillRule&quot;: &quot;evenodd&quot;, &quot;lineCap&quot;: &quot;round&quot;, &quot;lineJoin&quot;: &quot;round&quot;, &quot;opacity&quot;: 1.0, &quot;radius&quot;: 66000.0, &quot;stroke&quot;: true, &quot;weight&quot;: 3}\n",
       "            ).addTo(map_8de725e800d35d654a5b94e5a3721265);\n",
       "        \n",
       "    \n",
       "            circle_6a50f400c5454d2c96e620b2684edfb2.bindTooltip(\n",
       "                `&lt;div&gt;\n",
       "                     &lt;div style=&#x27;margin: 0; background-color: black; color: white;&#x27;&gt;&lt;h4 style=&#x27;text-align:center;font-weight: bold&#x27;&gt;Cuba&lt;/h4&gt;&lt;hr style=&#x27;margin:10px;color: white;&#x27;&gt;&lt;ul style=&#x27;color: white;;list-style-type:circle;align-item:left;padding-left:20px;padding-right:20px&#x27;&gt;&lt;li&gt;Confirmed: 1105047&lt;/li&gt;&lt;li&gt;Deaths:   799&lt;/li&gt;&lt;li&gt;Death Rate: 0.07&lt;/li&gt;&lt;/ul&gt;&lt;/div&gt;\n",
       "                 &lt;/div&gt;`,\n",
       "                {&quot;sticky&quot;: true}\n",
       "            );\n",
       "        \n",
       "    \n",
       "            var circle_8f47228bb7c996158de0985b010c7045 = L.circle(\n",
       "                [35.1264, 33.4299],\n",
       "                {&quot;bubblingMouseEvents&quot;: true, &quot;color&quot;: &quot;red&quot;, &quot;dashArray&quot;: null, &quot;dashOffset&quot;: null, &quot;fill&quot;: true, &quot;fillColor&quot;: &quot;indigo&quot;, &quot;fillOpacity&quot;: 0.2, &quot;fillRule&quot;: &quot;evenodd&quot;, &quot;lineCap&quot;: &quot;round&quot;, &quot;lineJoin&quot;: &quot;round&quot;, &quot;opacity&quot;: 1.0, &quot;radius&quot;: 66000.0, &quot;stroke&quot;: true, &quot;weight&quot;: 3}\n",
       "            ).addTo(map_8de725e800d35d654a5b94e5a3721265);\n",
       "        \n",
       "    \n",
       "            circle_8f47228bb7c996158de0985b010c7045.bindTooltip(\n",
       "                `&lt;div&gt;\n",
       "                     &lt;div style=&#x27;margin: 0; background-color: black; color: white;&#x27;&gt;&lt;h4 style=&#x27;text-align:center;font-weight: bold&#x27;&gt;Cyprus&lt;/h4&gt;&lt;hr style=&#x27;margin:10px;color: white;&#x27;&gt;&lt;ul style=&#x27;color: white;;list-style-type:circle;align-item:left;padding-left:20px;padding-right:20px&#x27;&gt;&lt;li&gt;Confirmed: 488189&lt;/li&gt;&lt;li&gt;Deaths:   15970&lt;/li&gt;&lt;li&gt;Death Rate: 3.27&lt;/li&gt;&lt;/ul&gt;&lt;/div&gt;\n",
       "                 &lt;/div&gt;`,\n",
       "                {&quot;sticky&quot;: true}\n",
       "            );\n",
       "        \n",
       "    \n",
       "            var circle_30b097456e53cc05a18825fa3db96a98 = L.circle(\n",
       "                [49.8175, 15.473],\n",
       "                {&quot;bubblingMouseEvents&quot;: true, &quot;color&quot;: &quot;red&quot;, &quot;dashArray&quot;: null, &quot;dashOffset&quot;: null, &quot;fill&quot;: true, &quot;fillColor&quot;: &quot;indigo&quot;, &quot;fillOpacity&quot;: 0.2, &quot;fillRule&quot;: &quot;evenodd&quot;, &quot;lineCap&quot;: &quot;round&quot;, &quot;lineJoin&quot;: &quot;round&quot;, &quot;opacity&quot;: 1.0, &quot;radius&quot;: 76000.0, &quot;stroke&quot;: true, &quot;weight&quot;: 3}\n",
       "            ).addTo(map_8de725e800d35d654a5b94e5a3721265);\n",
       "        \n",
       "    \n",
       "            circle_30b097456e53cc05a18825fa3db96a98.bindTooltip(\n",
       "                `&lt;div&gt;\n",
       "                     &lt;div style=&#x27;margin: 0; background-color: black; color: white;&#x27;&gt;&lt;h4 style=&#x27;text-align:center;font-weight: bold&#x27;&gt;Czechia&lt;/h4&gt;&lt;hr style=&#x27;margin:10px;color: white;&#x27;&gt;&lt;ul style=&#x27;color: white;;list-style-type:circle;align-item:left;padding-left:20px;padding-right:20px&#x27;&gt;&lt;li&gt;Confirmed: 3918737&lt;/li&gt;&lt;li&gt;Deaths:   8529&lt;/li&gt;&lt;li&gt;Death Rate: 0.22&lt;/li&gt;&lt;/ul&gt;&lt;/div&gt;\n",
       "                 &lt;/div&gt;`,\n",
       "                {&quot;sticky&quot;: true}\n",
       "            );\n",
       "        \n",
       "    \n",
       "            var circle_a4b850d48aedbfc05baa6a7c696e70b7 = L.circle(\n",
       "                [61.8926, -6.9118],\n",
       "                {&quot;bubblingMouseEvents&quot;: true, &quot;color&quot;: &quot;red&quot;, &quot;dashArray&quot;: null, &quot;dashOffset&quot;: null, &quot;fill&quot;: true, &quot;fillColor&quot;: &quot;indigo&quot;, &quot;fillOpacity&quot;: 0.2, &quot;fillRule&quot;: &quot;evenodd&quot;, &quot;lineCap&quot;: &quot;round&quot;, &quot;lineJoin&quot;: &quot;round&quot;, &quot;opacity&quot;: 1.0, &quot;radius&quot;: 51000.0, &quot;stroke&quot;: true, &quot;weight&quot;: 3}\n",
       "            ).addTo(map_8de725e800d35d654a5b94e5a3721265);\n",
       "        \n",
       "    \n",
       "            circle_a4b850d48aedbfc05baa6a7c696e70b7.bindTooltip(\n",
       "                `&lt;div&gt;\n",
       "                     &lt;div style=&#x27;margin: 0; background-color: black; color: white;&#x27;&gt;&lt;h4 style=&#x27;text-align:center;font-weight: bold&#x27;&gt;Denmark&lt;/h4&gt;&lt;hr style=&#x27;margin:10px;color: white;&#x27;&gt;&lt;ul style=&#x27;color: white;;list-style-type:circle;align-item:left;padding-left:20px;padding-right:20px&#x27;&gt;&lt;li&gt;Confirmed: 34658&lt;/li&gt;&lt;li&gt;Deaths:   1057&lt;/li&gt;&lt;li&gt;Death Rate: 3.05&lt;/li&gt;&lt;/ul&gt;&lt;/div&gt;\n",
       "                 &lt;/div&gt;`,\n",
       "                {&quot;sticky&quot;: true}\n",
       "            );\n",
       "        \n",
       "    \n",
       "            var circle_f1b93ae6f0a37c0d22bfd8663dca66c8 = L.circle(\n",
       "                [71.7069, -42.6043],\n",
       "                {&quot;bubblingMouseEvents&quot;: true, &quot;color&quot;: &quot;red&quot;, &quot;dashArray&quot;: null, &quot;dashOffset&quot;: null, &quot;fill&quot;: true, &quot;fillColor&quot;: &quot;indigo&quot;, &quot;fillOpacity&quot;: 0.2, &quot;fillRule&quot;: &quot;evenodd&quot;, &quot;lineCap&quot;: &quot;round&quot;, &quot;lineJoin&quot;: &quot;round&quot;, &quot;opacity&quot;: 1.0, &quot;radius&quot;: 46000.0, &quot;stroke&quot;: true, &quot;weight&quot;: 3}\n",
       "            ).addTo(map_8de725e800d35d654a5b94e5a3721265);\n",
       "        \n",
       "    \n",
       "            circle_f1b93ae6f0a37c0d22bfd8663dca66c8.bindTooltip(\n",
       "                `&lt;div&gt;\n",
       "                     &lt;div style=&#x27;margin: 0; background-color: black; color: white;&#x27;&gt;&lt;h4 style=&#x27;text-align:center;font-weight: bold&#x27;&gt;Denmark&lt;/h4&gt;&lt;hr style=&#x27;margin:10px;color: white;&#x27;&gt;&lt;ul style=&#x27;color: white;;list-style-type:circle;align-item:left;padding-left:20px;padding-right:20px&#x27;&gt;&lt;li&gt;Confirmed: 11971&lt;/li&gt;&lt;li&gt;Deaths:   40277&lt;/li&gt;&lt;li&gt;Death Rate: 336.43&lt;/li&gt;&lt;/ul&gt;&lt;/div&gt;\n",
       "                 &lt;/div&gt;`,\n",
       "                {&quot;sticky&quot;: true}\n",
       "            );\n",
       "        \n",
       "    \n",
       "            var circle_9d10cabe6c257b4f56058d06903cf046 = L.circle(\n",
       "                [56.2639, 9.5018],\n",
       "                {&quot;bubblingMouseEvents&quot;: true, &quot;color&quot;: &quot;red&quot;, &quot;dashArray&quot;: null, &quot;dashOffset&quot;: null, &quot;fill&quot;: true, &quot;fillColor&quot;: &quot;indigo&quot;, &quot;fillOpacity&quot;: 0.2, &quot;fillRule&quot;: &quot;evenodd&quot;, &quot;lineCap&quot;: &quot;round&quot;, &quot;lineJoin&quot;: &quot;round&quot;, &quot;opacity&quot;: 1.0, &quot;radius&quot;: 71000.0, &quot;stroke&quot;: true, &quot;weight&quot;: 3}\n",
       "            ).addTo(map_8de725e800d35d654a5b94e5a3721265);\n",
       "        \n",
       "    \n",
       "            circle_9d10cabe6c257b4f56058d06903cf046.bindTooltip(\n",
       "                `&lt;div&gt;\n",
       "                     &lt;div style=&#x27;margin: 0; background-color: black; color: white;&#x27;&gt;&lt;h4 style=&#x27;text-align:center;font-weight: bold&#x27;&gt;Denmark&lt;/h4&gt;&lt;hr style=&#x27;margin:10px;color: white;&#x27;&gt;&lt;ul style=&#x27;color: white;;list-style-type:circle;align-item:left;padding-left:20px;padding-right:20px&#x27;&gt;&lt;li&gt;Confirmed: 3133507&lt;/li&gt;&lt;li&gt;Deaths:   28&lt;/li&gt;&lt;li&gt;Death Rate: 0.0&lt;/li&gt;&lt;/ul&gt;&lt;/div&gt;\n",
       "                 &lt;/div&gt;`,\n",
       "                {&quot;sticky&quot;: true}\n",
       "            );\n",
       "        \n",
       "    \n",
       "            var circle_3519bef74dd05f3847fc724af67af61c = L.circle(\n",
       "                [0.0, 0.0],\n",
       "                {&quot;bubblingMouseEvents&quot;: true, &quot;color&quot;: &quot;red&quot;, &quot;dashArray&quot;: null, &quot;dashOffset&quot;: null, &quot;fill&quot;: true, &quot;fillColor&quot;: &quot;indigo&quot;, &quot;fillOpacity&quot;: 0.2, &quot;fillRule&quot;: &quot;evenodd&quot;, &quot;lineCap&quot;: &quot;round&quot;, &quot;lineJoin&quot;: &quot;round&quot;, &quot;opacity&quot;: 1.0, &quot;radius&quot;: 31000.0, &quot;stroke&quot;: true, &quot;weight&quot;: 3}\n",
       "            ).addTo(map_8de725e800d35d654a5b94e5a3721265);\n",
       "        \n",
       "    \n",
       "            circle_3519bef74dd05f3847fc724af67af61c.bindTooltip(\n",
       "                `&lt;div&gt;\n",
       "                     &lt;div style=&#x27;margin: 0; background-color: black; color: white;&#x27;&gt;&lt;h4 style=&#x27;text-align:center;font-weight: bold&#x27;&gt;Diamond Princess&lt;/h4&gt;&lt;hr style=&#x27;margin:10px;color: white;&#x27;&gt;&lt;ul style=&#x27;color: white;;list-style-type:circle;align-item:left;padding-left:20px;padding-right:20px&#x27;&gt;&lt;li&gt;Confirmed: 712&lt;/li&gt;&lt;li&gt;Deaths:   21&lt;/li&gt;&lt;li&gt;Death Rate: 2.95&lt;/li&gt;&lt;/ul&gt;&lt;/div&gt;\n",
       "                 &lt;/div&gt;`,\n",
       "                {&quot;sticky&quot;: true}\n",
       "            );\n",
       "        \n",
       "    \n",
       "            var circle_5fe21121afdc28b0f304cd8b26a2b654 = L.circle(\n",
       "                [11.8251, 42.5903],\n",
       "                {&quot;bubblingMouseEvents&quot;: true, &quot;color&quot;: &quot;red&quot;, &quot;dashArray&quot;: null, &quot;dashOffset&quot;: null, &quot;fill&quot;: true, &quot;fillColor&quot;: &quot;indigo&quot;, &quot;fillOpacity&quot;: 0.2, &quot;fillRule&quot;: &quot;evenodd&quot;, &quot;lineCap&quot;: &quot;round&quot;, &quot;lineJoin&quot;: &quot;round&quot;, &quot;opacity&quot;: 1.0, &quot;radius&quot;: 46000.0, &quot;stroke&quot;: true, &quot;weight&quot;: 3}\n",
       "            ).addTo(map_8de725e800d35d654a5b94e5a3721265);\n",
       "        \n",
       "    \n",
       "            circle_5fe21121afdc28b0f304cd8b26a2b654.bindTooltip(\n",
       "                `&lt;div&gt;\n",
       "                     &lt;div style=&#x27;margin: 0; background-color: black; color: white;&#x27;&gt;&lt;h4 style=&#x27;text-align:center;font-weight: bold&#x27;&gt;Djibouti&lt;/h4&gt;&lt;hr style=&#x27;margin:10px;color: white;&#x27;&gt;&lt;ul style=&#x27;color: white;;list-style-type:circle;align-item:left;padding-left:20px;padding-right:20px&#x27;&gt;&lt;li&gt;Confirmed: 15675&lt;/li&gt;&lt;li&gt;Deaths:   6335&lt;/li&gt;&lt;li&gt;Death Rate: 40.41&lt;/li&gt;&lt;/ul&gt;&lt;/div&gt;\n",
       "                 &lt;/div&gt;`,\n",
       "                {&quot;sticky&quot;: true}\n",
       "            );\n",
       "        \n",
       "    \n",
       "            var circle_966201c1964cc275fa5d8070a1b5ae8e = L.circle(\n",
       "                [15.415, -61.371],\n",
       "                {&quot;bubblingMouseEvents&quot;: true, &quot;color&quot;: &quot;red&quot;, &quot;dashArray&quot;: null, &quot;dashOffset&quot;: null, &quot;fill&quot;: true, &quot;fillColor&quot;: &quot;indigo&quot;, &quot;fillOpacity&quot;: 0.2, &quot;fillRule&quot;: &quot;evenodd&quot;, &quot;lineCap&quot;: &quot;round&quot;, &quot;lineJoin&quot;: &quot;round&quot;, &quot;opacity&quot;: 1.0, &quot;radius&quot;: 46000.0, &quot;stroke&quot;: true, &quot;weight&quot;: 3}\n",
       "            ).addTo(map_8de725e800d35d654a5b94e5a3721265);\n",
       "        \n",
       "    \n",
       "            circle_966201c1964cc275fa5d8070a1b5ae8e.bindTooltip(\n",
       "                `&lt;div&gt;\n",
       "                     &lt;div style=&#x27;margin: 0; background-color: black; color: white;&#x27;&gt;&lt;h4 style=&#x27;text-align:center;font-weight: bold&#x27;&gt;Dominica&lt;/h4&gt;&lt;hr style=&#x27;margin:10px;color: white;&#x27;&gt;&lt;ul style=&#x27;color: white;;list-style-type:circle;align-item:left;padding-left:20px;padding-right:20px&#x27;&gt;&lt;li&gt;Confirmed: 13752&lt;/li&gt;&lt;li&gt;Deaths:   13&lt;/li&gt;&lt;li&gt;Death Rate: 0.09&lt;/li&gt;&lt;/ul&gt;&lt;/div&gt;\n",
       "                 &lt;/div&gt;`,\n",
       "                {&quot;sticky&quot;: true}\n",
       "            );\n",
       "        \n",
       "    \n",
       "            var circle_cd9bedc7762c62de4724128373bc74de = L.circle(\n",
       "                [18.7357, -70.1627],\n",
       "                {&quot;bubblingMouseEvents&quot;: true, &quot;color&quot;: &quot;red&quot;, &quot;dashArray&quot;: null, &quot;dashOffset&quot;: null, &quot;fill&quot;: true, &quot;fillColor&quot;: &quot;indigo&quot;, &quot;fillOpacity&quot;: 0.2, &quot;fillRule&quot;: &quot;evenodd&quot;, &quot;lineCap&quot;: &quot;round&quot;, &quot;lineJoin&quot;: &quot;round&quot;, &quot;opacity&quot;: 1.0, &quot;radius&quot;: 66000.0, &quot;stroke&quot;: true, &quot;weight&quot;: 3}\n",
       "            ).addTo(map_8de725e800d35d654a5b94e5a3721265);\n",
       "        \n",
       "    \n",
       "            circle_cd9bedc7762c62de4724128373bc74de.bindTooltip(\n",
       "                `&lt;div&gt;\n",
       "                     &lt;div style=&#x27;margin: 0; background-color: black; color: white;&#x27;&gt;&lt;h4 style=&#x27;text-align:center;font-weight: bold&#x27;&gt;Dominican Republic&lt;/h4&gt;&lt;hr style=&#x27;margin:10px;color: white;&#x27;&gt;&lt;ul style=&#x27;color: white;;list-style-type:circle;align-item:left;padding-left:20px;padding-right:20px&#x27;&gt;&lt;li&gt;Confirmed: 581647&lt;/li&gt;&lt;li&gt;Deaths:   189&lt;/li&gt;&lt;li&gt;Death Rate: 0.03&lt;/li&gt;&lt;/ul&gt;&lt;/div&gt;\n",
       "                 &lt;/div&gt;`,\n",
       "                {&quot;sticky&quot;: true}\n",
       "            );\n",
       "        \n",
       "    \n",
       "            var circle_e1196548ff44997097cbb83b8db97867 = L.circle(\n",
       "                [-1.8312, -78.1834],\n",
       "                {&quot;bubblingMouseEvents&quot;: true, &quot;color&quot;: &quot;red&quot;, &quot;dashArray&quot;: null, &quot;dashOffset&quot;: null, &quot;fill&quot;: true, &quot;fillColor&quot;: &quot;indigo&quot;, &quot;fillOpacity&quot;: 0.2, &quot;fillRule&quot;: &quot;evenodd&quot;, &quot;lineCap&quot;: &quot;round&quot;, &quot;lineJoin&quot;: &quot;round&quot;, &quot;opacity&quot;: 1.0, &quot;radius&quot;: 66000.0, &quot;stroke&quot;: true, &quot;weight&quot;: 3}\n",
       "            ).addTo(map_8de725e800d35d654a5b94e5a3721265);\n",
       "        \n",
       "    \n",
       "            circle_e1196548ff44997097cbb83b8db97867.bindTooltip(\n",
       "                `&lt;div&gt;\n",
       "                     &lt;div style=&#x27;margin: 0; background-color: black; color: white;&#x27;&gt;&lt;h4 style=&#x27;text-align:center;font-weight: bold&#x27;&gt;Ecuador&lt;/h4&gt;&lt;hr style=&#x27;margin:10px;color: white;&#x27;&gt;&lt;ul style=&#x27;color: white;;list-style-type:circle;align-item:left;padding-left:20px;padding-right:20px&#x27;&gt;&lt;li&gt;Confirmed: 874750&lt;/li&gt;&lt;li&gt;Deaths:   63&lt;/li&gt;&lt;li&gt;Death Rate: 0.01&lt;/li&gt;&lt;/ul&gt;&lt;/div&gt;\n",
       "                 &lt;/div&gt;`,\n",
       "                {&quot;sticky&quot;: true}\n",
       "            );\n",
       "        \n",
       "    \n",
       "            var circle_e2dab9026a900cb922b07c46c5c9aab5 = L.circle(\n",
       "                [26.820553, 30.802498],\n",
       "                {&quot;bubblingMouseEvents&quot;: true, &quot;color&quot;: &quot;red&quot;, &quot;dashArray&quot;: null, &quot;dashOffset&quot;: null, &quot;fill&quot;: true, &quot;fillColor&quot;: &quot;indigo&quot;, &quot;fillOpacity&quot;: 0.2, &quot;fillRule&quot;: &quot;evenodd&quot;, &quot;lineCap&quot;: &quot;round&quot;, &quot;lineJoin&quot;: &quot;round&quot;, &quot;opacity&quot;: 1.0, &quot;radius&quot;: 66000.0, &quot;stroke&quot;: true, &quot;weight&quot;: 3}\n",
       "            ).addTo(map_8de725e800d35d654a5b94e5a3721265);\n",
       "        \n",
       "    \n",
       "            circle_e2dab9026a900cb922b07c46c5c9aab5.bindTooltip(\n",
       "                `&lt;div&gt;\n",
       "                     &lt;div style=&#x27;margin: 0; background-color: black; color: white;&#x27;&gt;&lt;h4 style=&#x27;text-align:center;font-weight: bold&#x27;&gt;Egypt&lt;/h4&gt;&lt;hr style=&#x27;margin:10px;color: white;&#x27;&gt;&lt;ul style=&#x27;color: white;;list-style-type:circle;align-item:left;padding-left:20px;padding-right:20px&#x27;&gt;&lt;li&gt;Confirmed: 515645&lt;/li&gt;&lt;li&gt;Deaths:   4377&lt;/li&gt;&lt;li&gt;Death Rate: 0.85&lt;/li&gt;&lt;/ul&gt;&lt;/div&gt;\n",
       "                 &lt;/div&gt;`,\n",
       "                {&quot;sticky&quot;: true}\n",
       "            );\n",
       "        \n",
       "    \n",
       "            var circle_3a9f66f81ce759dab64686671f218f35 = L.circle(\n",
       "                [13.7942, -88.8965],\n",
       "                {&quot;bubblingMouseEvents&quot;: true, &quot;color&quot;: &quot;red&quot;, &quot;dashArray&quot;: null, &quot;dashOffset&quot;: null, &quot;fill&quot;: true, &quot;fillColor&quot;: &quot;indigo&quot;, &quot;fillOpacity&quot;: 0.2, &quot;fillRule&quot;: &quot;evenodd&quot;, &quot;lineCap&quot;: &quot;round&quot;, &quot;lineJoin&quot;: &quot;round&quot;, &quot;opacity&quot;: 1.0, &quot;radius&quot;: 56000.0, &quot;stroke&quot;: true, &quot;weight&quot;: 3}\n",
       "            ).addTo(map_8de725e800d35d654a5b94e5a3721265);\n",
       "        \n",
       "    \n",
       "            circle_3a9f66f81ce759dab64686671f218f35.bindTooltip(\n",
       "                `&lt;div&gt;\n",
       "                     &lt;div style=&#x27;margin: 0; background-color: black; color: white;&#x27;&gt;&lt;h4 style=&#x27;text-align:center;font-weight: bold&#x27;&gt;El Salvador&lt;/h4&gt;&lt;hr style=&#x27;margin:10px;color: white;&#x27;&gt;&lt;ul style=&#x27;color: white;;list-style-type:circle;align-item:left;padding-left:20px;padding-right:20px&#x27;&gt;&lt;li&gt;Confirmed: 162089&lt;/li&gt;&lt;li&gt;Deaths:   35617&lt;/li&gt;&lt;li&gt;Death Rate: 21.97&lt;/li&gt;&lt;/ul&gt;&lt;/div&gt;\n",
       "                 &lt;/div&gt;`,\n",
       "                {&quot;sticky&quot;: true}\n",
       "            );\n",
       "        \n",
       "    \n",
       "            var circle_14082022ccd66cde2d58e7248dc1a56e = L.circle(\n",
       "                [1.6508, 10.2679],\n",
       "                {&quot;bubblingMouseEvents&quot;: true, &quot;color&quot;: &quot;red&quot;, &quot;dashArray&quot;: null, &quot;dashOffset&quot;: null, &quot;fill&quot;: true, &quot;fillColor&quot;: &quot;indigo&quot;, &quot;fillOpacity&quot;: 0.2, &quot;fillRule&quot;: &quot;evenodd&quot;, &quot;lineCap&quot;: &quot;round&quot;, &quot;lineJoin&quot;: &quot;round&quot;, &quot;opacity&quot;: 1.0, &quot;radius&quot;: 46000.0, &quot;stroke&quot;: true, &quot;weight&quot;: 3}\n",
       "            ).addTo(map_8de725e800d35d654a5b94e5a3721265);\n",
       "        \n",
       "    \n",
       "            circle_14082022ccd66cde2d58e7248dc1a56e.bindTooltip(\n",
       "                `&lt;div&gt;\n",
       "                     &lt;div style=&#x27;margin: 0; background-color: black; color: white;&#x27;&gt;&lt;h4 style=&#x27;text-align:center;font-weight: bold&#x27;&gt;Equatorial Guinea&lt;/h4&gt;&lt;hr style=&#x27;margin:10px;color: white;&#x27;&gt;&lt;ul style=&#x27;color: white;;list-style-type:circle;align-item:left;padding-left:20px;padding-right:20px&#x27;&gt;&lt;li&gt;Confirmed: 15910&lt;/li&gt;&lt;li&gt;Deaths:   24704&lt;/li&gt;&lt;li&gt;Death Rate: 155.26&lt;/li&gt;&lt;/ul&gt;&lt;/div&gt;\n",
       "                 &lt;/div&gt;`,\n",
       "                {&quot;sticky&quot;: true}\n",
       "            );\n",
       "        \n",
       "    \n",
       "            var circle_dd690a7e32af9f7cd38d5e2a14a10fa8 = L.circle(\n",
       "                [15.1794, 39.7823],\n",
       "                {&quot;bubblingMouseEvents&quot;: true, &quot;color&quot;: &quot;red&quot;, &quot;dashArray&quot;: null, &quot;dashOffset&quot;: null, &quot;fill&quot;: true, &quot;fillColor&quot;: &quot;indigo&quot;, &quot;fillOpacity&quot;: 0.2, &quot;fillRule&quot;: &quot;evenodd&quot;, &quot;lineCap&quot;: &quot;round&quot;, &quot;lineJoin&quot;: &quot;round&quot;, &quot;opacity&quot;: 1.0, &quot;radius&quot;: 46000.0, &quot;stroke&quot;: true, &quot;weight&quot;: 3}\n",
       "            ).addTo(map_8de725e800d35d654a5b94e5a3721265);\n",
       "        \n",
       "    \n",
       "            circle_dd690a7e32af9f7cd38d5e2a14a10fa8.bindTooltip(\n",
       "                `&lt;div&gt;\n",
       "                     &lt;div style=&#x27;margin: 0; background-color: black; color: white;&#x27;&gt;&lt;h4 style=&#x27;text-align:center;font-weight: bold&#x27;&gt;Eritrea&lt;/h4&gt;&lt;hr style=&#x27;margin:10px;color: white;&#x27;&gt;&lt;ul style=&#x27;color: white;;list-style-type:circle;align-item:left;padding-left:20px;padding-right:20px&#x27;&gt;&lt;li&gt;Confirmed: 9755&lt;/li&gt;&lt;li&gt;Deaths:   4131&lt;/li&gt;&lt;li&gt;Death Rate: 42.34&lt;/li&gt;&lt;/ul&gt;&lt;/div&gt;\n",
       "                 &lt;/div&gt;`,\n",
       "                {&quot;sticky&quot;: true}\n",
       "            );\n",
       "        \n",
       "    \n",
       "            var circle_d5e9da3ac6763db17cb800cb049f956c = L.circle(\n",
       "                [58.5953, 25.0136],\n",
       "                {&quot;bubblingMouseEvents&quot;: true, &quot;color&quot;: &quot;red&quot;, &quot;dashArray&quot;: null, &quot;dashOffset&quot;: null, &quot;fill&quot;: true, &quot;fillColor&quot;: &quot;indigo&quot;, &quot;fillOpacity&quot;: 0.2, &quot;fillRule&quot;: &quot;evenodd&quot;, &quot;lineCap&quot;: &quot;round&quot;, &quot;lineJoin&quot;: &quot;round&quot;, &quot;opacity&quot;: 1.0, &quot;radius&quot;: 66000.0, &quot;stroke&quot;: true, &quot;weight&quot;: 3}\n",
       "            ).addTo(map_8de725e800d35d654a5b94e5a3721265);\n",
       "        \n",
       "    \n",
       "            circle_d5e9da3ac6763db17cb800cb049f956c.bindTooltip(\n",
       "                `&lt;div&gt;\n",
       "                     &lt;div style=&#x27;margin: 0; background-color: black; color: white;&#x27;&gt;&lt;h4 style=&#x27;text-align:center;font-weight: bold&#x27;&gt;Estonia&lt;/h4&gt;&lt;hr style=&#x27;margin:10px;color: white;&#x27;&gt;&lt;ul style=&#x27;color: white;;list-style-type:circle;align-item:left;padding-left:20px;padding-right:20px&#x27;&gt;&lt;li&gt;Confirmed: 576047&lt;/li&gt;&lt;li&gt;Deaths:   183&lt;/li&gt;&lt;li&gt;Death Rate: 0.03&lt;/li&gt;&lt;/ul&gt;&lt;/div&gt;\n",
       "                 &lt;/div&gt;`,\n",
       "                {&quot;sticky&quot;: true}\n",
       "            );\n",
       "        \n",
       "    \n",
       "            var circle_c39c005b8193f544578b713249784f4d = L.circle(\n",
       "                [-26.5225, 31.4659],\n",
       "                {&quot;bubblingMouseEvents&quot;: true, &quot;color&quot;: &quot;red&quot;, &quot;dashArray&quot;: null, &quot;dashOffset&quot;: null, &quot;fill&quot;: true, &quot;fillColor&quot;: &quot;indigo&quot;, &quot;fillOpacity&quot;: 0.2, &quot;fillRule&quot;: &quot;evenodd&quot;, &quot;lineCap&quot;: &quot;round&quot;, &quot;lineJoin&quot;: &quot;round&quot;, &quot;opacity&quot;: 1.0, &quot;radius&quot;: 56000.0, &quot;stroke&quot;: true, &quot;weight&quot;: 3}\n",
       "            ).addTo(map_8de725e800d35d654a5b94e5a3721265);\n",
       "        \n",
       "    \n",
       "            circle_c39c005b8193f544578b713249784f4d.bindTooltip(\n",
       "                `&lt;div&gt;\n",
       "                     &lt;div style=&#x27;margin: 0; background-color: black; color: white;&#x27;&gt;&lt;h4 style=&#x27;text-align:center;font-weight: bold&#x27;&gt;Eswatini&lt;/h4&gt;&lt;hr style=&#x27;margin:10px;color: white;&#x27;&gt;&lt;ul style=&#x27;color: white;;list-style-type:circle;align-item:left;padding-left:20px;padding-right:20px&#x27;&gt;&lt;li&gt;Confirmed: 72257&lt;/li&gt;&lt;li&gt;Deaths:   103&lt;/li&gt;&lt;li&gt;Death Rate: 0.14&lt;/li&gt;&lt;/ul&gt;&lt;/div&gt;\n",
       "                 &lt;/div&gt;`,\n",
       "                {&quot;sticky&quot;: true}\n",
       "            );\n",
       "        \n",
       "    \n",
       "            var circle_808d7c82cbe40e03d2906e3c990f146e = L.circle(\n",
       "                [9.145, 40.4897],\n",
       "                {&quot;bubblingMouseEvents&quot;: true, &quot;color&quot;: &quot;red&quot;, &quot;dashArray&quot;: null, &quot;dashOffset&quot;: null, &quot;fill&quot;: true, &quot;fillColor&quot;: &quot;indigo&quot;, &quot;fillOpacity&quot;: 0.2, &quot;fillRule&quot;: &quot;evenodd&quot;, &quot;lineCap&quot;: &quot;round&quot;, &quot;lineJoin&quot;: &quot;round&quot;, &quot;opacity&quot;: 1.0, &quot;radius&quot;: 66000.0, &quot;stroke&quot;: true, &quot;weight&quot;: 3}\n",
       "            ).addTo(map_8de725e800d35d654a5b94e5a3721265);\n",
       "        \n",
       "    \n",
       "            circle_808d7c82cbe40e03d2906e3c990f146e.bindTooltip(\n",
       "                `&lt;div&gt;\n",
       "                     &lt;div style=&#x27;margin: 0; background-color: black; color: white;&#x27;&gt;&lt;h4 style=&#x27;text-align:center;font-weight: bold&#x27;&gt;Ethiopia&lt;/h4&gt;&lt;hr style=&#x27;margin:10px;color: white;&#x27;&gt;&lt;ul style=&#x27;color: white;;list-style-type:circle;align-item:left;padding-left:20px;padding-right:20px&#x27;&gt;&lt;li&gt;Confirmed: 471527&lt;/li&gt;&lt;li&gt;Deaths:   2561&lt;/li&gt;&lt;li&gt;Death Rate: 0.54&lt;/li&gt;&lt;/ul&gt;&lt;/div&gt;\n",
       "                 &lt;/div&gt;`,\n",
       "                {&quot;sticky&quot;: true}\n",
       "            );\n",
       "        \n",
       "    \n",
       "            var circle_168f1b06c97e8d9ed0644d9bf24b1734 = L.circle(\n",
       "                [-17.7134, 178.065],\n",
       "                {&quot;bubblingMouseEvents&quot;: true, &quot;color&quot;: &quot;red&quot;, &quot;dashArray&quot;: null, &quot;dashOffset&quot;: null, &quot;fill&quot;: true, &quot;fillColor&quot;: &quot;indigo&quot;, &quot;fillOpacity&quot;: 0.2, &quot;fillRule&quot;: &quot;evenodd&quot;, &quot;lineCap&quot;: &quot;round&quot;, &quot;lineJoin&quot;: &quot;round&quot;, &quot;opacity&quot;: 1.0, &quot;radius&quot;: 56000.0, &quot;stroke&quot;: true, &quot;weight&quot;: 3}\n",
       "            ).addTo(map_8de725e800d35d654a5b94e5a3721265);\n",
       "        \n",
       "    \n",
       "            circle_168f1b06c97e8d9ed0644d9bf24b1734.bindTooltip(\n",
       "                `&lt;div&gt;\n",
       "                     &lt;div style=&#x27;margin: 0; background-color: black; color: white;&#x27;&gt;&lt;h4 style=&#x27;text-align:center;font-weight: bold&#x27;&gt;Fiji&lt;/h4&gt;&lt;hr style=&#x27;margin:10px;color: white;&#x27;&gt;&lt;ul style=&#x27;color: white;;list-style-type:circle;align-item:left;padding-left:20px;padding-right:20px&#x27;&gt;&lt;li&gt;Confirmed: 64898&lt;/li&gt;&lt;li&gt;Deaths:   1406&lt;/li&gt;&lt;li&gt;Death Rate: 2.17&lt;/li&gt;&lt;/ul&gt;&lt;/div&gt;\n",
       "                 &lt;/div&gt;`,\n",
       "                {&quot;sticky&quot;: true}\n",
       "            );\n",
       "        \n",
       "    \n",
       "            var circle_b6331cb64bcc4284610b3bb0c7b2cc80 = L.circle(\n",
       "                [61.92411, 25.748151],\n",
       "                {&quot;bubblingMouseEvents&quot;: true, &quot;color&quot;: &quot;red&quot;, &quot;dashArray&quot;: null, &quot;dashOffset&quot;: null, &quot;fill&quot;: true, &quot;fillColor&quot;: &quot;indigo&quot;, &quot;fillOpacity&quot;: 0.2, &quot;fillRule&quot;: &quot;evenodd&quot;, &quot;lineCap&quot;: &quot;round&quot;, &quot;lineJoin&quot;: &quot;round&quot;, &quot;opacity&quot;: 1.0, &quot;radius&quot;: 66000.0, &quot;stroke&quot;: true, &quot;weight&quot;: 3}\n",
       "            ).addTo(map_8de725e800d35d654a5b94e5a3721265);\n",
       "        \n",
       "    \n",
       "            circle_b6331cb64bcc4284610b3bb0c7b2cc80.bindTooltip(\n",
       "                `&lt;div&gt;\n",
       "                     &lt;div style=&#x27;margin: 0; background-color: black; color: white;&#x27;&gt;&lt;h4 style=&#x27;text-align:center;font-weight: bold&#x27;&gt;Finland&lt;/h4&gt;&lt;hr style=&#x27;margin:10px;color: white;&#x27;&gt;&lt;ul style=&#x27;color: white;;list-style-type:circle;align-item:left;padding-left:20px;padding-right:20px&#x27;&gt;&lt;li&gt;Confirmed: 1081225&lt;/li&gt;&lt;li&gt;Deaths:   7512&lt;/li&gt;&lt;li&gt;Death Rate: 0.69&lt;/li&gt;&lt;/ul&gt;&lt;/div&gt;\n",
       "                 &lt;/div&gt;`,\n",
       "                {&quot;sticky&quot;: true}\n",
       "            );\n",
       "        \n",
       "    \n",
       "            var circle_1ddcc63b985ef6596b1e056e4bacb542 = L.circle(\n",
       "                [3.9339, -53.1258],\n",
       "                {&quot;bubblingMouseEvents&quot;: true, &quot;color&quot;: &quot;red&quot;, &quot;dashArray&quot;: null, &quot;dashOffset&quot;: null, &quot;fill&quot;: true, &quot;fillColor&quot;: &quot;indigo&quot;, &quot;fillOpacity&quot;: 0.2, &quot;fillRule&quot;: &quot;evenodd&quot;, &quot;lineCap&quot;: &quot;round&quot;, &quot;lineJoin&quot;: &quot;round&quot;, &quot;opacity&quot;: 1.0, &quot;radius&quot;: 56000.0, &quot;stroke&quot;: true, &quot;weight&quot;: 3}\n",
       "            ).addTo(map_8de725e800d35d654a5b94e5a3721265);\n",
       "        \n",
       "    \n",
       "            circle_1ddcc63b985ef6596b1e056e4bacb542.bindTooltip(\n",
       "                `&lt;div&gt;\n",
       "                     &lt;div style=&#x27;margin: 0; background-color: black; color: white;&#x27;&gt;&lt;h4 style=&#x27;text-align:center;font-weight: bold&#x27;&gt;France&lt;/h4&gt;&lt;hr style=&#x27;margin:10px;color: white;&#x27;&gt;&lt;ul style=&#x27;color: white;;list-style-type:circle;align-item:left;padding-left:20px;padding-right:20px&#x27;&gt;&lt;li&gt;Confirmed: 82313&lt;/li&gt;&lt;li&gt;Deaths:   862&lt;/li&gt;&lt;li&gt;Death Rate: 1.05&lt;/li&gt;&lt;/ul&gt;&lt;/div&gt;\n",
       "                 &lt;/div&gt;`,\n",
       "                {&quot;sticky&quot;: true}\n",
       "            );\n",
       "        \n",
       "    \n",
       "            var circle_ee55469ed186c83ca1883c15873a4af4 = L.circle(\n",
       "                [-17.6797, 149.4068],\n",
       "                {&quot;bubblingMouseEvents&quot;: true, &quot;color&quot;: &quot;red&quot;, &quot;dashArray&quot;: null, &quot;dashOffset&quot;: null, &quot;fill&quot;: true, &quot;fillColor&quot;: &quot;indigo&quot;, &quot;fillOpacity&quot;: 0.2, &quot;fillRule&quot;: &quot;evenodd&quot;, &quot;lineCap&quot;: &quot;round&quot;, &quot;lineJoin&quot;: &quot;round&quot;, &quot;opacity&quot;: 1.0, &quot;radius&quot;: 56000.0, &quot;stroke&quot;: true, &quot;weight&quot;: 3}\n",
       "            ).addTo(map_8de725e800d35d654a5b94e5a3721265);\n",
       "        \n",
       "    \n",
       "            circle_ee55469ed186c83ca1883c15873a4af4.bindTooltip(\n",
       "                `&lt;div&gt;\n",
       "                     &lt;div style=&#x27;margin: 0; background-color: black; color: white;&#x27;&gt;&lt;h4 style=&#x27;text-align:center;font-weight: bold&#x27;&gt;France&lt;/h4&gt;&lt;hr style=&#x27;margin:10px;color: white;&#x27;&gt;&lt;ul style=&#x27;color: white;;list-style-type:circle;align-item:left;padding-left:20px;padding-right:20px&#x27;&gt;&lt;li&gt;Confirmed: 72898&lt;/li&gt;&lt;li&gt;Deaths:   4406&lt;/li&gt;&lt;li&gt;Death Rate: 6.04&lt;/li&gt;&lt;/ul&gt;&lt;/div&gt;\n",
       "                 &lt;/div&gt;`,\n",
       "                {&quot;sticky&quot;: true}\n",
       "            );\n",
       "        \n",
       "    \n",
       "            var circle_5c0958ae4e0da279d3ed65f65196ed19 = L.circle(\n",
       "                [16.265, -61.551],\n",
       "                {&quot;bubblingMouseEvents&quot;: true, &quot;color&quot;: &quot;red&quot;, &quot;dashArray&quot;: null, &quot;dashOffset&quot;: null, &quot;fill&quot;: true, &quot;fillColor&quot;: &quot;indigo&quot;, &quot;fillOpacity&quot;: 0.2, &quot;fillRule&quot;: &quot;evenodd&quot;, &quot;lineCap&quot;: &quot;round&quot;, &quot;lineJoin&quot;: &quot;round&quot;, &quot;opacity&quot;: 1.0, &quot;radius&quot;: 56000.0, &quot;stroke&quot;: true, &quot;weight&quot;: 3}\n",
       "            ).addTo(map_8de725e800d35d654a5b94e5a3721265);\n",
       "        \n",
       "    \n",
       "            circle_5c0958ae4e0da279d3ed65f65196ed19.bindTooltip(\n",
       "                `&lt;div&gt;\n",
       "                     &lt;div style=&#x27;margin: 0; background-color: black; color: white;&#x27;&gt;&lt;h4 style=&#x27;text-align:center;font-weight: bold&#x27;&gt;France&lt;/h4&gt;&lt;hr style=&#x27;margin:10px;color: white;&#x27;&gt;&lt;ul style=&#x27;color: white;;list-style-type:circle;align-item:left;padding-left:20px;padding-right:20px&#x27;&gt;&lt;li&gt;Confirmed: 157865&lt;/li&gt;&lt;li&gt;Deaths:   397&lt;/li&gt;&lt;li&gt;Death Rate: 0.25&lt;/li&gt;&lt;/ul&gt;&lt;/div&gt;\n",
       "                 &lt;/div&gt;`,\n",
       "                {&quot;sticky&quot;: true}\n",
       "            );\n",
       "        \n",
       "    \n",
       "            var circle_87956de9a6d5d58f20d95e33f710d533 = L.circle(\n",
       "                [14.6415, -61.0242],\n",
       "                {&quot;bubblingMouseEvents&quot;: true, &quot;color&quot;: &quot;red&quot;, &quot;dashArray&quot;: null, &quot;dashOffset&quot;: null, &quot;fill&quot;: true, &quot;fillColor&quot;: &quot;indigo&quot;, &quot;fillOpacity&quot;: 0.2, &quot;fillRule&quot;: &quot;evenodd&quot;, &quot;lineCap&quot;: &quot;round&quot;, &quot;lineJoin&quot;: &quot;round&quot;, &quot;opacity&quot;: 1.0, &quot;radius&quot;: 56000.0, &quot;stroke&quot;: true, &quot;weight&quot;: 3}\n",
       "            ).addTo(map_8de725e800d35d654a5b94e5a3721265);\n",
       "        \n",
       "    \n",
       "            circle_87956de9a6d5d58f20d95e33f710d533.bindTooltip(\n",
       "                `&lt;div&gt;\n",
       "                     &lt;div style=&#x27;margin: 0; background-color: black; color: white;&#x27;&gt;&lt;h4 style=&#x27;text-align:center;font-weight: bold&#x27;&gt;France&lt;/h4&gt;&lt;hr style=&#x27;margin:10px;color: white;&#x27;&gt;&lt;ul style=&#x27;color: white;;list-style-type:circle;align-item:left;padding-left:20px;padding-right:20px&#x27;&gt;&lt;li&gt;Confirmed: 162163&lt;/li&gt;&lt;li&gt;Deaths:   649&lt;/li&gt;&lt;li&gt;Death Rate: 0.4&lt;/li&gt;&lt;/ul&gt;&lt;/div&gt;\n",
       "                 &lt;/div&gt;`,\n",
       "                {&quot;sticky&quot;: true}\n",
       "            );\n",
       "        \n",
       "    \n",
       "            var circle_a5438fa744683d3fe75ba3ce84b440a3 = L.circle(\n",
       "                [-12.8275, 45.166244],\n",
       "                {&quot;bubblingMouseEvents&quot;: true, &quot;color&quot;: &quot;red&quot;, &quot;dashArray&quot;: null, &quot;dashOffset&quot;: null, &quot;fill&quot;: true, &quot;fillColor&quot;: &quot;indigo&quot;, &quot;fillOpacity&quot;: 0.2, &quot;fillRule&quot;: &quot;evenodd&quot;, &quot;lineCap&quot;: &quot;round&quot;, &quot;lineJoin&quot;: &quot;round&quot;, &quot;opacity&quot;: 1.0, &quot;radius&quot;: 51000.0, &quot;stroke&quot;: true, &quot;weight&quot;: 3}\n",
       "            ).addTo(map_8de725e800d35d654a5b94e5a3721265);\n",
       "        \n",
       "    \n",
       "            circle_a5438fa744683d3fe75ba3ce84b440a3.bindTooltip(\n",
       "                `&lt;div&gt;\n",
       "                     &lt;div style=&#x27;margin: 0; background-color: black; color: white;&#x27;&gt;&lt;h4 style=&#x27;text-align:center;font-weight: bold&#x27;&gt;France&lt;/h4&gt;&lt;hr style=&#x27;margin:10px;color: white;&#x27;&gt;&lt;ul style=&#x27;color: white;;list-style-type:circle;align-item:left;padding-left:20px;padding-right:20px&#x27;&gt;&lt;li&gt;Confirmed: 37523&lt;/li&gt;&lt;li&gt;Deaths:   947&lt;/li&gt;&lt;li&gt;Death Rate: 2.52&lt;/li&gt;&lt;/ul&gt;&lt;/div&gt;\n",
       "                 &lt;/div&gt;`,\n",
       "                {&quot;sticky&quot;: true}\n",
       "            );\n",
       "        \n",
       "    \n",
       "            var circle_597ee570fed45204f616ccc531091f19 = L.circle(\n",
       "                [-20.904305, 165.618042],\n",
       "                {&quot;bubblingMouseEvents&quot;: true, &quot;color&quot;: &quot;red&quot;, &quot;dashArray&quot;: null, &quot;dashOffset&quot;: null, &quot;fill&quot;: true, &quot;fillColor&quot;: &quot;indigo&quot;, &quot;fillOpacity&quot;: 0.2, &quot;fillRule&quot;: &quot;evenodd&quot;, &quot;lineCap&quot;: &quot;round&quot;, &quot;lineJoin&quot;: &quot;round&quot;, &quot;opacity&quot;: 1.0, &quot;radius&quot;: 56000.0, &quot;stroke&quot;: true, &quot;weight&quot;: 3}\n",
       "            ).addTo(map_8de725e800d35d654a5b94e5a3721265);\n",
       "        \n",
       "    \n",
       "            circle_597ee570fed45204f616ccc531091f19.bindTooltip(\n",
       "                `&lt;div&gt;\n",
       "                     &lt;div style=&#x27;margin: 0; background-color: black; color: white;&#x27;&gt;&lt;h4 style=&#x27;text-align:center;font-weight: bold&#x27;&gt;France&lt;/h4&gt;&lt;hr style=&#x27;margin:10px;color: white;&#x27;&gt;&lt;ul style=&#x27;color: white;;list-style-type:circle;align-item:left;padding-left:20px;padding-right:20px&#x27;&gt;&lt;li&gt;Confirmed: 61880&lt;/li&gt;&lt;li&gt;Deaths:   918&lt;/li&gt;&lt;li&gt;Death Rate: 1.48&lt;/li&gt;&lt;/ul&gt;&lt;/div&gt;\n",
       "                 &lt;/div&gt;`,\n",
       "                {&quot;sticky&quot;: true}\n",
       "            );\n",
       "        \n",
       "    \n",
       "            var circle_ee3a0b17f18548a9fda8ae4f7ebbbc7d = L.circle(\n",
       "                [-21.1151, 55.5364],\n",
       "                {&quot;bubblingMouseEvents&quot;: true, &quot;color&quot;: &quot;red&quot;, &quot;dashArray&quot;: null, &quot;dashOffset&quot;: null, &quot;fill&quot;: true, &quot;fillColor&quot;: &quot;indigo&quot;, &quot;fillOpacity&quot;: 0.2, &quot;fillRule&quot;: &quot;evenodd&quot;, &quot;lineCap&quot;: &quot;round&quot;, &quot;lineJoin&quot;: &quot;round&quot;, &quot;opacity&quot;: 1.0, &quot;radius&quot;: 61000.0, &quot;stroke&quot;: true, &quot;weight&quot;: 3}\n",
       "            ).addTo(map_8de725e800d35d654a5b94e5a3721265);\n",
       "        \n",
       "    \n",
       "            circle_ee3a0b17f18548a9fda8ae4f7ebbbc7d.bindTooltip(\n",
       "                `&lt;div&gt;\n",
       "                     &lt;div style=&#x27;margin: 0; background-color: black; color: white;&#x27;&gt;&lt;h4 style=&#x27;text-align:center;font-weight: bold&#x27;&gt;France&lt;/h4&gt;&lt;hr style=&#x27;margin:10px;color: white;&#x27;&gt;&lt;ul style=&#x27;color: white;;list-style-type:circle;align-item:left;padding-left:20px;padding-right:20px&#x27;&gt;&lt;li&gt;Confirmed: 414615&lt;/li&gt;&lt;li&gt;Deaths:   187&lt;/li&gt;&lt;li&gt;Death Rate: 0.05&lt;/li&gt;&lt;/ul&gt;&lt;/div&gt;\n",
       "                 &lt;/div&gt;`,\n",
       "                {&quot;sticky&quot;: true}\n",
       "            );\n",
       "        \n",
       "    \n",
       "            var circle_5ba116b1a0437a669863c6dcfeaac4ca = L.circle(\n",
       "                [17.9, -62.8333],\n",
       "                {&quot;bubblingMouseEvents&quot;: true, &quot;color&quot;: &quot;red&quot;, &quot;dashArray&quot;: null, &quot;dashOffset&quot;: null, &quot;fill&quot;: true, &quot;fillColor&quot;: &quot;indigo&quot;, &quot;fillOpacity&quot;: 0.2, &quot;fillRule&quot;: &quot;evenodd&quot;, &quot;lineCap&quot;: &quot;round&quot;, &quot;lineJoin&quot;: &quot;round&quot;, &quot;opacity&quot;: 1.0, &quot;radius&quot;: 41000.0, &quot;stroke&quot;: true, &quot;weight&quot;: 3}\n",
       "            ).addTo(map_8de725e800d35d654a5b94e5a3721265);\n",
       "        \n",
       "    \n",
       "            circle_5ba116b1a0437a669863c6dcfeaac4ca.bindTooltip(\n",
       "                `&lt;div&gt;\n",
       "                     &lt;div style=&#x27;margin: 0; background-color: black; color: white;&#x27;&gt;&lt;h4 style=&#x27;text-align:center;font-weight: bold&#x27;&gt;France&lt;/h4&gt;&lt;hr style=&#x27;margin:10px;color: white;&#x27;&gt;&lt;ul style=&#x27;color: white;;list-style-type:circle;align-item:left;padding-left:20px;padding-right:20px&#x27;&gt;&lt;li&gt;Confirmed: 4630&lt;/li&gt;&lt;li&gt;Deaths:   313&lt;/li&gt;&lt;li&gt;Death Rate: 6.76&lt;/li&gt;&lt;/ul&gt;&lt;/div&gt;\n",
       "                 &lt;/div&gt;`,\n",
       "                {&quot;sticky&quot;: true}\n",
       "            );\n",
       "        \n",
       "    \n",
       "            var circle_f2b2525d4dd833361292f748f53a8cd9 = L.circle(\n",
       "                [46.8852, -56.3159],\n",
       "                {&quot;bubblingMouseEvents&quot;: true, &quot;color&quot;: &quot;red&quot;, &quot;dashArray&quot;: null, &quot;dashOffset&quot;: null, &quot;fill&quot;: true, &quot;fillColor&quot;: &quot;indigo&quot;, &quot;fillOpacity&quot;: 0.2, &quot;fillRule&quot;: &quot;evenodd&quot;, &quot;lineCap&quot;: &quot;round&quot;, &quot;lineJoin&quot;: &quot;round&quot;, &quot;opacity&quot;: 1.0, &quot;radius&quot;: 36000.0, &quot;stroke&quot;: true, &quot;weight&quot;: 3}\n",
       "            ).addTo(map_8de725e800d35d654a5b94e5a3721265);\n",
       "        \n",
       "    \n",
       "            circle_f2b2525d4dd833361292f748f53a8cd9.bindTooltip(\n",
       "                `&lt;div&gt;\n",
       "                     &lt;div style=&#x27;margin: 0; background-color: black; color: white;&#x27;&gt;&lt;h4 style=&#x27;text-align:center;font-weight: bold&#x27;&gt;France&lt;/h4&gt;&lt;hr style=&#x27;margin:10px;color: white;&#x27;&gt;&lt;ul style=&#x27;color: white;;list-style-type:circle;align-item:left;padding-left:20px;padding-right:20px&#x27;&gt;&lt;li&gt;Confirmed: 2748&lt;/li&gt;&lt;li&gt;Deaths:   777&lt;/li&gt;&lt;li&gt;Death Rate: 28.26&lt;/li&gt;&lt;/ul&gt;&lt;/div&gt;\n",
       "                 &lt;/div&gt;`,\n",
       "                {&quot;sticky&quot;: true}\n",
       "            );\n",
       "        \n",
       "    \n",
       "            var circle_87c22c11e2c6cec3d72c5637790d2e82 = L.circle(\n",
       "                [18.0708, -63.0501],\n",
       "                {&quot;bubblingMouseEvents&quot;: true, &quot;color&quot;: &quot;red&quot;, &quot;dashArray&quot;: null, &quot;dashOffset&quot;: null, &quot;fill&quot;: true, &quot;fillColor&quot;: &quot;indigo&quot;, &quot;fillOpacity&quot;: 0.2, &quot;fillRule&quot;: &quot;evenodd&quot;, &quot;lineCap&quot;: &quot;round&quot;, &quot;lineJoin&quot;: &quot;round&quot;, &quot;opacity&quot;: 1.0, &quot;radius&quot;: 46000.0, &quot;stroke&quot;: true, &quot;weight&quot;: 3}\n",
       "            ).addTo(map_8de725e800d35d654a5b94e5a3721265);\n",
       "        \n",
       "    \n",
       "            circle_87c22c11e2c6cec3d72c5637790d2e82.bindTooltip(\n",
       "                `&lt;div&gt;\n",
       "                     &lt;div style=&#x27;margin: 0; background-color: black; color: white;&#x27;&gt;&lt;h4 style=&#x27;text-align:center;font-weight: bold&#x27;&gt;France&lt;/h4&gt;&lt;hr style=&#x27;margin:10px;color: white;&#x27;&gt;&lt;ul style=&#x27;color: white;;list-style-type:circle;align-item:left;padding-left:20px;padding-right:20px&#x27;&gt;&lt;li&gt;Confirmed: 10668&lt;/li&gt;&lt;li&gt;Deaths:   6&lt;/li&gt;&lt;li&gt;Death Rate: 0.06&lt;/li&gt;&lt;/ul&gt;&lt;/div&gt;\n",
       "                 &lt;/div&gt;`,\n",
       "                {&quot;sticky&quot;: true}\n",
       "            );\n",
       "        \n",
       "    \n",
       "            var circle_363c2c8b710635e329bb22a26fd6e723 = L.circle(\n",
       "                [-14.2938, -178.1165],\n",
       "                {&quot;bubblingMouseEvents&quot;: true, &quot;color&quot;: &quot;red&quot;, &quot;dashArray&quot;: null, &quot;dashOffset&quot;: null, &quot;fill&quot;: true, &quot;fillColor&quot;: &quot;indigo&quot;, &quot;fillOpacity&quot;: 0.2, &quot;fillRule&quot;: &quot;evenodd&quot;, &quot;lineCap&quot;: &quot;round&quot;, &quot;lineJoin&quot;: &quot;round&quot;, &quot;opacity&quot;: 1.0, &quot;radius&quot;: 31000.0, &quot;stroke&quot;: true, &quot;weight&quot;: 3}\n",
       "            ).addTo(map_8de725e800d35d654a5b94e5a3721265);\n",
       "        \n",
       "    \n",
       "            circle_363c2c8b710635e329bb22a26fd6e723.bindTooltip(\n",
       "                `&lt;div&gt;\n",
       "                     &lt;div style=&#x27;margin: 0; background-color: black; color: white;&#x27;&gt;&lt;h4 style=&#x27;text-align:center;font-weight: bold&#x27;&gt;France&lt;/h4&gt;&lt;hr style=&#x27;margin:10px;color: white;&#x27;&gt;&lt;ul style=&#x27;color: white;;list-style-type:circle;align-item:left;padding-left:20px;padding-right:20px&#x27;&gt;&lt;li&gt;Confirmed: 454&lt;/li&gt;&lt;li&gt;Deaths:   1&lt;/li&gt;&lt;li&gt;Death Rate: 0.22&lt;/li&gt;&lt;/ul&gt;&lt;/div&gt;\n",
       "                 &lt;/div&gt;`,\n",
       "                {&quot;sticky&quot;: true}\n",
       "            );\n",
       "        \n",
       "    \n",
       "            var circle_df3e77320cb133e2b671ed98dc7c143e = L.circle(\n",
       "                [46.2276, 2.2137],\n",
       "                {&quot;bubblingMouseEvents&quot;: true, &quot;color&quot;: &quot;red&quot;, &quot;dashArray&quot;: null, &quot;dashOffset&quot;: null, &quot;fill&quot;: true, &quot;fillColor&quot;: &quot;indigo&quot;, &quot;fillOpacity&quot;: 0.2, &quot;fillRule&quot;: &quot;evenodd&quot;, &quot;lineCap&quot;: &quot;round&quot;, &quot;lineJoin&quot;: &quot;round&quot;, &quot;opacity&quot;: 1.0, &quot;radius&quot;: 86000.0, &quot;stroke&quot;: true, &quot;weight&quot;: 3}\n",
       "            ).addTo(map_8de725e800d35d654a5b94e5a3721265);\n",
       "        \n",
       "    \n",
       "            circle_df3e77320cb133e2b671ed98dc7c143e.bindTooltip(\n",
       "                `&lt;div&gt;\n",
       "                     &lt;div style=&#x27;margin: 0; background-color: black; color: white;&#x27;&gt;&lt;h4 style=&#x27;text-align:center;font-weight: bold&#x27;&gt;France&lt;/h4&gt;&lt;hr style=&#x27;margin:10px;color: white;&#x27;&gt;&lt;ul style=&#x27;color: white;;list-style-type:circle;align-item:left;padding-left:20px;padding-right:20px&#x27;&gt;&lt;li&gt;Confirmed: 28575859&lt;/li&gt;&lt;li&gt;Deaths:   63&lt;/li&gt;&lt;li&gt;Death Rate: 0.0&lt;/li&gt;&lt;/ul&gt;&lt;/div&gt;\n",
       "                 &lt;/div&gt;`,\n",
       "                {&quot;sticky&quot;: true}\n",
       "            );\n",
       "        \n",
       "    \n",
       "            var circle_c87df84dd4130b21980d137ba25591b6 = L.circle(\n",
       "                [-0.8037, 11.6094],\n",
       "                {&quot;bubblingMouseEvents&quot;: true, &quot;color&quot;: &quot;red&quot;, &quot;dashArray&quot;: null, &quot;dashOffset&quot;: null, &quot;fill&quot;: true, &quot;fillColor&quot;: &quot;indigo&quot;, &quot;fillOpacity&quot;: 0.2, &quot;fillRule&quot;: &quot;evenodd&quot;, &quot;lineCap&quot;: &quot;round&quot;, &quot;lineJoin&quot;: &quot;round&quot;, &quot;opacity&quot;: 1.0, &quot;radius&quot;: 51000.0, &quot;stroke&quot;: true, &quot;weight&quot;: 3}\n",
       "            ).addTo(map_8de725e800d35d654a5b94e5a3721265);\n",
       "        \n",
       "    \n",
       "            circle_c87df84dd4130b21980d137ba25591b6.bindTooltip(\n",
       "                `&lt;div&gt;\n",
       "                     &lt;div style=&#x27;margin: 0; background-color: black; color: white;&#x27;&gt;&lt;h4 style=&#x27;text-align:center;font-weight: bold&#x27;&gt;Gabon&lt;/h4&gt;&lt;hr style=&#x27;margin:10px;color: white;&#x27;&gt;&lt;ul style=&#x27;color: white;;list-style-type:circle;align-item:left;padding-left:20px;padding-right:20px&#x27;&gt;&lt;li&gt;Confirmed: 47622&lt;/li&gt;&lt;li&gt;Deaths:   7&lt;/li&gt;&lt;li&gt;Death Rate: 0.01&lt;/li&gt;&lt;/ul&gt;&lt;/div&gt;\n",
       "                 &lt;/div&gt;`,\n",
       "                {&quot;sticky&quot;: true}\n",
       "            );\n",
       "        \n",
       "    \n",
       "            var circle_7845b03177477deae9e44134760f2960 = L.circle(\n",
       "                [13.4432, -15.3101],\n",
       "                {&quot;bubblingMouseEvents&quot;: true, &quot;color&quot;: &quot;red&quot;, &quot;dashArray&quot;: null, &quot;dashOffset&quot;: null, &quot;fill&quot;: true, &quot;fillColor&quot;: &quot;indigo&quot;, &quot;fillOpacity&quot;: 0.2, &quot;fillRule&quot;: &quot;evenodd&quot;, &quot;lineCap&quot;: &quot;round&quot;, &quot;lineJoin&quot;: &quot;round&quot;, &quot;opacity&quot;: 1.0, &quot;radius&quot;: 46000.0, &quot;stroke&quot;: true, &quot;weight&quot;: 3}\n",
       "            ).addTo(map_8de725e800d35d654a5b94e5a3721265);\n",
       "        \n",
       "    \n",
       "            circle_7845b03177477deae9e44134760f2960.bindTooltip(\n",
       "                `&lt;div&gt;\n",
       "                     &lt;div style=&#x27;margin: 0; background-color: black; color: white;&#x27;&gt;&lt;h4 style=&#x27;text-align:center;font-weight: bold&#x27;&gt;Gambia&lt;/h4&gt;&lt;hr style=&#x27;margin:10px;color: white;&#x27;&gt;&lt;ul style=&#x27;color: white;;list-style-type:circle;align-item:left;padding-left:20px;padding-right:20px&#x27;&gt;&lt;li&gt;Confirmed: 12002&lt;/li&gt;&lt;li&gt;Deaths:   144779&lt;/li&gt;&lt;li&gt;Death Rate: 1206.19&lt;/li&gt;&lt;/ul&gt;&lt;/div&gt;\n",
       "                 &lt;/div&gt;`,\n",
       "                {&quot;sticky&quot;: true}\n",
       "            );\n",
       "        \n",
       "    \n",
       "            var circle_88d8a2cde93a8d427331605dd3ccd8e4 = L.circle(\n",
       "                [42.3154, 43.3569],\n",
       "                {&quot;bubblingMouseEvents&quot;: true, &quot;color&quot;: &quot;red&quot;, &quot;dashArray&quot;: null, &quot;dashOffset&quot;: null, &quot;fill&quot;: true, &quot;fillColor&quot;: &quot;indigo&quot;, &quot;fillOpacity&quot;: 0.2, &quot;fillRule&quot;: &quot;evenodd&quot;, &quot;lineCap&quot;: &quot;round&quot;, &quot;lineJoin&quot;: &quot;round&quot;, &quot;opacity&quot;: 1.0, &quot;radius&quot;: 71000.0, &quot;stroke&quot;: true, &quot;weight&quot;: 3}\n",
       "            ).addTo(map_8de725e800d35d654a5b94e5a3721265);\n",
       "        \n",
       "    \n",
       "            circle_88d8a2cde93a8d427331605dd3ccd8e4.bindTooltip(\n",
       "                `&lt;div&gt;\n",
       "                     &lt;div style=&#x27;margin: 0; background-color: black; color: white;&#x27;&gt;&lt;h4 style=&#x27;text-align:center;font-weight: bold&#x27;&gt;Georgia&lt;/h4&gt;&lt;hr style=&#x27;margin:10px;color: white;&#x27;&gt;&lt;ul style=&#x27;color: white;;list-style-type:circle;align-item:left;padding-left:20px;padding-right:20px&#x27;&gt;&lt;li&gt;Confirmed: 1655221&lt;/li&gt;&lt;li&gt;Deaths:   304&lt;/li&gt;&lt;li&gt;Death Rate: 0.02&lt;/li&gt;&lt;/ul&gt;&lt;/div&gt;\n",
       "                 &lt;/div&gt;`,\n",
       "                {&quot;sticky&quot;: true}\n",
       "            );\n",
       "        \n",
       "    \n",
       "            var circle_346116bec1ecd597f64af69f958a51f5 = L.circle(\n",
       "                [51.165691, 10.451526],\n",
       "                {&quot;bubblingMouseEvents&quot;: true, &quot;color&quot;: &quot;red&quot;, &quot;dashArray&quot;: null, &quot;dashOffset&quot;: null, &quot;fill&quot;: true, &quot;fillColor&quot;: &quot;indigo&quot;, &quot;fillOpacity&quot;: 0.2, &quot;fillRule&quot;: &quot;evenodd&quot;, &quot;lineCap&quot;: &quot;round&quot;, &quot;lineJoin&quot;: &quot;round&quot;, &quot;opacity&quot;: 1.0, &quot;radius&quot;: 86000.0, &quot;stroke&quot;: true, &quot;weight&quot;: 3}\n",
       "            ).addTo(map_8de725e800d35d654a5b94e5a3721265);\n",
       "        \n",
       "    \n",
       "            circle_346116bec1ecd597f64af69f958a51f5.bindTooltip(\n",
       "                `&lt;div&gt;\n",
       "                     &lt;div style=&#x27;margin: 0; background-color: black; color: white;&#x27;&gt;&lt;h4 style=&#x27;text-align:center;font-weight: bold&#x27;&gt;Germany&lt;/h4&gt;&lt;hr style=&#x27;margin:10px;color: white;&#x27;&gt;&lt;ul style=&#x27;color: white;;list-style-type:circle;align-item:left;padding-left:20px;padding-right:20px&#x27;&gt;&lt;li&gt;Confirmed: 26159106&lt;/li&gt;&lt;li&gt;Deaths:   365&lt;/li&gt;&lt;li&gt;Death Rate: 0.0&lt;/li&gt;&lt;/ul&gt;&lt;/div&gt;\n",
       "                 &lt;/div&gt;`,\n",
       "                {&quot;sticky&quot;: true}\n",
       "            );\n",
       "        \n",
       "    \n",
       "            var circle_289117956dccc47ba037a851100eab13 = L.circle(\n",
       "                [7.9465, -1.0232],\n",
       "                {&quot;bubblingMouseEvents&quot;: true, &quot;color&quot;: &quot;red&quot;, &quot;dashArray&quot;: null, &quot;dashOffset&quot;: null, &quot;fill&quot;: true, &quot;fillColor&quot;: &quot;indigo&quot;, &quot;fillOpacity&quot;: 0.2, &quot;fillRule&quot;: &quot;evenodd&quot;, &quot;lineCap&quot;: &quot;round&quot;, &quot;lineJoin&quot;: &quot;round&quot;, &quot;opacity&quot;: 1.0, &quot;radius&quot;: 56000.0, &quot;stroke&quot;: true, &quot;weight&quot;: 3}\n",
       "            ).addTo(map_8de725e800d35d654a5b94e5a3721265);\n",
       "        \n",
       "    \n",
       "            circle_289117956dccc47ba037a851100eab13.bindTooltip(\n",
       "                `&lt;div&gt;\n",
       "                     &lt;div style=&#x27;margin: 0; background-color: black; color: white;&#x27;&gt;&lt;h4 style=&#x27;text-align:center;font-weight: bold&#x27;&gt;Ghana&lt;/h4&gt;&lt;hr style=&#x27;margin:10px;color: white;&#x27;&gt;&lt;ul style=&#x27;color: white;;list-style-type:circle;align-item:left;padding-left:20px;padding-right:20px&#x27;&gt;&lt;li&gt;Confirmed: 161370&lt;/li&gt;&lt;li&gt;Deaths:   16811&lt;/li&gt;&lt;li&gt;Death Rate: 10.42&lt;/li&gt;&lt;/ul&gt;&lt;/div&gt;\n",
       "                 &lt;/div&gt;`,\n",
       "                {&quot;sticky&quot;: true}\n",
       "            );\n",
       "        \n",
       "    \n",
       "            var circle_70964e57240eb1e895f6ab1317322600 = L.circle(\n",
       "                [39.0742, 21.8243],\n",
       "                {&quot;bubblingMouseEvents&quot;: true, &quot;color&quot;: &quot;red&quot;, &quot;dashArray&quot;: null, &quot;dashOffset&quot;: null, &quot;fill&quot;: true, &quot;fillColor&quot;: &quot;indigo&quot;, &quot;fillOpacity&quot;: 0.2, &quot;fillRule&quot;: &quot;evenodd&quot;, &quot;lineCap&quot;: &quot;round&quot;, &quot;lineJoin&quot;: &quot;round&quot;, &quot;opacity&quot;: 1.0, &quot;radius&quot;: 76000.0, &quot;stroke&quot;: true, &quot;weight&quot;: 3}\n",
       "            ).addTo(map_8de725e800d35d654a5b94e5a3721265);\n",
       "        \n",
       "    \n",
       "            circle_70964e57240eb1e895f6ab1317322600.bindTooltip(\n",
       "                `&lt;div&gt;\n",
       "                     &lt;div style=&#x27;margin: 0; background-color: black; color: white;&#x27;&gt;&lt;h4 style=&#x27;text-align:center;font-weight: bold&#x27;&gt;Greece&lt;/h4&gt;&lt;hr style=&#x27;margin:10px;color: white;&#x27;&gt;&lt;ul style=&#x27;color: white;;list-style-type:circle;align-item:left;padding-left:20px;padding-right:20px&#x27;&gt;&lt;li&gt;Confirmed: 3427857&lt;/li&gt;&lt;li&gt;Deaths:   138643&lt;/li&gt;&lt;li&gt;Death Rate: 4.04&lt;/li&gt;&lt;/ul&gt;&lt;/div&gt;\n",
       "                 &lt;/div&gt;`,\n",
       "                {&quot;sticky&quot;: true}\n",
       "            );\n",
       "        \n",
       "    \n",
       "            var circle_2516d77f5b2f0f26600ebaabb43f8e26 = L.circle(\n",
       "                [12.1165, -61.679],\n",
       "                {&quot;bubblingMouseEvents&quot;: true, &quot;color&quot;: &quot;red&quot;, &quot;dashArray&quot;: null, &quot;dashOffset&quot;: null, &quot;fill&quot;: true, &quot;fillColor&quot;: &quot;indigo&quot;, &quot;fillOpacity&quot;: 0.2, &quot;fillRule&quot;: &quot;evenodd&quot;, &quot;lineCap&quot;: &quot;round&quot;, &quot;lineJoin&quot;: &quot;round&quot;, &quot;opacity&quot;: 1.0, &quot;radius&quot;: 46000.0, &quot;stroke&quot;: true, &quot;weight&quot;: 3}\n",
       "            ).addTo(map_8de725e800d35d654a5b94e5a3721265);\n",
       "        \n",
       "    \n",
       "            circle_2516d77f5b2f0f26600ebaabb43f8e26.bindTooltip(\n",
       "                `&lt;div&gt;\n",
       "                     &lt;div style=&#x27;margin: 0; background-color: black; color: white;&#x27;&gt;&lt;h4 style=&#x27;text-align:center;font-weight: bold&#x27;&gt;Grenada&lt;/h4&gt;&lt;hr style=&#x27;margin:10px;color: white;&#x27;&gt;&lt;ul style=&#x27;color: white;;list-style-type:circle;align-item:left;padding-left:20px;padding-right:20px&#x27;&gt;&lt;li&gt;Confirmed: 17390&lt;/li&gt;&lt;li&gt;Deaths:   1445&lt;/li&gt;&lt;li&gt;Death Rate: 8.31&lt;/li&gt;&lt;/ul&gt;&lt;/div&gt;\n",
       "                 &lt;/div&gt;`,\n",
       "                {&quot;sticky&quot;: true}\n",
       "            );\n",
       "        \n",
       "    \n",
       "            var circle_3b0a2713049deb5f918a480cb89ba917 = L.circle(\n",
       "                [15.7835, -90.2308],\n",
       "                {&quot;bubblingMouseEvents&quot;: true, &quot;color&quot;: &quot;red&quot;, &quot;dashArray&quot;: null, &quot;dashOffset&quot;: null, &quot;fill&quot;: true, &quot;fillColor&quot;: &quot;indigo&quot;, &quot;fillOpacity&quot;: 0.2, &quot;fillRule&quot;: &quot;evenodd&quot;, &quot;lineCap&quot;: &quot;round&quot;, &quot;lineJoin&quot;: &quot;round&quot;, &quot;opacity&quot;: 1.0, &quot;radius&quot;: 66000.0, &quot;stroke&quot;: true, &quot;weight&quot;: 3}\n",
       "            ).addTo(map_8de725e800d35d654a5b94e5a3721265);\n",
       "        \n",
       "    \n",
       "            circle_3b0a2713049deb5f918a480cb89ba917.bindTooltip(\n",
       "                `&lt;div&gt;\n",
       "                     &lt;div style=&#x27;margin: 0; background-color: black; color: white;&#x27;&gt;&lt;h4 style=&#x27;text-align:center;font-weight: bold&#x27;&gt;Guatemala&lt;/h4&gt;&lt;hr style=&#x27;margin:10px;color: white;&#x27;&gt;&lt;ul style=&#x27;color: white;;list-style-type:circle;align-item:left;padding-left:20px;padding-right:20px&#x27;&gt;&lt;li&gt;Confirmed: 857197&lt;/li&gt;&lt;li&gt;Deaths:   29725&lt;/li&gt;&lt;li&gt;Death Rate: 3.47&lt;/li&gt;&lt;/ul&gt;&lt;/div&gt;\n",
       "                 &lt;/div&gt;`,\n",
       "                {&quot;sticky&quot;: true}\n",
       "            );\n",
       "        \n",
       "    \n",
       "            var circle_9d67cf707f24d4b46dacd6a1be79b550 = L.circle(\n",
       "                [9.9456, -9.6966],\n",
       "                {&quot;bubblingMouseEvents&quot;: true, &quot;color&quot;: &quot;red&quot;, &quot;dashArray&quot;: null, &quot;dashOffset&quot;: null, &quot;fill&quot;: true, &quot;fillColor&quot;: &quot;indigo&quot;, &quot;fillOpacity&quot;: 0.2, &quot;fillRule&quot;: &quot;evenodd&quot;, &quot;lineCap&quot;: &quot;round&quot;, &quot;lineJoin&quot;: &quot;round&quot;, &quot;opacity&quot;: 1.0, &quot;radius&quot;: 51000.0, &quot;stroke&quot;: true, &quot;weight&quot;: 3}\n",
       "            ).addTo(map_8de725e800d35d654a5b94e5a3721265);\n",
       "        \n",
       "    \n",
       "            circle_9d67cf707f24d4b46dacd6a1be79b550.bindTooltip(\n",
       "                `&lt;div&gt;\n",
       "                     &lt;div style=&#x27;margin: 0; background-color: black; color: white;&#x27;&gt;&lt;h4 style=&#x27;text-align:center;font-weight: bold&#x27;&gt;Guinea&lt;/h4&gt;&lt;hr style=&#x27;margin:10px;color: white;&#x27;&gt;&lt;ul style=&#x27;color: white;;list-style-type:circle;align-item:left;padding-left:20px;padding-right:20px&#x27;&gt;&lt;li&gt;Confirmed: 36661&lt;/li&gt;&lt;li&gt;Deaths:   224&lt;/li&gt;&lt;li&gt;Death Rate: 0.61&lt;/li&gt;&lt;/ul&gt;&lt;/div&gt;\n",
       "                 &lt;/div&gt;`,\n",
       "                {&quot;sticky&quot;: true}\n",
       "            );\n",
       "        \n",
       "    \n",
       "            var circle_292990e0738242647b2d418d0024fa66 = L.circle(\n",
       "                [11.8037, -15.1804],\n",
       "                {&quot;bubblingMouseEvents&quot;: true, &quot;color&quot;: &quot;red&quot;, &quot;dashArray&quot;: null, &quot;dashOffset&quot;: null, &quot;fill&quot;: true, &quot;fillColor&quot;: &quot;indigo&quot;, &quot;fillOpacity&quot;: 0.2, &quot;fillRule&quot;: &quot;evenodd&quot;, &quot;lineCap&quot;: &quot;round&quot;, &quot;lineJoin&quot;: &quot;round&quot;, &quot;opacity&quot;: 1.0, &quot;radius&quot;: 46000.0, &quot;stroke&quot;: true, &quot;weight&quot;: 3}\n",
       "            ).addTo(map_8de725e800d35d654a5b94e5a3721265);\n",
       "        \n",
       "    \n",
       "            circle_292990e0738242647b2d418d0024fa66.bindTooltip(\n",
       "                `&lt;div&gt;\n",
       "                     &lt;div style=&#x27;margin: 0; background-color: black; color: white;&#x27;&gt;&lt;h4 style=&#x27;text-align:center;font-weight: bold&#x27;&gt;Guinea-Bissau&lt;/h4&gt;&lt;hr style=&#x27;margin:10px;color: white;&#x27;&gt;&lt;ul style=&#x27;color: white;;list-style-type:circle;align-item:left;padding-left:20px;padding-right:20px&#x27;&gt;&lt;li&gt;Confirmed: 8259&lt;/li&gt;&lt;li&gt;Deaths:   17991&lt;/li&gt;&lt;li&gt;Death Rate: 217.81&lt;/li&gt;&lt;/ul&gt;&lt;/div&gt;\n",
       "                 &lt;/div&gt;`,\n",
       "                {&quot;sticky&quot;: true}\n",
       "            );\n",
       "        \n",
       "    \n",
       "            var circle_74940d8a7b15c1d13a01a0e5287b8c4a = L.circle(\n",
       "                [4.860416, -58.93018],\n",
       "                {&quot;bubblingMouseEvents&quot;: true, &quot;color&quot;: &quot;red&quot;, &quot;dashArray&quot;: null, &quot;dashOffset&quot;: null, &quot;fill&quot;: true, &quot;fillColor&quot;: &quot;indigo&quot;, &quot;fillOpacity&quot;: 0.2, &quot;fillRule&quot;: &quot;evenodd&quot;, &quot;lineCap&quot;: &quot;round&quot;, &quot;lineJoin&quot;: &quot;round&quot;, &quot;opacity&quot;: 1.0, &quot;radius&quot;: 56000.0, &quot;stroke&quot;: true, &quot;weight&quot;: 3}\n",
       "            ).addTo(map_8de725e800d35d654a5b94e5a3721265);\n",
       "        \n",
       "    \n",
       "            circle_74940d8a7b15c1d13a01a0e5287b8c4a.bindTooltip(\n",
       "                `&lt;div&gt;\n",
       "                     &lt;div style=&#x27;margin: 0; background-color: black; color: white;&#x27;&gt;&lt;h4 style=&#x27;text-align:center;font-weight: bold&#x27;&gt;Guyana&lt;/h4&gt;&lt;hr style=&#x27;margin:10px;color: white;&#x27;&gt;&lt;ul style=&#x27;color: white;;list-style-type:circle;align-item:left;padding-left:20px;padding-right:20px&#x27;&gt;&lt;li&gt;Confirmed: 64342&lt;/li&gt;&lt;li&gt;Deaths:   442&lt;/li&gt;&lt;li&gt;Death Rate: 0.69&lt;/li&gt;&lt;/ul&gt;&lt;/div&gt;\n",
       "                 &lt;/div&gt;`,\n",
       "                {&quot;sticky&quot;: true}\n",
       "            );\n",
       "        \n",
       "    \n",
       "            var circle_c3aec740f36889df14f5d03c4c4802af = L.circle(\n",
       "                [18.9712, -72.2852],\n",
       "                {&quot;bubblingMouseEvents&quot;: true, &quot;color&quot;: &quot;red&quot;, &quot;dashArray&quot;: null, &quot;dashOffset&quot;: null, &quot;fill&quot;: true, &quot;fillColor&quot;: &quot;indigo&quot;, &quot;fillOpacity&quot;: 0.2, &quot;fillRule&quot;: &quot;evenodd&quot;, &quot;lineCap&quot;: &quot;round&quot;, &quot;lineJoin&quot;: &quot;round&quot;, &quot;opacity&quot;: 1.0, &quot;radius&quot;: 51000.0, &quot;stroke&quot;: true, &quot;weight&quot;: 3}\n",
       "            ).addTo(map_8de725e800d35d654a5b94e5a3721265);\n",
       "        \n",
       "    \n",
       "            circle_c3aec740f36889df14f5d03c4c4802af.bindTooltip(\n",
       "                `&lt;div&gt;\n",
       "                     &lt;div style=&#x27;margin: 0; background-color: black; color: white;&#x27;&gt;&lt;h4 style=&#x27;text-align:center;font-weight: bold&#x27;&gt;Haiti&lt;/h4&gt;&lt;hr style=&#x27;margin:10px;color: white;&#x27;&gt;&lt;ul style=&#x27;color: white;;list-style-type:circle;align-item:left;padding-left:20px;padding-right:20px&#x27;&gt;&lt;li&gt;Confirmed: 30781&lt;/li&gt;&lt;li&gt;Deaths:   171&lt;/li&gt;&lt;li&gt;Death Rate: 0.56&lt;/li&gt;&lt;/ul&gt;&lt;/div&gt;\n",
       "                 &lt;/div&gt;`,\n",
       "                {&quot;sticky&quot;: true}\n",
       "            );\n",
       "        \n",
       "    \n",
       "            var circle_5a2fa1d8dbf3634abea501bc4e5593be = L.circle(\n",
       "                [41.9029, 12.4534],\n",
       "                {&quot;bubblingMouseEvents&quot;: true, &quot;color&quot;: &quot;red&quot;, &quot;dashArray&quot;: null, &quot;dashOffset&quot;: null, &quot;fill&quot;: true, &quot;fillColor&quot;: &quot;indigo&quot;, &quot;fillOpacity&quot;: 0.2, &quot;fillRule&quot;: &quot;evenodd&quot;, &quot;lineCap&quot;: &quot;round&quot;, &quot;lineJoin&quot;: &quot;round&quot;, &quot;opacity&quot;: 1.0, &quot;radius&quot;: 16000.0, &quot;stroke&quot;: true, &quot;weight&quot;: 3}\n",
       "            ).addTo(map_8de725e800d35d654a5b94e5a3721265);\n",
       "        \n",
       "    \n",
       "            circle_5a2fa1d8dbf3634abea501bc4e5593be.bindTooltip(\n",
       "                `&lt;div&gt;\n",
       "                     &lt;div style=&#x27;margin: 0; background-color: black; color: white;&#x27;&gt;&lt;h4 style=&#x27;text-align:center;font-weight: bold&#x27;&gt;Holy See&lt;/h4&gt;&lt;hr style=&#x27;margin:10px;color: white;&#x27;&gt;&lt;ul style=&#x27;color: white;;list-style-type:circle;align-item:left;padding-left:20px;padding-right:20px&#x27;&gt;&lt;li&gt;Confirmed: 29&lt;/li&gt;&lt;li&gt;Deaths:   1232&lt;/li&gt;&lt;li&gt;Death Rate: 4106.67&lt;/li&gt;&lt;/ul&gt;&lt;/div&gt;\n",
       "                 &lt;/div&gt;`,\n",
       "                {&quot;sticky&quot;: true}\n",
       "            );\n",
       "        \n",
       "    \n",
       "            var circle_39df4b8b14fa331683e13afa32b47bc8 = L.circle(\n",
       "                [15.2, -86.2419],\n",
       "                {&quot;bubblingMouseEvents&quot;: true, &quot;color&quot;: &quot;red&quot;, &quot;dashArray&quot;: null, &quot;dashOffset&quot;: null, &quot;fill&quot;: true, &quot;fillColor&quot;: &quot;indigo&quot;, &quot;fillOpacity&quot;: 0.2, &quot;fillRule&quot;: &quot;evenodd&quot;, &quot;lineCap&quot;: &quot;round&quot;, &quot;lineJoin&quot;: &quot;round&quot;, &quot;opacity&quot;: 1.0, &quot;radius&quot;: 61000.0, &quot;stroke&quot;: true, &quot;weight&quot;: 3}\n",
       "            ).addTo(map_8de725e800d35d654a5b94e5a3721265);\n",
       "        \n",
       "    \n",
       "            circle_39df4b8b14fa331683e13afa32b47bc8.bindTooltip(\n",
       "                `&lt;div&gt;\n",
       "                     &lt;div style=&#x27;margin: 0; background-color: black; color: white;&#x27;&gt;&lt;h4 style=&#x27;text-align:center;font-weight: bold&#x27;&gt;Honduras&lt;/h4&gt;&lt;hr style=&#x27;margin:10px;color: white;&#x27;&gt;&lt;ul style=&#x27;color: white;;list-style-type:circle;align-item:left;padding-left:20px;padding-right:20px&#x27;&gt;&lt;li&gt;Confirmed: 424859&lt;/li&gt;&lt;li&gt;Deaths:   835&lt;/li&gt;&lt;li&gt;Death Rate: 0.2&lt;/li&gt;&lt;/ul&gt;&lt;/div&gt;\n",
       "                 &lt;/div&gt;`,\n",
       "                {&quot;sticky&quot;: true}\n",
       "            );\n",
       "        \n",
       "    \n",
       "            var circle_98469dae9293b5d148cdf728ea7c29dc = L.circle(\n",
       "                [47.1625, 19.5033],\n",
       "                {&quot;bubblingMouseEvents&quot;: true, &quot;color&quot;: &quot;red&quot;, &quot;dashArray&quot;: null, &quot;dashOffset&quot;: null, &quot;fill&quot;: true, &quot;fillColor&quot;: &quot;indigo&quot;, &quot;fillOpacity&quot;: 0.2, &quot;fillRule&quot;: &quot;evenodd&quot;, &quot;lineCap&quot;: &quot;round&quot;, &quot;lineJoin&quot;: &quot;round&quot;, &quot;opacity&quot;: 1.0, &quot;radius&quot;: 71000.0, &quot;stroke&quot;: true, &quot;weight&quot;: 3}\n",
       "            ).addTo(map_8de725e800d35d654a5b94e5a3721265);\n",
       "        \n",
       "    \n",
       "            circle_98469dae9293b5d148cdf728ea7c29dc.bindTooltip(\n",
       "                `&lt;div&gt;\n",
       "                     &lt;div style=&#x27;margin: 0; background-color: black; color: white;&#x27;&gt;&lt;h4 style=&#x27;text-align:center;font-weight: bold&#x27;&gt;Hungary&lt;/h4&gt;&lt;hr style=&#x27;margin:10px;color: white;&#x27;&gt;&lt;ul style=&#x27;color: white;;list-style-type:circle;align-item:left;padding-left:20px;padding-right:20px&#x27;&gt;&lt;li&gt;Confirmed: 1914697&lt;/li&gt;&lt;li&gt;Deaths:   0&lt;/li&gt;&lt;li&gt;Death Rate: 0.0&lt;/li&gt;&lt;/ul&gt;&lt;/div&gt;\n",
       "                 &lt;/div&gt;`,\n",
       "                {&quot;sticky&quot;: true}\n",
       "            );\n",
       "        \n",
       "    \n",
       "            var circle_48a3d862d4e654dcee2c195f8faab2bc = L.circle(\n",
       "                [64.9631, -19.0208],\n",
       "                {&quot;bubblingMouseEvents&quot;: true, &quot;color&quot;: &quot;red&quot;, &quot;dashArray&quot;: null, &quot;dashOffset&quot;: null, &quot;fill&quot;: true, &quot;fillColor&quot;: &quot;indigo&quot;, &quot;fillOpacity&quot;: 0.2, &quot;fillRule&quot;: &quot;evenodd&quot;, &quot;lineCap&quot;: &quot;round&quot;, &quot;lineJoin&quot;: &quot;round&quot;, &quot;opacity&quot;: 1.0, &quot;radius&quot;: 61000.0, &quot;stroke&quot;: true, &quot;weight&quot;: 3}\n",
       "            ).addTo(map_8de725e800d35d654a5b94e5a3721265);\n",
       "        \n",
       "    \n",
       "            circle_48a3d862d4e654dcee2c195f8faab2bc.bindTooltip(\n",
       "                `&lt;div&gt;\n",
       "                     &lt;div style=&#x27;margin: 0; background-color: black; color: white;&#x27;&gt;&lt;h4 style=&#x27;text-align:center;font-weight: bold&#x27;&gt;Iceland&lt;/h4&gt;&lt;hr style=&#x27;margin:10px;color: white;&#x27;&gt;&lt;ul style=&#x27;color: white;;list-style-type:circle;align-item:left;padding-left:20px;padding-right:20px&#x27;&gt;&lt;li&gt;Confirmed: 187664&lt;/li&gt;&lt;li&gt;Deaths:   10896&lt;/li&gt;&lt;li&gt;Death Rate: 5.81&lt;/li&gt;&lt;/ul&gt;&lt;/div&gt;\n",
       "                 &lt;/div&gt;`,\n",
       "                {&quot;sticky&quot;: true}\n",
       "            );\n",
       "        \n",
       "    \n",
       "            var circle_46709e75e9b820df99f47093ee820613 = L.circle(\n",
       "                [20.593684, 78.96288],\n",
       "                {&quot;bubblingMouseEvents&quot;: true, &quot;color&quot;: &quot;red&quot;, &quot;dashArray&quot;: null, &quot;dashOffset&quot;: null, &quot;fill&quot;: true, &quot;fillColor&quot;: &quot;indigo&quot;, &quot;fillOpacity&quot;: 0.2, &quot;fillRule&quot;: &quot;evenodd&quot;, &quot;lineCap&quot;: &quot;round&quot;, &quot;lineJoin&quot;: &quot;round&quot;, &quot;opacity&quot;: 1.0, &quot;radius&quot;: 86000.0, &quot;stroke&quot;: true, &quot;weight&quot;: 3}\n",
       "            ).addTo(map_8de725e800d35d654a5b94e5a3721265);\n",
       "        \n",
       "    \n",
       "            circle_46709e75e9b820df99f47093ee820613.bindTooltip(\n",
       "                `&lt;div&gt;\n",
       "                     &lt;div style=&#x27;margin: 0; background-color: black; color: white;&#x27;&gt;&lt;h4 style=&#x27;text-align:center;font-weight: bold&#x27;&gt;India&lt;/h4&gt;&lt;hr style=&#x27;margin:10px;color: white;&#x27;&gt;&lt;ul style=&#x27;color: white;;list-style-type:circle;align-item:left;padding-left:20px;padding-right:20px&#x27;&gt;&lt;li&gt;Confirmed: 43142192&lt;/li&gt;&lt;li&gt;Deaths:   46446&lt;/li&gt;&lt;li&gt;Death Rate: 0.11&lt;/li&gt;&lt;/ul&gt;&lt;/div&gt;\n",
       "                 &lt;/div&gt;`,\n",
       "                {&quot;sticky&quot;: true}\n",
       "            );\n",
       "        \n",
       "    \n",
       "            var circle_38045f153101531b97369cb921fe9ad4 = L.circle(\n",
       "                [-0.7893, 113.9213],\n",
       "                {&quot;bubblingMouseEvents&quot;: true, &quot;color&quot;: &quot;red&quot;, &quot;dashArray&quot;: null, &quot;dashOffset&quot;: null, &quot;fill&quot;: true, &quot;fillColor&quot;: &quot;indigo&quot;, &quot;fillOpacity&quot;: 0.2, &quot;fillRule&quot;: &quot;evenodd&quot;, &quot;lineCap&quot;: &quot;round&quot;, &quot;lineJoin&quot;: &quot;round&quot;, &quot;opacity&quot;: 1.0, &quot;radius&quot;: 76000.0, &quot;stroke&quot;: true, &quot;weight&quot;: 3}\n",
       "            ).addTo(map_8de725e800d35d654a5b94e5a3721265);\n",
       "        \n",
       "    \n",
       "            circle_38045f153101531b97369cb921fe9ad4.bindTooltip(\n",
       "                `&lt;div&gt;\n",
       "                     &lt;div style=&#x27;margin: 0; background-color: black; color: white;&#x27;&gt;&lt;h4 style=&#x27;text-align:center;font-weight: bold&#x27;&gt;Indonesia&lt;/h4&gt;&lt;hr style=&#x27;margin:10px;color: white;&#x27;&gt;&lt;ul style=&#x27;color: white;;list-style-type:circle;align-item:left;padding-left:20px;padding-right:20px&#x27;&gt;&lt;li&gt;Confirmed: 6053109&lt;/li&gt;&lt;li&gt;Deaths:   153&lt;/li&gt;&lt;li&gt;Death Rate: 0.0&lt;/li&gt;&lt;/ul&gt;&lt;/div&gt;\n",
       "                 &lt;/div&gt;`,\n",
       "                {&quot;sticky&quot;: true}\n",
       "            );\n",
       "        \n",
       "    \n",
       "            var circle_d52a40e063240145614be51af7dda770 = L.circle(\n",
       "                [32.427908, 53.688046],\n",
       "                {&quot;bubblingMouseEvents&quot;: true, &quot;color&quot;: &quot;red&quot;, &quot;dashArray&quot;: null, &quot;dashOffset&quot;: null, &quot;fill&quot;: true, &quot;fillColor&quot;: &quot;indigo&quot;, &quot;fillOpacity&quot;: 0.2, &quot;fillRule&quot;: &quot;evenodd&quot;, &quot;lineCap&quot;: &quot;round&quot;, &quot;lineJoin&quot;: &quot;round&quot;, &quot;opacity&quot;: 1.0, &quot;radius&quot;: 76000.0, &quot;stroke&quot;: true, &quot;weight&quot;: 3}\n",
       "            ).addTo(map_8de725e800d35d654a5b94e5a3721265);\n",
       "        \n",
       "    \n",
       "            circle_d52a40e063240145614be51af7dda770.bindTooltip(\n",
       "                `&lt;div&gt;\n",
       "                     &lt;div style=&#x27;margin: 0; background-color: black; color: white;&#x27;&gt;&lt;h4 style=&#x27;text-align:center;font-weight: bold&#x27;&gt;Iran&lt;/h4&gt;&lt;hr style=&#x27;margin:10px;color: white;&#x27;&gt;&lt;ul style=&#x27;color: white;;list-style-type:circle;align-item:left;padding-left:20px;padding-right:20px&#x27;&gt;&lt;li&gt;Confirmed: 7230589&lt;/li&gt;&lt;li&gt;Deaths:   524507&lt;/li&gt;&lt;li&gt;Death Rate: 7.25&lt;/li&gt;&lt;/ul&gt;&lt;/div&gt;\n",
       "                 &lt;/div&gt;`,\n",
       "                {&quot;sticky&quot;: true}\n",
       "            );\n",
       "        \n",
       "    \n",
       "            var circle_d32fd3a4d13c6dc36590c53c8a615a1a = L.circle(\n",
       "                [33.223191, 43.679291],\n",
       "                {&quot;bubblingMouseEvents&quot;: true, &quot;color&quot;: &quot;red&quot;, &quot;dashArray&quot;: null, &quot;dashOffset&quot;: null, &quot;fill&quot;: true, &quot;fillColor&quot;: &quot;indigo&quot;, &quot;fillOpacity&quot;: 0.2, &quot;fillRule&quot;: &quot;evenodd&quot;, &quot;lineCap&quot;: &quot;round&quot;, &quot;lineJoin&quot;: &quot;round&quot;, &quot;opacity&quot;: 1.0, &quot;radius&quot;: 71000.0, &quot;stroke&quot;: true, &quot;weight&quot;: 3}\n",
       "            ).addTo(map_8de725e800d35d654a5b94e5a3721265);\n",
       "        \n",
       "    \n",
       "            circle_d32fd3a4d13c6dc36590c53c8a615a1a.bindTooltip(\n",
       "                `&lt;div&gt;\n",
       "                     &lt;div style=&#x27;margin: 0; background-color: black; color: white;&#x27;&gt;&lt;h4 style=&#x27;text-align:center;font-weight: bold&#x27;&gt;Iraq&lt;/h4&gt;&lt;hr style=&#x27;margin:10px;color: white;&#x27;&gt;&lt;ul style=&#x27;color: white;;list-style-type:circle;align-item:left;padding-left:20px;padding-right:20px&#x27;&gt;&lt;li&gt;Confirmed: 2327486&lt;/li&gt;&lt;li&gt;Deaths:   156548&lt;/li&gt;&lt;li&gt;Death Rate: 6.73&lt;/li&gt;&lt;/ul&gt;&lt;/div&gt;\n",
       "                 &lt;/div&gt;`,\n",
       "                {&quot;sticky&quot;: true}\n",
       "            );\n",
       "        \n",
       "    \n",
       "            var circle_a676f52840f3c39d41efc173e27a8852 = L.circle(\n",
       "                [53.1424, -7.6921],\n",
       "                {&quot;bubblingMouseEvents&quot;: true, &quot;color&quot;: &quot;red&quot;, &quot;dashArray&quot;: null, &quot;dashOffset&quot;: null, &quot;fill&quot;: true, &quot;fillColor&quot;: &quot;indigo&quot;, &quot;fillOpacity&quot;: 0.2, &quot;fillRule&quot;: &quot;evenodd&quot;, &quot;lineCap&quot;: &quot;round&quot;, &quot;lineJoin&quot;: &quot;round&quot;, &quot;opacity&quot;: 1.0, &quot;radius&quot;: 71000.0, &quot;stroke&quot;: true, &quot;weight&quot;: 3}\n",
       "            ).addTo(map_8de725e800d35d654a5b94e5a3721265);\n",
       "        \n",
       "    \n",
       "            circle_a676f52840f3c39d41efc173e27a8852.bindTooltip(\n",
       "                `&lt;div&gt;\n",
       "                     &lt;div style=&#x27;margin: 0; background-color: black; color: white;&#x27;&gt;&lt;h4 style=&#x27;text-align:center;font-weight: bold&#x27;&gt;Ireland&lt;/h4&gt;&lt;hr style=&#x27;margin:10px;color: white;&#x27;&gt;&lt;ul style=&#x27;color: white;;list-style-type:circle;align-item:left;padding-left:20px;padding-right:20px&#x27;&gt;&lt;li&gt;Confirmed: 1551835&lt;/li&gt;&lt;li&gt;Deaths:   141288&lt;/li&gt;&lt;li&gt;Death Rate: 9.1&lt;/li&gt;&lt;/ul&gt;&lt;/div&gt;\n",
       "                 &lt;/div&gt;`,\n",
       "                {&quot;sticky&quot;: true}\n",
       "            );\n",
       "        \n",
       "    \n",
       "            var circle_9ac7f48868dd2c572d435cbc41acd0e7 = L.circle(\n",
       "                [31.046051, 34.851612],\n",
       "                {&quot;bubblingMouseEvents&quot;: true, &quot;color&quot;: &quot;red&quot;, &quot;dashArray&quot;: null, &quot;dashOffset&quot;: null, &quot;fill&quot;: true, &quot;fillColor&quot;: &quot;indigo&quot;, &quot;fillOpacity&quot;: 0.2, &quot;fillRule&quot;: &quot;evenodd&quot;, &quot;lineCap&quot;: &quot;round&quot;, &quot;lineJoin&quot;: &quot;round&quot;, &quot;opacity&quot;: 1.0, &quot;radius&quot;: 76000.0, &quot;stroke&quot;: true, &quot;weight&quot;: 3}\n",
       "            ).addTo(map_8de725e800d35d654a5b94e5a3721265);\n",
       "        \n",
       "    \n",
       "            circle_9ac7f48868dd2c572d435cbc41acd0e7.bindTooltip(\n",
       "                `&lt;div&gt;\n",
       "                     &lt;div style=&#x27;margin: 0; background-color: black; color: white;&#x27;&gt;&lt;h4 style=&#x27;text-align:center;font-weight: bold&#x27;&gt;Israel&lt;/h4&gt;&lt;hr style=&#x27;margin:10px;color: white;&#x27;&gt;&lt;ul style=&#x27;color: white;;list-style-type:circle;align-item:left;padding-left:20px;padding-right:20px&#x27;&gt;&lt;li&gt;Confirmed: 4127018&lt;/li&gt;&lt;li&gt;Deaths:   25218&lt;/li&gt;&lt;li&gt;Death Rate: 0.61&lt;/li&gt;&lt;/ul&gt;&lt;/div&gt;\n",
       "                 &lt;/div&gt;`,\n",
       "                {&quot;sticky&quot;: true}\n",
       "            );\n",
       "        \n",
       "    \n",
       "            var circle_2e511c5fa896e41105e70e4d9300a499 = L.circle(\n",
       "                [41.87194, 12.56738],\n",
       "                {&quot;bubblingMouseEvents&quot;: true, &quot;color&quot;: &quot;red&quot;, &quot;dashArray&quot;: null, &quot;dashOffset&quot;: null, &quot;fill&quot;: true, &quot;fillColor&quot;: &quot;indigo&quot;, &quot;fillOpacity&quot;: 0.2, &quot;fillRule&quot;: &quot;evenodd&quot;, &quot;lineCap&quot;: &quot;round&quot;, &quot;lineJoin&quot;: &quot;round&quot;, &quot;opacity&quot;: 1.0, &quot;radius&quot;: 81000.0, &quot;stroke&quot;: true, &quot;weight&quot;: 3}\n",
       "            ).addTo(map_8de725e800d35d654a5b94e5a3721265);\n",
       "        \n",
       "    \n",
       "            circle_2e511c5fa896e41105e70e4d9300a499.bindTooltip(\n",
       "                `&lt;div&gt;\n",
       "                     &lt;div style=&#x27;margin: 0; background-color: black; color: white;&#x27;&gt;&lt;h4 style=&#x27;text-align:center;font-weight: bold&#x27;&gt;Italy&lt;/h4&gt;&lt;hr style=&#x27;margin:10px;color: white;&#x27;&gt;&lt;ul style=&#x27;color: white;;list-style-type:circle;align-item:left;padding-left:20px;padding-right:20px&#x27;&gt;&lt;li&gt;Confirmed: 17288287&lt;/li&gt;&lt;li&gt;Deaths:   7244&lt;/li&gt;&lt;li&gt;Death Rate: 0.04&lt;/li&gt;&lt;/ul&gt;&lt;/div&gt;\n",
       "                 &lt;/div&gt;`,\n",
       "                {&quot;sticky&quot;: true}\n",
       "            );\n",
       "        \n",
       "    \n",
       "            var circle_10ad4772c48fe28c553e1549744ce1a8 = L.circle(\n",
       "                [18.1096, -77.2975],\n",
       "                {&quot;bubblingMouseEvents&quot;: true, &quot;color&quot;: &quot;red&quot;, &quot;dashArray&quot;: null, &quot;dashOffset&quot;: null, &quot;fill&quot;: true, &quot;fillColor&quot;: &quot;indigo&quot;, &quot;fillOpacity&quot;: 0.2, &quot;fillRule&quot;: &quot;evenodd&quot;, &quot;lineCap&quot;: &quot;round&quot;, &quot;lineJoin&quot;: &quot;round&quot;, &quot;opacity&quot;: 1.0, &quot;radius&quot;: 56000.0, &quot;stroke&quot;: true, &quot;weight&quot;: 3}\n",
       "            ).addTo(map_8de725e800d35d654a5b94e5a3721265);\n",
       "        \n",
       "    \n",
       "            circle_10ad4772c48fe28c553e1549744ce1a8.bindTooltip(\n",
       "                `&lt;div&gt;\n",
       "                     &lt;div style=&#x27;margin: 0; background-color: black; color: white;&#x27;&gt;&lt;h4 style=&#x27;text-align:center;font-weight: bold&#x27;&gt;Jamaica&lt;/h4&gt;&lt;hr style=&#x27;margin:10px;color: white;&#x27;&gt;&lt;ul style=&#x27;color: white;;list-style-type:circle;align-item:left;padding-left:20px;padding-right:20px&#x27;&gt;&lt;li&gt;Confirmed: 135331&lt;/li&gt;&lt;li&gt;Deaths:   10833&lt;/li&gt;&lt;li&gt;Death Rate: 8.0&lt;/li&gt;&lt;/ul&gt;&lt;/div&gt;\n",
       "                 &lt;/div&gt;`,\n",
       "                {&quot;sticky&quot;: true}\n",
       "            );\n",
       "        \n",
       "    \n",
       "            var circle_dff3e656d78f10d69c01f48b6bd377fc = L.circle(\n",
       "                [36.204824, 138.252924],\n",
       "                {&quot;bubblingMouseEvents&quot;: true, &quot;color&quot;: &quot;red&quot;, &quot;dashArray&quot;: null, &quot;dashOffset&quot;: null, &quot;fill&quot;: true, &quot;fillColor&quot;: &quot;indigo&quot;, &quot;fillOpacity&quot;: 0.2, &quot;fillRule&quot;: &quot;evenodd&quot;, &quot;lineCap&quot;: &quot;round&quot;, &quot;lineJoin&quot;: &quot;round&quot;, &quot;opacity&quot;: 1.0, &quot;radius&quot;: 76000.0, &quot;stroke&quot;: true, &quot;weight&quot;: 3}\n",
       "            ).addTo(map_8de725e800d35d654a5b94e5a3721265);\n",
       "        \n",
       "    \n",
       "            circle_dff3e656d78f10d69c01f48b6bd377fc.bindTooltip(\n",
       "                `&lt;div&gt;\n",
       "                     &lt;div style=&#x27;margin: 0; background-color: black; color: white;&#x27;&gt;&lt;h4 style=&#x27;text-align:center;font-weight: bold&#x27;&gt;Japan&lt;/h4&gt;&lt;hr style=&#x27;margin:10px;color: white;&#x27;&gt;&lt;ul style=&#x27;color: white;;list-style-type:circle;align-item:left;padding-left:20px;padding-right:20px&#x27;&gt;&lt;li&gt;Confirmed: 8665068&lt;/li&gt;&lt;li&gt;Deaths:   166127&lt;/li&gt;&lt;li&gt;Death Rate: 1.92&lt;/li&gt;&lt;/ul&gt;&lt;/div&gt;\n",
       "                 &lt;/div&gt;`,\n",
       "                {&quot;sticky&quot;: true}\n",
       "            );\n",
       "        \n",
       "    \n",
       "            var circle_ed6e89078d805b85acb776edc852e355 = L.circle(\n",
       "                [31.24, 36.51],\n",
       "                {&quot;bubblingMouseEvents&quot;: true, &quot;color&quot;: &quot;red&quot;, &quot;dashArray&quot;: null, &quot;dashOffset&quot;: null, &quot;fill&quot;: true, &quot;fillColor&quot;: &quot;indigo&quot;, &quot;fillOpacity&quot;: 0.2, &quot;fillRule&quot;: &quot;evenodd&quot;, &quot;lineCap&quot;: &quot;round&quot;, &quot;lineJoin&quot;: &quot;round&quot;, &quot;opacity&quot;: 1.0, &quot;radius&quot;: 71000.0, &quot;stroke&quot;: true, &quot;weight&quot;: 3}\n",
       "            ).addTo(map_8de725e800d35d654a5b94e5a3721265);\n",
       "        \n",
       "    \n",
       "            circle_ed6e89078d805b85acb776edc852e355.bindTooltip(\n",
       "                `&lt;div&gt;\n",
       "                     &lt;div style=&#x27;margin: 0; background-color: black; color: white;&#x27;&gt;&lt;h4 style=&#x27;text-align:center;font-weight: bold&#x27;&gt;Jordan&lt;/h4&gt;&lt;hr style=&#x27;margin:10px;color: white;&#x27;&gt;&lt;ul style=&#x27;color: white;;list-style-type:circle;align-item:left;padding-left:20px;padding-right:20px&#x27;&gt;&lt;li&gt;Confirmed: 1696668&lt;/li&gt;&lt;li&gt;Deaths:   3039&lt;/li&gt;&lt;li&gt;Death Rate: 0.18&lt;/li&gt;&lt;/ul&gt;&lt;/div&gt;\n",
       "                 &lt;/div&gt;`,\n",
       "                {&quot;sticky&quot;: true}\n",
       "            );\n",
       "        \n",
       "    \n",
       "            var circle_251b42d80c5b7599dea5d70d209056c1 = L.circle(\n",
       "                [48.0196, 66.9237],\n",
       "                {&quot;bubblingMouseEvents&quot;: true, &quot;color&quot;: &quot;red&quot;, &quot;dashArray&quot;: null, &quot;dashOffset&quot;: null, &quot;fill&quot;: true, &quot;fillColor&quot;: &quot;indigo&quot;, &quot;fillOpacity&quot;: 0.2, &quot;fillRule&quot;: &quot;evenodd&quot;, &quot;lineCap&quot;: &quot;round&quot;, &quot;lineJoin&quot;: &quot;round&quot;, &quot;opacity&quot;: 1.0, &quot;radius&quot;: 71000.0, &quot;stroke&quot;: true, &quot;weight&quot;: 3}\n",
       "            ).addTo(map_8de725e800d35d654a5b94e5a3721265);\n",
       "        \n",
       "    \n",
       "            circle_251b42d80c5b7599dea5d70d209056c1.bindTooltip(\n",
       "                `&lt;div&gt;\n",
       "                     &lt;div style=&#x27;margin: 0; background-color: black; color: white;&#x27;&gt;&lt;h4 style=&#x27;text-align:center;font-weight: bold&#x27;&gt;Kazakhstan&lt;/h4&gt;&lt;hr style=&#x27;margin:10px;color: white;&#x27;&gt;&lt;ul style=&#x27;color: white;;list-style-type:circle;align-item:left;padding-left:20px;padding-right:20px&#x27;&gt;&lt;li&gt;Confirmed: 1394808&lt;/li&gt;&lt;li&gt;Deaths:   30378&lt;/li&gt;&lt;li&gt;Death Rate: 2.18&lt;/li&gt;&lt;/ul&gt;&lt;/div&gt;\n",
       "                 &lt;/div&gt;`,\n",
       "                {&quot;sticky&quot;: true}\n",
       "            );\n",
       "        \n",
       "    \n",
       "            var circle_91551e64cc0379d1319b6eabb08023c7 = L.circle(\n",
       "                [-0.0236, 37.9062],\n",
       "                {&quot;bubblingMouseEvents&quot;: true, &quot;color&quot;: &quot;red&quot;, &quot;dashArray&quot;: null, &quot;dashOffset&quot;: null, &quot;fill&quot;: true, &quot;fillColor&quot;: &quot;indigo&quot;, &quot;fillOpacity&quot;: 0.2, &quot;fillRule&quot;: &quot;evenodd&quot;, &quot;lineCap&quot;: &quot;round&quot;, &quot;lineJoin&quot;: &quot;round&quot;, &quot;opacity&quot;: 1.0, &quot;radius&quot;: 61000.0, &quot;stroke&quot;: true, &quot;weight&quot;: 3}\n",
       "            ).addTo(map_8de725e800d35d654a5b94e5a3721265);\n",
       "        \n",
       "    \n",
       "            circle_91551e64cc0379d1319b6eabb08023c7.bindTooltip(\n",
       "                `&lt;div&gt;\n",
       "                     &lt;div style=&#x27;margin: 0; background-color: black; color: white;&#x27;&gt;&lt;h4 style=&#x27;text-align:center;font-weight: bold&#x27;&gt;Kenya&lt;/h4&gt;&lt;hr style=&#x27;margin:10px;color: white;&#x27;&gt;&lt;ul style=&#x27;color: white;;list-style-type:circle;align-item:left;padding-left:20px;padding-right:20px&#x27;&gt;&lt;li&gt;Confirmed: 324349&lt;/li&gt;&lt;li&gt;Deaths:   14066&lt;/li&gt;&lt;li&gt;Death Rate: 4.34&lt;/li&gt;&lt;/ul&gt;&lt;/div&gt;\n",
       "                 &lt;/div&gt;`,\n",
       "                {&quot;sticky&quot;: true}\n",
       "            );\n",
       "        \n",
       "    \n",
       "            var circle_1fdc2b8c78cc0be39aed248a9a2a5fee = L.circle(\n",
       "                [-3.3704, -168.734],\n",
       "                {&quot;bubblingMouseEvents&quot;: true, &quot;color&quot;: &quot;red&quot;, &quot;dashArray&quot;: null, &quot;dashOffset&quot;: null, &quot;fill&quot;: true, &quot;fillColor&quot;: &quot;indigo&quot;, &quot;fillOpacity&quot;: 0.2, &quot;fillRule&quot;: &quot;evenodd&quot;, &quot;lineCap&quot;: &quot;round&quot;, &quot;lineJoin&quot;: &quot;round&quot;, &quot;opacity&quot;: 1.0, &quot;radius&quot;: 41000.0, &quot;stroke&quot;: true, &quot;weight&quot;: 3}\n",
       "            ).addTo(map_8de725e800d35d654a5b94e5a3721265);\n",
       "        \n",
       "    \n",
       "            circle_1fdc2b8c78cc0be39aed248a9a2a5fee.bindTooltip(\n",
       "                `&lt;div&gt;\n",
       "                     &lt;div style=&#x27;margin: 0; background-color: black; color: white;&#x27;&gt;&lt;h4 style=&#x27;text-align:center;font-weight: bold&#x27;&gt;Kiribati&lt;/h4&gt;&lt;hr style=&#x27;margin:10px;color: white;&#x27;&gt;&lt;ul style=&#x27;color: white;;list-style-type:circle;align-item:left;padding-left:20px;padding-right:20px&#x27;&gt;&lt;li&gt;Confirmed: 3098&lt;/li&gt;&lt;li&gt;Deaths:   19015&lt;/li&gt;&lt;li&gt;Death Rate: 613.59&lt;/li&gt;&lt;/ul&gt;&lt;/div&gt;\n",
       "                 &lt;/div&gt;`,\n",
       "                {&quot;sticky&quot;: true}\n",
       "            );\n",
       "        \n",
       "    \n",
       "            var circle_a7911cd67974a528bd0a818b5c01391f = L.circle(\n",
       "                [40.3399, 127.5101],\n",
       "                {&quot;bubblingMouseEvents&quot;: true, &quot;color&quot;: &quot;red&quot;, &quot;dashArray&quot;: null, &quot;dashOffset&quot;: null, &quot;fill&quot;: true, &quot;fillColor&quot;: &quot;indigo&quot;, &quot;fillOpacity&quot;: 0.2, &quot;fillRule&quot;: &quot;evenodd&quot;, &quot;lineCap&quot;: &quot;round&quot;, &quot;lineJoin&quot;: &quot;round&quot;, &quot;opacity&quot;: 1.0, &quot;radius&quot;: 1000.0, &quot;stroke&quot;: true, &quot;weight&quot;: 3}\n",
       "            ).addTo(map_8de725e800d35d654a5b94e5a3721265);\n",
       "        \n",
       "    \n",
       "            circle_a7911cd67974a528bd0a818b5c01391f.bindTooltip(\n",
       "                `&lt;div&gt;\n",
       "                     &lt;div style=&#x27;margin: 0; background-color: black; color: white;&#x27;&gt;&lt;h4 style=&#x27;text-align:center;font-weight: bold&#x27;&gt;Korea, North&lt;/h4&gt;&lt;hr style=&#x27;margin:10px;color: white;&#x27;&gt;&lt;ul style=&#x27;color: white;;list-style-type:circle;align-item:left;padding-left:20px;padding-right:20px&#x27;&gt;&lt;li&gt;Confirmed: 1&lt;/li&gt;&lt;li&gt;Deaths:   5651&lt;/li&gt;&lt;li&gt;Death Rate: 282548.59&lt;/li&gt;&lt;/ul&gt;&lt;/div&gt;\n",
       "                 &lt;/div&gt;`,\n",
       "                {&quot;sticky&quot;: true}\n",
       "            );\n",
       "        \n",
       "    \n",
       "            var circle_d363388f3460f2e2cf32095f8a8664e2 = L.circle(\n",
       "                [35.907757, 127.766922],\n",
       "                {&quot;bubblingMouseEvents&quot;: true, &quot;color&quot;: &quot;red&quot;, &quot;dashArray&quot;: null, &quot;dashOffset&quot;: null, &quot;fill&quot;: true, &quot;fillColor&quot;: &quot;indigo&quot;, &quot;fillOpacity&quot;: 0.2, &quot;fillRule&quot;: &quot;evenodd&quot;, &quot;lineCap&quot;: &quot;round&quot;, &quot;lineJoin&quot;: &quot;round&quot;, &quot;opacity&quot;: 1.0, &quot;radius&quot;: 81000.0, &quot;stroke&quot;: true, &quot;weight&quot;: 3}\n",
       "            ).addTo(map_8de725e800d35d654a5b94e5a3721265);\n",
       "        \n",
       "    \n",
       "            circle_d363388f3460f2e2cf32095f8a8664e2.bindTooltip(\n",
       "                `&lt;div&gt;\n",
       "                     &lt;div style=&#x27;margin: 0; background-color: black; color: white;&#x27;&gt;&lt;h4 style=&#x27;text-align:center;font-weight: bold&#x27;&gt;Korea, South&lt;/h4&gt;&lt;hr style=&#x27;margin:10px;color: white;&#x27;&gt;&lt;ul style=&#x27;color: white;;list-style-type:circle;align-item:left;padding-left:20px;padding-right:20px&#x27;&gt;&lt;li&gt;Confirmed: 18017923&lt;/li&gt;&lt;li&gt;Deaths:   13&lt;/li&gt;&lt;li&gt;Death Rate: 0.0&lt;/li&gt;&lt;/ul&gt;&lt;/div&gt;\n",
       "                 &lt;/div&gt;`,\n",
       "                {&quot;sticky&quot;: true}\n",
       "            );\n",
       "        \n",
       "    \n",
       "            var circle_f57528181e04b80f38f32a2dd9e7a774 = L.circle(\n",
       "                [42.602636, 20.902977],\n",
       "                {&quot;bubblingMouseEvents&quot;: true, &quot;color&quot;: &quot;red&quot;, &quot;dashArray&quot;: null, &quot;dashOffset&quot;: null, &quot;fill&quot;: true, &quot;fillColor&quot;: &quot;indigo&quot;, &quot;fillOpacity&quot;: 0.2, &quot;fillRule&quot;: &quot;evenodd&quot;, &quot;lineCap&quot;: &quot;round&quot;, &quot;lineJoin&quot;: &quot;round&quot;, &quot;opacity&quot;: 1.0, &quot;radius&quot;: 61000.0, &quot;stroke&quot;: true, &quot;weight&quot;: 3}\n",
       "            ).addTo(map_8de725e800d35d654a5b94e5a3721265);\n",
       "        \n",
       "    \n",
       "            circle_f57528181e04b80f38f32a2dd9e7a774.bindTooltip(\n",
       "                `&lt;div&gt;\n",
       "                     &lt;div style=&#x27;margin: 0; background-color: black; color: white;&#x27;&gt;&lt;h4 style=&#x27;text-align:center;font-weight: bold&#x27;&gt;Kosovo&lt;/h4&gt;&lt;hr style=&#x27;margin:10px;color: white;&#x27;&gt;&lt;ul style=&#x27;color: white;;list-style-type:circle;align-item:left;padding-left:20px;padding-right:20px&#x27;&gt;&lt;li&gt;Confirmed: 228321&lt;/li&gt;&lt;li&gt;Deaths:   6&lt;/li&gt;&lt;li&gt;Death Rate: 0.0&lt;/li&gt;&lt;/ul&gt;&lt;/div&gt;\n",
       "                 &lt;/div&gt;`,\n",
       "                {&quot;sticky&quot;: true}\n",
       "            );\n",
       "        \n",
       "    \n",
       "            var circle_e6c2be4ae21d5a0c9656ebebf9df4774 = L.circle(\n",
       "                [29.31166, 47.481766],\n",
       "                {&quot;bubblingMouseEvents&quot;: true, &quot;color&quot;: &quot;red&quot;, &quot;dashArray&quot;: null, &quot;dashOffset&quot;: null, &quot;fill&quot;: true, &quot;fillColor&quot;: &quot;indigo&quot;, &quot;fillOpacity&quot;: 0.2, &quot;fillRule&quot;: &quot;evenodd&quot;, &quot;lineCap&quot;: &quot;round&quot;, &quot;lineJoin&quot;: &quot;round&quot;, &quot;opacity&quot;: 1.0, &quot;radius&quot;: 66000.0, &quot;stroke&quot;: true, &quot;weight&quot;: 3}\n",
       "            ).addTo(map_8de725e800d35d654a5b94e5a3721265);\n",
       "        \n",
       "    \n",
       "            circle_e6c2be4ae21d5a0c9656ebebf9df4774.bindTooltip(\n",
       "                `&lt;div&gt;\n",
       "                     &lt;div style=&#x27;margin: 0; background-color: black; color: white;&#x27;&gt;&lt;h4 style=&#x27;text-align:center;font-weight: bold&#x27;&gt;Kuwait&lt;/h4&gt;&lt;hr style=&#x27;margin:10px;color: white;&#x27;&gt;&lt;ul style=&#x27;color: white;;list-style-type:circle;align-item:left;padding-left:20px;padding-right:20px&#x27;&gt;&lt;li&gt;Confirmed: 632781&lt;/li&gt;&lt;li&gt;Deaths:   24029&lt;/li&gt;&lt;li&gt;Death Rate: 3.8&lt;/li&gt;&lt;/ul&gt;&lt;/div&gt;\n",
       "                 &lt;/div&gt;`,\n",
       "                {&quot;sticky&quot;: true}\n",
       "            );\n",
       "        \n",
       "    \n",
       "            var circle_9f0608f8b0333d805ebdb8268fbdbca6 = L.circle(\n",
       "                [41.20438, 74.766098],\n",
       "                {&quot;bubblingMouseEvents&quot;: true, &quot;color&quot;: &quot;red&quot;, &quot;dashArray&quot;: null, &quot;dashOffset&quot;: null, &quot;fill&quot;: true, &quot;fillColor&quot;: &quot;indigo&quot;, &quot;fillOpacity&quot;: 0.2, &quot;fillRule&quot;: &quot;evenodd&quot;, &quot;lineCap&quot;: &quot;round&quot;, &quot;lineJoin&quot;: &quot;round&quot;, &quot;opacity&quot;: 1.0, &quot;radius&quot;: 61000.0, &quot;stroke&quot;: true, &quot;weight&quot;: 3}\n",
       "            ).addTo(map_8de725e800d35d654a5b94e5a3721265);\n",
       "        \n",
       "    \n",
       "            circle_9f0608f8b0333d805ebdb8268fbdbca6.bindTooltip(\n",
       "                `&lt;div&gt;\n",
       "                     &lt;div style=&#x27;margin: 0; background-color: black; color: white;&#x27;&gt;&lt;h4 style=&#x27;text-align:center;font-weight: bold&#x27;&gt;Kyrgyzstan&lt;/h4&gt;&lt;hr style=&#x27;margin:10px;color: white;&#x27;&gt;&lt;ul style=&#x27;color: white;;list-style-type:circle;align-item:left;padding-left:20px;padding-right:20px&#x27;&gt;&lt;li&gt;Confirmed: 200993&lt;/li&gt;&lt;li&gt;Deaths:   3139&lt;/li&gt;&lt;li&gt;Death Rate: 1.56&lt;/li&gt;&lt;/ul&gt;&lt;/div&gt;\n",
       "                 &lt;/div&gt;`,\n",
       "                {&quot;sticky&quot;: true}\n",
       "            );\n",
       "        \n",
       "    \n",
       "            var circle_eeca0f1192e16addb89f4f617aff917b = L.circle(\n",
       "                [19.85627, 102.495496],\n",
       "                {&quot;bubblingMouseEvents&quot;: true, &quot;color&quot;: &quot;red&quot;, &quot;dashArray&quot;: null, &quot;dashOffset&quot;: null, &quot;fill&quot;: true, &quot;fillColor&quot;: &quot;indigo&quot;, &quot;fillOpacity&quot;: 0.2, &quot;fillRule&quot;: &quot;evenodd&quot;, &quot;lineCap&quot;: &quot;round&quot;, &quot;lineJoin&quot;: &quot;round&quot;, &quot;opacity&quot;: 1.0, &quot;radius&quot;: 61000.0, &quot;stroke&quot;: true, &quot;weight&quot;: 3}\n",
       "            ).addTo(map_8de725e800d35d654a5b94e5a3721265);\n",
       "        \n",
       "    \n",
       "            circle_eeca0f1192e16addb89f4f617aff917b.bindTooltip(\n",
       "                `&lt;div&gt;\n",
       "                     &lt;div style=&#x27;margin: 0; background-color: black; color: white;&#x27;&gt;&lt;h4 style=&#x27;text-align:center;font-weight: bold&#x27;&gt;Laos&lt;/h4&gt;&lt;hr style=&#x27;margin:10px;color: white;&#x27;&gt;&lt;ul style=&#x27;color: white;;list-style-type:circle;align-item:left;padding-left:20px;padding-right:20px&#x27;&gt;&lt;li&gt;Confirmed: 209823&lt;/li&gt;&lt;li&gt;Deaths:   2555&lt;/li&gt;&lt;li&gt;Death Rate: 1.22&lt;/li&gt;&lt;/ul&gt;&lt;/div&gt;\n",
       "                 &lt;/div&gt;`,\n",
       "                {&quot;sticky&quot;: true}\n",
       "            );\n",
       "        \n",
       "    \n",
       "            var circle_0260433322578b30fa4512f8a30440b9 = L.circle(\n",
       "                [56.8796, 24.6032],\n",
       "                {&quot;bubblingMouseEvents&quot;: true, &quot;color&quot;: &quot;red&quot;, &quot;dashArray&quot;: null, &quot;dashOffset&quot;: null, &quot;fill&quot;: true, &quot;fillColor&quot;: &quot;indigo&quot;, &quot;fillOpacity&quot;: 0.2, &quot;fillRule&quot;: &quot;evenodd&quot;, &quot;lineCap&quot;: &quot;round&quot;, &quot;lineJoin&quot;: &quot;round&quot;, &quot;opacity&quot;: 1.0, &quot;radius&quot;: 66000.0, &quot;stroke&quot;: true, &quot;weight&quot;: 3}\n",
       "            ).addTo(map_8de725e800d35d654a5b94e5a3721265);\n",
       "        \n",
       "    \n",
       "            circle_0260433322578b30fa4512f8a30440b9.bindTooltip(\n",
       "                `&lt;div&gt;\n",
       "                     &lt;div style=&#x27;margin: 0; background-color: black; color: white;&#x27;&gt;&lt;h4 style=&#x27;text-align:center;font-weight: bold&#x27;&gt;Latvia&lt;/h4&gt;&lt;hr style=&#x27;margin:10px;color: white;&#x27;&gt;&lt;ul style=&#x27;color: white;;list-style-type:circle;align-item:left;padding-left:20px;padding-right:20px&#x27;&gt;&lt;li&gt;Confirmed: 827437&lt;/li&gt;&lt;li&gt;Deaths:   2991&lt;/li&gt;&lt;li&gt;Death Rate: 0.36&lt;/li&gt;&lt;/ul&gt;&lt;/div&gt;\n",
       "                 &lt;/div&gt;`,\n",
       "                {&quot;sticky&quot;: true}\n",
       "            );\n",
       "        \n",
       "    \n",
       "            var circle_e852eafa284314d2ec33f78893f2554b = L.circle(\n",
       "                [33.8547, 35.8623],\n",
       "                {&quot;bubblingMouseEvents&quot;: true, &quot;color&quot;: &quot;red&quot;, &quot;dashArray&quot;: null, &quot;dashOffset&quot;: null, &quot;fill&quot;: true, &quot;fillColor&quot;: &quot;indigo&quot;, &quot;fillOpacity&quot;: 0.2, &quot;fillRule&quot;: &quot;evenodd&quot;, &quot;lineCap&quot;: &quot;round&quot;, &quot;lineJoin&quot;: &quot;round&quot;, &quot;opacity&quot;: 1.0, &quot;radius&quot;: 66000.0, &quot;stroke&quot;: true, &quot;weight&quot;: 3}\n",
       "            ).addTo(map_8de725e800d35d654a5b94e5a3721265);\n",
       "        \n",
       "    \n",
       "            circle_e852eafa284314d2ec33f78893f2554b.bindTooltip(\n",
       "                `&lt;div&gt;\n",
       "                     &lt;div style=&#x27;margin: 0; background-color: black; color: white;&#x27;&gt;&lt;h4 style=&#x27;text-align:center;font-weight: bold&#x27;&gt;Lebanon&lt;/h4&gt;&lt;hr style=&#x27;margin:10px;color: white;&#x27;&gt;&lt;ul style=&#x27;color: white;;list-style-type:circle;align-item:left;padding-left:20px;padding-right:20px&#x27;&gt;&lt;li&gt;Confirmed: 1098710&lt;/li&gt;&lt;li&gt;Deaths:   756&lt;/li&gt;&lt;li&gt;Death Rate: 0.07&lt;/li&gt;&lt;/ul&gt;&lt;/div&gt;\n",
       "                 &lt;/div&gt;`,\n",
       "                {&quot;sticky&quot;: true}\n",
       "            );\n",
       "        \n",
       "    \n",
       "            var circle_031ec27c07112a1ef69e2be6ffefcdf4 = L.circle(\n",
       "                [-29.61, 28.2336],\n",
       "                {&quot;bubblingMouseEvents&quot;: true, &quot;color&quot;: &quot;red&quot;, &quot;dashArray&quot;: null, &quot;dashOffset&quot;: null, &quot;fill&quot;: true, &quot;fillColor&quot;: &quot;indigo&quot;, &quot;fillOpacity&quot;: 0.2, &quot;fillRule&quot;: &quot;evenodd&quot;, &quot;lineCap&quot;: &quot;round&quot;, &quot;lineJoin&quot;: &quot;round&quot;, &quot;opacity&quot;: 1.0, &quot;radius&quot;: 51000.0, &quot;stroke&quot;: true, &quot;weight&quot;: 3}\n",
       "            ).addTo(map_8de725e800d35d654a5b94e5a3721265);\n",
       "        \n",
       "    \n",
       "            circle_031ec27c07112a1ef69e2be6ffefcdf4.bindTooltip(\n",
       "                `&lt;div&gt;\n",
       "                     &lt;div style=&#x27;margin: 0; background-color: black; color: white;&#x27;&gt;&lt;h4 style=&#x27;text-align:center;font-weight: bold&#x27;&gt;Lesotho&lt;/h4&gt;&lt;hr style=&#x27;margin:10px;color: white;&#x27;&gt;&lt;ul style=&#x27;color: white;;list-style-type:circle;align-item:left;padding-left:20px;padding-right:20px&#x27;&gt;&lt;li&gt;Confirmed: 33305&lt;/li&gt;&lt;li&gt;Deaths:   5817&lt;/li&gt;&lt;li&gt;Death Rate: 17.47&lt;/li&gt;&lt;/ul&gt;&lt;/div&gt;\n",
       "                 &lt;/div&gt;`,\n",
       "                {&quot;sticky&quot;: true}\n",
       "            );\n",
       "        \n",
       "    \n",
       "            var circle_185dc31d3e6b59004e0145b899f66abe = L.circle(\n",
       "                [6.428055, -9.429499],\n",
       "                {&quot;bubblingMouseEvents&quot;: true, &quot;color&quot;: &quot;red&quot;, &quot;dashArray&quot;: null, &quot;dashOffset&quot;: null, &quot;fill&quot;: true, &quot;fillColor&quot;: &quot;indigo&quot;, &quot;fillOpacity&quot;: 0.2, &quot;fillRule&quot;: &quot;evenodd&quot;, &quot;lineCap&quot;: &quot;round&quot;, &quot;lineJoin&quot;: &quot;round&quot;, &quot;opacity&quot;: 1.0, &quot;radius&quot;: 41000.0, &quot;stroke&quot;: true, &quot;weight&quot;: 3}\n",
       "            ).addTo(map_8de725e800d35d654a5b94e5a3721265);\n",
       "        \n",
       "    \n",
       "            circle_185dc31d3e6b59004e0145b899f66abe.bindTooltip(\n",
       "                `&lt;div&gt;\n",
       "                     &lt;div style=&#x27;margin: 0; background-color: black; color: white;&#x27;&gt;&lt;h4 style=&#x27;text-align:center;font-weight: bold&#x27;&gt;Liberia&lt;/h4&gt;&lt;hr style=&#x27;margin:10px;color: white;&#x27;&gt;&lt;ul style=&#x27;color: white;;list-style-type:circle;align-item:left;padding-left:20px;padding-right:20px&#x27;&gt;&lt;li&gt;Confirmed: 7455&lt;/li&gt;&lt;li&gt;Deaths:   10420&lt;/li&gt;&lt;li&gt;Death Rate: 139.75&lt;/li&gt;&lt;/ul&gt;&lt;/div&gt;\n",
       "                 &lt;/div&gt;`,\n",
       "                {&quot;sticky&quot;: true}\n",
       "            );\n",
       "        \n",
       "    \n",
       "            var circle_5afb933ee0780086a3eff6fd9b35c5ff = L.circle(\n",
       "                [26.3351, 17.228331],\n",
       "                {&quot;bubblingMouseEvents&quot;: true, &quot;color&quot;: &quot;red&quot;, &quot;dashArray&quot;: null, &quot;dashOffset&quot;: null, &quot;fill&quot;: true, &quot;fillColor&quot;: &quot;indigo&quot;, &quot;fillOpacity&quot;: 0.2, &quot;fillRule&quot;: &quot;evenodd&quot;, &quot;lineCap&quot;: &quot;round&quot;, &quot;lineJoin&quot;: &quot;round&quot;, &quot;opacity&quot;: 1.0, &quot;radius&quot;: 66000.0, &quot;stroke&quot;: true, &quot;weight&quot;: 3}\n",
       "            ).addTo(map_8de725e800d35d654a5b94e5a3721265);\n",
       "        \n",
       "    \n",
       "            circle_5afb933ee0780086a3eff6fd9b35c5ff.bindTooltip(\n",
       "                `&lt;div&gt;\n",
       "                     &lt;div style=&#x27;margin: 0; background-color: black; color: white;&#x27;&gt;&lt;h4 style=&#x27;text-align:center;font-weight: bold&#x27;&gt;Libya&lt;/h4&gt;&lt;hr style=&#x27;margin:10px;color: white;&#x27;&gt;&lt;ul style=&#x27;color: white;;list-style-type:circle;align-item:left;padding-left:20px;padding-right:20px&#x27;&gt;&lt;li&gt;Confirmed: 501987&lt;/li&gt;&lt;li&gt;Deaths:   698&lt;/li&gt;&lt;li&gt;Death Rate: 0.14&lt;/li&gt;&lt;/ul&gt;&lt;/div&gt;\n",
       "                 &lt;/div&gt;`,\n",
       "                {&quot;sticky&quot;: true}\n",
       "            );\n",
       "        \n",
       "    \n",
       "            var circle_1bb8b3ab326c813b5c0d755c33e8b623 = L.circle(\n",
       "                [47.14, 9.55],\n",
       "                {&quot;bubblingMouseEvents&quot;: true, &quot;color&quot;: &quot;red&quot;, &quot;dashArray&quot;: null, &quot;dashOffset&quot;: null, &quot;fill&quot;: true, &quot;fillColor&quot;: &quot;indigo&quot;, &quot;fillOpacity&quot;: 0.2, &quot;fillRule&quot;: &quot;evenodd&quot;, &quot;lineCap&quot;: &quot;round&quot;, &quot;lineJoin&quot;: &quot;round&quot;, &quot;opacity&quot;: 1.0, &quot;radius&quot;: 46000.0, &quot;stroke&quot;: true, &quot;weight&quot;: 3}\n",
       "            ).addTo(map_8de725e800d35d654a5b94e5a3721265);\n",
       "        \n",
       "    \n",
       "            circle_1bb8b3ab326c813b5c0d755c33e8b623.bindTooltip(\n",
       "                `&lt;div&gt;\n",
       "                     &lt;div style=&#x27;margin: 0; background-color: black; color: white;&#x27;&gt;&lt;h4 style=&#x27;text-align:center;font-weight: bold&#x27;&gt;Liechtenstein&lt;/h4&gt;&lt;hr style=&#x27;margin:10px;color: white;&#x27;&gt;&lt;ul style=&#x27;color: white;;list-style-type:circle;align-item:left;padding-left:20px;padding-right:20px&#x27;&gt;&lt;li&gt;Confirmed: 17417&lt;/li&gt;&lt;li&gt;Deaths:   294&lt;/li&gt;&lt;li&gt;Death Rate: 1.69&lt;/li&gt;&lt;/ul&gt;&lt;/div&gt;\n",
       "                 &lt;/div&gt;`,\n",
       "                {&quot;sticky&quot;: true}\n",
       "            );\n",
       "        \n",
       "    \n",
       "            var circle_1818e89444eebd8ff59db0d65ca4525a = L.circle(\n",
       "                [55.1694, 23.8813],\n",
       "                {&quot;bubblingMouseEvents&quot;: true, &quot;color&quot;: &quot;red&quot;, &quot;dashArray&quot;: null, &quot;dashOffset&quot;: null, &quot;fill&quot;: true, &quot;fillColor&quot;: &quot;indigo&quot;, &quot;fillOpacity&quot;: 0.2, &quot;fillRule&quot;: &quot;evenodd&quot;, &quot;lineCap&quot;: &quot;round&quot;, &quot;lineJoin&quot;: &quot;round&quot;, &quot;opacity&quot;: 1.0, &quot;radius&quot;: 66000.0, &quot;stroke&quot;: true, &quot;weight&quot;: 3}\n",
       "            ).addTo(map_8de725e800d35d654a5b94e5a3721265);\n",
       "        \n",
       "    \n",
       "            circle_1818e89444eebd8ff59db0d65ca4525a.bindTooltip(\n",
       "                `&lt;div&gt;\n",
       "                     &lt;div style=&#x27;margin: 0; background-color: black; color: white;&#x27;&gt;&lt;h4 style=&#x27;text-align:center;font-weight: bold&#x27;&gt;Lithuania&lt;/h4&gt;&lt;hr style=&#x27;margin:10px;color: white;&#x27;&gt;&lt;ul style=&#x27;color: white;;list-style-type:circle;align-item:left;padding-left:20px;padding-right:20px&#x27;&gt;&lt;li&gt;Confirmed: 1061779&lt;/li&gt;&lt;li&gt;Deaths:   6430&lt;/li&gt;&lt;li&gt;Death Rate: 0.61&lt;/li&gt;&lt;/ul&gt;&lt;/div&gt;\n",
       "                 &lt;/div&gt;`,\n",
       "                {&quot;sticky&quot;: true}\n",
       "            );\n",
       "        \n",
       "    \n",
       "            var circle_975cecbbf5ba96d2479de0e7355f5e62 = L.circle(\n",
       "                [49.8153, 6.1296],\n",
       "                {&quot;bubblingMouseEvents&quot;: true, &quot;color&quot;: &quot;red&quot;, &quot;dashArray&quot;: null, &quot;dashOffset&quot;: null, &quot;fill&quot;: true, &quot;fillColor&quot;: &quot;indigo&quot;, &quot;fillOpacity&quot;: 0.2, &quot;fillRule&quot;: &quot;evenodd&quot;, &quot;lineCap&quot;: &quot;round&quot;, &quot;lineJoin&quot;: &quot;round&quot;, &quot;opacity&quot;: 1.0, &quot;radius&quot;: 61000.0, &quot;stroke&quot;: true, &quot;weight&quot;: 3}\n",
       "            ).addTo(map_8de725e800d35d654a5b94e5a3721265);\n",
       "        \n",
       "    \n",
       "            circle_975cecbbf5ba96d2479de0e7355f5e62.bindTooltip(\n",
       "                `&lt;div&gt;\n",
       "                     &lt;div style=&#x27;margin: 0; background-color: black; color: white;&#x27;&gt;&lt;h4 style=&#x27;text-align:center;font-weight: bold&#x27;&gt;Luxembourg&lt;/h4&gt;&lt;hr style=&#x27;margin:10px;color: white;&#x27;&gt;&lt;ul style=&#x27;color: white;;list-style-type:circle;align-item:left;padding-left:20px;padding-right:20px&#x27;&gt;&lt;li&gt;Confirmed: 244182&lt;/li&gt;&lt;li&gt;Deaths:   84&lt;/li&gt;&lt;li&gt;Death Rate: 0.03&lt;/li&gt;&lt;/ul&gt;&lt;/div&gt;\n",
       "                 &lt;/div&gt;`,\n",
       "                {&quot;sticky&quot;: true}\n",
       "            );\n",
       "        \n",
       "    \n",
       "            var circle_2218a224a0bd5622475f665dc1cd12db = L.circle(\n",
       "                [0.0, 0.0],\n",
       "                {&quot;bubblingMouseEvents&quot;: true, &quot;color&quot;: &quot;red&quot;, &quot;dashArray&quot;: null, &quot;dashOffset&quot;: null, &quot;fill&quot;: true, &quot;fillColor&quot;: &quot;indigo&quot;, &quot;fillOpacity&quot;: 0.2, &quot;fillRule&quot;: &quot;evenodd&quot;, &quot;lineCap&quot;: &quot;round&quot;, &quot;lineJoin&quot;: &quot;round&quot;, &quot;opacity&quot;: 1.0, &quot;radius&quot;: 11000.0, &quot;stroke&quot;: true, &quot;weight&quot;: 3}\n",
       "            ).addTo(map_8de725e800d35d654a5b94e5a3721265);\n",
       "        \n",
       "    \n",
       "            circle_2218a224a0bd5622475f665dc1cd12db.bindTooltip(\n",
       "                `&lt;div&gt;\n",
       "                     &lt;div style=&#x27;margin: 0; background-color: black; color: white;&#x27;&gt;&lt;h4 style=&#x27;text-align:center;font-weight: bold&#x27;&gt;MS Zaandam&lt;/h4&gt;&lt;hr style=&#x27;margin:10px;color: white;&#x27;&gt;&lt;ul style=&#x27;color: white;;list-style-type:circle;align-item:left;padding-left:20px;padding-right:20px&#x27;&gt;&lt;li&gt;Confirmed: 9&lt;/li&gt;&lt;li&gt;Deaths:   9137&lt;/li&gt;&lt;li&gt;Death Rate: 91369.91&lt;/li&gt;&lt;/ul&gt;&lt;/div&gt;\n",
       "                 &lt;/div&gt;`,\n",
       "                {&quot;sticky&quot;: true}\n",
       "            );\n",
       "        \n",
       "    \n",
       "            var circle_6a314a464278dce3513070fb09d077eb = L.circle(\n",
       "                [-18.766947, 46.869107],\n",
       "                {&quot;bubblingMouseEvents&quot;: true, &quot;color&quot;: &quot;red&quot;, &quot;dashArray&quot;: null, &quot;dashOffset&quot;: null, &quot;fill&quot;: true, &quot;fillColor&quot;: &quot;indigo&quot;, &quot;fillOpacity&quot;: 0.2, &quot;fillRule&quot;: &quot;evenodd&quot;, &quot;lineCap&quot;: &quot;round&quot;, &quot;lineJoin&quot;: &quot;round&quot;, &quot;opacity&quot;: 1.0, &quot;radius&quot;: 56000.0, &quot;stroke&quot;: true, &quot;weight&quot;: 3}\n",
       "            ).addTo(map_8de725e800d35d654a5b94e5a3721265);\n",
       "        \n",
       "    \n",
       "            circle_6a314a464278dce3513070fb09d077eb.bindTooltip(\n",
       "                `&lt;div&gt;\n",
       "                     &lt;div style=&#x27;margin: 0; background-color: black; color: white;&#x27;&gt;&lt;h4 style=&#x27;text-align:center;font-weight: bold&#x27;&gt;Madagascar&lt;/h4&gt;&lt;hr style=&#x27;margin:10px;color: white;&#x27;&gt;&lt;ul style=&#x27;color: white;;list-style-type:circle;align-item:left;padding-left:20px;padding-right:20px&#x27;&gt;&lt;li&gt;Confirmed: 64314&lt;/li&gt;&lt;li&gt;Deaths:   1073&lt;/li&gt;&lt;li&gt;Death Rate: 1.67&lt;/li&gt;&lt;/ul&gt;&lt;/div&gt;\n",
       "                 &lt;/div&gt;`,\n",
       "                {&quot;sticky&quot;: true}\n",
       "            );\n",
       "        \n",
       "    \n",
       "            var circle_3d3c3e945e67d51892afb60942abe3a6 = L.circle(\n",
       "                [-13.2543, 34.3015],\n",
       "                {&quot;bubblingMouseEvents&quot;: true, &quot;color&quot;: &quot;red&quot;, &quot;dashArray&quot;: null, &quot;dashOffset&quot;: null, &quot;fill&quot;: true, &quot;fillColor&quot;: &quot;indigo&quot;, &quot;fillOpacity&quot;: 0.2, &quot;fillRule&quot;: &quot;evenodd&quot;, &quot;lineCap&quot;: &quot;round&quot;, &quot;lineJoin&quot;: &quot;round&quot;, &quot;opacity&quot;: 1.0, &quot;radius&quot;: 56000.0, &quot;stroke&quot;: true, &quot;weight&quot;: 3}\n",
       "            ).addTo(map_8de725e800d35d654a5b94e5a3721265);\n",
       "        \n",
       "    \n",
       "            circle_3d3c3e945e67d51892afb60942abe3a6.bindTooltip(\n",
       "                `&lt;div&gt;\n",
       "                     &lt;div style=&#x27;margin: 0; background-color: black; color: white;&#x27;&gt;&lt;h4 style=&#x27;text-align:center;font-weight: bold&#x27;&gt;Malawi&lt;/h4&gt;&lt;hr style=&#x27;margin:10px;color: white;&#x27;&gt;&lt;ul style=&#x27;color: white;;list-style-type:circle;align-item:left;padding-left:20px;padding-right:20px&#x27;&gt;&lt;li&gt;Confirmed: 85943&lt;/li&gt;&lt;li&gt;Deaths:   2&lt;/li&gt;&lt;li&gt;Death Rate: 0.0&lt;/li&gt;&lt;/ul&gt;&lt;/div&gt;\n",
       "                 &lt;/div&gt;`,\n",
       "                {&quot;sticky&quot;: true}\n",
       "            );\n",
       "        \n",
       "    \n",
       "            var circle_7a389416e371833b7be0bee5acb88137 = L.circle(\n",
       "                [4.210484, 101.975766],\n",
       "                {&quot;bubblingMouseEvents&quot;: true, &quot;color&quot;: &quot;red&quot;, &quot;dashArray&quot;: null, &quot;dashOffset&quot;: null, &quot;fill&quot;: true, &quot;fillColor&quot;: &quot;indigo&quot;, &quot;fillOpacity&quot;: 0.2, &quot;fillRule&quot;: &quot;evenodd&quot;, &quot;lineCap&quot;: &quot;round&quot;, &quot;lineJoin&quot;: &quot;round&quot;, &quot;opacity&quot;: 1.0, &quot;radius&quot;: 76000.0, &quot;stroke&quot;: true, &quot;weight&quot;: 3}\n",
       "            ).addTo(map_8de725e800d35d654a5b94e5a3721265);\n",
       "        \n",
       "    \n",
       "            circle_7a389416e371833b7be0bee5acb88137.bindTooltip(\n",
       "                `&lt;div&gt;\n",
       "                     &lt;div style=&#x27;margin: 0; background-color: black; color: white;&#x27;&gt;&lt;h4 style=&#x27;text-align:center;font-weight: bold&#x27;&gt;Malaysia&lt;/h4&gt;&lt;hr style=&#x27;margin:10px;color: white;&#x27;&gt;&lt;ul style=&#x27;color: white;;list-style-type:circle;align-item:left;padding-left:20px;padding-right:20px&#x27;&gt;&lt;li&gt;Confirmed: 4494782&lt;/li&gt;&lt;li&gt;Deaths:   1393&lt;/li&gt;&lt;li&gt;Death Rate: 0.03&lt;/li&gt;&lt;/ul&gt;&lt;/div&gt;\n",
       "                 &lt;/div&gt;`,\n",
       "                {&quot;sticky&quot;: true}\n",
       "            );\n",
       "        \n",
       "    \n",
       "            var circle_b55d0cc6bf957fee4349df9c65c15cc9 = L.circle(\n",
       "                [3.2028, 73.2207],\n",
       "                {&quot;bubblingMouseEvents&quot;: true, &quot;color&quot;: &quot;red&quot;, &quot;dashArray&quot;: null, &quot;dashOffset&quot;: null, &quot;fill&quot;: true, &quot;fillColor&quot;: &quot;indigo&quot;, &quot;fillOpacity&quot;: 0.2, &quot;fillRule&quot;: &quot;evenodd&quot;, &quot;lineCap&quot;: &quot;round&quot;, &quot;lineJoin&quot;: &quot;round&quot;, &quot;opacity&quot;: 1.0, &quot;radius&quot;: 61000.0, &quot;stroke&quot;: true, &quot;weight&quot;: 3}\n",
       "            ).addTo(map_8de725e800d35d654a5b94e5a3721265);\n",
       "        \n",
       "    \n",
       "            circle_b55d0cc6bf957fee4349df9c65c15cc9.bindTooltip(\n",
       "                `&lt;div&gt;\n",
       "                     &lt;div style=&#x27;margin: 0; background-color: black; color: white;&#x27;&gt;&lt;h4 style=&#x27;text-align:center;font-weight: bold&#x27;&gt;Maldives&lt;/h4&gt;&lt;hr style=&#x27;margin:10px;color: white;&#x27;&gt;&lt;ul style=&#x27;color: white;;list-style-type:circle;align-item:left;padding-left:20px;padding-right:20px&#x27;&gt;&lt;li&gt;Confirmed: 179662&lt;/li&gt;&lt;li&gt;Deaths:   2639&lt;/li&gt;&lt;li&gt;Death Rate: 1.47&lt;/li&gt;&lt;/ul&gt;&lt;/div&gt;\n",
       "                 &lt;/div&gt;`,\n",
       "                {&quot;sticky&quot;: true}\n",
       "            );\n",
       "        \n",
       "    \n",
       "            var circle_f1a2f56f06c08646cf3dfa46473f8692 = L.circle(\n",
       "                [17.570692, -3.996166],\n",
       "                {&quot;bubblingMouseEvents&quot;: true, &quot;color&quot;: &quot;red&quot;, &quot;dashArray&quot;: null, &quot;dashOffset&quot;: null, &quot;fill&quot;: true, &quot;fillColor&quot;: &quot;indigo&quot;, &quot;fillOpacity&quot;: 0.2, &quot;fillRule&quot;: &quot;evenodd&quot;, &quot;lineCap&quot;: &quot;round&quot;, &quot;lineJoin&quot;: &quot;round&quot;, &quot;opacity&quot;: 1.0, &quot;radius&quot;: 51000.0, &quot;stroke&quot;: true, &quot;weight&quot;: 3}\n",
       "            ).addTo(map_8de725e800d35d654a5b94e5a3721265);\n",
       "        \n",
       "    \n",
       "            circle_f1a2f56f06c08646cf3dfa46473f8692.bindTooltip(\n",
       "                `&lt;div&gt;\n",
       "                     &lt;div style=&#x27;margin: 0; background-color: black; color: white;&#x27;&gt;&lt;h4 style=&#x27;text-align:center;font-weight: bold&#x27;&gt;Mali&lt;/h4&gt;&lt;hr style=&#x27;margin:10px;color: white;&#x27;&gt;&lt;ul style=&#x27;color: white;;list-style-type:circle;align-item:left;padding-left:20px;padding-right:20px&#x27;&gt;&lt;li&gt;Confirmed: 31058&lt;/li&gt;&lt;li&gt;Deaths:   35647&lt;/li&gt;&lt;li&gt;Death Rate: 114.77&lt;/li&gt;&lt;/ul&gt;&lt;/div&gt;\n",
       "                 &lt;/div&gt;`,\n",
       "                {&quot;sticky&quot;: true}\n",
       "            );\n",
       "        \n",
       "    \n",
       "            var circle_f9c5188d70f64b1de5dcbe78f2d78003 = L.circle(\n",
       "                [35.9375, 14.3754],\n",
       "                {&quot;bubblingMouseEvents&quot;: true, &quot;color&quot;: &quot;red&quot;, &quot;dashArray&quot;: null, &quot;dashOffset&quot;: null, &quot;fill&quot;: true, &quot;fillColor&quot;: &quot;indigo&quot;, &quot;fillOpacity&quot;: 0.2, &quot;fillRule&quot;: &quot;evenodd&quot;, &quot;lineCap&quot;: &quot;round&quot;, &quot;lineJoin&quot;: &quot;round&quot;, &quot;opacity&quot;: 1.0, &quot;radius&quot;: 56000.0, &quot;stroke&quot;: true, &quot;weight&quot;: 3}\n",
       "            ).addTo(map_8de725e800d35d654a5b94e5a3721265);\n",
       "        \n",
       "    \n",
       "            circle_f9c5188d70f64b1de5dcbe78f2d78003.bindTooltip(\n",
       "                `&lt;div&gt;\n",
       "                     &lt;div style=&#x27;margin: 0; background-color: black; color: white;&#x27;&gt;&lt;h4 style=&#x27;text-align:center;font-weight: bold&#x27;&gt;Malta&lt;/h4&gt;&lt;hr style=&#x27;margin:10px;color: white;&#x27;&gt;&lt;ul style=&#x27;color: white;;list-style-type:circle;align-item:left;padding-left:20px;padding-right:20px&#x27;&gt;&lt;li&gt;Confirmed: 94205&lt;/li&gt;&lt;li&gt;Deaths:   298&lt;/li&gt;&lt;li&gt;Death Rate: 0.32&lt;/li&gt;&lt;/ul&gt;&lt;/div&gt;\n",
       "                 &lt;/div&gt;`,\n",
       "                {&quot;sticky&quot;: true}\n",
       "            );\n",
       "        \n",
       "    \n",
       "            var circle_b810ee8e51a201acbd5a79ebf9ce3e9a = L.circle(\n",
       "                [7.1315, 171.1845],\n",
       "                {&quot;bubblingMouseEvents&quot;: true, &quot;color&quot;: &quot;red&quot;, &quot;dashArray&quot;: null, &quot;dashOffset&quot;: null, &quot;fill&quot;: true, &quot;fillColor&quot;: &quot;indigo&quot;, &quot;fillOpacity&quot;: 0.2, &quot;fillRule&quot;: &quot;evenodd&quot;, &quot;lineCap&quot;: &quot;round&quot;, &quot;lineJoin&quot;: &quot;round&quot;, &quot;opacity&quot;: 1.0, &quot;radius&quot;: 11000.0, &quot;stroke&quot;: true, &quot;weight&quot;: 3}\n",
       "            ).addTo(map_8de725e800d35d654a5b94e5a3721265);\n",
       "        \n",
       "    \n",
       "            circle_b810ee8e51a201acbd5a79ebf9ce3e9a.bindTooltip(\n",
       "                `&lt;div&gt;\n",
       "                     &lt;div style=&#x27;margin: 0; background-color: black; color: white;&#x27;&gt;&lt;h4 style=&#x27;text-align:center;font-weight: bold&#x27;&gt;Marshall Islands&lt;/h4&gt;&lt;hr style=&#x27;margin:10px;color: white;&#x27;&gt;&lt;ul style=&#x27;color: white;;list-style-type:circle;align-item:left;padding-left:20px;padding-right:20px&#x27;&gt;&lt;li&gt;Confirmed: 17&lt;/li&gt;&lt;li&gt;Deaths:   734&lt;/li&gt;&lt;li&gt;Death Rate: 4077.78&lt;/li&gt;&lt;/ul&gt;&lt;/div&gt;\n",
       "                 &lt;/div&gt;`,\n",
       "                {&quot;sticky&quot;: true}\n",
       "            );\n",
       "        \n",
       "    \n",
       "            var circle_67668a73c8e1544aa52e101659f098f0 = L.circle(\n",
       "                [21.0079, -10.9408],\n",
       "                {&quot;bubblingMouseEvents&quot;: true, &quot;color&quot;: &quot;red&quot;, &quot;dashArray&quot;: null, &quot;dashOffset&quot;: null, &quot;fill&quot;: true, &quot;fillColor&quot;: &quot;indigo&quot;, &quot;fillOpacity&quot;: 0.2, &quot;fillRule&quot;: &quot;evenodd&quot;, &quot;lineCap&quot;: &quot;round&quot;, &quot;lineJoin&quot;: &quot;round&quot;, &quot;opacity&quot;: 1.0, &quot;radius&quot;: 51000.0, &quot;stroke&quot;: true, &quot;weight&quot;: 3}\n",
       "            ).addTo(map_8de725e800d35d654a5b94e5a3721265);\n",
       "        \n",
       "    \n",
       "            circle_67668a73c8e1544aa52e101659f098f0.bindTooltip(\n",
       "                `&lt;div&gt;\n",
       "                     &lt;div style=&#x27;margin: 0; background-color: black; color: white;&#x27;&gt;&lt;h4 style=&#x27;text-align:center;font-weight: bold&#x27;&gt;Mauritania&lt;/h4&gt;&lt;hr style=&#x27;margin:10px;color: white;&#x27;&gt;&lt;ul style=&#x27;color: white;;list-style-type:circle;align-item:left;padding-left:20px;padding-right:20px&#x27;&gt;&lt;li&gt;Confirmed: 59068&lt;/li&gt;&lt;li&gt;Deaths:   719&lt;/li&gt;&lt;li&gt;Death Rate: 1.22&lt;/li&gt;&lt;/ul&gt;&lt;/div&gt;\n",
       "                 &lt;/div&gt;`,\n",
       "                {&quot;sticky&quot;: true}\n",
       "            );\n",
       "        \n",
       "    \n",
       "            var circle_462940d0b22d92ee3f230264f1bf30bd = L.circle(\n",
       "                [-20.348404, 57.552152],\n",
       "                {&quot;bubblingMouseEvents&quot;: true, &quot;color&quot;: &quot;red&quot;, &quot;dashArray&quot;: null, &quot;dashOffset&quot;: null, &quot;fill&quot;: true, &quot;fillColor&quot;: &quot;indigo&quot;, &quot;fillOpacity&quot;: 0.2, &quot;fillRule&quot;: &quot;evenodd&quot;, &quot;lineCap&quot;: &quot;round&quot;, &quot;lineJoin&quot;: &quot;round&quot;, &quot;opacity&quot;: 1.0, &quot;radius&quot;: 61000.0, &quot;stroke&quot;: true, &quot;weight&quot;: 3}\n",
       "            ).addTo(map_8de725e800d35d654a5b94e5a3721265);\n",
       "        \n",
       "    \n",
       "            circle_462940d0b22d92ee3f230264f1bf30bd.bindTooltip(\n",
       "                `&lt;div&gt;\n",
       "                     &lt;div style=&#x27;margin: 0; background-color: black; color: white;&#x27;&gt;&lt;h4 style=&#x27;text-align:center;font-weight: bold&#x27;&gt;Mauritius&lt;/h4&gt;&lt;hr style=&#x27;margin:10px;color: white;&#x27;&gt;&lt;ul style=&#x27;color: white;;list-style-type:circle;align-item:left;padding-left:20px;padding-right:20px&#x27;&gt;&lt;li&gt;Confirmed: 224722&lt;/li&gt;&lt;li&gt;Deaths:   0&lt;/li&gt;&lt;li&gt;Death Rate: 0.0&lt;/li&gt;&lt;/ul&gt;&lt;/div&gt;\n",
       "                 &lt;/div&gt;`,\n",
       "                {&quot;sticky&quot;: true}\n",
       "            );\n",
       "        \n",
       "    \n",
       "            var circle_ee0a0853639a4e5d33b0a8fdc033cd6c = L.circle(\n",
       "                [23.6345, -102.5528],\n",
       "                {&quot;bubblingMouseEvents&quot;: true, &quot;color&quot;: &quot;red&quot;, &quot;dashArray&quot;: null, &quot;dashOffset&quot;: null, &quot;fill&quot;: true, &quot;fillColor&quot;: &quot;indigo&quot;, &quot;fillOpacity&quot;: 0.2, &quot;fillRule&quot;: &quot;evenodd&quot;, &quot;lineCap&quot;: &quot;round&quot;, &quot;lineJoin&quot;: &quot;round&quot;, &quot;opacity&quot;: 1.0, &quot;radius&quot;: 76000.0, &quot;stroke&quot;: true, &quot;weight&quot;: 3}\n",
       "            ).addTo(map_8de725e800d35d654a5b94e5a3721265);\n",
       "        \n",
       "    \n",
       "            circle_ee0a0853639a4e5d33b0a8fdc033cd6c.bindTooltip(\n",
       "                `&lt;div&gt;\n",
       "                     &lt;div style=&#x27;margin: 0; background-color: black; color: white;&#x27;&gt;&lt;h4 style=&#x27;text-align:center;font-weight: bold&#x27;&gt;Mexico&lt;/h4&gt;&lt;hr style=&#x27;margin:10px;color: white;&#x27;&gt;&lt;ul style=&#x27;color: white;;list-style-type:circle;align-item:left;padding-left:20px;padding-right:20px&#x27;&gt;&lt;li&gt;Confirmed: 5759773&lt;/li&gt;&lt;li&gt;Deaths:   982&lt;/li&gt;&lt;li&gt;Death Rate: 0.02&lt;/li&gt;&lt;/ul&gt;&lt;/div&gt;\n",
       "                 &lt;/div&gt;`,\n",
       "                {&quot;sticky&quot;: true}\n",
       "            );\n",
       "        \n",
       "    \n",
       "            var circle_3d6cefb9686ece7d333bbb19eacecb51 = L.circle(\n",
       "                [7.4256, 150.5508],\n",
       "                {&quot;bubblingMouseEvents&quot;: true, &quot;color&quot;: &quot;red&quot;, &quot;dashArray&quot;: null, &quot;dashOffset&quot;: null, &quot;fill&quot;: true, &quot;fillColor&quot;: &quot;indigo&quot;, &quot;fillOpacity&quot;: 0.2, &quot;fillRule&quot;: &quot;evenodd&quot;, &quot;lineCap&quot;: &quot;round&quot;, &quot;lineJoin&quot;: &quot;round&quot;, &quot;opacity&quot;: 1.0, &quot;radius&quot;: 11000.0, &quot;stroke&quot;: true, &quot;weight&quot;: 3}\n",
       "            ).addTo(map_8de725e800d35d654a5b94e5a3721265);\n",
       "        \n",
       "    \n",
       "            circle_3d6cefb9686ece7d333bbb19eacecb51.bindTooltip(\n",
       "                `&lt;div&gt;\n",
       "                     &lt;div style=&#x27;margin: 0; background-color: black; color: white;&#x27;&gt;&lt;h4 style=&#x27;text-align:center;font-weight: bold&#x27;&gt;Micronesia&lt;/h4&gt;&lt;hr style=&#x27;margin:10px;color: white;&#x27;&gt;&lt;ul style=&#x27;color: white;;list-style-type:circle;align-item:left;padding-left:20px;padding-right:20px&#x27;&gt;&lt;li&gt;Confirmed: 7&lt;/li&gt;&lt;li&gt;Deaths:   996&lt;/li&gt;&lt;li&gt;Death Rate: 12449.98&lt;/li&gt;&lt;/ul&gt;&lt;/div&gt;\n",
       "                 &lt;/div&gt;`,\n",
       "                {&quot;sticky&quot;: true}\n",
       "            );\n",
       "        \n",
       "    \n",
       "            var circle_b18f2a9aca7b53e98d4e68e70f19c73f = L.circle(\n",
       "                [47.4116, 28.3699],\n",
       "                {&quot;bubblingMouseEvents&quot;: true, &quot;color&quot;: &quot;red&quot;, &quot;dashArray&quot;: null, &quot;dashOffset&quot;: null, &quot;fill&quot;: true, &quot;fillColor&quot;: &quot;indigo&quot;, &quot;fillOpacity&quot;: 0.2, &quot;fillRule&quot;: &quot;evenodd&quot;, &quot;lineCap&quot;: &quot;round&quot;, &quot;lineJoin&quot;: &quot;round&quot;, &quot;opacity&quot;: 1.0, &quot;radius&quot;: 66000.0, &quot;stroke&quot;: true, &quot;weight&quot;: 3}\n",
       "            ).addTo(map_8de725e800d35d654a5b94e5a3721265);\n",
       "        \n",
       "    \n",
       "            circle_b18f2a9aca7b53e98d4e68e70f19c73f.bindTooltip(\n",
       "                `&lt;div&gt;\n",
       "                     &lt;div style=&#x27;margin: 0; background-color: black; color: white;&#x27;&gt;&lt;h4 style=&#x27;text-align:center;font-weight: bold&#x27;&gt;Moldova&lt;/h4&gt;&lt;hr style=&#x27;margin:10px;color: white;&#x27;&gt;&lt;ul style=&#x27;color: white;;list-style-type:circle;align-item:left;padding-left:20px;padding-right:20px&#x27;&gt;&lt;li&gt;Confirmed: 518793&lt;/li&gt;&lt;li&gt;Deaths:   324768&lt;/li&gt;&lt;li&gt;Death Rate: 62.6&lt;/li&gt;&lt;/ul&gt;&lt;/div&gt;\n",
       "                 &lt;/div&gt;`,\n",
       "                {&quot;sticky&quot;: true}\n",
       "            );\n",
       "        \n",
       "    \n",
       "            var circle_56855c45cf0b10dfef23863cf14840d4 = L.circle(\n",
       "                [43.7333, 7.4167],\n",
       "                {&quot;bubblingMouseEvents&quot;: true, &quot;color&quot;: &quot;red&quot;, &quot;dashArray&quot;: null, &quot;dashOffset&quot;: null, &quot;fill&quot;: true, &quot;fillColor&quot;: &quot;indigo&quot;, &quot;fillOpacity&quot;: 0.2, &quot;fillRule&quot;: &quot;evenodd&quot;, &quot;lineCap&quot;: &quot;round&quot;, &quot;lineJoin&quot;: &quot;round&quot;, &quot;opacity&quot;: 1.0, &quot;radius&quot;: 46000.0, &quot;stroke&quot;: true, &quot;weight&quot;: 3}\n",
       "            ).addTo(map_8de725e800d35d654a5b94e5a3721265);\n",
       "        \n",
       "    \n",
       "            circle_56855c45cf0b10dfef23863cf14840d4.bindTooltip(\n",
       "                `&lt;div&gt;\n",
       "                     &lt;div style=&#x27;margin: 0; background-color: black; color: white;&#x27;&gt;&lt;h4 style=&#x27;text-align:center;font-weight: bold&#x27;&gt;Monaco&lt;/h4&gt;&lt;hr style=&#x27;margin:10px;color: white;&#x27;&gt;&lt;ul style=&#x27;color: white;;list-style-type:circle;align-item:left;padding-left:20px;padding-right:20px&#x27;&gt;&lt;li&gt;Confirmed: 12124&lt;/li&gt;&lt;li&gt;Deaths:   0&lt;/li&gt;&lt;li&gt;Death Rate: 0.0&lt;/li&gt;&lt;/ul&gt;&lt;/div&gt;\n",
       "                 &lt;/div&gt;`,\n",
       "                {&quot;sticky&quot;: true}\n",
       "            );\n",
       "        \n",
       "    \n",
       "            var circle_fca8484155ecd2c3b65f5bec8d12981f = L.circle(\n",
       "                [46.8625, 103.8467],\n",
       "                {&quot;bubblingMouseEvents&quot;: true, &quot;color&quot;: &quot;red&quot;, &quot;dashArray&quot;: null, &quot;dashOffset&quot;: null, &quot;fill&quot;: true, &quot;fillColor&quot;: &quot;indigo&quot;, &quot;fillOpacity&quot;: 0.2, &quot;fillRule&quot;: &quot;evenodd&quot;, &quot;lineCap&quot;: &quot;round&quot;, &quot;lineJoin&quot;: &quot;round&quot;, &quot;opacity&quot;: 1.0, &quot;radius&quot;: 66000.0, &quot;stroke&quot;: true, &quot;weight&quot;: 3}\n",
       "            ).addTo(map_8de725e800d35d654a5b94e5a3721265);\n",
       "        \n",
       "    \n",
       "            circle_fca8484155ecd2c3b65f5bec8d12981f.bindTooltip(\n",
       "                `&lt;div&gt;\n",
       "                     &lt;div style=&#x27;margin: 0; background-color: black; color: white;&#x27;&gt;&lt;h4 style=&#x27;text-align:center;font-weight: bold&#x27;&gt;Mongolia&lt;/h4&gt;&lt;hr style=&#x27;margin:10px;color: white;&#x27;&gt;&lt;ul style=&#x27;color: white;;list-style-type:circle;align-item:left;padding-left:20px;padding-right:20px&#x27;&gt;&lt;li&gt;Confirmed: 924035&lt;/li&gt;&lt;li&gt;Deaths:   11521&lt;/li&gt;&lt;li&gt;Death Rate: 1.25&lt;/li&gt;&lt;/ul&gt;&lt;/div&gt;\n",
       "                 &lt;/div&gt;`,\n",
       "                {&quot;sticky&quot;: true}\n",
       "            );\n",
       "        \n",
       "    \n",
       "            var circle_d4f813b06f97fafc41cc4ba86d891ebe = L.circle(\n",
       "                [42.708678, 19.37439],\n",
       "                {&quot;bubblingMouseEvents&quot;: true, &quot;color&quot;: &quot;red&quot;, &quot;dashArray&quot;: null, &quot;dashOffset&quot;: null, &quot;fill&quot;: true, &quot;fillColor&quot;: &quot;indigo&quot;, &quot;fillOpacity&quot;: 0.2, &quot;fillRule&quot;: &quot;evenodd&quot;, &quot;lineCap&quot;: &quot;round&quot;, &quot;lineJoin&quot;: &quot;round&quot;, &quot;opacity&quot;: 1.0, &quot;radius&quot;: 61000.0, &quot;stroke&quot;: true, &quot;weight&quot;: 3}\n",
       "            ).addTo(map_8de725e800d35d654a5b94e5a3721265);\n",
       "        \n",
       "    \n",
       "            circle_d4f813b06f97fafc41cc4ba86d891ebe.bindTooltip(\n",
       "                `&lt;div&gt;\n",
       "                     &lt;div style=&#x27;margin: 0; background-color: black; color: white;&#x27;&gt;&lt;h4 style=&#x27;text-align:center;font-weight: bold&#x27;&gt;Montenegro&lt;/h4&gt;&lt;hr style=&#x27;margin:10px;color: white;&#x27;&gt;&lt;ul style=&#x27;color: white;;list-style-type:circle;align-item:left;padding-left:20px;padding-right:20px&#x27;&gt;&lt;li&gt;Confirmed: 236803&lt;/li&gt;&lt;li&gt;Deaths:   57&lt;/li&gt;&lt;li&gt;Death Rate: 0.02&lt;/li&gt;&lt;/ul&gt;&lt;/div&gt;\n",
       "                 &lt;/div&gt;`,\n",
       "                {&quot;sticky&quot;: true}\n",
       "            );\n",
       "        \n",
       "    \n",
       "            var circle_f8be04ca7715f8899d4addf59c8b18a4 = L.circle(\n",
       "                [31.7917, -7.0926],\n",
       "                {&quot;bubblingMouseEvents&quot;: true, &quot;color&quot;: &quot;red&quot;, &quot;dashArray&quot;: null, &quot;dashOffset&quot;: null, &quot;fill&quot;: true, &quot;fillColor&quot;: &quot;indigo&quot;, &quot;fillOpacity&quot;: 0.2, &quot;fillRule&quot;: &quot;evenodd&quot;, &quot;lineCap&quot;: &quot;round&quot;, &quot;lineJoin&quot;: &quot;round&quot;, &quot;opacity&quot;: 1.0, &quot;radius&quot;: 66000.0, &quot;stroke&quot;: true, &quot;weight&quot;: 3}\n",
       "            ).addTo(map_8de725e800d35d654a5b94e5a3721265);\n",
       "        \n",
       "    \n",
       "            circle_f8be04ca7715f8899d4addf59c8b18a4.bindTooltip(\n",
       "                `&lt;div&gt;\n",
       "                     &lt;div style=&#x27;margin: 0; background-color: black; color: white;&#x27;&gt;&lt;h4 style=&#x27;text-align:center;font-weight: bold&#x27;&gt;Morocco&lt;/h4&gt;&lt;hr style=&#x27;margin:10px;color: white;&#x27;&gt;&lt;ul style=&#x27;color: white;;list-style-type:circle;align-item:left;padding-left:20px;padding-right:20px&#x27;&gt;&lt;li&gt;Confirmed: 1166916&lt;/li&gt;&lt;li&gt;Deaths:   2179&lt;/li&gt;&lt;li&gt;Death Rate: 0.19&lt;/li&gt;&lt;/ul&gt;&lt;/div&gt;\n",
       "                 &lt;/div&gt;`,\n",
       "                {&quot;sticky&quot;: true}\n",
       "            );\n",
       "        \n",
       "    \n",
       "            var circle_9e5df012bc1216c4976dbe4a56679fa4 = L.circle(\n",
       "                [-18.665695, 35.529562],\n",
       "                {&quot;bubblingMouseEvents&quot;: true, &quot;color&quot;: &quot;red&quot;, &quot;dashArray&quot;: null, &quot;dashOffset&quot;: null, &quot;fill&quot;: true, &quot;fillColor&quot;: &quot;indigo&quot;, &quot;fillOpacity&quot;: 0.2, &quot;fillRule&quot;: &quot;evenodd&quot;, &quot;lineCap&quot;: &quot;round&quot;, &quot;lineJoin&quot;: &quot;round&quot;, &quot;opacity&quot;: 1.0, &quot;radius&quot;: 61000.0, &quot;stroke&quot;: true, &quot;weight&quot;: 3}\n",
       "            ).addTo(map_8de725e800d35d654a5b94e5a3721265);\n",
       "        \n",
       "    \n",
       "            circle_9e5df012bc1216c4976dbe4a56679fa4.bindTooltip(\n",
       "                `&lt;div&gt;\n",
       "                     &lt;div style=&#x27;margin: 0; background-color: black; color: white;&#x27;&gt;&lt;h4 style=&#x27;text-align:center;font-weight: bold&#x27;&gt;Mozambique&lt;/h4&gt;&lt;hr style=&#x27;margin:10px;color: white;&#x27;&gt;&lt;ul style=&#x27;color: white;;list-style-type:circle;align-item:left;padding-left:20px;padding-right:20px&#x27;&gt;&lt;li&gt;Confirmed: 225600&lt;/li&gt;&lt;li&gt;Deaths:   2719&lt;/li&gt;&lt;li&gt;Death Rate: 1.21&lt;/li&gt;&lt;/ul&gt;&lt;/div&gt;\n",
       "                 &lt;/div&gt;`,\n",
       "                {&quot;sticky&quot;: true}\n",
       "            );\n",
       "        \n",
       "    \n",
       "            var circle_3f0f9c76ff024be8fd792eb8ea725e2f = L.circle(\n",
       "                [-22.9576, 18.4904],\n",
       "                {&quot;bubblingMouseEvents&quot;: true, &quot;color&quot;: &quot;red&quot;, &quot;dashArray&quot;: null, &quot;dashOffset&quot;: null, &quot;fill&quot;: true, &quot;fillColor&quot;: &quot;indigo&quot;, &quot;fillOpacity&quot;: 0.2, &quot;fillRule&quot;: &quot;evenodd&quot;, &quot;lineCap&quot;: &quot;round&quot;, &quot;lineJoin&quot;: &quot;round&quot;, &quot;opacity&quot;: 1.0, &quot;radius&quot;: 61000.0, &quot;stroke&quot;: true, &quot;weight&quot;: 3}\n",
       "            ).addTo(map_8de725e800d35d654a5b94e5a3721265);\n",
       "        \n",
       "    \n",
       "            circle_3f0f9c76ff024be8fd792eb8ea725e2f.bindTooltip(\n",
       "                `&lt;div&gt;\n",
       "                     &lt;div style=&#x27;margin: 0; background-color: black; color: white;&#x27;&gt;&lt;h4 style=&#x27;text-align:center;font-weight: bold&#x27;&gt;Namibia&lt;/h4&gt;&lt;hr style=&#x27;margin:10px;color: white;&#x27;&gt;&lt;ul style=&#x27;color: white;;list-style-type:circle;align-item:left;padding-left:20px;padding-right:20px&#x27;&gt;&lt;li&gt;Confirmed: 165117&lt;/li&gt;&lt;li&gt;Deaths:   16075&lt;/li&gt;&lt;li&gt;Death Rate: 9.74&lt;/li&gt;&lt;/ul&gt;&lt;/div&gt;\n",
       "                 &lt;/div&gt;`,\n",
       "                {&quot;sticky&quot;: true}\n",
       "            );\n",
       "        \n",
       "    \n",
       "            var circle_98d85a554addc113b5be31a5efa4ca00 = L.circle(\n",
       "                [28.1667, 84.25],\n",
       "                {&quot;bubblingMouseEvents&quot;: true, &quot;color&quot;: &quot;red&quot;, &quot;dashArray&quot;: null, &quot;dashOffset&quot;: null, &quot;fill&quot;: true, &quot;fillColor&quot;: &quot;indigo&quot;, &quot;fillOpacity&quot;: 0.2, &quot;fillRule&quot;: &quot;evenodd&quot;, &quot;lineCap&quot;: &quot;round&quot;, &quot;lineJoin&quot;: &quot;round&quot;, &quot;opacity&quot;: 1.0, &quot;radius&quot;: 66000.0, &quot;stroke&quot;: true, &quot;weight&quot;: 3}\n",
       "            ).addTo(map_8de725e800d35d654a5b94e5a3721265);\n",
       "        \n",
       "    \n",
       "            circle_98d85a554addc113b5be31a5efa4ca00.bindTooltip(\n",
       "                `&lt;div&gt;\n",
       "                     &lt;div style=&#x27;margin: 0; background-color: black; color: white;&#x27;&gt;&lt;h4 style=&#x27;text-align:center;font-weight: bold&#x27;&gt;Nepal&lt;/h4&gt;&lt;hr style=&#x27;margin:10px;color: white;&#x27;&gt;&lt;ul style=&#x27;color: white;;list-style-type:circle;align-item:left;padding-left:20px;padding-right:20px&#x27;&gt;&lt;li&gt;Confirmed: 979087&lt;/li&gt;&lt;li&gt;Deaths:   2203&lt;/li&gt;&lt;li&gt;Death Rate: 0.23&lt;/li&gt;&lt;/ul&gt;&lt;/div&gt;\n",
       "                 &lt;/div&gt;`,\n",
       "                {&quot;sticky&quot;: true}\n",
       "            );\n",
       "        \n",
       "    \n",
       "            var circle_882bcc590fc1718cdf334d929dcdcccf = L.circle(\n",
       "                [12.5211, -69.9683],\n",
       "                {&quot;bubblingMouseEvents&quot;: true, &quot;color&quot;: &quot;red&quot;, &quot;dashArray&quot;: null, &quot;dashOffset&quot;: null, &quot;fill&quot;: true, &quot;fillColor&quot;: &quot;indigo&quot;, &quot;fillOpacity&quot;: 0.2, &quot;fillRule&quot;: &quot;evenodd&quot;, &quot;lineCap&quot;: &quot;round&quot;, &quot;lineJoin&quot;: &quot;round&quot;, &quot;opacity&quot;: 1.0, &quot;radius&quot;: 51000.0, &quot;stroke&quot;: true, &quot;weight&quot;: 3}\n",
       "            ).addTo(map_8de725e800d35d654a5b94e5a3721265);\n",
       "        \n",
       "    \n",
       "            circle_882bcc590fc1718cdf334d929dcdcccf.bindTooltip(\n",
       "                `&lt;div&gt;\n",
       "                     &lt;div style=&#x27;margin: 0; background-color: black; color: white;&#x27;&gt;&lt;h4 style=&#x27;text-align:center;font-weight: bold&#x27;&gt;Netherlands&lt;/h4&gt;&lt;hr style=&#x27;margin:10px;color: white;&#x27;&gt;&lt;ul style=&#x27;color: white;;list-style-type:circle;align-item:left;padding-left:20px;padding-right:20px&#x27;&gt;&lt;li&gt;Confirmed: 36316&lt;/li&gt;&lt;li&gt;Deaths:   4034&lt;/li&gt;&lt;li&gt;Death Rate: 11.11&lt;/li&gt;&lt;/ul&gt;&lt;/div&gt;\n",
       "                 &lt;/div&gt;`,\n",
       "                {&quot;sticky&quot;: true}\n",
       "            );\n",
       "        \n",
       "    \n",
       "            var circle_e3582bf6e455f68a0884ef0a28e8d12c = L.circle(\n",
       "                [12.1784, -68.2385],\n",
       "                {&quot;bubblingMouseEvents&quot;: true, &quot;color&quot;: &quot;red&quot;, &quot;dashArray&quot;: null, &quot;dashOffset&quot;: null, &quot;fill&quot;: true, &quot;fillColor&quot;: &quot;indigo&quot;, &quot;fillOpacity&quot;: 0.2, &quot;fillRule&quot;: &quot;evenodd&quot;, &quot;lineCap&quot;: &quot;round&quot;, &quot;lineJoin&quot;: &quot;round&quot;, &quot;opacity&quot;: 1.0, &quot;radius&quot;: 46000.0, &quot;stroke&quot;: true, &quot;weight&quot;: 3}\n",
       "            ).addTo(map_8de725e800d35d654a5b94e5a3721265);\n",
       "        \n",
       "    \n",
       "            circle_e3582bf6e455f68a0884ef0a28e8d12c.bindTooltip(\n",
       "                `&lt;div&gt;\n",
       "                     &lt;div style=&#x27;margin: 0; background-color: black; color: white;&#x27;&gt;&lt;h4 style=&#x27;text-align:center;font-weight: bold&#x27;&gt;Netherlands&lt;/h4&gt;&lt;hr style=&#x27;margin:10px;color: white;&#x27;&gt;&lt;ul style=&#x27;color: white;;list-style-type:circle;align-item:left;padding-left:20px;padding-right:20px&#x27;&gt;&lt;li&gt;Confirmed: 10044&lt;/li&gt;&lt;li&gt;Deaths:   11952&lt;/li&gt;&lt;li&gt;Death Rate: 118.98&lt;/li&gt;&lt;/ul&gt;&lt;/div&gt;\n",
       "                 &lt;/div&gt;`,\n",
       "                {&quot;sticky&quot;: true}\n",
       "            );\n",
       "        \n",
       "    \n",
       "            var circle_94fc82abcef633d93870933b91181324 = L.circle(\n",
       "                [12.1696, -68.99],\n",
       "                {&quot;bubblingMouseEvents&quot;: true, &quot;color&quot;: &quot;red&quot;, &quot;dashArray&quot;: null, &quot;dashOffset&quot;: null, &quot;fill&quot;: true, &quot;fillColor&quot;: &quot;indigo&quot;, &quot;fillOpacity&quot;: 0.2, &quot;fillRule&quot;: &quot;evenodd&quot;, &quot;lineCap&quot;: &quot;round&quot;, &quot;lineJoin&quot;: &quot;round&quot;, &quot;opacity&quot;: 1.0, &quot;radius&quot;: 51000.0, &quot;stroke&quot;: true, &quot;weight&quot;: 3}\n",
       "            ).addTo(map_8de725e800d35d654a5b94e5a3721265);\n",
       "        \n",
       "    \n",
       "            circle_94fc82abcef633d93870933b91181324.bindTooltip(\n",
       "                `&lt;div&gt;\n",
       "                     &lt;div style=&#x27;margin: 0; background-color: black; color: white;&#x27;&gt;&lt;h4 style=&#x27;text-align:center;font-weight: bold&#x27;&gt;Netherlands&lt;/h4&gt;&lt;hr style=&#x27;margin:10px;color: white;&#x27;&gt;&lt;ul style=&#x27;color: white;;list-style-type:circle;align-item:left;padding-left:20px;padding-right:20px&#x27;&gt;&lt;li&gt;Confirmed: 43522&lt;/li&gt;&lt;li&gt;Deaths:   213&lt;/li&gt;&lt;li&gt;Death Rate: 0.49&lt;/li&gt;&lt;/ul&gt;&lt;/div&gt;\n",
       "                 &lt;/div&gt;`,\n",
       "                {&quot;sticky&quot;: true}\n",
       "            );\n",
       "        \n",
       "    \n",
       "            var circle_c8fdc4bb3173eae5ac142c305632e3f3 = L.circle(\n",
       "                [18.0425, -63.0548],\n",
       "                {&quot;bubblingMouseEvents&quot;: true, &quot;color&quot;: &quot;red&quot;, &quot;dashArray&quot;: null, &quot;dashOffset&quot;: null, &quot;fill&quot;: true, &quot;fillColor&quot;: &quot;indigo&quot;, &quot;fillOpacity&quot;: 0.2, &quot;fillRule&quot;: &quot;evenodd&quot;, &quot;lineCap&quot;: &quot;round&quot;, &quot;lineJoin&quot;: &quot;round&quot;, &quot;opacity&quot;: 1.0, &quot;radius&quot;: 46000.0, &quot;stroke&quot;: true, &quot;weight&quot;: 3}\n",
       "            ).addTo(map_8de725e800d35d654a5b94e5a3721265);\n",
       "        \n",
       "    \n",
       "            circle_c8fdc4bb3173eae5ac142c305632e3f3.bindTooltip(\n",
       "                `&lt;div&gt;\n",
       "                     &lt;div style=&#x27;margin: 0; background-color: black; color: white;&#x27;&gt;&lt;h4 style=&#x27;text-align:center;font-weight: bold&#x27;&gt;Netherlands&lt;/h4&gt;&lt;hr style=&#x27;margin:10px;color: white;&#x27;&gt;&lt;ul style=&#x27;color: white;;list-style-type:circle;align-item:left;padding-left:20px;padding-right:20px&#x27;&gt;&lt;li&gt;Confirmed: 10279&lt;/li&gt;&lt;li&gt;Deaths:   35&lt;/li&gt;&lt;li&gt;Death Rate: 0.34&lt;/li&gt;&lt;/ul&gt;&lt;/div&gt;\n",
       "                 &lt;/div&gt;`,\n",
       "                {&quot;sticky&quot;: true}\n",
       "            );\n",
       "        \n",
       "    \n",
       "            var circle_cc281a094a5b2d2d331862436c087ded = L.circle(\n",
       "                [52.1326, 5.2913],\n",
       "                {&quot;bubblingMouseEvents&quot;: true, &quot;color&quot;: &quot;red&quot;, &quot;dashArray&quot;: null, &quot;dashOffset&quot;: null, &quot;fill&quot;: true, &quot;fillColor&quot;: &quot;indigo&quot;, &quot;fillOpacity&quot;: 0.2, &quot;fillRule&quot;: &quot;evenodd&quot;, &quot;lineCap&quot;: &quot;round&quot;, &quot;lineJoin&quot;: &quot;round&quot;, &quot;opacity&quot;: 1.0, &quot;radius&quot;: 76000.0, &quot;stroke&quot;: true, &quot;weight&quot;: 3}\n",
       "            ).addTo(map_8de725e800d35d654a5b94e5a3721265);\n",
       "        \n",
       "    \n",
       "            circle_cc281a094a5b2d2d331862436c087ded.bindTooltip(\n",
       "                `&lt;div&gt;\n",
       "                     &lt;div style=&#x27;margin: 0; background-color: black; color: white;&#x27;&gt;&lt;h4 style=&#x27;text-align:center;font-weight: bold&#x27;&gt;Netherlands&lt;/h4&gt;&lt;hr style=&#x27;margin:10px;color: white;&#x27;&gt;&lt;ul style=&#x27;color: white;;list-style-type:circle;align-item:left;padding-left:20px;padding-right:20px&#x27;&gt;&lt;li&gt;Confirmed: 8163038&lt;/li&gt;&lt;li&gt;Deaths:   276&lt;/li&gt;&lt;li&gt;Death Rate: 0.0&lt;/li&gt;&lt;/ul&gt;&lt;/div&gt;\n",
       "                 &lt;/div&gt;`,\n",
       "                {&quot;sticky&quot;: true}\n",
       "            );\n",
       "        \n",
       "    \n",
       "            var circle_8f836215e0d102c50b783d4d71201a26 = L.circle(\n",
       "                [-21.2367, -159.7777],\n",
       "                {&quot;bubblingMouseEvents&quot;: true, &quot;color&quot;: &quot;red&quot;, &quot;dashArray&quot;: null, &quot;dashOffset&quot;: null, &quot;fill&quot;: true, &quot;fillColor&quot;: &quot;indigo&quot;, &quot;fillOpacity&quot;: 0.2, &quot;fillRule&quot;: &quot;evenodd&quot;, &quot;lineCap&quot;: &quot;round&quot;, &quot;lineJoin&quot;: &quot;round&quot;, &quot;opacity&quot;: 1.0, &quot;radius&quot;: 41000.0, &quot;stroke&quot;: true, &quot;weight&quot;: 3}\n",
       "            ).addTo(map_8de725e800d35d654a5b94e5a3721265);\n",
       "        \n",
       "    \n",
       "            circle_8f836215e0d102c50b783d4d71201a26.bindTooltip(\n",
       "                `&lt;div&gt;\n",
       "                     &lt;div style=&#x27;margin: 0; background-color: black; color: white;&#x27;&gt;&lt;h4 style=&#x27;text-align:center;font-weight: bold&#x27;&gt;New Zealand&lt;/h4&gt;&lt;hr style=&#x27;margin:10px;color: white;&#x27;&gt;&lt;ul style=&#x27;color: white;;list-style-type:circle;align-item:left;padding-left:20px;padding-right:20px&#x27;&gt;&lt;li&gt;Confirmed: 5599&lt;/li&gt;&lt;li&gt;Deaths:   86&lt;/li&gt;&lt;li&gt;Death Rate: 1.54&lt;/li&gt;&lt;/ul&gt;&lt;/div&gt;\n",
       "                 &lt;/div&gt;`,\n",
       "                {&quot;sticky&quot;: true}\n",
       "            );\n",
       "        \n",
       "    \n",
       "            var circle_ec135f8afea139b8c36d03e34e540a8c = L.circle(\n",
       "                [-40.9006, 174.886],\n",
       "                {&quot;bubblingMouseEvents&quot;: true, &quot;color&quot;: &quot;red&quot;, &quot;dashArray&quot;: null, &quot;dashOffset&quot;: null, &quot;fill&quot;: true, &quot;fillColor&quot;: &quot;indigo&quot;, &quot;fillOpacity&quot;: 0.2, &quot;fillRule&quot;: &quot;evenodd&quot;, &quot;lineCap&quot;: &quot;round&quot;, &quot;lineJoin&quot;: &quot;round&quot;, &quot;opacity&quot;: 1.0, &quot;radius&quot;: 66000.0, &quot;stroke&quot;: true, &quot;weight&quot;: 3}\n",
       "            ).addTo(map_8de725e800d35d654a5b94e5a3721265);\n",
       "        \n",
       "    \n",
       "            circle_ec135f8afea139b8c36d03e34e540a8c.bindTooltip(\n",
       "                `&lt;div&gt;\n",
       "                     &lt;div style=&#x27;margin: 0; background-color: black; color: white;&#x27;&gt;&lt;h4 style=&#x27;text-align:center;font-weight: bold&#x27;&gt;New Zealand&lt;/h4&gt;&lt;hr style=&#x27;margin:10px;color: white;&#x27;&gt;&lt;ul style=&#x27;color: white;;list-style-type:circle;align-item:left;padding-left:20px;padding-right:20px&#x27;&gt;&lt;li&gt;Confirmed: 1122075&lt;/li&gt;&lt;li&gt;Deaths:   22330&lt;/li&gt;&lt;li&gt;Death Rate: 1.99&lt;/li&gt;&lt;/ul&gt;&lt;/div&gt;\n",
       "                 &lt;/div&gt;`,\n",
       "                {&quot;sticky&quot;: true}\n",
       "            );\n",
       "        \n",
       "    \n",
       "            var circle_05921d96d5731f31fc9ea9a045cc201c = L.circle(\n",
       "                [12.865416, -85.207229],\n",
       "                {&quot;bubblingMouseEvents&quot;: true, &quot;color&quot;: &quot;red&quot;, &quot;dashArray&quot;: null, &quot;dashOffset&quot;: null, &quot;fill&quot;: true, &quot;fillColor&quot;: &quot;indigo&quot;, &quot;fillOpacity&quot;: 0.2, &quot;fillRule&quot;: &quot;evenodd&quot;, &quot;lineCap&quot;: &quot;round&quot;, &quot;lineJoin&quot;: &quot;round&quot;, &quot;opacity&quot;: 1.0, &quot;radius&quot;: 46000.0, &quot;stroke&quot;: true, &quot;weight&quot;: 3}\n",
       "            ).addTo(map_8de725e800d35d654a5b94e5a3721265);\n",
       "        \n",
       "    \n",
       "            circle_05921d96d5731f31fc9ea9a045cc201c.bindTooltip(\n",
       "                `&lt;div&gt;\n",
       "                     &lt;div style=&#x27;margin: 0; background-color: black; color: white;&#x27;&gt;&lt;h4 style=&#x27;text-align:center;font-weight: bold&#x27;&gt;Nicaragua&lt;/h4&gt;&lt;hr style=&#x27;margin:10px;color: white;&#x27;&gt;&lt;ul style=&#x27;color: white;;list-style-type:circle;align-item:left;padding-left:20px;padding-right:20px&#x27;&gt;&lt;li&gt;Confirmed: 18491&lt;/li&gt;&lt;li&gt;Deaths:   1&lt;/li&gt;&lt;li&gt;Death Rate: 0.01&lt;/li&gt;&lt;/ul&gt;&lt;/div&gt;\n",
       "                 &lt;/div&gt;`,\n",
       "                {&quot;sticky&quot;: true}\n",
       "            );\n",
       "        \n",
       "    \n",
       "            var circle_d6bffcfc40ef092ce46d9ffdb4bf8e7a = L.circle(\n",
       "                [17.607789, 8.081666],\n",
       "                {&quot;bubblingMouseEvents&quot;: true, &quot;color&quot;: &quot;red&quot;, &quot;dashArray&quot;: null, &quot;dashOffset&quot;: null, &quot;fill&quot;: true, &quot;fillColor&quot;: &quot;indigo&quot;, &quot;fillOpacity&quot;: 0.2, &quot;fillRule&quot;: &quot;evenodd&quot;, &quot;lineCap&quot;: &quot;round&quot;, &quot;lineJoin&quot;: &quot;round&quot;, &quot;opacity&quot;: 1.0, &quot;radius&quot;: 46000.0, &quot;stroke&quot;: true, &quot;weight&quot;: 3}\n",
       "            ).addTo(map_8de725e800d35d654a5b94e5a3721265);\n",
       "        \n",
       "    \n",
       "            circle_d6bffcfc40ef092ce46d9ffdb4bf8e7a.bindTooltip(\n",
       "                `&lt;div&gt;\n",
       "                     &lt;div style=&#x27;margin: 0; background-color: black; color: white;&#x27;&gt;&lt;h4 style=&#x27;text-align:center;font-weight: bold&#x27;&gt;Niger&lt;/h4&gt;&lt;hr style=&#x27;margin:10px;color: white;&#x27;&gt;&lt;ul style=&#x27;color: white;;list-style-type:circle;align-item:left;padding-left:20px;padding-right:20px&#x27;&gt;&lt;li&gt;Confirmed: 9031&lt;/li&gt;&lt;li&gt;Deaths:   1041&lt;/li&gt;&lt;li&gt;Death Rate: 11.53&lt;/li&gt;&lt;/ul&gt;&lt;/div&gt;\n",
       "                 &lt;/div&gt;`,\n",
       "                {&quot;sticky&quot;: true}\n",
       "            );\n",
       "        \n",
       "    \n",
       "            var circle_4b10ce3d0211e105863b5b34dd7e538b = L.circle(\n",
       "                [9.082, 8.6753],\n",
       "                {&quot;bubblingMouseEvents&quot;: true, &quot;color&quot;: &quot;red&quot;, &quot;dashArray&quot;: null, &quot;dashOffset&quot;: null, &quot;fill&quot;: true, &quot;fillColor&quot;: &quot;indigo&quot;, &quot;fillOpacity&quot;: 0.2, &quot;fillRule&quot;: &quot;evenodd&quot;, &quot;lineCap&quot;: &quot;round&quot;, &quot;lineJoin&quot;: &quot;round&quot;, &quot;opacity&quot;: 1.0, &quot;radius&quot;: 61000.0, &quot;stroke&quot;: true, &quot;weight&quot;: 3}\n",
       "            ).addTo(map_8de725e800d35d654a5b94e5a3721265);\n",
       "        \n",
       "    \n",
       "            circle_4b10ce3d0211e105863b5b34dd7e538b.bindTooltip(\n",
       "                `&lt;div&gt;\n",
       "                     &lt;div style=&#x27;margin: 0; background-color: black; color: white;&#x27;&gt;&lt;h4 style=&#x27;text-align:center;font-weight: bold&#x27;&gt;Nigeria&lt;/h4&gt;&lt;hr style=&#x27;margin:10px;color: white;&#x27;&gt;&lt;ul style=&#x27;color: white;;list-style-type:circle;align-item:left;padding-left:20px;padding-right:20px&#x27;&gt;&lt;li&gt;Confirmed: 255972&lt;/li&gt;&lt;li&gt;Deaths:   237&lt;/li&gt;&lt;li&gt;Death Rate: 0.09&lt;/li&gt;&lt;/ul&gt;&lt;/div&gt;\n",
       "                 &lt;/div&gt;`,\n",
       "                {&quot;sticky&quot;: true}\n",
       "            );\n",
       "        \n",
       "    \n",
       "            var circle_34c6fd95eb260b6831bec9af4e2f849e = L.circle(\n",
       "                [41.6086, 21.7453],\n",
       "                {&quot;bubblingMouseEvents&quot;: true, &quot;color&quot;: &quot;red&quot;, &quot;dashArray&quot;: null, &quot;dashOffset&quot;: null, &quot;fill&quot;: true, &quot;fillColor&quot;: &quot;indigo&quot;, &quot;fillOpacity&quot;: 0.2, &quot;fillRule&quot;: &quot;evenodd&quot;, &quot;lineCap&quot;: &quot;round&quot;, &quot;lineJoin&quot;: &quot;round&quot;, &quot;opacity&quot;: 1.0, &quot;radius&quot;: 61000.0, &quot;stroke&quot;: true, &quot;weight&quot;: 3}\n",
       "            ).addTo(map_8de725e800d35d654a5b94e5a3721265);\n",
       "        \n",
       "    \n",
       "            circle_34c6fd95eb260b6831bec9af4e2f849e.bindTooltip(\n",
       "                `&lt;div&gt;\n",
       "                     &lt;div style=&#x27;margin: 0; background-color: black; color: white;&#x27;&gt;&lt;h4 style=&#x27;text-align:center;font-weight: bold&#x27;&gt;North Macedonia&lt;/h4&gt;&lt;hr style=&#x27;margin:10px;color: white;&#x27;&gt;&lt;ul style=&#x27;color: white;;list-style-type:circle;align-item:left;padding-left:20px;padding-right:20px&#x27;&gt;&lt;li&gt;Confirmed: 311350&lt;/li&gt;&lt;li&gt;Deaths:   310&lt;/li&gt;&lt;li&gt;Death Rate: 0.1&lt;/li&gt;&lt;/ul&gt;&lt;/div&gt;\n",
       "                 &lt;/div&gt;`,\n",
       "                {&quot;sticky&quot;: true}\n",
       "            );\n",
       "        \n",
       "    \n",
       "            var circle_bdcf728a87d15c522ff57255f9a6ec2b = L.circle(\n",
       "                [60.472, 8.4689],\n",
       "                {&quot;bubblingMouseEvents&quot;: true, &quot;color&quot;: &quot;red&quot;, &quot;dashArray&quot;: null, &quot;dashOffset&quot;: null, &quot;fill&quot;: true, &quot;fillColor&quot;: &quot;indigo&quot;, &quot;fillOpacity&quot;: 0.2, &quot;fillRule&quot;: &quot;evenodd&quot;, &quot;lineCap&quot;: &quot;round&quot;, &quot;lineJoin&quot;: &quot;round&quot;, &quot;opacity&quot;: 1.0, &quot;radius&quot;: 71000.0, &quot;stroke&quot;: true, &quot;weight&quot;: 3}\n",
       "            ).addTo(map_8de725e800d35d654a5b94e5a3721265);\n",
       "        \n",
       "    \n",
       "            circle_bdcf728a87d15c522ff57255f9a6ec2b.bindTooltip(\n",
       "                `&lt;div&gt;\n",
       "                     &lt;div style=&#x27;margin: 0; background-color: black; color: white;&#x27;&gt;&lt;h4 style=&#x27;text-align:center;font-weight: bold&#x27;&gt;Norway&lt;/h4&gt;&lt;hr style=&#x27;margin:10px;color: white;&#x27;&gt;&lt;ul style=&#x27;color: white;;list-style-type:circle;align-item:left;padding-left:20px;padding-right:20px&#x27;&gt;&lt;li&gt;Confirmed: 1431991&lt;/li&gt;&lt;li&gt;Deaths:   3143&lt;/li&gt;&lt;li&gt;Death Rate: 0.22&lt;/li&gt;&lt;/ul&gt;&lt;/div&gt;\n",
       "                 &lt;/div&gt;`,\n",
       "                {&quot;sticky&quot;: true}\n",
       "            );\n",
       "        \n",
       "    \n",
       "            var circle_bfc01278a4aadca36b5f48156cbfed88 = L.circle(\n",
       "                [21.512583, 55.923255],\n",
       "                {&quot;bubblingMouseEvents&quot;: true, &quot;color&quot;: &quot;red&quot;, &quot;dashArray&quot;: null, &quot;dashOffset&quot;: null, &quot;fill&quot;: true, &quot;fillColor&quot;: &quot;indigo&quot;, &quot;fillOpacity&quot;: 0.2, &quot;fillRule&quot;: &quot;evenodd&quot;, &quot;lineCap&quot;: &quot;round&quot;, &quot;lineJoin&quot;: &quot;round&quot;, &quot;opacity&quot;: 1.0, &quot;radius&quot;: 61000.0, &quot;stroke&quot;: true, &quot;weight&quot;: 3}\n",
       "            ).addTo(map_8de725e800d35d654a5b94e5a3721265);\n",
       "        \n",
       "    \n",
       "            circle_bfc01278a4aadca36b5f48156cbfed88.bindTooltip(\n",
       "                `&lt;div&gt;\n",
       "                     &lt;div style=&#x27;margin: 0; background-color: black; color: white;&#x27;&gt;&lt;h4 style=&#x27;text-align:center;font-weight: bold&#x27;&gt;Oman&lt;/h4&gt;&lt;hr style=&#x27;margin:10px;color: white;&#x27;&gt;&lt;ul style=&#x27;color: white;;list-style-type:circle;align-item:left;padding-left:20px;padding-right:20px&#x27;&gt;&lt;li&gt;Confirmed: 389473&lt;/li&gt;&lt;li&gt;Deaths:   9297&lt;/li&gt;&lt;li&gt;Death Rate: 2.39&lt;/li&gt;&lt;/ul&gt;&lt;/div&gt;\n",
       "                 &lt;/div&gt;`,\n",
       "                {&quot;sticky&quot;: true}\n",
       "            );\n",
       "        \n",
       "    \n",
       "            var circle_db839c8ce2cf02527b8946872b762f34 = L.circle(\n",
       "                [30.3753, 69.3451],\n",
       "                {&quot;bubblingMouseEvents&quot;: true, &quot;color&quot;: &quot;red&quot;, &quot;dashArray&quot;: null, &quot;dashOffset&quot;: null, &quot;fill&quot;: true, &quot;fillColor&quot;: &quot;indigo&quot;, &quot;fillOpacity&quot;: 0.2, &quot;fillRule&quot;: &quot;evenodd&quot;, &quot;lineCap&quot;: &quot;round&quot;, &quot;lineJoin&quot;: &quot;round&quot;, &quot;opacity&quot;: 1.0, &quot;radius&quot;: 71000.0, &quot;stroke&quot;: true, &quot;weight&quot;: 3}\n",
       "            ).addTo(map_8de725e800d35d654a5b94e5a3721265);\n",
       "        \n",
       "    \n",
       "            circle_db839c8ce2cf02527b8946872b762f34.bindTooltip(\n",
       "                `&lt;div&gt;\n",
       "                     &lt;div style=&#x27;margin: 0; background-color: black; color: white;&#x27;&gt;&lt;h4 style=&#x27;text-align:center;font-weight: bold&#x27;&gt;Pakistan&lt;/h4&gt;&lt;hr style=&#x27;margin:10px;color: white;&#x27;&gt;&lt;ul style=&#x27;color: white;;list-style-type:circle;align-item:left;padding-left:20px;padding-right:20px&#x27;&gt;&lt;li&gt;Confirmed: 1529990&lt;/li&gt;&lt;li&gt;Deaths:   3094&lt;/li&gt;&lt;li&gt;Death Rate: 0.2&lt;/li&gt;&lt;/ul&gt;&lt;/div&gt;\n",
       "                 &lt;/div&gt;`,\n",
       "                {&quot;sticky&quot;: true}\n",
       "            );\n",
       "        \n",
       "    \n",
       "            var circle_1fc6c3c049f0502b8807f7ead5115486 = L.circle(\n",
       "                [7.515, 134.5825],\n",
       "                {&quot;bubblingMouseEvents&quot;: true, &quot;color&quot;: &quot;red&quot;, &quot;dashArray&quot;: null, &quot;dashOffset&quot;: null, &quot;fill&quot;: true, &quot;fillColor&quot;: &quot;indigo&quot;, &quot;fillOpacity&quot;: 0.2, &quot;fillRule&quot;: &quot;evenodd&quot;, &quot;lineCap&quot;: &quot;round&quot;, &quot;lineJoin&quot;: &quot;round&quot;, &quot;opacity&quot;: 1.0, &quot;radius&quot;: 41000.0, &quot;stroke&quot;: true, &quot;weight&quot;: 3}\n",
       "            ).addTo(map_8de725e800d35d654a5b94e5a3721265);\n",
       "        \n",
       "    \n",
       "            circle_1fc6c3c049f0502b8807f7ead5115486.bindTooltip(\n",
       "                `&lt;div&gt;\n",
       "                     &lt;div style=&#x27;margin: 0; background-color: black; color: white;&#x27;&gt;&lt;h4 style=&#x27;text-align:center;font-weight: bold&#x27;&gt;Palau&lt;/h4&gt;&lt;hr style=&#x27;margin:10px;color: white;&#x27;&gt;&lt;ul style=&#x27;color: white;;list-style-type:circle;align-item:left;padding-left:20px;padding-right:20px&#x27;&gt;&lt;li&gt;Confirmed: 5020&lt;/li&gt;&lt;li&gt;Deaths:   4260&lt;/li&gt;&lt;li&gt;Death Rate: 84.84&lt;/li&gt;&lt;/ul&gt;&lt;/div&gt;\n",
       "                 &lt;/div&gt;`,\n",
       "                {&quot;sticky&quot;: true}\n",
       "            );\n",
       "        \n",
       "    \n",
       "            var circle_7d28e091e050f5074c91149d1f007293 = L.circle(\n",
       "                [8.538, -80.7821],\n",
       "                {&quot;bubblingMouseEvents&quot;: true, &quot;color&quot;: &quot;red&quot;, &quot;dashArray&quot;: null, &quot;dashOffset&quot;: null, &quot;fill&quot;: true, &quot;fillColor&quot;: &quot;indigo&quot;, &quot;fillOpacity&quot;: 0.2, &quot;fillRule&quot;: &quot;evenodd&quot;, &quot;lineCap&quot;: &quot;round&quot;, &quot;lineJoin&quot;: &quot;round&quot;, &quot;opacity&quot;: 1.0, &quot;radius&quot;: 66000.0, &quot;stroke&quot;: true, &quot;weight&quot;: 3}\n",
       "            ).addTo(map_8de725e800d35d654a5b94e5a3721265);\n",
       "        \n",
       "    \n",
       "            circle_7d28e091e050f5074c91149d1f007293.bindTooltip(\n",
       "                `&lt;div&gt;\n",
       "                     &lt;div style=&#x27;margin: 0; background-color: black; color: white;&#x27;&gt;&lt;h4 style=&#x27;text-align:center;font-weight: bold&#x27;&gt;Panama&lt;/h4&gt;&lt;hr style=&#x27;margin:10px;color: white;&#x27;&gt;&lt;ul style=&#x27;color: white;;list-style-type:circle;align-item:left;padding-left:20px;padding-right:20px&#x27;&gt;&lt;li&gt;Confirmed: 835921&lt;/li&gt;&lt;li&gt;Deaths:   30379&lt;/li&gt;&lt;li&gt;Death Rate: 3.63&lt;/li&gt;&lt;/ul&gt;&lt;/div&gt;\n",
       "                 &lt;/div&gt;`,\n",
       "                {&quot;sticky&quot;: true}\n",
       "            );\n",
       "        \n",
       "    \n",
       "            var circle_d476a5e6c8547e5b99d9c93cf1f659ee = L.circle(\n",
       "                [-6.314993, 143.95555],\n",
       "                {&quot;bubblingMouseEvents&quot;: true, &quot;color&quot;: &quot;red&quot;, &quot;dashArray&quot;: null, &quot;dashOffset&quot;: null, &quot;fill&quot;: true, &quot;fillColor&quot;: &quot;indigo&quot;, &quot;fillOpacity&quot;: 0.2, &quot;fillRule&quot;: &quot;evenodd&quot;, &quot;lineCap&quot;: &quot;round&quot;, &quot;lineJoin&quot;: &quot;round&quot;, &quot;opacity&quot;: 1.0, &quot;radius&quot;: 51000.0, &quot;stroke&quot;: true, &quot;weight&quot;: 3}\n",
       "            ).addTo(map_8de725e800d35d654a5b94e5a3721265);\n",
       "        \n",
       "    \n",
       "            circle_d476a5e6c8547e5b99d9c93cf1f659ee.bindTooltip(\n",
       "                `&lt;div&gt;\n",
       "                     &lt;div style=&#x27;margin: 0; background-color: black; color: white;&#x27;&gt;&lt;h4 style=&#x27;text-align:center;font-weight: bold&#x27;&gt;Papua New Guinea&lt;/h4&gt;&lt;hr style=&#x27;margin:10px;color: white;&#x27;&gt;&lt;ul style=&#x27;color: white;;list-style-type:circle;align-item:left;padding-left:20px;padding-right:20px&#x27;&gt;&lt;li&gt;Confirmed: 44403&lt;/li&gt;&lt;li&gt;Deaths:   6&lt;/li&gt;&lt;li&gt;Death Rate: 0.01&lt;/li&gt;&lt;/ul&gt;&lt;/div&gt;\n",
       "                 &lt;/div&gt;`,\n",
       "                {&quot;sticky&quot;: true}\n",
       "            );\n",
       "        \n",
       "    \n",
       "            var circle_10a7448e478a42765393ac7373c06bc6 = L.circle(\n",
       "                [-23.4425, -58.4438],\n",
       "                {&quot;bubblingMouseEvents&quot;: true, &quot;color&quot;: &quot;red&quot;, &quot;dashArray&quot;: null, &quot;dashOffset&quot;: null, &quot;fill&quot;: true, &quot;fillColor&quot;: &quot;indigo&quot;, &quot;fillOpacity&quot;: 0.2, &quot;fillRule&quot;: &quot;evenodd&quot;, &quot;lineCap&quot;: &quot;round&quot;, &quot;lineJoin&quot;: &quot;round&quot;, &quot;opacity&quot;: 1.0, &quot;radius&quot;: 66000.0, &quot;stroke&quot;: true, &quot;weight&quot;: 3}\n",
       "            ).addTo(map_8de725e800d35d654a5b94e5a3721265);\n",
       "        \n",
       "    \n",
       "            circle_10a7448e478a42765393ac7373c06bc6.bindTooltip(\n",
       "                `&lt;div&gt;\n",
       "                     &lt;div style=&#x27;margin: 0; background-color: black; color: white;&#x27;&gt;&lt;h4 style=&#x27;text-align:center;font-weight: bold&#x27;&gt;Paraguay&lt;/h4&gt;&lt;hr style=&#x27;margin:10px;color: white;&#x27;&gt;&lt;ul style=&#x27;color: white;;list-style-type:circle;align-item:left;padding-left:20px;padding-right:20px&#x27;&gt;&lt;li&gt;Confirmed: 650283&lt;/li&gt;&lt;li&gt;Deaths:   8232&lt;/li&gt;&lt;li&gt;Death Rate: 1.27&lt;/li&gt;&lt;/ul&gt;&lt;/div&gt;\n",
       "                 &lt;/div&gt;`,\n",
       "                {&quot;sticky&quot;: true}\n",
       "            );\n",
       "        \n",
       "    \n",
       "            var circle_985827c0ef48649aa5bd874aea75f2c2 = L.circle(\n",
       "                [-9.19, -75.0152],\n",
       "                {&quot;bubblingMouseEvents&quot;: true, &quot;color&quot;: &quot;red&quot;, &quot;dashArray&quot;: null, &quot;dashOffset&quot;: null, &quot;fill&quot;: true, &quot;fillColor&quot;: &quot;indigo&quot;, &quot;fillOpacity&quot;: 0.2, &quot;fillRule&quot;: &quot;evenodd&quot;, &quot;lineCap&quot;: &quot;round&quot;, &quot;lineJoin&quot;: &quot;round&quot;, &quot;opacity&quot;: 1.0, &quot;radius&quot;: 76000.0, &quot;stroke&quot;: true, &quot;weight&quot;: 3}\n",
       "            ).addTo(map_8de725e800d35d654a5b94e5a3721265);\n",
       "        \n",
       "    \n",
       "            circle_985827c0ef48649aa5bd874aea75f2c2.bindTooltip(\n",
       "                `&lt;div&gt;\n",
       "                     &lt;div style=&#x27;margin: 0; background-color: black; color: white;&#x27;&gt;&lt;h4 style=&#x27;text-align:center;font-weight: bold&#x27;&gt;Peru&lt;/h4&gt;&lt;hr style=&#x27;margin:10px;color: white;&#x27;&gt;&lt;ul style=&#x27;color: white;;list-style-type:circle;align-item:left;padding-left:20px;padding-right:20px&#x27;&gt;&lt;li&gt;Confirmed: 3576640&lt;/li&gt;&lt;li&gt;Deaths:   651&lt;/li&gt;&lt;li&gt;Death Rate: 0.02&lt;/li&gt;&lt;/ul&gt;&lt;/div&gt;\n",
       "                 &lt;/div&gt;`,\n",
       "                {&quot;sticky&quot;: true}\n",
       "            );\n",
       "        \n",
       "    \n",
       "            var circle_197e4126bdf4ebb123bbe1fd2f8203ee = L.circle(\n",
       "                [12.879721, 121.774017],\n",
       "                {&quot;bubblingMouseEvents&quot;: true, &quot;color&quot;: &quot;red&quot;, &quot;dashArray&quot;: null, &quot;dashOffset&quot;: null, &quot;fill&quot;: true, &quot;fillColor&quot;: &quot;indigo&quot;, &quot;fillOpacity&quot;: 0.2, &quot;fillRule&quot;: &quot;evenodd&quot;, &quot;lineCap&quot;: &quot;round&quot;, &quot;lineJoin&quot;: &quot;round&quot;, &quot;opacity&quot;: 1.0, &quot;radius&quot;: 76000.0, &quot;stroke&quot;: true, &quot;weight&quot;: 3}\n",
       "            ).addTo(map_8de725e800d35d654a5b94e5a3721265);\n",
       "        \n",
       "    \n",
       "            circle_197e4126bdf4ebb123bbe1fd2f8203ee.bindTooltip(\n",
       "                `&lt;div&gt;\n",
       "                     &lt;div style=&#x27;margin: 0; background-color: black; color: white;&#x27;&gt;&lt;h4 style=&#x27;text-align:center;font-weight: bold&#x27;&gt;Philippines&lt;/h4&gt;&lt;hr style=&#x27;margin:10px;color: white;&#x27;&gt;&lt;ul style=&#x27;color: white;;list-style-type:circle;align-item:left;padding-left:20px;padding-right:20px&#x27;&gt;&lt;li&gt;Confirmed: 3689281&lt;/li&gt;&lt;li&gt;Deaths:   18885&lt;/li&gt;&lt;li&gt;Death Rate: 0.51&lt;/li&gt;&lt;/ul&gt;&lt;/div&gt;\n",
       "                 &lt;/div&gt;`,\n",
       "                {&quot;sticky&quot;: true}\n",
       "            );\n",
       "        \n",
       "    \n",
       "            var circle_eac7449a24ec3331984c7f524fe4fa5c = L.circle(\n",
       "                [51.9194, 19.1451],\n",
       "                {&quot;bubblingMouseEvents&quot;: true, &quot;color&quot;: &quot;red&quot;, &quot;dashArray&quot;: null, &quot;dashOffset&quot;: null, &quot;fill&quot;: true, &quot;fillColor&quot;: &quot;indigo&quot;, &quot;fillOpacity&quot;: 0.2, &quot;fillRule&quot;: &quot;evenodd&quot;, &quot;lineCap&quot;: &quot;round&quot;, &quot;lineJoin&quot;: &quot;round&quot;, &quot;opacity&quot;: 1.0, &quot;radius&quot;: 76000.0, &quot;stroke&quot;: true, &quot;weight&quot;: 3}\n",
       "            ).addTo(map_8de725e800d35d654a5b94e5a3721265);\n",
       "        \n",
       "    \n",
       "            circle_eac7449a24ec3331984c7f524fe4fa5c.bindTooltip(\n",
       "                `&lt;div&gt;\n",
       "                     &lt;div style=&#x27;margin: 0; background-color: black; color: white;&#x27;&gt;&lt;h4 style=&#x27;text-align:center;font-weight: bold&#x27;&gt;Poland&lt;/h4&gt;&lt;hr style=&#x27;margin:10px;color: white;&#x27;&gt;&lt;ul style=&#x27;color: white;;list-style-type:circle;align-item:left;padding-left:20px;padding-right:20px&#x27;&gt;&lt;li&gt;Confirmed: 6006015&lt;/li&gt;&lt;li&gt;Deaths:   213122&lt;/li&gt;&lt;li&gt;Death Rate: 3.55&lt;/li&gt;&lt;/ul&gt;&lt;/div&gt;\n",
       "                 &lt;/div&gt;`,\n",
       "                {&quot;sticky&quot;: true}\n",
       "            );\n",
       "        \n",
       "    \n",
       "            var circle_0fbf6cfe1be80995bc410162de3bd520 = L.circle(\n",
       "                [39.3999, -8.2245],\n",
       "                {&quot;bubblingMouseEvents&quot;: true, &quot;color&quot;: &quot;red&quot;, &quot;dashArray&quot;: null, &quot;dashOffset&quot;: null, &quot;fill&quot;: true, &quot;fillColor&quot;: &quot;indigo&quot;, &quot;fillOpacity&quot;: 0.2, &quot;fillRule&quot;: &quot;evenodd&quot;, &quot;lineCap&quot;: &quot;round&quot;, &quot;lineJoin&quot;: &quot;round&quot;, &quot;opacity&quot;: 1.0, &quot;radius&quot;: 76000.0, &quot;stroke&quot;: true, &quot;weight&quot;: 3}\n",
       "            ).addTo(map_8de725e800d35d654a5b94e5a3721265);\n",
       "        \n",
       "    \n",
       "            circle_0fbf6cfe1be80995bc410162de3bd520.bindTooltip(\n",
       "                `&lt;div&gt;\n",
       "                     &lt;div style=&#x27;margin: 0; background-color: black; color: white;&#x27;&gt;&lt;h4 style=&#x27;text-align:center;font-weight: bold&#x27;&gt;Portugal&lt;/h4&gt;&lt;hr style=&#x27;margin:10px;color: white;&#x27;&gt;&lt;ul style=&#x27;color: white;;list-style-type:circle;align-item:left;padding-left:20px;padding-right:20px&#x27;&gt;&lt;li&gt;Confirmed: 4508817&lt;/li&gt;&lt;li&gt;Deaths:   60455&lt;/li&gt;&lt;li&gt;Death Rate: 1.34&lt;/li&gt;&lt;/ul&gt;&lt;/div&gt;\n",
       "                 &lt;/div&gt;`,\n",
       "                {&quot;sticky&quot;: true}\n",
       "            );\n",
       "        \n",
       "    \n",
       "            var circle_3e7190c2a1e3f7891ef6bd52dff769d5 = L.circle(\n",
       "                [25.3548, 51.1839],\n",
       "                {&quot;bubblingMouseEvents&quot;: true, &quot;color&quot;: &quot;red&quot;, &quot;dashArray&quot;: null, &quot;dashOffset&quot;: null, &quot;fill&quot;: true, &quot;fillColor&quot;: &quot;indigo&quot;, &quot;fillOpacity&quot;: 0.2, &quot;fillRule&quot;: &quot;evenodd&quot;, &quot;lineCap&quot;: &quot;round&quot;, &quot;lineJoin&quot;: &quot;round&quot;, &quot;opacity&quot;: 1.0, &quot;radius&quot;: 61000.0, &quot;stroke&quot;: true, &quot;weight&quot;: 3}\n",
       "            ).addTo(map_8de725e800d35d654a5b94e5a3721265);\n",
       "        \n",
       "    \n",
       "            circle_3e7190c2a1e3f7891ef6bd52dff769d5.bindTooltip(\n",
       "                `&lt;div&gt;\n",
       "                     &lt;div style=&#x27;margin: 0; background-color: black; color: white;&#x27;&gt;&lt;h4 style=&#x27;text-align:center;font-weight: bold&#x27;&gt;Qatar&lt;/h4&gt;&lt;hr style=&#x27;margin:10px;color: white;&#x27;&gt;&lt;ul style=&#x27;color: white;;list-style-type:circle;align-item:left;padding-left:20px;padding-right:20px&#x27;&gt;&lt;li&gt;Confirmed: 367436&lt;/li&gt;&lt;li&gt;Deaths:   116284&lt;/li&gt;&lt;li&gt;Death Rate: 31.65&lt;/li&gt;&lt;/ul&gt;&lt;/div&gt;\n",
       "                 &lt;/div&gt;`,\n",
       "                {&quot;sticky&quot;: true}\n",
       "            );\n",
       "        \n",
       "    \n",
       "            var circle_bcf5a454504abb210dff07af89117055 = L.circle(\n",
       "                [45.9432, 24.9668],\n",
       "                {&quot;bubblingMouseEvents&quot;: true, &quot;color&quot;: &quot;red&quot;, &quot;dashArray&quot;: null, &quot;dashOffset&quot;: null, &quot;fill&quot;: true, &quot;fillColor&quot;: &quot;indigo&quot;, &quot;fillOpacity&quot;: 0.2, &quot;fillRule&quot;: &quot;evenodd&quot;, &quot;lineCap&quot;: &quot;round&quot;, &quot;lineJoin&quot;: &quot;round&quot;, &quot;opacity&quot;: 1.0, &quot;radius&quot;: 71000.0, &quot;stroke&quot;: true, &quot;weight&quot;: 3}\n",
       "            ).addTo(map_8de725e800d35d654a5b94e5a3721265);\n",
       "        \n",
       "    \n",
       "            circle_bcf5a454504abb210dff07af89117055.bindTooltip(\n",
       "                `&lt;div&gt;\n",
       "                     &lt;div style=&#x27;margin: 0; background-color: black; color: white;&#x27;&gt;&lt;h4 style=&#x27;text-align:center;font-weight: bold&#x27;&gt;Romania&lt;/h4&gt;&lt;hr style=&#x27;margin:10px;color: white;&#x27;&gt;&lt;ul style=&#x27;color: white;;list-style-type:circle;align-item:left;padding-left:20px;padding-right:20px&#x27;&gt;&lt;li&gt;Confirmed: 2906776&lt;/li&gt;&lt;li&gt;Deaths:   22885&lt;/li&gt;&lt;li&gt;Death Rate: 0.79&lt;/li&gt;&lt;/ul&gt;&lt;/div&gt;\n",
       "                 &lt;/div&gt;`,\n",
       "                {&quot;sticky&quot;: true}\n",
       "            );\n",
       "        \n",
       "    \n",
       "            var circle_142762b945f2e211cb77543a20127fe2 = L.circle(\n",
       "                [61.52401, 105.318756],\n",
       "                {&quot;bubblingMouseEvents&quot;: true, &quot;color&quot;: &quot;red&quot;, &quot;dashArray&quot;: null, &quot;dashOffset&quot;: null, &quot;fill&quot;: true, &quot;fillColor&quot;: &quot;indigo&quot;, &quot;fillOpacity&quot;: 0.2, &quot;fillRule&quot;: &quot;evenodd&quot;, &quot;lineCap&quot;: &quot;round&quot;, &quot;lineJoin&quot;: &quot;round&quot;, &quot;opacity&quot;: 1.0, &quot;radius&quot;: 81000.0, &quot;stroke&quot;: true, &quot;weight&quot;: 3}\n",
       "            ).addTo(map_8de725e800d35d654a5b94e5a3721265);\n",
       "        \n",
       "    \n",
       "            circle_142762b945f2e211cb77543a20127fe2.bindTooltip(\n",
       "                `&lt;div&gt;\n",
       "                     &lt;div style=&#x27;margin: 0; background-color: black; color: white;&#x27;&gt;&lt;h4 style=&#x27;text-align:center;font-weight: bold&#x27;&gt;Russia&lt;/h4&gt;&lt;hr style=&#x27;margin:10px;color: white;&#x27;&gt;&lt;ul style=&#x27;color: white;;list-style-type:circle;align-item:left;padding-left:20px;padding-right:20px&#x27;&gt;&lt;li&gt;Confirmed: 18034423&lt;/li&gt;&lt;li&gt;Deaths:   677&lt;/li&gt;&lt;li&gt;Death Rate: 0.0&lt;/li&gt;&lt;/ul&gt;&lt;/div&gt;\n",
       "                 &lt;/div&gt;`,\n",
       "                {&quot;sticky&quot;: true}\n",
       "            );\n",
       "        \n",
       "    \n",
       "            var circle_c2bda151b771c35e63ea608c7a2b1bf1 = L.circle(\n",
       "                [-1.9403, 29.8739],\n",
       "                {&quot;bubblingMouseEvents&quot;: true, &quot;color&quot;: &quot;red&quot;, &quot;dashArray&quot;: null, &quot;dashOffset&quot;: null, &quot;fill&quot;: true, &quot;fillColor&quot;: &quot;indigo&quot;, &quot;fillOpacity&quot;: 0.2, &quot;fillRule&quot;: &quot;evenodd&quot;, &quot;lineCap&quot;: &quot;round&quot;, &quot;lineJoin&quot;: &quot;round&quot;, &quot;opacity&quot;: 1.0, &quot;radius&quot;: 56000.0, &quot;stroke&quot;: true, &quot;weight&quot;: 3}\n",
       "            ).addTo(map_8de725e800d35d654a5b94e5a3721265);\n",
       "        \n",
       "    \n",
       "            circle_c2bda151b771c35e63ea608c7a2b1bf1.bindTooltip(\n",
       "                `&lt;div&gt;\n",
       "                     &lt;div style=&#x27;margin: 0; background-color: black; color: white;&#x27;&gt;&lt;h4 style=&#x27;text-align:center;font-weight: bold&#x27;&gt;Rwanda&lt;/h4&gt;&lt;hr style=&#x27;margin:10px;color: white;&#x27;&gt;&lt;ul style=&#x27;color: white;;list-style-type:circle;align-item:left;padding-left:20px;padding-right:20px&#x27;&gt;&lt;li&gt;Confirmed: 130003&lt;/li&gt;&lt;li&gt;Deaths:   65663&lt;/li&gt;&lt;li&gt;Death Rate: 50.51&lt;/li&gt;&lt;/ul&gt;&lt;/div&gt;\n",
       "                 &lt;/div&gt;`,\n",
       "                {&quot;sticky&quot;: true}\n",
       "            );\n",
       "        \n",
       "    \n",
       "            var circle_a008b6c63041b3370f67e234d1b06ad6 = L.circle(\n",
       "                [17.357822, -62.782998],\n",
       "                {&quot;bubblingMouseEvents&quot;: true, &quot;color&quot;: &quot;red&quot;, &quot;dashArray&quot;: null, &quot;dashOffset&quot;: null, &quot;fill&quot;: true, &quot;fillColor&quot;: &quot;indigo&quot;, &quot;fillOpacity&quot;: 0.2, &quot;fillRule&quot;: &quot;evenodd&quot;, &quot;lineCap&quot;: &quot;round&quot;, &quot;lineJoin&quot;: &quot;round&quot;, &quot;opacity&quot;: 1.0, &quot;radius&quot;: 41000.0, &quot;stroke&quot;: true, &quot;weight&quot;: 3}\n",
       "            ).addTo(map_8de725e800d35d654a5b94e5a3721265);\n",
       "        \n",
       "    \n",
       "            circle_a008b6c63041b3370f67e234d1b06ad6.bindTooltip(\n",
       "                `&lt;div&gt;\n",
       "                     &lt;div style=&#x27;margin: 0; background-color: black; color: white;&#x27;&gt;&lt;h4 style=&#x27;text-align:center;font-weight: bold&#x27;&gt;Saint Kitts and Nevis&lt;/h4&gt;&lt;hr style=&#x27;margin:10px;color: white;&#x27;&gt;&lt;ul style=&#x27;color: white;;list-style-type:circle;align-item:left;padding-left:20px;padding-right:20px&#x27;&gt;&lt;li&gt;Confirmed: 5688&lt;/li&gt;&lt;li&gt;Deaths:   370882&lt;/li&gt;&lt;li&gt;Death Rate: 6519.28&lt;/li&gt;&lt;/ul&gt;&lt;/div&gt;\n",
       "                 &lt;/div&gt;`,\n",
       "                {&quot;sticky&quot;: true}\n",
       "            );\n",
       "        \n",
       "    \n",
       "            var circle_3efe9378218de350524025fba4cbde23 = L.circle(\n",
       "                [13.9094, -60.9789],\n",
       "                {&quot;bubblingMouseEvents&quot;: true, &quot;color&quot;: &quot;red&quot;, &quot;dashArray&quot;: null, &quot;dashOffset&quot;: null, &quot;fill&quot;: true, &quot;fillColor&quot;: &quot;indigo&quot;, &quot;fillOpacity&quot;: 0.2, &quot;fillRule&quot;: &quot;evenodd&quot;, &quot;lineCap&quot;: &quot;round&quot;, &quot;lineJoin&quot;: &quot;round&quot;, &quot;opacity&quot;: 1.0, &quot;radius&quot;: 51000.0, &quot;stroke&quot;: true, &quot;weight&quot;: 3}\n",
       "            ).addTo(map_8de725e800d35d654a5b94e5a3721265);\n",
       "        \n",
       "    \n",
       "            circle_3efe9378218de350524025fba4cbde23.bindTooltip(\n",
       "                `&lt;div&gt;\n",
       "                     &lt;div style=&#x27;margin: 0; background-color: black; color: white;&#x27;&gt;&lt;h4 style=&#x27;text-align:center;font-weight: bold&#x27;&gt;Saint Lucia&lt;/h4&gt;&lt;hr style=&#x27;margin:10px;color: white;&#x27;&gt;&lt;ul style=&#x27;color: white;;list-style-type:circle;align-item:left;padding-left:20px;padding-right:20px&#x27;&gt;&lt;li&gt;Confirmed: 25132&lt;/li&gt;&lt;li&gt;Deaths:   1459&lt;/li&gt;&lt;li&gt;Death Rate: 5.81&lt;/li&gt;&lt;/ul&gt;&lt;/div&gt;\n",
       "                 &lt;/div&gt;`,\n",
       "                {&quot;sticky&quot;: true}\n",
       "            );\n",
       "        \n",
       "    \n",
       "            var circle_7812ab9dafa1081fe5762c65ca22e86c = L.circle(\n",
       "                [12.9843, -61.2872],\n",
       "                {&quot;bubblingMouseEvents&quot;: true, &quot;color&quot;: &quot;red&quot;, &quot;dashArray&quot;: null, &quot;dashOffset&quot;: null, &quot;fill&quot;: true, &quot;fillColor&quot;: &quot;indigo&quot;, &quot;fillOpacity&quot;: 0.2, &quot;fillRule&quot;: &quot;evenodd&quot;, &quot;lineCap&quot;: &quot;round&quot;, &quot;lineJoin&quot;: &quot;round&quot;, &quot;opacity&quot;: 1.0, &quot;radius&quot;: 46000.0, &quot;stroke&quot;: true, &quot;weight&quot;: 3}\n",
       "            ).addTo(map_8de725e800d35d654a5b94e5a3721265);\n",
       "        \n",
       "    \n",
       "            circle_7812ab9dafa1081fe5762c65ca22e86c.bindTooltip(\n",
       "                `&lt;div&gt;\n",
       "                     &lt;div style=&#x27;margin: 0; background-color: black; color: white;&#x27;&gt;&lt;h4 style=&#x27;text-align:center;font-weight: bold&#x27;&gt;Saint Vincent and the Grenadines&lt;/h4&gt;&lt;hr style=&#x27;margin:10px;color: white;&#x27;&gt;&lt;ul style=&#x27;color: white;;list-style-type:circle;align-item:left;padding-left:20px;padding-right:20px&#x27;&gt;&lt;li&gt;Confirmed: 8626&lt;/li&gt;&lt;li&gt;Deaths:   43&lt;/li&gt;&lt;li&gt;Death Rate: 0.5&lt;/li&gt;&lt;/ul&gt;&lt;/div&gt;\n",
       "                 &lt;/div&gt;`,\n",
       "                {&quot;sticky&quot;: true}\n",
       "            );\n",
       "        \n",
       "    \n",
       "            var circle_ac4b19231d74a6a330ac0aabe25f4b9c = L.circle(\n",
       "                [-13.759, -172.1046],\n",
       "                {&quot;bubblingMouseEvents&quot;: true, &quot;color&quot;: &quot;red&quot;, &quot;dashArray&quot;: null, &quot;dashOffset&quot;: null, &quot;fill&quot;: true, &quot;fillColor&quot;: &quot;indigo&quot;, &quot;fillOpacity&quot;: 0.2, &quot;fillRule&quot;: &quot;evenodd&quot;, &quot;lineCap&quot;: &quot;round&quot;, &quot;lineJoin&quot;: &quot;round&quot;, &quot;opacity&quot;: 1.0, &quot;radius&quot;: 46000.0, &quot;stroke&quot;: true, &quot;weight&quot;: 3}\n",
       "            ).addTo(map_8de725e800d35d654a5b94e5a3721265);\n",
       "        \n",
       "    \n",
       "            circle_ac4b19231d74a6a330ac0aabe25f4b9c.bindTooltip(\n",
       "                `&lt;div&gt;\n",
       "                     &lt;div style=&#x27;margin: 0; background-color: black; color: white;&#x27;&gt;&lt;h4 style=&#x27;text-align:center;font-weight: bold&#x27;&gt;Samoa&lt;/h4&gt;&lt;hr style=&#x27;margin:10px;color: white;&#x27;&gt;&lt;ul style=&#x27;color: white;;list-style-type:circle;align-item:left;padding-left:20px;padding-right:20px&#x27;&gt;&lt;li&gt;Confirmed: 12843&lt;/li&gt;&lt;li&gt;Deaths:   370&lt;/li&gt;&lt;li&gt;Death Rate: 2.88&lt;/li&gt;&lt;/ul&gt;&lt;/div&gt;\n",
       "                 &lt;/div&gt;`,\n",
       "                {&quot;sticky&quot;: true}\n",
       "            );\n",
       "        \n",
       "    \n",
       "            var circle_118d85a4234ab203e4d28a42dfb0ba1f = L.circle(\n",
       "                [43.9424, 12.4578],\n",
       "                {&quot;bubblingMouseEvents&quot;: true, &quot;color&quot;: &quot;red&quot;, &quot;dashArray&quot;: null, &quot;dashOffset&quot;: null, &quot;fill&quot;: true, &quot;fillColor&quot;: &quot;indigo&quot;, &quot;fillOpacity&quot;: 0.2, &quot;fillRule&quot;: &quot;evenodd&quot;, &quot;lineCap&quot;: &quot;round&quot;, &quot;lineJoin&quot;: &quot;round&quot;, &quot;opacity&quot;: 1.0, &quot;radius&quot;: 46000.0, &quot;stroke&quot;: true, &quot;weight&quot;: 3}\n",
       "            ).addTo(map_8de725e800d35d654a5b94e5a3721265);\n",
       "        \n",
       "    \n",
       "            circle_118d85a4234ab203e4d28a42dfb0ba1f.bindTooltip(\n",
       "                `&lt;div&gt;\n",
       "                     &lt;div style=&#x27;margin: 0; background-color: black; color: white;&#x27;&gt;&lt;h4 style=&#x27;text-align:center;font-weight: bold&#x27;&gt;San Marino&lt;/h4&gt;&lt;hr style=&#x27;margin:10px;color: white;&#x27;&gt;&lt;ul style=&#x27;color: white;;list-style-type:circle;align-item:left;padding-left:20px;padding-right:20px&#x27;&gt;&lt;li&gt;Confirmed: 17045&lt;/li&gt;&lt;li&gt;Deaths:   106&lt;/li&gt;&lt;li&gt;Death Rate: 0.62&lt;/li&gt;&lt;/ul&gt;&lt;/div&gt;\n",
       "                 &lt;/div&gt;`,\n",
       "                {&quot;sticky&quot;: true}\n",
       "            );\n",
       "        \n",
       "    \n",
       "            var circle_9be2be9ae200b1d84852f56a3914e744 = L.circle(\n",
       "                [0.1864, 6.6131],\n",
       "                {&quot;bubblingMouseEvents&quot;: true, &quot;color&quot;: &quot;red&quot;, &quot;dashArray&quot;: null, &quot;dashOffset&quot;: null, &quot;fill&quot;: true, &quot;fillColor&quot;: &quot;indigo&quot;, &quot;fillOpacity&quot;: 0.2, &quot;fillRule&quot;: &quot;evenodd&quot;, &quot;lineCap&quot;: &quot;round&quot;, &quot;lineJoin&quot;: &quot;round&quot;, &quot;opacity&quot;: 1.0, &quot;radius&quot;: 41000.0, &quot;stroke&quot;: true, &quot;weight&quot;: 3}\n",
       "            ).addTo(map_8de725e800d35d654a5b94e5a3721265);\n",
       "        \n",
       "    \n",
       "            circle_9be2be9ae200b1d84852f56a3914e744.bindTooltip(\n",
       "                `&lt;div&gt;\n",
       "                     &lt;div style=&#x27;margin: 0; background-color: black; color: white;&#x27;&gt;&lt;h4 style=&#x27;text-align:center;font-weight: bold&#x27;&gt;Sao Tome and Principe&lt;/h4&gt;&lt;hr style=&#x27;margin:10px;color: white;&#x27;&gt;&lt;ul style=&#x27;color: white;;list-style-type:circle;align-item:left;padding-left:20px;padding-right:20px&#x27;&gt;&lt;li&gt;Confirmed: 5982&lt;/li&gt;&lt;li&gt;Deaths:   25&lt;/li&gt;&lt;li&gt;Death Rate: 0.42&lt;/li&gt;&lt;/ul&gt;&lt;/div&gt;\n",
       "                 &lt;/div&gt;`,\n",
       "                {&quot;sticky&quot;: true}\n",
       "            );\n",
       "        \n",
       "    \n",
       "            var circle_ccf401a8472dba390eb1ca77374760a6 = L.circle(\n",
       "                [23.885942, 45.079162],\n",
       "                {&quot;bubblingMouseEvents&quot;: true, &quot;color&quot;: &quot;red&quot;, &quot;dashArray&quot;: null, &quot;dashOffset&quot;: null, &quot;fill&quot;: true, &quot;fillColor&quot;: &quot;indigo&quot;, &quot;fillOpacity&quot;: 0.2, &quot;fillRule&quot;: &quot;evenodd&quot;, &quot;lineCap&quot;: &quot;round&quot;, &quot;lineJoin&quot;: &quot;round&quot;, &quot;opacity&quot;: 1.0, &quot;radius&quot;: 66000.0, &quot;stroke&quot;: true, &quot;weight&quot;: 3}\n",
       "            ).addTo(map_8de725e800d35d654a5b94e5a3721265);\n",
       "        \n",
       "    \n",
       "            circle_ccf401a8472dba390eb1ca77374760a6.bindTooltip(\n",
       "                `&lt;div&gt;\n",
       "                     &lt;div style=&#x27;margin: 0; background-color: black; color: white;&#x27;&gt;&lt;h4 style=&#x27;text-align:center;font-weight: bold&#x27;&gt;Saudi Arabia&lt;/h4&gt;&lt;hr style=&#x27;margin:10px;color: white;&#x27;&gt;&lt;ul style=&#x27;color: white;;list-style-type:circle;align-item:left;padding-left:20px;padding-right:20px&#x27;&gt;&lt;li&gt;Confirmed: 764249&lt;/li&gt;&lt;li&gt;Deaths:   115&lt;/li&gt;&lt;li&gt;Death Rate: 0.02&lt;/li&gt;&lt;/ul&gt;&lt;/div&gt;\n",
       "                 &lt;/div&gt;`,\n",
       "                {&quot;sticky&quot;: true}\n",
       "            );\n",
       "        \n",
       "    \n",
       "            var circle_90d95b03d18f60077e9b7394a3622eaa = L.circle(\n",
       "                [14.4974, -14.4524],\n",
       "                {&quot;bubblingMouseEvents&quot;: true, &quot;color&quot;: &quot;red&quot;, &quot;dashArray&quot;: null, &quot;dashOffset&quot;: null, &quot;fill&quot;: true, &quot;fillColor&quot;: &quot;indigo&quot;, &quot;fillOpacity&quot;: 0.2, &quot;fillRule&quot;: &quot;evenodd&quot;, &quot;lineCap&quot;: &quot;round&quot;, &quot;lineJoin&quot;: &quot;round&quot;, &quot;opacity&quot;: 1.0, &quot;radius&quot;: 56000.0, &quot;stroke&quot;: true, &quot;weight&quot;: 3}\n",
       "            ).addTo(map_8de725e800d35d654a5b94e5a3721265);\n",
       "        \n",
       "    \n",
       "            circle_90d95b03d18f60077e9b7394a3622eaa.bindTooltip(\n",
       "                `&lt;div&gt;\n",
       "                     &lt;div style=&#x27;margin: 0; background-color: black; color: white;&#x27;&gt;&lt;h4 style=&#x27;text-align:center;font-weight: bold&#x27;&gt;Senegal&lt;/h4&gt;&lt;hr style=&#x27;margin:10px;color: white;&#x27;&gt;&lt;ul style=&#x27;color: white;;list-style-type:circle;align-item:left;padding-left:20px;padding-right:20px&#x27;&gt;&lt;li&gt;Confirmed: 86087&lt;/li&gt;&lt;li&gt;Deaths:   73&lt;/li&gt;&lt;li&gt;Death Rate: 0.08&lt;/li&gt;&lt;/ul&gt;&lt;/div&gt;\n",
       "                 &lt;/div&gt;`,\n",
       "                {&quot;sticky&quot;: true}\n",
       "            );\n",
       "        \n",
       "    \n",
       "            var circle_ea8c5a12aca9b61e06a381f65aed5f2b = L.circle(\n",
       "                [44.0165, 21.0059],\n",
       "                {&quot;bubblingMouseEvents&quot;: true, &quot;color&quot;: &quot;red&quot;, &quot;dashArray&quot;: null, &quot;dashOffset&quot;: null, &quot;fill&quot;: true, &quot;fillColor&quot;: &quot;indigo&quot;, &quot;fillOpacity&quot;: 0.2, &quot;fillRule&quot;: &quot;evenodd&quot;, &quot;lineCap&quot;: &quot;round&quot;, &quot;lineJoin&quot;: &quot;round&quot;, &quot;opacity&quot;: 1.0, &quot;radius&quot;: 71000.0, &quot;stroke&quot;: true, &quot;weight&quot;: 3}\n",
       "            ).addTo(map_8de725e800d35d654a5b94e5a3721265);\n",
       "        \n",
       "    \n",
       "            circle_ea8c5a12aca9b61e06a381f65aed5f2b.bindTooltip(\n",
       "                `&lt;div&gt;\n",
       "                     &lt;div style=&#x27;margin: 0; background-color: black; color: white;&#x27;&gt;&lt;h4 style=&#x27;text-align:center;font-weight: bold&#x27;&gt;Serbia&lt;/h4&gt;&lt;hr style=&#x27;margin:10px;color: white;&#x27;&gt;&lt;ul style=&#x27;color: white;;list-style-type:circle;align-item:left;padding-left:20px;padding-right:20px&#x27;&gt;&lt;li&gt;Confirmed: 2015711&lt;/li&gt;&lt;li&gt;Deaths:   9134&lt;/li&gt;&lt;li&gt;Death Rate: 0.45&lt;/li&gt;&lt;/ul&gt;&lt;/div&gt;\n",
       "                 &lt;/div&gt;`,\n",
       "                {&quot;sticky&quot;: true}\n",
       "            );\n",
       "        \n",
       "    \n",
       "            var circle_9624249f79db878f1ad841578b705cd1 = L.circle(\n",
       "                [-4.6796, 55.492],\n",
       "                {&quot;bubblingMouseEvents&quot;: true, &quot;color&quot;: &quot;red&quot;, &quot;dashArray&quot;: null, &quot;dashOffset&quot;: null, &quot;fill&quot;: true, &quot;fillColor&quot;: &quot;indigo&quot;, &quot;fillOpacity&quot;: 0.2, &quot;fillRule&quot;: &quot;evenodd&quot;, &quot;lineCap&quot;: &quot;round&quot;, &quot;lineJoin&quot;: &quot;round&quot;, &quot;opacity&quot;: 1.0, &quot;radius&quot;: 51000.0, &quot;stroke&quot;: true, &quot;weight&quot;: 3}\n",
       "            ).addTo(map_8de725e800d35d654a5b94e5a3721265);\n",
       "        \n",
       "    \n",
       "            circle_9624249f79db878f1ad841578b705cd1.bindTooltip(\n",
       "                `&lt;div&gt;\n",
       "                     &lt;div style=&#x27;margin: 0; background-color: black; color: white;&#x27;&gt;&lt;h4 style=&#x27;text-align:center;font-weight: bold&#x27;&gt;Seychelles&lt;/h4&gt;&lt;hr style=&#x27;margin:10px;color: white;&#x27;&gt;&lt;ul style=&#x27;color: white;;list-style-type:circle;align-item:left;padding-left:20px;padding-right:20px&#x27;&gt;&lt;li&gt;Confirmed: 43776&lt;/li&gt;&lt;li&gt;Deaths:   1966&lt;/li&gt;&lt;li&gt;Death Rate: 4.49&lt;/li&gt;&lt;/ul&gt;&lt;/div&gt;\n",
       "                 &lt;/div&gt;`,\n",
       "                {&quot;sticky&quot;: true}\n",
       "            );\n",
       "        \n",
       "    \n",
       "            var circle_86af2dfe71a7d98f85ed78098c645db5 = L.circle(\n",
       "                [8.460555, -11.779889],\n",
       "                {&quot;bubblingMouseEvents&quot;: true, &quot;color&quot;: &quot;red&quot;, &quot;dashArray&quot;: null, &quot;dashOffset&quot;: null, &quot;fill&quot;: true, &quot;fillColor&quot;: &quot;indigo&quot;, &quot;fillOpacity&quot;: 0.2, &quot;fillRule&quot;: &quot;evenodd&quot;, &quot;lineCap&quot;: &quot;round&quot;, &quot;lineJoin&quot;: &quot;round&quot;, &quot;opacity&quot;: 1.0, &quot;radius&quot;: 41000.0, &quot;stroke&quot;: true, &quot;weight&quot;: 3}\n",
       "            ).addTo(map_8de725e800d35d654a5b94e5a3721265);\n",
       "        \n",
       "    \n",
       "            circle_86af2dfe71a7d98f85ed78098c645db5.bindTooltip(\n",
       "                `&lt;div&gt;\n",
       "                     &lt;div style=&#x27;margin: 0; background-color: black; color: white;&#x27;&gt;&lt;h4 style=&#x27;text-align:center;font-weight: bold&#x27;&gt;Sierra Leone&lt;/h4&gt;&lt;hr style=&#x27;margin:10px;color: white;&#x27;&gt;&lt;ul style=&#x27;color: white;;list-style-type:circle;align-item:left;padding-left:20px;padding-right:20px&#x27;&gt;&lt;li&gt;Confirmed: 7682&lt;/li&gt;&lt;li&gt;Deaths:   16070&lt;/li&gt;&lt;li&gt;Death Rate: 209.16&lt;/li&gt;&lt;/ul&gt;&lt;/div&gt;\n",
       "                 &lt;/div&gt;`,\n",
       "                {&quot;sticky&quot;: true}\n",
       "            );\n",
       "        \n",
       "    \n",
       "            var circle_ca7cc5b87b5deaefaad58b96849d5704 = L.circle(\n",
       "                [1.2833, 103.8333],\n",
       "                {&quot;bubblingMouseEvents&quot;: true, &quot;color&quot;: &quot;red&quot;, &quot;dashArray&quot;: null, &quot;dashOffset&quot;: null, &quot;fill&quot;: true, &quot;fillColor&quot;: &quot;indigo&quot;, &quot;fillOpacity&quot;: 0.2, &quot;fillRule&quot;: &quot;evenodd&quot;, &quot;lineCap&quot;: &quot;round&quot;, &quot;lineJoin&quot;: &quot;round&quot;, &quot;opacity&quot;: 1.0, &quot;radius&quot;: 71000.0, &quot;stroke&quot;: true, &quot;weight&quot;: 3}\n",
       "            ).addTo(map_8de725e800d35d654a5b94e5a3721265);\n",
       "        \n",
       "    \n",
       "            circle_ca7cc5b87b5deaefaad58b96849d5704.bindTooltip(\n",
       "                `&lt;div&gt;\n",
       "                     &lt;div style=&#x27;margin: 0; background-color: black; color: white;&#x27;&gt;&lt;h4 style=&#x27;text-align:center;font-weight: bold&#x27;&gt;Singapore&lt;/h4&gt;&lt;hr style=&#x27;margin:10px;color: white;&#x27;&gt;&lt;ul style=&#x27;color: white;;list-style-type:circle;align-item:left;padding-left:20px;padding-right:20px&#x27;&gt;&lt;li&gt;Confirmed: 1278113&lt;/li&gt;&lt;li&gt;Deaths:   167&lt;/li&gt;&lt;li&gt;Death Rate: 0.01&lt;/li&gt;&lt;/ul&gt;&lt;/div&gt;\n",
       "                 &lt;/div&gt;`,\n",
       "                {&quot;sticky&quot;: true}\n",
       "            );\n",
       "        \n",
       "    \n",
       "            var circle_5bad9cd4469f9dac24221198df42f1ca = L.circle(\n",
       "                [48.669, 19.699],\n",
       "                {&quot;bubblingMouseEvents&quot;: true, &quot;color&quot;: &quot;red&quot;, &quot;dashArray&quot;: null, &quot;dashOffset&quot;: null, &quot;fill&quot;: true, &quot;fillColor&quot;: &quot;indigo&quot;, &quot;fillOpacity&quot;: 0.2, &quot;fillRule&quot;: &quot;evenodd&quot;, &quot;lineCap&quot;: &quot;round&quot;, &quot;lineJoin&quot;: &quot;round&quot;, &quot;opacity&quot;: 1.0, &quot;radius&quot;: 71000.0, &quot;stroke&quot;: true, &quot;weight&quot;: 3}\n",
       "            ).addTo(map_8de725e800d35d654a5b94e5a3721265);\n",
       "        \n",
       "    \n",
       "            circle_5bad9cd4469f9dac24221198df42f1ca.bindTooltip(\n",
       "                `&lt;div&gt;\n",
       "                     &lt;div style=&#x27;margin: 0; background-color: black; color: white;&#x27;&gt;&lt;h4 style=&#x27;text-align:center;font-weight: bold&#x27;&gt;Slovakia&lt;/h4&gt;&lt;hr style=&#x27;margin:10px;color: white;&#x27;&gt;&lt;ul style=&#x27;color: white;;list-style-type:circle;align-item:left;padding-left:20px;padding-right:20px&#x27;&gt;&lt;li&gt;Confirmed: 2541256&lt;/li&gt;&lt;li&gt;Deaths:   125&lt;/li&gt;&lt;li&gt;Death Rate: 0.0&lt;/li&gt;&lt;/ul&gt;&lt;/div&gt;\n",
       "                 &lt;/div&gt;`,\n",
       "                {&quot;sticky&quot;: true}\n",
       "            );\n",
       "        \n",
       "    \n",
       "            var circle_8dc4d1daa0c26f2465c294e5793904fd = L.circle(\n",
       "                [46.1512, 14.9955],\n",
       "                {&quot;bubblingMouseEvents&quot;: true, &quot;color&quot;: &quot;red&quot;, &quot;dashArray&quot;: null, &quot;dashOffset&quot;: null, &quot;fill&quot;: true, &quot;fillColor&quot;: &quot;indigo&quot;, &quot;fillOpacity&quot;: 0.2, &quot;fillRule&quot;: &quot;evenodd&quot;, &quot;lineCap&quot;: &quot;round&quot;, &quot;lineJoin&quot;: &quot;round&quot;, &quot;opacity&quot;: 1.0, &quot;radius&quot;: 66000.0, &quot;stroke&quot;: true, &quot;weight&quot;: 3}\n",
       "            ).addTo(map_8de725e800d35d654a5b94e5a3721265);\n",
       "        \n",
       "    \n",
       "            circle_8dc4d1daa0c26f2465c294e5793904fd.bindTooltip(\n",
       "                `&lt;div&gt;\n",
       "                     &lt;div style=&#x27;margin: 0; background-color: black; color: white;&#x27;&gt;&lt;h4 style=&#x27;text-align:center;font-weight: bold&#x27;&gt;Slovenia&lt;/h4&gt;&lt;hr style=&#x27;margin:10px;color: white;&#x27;&gt;&lt;ul style=&#x27;color: white;;list-style-type:circle;align-item:left;padding-left:20px;padding-right:20px&#x27;&gt;&lt;li&gt;Confirmed: 1023191&lt;/li&gt;&lt;li&gt;Deaths:   1378&lt;/li&gt;&lt;li&gt;Death Rate: 0.13&lt;/li&gt;&lt;/ul&gt;&lt;/div&gt;\n",
       "                 &lt;/div&gt;`,\n",
       "                {&quot;sticky&quot;: true}\n",
       "            );\n",
       "        \n",
       "    \n",
       "            var circle_cd7bb9e6b0282a37175ef3a809f2d71e = L.circle(\n",
       "                [-9.6457, 160.1562],\n",
       "                {&quot;bubblingMouseEvents&quot;: true, &quot;color&quot;: &quot;red&quot;, &quot;dashArray&quot;: null, &quot;dashOffset&quot;: null, &quot;fill&quot;: true, &quot;fillColor&quot;: &quot;indigo&quot;, &quot;fillOpacity&quot;: 0.2, &quot;fillRule&quot;: &quot;evenodd&quot;, &quot;lineCap&quot;: &quot;round&quot;, &quot;lineJoin&quot;: &quot;round&quot;, &quot;opacity&quot;: 1.0, &quot;radius&quot;: 46000.0, &quot;stroke&quot;: true, &quot;weight&quot;: 3}\n",
       "            ).addTo(map_8de725e800d35d654a5b94e5a3721265);\n",
       "        \n",
       "    \n",
       "            circle_cd7bb9e6b0282a37175ef3a809f2d71e.bindTooltip(\n",
       "                `&lt;div&gt;\n",
       "                     &lt;div style=&#x27;margin: 0; background-color: black; color: white;&#x27;&gt;&lt;h4 style=&#x27;text-align:center;font-weight: bold&#x27;&gt;Solomon Islands&lt;/h4&gt;&lt;hr style=&#x27;margin:10px;color: white;&#x27;&gt;&lt;ul style=&#x27;color: white;;list-style-type:circle;align-item:left;padding-left:20px;padding-right:20px&#x27;&gt;&lt;li&gt;Confirmed: 18174&lt;/li&gt;&lt;li&gt;Deaths:   20083&lt;/li&gt;&lt;li&gt;Death Rate: 110.5&lt;/li&gt;&lt;/ul&gt;&lt;/div&gt;\n",
       "                 &lt;/div&gt;`,\n",
       "                {&quot;sticky&quot;: true}\n",
       "            );\n",
       "        \n",
       "    \n",
       "            var circle_8fffde67ab7bfa461f8ec92d0bc22a73 = L.circle(\n",
       "                [5.152149, 46.199616],\n",
       "                {&quot;bubblingMouseEvents&quot;: true, &quot;color&quot;: &quot;red&quot;, &quot;dashArray&quot;: null, &quot;dashOffset&quot;: null, &quot;fill&quot;: true, &quot;fillColor&quot;: &quot;indigo&quot;, &quot;fillOpacity&quot;: 0.2, &quot;fillRule&quot;: &quot;evenodd&quot;, &quot;lineCap&quot;: &quot;round&quot;, &quot;lineJoin&quot;: &quot;round&quot;, &quot;opacity&quot;: 1.0, &quot;radius&quot;: 51000.0, &quot;stroke&quot;: true, &quot;weight&quot;: 3}\n",
       "            ).addTo(map_8de725e800d35d654a5b94e5a3721265);\n",
       "        \n",
       "    \n",
       "            circle_8fffde67ab7bfa461f8ec92d0bc22a73.bindTooltip(\n",
       "                `&lt;div&gt;\n",
       "                     &lt;div style=&#x27;margin: 0; background-color: black; color: white;&#x27;&gt;&lt;h4 style=&#x27;text-align:center;font-weight: bold&#x27;&gt;Somalia&lt;/h4&gt;&lt;hr style=&#x27;margin:10px;color: white;&#x27;&gt;&lt;ul style=&#x27;color: white;;list-style-type:circle;align-item:left;padding-left:20px;padding-right:20px&#x27;&gt;&lt;li&gt;Confirmed: 26535&lt;/li&gt;&lt;li&gt;Deaths:   6631&lt;/li&gt;&lt;li&gt;Death Rate: 24.99&lt;/li&gt;&lt;/ul&gt;&lt;/div&gt;\n",
       "                 &lt;/div&gt;`,\n",
       "                {&quot;sticky&quot;: true}\n",
       "            );\n",
       "        \n",
       "    \n",
       "            var circle_02f1788fafeb9907a520ae5584f999b2 = L.circle(\n",
       "                [-30.5595, 22.9375],\n",
       "                {&quot;bubblingMouseEvents&quot;: true, &quot;color&quot;: &quot;red&quot;, &quot;dashArray&quot;: null, &quot;dashOffset&quot;: null, &quot;fill&quot;: true, &quot;fillColor&quot;: &quot;indigo&quot;, &quot;fillOpacity&quot;: 0.2, &quot;fillRule&quot;: &quot;evenodd&quot;, &quot;lineCap&quot;: &quot;round&quot;, &quot;lineJoin&quot;: &quot;round&quot;, &quot;opacity&quot;: 1.0, &quot;radius&quot;: 76000.0, &quot;stroke&quot;: true, &quot;weight&quot;: 3}\n",
       "            ).addTo(map_8de725e800d35d654a5b94e5a3721265);\n",
       "        \n",
       "    \n",
       "            circle_02f1788fafeb9907a520ae5584f999b2.bindTooltip(\n",
       "                `&lt;div&gt;\n",
       "                     &lt;div style=&#x27;margin: 0; background-color: black; color: white;&#x27;&gt;&lt;h4 style=&#x27;text-align:center;font-weight: bold&#x27;&gt;South Africa&lt;/h4&gt;&lt;hr style=&#x27;margin:10px;color: white;&#x27;&gt;&lt;ul style=&#x27;color: white;;list-style-type:circle;align-item:left;padding-left:20px;padding-right:20px&#x27;&gt;&lt;li&gt;Confirmed: 3935761&lt;/li&gt;&lt;li&gt;Deaths:   146&lt;/li&gt;&lt;li&gt;Death Rate: 0.0&lt;/li&gt;&lt;/ul&gt;&lt;/div&gt;\n",
       "                 &lt;/div&gt;`,\n",
       "                {&quot;sticky&quot;: true}\n",
       "            );\n",
       "        \n",
       "    \n",
       "            var circle_314b4bca0bb94a2f13afc8cf80528572 = L.circle(\n",
       "                [6.877, 31.307],\n",
       "                {&quot;bubblingMouseEvents&quot;: true, &quot;color&quot;: &quot;red&quot;, &quot;dashArray&quot;: null, &quot;dashOffset&quot;: null, &quot;fill&quot;: true, &quot;fillColor&quot;: &quot;indigo&quot;, &quot;fillOpacity&quot;: 0.2, &quot;fillRule&quot;: &quot;evenodd&quot;, &quot;lineCap&quot;: &quot;round&quot;, &quot;lineJoin&quot;: &quot;round&quot;, &quot;opacity&quot;: 1.0, &quot;radius&quot;: 46000.0, &quot;stroke&quot;: true, &quot;weight&quot;: 3}\n",
       "            ).addTo(map_8de725e800d35d654a5b94e5a3721265);\n",
       "        \n",
       "    \n",
       "            circle_314b4bca0bb94a2f13afc8cf80528572.bindTooltip(\n",
       "                `&lt;div&gt;\n",
       "                     &lt;div style=&#x27;margin: 0; background-color: black; color: white;&#x27;&gt;&lt;h4 style=&#x27;text-align:center;font-weight: bold&#x27;&gt;South Sudan&lt;/h4&gt;&lt;hr style=&#x27;margin:10px;color: white;&#x27;&gt;&lt;ul style=&#x27;color: white;;list-style-type:circle;align-item:left;padding-left:20px;padding-right:20px&#x27;&gt;&lt;li&gt;Confirmed: 17575&lt;/li&gt;&lt;li&gt;Deaths:   1361&lt;/li&gt;&lt;li&gt;Death Rate: 7.74&lt;/li&gt;&lt;/ul&gt;&lt;/div&gt;\n",
       "                 &lt;/div&gt;`,\n",
       "                {&quot;sticky&quot;: true}\n",
       "            );\n",
       "        \n",
       "    \n",
       "            var circle_9051e5b8af017e076b85b4eb3541fdeb = L.circle(\n",
       "                [40.463667, -3.74922],\n",
       "                {&quot;bubblingMouseEvents&quot;: true, &quot;color&quot;: &quot;red&quot;, &quot;dashArray&quot;: null, &quot;dashOffset&quot;: null, &quot;fill&quot;: true, &quot;fillColor&quot;: &quot;indigo&quot;, &quot;fillOpacity&quot;: 0.2, &quot;fillRule&quot;: &quot;evenodd&quot;, &quot;lineCap&quot;: &quot;round&quot;, &quot;lineJoin&quot;: &quot;round&quot;, &quot;opacity&quot;: 1.0, &quot;radius&quot;: 81000.0, &quot;stroke&quot;: true, &quot;weight&quot;: 3}\n",
       "            ).addTo(map_8de725e800d35d654a5b94e5a3721265);\n",
       "        \n",
       "    \n",
       "            circle_9051e5b8af017e076b85b4eb3541fdeb.bindTooltip(\n",
       "                `&lt;div&gt;\n",
       "                     &lt;div style=&#x27;margin: 0; background-color: black; color: white;&#x27;&gt;&lt;h4 style=&#x27;text-align:center;font-weight: bold&#x27;&gt;Spain&lt;/h4&gt;&lt;hr style=&#x27;margin:10px;color: white;&#x27;&gt;&lt;ul style=&#x27;color: white;;list-style-type:circle;align-item:left;padding-left:20px;padding-right:20px&#x27;&gt;&lt;li&gt;Confirmed: 12238073&lt;/li&gt;&lt;li&gt;Deaths:   101002&lt;/li&gt;&lt;li&gt;Death Rate: 0.83&lt;/li&gt;&lt;/ul&gt;&lt;/div&gt;\n",
       "                 &lt;/div&gt;`,\n",
       "                {&quot;sticky&quot;: true}\n",
       "            );\n",
       "        \n",
       "    \n",
       "            var circle_38c27fef35658b1ec41f0fd808bbb55a = L.circle(\n",
       "                [7.873054, 80.771797],\n",
       "                {&quot;bubblingMouseEvents&quot;: true, &quot;color&quot;: &quot;red&quot;, &quot;dashArray&quot;: null, &quot;dashOffset&quot;: null, &quot;fill&quot;: true, &quot;fillColor&quot;: &quot;indigo&quot;, &quot;fillOpacity&quot;: 0.2, &quot;fillRule&quot;: &quot;evenodd&quot;, &quot;lineCap&quot;: &quot;round&quot;, &quot;lineJoin&quot;: &quot;round&quot;, &quot;opacity&quot;: 1.0, &quot;radius&quot;: 66000.0, &quot;stroke&quot;: true, &quot;weight&quot;: 3}\n",
       "            ).addTo(map_8de725e800d35d654a5b94e5a3721265);\n",
       "        \n",
       "    \n",
       "            circle_38c27fef35658b1ec41f0fd808bbb55a.bindTooltip(\n",
       "                `&lt;div&gt;\n",
       "                     &lt;div style=&#x27;margin: 0; background-color: black; color: white;&#x27;&gt;&lt;h4 style=&#x27;text-align:center;font-weight: bold&#x27;&gt;Sri Lanka&lt;/h4&gt;&lt;hr style=&#x27;margin:10px;color: white;&#x27;&gt;&lt;ul style=&#x27;color: white;;list-style-type:circle;align-item:left;padding-left:20px;padding-right:20px&#x27;&gt;&lt;li&gt;Confirmed: 663779&lt;/li&gt;&lt;li&gt;Deaths:   138&lt;/li&gt;&lt;li&gt;Death Rate: 0.02&lt;/li&gt;&lt;/ul&gt;&lt;/div&gt;\n",
       "                 &lt;/div&gt;`,\n",
       "                {&quot;sticky&quot;: true}\n",
       "            );\n",
       "        \n",
       "    \n",
       "            var circle_c9c49eaf6671f3b2c02dd847d1f28106 = L.circle(\n",
       "                [12.8628, 30.2176],\n",
       "                {&quot;bubblingMouseEvents&quot;: true, &quot;color&quot;: &quot;red&quot;, &quot;dashArray&quot;: null, &quot;dashOffset&quot;: null, &quot;fill&quot;: true, &quot;fillColor&quot;: &quot;indigo&quot;, &quot;fillOpacity&quot;: 0.2, &quot;fillRule&quot;: &quot;evenodd&quot;, &quot;lineCap&quot;: &quot;round&quot;, &quot;lineJoin&quot;: &quot;round&quot;, &quot;opacity&quot;: 1.0, &quot;radius&quot;: 56000.0, &quot;stroke&quot;: true, &quot;weight&quot;: 3}\n",
       "            ).addTo(map_8de725e800d35d654a5b94e5a3721265);\n",
       "        \n",
       "    \n",
       "            circle_c9c49eaf6671f3b2c02dd847d1f28106.bindTooltip(\n",
       "                `&lt;div&gt;\n",
       "                     &lt;div style=&#x27;margin: 0; background-color: black; color: white;&#x27;&gt;&lt;h4 style=&#x27;text-align:center;font-weight: bold&#x27;&gt;Sudan&lt;/h4&gt;&lt;hr style=&#x27;margin:10px;color: white;&#x27;&gt;&lt;ul style=&#x27;color: white;;list-style-type:circle;align-item:left;padding-left:20px;padding-right:20px&#x27;&gt;&lt;li&gt;Confirmed: 62240&lt;/li&gt;&lt;li&gt;Deaths:   105947&lt;/li&gt;&lt;li&gt;Death Rate: 170.22&lt;/li&gt;&lt;/ul&gt;&lt;/div&gt;\n",
       "                 &lt;/div&gt;`,\n",
       "                {&quot;sticky&quot;: true}\n",
       "            );\n",
       "        \n",
       "    \n",
       "            var circle_5fb44875000c9360739baa41e55d5247 = L.circle(\n",
       "                [35.6491, 139.7737],\n",
       "                {&quot;bubblingMouseEvents&quot;: true, &quot;color&quot;: &quot;red&quot;, &quot;dashArray&quot;: null, &quot;dashOffset&quot;: null, &quot;fill&quot;: true, &quot;fillColor&quot;: &quot;indigo&quot;, &quot;fillOpacity&quot;: 0.2, &quot;fillRule&quot;: &quot;evenodd&quot;, &quot;lineCap&quot;: &quot;round&quot;, &quot;lineJoin&quot;: &quot;round&quot;, &quot;opacity&quot;: 1.0, &quot;radius&quot;: 31000.0, &quot;stroke&quot;: true, &quot;weight&quot;: 3}\n",
       "            ).addTo(map_8de725e800d35d654a5b94e5a3721265);\n",
       "        \n",
       "    \n",
       "            circle_5fb44875000c9360739baa41e55d5247.bindTooltip(\n",
       "                `&lt;div&gt;\n",
       "                     &lt;div style=&#x27;margin: 0; background-color: black; color: white;&#x27;&gt;&lt;h4 style=&#x27;text-align:center;font-weight: bold&#x27;&gt;Summer Olympics 2020&lt;/h4&gt;&lt;hr style=&#x27;margin:10px;color: white;&#x27;&gt;&lt;ul style=&#x27;color: white;;list-style-type:circle;align-item:left;padding-left:20px;padding-right:20px&#x27;&gt;&lt;li&gt;Confirmed: 865&lt;/li&gt;&lt;li&gt;Deaths:   16513&lt;/li&gt;&lt;li&gt;Death Rate: 1906.81&lt;/li&gt;&lt;/ul&gt;&lt;/div&gt;\n",
       "                 &lt;/div&gt;`,\n",
       "                {&quot;sticky&quot;: true}\n",
       "            );\n",
       "        \n",
       "    \n",
       "            var circle_e0dd2ba7d023322916199d2af6f919b6 = L.circle(\n",
       "                [3.9193, -56.0278],\n",
       "                {&quot;bubblingMouseEvents&quot;: true, &quot;color&quot;: &quot;red&quot;, &quot;dashArray&quot;: null, &quot;dashOffset&quot;: null, &quot;fill&quot;: true, &quot;fillColor&quot;: &quot;indigo&quot;, &quot;fillOpacity&quot;: 0.2, &quot;fillRule&quot;: &quot;evenodd&quot;, &quot;lineCap&quot;: &quot;round&quot;, &quot;lineJoin&quot;: &quot;round&quot;, &quot;opacity&quot;: 1.0, &quot;radius&quot;: 56000.0, &quot;stroke&quot;: true, &quot;weight&quot;: 3}\n",
       "            ).addTo(map_8de725e800d35d654a5b94e5a3721265);\n",
       "        \n",
       "    \n",
       "            circle_e0dd2ba7d023322916199d2af6f919b6.bindTooltip(\n",
       "                `&lt;div&gt;\n",
       "                     &lt;div style=&#x27;margin: 0; background-color: black; color: white;&#x27;&gt;&lt;h4 style=&#x27;text-align:center;font-weight: bold&#x27;&gt;Suriname&lt;/h4&gt;&lt;hr style=&#x27;margin:10px;color: white;&#x27;&gt;&lt;ul style=&#x27;color: white;;list-style-type:circle;align-item:left;padding-left:20px;padding-right:20px&#x27;&gt;&lt;li&gt;Confirmed: 80416&lt;/li&gt;&lt;li&gt;Deaths:   4941&lt;/li&gt;&lt;li&gt;Death Rate: 6.14&lt;/li&gt;&lt;/ul&gt;&lt;/div&gt;\n",
       "                 &lt;/div&gt;`,\n",
       "                {&quot;sticky&quot;: true}\n",
       "            );\n",
       "        \n",
       "    \n",
       "            var circle_9d650acd6b0f617839d1ab0ae48d5523 = L.circle(\n",
       "                [60.128161, 18.643501],\n",
       "                {&quot;bubblingMouseEvents&quot;: true, &quot;color&quot;: &quot;red&quot;, &quot;dashArray&quot;: null, &quot;dashOffset&quot;: null, &quot;fill&quot;: true, &quot;fillColor&quot;: &quot;indigo&quot;, &quot;fillOpacity&quot;: 0.2, &quot;fillRule&quot;: &quot;evenodd&quot;, &quot;lineCap&quot;: &quot;round&quot;, &quot;lineJoin&quot;: &quot;round&quot;, &quot;opacity&quot;: 1.0, &quot;radius&quot;: 71000.0, &quot;stroke&quot;: true, &quot;weight&quot;: 3}\n",
       "            ).addTo(map_8de725e800d35d654a5b94e5a3721265);\n",
       "        \n",
       "    \n",
       "            circle_9d650acd6b0f617839d1ab0ae48d5523.bindTooltip(\n",
       "                `&lt;div&gt;\n",
       "                     &lt;div style=&#x27;margin: 0; background-color: black; color: white;&#x27;&gt;&lt;h4 style=&#x27;text-align:center;font-weight: bold&#x27;&gt;Sweden&lt;/h4&gt;&lt;hr style=&#x27;margin:10px;color: white;&#x27;&gt;&lt;ul style=&#x27;color: white;;list-style-type:circle;align-item:left;padding-left:20px;padding-right:20px&#x27;&gt;&lt;li&gt;Confirmed: 2506607&lt;/li&gt;&lt;li&gt;Deaths:   0&lt;/li&gt;&lt;li&gt;Death Rate: 0.0&lt;/li&gt;&lt;/ul&gt;&lt;/div&gt;\n",
       "                 &lt;/div&gt;`,\n",
       "                {&quot;sticky&quot;: true}\n",
       "            );\n",
       "        \n",
       "    \n",
       "            var circle_ee2da79ba2cc966579f9fb0627fef875 = L.circle(\n",
       "                [46.8182, 8.2275],\n",
       "                {&quot;bubblingMouseEvents&quot;: true, &quot;color&quot;: &quot;red&quot;, &quot;dashArray&quot;: null, &quot;dashOffset&quot;: null, &quot;fill&quot;: true, &quot;fillColor&quot;: &quot;indigo&quot;, &quot;fillOpacity&quot;: 0.2, &quot;fillRule&quot;: &quot;evenodd&quot;, &quot;lineCap&quot;: &quot;round&quot;, &quot;lineJoin&quot;: &quot;round&quot;, &quot;opacity&quot;: 1.0, &quot;radius&quot;: 76000.0, &quot;stroke&quot;: true, &quot;weight&quot;: 3}\n",
       "            ).addTo(map_8de725e800d35d654a5b94e5a3721265);\n",
       "        \n",
       "    \n",
       "            circle_ee2da79ba2cc966579f9fb0627fef875.bindTooltip(\n",
       "                `&lt;div&gt;\n",
       "                     &lt;div style=&#x27;margin: 0; background-color: black; color: white;&#x27;&gt;&lt;h4 style=&#x27;text-align:center;font-weight: bold&#x27;&gt;Switzerland&lt;/h4&gt;&lt;hr style=&#x27;margin:10px;color: white;&#x27;&gt;&lt;ul style=&#x27;color: white;;list-style-type:circle;align-item:left;padding-left:20px;padding-right:20px&#x27;&gt;&lt;li&gt;Confirmed: 3668054&lt;/li&gt;&lt;li&gt;Deaths:   1341&lt;/li&gt;&lt;li&gt;Death Rate: 0.04&lt;/li&gt;&lt;/ul&gt;&lt;/div&gt;\n",
       "                 &lt;/div&gt;`,\n",
       "                {&quot;sticky&quot;: true}\n",
       "            );\n",
       "        \n",
       "    \n",
       "            var circle_9a82b18a722b956abb808fe137b59acc = L.circle(\n",
       "                [34.802075, 38.996815],\n",
       "                {&quot;bubblingMouseEvents&quot;: true, &quot;color&quot;: &quot;red&quot;, &quot;dashArray&quot;: null, &quot;dashOffset&quot;: null, &quot;fill&quot;: true, &quot;fillColor&quot;: &quot;indigo&quot;, &quot;fillOpacity&quot;: 0.2, &quot;fillRule&quot;: &quot;evenodd&quot;, &quot;lineCap&quot;: &quot;round&quot;, &quot;lineJoin&quot;: &quot;round&quot;, &quot;opacity&quot;: 1.0, &quot;radius&quot;: 51000.0, &quot;stroke&quot;: true, &quot;weight&quot;: 3}\n",
       "            ).addTo(map_8de725e800d35d654a5b94e5a3721265);\n",
       "        \n",
       "    \n",
       "            circle_9a82b18a722b956abb808fe137b59acc.bindTooltip(\n",
       "                `&lt;div&gt;\n",
       "                     &lt;div style=&#x27;margin: 0; background-color: black; color: white;&#x27;&gt;&lt;h4 style=&#x27;text-align:center;font-weight: bold&#x27;&gt;Syria&lt;/h4&gt;&lt;hr style=&#x27;margin:10px;color: white;&#x27;&gt;&lt;ul style=&#x27;color: white;;list-style-type:circle;align-item:left;padding-left:20px;padding-right:20px&#x27;&gt;&lt;li&gt;Confirmed: 55880&lt;/li&gt;&lt;li&gt;Deaths:   18941&lt;/li&gt;&lt;li&gt;Death Rate: 33.9&lt;/li&gt;&lt;/ul&gt;&lt;/div&gt;\n",
       "                 &lt;/div&gt;`,\n",
       "                {&quot;sticky&quot;: true}\n",
       "            );\n",
       "        \n",
       "    \n",
       "            var circle_872dc45eb4552e32be5e28089dc9fbc8 = L.circle(\n",
       "                [23.7, 121.0],\n",
       "                {&quot;bubblingMouseEvents&quot;: true, &quot;color&quot;: &quot;red&quot;, &quot;dashArray&quot;: null, &quot;dashOffset&quot;: null, &quot;fill&quot;: true, &quot;fillColor&quot;: &quot;indigo&quot;, &quot;fillOpacity&quot;: 0.2, &quot;fillRule&quot;: &quot;evenodd&quot;, &quot;lineCap&quot;: &quot;round&quot;, &quot;lineJoin&quot;: &quot;round&quot;, &quot;opacity&quot;: 1.0, &quot;radius&quot;: 71000.0, &quot;stroke&quot;: true, &quot;weight&quot;: 3}\n",
       "            ).addTo(map_8de725e800d35d654a5b94e5a3721265);\n",
       "        \n",
       "    \n",
       "            circle_872dc45eb4552e32be5e28089dc9fbc8.bindTooltip(\n",
       "                `&lt;div&gt;\n",
       "                     &lt;div style=&#x27;margin: 0; background-color: black; color: white;&#x27;&gt;&lt;h4 style=&#x27;text-align:center;font-weight: bold&#x27;&gt;Taiwan*&lt;/h4&gt;&lt;hr style=&#x27;margin:10px;color: white;&#x27;&gt;&lt;ul style=&#x27;color: white;;list-style-type:circle;align-item:left;padding-left:20px;padding-right:20px&#x27;&gt;&lt;li&gt;Confirmed: 1469019&lt;/li&gt;&lt;li&gt;Deaths:   13791&lt;/li&gt;&lt;li&gt;Death Rate: 0.94&lt;/li&gt;&lt;/ul&gt;&lt;/div&gt;\n",
       "                 &lt;/div&gt;`,\n",
       "                {&quot;sticky&quot;: true}\n",
       "            );\n",
       "        \n",
       "    \n",
       "            var circle_934685cf87144d21bba52000db538fa0 = L.circle(\n",
       "                [38.861, 71.2761],\n",
       "                {&quot;bubblingMouseEvents&quot;: true, &quot;color&quot;: &quot;red&quot;, &quot;dashArray&quot;: null, &quot;dashOffset&quot;: null, &quot;fill&quot;: true, &quot;fillColor&quot;: &quot;indigo&quot;, &quot;fillOpacity&quot;: 0.2, &quot;fillRule&quot;: &quot;evenodd&quot;, &quot;lineCap&quot;: &quot;round&quot;, &quot;lineJoin&quot;: &quot;round&quot;, &quot;opacity&quot;: 1.0, &quot;radius&quot;: 46000.0, &quot;stroke&quot;: true, &quot;weight&quot;: 3}\n",
       "            ).addTo(map_8de725e800d35d654a5b94e5a3721265);\n",
       "        \n",
       "    \n",
       "            circle_934685cf87144d21bba52000db538fa0.bindTooltip(\n",
       "                `&lt;div&gt;\n",
       "                     &lt;div style=&#x27;margin: 0; background-color: black; color: white;&#x27;&gt;&lt;h4 style=&#x27;text-align:center;font-weight: bold&#x27;&gt;Tajikistan&lt;/h4&gt;&lt;hr style=&#x27;margin:10px;color: white;&#x27;&gt;&lt;ul style=&#x27;color: white;;list-style-type:circle;align-item:left;padding-left:20px;padding-right:20px&#x27;&gt;&lt;li&gt;Confirmed: 17786&lt;/li&gt;&lt;li&gt;Deaths:   3150&lt;/li&gt;&lt;li&gt;Death Rate: 17.71&lt;/li&gt;&lt;/ul&gt;&lt;/div&gt;\n",
       "                 &lt;/div&gt;`,\n",
       "                {&quot;sticky&quot;: true}\n",
       "            );\n",
       "        \n",
       "    \n",
       "            var circle_ac73ffcf0cd06887f89adadb9ff8dfc8 = L.circle(\n",
       "                [-6.369028, 34.888822],\n",
       "                {&quot;bubblingMouseEvents&quot;: true, &quot;color&quot;: &quot;red&quot;, &quot;dashArray&quot;: null, &quot;dashOffset&quot;: null, &quot;fill&quot;: true, &quot;fillColor&quot;: &quot;indigo&quot;, &quot;fillOpacity&quot;: 0.2, &quot;fillRule&quot;: &quot;evenodd&quot;, &quot;lineCap&quot;: &quot;round&quot;, &quot;lineJoin&quot;: &quot;round&quot;, &quot;opacity&quot;: 1.0, &quot;radius&quot;: 51000.0, &quot;stroke&quot;: true, &quot;weight&quot;: 3}\n",
       "            ).addTo(map_8de725e800d35d654a5b94e5a3721265);\n",
       "        \n",
       "    \n",
       "            circle_ac73ffcf0cd06887f89adadb9ff8dfc8.bindTooltip(\n",
       "                `&lt;div&gt;\n",
       "                     &lt;div style=&#x27;margin: 0; background-color: black; color: white;&#x27;&gt;&lt;h4 style=&#x27;text-align:center;font-weight: bold&#x27;&gt;Tanzania&lt;/h4&gt;&lt;hr style=&#x27;margin:10px;color: white;&#x27;&gt;&lt;ul style=&#x27;color: white;;list-style-type:circle;align-item:left;padding-left:20px;padding-right:20px&#x27;&gt;&lt;li&gt;Confirmed: 35354&lt;/li&gt;&lt;li&gt;Deaths:   1478&lt;/li&gt;&lt;li&gt;Death Rate: 4.18&lt;/li&gt;&lt;/ul&gt;&lt;/div&gt;\n",
       "                 &lt;/div&gt;`,\n",
       "                {&quot;sticky&quot;: true}\n",
       "            );\n",
       "        \n",
       "    \n",
       "            var circle_ace9755c661116970006e6ab71deda7f = L.circle(\n",
       "                [15.870032, 100.992541],\n",
       "                {&quot;bubblingMouseEvents&quot;: true, &quot;color&quot;: &quot;red&quot;, &quot;dashArray&quot;: null, &quot;dashOffset&quot;: null, &quot;fill&quot;: true, &quot;fillColor&quot;: &quot;indigo&quot;, &quot;fillOpacity&quot;: 0.2, &quot;fillRule&quot;: &quot;evenodd&quot;, &quot;lineCap&quot;: &quot;round&quot;, &quot;lineJoin&quot;: &quot;round&quot;, &quot;opacity&quot;: 1.0, &quot;radius&quot;: 76000.0, &quot;stroke&quot;: true, &quot;weight&quot;: 3}\n",
       "            ).addTo(map_8de725e800d35d654a5b94e5a3721265);\n",
       "        \n",
       "    \n",
       "            circle_ace9755c661116970006e6ab71deda7f.bindTooltip(\n",
       "                `&lt;div&gt;\n",
       "                     &lt;div style=&#x27;margin: 0; background-color: black; color: white;&#x27;&gt;&lt;h4 style=&#x27;text-align:center;font-weight: bold&#x27;&gt;Thailand&lt;/h4&gt;&lt;hr style=&#x27;margin:10px;color: white;&#x27;&gt;&lt;ul style=&#x27;color: white;;list-style-type:circle;align-item:left;padding-left:20px;padding-right:20px&#x27;&gt;&lt;li&gt;Confirmed: 4424750&lt;/li&gt;&lt;li&gt;Deaths:   125&lt;/li&gt;&lt;li&gt;Death Rate: 0.0&lt;/li&gt;&lt;/ul&gt;&lt;/div&gt;\n",
       "                 &lt;/div&gt;`,\n",
       "                {&quot;sticky&quot;: true}\n",
       "            );\n",
       "        \n",
       "    \n",
       "            var circle_83a287ba6b8f9f08fcc12cc231f98f90 = L.circle(\n",
       "                [-8.874217, 125.727539],\n",
       "                {&quot;bubblingMouseEvents&quot;: true, &quot;color&quot;: &quot;red&quot;, &quot;dashArray&quot;: null, &quot;dashOffset&quot;: null, &quot;fill&quot;: true, &quot;fillColor&quot;: &quot;indigo&quot;, &quot;fillOpacity&quot;: 0.2, &quot;fillRule&quot;: &quot;evenodd&quot;, &quot;lineCap&quot;: &quot;round&quot;, &quot;lineJoin&quot;: &quot;round&quot;, &quot;opacity&quot;: 1.0, &quot;radius&quot;: 51000.0, &quot;stroke&quot;: true, &quot;weight&quot;: 3}\n",
       "            ).addTo(map_8de725e800d35d654a5b94e5a3721265);\n",
       "        \n",
       "    \n",
       "            circle_83a287ba6b8f9f08fcc12cc231f98f90.bindTooltip(\n",
       "                `&lt;div&gt;\n",
       "                     &lt;div style=&#x27;margin: 0; background-color: black; color: white;&#x27;&gt;&lt;h4 style=&#x27;text-align:center;font-weight: bold&#x27;&gt;Timor-Leste&lt;/h4&gt;&lt;hr style=&#x27;margin:10px;color: white;&#x27;&gt;&lt;ul style=&#x27;color: white;;list-style-type:circle;align-item:left;padding-left:20px;padding-right:20px&#x27;&gt;&lt;li&gt;Confirmed: 22896&lt;/li&gt;&lt;li&gt;Deaths:   840&lt;/li&gt;&lt;li&gt;Death Rate: 3.67&lt;/li&gt;&lt;/ul&gt;&lt;/div&gt;\n",
       "                 &lt;/div&gt;`,\n",
       "                {&quot;sticky&quot;: true}\n",
       "            );\n",
       "        \n",
       "    \n",
       "            var circle_ab081f1d377ffe12336ba3d0eb42095e = L.circle(\n",
       "                [8.6195, 0.8248],\n",
       "                {&quot;bubblingMouseEvents&quot;: true, &quot;color&quot;: &quot;red&quot;, &quot;dashArray&quot;: null, &quot;dashOffset&quot;: null, &quot;fill&quot;: true, &quot;fillColor&quot;: &quot;indigo&quot;, &quot;fillOpacity&quot;: 0.2, &quot;fillRule&quot;: &quot;evenodd&quot;, &quot;lineCap&quot;: &quot;round&quot;, &quot;lineJoin&quot;: &quot;round&quot;, &quot;opacity&quot;: 1.0, &quot;radius&quot;: 51000.0, &quot;stroke&quot;: true, &quot;weight&quot;: 3}\n",
       "            ).addTo(map_8de725e800d35d654a5b94e5a3721265);\n",
       "        \n",
       "    \n",
       "            circle_ab081f1d377ffe12336ba3d0eb42095e.bindTooltip(\n",
       "                `&lt;div&gt;\n",
       "                     &lt;div style=&#x27;margin: 0; background-color: black; color: white;&#x27;&gt;&lt;h4 style=&#x27;text-align:center;font-weight: bold&#x27;&gt;Togo&lt;/h4&gt;&lt;hr style=&#x27;margin:10px;color: white;&#x27;&gt;&lt;ul style=&#x27;color: white;;list-style-type:circle;align-item:left;padding-left:20px;padding-right:20px&#x27;&gt;&lt;li&gt;Confirmed: 37062&lt;/li&gt;&lt;li&gt;Deaths:   29844&lt;/li&gt;&lt;li&gt;Death Rate: 80.52&lt;/li&gt;&lt;/ul&gt;&lt;/div&gt;\n",
       "                 &lt;/div&gt;`,\n",
       "                {&quot;sticky&quot;: true}\n",
       "            );\n",
       "        \n",
       "    \n",
       "            var circle_c467e682709c3459725303308f9cbc1c = L.circle(\n",
       "                [-21.179, -175.1982],\n",
       "                {&quot;bubblingMouseEvents&quot;: true, &quot;color&quot;: &quot;red&quot;, &quot;dashArray&quot;: null, &quot;dashOffset&quot;: null, &quot;fill&quot;: true, &quot;fillColor&quot;: &quot;indigo&quot;, &quot;fillOpacity&quot;: 0.2, &quot;fillRule&quot;: &quot;evenodd&quot;, &quot;lineCap&quot;: &quot;round&quot;, &quot;lineJoin&quot;: &quot;round&quot;, &quot;opacity&quot;: 1.0, &quot;radius&quot;: 46000.0, &quot;stroke&quot;: true, &quot;weight&quot;: 3}\n",
       "            ).addTo(map_8de725e800d35d654a5b94e5a3721265);\n",
       "        \n",
       "    \n",
       "            circle_c467e682709c3459725303308f9cbc1c.bindTooltip(\n",
       "                `&lt;div&gt;\n",
       "                     &lt;div style=&#x27;margin: 0; background-color: black; color: white;&#x27;&gt;&lt;h4 style=&#x27;text-align:center;font-weight: bold&#x27;&gt;Tonga&lt;/h4&gt;&lt;hr style=&#x27;margin:10px;color: white;&#x27;&gt;&lt;ul style=&#x27;color: white;;list-style-type:circle;align-item:left;padding-left:20px;padding-right:20px&#x27;&gt;&lt;li&gt;Confirmed: 11500&lt;/li&gt;&lt;li&gt;Deaths:   131&lt;/li&gt;&lt;li&gt;Death Rate: 1.14&lt;/li&gt;&lt;/ul&gt;&lt;/div&gt;\n",
       "                 &lt;/div&gt;`,\n",
       "                {&quot;sticky&quot;: true}\n",
       "            );\n",
       "        \n",
       "    \n",
       "            var circle_a8cd70904333fb9f1beb2aa1438a12e0 = L.circle(\n",
       "                [10.6918, -61.2225],\n",
       "                {&quot;bubblingMouseEvents&quot;: true, &quot;color&quot;: &quot;red&quot;, &quot;dashArray&quot;: null, &quot;dashOffset&quot;: null, &quot;fill&quot;: true, &quot;fillColor&quot;: &quot;indigo&quot;, &quot;fillOpacity&quot;: 0.2, &quot;fillRule&quot;: &quot;evenodd&quot;, &quot;lineCap&quot;: &quot;round&quot;, &quot;lineJoin&quot;: &quot;round&quot;, &quot;opacity&quot;: 1.0, &quot;radius&quot;: 56000.0, &quot;stroke&quot;: true, &quot;weight&quot;: 3}\n",
       "            ).addTo(map_8de725e800d35d654a5b94e5a3721265);\n",
       "        \n",
       "    \n",
       "            circle_a8cd70904333fb9f1beb2aa1438a12e0.bindTooltip(\n",
       "                `&lt;div&gt;\n",
       "                     &lt;div style=&#x27;margin: 0; background-color: black; color: white;&#x27;&gt;&lt;h4 style=&#x27;text-align:center;font-weight: bold&#x27;&gt;Trinidad and Tobago&lt;/h4&gt;&lt;hr style=&#x27;margin:10px;color: white;&#x27;&gt;&lt;ul style=&#x27;color: white;;list-style-type:circle;align-item:left;padding-left:20px;padding-right:20px&#x27;&gt;&lt;li&gt;Confirmed: 159344&lt;/li&gt;&lt;li&gt;Deaths:   273&lt;/li&gt;&lt;li&gt;Death Rate: 0.17&lt;/li&gt;&lt;/ul&gt;&lt;/div&gt;\n",
       "                 &lt;/div&gt;`,\n",
       "                {&quot;sticky&quot;: true}\n",
       "            );\n",
       "        \n",
       "    \n",
       "            var circle_65cc2cce8c2b4c0b17611a5711337a6a = L.circle(\n",
       "                [33.886917, 9.537499],\n",
       "                {&quot;bubblingMouseEvents&quot;: true, &quot;color&quot;: &quot;red&quot;, &quot;dashArray&quot;: null, &quot;dashOffset&quot;: null, &quot;fill&quot;: true, &quot;fillColor&quot;: &quot;indigo&quot;, &quot;fillOpacity&quot;: 0.2, &quot;fillRule&quot;: &quot;evenodd&quot;, &quot;lineCap&quot;: &quot;round&quot;, &quot;lineJoin&quot;: &quot;round&quot;, &quot;opacity&quot;: 1.0, &quot;radius&quot;: 66000.0, &quot;stroke&quot;: true, &quot;weight&quot;: 3}\n",
       "            ).addTo(map_8de725e800d35d654a5b94e5a3721265);\n",
       "        \n",
       "    \n",
       "            circle_65cc2cce8c2b4c0b17611a5711337a6a.bindTooltip(\n",
       "                `&lt;div&gt;\n",
       "                     &lt;div style=&#x27;margin: 0; background-color: black; color: white;&#x27;&gt;&lt;h4 style=&#x27;text-align:center;font-weight: bold&#x27;&gt;Tunisia&lt;/h4&gt;&lt;hr style=&#x27;margin:10px;color: white;&#x27;&gt;&lt;ul style=&#x27;color: white;;list-style-type:circle;align-item:left;padding-left:20px;padding-right:20px&#x27;&gt;&lt;li&gt;Confirmed: 1042362&lt;/li&gt;&lt;li&gt;Deaths:   11&lt;/li&gt;&lt;li&gt;Death Rate: 0.0&lt;/li&gt;&lt;/ul&gt;&lt;/div&gt;\n",
       "                 &lt;/div&gt;`,\n",
       "                {&quot;sticky&quot;: true}\n",
       "            );\n",
       "        \n",
       "    \n",
       "            var circle_db1615145a6f588936bcae5091440f23 = L.circle(\n",
       "                [38.9637, 35.2433],\n",
       "                {&quot;bubblingMouseEvents&quot;: true, &quot;color&quot;: &quot;red&quot;, &quot;dashArray&quot;: null, &quot;dashOffset&quot;: null, &quot;fill&quot;: true, &quot;fillColor&quot;: &quot;indigo&quot;, &quot;fillOpacity&quot;: 0.2, &quot;fillRule&quot;: &quot;evenodd&quot;, &quot;lineCap&quot;: &quot;round&quot;, &quot;lineJoin&quot;: &quot;round&quot;, &quot;opacity&quot;: 1.0, &quot;radius&quot;: 81000.0, &quot;stroke&quot;: true, &quot;weight&quot;: 3}\n",
       "            ).addTo(map_8de725e800d35d654a5b94e5a3721265);\n",
       "        \n",
       "    \n",
       "            circle_db1615145a6f588936bcae5091440f23.bindTooltip(\n",
       "                `&lt;div&gt;\n",
       "                     &lt;div style=&#x27;margin: 0; background-color: black; color: white;&#x27;&gt;&lt;h4 style=&#x27;text-align:center;font-weight: bold&#x27;&gt;Turkey&lt;/h4&gt;&lt;hr style=&#x27;margin:10px;color: white;&#x27;&gt;&lt;ul style=&#x27;color: white;;list-style-type:circle;align-item:left;padding-left:20px;padding-right:20px&#x27;&gt;&lt;li&gt;Confirmed: 15065524&lt;/li&gt;&lt;li&gt;Deaths:   3896&lt;/li&gt;&lt;li&gt;Death Rate: 0.03&lt;/li&gt;&lt;/ul&gt;&lt;/div&gt;\n",
       "                 &lt;/div&gt;`,\n",
       "                {&quot;sticky&quot;: true}\n",
       "            );\n",
       "        \n",
       "    \n",
       "            var circle_4ea65ed4805597888c9e8231421e5ae8 = L.circle(\n",
       "                [40.0, -100.0],\n",
       "                {&quot;bubblingMouseEvents&quot;: true, &quot;color&quot;: &quot;red&quot;, &quot;dashArray&quot;: null, &quot;dashOffset&quot;: null, &quot;fill&quot;: true, &quot;fillColor&quot;: &quot;indigo&quot;, &quot;fillOpacity&quot;: 0.2, &quot;fillRule&quot;: &quot;evenodd&quot;, &quot;lineCap&quot;: &quot;round&quot;, &quot;lineJoin&quot;: &quot;round&quot;, &quot;opacity&quot;: 1.0, &quot;radius&quot;: 91000.0, &quot;stroke&quot;: true, &quot;weight&quot;: 3}\n",
       "            ).addTo(map_8de725e800d35d654a5b94e5a3721265);\n",
       "        \n",
       "    \n",
       "            circle_4ea65ed4805597888c9e8231421e5ae8.bindTooltip(\n",
       "                `&lt;div&gt;\n",
       "                     &lt;div style=&#x27;margin: 0; background-color: black; color: white;&#x27;&gt;&lt;h4 style=&#x27;text-align:center;font-weight: bold&#x27;&gt;US&lt;/h4&gt;&lt;hr style=&#x27;margin:10px;color: white;&#x27;&gt;&lt;ul style=&#x27;color: white;;list-style-type:circle;align-item:left;padding-left:20px;padding-right:20px&#x27;&gt;&lt;li&gt;Confirmed: 83501457&lt;/li&gt;&lt;li&gt;Deaths:   28632&lt;/li&gt;&lt;li&gt;Death Rate: 0.03&lt;/li&gt;&lt;/ul&gt;&lt;/div&gt;\n",
       "                 &lt;/div&gt;`,\n",
       "                {&quot;sticky&quot;: true}\n",
       "            );\n",
       "        \n",
       "    \n",
       "            var circle_5f6eec1d3e843feded2f65852cb87337 = L.circle(\n",
       "                [1.373333, 32.290275],\n",
       "                {&quot;bubblingMouseEvents&quot;: true, &quot;color&quot;: &quot;red&quot;, &quot;dashArray&quot;: null, &quot;dashOffset&quot;: null, &quot;fill&quot;: true, &quot;fillColor&quot;: &quot;indigo&quot;, &quot;fillOpacity&quot;: 0.2, &quot;fillRule&quot;: &quot;evenodd&quot;, &quot;lineCap&quot;: &quot;round&quot;, &quot;lineJoin&quot;: &quot;round&quot;, &quot;opacity&quot;: 1.0, &quot;radius&quot;: 61000.0, &quot;stroke&quot;: true, &quot;weight&quot;: 3}\n",
       "            ).addTo(map_8de725e800d35d654a5b94e5a3721265);\n",
       "        \n",
       "    \n",
       "            circle_5f6eec1d3e843feded2f65852cb87337.bindTooltip(\n",
       "                `&lt;div&gt;\n",
       "                     &lt;div style=&#x27;margin: 0; background-color: black; color: white;&#x27;&gt;&lt;h4 style=&#x27;text-align:center;font-weight: bold&#x27;&gt;Uganda&lt;/h4&gt;&lt;hr style=&#x27;margin:10px;color: white;&#x27;&gt;&lt;ul style=&#x27;color: white;;list-style-type:circle;align-item:left;padding-left:20px;padding-right:20px&#x27;&gt;&lt;li&gt;Confirmed: 164331&lt;/li&gt;&lt;li&gt;Deaths:   98939&lt;/li&gt;&lt;li&gt;Death Rate: 60.21&lt;/li&gt;&lt;/ul&gt;&lt;/div&gt;\n",
       "                 &lt;/div&gt;`,\n",
       "                {&quot;sticky&quot;: true}\n",
       "            );\n",
       "        \n",
       "    \n",
       "            var circle_7ec0bcc4a014cce0315def46122d9f47 = L.circle(\n",
       "                [48.3794, 31.1656],\n",
       "                {&quot;bubblingMouseEvents&quot;: true, &quot;color&quot;: &quot;red&quot;, &quot;dashArray&quot;: null, &quot;dashOffset&quot;: null, &quot;fill&quot;: true, &quot;fillColor&quot;: &quot;indigo&quot;, &quot;fillOpacity&quot;: 0.2, &quot;fillRule&quot;: &quot;evenodd&quot;, &quot;lineCap&quot;: &quot;round&quot;, &quot;lineJoin&quot;: &quot;round&quot;, &quot;opacity&quot;: 1.0, &quot;radius&quot;: 76000.0, &quot;stroke&quot;: true, &quot;weight&quot;: 3}\n",
       "            ).addTo(map_8de725e800d35d654a5b94e5a3721265);\n",
       "        \n",
       "    \n",
       "            circle_7ec0bcc4a014cce0315def46122d9f47.bindTooltip(\n",
       "                `&lt;div&gt;\n",
       "                     &lt;div style=&#x27;margin: 0; background-color: black; color: white;&#x27;&gt;&lt;h4 style=&#x27;text-align:center;font-weight: bold&#x27;&gt;Ukraine&lt;/h4&gt;&lt;hr style=&#x27;margin:10px;color: white;&#x27;&gt;&lt;ul style=&#x27;color: white;;list-style-type:circle;align-item:left;padding-left:20px;padding-right:20px&#x27;&gt;&lt;li&gt;Confirmed: 5040518&lt;/li&gt;&lt;li&gt;Deaths:   1002726&lt;/li&gt;&lt;li&gt;Death Rate: 19.89&lt;/li&gt;&lt;/ul&gt;&lt;/div&gt;\n",
       "                 &lt;/div&gt;`,\n",
       "                {&quot;sticky&quot;: true}\n",
       "            );\n",
       "        \n",
       "    \n",
       "            var circle_80cc8028e990dd675f852a143e2f847f = L.circle(\n",
       "                [23.424076, 53.847818],\n",
       "                {&quot;bubblingMouseEvents&quot;: true, &quot;color&quot;: &quot;red&quot;, &quot;dashArray&quot;: null, &quot;dashOffset&quot;: null, &quot;fill&quot;: true, &quot;fillColor&quot;: &quot;indigo&quot;, &quot;fillOpacity&quot;: 0.2, &quot;fillRule&quot;: &quot;evenodd&quot;, &quot;lineCap&quot;: &quot;round&quot;, &quot;lineJoin&quot;: &quot;round&quot;, &quot;opacity&quot;: 1.0, &quot;radius&quot;: 66000.0, &quot;stroke&quot;: true, &quot;weight&quot;: 3}\n",
       "            ).addTo(map_8de725e800d35d654a5b94e5a3721265);\n",
       "        \n",
       "    \n",
       "            circle_80cc8028e990dd675f852a143e2f847f.bindTooltip(\n",
       "                `&lt;div&gt;\n",
       "                     &lt;div style=&#x27;margin: 0; background-color: black; color: white;&#x27;&gt;&lt;h4 style=&#x27;text-align:center;font-weight: bold&#x27;&gt;United Arab Emirates&lt;/h4&gt;&lt;hr style=&#x27;margin:10px;color: white;&#x27;&gt;&lt;ul style=&#x27;color: white;;list-style-type:circle;align-item:left;padding-left:20px;padding-right:20px&#x27;&gt;&lt;li&gt;Confirmed: 905468&lt;/li&gt;&lt;li&gt;Deaths:   3600&lt;/li&gt;&lt;li&gt;Death Rate: 0.4&lt;/li&gt;&lt;/ul&gt;&lt;/div&gt;\n",
       "                 &lt;/div&gt;`,\n",
       "                {&quot;sticky&quot;: true}\n",
       "            );\n",
       "        \n",
       "    \n",
       "            var circle_51dde07e76eff152275406212c2be00d = L.circle(\n",
       "                [18.2206, -63.0686],\n",
       "                {&quot;bubblingMouseEvents&quot;: true, &quot;color&quot;: &quot;red&quot;, &quot;dashArray&quot;: null, &quot;dashOffset&quot;: null, &quot;fill&quot;: true, &quot;fillColor&quot;: &quot;indigo&quot;, &quot;fillOpacity&quot;: 0.2, &quot;fillRule&quot;: &quot;evenodd&quot;, &quot;lineCap&quot;: &quot;round&quot;, &quot;lineJoin&quot;: &quot;round&quot;, &quot;opacity&quot;: 1.0, &quot;radius&quot;: 41000.0, &quot;stroke&quot;: true, &quot;weight&quot;: 3}\n",
       "            ).addTo(map_8de725e800d35d654a5b94e5a3721265);\n",
       "        \n",
       "    \n",
       "            circle_51dde07e76eff152275406212c2be00d.bindTooltip(\n",
       "                `&lt;div&gt;\n",
       "                     &lt;div style=&#x27;margin: 0; background-color: black; color: white;&#x27;&gt;&lt;h4 style=&#x27;text-align:center;font-weight: bold&#x27;&gt;United Kingdom&lt;/h4&gt;&lt;hr style=&#x27;margin:10px;color: white;&#x27;&gt;&lt;ul style=&#x27;color: white;;list-style-type:circle;align-item:left;padding-left:20px;padding-right:20px&#x27;&gt;&lt;li&gt;Confirmed: 3203&lt;/li&gt;&lt;li&gt;Deaths:   112459&lt;/li&gt;&lt;li&gt;Death Rate: 3509.96&lt;/li&gt;&lt;/ul&gt;&lt;/div&gt;\n",
       "                 &lt;/div&gt;`,\n",
       "                {&quot;sticky&quot;: true}\n",
       "            );\n",
       "        \n",
       "    \n",
       "            var circle_d90e1fd082049e67a3f7ad29e80a23f1 = L.circle(\n",
       "                [32.3078, -64.7505],\n",
       "                {&quot;bubblingMouseEvents&quot;: true, &quot;color&quot;: &quot;red&quot;, &quot;dashArray&quot;: null, &quot;dashOffset&quot;: null, &quot;fill&quot;: true, &quot;fillColor&quot;: &quot;indigo&quot;, &quot;fillOpacity&quot;: 0.2, &quot;fillRule&quot;: &quot;evenodd&quot;, &quot;lineCap&quot;: &quot;round&quot;, &quot;lineJoin&quot;: &quot;round&quot;, &quot;opacity&quot;: 1.0, &quot;radius&quot;: 46000.0, &quot;stroke&quot;: true, &quot;weight&quot;: 3}\n",
       "            ).addTo(map_8de725e800d35d654a5b94e5a3721265);\n",
       "        \n",
       "    \n",
       "            circle_d90e1fd082049e67a3f7ad29e80a23f1.bindTooltip(\n",
       "                `&lt;div&gt;\n",
       "                     &lt;div style=&#x27;margin: 0; background-color: black; color: white;&#x27;&gt;&lt;h4 style=&#x27;text-align:center;font-weight: bold&#x27;&gt;United Kingdom&lt;/h4&gt;&lt;hr style=&#x27;margin:10px;color: white;&#x27;&gt;&lt;ul style=&#x27;color: white;;list-style-type:circle;align-item:left;padding-left:20px;padding-right:20px&#x27;&gt;&lt;li&gt;Confirmed: 14442&lt;/li&gt;&lt;li&gt;Deaths:   2302&lt;/li&gt;&lt;li&gt;Death Rate: 15.94&lt;/li&gt;&lt;/ul&gt;&lt;/div&gt;\n",
       "                 &lt;/div&gt;`,\n",
       "                {&quot;sticky&quot;: true}\n",
       "            );\n",
       "        \n",
       "    \n",
       "            var circle_51b7df81eb4246e4bc886d56aea607ac = L.circle(\n",
       "                [18.4207, -64.64],\n",
       "                {&quot;bubblingMouseEvents&quot;: true, &quot;color&quot;: &quot;red&quot;, &quot;dashArray&quot;: null, &quot;dashOffset&quot;: null, &quot;fill&quot;: true, &quot;fillColor&quot;: &quot;indigo&quot;, &quot;fillOpacity&quot;: 0.2, &quot;fillRule&quot;: &quot;evenodd&quot;, &quot;lineCap&quot;: &quot;round&quot;, &quot;lineJoin&quot;: &quot;round&quot;, &quot;opacity&quot;: 1.0, &quot;radius&quot;: 41000.0, &quot;stroke&quot;: true, &quot;weight&quot;: 3}\n",
       "            ).addTo(map_8de725e800d35d654a5b94e5a3721265);\n",
       "        \n",
       "    \n",
       "            circle_51b7df81eb4246e4bc886d56aea607ac.bindTooltip(\n",
       "                `&lt;div&gt;\n",
       "                     &lt;div style=&#x27;margin: 0; background-color: black; color: white;&#x27;&gt;&lt;h4 style=&#x27;text-align:center;font-weight: bold&#x27;&gt;United Kingdom&lt;/h4&gt;&lt;hr style=&#x27;margin:10px;color: white;&#x27;&gt;&lt;ul style=&#x27;color: white;;list-style-type:circle;align-item:left;padding-left:20px;padding-right:20px&#x27;&gt;&lt;li&gt;Confirmed: 6690&lt;/li&gt;&lt;li&gt;Deaths:   9&lt;/li&gt;&lt;li&gt;Death Rate: 0.13&lt;/li&gt;&lt;/ul&gt;&lt;/div&gt;\n",
       "                 &lt;/div&gt;`,\n",
       "                {&quot;sticky&quot;: true}\n",
       "            );\n",
       "        \n",
       "    \n",
       "            var circle_184e1b40f8740c69b18556ee60b7a7d9 = L.circle(\n",
       "                [19.3133, -81.2546],\n",
       "                {&quot;bubblingMouseEvents&quot;: true, &quot;color&quot;: &quot;red&quot;, &quot;dashArray&quot;: null, &quot;dashOffset&quot;: null, &quot;fill&quot;: true, &quot;fillColor&quot;: &quot;indigo&quot;, &quot;fillOpacity&quot;: 0.2, &quot;fillRule&quot;: &quot;evenodd&quot;, &quot;lineCap&quot;: &quot;round&quot;, &quot;lineJoin&quot;: &quot;round&quot;, &quot;opacity&quot;: 1.0, &quot;radius&quot;: 51000.0, &quot;stroke&quot;: true, &quot;weight&quot;: 3}\n",
       "            ).addTo(map_8de725e800d35d654a5b94e5a3721265);\n",
       "        \n",
       "    \n",
       "            circle_184e1b40f8740c69b18556ee60b7a7d9.bindTooltip(\n",
       "                `&lt;div&gt;\n",
       "                     &lt;div style=&#x27;margin: 0; background-color: black; color: white;&#x27;&gt;&lt;h4 style=&#x27;text-align:center;font-weight: bold&#x27;&gt;United Kingdom&lt;/h4&gt;&lt;hr style=&#x27;margin:10px;color: white;&#x27;&gt;&lt;ul style=&#x27;color: white;;list-style-type:circle;align-item:left;padding-left:20px;padding-right:20px&#x27;&gt;&lt;li&gt;Confirmed: 24477&lt;/li&gt;&lt;li&gt;Deaths:   137&lt;/li&gt;&lt;li&gt;Death Rate: 0.56&lt;/li&gt;&lt;/ul&gt;&lt;/div&gt;\n",
       "                 &lt;/div&gt;`,\n",
       "                {&quot;sticky&quot;: true}\n",
       "            );\n",
       "        \n",
       "    \n",
       "            var circle_f899a18e17335cc0fbc293ddb33ed14b = L.circle(\n",
       "                [49.3723, -2.3644],\n",
       "                {&quot;bubblingMouseEvents&quot;: true, &quot;color&quot;: &quot;red&quot;, &quot;dashArray&quot;: null, &quot;dashOffset&quot;: null, &quot;fill&quot;: true, &quot;fillColor&quot;: &quot;indigo&quot;, &quot;fillOpacity&quot;: 0.2, &quot;fillRule&quot;: &quot;evenodd&quot;, &quot;lineCap&quot;: &quot;round&quot;, &quot;lineJoin&quot;: &quot;round&quot;, &quot;opacity&quot;: 1.0, &quot;radius&quot;: 1000.0, &quot;stroke&quot;: true, &quot;weight&quot;: 3}\n",
       "            ).addTo(map_8de725e800d35d654a5b94e5a3721265);\n",
       "        \n",
       "    \n",
       "            circle_f899a18e17335cc0fbc293ddb33ed14b.bindTooltip(\n",
       "                `&lt;div&gt;\n",
       "                     &lt;div style=&#x27;margin: 0; background-color: black; color: white;&#x27;&gt;&lt;h4 style=&#x27;text-align:center;font-weight: bold&#x27;&gt;United Kingdom&lt;/h4&gt;&lt;hr style=&#x27;margin:10px;color: white;&#x27;&gt;&lt;ul style=&#x27;color: white;;list-style-type:circle;align-item:left;padding-left:20px;padding-right:20px&#x27;&gt;&lt;li&gt;Confirmed: 0&lt;/li&gt;&lt;li&gt;Deaths:   62&lt;/li&gt;&lt;li&gt;Death Rate: 6199.94&lt;/li&gt;&lt;/ul&gt;&lt;/div&gt;\n",
       "                 &lt;/div&gt;`,\n",
       "                {&quot;sticky&quot;: true}\n",
       "            );\n",
       "        \n",
       "    \n",
       "            var circle_0569df157d998b2e2b0f4f1cf3ea5df7 = L.circle(\n",
       "                [-51.7963, -59.5236],\n",
       "                {&quot;bubblingMouseEvents&quot;: true, &quot;color&quot;: &quot;red&quot;, &quot;dashArray&quot;: null, &quot;dashOffset&quot;: null, &quot;fill&quot;: true, &quot;fillColor&quot;: &quot;indigo&quot;, &quot;fillOpacity&quot;: 0.2, &quot;fillRule&quot;: &quot;evenodd&quot;, &quot;lineCap&quot;: &quot;round&quot;, &quot;lineJoin&quot;: &quot;round&quot;, &quot;opacity&quot;: 1.0, &quot;radius&quot;: 36000.0, &quot;stroke&quot;: true, &quot;weight&quot;: 3}\n",
       "            ).addTo(map_8de725e800d35d654a5b94e5a3721265);\n",
       "        \n",
       "    \n",
       "            circle_0569df157d998b2e2b0f4f1cf3ea5df7.bindTooltip(\n",
       "                `&lt;div&gt;\n",
       "                     &lt;div style=&#x27;margin: 0; background-color: black; color: white;&#x27;&gt;&lt;h4 style=&#x27;text-align:center;font-weight: bold&#x27;&gt;United Kingdom&lt;/h4&gt;&lt;hr style=&#x27;margin:10px;color: white;&#x27;&gt;&lt;ul style=&#x27;color: white;;list-style-type:circle;align-item:left;padding-left:20px;padding-right:20px&#x27;&gt;&lt;li&gt;Confirmed: 1608&lt;/li&gt;&lt;li&gt;Deaths:   28&lt;/li&gt;&lt;li&gt;Death Rate: 1.74&lt;/li&gt;&lt;/ul&gt;&lt;/div&gt;\n",
       "                 &lt;/div&gt;`,\n",
       "                {&quot;sticky&quot;: true}\n",
       "            );\n",
       "        \n",
       "    \n",
       "            var circle_6e3ec6d5dba5a6b22a2e2b1c0e5fc6a8 = L.circle(\n",
       "                [36.1408, -5.3536],\n",
       "                {&quot;bubblingMouseEvents&quot;: true, &quot;color&quot;: &quot;red&quot;, &quot;dashArray&quot;: null, &quot;dashOffset&quot;: null, &quot;fill&quot;: true, &quot;fillColor&quot;: &quot;indigo&quot;, &quot;fillOpacity&quot;: 0.2, &quot;fillRule&quot;: &quot;evenodd&quot;, &quot;lineCap&quot;: &quot;round&quot;, &quot;lineJoin&quot;: &quot;round&quot;, &quot;opacity&quot;: 1.0, &quot;radius&quot;: 46000.0, &quot;stroke&quot;: true, &quot;weight&quot;: 3}\n",
       "            ).addTo(map_8de725e800d35d654a5b94e5a3721265);\n",
       "        \n",
       "    \n",
       "            circle_6e3ec6d5dba5a6b22a2e2b1c0e5fc6a8.bindTooltip(\n",
       "                `&lt;div&gt;\n",
       "                     &lt;div style=&#x27;margin: 0; background-color: black; color: white;&#x27;&gt;&lt;h4 style=&#x27;text-align:center;font-weight: bold&#x27;&gt;United Kingdom&lt;/h4&gt;&lt;hr style=&#x27;margin:10px;color: white;&#x27;&gt;&lt;ul style=&#x27;color: white;;list-style-type:circle;align-item:left;padding-left:20px;padding-right:20px&#x27;&gt;&lt;li&gt;Confirmed: 18273&lt;/li&gt;&lt;li&gt;Deaths:   0&lt;/li&gt;&lt;li&gt;Death Rate: 0.0&lt;/li&gt;&lt;/ul&gt;&lt;/div&gt;\n",
       "                 &lt;/div&gt;`,\n",
       "                {&quot;sticky&quot;: true}\n",
       "            );\n",
       "        \n",
       "    \n",
       "            var circle_2110eb131e214a92c12efacee8e729c3 = L.circle(\n",
       "                [49.448196, -2.58949],\n",
       "                {&quot;bubblingMouseEvents&quot;: true, &quot;color&quot;: &quot;red&quot;, &quot;dashArray&quot;: null, &quot;dashOffset&quot;: null, &quot;fill&quot;: true, &quot;fillColor&quot;: &quot;indigo&quot;, &quot;fillOpacity&quot;: 0.2, &quot;fillRule&quot;: &quot;evenodd&quot;, &quot;lineCap&quot;: &quot;round&quot;, &quot;lineJoin&quot;: &quot;round&quot;, &quot;opacity&quot;: 1.0, &quot;radius&quot;: 51000.0, &quot;stroke&quot;: true, &quot;weight&quot;: 3}\n",
       "            ).addTo(map_8de725e800d35d654a5b94e5a3721265);\n",
       "        \n",
       "    \n",
       "            circle_2110eb131e214a92c12efacee8e729c3.bindTooltip(\n",
       "                `&lt;div&gt;\n",
       "                     &lt;div style=&#x27;margin: 0; background-color: black; color: white;&#x27;&gt;&lt;h4 style=&#x27;text-align:center;font-weight: bold&#x27;&gt;United Kingdom&lt;/h4&gt;&lt;hr style=&#x27;margin:10px;color: white;&#x27;&gt;&lt;ul style=&#x27;color: white;;list-style-type:circle;align-item:left;padding-left:20px;padding-right:20px&#x27;&gt;&lt;li&gt;Confirmed: 25328&lt;/li&gt;&lt;li&gt;Deaths:   0&lt;/li&gt;&lt;li&gt;Death Rate: 0.0&lt;/li&gt;&lt;/ul&gt;&lt;/div&gt;\n",
       "                 &lt;/div&gt;`,\n",
       "                {&quot;sticky&quot;: true}\n",
       "            );\n",
       "        \n",
       "    \n",
       "            var circle_1828b1d3bb9f3fab910c2befdcc3b7b9 = L.circle(\n",
       "                [54.2361, -4.5481],\n",
       "                {&quot;bubblingMouseEvents&quot;: true, &quot;color&quot;: &quot;red&quot;, &quot;dashArray&quot;: null, &quot;dashOffset&quot;: null, &quot;fill&quot;: true, &quot;fillColor&quot;: &quot;indigo&quot;, &quot;fillOpacity&quot;: 0.2, &quot;fillRule&quot;: &quot;evenodd&quot;, &quot;lineCap&quot;: &quot;round&quot;, &quot;lineJoin&quot;: &quot;round&quot;, &quot;opacity&quot;: 1.0, &quot;radius&quot;: 51000.0, &quot;stroke&quot;: true, &quot;weight&quot;: 3}\n",
       "            ).addTo(map_8de725e800d35d654a5b94e5a3721265);\n",
       "        \n",
       "    \n",
       "            circle_1828b1d3bb9f3fab910c2befdcc3b7b9.bindTooltip(\n",
       "                `&lt;div&gt;\n",
       "                     &lt;div style=&#x27;margin: 0; background-color: black; color: white;&#x27;&gt;&lt;h4 style=&#x27;text-align:center;font-weight: bold&#x27;&gt;United Kingdom&lt;/h4&gt;&lt;hr style=&#x27;margin:10px;color: white;&#x27;&gt;&lt;ul style=&#x27;color: white;;list-style-type:circle;align-item:left;padding-left:20px;padding-right:20px&#x27;&gt;&lt;li&gt;Confirmed: 32794&lt;/li&gt;&lt;li&gt;Deaths:   102&lt;/li&gt;&lt;li&gt;Death Rate: 0.31&lt;/li&gt;&lt;/ul&gt;&lt;/div&gt;\n",
       "                 &lt;/div&gt;`,\n",
       "                {&quot;sticky&quot;: true}\n",
       "            );\n",
       "        \n",
       "    \n",
       "            var circle_900833130ef5758ffd7022e0d8da070e = L.circle(\n",
       "                [49.2138, -2.1358],\n",
       "                {&quot;bubblingMouseEvents&quot;: true, &quot;color&quot;: &quot;red&quot;, &quot;dashArray&quot;: null, &quot;dashOffset&quot;: null, &quot;fill&quot;: true, &quot;fillColor&quot;: &quot;indigo&quot;, &quot;fillOpacity&quot;: 0.2, &quot;fillRule&quot;: &quot;evenodd&quot;, &quot;lineCap&quot;: &quot;round&quot;, &quot;lineJoin&quot;: &quot;round&quot;, &quot;opacity&quot;: 1.0, &quot;radius&quot;: 51000.0, &quot;stroke&quot;: true, &quot;weight&quot;: 3}\n",
       "            ).addTo(map_8de725e800d35d654a5b94e5a3721265);\n",
       "        \n",
       "    \n",
       "            circle_900833130ef5758ffd7022e0d8da070e.bindTooltip(\n",
       "                `&lt;div&gt;\n",
       "                     &lt;div style=&#x27;margin: 0; background-color: black; color: white;&#x27;&gt;&lt;h4 style=&#x27;text-align:center;font-weight: bold&#x27;&gt;United Kingdom&lt;/h4&gt;&lt;hr style=&#x27;margin:10px;color: white;&#x27;&gt;&lt;ul style=&#x27;color: white;;list-style-type:circle;align-item:left;padding-left:20px;padding-right:20px&#x27;&gt;&lt;li&gt;Confirmed: 50439&lt;/li&gt;&lt;li&gt;Deaths:   47&lt;/li&gt;&lt;li&gt;Death Rate: 0.09&lt;/li&gt;&lt;/ul&gt;&lt;/div&gt;\n",
       "                 &lt;/div&gt;`,\n",
       "                {&quot;sticky&quot;: true}\n",
       "            );\n",
       "        \n",
       "    \n",
       "            var circle_6764a318ef2147cf77f7913e9cd83de1 = L.circle(\n",
       "                [16.742498, -62.187366],\n",
       "                {&quot;bubblingMouseEvents&quot;: true, &quot;color&quot;: &quot;red&quot;, &quot;dashArray&quot;: null, &quot;dashOffset&quot;: null, &quot;fill&quot;: true, &quot;fillColor&quot;: &quot;indigo&quot;, &quot;fillOpacity&quot;: 0.2, &quot;fillRule&quot;: &quot;evenodd&quot;, &quot;lineCap&quot;: &quot;round&quot;, &quot;lineJoin&quot;: &quot;round&quot;, &quot;opacity&quot;: 1.0, &quot;radius&quot;: 31000.0, &quot;stroke&quot;: true, &quot;weight&quot;: 3}\n",
       "            ).addTo(map_8de725e800d35d654a5b94e5a3721265);\n",
       "        \n",
       "    \n",
       "            circle_6764a318ef2147cf77f7913e9cd83de1.bindTooltip(\n",
       "                `&lt;div&gt;\n",
       "                     &lt;div style=&#x27;margin: 0; background-color: black; color: white;&#x27;&gt;&lt;h4 style=&#x27;text-align:center;font-weight: bold&#x27;&gt;United Kingdom&lt;/h4&gt;&lt;hr style=&#x27;margin:10px;color: white;&#x27;&gt;&lt;ul style=&#x27;color: white;;list-style-type:circle;align-item:left;padding-left:20px;padding-right:20px&#x27;&gt;&lt;li&gt;Confirmed: 915&lt;/li&gt;&lt;li&gt;Deaths:   105&lt;/li&gt;&lt;li&gt;Death Rate: 11.46&lt;/li&gt;&lt;/ul&gt;&lt;/div&gt;\n",
       "                 &lt;/div&gt;`,\n",
       "                {&quot;sticky&quot;: true}\n",
       "            );\n",
       "        \n",
       "    \n",
       "            var circle_9728d17fad20b6d227e0720949844d16 = L.circle(\n",
       "                [-7.9467, -14.3559],\n",
       "                {&quot;bubblingMouseEvents&quot;: true, &quot;color&quot;: &quot;red&quot;, &quot;dashArray&quot;: null, &quot;dashOffset&quot;: null, &quot;fill&quot;: true, &quot;fillColor&quot;: &quot;indigo&quot;, &quot;fillOpacity&quot;: 0.2, &quot;fillRule&quot;: &quot;evenodd&quot;, &quot;lineCap&quot;: &quot;round&quot;, &quot;lineJoin&quot;: &quot;round&quot;, &quot;opacity&quot;: 1.0, &quot;radius&quot;: 6000.0, &quot;stroke&quot;: true, &quot;weight&quot;: 3}\n",
       "            ).addTo(map_8de725e800d35d654a5b94e5a3721265);\n",
       "        \n",
       "    \n",
       "            circle_9728d17fad20b6d227e0720949844d16.bindTooltip(\n",
       "                `&lt;div&gt;\n",
       "                     &lt;div style=&#x27;margin: 0; background-color: black; color: white;&#x27;&gt;&lt;h4 style=&#x27;text-align:center;font-weight: bold&#x27;&gt;United Kingdom&lt;/h4&gt;&lt;hr style=&#x27;margin:10px;color: white;&#x27;&gt;&lt;ul style=&#x27;color: white;;list-style-type:circle;align-item:left;padding-left:20px;padding-right:20px&#x27;&gt;&lt;li&gt;Confirmed: 4&lt;/li&gt;&lt;li&gt;Deaths:   129&lt;/li&gt;&lt;li&gt;Death Rate: 2579.99&lt;/li&gt;&lt;/ul&gt;&lt;/div&gt;\n",
       "                 &lt;/div&gt;`,\n",
       "                {&quot;sticky&quot;: true}\n",
       "            );\n",
       "        \n",
       "    \n",
       "            var circle_8f2ddc175e43f435a45890a5c2f60229 = L.circle(\n",
       "                [21.694, -71.7979],\n",
       "                {&quot;bubblingMouseEvents&quot;: true, &quot;color&quot;: &quot;red&quot;, &quot;dashArray&quot;: null, &quot;dashOffset&quot;: null, &quot;fill&quot;: true, &quot;fillColor&quot;: &quot;indigo&quot;, &quot;fillOpacity&quot;: 0.2, &quot;fillRule&quot;: &quot;evenodd&quot;, &quot;lineCap&quot;: &quot;round&quot;, &quot;lineJoin&quot;: &quot;round&quot;, &quot;opacity&quot;: 1.0, &quot;radius&quot;: 41000.0, &quot;stroke&quot;: true, &quot;weight&quot;: 3}\n",
       "            ).addTo(map_8de725e800d35d654a5b94e5a3721265);\n",
       "        \n",
       "    \n",
       "            circle_8f2ddc175e43f435a45890a5c2f60229.bindTooltip(\n",
       "                `&lt;div&gt;\n",
       "                     &lt;div style=&#x27;margin: 0; background-color: black; color: white;&#x27;&gt;&lt;h4 style=&#x27;text-align:center;font-weight: bold&#x27;&gt;United Kingdom&lt;/h4&gt;&lt;hr style=&#x27;margin:10px;color: white;&#x27;&gt;&lt;ul style=&#x27;color: white;;list-style-type:circle;align-item:left;padding-left:20px;padding-right:20px&#x27;&gt;&lt;li&gt;Confirmed: 6097&lt;/li&gt;&lt;li&gt;Deaths:   4&lt;/li&gt;&lt;li&gt;Death Rate: 0.07&lt;/li&gt;&lt;/ul&gt;&lt;/div&gt;\n",
       "                 &lt;/div&gt;`,\n",
       "                {&quot;sticky&quot;: true}\n",
       "            );\n",
       "        \n",
       "    \n",
       "            var circle_c5ab6fca690ae6892afc5cdacb05fd51 = L.circle(\n",
       "                [55.3781, -3.436],\n",
       "                {&quot;bubblingMouseEvents&quot;: true, &quot;color&quot;: &quot;red&quot;, &quot;dashArray&quot;: null, &quot;dashOffset&quot;: null, &quot;fill&quot;: true, &quot;fillColor&quot;: &quot;indigo&quot;, &quot;fillOpacity&quot;: 0.2, &quot;fillRule&quot;: &quot;evenodd&quot;, &quot;lineCap&quot;: &quot;round&quot;, &quot;lineJoin&quot;: &quot;round&quot;, &quot;opacity&quot;: 1.0, &quot;radius&quot;: 81000.0, &quot;stroke&quot;: true, &quot;weight&quot;: 3}\n",
       "            ).addTo(map_8de725e800d35d654a5b94e5a3721265);\n",
       "        \n",
       "    \n",
       "            circle_c5ab6fca690ae6892afc5cdacb05fd51.bindTooltip(\n",
       "                `&lt;div&gt;\n",
       "                     &lt;div style=&#x27;margin: 0; background-color: black; color: white;&#x27;&gt;&lt;h4 style=&#x27;text-align:center;font-weight: bold&#x27;&gt;United Kingdom&lt;/h4&gt;&lt;hr style=&#x27;margin:10px;color: white;&#x27;&gt;&lt;ul style=&#x27;color: white;;list-style-type:circle;align-item:left;padding-left:20px;padding-right:20px&#x27;&gt;&lt;li&gt;Confirmed: 22271122&lt;/li&gt;&lt;li&gt;Deaths:   0&lt;/li&gt;&lt;li&gt;Death Rate: 0.0&lt;/li&gt;&lt;/ul&gt;&lt;/div&gt;\n",
       "                 &lt;/div&gt;`,\n",
       "                {&quot;sticky&quot;: true}\n",
       "            );\n",
       "        \n",
       "    \n",
       "            var circle_8215ccb32a36c1722a8e91a7367abdc7 = L.circle(\n",
       "                [-32.5228, -55.7658],\n",
       "                {&quot;bubblingMouseEvents&quot;: true, &quot;color&quot;: &quot;red&quot;, &quot;dashArray&quot;: null, &quot;dashOffset&quot;: null, &quot;fill&quot;: true, &quot;fillColor&quot;: &quot;indigo&quot;, &quot;fillOpacity&quot;: 0.2, &quot;fillRule&quot;: &quot;evenodd&quot;, &quot;lineCap&quot;: &quot;round&quot;, &quot;lineJoin&quot;: &quot;round&quot;, &quot;opacity&quot;: 1.0, &quot;radius&quot;: 66000.0, &quot;stroke&quot;: true, &quot;weight&quot;: 3}\n",
       "            ).addTo(map_8de725e800d35d654a5b94e5a3721265);\n",
       "        \n",
       "    \n",
       "            circle_8215ccb32a36c1722a8e91a7367abdc7.bindTooltip(\n",
       "                `&lt;div&gt;\n",
       "                     &lt;div style=&#x27;margin: 0; background-color: black; color: white;&#x27;&gt;&lt;h4 style=&#x27;text-align:center;font-weight: bold&#x27;&gt;Uruguay&lt;/h4&gt;&lt;hr style=&#x27;margin:10px;color: white;&#x27;&gt;&lt;ul style=&#x27;color: white;;list-style-type:circle;align-item:left;padding-left:20px;padding-right:20px&#x27;&gt;&lt;li&gt;Confirmed: 916388&lt;/li&gt;&lt;li&gt;Deaths:   36&lt;/li&gt;&lt;li&gt;Death Rate: 0.0&lt;/li&gt;&lt;/ul&gt;&lt;/div&gt;\n",
       "                 &lt;/div&gt;`,\n",
       "                {&quot;sticky&quot;: true}\n",
       "            );\n",
       "        \n",
       "    \n",
       "            var circle_63a8289fe272532faf68872848b3fd1b = L.circle(\n",
       "                [41.377491, 64.585262],\n",
       "                {&quot;bubblingMouseEvents&quot;: true, &quot;color&quot;: &quot;red&quot;, &quot;dashArray&quot;: null, &quot;dashOffset&quot;: null, &quot;fill&quot;: true, &quot;fillColor&quot;: &quot;indigo&quot;, &quot;fillOpacity&quot;: 0.2, &quot;fillRule&quot;: &quot;evenodd&quot;, &quot;lineCap&quot;: &quot;round&quot;, &quot;lineJoin&quot;: &quot;round&quot;, &quot;opacity&quot;: 1.0, &quot;radius&quot;: 61000.0, &quot;stroke&quot;: true, &quot;weight&quot;: 3}\n",
       "            ).addTo(map_8de725e800d35d654a5b94e5a3721265);\n",
       "        \n",
       "    \n",
       "            circle_63a8289fe272532faf68872848b3fd1b.bindTooltip(\n",
       "                `&lt;div&gt;\n",
       "                     &lt;div style=&#x27;margin: 0; background-color: black; color: white;&#x27;&gt;&lt;h4 style=&#x27;text-align:center;font-weight: bold&#x27;&gt;Uzbekistan&lt;/h4&gt;&lt;hr style=&#x27;margin:10px;color: white;&#x27;&gt;&lt;ul style=&#x27;color: white;;list-style-type:circle;align-item:left;padding-left:20px;padding-right:20px&#x27;&gt;&lt;li&gt;Confirmed: 238945&lt;/li&gt;&lt;li&gt;Deaths:   178221&lt;/li&gt;&lt;li&gt;Death Rate: 74.59&lt;/li&gt;&lt;/ul&gt;&lt;/div&gt;\n",
       "                 &lt;/div&gt;`,\n",
       "                {&quot;sticky&quot;: true}\n",
       "            );\n",
       "        \n",
       "    \n",
       "            var circle_b6337bac607a0c50213140d46a0f891a = L.circle(\n",
       "                [-15.3767, 166.9592],\n",
       "                {&quot;bubblingMouseEvents&quot;: true, &quot;color&quot;: &quot;red&quot;, &quot;dashArray&quot;: null, &quot;dashOffset&quot;: null, &quot;fill&quot;: true, &quot;fillColor&quot;: &quot;indigo&quot;, &quot;fillOpacity&quot;: 0.2, &quot;fillRule&quot;: &quot;evenodd&quot;, &quot;lineCap&quot;: &quot;round&quot;, &quot;lineJoin&quot;: &quot;round&quot;, &quot;opacity&quot;: 1.0, &quot;radius&quot;: 46000.0, &quot;stroke&quot;: true, &quot;weight&quot;: 3}\n",
       "            ).addTo(map_8de725e800d35d654a5b94e5a3721265);\n",
       "        \n",
       "    \n",
       "            circle_b6337bac607a0c50213140d46a0f891a.bindTooltip(\n",
       "                `&lt;div&gt;\n",
       "                     &lt;div style=&#x27;margin: 0; background-color: black; color: white;&#x27;&gt;&lt;h4 style=&#x27;text-align:center;font-weight: bold&#x27;&gt;Vanuatu&lt;/h4&gt;&lt;hr style=&#x27;margin:10px;color: white;&#x27;&gt;&lt;ul style=&#x27;color: white;;list-style-type:circle;align-item:left;padding-left:20px;padding-right:20px&#x27;&gt;&lt;li&gt;Confirmed: 8735&lt;/li&gt;&lt;li&gt;Deaths:   7227&lt;/li&gt;&lt;li&gt;Death Rate: 82.73&lt;/li&gt;&lt;/ul&gt;&lt;/div&gt;\n",
       "                 &lt;/div&gt;`,\n",
       "                {&quot;sticky&quot;: true}\n",
       "            );\n",
       "        \n",
       "    \n",
       "            var circle_4c3e7fd4b8f22b22df24440294f88b1b = L.circle(\n",
       "                [6.4238, -66.5897],\n",
       "                {&quot;bubblingMouseEvents&quot;: true, &quot;color&quot;: &quot;red&quot;, &quot;dashArray&quot;: null, &quot;dashOffset&quot;: null, &quot;fill&quot;: true, &quot;fillColor&quot;: &quot;indigo&quot;, &quot;fillOpacity&quot;: 0.2, &quot;fillRule&quot;: &quot;evenodd&quot;, &quot;lineCap&quot;: &quot;round&quot;, &quot;lineJoin&quot;: &quot;round&quot;, &quot;opacity&quot;: 1.0, &quot;radius&quot;: 66000.0, &quot;stroke&quot;: true, &quot;weight&quot;: 3}\n",
       "            ).addTo(map_8de725e800d35d654a5b94e5a3721265);\n",
       "        \n",
       "    \n",
       "            circle_4c3e7fd4b8f22b22df24440294f88b1b.bindTooltip(\n",
       "                `&lt;div&gt;\n",
       "                     &lt;div style=&#x27;margin: 0; background-color: black; color: white;&#x27;&gt;&lt;h4 style=&#x27;text-align:center;font-weight: bold&#x27;&gt;Venezuela&lt;/h4&gt;&lt;hr style=&#x27;margin:10px;color: white;&#x27;&gt;&lt;ul style=&#x27;color: white;;list-style-type:circle;align-item:left;padding-left:20px;padding-right:20px&#x27;&gt;&lt;li&gt;Confirmed: 523411&lt;/li&gt;&lt;li&gt;Deaths:   1637&lt;/li&gt;&lt;li&gt;Death Rate: 0.31&lt;/li&gt;&lt;/ul&gt;&lt;/div&gt;\n",
       "                 &lt;/div&gt;`,\n",
       "                {&quot;sticky&quot;: true}\n",
       "            );\n",
       "        \n",
       "    \n",
       "            var circle_19471ec094fed4cf3cad6d48e9925869 = L.circle(\n",
       "                [14.058324, 108.277199],\n",
       "                {&quot;bubblingMouseEvents&quot;: true, &quot;color&quot;: &quot;red&quot;, &quot;dashArray&quot;: null, &quot;dashOffset&quot;: null, &quot;fill&quot;: true, &quot;fillColor&quot;: &quot;indigo&quot;, &quot;fillOpacity&quot;: 0.2, &quot;fillRule&quot;: &quot;evenodd&quot;, &quot;lineCap&quot;: &quot;round&quot;, &quot;lineJoin&quot;: &quot;round&quot;, &quot;opacity&quot;: 1.0, &quot;radius&quot;: 81000.0, &quot;stroke&quot;: true, &quot;weight&quot;: 3}\n",
       "            ).addTo(map_8de725e800d35d654a5b94e5a3721265);\n",
       "        \n",
       "    \n",
       "            circle_19471ec094fed4cf3cad6d48e9925869.bindTooltip(\n",
       "                `&lt;div&gt;\n",
       "                     &lt;div style=&#x27;margin: 0; background-color: black; color: white;&#x27;&gt;&lt;h4 style=&#x27;text-align:center;font-weight: bold&#x27;&gt;Vietnam&lt;/h4&gt;&lt;hr style=&#x27;margin:10px;color: white;&#x27;&gt;&lt;ul style=&#x27;color: white;;list-style-type:circle;align-item:left;padding-left:20px;padding-right:20px&#x27;&gt;&lt;li&gt;Confirmed: 10711389&lt;/li&gt;&lt;li&gt;Deaths:   14&lt;/li&gt;&lt;li&gt;Death Rate: 0.0&lt;/li&gt;&lt;/ul&gt;&lt;/div&gt;\n",
       "                 &lt;/div&gt;`,\n",
       "                {&quot;sticky&quot;: true}\n",
       "            );\n",
       "        \n",
       "    \n",
       "            var circle_93d07d5f79a6c37d2bd177e9fed247e5 = L.circle(\n",
       "                [31.9522, 35.2332],\n",
       "                {&quot;bubblingMouseEvents&quot;: true, &quot;color&quot;: &quot;red&quot;, &quot;dashArray&quot;: null, &quot;dashOffset&quot;: null, &quot;fill&quot;: true, &quot;fillColor&quot;: &quot;indigo&quot;, &quot;fillOpacity&quot;: 0.2, &quot;fillRule&quot;: &quot;evenodd&quot;, &quot;lineCap&quot;: &quot;round&quot;, &quot;lineJoin&quot;: &quot;round&quot;, &quot;opacity&quot;: 1.0, &quot;radius&quot;: 66000.0, &quot;stroke&quot;: true, &quot;weight&quot;: 3}\n",
       "            ).addTo(map_8de725e800d35d654a5b94e5a3721265);\n",
       "        \n",
       "    \n",
       "            circle_93d07d5f79a6c37d2bd177e9fed247e5.bindTooltip(\n",
       "                `&lt;div&gt;\n",
       "                     &lt;div style=&#x27;margin: 0; background-color: black; color: white;&#x27;&gt;&lt;h4 style=&#x27;text-align:center;font-weight: bold&#x27;&gt;West Bank and Gaza&lt;/h4&gt;&lt;hr style=&#x27;margin:10px;color: white;&#x27;&gt;&lt;ul style=&#x27;color: white;;list-style-type:circle;align-item:left;padding-left:20px;padding-right:20px&#x27;&gt;&lt;li&gt;Confirmed: 657573&lt;/li&gt;&lt;li&gt;Deaths:   5717&lt;/li&gt;&lt;li&gt;Death Rate: 0.87&lt;/li&gt;&lt;/ul&gt;&lt;/div&gt;\n",
       "                 &lt;/div&gt;`,\n",
       "                {&quot;sticky&quot;: true}\n",
       "            );\n",
       "        \n",
       "    \n",
       "            var circle_6153f694a0be98a2ca4020343bf9b38f = L.circle(\n",
       "                [39.9042, 116.4074],\n",
       "                {&quot;bubblingMouseEvents&quot;: true, &quot;color&quot;: &quot;red&quot;, &quot;dashArray&quot;: null, &quot;dashOffset&quot;: null, &quot;fill&quot;: true, &quot;fillColor&quot;: &quot;indigo&quot;, &quot;fillOpacity&quot;: 0.2, &quot;fillRule&quot;: &quot;evenodd&quot;, &quot;lineCap&quot;: &quot;round&quot;, &quot;lineJoin&quot;: &quot;round&quot;, &quot;opacity&quot;: 1.0, &quot;radius&quot;: 31000.0, &quot;stroke&quot;: true, &quot;weight&quot;: 3}\n",
       "            ).addTo(map_8de725e800d35d654a5b94e5a3721265);\n",
       "        \n",
       "    \n",
       "            circle_6153f694a0be98a2ca4020343bf9b38f.bindTooltip(\n",
       "                `&lt;div&gt;\n",
       "                     &lt;div style=&#x27;margin: 0; background-color: black; color: white;&#x27;&gt;&lt;h4 style=&#x27;text-align:center;font-weight: bold&#x27;&gt;Winter Olympics 2022&lt;/h4&gt;&lt;hr style=&#x27;margin:10px;color: white;&#x27;&gt;&lt;ul style=&#x27;color: white;;list-style-type:circle;align-item:left;padding-left:20px;padding-right:20px&#x27;&gt;&lt;li&gt;Confirmed: 535&lt;/li&gt;&lt;li&gt;Deaths:   43076&lt;/li&gt;&lt;li&gt;Death Rate: 8036.57&lt;/li&gt;&lt;/ul&gt;&lt;/div&gt;\n",
       "                 &lt;/div&gt;`,\n",
       "                {&quot;sticky&quot;: true}\n",
       "            );\n",
       "        \n",
       "    \n",
       "            var circle_53cf067e3b937c011ec0ad1e36d89a80 = L.circle(\n",
       "                [15.552727, 48.516388],\n",
       "                {&quot;bubblingMouseEvents&quot;: true, &quot;color&quot;: &quot;red&quot;, &quot;dashArray&quot;: null, &quot;dashOffset&quot;: null, &quot;fill&quot;: true, &quot;fillColor&quot;: &quot;indigo&quot;, &quot;fillOpacity&quot;: 0.2, &quot;fillRule&quot;: &quot;evenodd&quot;, &quot;lineCap&quot;: &quot;round&quot;, &quot;lineJoin&quot;: &quot;round&quot;, &quot;opacity&quot;: 1.0, &quot;radius&quot;: 46000.0, &quot;stroke&quot;: true, &quot;weight&quot;: 3}\n",
       "            ).addTo(map_8de725e800d35d654a5b94e5a3721265);\n",
       "        \n",
       "    \n",
       "            circle_53cf067e3b937c011ec0ad1e36d89a80.bindTooltip(\n",
       "                `&lt;div&gt;\n",
       "                     &lt;div style=&#x27;margin: 0; background-color: black; color: white;&#x27;&gt;&lt;h4 style=&#x27;text-align:center;font-weight: bold&#x27;&gt;Yemen&lt;/h4&gt;&lt;hr style=&#x27;margin:10px;color: white;&#x27;&gt;&lt;ul style=&#x27;color: white;;list-style-type:circle;align-item:left;padding-left:20px;padding-right:20px&#x27;&gt;&lt;li&gt;Confirmed: 11819&lt;/li&gt;&lt;li&gt;Deaths:   5660&lt;/li&gt;&lt;li&gt;Death Rate: 47.88&lt;/li&gt;&lt;/ul&gt;&lt;/div&gt;\n",
       "                 &lt;/div&gt;`,\n",
       "                {&quot;sticky&quot;: true}\n",
       "            );\n",
       "        \n",
       "    \n",
       "            var circle_059bc21a5b695dedfa46ffda6ba4f750 = L.circle(\n",
       "                [-13.133897, 27.849332],\n",
       "                {&quot;bubblingMouseEvents&quot;: true, &quot;color&quot;: &quot;red&quot;, &quot;dashArray&quot;: null, &quot;dashOffset&quot;: null, &quot;fill&quot;: true, &quot;fillColor&quot;: &quot;indigo&quot;, &quot;fillOpacity&quot;: 0.2, &quot;fillRule&quot;: &quot;evenodd&quot;, &quot;lineCap&quot;: &quot;round&quot;, &quot;lineJoin&quot;: &quot;round&quot;, &quot;opacity&quot;: 1.0, &quot;radius&quot;: 61000.0, &quot;stroke&quot;: true, &quot;weight&quot;: 3}\n",
       "            ).addTo(map_8de725e800d35d654a5b94e5a3721265);\n",
       "        \n",
       "    \n",
       "            circle_059bc21a5b695dedfa46ffda6ba4f750.bindTooltip(\n",
       "                `&lt;div&gt;\n",
       "                     &lt;div style=&#x27;margin: 0; background-color: black; color: white;&#x27;&gt;&lt;h4 style=&#x27;text-align:center;font-weight: bold&#x27;&gt;Zambia&lt;/h4&gt;&lt;hr style=&#x27;margin:10px;color: white;&#x27;&gt;&lt;ul style=&#x27;color: white;;list-style-type:circle;align-item:left;padding-left:20px;padding-right:20px&#x27;&gt;&lt;li&gt;Confirmed: 321268&lt;/li&gt;&lt;li&gt;Deaths:   0&lt;/li&gt;&lt;li&gt;Death Rate: 0.0&lt;/li&gt;&lt;/ul&gt;&lt;/div&gt;\n",
       "                 &lt;/div&gt;`,\n",
       "                {&quot;sticky&quot;: true}\n",
       "            );\n",
       "        \n",
       "    \n",
       "            var circle_6a0a1cc1a5cae5726192fb774dc98aac = L.circle(\n",
       "                [-19.015438, 29.154857],\n",
       "                {&quot;bubblingMouseEvents&quot;: true, &quot;color&quot;: &quot;red&quot;, &quot;dashArray&quot;: null, &quot;dashOffset&quot;: null, &quot;fill&quot;: true, &quot;fillColor&quot;: &quot;indigo&quot;, &quot;fillOpacity&quot;: 0.2, &quot;fillRule&quot;: &quot;evenodd&quot;, &quot;lineCap&quot;: &quot;round&quot;, &quot;lineJoin&quot;: &quot;round&quot;, &quot;opacity&quot;: 1.0, &quot;radius&quot;: 61000.0, &quot;stroke&quot;: true, &quot;weight&quot;: 3}\n",
       "            ).addTo(map_8de725e800d35d654a5b94e5a3721265);\n",
       "        \n",
       "    \n",
       "            circle_6a0a1cc1a5cae5726192fb774dc98aac.bindTooltip(\n",
       "                `&lt;div&gt;\n",
       "                     &lt;div style=&#x27;margin: 0; background-color: black; color: white;&#x27;&gt;&lt;h4 style=&#x27;text-align:center;font-weight: bold&#x27;&gt;Zimbabwe&lt;/h4&gt;&lt;hr style=&#x27;margin:10px;color: white;&#x27;&gt;&lt;ul style=&#x27;color: white;;list-style-type:circle;align-item:left;padding-left:20px;padding-right:20px&#x27;&gt;&lt;li&gt;Confirmed: 250929&lt;/li&gt;&lt;li&gt;Deaths:   2149&lt;/li&gt;&lt;li&gt;Death Rate: 0.86&lt;/li&gt;&lt;/ul&gt;&lt;/div&gt;\n",
       "                 &lt;/div&gt;`,\n",
       "                {&quot;sticky&quot;: true}\n",
       "            );\n",
       "        \n",
       "&lt;/script&gt;\" style=\"position:absolute;width:100%;height:100%;left:0;top:0;border:none !important;\" allowfullscreen webkitallowfullscreen mozallowfullscreen></iframe></div></div>"
      ],
      "text/plain": [
       "<folium.folium.Map at 0x16e4860bc10>"
      ]
     },
     "execution_count": 30,
     "metadata": {},
     "output_type": "execute_result"
    }
   ],
   "source": [
    "# Using Folium to spread of COVID19 cases over the world\n",
    "world_map = folium.Map(location=[11,0], tiles=\"cartodbpositron\", zoom_start=2, max_zoom = 6, min_zoom = 2)\n",
    "\n",
    "\n",
    "for i in range(0,len(confirmed_df)):\n",
    "    folium.Circle(\n",
    "        location=[confirmed_df.iloc[i]['lat'], confirmed_df.iloc[i]['long']],\n",
    "        fill=True,\n",
    "        radius=(int((np.log(confirmed_df.iloc[i,-1]+1.00001)))+0.2)*5000,\n",
    "        color='red',\n",
    "        fill_color='indigo',\n",
    "        tooltip = \"<div style='margin: 0; background-color: black; color: white;'>\"+\n",
    "                    \"<h4 style='text-align:center;font-weight: bold'>\"+confirmed_df.iloc[i]['country'] + \"</h4>\"\n",
    "                    \"<hr style='margin:10px;color: white;'>\"+\n",
    "                    \"<ul style='color: white;;list-style-type:circle;align-item:left;padding-left:20px;padding-right:20px'>\"+\n",
    "                        \"<li>Confirmed: \"+str(confirmed_df.iloc[i,-1])+\"</li>\"+\n",
    "                        \"<li>Deaths:   \"+str(death_df.iloc[i,-1])+\"</li>\"+\n",
    "                        \"<li>Death Rate: \"+ str(np.round(death_df.iloc[i,-1]/(confirmed_df.iloc[i,-1]+1.00001)*100,2))+ \"</li>\"+\n",
    "                    \"</ul></div>\",\n",
    "        ).add_to(world_map)\n",
    "\n",
    "world_map\n"
   ]
  },
  {
   "cell_type": "markdown",
   "metadata": {},
   "source": [
    " "
   ]
  },
  {
   "cell_type": "markdown",
   "metadata": {},
   "source": [
    "## Global spread of COVID-19 using Plotly"
   ]
  },
  {
   "cell_type": "code",
   "execution_count": 31,
   "metadata": {},
   "outputs": [
    {
     "data": {
      "application/vnd.plotly.v1+json": {
       "config": {
        "plotlyServerURL": "https://plot.ly"
       },
       "data": [
        {
         "hovertemplate": "country=Afghanistan<br>lat=%{lat}<br>long=%{lon}<extra></extra>",
         "lat": [
          33.93911
         ],
         "legendgroup": "Afghanistan",
         "lon": [
          67.709953
         ],
         "marker": {
          "color": "#636efa"
         },
         "mode": "markers",
         "name": "Afghanistan",
         "showlegend": true,
         "subplot": "mapbox",
         "type": "scattermapbox"
        },
        {
         "hovertemplate": "country=Albania<br>lat=%{lat}<br>long=%{lon}<extra></extra>",
         "lat": [
          41.1533
         ],
         "legendgroup": "Albania",
         "lon": [
          20.1683
         ],
         "marker": {
          "color": "#EF553B"
         },
         "mode": "markers",
         "name": "Albania",
         "showlegend": true,
         "subplot": "mapbox",
         "type": "scattermapbox"
        },
        {
         "hovertemplate": "country=Algeria<br>lat=%{lat}<br>long=%{lon}<extra></extra>",
         "lat": [
          28.0339
         ],
         "legendgroup": "Algeria",
         "lon": [
          1.6596
         ],
         "marker": {
          "color": "#00cc96"
         },
         "mode": "markers",
         "name": "Algeria",
         "showlegend": true,
         "subplot": "mapbox",
         "type": "scattermapbox"
        },
        {
         "hovertemplate": "country=Andorra<br>lat=%{lat}<br>long=%{lon}<extra></extra>",
         "lat": [
          42.5063
         ],
         "legendgroup": "Andorra",
         "lon": [
          1.5218
         ],
         "marker": {
          "color": "#ab63fa"
         },
         "mode": "markers",
         "name": "Andorra",
         "showlegend": true,
         "subplot": "mapbox",
         "type": "scattermapbox"
        },
        {
         "hovertemplate": "country=Angola<br>lat=%{lat}<br>long=%{lon}<extra></extra>",
         "lat": [
          -11.2027
         ],
         "legendgroup": "Angola",
         "lon": [
          17.8739
         ],
         "marker": {
          "color": "#FFA15A"
         },
         "mode": "markers",
         "name": "Angola",
         "showlegend": true,
         "subplot": "mapbox",
         "type": "scattermapbox"
        },
        {
         "hovertemplate": "country=Antarctica<br>lat=%{lat}<br>long=%{lon}<extra></extra>",
         "lat": [
          -71.9499
         ],
         "legendgroup": "Antarctica",
         "lon": [
          23.347
         ],
         "marker": {
          "color": "#19d3f3"
         },
         "mode": "markers",
         "name": "Antarctica",
         "showlegend": true,
         "subplot": "mapbox",
         "type": "scattermapbox"
        },
        {
         "hovertemplate": "country=Antigua and Barbuda<br>lat=%{lat}<br>long=%{lon}<extra></extra>",
         "lat": [
          17.0608
         ],
         "legendgroup": "Antigua and Barbuda",
         "lon": [
          -61.7964
         ],
         "marker": {
          "color": "#FF6692"
         },
         "mode": "markers",
         "name": "Antigua and Barbuda",
         "showlegend": true,
         "subplot": "mapbox",
         "type": "scattermapbox"
        },
        {
         "hovertemplate": "country=Argentina<br>lat=%{lat}<br>long=%{lon}<extra></extra>",
         "lat": [
          -38.4161
         ],
         "legendgroup": "Argentina",
         "lon": [
          -63.6167
         ],
         "marker": {
          "color": "#B6E880"
         },
         "mode": "markers",
         "name": "Argentina",
         "showlegend": true,
         "subplot": "mapbox",
         "type": "scattermapbox"
        },
        {
         "hovertemplate": "country=Armenia<br>lat=%{lat}<br>long=%{lon}<extra></extra>",
         "lat": [
          40.0691
         ],
         "legendgroup": "Armenia",
         "lon": [
          45.0382
         ],
         "marker": {
          "color": "#FF97FF"
         },
         "mode": "markers",
         "name": "Armenia",
         "showlegend": true,
         "subplot": "mapbox",
         "type": "scattermapbox"
        },
        {
         "hovertemplate": "country=Australia<br>lat=%{lat}<br>long=%{lon}<extra></extra>",
         "lat": [
          -35.4735,
          -33.8688,
          -12.4634,
          -27.4698,
          -34.9285,
          -42.8821,
          -37.8136,
          -31.9505
         ],
         "legendgroup": "Australia",
         "lon": [
          149.0124,
          151.2093,
          130.8456,
          153.0251,
          138.6007,
          147.3272,
          144.9631,
          115.8605
         ],
         "marker": {
          "color": "#FECB52"
         },
         "mode": "markers",
         "name": "Australia",
         "showlegend": true,
         "subplot": "mapbox",
         "type": "scattermapbox"
        },
        {
         "hovertemplate": "country=Austria<br>lat=%{lat}<br>long=%{lon}<extra></extra>",
         "lat": [
          47.5162
         ],
         "legendgroup": "Austria",
         "lon": [
          14.5501
         ],
         "marker": {
          "color": "#636efa"
         },
         "mode": "markers",
         "name": "Austria",
         "showlegend": true,
         "subplot": "mapbox",
         "type": "scattermapbox"
        },
        {
         "hovertemplate": "country=Azerbaijan<br>lat=%{lat}<br>long=%{lon}<extra></extra>",
         "lat": [
          40.1431
         ],
         "legendgroup": "Azerbaijan",
         "lon": [
          47.5769
         ],
         "marker": {
          "color": "#EF553B"
         },
         "mode": "markers",
         "name": "Azerbaijan",
         "showlegend": true,
         "subplot": "mapbox",
         "type": "scattermapbox"
        },
        {
         "hovertemplate": "country=Bahamas<br>lat=%{lat}<br>long=%{lon}<extra></extra>",
         "lat": [
          25.025885
         ],
         "legendgroup": "Bahamas",
         "lon": [
          -78.035889
         ],
         "marker": {
          "color": "#00cc96"
         },
         "mode": "markers",
         "name": "Bahamas",
         "showlegend": true,
         "subplot": "mapbox",
         "type": "scattermapbox"
        },
        {
         "hovertemplate": "country=Bahrain<br>lat=%{lat}<br>long=%{lon}<extra></extra>",
         "lat": [
          26.0275
         ],
         "legendgroup": "Bahrain",
         "lon": [
          50.55
         ],
         "marker": {
          "color": "#ab63fa"
         },
         "mode": "markers",
         "name": "Bahrain",
         "showlegend": true,
         "subplot": "mapbox",
         "type": "scattermapbox"
        },
        {
         "hovertemplate": "country=Bangladesh<br>lat=%{lat}<br>long=%{lon}<extra></extra>",
         "lat": [
          23.685
         ],
         "legendgroup": "Bangladesh",
         "lon": [
          90.3563
         ],
         "marker": {
          "color": "#FFA15A"
         },
         "mode": "markers",
         "name": "Bangladesh",
         "showlegend": true,
         "subplot": "mapbox",
         "type": "scattermapbox"
        },
        {
         "hovertemplate": "country=Barbados<br>lat=%{lat}<br>long=%{lon}<extra></extra>",
         "lat": [
          13.1939
         ],
         "legendgroup": "Barbados",
         "lon": [
          -59.5432
         ],
         "marker": {
          "color": "#19d3f3"
         },
         "mode": "markers",
         "name": "Barbados",
         "showlegend": true,
         "subplot": "mapbox",
         "type": "scattermapbox"
        },
        {
         "hovertemplate": "country=Belarus<br>lat=%{lat}<br>long=%{lon}<extra></extra>",
         "lat": [
          53.7098
         ],
         "legendgroup": "Belarus",
         "lon": [
          27.9534
         ],
         "marker": {
          "color": "#FF6692"
         },
         "mode": "markers",
         "name": "Belarus",
         "showlegend": true,
         "subplot": "mapbox",
         "type": "scattermapbox"
        },
        {
         "hovertemplate": "country=Belgium<br>lat=%{lat}<br>long=%{lon}<extra></extra>",
         "lat": [
          50.8333
         ],
         "legendgroup": "Belgium",
         "lon": [
          4.469936
         ],
         "marker": {
          "color": "#B6E880"
         },
         "mode": "markers",
         "name": "Belgium",
         "showlegend": true,
         "subplot": "mapbox",
         "type": "scattermapbox"
        },
        {
         "hovertemplate": "country=Belize<br>lat=%{lat}<br>long=%{lon}<extra></extra>",
         "lat": [
          17.1899
         ],
         "legendgroup": "Belize",
         "lon": [
          -88.4976
         ],
         "marker": {
          "color": "#FF97FF"
         },
         "mode": "markers",
         "name": "Belize",
         "showlegend": true,
         "subplot": "mapbox",
         "type": "scattermapbox"
        },
        {
         "hovertemplate": "country=Benin<br>lat=%{lat}<br>long=%{lon}<extra></extra>",
         "lat": [
          9.3077
         ],
         "legendgroup": "Benin",
         "lon": [
          2.3158
         ],
         "marker": {
          "color": "#FECB52"
         },
         "mode": "markers",
         "name": "Benin",
         "showlegend": true,
         "subplot": "mapbox",
         "type": "scattermapbox"
        },
        {
         "hovertemplate": "country=Bhutan<br>lat=%{lat}<br>long=%{lon}<extra></extra>",
         "lat": [
          27.5142
         ],
         "legendgroup": "Bhutan",
         "lon": [
          90.4336
         ],
         "marker": {
          "color": "#636efa"
         },
         "mode": "markers",
         "name": "Bhutan",
         "showlegend": true,
         "subplot": "mapbox",
         "type": "scattermapbox"
        },
        {
         "hovertemplate": "country=Bolivia<br>lat=%{lat}<br>long=%{lon}<extra></extra>",
         "lat": [
          -16.2902
         ],
         "legendgroup": "Bolivia",
         "lon": [
          -63.5887
         ],
         "marker": {
          "color": "#EF553B"
         },
         "mode": "markers",
         "name": "Bolivia",
         "showlegend": true,
         "subplot": "mapbox",
         "type": "scattermapbox"
        },
        {
         "hovertemplate": "country=Bosnia and Herzegovina<br>lat=%{lat}<br>long=%{lon}<extra></extra>",
         "lat": [
          43.9159
         ],
         "legendgroup": "Bosnia and Herzegovina",
         "lon": [
          17.6791
         ],
         "marker": {
          "color": "#00cc96"
         },
         "mode": "markers",
         "name": "Bosnia and Herzegovina",
         "showlegend": true,
         "subplot": "mapbox",
         "type": "scattermapbox"
        },
        {
         "hovertemplate": "country=Botswana<br>lat=%{lat}<br>long=%{lon}<extra></extra>",
         "lat": [
          -22.3285
         ],
         "legendgroup": "Botswana",
         "lon": [
          24.6849
         ],
         "marker": {
          "color": "#ab63fa"
         },
         "mode": "markers",
         "name": "Botswana",
         "showlegend": true,
         "subplot": "mapbox",
         "type": "scattermapbox"
        },
        {
         "hovertemplate": "country=Brazil<br>lat=%{lat}<br>long=%{lon}<extra></extra>",
         "lat": [
          -14.235
         ],
         "legendgroup": "Brazil",
         "lon": [
          -51.9253
         ],
         "marker": {
          "color": "#FFA15A"
         },
         "mode": "markers",
         "name": "Brazil",
         "showlegend": true,
         "subplot": "mapbox",
         "type": "scattermapbox"
        },
        {
         "hovertemplate": "country=Brunei<br>lat=%{lat}<br>long=%{lon}<extra></extra>",
         "lat": [
          4.5353
         ],
         "legendgroup": "Brunei",
         "lon": [
          114.7277
         ],
         "marker": {
          "color": "#19d3f3"
         },
         "mode": "markers",
         "name": "Brunei",
         "showlegend": true,
         "subplot": "mapbox",
         "type": "scattermapbox"
        },
        {
         "hovertemplate": "country=Bulgaria<br>lat=%{lat}<br>long=%{lon}<extra></extra>",
         "lat": [
          42.7339
         ],
         "legendgroup": "Bulgaria",
         "lon": [
          25.4858
         ],
         "marker": {
          "color": "#FF6692"
         },
         "mode": "markers",
         "name": "Bulgaria",
         "showlegend": true,
         "subplot": "mapbox",
         "type": "scattermapbox"
        },
        {
         "hovertemplate": "country=Burkina Faso<br>lat=%{lat}<br>long=%{lon}<extra></extra>",
         "lat": [
          12.2383
         ],
         "legendgroup": "Burkina Faso",
         "lon": [
          -1.5616
         ],
         "marker": {
          "color": "#B6E880"
         },
         "mode": "markers",
         "name": "Burkina Faso",
         "showlegend": true,
         "subplot": "mapbox",
         "type": "scattermapbox"
        },
        {
         "hovertemplate": "country=Burma<br>lat=%{lat}<br>long=%{lon}<extra></extra>",
         "lat": [
          21.9162
         ],
         "legendgroup": "Burma",
         "lon": [
          95.956
         ],
         "marker": {
          "color": "#FF97FF"
         },
         "mode": "markers",
         "name": "Burma",
         "showlegend": true,
         "subplot": "mapbox",
         "type": "scattermapbox"
        },
        {
         "hovertemplate": "country=Burundi<br>lat=%{lat}<br>long=%{lon}<extra></extra>",
         "lat": [
          -3.3731
         ],
         "legendgroup": "Burundi",
         "lon": [
          29.9189
         ],
         "marker": {
          "color": "#FECB52"
         },
         "mode": "markers",
         "name": "Burundi",
         "showlegend": true,
         "subplot": "mapbox",
         "type": "scattermapbox"
        },
        {
         "hovertemplate": "country=Cabo Verde<br>lat=%{lat}<br>long=%{lon}<extra></extra>",
         "lat": [
          16.5388
         ],
         "legendgroup": "Cabo Verde",
         "lon": [
          -23.0418
         ],
         "marker": {
          "color": "#636efa"
         },
         "mode": "markers",
         "name": "Cabo Verde",
         "showlegend": true,
         "subplot": "mapbox",
         "type": "scattermapbox"
        },
        {
         "hovertemplate": "country=Cambodia<br>lat=%{lat}<br>long=%{lon}<extra></extra>",
         "lat": [
          11.55
         ],
         "legendgroup": "Cambodia",
         "lon": [
          104.9167
         ],
         "marker": {
          "color": "#EF553B"
         },
         "mode": "markers",
         "name": "Cambodia",
         "showlegend": true,
         "subplot": "mapbox",
         "type": "scattermapbox"
        },
        {
         "hovertemplate": "country=Cameroon<br>lat=%{lat}<br>long=%{lon}<extra></extra>",
         "lat": [
          3.848
         ],
         "legendgroup": "Cameroon",
         "lon": [
          11.5021
         ],
         "marker": {
          "color": "#00cc96"
         },
         "mode": "markers",
         "name": "Cameroon",
         "showlegend": true,
         "subplot": "mapbox",
         "type": "scattermapbox"
        },
        {
         "hovertemplate": "country=Canada<br>lat=%{lat}<br>long=%{lon}<extra></extra>",
         "lat": [
          53.9333,
          53.7267,
          0,
          0,
          53.7609,
          46.5653,
          53.1355,
          64.8255,
          44.682,
          70.2998,
          51.2538,
          46.5107,
          52.9399,
          52.9399,
          64.2823
         ],
         "legendgroup": "Canada",
         "lon": [
          -116.5765,
          -127.6476,
          0,
          0,
          -98.8139,
          -66.4619,
          -57.6604,
          -124.8457,
          -63.7443,
          -83.1076,
          -85.3232,
          -63.4168,
          -73.5491,
          -106.4509,
          -135
         ],
         "marker": {
          "color": "#ab63fa"
         },
         "mode": "markers",
         "name": "Canada",
         "showlegend": true,
         "subplot": "mapbox",
         "type": "scattermapbox"
        },
        {
         "hovertemplate": "country=Central African Republic<br>lat=%{lat}<br>long=%{lon}<extra></extra>",
         "lat": [
          6.6111
         ],
         "legendgroup": "Central African Republic",
         "lon": [
          20.9394
         ],
         "marker": {
          "color": "#FFA15A"
         },
         "mode": "markers",
         "name": "Central African Republic",
         "showlegend": true,
         "subplot": "mapbox",
         "type": "scattermapbox"
        },
        {
         "hovertemplate": "country=Chad<br>lat=%{lat}<br>long=%{lon}<extra></extra>",
         "lat": [
          15.4542
         ],
         "legendgroup": "Chad",
         "lon": [
          18.7322
         ],
         "marker": {
          "color": "#19d3f3"
         },
         "mode": "markers",
         "name": "Chad",
         "showlegend": true,
         "subplot": "mapbox",
         "type": "scattermapbox"
        },
        {
         "hovertemplate": "country=Chile<br>lat=%{lat}<br>long=%{lon}<extra></extra>",
         "lat": [
          -35.6751
         ],
         "legendgroup": "Chile",
         "lon": [
          -71.543
         ],
         "marker": {
          "color": "#FF6692"
         },
         "mode": "markers",
         "name": "Chile",
         "showlegend": true,
         "subplot": "mapbox",
         "type": "scattermapbox"
        },
        {
         "hovertemplate": "country=China<br>lat=%{lat}<br>long=%{lon}<extra></extra>",
         "lat": [
          31.8257,
          40.1824,
          30.0572,
          26.0789,
          35.7518,
          23.3417,
          23.8298,
          26.8154,
          19.1959,
          39.549,
          47.862,
          37.8957,
          22.3,
          30.9756,
          27.6104,
          44.0935,
          32.9711,
          27.614,
          43.6661,
          41.2956,
          22.1667,
          37.2692,
          35.7452,
          35.1917,
          36.3427,
          31.202,
          37.5777,
          30.6171,
          39.3054,
          31.6927,
          41.1129,
          24.974,
          29.1832
         ],
         "legendgroup": "China",
         "lon": [
          117.2264,
          116.4142,
          107.874,
          117.9874,
          104.2861,
          113.4244,
          108.7881,
          106.8748,
          109.7453,
          116.1306,
          127.7615,
          114.9042,
          114.2,
          112.2707,
          111.7088,
          113.9448,
          119.455,
          115.7221,
          126.1923,
          122.6085,
          113.55,
          106.1655,
          95.9956,
          108.8701,
          118.1498,
          121.4491,
          112.2922,
          102.7103,
          117.323,
          88.0924,
          85.2401,
          101.487,
          120.0934
         ],
         "marker": {
          "color": "#B6E880"
         },
         "mode": "markers",
         "name": "China",
         "showlegend": true,
         "subplot": "mapbox",
         "type": "scattermapbox"
        },
        {
         "hovertemplate": "country=Colombia<br>lat=%{lat}<br>long=%{lon}<extra></extra>",
         "lat": [
          4.5709
         ],
         "legendgroup": "Colombia",
         "lon": [
          -74.2973
         ],
         "marker": {
          "color": "#FF97FF"
         },
         "mode": "markers",
         "name": "Colombia",
         "showlegend": true,
         "subplot": "mapbox",
         "type": "scattermapbox"
        },
        {
         "hovertemplate": "country=Comoros<br>lat=%{lat}<br>long=%{lon}<extra></extra>",
         "lat": [
          -11.6455
         ],
         "legendgroup": "Comoros",
         "lon": [
          43.3333
         ],
         "marker": {
          "color": "#FECB52"
         },
         "mode": "markers",
         "name": "Comoros",
         "showlegend": true,
         "subplot": "mapbox",
         "type": "scattermapbox"
        },
        {
         "hovertemplate": "country=Congo (Brazzaville)<br>lat=%{lat}<br>long=%{lon}<extra></extra>",
         "lat": [
          -0.228
         ],
         "legendgroup": "Congo (Brazzaville)",
         "lon": [
          15.8277
         ],
         "marker": {
          "color": "#636efa"
         },
         "mode": "markers",
         "name": "Congo (Brazzaville)",
         "showlegend": true,
         "subplot": "mapbox",
         "type": "scattermapbox"
        },
        {
         "hovertemplate": "country=Congo (Kinshasa)<br>lat=%{lat}<br>long=%{lon}<extra></extra>",
         "lat": [
          -4.0383
         ],
         "legendgroup": "Congo (Kinshasa)",
         "lon": [
          21.7587
         ],
         "marker": {
          "color": "#EF553B"
         },
         "mode": "markers",
         "name": "Congo (Kinshasa)",
         "showlegend": true,
         "subplot": "mapbox",
         "type": "scattermapbox"
        },
        {
         "hovertemplate": "country=Costa Rica<br>lat=%{lat}<br>long=%{lon}<extra></extra>",
         "lat": [
          9.7489
         ],
         "legendgroup": "Costa Rica",
         "lon": [
          -83.7534
         ],
         "marker": {
          "color": "#00cc96"
         },
         "mode": "markers",
         "name": "Costa Rica",
         "showlegend": true,
         "subplot": "mapbox",
         "type": "scattermapbox"
        },
        {
         "hovertemplate": "country=Cote d'Ivoire<br>lat=%{lat}<br>long=%{lon}<extra></extra>",
         "lat": [
          7.54
         ],
         "legendgroup": "Cote d'Ivoire",
         "lon": [
          -5.5471
         ],
         "marker": {
          "color": "#ab63fa"
         },
         "mode": "markers",
         "name": "Cote d'Ivoire",
         "showlegend": true,
         "subplot": "mapbox",
         "type": "scattermapbox"
        },
        {
         "hovertemplate": "country=Croatia<br>lat=%{lat}<br>long=%{lon}<extra></extra>",
         "lat": [
          45.1
         ],
         "legendgroup": "Croatia",
         "lon": [
          15.2
         ],
         "marker": {
          "color": "#FFA15A"
         },
         "mode": "markers",
         "name": "Croatia",
         "showlegend": true,
         "subplot": "mapbox",
         "type": "scattermapbox"
        },
        {
         "hovertemplate": "country=Cuba<br>lat=%{lat}<br>long=%{lon}<extra></extra>",
         "lat": [
          21.521757
         ],
         "legendgroup": "Cuba",
         "lon": [
          -77.781167
         ],
         "marker": {
          "color": "#19d3f3"
         },
         "mode": "markers",
         "name": "Cuba",
         "showlegend": true,
         "subplot": "mapbox",
         "type": "scattermapbox"
        },
        {
         "hovertemplate": "country=Cyprus<br>lat=%{lat}<br>long=%{lon}<extra></extra>",
         "lat": [
          35.1264
         ],
         "legendgroup": "Cyprus",
         "lon": [
          33.4299
         ],
         "marker": {
          "color": "#FF6692"
         },
         "mode": "markers",
         "name": "Cyprus",
         "showlegend": true,
         "subplot": "mapbox",
         "type": "scattermapbox"
        },
        {
         "hovertemplate": "country=Czechia<br>lat=%{lat}<br>long=%{lon}<extra></extra>",
         "lat": [
          49.8175
         ],
         "legendgroup": "Czechia",
         "lon": [
          15.473
         ],
         "marker": {
          "color": "#B6E880"
         },
         "mode": "markers",
         "name": "Czechia",
         "showlegend": true,
         "subplot": "mapbox",
         "type": "scattermapbox"
        },
        {
         "hovertemplate": "country=Denmark<br>lat=%{lat}<br>long=%{lon}<extra></extra>",
         "lat": [
          61.8926,
          71.7069,
          56.2639
         ],
         "legendgroup": "Denmark",
         "lon": [
          -6.9118,
          -42.6043,
          9.5018
         ],
         "marker": {
          "color": "#FF97FF"
         },
         "mode": "markers",
         "name": "Denmark",
         "showlegend": true,
         "subplot": "mapbox",
         "type": "scattermapbox"
        },
        {
         "hovertemplate": "country=Diamond Princess<br>lat=%{lat}<br>long=%{lon}<extra></extra>",
         "lat": [
          0
         ],
         "legendgroup": "Diamond Princess",
         "lon": [
          0
         ],
         "marker": {
          "color": "#FECB52"
         },
         "mode": "markers",
         "name": "Diamond Princess",
         "showlegend": true,
         "subplot": "mapbox",
         "type": "scattermapbox"
        },
        {
         "hovertemplate": "country=Djibouti<br>lat=%{lat}<br>long=%{lon}<extra></extra>",
         "lat": [
          11.8251
         ],
         "legendgroup": "Djibouti",
         "lon": [
          42.5903
         ],
         "marker": {
          "color": "#636efa"
         },
         "mode": "markers",
         "name": "Djibouti",
         "showlegend": true,
         "subplot": "mapbox",
         "type": "scattermapbox"
        },
        {
         "hovertemplate": "country=Dominica<br>lat=%{lat}<br>long=%{lon}<extra></extra>",
         "lat": [
          15.415
         ],
         "legendgroup": "Dominica",
         "lon": [
          -61.371
         ],
         "marker": {
          "color": "#EF553B"
         },
         "mode": "markers",
         "name": "Dominica",
         "showlegend": true,
         "subplot": "mapbox",
         "type": "scattermapbox"
        },
        {
         "hovertemplate": "country=Dominican Republic<br>lat=%{lat}<br>long=%{lon}<extra></extra>",
         "lat": [
          18.7357
         ],
         "legendgroup": "Dominican Republic",
         "lon": [
          -70.1627
         ],
         "marker": {
          "color": "#00cc96"
         },
         "mode": "markers",
         "name": "Dominican Republic",
         "showlegend": true,
         "subplot": "mapbox",
         "type": "scattermapbox"
        },
        {
         "hovertemplate": "country=Ecuador<br>lat=%{lat}<br>long=%{lon}<extra></extra>",
         "lat": [
          -1.8312
         ],
         "legendgroup": "Ecuador",
         "lon": [
          -78.1834
         ],
         "marker": {
          "color": "#ab63fa"
         },
         "mode": "markers",
         "name": "Ecuador",
         "showlegend": true,
         "subplot": "mapbox",
         "type": "scattermapbox"
        },
        {
         "hovertemplate": "country=Egypt<br>lat=%{lat}<br>long=%{lon}<extra></extra>",
         "lat": [
          26.820553
         ],
         "legendgroup": "Egypt",
         "lon": [
          30.802498
         ],
         "marker": {
          "color": "#FFA15A"
         },
         "mode": "markers",
         "name": "Egypt",
         "showlegend": true,
         "subplot": "mapbox",
         "type": "scattermapbox"
        },
        {
         "hovertemplate": "country=El Salvador<br>lat=%{lat}<br>long=%{lon}<extra></extra>",
         "lat": [
          13.7942
         ],
         "legendgroup": "El Salvador",
         "lon": [
          -88.8965
         ],
         "marker": {
          "color": "#19d3f3"
         },
         "mode": "markers",
         "name": "El Salvador",
         "showlegend": true,
         "subplot": "mapbox",
         "type": "scattermapbox"
        },
        {
         "hovertemplate": "country=Equatorial Guinea<br>lat=%{lat}<br>long=%{lon}<extra></extra>",
         "lat": [
          1.6508
         ],
         "legendgroup": "Equatorial Guinea",
         "lon": [
          10.2679
         ],
         "marker": {
          "color": "#FF6692"
         },
         "mode": "markers",
         "name": "Equatorial Guinea",
         "showlegend": true,
         "subplot": "mapbox",
         "type": "scattermapbox"
        },
        {
         "hovertemplate": "country=Eritrea<br>lat=%{lat}<br>long=%{lon}<extra></extra>",
         "lat": [
          15.1794
         ],
         "legendgroup": "Eritrea",
         "lon": [
          39.7823
         ],
         "marker": {
          "color": "#B6E880"
         },
         "mode": "markers",
         "name": "Eritrea",
         "showlegend": true,
         "subplot": "mapbox",
         "type": "scattermapbox"
        },
        {
         "hovertemplate": "country=Estonia<br>lat=%{lat}<br>long=%{lon}<extra></extra>",
         "lat": [
          58.5953
         ],
         "legendgroup": "Estonia",
         "lon": [
          25.0136
         ],
         "marker": {
          "color": "#FF97FF"
         },
         "mode": "markers",
         "name": "Estonia",
         "showlegend": true,
         "subplot": "mapbox",
         "type": "scattermapbox"
        },
        {
         "hovertemplate": "country=Eswatini<br>lat=%{lat}<br>long=%{lon}<extra></extra>",
         "lat": [
          -26.5225
         ],
         "legendgroup": "Eswatini",
         "lon": [
          31.4659
         ],
         "marker": {
          "color": "#FECB52"
         },
         "mode": "markers",
         "name": "Eswatini",
         "showlegend": true,
         "subplot": "mapbox",
         "type": "scattermapbox"
        },
        {
         "hovertemplate": "country=Ethiopia<br>lat=%{lat}<br>long=%{lon}<extra></extra>",
         "lat": [
          9.145
         ],
         "legendgroup": "Ethiopia",
         "lon": [
          40.4897
         ],
         "marker": {
          "color": "#636efa"
         },
         "mode": "markers",
         "name": "Ethiopia",
         "showlegend": true,
         "subplot": "mapbox",
         "type": "scattermapbox"
        },
        {
         "hovertemplate": "country=Fiji<br>lat=%{lat}<br>long=%{lon}<extra></extra>",
         "lat": [
          -17.7134
         ],
         "legendgroup": "Fiji",
         "lon": [
          178.065
         ],
         "marker": {
          "color": "#EF553B"
         },
         "mode": "markers",
         "name": "Fiji",
         "showlegend": true,
         "subplot": "mapbox",
         "type": "scattermapbox"
        },
        {
         "hovertemplate": "country=Finland<br>lat=%{lat}<br>long=%{lon}<extra></extra>",
         "lat": [
          61.92411
         ],
         "legendgroup": "Finland",
         "lon": [
          25.748151
         ],
         "marker": {
          "color": "#00cc96"
         },
         "mode": "markers",
         "name": "Finland",
         "showlegend": true,
         "subplot": "mapbox",
         "type": "scattermapbox"
        },
        {
         "hovertemplate": "country=France<br>lat=%{lat}<br>long=%{lon}<extra></extra>",
         "lat": [
          3.9339,
          -17.6797,
          16.265,
          14.6415,
          -12.8275,
          -20.904305,
          -21.1151,
          17.9,
          46.8852,
          18.0708,
          -14.2938,
          46.2276
         ],
         "legendgroup": "France",
         "lon": [
          -53.1258,
          149.4068,
          -61.551,
          -61.0242,
          45.166244,
          165.618042,
          55.5364,
          -62.8333,
          -56.3159,
          -63.0501,
          -178.1165,
          2.2137
         ],
         "marker": {
          "color": "#ab63fa"
         },
         "mode": "markers",
         "name": "France",
         "showlegend": true,
         "subplot": "mapbox",
         "type": "scattermapbox"
        },
        {
         "hovertemplate": "country=Gabon<br>lat=%{lat}<br>long=%{lon}<extra></extra>",
         "lat": [
          -0.8037
         ],
         "legendgroup": "Gabon",
         "lon": [
          11.6094
         ],
         "marker": {
          "color": "#FFA15A"
         },
         "mode": "markers",
         "name": "Gabon",
         "showlegend": true,
         "subplot": "mapbox",
         "type": "scattermapbox"
        },
        {
         "hovertemplate": "country=Gambia<br>lat=%{lat}<br>long=%{lon}<extra></extra>",
         "lat": [
          13.4432
         ],
         "legendgroup": "Gambia",
         "lon": [
          -15.3101
         ],
         "marker": {
          "color": "#19d3f3"
         },
         "mode": "markers",
         "name": "Gambia",
         "showlegend": true,
         "subplot": "mapbox",
         "type": "scattermapbox"
        },
        {
         "hovertemplate": "country=Georgia<br>lat=%{lat}<br>long=%{lon}<extra></extra>",
         "lat": [
          42.3154
         ],
         "legendgroup": "Georgia",
         "lon": [
          43.3569
         ],
         "marker": {
          "color": "#FF6692"
         },
         "mode": "markers",
         "name": "Georgia",
         "showlegend": true,
         "subplot": "mapbox",
         "type": "scattermapbox"
        },
        {
         "hovertemplate": "country=Germany<br>lat=%{lat}<br>long=%{lon}<extra></extra>",
         "lat": [
          51.165691
         ],
         "legendgroup": "Germany",
         "lon": [
          10.451526
         ],
         "marker": {
          "color": "#B6E880"
         },
         "mode": "markers",
         "name": "Germany",
         "showlegend": true,
         "subplot": "mapbox",
         "type": "scattermapbox"
        },
        {
         "hovertemplate": "country=Ghana<br>lat=%{lat}<br>long=%{lon}<extra></extra>",
         "lat": [
          7.9465
         ],
         "legendgroup": "Ghana",
         "lon": [
          -1.0232
         ],
         "marker": {
          "color": "#FF97FF"
         },
         "mode": "markers",
         "name": "Ghana",
         "showlegend": true,
         "subplot": "mapbox",
         "type": "scattermapbox"
        },
        {
         "hovertemplate": "country=Greece<br>lat=%{lat}<br>long=%{lon}<extra></extra>",
         "lat": [
          39.0742
         ],
         "legendgroup": "Greece",
         "lon": [
          21.8243
         ],
         "marker": {
          "color": "#FECB52"
         },
         "mode": "markers",
         "name": "Greece",
         "showlegend": true,
         "subplot": "mapbox",
         "type": "scattermapbox"
        },
        {
         "hovertemplate": "country=Grenada<br>lat=%{lat}<br>long=%{lon}<extra></extra>",
         "lat": [
          12.1165
         ],
         "legendgroup": "Grenada",
         "lon": [
          -61.679
         ],
         "marker": {
          "color": "#636efa"
         },
         "mode": "markers",
         "name": "Grenada",
         "showlegend": true,
         "subplot": "mapbox",
         "type": "scattermapbox"
        },
        {
         "hovertemplate": "country=Guatemala<br>lat=%{lat}<br>long=%{lon}<extra></extra>",
         "lat": [
          15.7835
         ],
         "legendgroup": "Guatemala",
         "lon": [
          -90.2308
         ],
         "marker": {
          "color": "#EF553B"
         },
         "mode": "markers",
         "name": "Guatemala",
         "showlegend": true,
         "subplot": "mapbox",
         "type": "scattermapbox"
        },
        {
         "hovertemplate": "country=Guinea<br>lat=%{lat}<br>long=%{lon}<extra></extra>",
         "lat": [
          9.9456
         ],
         "legendgroup": "Guinea",
         "lon": [
          -9.6966
         ],
         "marker": {
          "color": "#00cc96"
         },
         "mode": "markers",
         "name": "Guinea",
         "showlegend": true,
         "subplot": "mapbox",
         "type": "scattermapbox"
        },
        {
         "hovertemplate": "country=Guinea-Bissau<br>lat=%{lat}<br>long=%{lon}<extra></extra>",
         "lat": [
          11.8037
         ],
         "legendgroup": "Guinea-Bissau",
         "lon": [
          -15.1804
         ],
         "marker": {
          "color": "#ab63fa"
         },
         "mode": "markers",
         "name": "Guinea-Bissau",
         "showlegend": true,
         "subplot": "mapbox",
         "type": "scattermapbox"
        },
        {
         "hovertemplate": "country=Guyana<br>lat=%{lat}<br>long=%{lon}<extra></extra>",
         "lat": [
          4.860416
         ],
         "legendgroup": "Guyana",
         "lon": [
          -58.93018
         ],
         "marker": {
          "color": "#FFA15A"
         },
         "mode": "markers",
         "name": "Guyana",
         "showlegend": true,
         "subplot": "mapbox",
         "type": "scattermapbox"
        },
        {
         "hovertemplate": "country=Haiti<br>lat=%{lat}<br>long=%{lon}<extra></extra>",
         "lat": [
          18.9712
         ],
         "legendgroup": "Haiti",
         "lon": [
          -72.2852
         ],
         "marker": {
          "color": "#19d3f3"
         },
         "mode": "markers",
         "name": "Haiti",
         "showlegend": true,
         "subplot": "mapbox",
         "type": "scattermapbox"
        },
        {
         "hovertemplate": "country=Holy See<br>lat=%{lat}<br>long=%{lon}<extra></extra>",
         "lat": [
          41.9029
         ],
         "legendgroup": "Holy See",
         "lon": [
          12.4534
         ],
         "marker": {
          "color": "#FF6692"
         },
         "mode": "markers",
         "name": "Holy See",
         "showlegend": true,
         "subplot": "mapbox",
         "type": "scattermapbox"
        },
        {
         "hovertemplate": "country=Honduras<br>lat=%{lat}<br>long=%{lon}<extra></extra>",
         "lat": [
          15.2
         ],
         "legendgroup": "Honduras",
         "lon": [
          -86.2419
         ],
         "marker": {
          "color": "#B6E880"
         },
         "mode": "markers",
         "name": "Honduras",
         "showlegend": true,
         "subplot": "mapbox",
         "type": "scattermapbox"
        },
        {
         "hovertemplate": "country=Hungary<br>lat=%{lat}<br>long=%{lon}<extra></extra>",
         "lat": [
          47.1625
         ],
         "legendgroup": "Hungary",
         "lon": [
          19.5033
         ],
         "marker": {
          "color": "#FF97FF"
         },
         "mode": "markers",
         "name": "Hungary",
         "showlegend": true,
         "subplot": "mapbox",
         "type": "scattermapbox"
        },
        {
         "hovertemplate": "country=Iceland<br>lat=%{lat}<br>long=%{lon}<extra></extra>",
         "lat": [
          64.9631
         ],
         "legendgroup": "Iceland",
         "lon": [
          -19.0208
         ],
         "marker": {
          "color": "#FECB52"
         },
         "mode": "markers",
         "name": "Iceland",
         "showlegend": true,
         "subplot": "mapbox",
         "type": "scattermapbox"
        },
        {
         "hovertemplate": "country=India<br>lat=%{lat}<br>long=%{lon}<extra></extra>",
         "lat": [
          20.593684
         ],
         "legendgroup": "India",
         "lon": [
          78.96288
         ],
         "marker": {
          "color": "#636efa"
         },
         "mode": "markers",
         "name": "India",
         "showlegend": true,
         "subplot": "mapbox",
         "type": "scattermapbox"
        },
        {
         "hovertemplate": "country=Indonesia<br>lat=%{lat}<br>long=%{lon}<extra></extra>",
         "lat": [
          -0.7893
         ],
         "legendgroup": "Indonesia",
         "lon": [
          113.9213
         ],
         "marker": {
          "color": "#EF553B"
         },
         "mode": "markers",
         "name": "Indonesia",
         "showlegend": true,
         "subplot": "mapbox",
         "type": "scattermapbox"
        },
        {
         "hovertemplate": "country=Iran<br>lat=%{lat}<br>long=%{lon}<extra></extra>",
         "lat": [
          32.427908
         ],
         "legendgroup": "Iran",
         "lon": [
          53.688046
         ],
         "marker": {
          "color": "#00cc96"
         },
         "mode": "markers",
         "name": "Iran",
         "showlegend": true,
         "subplot": "mapbox",
         "type": "scattermapbox"
        },
        {
         "hovertemplate": "country=Iraq<br>lat=%{lat}<br>long=%{lon}<extra></extra>",
         "lat": [
          33.223191
         ],
         "legendgroup": "Iraq",
         "lon": [
          43.679291
         ],
         "marker": {
          "color": "#ab63fa"
         },
         "mode": "markers",
         "name": "Iraq",
         "showlegend": true,
         "subplot": "mapbox",
         "type": "scattermapbox"
        },
        {
         "hovertemplate": "country=Ireland<br>lat=%{lat}<br>long=%{lon}<extra></extra>",
         "lat": [
          53.1424
         ],
         "legendgroup": "Ireland",
         "lon": [
          -7.6921
         ],
         "marker": {
          "color": "#FFA15A"
         },
         "mode": "markers",
         "name": "Ireland",
         "showlegend": true,
         "subplot": "mapbox",
         "type": "scattermapbox"
        },
        {
         "hovertemplate": "country=Israel<br>lat=%{lat}<br>long=%{lon}<extra></extra>",
         "lat": [
          31.046051
         ],
         "legendgroup": "Israel",
         "lon": [
          34.851612
         ],
         "marker": {
          "color": "#19d3f3"
         },
         "mode": "markers",
         "name": "Israel",
         "showlegend": true,
         "subplot": "mapbox",
         "type": "scattermapbox"
        },
        {
         "hovertemplate": "country=Italy<br>lat=%{lat}<br>long=%{lon}<extra></extra>",
         "lat": [
          41.87194
         ],
         "legendgroup": "Italy",
         "lon": [
          12.56738
         ],
         "marker": {
          "color": "#FF6692"
         },
         "mode": "markers",
         "name": "Italy",
         "showlegend": true,
         "subplot": "mapbox",
         "type": "scattermapbox"
        },
        {
         "hovertemplate": "country=Jamaica<br>lat=%{lat}<br>long=%{lon}<extra></extra>",
         "lat": [
          18.1096
         ],
         "legendgroup": "Jamaica",
         "lon": [
          -77.2975
         ],
         "marker": {
          "color": "#B6E880"
         },
         "mode": "markers",
         "name": "Jamaica",
         "showlegend": true,
         "subplot": "mapbox",
         "type": "scattermapbox"
        },
        {
         "hovertemplate": "country=Japan<br>lat=%{lat}<br>long=%{lon}<extra></extra>",
         "lat": [
          36.204824
         ],
         "legendgroup": "Japan",
         "lon": [
          138.252924
         ],
         "marker": {
          "color": "#FF97FF"
         },
         "mode": "markers",
         "name": "Japan",
         "showlegend": true,
         "subplot": "mapbox",
         "type": "scattermapbox"
        },
        {
         "hovertemplate": "country=Jordan<br>lat=%{lat}<br>long=%{lon}<extra></extra>",
         "lat": [
          31.24
         ],
         "legendgroup": "Jordan",
         "lon": [
          36.51
         ],
         "marker": {
          "color": "#FECB52"
         },
         "mode": "markers",
         "name": "Jordan",
         "showlegend": true,
         "subplot": "mapbox",
         "type": "scattermapbox"
        },
        {
         "hovertemplate": "country=Kazakhstan<br>lat=%{lat}<br>long=%{lon}<extra></extra>",
         "lat": [
          48.0196
         ],
         "legendgroup": "Kazakhstan",
         "lon": [
          66.9237
         ],
         "marker": {
          "color": "#636efa"
         },
         "mode": "markers",
         "name": "Kazakhstan",
         "showlegend": true,
         "subplot": "mapbox",
         "type": "scattermapbox"
        },
        {
         "hovertemplate": "country=Kenya<br>lat=%{lat}<br>long=%{lon}<extra></extra>",
         "lat": [
          -0.0236
         ],
         "legendgroup": "Kenya",
         "lon": [
          37.9062
         ],
         "marker": {
          "color": "#EF553B"
         },
         "mode": "markers",
         "name": "Kenya",
         "showlegend": true,
         "subplot": "mapbox",
         "type": "scattermapbox"
        },
        {
         "hovertemplate": "country=Kiribati<br>lat=%{lat}<br>long=%{lon}<extra></extra>",
         "lat": [
          -3.3704
         ],
         "legendgroup": "Kiribati",
         "lon": [
          -168.734
         ],
         "marker": {
          "color": "#00cc96"
         },
         "mode": "markers",
         "name": "Kiribati",
         "showlegend": true,
         "subplot": "mapbox",
         "type": "scattermapbox"
        },
        {
         "hovertemplate": "country=Korea, North<br>lat=%{lat}<br>long=%{lon}<extra></extra>",
         "lat": [
          40.3399
         ],
         "legendgroup": "Korea, North",
         "lon": [
          127.5101
         ],
         "marker": {
          "color": "#ab63fa"
         },
         "mode": "markers",
         "name": "Korea, North",
         "showlegend": true,
         "subplot": "mapbox",
         "type": "scattermapbox"
        },
        {
         "hovertemplate": "country=Korea, South<br>lat=%{lat}<br>long=%{lon}<extra></extra>",
         "lat": [
          35.907757
         ],
         "legendgroup": "Korea, South",
         "lon": [
          127.766922
         ],
         "marker": {
          "color": "#FFA15A"
         },
         "mode": "markers",
         "name": "Korea, South",
         "showlegend": true,
         "subplot": "mapbox",
         "type": "scattermapbox"
        },
        {
         "hovertemplate": "country=Kosovo<br>lat=%{lat}<br>long=%{lon}<extra></extra>",
         "lat": [
          42.602636
         ],
         "legendgroup": "Kosovo",
         "lon": [
          20.902977
         ],
         "marker": {
          "color": "#19d3f3"
         },
         "mode": "markers",
         "name": "Kosovo",
         "showlegend": true,
         "subplot": "mapbox",
         "type": "scattermapbox"
        },
        {
         "hovertemplate": "country=Kuwait<br>lat=%{lat}<br>long=%{lon}<extra></extra>",
         "lat": [
          29.31166
         ],
         "legendgroup": "Kuwait",
         "lon": [
          47.481766
         ],
         "marker": {
          "color": "#FF6692"
         },
         "mode": "markers",
         "name": "Kuwait",
         "showlegend": true,
         "subplot": "mapbox",
         "type": "scattermapbox"
        },
        {
         "hovertemplate": "country=Kyrgyzstan<br>lat=%{lat}<br>long=%{lon}<extra></extra>",
         "lat": [
          41.20438
         ],
         "legendgroup": "Kyrgyzstan",
         "lon": [
          74.766098
         ],
         "marker": {
          "color": "#B6E880"
         },
         "mode": "markers",
         "name": "Kyrgyzstan",
         "showlegend": true,
         "subplot": "mapbox",
         "type": "scattermapbox"
        },
        {
         "hovertemplate": "country=Laos<br>lat=%{lat}<br>long=%{lon}<extra></extra>",
         "lat": [
          19.85627
         ],
         "legendgroup": "Laos",
         "lon": [
          102.495496
         ],
         "marker": {
          "color": "#FF97FF"
         },
         "mode": "markers",
         "name": "Laos",
         "showlegend": true,
         "subplot": "mapbox",
         "type": "scattermapbox"
        },
        {
         "hovertemplate": "country=Latvia<br>lat=%{lat}<br>long=%{lon}<extra></extra>",
         "lat": [
          56.8796
         ],
         "legendgroup": "Latvia",
         "lon": [
          24.6032
         ],
         "marker": {
          "color": "#FECB52"
         },
         "mode": "markers",
         "name": "Latvia",
         "showlegend": true,
         "subplot": "mapbox",
         "type": "scattermapbox"
        },
        {
         "hovertemplate": "country=Lebanon<br>lat=%{lat}<br>long=%{lon}<extra></extra>",
         "lat": [
          33.8547
         ],
         "legendgroup": "Lebanon",
         "lon": [
          35.8623
         ],
         "marker": {
          "color": "#636efa"
         },
         "mode": "markers",
         "name": "Lebanon",
         "showlegend": true,
         "subplot": "mapbox",
         "type": "scattermapbox"
        },
        {
         "hovertemplate": "country=Lesotho<br>lat=%{lat}<br>long=%{lon}<extra></extra>",
         "lat": [
          -29.61
         ],
         "legendgroup": "Lesotho",
         "lon": [
          28.2336
         ],
         "marker": {
          "color": "#EF553B"
         },
         "mode": "markers",
         "name": "Lesotho",
         "showlegend": true,
         "subplot": "mapbox",
         "type": "scattermapbox"
        },
        {
         "hovertemplate": "country=Liberia<br>lat=%{lat}<br>long=%{lon}<extra></extra>",
         "lat": [
          6.428055
         ],
         "legendgroup": "Liberia",
         "lon": [
          -9.429499
         ],
         "marker": {
          "color": "#00cc96"
         },
         "mode": "markers",
         "name": "Liberia",
         "showlegend": true,
         "subplot": "mapbox",
         "type": "scattermapbox"
        },
        {
         "hovertemplate": "country=Libya<br>lat=%{lat}<br>long=%{lon}<extra></extra>",
         "lat": [
          26.3351
         ],
         "legendgroup": "Libya",
         "lon": [
          17.228331
         ],
         "marker": {
          "color": "#ab63fa"
         },
         "mode": "markers",
         "name": "Libya",
         "showlegend": true,
         "subplot": "mapbox",
         "type": "scattermapbox"
        },
        {
         "hovertemplate": "country=Liechtenstein<br>lat=%{lat}<br>long=%{lon}<extra></extra>",
         "lat": [
          47.14
         ],
         "legendgroup": "Liechtenstein",
         "lon": [
          9.55
         ],
         "marker": {
          "color": "#FFA15A"
         },
         "mode": "markers",
         "name": "Liechtenstein",
         "showlegend": true,
         "subplot": "mapbox",
         "type": "scattermapbox"
        },
        {
         "hovertemplate": "country=Lithuania<br>lat=%{lat}<br>long=%{lon}<extra></extra>",
         "lat": [
          55.1694
         ],
         "legendgroup": "Lithuania",
         "lon": [
          23.8813
         ],
         "marker": {
          "color": "#19d3f3"
         },
         "mode": "markers",
         "name": "Lithuania",
         "showlegend": true,
         "subplot": "mapbox",
         "type": "scattermapbox"
        },
        {
         "hovertemplate": "country=Luxembourg<br>lat=%{lat}<br>long=%{lon}<extra></extra>",
         "lat": [
          49.8153
         ],
         "legendgroup": "Luxembourg",
         "lon": [
          6.1296
         ],
         "marker": {
          "color": "#FF6692"
         },
         "mode": "markers",
         "name": "Luxembourg",
         "showlegend": true,
         "subplot": "mapbox",
         "type": "scattermapbox"
        },
        {
         "hovertemplate": "country=MS Zaandam<br>lat=%{lat}<br>long=%{lon}<extra></extra>",
         "lat": [
          0
         ],
         "legendgroup": "MS Zaandam",
         "lon": [
          0
         ],
         "marker": {
          "color": "#B6E880"
         },
         "mode": "markers",
         "name": "MS Zaandam",
         "showlegend": true,
         "subplot": "mapbox",
         "type": "scattermapbox"
        },
        {
         "hovertemplate": "country=Madagascar<br>lat=%{lat}<br>long=%{lon}<extra></extra>",
         "lat": [
          -18.766947
         ],
         "legendgroup": "Madagascar",
         "lon": [
          46.869107
         ],
         "marker": {
          "color": "#FF97FF"
         },
         "mode": "markers",
         "name": "Madagascar",
         "showlegend": true,
         "subplot": "mapbox",
         "type": "scattermapbox"
        },
        {
         "hovertemplate": "country=Malawi<br>lat=%{lat}<br>long=%{lon}<extra></extra>",
         "lat": [
          -13.2543
         ],
         "legendgroup": "Malawi",
         "lon": [
          34.3015
         ],
         "marker": {
          "color": "#FECB52"
         },
         "mode": "markers",
         "name": "Malawi",
         "showlegend": true,
         "subplot": "mapbox",
         "type": "scattermapbox"
        },
        {
         "hovertemplate": "country=Malaysia<br>lat=%{lat}<br>long=%{lon}<extra></extra>",
         "lat": [
          4.210484
         ],
         "legendgroup": "Malaysia",
         "lon": [
          101.975766
         ],
         "marker": {
          "color": "#636efa"
         },
         "mode": "markers",
         "name": "Malaysia",
         "showlegend": true,
         "subplot": "mapbox",
         "type": "scattermapbox"
        },
        {
         "hovertemplate": "country=Maldives<br>lat=%{lat}<br>long=%{lon}<extra></extra>",
         "lat": [
          3.2028
         ],
         "legendgroup": "Maldives",
         "lon": [
          73.2207
         ],
         "marker": {
          "color": "#EF553B"
         },
         "mode": "markers",
         "name": "Maldives",
         "showlegend": true,
         "subplot": "mapbox",
         "type": "scattermapbox"
        },
        {
         "hovertemplate": "country=Mali<br>lat=%{lat}<br>long=%{lon}<extra></extra>",
         "lat": [
          17.570692
         ],
         "legendgroup": "Mali",
         "lon": [
          -3.996166
         ],
         "marker": {
          "color": "#00cc96"
         },
         "mode": "markers",
         "name": "Mali",
         "showlegend": true,
         "subplot": "mapbox",
         "type": "scattermapbox"
        },
        {
         "hovertemplate": "country=Malta<br>lat=%{lat}<br>long=%{lon}<extra></extra>",
         "lat": [
          35.9375
         ],
         "legendgroup": "Malta",
         "lon": [
          14.3754
         ],
         "marker": {
          "color": "#ab63fa"
         },
         "mode": "markers",
         "name": "Malta",
         "showlegend": true,
         "subplot": "mapbox",
         "type": "scattermapbox"
        },
        {
         "hovertemplate": "country=Marshall Islands<br>lat=%{lat}<br>long=%{lon}<extra></extra>",
         "lat": [
          7.1315
         ],
         "legendgroup": "Marshall Islands",
         "lon": [
          171.1845
         ],
         "marker": {
          "color": "#FFA15A"
         },
         "mode": "markers",
         "name": "Marshall Islands",
         "showlegend": true,
         "subplot": "mapbox",
         "type": "scattermapbox"
        },
        {
         "hovertemplate": "country=Mauritania<br>lat=%{lat}<br>long=%{lon}<extra></extra>",
         "lat": [
          21.0079
         ],
         "legendgroup": "Mauritania",
         "lon": [
          -10.9408
         ],
         "marker": {
          "color": "#19d3f3"
         },
         "mode": "markers",
         "name": "Mauritania",
         "showlegend": true,
         "subplot": "mapbox",
         "type": "scattermapbox"
        },
        {
         "hovertemplate": "country=Mauritius<br>lat=%{lat}<br>long=%{lon}<extra></extra>",
         "lat": [
          -20.348404
         ],
         "legendgroup": "Mauritius",
         "lon": [
          57.552152
         ],
         "marker": {
          "color": "#FF6692"
         },
         "mode": "markers",
         "name": "Mauritius",
         "showlegend": true,
         "subplot": "mapbox",
         "type": "scattermapbox"
        },
        {
         "hovertemplate": "country=Mexico<br>lat=%{lat}<br>long=%{lon}<extra></extra>",
         "lat": [
          23.6345
         ],
         "legendgroup": "Mexico",
         "lon": [
          -102.5528
         ],
         "marker": {
          "color": "#B6E880"
         },
         "mode": "markers",
         "name": "Mexico",
         "showlegend": true,
         "subplot": "mapbox",
         "type": "scattermapbox"
        },
        {
         "hovertemplate": "country=Micronesia<br>lat=%{lat}<br>long=%{lon}<extra></extra>",
         "lat": [
          7.4256
         ],
         "legendgroup": "Micronesia",
         "lon": [
          150.5508
         ],
         "marker": {
          "color": "#FF97FF"
         },
         "mode": "markers",
         "name": "Micronesia",
         "showlegend": true,
         "subplot": "mapbox",
         "type": "scattermapbox"
        },
        {
         "hovertemplate": "country=Moldova<br>lat=%{lat}<br>long=%{lon}<extra></extra>",
         "lat": [
          47.4116
         ],
         "legendgroup": "Moldova",
         "lon": [
          28.3699
         ],
         "marker": {
          "color": "#FECB52"
         },
         "mode": "markers",
         "name": "Moldova",
         "showlegend": true,
         "subplot": "mapbox",
         "type": "scattermapbox"
        },
        {
         "hovertemplate": "country=Monaco<br>lat=%{lat}<br>long=%{lon}<extra></extra>",
         "lat": [
          43.7333
         ],
         "legendgroup": "Monaco",
         "lon": [
          7.4167
         ],
         "marker": {
          "color": "#636efa"
         },
         "mode": "markers",
         "name": "Monaco",
         "showlegend": true,
         "subplot": "mapbox",
         "type": "scattermapbox"
        },
        {
         "hovertemplate": "country=Mongolia<br>lat=%{lat}<br>long=%{lon}<extra></extra>",
         "lat": [
          46.8625
         ],
         "legendgroup": "Mongolia",
         "lon": [
          103.8467
         ],
         "marker": {
          "color": "#EF553B"
         },
         "mode": "markers",
         "name": "Mongolia",
         "showlegend": true,
         "subplot": "mapbox",
         "type": "scattermapbox"
        },
        {
         "hovertemplate": "country=Montenegro<br>lat=%{lat}<br>long=%{lon}<extra></extra>",
         "lat": [
          42.708678
         ],
         "legendgroup": "Montenegro",
         "lon": [
          19.37439
         ],
         "marker": {
          "color": "#00cc96"
         },
         "mode": "markers",
         "name": "Montenegro",
         "showlegend": true,
         "subplot": "mapbox",
         "type": "scattermapbox"
        },
        {
         "hovertemplate": "country=Morocco<br>lat=%{lat}<br>long=%{lon}<extra></extra>",
         "lat": [
          31.7917
         ],
         "legendgroup": "Morocco",
         "lon": [
          -7.0926
         ],
         "marker": {
          "color": "#ab63fa"
         },
         "mode": "markers",
         "name": "Morocco",
         "showlegend": true,
         "subplot": "mapbox",
         "type": "scattermapbox"
        },
        {
         "hovertemplate": "country=Mozambique<br>lat=%{lat}<br>long=%{lon}<extra></extra>",
         "lat": [
          -18.665695
         ],
         "legendgroup": "Mozambique",
         "lon": [
          35.529562
         ],
         "marker": {
          "color": "#FFA15A"
         },
         "mode": "markers",
         "name": "Mozambique",
         "showlegend": true,
         "subplot": "mapbox",
         "type": "scattermapbox"
        },
        {
         "hovertemplate": "country=Namibia<br>lat=%{lat}<br>long=%{lon}<extra></extra>",
         "lat": [
          -22.9576
         ],
         "legendgroup": "Namibia",
         "lon": [
          18.4904
         ],
         "marker": {
          "color": "#19d3f3"
         },
         "mode": "markers",
         "name": "Namibia",
         "showlegend": true,
         "subplot": "mapbox",
         "type": "scattermapbox"
        },
        {
         "hovertemplate": "country=Nepal<br>lat=%{lat}<br>long=%{lon}<extra></extra>",
         "lat": [
          28.1667
         ],
         "legendgroup": "Nepal",
         "lon": [
          84.25
         ],
         "marker": {
          "color": "#FF6692"
         },
         "mode": "markers",
         "name": "Nepal",
         "showlegend": true,
         "subplot": "mapbox",
         "type": "scattermapbox"
        },
        {
         "hovertemplate": "country=Netherlands<br>lat=%{lat}<br>long=%{lon}<extra></extra>",
         "lat": [
          12.5211,
          12.1784,
          12.1696,
          18.0425,
          52.1326
         ],
         "legendgroup": "Netherlands",
         "lon": [
          -69.9683,
          -68.2385,
          -68.99,
          -63.0548,
          5.2913
         ],
         "marker": {
          "color": "#B6E880"
         },
         "mode": "markers",
         "name": "Netherlands",
         "showlegend": true,
         "subplot": "mapbox",
         "type": "scattermapbox"
        },
        {
         "hovertemplate": "country=New Zealand<br>lat=%{lat}<br>long=%{lon}<extra></extra>",
         "lat": [
          -21.2367,
          -40.9006
         ],
         "legendgroup": "New Zealand",
         "lon": [
          -159.7777,
          174.886
         ],
         "marker": {
          "color": "#FF97FF"
         },
         "mode": "markers",
         "name": "New Zealand",
         "showlegend": true,
         "subplot": "mapbox",
         "type": "scattermapbox"
        },
        {
         "hovertemplate": "country=Nicaragua<br>lat=%{lat}<br>long=%{lon}<extra></extra>",
         "lat": [
          12.865416
         ],
         "legendgroup": "Nicaragua",
         "lon": [
          -85.207229
         ],
         "marker": {
          "color": "#FECB52"
         },
         "mode": "markers",
         "name": "Nicaragua",
         "showlegend": true,
         "subplot": "mapbox",
         "type": "scattermapbox"
        },
        {
         "hovertemplate": "country=Niger<br>lat=%{lat}<br>long=%{lon}<extra></extra>",
         "lat": [
          17.607789
         ],
         "legendgroup": "Niger",
         "lon": [
          8.081666
         ],
         "marker": {
          "color": "#636efa"
         },
         "mode": "markers",
         "name": "Niger",
         "showlegend": true,
         "subplot": "mapbox",
         "type": "scattermapbox"
        },
        {
         "hovertemplate": "country=Nigeria<br>lat=%{lat}<br>long=%{lon}<extra></extra>",
         "lat": [
          9.082
         ],
         "legendgroup": "Nigeria",
         "lon": [
          8.6753
         ],
         "marker": {
          "color": "#EF553B"
         },
         "mode": "markers",
         "name": "Nigeria",
         "showlegend": true,
         "subplot": "mapbox",
         "type": "scattermapbox"
        },
        {
         "hovertemplate": "country=North Macedonia<br>lat=%{lat}<br>long=%{lon}<extra></extra>",
         "lat": [
          41.6086
         ],
         "legendgroup": "North Macedonia",
         "lon": [
          21.7453
         ],
         "marker": {
          "color": "#00cc96"
         },
         "mode": "markers",
         "name": "North Macedonia",
         "showlegend": true,
         "subplot": "mapbox",
         "type": "scattermapbox"
        },
        {
         "hovertemplate": "country=Norway<br>lat=%{lat}<br>long=%{lon}<extra></extra>",
         "lat": [
          60.472
         ],
         "legendgroup": "Norway",
         "lon": [
          8.4689
         ],
         "marker": {
          "color": "#ab63fa"
         },
         "mode": "markers",
         "name": "Norway",
         "showlegend": true,
         "subplot": "mapbox",
         "type": "scattermapbox"
        },
        {
         "hovertemplate": "country=Oman<br>lat=%{lat}<br>long=%{lon}<extra></extra>",
         "lat": [
          21.512583
         ],
         "legendgroup": "Oman",
         "lon": [
          55.923255
         ],
         "marker": {
          "color": "#FFA15A"
         },
         "mode": "markers",
         "name": "Oman",
         "showlegend": true,
         "subplot": "mapbox",
         "type": "scattermapbox"
        },
        {
         "hovertemplate": "country=Pakistan<br>lat=%{lat}<br>long=%{lon}<extra></extra>",
         "lat": [
          30.3753
         ],
         "legendgroup": "Pakistan",
         "lon": [
          69.3451
         ],
         "marker": {
          "color": "#19d3f3"
         },
         "mode": "markers",
         "name": "Pakistan",
         "showlegend": true,
         "subplot": "mapbox",
         "type": "scattermapbox"
        },
        {
         "hovertemplate": "country=Palau<br>lat=%{lat}<br>long=%{lon}<extra></extra>",
         "lat": [
          7.515
         ],
         "legendgroup": "Palau",
         "lon": [
          134.5825
         ],
         "marker": {
          "color": "#FF6692"
         },
         "mode": "markers",
         "name": "Palau",
         "showlegend": true,
         "subplot": "mapbox",
         "type": "scattermapbox"
        },
        {
         "hovertemplate": "country=Panama<br>lat=%{lat}<br>long=%{lon}<extra></extra>",
         "lat": [
          8.538
         ],
         "legendgroup": "Panama",
         "lon": [
          -80.7821
         ],
         "marker": {
          "color": "#B6E880"
         },
         "mode": "markers",
         "name": "Panama",
         "showlegend": true,
         "subplot": "mapbox",
         "type": "scattermapbox"
        },
        {
         "hovertemplate": "country=Papua New Guinea<br>lat=%{lat}<br>long=%{lon}<extra></extra>",
         "lat": [
          -6.314993
         ],
         "legendgroup": "Papua New Guinea",
         "lon": [
          143.95555
         ],
         "marker": {
          "color": "#FF97FF"
         },
         "mode": "markers",
         "name": "Papua New Guinea",
         "showlegend": true,
         "subplot": "mapbox",
         "type": "scattermapbox"
        },
        {
         "hovertemplate": "country=Paraguay<br>lat=%{lat}<br>long=%{lon}<extra></extra>",
         "lat": [
          -23.4425
         ],
         "legendgroup": "Paraguay",
         "lon": [
          -58.4438
         ],
         "marker": {
          "color": "#FECB52"
         },
         "mode": "markers",
         "name": "Paraguay",
         "showlegend": true,
         "subplot": "mapbox",
         "type": "scattermapbox"
        },
        {
         "hovertemplate": "country=Peru<br>lat=%{lat}<br>long=%{lon}<extra></extra>",
         "lat": [
          -9.19
         ],
         "legendgroup": "Peru",
         "lon": [
          -75.0152
         ],
         "marker": {
          "color": "#636efa"
         },
         "mode": "markers",
         "name": "Peru",
         "showlegend": true,
         "subplot": "mapbox",
         "type": "scattermapbox"
        },
        {
         "hovertemplate": "country=Philippines<br>lat=%{lat}<br>long=%{lon}<extra></extra>",
         "lat": [
          12.879721
         ],
         "legendgroup": "Philippines",
         "lon": [
          121.774017
         ],
         "marker": {
          "color": "#EF553B"
         },
         "mode": "markers",
         "name": "Philippines",
         "showlegend": true,
         "subplot": "mapbox",
         "type": "scattermapbox"
        },
        {
         "hovertemplate": "country=Poland<br>lat=%{lat}<br>long=%{lon}<extra></extra>",
         "lat": [
          51.9194
         ],
         "legendgroup": "Poland",
         "lon": [
          19.1451
         ],
         "marker": {
          "color": "#00cc96"
         },
         "mode": "markers",
         "name": "Poland",
         "showlegend": true,
         "subplot": "mapbox",
         "type": "scattermapbox"
        },
        {
         "hovertemplate": "country=Portugal<br>lat=%{lat}<br>long=%{lon}<extra></extra>",
         "lat": [
          39.3999
         ],
         "legendgroup": "Portugal",
         "lon": [
          -8.2245
         ],
         "marker": {
          "color": "#ab63fa"
         },
         "mode": "markers",
         "name": "Portugal",
         "showlegend": true,
         "subplot": "mapbox",
         "type": "scattermapbox"
        },
        {
         "hovertemplate": "country=Qatar<br>lat=%{lat}<br>long=%{lon}<extra></extra>",
         "lat": [
          25.3548
         ],
         "legendgroup": "Qatar",
         "lon": [
          51.1839
         ],
         "marker": {
          "color": "#FFA15A"
         },
         "mode": "markers",
         "name": "Qatar",
         "showlegend": true,
         "subplot": "mapbox",
         "type": "scattermapbox"
        },
        {
         "hovertemplate": "country=Romania<br>lat=%{lat}<br>long=%{lon}<extra></extra>",
         "lat": [
          45.9432
         ],
         "legendgroup": "Romania",
         "lon": [
          24.9668
         ],
         "marker": {
          "color": "#19d3f3"
         },
         "mode": "markers",
         "name": "Romania",
         "showlegend": true,
         "subplot": "mapbox",
         "type": "scattermapbox"
        },
        {
         "hovertemplate": "country=Russia<br>lat=%{lat}<br>long=%{lon}<extra></extra>",
         "lat": [
          61.52401
         ],
         "legendgroup": "Russia",
         "lon": [
          105.318756
         ],
         "marker": {
          "color": "#FF6692"
         },
         "mode": "markers",
         "name": "Russia",
         "showlegend": true,
         "subplot": "mapbox",
         "type": "scattermapbox"
        },
        {
         "hovertemplate": "country=Rwanda<br>lat=%{lat}<br>long=%{lon}<extra></extra>",
         "lat": [
          -1.9403
         ],
         "legendgroup": "Rwanda",
         "lon": [
          29.8739
         ],
         "marker": {
          "color": "#B6E880"
         },
         "mode": "markers",
         "name": "Rwanda",
         "showlegend": true,
         "subplot": "mapbox",
         "type": "scattermapbox"
        },
        {
         "hovertemplate": "country=Saint Kitts and Nevis<br>lat=%{lat}<br>long=%{lon}<extra></extra>",
         "lat": [
          17.357822
         ],
         "legendgroup": "Saint Kitts and Nevis",
         "lon": [
          -62.782998
         ],
         "marker": {
          "color": "#FF97FF"
         },
         "mode": "markers",
         "name": "Saint Kitts and Nevis",
         "showlegend": true,
         "subplot": "mapbox",
         "type": "scattermapbox"
        },
        {
         "hovertemplate": "country=Saint Lucia<br>lat=%{lat}<br>long=%{lon}<extra></extra>",
         "lat": [
          13.9094
         ],
         "legendgroup": "Saint Lucia",
         "lon": [
          -60.9789
         ],
         "marker": {
          "color": "#FECB52"
         },
         "mode": "markers",
         "name": "Saint Lucia",
         "showlegend": true,
         "subplot": "mapbox",
         "type": "scattermapbox"
        },
        {
         "hovertemplate": "country=Saint Vincent and the Grenadines<br>lat=%{lat}<br>long=%{lon}<extra></extra>",
         "lat": [
          12.9843
         ],
         "legendgroup": "Saint Vincent and the Grenadines",
         "lon": [
          -61.2872
         ],
         "marker": {
          "color": "#636efa"
         },
         "mode": "markers",
         "name": "Saint Vincent and the Grenadines",
         "showlegend": true,
         "subplot": "mapbox",
         "type": "scattermapbox"
        },
        {
         "hovertemplate": "country=Samoa<br>lat=%{lat}<br>long=%{lon}<extra></extra>",
         "lat": [
          -13.759
         ],
         "legendgroup": "Samoa",
         "lon": [
          -172.1046
         ],
         "marker": {
          "color": "#EF553B"
         },
         "mode": "markers",
         "name": "Samoa",
         "showlegend": true,
         "subplot": "mapbox",
         "type": "scattermapbox"
        },
        {
         "hovertemplate": "country=San Marino<br>lat=%{lat}<br>long=%{lon}<extra></extra>",
         "lat": [
          43.9424
         ],
         "legendgroup": "San Marino",
         "lon": [
          12.4578
         ],
         "marker": {
          "color": "#00cc96"
         },
         "mode": "markers",
         "name": "San Marino",
         "showlegend": true,
         "subplot": "mapbox",
         "type": "scattermapbox"
        },
        {
         "hovertemplate": "country=Sao Tome and Principe<br>lat=%{lat}<br>long=%{lon}<extra></extra>",
         "lat": [
          0.1864
         ],
         "legendgroup": "Sao Tome and Principe",
         "lon": [
          6.6131
         ],
         "marker": {
          "color": "#ab63fa"
         },
         "mode": "markers",
         "name": "Sao Tome and Principe",
         "showlegend": true,
         "subplot": "mapbox",
         "type": "scattermapbox"
        },
        {
         "hovertemplate": "country=Saudi Arabia<br>lat=%{lat}<br>long=%{lon}<extra></extra>",
         "lat": [
          23.885942
         ],
         "legendgroup": "Saudi Arabia",
         "lon": [
          45.079162
         ],
         "marker": {
          "color": "#FFA15A"
         },
         "mode": "markers",
         "name": "Saudi Arabia",
         "showlegend": true,
         "subplot": "mapbox",
         "type": "scattermapbox"
        },
        {
         "hovertemplate": "country=Senegal<br>lat=%{lat}<br>long=%{lon}<extra></extra>",
         "lat": [
          14.4974
         ],
         "legendgroup": "Senegal",
         "lon": [
          -14.4524
         ],
         "marker": {
          "color": "#19d3f3"
         },
         "mode": "markers",
         "name": "Senegal",
         "showlegend": true,
         "subplot": "mapbox",
         "type": "scattermapbox"
        },
        {
         "hovertemplate": "country=Serbia<br>lat=%{lat}<br>long=%{lon}<extra></extra>",
         "lat": [
          44.0165
         ],
         "legendgroup": "Serbia",
         "lon": [
          21.0059
         ],
         "marker": {
          "color": "#FF6692"
         },
         "mode": "markers",
         "name": "Serbia",
         "showlegend": true,
         "subplot": "mapbox",
         "type": "scattermapbox"
        },
        {
         "hovertemplate": "country=Seychelles<br>lat=%{lat}<br>long=%{lon}<extra></extra>",
         "lat": [
          -4.6796
         ],
         "legendgroup": "Seychelles",
         "lon": [
          55.492
         ],
         "marker": {
          "color": "#B6E880"
         },
         "mode": "markers",
         "name": "Seychelles",
         "showlegend": true,
         "subplot": "mapbox",
         "type": "scattermapbox"
        },
        {
         "hovertemplate": "country=Sierra Leone<br>lat=%{lat}<br>long=%{lon}<extra></extra>",
         "lat": [
          8.460555
         ],
         "legendgroup": "Sierra Leone",
         "lon": [
          -11.779889
         ],
         "marker": {
          "color": "#FF97FF"
         },
         "mode": "markers",
         "name": "Sierra Leone",
         "showlegend": true,
         "subplot": "mapbox",
         "type": "scattermapbox"
        },
        {
         "hovertemplate": "country=Singapore<br>lat=%{lat}<br>long=%{lon}<extra></extra>",
         "lat": [
          1.2833
         ],
         "legendgroup": "Singapore",
         "lon": [
          103.8333
         ],
         "marker": {
          "color": "#FECB52"
         },
         "mode": "markers",
         "name": "Singapore",
         "showlegend": true,
         "subplot": "mapbox",
         "type": "scattermapbox"
        },
        {
         "hovertemplate": "country=Slovakia<br>lat=%{lat}<br>long=%{lon}<extra></extra>",
         "lat": [
          48.669
         ],
         "legendgroup": "Slovakia",
         "lon": [
          19.699
         ],
         "marker": {
          "color": "#636efa"
         },
         "mode": "markers",
         "name": "Slovakia",
         "showlegend": true,
         "subplot": "mapbox",
         "type": "scattermapbox"
        },
        {
         "hovertemplate": "country=Slovenia<br>lat=%{lat}<br>long=%{lon}<extra></extra>",
         "lat": [
          46.1512
         ],
         "legendgroup": "Slovenia",
         "lon": [
          14.9955
         ],
         "marker": {
          "color": "#EF553B"
         },
         "mode": "markers",
         "name": "Slovenia",
         "showlegend": true,
         "subplot": "mapbox",
         "type": "scattermapbox"
        },
        {
         "hovertemplate": "country=Solomon Islands<br>lat=%{lat}<br>long=%{lon}<extra></extra>",
         "lat": [
          -9.6457
         ],
         "legendgroup": "Solomon Islands",
         "lon": [
          160.1562
         ],
         "marker": {
          "color": "#00cc96"
         },
         "mode": "markers",
         "name": "Solomon Islands",
         "showlegend": true,
         "subplot": "mapbox",
         "type": "scattermapbox"
        },
        {
         "hovertemplate": "country=Somalia<br>lat=%{lat}<br>long=%{lon}<extra></extra>",
         "lat": [
          5.152149
         ],
         "legendgroup": "Somalia",
         "lon": [
          46.199616
         ],
         "marker": {
          "color": "#ab63fa"
         },
         "mode": "markers",
         "name": "Somalia",
         "showlegend": true,
         "subplot": "mapbox",
         "type": "scattermapbox"
        },
        {
         "hovertemplate": "country=South Africa<br>lat=%{lat}<br>long=%{lon}<extra></extra>",
         "lat": [
          -30.5595
         ],
         "legendgroup": "South Africa",
         "lon": [
          22.9375
         ],
         "marker": {
          "color": "#FFA15A"
         },
         "mode": "markers",
         "name": "South Africa",
         "showlegend": true,
         "subplot": "mapbox",
         "type": "scattermapbox"
        },
        {
         "hovertemplate": "country=South Sudan<br>lat=%{lat}<br>long=%{lon}<extra></extra>",
         "lat": [
          6.877
         ],
         "legendgroup": "South Sudan",
         "lon": [
          31.307
         ],
         "marker": {
          "color": "#19d3f3"
         },
         "mode": "markers",
         "name": "South Sudan",
         "showlegend": true,
         "subplot": "mapbox",
         "type": "scattermapbox"
        },
        {
         "hovertemplate": "country=Spain<br>lat=%{lat}<br>long=%{lon}<extra></extra>",
         "lat": [
          40.463667
         ],
         "legendgroup": "Spain",
         "lon": [
          -3.74922
         ],
         "marker": {
          "color": "#FF6692"
         },
         "mode": "markers",
         "name": "Spain",
         "showlegend": true,
         "subplot": "mapbox",
         "type": "scattermapbox"
        },
        {
         "hovertemplate": "country=Sri Lanka<br>lat=%{lat}<br>long=%{lon}<extra></extra>",
         "lat": [
          7.873054
         ],
         "legendgroup": "Sri Lanka",
         "lon": [
          80.771797
         ],
         "marker": {
          "color": "#B6E880"
         },
         "mode": "markers",
         "name": "Sri Lanka",
         "showlegend": true,
         "subplot": "mapbox",
         "type": "scattermapbox"
        },
        {
         "hovertemplate": "country=Sudan<br>lat=%{lat}<br>long=%{lon}<extra></extra>",
         "lat": [
          12.8628
         ],
         "legendgroup": "Sudan",
         "lon": [
          30.2176
         ],
         "marker": {
          "color": "#FF97FF"
         },
         "mode": "markers",
         "name": "Sudan",
         "showlegend": true,
         "subplot": "mapbox",
         "type": "scattermapbox"
        },
        {
         "hovertemplate": "country=Summer Olympics 2020<br>lat=%{lat}<br>long=%{lon}<extra></extra>",
         "lat": [
          35.6491
         ],
         "legendgroup": "Summer Olympics 2020",
         "lon": [
          139.7737
         ],
         "marker": {
          "color": "#FECB52"
         },
         "mode": "markers",
         "name": "Summer Olympics 2020",
         "showlegend": true,
         "subplot": "mapbox",
         "type": "scattermapbox"
        },
        {
         "hovertemplate": "country=Suriname<br>lat=%{lat}<br>long=%{lon}<extra></extra>",
         "lat": [
          3.9193
         ],
         "legendgroup": "Suriname",
         "lon": [
          -56.0278
         ],
         "marker": {
          "color": "#636efa"
         },
         "mode": "markers",
         "name": "Suriname",
         "showlegend": true,
         "subplot": "mapbox",
         "type": "scattermapbox"
        },
        {
         "hovertemplate": "country=Sweden<br>lat=%{lat}<br>long=%{lon}<extra></extra>",
         "lat": [
          60.128161
         ],
         "legendgroup": "Sweden",
         "lon": [
          18.643501
         ],
         "marker": {
          "color": "#EF553B"
         },
         "mode": "markers",
         "name": "Sweden",
         "showlegend": true,
         "subplot": "mapbox",
         "type": "scattermapbox"
        },
        {
         "hovertemplate": "country=Switzerland<br>lat=%{lat}<br>long=%{lon}<extra></extra>",
         "lat": [
          46.8182
         ],
         "legendgroup": "Switzerland",
         "lon": [
          8.2275
         ],
         "marker": {
          "color": "#00cc96"
         },
         "mode": "markers",
         "name": "Switzerland",
         "showlegend": true,
         "subplot": "mapbox",
         "type": "scattermapbox"
        },
        {
         "hovertemplate": "country=Syria<br>lat=%{lat}<br>long=%{lon}<extra></extra>",
         "lat": [
          34.802075
         ],
         "legendgroup": "Syria",
         "lon": [
          38.996815
         ],
         "marker": {
          "color": "#ab63fa"
         },
         "mode": "markers",
         "name": "Syria",
         "showlegend": true,
         "subplot": "mapbox",
         "type": "scattermapbox"
        },
        {
         "hovertemplate": "country=Taiwan*<br>lat=%{lat}<br>long=%{lon}<extra></extra>",
         "lat": [
          23.7
         ],
         "legendgroup": "Taiwan*",
         "lon": [
          121
         ],
         "marker": {
          "color": "#FFA15A"
         },
         "mode": "markers",
         "name": "Taiwan*",
         "showlegend": true,
         "subplot": "mapbox",
         "type": "scattermapbox"
        },
        {
         "hovertemplate": "country=Tajikistan<br>lat=%{lat}<br>long=%{lon}<extra></extra>",
         "lat": [
          38.861
         ],
         "legendgroup": "Tajikistan",
         "lon": [
          71.2761
         ],
         "marker": {
          "color": "#19d3f3"
         },
         "mode": "markers",
         "name": "Tajikistan",
         "showlegend": true,
         "subplot": "mapbox",
         "type": "scattermapbox"
        },
        {
         "hovertemplate": "country=Tanzania<br>lat=%{lat}<br>long=%{lon}<extra></extra>",
         "lat": [
          -6.369028
         ],
         "legendgroup": "Tanzania",
         "lon": [
          34.888822
         ],
         "marker": {
          "color": "#FF6692"
         },
         "mode": "markers",
         "name": "Tanzania",
         "showlegend": true,
         "subplot": "mapbox",
         "type": "scattermapbox"
        },
        {
         "hovertemplate": "country=Thailand<br>lat=%{lat}<br>long=%{lon}<extra></extra>",
         "lat": [
          15.870032
         ],
         "legendgroup": "Thailand",
         "lon": [
          100.992541
         ],
         "marker": {
          "color": "#B6E880"
         },
         "mode": "markers",
         "name": "Thailand",
         "showlegend": true,
         "subplot": "mapbox",
         "type": "scattermapbox"
        },
        {
         "hovertemplate": "country=Timor-Leste<br>lat=%{lat}<br>long=%{lon}<extra></extra>",
         "lat": [
          -8.874217
         ],
         "legendgroup": "Timor-Leste",
         "lon": [
          125.727539
         ],
         "marker": {
          "color": "#FF97FF"
         },
         "mode": "markers",
         "name": "Timor-Leste",
         "showlegend": true,
         "subplot": "mapbox",
         "type": "scattermapbox"
        },
        {
         "hovertemplate": "country=Togo<br>lat=%{lat}<br>long=%{lon}<extra></extra>",
         "lat": [
          8.6195
         ],
         "legendgroup": "Togo",
         "lon": [
          0.8248
         ],
         "marker": {
          "color": "#FECB52"
         },
         "mode": "markers",
         "name": "Togo",
         "showlegend": true,
         "subplot": "mapbox",
         "type": "scattermapbox"
        },
        {
         "hovertemplate": "country=Tonga<br>lat=%{lat}<br>long=%{lon}<extra></extra>",
         "lat": [
          -21.179
         ],
         "legendgroup": "Tonga",
         "lon": [
          -175.1982
         ],
         "marker": {
          "color": "#636efa"
         },
         "mode": "markers",
         "name": "Tonga",
         "showlegend": true,
         "subplot": "mapbox",
         "type": "scattermapbox"
        },
        {
         "hovertemplate": "country=Trinidad and Tobago<br>lat=%{lat}<br>long=%{lon}<extra></extra>",
         "lat": [
          10.6918
         ],
         "legendgroup": "Trinidad and Tobago",
         "lon": [
          -61.2225
         ],
         "marker": {
          "color": "#EF553B"
         },
         "mode": "markers",
         "name": "Trinidad and Tobago",
         "showlegend": true,
         "subplot": "mapbox",
         "type": "scattermapbox"
        },
        {
         "hovertemplate": "country=Tunisia<br>lat=%{lat}<br>long=%{lon}<extra></extra>",
         "lat": [
          33.886917
         ],
         "legendgroup": "Tunisia",
         "lon": [
          9.537499
         ],
         "marker": {
          "color": "#00cc96"
         },
         "mode": "markers",
         "name": "Tunisia",
         "showlegend": true,
         "subplot": "mapbox",
         "type": "scattermapbox"
        },
        {
         "hovertemplate": "country=Turkey<br>lat=%{lat}<br>long=%{lon}<extra></extra>",
         "lat": [
          38.9637
         ],
         "legendgroup": "Turkey",
         "lon": [
          35.2433
         ],
         "marker": {
          "color": "#ab63fa"
         },
         "mode": "markers",
         "name": "Turkey",
         "showlegend": true,
         "subplot": "mapbox",
         "type": "scattermapbox"
        },
        {
         "hovertemplate": "country=US<br>lat=%{lat}<br>long=%{lon}<extra></extra>",
         "lat": [
          40
         ],
         "legendgroup": "US",
         "lon": [
          -100
         ],
         "marker": {
          "color": "#FFA15A"
         },
         "mode": "markers",
         "name": "US",
         "showlegend": true,
         "subplot": "mapbox",
         "type": "scattermapbox"
        },
        {
         "hovertemplate": "country=Uganda<br>lat=%{lat}<br>long=%{lon}<extra></extra>",
         "lat": [
          1.373333
         ],
         "legendgroup": "Uganda",
         "lon": [
          32.290275
         ],
         "marker": {
          "color": "#19d3f3"
         },
         "mode": "markers",
         "name": "Uganda",
         "showlegend": true,
         "subplot": "mapbox",
         "type": "scattermapbox"
        },
        {
         "hovertemplate": "country=Ukraine<br>lat=%{lat}<br>long=%{lon}<extra></extra>",
         "lat": [
          48.3794
         ],
         "legendgroup": "Ukraine",
         "lon": [
          31.1656
         ],
         "marker": {
          "color": "#FF6692"
         },
         "mode": "markers",
         "name": "Ukraine",
         "showlegend": true,
         "subplot": "mapbox",
         "type": "scattermapbox"
        },
        {
         "hovertemplate": "country=United Arab Emirates<br>lat=%{lat}<br>long=%{lon}<extra></extra>",
         "lat": [
          23.424076
         ],
         "legendgroup": "United Arab Emirates",
         "lon": [
          53.847818
         ],
         "marker": {
          "color": "#B6E880"
         },
         "mode": "markers",
         "name": "United Arab Emirates",
         "showlegend": true,
         "subplot": "mapbox",
         "type": "scattermapbox"
        },
        {
         "hovertemplate": "country=United Kingdom<br>lat=%{lat}<br>long=%{lon}<extra></extra>",
         "lat": [
          18.2206,
          32.3078,
          18.4207,
          19.3133,
          49.3723,
          -51.7963,
          36.1408,
          49.448196,
          54.2361,
          49.2138,
          16.742498,
          -7.9467,
          21.694,
          55.3781
         ],
         "legendgroup": "United Kingdom",
         "lon": [
          -63.0686,
          -64.7505,
          -64.64,
          -81.2546,
          -2.3644,
          -59.5236,
          -5.3536,
          -2.58949,
          -4.5481,
          -2.1358,
          -62.187366,
          -14.3559,
          -71.7979,
          -3.436
         ],
         "marker": {
          "color": "#FF97FF"
         },
         "mode": "markers",
         "name": "United Kingdom",
         "showlegend": true,
         "subplot": "mapbox",
         "type": "scattermapbox"
        },
        {
         "hovertemplate": "country=Uruguay<br>lat=%{lat}<br>long=%{lon}<extra></extra>",
         "lat": [
          -32.5228
         ],
         "legendgroup": "Uruguay",
         "lon": [
          -55.7658
         ],
         "marker": {
          "color": "#FECB52"
         },
         "mode": "markers",
         "name": "Uruguay",
         "showlegend": true,
         "subplot": "mapbox",
         "type": "scattermapbox"
        },
        {
         "hovertemplate": "country=Uzbekistan<br>lat=%{lat}<br>long=%{lon}<extra></extra>",
         "lat": [
          41.377491
         ],
         "legendgroup": "Uzbekistan",
         "lon": [
          64.585262
         ],
         "marker": {
          "color": "#636efa"
         },
         "mode": "markers",
         "name": "Uzbekistan",
         "showlegend": true,
         "subplot": "mapbox",
         "type": "scattermapbox"
        },
        {
         "hovertemplate": "country=Vanuatu<br>lat=%{lat}<br>long=%{lon}<extra></extra>",
         "lat": [
          -15.3767
         ],
         "legendgroup": "Vanuatu",
         "lon": [
          166.9592
         ],
         "marker": {
          "color": "#EF553B"
         },
         "mode": "markers",
         "name": "Vanuatu",
         "showlegend": true,
         "subplot": "mapbox",
         "type": "scattermapbox"
        },
        {
         "hovertemplate": "country=Venezuela<br>lat=%{lat}<br>long=%{lon}<extra></extra>",
         "lat": [
          6.4238
         ],
         "legendgroup": "Venezuela",
         "lon": [
          -66.5897
         ],
         "marker": {
          "color": "#00cc96"
         },
         "mode": "markers",
         "name": "Venezuela",
         "showlegend": true,
         "subplot": "mapbox",
         "type": "scattermapbox"
        },
        {
         "hovertemplate": "country=Vietnam<br>lat=%{lat}<br>long=%{lon}<extra></extra>",
         "lat": [
          14.058324
         ],
         "legendgroup": "Vietnam",
         "lon": [
          108.277199
         ],
         "marker": {
          "color": "#ab63fa"
         },
         "mode": "markers",
         "name": "Vietnam",
         "showlegend": true,
         "subplot": "mapbox",
         "type": "scattermapbox"
        },
        {
         "hovertemplate": "country=West Bank and Gaza<br>lat=%{lat}<br>long=%{lon}<extra></extra>",
         "lat": [
          31.9522
         ],
         "legendgroup": "West Bank and Gaza",
         "lon": [
          35.2332
         ],
         "marker": {
          "color": "#FFA15A"
         },
         "mode": "markers",
         "name": "West Bank and Gaza",
         "showlegend": true,
         "subplot": "mapbox",
         "type": "scattermapbox"
        },
        {
         "hovertemplate": "country=Winter Olympics 2022<br>lat=%{lat}<br>long=%{lon}<extra></extra>",
         "lat": [
          39.9042
         ],
         "legendgroup": "Winter Olympics 2022",
         "lon": [
          116.4074
         ],
         "marker": {
          "color": "#19d3f3"
         },
         "mode": "markers",
         "name": "Winter Olympics 2022",
         "showlegend": true,
         "subplot": "mapbox",
         "type": "scattermapbox"
        },
        {
         "hovertemplate": "country=Yemen<br>lat=%{lat}<br>long=%{lon}<extra></extra>",
         "lat": [
          15.552727
         ],
         "legendgroup": "Yemen",
         "lon": [
          48.516388
         ],
         "marker": {
          "color": "#FF6692"
         },
         "mode": "markers",
         "name": "Yemen",
         "showlegend": true,
         "subplot": "mapbox",
         "type": "scattermapbox"
        },
        {
         "hovertemplate": "country=Zambia<br>lat=%{lat}<br>long=%{lon}<extra></extra>",
         "lat": [
          -13.133897
         ],
         "legendgroup": "Zambia",
         "lon": [
          27.849332
         ],
         "marker": {
          "color": "#B6E880"
         },
         "mode": "markers",
         "name": "Zambia",
         "showlegend": true,
         "subplot": "mapbox",
         "type": "scattermapbox"
        },
        {
         "hovertemplate": "country=Zimbabwe<br>lat=%{lat}<br>long=%{lon}<extra></extra>",
         "lat": [
          -19.015438
         ],
         "legendgroup": "Zimbabwe",
         "lon": [
          29.154857
         ],
         "marker": {
          "color": "#FF97FF"
         },
         "mode": "markers",
         "name": "Zimbabwe",
         "showlegend": true,
         "subplot": "mapbox",
         "type": "scattermapbox"
        }
       ],
       "layout": {
        "legend": {
         "title": {
          "text": "country"
         },
         "tracegroupgap": 0
        },
        "mapbox": {
         "center": {
          "lat": 20.177864826855092,
          "lon": 22.33169125088338
         },
         "domain": {
          "x": [
           0,
           1
          ],
          "y": [
           0,
           1
          ]
         },
         "style": "carto-positron",
         "zoom": 0
        },
        "margin": {
         "t": 60
        },
        "template": {
         "data": {
          "bar": [
           {
            "error_x": {
             "color": "#2a3f5f"
            },
            "error_y": {
             "color": "#2a3f5f"
            },
            "marker": {
             "line": {
              "color": "#E5ECF6",
              "width": 0.5
             },
             "pattern": {
              "fillmode": "overlay",
              "size": 10,
              "solidity": 0.2
             }
            },
            "type": "bar"
           }
          ],
          "barpolar": [
           {
            "marker": {
             "line": {
              "color": "#E5ECF6",
              "width": 0.5
             },
             "pattern": {
              "fillmode": "overlay",
              "size": 10,
              "solidity": 0.2
             }
            },
            "type": "barpolar"
           }
          ],
          "carpet": [
           {
            "aaxis": {
             "endlinecolor": "#2a3f5f",
             "gridcolor": "white",
             "linecolor": "white",
             "minorgridcolor": "white",
             "startlinecolor": "#2a3f5f"
            },
            "baxis": {
             "endlinecolor": "#2a3f5f",
             "gridcolor": "white",
             "linecolor": "white",
             "minorgridcolor": "white",
             "startlinecolor": "#2a3f5f"
            },
            "type": "carpet"
           }
          ],
          "choropleth": [
           {
            "colorbar": {
             "outlinewidth": 0,
             "ticks": ""
            },
            "type": "choropleth"
           }
          ],
          "contour": [
           {
            "colorbar": {
             "outlinewidth": 0,
             "ticks": ""
            },
            "colorscale": [
             [
              0,
              "#0d0887"
             ],
             [
              0.1111111111111111,
              "#46039f"
             ],
             [
              0.2222222222222222,
              "#7201a8"
             ],
             [
              0.3333333333333333,
              "#9c179e"
             ],
             [
              0.4444444444444444,
              "#bd3786"
             ],
             [
              0.5555555555555556,
              "#d8576b"
             ],
             [
              0.6666666666666666,
              "#ed7953"
             ],
             [
              0.7777777777777778,
              "#fb9f3a"
             ],
             [
              0.8888888888888888,
              "#fdca26"
             ],
             [
              1,
              "#f0f921"
             ]
            ],
            "type": "contour"
           }
          ],
          "contourcarpet": [
           {
            "colorbar": {
             "outlinewidth": 0,
             "ticks": ""
            },
            "type": "contourcarpet"
           }
          ],
          "heatmap": [
           {
            "colorbar": {
             "outlinewidth": 0,
             "ticks": ""
            },
            "colorscale": [
             [
              0,
              "#0d0887"
             ],
             [
              0.1111111111111111,
              "#46039f"
             ],
             [
              0.2222222222222222,
              "#7201a8"
             ],
             [
              0.3333333333333333,
              "#9c179e"
             ],
             [
              0.4444444444444444,
              "#bd3786"
             ],
             [
              0.5555555555555556,
              "#d8576b"
             ],
             [
              0.6666666666666666,
              "#ed7953"
             ],
             [
              0.7777777777777778,
              "#fb9f3a"
             ],
             [
              0.8888888888888888,
              "#fdca26"
             ],
             [
              1,
              "#f0f921"
             ]
            ],
            "type": "heatmap"
           }
          ],
          "heatmapgl": [
           {
            "colorbar": {
             "outlinewidth": 0,
             "ticks": ""
            },
            "colorscale": [
             [
              0,
              "#0d0887"
             ],
             [
              0.1111111111111111,
              "#46039f"
             ],
             [
              0.2222222222222222,
              "#7201a8"
             ],
             [
              0.3333333333333333,
              "#9c179e"
             ],
             [
              0.4444444444444444,
              "#bd3786"
             ],
             [
              0.5555555555555556,
              "#d8576b"
             ],
             [
              0.6666666666666666,
              "#ed7953"
             ],
             [
              0.7777777777777778,
              "#fb9f3a"
             ],
             [
              0.8888888888888888,
              "#fdca26"
             ],
             [
              1,
              "#f0f921"
             ]
            ],
            "type": "heatmapgl"
           }
          ],
          "histogram": [
           {
            "marker": {
             "pattern": {
              "fillmode": "overlay",
              "size": 10,
              "solidity": 0.2
             }
            },
            "type": "histogram"
           }
          ],
          "histogram2d": [
           {
            "colorbar": {
             "outlinewidth": 0,
             "ticks": ""
            },
            "colorscale": [
             [
              0,
              "#0d0887"
             ],
             [
              0.1111111111111111,
              "#46039f"
             ],
             [
              0.2222222222222222,
              "#7201a8"
             ],
             [
              0.3333333333333333,
              "#9c179e"
             ],
             [
              0.4444444444444444,
              "#bd3786"
             ],
             [
              0.5555555555555556,
              "#d8576b"
             ],
             [
              0.6666666666666666,
              "#ed7953"
             ],
             [
              0.7777777777777778,
              "#fb9f3a"
             ],
             [
              0.8888888888888888,
              "#fdca26"
             ],
             [
              1,
              "#f0f921"
             ]
            ],
            "type": "histogram2d"
           }
          ],
          "histogram2dcontour": [
           {
            "colorbar": {
             "outlinewidth": 0,
             "ticks": ""
            },
            "colorscale": [
             [
              0,
              "#0d0887"
             ],
             [
              0.1111111111111111,
              "#46039f"
             ],
             [
              0.2222222222222222,
              "#7201a8"
             ],
             [
              0.3333333333333333,
              "#9c179e"
             ],
             [
              0.4444444444444444,
              "#bd3786"
             ],
             [
              0.5555555555555556,
              "#d8576b"
             ],
             [
              0.6666666666666666,
              "#ed7953"
             ],
             [
              0.7777777777777778,
              "#fb9f3a"
             ],
             [
              0.8888888888888888,
              "#fdca26"
             ],
             [
              1,
              "#f0f921"
             ]
            ],
            "type": "histogram2dcontour"
           }
          ],
          "mesh3d": [
           {
            "colorbar": {
             "outlinewidth": 0,
             "ticks": ""
            },
            "type": "mesh3d"
           }
          ],
          "parcoords": [
           {
            "line": {
             "colorbar": {
              "outlinewidth": 0,
              "ticks": ""
             }
            },
            "type": "parcoords"
           }
          ],
          "pie": [
           {
            "automargin": true,
            "type": "pie"
           }
          ],
          "scatter": [
           {
            "marker": {
             "colorbar": {
              "outlinewidth": 0,
              "ticks": ""
             }
            },
            "type": "scatter"
           }
          ],
          "scatter3d": [
           {
            "line": {
             "colorbar": {
              "outlinewidth": 0,
              "ticks": ""
             }
            },
            "marker": {
             "colorbar": {
              "outlinewidth": 0,
              "ticks": ""
             }
            },
            "type": "scatter3d"
           }
          ],
          "scattercarpet": [
           {
            "marker": {
             "colorbar": {
              "outlinewidth": 0,
              "ticks": ""
             }
            },
            "type": "scattercarpet"
           }
          ],
          "scattergeo": [
           {
            "marker": {
             "colorbar": {
              "outlinewidth": 0,
              "ticks": ""
             }
            },
            "type": "scattergeo"
           }
          ],
          "scattergl": [
           {
            "marker": {
             "colorbar": {
              "outlinewidth": 0,
              "ticks": ""
             }
            },
            "type": "scattergl"
           }
          ],
          "scattermapbox": [
           {
            "marker": {
             "colorbar": {
              "outlinewidth": 0,
              "ticks": ""
             }
            },
            "type": "scattermapbox"
           }
          ],
          "scatterpolar": [
           {
            "marker": {
             "colorbar": {
              "outlinewidth": 0,
              "ticks": ""
             }
            },
            "type": "scatterpolar"
           }
          ],
          "scatterpolargl": [
           {
            "marker": {
             "colorbar": {
              "outlinewidth": 0,
              "ticks": ""
             }
            },
            "type": "scatterpolargl"
           }
          ],
          "scatterternary": [
           {
            "marker": {
             "colorbar": {
              "outlinewidth": 0,
              "ticks": ""
             }
            },
            "type": "scatterternary"
           }
          ],
          "surface": [
           {
            "colorbar": {
             "outlinewidth": 0,
             "ticks": ""
            },
            "colorscale": [
             [
              0,
              "#0d0887"
             ],
             [
              0.1111111111111111,
              "#46039f"
             ],
             [
              0.2222222222222222,
              "#7201a8"
             ],
             [
              0.3333333333333333,
              "#9c179e"
             ],
             [
              0.4444444444444444,
              "#bd3786"
             ],
             [
              0.5555555555555556,
              "#d8576b"
             ],
             [
              0.6666666666666666,
              "#ed7953"
             ],
             [
              0.7777777777777778,
              "#fb9f3a"
             ],
             [
              0.8888888888888888,
              "#fdca26"
             ],
             [
              1,
              "#f0f921"
             ]
            ],
            "type": "surface"
           }
          ],
          "table": [
           {
            "cells": {
             "fill": {
              "color": "#EBF0F8"
             },
             "line": {
              "color": "white"
             }
            },
            "header": {
             "fill": {
              "color": "#C8D4E3"
             },
             "line": {
              "color": "white"
             }
            },
            "type": "table"
           }
          ]
         },
         "layout": {
          "annotationdefaults": {
           "arrowcolor": "#2a3f5f",
           "arrowhead": 0,
           "arrowwidth": 1
          },
          "autotypenumbers": "strict",
          "coloraxis": {
           "colorbar": {
            "outlinewidth": 0,
            "ticks": ""
           }
          },
          "colorscale": {
           "diverging": [
            [
             0,
             "#8e0152"
            ],
            [
             0.1,
             "#c51b7d"
            ],
            [
             0.2,
             "#de77ae"
            ],
            [
             0.3,
             "#f1b6da"
            ],
            [
             0.4,
             "#fde0ef"
            ],
            [
             0.5,
             "#f7f7f7"
            ],
            [
             0.6,
             "#e6f5d0"
            ],
            [
             0.7,
             "#b8e186"
            ],
            [
             0.8,
             "#7fbc41"
            ],
            [
             0.9,
             "#4d9221"
            ],
            [
             1,
             "#276419"
            ]
           ],
           "sequential": [
            [
             0,
             "#0d0887"
            ],
            [
             0.1111111111111111,
             "#46039f"
            ],
            [
             0.2222222222222222,
             "#7201a8"
            ],
            [
             0.3333333333333333,
             "#9c179e"
            ],
            [
             0.4444444444444444,
             "#bd3786"
            ],
            [
             0.5555555555555556,
             "#d8576b"
            ],
            [
             0.6666666666666666,
             "#ed7953"
            ],
            [
             0.7777777777777778,
             "#fb9f3a"
            ],
            [
             0.8888888888888888,
             "#fdca26"
            ],
            [
             1,
             "#f0f921"
            ]
           ],
           "sequentialminus": [
            [
             0,
             "#0d0887"
            ],
            [
             0.1111111111111111,
             "#46039f"
            ],
            [
             0.2222222222222222,
             "#7201a8"
            ],
            [
             0.3333333333333333,
             "#9c179e"
            ],
            [
             0.4444444444444444,
             "#bd3786"
            ],
            [
             0.5555555555555556,
             "#d8576b"
            ],
            [
             0.6666666666666666,
             "#ed7953"
            ],
            [
             0.7777777777777778,
             "#fb9f3a"
            ],
            [
             0.8888888888888888,
             "#fdca26"
            ],
            [
             1,
             "#f0f921"
            ]
           ]
          },
          "colorway": [
           "#636efa",
           "#EF553B",
           "#00cc96",
           "#ab63fa",
           "#FFA15A",
           "#19d3f3",
           "#FF6692",
           "#B6E880",
           "#FF97FF",
           "#FECB52"
          ],
          "font": {
           "color": "#2a3f5f"
          },
          "geo": {
           "bgcolor": "white",
           "lakecolor": "white",
           "landcolor": "#E5ECF6",
           "showlakes": true,
           "showland": true,
           "subunitcolor": "white"
          },
          "hoverlabel": {
           "align": "left"
          },
          "hovermode": "closest",
          "mapbox": {
           "style": "light"
          },
          "paper_bgcolor": "white",
          "plot_bgcolor": "#E5ECF6",
          "polar": {
           "angularaxis": {
            "gridcolor": "white",
            "linecolor": "white",
            "ticks": ""
           },
           "bgcolor": "#E5ECF6",
           "radialaxis": {
            "gridcolor": "white",
            "linecolor": "white",
            "ticks": ""
           }
          },
          "scene": {
           "xaxis": {
            "backgroundcolor": "#E5ECF6",
            "gridcolor": "white",
            "gridwidth": 2,
            "linecolor": "white",
            "showbackground": true,
            "ticks": "",
            "zerolinecolor": "white"
           },
           "yaxis": {
            "backgroundcolor": "#E5ECF6",
            "gridcolor": "white",
            "gridwidth": 2,
            "linecolor": "white",
            "showbackground": true,
            "ticks": "",
            "zerolinecolor": "white"
           },
           "zaxis": {
            "backgroundcolor": "#E5ECF6",
            "gridcolor": "white",
            "gridwidth": 2,
            "linecolor": "white",
            "showbackground": true,
            "ticks": "",
            "zerolinecolor": "white"
           }
          },
          "shapedefaults": {
           "line": {
            "color": "#2a3f5f"
           }
          },
          "ternary": {
           "aaxis": {
            "gridcolor": "white",
            "linecolor": "white",
            "ticks": ""
           },
           "baxis": {
            "gridcolor": "white",
            "linecolor": "white",
            "ticks": ""
           },
           "bgcolor": "#E5ECF6",
           "caxis": {
            "gridcolor": "white",
            "linecolor": "white",
            "ticks": ""
           }
          },
          "title": {
           "x": 0.05
          },
          "xaxis": {
           "automargin": true,
           "gridcolor": "white",
           "linecolor": "white",
           "ticks": "",
           "title": {
            "standoff": 15
           },
           "zerolinecolor": "white",
           "zerolinewidth": 2
          },
          "yaxis": {
           "automargin": true,
           "gridcolor": "white",
           "linecolor": "white",
           "ticks": "",
           "title": {
            "standoff": 15
           },
           "zerolinecolor": "white",
           "zerolinewidth": 2
          }
         }
        },
        "title": {
         "text": "Global spread of COVID-19. (Last updated on 5/24/22)"
        }
       }
      },
      "text/html": [
       "<div>                            <div id=\"20747dcd-c0ee-47a0-b881-482c87dcac82\" class=\"plotly-graph-div\" style=\"height:525px; width:100%;\"></div>            <script type=\"text/javascript\">                require([\"plotly\"], function(Plotly) {                    window.PLOTLYENV=window.PLOTLYENV || {};                                    if (document.getElementById(\"20747dcd-c0ee-47a0-b881-482c87dcac82\")) {                    Plotly.newPlot(                        \"20747dcd-c0ee-47a0-b881-482c87dcac82\",                        [{\"hovertemplate\":\"country=Afghanistan<br>lat=%{lat}<br>long=%{lon}<extra></extra>\",\"lat\":[33.93911],\"legendgroup\":\"Afghanistan\",\"lon\":[67.709953],\"marker\":{\"color\":\"#636efa\"},\"mode\":\"markers\",\"name\":\"Afghanistan\",\"showlegend\":true,\"subplot\":\"mapbox\",\"type\":\"scattermapbox\"},{\"hovertemplate\":\"country=Albania<br>lat=%{lat}<br>long=%{lon}<extra></extra>\",\"lat\":[41.1533],\"legendgroup\":\"Albania\",\"lon\":[20.1683],\"marker\":{\"color\":\"#EF553B\"},\"mode\":\"markers\",\"name\":\"Albania\",\"showlegend\":true,\"subplot\":\"mapbox\",\"type\":\"scattermapbox\"},{\"hovertemplate\":\"country=Algeria<br>lat=%{lat}<br>long=%{lon}<extra></extra>\",\"lat\":[28.0339],\"legendgroup\":\"Algeria\",\"lon\":[1.6596],\"marker\":{\"color\":\"#00cc96\"},\"mode\":\"markers\",\"name\":\"Algeria\",\"showlegend\":true,\"subplot\":\"mapbox\",\"type\":\"scattermapbox\"},{\"hovertemplate\":\"country=Andorra<br>lat=%{lat}<br>long=%{lon}<extra></extra>\",\"lat\":[42.5063],\"legendgroup\":\"Andorra\",\"lon\":[1.5218],\"marker\":{\"color\":\"#ab63fa\"},\"mode\":\"markers\",\"name\":\"Andorra\",\"showlegend\":true,\"subplot\":\"mapbox\",\"type\":\"scattermapbox\"},{\"hovertemplate\":\"country=Angola<br>lat=%{lat}<br>long=%{lon}<extra></extra>\",\"lat\":[-11.2027],\"legendgroup\":\"Angola\",\"lon\":[17.8739],\"marker\":{\"color\":\"#FFA15A\"},\"mode\":\"markers\",\"name\":\"Angola\",\"showlegend\":true,\"subplot\":\"mapbox\",\"type\":\"scattermapbox\"},{\"hovertemplate\":\"country=Antarctica<br>lat=%{lat}<br>long=%{lon}<extra></extra>\",\"lat\":[-71.9499],\"legendgroup\":\"Antarctica\",\"lon\":[23.347],\"marker\":{\"color\":\"#19d3f3\"},\"mode\":\"markers\",\"name\":\"Antarctica\",\"showlegend\":true,\"subplot\":\"mapbox\",\"type\":\"scattermapbox\"},{\"hovertemplate\":\"country=Antigua and Barbuda<br>lat=%{lat}<br>long=%{lon}<extra></extra>\",\"lat\":[17.0608],\"legendgroup\":\"Antigua and Barbuda\",\"lon\":[-61.7964],\"marker\":{\"color\":\"#FF6692\"},\"mode\":\"markers\",\"name\":\"Antigua and Barbuda\",\"showlegend\":true,\"subplot\":\"mapbox\",\"type\":\"scattermapbox\"},{\"hovertemplate\":\"country=Argentina<br>lat=%{lat}<br>long=%{lon}<extra></extra>\",\"lat\":[-38.4161],\"legendgroup\":\"Argentina\",\"lon\":[-63.6167],\"marker\":{\"color\":\"#B6E880\"},\"mode\":\"markers\",\"name\":\"Argentina\",\"showlegend\":true,\"subplot\":\"mapbox\",\"type\":\"scattermapbox\"},{\"hovertemplate\":\"country=Armenia<br>lat=%{lat}<br>long=%{lon}<extra></extra>\",\"lat\":[40.0691],\"legendgroup\":\"Armenia\",\"lon\":[45.0382],\"marker\":{\"color\":\"#FF97FF\"},\"mode\":\"markers\",\"name\":\"Armenia\",\"showlegend\":true,\"subplot\":\"mapbox\",\"type\":\"scattermapbox\"},{\"hovertemplate\":\"country=Australia<br>lat=%{lat}<br>long=%{lon}<extra></extra>\",\"lat\":[-35.4735,-33.8688,-12.4634,-27.4698,-34.9285,-42.8821,-37.8136,-31.9505],\"legendgroup\":\"Australia\",\"lon\":[149.0124,151.2093,130.8456,153.0251,138.6007,147.3272,144.9631,115.8605],\"marker\":{\"color\":\"#FECB52\"},\"mode\":\"markers\",\"name\":\"Australia\",\"showlegend\":true,\"subplot\":\"mapbox\",\"type\":\"scattermapbox\"},{\"hovertemplate\":\"country=Austria<br>lat=%{lat}<br>long=%{lon}<extra></extra>\",\"lat\":[47.5162],\"legendgroup\":\"Austria\",\"lon\":[14.5501],\"marker\":{\"color\":\"#636efa\"},\"mode\":\"markers\",\"name\":\"Austria\",\"showlegend\":true,\"subplot\":\"mapbox\",\"type\":\"scattermapbox\"},{\"hovertemplate\":\"country=Azerbaijan<br>lat=%{lat}<br>long=%{lon}<extra></extra>\",\"lat\":[40.1431],\"legendgroup\":\"Azerbaijan\",\"lon\":[47.5769],\"marker\":{\"color\":\"#EF553B\"},\"mode\":\"markers\",\"name\":\"Azerbaijan\",\"showlegend\":true,\"subplot\":\"mapbox\",\"type\":\"scattermapbox\"},{\"hovertemplate\":\"country=Bahamas<br>lat=%{lat}<br>long=%{lon}<extra></extra>\",\"lat\":[25.025885],\"legendgroup\":\"Bahamas\",\"lon\":[-78.035889],\"marker\":{\"color\":\"#00cc96\"},\"mode\":\"markers\",\"name\":\"Bahamas\",\"showlegend\":true,\"subplot\":\"mapbox\",\"type\":\"scattermapbox\"},{\"hovertemplate\":\"country=Bahrain<br>lat=%{lat}<br>long=%{lon}<extra></extra>\",\"lat\":[26.0275],\"legendgroup\":\"Bahrain\",\"lon\":[50.55],\"marker\":{\"color\":\"#ab63fa\"},\"mode\":\"markers\",\"name\":\"Bahrain\",\"showlegend\":true,\"subplot\":\"mapbox\",\"type\":\"scattermapbox\"},{\"hovertemplate\":\"country=Bangladesh<br>lat=%{lat}<br>long=%{lon}<extra></extra>\",\"lat\":[23.685],\"legendgroup\":\"Bangladesh\",\"lon\":[90.3563],\"marker\":{\"color\":\"#FFA15A\"},\"mode\":\"markers\",\"name\":\"Bangladesh\",\"showlegend\":true,\"subplot\":\"mapbox\",\"type\":\"scattermapbox\"},{\"hovertemplate\":\"country=Barbados<br>lat=%{lat}<br>long=%{lon}<extra></extra>\",\"lat\":[13.1939],\"legendgroup\":\"Barbados\",\"lon\":[-59.5432],\"marker\":{\"color\":\"#19d3f3\"},\"mode\":\"markers\",\"name\":\"Barbados\",\"showlegend\":true,\"subplot\":\"mapbox\",\"type\":\"scattermapbox\"},{\"hovertemplate\":\"country=Belarus<br>lat=%{lat}<br>long=%{lon}<extra></extra>\",\"lat\":[53.7098],\"legendgroup\":\"Belarus\",\"lon\":[27.9534],\"marker\":{\"color\":\"#FF6692\"},\"mode\":\"markers\",\"name\":\"Belarus\",\"showlegend\":true,\"subplot\":\"mapbox\",\"type\":\"scattermapbox\"},{\"hovertemplate\":\"country=Belgium<br>lat=%{lat}<br>long=%{lon}<extra></extra>\",\"lat\":[50.8333],\"legendgroup\":\"Belgium\",\"lon\":[4.469936],\"marker\":{\"color\":\"#B6E880\"},\"mode\":\"markers\",\"name\":\"Belgium\",\"showlegend\":true,\"subplot\":\"mapbox\",\"type\":\"scattermapbox\"},{\"hovertemplate\":\"country=Belize<br>lat=%{lat}<br>long=%{lon}<extra></extra>\",\"lat\":[17.1899],\"legendgroup\":\"Belize\",\"lon\":[-88.4976],\"marker\":{\"color\":\"#FF97FF\"},\"mode\":\"markers\",\"name\":\"Belize\",\"showlegend\":true,\"subplot\":\"mapbox\",\"type\":\"scattermapbox\"},{\"hovertemplate\":\"country=Benin<br>lat=%{lat}<br>long=%{lon}<extra></extra>\",\"lat\":[9.3077],\"legendgroup\":\"Benin\",\"lon\":[2.3158],\"marker\":{\"color\":\"#FECB52\"},\"mode\":\"markers\",\"name\":\"Benin\",\"showlegend\":true,\"subplot\":\"mapbox\",\"type\":\"scattermapbox\"},{\"hovertemplate\":\"country=Bhutan<br>lat=%{lat}<br>long=%{lon}<extra></extra>\",\"lat\":[27.5142],\"legendgroup\":\"Bhutan\",\"lon\":[90.4336],\"marker\":{\"color\":\"#636efa\"},\"mode\":\"markers\",\"name\":\"Bhutan\",\"showlegend\":true,\"subplot\":\"mapbox\",\"type\":\"scattermapbox\"},{\"hovertemplate\":\"country=Bolivia<br>lat=%{lat}<br>long=%{lon}<extra></extra>\",\"lat\":[-16.2902],\"legendgroup\":\"Bolivia\",\"lon\":[-63.5887],\"marker\":{\"color\":\"#EF553B\"},\"mode\":\"markers\",\"name\":\"Bolivia\",\"showlegend\":true,\"subplot\":\"mapbox\",\"type\":\"scattermapbox\"},{\"hovertemplate\":\"country=Bosnia and Herzegovina<br>lat=%{lat}<br>long=%{lon}<extra></extra>\",\"lat\":[43.9159],\"legendgroup\":\"Bosnia and Herzegovina\",\"lon\":[17.6791],\"marker\":{\"color\":\"#00cc96\"},\"mode\":\"markers\",\"name\":\"Bosnia and Herzegovina\",\"showlegend\":true,\"subplot\":\"mapbox\",\"type\":\"scattermapbox\"},{\"hovertemplate\":\"country=Botswana<br>lat=%{lat}<br>long=%{lon}<extra></extra>\",\"lat\":[-22.3285],\"legendgroup\":\"Botswana\",\"lon\":[24.6849],\"marker\":{\"color\":\"#ab63fa\"},\"mode\":\"markers\",\"name\":\"Botswana\",\"showlegend\":true,\"subplot\":\"mapbox\",\"type\":\"scattermapbox\"},{\"hovertemplate\":\"country=Brazil<br>lat=%{lat}<br>long=%{lon}<extra></extra>\",\"lat\":[-14.235],\"legendgroup\":\"Brazil\",\"lon\":[-51.9253],\"marker\":{\"color\":\"#FFA15A\"},\"mode\":\"markers\",\"name\":\"Brazil\",\"showlegend\":true,\"subplot\":\"mapbox\",\"type\":\"scattermapbox\"},{\"hovertemplate\":\"country=Brunei<br>lat=%{lat}<br>long=%{lon}<extra></extra>\",\"lat\":[4.5353],\"legendgroup\":\"Brunei\",\"lon\":[114.7277],\"marker\":{\"color\":\"#19d3f3\"},\"mode\":\"markers\",\"name\":\"Brunei\",\"showlegend\":true,\"subplot\":\"mapbox\",\"type\":\"scattermapbox\"},{\"hovertemplate\":\"country=Bulgaria<br>lat=%{lat}<br>long=%{lon}<extra></extra>\",\"lat\":[42.7339],\"legendgroup\":\"Bulgaria\",\"lon\":[25.4858],\"marker\":{\"color\":\"#FF6692\"},\"mode\":\"markers\",\"name\":\"Bulgaria\",\"showlegend\":true,\"subplot\":\"mapbox\",\"type\":\"scattermapbox\"},{\"hovertemplate\":\"country=Burkina Faso<br>lat=%{lat}<br>long=%{lon}<extra></extra>\",\"lat\":[12.2383],\"legendgroup\":\"Burkina Faso\",\"lon\":[-1.5616],\"marker\":{\"color\":\"#B6E880\"},\"mode\":\"markers\",\"name\":\"Burkina Faso\",\"showlegend\":true,\"subplot\":\"mapbox\",\"type\":\"scattermapbox\"},{\"hovertemplate\":\"country=Burma<br>lat=%{lat}<br>long=%{lon}<extra></extra>\",\"lat\":[21.9162],\"legendgroup\":\"Burma\",\"lon\":[95.956],\"marker\":{\"color\":\"#FF97FF\"},\"mode\":\"markers\",\"name\":\"Burma\",\"showlegend\":true,\"subplot\":\"mapbox\",\"type\":\"scattermapbox\"},{\"hovertemplate\":\"country=Burundi<br>lat=%{lat}<br>long=%{lon}<extra></extra>\",\"lat\":[-3.3731],\"legendgroup\":\"Burundi\",\"lon\":[29.9189],\"marker\":{\"color\":\"#FECB52\"},\"mode\":\"markers\",\"name\":\"Burundi\",\"showlegend\":true,\"subplot\":\"mapbox\",\"type\":\"scattermapbox\"},{\"hovertemplate\":\"country=Cabo Verde<br>lat=%{lat}<br>long=%{lon}<extra></extra>\",\"lat\":[16.5388],\"legendgroup\":\"Cabo Verde\",\"lon\":[-23.0418],\"marker\":{\"color\":\"#636efa\"},\"mode\":\"markers\",\"name\":\"Cabo Verde\",\"showlegend\":true,\"subplot\":\"mapbox\",\"type\":\"scattermapbox\"},{\"hovertemplate\":\"country=Cambodia<br>lat=%{lat}<br>long=%{lon}<extra></extra>\",\"lat\":[11.55],\"legendgroup\":\"Cambodia\",\"lon\":[104.9167],\"marker\":{\"color\":\"#EF553B\"},\"mode\":\"markers\",\"name\":\"Cambodia\",\"showlegend\":true,\"subplot\":\"mapbox\",\"type\":\"scattermapbox\"},{\"hovertemplate\":\"country=Cameroon<br>lat=%{lat}<br>long=%{lon}<extra></extra>\",\"lat\":[3.848],\"legendgroup\":\"Cameroon\",\"lon\":[11.5021],\"marker\":{\"color\":\"#00cc96\"},\"mode\":\"markers\",\"name\":\"Cameroon\",\"showlegend\":true,\"subplot\":\"mapbox\",\"type\":\"scattermapbox\"},{\"hovertemplate\":\"country=Canada<br>lat=%{lat}<br>long=%{lon}<extra></extra>\",\"lat\":[53.9333,53.7267,0.0,0.0,53.7609,46.5653,53.1355,64.8255,44.682,70.2998,51.2538,46.5107,52.9399,52.9399,64.2823],\"legendgroup\":\"Canada\",\"lon\":[-116.5765,-127.6476,0.0,0.0,-98.8139,-66.4619,-57.6604,-124.8457,-63.7443,-83.1076,-85.3232,-63.4168,-73.5491,-106.4509,-135.0],\"marker\":{\"color\":\"#ab63fa\"},\"mode\":\"markers\",\"name\":\"Canada\",\"showlegend\":true,\"subplot\":\"mapbox\",\"type\":\"scattermapbox\"},{\"hovertemplate\":\"country=Central African Republic<br>lat=%{lat}<br>long=%{lon}<extra></extra>\",\"lat\":[6.6111],\"legendgroup\":\"Central African Republic\",\"lon\":[20.9394],\"marker\":{\"color\":\"#FFA15A\"},\"mode\":\"markers\",\"name\":\"Central African Republic\",\"showlegend\":true,\"subplot\":\"mapbox\",\"type\":\"scattermapbox\"},{\"hovertemplate\":\"country=Chad<br>lat=%{lat}<br>long=%{lon}<extra></extra>\",\"lat\":[15.4542],\"legendgroup\":\"Chad\",\"lon\":[18.7322],\"marker\":{\"color\":\"#19d3f3\"},\"mode\":\"markers\",\"name\":\"Chad\",\"showlegend\":true,\"subplot\":\"mapbox\",\"type\":\"scattermapbox\"},{\"hovertemplate\":\"country=Chile<br>lat=%{lat}<br>long=%{lon}<extra></extra>\",\"lat\":[-35.6751],\"legendgroup\":\"Chile\",\"lon\":[-71.543],\"marker\":{\"color\":\"#FF6692\"},\"mode\":\"markers\",\"name\":\"Chile\",\"showlegend\":true,\"subplot\":\"mapbox\",\"type\":\"scattermapbox\"},{\"hovertemplate\":\"country=China<br>lat=%{lat}<br>long=%{lon}<extra></extra>\",\"lat\":[31.8257,40.1824,30.0572,26.0789,35.7518,23.3417,23.8298,26.8154,19.1959,39.549,47.862,37.8957,22.3,30.9756,27.6104,44.0935,32.9711,27.614,43.6661,41.2956,22.1667,37.2692,35.7452,35.1917,36.3427,31.202,37.5777,30.6171,39.3054,31.6927,41.1129,24.974,29.1832],\"legendgroup\":\"China\",\"lon\":[117.2264,116.4142,107.874,117.9874,104.2861,113.4244,108.7881,106.8748,109.7453,116.1306,127.7615,114.9042,114.2,112.2707,111.7088,113.9448,119.455,115.7221,126.1923,122.6085,113.55,106.1655,95.9956,108.8701,118.1498,121.4491,112.2922,102.7103,117.323,88.0924,85.2401,101.487,120.0934],\"marker\":{\"color\":\"#B6E880\"},\"mode\":\"markers\",\"name\":\"China\",\"showlegend\":true,\"subplot\":\"mapbox\",\"type\":\"scattermapbox\"},{\"hovertemplate\":\"country=Colombia<br>lat=%{lat}<br>long=%{lon}<extra></extra>\",\"lat\":[4.5709],\"legendgroup\":\"Colombia\",\"lon\":[-74.2973],\"marker\":{\"color\":\"#FF97FF\"},\"mode\":\"markers\",\"name\":\"Colombia\",\"showlegend\":true,\"subplot\":\"mapbox\",\"type\":\"scattermapbox\"},{\"hovertemplate\":\"country=Comoros<br>lat=%{lat}<br>long=%{lon}<extra></extra>\",\"lat\":[-11.6455],\"legendgroup\":\"Comoros\",\"lon\":[43.3333],\"marker\":{\"color\":\"#FECB52\"},\"mode\":\"markers\",\"name\":\"Comoros\",\"showlegend\":true,\"subplot\":\"mapbox\",\"type\":\"scattermapbox\"},{\"hovertemplate\":\"country=Congo (Brazzaville)<br>lat=%{lat}<br>long=%{lon}<extra></extra>\",\"lat\":[-0.228],\"legendgroup\":\"Congo (Brazzaville)\",\"lon\":[15.8277],\"marker\":{\"color\":\"#636efa\"},\"mode\":\"markers\",\"name\":\"Congo (Brazzaville)\",\"showlegend\":true,\"subplot\":\"mapbox\",\"type\":\"scattermapbox\"},{\"hovertemplate\":\"country=Congo (Kinshasa)<br>lat=%{lat}<br>long=%{lon}<extra></extra>\",\"lat\":[-4.0383],\"legendgroup\":\"Congo (Kinshasa)\",\"lon\":[21.7587],\"marker\":{\"color\":\"#EF553B\"},\"mode\":\"markers\",\"name\":\"Congo (Kinshasa)\",\"showlegend\":true,\"subplot\":\"mapbox\",\"type\":\"scattermapbox\"},{\"hovertemplate\":\"country=Costa Rica<br>lat=%{lat}<br>long=%{lon}<extra></extra>\",\"lat\":[9.7489],\"legendgroup\":\"Costa Rica\",\"lon\":[-83.7534],\"marker\":{\"color\":\"#00cc96\"},\"mode\":\"markers\",\"name\":\"Costa Rica\",\"showlegend\":true,\"subplot\":\"mapbox\",\"type\":\"scattermapbox\"},{\"hovertemplate\":\"country=Cote d'Ivoire<br>lat=%{lat}<br>long=%{lon}<extra></extra>\",\"lat\":[7.54],\"legendgroup\":\"Cote d'Ivoire\",\"lon\":[-5.5471],\"marker\":{\"color\":\"#ab63fa\"},\"mode\":\"markers\",\"name\":\"Cote d'Ivoire\",\"showlegend\":true,\"subplot\":\"mapbox\",\"type\":\"scattermapbox\"},{\"hovertemplate\":\"country=Croatia<br>lat=%{lat}<br>long=%{lon}<extra></extra>\",\"lat\":[45.1],\"legendgroup\":\"Croatia\",\"lon\":[15.2],\"marker\":{\"color\":\"#FFA15A\"},\"mode\":\"markers\",\"name\":\"Croatia\",\"showlegend\":true,\"subplot\":\"mapbox\",\"type\":\"scattermapbox\"},{\"hovertemplate\":\"country=Cuba<br>lat=%{lat}<br>long=%{lon}<extra></extra>\",\"lat\":[21.521757],\"legendgroup\":\"Cuba\",\"lon\":[-77.781167],\"marker\":{\"color\":\"#19d3f3\"},\"mode\":\"markers\",\"name\":\"Cuba\",\"showlegend\":true,\"subplot\":\"mapbox\",\"type\":\"scattermapbox\"},{\"hovertemplate\":\"country=Cyprus<br>lat=%{lat}<br>long=%{lon}<extra></extra>\",\"lat\":[35.1264],\"legendgroup\":\"Cyprus\",\"lon\":[33.4299],\"marker\":{\"color\":\"#FF6692\"},\"mode\":\"markers\",\"name\":\"Cyprus\",\"showlegend\":true,\"subplot\":\"mapbox\",\"type\":\"scattermapbox\"},{\"hovertemplate\":\"country=Czechia<br>lat=%{lat}<br>long=%{lon}<extra></extra>\",\"lat\":[49.8175],\"legendgroup\":\"Czechia\",\"lon\":[15.473],\"marker\":{\"color\":\"#B6E880\"},\"mode\":\"markers\",\"name\":\"Czechia\",\"showlegend\":true,\"subplot\":\"mapbox\",\"type\":\"scattermapbox\"},{\"hovertemplate\":\"country=Denmark<br>lat=%{lat}<br>long=%{lon}<extra></extra>\",\"lat\":[61.8926,71.7069,56.2639],\"legendgroup\":\"Denmark\",\"lon\":[-6.9118,-42.6043,9.5018],\"marker\":{\"color\":\"#FF97FF\"},\"mode\":\"markers\",\"name\":\"Denmark\",\"showlegend\":true,\"subplot\":\"mapbox\",\"type\":\"scattermapbox\"},{\"hovertemplate\":\"country=Diamond Princess<br>lat=%{lat}<br>long=%{lon}<extra></extra>\",\"lat\":[0.0],\"legendgroup\":\"Diamond Princess\",\"lon\":[0.0],\"marker\":{\"color\":\"#FECB52\"},\"mode\":\"markers\",\"name\":\"Diamond Princess\",\"showlegend\":true,\"subplot\":\"mapbox\",\"type\":\"scattermapbox\"},{\"hovertemplate\":\"country=Djibouti<br>lat=%{lat}<br>long=%{lon}<extra></extra>\",\"lat\":[11.8251],\"legendgroup\":\"Djibouti\",\"lon\":[42.5903],\"marker\":{\"color\":\"#636efa\"},\"mode\":\"markers\",\"name\":\"Djibouti\",\"showlegend\":true,\"subplot\":\"mapbox\",\"type\":\"scattermapbox\"},{\"hovertemplate\":\"country=Dominica<br>lat=%{lat}<br>long=%{lon}<extra></extra>\",\"lat\":[15.415],\"legendgroup\":\"Dominica\",\"lon\":[-61.371],\"marker\":{\"color\":\"#EF553B\"},\"mode\":\"markers\",\"name\":\"Dominica\",\"showlegend\":true,\"subplot\":\"mapbox\",\"type\":\"scattermapbox\"},{\"hovertemplate\":\"country=Dominican Republic<br>lat=%{lat}<br>long=%{lon}<extra></extra>\",\"lat\":[18.7357],\"legendgroup\":\"Dominican Republic\",\"lon\":[-70.1627],\"marker\":{\"color\":\"#00cc96\"},\"mode\":\"markers\",\"name\":\"Dominican Republic\",\"showlegend\":true,\"subplot\":\"mapbox\",\"type\":\"scattermapbox\"},{\"hovertemplate\":\"country=Ecuador<br>lat=%{lat}<br>long=%{lon}<extra></extra>\",\"lat\":[-1.8312],\"legendgroup\":\"Ecuador\",\"lon\":[-78.1834],\"marker\":{\"color\":\"#ab63fa\"},\"mode\":\"markers\",\"name\":\"Ecuador\",\"showlegend\":true,\"subplot\":\"mapbox\",\"type\":\"scattermapbox\"},{\"hovertemplate\":\"country=Egypt<br>lat=%{lat}<br>long=%{lon}<extra></extra>\",\"lat\":[26.820553],\"legendgroup\":\"Egypt\",\"lon\":[30.802498],\"marker\":{\"color\":\"#FFA15A\"},\"mode\":\"markers\",\"name\":\"Egypt\",\"showlegend\":true,\"subplot\":\"mapbox\",\"type\":\"scattermapbox\"},{\"hovertemplate\":\"country=El Salvador<br>lat=%{lat}<br>long=%{lon}<extra></extra>\",\"lat\":[13.7942],\"legendgroup\":\"El Salvador\",\"lon\":[-88.8965],\"marker\":{\"color\":\"#19d3f3\"},\"mode\":\"markers\",\"name\":\"El Salvador\",\"showlegend\":true,\"subplot\":\"mapbox\",\"type\":\"scattermapbox\"},{\"hovertemplate\":\"country=Equatorial Guinea<br>lat=%{lat}<br>long=%{lon}<extra></extra>\",\"lat\":[1.6508],\"legendgroup\":\"Equatorial Guinea\",\"lon\":[10.2679],\"marker\":{\"color\":\"#FF6692\"},\"mode\":\"markers\",\"name\":\"Equatorial Guinea\",\"showlegend\":true,\"subplot\":\"mapbox\",\"type\":\"scattermapbox\"},{\"hovertemplate\":\"country=Eritrea<br>lat=%{lat}<br>long=%{lon}<extra></extra>\",\"lat\":[15.1794],\"legendgroup\":\"Eritrea\",\"lon\":[39.7823],\"marker\":{\"color\":\"#B6E880\"},\"mode\":\"markers\",\"name\":\"Eritrea\",\"showlegend\":true,\"subplot\":\"mapbox\",\"type\":\"scattermapbox\"},{\"hovertemplate\":\"country=Estonia<br>lat=%{lat}<br>long=%{lon}<extra></extra>\",\"lat\":[58.5953],\"legendgroup\":\"Estonia\",\"lon\":[25.0136],\"marker\":{\"color\":\"#FF97FF\"},\"mode\":\"markers\",\"name\":\"Estonia\",\"showlegend\":true,\"subplot\":\"mapbox\",\"type\":\"scattermapbox\"},{\"hovertemplate\":\"country=Eswatini<br>lat=%{lat}<br>long=%{lon}<extra></extra>\",\"lat\":[-26.5225],\"legendgroup\":\"Eswatini\",\"lon\":[31.4659],\"marker\":{\"color\":\"#FECB52\"},\"mode\":\"markers\",\"name\":\"Eswatini\",\"showlegend\":true,\"subplot\":\"mapbox\",\"type\":\"scattermapbox\"},{\"hovertemplate\":\"country=Ethiopia<br>lat=%{lat}<br>long=%{lon}<extra></extra>\",\"lat\":[9.145],\"legendgroup\":\"Ethiopia\",\"lon\":[40.4897],\"marker\":{\"color\":\"#636efa\"},\"mode\":\"markers\",\"name\":\"Ethiopia\",\"showlegend\":true,\"subplot\":\"mapbox\",\"type\":\"scattermapbox\"},{\"hovertemplate\":\"country=Fiji<br>lat=%{lat}<br>long=%{lon}<extra></extra>\",\"lat\":[-17.7134],\"legendgroup\":\"Fiji\",\"lon\":[178.065],\"marker\":{\"color\":\"#EF553B\"},\"mode\":\"markers\",\"name\":\"Fiji\",\"showlegend\":true,\"subplot\":\"mapbox\",\"type\":\"scattermapbox\"},{\"hovertemplate\":\"country=Finland<br>lat=%{lat}<br>long=%{lon}<extra></extra>\",\"lat\":[61.92411],\"legendgroup\":\"Finland\",\"lon\":[25.748151],\"marker\":{\"color\":\"#00cc96\"},\"mode\":\"markers\",\"name\":\"Finland\",\"showlegend\":true,\"subplot\":\"mapbox\",\"type\":\"scattermapbox\"},{\"hovertemplate\":\"country=France<br>lat=%{lat}<br>long=%{lon}<extra></extra>\",\"lat\":[3.9339,-17.6797,16.265,14.6415,-12.8275,-20.904305,-21.1151,17.9,46.8852,18.0708,-14.2938,46.2276],\"legendgroup\":\"France\",\"lon\":[-53.1258,149.4068,-61.551,-61.0242,45.166244,165.618042,55.5364,-62.8333,-56.3159,-63.0501,-178.1165,2.2137],\"marker\":{\"color\":\"#ab63fa\"},\"mode\":\"markers\",\"name\":\"France\",\"showlegend\":true,\"subplot\":\"mapbox\",\"type\":\"scattermapbox\"},{\"hovertemplate\":\"country=Gabon<br>lat=%{lat}<br>long=%{lon}<extra></extra>\",\"lat\":[-0.8037],\"legendgroup\":\"Gabon\",\"lon\":[11.6094],\"marker\":{\"color\":\"#FFA15A\"},\"mode\":\"markers\",\"name\":\"Gabon\",\"showlegend\":true,\"subplot\":\"mapbox\",\"type\":\"scattermapbox\"},{\"hovertemplate\":\"country=Gambia<br>lat=%{lat}<br>long=%{lon}<extra></extra>\",\"lat\":[13.4432],\"legendgroup\":\"Gambia\",\"lon\":[-15.3101],\"marker\":{\"color\":\"#19d3f3\"},\"mode\":\"markers\",\"name\":\"Gambia\",\"showlegend\":true,\"subplot\":\"mapbox\",\"type\":\"scattermapbox\"},{\"hovertemplate\":\"country=Georgia<br>lat=%{lat}<br>long=%{lon}<extra></extra>\",\"lat\":[42.3154],\"legendgroup\":\"Georgia\",\"lon\":[43.3569],\"marker\":{\"color\":\"#FF6692\"},\"mode\":\"markers\",\"name\":\"Georgia\",\"showlegend\":true,\"subplot\":\"mapbox\",\"type\":\"scattermapbox\"},{\"hovertemplate\":\"country=Germany<br>lat=%{lat}<br>long=%{lon}<extra></extra>\",\"lat\":[51.165691],\"legendgroup\":\"Germany\",\"lon\":[10.451526],\"marker\":{\"color\":\"#B6E880\"},\"mode\":\"markers\",\"name\":\"Germany\",\"showlegend\":true,\"subplot\":\"mapbox\",\"type\":\"scattermapbox\"},{\"hovertemplate\":\"country=Ghana<br>lat=%{lat}<br>long=%{lon}<extra></extra>\",\"lat\":[7.9465],\"legendgroup\":\"Ghana\",\"lon\":[-1.0232],\"marker\":{\"color\":\"#FF97FF\"},\"mode\":\"markers\",\"name\":\"Ghana\",\"showlegend\":true,\"subplot\":\"mapbox\",\"type\":\"scattermapbox\"},{\"hovertemplate\":\"country=Greece<br>lat=%{lat}<br>long=%{lon}<extra></extra>\",\"lat\":[39.0742],\"legendgroup\":\"Greece\",\"lon\":[21.8243],\"marker\":{\"color\":\"#FECB52\"},\"mode\":\"markers\",\"name\":\"Greece\",\"showlegend\":true,\"subplot\":\"mapbox\",\"type\":\"scattermapbox\"},{\"hovertemplate\":\"country=Grenada<br>lat=%{lat}<br>long=%{lon}<extra></extra>\",\"lat\":[12.1165],\"legendgroup\":\"Grenada\",\"lon\":[-61.679],\"marker\":{\"color\":\"#636efa\"},\"mode\":\"markers\",\"name\":\"Grenada\",\"showlegend\":true,\"subplot\":\"mapbox\",\"type\":\"scattermapbox\"},{\"hovertemplate\":\"country=Guatemala<br>lat=%{lat}<br>long=%{lon}<extra></extra>\",\"lat\":[15.7835],\"legendgroup\":\"Guatemala\",\"lon\":[-90.2308],\"marker\":{\"color\":\"#EF553B\"},\"mode\":\"markers\",\"name\":\"Guatemala\",\"showlegend\":true,\"subplot\":\"mapbox\",\"type\":\"scattermapbox\"},{\"hovertemplate\":\"country=Guinea<br>lat=%{lat}<br>long=%{lon}<extra></extra>\",\"lat\":[9.9456],\"legendgroup\":\"Guinea\",\"lon\":[-9.6966],\"marker\":{\"color\":\"#00cc96\"},\"mode\":\"markers\",\"name\":\"Guinea\",\"showlegend\":true,\"subplot\":\"mapbox\",\"type\":\"scattermapbox\"},{\"hovertemplate\":\"country=Guinea-Bissau<br>lat=%{lat}<br>long=%{lon}<extra></extra>\",\"lat\":[11.8037],\"legendgroup\":\"Guinea-Bissau\",\"lon\":[-15.1804],\"marker\":{\"color\":\"#ab63fa\"},\"mode\":\"markers\",\"name\":\"Guinea-Bissau\",\"showlegend\":true,\"subplot\":\"mapbox\",\"type\":\"scattermapbox\"},{\"hovertemplate\":\"country=Guyana<br>lat=%{lat}<br>long=%{lon}<extra></extra>\",\"lat\":[4.860416],\"legendgroup\":\"Guyana\",\"lon\":[-58.93018],\"marker\":{\"color\":\"#FFA15A\"},\"mode\":\"markers\",\"name\":\"Guyana\",\"showlegend\":true,\"subplot\":\"mapbox\",\"type\":\"scattermapbox\"},{\"hovertemplate\":\"country=Haiti<br>lat=%{lat}<br>long=%{lon}<extra></extra>\",\"lat\":[18.9712],\"legendgroup\":\"Haiti\",\"lon\":[-72.2852],\"marker\":{\"color\":\"#19d3f3\"},\"mode\":\"markers\",\"name\":\"Haiti\",\"showlegend\":true,\"subplot\":\"mapbox\",\"type\":\"scattermapbox\"},{\"hovertemplate\":\"country=Holy See<br>lat=%{lat}<br>long=%{lon}<extra></extra>\",\"lat\":[41.9029],\"legendgroup\":\"Holy See\",\"lon\":[12.4534],\"marker\":{\"color\":\"#FF6692\"},\"mode\":\"markers\",\"name\":\"Holy See\",\"showlegend\":true,\"subplot\":\"mapbox\",\"type\":\"scattermapbox\"},{\"hovertemplate\":\"country=Honduras<br>lat=%{lat}<br>long=%{lon}<extra></extra>\",\"lat\":[15.2],\"legendgroup\":\"Honduras\",\"lon\":[-86.2419],\"marker\":{\"color\":\"#B6E880\"},\"mode\":\"markers\",\"name\":\"Honduras\",\"showlegend\":true,\"subplot\":\"mapbox\",\"type\":\"scattermapbox\"},{\"hovertemplate\":\"country=Hungary<br>lat=%{lat}<br>long=%{lon}<extra></extra>\",\"lat\":[47.1625],\"legendgroup\":\"Hungary\",\"lon\":[19.5033],\"marker\":{\"color\":\"#FF97FF\"},\"mode\":\"markers\",\"name\":\"Hungary\",\"showlegend\":true,\"subplot\":\"mapbox\",\"type\":\"scattermapbox\"},{\"hovertemplate\":\"country=Iceland<br>lat=%{lat}<br>long=%{lon}<extra></extra>\",\"lat\":[64.9631],\"legendgroup\":\"Iceland\",\"lon\":[-19.0208],\"marker\":{\"color\":\"#FECB52\"},\"mode\":\"markers\",\"name\":\"Iceland\",\"showlegend\":true,\"subplot\":\"mapbox\",\"type\":\"scattermapbox\"},{\"hovertemplate\":\"country=India<br>lat=%{lat}<br>long=%{lon}<extra></extra>\",\"lat\":[20.593684],\"legendgroup\":\"India\",\"lon\":[78.96288],\"marker\":{\"color\":\"#636efa\"},\"mode\":\"markers\",\"name\":\"India\",\"showlegend\":true,\"subplot\":\"mapbox\",\"type\":\"scattermapbox\"},{\"hovertemplate\":\"country=Indonesia<br>lat=%{lat}<br>long=%{lon}<extra></extra>\",\"lat\":[-0.7893],\"legendgroup\":\"Indonesia\",\"lon\":[113.9213],\"marker\":{\"color\":\"#EF553B\"},\"mode\":\"markers\",\"name\":\"Indonesia\",\"showlegend\":true,\"subplot\":\"mapbox\",\"type\":\"scattermapbox\"},{\"hovertemplate\":\"country=Iran<br>lat=%{lat}<br>long=%{lon}<extra></extra>\",\"lat\":[32.427908],\"legendgroup\":\"Iran\",\"lon\":[53.688046],\"marker\":{\"color\":\"#00cc96\"},\"mode\":\"markers\",\"name\":\"Iran\",\"showlegend\":true,\"subplot\":\"mapbox\",\"type\":\"scattermapbox\"},{\"hovertemplate\":\"country=Iraq<br>lat=%{lat}<br>long=%{lon}<extra></extra>\",\"lat\":[33.223191],\"legendgroup\":\"Iraq\",\"lon\":[43.679291],\"marker\":{\"color\":\"#ab63fa\"},\"mode\":\"markers\",\"name\":\"Iraq\",\"showlegend\":true,\"subplot\":\"mapbox\",\"type\":\"scattermapbox\"},{\"hovertemplate\":\"country=Ireland<br>lat=%{lat}<br>long=%{lon}<extra></extra>\",\"lat\":[53.1424],\"legendgroup\":\"Ireland\",\"lon\":[-7.6921],\"marker\":{\"color\":\"#FFA15A\"},\"mode\":\"markers\",\"name\":\"Ireland\",\"showlegend\":true,\"subplot\":\"mapbox\",\"type\":\"scattermapbox\"},{\"hovertemplate\":\"country=Israel<br>lat=%{lat}<br>long=%{lon}<extra></extra>\",\"lat\":[31.046051],\"legendgroup\":\"Israel\",\"lon\":[34.851612],\"marker\":{\"color\":\"#19d3f3\"},\"mode\":\"markers\",\"name\":\"Israel\",\"showlegend\":true,\"subplot\":\"mapbox\",\"type\":\"scattermapbox\"},{\"hovertemplate\":\"country=Italy<br>lat=%{lat}<br>long=%{lon}<extra></extra>\",\"lat\":[41.87194],\"legendgroup\":\"Italy\",\"lon\":[12.56738],\"marker\":{\"color\":\"#FF6692\"},\"mode\":\"markers\",\"name\":\"Italy\",\"showlegend\":true,\"subplot\":\"mapbox\",\"type\":\"scattermapbox\"},{\"hovertemplate\":\"country=Jamaica<br>lat=%{lat}<br>long=%{lon}<extra></extra>\",\"lat\":[18.1096],\"legendgroup\":\"Jamaica\",\"lon\":[-77.2975],\"marker\":{\"color\":\"#B6E880\"},\"mode\":\"markers\",\"name\":\"Jamaica\",\"showlegend\":true,\"subplot\":\"mapbox\",\"type\":\"scattermapbox\"},{\"hovertemplate\":\"country=Japan<br>lat=%{lat}<br>long=%{lon}<extra></extra>\",\"lat\":[36.204824],\"legendgroup\":\"Japan\",\"lon\":[138.252924],\"marker\":{\"color\":\"#FF97FF\"},\"mode\":\"markers\",\"name\":\"Japan\",\"showlegend\":true,\"subplot\":\"mapbox\",\"type\":\"scattermapbox\"},{\"hovertemplate\":\"country=Jordan<br>lat=%{lat}<br>long=%{lon}<extra></extra>\",\"lat\":[31.24],\"legendgroup\":\"Jordan\",\"lon\":[36.51],\"marker\":{\"color\":\"#FECB52\"},\"mode\":\"markers\",\"name\":\"Jordan\",\"showlegend\":true,\"subplot\":\"mapbox\",\"type\":\"scattermapbox\"},{\"hovertemplate\":\"country=Kazakhstan<br>lat=%{lat}<br>long=%{lon}<extra></extra>\",\"lat\":[48.0196],\"legendgroup\":\"Kazakhstan\",\"lon\":[66.9237],\"marker\":{\"color\":\"#636efa\"},\"mode\":\"markers\",\"name\":\"Kazakhstan\",\"showlegend\":true,\"subplot\":\"mapbox\",\"type\":\"scattermapbox\"},{\"hovertemplate\":\"country=Kenya<br>lat=%{lat}<br>long=%{lon}<extra></extra>\",\"lat\":[-0.0236],\"legendgroup\":\"Kenya\",\"lon\":[37.9062],\"marker\":{\"color\":\"#EF553B\"},\"mode\":\"markers\",\"name\":\"Kenya\",\"showlegend\":true,\"subplot\":\"mapbox\",\"type\":\"scattermapbox\"},{\"hovertemplate\":\"country=Kiribati<br>lat=%{lat}<br>long=%{lon}<extra></extra>\",\"lat\":[-3.3704],\"legendgroup\":\"Kiribati\",\"lon\":[-168.734],\"marker\":{\"color\":\"#00cc96\"},\"mode\":\"markers\",\"name\":\"Kiribati\",\"showlegend\":true,\"subplot\":\"mapbox\",\"type\":\"scattermapbox\"},{\"hovertemplate\":\"country=Korea, North<br>lat=%{lat}<br>long=%{lon}<extra></extra>\",\"lat\":[40.3399],\"legendgroup\":\"Korea, North\",\"lon\":[127.5101],\"marker\":{\"color\":\"#ab63fa\"},\"mode\":\"markers\",\"name\":\"Korea, North\",\"showlegend\":true,\"subplot\":\"mapbox\",\"type\":\"scattermapbox\"},{\"hovertemplate\":\"country=Korea, South<br>lat=%{lat}<br>long=%{lon}<extra></extra>\",\"lat\":[35.907757],\"legendgroup\":\"Korea, South\",\"lon\":[127.766922],\"marker\":{\"color\":\"#FFA15A\"},\"mode\":\"markers\",\"name\":\"Korea, South\",\"showlegend\":true,\"subplot\":\"mapbox\",\"type\":\"scattermapbox\"},{\"hovertemplate\":\"country=Kosovo<br>lat=%{lat}<br>long=%{lon}<extra></extra>\",\"lat\":[42.602636],\"legendgroup\":\"Kosovo\",\"lon\":[20.902977],\"marker\":{\"color\":\"#19d3f3\"},\"mode\":\"markers\",\"name\":\"Kosovo\",\"showlegend\":true,\"subplot\":\"mapbox\",\"type\":\"scattermapbox\"},{\"hovertemplate\":\"country=Kuwait<br>lat=%{lat}<br>long=%{lon}<extra></extra>\",\"lat\":[29.31166],\"legendgroup\":\"Kuwait\",\"lon\":[47.481766],\"marker\":{\"color\":\"#FF6692\"},\"mode\":\"markers\",\"name\":\"Kuwait\",\"showlegend\":true,\"subplot\":\"mapbox\",\"type\":\"scattermapbox\"},{\"hovertemplate\":\"country=Kyrgyzstan<br>lat=%{lat}<br>long=%{lon}<extra></extra>\",\"lat\":[41.20438],\"legendgroup\":\"Kyrgyzstan\",\"lon\":[74.766098],\"marker\":{\"color\":\"#B6E880\"},\"mode\":\"markers\",\"name\":\"Kyrgyzstan\",\"showlegend\":true,\"subplot\":\"mapbox\",\"type\":\"scattermapbox\"},{\"hovertemplate\":\"country=Laos<br>lat=%{lat}<br>long=%{lon}<extra></extra>\",\"lat\":[19.85627],\"legendgroup\":\"Laos\",\"lon\":[102.495496],\"marker\":{\"color\":\"#FF97FF\"},\"mode\":\"markers\",\"name\":\"Laos\",\"showlegend\":true,\"subplot\":\"mapbox\",\"type\":\"scattermapbox\"},{\"hovertemplate\":\"country=Latvia<br>lat=%{lat}<br>long=%{lon}<extra></extra>\",\"lat\":[56.8796],\"legendgroup\":\"Latvia\",\"lon\":[24.6032],\"marker\":{\"color\":\"#FECB52\"},\"mode\":\"markers\",\"name\":\"Latvia\",\"showlegend\":true,\"subplot\":\"mapbox\",\"type\":\"scattermapbox\"},{\"hovertemplate\":\"country=Lebanon<br>lat=%{lat}<br>long=%{lon}<extra></extra>\",\"lat\":[33.8547],\"legendgroup\":\"Lebanon\",\"lon\":[35.8623],\"marker\":{\"color\":\"#636efa\"},\"mode\":\"markers\",\"name\":\"Lebanon\",\"showlegend\":true,\"subplot\":\"mapbox\",\"type\":\"scattermapbox\"},{\"hovertemplate\":\"country=Lesotho<br>lat=%{lat}<br>long=%{lon}<extra></extra>\",\"lat\":[-29.61],\"legendgroup\":\"Lesotho\",\"lon\":[28.2336],\"marker\":{\"color\":\"#EF553B\"},\"mode\":\"markers\",\"name\":\"Lesotho\",\"showlegend\":true,\"subplot\":\"mapbox\",\"type\":\"scattermapbox\"},{\"hovertemplate\":\"country=Liberia<br>lat=%{lat}<br>long=%{lon}<extra></extra>\",\"lat\":[6.428055],\"legendgroup\":\"Liberia\",\"lon\":[-9.429499],\"marker\":{\"color\":\"#00cc96\"},\"mode\":\"markers\",\"name\":\"Liberia\",\"showlegend\":true,\"subplot\":\"mapbox\",\"type\":\"scattermapbox\"},{\"hovertemplate\":\"country=Libya<br>lat=%{lat}<br>long=%{lon}<extra></extra>\",\"lat\":[26.3351],\"legendgroup\":\"Libya\",\"lon\":[17.228331],\"marker\":{\"color\":\"#ab63fa\"},\"mode\":\"markers\",\"name\":\"Libya\",\"showlegend\":true,\"subplot\":\"mapbox\",\"type\":\"scattermapbox\"},{\"hovertemplate\":\"country=Liechtenstein<br>lat=%{lat}<br>long=%{lon}<extra></extra>\",\"lat\":[47.14],\"legendgroup\":\"Liechtenstein\",\"lon\":[9.55],\"marker\":{\"color\":\"#FFA15A\"},\"mode\":\"markers\",\"name\":\"Liechtenstein\",\"showlegend\":true,\"subplot\":\"mapbox\",\"type\":\"scattermapbox\"},{\"hovertemplate\":\"country=Lithuania<br>lat=%{lat}<br>long=%{lon}<extra></extra>\",\"lat\":[55.1694],\"legendgroup\":\"Lithuania\",\"lon\":[23.8813],\"marker\":{\"color\":\"#19d3f3\"},\"mode\":\"markers\",\"name\":\"Lithuania\",\"showlegend\":true,\"subplot\":\"mapbox\",\"type\":\"scattermapbox\"},{\"hovertemplate\":\"country=Luxembourg<br>lat=%{lat}<br>long=%{lon}<extra></extra>\",\"lat\":[49.8153],\"legendgroup\":\"Luxembourg\",\"lon\":[6.1296],\"marker\":{\"color\":\"#FF6692\"},\"mode\":\"markers\",\"name\":\"Luxembourg\",\"showlegend\":true,\"subplot\":\"mapbox\",\"type\":\"scattermapbox\"},{\"hovertemplate\":\"country=MS Zaandam<br>lat=%{lat}<br>long=%{lon}<extra></extra>\",\"lat\":[0.0],\"legendgroup\":\"MS Zaandam\",\"lon\":[0.0],\"marker\":{\"color\":\"#B6E880\"},\"mode\":\"markers\",\"name\":\"MS Zaandam\",\"showlegend\":true,\"subplot\":\"mapbox\",\"type\":\"scattermapbox\"},{\"hovertemplate\":\"country=Madagascar<br>lat=%{lat}<br>long=%{lon}<extra></extra>\",\"lat\":[-18.766947],\"legendgroup\":\"Madagascar\",\"lon\":[46.869107],\"marker\":{\"color\":\"#FF97FF\"},\"mode\":\"markers\",\"name\":\"Madagascar\",\"showlegend\":true,\"subplot\":\"mapbox\",\"type\":\"scattermapbox\"},{\"hovertemplate\":\"country=Malawi<br>lat=%{lat}<br>long=%{lon}<extra></extra>\",\"lat\":[-13.2543],\"legendgroup\":\"Malawi\",\"lon\":[34.3015],\"marker\":{\"color\":\"#FECB52\"},\"mode\":\"markers\",\"name\":\"Malawi\",\"showlegend\":true,\"subplot\":\"mapbox\",\"type\":\"scattermapbox\"},{\"hovertemplate\":\"country=Malaysia<br>lat=%{lat}<br>long=%{lon}<extra></extra>\",\"lat\":[4.210484],\"legendgroup\":\"Malaysia\",\"lon\":[101.975766],\"marker\":{\"color\":\"#636efa\"},\"mode\":\"markers\",\"name\":\"Malaysia\",\"showlegend\":true,\"subplot\":\"mapbox\",\"type\":\"scattermapbox\"},{\"hovertemplate\":\"country=Maldives<br>lat=%{lat}<br>long=%{lon}<extra></extra>\",\"lat\":[3.2028],\"legendgroup\":\"Maldives\",\"lon\":[73.2207],\"marker\":{\"color\":\"#EF553B\"},\"mode\":\"markers\",\"name\":\"Maldives\",\"showlegend\":true,\"subplot\":\"mapbox\",\"type\":\"scattermapbox\"},{\"hovertemplate\":\"country=Mali<br>lat=%{lat}<br>long=%{lon}<extra></extra>\",\"lat\":[17.570692],\"legendgroup\":\"Mali\",\"lon\":[-3.996166],\"marker\":{\"color\":\"#00cc96\"},\"mode\":\"markers\",\"name\":\"Mali\",\"showlegend\":true,\"subplot\":\"mapbox\",\"type\":\"scattermapbox\"},{\"hovertemplate\":\"country=Malta<br>lat=%{lat}<br>long=%{lon}<extra></extra>\",\"lat\":[35.9375],\"legendgroup\":\"Malta\",\"lon\":[14.3754],\"marker\":{\"color\":\"#ab63fa\"},\"mode\":\"markers\",\"name\":\"Malta\",\"showlegend\":true,\"subplot\":\"mapbox\",\"type\":\"scattermapbox\"},{\"hovertemplate\":\"country=Marshall Islands<br>lat=%{lat}<br>long=%{lon}<extra></extra>\",\"lat\":[7.1315],\"legendgroup\":\"Marshall Islands\",\"lon\":[171.1845],\"marker\":{\"color\":\"#FFA15A\"},\"mode\":\"markers\",\"name\":\"Marshall Islands\",\"showlegend\":true,\"subplot\":\"mapbox\",\"type\":\"scattermapbox\"},{\"hovertemplate\":\"country=Mauritania<br>lat=%{lat}<br>long=%{lon}<extra></extra>\",\"lat\":[21.0079],\"legendgroup\":\"Mauritania\",\"lon\":[-10.9408],\"marker\":{\"color\":\"#19d3f3\"},\"mode\":\"markers\",\"name\":\"Mauritania\",\"showlegend\":true,\"subplot\":\"mapbox\",\"type\":\"scattermapbox\"},{\"hovertemplate\":\"country=Mauritius<br>lat=%{lat}<br>long=%{lon}<extra></extra>\",\"lat\":[-20.348404],\"legendgroup\":\"Mauritius\",\"lon\":[57.552152],\"marker\":{\"color\":\"#FF6692\"},\"mode\":\"markers\",\"name\":\"Mauritius\",\"showlegend\":true,\"subplot\":\"mapbox\",\"type\":\"scattermapbox\"},{\"hovertemplate\":\"country=Mexico<br>lat=%{lat}<br>long=%{lon}<extra></extra>\",\"lat\":[23.6345],\"legendgroup\":\"Mexico\",\"lon\":[-102.5528],\"marker\":{\"color\":\"#B6E880\"},\"mode\":\"markers\",\"name\":\"Mexico\",\"showlegend\":true,\"subplot\":\"mapbox\",\"type\":\"scattermapbox\"},{\"hovertemplate\":\"country=Micronesia<br>lat=%{lat}<br>long=%{lon}<extra></extra>\",\"lat\":[7.4256],\"legendgroup\":\"Micronesia\",\"lon\":[150.5508],\"marker\":{\"color\":\"#FF97FF\"},\"mode\":\"markers\",\"name\":\"Micronesia\",\"showlegend\":true,\"subplot\":\"mapbox\",\"type\":\"scattermapbox\"},{\"hovertemplate\":\"country=Moldova<br>lat=%{lat}<br>long=%{lon}<extra></extra>\",\"lat\":[47.4116],\"legendgroup\":\"Moldova\",\"lon\":[28.3699],\"marker\":{\"color\":\"#FECB52\"},\"mode\":\"markers\",\"name\":\"Moldova\",\"showlegend\":true,\"subplot\":\"mapbox\",\"type\":\"scattermapbox\"},{\"hovertemplate\":\"country=Monaco<br>lat=%{lat}<br>long=%{lon}<extra></extra>\",\"lat\":[43.7333],\"legendgroup\":\"Monaco\",\"lon\":[7.4167],\"marker\":{\"color\":\"#636efa\"},\"mode\":\"markers\",\"name\":\"Monaco\",\"showlegend\":true,\"subplot\":\"mapbox\",\"type\":\"scattermapbox\"},{\"hovertemplate\":\"country=Mongolia<br>lat=%{lat}<br>long=%{lon}<extra></extra>\",\"lat\":[46.8625],\"legendgroup\":\"Mongolia\",\"lon\":[103.8467],\"marker\":{\"color\":\"#EF553B\"},\"mode\":\"markers\",\"name\":\"Mongolia\",\"showlegend\":true,\"subplot\":\"mapbox\",\"type\":\"scattermapbox\"},{\"hovertemplate\":\"country=Montenegro<br>lat=%{lat}<br>long=%{lon}<extra></extra>\",\"lat\":[42.708678],\"legendgroup\":\"Montenegro\",\"lon\":[19.37439],\"marker\":{\"color\":\"#00cc96\"},\"mode\":\"markers\",\"name\":\"Montenegro\",\"showlegend\":true,\"subplot\":\"mapbox\",\"type\":\"scattermapbox\"},{\"hovertemplate\":\"country=Morocco<br>lat=%{lat}<br>long=%{lon}<extra></extra>\",\"lat\":[31.7917],\"legendgroup\":\"Morocco\",\"lon\":[-7.0926],\"marker\":{\"color\":\"#ab63fa\"},\"mode\":\"markers\",\"name\":\"Morocco\",\"showlegend\":true,\"subplot\":\"mapbox\",\"type\":\"scattermapbox\"},{\"hovertemplate\":\"country=Mozambique<br>lat=%{lat}<br>long=%{lon}<extra></extra>\",\"lat\":[-18.665695],\"legendgroup\":\"Mozambique\",\"lon\":[35.529562],\"marker\":{\"color\":\"#FFA15A\"},\"mode\":\"markers\",\"name\":\"Mozambique\",\"showlegend\":true,\"subplot\":\"mapbox\",\"type\":\"scattermapbox\"},{\"hovertemplate\":\"country=Namibia<br>lat=%{lat}<br>long=%{lon}<extra></extra>\",\"lat\":[-22.9576],\"legendgroup\":\"Namibia\",\"lon\":[18.4904],\"marker\":{\"color\":\"#19d3f3\"},\"mode\":\"markers\",\"name\":\"Namibia\",\"showlegend\":true,\"subplot\":\"mapbox\",\"type\":\"scattermapbox\"},{\"hovertemplate\":\"country=Nepal<br>lat=%{lat}<br>long=%{lon}<extra></extra>\",\"lat\":[28.1667],\"legendgroup\":\"Nepal\",\"lon\":[84.25],\"marker\":{\"color\":\"#FF6692\"},\"mode\":\"markers\",\"name\":\"Nepal\",\"showlegend\":true,\"subplot\":\"mapbox\",\"type\":\"scattermapbox\"},{\"hovertemplate\":\"country=Netherlands<br>lat=%{lat}<br>long=%{lon}<extra></extra>\",\"lat\":[12.5211,12.1784,12.1696,18.0425,52.1326],\"legendgroup\":\"Netherlands\",\"lon\":[-69.9683,-68.2385,-68.99,-63.0548,5.2913],\"marker\":{\"color\":\"#B6E880\"},\"mode\":\"markers\",\"name\":\"Netherlands\",\"showlegend\":true,\"subplot\":\"mapbox\",\"type\":\"scattermapbox\"},{\"hovertemplate\":\"country=New Zealand<br>lat=%{lat}<br>long=%{lon}<extra></extra>\",\"lat\":[-21.2367,-40.9006],\"legendgroup\":\"New Zealand\",\"lon\":[-159.7777,174.886],\"marker\":{\"color\":\"#FF97FF\"},\"mode\":\"markers\",\"name\":\"New Zealand\",\"showlegend\":true,\"subplot\":\"mapbox\",\"type\":\"scattermapbox\"},{\"hovertemplate\":\"country=Nicaragua<br>lat=%{lat}<br>long=%{lon}<extra></extra>\",\"lat\":[12.865416],\"legendgroup\":\"Nicaragua\",\"lon\":[-85.207229],\"marker\":{\"color\":\"#FECB52\"},\"mode\":\"markers\",\"name\":\"Nicaragua\",\"showlegend\":true,\"subplot\":\"mapbox\",\"type\":\"scattermapbox\"},{\"hovertemplate\":\"country=Niger<br>lat=%{lat}<br>long=%{lon}<extra></extra>\",\"lat\":[17.607789],\"legendgroup\":\"Niger\",\"lon\":[8.081666],\"marker\":{\"color\":\"#636efa\"},\"mode\":\"markers\",\"name\":\"Niger\",\"showlegend\":true,\"subplot\":\"mapbox\",\"type\":\"scattermapbox\"},{\"hovertemplate\":\"country=Nigeria<br>lat=%{lat}<br>long=%{lon}<extra></extra>\",\"lat\":[9.082],\"legendgroup\":\"Nigeria\",\"lon\":[8.6753],\"marker\":{\"color\":\"#EF553B\"},\"mode\":\"markers\",\"name\":\"Nigeria\",\"showlegend\":true,\"subplot\":\"mapbox\",\"type\":\"scattermapbox\"},{\"hovertemplate\":\"country=North Macedonia<br>lat=%{lat}<br>long=%{lon}<extra></extra>\",\"lat\":[41.6086],\"legendgroup\":\"North Macedonia\",\"lon\":[21.7453],\"marker\":{\"color\":\"#00cc96\"},\"mode\":\"markers\",\"name\":\"North Macedonia\",\"showlegend\":true,\"subplot\":\"mapbox\",\"type\":\"scattermapbox\"},{\"hovertemplate\":\"country=Norway<br>lat=%{lat}<br>long=%{lon}<extra></extra>\",\"lat\":[60.472],\"legendgroup\":\"Norway\",\"lon\":[8.4689],\"marker\":{\"color\":\"#ab63fa\"},\"mode\":\"markers\",\"name\":\"Norway\",\"showlegend\":true,\"subplot\":\"mapbox\",\"type\":\"scattermapbox\"},{\"hovertemplate\":\"country=Oman<br>lat=%{lat}<br>long=%{lon}<extra></extra>\",\"lat\":[21.512583],\"legendgroup\":\"Oman\",\"lon\":[55.923255],\"marker\":{\"color\":\"#FFA15A\"},\"mode\":\"markers\",\"name\":\"Oman\",\"showlegend\":true,\"subplot\":\"mapbox\",\"type\":\"scattermapbox\"},{\"hovertemplate\":\"country=Pakistan<br>lat=%{lat}<br>long=%{lon}<extra></extra>\",\"lat\":[30.3753],\"legendgroup\":\"Pakistan\",\"lon\":[69.3451],\"marker\":{\"color\":\"#19d3f3\"},\"mode\":\"markers\",\"name\":\"Pakistan\",\"showlegend\":true,\"subplot\":\"mapbox\",\"type\":\"scattermapbox\"},{\"hovertemplate\":\"country=Palau<br>lat=%{lat}<br>long=%{lon}<extra></extra>\",\"lat\":[7.515],\"legendgroup\":\"Palau\",\"lon\":[134.5825],\"marker\":{\"color\":\"#FF6692\"},\"mode\":\"markers\",\"name\":\"Palau\",\"showlegend\":true,\"subplot\":\"mapbox\",\"type\":\"scattermapbox\"},{\"hovertemplate\":\"country=Panama<br>lat=%{lat}<br>long=%{lon}<extra></extra>\",\"lat\":[8.538],\"legendgroup\":\"Panama\",\"lon\":[-80.7821],\"marker\":{\"color\":\"#B6E880\"},\"mode\":\"markers\",\"name\":\"Panama\",\"showlegend\":true,\"subplot\":\"mapbox\",\"type\":\"scattermapbox\"},{\"hovertemplate\":\"country=Papua New Guinea<br>lat=%{lat}<br>long=%{lon}<extra></extra>\",\"lat\":[-6.314993],\"legendgroup\":\"Papua New Guinea\",\"lon\":[143.95555],\"marker\":{\"color\":\"#FF97FF\"},\"mode\":\"markers\",\"name\":\"Papua New Guinea\",\"showlegend\":true,\"subplot\":\"mapbox\",\"type\":\"scattermapbox\"},{\"hovertemplate\":\"country=Paraguay<br>lat=%{lat}<br>long=%{lon}<extra></extra>\",\"lat\":[-23.4425],\"legendgroup\":\"Paraguay\",\"lon\":[-58.4438],\"marker\":{\"color\":\"#FECB52\"},\"mode\":\"markers\",\"name\":\"Paraguay\",\"showlegend\":true,\"subplot\":\"mapbox\",\"type\":\"scattermapbox\"},{\"hovertemplate\":\"country=Peru<br>lat=%{lat}<br>long=%{lon}<extra></extra>\",\"lat\":[-9.19],\"legendgroup\":\"Peru\",\"lon\":[-75.0152],\"marker\":{\"color\":\"#636efa\"},\"mode\":\"markers\",\"name\":\"Peru\",\"showlegend\":true,\"subplot\":\"mapbox\",\"type\":\"scattermapbox\"},{\"hovertemplate\":\"country=Philippines<br>lat=%{lat}<br>long=%{lon}<extra></extra>\",\"lat\":[12.879721],\"legendgroup\":\"Philippines\",\"lon\":[121.774017],\"marker\":{\"color\":\"#EF553B\"},\"mode\":\"markers\",\"name\":\"Philippines\",\"showlegend\":true,\"subplot\":\"mapbox\",\"type\":\"scattermapbox\"},{\"hovertemplate\":\"country=Poland<br>lat=%{lat}<br>long=%{lon}<extra></extra>\",\"lat\":[51.9194],\"legendgroup\":\"Poland\",\"lon\":[19.1451],\"marker\":{\"color\":\"#00cc96\"},\"mode\":\"markers\",\"name\":\"Poland\",\"showlegend\":true,\"subplot\":\"mapbox\",\"type\":\"scattermapbox\"},{\"hovertemplate\":\"country=Portugal<br>lat=%{lat}<br>long=%{lon}<extra></extra>\",\"lat\":[39.3999],\"legendgroup\":\"Portugal\",\"lon\":[-8.2245],\"marker\":{\"color\":\"#ab63fa\"},\"mode\":\"markers\",\"name\":\"Portugal\",\"showlegend\":true,\"subplot\":\"mapbox\",\"type\":\"scattermapbox\"},{\"hovertemplate\":\"country=Qatar<br>lat=%{lat}<br>long=%{lon}<extra></extra>\",\"lat\":[25.3548],\"legendgroup\":\"Qatar\",\"lon\":[51.1839],\"marker\":{\"color\":\"#FFA15A\"},\"mode\":\"markers\",\"name\":\"Qatar\",\"showlegend\":true,\"subplot\":\"mapbox\",\"type\":\"scattermapbox\"},{\"hovertemplate\":\"country=Romania<br>lat=%{lat}<br>long=%{lon}<extra></extra>\",\"lat\":[45.9432],\"legendgroup\":\"Romania\",\"lon\":[24.9668],\"marker\":{\"color\":\"#19d3f3\"},\"mode\":\"markers\",\"name\":\"Romania\",\"showlegend\":true,\"subplot\":\"mapbox\",\"type\":\"scattermapbox\"},{\"hovertemplate\":\"country=Russia<br>lat=%{lat}<br>long=%{lon}<extra></extra>\",\"lat\":[61.52401],\"legendgroup\":\"Russia\",\"lon\":[105.318756],\"marker\":{\"color\":\"#FF6692\"},\"mode\":\"markers\",\"name\":\"Russia\",\"showlegend\":true,\"subplot\":\"mapbox\",\"type\":\"scattermapbox\"},{\"hovertemplate\":\"country=Rwanda<br>lat=%{lat}<br>long=%{lon}<extra></extra>\",\"lat\":[-1.9403],\"legendgroup\":\"Rwanda\",\"lon\":[29.8739],\"marker\":{\"color\":\"#B6E880\"},\"mode\":\"markers\",\"name\":\"Rwanda\",\"showlegend\":true,\"subplot\":\"mapbox\",\"type\":\"scattermapbox\"},{\"hovertemplate\":\"country=Saint Kitts and Nevis<br>lat=%{lat}<br>long=%{lon}<extra></extra>\",\"lat\":[17.357822],\"legendgroup\":\"Saint Kitts and Nevis\",\"lon\":[-62.782998],\"marker\":{\"color\":\"#FF97FF\"},\"mode\":\"markers\",\"name\":\"Saint Kitts and Nevis\",\"showlegend\":true,\"subplot\":\"mapbox\",\"type\":\"scattermapbox\"},{\"hovertemplate\":\"country=Saint Lucia<br>lat=%{lat}<br>long=%{lon}<extra></extra>\",\"lat\":[13.9094],\"legendgroup\":\"Saint Lucia\",\"lon\":[-60.9789],\"marker\":{\"color\":\"#FECB52\"},\"mode\":\"markers\",\"name\":\"Saint Lucia\",\"showlegend\":true,\"subplot\":\"mapbox\",\"type\":\"scattermapbox\"},{\"hovertemplate\":\"country=Saint Vincent and the Grenadines<br>lat=%{lat}<br>long=%{lon}<extra></extra>\",\"lat\":[12.9843],\"legendgroup\":\"Saint Vincent and the Grenadines\",\"lon\":[-61.2872],\"marker\":{\"color\":\"#636efa\"},\"mode\":\"markers\",\"name\":\"Saint Vincent and the Grenadines\",\"showlegend\":true,\"subplot\":\"mapbox\",\"type\":\"scattermapbox\"},{\"hovertemplate\":\"country=Samoa<br>lat=%{lat}<br>long=%{lon}<extra></extra>\",\"lat\":[-13.759],\"legendgroup\":\"Samoa\",\"lon\":[-172.1046],\"marker\":{\"color\":\"#EF553B\"},\"mode\":\"markers\",\"name\":\"Samoa\",\"showlegend\":true,\"subplot\":\"mapbox\",\"type\":\"scattermapbox\"},{\"hovertemplate\":\"country=San Marino<br>lat=%{lat}<br>long=%{lon}<extra></extra>\",\"lat\":[43.9424],\"legendgroup\":\"San Marino\",\"lon\":[12.4578],\"marker\":{\"color\":\"#00cc96\"},\"mode\":\"markers\",\"name\":\"San Marino\",\"showlegend\":true,\"subplot\":\"mapbox\",\"type\":\"scattermapbox\"},{\"hovertemplate\":\"country=Sao Tome and Principe<br>lat=%{lat}<br>long=%{lon}<extra></extra>\",\"lat\":[0.1864],\"legendgroup\":\"Sao Tome and Principe\",\"lon\":[6.6131],\"marker\":{\"color\":\"#ab63fa\"},\"mode\":\"markers\",\"name\":\"Sao Tome and Principe\",\"showlegend\":true,\"subplot\":\"mapbox\",\"type\":\"scattermapbox\"},{\"hovertemplate\":\"country=Saudi Arabia<br>lat=%{lat}<br>long=%{lon}<extra></extra>\",\"lat\":[23.885942],\"legendgroup\":\"Saudi Arabia\",\"lon\":[45.079162],\"marker\":{\"color\":\"#FFA15A\"},\"mode\":\"markers\",\"name\":\"Saudi Arabia\",\"showlegend\":true,\"subplot\":\"mapbox\",\"type\":\"scattermapbox\"},{\"hovertemplate\":\"country=Senegal<br>lat=%{lat}<br>long=%{lon}<extra></extra>\",\"lat\":[14.4974],\"legendgroup\":\"Senegal\",\"lon\":[-14.4524],\"marker\":{\"color\":\"#19d3f3\"},\"mode\":\"markers\",\"name\":\"Senegal\",\"showlegend\":true,\"subplot\":\"mapbox\",\"type\":\"scattermapbox\"},{\"hovertemplate\":\"country=Serbia<br>lat=%{lat}<br>long=%{lon}<extra></extra>\",\"lat\":[44.0165],\"legendgroup\":\"Serbia\",\"lon\":[21.0059],\"marker\":{\"color\":\"#FF6692\"},\"mode\":\"markers\",\"name\":\"Serbia\",\"showlegend\":true,\"subplot\":\"mapbox\",\"type\":\"scattermapbox\"},{\"hovertemplate\":\"country=Seychelles<br>lat=%{lat}<br>long=%{lon}<extra></extra>\",\"lat\":[-4.6796],\"legendgroup\":\"Seychelles\",\"lon\":[55.492],\"marker\":{\"color\":\"#B6E880\"},\"mode\":\"markers\",\"name\":\"Seychelles\",\"showlegend\":true,\"subplot\":\"mapbox\",\"type\":\"scattermapbox\"},{\"hovertemplate\":\"country=Sierra Leone<br>lat=%{lat}<br>long=%{lon}<extra></extra>\",\"lat\":[8.460555],\"legendgroup\":\"Sierra Leone\",\"lon\":[-11.779889],\"marker\":{\"color\":\"#FF97FF\"},\"mode\":\"markers\",\"name\":\"Sierra Leone\",\"showlegend\":true,\"subplot\":\"mapbox\",\"type\":\"scattermapbox\"},{\"hovertemplate\":\"country=Singapore<br>lat=%{lat}<br>long=%{lon}<extra></extra>\",\"lat\":[1.2833],\"legendgroup\":\"Singapore\",\"lon\":[103.8333],\"marker\":{\"color\":\"#FECB52\"},\"mode\":\"markers\",\"name\":\"Singapore\",\"showlegend\":true,\"subplot\":\"mapbox\",\"type\":\"scattermapbox\"},{\"hovertemplate\":\"country=Slovakia<br>lat=%{lat}<br>long=%{lon}<extra></extra>\",\"lat\":[48.669],\"legendgroup\":\"Slovakia\",\"lon\":[19.699],\"marker\":{\"color\":\"#636efa\"},\"mode\":\"markers\",\"name\":\"Slovakia\",\"showlegend\":true,\"subplot\":\"mapbox\",\"type\":\"scattermapbox\"},{\"hovertemplate\":\"country=Slovenia<br>lat=%{lat}<br>long=%{lon}<extra></extra>\",\"lat\":[46.1512],\"legendgroup\":\"Slovenia\",\"lon\":[14.9955],\"marker\":{\"color\":\"#EF553B\"},\"mode\":\"markers\",\"name\":\"Slovenia\",\"showlegend\":true,\"subplot\":\"mapbox\",\"type\":\"scattermapbox\"},{\"hovertemplate\":\"country=Solomon Islands<br>lat=%{lat}<br>long=%{lon}<extra></extra>\",\"lat\":[-9.6457],\"legendgroup\":\"Solomon Islands\",\"lon\":[160.1562],\"marker\":{\"color\":\"#00cc96\"},\"mode\":\"markers\",\"name\":\"Solomon Islands\",\"showlegend\":true,\"subplot\":\"mapbox\",\"type\":\"scattermapbox\"},{\"hovertemplate\":\"country=Somalia<br>lat=%{lat}<br>long=%{lon}<extra></extra>\",\"lat\":[5.152149],\"legendgroup\":\"Somalia\",\"lon\":[46.199616],\"marker\":{\"color\":\"#ab63fa\"},\"mode\":\"markers\",\"name\":\"Somalia\",\"showlegend\":true,\"subplot\":\"mapbox\",\"type\":\"scattermapbox\"},{\"hovertemplate\":\"country=South Africa<br>lat=%{lat}<br>long=%{lon}<extra></extra>\",\"lat\":[-30.5595],\"legendgroup\":\"South Africa\",\"lon\":[22.9375],\"marker\":{\"color\":\"#FFA15A\"},\"mode\":\"markers\",\"name\":\"South Africa\",\"showlegend\":true,\"subplot\":\"mapbox\",\"type\":\"scattermapbox\"},{\"hovertemplate\":\"country=South Sudan<br>lat=%{lat}<br>long=%{lon}<extra></extra>\",\"lat\":[6.877],\"legendgroup\":\"South Sudan\",\"lon\":[31.307],\"marker\":{\"color\":\"#19d3f3\"},\"mode\":\"markers\",\"name\":\"South Sudan\",\"showlegend\":true,\"subplot\":\"mapbox\",\"type\":\"scattermapbox\"},{\"hovertemplate\":\"country=Spain<br>lat=%{lat}<br>long=%{lon}<extra></extra>\",\"lat\":[40.463667],\"legendgroup\":\"Spain\",\"lon\":[-3.74922],\"marker\":{\"color\":\"#FF6692\"},\"mode\":\"markers\",\"name\":\"Spain\",\"showlegend\":true,\"subplot\":\"mapbox\",\"type\":\"scattermapbox\"},{\"hovertemplate\":\"country=Sri Lanka<br>lat=%{lat}<br>long=%{lon}<extra></extra>\",\"lat\":[7.873054],\"legendgroup\":\"Sri Lanka\",\"lon\":[80.771797],\"marker\":{\"color\":\"#B6E880\"},\"mode\":\"markers\",\"name\":\"Sri Lanka\",\"showlegend\":true,\"subplot\":\"mapbox\",\"type\":\"scattermapbox\"},{\"hovertemplate\":\"country=Sudan<br>lat=%{lat}<br>long=%{lon}<extra></extra>\",\"lat\":[12.8628],\"legendgroup\":\"Sudan\",\"lon\":[30.2176],\"marker\":{\"color\":\"#FF97FF\"},\"mode\":\"markers\",\"name\":\"Sudan\",\"showlegend\":true,\"subplot\":\"mapbox\",\"type\":\"scattermapbox\"},{\"hovertemplate\":\"country=Summer Olympics 2020<br>lat=%{lat}<br>long=%{lon}<extra></extra>\",\"lat\":[35.6491],\"legendgroup\":\"Summer Olympics 2020\",\"lon\":[139.7737],\"marker\":{\"color\":\"#FECB52\"},\"mode\":\"markers\",\"name\":\"Summer Olympics 2020\",\"showlegend\":true,\"subplot\":\"mapbox\",\"type\":\"scattermapbox\"},{\"hovertemplate\":\"country=Suriname<br>lat=%{lat}<br>long=%{lon}<extra></extra>\",\"lat\":[3.9193],\"legendgroup\":\"Suriname\",\"lon\":[-56.0278],\"marker\":{\"color\":\"#636efa\"},\"mode\":\"markers\",\"name\":\"Suriname\",\"showlegend\":true,\"subplot\":\"mapbox\",\"type\":\"scattermapbox\"},{\"hovertemplate\":\"country=Sweden<br>lat=%{lat}<br>long=%{lon}<extra></extra>\",\"lat\":[60.128161],\"legendgroup\":\"Sweden\",\"lon\":[18.643501],\"marker\":{\"color\":\"#EF553B\"},\"mode\":\"markers\",\"name\":\"Sweden\",\"showlegend\":true,\"subplot\":\"mapbox\",\"type\":\"scattermapbox\"},{\"hovertemplate\":\"country=Switzerland<br>lat=%{lat}<br>long=%{lon}<extra></extra>\",\"lat\":[46.8182],\"legendgroup\":\"Switzerland\",\"lon\":[8.2275],\"marker\":{\"color\":\"#00cc96\"},\"mode\":\"markers\",\"name\":\"Switzerland\",\"showlegend\":true,\"subplot\":\"mapbox\",\"type\":\"scattermapbox\"},{\"hovertemplate\":\"country=Syria<br>lat=%{lat}<br>long=%{lon}<extra></extra>\",\"lat\":[34.802075],\"legendgroup\":\"Syria\",\"lon\":[38.996815],\"marker\":{\"color\":\"#ab63fa\"},\"mode\":\"markers\",\"name\":\"Syria\",\"showlegend\":true,\"subplot\":\"mapbox\",\"type\":\"scattermapbox\"},{\"hovertemplate\":\"country=Taiwan*<br>lat=%{lat}<br>long=%{lon}<extra></extra>\",\"lat\":[23.7],\"legendgroup\":\"Taiwan*\",\"lon\":[121.0],\"marker\":{\"color\":\"#FFA15A\"},\"mode\":\"markers\",\"name\":\"Taiwan*\",\"showlegend\":true,\"subplot\":\"mapbox\",\"type\":\"scattermapbox\"},{\"hovertemplate\":\"country=Tajikistan<br>lat=%{lat}<br>long=%{lon}<extra></extra>\",\"lat\":[38.861],\"legendgroup\":\"Tajikistan\",\"lon\":[71.2761],\"marker\":{\"color\":\"#19d3f3\"},\"mode\":\"markers\",\"name\":\"Tajikistan\",\"showlegend\":true,\"subplot\":\"mapbox\",\"type\":\"scattermapbox\"},{\"hovertemplate\":\"country=Tanzania<br>lat=%{lat}<br>long=%{lon}<extra></extra>\",\"lat\":[-6.369028],\"legendgroup\":\"Tanzania\",\"lon\":[34.888822],\"marker\":{\"color\":\"#FF6692\"},\"mode\":\"markers\",\"name\":\"Tanzania\",\"showlegend\":true,\"subplot\":\"mapbox\",\"type\":\"scattermapbox\"},{\"hovertemplate\":\"country=Thailand<br>lat=%{lat}<br>long=%{lon}<extra></extra>\",\"lat\":[15.870032],\"legendgroup\":\"Thailand\",\"lon\":[100.992541],\"marker\":{\"color\":\"#B6E880\"},\"mode\":\"markers\",\"name\":\"Thailand\",\"showlegend\":true,\"subplot\":\"mapbox\",\"type\":\"scattermapbox\"},{\"hovertemplate\":\"country=Timor-Leste<br>lat=%{lat}<br>long=%{lon}<extra></extra>\",\"lat\":[-8.874217],\"legendgroup\":\"Timor-Leste\",\"lon\":[125.727539],\"marker\":{\"color\":\"#FF97FF\"},\"mode\":\"markers\",\"name\":\"Timor-Leste\",\"showlegend\":true,\"subplot\":\"mapbox\",\"type\":\"scattermapbox\"},{\"hovertemplate\":\"country=Togo<br>lat=%{lat}<br>long=%{lon}<extra></extra>\",\"lat\":[8.6195],\"legendgroup\":\"Togo\",\"lon\":[0.8248],\"marker\":{\"color\":\"#FECB52\"},\"mode\":\"markers\",\"name\":\"Togo\",\"showlegend\":true,\"subplot\":\"mapbox\",\"type\":\"scattermapbox\"},{\"hovertemplate\":\"country=Tonga<br>lat=%{lat}<br>long=%{lon}<extra></extra>\",\"lat\":[-21.179],\"legendgroup\":\"Tonga\",\"lon\":[-175.1982],\"marker\":{\"color\":\"#636efa\"},\"mode\":\"markers\",\"name\":\"Tonga\",\"showlegend\":true,\"subplot\":\"mapbox\",\"type\":\"scattermapbox\"},{\"hovertemplate\":\"country=Trinidad and Tobago<br>lat=%{lat}<br>long=%{lon}<extra></extra>\",\"lat\":[10.6918],\"legendgroup\":\"Trinidad and Tobago\",\"lon\":[-61.2225],\"marker\":{\"color\":\"#EF553B\"},\"mode\":\"markers\",\"name\":\"Trinidad and Tobago\",\"showlegend\":true,\"subplot\":\"mapbox\",\"type\":\"scattermapbox\"},{\"hovertemplate\":\"country=Tunisia<br>lat=%{lat}<br>long=%{lon}<extra></extra>\",\"lat\":[33.886917],\"legendgroup\":\"Tunisia\",\"lon\":[9.537499],\"marker\":{\"color\":\"#00cc96\"},\"mode\":\"markers\",\"name\":\"Tunisia\",\"showlegend\":true,\"subplot\":\"mapbox\",\"type\":\"scattermapbox\"},{\"hovertemplate\":\"country=Turkey<br>lat=%{lat}<br>long=%{lon}<extra></extra>\",\"lat\":[38.9637],\"legendgroup\":\"Turkey\",\"lon\":[35.2433],\"marker\":{\"color\":\"#ab63fa\"},\"mode\":\"markers\",\"name\":\"Turkey\",\"showlegend\":true,\"subplot\":\"mapbox\",\"type\":\"scattermapbox\"},{\"hovertemplate\":\"country=US<br>lat=%{lat}<br>long=%{lon}<extra></extra>\",\"lat\":[40.0],\"legendgroup\":\"US\",\"lon\":[-100.0],\"marker\":{\"color\":\"#FFA15A\"},\"mode\":\"markers\",\"name\":\"US\",\"showlegend\":true,\"subplot\":\"mapbox\",\"type\":\"scattermapbox\"},{\"hovertemplate\":\"country=Uganda<br>lat=%{lat}<br>long=%{lon}<extra></extra>\",\"lat\":[1.373333],\"legendgroup\":\"Uganda\",\"lon\":[32.290275],\"marker\":{\"color\":\"#19d3f3\"},\"mode\":\"markers\",\"name\":\"Uganda\",\"showlegend\":true,\"subplot\":\"mapbox\",\"type\":\"scattermapbox\"},{\"hovertemplate\":\"country=Ukraine<br>lat=%{lat}<br>long=%{lon}<extra></extra>\",\"lat\":[48.3794],\"legendgroup\":\"Ukraine\",\"lon\":[31.1656],\"marker\":{\"color\":\"#FF6692\"},\"mode\":\"markers\",\"name\":\"Ukraine\",\"showlegend\":true,\"subplot\":\"mapbox\",\"type\":\"scattermapbox\"},{\"hovertemplate\":\"country=United Arab Emirates<br>lat=%{lat}<br>long=%{lon}<extra></extra>\",\"lat\":[23.424076],\"legendgroup\":\"United Arab Emirates\",\"lon\":[53.847818],\"marker\":{\"color\":\"#B6E880\"},\"mode\":\"markers\",\"name\":\"United Arab Emirates\",\"showlegend\":true,\"subplot\":\"mapbox\",\"type\":\"scattermapbox\"},{\"hovertemplate\":\"country=United Kingdom<br>lat=%{lat}<br>long=%{lon}<extra></extra>\",\"lat\":[18.2206,32.3078,18.4207,19.3133,49.3723,-51.7963,36.1408,49.448196,54.2361,49.2138,16.742498,-7.9467,21.694,55.3781],\"legendgroup\":\"United Kingdom\",\"lon\":[-63.0686,-64.7505,-64.64,-81.2546,-2.3644,-59.5236,-5.3536,-2.58949,-4.5481,-2.1358,-62.187366,-14.3559,-71.7979,-3.436],\"marker\":{\"color\":\"#FF97FF\"},\"mode\":\"markers\",\"name\":\"United Kingdom\",\"showlegend\":true,\"subplot\":\"mapbox\",\"type\":\"scattermapbox\"},{\"hovertemplate\":\"country=Uruguay<br>lat=%{lat}<br>long=%{lon}<extra></extra>\",\"lat\":[-32.5228],\"legendgroup\":\"Uruguay\",\"lon\":[-55.7658],\"marker\":{\"color\":\"#FECB52\"},\"mode\":\"markers\",\"name\":\"Uruguay\",\"showlegend\":true,\"subplot\":\"mapbox\",\"type\":\"scattermapbox\"},{\"hovertemplate\":\"country=Uzbekistan<br>lat=%{lat}<br>long=%{lon}<extra></extra>\",\"lat\":[41.377491],\"legendgroup\":\"Uzbekistan\",\"lon\":[64.585262],\"marker\":{\"color\":\"#636efa\"},\"mode\":\"markers\",\"name\":\"Uzbekistan\",\"showlegend\":true,\"subplot\":\"mapbox\",\"type\":\"scattermapbox\"},{\"hovertemplate\":\"country=Vanuatu<br>lat=%{lat}<br>long=%{lon}<extra></extra>\",\"lat\":[-15.3767],\"legendgroup\":\"Vanuatu\",\"lon\":[166.9592],\"marker\":{\"color\":\"#EF553B\"},\"mode\":\"markers\",\"name\":\"Vanuatu\",\"showlegend\":true,\"subplot\":\"mapbox\",\"type\":\"scattermapbox\"},{\"hovertemplate\":\"country=Venezuela<br>lat=%{lat}<br>long=%{lon}<extra></extra>\",\"lat\":[6.4238],\"legendgroup\":\"Venezuela\",\"lon\":[-66.5897],\"marker\":{\"color\":\"#00cc96\"},\"mode\":\"markers\",\"name\":\"Venezuela\",\"showlegend\":true,\"subplot\":\"mapbox\",\"type\":\"scattermapbox\"},{\"hovertemplate\":\"country=Vietnam<br>lat=%{lat}<br>long=%{lon}<extra></extra>\",\"lat\":[14.058324],\"legendgroup\":\"Vietnam\",\"lon\":[108.277199],\"marker\":{\"color\":\"#ab63fa\"},\"mode\":\"markers\",\"name\":\"Vietnam\",\"showlegend\":true,\"subplot\":\"mapbox\",\"type\":\"scattermapbox\"},{\"hovertemplate\":\"country=West Bank and Gaza<br>lat=%{lat}<br>long=%{lon}<extra></extra>\",\"lat\":[31.9522],\"legendgroup\":\"West Bank and Gaza\",\"lon\":[35.2332],\"marker\":{\"color\":\"#FFA15A\"},\"mode\":\"markers\",\"name\":\"West Bank and Gaza\",\"showlegend\":true,\"subplot\":\"mapbox\",\"type\":\"scattermapbox\"},{\"hovertemplate\":\"country=Winter Olympics 2022<br>lat=%{lat}<br>long=%{lon}<extra></extra>\",\"lat\":[39.9042],\"legendgroup\":\"Winter Olympics 2022\",\"lon\":[116.4074],\"marker\":{\"color\":\"#19d3f3\"},\"mode\":\"markers\",\"name\":\"Winter Olympics 2022\",\"showlegend\":true,\"subplot\":\"mapbox\",\"type\":\"scattermapbox\"},{\"hovertemplate\":\"country=Yemen<br>lat=%{lat}<br>long=%{lon}<extra></extra>\",\"lat\":[15.552727],\"legendgroup\":\"Yemen\",\"lon\":[48.516388],\"marker\":{\"color\":\"#FF6692\"},\"mode\":\"markers\",\"name\":\"Yemen\",\"showlegend\":true,\"subplot\":\"mapbox\",\"type\":\"scattermapbox\"},{\"hovertemplate\":\"country=Zambia<br>lat=%{lat}<br>long=%{lon}<extra></extra>\",\"lat\":[-13.133897],\"legendgroup\":\"Zambia\",\"lon\":[27.849332],\"marker\":{\"color\":\"#B6E880\"},\"mode\":\"markers\",\"name\":\"Zambia\",\"showlegend\":true,\"subplot\":\"mapbox\",\"type\":\"scattermapbox\"},{\"hovertemplate\":\"country=Zimbabwe<br>lat=%{lat}<br>long=%{lon}<extra></extra>\",\"lat\":[-19.015438],\"legendgroup\":\"Zimbabwe\",\"lon\":[29.154857],\"marker\":{\"color\":\"#FF97FF\"},\"mode\":\"markers\",\"name\":\"Zimbabwe\",\"showlegend\":true,\"subplot\":\"mapbox\",\"type\":\"scattermapbox\"}],                        {\"template\":{\"data\":{\"bar\":[{\"error_x\":{\"color\":\"#2a3f5f\"},\"error_y\":{\"color\":\"#2a3f5f\"},\"marker\":{\"line\":{\"color\":\"#E5ECF6\",\"width\":0.5},\"pattern\":{\"fillmode\":\"overlay\",\"size\":10,\"solidity\":0.2}},\"type\":\"bar\"}],\"barpolar\":[{\"marker\":{\"line\":{\"color\":\"#E5ECF6\",\"width\":0.5},\"pattern\":{\"fillmode\":\"overlay\",\"size\":10,\"solidity\":0.2}},\"type\":\"barpolar\"}],\"carpet\":[{\"aaxis\":{\"endlinecolor\":\"#2a3f5f\",\"gridcolor\":\"white\",\"linecolor\":\"white\",\"minorgridcolor\":\"white\",\"startlinecolor\":\"#2a3f5f\"},\"baxis\":{\"endlinecolor\":\"#2a3f5f\",\"gridcolor\":\"white\",\"linecolor\":\"white\",\"minorgridcolor\":\"white\",\"startlinecolor\":\"#2a3f5f\"},\"type\":\"carpet\"}],\"choropleth\":[{\"colorbar\":{\"outlinewidth\":0,\"ticks\":\"\"},\"type\":\"choropleth\"}],\"contour\":[{\"colorbar\":{\"outlinewidth\":0,\"ticks\":\"\"},\"colorscale\":[[0.0,\"#0d0887\"],[0.1111111111111111,\"#46039f\"],[0.2222222222222222,\"#7201a8\"],[0.3333333333333333,\"#9c179e\"],[0.4444444444444444,\"#bd3786\"],[0.5555555555555556,\"#d8576b\"],[0.6666666666666666,\"#ed7953\"],[0.7777777777777778,\"#fb9f3a\"],[0.8888888888888888,\"#fdca26\"],[1.0,\"#f0f921\"]],\"type\":\"contour\"}],\"contourcarpet\":[{\"colorbar\":{\"outlinewidth\":0,\"ticks\":\"\"},\"type\":\"contourcarpet\"}],\"heatmap\":[{\"colorbar\":{\"outlinewidth\":0,\"ticks\":\"\"},\"colorscale\":[[0.0,\"#0d0887\"],[0.1111111111111111,\"#46039f\"],[0.2222222222222222,\"#7201a8\"],[0.3333333333333333,\"#9c179e\"],[0.4444444444444444,\"#bd3786\"],[0.5555555555555556,\"#d8576b\"],[0.6666666666666666,\"#ed7953\"],[0.7777777777777778,\"#fb9f3a\"],[0.8888888888888888,\"#fdca26\"],[1.0,\"#f0f921\"]],\"type\":\"heatmap\"}],\"heatmapgl\":[{\"colorbar\":{\"outlinewidth\":0,\"ticks\":\"\"},\"colorscale\":[[0.0,\"#0d0887\"],[0.1111111111111111,\"#46039f\"],[0.2222222222222222,\"#7201a8\"],[0.3333333333333333,\"#9c179e\"],[0.4444444444444444,\"#bd3786\"],[0.5555555555555556,\"#d8576b\"],[0.6666666666666666,\"#ed7953\"],[0.7777777777777778,\"#fb9f3a\"],[0.8888888888888888,\"#fdca26\"],[1.0,\"#f0f921\"]],\"type\":\"heatmapgl\"}],\"histogram\":[{\"marker\":{\"pattern\":{\"fillmode\":\"overlay\",\"size\":10,\"solidity\":0.2}},\"type\":\"histogram\"}],\"histogram2d\":[{\"colorbar\":{\"outlinewidth\":0,\"ticks\":\"\"},\"colorscale\":[[0.0,\"#0d0887\"],[0.1111111111111111,\"#46039f\"],[0.2222222222222222,\"#7201a8\"],[0.3333333333333333,\"#9c179e\"],[0.4444444444444444,\"#bd3786\"],[0.5555555555555556,\"#d8576b\"],[0.6666666666666666,\"#ed7953\"],[0.7777777777777778,\"#fb9f3a\"],[0.8888888888888888,\"#fdca26\"],[1.0,\"#f0f921\"]],\"type\":\"histogram2d\"}],\"histogram2dcontour\":[{\"colorbar\":{\"outlinewidth\":0,\"ticks\":\"\"},\"colorscale\":[[0.0,\"#0d0887\"],[0.1111111111111111,\"#46039f\"],[0.2222222222222222,\"#7201a8\"],[0.3333333333333333,\"#9c179e\"],[0.4444444444444444,\"#bd3786\"],[0.5555555555555556,\"#d8576b\"],[0.6666666666666666,\"#ed7953\"],[0.7777777777777778,\"#fb9f3a\"],[0.8888888888888888,\"#fdca26\"],[1.0,\"#f0f921\"]],\"type\":\"histogram2dcontour\"}],\"mesh3d\":[{\"colorbar\":{\"outlinewidth\":0,\"ticks\":\"\"},\"type\":\"mesh3d\"}],\"parcoords\":[{\"line\":{\"colorbar\":{\"outlinewidth\":0,\"ticks\":\"\"}},\"type\":\"parcoords\"}],\"pie\":[{\"automargin\":true,\"type\":\"pie\"}],\"scatter\":[{\"marker\":{\"colorbar\":{\"outlinewidth\":0,\"ticks\":\"\"}},\"type\":\"scatter\"}],\"scatter3d\":[{\"line\":{\"colorbar\":{\"outlinewidth\":0,\"ticks\":\"\"}},\"marker\":{\"colorbar\":{\"outlinewidth\":0,\"ticks\":\"\"}},\"type\":\"scatter3d\"}],\"scattercarpet\":[{\"marker\":{\"colorbar\":{\"outlinewidth\":0,\"ticks\":\"\"}},\"type\":\"scattercarpet\"}],\"scattergeo\":[{\"marker\":{\"colorbar\":{\"outlinewidth\":0,\"ticks\":\"\"}},\"type\":\"scattergeo\"}],\"scattergl\":[{\"marker\":{\"colorbar\":{\"outlinewidth\":0,\"ticks\":\"\"}},\"type\":\"scattergl\"}],\"scattermapbox\":[{\"marker\":{\"colorbar\":{\"outlinewidth\":0,\"ticks\":\"\"}},\"type\":\"scattermapbox\"}],\"scatterpolar\":[{\"marker\":{\"colorbar\":{\"outlinewidth\":0,\"ticks\":\"\"}},\"type\":\"scatterpolar\"}],\"scatterpolargl\":[{\"marker\":{\"colorbar\":{\"outlinewidth\":0,\"ticks\":\"\"}},\"type\":\"scatterpolargl\"}],\"scatterternary\":[{\"marker\":{\"colorbar\":{\"outlinewidth\":0,\"ticks\":\"\"}},\"type\":\"scatterternary\"}],\"surface\":[{\"colorbar\":{\"outlinewidth\":0,\"ticks\":\"\"},\"colorscale\":[[0.0,\"#0d0887\"],[0.1111111111111111,\"#46039f\"],[0.2222222222222222,\"#7201a8\"],[0.3333333333333333,\"#9c179e\"],[0.4444444444444444,\"#bd3786\"],[0.5555555555555556,\"#d8576b\"],[0.6666666666666666,\"#ed7953\"],[0.7777777777777778,\"#fb9f3a\"],[0.8888888888888888,\"#fdca26\"],[1.0,\"#f0f921\"]],\"type\":\"surface\"}],\"table\":[{\"cells\":{\"fill\":{\"color\":\"#EBF0F8\"},\"line\":{\"color\":\"white\"}},\"header\":{\"fill\":{\"color\":\"#C8D4E3\"},\"line\":{\"color\":\"white\"}},\"type\":\"table\"}]},\"layout\":{\"annotationdefaults\":{\"arrowcolor\":\"#2a3f5f\",\"arrowhead\":0,\"arrowwidth\":1},\"autotypenumbers\":\"strict\",\"coloraxis\":{\"colorbar\":{\"outlinewidth\":0,\"ticks\":\"\"}},\"colorscale\":{\"diverging\":[[0,\"#8e0152\"],[0.1,\"#c51b7d\"],[0.2,\"#de77ae\"],[0.3,\"#f1b6da\"],[0.4,\"#fde0ef\"],[0.5,\"#f7f7f7\"],[0.6,\"#e6f5d0\"],[0.7,\"#b8e186\"],[0.8,\"#7fbc41\"],[0.9,\"#4d9221\"],[1,\"#276419\"]],\"sequential\":[[0.0,\"#0d0887\"],[0.1111111111111111,\"#46039f\"],[0.2222222222222222,\"#7201a8\"],[0.3333333333333333,\"#9c179e\"],[0.4444444444444444,\"#bd3786\"],[0.5555555555555556,\"#d8576b\"],[0.6666666666666666,\"#ed7953\"],[0.7777777777777778,\"#fb9f3a\"],[0.8888888888888888,\"#fdca26\"],[1.0,\"#f0f921\"]],\"sequentialminus\":[[0.0,\"#0d0887\"],[0.1111111111111111,\"#46039f\"],[0.2222222222222222,\"#7201a8\"],[0.3333333333333333,\"#9c179e\"],[0.4444444444444444,\"#bd3786\"],[0.5555555555555556,\"#d8576b\"],[0.6666666666666666,\"#ed7953\"],[0.7777777777777778,\"#fb9f3a\"],[0.8888888888888888,\"#fdca26\"],[1.0,\"#f0f921\"]]},\"colorway\":[\"#636efa\",\"#EF553B\",\"#00cc96\",\"#ab63fa\",\"#FFA15A\",\"#19d3f3\",\"#FF6692\",\"#B6E880\",\"#FF97FF\",\"#FECB52\"],\"font\":{\"color\":\"#2a3f5f\"},\"geo\":{\"bgcolor\":\"white\",\"lakecolor\":\"white\",\"landcolor\":\"#E5ECF6\",\"showlakes\":true,\"showland\":true,\"subunitcolor\":\"white\"},\"hoverlabel\":{\"align\":\"left\"},\"hovermode\":\"closest\",\"mapbox\":{\"style\":\"light\"},\"paper_bgcolor\":\"white\",\"plot_bgcolor\":\"#E5ECF6\",\"polar\":{\"angularaxis\":{\"gridcolor\":\"white\",\"linecolor\":\"white\",\"ticks\":\"\"},\"bgcolor\":\"#E5ECF6\",\"radialaxis\":{\"gridcolor\":\"white\",\"linecolor\":\"white\",\"ticks\":\"\"}},\"scene\":{\"xaxis\":{\"backgroundcolor\":\"#E5ECF6\",\"gridcolor\":\"white\",\"gridwidth\":2,\"linecolor\":\"white\",\"showbackground\":true,\"ticks\":\"\",\"zerolinecolor\":\"white\"},\"yaxis\":{\"backgroundcolor\":\"#E5ECF6\",\"gridcolor\":\"white\",\"gridwidth\":2,\"linecolor\":\"white\",\"showbackground\":true,\"ticks\":\"\",\"zerolinecolor\":\"white\"},\"zaxis\":{\"backgroundcolor\":\"#E5ECF6\",\"gridcolor\":\"white\",\"gridwidth\":2,\"linecolor\":\"white\",\"showbackground\":true,\"ticks\":\"\",\"zerolinecolor\":\"white\"}},\"shapedefaults\":{\"line\":{\"color\":\"#2a3f5f\"}},\"ternary\":{\"aaxis\":{\"gridcolor\":\"white\",\"linecolor\":\"white\",\"ticks\":\"\"},\"baxis\":{\"gridcolor\":\"white\",\"linecolor\":\"white\",\"ticks\":\"\"},\"bgcolor\":\"#E5ECF6\",\"caxis\":{\"gridcolor\":\"white\",\"linecolor\":\"white\",\"ticks\":\"\"}},\"title\":{\"x\":0.05},\"xaxis\":{\"automargin\":true,\"gridcolor\":\"white\",\"linecolor\":\"white\",\"ticks\":\"\",\"title\":{\"standoff\":15},\"zerolinecolor\":\"white\",\"zerolinewidth\":2},\"yaxis\":{\"automargin\":true,\"gridcolor\":\"white\",\"linecolor\":\"white\",\"ticks\":\"\",\"title\":{\"standoff\":15},\"zerolinecolor\":\"white\",\"zerolinewidth\":2}}},\"mapbox\":{\"domain\":{\"x\":[0.0,1.0],\"y\":[0.0,1.0]},\"center\":{\"lat\":20.177864826855092,\"lon\":22.33169125088338},\"zoom\":0,\"style\":\"carto-positron\"},\"legend\":{\"title\":{\"text\":\"country\"},\"tracegroupgap\":0},\"margin\":{\"t\":60},\"title\":{\"text\":\"Global spread of COVID-19. (Last updated on 5/24/22)\"}},                        {\"responsive\": true}                    ).then(function(){\n",
       "                            \n",
       "var gd = document.getElementById('20747dcd-c0ee-47a0-b881-482c87dcac82');\n",
       "var x = new MutationObserver(function (mutations, observer) {{\n",
       "        var display = window.getComputedStyle(gd).display;\n",
       "        if (!display || display === 'none') {{\n",
       "            console.log([gd, 'removed!']);\n",
       "            Plotly.purge(gd);\n",
       "            observer.disconnect();\n",
       "        }}\n",
       "}});\n",
       "\n",
       "// Listen for the removal of the full notebook cells\n",
       "var notebookContainer = gd.closest('#notebook-container');\n",
       "if (notebookContainer) {{\n",
       "    x.observe(notebookContainer, {childList: true});\n",
       "}}\n",
       "\n",
       "// Listen for the clearing of the current output cell\n",
       "var outputEl = gd.closest('.output');\n",
       "if (outputEl) {{\n",
       "    x.observe(outputEl, {childList: true});\n",
       "}}\n",
       "\n",
       "                        })                };                });            </script>        </div>"
      ]
     },
     "metadata": {},
     "output_type": "display_data"
    }
   ],
   "source": [
    "fig = px.scatter_mapbox(confirmed_df, lat=\"lat\", lon=\"long\", color=\"country\",\n",
    "                  color_continuous_scale=px.colors.cyclical.IceFire, size_max=15, zoom=0,\n",
    "                  mapbox_style=\"carto-positron\")\n",
    "\n",
    "fig.update_layout(\n",
    "    title=\"Global spread of COVID-19. (Last updated on \"+ confirmed_df.columns[-1] +\")\"\n",
    "    )\n",
    "    \n",
    "fig.show();"
   ]
  },
  {
   "cell_type": "code",
   "execution_count": null,
   "metadata": {},
   "outputs": [],
   "source": []
  }
 ],
 "metadata": {
  "kernelspec": {
   "display_name": "Python 3 (ipykernel)",
   "language": "python",
   "name": "python3"
  },
  "language_info": {
   "codemirror_mode": {
    "name": "ipython",
    "version": 3
   },
   "file_extension": ".py",
   "mimetype": "text/x-python",
   "name": "python",
   "nbconvert_exporter": "python",
   "pygments_lexer": "ipython3",
   "version": "3.9.12"
  }
 },
 "nbformat": 4,
 "nbformat_minor": 4
}
